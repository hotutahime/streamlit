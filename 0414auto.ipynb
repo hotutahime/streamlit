{
 "cells": [
  {
   "cell_type": "code",
   "execution_count": 13,
   "id": "4199de16-21cb-41f0-9f6c-bdd50b6703f1",
   "metadata": {
    "tags": []
   },
   "outputs": [],
   "source": [
    "import pyautogui as pag\n",
    "import time"
   ]
  },
  {
   "cell_type": "code",
   "execution_count": 14,
   "id": "3dfdf451-87f6-4667-8398-ad6a3b90e3de",
   "metadata": {
    "tags": []
   },
   "outputs": [
    {
     "data": {
      "text/plain": [
       "Point(x=980, y=263)"
      ]
     },
     "execution_count": 14,
     "metadata": {},
     "output_type": "execute_result"
    }
   ],
   "source": [
    "pag.position()"
   ]
  },
  {
   "cell_type": "code",
   "execution_count": 15,
   "id": "5508539c-633e-4440-bbba-13dcaf728ba1",
   "metadata": {
    "tags": []
   },
   "outputs": [
    {
     "data": {
      "text/plain": [
       "Size(width=1440, height=900)"
      ]
     },
     "execution_count": 15,
     "metadata": {},
     "output_type": "execute_result"
    }
   ],
   "source": [
    "pag.size()"
   ]
  },
  {
   "cell_type": "code",
   "execution_count": 16,
   "id": "b461ccb7-9992-4220-a995-11af89ae927f",
   "metadata": {
    "tags": []
   },
   "outputs": [],
   "source": [
    "pag.click(985, 46, duration=3)"
   ]
  },
  {
   "cell_type": "code",
   "execution_count": null,
   "id": "80134585-3aee-4377-be96-1cec7590e4d7",
   "metadata": {},
   "outputs": [],
   "source": []
  }
 ],
 "metadata": {
  "kernelspec": {
   "display_name": "Python 3 (ipykernel)",
   "language": "python",
   "name": "python3"
  },
  "language_info": {
   "codemirror_mode": {
    "name": "ipython",
    "version": 3
   },
   "file_extension": ".py",
   "mimetype": "text/x-python",
   "name": "python",
   "nbconvert_exporter": "python",
   "pygments_lexer": "ipython3",
   "version": "3.11.1"
  }
 },
 "nbformat": 4,
 "nbformat_minor": 5
}
