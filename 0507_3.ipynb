{
 "cells": [
  {
   "cell_type": "code",
   "execution_count": 1,
   "id": "6125fef1-c2d6-4184-b3d1-f1d4dcf27b67",
   "metadata": {
    "tags": []
   },
   "outputs": [],
   "source": [
    "import requests\n",
    "from bs4 import BeautifulSoup\n",
    "import urllib\n",
    "from pathlib import Path\n",
    "import time"
   ]
  },
  {
   "cell_type": "code",
   "execution_count": 2,
   "id": "b07b1757-6bc9-4744-a891-b49e2d4f18b9",
   "metadata": {
    "tags": []
   },
   "outputs": [],
   "source": [
    "load_url = \"https://www.ymori.com/books/python2nen/test2.html\"\n",
    "html = requests.get(load_url)\n",
    "soup = BeautifulSoup(html.content , \"html.parser\")"
   ]
  },
  {
   "cell_type": "code",
   "execution_count": 3,
   "id": "2b48047b-9ed1-4d12-b64f-8a410bcdc84f",
   "metadata": {
    "tags": []
   },
   "outputs": [],
   "source": [
    "out_folder = Path(\"/Users/kato/Desktop/mypython/2nen/download6\")\n",
    "out_folder.mkdir(exist_ok = True)"
   ]
  },
  {
   "cell_type": "code",
   "execution_count": 4,
   "id": "d4cacdfa-9936-4f0d-bb66-0aeebdfdc601",
   "metadata": {
    "tags": []
   },
   "outputs": [],
   "source": [
    "for element in soup.find_all(\"img\"):\n",
    "    src = element.get(\"src\")\n",
    "    image_url = urllib.parse.urljoin(load_url , src)\n",
    "    imgdata = requests.get(image_url)\n",
    "    filename = image_url.split(\"/\")[-1]\n",
    "    out_path = out_folder.joinpath(filename)\n",
    "    with open(out_path , mode=\"wb\") as f:\n",
    "        f.write(imgdata.content)\n",
    "    time.sleep(1)"
   ]
  },
  {
   "cell_type": "code",
   "execution_count": null,
   "id": "b1499772-411a-4fd9-8320-29f226cc1363",
   "metadata": {},
   "outputs": [],
   "source": []
  }
 ],
 "metadata": {
  "kernelspec": {
   "display_name": "Python 3 (ipykernel)",
   "language": "python",
   "name": "python3"
  },
  "language_info": {
   "codemirror_mode": {
    "name": "ipython",
    "version": 3
   },
   "file_extension": ".py",
   "mimetype": "text/x-python",
   "name": "python",
   "nbconvert_exporter": "python",
   "pygments_lexer": "ipython3",
   "version": "3.11.1"
  }
 },
 "nbformat": 4,
 "nbformat_minor": 5
}
