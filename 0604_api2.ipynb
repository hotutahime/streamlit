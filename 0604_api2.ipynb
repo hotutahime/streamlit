{
 "cells": [
  {
   "cell_type": "code",
   "execution_count": 10,
   "id": "77174078-dbf7-46f4-99ac-447a98f75c52",
   "metadata": {
    "tags": []
   },
   "outputs": [],
   "source": [
    "import requests\n",
    "import json\n",
    "from pprint import pprint"
   ]
  },
  {
   "cell_type": "code",
   "execution_count": 11,
   "id": "ff0d9922-dd31-48e3-8e25-034297d75fef",
   "metadata": {
    "tags": []
   },
   "outputs": [],
   "source": [
    "# url = \"https://zipcloud.ibsnet.co.jp/api/search?zipcode=0380024\""
   ]
  },
  {
   "cell_type": "code",
   "execution_count": 12,
   "id": "c0dadcef-0264-40d3-a676-177100244484",
   "metadata": {
    "tags": []
   },
   "outputs": [],
   "source": [
    "params = {\n",
    "    \"zipcode\": \"0380012\"\n",
    "}"
   ]
  },
  {
   "cell_type": "code",
   "execution_count": 13,
   "id": "83cbfcd2-bcb6-476a-bb39-871d5a7ec1ec",
   "metadata": {
    "tags": []
   },
   "outputs": [],
   "source": [
    "url = \"https://zipcloud.ibsnet.co.jp/api/search?\""
   ]
  },
  {
   "cell_type": "code",
   "execution_count": 14,
   "id": "98eb5b63-3d48-4395-b317-15d805a740d6",
   "metadata": {
    "tags": []
   },
   "outputs": [
    {
     "name": "stdout",
     "output_type": "stream",
     "text": [
      "{'message': None,\n",
      " 'results': [{'address1': '青森県',\n",
      "              'address2': '青森市',\n",
      "              'address3': '柳川',\n",
      "              'kana1': 'ｱｵﾓﾘｹﾝ',\n",
      "              'kana2': 'ｱｵﾓﾘｼ',\n",
      "              'kana3': 'ﾔﾅｶﾜ',\n",
      "              'prefcode': '2',\n",
      "              'zipcode': '0380012'}],\n",
      " 'status': 200}\n"
     ]
    }
   ],
   "source": [
    "json_data = requests.get(url, params).json()\n",
    "pprint(json_data)"
   ]
  },
  {
   "cell_type": "code",
   "execution_count": 15,
   "id": "c0af5e86-8ea0-42d1-85ae-c745c37da3bf",
   "metadata": {
    "tags": []
   },
   "outputs": [
    {
     "name": "stdout",
     "output_type": "stream",
     "text": [
      "青森県青森市柳川\n"
     ]
    }
   ],
   "source": [
    "moji = json_data[\"results\"][0]\n",
    "\n",
    "ad = moji[\"address1\"] + moji[\"address2\"] + moji[\"address3\"]\n",
    "print(ad)"
   ]
  },
  {
   "cell_type": "code",
   "execution_count": null,
   "id": "c32d2985-2da8-4b96-a620-9ec6a77eeb22",
   "metadata": {},
   "outputs": [],
   "source": []
  }
 ],
 "metadata": {
  "kernelspec": {
   "display_name": "Python 3 (ipykernel)",
   "language": "python",
   "name": "python3"
  },
  "language_info": {
   "codemirror_mode": {
    "name": "ipython",
    "version": 3
   },
   "file_extension": ".py",
   "mimetype": "text/x-python",
   "name": "python",
   "nbconvert_exporter": "python",
   "pygments_lexer": "ipython3",
   "version": "3.11.1"
  }
 },
 "nbformat": 4,
 "nbformat_minor": 5
}
