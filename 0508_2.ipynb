{
 "cells": [
  {
   "cell_type": "code",
   "execution_count": 14,
   "id": "9e12b31c-d0f0-459d-9dcc-2b86c3f4f9f9",
   "metadata": {
    "tags": []
   },
   "outputs": [],
   "source": [
    "import requests\n",
    "from pathlib import Path"
   ]
  },
  {
   "cell_type": "code",
   "execution_count": 15,
   "id": "e33b4e5e-06a5-4859-8c9b-a24823807952",
   "metadata": {
    "tags": []
   },
   "outputs": [],
   "source": [
    "out_folder = Path(\"/Users/kato/Desktop/mypython/2nen/download5\")\n",
    "out_folder.mkdir(exist_ok = True)"
   ]
  },
  {
   "cell_type": "code",
   "execution_count": 16,
   "id": "d0307e16-edf5-4ab5-b845-edc1db44fe62",
   "metadata": {
    "tags": []
   },
   "outputs": [],
   "source": [
    "image_url = \"https://www.ymori.com/books/python2nen/sample1.png\"\n",
    "imgdata = requests.get(image_url)"
   ]
  },
  {
   "cell_type": "code",
   "execution_count": 17,
   "id": "d51ed50c-4648-41e4-a0bc-92d62778f696",
   "metadata": {
    "tags": []
   },
   "outputs": [],
   "source": [
    "filename = image_url.split(\"/\")[-1]\n",
    "out_path = out_folder.joinpath(filename)"
   ]
  },
  {
   "cell_type": "code",
   "execution_count": 18,
   "id": "e2959d66-288c-4aeb-9e3a-98a44e7e8124",
   "metadata": {
    "tags": []
   },
   "outputs": [],
   "source": [
    "with open(out_path , mode=\"wb\") as f:\n",
    "    f.write(imgdata.content)"
   ]
  },
  {
   "cell_type": "code",
   "execution_count": null,
   "id": "749e9efe-3c58-433a-a7f1-12330b17a34f",
   "metadata": {},
   "outputs": [],
   "source": []
  }
 ],
 "metadata": {
  "kernelspec": {
   "display_name": "Python 3 (ipykernel)",
   "language": "python",
   "name": "python3"
  },
  "language_info": {
   "codemirror_mode": {
    "name": "ipython",
    "version": 3
   },
   "file_extension": ".py",
   "mimetype": "text/x-python",
   "name": "python",
   "nbconvert_exporter": "python",
   "pygments_lexer": "ipython3",
   "version": "3.11.1"
  }
 },
 "nbformat": 4,
 "nbformat_minor": 5
}
