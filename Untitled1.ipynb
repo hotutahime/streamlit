{
 "cells": [
  {
   "cell_type": "code",
   "execution_count": 1,
   "id": "311d75f2-91ac-4e5e-ae25-18a54b951cbc",
   "metadata": {},
   "outputs": [],
   "source": [
    "def say_hello():\n",
    "    print(\"みなさん、こんにちは。\")"
   ]
  },
  {
   "cell_type": "code",
   "execution_count": 2,
   "id": "62a50334-d2fe-4cd4-a334-5a78b2358dac",
   "metadata": {
    "tags": []
   },
   "outputs": [
    {
     "name": "stdout",
     "output_type": "stream",
     "text": [
      "みなさん、こんにちは。\n"
     ]
    }
   ],
   "source": [
    "say_hello()"
   ]
  },
  {
   "cell_type": "code",
   "execution_count": 14,
   "id": "4d1c4f00-11e7-44ed-878c-f35d45a5d493",
   "metadata": {
    "tags": []
   },
   "outputs": [],
   "source": [
    "def say_hello2(name):\n",
    "    print(\"{}さん、こんにちは\".format(name))\n",
    "    #{}に(name)を入れる"
   ]
  },
  {
   "cell_type": "code",
   "execution_count": 15,
   "id": "3bf85f2b-1545-4d07-bdd9-4dd0d43868b5",
   "metadata": {
    "tags": []
   },
   "outputs": [
    {
     "name": "stdout",
     "output_type": "stream",
     "text": [
      "高田さん、こんにちは\n",
      "近藤さん、こんにちは\n"
     ]
    }
   ],
   "source": [
    "say_hello2(\"高田\")\n",
    "say_hello2(\"近藤\")"
   ]
  },
  {
   "cell_type": "code",
   "execution_count": 30,
   "id": "9882d729-28cf-497f-8774-81dd89201329",
   "metadata": {
    "tags": []
   },
   "outputs": [],
   "source": [
    "def calc_square(side):\n",
    "    ans = side*side"
   ]
  },
  {
   "cell_type": "code",
   "execution_count": 31,
   "id": "90209c50-dcad-40d4-8b68-2ca92d0800b0",
   "metadata": {
    "tags": []
   },
   "outputs": [
    {
     "name": "stdin",
     "output_type": "stream",
     "text": [
      "いっぺんの長さは？ 50\n"
     ]
    }
   ],
   "source": [
    "side = int(input(\"いっぺんの長さは？\"))"
   ]
  },
  {
   "cell_type": "code",
   "execution_count": 32,
   "id": "5603673a-4370-43bc-80d0-1374305a9425",
   "metadata": {
    "tags": []
   },
   "outputs": [
    {
     "ename": "NameError",
     "evalue": "name 'ans' is not defined",
     "output_type": "error",
     "traceback": [
      "\u001b[0;31m---------------------------------------------------------------------------\u001b[0m",
      "\u001b[0;31mNameError\u001b[0m                                 Traceback (most recent call last)",
      "Cell \u001b[0;32mIn[32], line 1\u001b[0m\n\u001b[0;32m----> 1\u001b[0m \u001b[38;5;28mprint\u001b[39m(\u001b[43mans\u001b[49m)\n",
      "\u001b[0;31mNameError\u001b[0m: name 'ans' is not defined"
     ]
    }
   ],
   "source": [
    "print(ans)"
   ]
  },
  {
   "cell_type": "code",
   "execution_count": null,
   "id": "ac31aa79-1299-4081-a555-906c79022567",
   "metadata": {},
   "outputs": [],
   "source": []
  }
 ],
 "metadata": {
  "kernelspec": {
   "display_name": "Python 3 (ipykernel)",
   "language": "python",
   "name": "python3"
  },
  "language_info": {
   "codemirror_mode": {
    "name": "ipython",
    "version": 3
   },
   "file_extension": ".py",
   "mimetype": "text/x-python",
   "name": "python",
   "nbconvert_exporter": "python",
   "pygments_lexer": "ipython3",
   "version": "3.11.1"
  }
 },
 "nbformat": 4,
 "nbformat_minor": 5
}
