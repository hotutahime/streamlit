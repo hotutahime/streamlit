{
 "cells": [
  {
   "cell_type": "code",
   "execution_count": 2,
   "id": "e15295c3-8790-4b5a-9602-077410998894",
   "metadata": {
    "tags": []
   },
   "outputs": [],
   "source": [
    "import PySimpleGUI as sg"
   ]
  },
  {
   "cell_type": "code",
   "execution_count": 6,
   "id": "2cf894ff-7c80-465e-b848-e1fd39f776b1",
   "metadata": {
    "tags": []
   },
   "outputs": [],
   "source": [
    "layout = [\n",
    "    [sg.Text(\"名前\") , sg.InputText(key=\"-NAME-\")],\n",
    "    [sg.Text(\"住所\") , sg.InputText(key=\"-ADDRESS-\")],\n",
    "    [sg.Button(\"実行\" , key=\"-SUBMIT-\")]\n",
    "]"
   ]
  },
  {
   "cell_type": "code",
   "execution_count": 7,
   "id": "b00c7d41-5313-4ff1-ab9b-58ec9cffe013",
   "metadata": {
    "tags": []
   },
   "outputs": [],
   "source": [
    "window = sg.Window(\"テストアプリ\" , layout , size=(300,150))"
   ]
  },
  {
   "cell_type": "code",
   "execution_count": 8,
   "id": "ef8c92b9-5b0d-42fe-bfd9-1c5436f4deae",
   "metadata": {
    "tags": []
   },
   "outputs": [
    {
     "name": "stdout",
     "output_type": "stream",
     "text": [
      "tesu\n",
      "tesututuu\n"
     ]
    }
   ],
   "source": [
    "while True:\n",
    "    event, values = window.read()\n",
    "    if event == \"-SUBMIT-\":\n",
    "        print(values[\"-NAME-\"])\n",
    "        print(values[\"-ADDRESS-\"])\n",
    "    if event == sg.WIN_CLOSED:\n",
    "        break"
   ]
  },
  {
   "cell_type": "code",
   "execution_count": null,
   "id": "e1611dfb-379d-4e3a-9161-ebc8a8be8a5f",
   "metadata": {},
   "outputs": [],
   "source": []
  }
 ],
 "metadata": {
  "kernelspec": {
   "display_name": "Python 3 (ipykernel)",
   "language": "python",
   "name": "python3"
  },
  "language_info": {
   "codemirror_mode": {
    "name": "ipython",
    "version": 3
   },
   "file_extension": ".py",
   "mimetype": "text/x-python",
   "name": "python",
   "nbconvert_exporter": "python",
   "pygments_lexer": "ipython3",
   "version": "3.8.16"
  }
 },
 "nbformat": 4,
 "nbformat_minor": 5
}
