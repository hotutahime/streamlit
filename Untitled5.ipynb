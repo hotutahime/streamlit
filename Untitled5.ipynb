{
 "cells": [
  {
   "cell_type": "code",
   "execution_count": 6,
   "id": "10fd2970-0d66-4114-b45e-9e6b1e0495e8",
   "metadata": {
    "tags": []
   },
   "outputs": [],
   "source": [
    "import pandas as pd\n",
    "import numpy as np\n",
    "import seaborn as sns\n",
    "import matplotlib.pyplot as plt"
   ]
  },
  {
   "cell_type": "code",
   "execution_count": 7,
   "id": "9853e2e1-eec0-4514-9347-13db596e1e6d",
   "metadata": {
    "tags": []
   },
   "outputs": [
    {
     "name": "stdout",
     "output_type": "stream",
     "text": [
      "   A   B   C\n",
      "0  0   0   0\n",
      "1  1   1   1\n",
      "2  2   4   8\n",
      "3  3   9  27\n",
      "4  4  16  64\n"
     ]
    }
   ],
   "source": [
    "df = pd.DataFrame({'A': range(5),\n",
    "                   'B': [x**2 for x in range(5)],\n",
    "                   'C': [x**3 for x in range(5)]})\n",
    "\n",
    "print(df)\n",
    "#    A   B   C\n",
    "# 0  0   0   0\n",
    "# 1  1   1   1\n",
    "# 2  2   4   8\n",
    "# 3  3   9  27\n",
    "# 4  4  16  64"
   ]
  },
  {
   "cell_type": "code",
   "execution_count": 8,
   "id": "5a44beaa-86c9-4f50-aecb-cc1d49d7f402",
   "metadata": {
    "tags": []
   },
   "outputs": [
    {
     "name": "stdout",
     "output_type": "stream",
     "text": [
      "          A         B         C\n",
      "A  1.000000  0.958927  0.905882\n",
      "B  0.958927  1.000000  0.987130\n",
      "C  0.905882  0.987130  1.000000\n",
      "<class 'pandas.core.frame.DataFrame'>\n"
     ]
    }
   ],
   "source": [
    "df_corr = df.corr()\n",
    "print(df_corr)\n",
    "print(type(df_corr))\n",
    "#           A         B         C\n",
    "# A  1.000000  0.958927  0.905882\n",
    "# B  0.958927  1.000000  0.987130\n",
    "# C  0.905882  0.987130  1.000000"
   ]
  },
  {
   "cell_type": "code",
   "execution_count": 9,
   "id": "5b70f7ff-a833-44f8-8ced-4a2b16a0b0f4",
   "metadata": {
    "tags": []
   },
   "outputs": [
    {
     "name": "stdout",
     "output_type": "stream",
     "text": [
      "   A   B   C  D      E\n",
      "0  0   0   0  a   True\n",
      "1  1   1   1  b  False\n",
      "2  2   4   8  c   True\n",
      "3  3   9  27  d   True\n",
      "4  4  16  64  e  False\n",
      "A     int64\n",
      "B     int64\n",
      "C     int64\n",
      "D    object\n",
      "E      bool\n",
      "dtype: object\n"
     ]
    }
   ],
   "source": [
    "df['D'] = list('abcde')\n",
    "df['E'] = [True, False, True, True, False]\n",
    "print(df)\n",
    "#    A   B   C  D      E\n",
    "# 0  0   0   0  a   True\n",
    "# 1  1   1   1  b  False\n",
    "# 2  2   4   8  c   True\n",
    "# 3  3   9  27  d   True\n",
    "# 4  4  16  64  e  False\n",
    "\n",
    "print(df.dtypes)\n",
    "# A     int64\n",
    "# B     int64\n",
    "# C     int64\n",
    "# D    object\n",
    "# E      bool\n",
    "# dtype: object"
   ]
  },
  {
   "cell_type": "code",
   "execution_count": 14,
   "id": "9f94417b-3573-4eb8-b95f-2e0030bf9c1b",
   "metadata": {
    "tags": []
   },
   "outputs": [
    {
     "name": "stdout",
     "output_type": "stream",
     "text": [
      "(1460, 80)\n",
      "object     43\n",
      "int64      34\n",
      "float64     3\n",
      "Name: count, dtype: int64\n"
     ]
    },
    {
     "ename": "ValueError",
     "evalue": "could not convert string to float: 'RL'",
     "output_type": "error",
     "traceback": [
      "\u001b[0;31m---------------------------------------------------------------------------\u001b[0m",
      "\u001b[0;31mValueError\u001b[0m                                Traceback (most recent call last)",
      "Cell \u001b[0;32mIn[14], line 12\u001b[0m\n\u001b[1;32m      6\u001b[0m \u001b[38;5;28mprint\u001b[39m(df_house\u001b[38;5;241m.\u001b[39mdtypes\u001b[38;5;241m.\u001b[39mvalue_counts())\n\u001b[1;32m      7\u001b[0m \u001b[38;5;66;03m# object     43\u001b[39;00m\n\u001b[1;32m      8\u001b[0m \u001b[38;5;66;03m# int64      34\u001b[39;00m\n\u001b[1;32m      9\u001b[0m \u001b[38;5;66;03m# float64     3\u001b[39;00m\n\u001b[1;32m     10\u001b[0m \u001b[38;5;66;03m# dtype: int64\u001b[39;00m\n\u001b[0;32m---> 12\u001b[0m df_house_corr \u001b[38;5;241m=\u001b[39m \u001b[43mdf_house\u001b[49m\u001b[38;5;241;43m.\u001b[39;49m\u001b[43mcorr\u001b[49m\u001b[43m(\u001b[49m\u001b[43m)\u001b[49m\n\u001b[1;32m     14\u001b[0m \u001b[38;5;28mprint\u001b[39m(df_house_corr\u001b[38;5;241m.\u001b[39mshape)\n\u001b[1;32m     15\u001b[0m \u001b[38;5;66;03m# (37, 37)\u001b[39;00m\n",
      "File \u001b[0;32m~/.pyenv/versions/3.11.1/lib/python3.11/site-packages/pandas/core/frame.py:10054\u001b[0m, in \u001b[0;36mDataFrame.corr\u001b[0;34m(self, method, min_periods, numeric_only)\u001b[0m\n\u001b[1;32m  10052\u001b[0m cols \u001b[38;5;241m=\u001b[39m data\u001b[38;5;241m.\u001b[39mcolumns\n\u001b[1;32m  10053\u001b[0m idx \u001b[38;5;241m=\u001b[39m cols\u001b[38;5;241m.\u001b[39mcopy()\n\u001b[0;32m> 10054\u001b[0m mat \u001b[38;5;241m=\u001b[39m \u001b[43mdata\u001b[49m\u001b[38;5;241;43m.\u001b[39;49m\u001b[43mto_numpy\u001b[49m\u001b[43m(\u001b[49m\u001b[43mdtype\u001b[49m\u001b[38;5;241;43m=\u001b[39;49m\u001b[38;5;28;43mfloat\u001b[39;49m\u001b[43m,\u001b[49m\u001b[43m \u001b[49m\u001b[43mna_value\u001b[49m\u001b[38;5;241;43m=\u001b[39;49m\u001b[43mnp\u001b[49m\u001b[38;5;241;43m.\u001b[39;49m\u001b[43mnan\u001b[49m\u001b[43m,\u001b[49m\u001b[43m \u001b[49m\u001b[43mcopy\u001b[49m\u001b[38;5;241;43m=\u001b[39;49m\u001b[38;5;28;43;01mFalse\u001b[39;49;00m\u001b[43m)\u001b[49m\n\u001b[1;32m  10056\u001b[0m \u001b[38;5;28;01mif\u001b[39;00m method \u001b[38;5;241m==\u001b[39m \u001b[38;5;124m\"\u001b[39m\u001b[38;5;124mpearson\u001b[39m\u001b[38;5;124m\"\u001b[39m:\n\u001b[1;32m  10057\u001b[0m     correl \u001b[38;5;241m=\u001b[39m libalgos\u001b[38;5;241m.\u001b[39mnancorr(mat, minp\u001b[38;5;241m=\u001b[39mmin_periods)\n",
      "File \u001b[0;32m~/.pyenv/versions/3.11.1/lib/python3.11/site-packages/pandas/core/frame.py:1837\u001b[0m, in \u001b[0;36mDataFrame.to_numpy\u001b[0;34m(self, dtype, copy, na_value)\u001b[0m\n\u001b[1;32m   1835\u001b[0m \u001b[38;5;28;01mif\u001b[39;00m dtype \u001b[38;5;129;01mis\u001b[39;00m \u001b[38;5;129;01mnot\u001b[39;00m \u001b[38;5;28;01mNone\u001b[39;00m:\n\u001b[1;32m   1836\u001b[0m     dtype \u001b[38;5;241m=\u001b[39m np\u001b[38;5;241m.\u001b[39mdtype(dtype)\n\u001b[0;32m-> 1837\u001b[0m result \u001b[38;5;241m=\u001b[39m \u001b[38;5;28;43mself\u001b[39;49m\u001b[38;5;241;43m.\u001b[39;49m\u001b[43m_mgr\u001b[49m\u001b[38;5;241;43m.\u001b[39;49m\u001b[43mas_array\u001b[49m\u001b[43m(\u001b[49m\u001b[43mdtype\u001b[49m\u001b[38;5;241;43m=\u001b[39;49m\u001b[43mdtype\u001b[49m\u001b[43m,\u001b[49m\u001b[43m \u001b[49m\u001b[43mcopy\u001b[49m\u001b[38;5;241;43m=\u001b[39;49m\u001b[43mcopy\u001b[49m\u001b[43m,\u001b[49m\u001b[43m \u001b[49m\u001b[43mna_value\u001b[49m\u001b[38;5;241;43m=\u001b[39;49m\u001b[43mna_value\u001b[49m\u001b[43m)\u001b[49m\n\u001b[1;32m   1838\u001b[0m \u001b[38;5;28;01mif\u001b[39;00m result\u001b[38;5;241m.\u001b[39mdtype \u001b[38;5;129;01mis\u001b[39;00m \u001b[38;5;129;01mnot\u001b[39;00m dtype:\n\u001b[1;32m   1839\u001b[0m     result \u001b[38;5;241m=\u001b[39m np\u001b[38;5;241m.\u001b[39marray(result, dtype\u001b[38;5;241m=\u001b[39mdtype, copy\u001b[38;5;241m=\u001b[39m\u001b[38;5;28;01mFalse\u001b[39;00m)\n",
      "File \u001b[0;32m~/.pyenv/versions/3.11.1/lib/python3.11/site-packages/pandas/core/internals/managers.py:1732\u001b[0m, in \u001b[0;36mBlockManager.as_array\u001b[0;34m(self, dtype, copy, na_value)\u001b[0m\n\u001b[1;32m   1730\u001b[0m         arr\u001b[38;5;241m.\u001b[39mflags\u001b[38;5;241m.\u001b[39mwriteable \u001b[38;5;241m=\u001b[39m \u001b[38;5;28;01mFalse\u001b[39;00m\n\u001b[1;32m   1731\u001b[0m \u001b[38;5;28;01melse\u001b[39;00m:\n\u001b[0;32m-> 1732\u001b[0m     arr \u001b[38;5;241m=\u001b[39m \u001b[38;5;28;43mself\u001b[39;49m\u001b[38;5;241;43m.\u001b[39;49m\u001b[43m_interleave\u001b[49m\u001b[43m(\u001b[49m\u001b[43mdtype\u001b[49m\u001b[38;5;241;43m=\u001b[39;49m\u001b[43mdtype\u001b[49m\u001b[43m,\u001b[49m\u001b[43m \u001b[49m\u001b[43mna_value\u001b[49m\u001b[38;5;241;43m=\u001b[39;49m\u001b[43mna_value\u001b[49m\u001b[43m)\u001b[49m\n\u001b[1;32m   1733\u001b[0m     \u001b[38;5;66;03m# The underlying data was copied within _interleave, so no need\u001b[39;00m\n\u001b[1;32m   1734\u001b[0m     \u001b[38;5;66;03m# to further copy if copy=True or setting na_value\u001b[39;00m\n\u001b[1;32m   1736\u001b[0m \u001b[38;5;28;01mif\u001b[39;00m na_value \u001b[38;5;129;01mis\u001b[39;00m \u001b[38;5;129;01mnot\u001b[39;00m lib\u001b[38;5;241m.\u001b[39mno_default:\n",
      "File \u001b[0;32m~/.pyenv/versions/3.11.1/lib/python3.11/site-packages/pandas/core/internals/managers.py:1794\u001b[0m, in \u001b[0;36mBlockManager._interleave\u001b[0;34m(self, dtype, na_value)\u001b[0m\n\u001b[1;32m   1792\u001b[0m     \u001b[38;5;28;01melse\u001b[39;00m:\n\u001b[1;32m   1793\u001b[0m         arr \u001b[38;5;241m=\u001b[39m blk\u001b[38;5;241m.\u001b[39mget_values(dtype)\n\u001b[0;32m-> 1794\u001b[0m     \u001b[43mresult\u001b[49m\u001b[43m[\u001b[49m\u001b[43mrl\u001b[49m\u001b[38;5;241;43m.\u001b[39;49m\u001b[43mindexer\u001b[49m\u001b[43m]\u001b[49m \u001b[38;5;241m=\u001b[39m arr\n\u001b[1;32m   1795\u001b[0m     itemmask[rl\u001b[38;5;241m.\u001b[39mindexer] \u001b[38;5;241m=\u001b[39m \u001b[38;5;241m1\u001b[39m\n\u001b[1;32m   1797\u001b[0m \u001b[38;5;28;01mif\u001b[39;00m \u001b[38;5;129;01mnot\u001b[39;00m itemmask\u001b[38;5;241m.\u001b[39mall():\n",
      "\u001b[0;31mValueError\u001b[0m: could not convert string to float: 'RL'"
     ]
    }
   ],
   "source": [
    "df_house = pd.read_csv('/Users/kato/Desktop/mypython/house_prices_train.csv', index_col=0)\n",
    "\n",
    "print(df_house.shape)\n",
    "# (1460, 80)\n",
    "\n",
    "print(df_house.dtypes.value_counts())\n",
    "# object     43\n",
    "# int64      34\n",
    "# float64     3\n",
    "# dtype: int64\n",
    "\n",
    "df_house_corr = df_house.corr()\n",
    "\n",
    "print(df_house_corr.shape)\n",
    "# (37, 37)"
   ]
  },
  {
   "cell_type": "code",
   "execution_count": 15,
   "id": "fd832459-02ea-40da-8d89-c9f5a7cf4b91",
   "metadata": {
    "tags": []
   },
   "outputs": [
    {
     "ename": "ModuleNotFoundError",
     "evalue": "No module named 'PySimpleGUI'",
     "output_type": "error",
     "traceback": [
      "\u001b[0;31m---------------------------------------------------------------------------\u001b[0m",
      "\u001b[0;31mModuleNotFoundError\u001b[0m                       Traceback (most recent call last)",
      "Cell \u001b[0;32mIn[15], line 1\u001b[0m\n\u001b[0;32m----> 1\u001b[0m \u001b[38;5;28;01mimport\u001b[39;00m \u001b[38;5;21;01mPySimpleGUI\u001b[39;00m \u001b[38;5;28;01mas\u001b[39;00m \u001b[38;5;21;01msg\u001b[39;00m\n\u001b[1;32m      3\u001b[0m sg\u001b[38;5;241m.\u001b[39mChangeLookAndFeel(\u001b[38;5;124m'\u001b[39m\u001b[38;5;124mGreenTan\u001b[39m\u001b[38;5;124m'\u001b[39m)\n\u001b[1;32m      4\u001b[0m \u001b[38;5;66;03m# ------ Menu Definition ------ #\u001b[39;00m\n",
      "\u001b[0;31mModuleNotFoundError\u001b[0m: No module named 'PySimpleGUI'"
     ]
    }
   ],
   "source": [
    "import PySimpleGUI as sg\n",
    "\n",
    "sg.ChangeLookAndFeel('GreenTan')\n",
    "# ------ Menu Definition ------ #\n",
    "menu_def = [['&File', ['&Open', '&Save', 'E&xit', 'Properties']],\n",
    "            ['&Edit', ['Paste', ['Special', 'Normal', ], 'Undo'], ],\n",
    "            ['&Help', '&About...'], ]\n",
    "# ------ Column Definition ------ #\n",
    "column1 = [[sg.Text('Column 1', background_color='lightblue', justification='center', size=(10, 1))],\n",
    "           [sg.Spin(values=('Spin Box 1', '2', '3'), initial_value='Spin Box 1')],\n",
    "           [sg.Spin(values=('Spin Box 1', '2', '3'), initial_value='Spin Box 2')],\n",
    "           [sg.Spin(values=('Spin Box 1', '2', '3'), initial_value='Spin Box 3')]]\n",
    "\n",
    "layout = [\n",
    "    [sg.Menu(menu_def, tearoff=True)],\n",
    "    [sg.Text('(Almost) All widgets in one Window!', size=(30, 1), justification='center', font=(\"Helvetica\", 25), relief=sg.RELIEF_RIDGE)],\n",
    "    [sg.Text('Here is some text.... and a place to enter text')],\n",
    "    [sg.InputText('This is my text')],\n",
    "    [sg.Frame(layout=[\n",
    "    [sg.Checkbox('Checkbox', size=(10,1)),  sg.Checkbox('My second checkbox!', default=True)],\n",
    "    [sg.Radio('My first Radio!     ', \"RADIO1\", default=True, size=(10,1)), sg.Radio('My second Radio!', \"RADIO1\")]], title='Options',title_color='red', relief=sg.RELIEF_SUNKEN, tooltip='Use these to set flags')],\n",
    "    [sg.Multiline(default_text='This is the default Text should you decide not to type anything', size=(35, 3)),\n",
    "     sg.Multiline(default_text='A second multi-line', size=(35, 3))],\n",
    "    [sg.InputCombo(('Combobox 1', 'Combobox 2'), size=(20, 1)),\n",
    "     sg.Slider(range=(1, 100), orientation='h', size=(34, 20), default_value=85)],\n",
    "    [sg.InputOptionMenu(('Menu Option 1', 'Menu Option 2', 'Menu Option 3'))],\n",
    "    [sg.Listbox(values=('Listbox 1', 'Listbox 2', 'Listbox 3'), size=(30, 3)),\n",
    "     sg.Frame('Labelled Group',[[\n",
    "     sg.Slider(range=(1, 100), orientation='v', size=(5, 20), default_value=25),\n",
    "     sg.Slider(range=(1, 100), orientation='v', size=(5, 20), default_value=75),\n",
    "     sg.Slider(range=(1, 100), orientation='v', size=(5, 20), default_value=10),\n",
    "     sg.Column(column1, background_color='lightblue')]])],\n",
    "    [sg.Text('_' * 80)],\n",
    "    [sg.Text('Choose A Folder', size=(35, 1))],\n",
    "    [sg.Text('Your Folder', size=(15, 1), auto_size_text=False, justification='right'),\n",
    "     sg.InputText('Default Folder'), sg.FolderBrowse()],\n",
    "    [sg.Submit(tooltip='Click to submit this form'), sg.Cancel()]]\n",
    "\n",
    "window = sg.Window('Everything bagel', default_element_size=(40, 1), grab_anywhere=False).Layout(layout)\n",
    "button, values = window.Read()"
   ]
  },
  {
   "cell_type": "code",
   "execution_count": null,
   "id": "f4cbcafd-2c1d-4932-9311-e7b2cb5cfd14",
   "metadata": {},
   "outputs": [],
   "source": []
  }
 ],
 "metadata": {
  "kernelspec": {
   "display_name": "Python 3 (ipykernel)",
   "language": "python",
   "name": "python3"
  },
  "language_info": {
   "codemirror_mode": {
    "name": "ipython",
    "version": 3
   },
   "file_extension": ".py",
   "mimetype": "text/x-python",
   "name": "python",
   "nbconvert_exporter": "python",
   "pygments_lexer": "ipython3",
   "version": "3.11.1"
  }
 },
 "nbformat": 4,
 "nbformat_minor": 5
}
