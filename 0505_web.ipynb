{
 "cells": [
  {
   "cell_type": "code",
   "execution_count": 1,
   "id": "bf4c1645-fa4d-410b-a2ad-25db559f8e69",
   "metadata": {
    "tags": []
   },
   "outputs": [],
   "source": [
    "import requests"
   ]
  },
  {
   "cell_type": "code",
   "execution_count": 3,
   "id": "6d089205-7a11-4e1a-bb90-005f8ad0ec06",
   "metadata": {
    "tags": []
   },
   "outputs": [
    {
     "name": "stdout",
     "output_type": "stream",
     "text": [
      "ok= True\n",
      "text= 2023/05/06 00:31:15\n",
      "status_code= 200\n"
     ]
    }
   ],
   "source": [
    "url = \"https://api.aoikujira.com/time/get.php\"\n",
    "result = requests.get(url)\n",
    "\n",
    "print(\"ok=\", result.ok)\n",
    "if result.ok:\n",
    "    print(\"text=\", result.text)\n",
    "    print(\"status_code=\" , result.status_code)"
   ]
  },
  {
   "cell_type": "code",
   "execution_count": null,
   "id": "e250f14f-813d-4ed2-be70-e1596a1d9d1c",
   "metadata": {},
   "outputs": [],
   "source": []
  }
 ],
 "metadata": {
  "kernelspec": {
   "display_name": "Python 3 (ipykernel)",
   "language": "python",
   "name": "python3"
  },
  "language_info": {
   "codemirror_mode": {
    "name": "ipython",
    "version": 3
   },
   "file_extension": ".py",
   "mimetype": "text/x-python",
   "name": "python",
   "nbconvert_exporter": "python",
   "pygments_lexer": "ipython3",
   "version": "3.11.1"
  }
 },
 "nbformat": 4,
 "nbformat_minor": 5
}
