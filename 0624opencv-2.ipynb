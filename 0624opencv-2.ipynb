{
 "cells": [
  {
   "cell_type": "code",
   "execution_count": null,
   "id": "7c58a924-63d0-43f8-b501-4b21c2d51829",
   "metadata": {
    "tags": []
   },
   "outputs": [],
   "source": [
    "import cv2\n",
    "\n",
    "cap = cv2.VideoCapture(1)\n",
    "# Webカメラを使うときはこちら\n",
    "# cap = cv2.VideoCapture(0)\n",
    "\n",
    "avg = None\n",
    "\n",
    "while True:\n",
    "    # 1フレームずつ取得する。\n",
    "    ret, frame = cap.read()\n",
    "    if not ret:\n",
    "        break\n",
    "\n",
    "    # グレースケールに変換\n",
    "    gray = cv2.cvtColor(frame, cv2.COLOR_BGR2GRAY)\n",
    "    # 比較用のフレームを取得する\n",
    "    if avg is None:\n",
    "        avg = gray.copy().astype(\"float\")\n",
    "        continue\n",
    "\n",
    "    # 現在のフレームと移動平均との差を計算\n",
    "    cv2.accumulateWeighted(gray, avg, 0.6)\n",
    "    frameDelta = cv2.absdiff(gray, cv2.convertScaleAbs(avg))\n",
    "\n",
    "    # デルタ画像を閾値処理を行う\n",
    "    thresh = cv2.threshold(frameDelta, 3, 255, cv2.THRESH_BINARY)[1]\n",
    "    # 画像の閾値に輪郭線を入れる\n",
    "    contours, hierarchy = cv2.findContours(thresh.copy(), cv2.RETR_EXTERNAL, cv2.CHAIN_APPROX_SIMPLE)\n",
    "    frame = cv2.drawContours(frame, contours, -1, (0, 255, 0), 3)\n",
    "\n",
    "    # 結果を出力\n",
    "    cv2.imshow(\"Frame\", frame)\n",
    "    key = cv2.waitKey(30)\n",
    "    if key == 27:\n",
    "        break\n",
    "\n",
    "cap.release()\n",
    "cv2.waitKey(0)\n",
    "cv2.destroyAllWindows()\n",
    "cv2.waitKey(0)"
   ]
  },
  {
   "cell_type": "code",
   "execution_count": null,
   "id": "ba283426-261f-42e3-9d1c-79320f87b4e1",
   "metadata": {},
   "outputs": [],
   "source": []
  }
 ],
 "metadata": {
  "kernelspec": {
   "display_name": "Python 3 (ipykernel)",
   "language": "python",
   "name": "python3"
  },
  "language_info": {
   "codemirror_mode": {
    "name": "ipython",
    "version": 3
   },
   "file_extension": ".py",
   "mimetype": "text/x-python",
   "name": "python",
   "nbconvert_exporter": "python",
   "pygments_lexer": "ipython3",
   "version": "3.11.1"
  }
 },
 "nbformat": 4,
 "nbformat_minor": 5
}
