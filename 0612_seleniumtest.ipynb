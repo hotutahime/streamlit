{
 "cells": [
  {
   "cell_type": "code",
   "execution_count": 1,
   "id": "8755f124-347c-46a5-93d8-565706361d4f",
   "metadata": {
    "tags": []
   },
   "outputs": [
    {
     "data": {
      "text/plain": [
       "'/Users/kato/.pyenv/versions/3.11.1/lib/python3.11/site-packages/chromedriver_autoinstaller/114/chromedriver'"
      ]
     },
     "execution_count": 1,
     "metadata": {},
     "output_type": "execute_result"
    }
   ],
   "source": [
    "from selenium import webdriver\n",
    "import chromedriver_autoinstaller\n",
    "import time\n",
    "chromedriver_autoinstaller.install()"
   ]
  },
  {
   "cell_type": "code",
   "execution_count": 6,
   "id": "b8df1570-691c-4d64-b184-1d69efa4d073",
   "metadata": {
    "tags": []
   },
   "outputs": [
    {
     "name": "stderr",
     "output_type": "stream",
     "text": [
      "/var/folders/m6/pc3bdj354kvdpy2d0y10p3k40000gn/T/ipykernel_1324/2775969144.py:11: DeprecationWarning: find_element_by_* commands are deprecated. Please use find_element() instead\n",
      "  driver.find_element_by_id(\"user_login\").send_keys(user_id)\n",
      "/var/folders/m6/pc3bdj354kvdpy2d0y10p3k40000gn/T/ipykernel_1324/2775969144.py:12: DeprecationWarning: find_element_by_* commands are deprecated. Please use find_element() instead\n",
      "  driver.find_element_by_id(\"user_pass\").send_keys(password)\n",
      "/var/folders/m6/pc3bdj354kvdpy2d0y10p3k40000gn/T/ipykernel_1324/2775969144.py:13: DeprecationWarning: find_element_by_* commands are deprecated. Please use find_element() instead\n",
      "  driver.find_element_by_id(\"wp-submit\").click()\n",
      "/var/folders/m6/pc3bdj354kvdpy2d0y10p3k40000gn/T/ipykernel_1324/2775969144.py:15: DeprecationWarning: find_element_by_* commands are deprecated. Please use find_element() instead\n",
      "  driver.find_element_by_id(\"menu-posts\").click()\n",
      "/var/folders/m6/pc3bdj354kvdpy2d0y10p3k40000gn/T/ipykernel_1324/2775969144.py:16: DeprecationWarning: find_element_by_* commands are deprecated. Please use find_element() instead\n",
      "  driver.find_element_by_partial_link_text(\"ガソリンランタン\").click()\n"
     ]
    }
   ],
   "source": [
    "#うまくいったコード（ID・パスは念のため消去\n",
    "#ログインもパスもクリックも全てIDで指定できたのでとても楽\n",
    "\n",
    "url = \"https://papa-mama-life.com/wp-login.php\"\n",
    "user_id = \"○○○\"\n",
    "password = \"○○○\"\n",
    "\n",
    "driver = webdriver.Chrome()\n",
    "driver.get(url)\n",
    "\n",
    "driver.find_element_by_id(\"user_login\").send_keys(user_id)\n",
    "driver.find_element_by_id(\"user_pass\").send_keys(password)\n",
    "driver.find_element_by_id(\"wp-submit\").click()\n",
    "\n",
    "driver.find_element_by_id(\"menu-posts\").click()\n",
    "driver.find_element_by_partial_link_text(\"ガソリンランタン\").click()\n",
    "\n",
    "time.sleep(10)\n",
    "driver.close()"
   ]
  },
  {
   "cell_type": "code",
   "execution_count": null,
   "id": "af89431b-85f9-4341-9283-59e16c84d674",
   "metadata": {},
   "outputs": [],
   "source": []
  }
 ],
 "metadata": {
  "kernelspec": {
   "display_name": "Python 3 (ipykernel)",
   "language": "python",
   "name": "python3"
  },
  "language_info": {
   "codemirror_mode": {
    "name": "ipython",
    "version": 3
   },
   "file_extension": ".py",
   "mimetype": "text/x-python",
   "name": "python",
   "nbconvert_exporter": "python",
   "pygments_lexer": "ipython3",
   "version": "3.11.1"
  }
 },
 "nbformat": 4,
 "nbformat_minor": 5
}
