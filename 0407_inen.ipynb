{
 "cells": [
  {
   "cell_type": "code",
   "execution_count": 1,
   "id": "91a37ded-23a7-4c41-a752-77e73b63bc58",
   "metadata": {
    "tags": []
   },
   "outputs": [
    {
     "name": "stdout",
     "output_type": "stream",
     "text": [
      "2\n",
      "4\n"
     ]
    }
   ],
   "source": [
    "print(2)\n",
    "print(1+3)"
   ]
  },
  {
   "cell_type": "code",
   "execution_count": 3,
   "id": "e83d87c3-0227-441c-97c5-c31a0a884328",
   "metadata": {
    "tags": []
   },
   "outputs": [
    {
     "name": "stdout",
     "output_type": "stream",
     "text": [
      "答えは 22\n"
     ]
    }
   ],
   "source": [
    "print(\"答えは\" , 13+9)"
   ]
  },
  {
   "cell_type": "code",
   "execution_count": 5,
   "id": "ee9b2fb5-9a84-455f-b893-ad3bdad652d3",
   "metadata": {
    "tags": []
   },
   "outputs": [
    {
     "name": "stdout",
     "output_type": "stream",
     "text": [
      "大吉\n"
     ]
    }
   ],
   "source": [
    "import random as rd\n",
    "kuji = [\"大吉\" , \"中吉\" , \"小吉\" , \"凶\"]\n",
    "print(rd.choice(kuji))"
   ]
  },
  {
   "cell_type": "code",
   "execution_count": 6,
   "id": "01c725da-6452-4f2d-b63e-6d9c4a3db6ff",
   "metadata": {
    "tags": []
   },
   "outputs": [
    {
     "name": "stdin",
     "output_type": "stream",
     "text": [
      "身長 180\n",
      "体重 77\n"
     ]
    },
    {
     "name": "stdout",
     "output_type": "stream",
     "text": [
      "あなたのBMIは、 23.76543209876543 です。\n"
     ]
    }
   ],
   "source": [
    "h = float(input(\"身長\")) / 100.0\n",
    "w = float(input(\"体重\"))\n",
    "bmi = w / (h * h)\n",
    "print(\"あなたのBMIは、\" , bmi , \"です。\")"
   ]
  },
  {
   "cell_type": "code",
   "execution_count": 4,
   "id": "79c032b4-8eaf-4437-a6ca-44150502ba0d",
   "metadata": {
    "tags": []
   },
   "outputs": [
    {
     "name": "stdout",
     "output_type": "stream",
     "text": [
      "10\n"
     ]
    }
   ],
   "source": [
    "a = 10\n",
    "print(a)"
   ]
  },
  {
   "cell_type": "code",
   "execution_count": 5,
   "id": "0d94218e-6978-4b94-a21b-11d801c3a09f",
   "metadata": {
    "tags": []
   },
   "outputs": [
    {
     "name": "stdout",
     "output_type": "stream",
     "text": [
      "100 12.3 hello true\n"
     ]
    }
   ],
   "source": [
    "i = 100\n",
    "f = 12.3\n",
    "w = \"hello\"\n",
    "b = \"true\"\n",
    "print(i,f,w,b)"
   ]
  },
  {
   "cell_type": "code",
   "execution_count": 8,
   "id": "1d4eee6c-fa36-4df8-a7a2-b6d4643e57dd",
   "metadata": {
    "tags": []
   },
   "outputs": [
    {
     "name": "stdout",
     "output_type": "stream",
     "text": [
      "170\n"
     ]
    }
   ],
   "source": [
    "a = \"100\"\n",
    "print(int(a)+70)"
   ]
  },
  {
   "cell_type": "code",
   "execution_count": 10,
   "id": "178aa27d-022e-4bbd-99ba-807d66f99d75",
   "metadata": {
    "tags": []
   },
   "outputs": [
    {
     "name": "stdout",
     "output_type": "stream",
     "text": [
      "おにぎり\n"
     ]
    }
   ],
   "source": [
    "lunch = [\"ハンバーガー\",\"すし\",\"おにぎり\"]\n",
    "print(lunch[2])"
   ]
  },
  {
   "cell_type": "code",
   "execution_count": 15,
   "id": "a414c672-6b4c-415c-9829-ead6bdd3736f",
   "metadata": {
    "tags": []
   },
   "outputs": [
    {
     "name": "stdout",
     "output_type": "stream",
     "text": [
      "不合格\n"
     ]
    }
   ],
   "source": [
    "score = 28\n",
    "if score >= 80:\n",
    "    print(\"合格\")\n",
    "elif score <=79 and score >= 30:\n",
    "    print(\"もう少しだったね\")\n",
    "else:\n",
    "    print(\"不合格\")"
   ]
  },
  {
   "cell_type": "code",
   "execution_count": 18,
   "id": "d135f9ed-4867-47c2-b734-3d5f7be017df",
   "metadata": {
    "tags": []
   },
   "outputs": [
    {
     "name": "stdout",
     "output_type": "stream",
     "text": [
      "0\n",
      "1\n",
      "2\n",
      "3\n",
      "4\n",
      "5\n",
      "6\n",
      "7\n",
      "8\n",
      "9\n"
     ]
    }
   ],
   "source": [
    "for i in range(10):\n",
    "    print(i)"
   ]
  },
  {
   "cell_type": "code",
   "execution_count": 20,
   "id": "5a3f1cf9-2bc7-4d7d-b543-8207af44c09a",
   "metadata": {
    "tags": []
   },
   "outputs": [
    {
     "name": "stdout",
     "output_type": "stream",
     "text": [
      "31\n",
      "54\n",
      "97\n",
      "151\n",
      "174\n"
     ]
    }
   ],
   "source": [
    "days = [31,23,43,54,23]\n",
    "total = 0\n",
    "for day in days:\n",
    "    total = total + day\n",
    "    print(total)"
   ]
  },
  {
   "cell_type": "code",
   "execution_count": 23,
   "id": "84c630cc-a77a-48da-90cb-eac4e111ad74",
   "metadata": {
    "tags": []
   },
   "outputs": [
    {
     "name": "stdout",
     "output_type": "stream",
     "text": [
      "こんにちは\n"
     ]
    }
   ],
   "source": [
    "#defから処理までを一つの関数とし、sayhello()が実行されたらこんにちはとプリントする\n",
    "def sayhello():\n",
    "    print(\"こんにちは\")\n",
    "\n",
    "sayhello()"
   ]
  },
  {
   "cell_type": "code",
   "execution_count": 26,
   "id": "20f7d6ea-427b-4ffa-8a71-47dc4b0d1c1a",
   "metadata": {
    "tags": []
   },
   "outputs": [
    {
     "name": "stdout",
     "output_type": "stream",
     "text": [
      "132.0 円です\n"
     ]
    }
   ],
   "source": [
    "def postTaxPrice(price):\n",
    "    ans = price * 1.1\n",
    "    return ans\n",
    "\n",
    "print(postTaxPrice(120),\"円です\")"
   ]
  },
  {
   "cell_type": "code",
   "execution_count": 29,
   "id": "08bb54f8-4ee4-4675-9cee-b2e5a12b2982",
   "metadata": {
    "tags": []
   },
   "outputs": [
    {
     "name": "stdout",
     "output_type": "stream",
     "text": [
      "こんにちはふたばさん\n"
     ]
    }
   ],
   "source": [
    "def sayhello(name):\n",
    "    print(\"こんにちは\" + name + \"さん\")\n",
    "\n",
    "sayhello(\"ふたば\")"
   ]
  },
  {
   "cell_type": "code",
   "execution_count": 30,
   "id": "5fb9ae76-7dce-40f4-9c44-de0a1a44f0d4",
   "metadata": {
    "tags": []
   },
   "outputs": [
    {
     "ename": "ModuleNotFoundError",
     "evalue": "No module named '_tkinter'",
     "output_type": "error",
     "traceback": [
      "\u001b[0;31m---------------------------------------------------------------------------\u001b[0m",
      "\u001b[0;31mModuleNotFoundError\u001b[0m                       Traceback (most recent call last)",
      "Cell \u001b[0;32mIn[30], line 1\u001b[0m\n\u001b[0;32m----> 1\u001b[0m \u001b[38;5;28;01mimport\u001b[39;00m \u001b[38;5;21;01mtkinter\u001b[39;00m \u001b[38;5;28;01mas\u001b[39;00m \u001b[38;5;21;01mtk\u001b[39;00m\n",
      "File \u001b[0;32m~/.pyenv/versions/3.11.1/lib/python3.11/tkinter/__init__.py:38\u001b[0m\n\u001b[1;32m     35\u001b[0m \u001b[38;5;28;01mimport\u001b[39;00m \u001b[38;5;21;01msys\u001b[39;00m\n\u001b[1;32m     36\u001b[0m \u001b[38;5;28;01mimport\u001b[39;00m \u001b[38;5;21;01mtypes\u001b[39;00m\n\u001b[0;32m---> 38\u001b[0m \u001b[38;5;28;01mimport\u001b[39;00m \u001b[38;5;21;01m_tkinter\u001b[39;00m \u001b[38;5;66;03m# If this fails your Python may not be configured for Tk\u001b[39;00m\n\u001b[1;32m     39\u001b[0m TclError \u001b[38;5;241m=\u001b[39m _tkinter\u001b[38;5;241m.\u001b[39mTclError\n\u001b[1;32m     40\u001b[0m \u001b[38;5;28;01mfrom\u001b[39;00m \u001b[38;5;21;01mtkinter\u001b[39;00m\u001b[38;5;21;01m.\u001b[39;00m\u001b[38;5;21;01mconstants\u001b[39;00m \u001b[38;5;28;01mimport\u001b[39;00m \u001b[38;5;241m*\u001b[39m\n",
      "\u001b[0;31mModuleNotFoundError\u001b[0m: No module named '_tkinter'"
     ]
    }
   ],
   "source": [
    "import tkinter as tk"
   ]
  },
  {
   "cell_type": "code",
   "execution_count": null,
   "id": "3a5da1b8-160e-47a0-a393-f14f60a5af97",
   "metadata": {},
   "outputs": [],
   "source": []
  }
 ],
 "metadata": {
  "kernelspec": {
   "display_name": "Python 3 (ipykernel)",
   "language": "python",
   "name": "python3"
  },
  "language_info": {
   "codemirror_mode": {
    "name": "ipython",
    "version": 3
   },
   "file_extension": ".py",
   "mimetype": "text/x-python",
   "name": "python",
   "nbconvert_exporter": "python",
   "pygments_lexer": "ipython3",
   "version": "3.11.1"
  }
 },
 "nbformat": 4,
 "nbformat_minor": 5
}
