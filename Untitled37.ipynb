{
 "cells": [
  {
   "cell_type": "code",
   "execution_count": 1,
   "id": "59f69b4a-267a-4b6b-a6d4-9fc5785685f8",
   "metadata": {
    "tags": []
   },
   "outputs": [
    {
     "ename": "ModuleNotFoundError",
     "evalue": "No module named 'kivy'",
     "output_type": "error",
     "traceback": [
      "\u001b[0;31m---------------------------------------------------------------------------\u001b[0m",
      "\u001b[0;31mModuleNotFoundError\u001b[0m                       Traceback (most recent call last)",
      "Cell \u001b[0;32mIn[1], line 1\u001b[0m\n\u001b[0;32m----> 1\u001b[0m \u001b[38;5;28;01mfrom\u001b[39;00m \u001b[38;5;21;01mkivy\u001b[39;00m\u001b[38;5;21;01m.\u001b[39;00m\u001b[38;5;21;01mapp\u001b[39;00m \u001b[38;5;28;01mimport\u001b[39;00m App\n\u001b[1;32m      2\u001b[0m \u001b[38;5;28;01mfrom\u001b[39;00m \u001b[38;5;21;01mkivy\u001b[39;00m\u001b[38;5;21;01m.\u001b[39;00m\u001b[38;5;21;01muix\u001b[39;00m\u001b[38;5;21;01m.\u001b[39;00m\u001b[38;5;21;01mwidget\u001b[39;00m \u001b[38;5;28;01mimport\u001b[39;00m Widget\n\u001b[1;32m      3\u001b[0m \u001b[38;5;28;01mfrom\u001b[39;00m \u001b[38;5;21;01mkivy\u001b[39;00m\u001b[38;5;21;01m.\u001b[39;00m\u001b[38;5;21;01mproperties\u001b[39;00m \u001b[38;5;28;01mimport\u001b[39;00m (\n\u001b[1;32m      4\u001b[0m     NumericProperty, ReferenceListProperty, ObjectProperty\n\u001b[1;32m      5\u001b[0m )\n",
      "\u001b[0;31mModuleNotFoundError\u001b[0m: No module named 'kivy'"
     ]
    }
   ],
   "source": [
    "from kivy.app import App\n",
    "from kivy.uix.widget import Widget\n",
    "from kivy.properties import (\n",
    "    NumericProperty, ReferenceListProperty, ObjectProperty\n",
    ")\n",
    "from kivy.vector import Vector\n",
    "from kivy.clock import Clock\n",
    "from random import randint\n",
    "\n",
    "\n",
    "class PongBall(Widget):\n",
    "    velocity_x = NumericProperty(0)\n",
    "    velocity_y = NumericProperty(0)\n",
    "    velocity = ReferenceListProperty(velocity_x, velocity_y)\n",
    "\n",
    "    def move(self):\n",
    "        self.pos = Vector(*self.velocity) + self.pos\n",
    "\n",
    "\n",
    "class PongGame(Widget):\n",
    "    ball = ObjectProperty(None)\n",
    "\n",
    "    def serve_ball(self):\n",
    "        self.ball.center = self.center\n",
    "        self.ball.velocity = Vector(4, 0).rotate(randint(0, 360))\n",
    "\n",
    "    def update(self, dt):\n",
    "        self.ball.move()\n",
    "\n",
    "        # bounce off top and bottom\n",
    "        if (self.ball.y < 0) or (self.ball.top > self.height):\n",
    "            self.ball.velocity_y *= -1\n",
    "\n",
    "        # bounce off left and right\n",
    "        if (self.ball.x < 0) or (self.ball.right > self.width):\n",
    "            self.ball.velocity_x *= -1\n",
    "\n",
    "\n",
    "class PongApp(App):\n",
    "    def build(self):\n",
    "        game = PongGame()\n",
    "        game.serve_ball()\n",
    "        Clock.schedule_interval(game.update, 1.0 / 60.0)\n",
    "        return game\n",
    "\n",
    "\n",
    "if __name__ == '__main__':\n",
    "    PongApp().run()\n"
   ]
  },
  {
   "cell_type": "code",
   "execution_count": null,
   "id": "1409b14d-0351-412f-8a76-77de5f22228c",
   "metadata": {},
   "outputs": [],
   "source": []
  }
 ],
 "metadata": {
  "kernelspec": {
   "display_name": "Python 3 (ipykernel)",
   "language": "python",
   "name": "python3"
  },
  "language_info": {
   "codemirror_mode": {
    "name": "ipython",
    "version": 3
   },
   "file_extension": ".py",
   "mimetype": "text/x-python",
   "name": "python",
   "nbconvert_exporter": "python",
   "pygments_lexer": "ipython3",
   "version": "3.11.1"
  }
 },
 "nbformat": 4,
 "nbformat_minor": 5
}
