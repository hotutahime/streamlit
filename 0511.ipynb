{
 "cells": [
  {
   "cell_type": "code",
   "execution_count": null,
   "id": "9d6fcb1b-7d14-44ae-a434-e082e8d13a9c",
   "metadata": {
    "tags": []
   },
   "outputs": [],
   "source": [
    "import requests\n",
    "from bs4 import BeautifulSoup\n",
    "import urllib\n",
    "import pandas as pd"
   ]
  },
  {
   "cell_type": "code",
   "execution_count": null,
   "id": "5f38feeb-f9d3-4155-821c-ea6b90ab61e2",
   "metadata": {
    "tags": []
   },
   "outputs": [],
   "source": [
    "url = \"https://www.tripadvisor.com/Hotels-g298241-Aomori_Aomori_Prefecture_Tohoku-Hotels.html\""
   ]
  },
  {
   "cell_type": "code",
   "execution_count": null,
   "id": "15997dce-fbd2-4bd3-8b9b-0a591a483b91",
   "metadata": {
    "tags": []
   },
   "outputs": [],
   "source": [
    "html = requests.get(url)\n",
    "html.encoding = html.apparent_encoding\n",
    "soup = BeautifulSoup(html.content , \"html.parser\")"
   ]
  },
  {
   "cell_type": "code",
   "execution_count": null,
   "id": "ef46346e-5a2d-4ebe-bf39-215d81a423a2",
   "metadata": {
    "tags": []
   },
   "outputs": [],
   "source": [
    "soup.find_all(\"p\")"
   ]
  },
  {
   "cell_type": "code",
   "execution_count": null,
   "id": "50070938-c9b5-4cb5-8c1d-ac03adfb7c7c",
   "metadata": {},
   "outputs": [],
   "source": []
  }
 ],
 "metadata": {
  "kernelspec": {
   "display_name": "Python 3 (ipykernel)",
   "language": "python",
   "name": "python3"
  },
  "language_info": {
   "codemirror_mode": {
    "name": "ipython",
    "version": 3
   },
   "file_extension": ".py",
   "mimetype": "text/x-python",
   "name": "python",
   "nbconvert_exporter": "python",
   "pygments_lexer": "ipython3",
   "version": "3.11.1"
  }
 },
 "nbformat": 4,
 "nbformat_minor": 5
}
