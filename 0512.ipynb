{
 "cells": [
  {
   "cell_type": "code",
   "execution_count": 8,
   "id": "c7c55c7a-7c85-4b45-aa0c-648ad9ff51c8",
   "metadata": {
    "tags": []
   },
   "outputs": [],
   "source": [
    "#ライブラリのインポート\n",
    "import requests\n",
    "from selenium import webdriver\n",
    "import time\n",
    "driver = webdriver.Chrome()"
   ]
  },
  {
   "cell_type": "code",
   "execution_count": 9,
   "id": "b9f66924-689d-43b4-b906-d35ac4bf8dec",
   "metadata": {
    "tags": []
   },
   "outputs": [],
   "source": [
    "#URLを指定\n",
    "url = \"https://uta.pw/sakusibbs/\"\n",
    "driver.get(url)"
   ]
  },
  {
   "cell_type": "code",
   "execution_count": 10,
   "id": "2044dd75-e5ef-4fd3-9587-68b963690ed1",
   "metadata": {
    "tags": []
   },
   "outputs": [
    {
     "name": "stderr",
     "output_type": "stream",
     "text": [
      "/var/folders/m6/pc3bdj354kvdpy2d0y10p3k40000gn/T/ipykernel_1780/1561762198.py:1: DeprecationWarning: find_element_by_* commands are deprecated. Please use find_element() instead\n",
      "  link = driver.find_element_by_link_text(\"名作アーカイブ\")\n"
     ]
    }
   ],
   "source": [
    "link = driver.find_element_by_link_text(\"名作アーカイブ\")\n",
    "link.click()\n",
    "time.sleep(3)\n",
    "driver.close()"
   ]
  },
  {
   "cell_type": "code",
   "execution_count": null,
   "id": "79363704-be78-4314-a89b-d9eac1df3dc0",
   "metadata": {},
   "outputs": [],
   "source": []
  }
 ],
 "metadata": {
  "kernelspec": {
   "display_name": "Python 3 (ipykernel)",
   "language": "python",
   "name": "python3"
  },
  "language_info": {
   "codemirror_mode": {
    "name": "ipython",
    "version": 3
   },
   "file_extension": ".py",
   "mimetype": "text/x-python",
   "name": "python",
   "nbconvert_exporter": "python",
   "pygments_lexer": "ipython3",
   "version": "3.11.1"
  }
 },
 "nbformat": 4,
 "nbformat_minor": 5
}
