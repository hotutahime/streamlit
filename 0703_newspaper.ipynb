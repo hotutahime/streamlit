{
 "cells": [
  {
   "cell_type": "code",
   "execution_count": 1,
   "id": "69e23487-2dce-4361-b4ae-84cc38e73fa7",
   "metadata": {
    "tags": []
   },
   "outputs": [],
   "source": [
    "from newspaper import Article"
   ]
  },
  {
   "cell_type": "code",
   "execution_count": 2,
   "id": "cfec61d0-e49e-4ae3-8192-4dee6d410d4d",
   "metadata": {
    "tags": []
   },
   "outputs": [],
   "source": [
    "url = \"https://www.reuters.com/article/us-health-coronavirus-usa-economy/u-s-deficit-could-quadruple-to-3-7-trillion-in-coronavirus-crisis-cbo-idUSKCN22633M\""
   ]
  },
  {
   "cell_type": "code",
   "execution_count": 3,
   "id": "247174a4-d284-4f38-be10-42f08badfa6e",
   "metadata": {
    "tags": []
   },
   "outputs": [],
   "source": [
    "article = Article(url)"
   ]
  },
  {
   "cell_type": "code",
   "execution_count": 4,
   "id": "9e6e0aad-eb75-45e1-8a16-92998de878e7",
   "metadata": {
    "tags": []
   },
   "outputs": [],
   "source": [
    "article.download()"
   ]
  },
  {
   "cell_type": "code",
   "execution_count": 5,
   "id": "8c964c41-fdd8-4e7c-9c71-56724a76c2c9",
   "metadata": {
    "tags": []
   },
   "outputs": [],
   "source": [
    "article.parse()"
   ]
  },
  {
   "cell_type": "code",
   "execution_count": 6,
   "id": "2ec0113a-6d8f-47b6-b0e3-6b07038654a9",
   "metadata": {
    "tags": []
   },
   "outputs": [
    {
     "data": {
      "text/plain": [
       "datetime.datetime(2020, 4, 24, 19, 16, 26, tzinfo=tzutc())"
      ]
     },
     "execution_count": 6,
     "metadata": {},
     "output_type": "execute_result"
    }
   ],
   "source": [
    "article.publish_date"
   ]
  },
  {
   "cell_type": "code",
   "execution_count": 7,
   "id": "0f56c64b-f040-4ab1-92d7-ae44a98bda0c",
   "metadata": {
    "tags": []
   },
   "outputs": [
    {
     "data": {
      "text/plain": [
       "['Reuters Staff']"
      ]
     },
     "execution_count": 7,
     "metadata": {},
     "output_type": "execute_result"
    }
   ],
   "source": [
    "article.authors"
   ]
  },
  {
   "cell_type": "code",
   "execution_count": 8,
   "id": "ec5d435d-56a0-4ed5-a197-53b7ef3b46f3",
   "metadata": {
    "tags": []
   },
   "outputs": [
    {
     "data": {
      "text/plain": [
       "'WASHINGTON (Reuters) - A nationwide business shutdown and surge in U.S. government spending will nearly quadruple the federal deficit to a record $3.7 trillion this fiscal year as the country combats the coronavirus pandemic, congressional forecasters said on Friday.\\n\\nFILE PHOTO: A bicyclist rides through Times Square during evening rush hour, during the outbreak of the coronavirus disease (COVID-19) in New York City, New York, U.S., April 15, 2020. REUTERS/Bryan R Smith\\n\\nU.S. gross domestic product will plunge by nearly 40% on an annualized basis in the second quarter, according to the nonpartisan Congressional Budget Office. But the CBO forecast an economic resurgence in the second half of the year, and said unemployment would crest at 16% but remain in double digits throughout 2021.\\n\\nThe CBO report illustrated the fiscal pressures lawmakers in Congress face as they prepare to craft new legislation to respond to the pandemic. Congress has already passed $3 trillion in spending on healthcare, small businesses and other measures to combat the outbreak and its economic effects.\\n\\n“If the laws currently in place governing spending and revenues generally remained unchanged and no significant additional emergency funding was provided, the federal deficit would be roughly $3.7 trillion in fiscal year 2020 and $2.1 trillion next year,” the CBO said. In March, the CBO projected deficits of just over $1 trillion in each of those years.\\n\\nThe federal debt would equal 101% of GDP by Sept. 30, when the 2020 federal fiscal year ends, and would grow to 108% by the end of fiscal 2021, CBO said.\\n\\nThe agency predicted real GDP will decline 5.6% in 2020 and then grow 2.8% in 2021. But economic activity for 2021 would still be 6.7% below a projection the CBO issued in late January.\\n\\nThe CBO’s Jan. 28 forecast, before coronavirus roared through the United States, saw the economy remaining vibrant through this presidential election year, partially due to strong consumer spending.\\n\\nNow, some experts see an even more dire landscape than the CBO.\\n\\nWilliam Hoagland, senior vice president at the Bipartisan Policy Center, a Washington think-tank focused on fiscal policy and other issues, said he thought the economy will recover slower in the second half of 2020 than the CBO’s outlook.\\n\\nHoagland added that the 2020 budget deficit could exceed $4 trillion when taking into consideration possible additional economic stimulus legislation.\\n\\nIndeed, House of Representatives Democrats already are crafting a new coronavirus aid bill. Speaker Nancy Pelosi on Friday warned it will be “expensive.”\\n\\nFurther ahead, Hoagland said in an email the next fiscal challenge facing policymakers will be how they “unwind the level of debt and deficits post-crisis without significant inflationary pressures.”'"
      ]
     },
     "execution_count": 8,
     "metadata": {},
     "output_type": "execute_result"
    }
   ],
   "source": [
    "article.text"
   ]
  },
  {
   "cell_type": "code",
   "execution_count": 9,
   "id": "b958dd65-5f82-432c-9f01-df2a9f4218ec",
   "metadata": {
    "tags": []
   },
   "outputs": [
    {
     "data": {
      "text/plain": [
       "'U.S. deficit could quadruple to $3.7 trillion in coronavirus crisis: CBO'"
      ]
     },
     "execution_count": 9,
     "metadata": {},
     "output_type": "execute_result"
    }
   ],
   "source": [
    "article.title"
   ]
  },
  {
   "cell_type": "code",
   "execution_count": 10,
   "id": "eccf92ec-7e72-480c-8be6-7d7798cfc4dc",
   "metadata": {
    "tags": []
   },
   "outputs": [],
   "source": [
    "import nltk"
   ]
  },
  {
   "cell_type": "code",
   "execution_count": 11,
   "id": "ce4c3ada-5818-4689-a782-82f7dbc4a338",
   "metadata": {
    "tags": []
   },
   "outputs": [],
   "source": [
    "article.nlp()"
   ]
  },
  {
   "cell_type": "code",
   "execution_count": 12,
   "id": "85c2a327-de4b-4182-b37c-2c0b9c0654aa",
   "metadata": {
    "tags": []
   },
   "outputs": [
    {
     "data": {
      "text/plain": [
       "['deficit',\n",
       " 'second',\n",
       " 'coronavirus',\n",
       " 'spending',\n",
       " '2020',\n",
       " 'fiscal',\n",
       " '37',\n",
       " 'crisis',\n",
       " 'trillion',\n",
       " 'economic',\n",
       " 'federal',\n",
       " 'quadruple',\n",
       " 'cbo']"
      ]
     },
     "execution_count": 12,
     "metadata": {},
     "output_type": "execute_result"
    }
   ],
   "source": [
    "article.keywords"
   ]
  },
  {
   "cell_type": "code",
   "execution_count": 13,
   "id": "9201c4b4-45fb-4779-9163-3eb02cfcf8c3",
   "metadata": {
    "tags": []
   },
   "outputs": [
    {
     "data": {
      "text/plain": [
       "'WASHINGTON (Reuters) - A nationwide business shutdown and surge in U.S. government spending will nearly quadruple the federal deficit to a record $3.7 trillion this fiscal year as the country combats the coronavirus pandemic, congressional forecasters said on Friday.\\n“If the laws currently in place governing spending and revenues generally remained unchanged and no significant additional emergency funding was provided, the federal deficit would be roughly $3.7 trillion in fiscal year 2020 and $2.1 trillion next year,” the CBO said.\\nIn March, the CBO projected deficits of just over $1 trillion in each of those years.\\nThe federal debt would equal 101% of GDP by Sept. 30, when the 2020 federal fiscal year ends, and would grow to 108% by the end of fiscal 2021, CBO said.\\nHoagland added that the 2020 budget deficit could exceed $4 trillion when taking into consideration possible additional economic stimulus legislation.'"
      ]
     },
     "execution_count": 13,
     "metadata": {},
     "output_type": "execute_result"
    }
   ],
   "source": [
    "article.summary"
   ]
  },
  {
   "cell_type": "code",
   "execution_count": 14,
   "id": "bccfe891-b726-4359-ab1f-d5fce651f02f",
   "metadata": {
    "tags": []
   },
   "outputs": [
    {
     "data": {
      "text/plain": [
       "'WASHINGTON (Reuters) - A nationwide business shutdown and surge in U.S. government spending will nearly quadruple the federal deficit to a record $3.7 trillion this fiscal year as the country combats the coronavirus pandemic, congressional forecasters said on Friday.“If the laws currently in place governing spending and revenues generally remained unchanged and no significant additional emergency funding was provided, the federal deficit would be roughly $3.7 trillion in fiscal year 2020 and $2.1 trillion next year,” the CBO said.In March, the CBO projected deficits of just over $1 trillion in each of those years.The federal debt would equal 101% of GDP by Sept. 30, when the 2020 federal fiscal year ends, and would grow to 108% by the end of fiscal 2021, CBO said.Hoagland added that the 2020 budget deficit could exceed $4 trillion when taking into consideration possible additional economic stimulus legislation.'"
      ]
     },
     "execution_count": 14,
     "metadata": {},
     "output_type": "execute_result"
    }
   ],
   "source": [
    "article.summary.replace(\"\\n\", \"\")"
   ]
  },
  {
   "cell_type": "code",
   "execution_count": 15,
   "id": "1b998a72-7989-46be-be76-16510ae52b83",
   "metadata": {
    "tags": []
   },
   "outputs": [],
   "source": [
    "import newspaper\n",
    "import csv\n",
    "import datetime"
   ]
  },
  {
   "cell_type": "code",
   "execution_count": 16,
   "id": "7271fb03-8727-4735-ba0a-f5f64b6fe041",
   "metadata": {
    "tags": []
   },
   "outputs": [],
   "source": [
    "csv_date = datetime.datetime.today().strftime(\"%Y%m%d\")\n",
    "csv_file_name = \"bloomberg_\" + csv_date + \".csv\""
   ]
  },
  {
   "cell_type": "code",
   "execution_count": 17,
   "id": "4b91e0ec-85ce-44aa-af23-32eb9cbaf220",
   "metadata": {
    "tags": []
   },
   "outputs": [],
   "source": [
    "f = open(csv_file_name, \"w\" , encoding=\"cp932\", errors=\"ignore\")"
   ]
  },
  {
   "cell_type": "code",
   "execution_count": 18,
   "id": "cfb4ccd4-8b7a-48c1-9ee7-af575f8a455d",
   "metadata": {
    "tags": []
   },
   "outputs": [
    {
     "data": {
      "text/plain": [
       "19"
      ]
     },
     "execution_count": 18,
     "metadata": {},
     "output_type": "execute_result"
    }
   ],
   "source": [
    "writer = csv.writer(f, lineterminator=\"\\n\")\n",
    "csv_header = [\"記事番号\", \"タイトル\", \"URL\", \"サマリー\"]\n",
    "writer.writerow(csv_header)"
   ]
  },
  {
   "cell_type": "code",
   "execution_count": 19,
   "id": "35f2695d-f507-492f-bc7b-d67f5543625a",
   "metadata": {
    "tags": []
   },
   "outputs": [],
   "source": [
    "url = \"https://www.bloomberg.co.jp/\""
   ]
  },
  {
   "cell_type": "code",
   "execution_count": 20,
   "id": "2dc184bf-a49a-4cc6-8397-7a43e74914c0",
   "metadata": {
    "tags": []
   },
   "outputs": [],
   "source": [
    "website = newspaper.build(url, memoize_articles=False)"
   ]
  },
  {
   "cell_type": "code",
   "execution_count": 21,
   "id": "19d9a958-875e-45bd-b56b-bd8201ef969c",
   "metadata": {
    "tags": []
   },
   "outputs": [
    {
     "name": "stdout",
     "output_type": "stream",
     "text": [
      "記事 0 : ＦＯＭＣ議事要旨、混乱招いた据え置きと追加利上げ予想の解明なるか\n",
      "https://www.bloomberg.co.jp/news/articles/2023-07-05/RX8MUSDWX2PS01?srnd=cojp-v2\n",
      "米金融当局は５日午後（日本時間６日未明）、６月13、14両日に開いた連邦公開市場委員会（ＦＯＭＣ）会合の議事要旨を公表する。同会合の決定と当局者の経済予測、パウエル連邦準備制度理事会（ＦＲＢ）議長の記者会見の内容にウォール街は困惑を抱いた。２％の当局目標に向けたインフレ率押し下げの取り組みは予想よりも進展が鈍い状況にあるものの、ＦＯＭＣは前回会合で５月までの10回連続で引き上げてきたフェデラルファンド（ＦＦ）金利の誘導目標レンジを５－5.25％に据え置いた。一方、当局者が最新の四半期経済予測の金利予測分布図（ドット・プロット）で示した年内の追加利上げ見通しは２回と市場の予想を上回り、投資家の間には混乱が広がって、明確な説明を望む声が上がっている。ネーションワイド・ライフ・インシュアランスのチーフエコノミスト、キャシー・ボストジャンシク氏はパウエル議長について、「混乱した内容のメッセージを発した」と指摘するとともに、「それはＦＯＭＣ内のタカ派とハト派の間の気まずい妥協を反映しているのではないか」と語った。ボストジャンシク氏はその上で、「議事要旨からはこの点に関して知見が得られるかもしれない一方、パウエル議長が示したひどい内容の説明を繰り返すだけかもしれない」と話した。パウエル議長は６月の決定について、積極的に進めてきたこれまでの利上げや、一連の米地銀経営破綻を受けた信用の引き締まりを考慮し、金融当局として経済データを評価するさらなる時間を確保したい考えだとしている。議長は先週、ＦＯＭＣ参加者の大多数は年末までに金利を２回もしくはさらに多く引き上げるのが適切であろうと予想していると述べるとともに、複数回連続での利上げを検討することも排除しないと語った。関連記事：ＬＨマイヤー/マネタリー・ポリシー・アナリティクスのエコノミスト、デレク・タン氏は、「２会合連続で利上げしないとなれば、利上げサイクルはまだ続いていると主張するのは難しくなるため、７月の利上げは既定路線ではないが非常にそれに近い」とし、議事要旨では７月利上げを巡る市場の観測を強める可能性があると話す。ただ、「ピーク金利は高くなる公算が大きく、適切なタイミングに関しては広範囲の見解が示されて、議事要旨はできる限り多くの柔軟性を確保することになるだろう」と、タン氏はコメントした。ブルームバーグ・エコノミクスの米国担当チーフエコノミスト、スチュアート・ポール氏は「インフレリスクは依然、上方に傾斜しており、７月25、26両日の次回ＦＯＭＣ会合に先立って金融当局のコミュニケーションは引き続きタカ派に傾くと見込まれる」との分析を示した。今月のＦＯＭＣ会合の前には、６月の雇用統計（７日）と同月の消費者物価指数（12日）が発表される。米商務省が６月30日に発表した５月の個人消費支出（ＰＣＥ）価格指数は、総合指数が前年同月比3.8％上昇と２年強ぶりの低い伸びとなったものの、当局者が注視する食料品とエネルギーを除くコア指数は同4.6％上昇した。ハイ・フリークエンシー・エコノミクスの米国担当チーフエコノミスト、ルビーラ・ファルキ氏は「予想を上回る米経済のパフォーマンスが続き、インフレ率がなかなか鈍化しないことが問題で、それがしばらくの間、ＦＯＭＣのタカ派傾斜を持続させる可能性がある」とみている。もう一つ重要なのは、地銀の連鎖的破綻を受けて経済成長の逆風と見なされている与信状況について、ＦＯＭＣがどう評価していたかだ。バークレイズ・キャピタルのシニアエコノミスト、ジョナサン・ミラー氏（ニューヨーク在勤）は「６月時点では、状況がどうなっているのか、さらなる情報を見守るのを正当化するだけの懸念が残っていたと見受けられる」と語る。「しかし、与信状況が予想ほど引き締まっていないのであれば、今後２会合で２回の追加利上げに踏み切る良い理由になるだろう」と論じた。原題：Fed Minutes to Offer Hints on ‘Awkward’ Pause-and-Hike Message（抜粋）\n",
      "\n",
      "記事 1 : インフレ強行軍のＦＲＢとＥＣＢ－世界の金融政策、今後一層乖離も\n",
      "https://www.bloomberg.co.jp/news/articles/2023-07-04/RXAM0HDWX2PS01?srnd=cojp-v2\n",
      "執拗（しつよう）なインフレが欧米の中央銀行当局者に引き締めモードを継続させる一方、他の地域の中銀は独自の方向に進んでおり、世界各国・地域の金融政策は今後数カ月で一層乖離（かいり）する可能性が高い。米連邦準備制度が25、26日に開く連邦公開市場委員会（ＦＯＭＣ）の次回会合と、27日の欧州中央銀行（ＥＣＢ）政策委員会では、追加利上げが予想される。他の一部中銀も似た軌道上にあり、ブルームバーグ・エコノミクス（ＢＥ）が集計する借り入れコストの総合指標は、今四半期に6.25％のピークを示す。これは３カ月前の予想（６％）を上回る水準だ。しかし、そうした全体の数字の上昇は、最近と比較しても世界的に見て同期性がはるかに失われた現状を覆い隠す。中国人民銀行（中銀）は先月既に金融緩和に踏み切り、インド準備銀行は２会合連続で政策金利を据え置いた。トルコ中銀は新総裁就任に伴う金融政策の軌道修正で、引き締めを開始したばかりで、ロシア中銀も近く後に続く可能性がある。一方、日本銀行は将来ある時点の金融刺激解除に向け遅々として動いていると受け止められている。イングランド銀行（英中央銀行）で特に顕著だが、欧米の中銀当局者は今に至るまでインフレ見通しに十分大きな影響を及ぼすことができない現状に直面している。これに対し、他の中銀は、これまでの引き締めの効果が表れるまでさらに時間を要するか判断すべく利上げを停止している。関連記事ＢＥのチーフ欧州エコノミスト、ジェイミー・ラッシュ氏は｢どこまで高くなるかが、投資家にとって2023年上期の大問題だった。多くの中銀について、それは明らかになりつつある。インフレとの闘いの第１段階は終わりに近づいており、金利は間もなくピークに達するだろう。いつまで続くかが今年下期の大問題だ。われわれの予測が示す基調インフレ率の低下ペースは鈍い。急激な景気下降がない限り、米国やユーロ圏、英国のような先進諸国では、24年半ばになるまで利下げが行われる可能性は低い」と指摘した。The Bloomberg Central Bank Outlook What’s set to happen with interest rates by the end of 2023 Source: Bloomberg Economics forecasts; survey of economists for Czech Republic, Nigeria, Norway, South Africa and SwitzerlandパウエルＦＲＢ議長 Photographer: Andrew Harrer/BloombergＢＥの米国担当チーフエコノミスト、 アナ・ウォン氏は｢しつこく下げ渋るコアインフレ率がＦＯＭＣに25ベーシスポイント（ｂｐ、１ｂｐ＝0.01％）の追加利上げを促し、フェデラルファンド（ＦＦ）金利誘導目標レンジの上限は5.5％となる公算が大きい。経済活動が弱まり失業率が上昇することで、政策担当者はその後の追加引き締めを思いとどまるだろう。景気下降にもかかわらず、連邦準備制度は年内は利下げせず、上限5.5％のピーク水準で政策金利据え置きを選択する可能性が高い」と予測する。ＢＥのユーロ圏シニアエコノミスト、デービッド・パウエル氏は「ＥＣＢは利上げサイクルの終わりに近づきつつある。基調インフレ率は既にピークに達し、金融引き締めは信用状況に著しい影響を与えつつある。ＢＥはさらに２回、７月と９月に25ｂｐの利上げが決定されると見込む。われわれの中立金利の推定値は1.5－1.75％だが、中銀預金金利は４％と景気抑制的な領域に深く入り込むだろう。基調インフレ率の鈍化に伴い来年６月に最初の利下げがあると考えている」との見解を示す。日銀の植田和男総裁 Photographer: Kiyoshi Ota/Bloomberg一方、ＢＥの木村太郎シニアエコノミストは「市場の混乱で投機家がイールドカーブ・コントロール（ＹＣＣ、長短金利操作）の枠組みへの挑戦をやめざるを得なくなったため、最近の米銀行破綻に対し、日銀はうしろめたい喜びを感じたはずだ。植田和男総裁は、より持続的で需要主導のインフレを促進する努力に集中できる状態になった。日銀は24年下期のある時期になるまでＹＣＣの枠組みを堅持する公算が大きい。いかなる新たな政策も引き続き緩和的となり、恐らく政策金利をゼロにとどめ、債券の買い入れも継続するだろう」と分析した。原題： Inflation Slog Grips Fed and ECB as Global Rate Policy Decouples（抜粋）\n",
      "\n",
      "記事 2 : 日本の銀行株が世界でアウトパフォーム、政策修正から業績へ関心移る\n",
      "https://www.bloomberg.co.jp/news/articles/2023-07-04/RX8TP1T1UM0W01?srnd=cojp-v2\n",
      "日本の銀行株が米国の地銀の破綻を発端とする信用不安前の水準を上回ってきた。日本銀行の政策修正が期待される中、インフレによる貸し出しの増加が株価を押し上げている。日本の銀行株の戻りは早い Photographer: Kiyoshi Ota/BloombergＴＯＰＩＸ銀行業指数は４日、相場全体に逆行する形で大幅高となり、2015年８月以来の高値を付けた。世界の主な銀行株指数の中で、３月からの世界的な銀行株安以前の水準を回復したのは日本だけで、上昇が際立っている。万年割安株として長らく放置されてきた銀行株は、日銀の政策修正観測が株式市場で強まった22年末から株価のレンジを切り上げた。イールドカーブコントロール（ＹＣＣ、長短金利操作）で長期金利の変動許容幅を拡大・撤廃するとの思惑から、収益環境の改善を期待した買いが入ってきた。足元では新たな要因が株価上昇を後押ししている。日銀が６月に発表した５月の貸出・預金動向の 速報では、銀行・信金の貸し出し合計が前年比3.4％増と３カ月連続で伸びが拡大した。コロナ禍で貸し出しが増加した時期を除けば09年３月以来の高水準だ。企業の資金需要の増大は業績への恩恵期待を高める。マネックス証券の広木隆チーフストラテジストは「インフレになり実質金利がマイナスになる中では、資金を借りても投資した方が得だ」と指摘。これまで資金を借りなかった企業が借りるようになっているとし、貸し出し需要の伸びがより鮮明になってくるとみる。市場が予想する10年後の物価動向を示すブレークイーブンインフレ率（ＢＥＩ、期待インフレ率）は１％台前半と、約８年ぶりの水準に上昇。名目金利が横ばいの中で期待インフレ率が上昇し、実質金利は足元で大きく低下している。ただ、株価上昇により銀行株の割安さは薄れている。ＴＯＰＩＸ銀行業指数の予想株価収益率（ＰＥＲ）は9.2倍と、米銀の8.6倍や欧州銀行の6.5倍を上回っている。08年のサブプライムローン問題に起因する金融危機以降、めったになかった現象だ。日銀の政策修正観測は根強いものの、銀行株と金利変動の連動性は失われており、市場の関心は政策修正から業績に向かっている。ＳＢＩ証券の鮫島豊喜シニアアナリストは「金融政策修正の期待相場はいったん終わり、業績として利ざやをしっかりと稼げるかどうかに目が移る」との見方を示した。\n",
      "\n",
      "記事 3 : 米株に積み上がった強気ポジション、揺り戻しのリスク示唆－シティ\n",
      "https://www.bloomberg.co.jp/news/articles/2023-07-04/RX9W6GDWRGG001?srnd=cojp-v2\n",
      "６月末にかけて投資家が積み上げた米国株先物に対する強気ポジションはかなりの行き過ぎがあるように見受けられ、揺り戻しのリスクが高まっている。米シティグループのストラテジストが分析した。シティの３日付リポートによれば、Ｓ＆Ｐ500種株価指数先物には先週、新たなロングポジションが約71億ドル（約１兆250億円）追加された。投資家には「まずまずの大きな利益」が出ていると、シティは指摘した。ストラテジストのクリス・モンタギュー氏は、ロングポジション全体では最近付けた過去最大を下回っているが、「相場が既にどれほど動いたかを考えると、この利益を確保するために今後１週間には巻き戻しが見られる可能性がある」と述べた。ネットポジションはなお強気だが、警戒の兆しがすでに表れているとの見方をモンタギュー氏は示し、ナスダック先物に先週流入した新たなポジションは圧倒的にショート（売り持ち）だったと語った。原題： Citi’s Montagu Says US Stock Positioning Shows Pullback Risk（抜粋）\n",
      "\n",
      "記事 4 : 中国の金属輸出規制はもろ刃の剣、対中依存減らす日米欧の動き加速も\n",
      "https://www.bloomberg.co.jp/news/articles/2023-07-05/RXANGPT0G1KW01?srnd=cojp-v2\n",
      "中国が今週発表した半導体などの材料に使われる金属２種類の輸出規制は、中国による先端技術へのアクセスを妨げようとする日米欧に対し、報復する力が中国にあることを示した。だが、裏目に出る可能性もある。３日遅く公表された新たな輸出許可制度は半導体や電気自動車（ＥＶ）、通信機器の材料として使われるガリウムとゲルマニウムの生産で中国が支配的地位にあることを如実に示した。またイエレン米財務長官の訪中直前という発表のタイミングは、中国の発展を阻害する恐れがある輸出規制の撤廃を米政府に求めている中国が交渉で優位に立つことを狙ったものとみられる。中国、半導体製造に不可欠な金属の輸出制限へ－米欧と対立強める中国のテクノロジーを巡る米欧への報復的な貿易戦争がエスカレートしている Source: Bloombergだが、この措置はもろ刃の剣であり、対中依存を減らそうとする日米欧の動きを加速させ得る。また中国がある時点でこの新ルールを利用して輸出制限や他国への供給削減を図った場合、値上がりを招き、日本やカナダ、米国などで増産する方がコストがかからなくなる公算が大きい。「これは米国とその同盟国に中国が仕掛けている報復の一環だ」とシンガポール国立大学（ＮＵＳ）の荘嘉穎准教授（政治学）は指摘。その上で「市場や企業は最初、ショックを受けるかもしれないが、こうした制限が長引いたとしても市場も企業もそのうち慣れるだろう」と述べた。習主席のジレンマまた今回の動きは、技術へのアクセスを妨げようとしている米国への対抗措置を習近平国家主席が目指す上で直面するジレンマを浮き彫りにする。中国による報復は、米欧がリスク低減を推し進める動機を強めるだけだからだ。台湾外交部（外務省）の李淳政務次長は今回の新たな措置について、米国などの輸出規制への仕返しだとした上で「中国は常に報復的なアプローチを取る」とし、こうしたアプローチは「これらの重要な鉱物や原材料の供給で中国への依存度を減らそうとする台湾や韓国、日本などの動きを速めるだろう」と語った。中国の過去に行ったレアアース（希土類）販売規制の取り組みは、中国に管理されていないレアアースの供給確保に諸外国が動いたことから、中国の市場シェアが減っただけで終わった。中国が初めてレアアースの輸出許可制度を導入したのは1990年代で、徐々に関税を引き上げ、中国からの供給に依存していた日本などの企業は苦境に陥った。その後、尖閣諸島の周辺海域で違法操業をしていた中国漁船がパトロール中の海上保安庁の巡視船に衝突した2010年の事件をきっかけに中国は日本への輸出を一時停止した。これを受け、中国に代わるレアアース供給源を探す動きが広がり、オーストラリアと米国が生産を拡大。米地質調査所（ＵＳＧＳ）によると、中国のレアアース生産シェアはピークだった10年の98％から22年には70％に低下した。China's Dominance of Rare Earth Supply Wanes Rare earth production has diversified since China began limiting exports Source: US Geological Survey英重要鉱物情報センター（ ＣＭＩＣ）によれば、ガリウム生産における中国の世界シェアは現在約94％。中国が価格を割安な水準にとどめているものの、抽出のコストは比較的高くなり得る。ただ、ガリウムは特に希少とは言えず、見つけにくいわけでもない。ユーラシア・グループのアンナ・アシュトン氏ら研究者はリポートで、「輸出規制を課せば、市場における独占的地位が揺らぐ恐れがある」と指摘。「現状のまま実施されれば、中国の新たな輸出鉱物規制は外国メーカーの中国から生産を移転させる動きは弾みがつき、サプライチェーン分散化傾向の勢いが増すだろう」と分析した。原題： Xi’s Metal Curbs Risk Backfiring as G-7 Seeks Alternatives (1)（抜粋）\n",
      "\n",
      "記事 5 : １－３月の需給ギャップはマイナス0.34％、２期ぶり改善－日銀\n",
      "https://www.bloomberg.co.jp/news/articles/2023-07-05/RXAQNVDWRGG001?srnd=cojp-v2\n",
      "日本銀行は５日、日本経済の潜在的な供給力と実際の需要の差である需給ギャップが１－３月期にマイナス0.34％になったとの試算を 発表した。昨年10－12月期はマイナス0.37％で、２期ぶりの改善となる。供給が需要を上回るマイナスは12期連続。労働投入ギャップがプラス0.12％と２期ぶりのプラスに浮上した一方、設備稼働率などから試算する資本投入ギャップはマイナス0.46％に悪化した。需給ギャップの参考指標である短観の設備判断と雇用人員判断を基にした「短観加重平均ＤＩ」（過剰－不足）を見ると、不足超幅は拡大基調にある。今後も需給ギャップは改善が続きそうだ。日銀は物価の基調を構成する要素として、需給ギャップを賃金や予想物価上昇率とともに重視している。植田和男総裁は５月の 講演で、物価は「需給ギャップによって決まってくる」と説明。基調的な物価が２％の物価安定目標に向けて徐々に高まっていくという現在の見通しは、「需給ギャップが改善し、中長期的な予想物価上昇率や賃金上昇率が高まっていくということが前提」と語った。４月の経済・物価情勢の展望（ 展望リポート）で、日銀は需給ギャップが「今年度半ばごろにはプラスに転じ、プラス幅を緩やかに拡大していく」と見込んだ。新たな展望リポートについて議論する今月27、28日の金融政策決定会合では、消費者物価（生鮮食品を除くコアＣＰＩ）見通しの上方修正とともに政策修正が行われるとの見方が市場の一部に根強い。日銀は需給ギャップを生産設備の稼働率や失業率・労働参加率などから試算している。内閣府も需給ギャップを公表しているが、国内総生産（ＧＤＰ）を基に推計しており、方法には違いがある。日本銀行本店 Photographer: Kentaro Takahashi/Bloomberg\n",
      "\n",
      "記事 6 : ＳＢＩが台湾大手と半導体工場建設へ「供給網の起点に」と北尾氏\n",
      "https://www.bloomberg.co.jp/news/articles/2023-07-05/RXAYN4T1UM0W01?srnd=cojp-v2\n",
      "ＳＢＩホールディングスは５日、台湾の大手半導体受託生産会社、パワーチップ・セミコンダクター・マニュファクチャリング・コーポレーション（ＰＳＭＣ）と日本国内に半導体製造工場を建設するための準備会社を設立することで合意したと発表した。ＳＢＩのロゴマーク Source: Bloomberg発表資料によると、ＰＳＭＣは半導体の受託生産会社としては台湾３位、世界６位。ロジックとメモリーの両方を生産でき、車載用のパワー半導体などの生産に強みを持つ。工場建設の時期や場所、事業総額などは決まっておらず、今後両社を中心に詰めていく計画。ＳＢＩの北尾吉孝社長は会見で、半導体生産について「輸出市場として日本で作る意味がある。グローバルサプライチェーンの起点にする」と述べた。「金融機能で日本の半導体産業の復興に貢献したい」とも話し、これまで構築してきた地域金融機関が地元で融資できる体制を作っていく考えも示した。政府は半導体を戦略分野と位置付け支援を強化。これまでに受託生産世界最大手、台湾積体電路製造（ ＴＳＭＣ）が熊本県に新設する工場建設などに最大約4760億円を助成。国内メモリー大手の キオクシアホールディングスが三重県内に建設する工場向けにも最大約929億円を交付している。北尾氏は半導体生産工場について、短期的に車載・産業機器用の生産に注力し、中長期的には３次元化や微細化を進めていく方針を示した。資金調達などについてはＳＢＩの主力行である三井住友銀行やみずほ銀行とも相談しながら進めていくという。ＳＢＩの 株価は発表を受け上昇し、一時前日比３％高の2943.5円まで上昇した。証券ジャパンの大谷正之調査情報部部長は「半導体の需要はまだまだ伸びていくので、前向きな話であることは間違いないだろう」と分析。ただ、工場設立や生産開始はまだ先で、今後どうやって投資を回収していけるかが一番重要だ」とも指摘した。関連記事：\n",
      "\n",
      "記事 7 : ドル・円は144円台後半、需給ギャップマイナスで緩和維持との見方\n",
      "https://www.bloomberg.co.jp/news/articles/2023-07-04/RXAKF8T0G1KW01?srnd=cojp-v2\n",
      "５日の東京外国為替市場のドル・円相場は１ドル＝144円台後半で小じっかり。米国休場明けで狭いレンジでの動きとなる中、日本銀行の需給ギャップ発表後から買いが優勢となった。需給ギャップは12期連続のマイナスで、緩和継続観測が強まり円売り安心感につながった。ドル・円は午後３時39分現在、前日比0.1％高の144円67銭。ここまで144円39銭を安値に一時144円73銭まで上昇みずほ銀行の鈴木健吾チーフマーケットストラテジストは、１ー３月期の需給ギャップは改善したもののマイナス圏にあり、相場の受け止めとしては緩和継続となりやすいと分析。日銀の緩和姿勢が際立つ中で円は売られやすく、145円超えてからの介入警戒感の強まり方が重要になりそうだとみている。１－３月の需給ギャップはマイナス0.34％、２期ぶり改善－日銀円は５日、対オフショア人民元で前日に続き１人民元＝20円を超え、昨年11月以来の水準を付けた。政府・日銀が昨年円買い介入に踏み切った局面では20円50銭を超えた円安水準だった。他のクロス円対比で円安ペースが緩慢なオフショア人民元・円相場での円安加速が円独歩安を一段と推し進める可能性がある。【視点】円の対人民元安が新たな段階に、20円突破し円独歩安は秒読み\n",
      "\n",
      "記事 8 : 中国の世茂、資産の強制競売で買い手つかず－債務再編に暗雲\n",
      "https://www.bloomberg.co.jp/news/articles/2023-07-05/RXB6MHDWX2PS01?srnd=cojp-v2\n",
      "デフォルト（債務不履行）に陥った中国の不動産開発会社、 世茂集団は、18億ドル（約2600億円）規模の同社プロジェクトが強制競売にかけられたものの、買い手がつかなかった。中国経済低迷の中で投資需要が乏しい現状を裏付けている。サッカー場34個分に相当する土地資産の入札で、査定額を20％下回る水準の売値が提示されたが、買い手はいなかった。ＪＤドットコムのオンライン競売サイトに入札結果が掲載された。中国の不動産セクターは回復が続かず、投資家は資産取得に慎重になっている。世界的に見てもニューヨークから香港に至る商業用不動産市場は、弱い景気見通しと在宅勤務の一般化で苦戦を強いられている。ブルームバーグ・インテリジェンスの不動産アナリスト、クリスティー・フン、リサ・チョウ両氏は５日のリポートで、資産の流動化が難しく「世茂の債務再編にとって新たなハードルになるだろう」と指摘した。原題： Chinese Builder’s $1.8 Billion Distressed Asset Gets No Bids (1)（抜粋）\n",
      "\n",
      "記事 9 : 日本株続落、米経済指標発表控え持ち高調整売り－商社や内需関連安い\n",
      "https://www.bloomberg.co.jp/news/articles/2023-07-04/RXAITMT1UM0W01?srnd=cojp-v2\n",
      "５日の東京株式相場は続落。日本時間の今晩に発表のある米国の製造業受注や７日の雇用統計を控え、持ち高を調整する売りが優勢だった。堅調相場の続いた商社や精密機器株などは反動も加わり値を下げた。小売りやサービス、陸運といった内需株も軟調だった。ただ、取引開始後に大幅安となった場面からは押し目買いが入り、東証株価指数（ＴＯＰＩＸ）の下げはわずかだった。割安（バリュー）株に買いが入り、鉄鋼や非鉄金属などの素材株が高く、海運株の上げも目立った。ＴＯＰＩＸの終値は前日比0.34ポイント（0.01％）安の2306.03日経平均株価は83円82銭（0.3％）安の３万3338円70銭市場関係者の見方証券ジャパンの大谷正之調査情報部部長東証33業種下落率上位 精密機器、陸運、銀行、小売 上昇率上位 海運、医薬品、保険、鉄鋼関連記事\n",
      "\n",
      "記事 10 : 中国サービス業ＰＭＩが鈍化－支出抑制でコロナ後急回復に陰り\n",
      "https://www.bloomberg.co.jp/news/articles/2023-07-05/RXAWEST0G1KW01?srnd=cojp-v2\n",
      "中国のサービス業活動を測る民間の指数が６月に拡大ペースの鈍化を示した。サービス業は新型コロナウイルス禍後の景気回復のけん引役となってきたが、これが鈍りつつあることをあらためて示唆している。５日発表された６月の財新中国サービス業購買担当者指数（ＰＭＩ）は53.9と、前月の57.1から低下。今年１月以来の低水準にとどまり、エコノミスト予想中央値の56.2を大きく下回った。ＰＭＩは50を上回れば前月から拡大、下回れば縮小を示唆する。今回のＰＭＩで、二極化した持ち直しを意味する「Ｋ字型」の景気回復で改善が目立っていたサービス業の勢いが鈍っていることが示唆された。若者の失業率高止まりや所得見通しの悪化で、消費者は旅行や外食などへの支出を減らしており、中国当局に対して景気支援策の強化を求める声が高まるとみられる。ジョーンズ・ラング・ラサールの大中華圏担当チーフエコノミスト兼調査責任者、龐溟氏は「雇用の安定化に向けた圧力が強まりつつある」と指摘。「これまで導入された措置は景気の下支えが中心だったが、市場の需要や信頼感がまだ明確に回復しておらず、より包括的でさらに規模が大きく、予想を上回る政策支援が必要だ」と述べた。一方、先週発表された６月の非製造業ＰＭＩで、サービス業の動向を示す指数は52.8と、３カ月連続で鈍化していた。財新サービス業ＰＭＩは規模が小さめの企業の比重が大きい。原題： China Services Growth Softens in Fresh Sign of Weakness (1)（抜粋）\n",
      "\n"
     ]
    }
   ],
   "source": [
    "#[]にしてしまうとtypeがリストとなり、比較演算子が使えなくなる。\n",
    "# i = []\n",
    "\n",
    "i = 0\n",
    "\n",
    "for article in website.articles:\n",
    "    csv_list = []\n",
    "    article.download()\n",
    "    article.parse()\n",
    "    article.nlp()\n",
    "    print(\"記事\", str(i),\":\",article.title)\n",
    "    print(article.url)\n",
    "    print(article.summary, end=\"\\n\\n\")\n",
    "    csv_list.append(str(i))\n",
    "    csv_list.append(article.title)\n",
    "    csv_list.append(article.url)\n",
    "    csv_list.append(article.summary)\n",
    "    writer.writerow(csv_list)\n",
    "    \n",
    "    if i > 9:\n",
    "        break\n",
    "    i = i+1\n",
    "\n",
    "f.close()"
   ]
  },
  {
   "cell_type": "code",
   "execution_count": 22,
   "id": "ba66eb68-c5b3-4c0d-a114-e37bebceb4a6",
   "metadata": {},
   "outputs": [],
   "source": [
    "#演習\n",
    "from newspaper import Article\n",
    "\n",
    "url = \"https://diamond-rm.net/store/large-scaleretailstorelaw/461976/\"\n",
    "article = Article(url)\n",
    "\n",
    "article.download()\n",
    "article.parse()"
   ]
  },
  {
   "cell_type": "code",
   "execution_count": 23,
   "id": "315ba547-b2e4-41c1-9a40-f4a6eaa043e0",
   "metadata": {
    "tags": []
   },
   "outputs": [
    {
     "data": {
      "text/plain": [
       "datetime.datetime(2023, 7, 3, 20, 55, 39, tzinfo=tzutc())"
      ]
     },
     "execution_count": 23,
     "metadata": {},
     "output_type": "execute_result"
    }
   ],
   "source": [
    "article.publish_date"
   ]
  },
  {
   "cell_type": "code",
   "execution_count": 24,
   "id": "dd8f3ee5-d990-460a-a96d-a1a769b44fa9",
   "metadata": {
    "tags": []
   },
   "outputs": [
    {
     "data": {
      "text/plain": [
       "['ダイヤモンド チェーンストア編集部']"
      ]
     },
     "execution_count": 24,
     "metadata": {},
     "output_type": "execute_result"
    }
   ],
   "source": [
    "article.authors"
   ]
  },
  {
   "cell_type": "code",
   "execution_count": 25,
   "id": "2cb47dd5-1a20-4a59-b218-f6481e371690",
   "metadata": {
    "tags": []
   },
   "outputs": [
    {
     "data": {
      "text/plain": [
       "'ダイヤモンド・チェーンストア編集部クリップ経済産業省が発表した2023年5月分の大店立地法届出は44件だった。今月は千葉県野田市に「（仮称）ベルク野田山崎店」が出店する予定であることや、東京都西東京市に「（仮称）オーケー芝久保店」が出店することが明らかになった。また、神奈川県平塚市の「（仮称）湘南平塚SC計画」に「アークランズ」が出店予定であることや、コスモス薬品が13店舗を出店することもなどわかった。大規模店舗立地法 2023年5月分届け出リスト一覧都道府県 大規模小売店舗名 所在地 小売業者名 オープン予定日 店舗面積（㎡） 北海道 ツルハドラッグ南稚内店 稚内市大黒町2丁目9-1 ほか ツルハ 2024年1月23日 1,318 岩手県 ツルハドラッグ久慈大川目店 久慈市大川目町第二地割14番地1外 ツルハ 2024年1月20日 1,174 秋田県 ツルハドラッグ若竹町店 大仙市若竹町575番地 外 ツルハ 2024年1月27日 1,180 福島県 (仮称)エイトプロ福島本内店 福島県福島市本内字北町裏9番1 外 ダイユーエイト 2024年1月20日 1,504 茨城県 ドラッグコスモス田彦店 ひたちなか市大字田彦字根崎259番 外 コスモス薬品 2024年1月20日 1,381 栃木県 （仮称）コメリハード＆グリーン今市大沢店 日光市木和田島1571-80 コメリ 2074年1月10日 3,931 栃木県 ドラッグコスモス伊勢山店 佐野市伊勢山町字伊勢山北10番5 外 コスモス薬品 2024年1月12日 1,381 栃木県 ドラッグコスモスおもちゃのまち店 下都賀郡壬生町六美町北部土地区画整理事業 施行地区内67街区1､2画地 コスモス薬品 2024年1月16日 1,397 栃木県 ゲオ栃木大平ビル 栃木市大平町西野田字雷電157番 ゲオストア、大創産業 2023年9月29日 1,518 群馬県 ドラッグコスモス太田高瀬店 太田市高瀬町194番1 外 コスモス薬品 2024年1月12日 1,390 群馬県 ドラッグコスモス赤堀店 伊勢崎市市場町一丁目24番1 外 コスモス薬品 2024年1月25日 1,382 埼玉県 （仮称）所沢北秋津プロジェクト 所沢市北秋津800番 未定 2024年1月25日 6,116 埼玉県 （仮称）コーナンＰＲＯ富士見針ヶ谷店 富士見市大字針ヶ谷461-1外 コーナン商事 2024年1月25日 1,347 埼玉県 ドラッグコスモス久下店 加須市久下2丁目20番7 外 コスモス薬品 2024年1月31日 1,297 埼玉県 （仮称）三郷商業施設 三郷市三郷一丁目三番一号 カスミ 2024年2月1日 4,130 埼玉県 ドラッグコスモス久川越野田店 川越市野田町2丁目1番1外 コスモス薬品 2024年2月1日 1,288 千葉県 コスモス長須賀店 木更津市長須賀字池ﾉ下2312番ほか コスモス薬品 2024年1月13日 1,403 千葉県 （仮称）クリエイトS・D君津郡店 君津市郡三丁目3番5ほか クリエイトエス・ディー 2024年1月18日 1,542 千葉県 （仮称）クリエイト茂原八千代店 茂原市八千代一丁目1番4ほか クリエイトエス・ディー 2024年1月24日 1,815 千葉県 （仮称）ベルク野田山崎店 野田市山崎字西新田2239番2ほか ベルク 2024年2月1日 2,205 千葉県 ドラッグコスモス銚子三崎町店 銚子市三崎町二丁目2564番4ほか コスモス薬品 2024年2月1日 1,383 東京都 (仮称)オーケー芝久保店 西東京市芝久保町二丁目9番34ほか オーケー 2024年1月30日 2,838 東京都 （仮称）東大和市東京街道団地地区まちづくりプロジェクト北敷地 東大和市清原一丁目1213番6 ほか 未定、ほか3 2024年3月1日 1,400 東京都 （仮称）東大和市東京街道団地地区まちづくりプロジェクト南敷地 東大和市清原三丁目1番2ほか 未定 2024年3月1日 1,857 神奈川県 (仮称)クリエイトS・D綾瀬深谷上店 綾瀬市深谷上6-4512の1ほか クリエイトエス・ディー 2024年1月10日 1,521 神奈川県 （仮称）湘南平塚SC計画 平塚市黒部丘325の1ほか アークランズ、ほか2 2024年2月1日 35,000 浜松市 杏林堂薬局高町店 浜松市中区高町150番地3 他 杏林堂薬局 2024年1月16日 1,603 岐阜県 ドラッグコスモス松森店 大字松森字藤森734番2 (株)コスモス薬品 2024年1月30日 1,369 三重県 （仮称）イオンスタイル白子 鈴鹿市白子駅前270番地 ほか 未定 2024年1月27日 7,058 名古屋市 アルビス北区金田店 名古屋市北区金田町2丁目15番2 アルビス 2024年1月12日 2,191 大阪府 （仮称）富田林錦織北複合商業施設 富田林市錦織北二丁目2158番ほか コーナン商事、大黒物産 2024年1月31日 9,008 和歌山県 （仮称）スーパーエバグリーン橋本店 和歌山県橋本市東家六丁目330番3外 エバグリーン廣甚 2024年1月13日 2,525 和歌山県 （仮称）ドラッグコスモス宇須店 和歌山県和歌山市宇須二丁目275-14外 株式会社コスモス薬品 2024年1月25日 1,358 鳥取県 （仮称）フーズマーケットホック両三柳店 米子市両三柳17ほか フーズマーケットホック、大創産業 2024年1月12日 2,912 島根県 （仮称）ダイレックス出雲平田店 出雲市平田町字京塚1864番2外 ダイレックス 2024年2月1日 1,496 岡山県 （仮称）ザグザグ瀬戸店 岡山市東区瀬戸町沖字溝上355番地3 ほか ザグザグ 2024年1月11日 1,423 香川県 高松駅ビル 高松市浜ﾉ町6-16､7の一部､8-1､8-3､8-4 四国キヨスク、キャンドゥ、くまざわ書店 2024年1月20日 5,871 福岡県 ドラッグストアモリ飯塚秋松店 飯塚市秋松字鯉篭15番1 外 ドラッグストアモリ 2024年1月23日 1,482 福岡県 （仮称）ラ・ムーみやま店 みやま市瀬高町大江字一本木2348-1､他5筆 マミーズ 2024年1月25日 1,910 佐賀県 （仮称）ネクステージ南佐賀店 佐賀県佐賀市南佐賀一丁目697番14 外 ネクステージ 2024年1月9日 3,175 熊本県 ドラッグコスモス岩崎店 玉名市岩崎字堂ﾉ下476番1 外 コスモス薬品 2024年1月12日 1,248 熊本県 ドラッグコスモス西間上町店 人吉市西間上町字園田2452番4 外 コスモス薬品 2024年1月31日 1,367 大分県 （仮称）カガシヤわさだ本店・ゲオわさだ店 大分市大字市字ﾂﾞｼ田527番地1 他 カガシヤ、ゲオホールディングス 2024年1月10日 2,225 大分県 （仮称）コープおおいた南春日 大分市南春日町831番1 生活協同組合コープおおいた 2024年1月30日 2,182注1） 本表は、都道府県・政令指定都市の協力を得て、月に一度報告いただいた届出事項の概要について、経済産業省が各経済産業局ごとにとりまとめたものである。注2） データが複数ある項目（小売業者名等）については、スペースの都合上届出内容の一部のみ掲載しているため、各都道府県・政令定都市の公告とは異なる場合がある。'"
      ]
     },
     "execution_count": 25,
     "metadata": {},
     "output_type": "execute_result"
    }
   ],
   "source": [
    "article.text.replace(\"\\n\", \"\")"
   ]
  },
  {
   "cell_type": "code",
   "execution_count": 26,
   "id": "40c887ce-953a-4375-9c27-245d3e86921d",
   "metadata": {
    "tags": []
   },
   "outputs": [
    {
     "data": {
      "text/plain": [
       "'23年5月の大店立地法届け出44件一覧 千葉県にベルク、西東京市にオーケーが出店'"
      ]
     },
     "execution_count": 26,
     "metadata": {},
     "output_type": "execute_result"
    }
   ],
   "source": [
    "article.title"
   ]
  },
  {
   "cell_type": "code",
   "execution_count": 27,
   "id": "d8783b58-e235-459b-8ae5-637b27af1d68",
   "metadata": {
    "tags": []
   },
   "outputs": [],
   "source": [
    "import newspaper\n",
    "import csv\n",
    "import datetime"
   ]
  },
  {
   "cell_type": "code",
   "execution_count": 28,
   "id": "3cb4cb8e-e57a-40c5-9fce-9154a0f3a3d8",
   "metadata": {
    "tags": []
   },
   "outputs": [],
   "source": [
    "csv_date = datetime.datetime.today().strftime(\"%Y%m%d\")\n",
    "csv_file_name = \"ITmedia_\" + csv_date + \".csv\"\n",
    "f = open(csv_file_name, \"w\", encoding=\"cp932\", errors=\"ignore\")"
   ]
  },
  {
   "cell_type": "code",
   "execution_count": 29,
   "id": "f61c0151-fce2-4b11-bae0-43126f05dce9",
   "metadata": {
    "tags": []
   },
   "outputs": [
    {
     "data": {
      "text/plain": [
       "17"
      ]
     },
     "execution_count": 29,
     "metadata": {},
     "output_type": "execute_result"
    }
   ],
   "source": [
    "writer = csv.writer(f, lineterminator=\"\\n\")\n",
    "csv_header = [\"記事\", \"タイトル\", \"URL\", \"サマリー\"]\n",
    "writer.writerow(csv_header)"
   ]
  },
  {
   "cell_type": "code",
   "execution_count": 30,
   "id": "0b27cc96-0a9b-468c-9fde-a48c0e2bedfc",
   "metadata": {
    "tags": []
   },
   "outputs": [],
   "source": [
    "url = \"https://www.itmedia.co.jp/\"\n",
    "website = newspaper.build(url, memoize_ariticles=False)"
   ]
  },
  {
   "cell_type": "code",
   "execution_count": 31,
   "id": "dc1f0d62-790f-4656-9700-8e47bb85e295",
   "metadata": {
    "tags": []
   },
   "outputs": [
    {
     "name": "stdout",
     "output_type": "stream",
     "text": [
      "記事 0 . Twitter広告で個人ユーザーの投稿を盗用 化粧品メーカーが謝罪 「運用は広告会社に委託していた」\n",
      "https://www.itmedia.co.jp/news/articles/2307/05/news133.html\n",
      "化粧品メーカーのプレミアアンチエイジング（東京都港区）は7月4日、同社と無関係な個人ユーザーのツイートを無断でまねし、Twitter広告を作ったとして謝罪した。同社は該当の投稿をした広報アカウントを削除。広告の制作とTwitterアカウントの運用は広告会社に任せていたと説明している。問題のTwitter広告は6月29日に投稿したもの。同社のブランド「クレイエンス」のヘアカラーを宣伝する内容だった。しかし、Twitter上ではこの広告の文面などが、2020年に投稿された個人のツイートと酷似していると指摘され、物議を醸していた。その後、同社は問題のツイートを削除し、Twitterアカウントも削除した。プレミアアンチエイジングによると、Twitter広告の制作・運用は広告会社のピアラ（東京都渋谷区）に委託していたという。一方で「広告会社の管理や投稿内容の確認が十分ではなかった」と認め、再発防止に努めるとしている。プレミアアンチエイジングの声明ピアラも4日に声明を発表。他ユーザーの過去のツイートを盗用したことを認めて謝罪した。同社は「広告を作成するに当たり、当社の広告運用に対する認識が欠如していた」と説明。再発防止のため、この事案を社内で周知し、社内のモラルの向上や広告内容の管理フローを見直すとしている。ピアラの声明\n",
      "\n",
      "記事 1 . TBSがゲーム事業に参入 オリジナルIP創造に向け協力事業者を募集\n",
      "https://www.itmedia.co.jp/news/articles/2307/05/news121.html\n",
      "TBSテレビは7月5日、ゲーム事業への本格参入に向け、ブランド「TBS GAMES」を立ち上げたと発表した。「心や生活を豊かにするゲームを作り、有名ゲームキャラクターのように、世界中で親しまれるオリジナルIPの創造を目指す」としている。TBSグループのコンテンツ創造力を武器に、モバイル、アーケード、カードゲームなど広い意味のゲーム事業に参入。同日に公開したティーザーサイトでは「ご興味を持たれた企業様はご連絡ください」と、協力事業者を募集している。TBSテレビの番組がゲームになった例としては「炎の体育会TV」「どうぶつ奇想天外！」などがある。今後発売するゲームや関連情報はティーザーサイトで順次発信していく。これまでにゲーム化されたテレビ番組\n",
      "\n",
      "記事 2 . 製造業向けクラウドのキャディが118億円調達 2030年までに主力サービスの売上1兆円目指す\n",
      "https://www.itmedia.co.jp/news/articles/2307/05/news119.html\n",
      "製造業向けクラウドサービスを手掛けるキャディ（東京都台東区）は7月5日、ベンチャーキャピタルなどから約118億円の資金を調達したと発表した。資金はサービスの機能強化に充てる他、人材採用に活用する。中でも主力サービスの「CADDi MANUFACTURING」では、2030年までに売上1兆円規模を目指すという。資金はベンチャーキャピタルのグロービス・キャピタル・パートナーズ（東京都千代田区）に加え、SMBCグループや三菱UFJグループのベンチャー向けファンドなどから調達。これにより、キャディの調達総額は約217億3000万円になった。キャディは2017年創業。産業装置用部品などの受発注プラットフォームであるCADDi MANUFACTURINGに加え、22年からはデータ化した図面の管理・活用が可能なクラウドサービス「CADDi DRAWER」を提供している。海外でのサービス提供にも注力しており、米国、ベトナム、タイでも事業を展開している。\n",
      "\n",
      "記事 3 . Google、ネット上の公開情報をAIのトレーニングに利用しているとプライバシーポリシーに明記\n",
      "https://www.itmedia.co.jp/news/articles/2307/05/news080.html\n",
      "米Googleは7月1日、プライバシーポリシーを更新した。Googleが公開している更新の差分を確認できるページによると、変更があったのは日付を除いて2箇所。1つ目は「コンテンツや広告など、カスタマイズしたサービスの提供」という条項で、以前は「たとえば、「マウンテンバイク」というキーワードで検索すると、Googleが配信する広告を表示するサイトを閲覧しているときにスポーツ用品の広告が表示されることがあります。」となっていたところが「たとえば、「マウンテンバイク」というキーワードで検索すると、YouTubeでスポーツ用品の広告が表示されることがあります。」と変更された。2つ目は、ユーザーが公開した情報の収集に関する条項だ。本文内の「公開情報」の定義を説明するリンク先が以下のように変わっている。日本語では、「たとえば、インターネットに一般公開されている情報やその他の公開情報源からの情報を収集し、Googleの言語モデルの学習やGoogle翻訳などの機能の構築に役立てることがあります。」が「たとえば、インターネットに一般公開されている情報やその他の公開情報源からの情報を収集し、GoogleのAIモデルのトレーニングのほか、Google翻訳、Bard、CloudのAI機能などのサービスや機能の構築に役立てることがあります。また、ビジネスの情報がウェブサイトで公開されている場合は、インデックスに登録してGoogleサービスに表示することもあります。」となった。つまり、収集するデータやその利用方法については変わらないが、従来より具体的に明示するようになった。Twitterのオーナー、イーロン・マスク氏は多数の組織がAIのトレーニングのためにTwitterから情報をスクレイピングしていると非難したが、Googleは自社のAIツールのトレーニングにネット上に一般公開されている情報をすべて使っているということだ。\n",
      "\n",
      "記事 4 . 東大、生成AIシンポジウムのアーカイブ動画を公開 孫正義氏「日本は真正面からAI開発に取り組むべき」\n",
      "https://www.itmedia.co.jp/news/articles/2307/05/news114.html\n",
      "東京大学は7月4日、同日に開催した生成AIシンポジウムのアーカイブ動画を公開した。イベントにはソフトバンクグループの孫正義代表取締役会長兼社長や東大の松尾豊教授、西村康稔経済産業大臣、米OpenAI幹部のシェイン・グウさんらが登壇。孫会長は「日本は今こそ真正面からAI開発に取り組むべきだ」と訴えた。シンポジウムに登壇した孫正義氏テーマは「生成AIが切り拓く未来と日本の展望」。人間を超えて進化していくAIについて不安を覚えるという意見に対し、孫氏は「不安に思い過ぎる必要はない」とし「幸いなことにAIはタンパク質ではなく電気を食べる。だからAIには人類を取って食べる動機がないし、神様や仏様のように賢くて聡く、愚かなことはしない。だから日本は安心して真正面から最大限にAI開発に取り組むべきだ」と語った。他にも「行政機関（政府・自治体）における生成 AIの利用と課題」や「広島AIプロセスについて」「生成AIと研究・教育」などのセッションも実施。これらのアーカイブ動画も公開している。\n",
      "\n",
      "記事 5 . 「アイドルマスター」公式Twitterの一部が突如消失 「デレステ」や「シャニマス」など 原因不明【復旧済み】\n",
      "https://www.itmedia.co.jp/news/articles/2307/05/news108.html\n",
      "メディアミックス作品「アイドルマスター」に関する公式Twitterアカウントの一部が突如、閲覧できない状態になった。7月5日正午時点で「シンデレラガールズ スターライトステージ」（＠imascg_stage）「シャイニーカラーズ」（＠imassc_official）「ミリオンライブ！ シアターデイズ」（＠imasml_theater）の3アカウントが「このアカウントは存在しません」と表示される状態になっている。同じアイドルマスターシリーズの公式Twitterアカウントで、影響を受けなかった「シンデレラガールズ【ブランド公式】」（＠imas_CGofficial）などは、現在詳細を調査中と説明。詳しい原因については明かしていない。Twitterを巡っては、7月1日に閲覧制限が突如掛かるなど、急な仕様変更が相次いでいる。アイドルマスターファンの中には、Twitter側に原因があるのではないかと疑う人も見られる。同日午後1時40分ごろ、復旧発表シンデレラガールズ スターライトステージ公式Twitterは同日午後1時42分ごろ、アカウントの復旧を報告。他の2つのアカウントも閲覧可能な状態へ戻った。\n",
      "\n",
      "記事 6 . Yahoo!ショッピングに定期購入機能 値付けやポイントで差別化も\n",
      "https://www.itmedia.co.jp/news/articles/2307/05/news106.html\n",
      "ヤフーは7月5日、ECモール「Yahoo!ショッピング」で、お米や水などの日用品を利用者が指定した頻度で定期的に届ける「定期購入」の提供を始めた。発注の手間が省け、買い忘れもなくなるとしている。定期購入の対象商品はカートに入れる際に通常購入か定期購入かを選べる商品が定期購入の対象だった場合、利用者は「配送頻度」と「次回お届け日」を指定できる。次回お届け日の15日前になると案内メールが届き、11日前までなら配送予定日や支払い方法の変更、解約なども行える。支払い方法はYahoo!ウォレットに登録されたクレジットカードもしくは「PayPayあと払い」、商品代引。対象商品は商品検索の絞り込み機能などで探せる。一方の出店社は、リピート率の高い商品などを任意に定期購入商品に指定し、通常とは異なる価格やポイントを設定できる。またヤフーによると、今後は専用クーポン機能などの追加も予定しているという。お届け頻度は1日単位で設定できる\n",
      "\n",
      "記事 7 . フランス、Googleに3億円の罰金 消費者に必要な情報を提供しなかったとして\n",
      "https://www.itmedia.co.jp/news/articles/2307/05/news100.html\n",
      "フランス政府は7月4日（現地時間）、米Googleが消費者に適切な情報提供を行わなかったとして同社アイルランド支部に201万5000ユーロ（約3.2億円）の罰金を求める行政処分をしたと発表した。消費者に明確かつ公平で透明性のある情報を提供しなかったとしてフランスは2021年にGoogleを調査。Google検索においては、結果表示順の決定方法を提示していない点、ホテルなどの宿泊プランを検索してもキャンセルや返金が可能かなどの情報を適切に表示できない点などの問題が見つかった。GooglePlayにおいては、検索結果の表示順を決定する基準を提示していない、アプリ提供者や支払情報などの情報が不足している、レビューを掲載しない場合に拒否理由を示さないといったことが分かった。一部の問題は修正が完了している。\n",
      "\n",
      "記事 8 . サイボウズがベンチャーキャピタル組成 生成AI・Web3スタートアップを支援へ\n",
      "https://www.itmedia.co.jp/news/articles/2307/05/news082.html\n",
      "サイボウズは7月4日、ベンチャーキャピタル「kintone Teamwork Fund」を組成し、出資や支援を希望する企業の募集を開始した。同社のクラウドサービス「kintone」との連携を前提に、Web3や生成AIなどを活用するスタートアップを支援していくという。出資対象はアーリーかミドルステージ（成長の初期〜中期）にあるスタートアップ。（1）Web3や生成AIといった技術を活用しており、kintoneとのシナジーが見込める、（2）社会インフラ、医療、農業など、kintoneが普及していない業界向け、（3）海外市場向け──といった条件を満たすサービスに出資するという。出資額は1社につき1000万円〜1億円程度で、2025年までに20〜30社を支援する予定。支援のイメージ出資対象には資金だけでなく、kintoneの無料ライセンスや、拡販の支援なども提供するという。サイボウズはスタートアップとの連携を通して「kintoneエコシステムのさらなるなる拡大を目指す」としている。\n",
      "\n",
      "記事 9 . Twitterは「開発頼まれても断りたいレベル」？ エンジニア視点で意見続々\n",
      "https://www.itmedia.co.jp/news/articles/2307/05/news077.html\n",
      "Twitterは、「エンジニア視点で見ると、作ってと言われたら断りたいほどめんどくさいしろもの」――ドワンゴ取締役／ニコニコ代表の栗田穣崇（くりた・しげたか）さんのこんなツイートがきっかけで、Twitterを開発する難しさについて、エンジニアたちが意見を交わしている。栗田さんは、「Twitterのタイムラインはユーザーから見ると『ツイート並べてるだけでしょ？』みたいに簡単なサービスに見えるけど、エンジニア視点で見ると、作ってと言われたら断りたいほどめんどくさいしろもの」とツイート。Twitter代替サービスがなかなか出てこない理由として、開発が大変なこと、維持費が大いのにマネタイズが難しいことを挙げた。ニコニコ動画の開発に初期から関わっている戀塚昭彦さんは、栗田さんの投稿を引用しつつ、「最近のTwitterは多機能、大規模、高速を全部兼ね備えてるので、ちょっとやそっとじゃ真似できない」「すごい小規模ならある程度は簡単に作れそうでも、ユーザー数とリアルタイム性によって実現してる『場』が成立しない」と述べた。他のエンジニアからも、Twitterのリアルタイム性や、数億人というユーザー規模、大規模データベース管理などの視点から、開発や維持は「絶対にやりたくない」といった意見が続々と出ている。\n",
      "\n",
      "記事 10 . スマホアプリの“ゾンビアカウント”削除してる？ 7割超が保持 米中の研究者が調査：Innovative Tech\n",
      "https://www.itmedia.co.jp/news/articles/2307/05/news035.html\n",
      "中国の南開大学と米Indiana University Bloomingtonに所属する研究者らが発表した論文「How Are Your Zombie Accounts？ Understanding Users’ Practices and Expectations on Mobile App Account Deletion」は、使わなくなったモバイルアプリにおけるアカウント削除に関する調査を行った研究報告である。ユーザーのアカウント削除に対する意識や実践、期待を探るために、2つの国（米国279人、中国368人）を対象とした647人の参加者によるオンライン調査と、さらに20人の参加者による現地インタビューを実施した。このアンケートは、60の人気モバイルアプリのアカウント削除プロセスに関する実証的な測定に基づいて設計されている。結果は以下に示す通りである。まず、オンライン調査では、ほとんどの参加者が個人情報保護のために行動することに積極的であり（89％）、アプリを使わなくなったときにアプリベンダーにデータを使われ続けることを望んでいない（95％）と回答した。しかし、アンインストールしたアプリのアカウント状況について尋ねた結果、「1〜2回しか使わず、もう使わないかもしれないのでアンインストールした」を選択した人（86％）は、「もう使わないアプリをアンインストールする前にしていることは何ですか」という質問に対して、アカウントを削除した人は3分の1以下（26％、145人／554人）で、半数以上（57％、314人／554人）が「何もしない」と回答した。総合的には、75％が“ゾンビアカウント”を保持しているという結果となった。アカウント削除に関するユーザーの理解を調査する中で次のようなことが分かった。ほとんどの参加者の認知は、アプリベンダーの主張とは異なり、例えば、半数以上の参加者が、アカウント削除後も個人情報は削除されない（57％）、削除は元に戻せる（61％）と考えていた。また45％の参加者が、利用停止とはデータを削除することだと誤解していた。ゾンビアカウントのリスク、知ってる？次に、ゾンビアカウントのリスクを知っているか、ゾンビアカウントによるトラブルを経験したことがあるかを尋ねた結果、半数以上の参加者が懸念を表明した。懸念を表明した参加者ほど、実際にアカウントを削除する可能性が高いことが分かった。10％の参加者が、アカウントを適時に削除しないことによる影響を経験したことがある、または聞いたことがあると回答。そのうちの一部（56％、35／63人）は、トラブルの経験を回答した。参加者が遭遇したトラブルは、（1）メール、メッセージ、電話などのしつこい宣伝プッシュ（60％、21／35人）、（2）他社からの嫌がらせメッセージ（34％、12／35）、（3）自動課金など金銭的損失（6％、2／35）の3種類に集約できた。他にも「初めてアプリを使ったのに、他人のアカウントを使ってしまった」という経験の有無を聞いた結果、22％の人が「ある」と回答した。アカウント削除ページには簡単にたどり着けない？次に、アカウント削除に失敗した理由として、62％（62人／100人）の参加者が、「アカウント削除の選択肢がなかった、少なくとも簡単には発見できなかった」と回答した。また、58％（58／100人）の人が「手順が多すぎてうまく削除できなかった」と回答した。アカウント削除の操作が不親切に設計されていることが、かなりの数の参加者のアカウント削除を妨げていること分かった。WhatsAppアカウント削除方法アカウント削除について詳しく説明されていると思われるプライバシーポリシーをどの程度見ているかを尋ねた結果、「読んだことがない」（37％）、「ざっと見たことがある」（56％）という回答が多かった。分析すると、アカウント削除までに平均して1つのアプリにつき13.04回のクリックが必要であることが分かった。最も困難な例では、Weiboのアカウント削除エントリーを得るために72回もクリックする必要があった。この過程で、約半数（50％）の参加者（20人中の10人）が検索エンジンの助けを借り、3人（15％）がカスタマーサービスに助けを求めた。アプリの中には、アプリ外での削除操作（Webサイトへのアクセスやメール送信など）が必要なものもあるが、追加の質問を行った結果、91％（279人中の253人）の参加者がアプリ内でアカウント削除ができることを希望していた。わざわざブラウザを立ち上げてWebサイトにログインする必要がないことが求められている。アプリの中には削除処理をしてからすぐに削除されるのではなく、数日後に削除するアプリも多くある。アカウント削除申請後に削除を撤回する機能を望むかを尋ねた。その結果、44％の人が「すぐに個人情報が削除されること」を期待していた。また、ほぼ全員（90％、584人／647人）が7日以内のデータ削除を希望していた。アプリの平均的な削除期間は14.75日であり、最も短いものは即時削除で、最も長いものは1年かかるものであった。自由回答の中で、24％（327人中80人）の参加者がアカウント削除の実際の影響について懸念を示した。アカウント削除後、データが完全に削除されたことを確認することは非常に重要だが、一般のユーザーとしては、それを確認することは困難である。長期間ログインしない場合に自動的にアカウントが削除されるベンダーが存在することを観察した。そのため、オンライン調査では、参加者がこのアカウント削除に関連するサービスについてどのように考えているかを尋ねた。調査結果から、参加者の46％が前向きな姿勢を持っていることが分かった。Source and Image Credits: Yijing Liu, Yan Jia, Qingyin Tan, Zheli Liu, and Luyi Xing.\n",
      "How Are Your Zombie Accounts？ Understanding Users’ Practices and Expectations on Mobile App Account Deletion.\n",
      "\n",
      "記事 11 . 脳波から画像を生成するAI「DreamDiffusion」 テンセント含む中国の研究者らが開発：Innovative Tech\n",
      "https://www.itmedia.co.jp/news/articles/2307/05/news037.html\n",
      "中国の清華深セン国際大学院、Tencent AI Lab、Peng Cheng Laboratoryに所属する研究者らが発表した論文「DreamDiffusion: Generating High-Quality Images from Brain EEG Signals」は、脳波（EEG）から高品質でリアルな画像を生成する拡散モデルを提案した研究報告である。提案手法は、EEGデータセットから学習した知識と画像拡散モデルの生成能力を利用する。脳波信号からStable Diffusionを利用して画像を生成人の脳から拡散モデルを利用して画像を生成するアプローチはこれまでにも研究されてきた。例えば、阪大などが開発したシステムなどだ。しかし、その多くは、磁気共鳴機能画像法（fMRI）により得られた脳活動から画像を生成するアプローチを採用している。そのため、専門家の操作が必要な上、高価で持ち運びが困難なfMRI装置を必要とし、実用的ではない。これに対して脳波は、非侵襲的かつ低コストで脳の電気活動を記録する方法である。EEG信号を簡便に取得できるポータブルな市販製品も登場している。この研究では、脳波信号で事前に訓練したテキストから画像への拡散モデル「Stable Diffusion」を用い、画像を生成する手法を提案する。しかし、脳波信号を活用するには課題も多い。例えば、脳波信号は非侵襲的に捉えられるため本質的にノイズが多い。また、脳波データは限られており個人差も無視できない。CLIPの使用と多数のテキストと画像ペアに対するトレーニングのおかげで、Stable Diffusionにおけるテキスト空間と画像空間はよく整列している。だがノイズの多い脳波と画像のペアを用いて、脳波、テキスト、画像の空間をどのように整列させるのかが問題となる。この問題に対して研究者らは、主に3つのモジュールからなるシステムを構築する。（1）ノイズの多い脳波データから情報を抽出するEEGエンコーダーのためのマスク信号の事前訓練、（2）Stable Diffusionを用いた、EEGと画像のペアからなるデータセットによる微調整、（3）追加のCLIPエンコーダーを用いたEEG、テキスト、画像の空間の整列、となる。DreamDiffusionのパイプライン今回使用したEEGと画像のペアデータは、6人の被験者がImageNetデータセットから40の異なるカテゴリーのオブジェクトに属する2000枚の画像を見せられながら記録された脳波のコレクションである。そのため、40カテゴリーに限定されていることに留意したい。この手法の精度を評価するため、類似の最新研究（Brain2Image）と定性的に比較した実験を行った。結果、Brain2Imageによって生成した画像よりも著しく精度が高いことが確認でき、提案手法の有効性を示した。Source and Image Credits: Yunpeng Bai, Xintao Wang, Yanpei Cao, Yixiao Ge, Chun Yuan, and Ying Shan.\n",
      "DreamDiffusion: Generating High-Quality Images from Brain EEG Signals\n",
      "\n"
     ]
    }
   ],
   "source": [
    "i = 0\n",
    "\n",
    "for article in website.articles:\n",
    "    csv_list = []\n",
    "    article.download()\n",
    "    article.parse()\n",
    "    article.nlp()\n",
    "    print(\"記事\", str(i), \".\", article.title)\n",
    "    print(article.url)\n",
    "    print(article.summary, end=\"\\n\\n\")\n",
    "    csv_list.append(str(i))\n",
    "    csv_list.append(article.title)\n",
    "    csv_list.append(article.url)\n",
    "    csv_list.append(article.summary)\n",
    "    writer.writerow(csv_list)\n",
    "\n",
    "    if i > 10:\n",
    "        break\n",
    "    i += 1\n",
    "\n",
    "f.close()"
   ]
  },
  {
   "cell_type": "code",
   "execution_count": 32,
   "id": "4ff1e427-1f26-4680-8e49-36a7d69f409d",
   "metadata": {},
   "outputs": [],
   "source": [
    "# import requests\n",
    "# data = pd.read_html(requests.get(url, headers={'User-agent': 'Mozilla/5.0'}).text,header=0)"
   ]
  },
  {
   "cell_type": "code",
   "execution_count": 33,
   "id": "0b38ce30-f26e-436e-9b5d-740b6417e946",
   "metadata": {
    "tags": []
   },
   "outputs": [],
   "source": [
    "import pandas as pd\n",
    "import requests"
   ]
  },
  {
   "cell_type": "code",
   "execution_count": 34,
   "id": "94869151-6e07-4346-beb9-47a9aba01826",
   "metadata": {
    "tags": []
   },
   "outputs": [],
   "source": [
    "url = \"https://finance.yahoo.com/quote/AAPL/history?p=AAPL\""
   ]
  },
  {
   "cell_type": "code",
   "execution_count": 35,
   "id": "56fbb698-edbd-4e07-9c72-2640e48e0623",
   "metadata": {
    "tags": []
   },
   "outputs": [],
   "source": [
    "data = pd.read_html(requests.get(url, headers={'User-agent': 'Mozilla/5.0'}).text,header=0)"
   ]
  },
  {
   "cell_type": "code",
   "execution_count": 36,
   "id": "2acab8e6-8eaa-46f7-872f-477ea7ee636d",
   "metadata": {
    "tags": []
   },
   "outputs": [
    {
     "data": {
      "text/html": [
       "<div>\n",
       "<style scoped>\n",
       "    .dataframe tbody tr th:only-of-type {\n",
       "        vertical-align: middle;\n",
       "    }\n",
       "\n",
       "    .dataframe tbody tr th {\n",
       "        vertical-align: top;\n",
       "    }\n",
       "\n",
       "    .dataframe thead th {\n",
       "        text-align: right;\n",
       "    }\n",
       "</style>\n",
       "<table border=\"1\" class=\"dataframe\">\n",
       "  <thead>\n",
       "    <tr style=\"text-align: right;\">\n",
       "      <th></th>\n",
       "      <th>Date</th>\n",
       "      <th>Open</th>\n",
       "      <th>High</th>\n",
       "      <th>Low</th>\n",
       "      <th>Close*</th>\n",
       "      <th>Adj Close**</th>\n",
       "      <th>Volume</th>\n",
       "    </tr>\n",
       "  </thead>\n",
       "  <tbody>\n",
       "    <tr>\n",
       "      <th>0</th>\n",
       "      <td>Jul 03, 2023</td>\n",
       "      <td>193.78</td>\n",
       "      <td>193.88</td>\n",
       "      <td>191.76</td>\n",
       "      <td>192.46</td>\n",
       "      <td>192.46</td>\n",
       "      <td>31458200</td>\n",
       "    </tr>\n",
       "    <tr>\n",
       "      <th>1</th>\n",
       "      <td>Jun 30, 2023</td>\n",
       "      <td>191.63</td>\n",
       "      <td>194.48</td>\n",
       "      <td>191.26</td>\n",
       "      <td>193.97</td>\n",
       "      <td>193.97</td>\n",
       "      <td>85069600</td>\n",
       "    </tr>\n",
       "    <tr>\n",
       "      <th>2</th>\n",
       "      <td>Jun 29, 2023</td>\n",
       "      <td>189.08</td>\n",
       "      <td>190.07</td>\n",
       "      <td>188.94</td>\n",
       "      <td>189.59</td>\n",
       "      <td>189.59</td>\n",
       "      <td>46347300</td>\n",
       "    </tr>\n",
       "    <tr>\n",
       "      <th>3</th>\n",
       "      <td>Jun 28, 2023</td>\n",
       "      <td>187.93</td>\n",
       "      <td>189.90</td>\n",
       "      <td>187.60</td>\n",
       "      <td>189.25</td>\n",
       "      <td>189.25</td>\n",
       "      <td>51216800</td>\n",
       "    </tr>\n",
       "    <tr>\n",
       "      <th>4</th>\n",
       "      <td>Jun 27, 2023</td>\n",
       "      <td>185.89</td>\n",
       "      <td>188.39</td>\n",
       "      <td>185.67</td>\n",
       "      <td>188.06</td>\n",
       "      <td>188.06</td>\n",
       "      <td>50730800</td>\n",
       "    </tr>\n",
       "  </tbody>\n",
       "</table>\n",
       "</div>"
      ],
      "text/plain": [
       "           Date    Open    High     Low  Close* Adj Close**    Volume\n",
       "0  Jul 03, 2023  193.78  193.88  191.76  192.46      192.46  31458200\n",
       "1  Jun 30, 2023  191.63  194.48  191.26  193.97      193.97  85069600\n",
       "2  Jun 29, 2023  189.08  190.07  188.94  189.59      189.59  46347300\n",
       "3  Jun 28, 2023  187.93  189.90  187.60  189.25      189.25  51216800\n",
       "4  Jun 27, 2023  185.89  188.39  185.67  188.06      188.06  50730800"
      ]
     },
     "execution_count": 36,
     "metadata": {},
     "output_type": "execute_result"
    }
   ],
   "source": [
    "data[0].head()"
   ]
  },
  {
   "cell_type": "code",
   "execution_count": 37,
   "id": "b6b7c2f6-473e-4787-955e-d95603167d74",
   "metadata": {
    "tags": []
   },
   "outputs": [
    {
     "name": "stdout",
     "output_type": "stream",
     "text": [
      "<class 'pandas.core.frame.DataFrame'>\n",
      "RangeIndex: 101 entries, 0 to 100\n",
      "Data columns (total 7 columns):\n",
      " #   Column       Non-Null Count  Dtype \n",
      "---  ------       --------------  ----- \n",
      " 0   Date         101 non-null    object\n",
      " 1   Open         101 non-null    object\n",
      " 2   High         101 non-null    object\n",
      " 3   Low          101 non-null    object\n",
      " 4   Close*       101 non-null    object\n",
      " 5   Adj Close**  101 non-null    object\n",
      " 6   Volume       101 non-null    object\n",
      "dtypes: object(7)\n",
      "memory usage: 5.6+ KB\n"
     ]
    }
   ],
   "source": [
    "data[0].info()"
   ]
  },
  {
   "cell_type": "code",
   "execution_count": 38,
   "id": "3adf6f85-5335-4c4f-b850-a7af15bc4cb6",
   "metadata": {
    "tags": []
   },
   "outputs": [],
   "source": [
    "data[0][\"Adj Close**\"] = pd.to_numeric(data[0][\"Adj Close**\"], errors=\"coerce\")"
   ]
  },
  {
   "cell_type": "code",
   "execution_count": 39,
   "id": "1d60368b-3494-4bdf-beae-d5f6cd4402ef",
   "metadata": {
    "tags": []
   },
   "outputs": [
    {
     "data": {
      "text/html": [
       "<div>\n",
       "<style scoped>\n",
       "    .dataframe tbody tr th:only-of-type {\n",
       "        vertical-align: middle;\n",
       "    }\n",
       "\n",
       "    .dataframe tbody tr th {\n",
       "        vertical-align: top;\n",
       "    }\n",
       "\n",
       "    .dataframe thead th {\n",
       "        text-align: right;\n",
       "    }\n",
       "</style>\n",
       "<table border=\"1\" class=\"dataframe\">\n",
       "  <thead>\n",
       "    <tr style=\"text-align: right;\">\n",
       "      <th></th>\n",
       "      <th>Date</th>\n",
       "      <th>Open</th>\n",
       "      <th>High</th>\n",
       "      <th>Low</th>\n",
       "      <th>Close*</th>\n",
       "      <th>Adj Close**</th>\n",
       "      <th>Volume</th>\n",
       "    </tr>\n",
       "  </thead>\n",
       "  <tbody>\n",
       "    <tr>\n",
       "      <th>0</th>\n",
       "      <td>Jul 03, 2023</td>\n",
       "      <td>193.78</td>\n",
       "      <td>193.88</td>\n",
       "      <td>191.76</td>\n",
       "      <td>192.46</td>\n",
       "      <td>192.46</td>\n",
       "      <td>31458200</td>\n",
       "    </tr>\n",
       "    <tr>\n",
       "      <th>1</th>\n",
       "      <td>Jun 30, 2023</td>\n",
       "      <td>191.63</td>\n",
       "      <td>194.48</td>\n",
       "      <td>191.26</td>\n",
       "      <td>193.97</td>\n",
       "      <td>193.97</td>\n",
       "      <td>85069600</td>\n",
       "    </tr>\n",
       "    <tr>\n",
       "      <th>2</th>\n",
       "      <td>Jun 29, 2023</td>\n",
       "      <td>189.08</td>\n",
       "      <td>190.07</td>\n",
       "      <td>188.94</td>\n",
       "      <td>189.59</td>\n",
       "      <td>189.59</td>\n",
       "      <td>46347300</td>\n",
       "    </tr>\n",
       "    <tr>\n",
       "      <th>3</th>\n",
       "      <td>Jun 28, 2023</td>\n",
       "      <td>187.93</td>\n",
       "      <td>189.90</td>\n",
       "      <td>187.60</td>\n",
       "      <td>189.25</td>\n",
       "      <td>189.25</td>\n",
       "      <td>51216800</td>\n",
       "    </tr>\n",
       "    <tr>\n",
       "      <th>4</th>\n",
       "      <td>Jun 27, 2023</td>\n",
       "      <td>185.89</td>\n",
       "      <td>188.39</td>\n",
       "      <td>185.67</td>\n",
       "      <td>188.06</td>\n",
       "      <td>188.06</td>\n",
       "      <td>50730800</td>\n",
       "    </tr>\n",
       "    <tr>\n",
       "      <th>...</th>\n",
       "      <td>...</td>\n",
       "      <td>...</td>\n",
       "      <td>...</td>\n",
       "      <td>...</td>\n",
       "      <td>...</td>\n",
       "      <td>...</td>\n",
       "      <td>...</td>\n",
       "    </tr>\n",
       "    <tr>\n",
       "      <th>96</th>\n",
       "      <td>Feb 14, 2023</td>\n",
       "      <td>152.12</td>\n",
       "      <td>153.77</td>\n",
       "      <td>150.86</td>\n",
       "      <td>153.20</td>\n",
       "      <td>152.99</td>\n",
       "      <td>61707600</td>\n",
       "    </tr>\n",
       "    <tr>\n",
       "      <th>97</th>\n",
       "      <td>Feb 13, 2023</td>\n",
       "      <td>150.95</td>\n",
       "      <td>154.26</td>\n",
       "      <td>150.92</td>\n",
       "      <td>153.85</td>\n",
       "      <td>153.64</td>\n",
       "      <td>62199000</td>\n",
       "    </tr>\n",
       "    <tr>\n",
       "      <th>98</th>\n",
       "      <td>Feb 10, 2023</td>\n",
       "      <td>149.46</td>\n",
       "      <td>151.34</td>\n",
       "      <td>149.22</td>\n",
       "      <td>151.01</td>\n",
       "      <td>150.80</td>\n",
       "      <td>57450700</td>\n",
       "    </tr>\n",
       "    <tr>\n",
       "      <th>99</th>\n",
       "      <td>Feb 10, 2023</td>\n",
       "      <td>0.23 Dividend</td>\n",
       "      <td>0.23 Dividend</td>\n",
       "      <td>0.23 Dividend</td>\n",
       "      <td>0.23 Dividend</td>\n",
       "      <td>NaN</td>\n",
       "      <td>0.23 Dividend</td>\n",
       "    </tr>\n",
       "    <tr>\n",
       "      <th>100</th>\n",
       "      <td>*Close price adjusted for splits.**Adjusted cl...</td>\n",
       "      <td>*Close price adjusted for splits.**Adjusted cl...</td>\n",
       "      <td>*Close price adjusted for splits.**Adjusted cl...</td>\n",
       "      <td>*Close price adjusted for splits.**Adjusted cl...</td>\n",
       "      <td>*Close price adjusted for splits.**Adjusted cl...</td>\n",
       "      <td>NaN</td>\n",
       "      <td>*Close price adjusted for splits.**Adjusted cl...</td>\n",
       "    </tr>\n",
       "  </tbody>\n",
       "</table>\n",
       "<p>101 rows × 7 columns</p>\n",
       "</div>"
      ],
      "text/plain": [
       "                                                  Date   \n",
       "0                                         Jul 03, 2023  \\\n",
       "1                                         Jun 30, 2023   \n",
       "2                                         Jun 29, 2023   \n",
       "3                                         Jun 28, 2023   \n",
       "4                                         Jun 27, 2023   \n",
       "..                                                 ...   \n",
       "96                                        Feb 14, 2023   \n",
       "97                                        Feb 13, 2023   \n",
       "98                                        Feb 10, 2023   \n",
       "99                                        Feb 10, 2023   \n",
       "100  *Close price adjusted for splits.**Adjusted cl...   \n",
       "\n",
       "                                                  Open   \n",
       "0                                               193.78  \\\n",
       "1                                               191.63   \n",
       "2                                               189.08   \n",
       "3                                               187.93   \n",
       "4                                               185.89   \n",
       "..                                                 ...   \n",
       "96                                              152.12   \n",
       "97                                              150.95   \n",
       "98                                              149.46   \n",
       "99                                       0.23 Dividend   \n",
       "100  *Close price adjusted for splits.**Adjusted cl...   \n",
       "\n",
       "                                                  High   \n",
       "0                                               193.88  \\\n",
       "1                                               194.48   \n",
       "2                                               190.07   \n",
       "3                                               189.90   \n",
       "4                                               188.39   \n",
       "..                                                 ...   \n",
       "96                                              153.77   \n",
       "97                                              154.26   \n",
       "98                                              151.34   \n",
       "99                                       0.23 Dividend   \n",
       "100  *Close price adjusted for splits.**Adjusted cl...   \n",
       "\n",
       "                                                   Low   \n",
       "0                                               191.76  \\\n",
       "1                                               191.26   \n",
       "2                                               188.94   \n",
       "3                                               187.60   \n",
       "4                                               185.67   \n",
       "..                                                 ...   \n",
       "96                                              150.86   \n",
       "97                                              150.92   \n",
       "98                                              149.22   \n",
       "99                                       0.23 Dividend   \n",
       "100  *Close price adjusted for splits.**Adjusted cl...   \n",
       "\n",
       "                                                Close*  Adj Close**   \n",
       "0                                               192.46       192.46  \\\n",
       "1                                               193.97       193.97   \n",
       "2                                               189.59       189.59   \n",
       "3                                               189.25       189.25   \n",
       "4                                               188.06       188.06   \n",
       "..                                                 ...          ...   \n",
       "96                                              153.20       152.99   \n",
       "97                                              153.85       153.64   \n",
       "98                                              151.01       150.80   \n",
       "99                                       0.23 Dividend          NaN   \n",
       "100  *Close price adjusted for splits.**Adjusted cl...          NaN   \n",
       "\n",
       "                                                Volume  \n",
       "0                                             31458200  \n",
       "1                                             85069600  \n",
       "2                                             46347300  \n",
       "3                                             51216800  \n",
       "4                                             50730800  \n",
       "..                                                 ...  \n",
       "96                                            61707600  \n",
       "97                                            62199000  \n",
       "98                                            57450700  \n",
       "99                                       0.23 Dividend  \n",
       "100  *Close price adjusted for splits.**Adjusted cl...  \n",
       "\n",
       "[101 rows x 7 columns]"
      ]
     },
     "execution_count": 39,
     "metadata": {},
     "output_type": "execute_result"
    }
   ],
   "source": [
    "data[0]"
   ]
  },
  {
   "cell_type": "code",
   "execution_count": 40,
   "id": "3d75f94f-9c07-4fd9-9843-fd125a41fb74",
   "metadata": {
    "tags": []
   },
   "outputs": [],
   "source": [
    "data[0].dropna(inplace=True)"
   ]
  },
  {
   "cell_type": "code",
   "execution_count": 41,
   "id": "3ff0ac22-6f7f-486f-96f1-d7d0afe25e4f",
   "metadata": {
    "tags": []
   },
   "outputs": [
    {
     "data": {
      "text/html": [
       "<div>\n",
       "<style scoped>\n",
       "    .dataframe tbody tr th:only-of-type {\n",
       "        vertical-align: middle;\n",
       "    }\n",
       "\n",
       "    .dataframe tbody tr th {\n",
       "        vertical-align: top;\n",
       "    }\n",
       "\n",
       "    .dataframe thead th {\n",
       "        text-align: right;\n",
       "    }\n",
       "</style>\n",
       "<table border=\"1\" class=\"dataframe\">\n",
       "  <thead>\n",
       "    <tr style=\"text-align: right;\">\n",
       "      <th></th>\n",
       "      <th>Date</th>\n",
       "      <th>Open</th>\n",
       "      <th>High</th>\n",
       "      <th>Low</th>\n",
       "      <th>Close*</th>\n",
       "      <th>Adj Close**</th>\n",
       "      <th>Volume</th>\n",
       "    </tr>\n",
       "  </thead>\n",
       "  <tbody>\n",
       "    <tr>\n",
       "      <th>94</th>\n",
       "      <td>Feb 16, 2023</td>\n",
       "      <td>153.51</td>\n",
       "      <td>156.33</td>\n",
       "      <td>153.35</td>\n",
       "      <td>153.71</td>\n",
       "      <td>153.50</td>\n",
       "      <td>68167900</td>\n",
       "    </tr>\n",
       "    <tr>\n",
       "      <th>95</th>\n",
       "      <td>Feb 15, 2023</td>\n",
       "      <td>153.11</td>\n",
       "      <td>155.50</td>\n",
       "      <td>152.88</td>\n",
       "      <td>155.33</td>\n",
       "      <td>155.12</td>\n",
       "      <td>65573800</td>\n",
       "    </tr>\n",
       "    <tr>\n",
       "      <th>96</th>\n",
       "      <td>Feb 14, 2023</td>\n",
       "      <td>152.12</td>\n",
       "      <td>153.77</td>\n",
       "      <td>150.86</td>\n",
       "      <td>153.20</td>\n",
       "      <td>152.99</td>\n",
       "      <td>61707600</td>\n",
       "    </tr>\n",
       "    <tr>\n",
       "      <th>97</th>\n",
       "      <td>Feb 13, 2023</td>\n",
       "      <td>150.95</td>\n",
       "      <td>154.26</td>\n",
       "      <td>150.92</td>\n",
       "      <td>153.85</td>\n",
       "      <td>153.64</td>\n",
       "      <td>62199000</td>\n",
       "    </tr>\n",
       "    <tr>\n",
       "      <th>98</th>\n",
       "      <td>Feb 10, 2023</td>\n",
       "      <td>149.46</td>\n",
       "      <td>151.34</td>\n",
       "      <td>149.22</td>\n",
       "      <td>151.01</td>\n",
       "      <td>150.80</td>\n",
       "      <td>57450700</td>\n",
       "    </tr>\n",
       "  </tbody>\n",
       "</table>\n",
       "</div>"
      ],
      "text/plain": [
       "            Date    Open    High     Low  Close*  Adj Close**    Volume\n",
       "94  Feb 16, 2023  153.51  156.33  153.35  153.71       153.50  68167900\n",
       "95  Feb 15, 2023  153.11  155.50  152.88  155.33       155.12  65573800\n",
       "96  Feb 14, 2023  152.12  153.77  150.86  153.20       152.99  61707600\n",
       "97  Feb 13, 2023  150.95  154.26  150.92  153.85       153.64  62199000\n",
       "98  Feb 10, 2023  149.46  151.34  149.22  151.01       150.80  57450700"
      ]
     },
     "execution_count": 41,
     "metadata": {},
     "output_type": "execute_result"
    }
   ],
   "source": [
    "data[0].tail()"
   ]
  },
  {
   "cell_type": "code",
   "execution_count": 42,
   "id": "29123334-5093-48fd-b1eb-645ee7d3a02e",
   "metadata": {
    "tags": []
   },
   "outputs": [],
   "source": [
    "from datetime import datetime as dt"
   ]
  },
  {
   "cell_type": "code",
   "execution_count": 43,
   "id": "8fe85f9e-369a-49d5-9652-12837c27d6d4",
   "metadata": {
    "tags": []
   },
   "outputs": [],
   "source": [
    "#リスト内包表記は、for文で取得した要素をリストに格納する場合は、[処理 for 変数 in リスト]となる\n",
    "data[0][\"Date2\"] = [dt.strptime(i, \"%b %d, %Y\") for i in data[0][\"Date\"]]"
   ]
  },
  {
   "cell_type": "code",
   "execution_count": 44,
   "id": "b8ab7fc1-c9f1-45cb-8a1a-a8495bc78c9c",
   "metadata": {
    "tags": []
   },
   "outputs": [
    {
     "data": {
      "text/plain": [
       "0    2023-07-03\n",
       "1    2023-06-30\n",
       "2    2023-06-29\n",
       "3    2023-06-28\n",
       "4    2023-06-27\n",
       "        ...    \n",
       "94   2023-02-16\n",
       "95   2023-02-15\n",
       "96   2023-02-14\n",
       "97   2023-02-13\n",
       "98   2023-02-10\n",
       "Name: Date2, Length: 98, dtype: datetime64[ns]"
      ]
     },
     "execution_count": 44,
     "metadata": {},
     "output_type": "execute_result"
    }
   ],
   "source": [
    "data[0][\"Date2\"]"
   ]
  },
  {
   "cell_type": "code",
   "execution_count": 45,
   "id": "26a5fe83-5c5b-4fa1-a5de-a216166a2f3d",
   "metadata": {
    "tags": []
   },
   "outputs": [
    {
     "data": {
      "text/html": [
       "<div>\n",
       "<style scoped>\n",
       "    .dataframe tbody tr th:only-of-type {\n",
       "        vertical-align: middle;\n",
       "    }\n",
       "\n",
       "    .dataframe tbody tr th {\n",
       "        vertical-align: top;\n",
       "    }\n",
       "\n",
       "    .dataframe thead th {\n",
       "        text-align: right;\n",
       "    }\n",
       "</style>\n",
       "<table border=\"1\" class=\"dataframe\">\n",
       "  <thead>\n",
       "    <tr style=\"text-align: right;\">\n",
       "      <th></th>\n",
       "      <th>Date</th>\n",
       "      <th>Open</th>\n",
       "      <th>High</th>\n",
       "      <th>Low</th>\n",
       "      <th>Close*</th>\n",
       "      <th>Adj Close**</th>\n",
       "      <th>Volume</th>\n",
       "      <th>Date2</th>\n",
       "    </tr>\n",
       "  </thead>\n",
       "  <tbody>\n",
       "    <tr>\n",
       "      <th>0</th>\n",
       "      <td>Jul 03, 2023</td>\n",
       "      <td>193.78</td>\n",
       "      <td>193.88</td>\n",
       "      <td>191.76</td>\n",
       "      <td>192.46</td>\n",
       "      <td>192.46</td>\n",
       "      <td>31458200</td>\n",
       "      <td>2023-07-03</td>\n",
       "    </tr>\n",
       "    <tr>\n",
       "      <th>1</th>\n",
       "      <td>Jun 30, 2023</td>\n",
       "      <td>191.63</td>\n",
       "      <td>194.48</td>\n",
       "      <td>191.26</td>\n",
       "      <td>193.97</td>\n",
       "      <td>193.97</td>\n",
       "      <td>85069600</td>\n",
       "      <td>2023-06-30</td>\n",
       "    </tr>\n",
       "    <tr>\n",
       "      <th>2</th>\n",
       "      <td>Jun 29, 2023</td>\n",
       "      <td>189.08</td>\n",
       "      <td>190.07</td>\n",
       "      <td>188.94</td>\n",
       "      <td>189.59</td>\n",
       "      <td>189.59</td>\n",
       "      <td>46347300</td>\n",
       "      <td>2023-06-29</td>\n",
       "    </tr>\n",
       "    <tr>\n",
       "      <th>3</th>\n",
       "      <td>Jun 28, 2023</td>\n",
       "      <td>187.93</td>\n",
       "      <td>189.90</td>\n",
       "      <td>187.60</td>\n",
       "      <td>189.25</td>\n",
       "      <td>189.25</td>\n",
       "      <td>51216800</td>\n",
       "      <td>2023-06-28</td>\n",
       "    </tr>\n",
       "    <tr>\n",
       "      <th>4</th>\n",
       "      <td>Jun 27, 2023</td>\n",
       "      <td>185.89</td>\n",
       "      <td>188.39</td>\n",
       "      <td>185.67</td>\n",
       "      <td>188.06</td>\n",
       "      <td>188.06</td>\n",
       "      <td>50730800</td>\n",
       "      <td>2023-06-27</td>\n",
       "    </tr>\n",
       "  </tbody>\n",
       "</table>\n",
       "</div>"
      ],
      "text/plain": [
       "           Date    Open    High     Low  Close*  Adj Close**    Volume   \n",
       "0  Jul 03, 2023  193.78  193.88  191.76  192.46       192.46  31458200  \\\n",
       "1  Jun 30, 2023  191.63  194.48  191.26  193.97       193.97  85069600   \n",
       "2  Jun 29, 2023  189.08  190.07  188.94  189.59       189.59  46347300   \n",
       "3  Jun 28, 2023  187.93  189.90  187.60  189.25       189.25  51216800   \n",
       "4  Jun 27, 2023  185.89  188.39  185.67  188.06       188.06  50730800   \n",
       "\n",
       "       Date2  \n",
       "0 2023-07-03  \n",
       "1 2023-06-30  \n",
       "2 2023-06-29  \n",
       "3 2023-06-28  \n",
       "4 2023-06-27  "
      ]
     },
     "execution_count": 45,
     "metadata": {},
     "output_type": "execute_result"
    }
   ],
   "source": [
    "data[0].head()"
   ]
  },
  {
   "cell_type": "code",
   "execution_count": 46,
   "id": "f47f6614-b0e4-4083-9fd5-ae39794fd941",
   "metadata": {
    "tags": []
   },
   "outputs": [],
   "source": [
    "data[0].set_index(\"Date2\", inplace=True)"
   ]
  },
  {
   "cell_type": "code",
   "execution_count": 47,
   "id": "96f3cfad-f0d6-4b82-a291-bf6a35998706",
   "metadata": {
    "tags": []
   },
   "outputs": [
    {
     "data": {
      "text/html": [
       "<div>\n",
       "<style scoped>\n",
       "    .dataframe tbody tr th:only-of-type {\n",
       "        vertical-align: middle;\n",
       "    }\n",
       "\n",
       "    .dataframe tbody tr th {\n",
       "        vertical-align: top;\n",
       "    }\n",
       "\n",
       "    .dataframe thead th {\n",
       "        text-align: right;\n",
       "    }\n",
       "</style>\n",
       "<table border=\"1\" class=\"dataframe\">\n",
       "  <thead>\n",
       "    <tr style=\"text-align: right;\">\n",
       "      <th></th>\n",
       "      <th>Date</th>\n",
       "      <th>Open</th>\n",
       "      <th>High</th>\n",
       "      <th>Low</th>\n",
       "      <th>Close*</th>\n",
       "      <th>Adj Close**</th>\n",
       "      <th>Volume</th>\n",
       "    </tr>\n",
       "    <tr>\n",
       "      <th>Date2</th>\n",
       "      <th></th>\n",
       "      <th></th>\n",
       "      <th></th>\n",
       "      <th></th>\n",
       "      <th></th>\n",
       "      <th></th>\n",
       "      <th></th>\n",
       "    </tr>\n",
       "  </thead>\n",
       "  <tbody>\n",
       "    <tr>\n",
       "      <th>2023-07-03</th>\n",
       "      <td>Jul 03, 2023</td>\n",
       "      <td>193.78</td>\n",
       "      <td>193.88</td>\n",
       "      <td>191.76</td>\n",
       "      <td>192.46</td>\n",
       "      <td>192.46</td>\n",
       "      <td>31458200</td>\n",
       "    </tr>\n",
       "    <tr>\n",
       "      <th>2023-06-30</th>\n",
       "      <td>Jun 30, 2023</td>\n",
       "      <td>191.63</td>\n",
       "      <td>194.48</td>\n",
       "      <td>191.26</td>\n",
       "      <td>193.97</td>\n",
       "      <td>193.97</td>\n",
       "      <td>85069600</td>\n",
       "    </tr>\n",
       "    <tr>\n",
       "      <th>2023-06-29</th>\n",
       "      <td>Jun 29, 2023</td>\n",
       "      <td>189.08</td>\n",
       "      <td>190.07</td>\n",
       "      <td>188.94</td>\n",
       "      <td>189.59</td>\n",
       "      <td>189.59</td>\n",
       "      <td>46347300</td>\n",
       "    </tr>\n",
       "    <tr>\n",
       "      <th>2023-06-28</th>\n",
       "      <td>Jun 28, 2023</td>\n",
       "      <td>187.93</td>\n",
       "      <td>189.90</td>\n",
       "      <td>187.60</td>\n",
       "      <td>189.25</td>\n",
       "      <td>189.25</td>\n",
       "      <td>51216800</td>\n",
       "    </tr>\n",
       "    <tr>\n",
       "      <th>2023-06-27</th>\n",
       "      <td>Jun 27, 2023</td>\n",
       "      <td>185.89</td>\n",
       "      <td>188.39</td>\n",
       "      <td>185.67</td>\n",
       "      <td>188.06</td>\n",
       "      <td>188.06</td>\n",
       "      <td>50730800</td>\n",
       "    </tr>\n",
       "    <tr>\n",
       "      <th>...</th>\n",
       "      <td>...</td>\n",
       "      <td>...</td>\n",
       "      <td>...</td>\n",
       "      <td>...</td>\n",
       "      <td>...</td>\n",
       "      <td>...</td>\n",
       "      <td>...</td>\n",
       "    </tr>\n",
       "    <tr>\n",
       "      <th>2023-02-16</th>\n",
       "      <td>Feb 16, 2023</td>\n",
       "      <td>153.51</td>\n",
       "      <td>156.33</td>\n",
       "      <td>153.35</td>\n",
       "      <td>153.71</td>\n",
       "      <td>153.50</td>\n",
       "      <td>68167900</td>\n",
       "    </tr>\n",
       "    <tr>\n",
       "      <th>2023-02-15</th>\n",
       "      <td>Feb 15, 2023</td>\n",
       "      <td>153.11</td>\n",
       "      <td>155.50</td>\n",
       "      <td>152.88</td>\n",
       "      <td>155.33</td>\n",
       "      <td>155.12</td>\n",
       "      <td>65573800</td>\n",
       "    </tr>\n",
       "    <tr>\n",
       "      <th>2023-02-14</th>\n",
       "      <td>Feb 14, 2023</td>\n",
       "      <td>152.12</td>\n",
       "      <td>153.77</td>\n",
       "      <td>150.86</td>\n",
       "      <td>153.20</td>\n",
       "      <td>152.99</td>\n",
       "      <td>61707600</td>\n",
       "    </tr>\n",
       "    <tr>\n",
       "      <th>2023-02-13</th>\n",
       "      <td>Feb 13, 2023</td>\n",
       "      <td>150.95</td>\n",
       "      <td>154.26</td>\n",
       "      <td>150.92</td>\n",
       "      <td>153.85</td>\n",
       "      <td>153.64</td>\n",
       "      <td>62199000</td>\n",
       "    </tr>\n",
       "    <tr>\n",
       "      <th>2023-02-10</th>\n",
       "      <td>Feb 10, 2023</td>\n",
       "      <td>149.46</td>\n",
       "      <td>151.34</td>\n",
       "      <td>149.22</td>\n",
       "      <td>151.01</td>\n",
       "      <td>150.80</td>\n",
       "      <td>57450700</td>\n",
       "    </tr>\n",
       "  </tbody>\n",
       "</table>\n",
       "<p>98 rows × 7 columns</p>\n",
       "</div>"
      ],
      "text/plain": [
       "                    Date    Open    High     Low  Close*  Adj Close**   \n",
       "Date2                                                                   \n",
       "2023-07-03  Jul 03, 2023  193.78  193.88  191.76  192.46       192.46  \\\n",
       "2023-06-30  Jun 30, 2023  191.63  194.48  191.26  193.97       193.97   \n",
       "2023-06-29  Jun 29, 2023  189.08  190.07  188.94  189.59       189.59   \n",
       "2023-06-28  Jun 28, 2023  187.93  189.90  187.60  189.25       189.25   \n",
       "2023-06-27  Jun 27, 2023  185.89  188.39  185.67  188.06       188.06   \n",
       "...                  ...     ...     ...     ...     ...          ...   \n",
       "2023-02-16  Feb 16, 2023  153.51  156.33  153.35  153.71       153.50   \n",
       "2023-02-15  Feb 15, 2023  153.11  155.50  152.88  155.33       155.12   \n",
       "2023-02-14  Feb 14, 2023  152.12  153.77  150.86  153.20       152.99   \n",
       "2023-02-13  Feb 13, 2023  150.95  154.26  150.92  153.85       153.64   \n",
       "2023-02-10  Feb 10, 2023  149.46  151.34  149.22  151.01       150.80   \n",
       "\n",
       "              Volume  \n",
       "Date2                 \n",
       "2023-07-03  31458200  \n",
       "2023-06-30  85069600  \n",
       "2023-06-29  46347300  \n",
       "2023-06-28  51216800  \n",
       "2023-06-27  50730800  \n",
       "...              ...  \n",
       "2023-02-16  68167900  \n",
       "2023-02-15  65573800  \n",
       "2023-02-14  61707600  \n",
       "2023-02-13  62199000  \n",
       "2023-02-10  57450700  \n",
       "\n",
       "[98 rows x 7 columns]"
      ]
     },
     "execution_count": 47,
     "metadata": {},
     "output_type": "execute_result"
    }
   ],
   "source": [
    "data[0]"
   ]
  },
  {
   "cell_type": "code",
   "execution_count": 48,
   "id": "5948c80e-f8e5-4066-972a-bf7bf6499f21",
   "metadata": {
    "tags": []
   },
   "outputs": [
    {
     "name": "stdout",
     "output_type": "stream",
     "text": [
      "<class 'pandas.core.frame.DataFrame'>\n",
      "DatetimeIndex: 98 entries, 2023-07-03 to 2023-02-10\n",
      "Data columns (total 7 columns):\n",
      " #   Column       Non-Null Count  Dtype  \n",
      "---  ------       --------------  -----  \n",
      " 0   Date         98 non-null     object \n",
      " 1   Open         98 non-null     object \n",
      " 2   High         98 non-null     object \n",
      " 3   Low          98 non-null     object \n",
      " 4   Close*       98 non-null     object \n",
      " 5   Adj Close**  98 non-null     float64\n",
      " 6   Volume       98 non-null     object \n",
      "dtypes: float64(1), object(6)\n",
      "memory usage: 6.1+ KB\n"
     ]
    }
   ],
   "source": [
    "data[0].info()"
   ]
  },
  {
   "cell_type": "code",
   "execution_count": 49,
   "id": "e152a2e4-cb15-4e09-970a-17f8599e226d",
   "metadata": {
    "tags": []
   },
   "outputs": [
    {
     "data": {
      "text/plain": [
       "<Axes: title={'center': 'AAPL Stock Price'}, xlabel='Date2'>"
      ]
     },
     "execution_count": 49,
     "metadata": {},
     "output_type": "execute_result"
    },
    {
     "data": {
      "image/png": "[encoded data removed]",
      "text/plain": [
       "<Figure size 640x480 with 1 Axes>"
      ]
     },
     "metadata": {},
     "output_type": "display_data"
    }
   ],
   "source": [
    "data[0][\"Adj Close**\"].plot(title=\"AAPL Stock Price\", grid=True)"
   ]
  },
  {
   "cell_type": "code",
   "execution_count": 50,
   "id": "04c40b5f-d60c-4a40-9ac5-5e3e294278a7",
   "metadata": {
    "tags": []
   },
   "outputs": [],
   "source": [
    "data[0].to_csv(\"AAPL_Stock.csv\")"
   ]
  },
  {
   "cell_type": "code",
   "execution_count": 1,
   "id": "8a1504dc-4d37-437b-a985-e4c771ef112e",
   "metadata": {
    "tags": []
   },
   "outputs": [],
   "source": [
    "import requests"
   ]
  },
  {
   "cell_type": "code",
   "execution_count": 2,
   "id": "ce073556-29b2-44b7-8c73-0571d7ae0a55",
   "metadata": {
    "tags": []
   },
   "outputs": [],
   "source": [
    "response = requests.get(\"https://www.yahoo.co.jp/\")"
   ]
  },
  {
   "cell_type": "code",
   "execution_count": 3,
   "id": "44672ff1-c58c-485a-9419-3a96e83efaa3",
   "metadata": {
    "tags": []
   },
   "outputs": [
    {
     "data": {
      "text/plain": [
       "200"
      ]
     },
     "execution_count": 3,
     "metadata": {},
     "output_type": "execute_result"
    }
   ],
   "source": [
    "response.status_code"
   ]
  },
  {
   "cell_type": "code",
   "execution_count": 4,
   "id": "08d3554e-3c5c-4a7d-94f1-fbdc552cb93a",
   "metadata": {
    "tags": []
   },
   "outputs": [
    {
     "data": {
      "text/plain": [
       "'<!DOCTYPE html><html lang=\"ja\"><head><meta charSet=\"utf-8\"/><meta http-equiv=\"X-UA-Compatible\" content=\"IE=edge,chrome=1\"/><title>Yahoo! JAPAN</title><meta name=\"description\" content=\"あなたの毎日をアップデートする情報ポータル。検索、ニュース、天気、スポーツ、メール、ショッピング、オークションなど便利なサービスを展開しています。\"/><meta name=\"robots\" content=\"noodp\"/><meta name=\"viewport\" content=\"width=1010\"/><link rel=\"dns-prefetch\" href=\"//s.yimg.jp\"/><link rel=\"dns-prefetch\" href=\"//yads.c.yimg.jp\"/><meta name=\"google-site-verification\" content=\"fsLMOiigp5fIpCDMEVodQnQC7jIY1K3UXW5QkQcBmVs\"/><link rel=\"alternate\" href=\"android-app://jp.co.yahoo.android.yjtop/yahoojapan/home/top\"/><link rel=\"alternate\" media=\"only screen and (max-width: 640px)\" href=\"https://m.yahoo.co.jp/\"/><link rel=\"canonical\" href=\"https://www.yahoo.co.jp/\"/><link rel=\"shortcut icon\" href=\"https://s.yimg.jp/c/icon/s/bsc/2.0/favicon.ico\" type=\"image/vnd.microsoft.icon\"/><link rel=\"icon\" href=\"https://s.yimg.jp/c/icon/s/bsc/2.0/favicon.ico\" type=\"image/vnd.microsoft.icon\"/><link rel=\"apple-touch-icon\" href=\"https://s.yimg.jp/c/icon/s/bsc/2.0/y120.png\"/><meta property=\"og:title\" content=\"Yahoo! JAPAN\"/><meta property=\"og:type\" content=\"website\"/><meta property=\"og:url\" content=\"https://www.yahoo.co.jp/\"/><meta property=\"og:image\" content=\"https://s.yimg.jp/images/top/ogp/fb_y_1500px.png\"/><meta property=\"og:description\" content=\"あなたの毎日をアップデートする情報ポータル。検索、ニュース、天気、スポーツ、メール、ショッピング、オークションなど便利なサービスを展開しています。\"/><meta property=\"og:site_name\" content=\"Yahoo! JAPAN\"/><meta property=\"twitter:card\" content=\"summary_large_image\"/><meta property=\"twitter:site\" content=\"@Yahoo_JAPAN_PR\"/><meta property=\"twitter:image\" content=\"https://s.yimg.jp/images/top/ogp/tw_y_1400px.png\"/><meta property=\"fb:app_id\" content=\"472870002762883\"/><link rel=\"stylesheet\" href=\"//s.yimg.jp/images/yjtop-pc/orion/v164/bundle_v164.css\"/><script>window.onbeforeunload = function() {}</script><script>\\n            var TLDataContext = {\\n              ual : {\\n                pageview : {\\n                  service: \"toppage\",\\n                  apptype: \"web\",\\n                  opttype: \"pc\",\\n                  hierarchy_id: \"2079181999\",\\n                  content_id : \\'\\',\\n                  id_type : \\'\\',\\n                  nopv : \\'false\\',\\n                  mtestid: \"\",\\n                  ss_join_id : \\'\\',\\n                  ss_join_id_type : \\'\\',\\n                }\\n              }\\n            };</script><script>(function () {\\n              var tagjs = document.createElement(\"script\");\\n              var s = document.getElementsByTagName(\"script\")[0];\\n              tagjs.async = true;\\n              tagjs.src = \"https://s.yjtag.jp/tag.js#site=2wzBV9u\";\\n              s.parentNode.insertBefore(tagjs, s);\\n            }());</script><script src=\"https://yads.c.yimg.jp/js/yads-async.js\"></script><link rel=\"preconnect\" href=\"//logql.yahoo.co.jp\"/><link rel=\"preconnect\" href=\"//yjtag.yahoo.co.jp\"/><link rel=\"preconnect\" href=\"//yeas.yahoo.co.jp\"/><link rel=\"preconnect\" href=\"//cas.criteo.com\"/><link rel=\"preconnect\" href=\"//ybx-test.yahoo.co.jp\"/><link rel=\"preconnect\" href=\"//quriosity.yahoo.co.jp\"/></head><body><noscript><iframe title=\"PageCount\" src=\"https://b.yjtag.jp/iframe?c=2wzBV9u\" width=\"1\" height=\"1\" frameBorder=\"0\" scrolling=\"no\" marginHeight=\"0\" marginWidth=\"0\"></iframe></noscript><script>bucket_id_for_ad = \\'\\'; bucket_ids = \\'\\';</script><script>window.YAHOO = window.YAHOO || {};\\n              window.YAHOO.JP = window.YAHOO.JP || {};\\n              window.YAHOO.JP.Fp = window.YAHOO.JP.Fp || {};\\n              window.YAHOO.JP.Fp.ads = window.YAHOO.JP.Fp.ads || {};\\n              window.YAHOO.JP.Fp.ads.sidehide = true;</script><div id=\"wrapper\" class=\"_1DyDVN-3FsqGF_QKLg1M9G\" data-rma-pos=\"GYJ\"><div id=\"ContentWrapper\"><header class=\"_2ZLZK6xsD6ls7W_ryou_ED\"><div id=\"Masthead\" class=\"_1mo4G7fxHMqUog3vJGxY2_ ult__mods\"><h1 class=\"_3YIqBohnzWyU3NQ8zb-mQI _1dr5aVDbNPF63JCS2bJhij\"><a class=\"yMWCYupQNdgppL-NV6sMi _3sAlKGsIBCxTUbNi86oSjt\" href=\"https://www.yahoo.co.jp\" data-cl-params=\"_cl_vmodule:header;_cl_link:logo;_cl_position:0\">Yahoo! JAPAN</a></h1><div class=\"_15h66qPnVy4iQzPepgAaiY\"><ul class=\"_6iDyy-CUks251J9k1epBP\"><li class=\"_3gsf81y-6_ZDi-j-tMaVHe\"><a class=\"yMWCYupQNdgppL-NV6sMi _3sAlKGsIBCxTUbNi86oSjt\" href=\"https://rdr.yahoo.co.jp/v1/label=L3ByZW1pdW0veXRvcC9pY29uLw/p=premium_datalake/d=premium_redirect/tk=8d38b1c7-f7b7-4450-9332-535e226244ff/ru=aHR0cHM6Ly9wcmVtaXVtLnlhaG9vLmNvLmpwLw/\" data-cl-params=\"_cl_vmodule:header;_cl_link:premium;_cl_position:0\" aria-label=\"プレミアムへ遷移する\"><p class=\"oLvk9L5Yk-9JOuzi-OHW5\"><span class=\"t_jb9bKlgIcajcRS2hZAP\">プレミアム</span><span class=\"_2Uq6Pw5lfFfxr_OD36xHp6 _1dr5aVDbNPF63JCS2bJhij Y8gFtzzcdGMdFngRO9qFV\" style=\"width:36px;height:36px\"></span></p></a></li><li class=\"_3gsf81y-6_ZDi-j-tMaVHe\"><a class=\"yMWCYupQNdgppL-NV6sMi _3sAlKGsIBCxTUbNi86oSjt\" href=\"https://www.paypay-card.co.jp?utm_source=YTOP&amp;utm_medium=mhd&amp;utm_campaign=pc\" data-cl-params=\"_cl_vmodule:header;_cl_link:paypaycard;_cl_position:0\" aria-label=\"カードへ遷移する\"><p class=\"oLvk9L5Yk-9JOuzi-OHW5\"><span class=\"t_jb9bKlgIcajcRS2hZAP\">カード</span><span class=\"_2Uq6Pw5lfFfxr_OD36xHp6 _1dr5aVDbNPF63JCS2bJhij P1WzQfoRll3q8GIGneUYg\" style=\"width:36px;height:38px\"></span></p></a></li><li class=\"_3gsf81y-6_ZDi-j-tMaVHe\"><a class=\"yMWCYupQNdgppL-NV6sMi _3sAlKGsIBCxTUbNi86oSjt\" href=\"https://mail.yahoo.co.jp/\" data-cl-params=\"_cl_vmodule:header;_cl_link:mail;_cl_position:0\" aria-label=\"メールへ遷移する\"><p class=\"oLvk9L5Yk-9JOuzi-OHW5\"><span class=\"t_jb9bKlgIcajcRS2hZAP\">メール</span><span class=\"_2Uq6Pw5lfFfxr_OD36xHp6 _1dr5aVDbNPF63JCS2bJhij _3Qi5P0lTFbNkWishPzz8tb\" style=\"width:36px;height:38px\"></span></p></a></li></ul></div><div class=\"_2TzkLph0QyL9hAv5c53WeY\"><ul class=\"_6iDyy-CUks251J9k1epBP\"><li class=\"_3gsf81y-6_ZDi-j-tMaVHe\"><a class=\"yMWCYupQNdgppL-NV6sMi _3sAlKGsIBCxTUbNi86oSjt\" href=\"https://travel.yahoo.co.jp/ikCo.ashx?cosid=y_010017&amp;cosuid=ytmh&amp;surl=%2F&amp;sc_e=ytmh\" data-cl-params=\"_cl_vmodule:header;_cl_link:travel;_cl_position:0\" aria-label=\"トラベルへ遷移する\"><p class=\"oLvk9L5Yk-9JOuzi-OHW5\"><span class=\"t_jb9bKlgIcajcRS2hZAP\">トラベル</span><span class=\"_2Uq6Pw5lfFfxr_OD36xHp6 _1dr5aVDbNPF63JCS2bJhij _1yEKxUFSw-Xv2gaBZsYRuI\" style=\"width:38px;height:38px\"></span></p></a></li><li class=\"_3gsf81y-6_ZDi-j-tMaVHe\"><a class=\"yMWCYupQNdgppL-NV6sMi _3sAlKGsIBCxTUbNi86oSjt\" href=\"https://auctions.yahoo.co.jp/\" data-cl-params=\"_cl_vmodule:header;_cl_link:auction;_cl_position:0\" aria-label=\"ヤフオク!へ遷移する\"><p class=\"oLvk9L5Yk-9JOuzi-OHW5\"><span class=\"t_jb9bKlgIcajcRS2hZAP\">ヤフオク!</span><span class=\"_2Uq6Pw5lfFfxr_OD36xHp6 _1dr5aVDbNPF63JCS2bJhij _1K47f2oTmrnpusFOpVVqfY\" style=\"width:38px;height:38px\"></span></p></a></li><li class=\"_3gsf81y-6_ZDi-j-tMaVHe\"><a class=\"yMWCYupQNdgppL-NV6sMi _3sAlKGsIBCxTUbNi86oSjt\" href=\"https://shopping.yahoo.co.jp/?sc_e=ytmh\" data-cl-params=\"_cl_vmodule:header;_cl_link:shopping;_cl_position:0\" aria-label=\"ショッピングへ遷移する\"><p class=\"oLvk9L5Yk-9JOuzi-OHW5\"><span class=\"t_jb9bKlgIcajcRS2hZAP\">ショッピング</span><span class=\"_2Uq6Pw5lfFfxr_OD36xHp6 _1dr5aVDbNPF63JCS2bJhij MOLSPrtOUmdnYy_LgNt2f\" style=\"width:38px;height:38px\"></span></p></a></li></ul></div></div><section id=\"search\" class=\"ult__mods _1w9b7DyFfTztW-X6_zmnAE\"><div class=\"_2pgJollUxnY09eN4CPKMrS\"><h1 class=\"_1iMgPNrCw806mefWspPVMk _3v9VCsGKsktTB7eaN70w-n\">検索</h1><ul class=\"ZMlm7LHfZujKgm8NY-0N5\"><li><a href=\"https://search.yahoo.co.jp/\" class=\"y9H1Sj9hz4OlEq2_aEt5E\" aria-label=\"ウェブで検索\" tabindex=\"-1\" data-cl-params=\"_cl_vmodule:search;_cl_link:web_tab;_cl_position:0\"><span class=\"fQMqQTGJTbIMxjQwZA2zk _3tGRl6x9iIWRiFTkKl3kcR\"><span class=\"_1uQvvM7M_K0hc4e29lRa8 _2B_ETzo6nh1JNMLebSi_2p\">ウェブ</span></span></a></li><li><a href=\"https://search.yahoo.co.jp/image\" class=\"y9H1Sj9hz4OlEq2_aEt5E\" aria-label=\"画像で検索\" tabindex=\"-1\" data-cl-params=\"_cl_vmodule:search;_cl_link:img;_cl_position:0\"><span class=\"fQMqQTGJTbIMxjQwZA2zk _3tGRl6x9iIWRiFTkKl3kcR\"><span class=\"_1uQvvM7M_K0hc4e29lRa8\">画像</span></span></a></li><li><a href=\"https://search.yahoo.co.jp/video\" class=\"y9H1Sj9hz4OlEq2_aEt5E\" aria-label=\"動画で検索\" tabindex=\"-1\" data-cl-params=\"_cl_vmodule:search;_cl_link:vd;_cl_position:0\"><span class=\"fQMqQTGJTbIMxjQwZA2zk _3tGRl6x9iIWRiFTkKl3kcR\"><span class=\"_1uQvvM7M_K0hc4e29lRa8\">動画</span></span></a></li><li><a href=\"https://chiebukuro.yahoo.co.jp/\" class=\"y9H1Sj9hz4OlEq2_aEt5E\" aria-label=\"知恵袋で検索\" tabindex=\"-1\" data-cl-params=\"_cl_vmodule:search;_cl_link:chie;_cl_position:0\"><span class=\"fQMqQTGJTbIMxjQwZA2zk _3tGRl6x9iIWRiFTkKl3kcR\"><span class=\"_1uQvvM7M_K0hc4e29lRa8\">知恵袋</span></span></a></li><li><a href=\"https://map.yahoo.co.jp/\" class=\"y9H1Sj9hz4OlEq2_aEt5E\" aria-label=\"地図で検索\" tabindex=\"-1\" data-cl-params=\"_cl_vmodule:search;_cl_link:map;_cl_position:0\"><span class=\"fQMqQTGJTbIMxjQwZA2zk _3tGRl6x9iIWRiFTkKl3kcR\"><span class=\"_1uQvvM7M_K0hc4e29lRa8\">地図</span></span></a></li><li><a href=\"https://search.yahoo.co.jp/realtime\" class=\"y9H1Sj9hz4OlEq2_aEt5E\" aria-label=\"リアルタイムで検索\" tabindex=\"-1\" data-cl-params=\"_cl_vmodule:search;_cl_link:realtime;_cl_position:0\"><span class=\"fQMqQTGJTbIMxjQwZA2zk _3tGRl6x9iIWRiFTkKl3kcR\"><span class=\"_1uQvvM7M_K0hc4e29lRa8\">リアルタイム</span></span></a></li><li><a href=\"https://services.yahoo.co.jp/\" class=\"y9H1Sj9hz4OlEq2_aEt5E\" aria-label=\"一覧で検索\" tabindex=\"-1\" data-cl-params=\"_cl_vmodule:search;_cl_link:svc;_cl_position:0\"><span class=\"fQMqQTGJTbIMxjQwZA2zk _3tGRl6x9iIWRiFTkKl3kcR\"><span class=\"_1uQvvM7M_K0hc4e29lRa8\">一覧</span></span></a></li></ul><form action=\"https://search.yahoo.co.jp/search\" name=\"sf1\" method=\"get\" role=\"search\"><fieldset><legend>Yahoo!検索</legend><span class=\"DqAzAIGI9nNwKOFNu3ohH\"><input type=\"search\" class=\"n1Bw-ocbo_PYJUKDrSyHN\" name=\"p\" autoComplete=\"on\" aria-label=\"検索したいキーワードを入力してください\" aria-live=\"assertive\"/><button class=\"_3doZ1jaGSB3ytjCOeYg5nG\" type=\"submit\" data-cl-params=\"_cl_vmodule:search;_cl_link:web;_cl_position:0\"><span class=\"_4L_am9wbgiSNBUD50wbDA\"><span class=\"_3oyNASbPKmiq-iwh602OKt\">検索</span></span></button></span></fieldset><input type=\"hidden\" name=\"fr\" value=\"top_table\"/><input type=\"hidden\" name=\"ei\" value=\"UTF-8\"/><input type=\"hidden\" name=\"ts\"/><input type=\"hidden\" name=\"aq\" value=\"\"/></form></div></section><div id=\"Message\" class=\"ult__mods\"><noscript><section class=\"_1bzp-M2uxs86VaYq0IxNuy\"><h1 class=\"_2lQjNEXfrs2C14psQwQ5ai _3v9VCsGKsktTB7eaN70w-n\">JavaScriptの設定について</h1><div class=\"_19J_Z9KVKnQzOVKA0jkC4e\"><p><span class=\"fQMqQTGJTbIMxjQwZA2zk _3tGRl6x9iIWRiFTkKl3kcR\">JavaScriptが無効になっています。すべての機能を利用するためには、有効に設定してください。<br/>詳しくは「<a class=\"_1NzGMsC3awTFzjzXnvX-zV\" data-cl-params=\"_cl_vmodule:message;_cl_link:jsof;_cl_position:0\" href=\"https://support.yahoo-net.jp/noscript\">JavaScriptの設定方法</a>」をご覧ください。</span></p></div></section></noscript><section class=\"_1bzp-M2uxs86VaYq0IxNuy\"><h1 class=\"_2lQjNEXfrs2C14psQwQ5ai _3v9VCsGKsktTB7eaN70w-n\">推奨ブラウザーについて</h1><div class=\"_19J_Z9KVKnQzOVKA0jkC4e\"><p><span class=\"fQMqQTGJTbIMxjQwZA2zk _3tGRl6x9iIWRiFTkKl3kcR\">Yahoo! JAPANトップページの機能を正しくご利用いただくには、下記の環境が必要です。<span class=\"_1XWJVEK6heb_Paj9eU6R1u\">パソコンでご利用のお客様<br/>Windows：Edge 最新版 / Chrome 最新版 / Firefox 最新版\\u3000macOS：Safari 14.0以上</span><span class=\"_1XWJVEK6heb_Paj9eU6R1u\">タブレットでご利用のお客様<br/>iOS 11.0以降、または、Android4.4以降のOSに標準搭載されたブラウザー<br/>※日本国内版として発売されている端末でご利用ください。</span></span></p></div></section></div><section id=\"TopLink\" class=\"_2Pb7ROIJrC3Wj9bPxN4J7D ult__mods\"><h1 class=\"T29vXGZu-fmHRJfd123YZ _3v9VCsGKsktTB7eaN70w-n\">お知らせ</h1><ul class=\"QoCp7KDEt29FbN5hCjsCx\" aria-label=\"お知らせ\"><li class=\"_2ZzfUQqYuRip1h-aXoiCHV\"><a class=\"yMWCYupQNdgppL-NV6sMi _3sAlKGsIBCxTUbNi86oSjt\" href=\"https://shopping.yahoo.co.jp/promotion/gateway/public/fukushima/\" data-cl-params=\"_cl_vmodule:toplink;_cl_link:link;_cl_position:1;aid:3721703\"><span class=\"fQMqQTGJTbIMxjQwZA2zk _3tGRl6x9iIWRiFTkKl3kcR\"><span class=\"_3S2Wdrkt1LKANaWcLrZToT\">桃や和牛、地酒など15％オフ\\u3000福島の旬を体感</span></span></a></li><li class=\"_2ZzfUQqYuRip1h-aXoiCHV\"><a class=\"yMWCYupQNdgppL-NV6sMi _3sAlKGsIBCxTUbNi86oSjt\" href=\"https://ebookjapan.yahoo.co.jp/sale/31112/\" data-cl-params=\"_cl_vmodule:toplink;_cl_link:link;_cl_position:2;aid:3721715\"><span class=\"fQMqQTGJTbIMxjQwZA2zk _3tGRl6x9iIWRiFTkKl3kcR\"><span class=\"_3S2Wdrkt1LKANaWcLrZToT\">人気ガンダム作品が150冊以上\\u3000最大50％オフ</span></span></a></li><li class=\"_2ZzfUQqYuRip1h-aXoiCHV\"><a class=\"yMWCYupQNdgppL-NV6sMi _3sAlKGsIBCxTUbNi86oSjt\" href=\"https://yahoo.jp/r-X1e2\" data-cl-params=\"_cl_vmodule:toplink;_cl_link:link;_cl_position:3;aid:3721727\"><span class=\"fQMqQTGJTbIMxjQwZA2zk _3tGRl6x9iIWRiFTkKl3kcR\"><span class=\"_3S2Wdrkt1LKANaWcLrZToT\">あなたの寄付が、苦しむ人や被災地を救う</span></span></a></li></ul></section></header><main class=\"_1E44HBKDmnr5AqaU83dU3b\"><div class=\"T0vodIJQXVKLbGKVRIOPQ\"><nav><div class=\"_1nJ39BFpWaPCIWutB-olO8 _171Q0OxQF2Vk3J_CxMxajb -DmdTfmK9dpsdI1vggc-z\"><header class=\"_37AoRe1Io5JOtSIPDdUQCF _1m5d7MNAIFyOM71xJdSK_s _3v9VCsGKsktTB7eaN70w-n\"><h1 class=\"_2LJWWRbnY7KqEPyWQukxFD _2vlyNSs41eUR8HDyQ8iUvQ\">主なサービス</h1></header><div id=\"ToolList\"><ul class=\"_1glrFPJpWbefWf8qr3k4FU\" aria-label=\"主なサービス\"><li><div class=\"_3Ip8DQAJYKfPeByyVN-utZ\"><a class=\"yMWCYupQNdgppL-NV6sMi _3sAlKGsIBCxTUbNi86oSjt cl-nofollow\" href=\"https://shopping.yahoo.co.jp/?sc_e=ytc\" aria-label=\"ショッピングへ遷移する\"><p class=\"_2bBRLhI5ZpVYu0tuHZEFrn\"><span class=\"pz0On1w4yAviBGMdKItoQ\"><span class=\"fQMqQTGJTbIMxjQwZA2zk _3tGRl6x9iIWRiFTkKl3kcR\">ショッピング</span></span><span class=\"_1Al3K70np2V_Ev1eGkfsBm\"><span class=\"_2Uq6Pw5lfFfxr_OD36xHp6 _1dr5aVDbNPF63JCS2bJhij MOLSPrtOUmdnYy_LgNt2f\" style=\"width:20px;height:20px\"></span></span></p></a></div></li><li><div class=\"_3Ip8DQAJYKfPeByyVN-utZ\"><a class=\"yMWCYupQNdgppL-NV6sMi _3sAlKGsIBCxTUbNi86oSjt cl-nofollow\" href=\"https://auctions.yahoo.co.jp\" aria-label=\"ヤフオク!へ遷移する\"><p class=\"_2bBRLhI5ZpVYu0tuHZEFrn\"><span class=\"pz0On1w4yAviBGMdKItoQ\"><span class=\"fQMqQTGJTbIMxjQwZA2zk _3tGRl6x9iIWRiFTkKl3kcR\">ヤフオク!</span></span><span class=\"_1Al3K70np2V_Ev1eGkfsBm\"><span class=\"_2Uq6Pw5lfFfxr_OD36xHp6 _1dr5aVDbNPF63JCS2bJhij _1K47f2oTmrnpusFOpVVqfY\" style=\"width:20px;height:20px\"></span></span></p></a></div></li><li><div class=\"_3Ip8DQAJYKfPeByyVN-utZ\"><a class=\"yMWCYupQNdgppL-NV6sMi _3sAlKGsIBCxTUbNi86oSjt cl-nofollow\" href=\"https://app.adjust.com/1kmi1m2?redirect=https%3A%2F%2Fpaypayfleamarket.yahoo.co.jp%2F%3Fcpt_s%3Dytopmedia%26cpt_m%3Dkotei%26cpt_n%3Dcontent%26cpt_c%3Dytopmedia\" aria-label=\"PayPayフリマへ遷移する\"><p class=\"_2bBRLhI5ZpVYu0tuHZEFrn\"><span class=\"pz0On1w4yAviBGMdKItoQ\"><span class=\"fQMqQTGJTbIMxjQwZA2zk _3tGRl6x9iIWRiFTkKl3kcR\">PayPayフリマ</span></span><span class=\"_1Al3K70np2V_Ev1eGkfsBm\"><span class=\"_2Uq6Pw5lfFfxr_OD36xHp6 _1dr5aVDbNPF63JCS2bJhij _3zb-zxOYGPoHJ2-_Ie8y8T\" style=\"width:20px;height:20px\"></span></span></p></a></div></li><li><div class=\"_3Ip8DQAJYKfPeByyVN-utZ\"><a class=\"yMWCYupQNdgppL-NV6sMi _3sAlKGsIBCxTUbNi86oSjt cl-nofollow\" href=\"https://zozo.jp/?utm_source=yahoo&amp;utm_medium=referral&amp;utm_campaign=web_ytop-leftcolumn\" aria-label=\"ZOZOTOWNへ遷移する\"><p class=\"_2bBRLhI5ZpVYu0tuHZEFrn\"><span class=\"pz0On1w4yAviBGMdKItoQ\"><span class=\"fQMqQTGJTbIMxjQwZA2zk _3tGRl6x9iIWRiFTkKl3kcR\">ZOZOTOWN</span></span><span class=\"_1Al3K70np2V_Ev1eGkfsBm\"><span class=\"_2Uq6Pw5lfFfxr_OD36xHp6 _1dr5aVDbNPF63JCS2bJhij _2VdNwkD_q8hjK0ZyvATgab\" style=\"width:20px;height:20px\"></span></span></p></a></div></li><li><div class=\"_3Ip8DQAJYKfPeByyVN-utZ\"><a class=\"yMWCYupQNdgppL-NV6sMi _3sAlKGsIBCxTUbNi86oSjt cl-nofollow\" href=\"https://lohaco.yahoo.co.jp/?bk=t&amp;sc_e=j_as_ya_tc_n&amp;iscr=1\" aria-label=\"LOHACOへ遷移する\"><p class=\"_2bBRLhI5ZpVYu0tuHZEFrn\"><span class=\"pz0On1w4yAviBGMdKItoQ\"><span class=\"fQMqQTGJTbIMxjQwZA2zk _3tGRl6x9iIWRiFTkKl3kcR\">LOHACO</span></span><span class=\"_1Al3K70np2V_Ev1eGkfsBm\"><span class=\"_2Uq6Pw5lfFfxr_OD36xHp6 _1dr5aVDbNPF63JCS2bJhij _3xvmznkMqRitO0Iqn3ckur\" style=\"width:20px;height:20px\"></span></span></p></a></div></li><li><div class=\"_3Ip8DQAJYKfPeByyVN-utZ\"><a class=\"yMWCYupQNdgppL-NV6sMi _3sAlKGsIBCxTUbNi86oSjt cl-nofollow\" href=\"https://travel.yahoo.co.jp/ikCo.ashx?cosid=y_010002&amp;cosuid=ytsl&amp;surl=%2F&amp;sc_e=ytsl\" aria-label=\"トラベルへ遷移する\"><p class=\"_2bBRLhI5ZpVYu0tuHZEFrn\"><span class=\"pz0On1w4yAviBGMdKItoQ\"><span class=\"fQMqQTGJTbIMxjQwZA2zk _3tGRl6x9iIWRiFTkKl3kcR\">トラベル</span></span><span class=\"_1Al3K70np2V_Ev1eGkfsBm\"><span class=\"_2Uq6Pw5lfFfxr_OD36xHp6 _1dr5aVDbNPF63JCS2bJhij _1yEKxUFSw-Xv2gaBZsYRuI\" style=\"width:20px;height:20px\"></span></span></p></a></div></li><li><div class=\"_3Ip8DQAJYKfPeByyVN-utZ\"><a class=\"yMWCYupQNdgppL-NV6sMi _3sAlKGsIBCxTUbNi86oSjt cl-nofollow\" href=\"https://www.ikyu.com/ikCo.ashx?cosid=ik010002&amp;surl=%2F&amp;sc_e=ytc_pc_ikyu\" aria-label=\"一休.comへ遷移する\"><p class=\"_2bBRLhI5ZpVYu0tuHZEFrn\"><span class=\"pz0On1w4yAviBGMdKItoQ\"><span class=\"fQMqQTGJTbIMxjQwZA2zk _3tGRl6x9iIWRiFTkKl3kcR\">一休.com</span></span><span class=\"_1Al3K70np2V_Ev1eGkfsBm\"><span class=\"_2Uq6Pw5lfFfxr_OD36xHp6 _1dr5aVDbNPF63JCS2bJhij daLkyi7PiGXeFyVYTU_9n\" style=\"width:20px;height:20px\"></span></span></p></a></div></li><li><div class=\"_3Ip8DQAJYKfPeByyVN-utZ\"><a class=\"yMWCYupQNdgppL-NV6sMi _3sAlKGsIBCxTUbNi86oSjt cl-nofollow\" href=\"https://restaurant.ikyu.com/rsCosite.asp?CosNo=10000175&amp;CosUrl=\" aria-label=\"一休.comレストランへ遷移する\"><p class=\"_2bBRLhI5ZpVYu0tuHZEFrn\"><span class=\"pz0On1w4yAviBGMdKItoQ\"><span class=\"fQMqQTGJTbIMxjQwZA2zk _3tGRl6x9iIWRiFTkKl3kcR\">一休.comレストラン</span></span><span class=\"_1Al3K70np2V_Ev1eGkfsBm\"><span class=\"_2Uq6Pw5lfFfxr_OD36xHp6 _1dr5aVDbNPF63JCS2bJhij _1z4Le4zkghapVZCQm9RCy8\" style=\"width:20px;height:20px\"></span></span></p></a></div></li><li><div class=\"_3Ip8DQAJYKfPeByyVN-utZ\"><a class=\"yMWCYupQNdgppL-NV6sMi _3sAlKGsIBCxTUbNi86oSjt cl-nofollow\" href=\"https://paypaygourmet.yahoo.co.jp/?sc_e=ytc\" aria-label=\"PayPayグルメへ遷移する\"><p class=\"_2bBRLhI5ZpVYu0tuHZEFrn\"><span class=\"pz0On1w4yAviBGMdKItoQ\"><span class=\"fQMqQTGJTbIMxjQwZA2zk _3tGRl6x9iIWRiFTkKl3kcR\">PayPayグルメ</span></span><span class=\"_1Al3K70np2V_Ev1eGkfsBm\"><span class=\"_2Uq6Pw5lfFfxr_OD36xHp6 _1dr5aVDbNPF63JCS2bJhij PgUs6FV7zVPjsTeGUP8wT\" style=\"width:20px;height:20px\"></span></span></p></a></div></li><li><div class=\"_3Ip8DQAJYKfPeByyVN-utZ\"><a class=\"yMWCYupQNdgppL-NV6sMi _3sAlKGsIBCxTUbNi86oSjt cl-nofollow\" href=\"https://demae-can.com/?utm_source=yahoo&amp;utm_medium=toplink&amp;utm_campaign=demaecantop\" aria-label=\"出前館へ遷移する\"><p class=\"_2bBRLhI5ZpVYu0tuHZEFrn\"><span class=\"pz0On1w4yAviBGMdKItoQ\"><span class=\"fQMqQTGJTbIMxjQwZA2zk _3tGRl6x9iIWRiFTkKl3kcR\">出前館</span></span><span class=\"_1Al3K70np2V_Ev1eGkfsBm\"><span class=\"_2Uq6Pw5lfFfxr_OD36xHp6 _1dr5aVDbNPF63JCS2bJhij NuRliOifOckuQ9kobVaI9\" style=\"width:20px;height:20px\"></span></span></p></a></div></li></ul></div><footer id=\"ToolFooter\" class=\"_3wZKJtfV8AYYaTP-zoyO9O ult__mods\"><a class=\"yMWCYupQNdgppL-NV6sMi _3sAlKGsIBCxTUbNi86oSjt\" href=\"https://services.yahoo.co.jp/\" data-cl-params=\"_cl_vmodule:tool;_cl_link:list;_cl_position:0\" aria-label=\"Yahoo! JAPANのサービス一覧\"><dl class=\"STepvEgbaZ0rLEqfER-qm\"><dt class=\"W2bretj6vyf8QDes2gkQA\"><span class=\"fQMqQTGJTbIMxjQwZA2zk _3tGRl6x9iIWRiFTkKl3kcR\">サービス一覧</span></dt><dd class=\"_37zK--zuySKLzNE12rgdHL\"><span class=\"_2Uq6Pw5lfFfxr_OD36xHp6 _1dr5aVDbNPF63JCS2bJhij _3WrFs0ChLr_s9-gBqS7yts\" style=\"width:12px;height:12px\"></span></dd></dl></a></footer></div></nav></div><div class=\"_18kxl0qTaDA-GTdvTQKmFY\"><div class=\"_2DunygeBZHdgHX_Gih3GC4\" id=\"Topics\"><article><div class=\"_1nJ39BFpWaPCIWutB-olO8 -DmdTfmK9dpsdI1vggc-z\"><header class=\"_3WRl3h4EAx9fdzwK76sfHC\"><h1 class=\"_2LJWWRbnY7KqEPyWQukxFD _9YxVmCAhrwLz2V6qXWqBJ\" aria-label=\"Yahoo!ニュース\">ニュース</h1></header><section id=\"tabpanelTopics1\" class=\"ult__mods\" role=\"tabpanel\" aria-labelledby=\"tabTopics1\" aria-hidden=\"false\"><header class=\"_5swsXRdQMtHOvhS2bwHid _3v9VCsGKsktTB7eaN70w-n\"><h1>主要 ニュース</h1></header><div class=\"_1XAfHUWtx6tfYZuWDVjNxZ\"><div class=\"_2jjSS8r_I9Zd6O9NFJtDN-\" aria-label=\"主要 ニュース\"><p class=\"_2vq5UBfOFpYcyqNRy51gDf\"><span class=\"fQMqQTGJTbIMxjQwZA2zk _2VDw54wcDejORZkozpOysW\">7/6(木) 21:59更新</span></p><ul><li class=\"_2j0udhv5jERZtYzddeDwcv\"><article class=\"QLtbNZwO-lssuRUcWewbd\" data-ual-view-type=\"list\" data-ual=\"id_type:shannon_article;content_id:2f3a700379743308359e47ef0c7d0deb68022643;element_id:first-main-topics-text\"><a class=\"yMWCYupQNdgppL-NV6sMi _3sAlKGsIBCxTUbNi86oSjt\" href=\"https://news.yahoo.co.jp/pickup/6468625\" data-cl-params=\"_cl_vmodule:tpto;_cl_link:title;_cl_position:1;tpid:6468625;imgsize:s;cmt_num:71\" data-ual-gotocontent=\"true\"><div class=\"_2cXD1uC4eaOih4-zkRgqjU\"><div class=\"TRuzXRRZHRqbqgLUCCco9\"><h1 class=\"_3cl937Zpn1ce8mDKd5kp7u\"><span class=\"fQMqQTGJTbIMxjQwZA2zk _1alzSpTqJzvSVUWqpx82d4\">週末は広い範囲で警報級大雨恐れ</span></h1><span class=\"_2obRU_TgAxzHaYqOXrZYlv\"><span class=\"h4yLXygiSc5wwNlJOQEdz _1dr5aVDbNPF63JCS2bJhij _2M3AyDfFaeJl3Uo7lUPMAp\" style=\"width:30px;height:12px\">NEW</span></span></div></div></a></article></li><li class=\"_2j0udhv5jERZtYzddeDwcv\"><article class=\"QLtbNZwO-lssuRUcWewbd\" data-ual-view-type=\"list\" data-ual=\"id_type:shannon_article;content_id:ed26b09835c92e015e4d8c7599effe4e3044a349;element_id:first-main-topics-text\"><a class=\"yMWCYupQNdgppL-NV6sMi _3sAlKGsIBCxTUbNi86oSjt\" href=\"https://news.yahoo.co.jp/pickup/6468626\" data-cl-params=\"_cl_vmodule:tpto;_cl_link:title;_cl_position:2;tpid:6468626;imgsize:s;cmt_num:14\" data-ual-gotocontent=\"true\"><div class=\"_2cXD1uC4eaOih4-zkRgqjU\"><div class=\"TRuzXRRZHRqbqgLUCCco9\"><h1 class=\"_3cl937Zpn1ce8mDKd5kp7u\"><span class=\"fQMqQTGJTbIMxjQwZA2zk _1alzSpTqJzvSVUWqpx82d4\">豪雨で母姉犠牲 志した予備自衛官</span></h1><span class=\"_2obRU_TgAxzHaYqOXrZYlv\"><span class=\"h4yLXygiSc5wwNlJOQEdz _1dr5aVDbNPF63JCS2bJhij _2M3AyDfFaeJl3Uo7lUPMAp\" style=\"width:30px;height:12px\">NEW</span></span></div></div></a></article></li><li class=\"_2j0udhv5jERZtYzddeDwcv\"><article class=\"QLtbNZwO-lssuRUcWewbd\" data-ual-view-type=\"list\" data-ual=\"id_type:shannon_article;content_id:4f2a846fa588584f05c745bf17baca957980e09c;element_id:first-main-topics-text\"><a class=\"yMWCYupQNdgppL-NV6sMi _3sAlKGsIBCxTUbNi86oSjt\" href=\"https://news.yahoo.co.jp/pickup/6468598\" data-cl-params=\"_cl_vmodule:tpto;_cl_link:title;_cl_position:3;tpid:6468598;imgsize:s;cmt_num:1909\" data-ual-gotocontent=\"true\"><div class=\"_2cXD1uC4eaOih4-zkRgqjU\"><div class=\"TRuzXRRZHRqbqgLUCCco9\"><h1 class=\"_3cl937Zpn1ce8mDKd5kp7u\"><span class=\"fQMqQTGJTbIMxjQwZA2zk _1alzSpTqJzvSVUWqpx82d4\">世界でもまれ 夏にコロナ流行の訳</span></h1></div></div></a></article></li><li class=\"_2j0udhv5jERZtYzddeDwcv\"><article class=\"QLtbNZwO-lssuRUcWewbd\" data-ual-view-type=\"list\" data-ual=\"id_type:shannon_article;content_id:c5e2daa91a30527ba66b0ca9b57c8c554263b8d7;element_id:first-main-topics-text\"><a class=\"yMWCYupQNdgppL-NV6sMi _3sAlKGsIBCxTUbNi86oSjt\" href=\"https://news.yahoo.co.jp/pickup/6468623\" data-cl-params=\"_cl_vmodule:tpto;_cl_link:title;_cl_position:4;tpid:6468623;imgsize:s;cmt_num:720\" data-ual-gotocontent=\"true\"><div class=\"_2cXD1uC4eaOih4-zkRgqjU\"><div class=\"TRuzXRRZHRqbqgLUCCco9\"><h1 class=\"_3cl937Zpn1ce8mDKd5kp7u\"><span class=\"fQMqQTGJTbIMxjQwZA2zk _1alzSpTqJzvSVUWqpx82d4\">秋篠宮ご夫妻 ベトナム訪問へ</span></h1><span class=\"_2obRU_TgAxzHaYqOXrZYlv\"><span class=\"h4yLXygiSc5wwNlJOQEdz _1dr5aVDbNPF63JCS2bJhij _2M3AyDfFaeJl3Uo7lUPMAp\" style=\"width:30px;height:12px\">NEW</span></span></div></div></a></article></li><li class=\"_2j0udhv5jERZtYzddeDwcv\"><article class=\"QLtbNZwO-lssuRUcWewbd\" data-ual-view-type=\"list\" data-ual=\"id_type:shannon_article;content_id:486842012ead958f7008431f303fdb5b259c207d;element_id:first-main-topics-text\"><a class=\"yMWCYupQNdgppL-NV6sMi _3sAlKGsIBCxTUbNi86oSjt\" href=\"https://news.yahoo.co.jp/pickup/6468620\" data-cl-params=\"_cl_vmodule:tpto;_cl_link:title;_cl_position:5;tpid:6468620;imgsize:s;cmt_num:499\" data-ual-gotocontent=\"true\"><div class=\"_2cXD1uC4eaOih4-zkRgqjU\"><div class=\"TRuzXRRZHRqbqgLUCCco9\"><h1 class=\"_3cl937Zpn1ce8mDKd5kp7u\"><span class=\"fQMqQTGJTbIMxjQwZA2zk _1alzSpTqJzvSVUWqpx82d4\">Threads 7時間で1000万人が登録</span></h1></div></div></a></article></li><li class=\"_2j0udhv5jERZtYzddeDwcv\"><article class=\"QLtbNZwO-lssuRUcWewbd\" data-ual-view-type=\"list\" data-ual=\"id_type:shannon_article;content_id:09b54115b956feddda6ca3796a4c07b0236a4355;element_id:first-main-topics-text\"><a class=\"yMWCYupQNdgppL-NV6sMi _3sAlKGsIBCxTUbNi86oSjt\" href=\"https://news.yahoo.co.jp/pickup/6468628\" data-cl-params=\"_cl_vmodule:tpto;_cl_link:title;_cl_position:6;tpid:6468628;imgsize:s;cmt_num:174\" data-ual-gotocontent=\"true\"><div class=\"_2cXD1uC4eaOih4-zkRgqjU\"><div class=\"TRuzXRRZHRqbqgLUCCco9\"><h1 class=\"_3cl937Zpn1ce8mDKd5kp7u\"><span class=\"fQMqQTGJTbIMxjQwZA2zk _1alzSpTqJzvSVUWqpx82d4\">珍プレー 捕手の防具に投球挟まる</span></h1><span class=\"_2obRU_TgAxzHaYqOXrZYlv\"><span class=\"h4yLXygiSc5wwNlJOQEdz _1dr5aVDbNPF63JCS2bJhij _2M3AyDfFaeJl3Uo7lUPMAp\" style=\"width:30px;height:12px\">NEW</span></span></div></div></a></article></li><li class=\"_2j0udhv5jERZtYzddeDwcv\"><article class=\"QLtbNZwO-lssuRUcWewbd\" data-ual-view-type=\"list\" data-ual=\"id_type:shannon_article;content_id:495d4231748a32d8a581a5ba5acdcfeadab934c1;element_id:first-main-topics-text\"><a class=\"yMWCYupQNdgppL-NV6sMi _3sAlKGsIBCxTUbNi86oSjt\" href=\"https://news.yahoo.co.jp/pickup/6468622\" data-cl-params=\"_cl_vmodule:tpto;_cl_link:title;_cl_position:7;tpid:6468622;imgsize:s;cmt_num:984\" data-ual-gotocontent=\"true\"><div class=\"_2cXD1uC4eaOih4-zkRgqjU\"><div class=\"TRuzXRRZHRqbqgLUCCco9\"><h1 class=\"_3cl937Zpn1ce8mDKd5kp7u\"><span class=\"fQMqQTGJTbIMxjQwZA2zk _1alzSpTqJzvSVUWqpx82d4\">天気キャスター檜山沙耶 交際発表</span></h1></div></div></a></article></li><li class=\"_2j0udhv5jERZtYzddeDwcv\"><article class=\"QLtbNZwO-lssuRUcWewbd\" data-ual-view-type=\"list\" data-ual=\"id_type:shannon_article;content_id:713f9e787f7c802474e616795734de23fa4b1612;element_id:first-main-topics-text\"><a class=\"yMWCYupQNdgppL-NV6sMi _3sAlKGsIBCxTUbNi86oSjt\" href=\"https://news.yahoo.co.jp/pickup/6468614\" data-cl-params=\"_cl_vmodule:tpto;_cl_link:title;_cl_position:8;tpid:6468614;imgsize:s;cmt_num:298\" data-ual-gotocontent=\"true\"><div class=\"_2cXD1uC4eaOih4-zkRgqjU\"><div class=\"TRuzXRRZHRqbqgLUCCco9\"><h1 class=\"_3cl937Zpn1ce8mDKd5kp7u\"><span class=\"fQMqQTGJTbIMxjQwZA2zk _1alzSpTqJzvSVUWqpx82d4\">夏まゆみさん死去 つんくが追悼</span></h1></div></div></a></article></li></ul></div><div class=\"_3sm0x0pVyxLkf4q9ubmXSL\"><article><a class=\"yMWCYupQNdgppL-NV6sMi _3sAlKGsIBCxTUbNi86oSjt\" href=\"https://news.yahoo.co.jp/articles/5017a7b91c060eb59a8d13e3d11a62b95be8b7cb/images/000\" data-cl-params=\"_cl_vmodule:tpto;_cl_link:title;_cl_position:9;imgsize:l\"><div class=\"_1EYwdR4JxrwgpIvWk7vO3f\"><h1 class=\"RS4h_eDWC6FIIyYMupWR0\"><span class=\"fQMqQTGJTbIMxjQwZA2zk _1alzSpTqJzvSVUWqpx82d4\">「祈りの灯」</span></h1><p class=\"_2e8OreFgYIc3gdzYJLKAMA\"><time class=\"_1GD9Sx7FpCs4EuL3bT974r\">7/6(木) 21:26</time></p><div class=\"_1pfcRKnf6y-2AXzpXf0vrb\"><cite class=\"O9jggTRv0zy3XcPayfJLa\">山陽新聞デジタル</cite></div><div class=\"_1UmUawjY6VSzmTK3Y-1sjq\"><span class=\"rStpk9W4eUO5IMVhnJylj\"><picture><source type=\"image/webp\" srcSet=\"https://news-pctr.c.yimg.jp/t/news-topics/images/tpc/2023/7/6/59ee84d1c7d5dc818d481fa6049afba5a5f928c0ae6ffc969bcc47c30811e079.jpg?h=200&amp;w=200&amp;pri=l&amp;fmt=webp\"/><img src=\"https://news-pctr.c.yimg.jp/t/news-topics/images/tpc/2023/7/6/59ee84d1c7d5dc818d481fa6049afba5a5f928c0ae6ffc969bcc47c30811e079.jpg?h=200&amp;w=200&amp;pri=l\" width=\"90\" height=\"55.12500000000001\" alt=\"\"/></picture></span></div></div></a></article></div></div><footer class=\"_14QMUEF7FBJllh14_fachi\"><ul class=\"g0enqV_RXcWSi7gOheAhU\"><li class=\"_3gXYBXvKzn55TlnxGoxJ5j\"><span class=\"fQMqQTGJTbIMxjQwZA2zk _1alzSpTqJzvSVUWqpx82d4\"><a class=\"yMWCYupQNdgppL-NV6sMi _3sAlKGsIBCxTUbNi86oSjt\" href=\"https://news.yahoo.co.jp/topics/top-picks\" data-cl-params=\"_cl_vmodule:tpto;_cl_link:more;_cl_position:0\">もっと見る</a></span></li><li class=\"_3gXYBXvKzn55TlnxGoxJ5j\"><span class=\"fQMqQTGJTbIMxjQwZA2zk _1alzSpTqJzvSVUWqpx82d4\"><a class=\"yMWCYupQNdgppL-NV6sMi _3sAlKGsIBCxTUbNi86oSjt\" href=\"https://news.yahoo.co.jp/topics\" data-cl-params=\"_cl_vmodule:tpto;_cl_link:list;_cl_position:0\">トピックス一覧</a></span></li></ul></footer></section></div></article></div></div><div class=\"_18Y5F9M1FtUYbDxoMln3x7\"><footer id=\"footer\" role=\"contentinfo\" class=\"_2GpKo0TlJwonmUj2nqQxuE ult__mods\"><ul><li class=\"_2dqDKArI6iGaA3nS7xNUmE\"><dl><dt class=\"_2X2lsrA-jZqBKb6bsA9Vnr\"><span class=\"fQMqQTGJTbIMxjQwZA2zk _3tGRl6x9iIWRiFTkKl3kcR\">ヤフー株式会社</span></dt><dd><ul class=\"_3I3C2VL0OPEm7Iyt-OCFz0\"><li class=\"_3b1WmJCwznSYqqf7ptd54g\"><a class=\"yMWCYupQNdgppL-NV6sMi _3sAlKGsIBCxTUbNi86oSjt\" href=\"https://about.yahoo.co.jp/\" data-cl-params=\"_cl_link:comp;_cl_position:0\">会社概要</a></li><li class=\"_3b1WmJCwznSYqqf7ptd54g\"><a class=\"yMWCYupQNdgppL-NV6sMi _3sAlKGsIBCxTUbNi86oSjt\" href=\"https://about.yahoo.co.jp/csr/\" data-cl-params=\"_cl_link:soc;_cl_position:0\">社会的責任</a></li><li class=\"_3b1WmJCwznSYqqf7ptd54g\"><a class=\"yMWCYupQNdgppL-NV6sMi _3sAlKGsIBCxTUbNi86oSjt\" href=\"https://marketing.yahoo.co.jp/\" data-cl-params=\"_cl_link:ad;_cl_position:0\">広告掲載について</a></li><li class=\"_3b1WmJCwznSYqqf7ptd54g\"><a class=\"yMWCYupQNdgppL-NV6sMi _3sAlKGsIBCxTUbNi86oSjt\" href=\"https://about.yahoo.co.jp/hr/\" data-cl-params=\"_cl_link:hr;_cl_position:0\">採用情報</a></li></ul><ul class=\"_3I3C2VL0OPEm7Iyt-OCFz0\"><li class=\"_3b1WmJCwznSYqqf7ptd54g\"><a class=\"yMWCYupQNdgppL-NV6sMi _3sAlKGsIBCxTUbNi86oSjt\" href=\"https://about.yahoo.co.jp/common/terms/\" data-cl-params=\"_cl_link:agreement;_cl_position:0\">利用規約</a></li><li class=\"_3b1WmJCwznSYqqf7ptd54g\"><a class=\"yMWCYupQNdgppL-NV6sMi _3sAlKGsIBCxTUbNi86oSjt\" href=\"https://about.yahoo.co.jp/common/disclaimer/\" data-cl-params=\"_cl_link:disc;_cl_position:0\">免責事項</a></li><li class=\"_3b1WmJCwznSYqqf7ptd54g\"><a class=\"yMWCYupQNdgppL-NV6sMi _3sAlKGsIBCxTUbNi86oSjt\" href=\"https://about.yahoo.co.jp/common/mediastatement/\" data-cl-params=\"_cl_link:state;_cl_position:0\">メディアステートメント</a></li><li class=\"_3b1WmJCwznSYqqf7ptd54g\"><a class=\"yMWCYupQNdgppL-NV6sMi _3sAlKGsIBCxTUbNi86oSjt\" href=\"https://privacy.yahoo.co.jp/\" data-cl-params=\"_cl_link:policy;_cl_position:0\">プライバシー</a></li></ul></dd></dl></li><li class=\"_2dqDKArI6iGaA3nS7xNUmE\"><dl><dt class=\"_2X2lsrA-jZqBKb6bsA9Vnr\"><span class=\"fQMqQTGJTbIMxjQwZA2zk _3tGRl6x9iIWRiFTkKl3kcR\">Zホールディングス株式会社</span></dt><dd><ul class=\"_3I3C2VL0OPEm7Iyt-OCFz0\"><li class=\"_3b1WmJCwznSYqqf7ptd54g\"><a class=\"yMWCYupQNdgppL-NV6sMi _3sAlKGsIBCxTUbNi86oSjt\" href=\"https://www.z-holdings.co.jp/\" data-cl-params=\"_cl_link:z_comp;_cl_position:0\">会社概要</a></li><li class=\"_3b1WmJCwznSYqqf7ptd54g\"><a class=\"yMWCYupQNdgppL-NV6sMi _3sAlKGsIBCxTUbNi86oSjt\" href=\"https://www.z-holdings.co.jp/ir/\" data-cl-params=\"_cl_link:ir;_cl_position:0\">投資家情報</a></li></ul></dd></dl></li></ul><p class=\"_3rCO0-ffBAEkCS8URNYQBC\"><small class=\"_1wf30cBtHv6aK8mAYdYbuo\">© Yahoo Japan</small></p></footer></div></main></div></div><script src=\"https://s.yimg.jp/images/ds/cl/ds-custom-logger-1.1.0.min.js\"></script><script>(function(){\\n  var osmode = \"unknown\";\\n  if (typeof window.matchMedia !== \"undefined\") {\\n    if (window.matchMedia(\"(prefers-color-scheme: dark)\").matches) {\\n      osmode = \"dark\";\\n    } else if (window.matchMedia(\"(prefers-color-scheme: light)\").matches) {\\n      osmode = \"light\";\\n    }\\n  }\\n  var cl = new DSCustomLogger.CustomLogger();\\n  window.__logger = cl.setHierarchyid(\"2079181999\")\\n    .targetClass(\"ult__mods\")\\n    .targetViewableClass(\"vult__mods\")\\n    .startViewable()\\n    .setPageData({\"service\":\"toppage\",\"pagetype\":\"top\",\"status\":\"logout\",\"device\":\"pc\",\"os\":\"other\",\"apptype\":\"web\",\"opttype\":\"pc\",\"mtestid\":\"\",\"ybb\":\"0\",\"premium\":\"0\",\"paypay\":\"0\",\"jis\":\"02201\",\"location\":\"ip\",\"grade\":\"c\"})\\n    .setPageData({ osmode: osmode })\\n    .initCustomLoggerCore();\\n})();</script><script src=\"https://s.yimg.jp/images/ds/yas/ual-2.10.2.min.js\"></script><script>(function(){\\n  window.ualcmds = window.ualcmds || [];\\n  window.ual = window.ual || function() {\\n    ualcmds.push(arguments);\\n  };\\n\\n  ual(\\'config\\', \\'token\\', \\'4465a92c-f0fd-406f-b519-efd409cc9849\\');\\n\\n  ual(\\'global\\', {\\n    service: \"toppage\",\\n    apptype: \"web\",\\n    mtestid: \"\",\\n    opttype: \"pc\"\\n  });\\n  ual(\\'offset\\', {\\n    auto: true\\n  });\\n  ual(\\'ctrl\\', \\'start\\');\\n})();</script></body></html>'"
      ]
     },
     "execution_count": 4,
     "metadata": {},
     "output_type": "execute_result"
    }
   ],
   "source": [
    "response.text"
   ]
  },
  {
   "cell_type": "code",
   "execution_count": 5,
   "id": "69accb49-5e39-4846-b438-861031d5d9a0",
   "metadata": {
    "tags": []
   },
   "outputs": [
    {
     "data": {
      "text/plain": [
       "b'<!DOCTYPE html><html lang=\"ja\"><head><meta charSet=\"utf-8\"/><meta http-equiv=\"X-UA-Compatible\" content=\"IE=edge,chrome=1\"/><title>Yahoo! JAPAN</title><meta name=\"description\" content=\"\\xe3\\x81\\x82\\xe3\\x81\\xaa\\xe3\\x81\\x9f\\xe3\\x81\\xae\\xe6\\xaf\\x8e\\xe6\\x97\\xa5\\xe3\\x82\\x92\\xe3\\x82\\xa2\\xe3\\x83\\x83\\xe3\\x83\\x97\\xe3\\x83\\x87\\xe3\\x83\\xbc\\xe3\\x83\\x88\\xe3\\x81\\x99\\xe3\\x82\\x8b\\xe6\\x83\\x85\\xe5\\xa0\\xb1\\xe3\\x83\\x9d\\xe3\\x83\\xbc\\xe3\\x82\\xbf\\xe3\\x83\\xab\\xe3\\x80\\x82\\xe6\\xa4\\x9c\\xe7\\xb4\\xa2\\xe3\\x80\\x81\\xe3\\x83\\x8b\\xe3\\x83\\xa5\\xe3\\x83\\xbc\\xe3\\x82\\xb9\\xe3\\x80\\x81\\xe5\\xa4\\xa9\\xe6\\xb0\\x97\\xe3\\x80\\x81\\xe3\\x82\\xb9\\xe3\\x83\\x9d\\xe3\\x83\\xbc\\xe3\\x83\\x84\\xe3\\x80\\x81\\xe3\\x83\\xa1\\xe3\\x83\\xbc\\xe3\\x83\\xab\\xe3\\x80\\x81\\xe3\\x82\\xb7\\xe3\\x83\\xa7\\xe3\\x83\\x83\\xe3\\x83\\x94\\xe3\\x83\\xb3\\xe3\\x82\\xb0\\xe3\\x80\\x81\\xe3\\x82\\xaa\\xe3\\x83\\xbc\\xe3\\x82\\xaf\\xe3\\x82\\xb7\\xe3\\x83\\xa7\\xe3\\x83\\xb3\\xe3\\x81\\xaa\\xe3\\x81\\xa9\\xe4\\xbe\\xbf\\xe5\\x88\\xa9\\xe3\\x81\\xaa\\xe3\\x82\\xb5\\xe3\\x83\\xbc\\xe3\\x83\\x93\\xe3\\x82\\xb9\\xe3\\x82\\x92\\xe5\\xb1\\x95\\xe9\\x96\\x8b\\xe3\\x81\\x97\\xe3\\x81\\xa6\\xe3\\x81\\x84\\xe3\\x81\\xbe\\xe3\\x81\\x99\\xe3\\x80\\x82\"/><meta name=\"robots\" content=\"noodp\"/><meta name=\"viewport\" content=\"width=1010\"/><link rel=\"dns-prefetch\" href=\"//s.yimg.jp\"/><link rel=\"dns-prefetch\" href=\"//yads.c.yimg.jp\"/><meta name=\"google-site-verification\" content=\"fsLMOiigp5fIpCDMEVodQnQC7jIY1K3UXW5QkQcBmVs\"/><link rel=\"alternate\" href=\"android-app://jp.co.yahoo.android.yjtop/yahoojapan/home/top\"/><link rel=\"alternate\" media=\"only screen and (max-width: 640px)\" href=\"https://m.yahoo.co.jp/\"/><link rel=\"canonical\" href=\"https://www.yahoo.co.jp/\"/><link rel=\"shortcut icon\" href=\"https://s.yimg.jp/c/icon/s/bsc/2.0/favicon.ico\" type=\"image/vnd.microsoft.icon\"/><link rel=\"icon\" href=\"https://s.yimg.jp/c/icon/s/bsc/2.0/favicon.ico\" type=\"image/vnd.microsoft.icon\"/><link rel=\"apple-touch-icon\" href=\"https://s.yimg.jp/c/icon/s/bsc/2.0/y120.png\"/><meta property=\"og:title\" content=\"Yahoo! JAPAN\"/><meta property=\"og:type\" content=\"website\"/><meta property=\"og:url\" content=\"https://www.yahoo.co.jp/\"/><meta property=\"og:image\" content=\"https://s.yimg.jp/images/top/ogp/fb_y_1500px.png\"/><meta property=\"og:description\" content=\"\\xe3\\x81\\x82\\xe3\\x81\\xaa\\xe3\\x81\\x9f\\xe3\\x81\\xae\\xe6\\xaf\\x8e\\xe6\\x97\\xa5\\xe3\\x82\\x92\\xe3\\x82\\xa2\\xe3\\x83\\x83\\xe3\\x83\\x97\\xe3\\x83\\x87\\xe3\\x83\\xbc\\xe3\\x83\\x88\\xe3\\x81\\x99\\xe3\\x82\\x8b\\xe6\\x83\\x85\\xe5\\xa0\\xb1\\xe3\\x83\\x9d\\xe3\\x83\\xbc\\xe3\\x82\\xbf\\xe3\\x83\\xab\\xe3\\x80\\x82\\xe6\\xa4\\x9c\\xe7\\xb4\\xa2\\xe3\\x80\\x81\\xe3\\x83\\x8b\\xe3\\x83\\xa5\\xe3\\x83\\xbc\\xe3\\x82\\xb9\\xe3\\x80\\x81\\xe5\\xa4\\xa9\\xe6\\xb0\\x97\\xe3\\x80\\x81\\xe3\\x82\\xb9\\xe3\\x83\\x9d\\xe3\\x83\\xbc\\xe3\\x83\\x84\\xe3\\x80\\x81\\xe3\\x83\\xa1\\xe3\\x83\\xbc\\xe3\\x83\\xab\\xe3\\x80\\x81\\xe3\\x82\\xb7\\xe3\\x83\\xa7\\xe3\\x83\\x83\\xe3\\x83\\x94\\xe3\\x83\\xb3\\xe3\\x82\\xb0\\xe3\\x80\\x81\\xe3\\x82\\xaa\\xe3\\x83\\xbc\\xe3\\x82\\xaf\\xe3\\x82\\xb7\\xe3\\x83\\xa7\\xe3\\x83\\xb3\\xe3\\x81\\xaa\\xe3\\x81\\xa9\\xe4\\xbe\\xbf\\xe5\\x88\\xa9\\xe3\\x81\\xaa\\xe3\\x82\\xb5\\xe3\\x83\\xbc\\xe3\\x83\\x93\\xe3\\x82\\xb9\\xe3\\x82\\x92\\xe5\\xb1\\x95\\xe9\\x96\\x8b\\xe3\\x81\\x97\\xe3\\x81\\xa6\\xe3\\x81\\x84\\xe3\\x81\\xbe\\xe3\\x81\\x99\\xe3\\x80\\x82\"/><meta property=\"og:site_name\" content=\"Yahoo! JAPAN\"/><meta property=\"twitter:card\" content=\"summary_large_image\"/><meta property=\"twitter:site\" content=\"@Yahoo_JAPAN_PR\"/><meta property=\"twitter:image\" content=\"https://s.yimg.jp/images/top/ogp/tw_y_1400px.png\"/><meta property=\"fb:app_id\" content=\"472870002762883\"/><link rel=\"stylesheet\" href=\"//s.yimg.jp/images/yjtop-pc/orion/v164/bundle_v164.css\"/><script>window.onbeforeunload = function() {}</script><script>\\n            var TLDataContext = {\\n              ual : {\\n                pageview : {\\n                  service: \"toppage\",\\n                  apptype: \"web\",\\n                  opttype: \"pc\",\\n                  hierarchy_id: \"2079181999\",\\n                  content_id : \\'\\',\\n                  id_type : \\'\\',\\n                  nopv : \\'false\\',\\n                  mtestid: \"\",\\n                  ss_join_id : \\'\\',\\n                  ss_join_id_type : \\'\\',\\n                }\\n              }\\n            };</script><script>(function () {\\n              var tagjs = document.createElement(\"script\");\\n              var s = document.getElementsByTagName(\"script\")[0];\\n              tagjs.async = true;\\n              tagjs.src = \"https://s.yjtag.jp/tag.js#site=2wzBV9u\";\\n              s.parentNode.insertBefore(tagjs, s);\\n            }());</script><script src=\"https://yads.c.yimg.jp/js/yads-async.js\"></script><link rel=\"preconnect\" href=\"//logql.yahoo.co.jp\"/><link rel=\"preconnect\" href=\"//yjtag.yahoo.co.jp\"/><link rel=\"preconnect\" href=\"//yeas.yahoo.co.jp\"/><link rel=\"preconnect\" href=\"//cas.criteo.com\"/><link rel=\"preconnect\" href=\"//ybx-test.yahoo.co.jp\"/><link rel=\"preconnect\" href=\"//quriosity.yahoo.co.jp\"/></head><body><noscript><iframe title=\"PageCount\" src=\"https://b.yjtag.jp/iframe?c=2wzBV9u\" width=\"1\" height=\"1\" frameBorder=\"0\" scrolling=\"no\" marginHeight=\"0\" marginWidth=\"0\"></iframe></noscript><script>bucket_id_for_ad = \\'\\'; bucket_ids = \\'\\';</script><script>window.YAHOO = window.YAHOO || {};\\n              window.YAHOO.JP = window.YAHOO.JP || {};\\n              window.YAHOO.JP.Fp = window.YAHOO.JP.Fp || {};\\n              window.YAHOO.JP.Fp.ads = window.YAHOO.JP.Fp.ads || {};\\n              window.YAHOO.JP.Fp.ads.sidehide = true;</script><div id=\"wrapper\" class=\"_1DyDVN-3FsqGF_QKLg1M9G\" data-rma-pos=\"GYJ\"><div id=\"ContentWrapper\"><header class=\"_2ZLZK6xsD6ls7W_ryou_ED\"><div id=\"Masthead\" class=\"_1mo4G7fxHMqUog3vJGxY2_ ult__mods\"><h1 class=\"_3YIqBohnzWyU3NQ8zb-mQI _1dr5aVDbNPF63JCS2bJhij\"><a class=\"yMWCYupQNdgppL-NV6sMi _3sAlKGsIBCxTUbNi86oSjt\" href=\"https://www.yahoo.co.jp\" data-cl-params=\"_cl_vmodule:header;_cl_link:logo;_cl_position:0\">Yahoo! JAPAN</a></h1><div class=\"_15h66qPnVy4iQzPepgAaiY\"><ul class=\"_6iDyy-CUks251J9k1epBP\"><li class=\"_3gsf81y-6_ZDi-j-tMaVHe\"><a class=\"yMWCYupQNdgppL-NV6sMi _3sAlKGsIBCxTUbNi86oSjt\" href=\"https://rdr.yahoo.co.jp/v1/label=L3ByZW1pdW0veXRvcC9pY29uLw/p=premium_datalake/d=premium_redirect/tk=8d38b1c7-f7b7-4450-9332-535e226244ff/ru=aHR0cHM6Ly9wcmVtaXVtLnlhaG9vLmNvLmpwLw/\" data-cl-params=\"_cl_vmodule:header;_cl_link:premium;_cl_position:0\" aria-label=\"\\xe3\\x83\\x97\\xe3\\x83\\xac\\xe3\\x83\\x9f\\xe3\\x82\\xa2\\xe3\\x83\\xa0\\xe3\\x81\\xb8\\xe9\\x81\\xb7\\xe7\\xa7\\xbb\\xe3\\x81\\x99\\xe3\\x82\\x8b\"><p class=\"oLvk9L5Yk-9JOuzi-OHW5\"><span class=\"t_jb9bKlgIcajcRS2hZAP\">\\xe3\\x83\\x97\\xe3\\x83\\xac\\xe3\\x83\\x9f\\xe3\\x82\\xa2\\xe3\\x83\\xa0</span><span class=\"_2Uq6Pw5lfFfxr_OD36xHp6 _1dr5aVDbNPF63JCS2bJhij Y8gFtzzcdGMdFngRO9qFV\" style=\"width:36px;height:36px\"></span></p></a></li><li class=\"_3gsf81y-6_ZDi-j-tMaVHe\"><a class=\"yMWCYupQNdgppL-NV6sMi _3sAlKGsIBCxTUbNi86oSjt\" href=\"https://www.paypay-card.co.jp?utm_source=YTOP&amp;utm_medium=mhd&amp;utm_campaign=pc\" data-cl-params=\"_cl_vmodule:header;_cl_link:paypaycard;_cl_position:0\" aria-label=\"\\xe3\\x82\\xab\\xe3\\x83\\xbc\\xe3\\x83\\x89\\xe3\\x81\\xb8\\xe9\\x81\\xb7\\xe7\\xa7\\xbb\\xe3\\x81\\x99\\xe3\\x82\\x8b\"><p class=\"oLvk9L5Yk-9JOuzi-OHW5\"><span class=\"t_jb9bKlgIcajcRS2hZAP\">\\xe3\\x82\\xab\\xe3\\x83\\xbc\\xe3\\x83\\x89</span><span class=\"_2Uq6Pw5lfFfxr_OD36xHp6 _1dr5aVDbNPF63JCS2bJhij P1WzQfoRll3q8GIGneUYg\" style=\"width:36px;height:38px\"></span></p></a></li><li class=\"_3gsf81y-6_ZDi-j-tMaVHe\"><a class=\"yMWCYupQNdgppL-NV6sMi _3sAlKGsIBCxTUbNi86oSjt\" href=\"https://mail.yahoo.co.jp/\" data-cl-params=\"_cl_vmodule:header;_cl_link:mail;_cl_position:0\" aria-label=\"\\xe3\\x83\\xa1\\xe3\\x83\\xbc\\xe3\\x83\\xab\\xe3\\x81\\xb8\\xe9\\x81\\xb7\\xe7\\xa7\\xbb\\xe3\\x81\\x99\\xe3\\x82\\x8b\"><p class=\"oLvk9L5Yk-9JOuzi-OHW5\"><span class=\"t_jb9bKlgIcajcRS2hZAP\">\\xe3\\x83\\xa1\\xe3\\x83\\xbc\\xe3\\x83\\xab</span><span class=\"_2Uq6Pw5lfFfxr_OD36xHp6 _1dr5aVDbNPF63JCS2bJhij _3Qi5P0lTFbNkWishPzz8tb\" style=\"width:36px;height:38px\"></span></p></a></li></ul></div><div class=\"_2TzkLph0QyL9hAv5c53WeY\"><ul class=\"_6iDyy-CUks251J9k1epBP\"><li class=\"_3gsf81y-6_ZDi-j-tMaVHe\"><a class=\"yMWCYupQNdgppL-NV6sMi _3sAlKGsIBCxTUbNi86oSjt\" href=\"https://travel.yahoo.co.jp/ikCo.ashx?cosid=y_010017&amp;cosuid=ytmh&amp;surl=%2F&amp;sc_e=ytmh\" data-cl-params=\"_cl_vmodule:header;_cl_link:travel;_cl_position:0\" aria-label=\"\\xe3\\x83\\x88\\xe3\\x83\\xa9\\xe3\\x83\\x99\\xe3\\x83\\xab\\xe3\\x81\\xb8\\xe9\\x81\\xb7\\xe7\\xa7\\xbb\\xe3\\x81\\x99\\xe3\\x82\\x8b\"><p class=\"oLvk9L5Yk-9JOuzi-OHW5\"><span class=\"t_jb9bKlgIcajcRS2hZAP\">\\xe3\\x83\\x88\\xe3\\x83\\xa9\\xe3\\x83\\x99\\xe3\\x83\\xab</span><span class=\"_2Uq6Pw5lfFfxr_OD36xHp6 _1dr5aVDbNPF63JCS2bJhij _1yEKxUFSw-Xv2gaBZsYRuI\" style=\"width:38px;height:38px\"></span></p></a></li><li class=\"_3gsf81y-6_ZDi-j-tMaVHe\"><a class=\"yMWCYupQNdgppL-NV6sMi _3sAlKGsIBCxTUbNi86oSjt\" href=\"https://auctions.yahoo.co.jp/\" data-cl-params=\"_cl_vmodule:header;_cl_link:auction;_cl_position:0\" aria-label=\"\\xe3\\x83\\xa4\\xe3\\x83\\x95\\xe3\\x82\\xaa\\xe3\\x82\\xaf!\\xe3\\x81\\xb8\\xe9\\x81\\xb7\\xe7\\xa7\\xbb\\xe3\\x81\\x99\\xe3\\x82\\x8b\"><p class=\"oLvk9L5Yk-9JOuzi-OHW5\"><span class=\"t_jb9bKlgIcajcRS2hZAP\">\\xe3\\x83\\xa4\\xe3\\x83\\x95\\xe3\\x82\\xaa\\xe3\\x82\\xaf!</span><span class=\"_2Uq6Pw5lfFfxr_OD36xHp6 _1dr5aVDbNPF63JCS2bJhij _1K47f2oTmrnpusFOpVVqfY\" style=\"width:38px;height:38px\"></span></p></a></li><li class=\"_3gsf81y-6_ZDi-j-tMaVHe\"><a class=\"yMWCYupQNdgppL-NV6sMi _3sAlKGsIBCxTUbNi86oSjt\" href=\"https://shopping.yahoo.co.jp/?sc_e=ytmh\" data-cl-params=\"_cl_vmodule:header;_cl_link:shopping;_cl_position:0\" aria-label=\"\\xe3\\x82\\xb7\\xe3\\x83\\xa7\\xe3\\x83\\x83\\xe3\\x83\\x94\\xe3\\x83\\xb3\\xe3\\x82\\xb0\\xe3\\x81\\xb8\\xe9\\x81\\xb7\\xe7\\xa7\\xbb\\xe3\\x81\\x99\\xe3\\x82\\x8b\"><p class=\"oLvk9L5Yk-9JOuzi-OHW5\"><span class=\"t_jb9bKlgIcajcRS2hZAP\">\\xe3\\x82\\xb7\\xe3\\x83\\xa7\\xe3\\x83\\x83\\xe3\\x83\\x94\\xe3\\x83\\xb3\\xe3\\x82\\xb0</span><span class=\"_2Uq6Pw5lfFfxr_OD36xHp6 _1dr5aVDbNPF63JCS2bJhij MOLSPrtOUmdnYy_LgNt2f\" style=\"width:38px;height:38px\"></span></p></a></li></ul></div></div><section id=\"search\" class=\"ult__mods _1w9b7DyFfTztW-X6_zmnAE\"><div class=\"_2pgJollUxnY09eN4CPKMrS\"><h1 class=\"_1iMgPNrCw806mefWspPVMk _3v9VCsGKsktTB7eaN70w-n\">\\xe6\\xa4\\x9c\\xe7\\xb4\\xa2</h1><ul class=\"ZMlm7LHfZujKgm8NY-0N5\"><li><a href=\"https://search.yahoo.co.jp/\" class=\"y9H1Sj9hz4OlEq2_aEt5E\" aria-label=\"\\xe3\\x82\\xa6\\xe3\\x82\\xa7\\xe3\\x83\\x96\\xe3\\x81\\xa7\\xe6\\xa4\\x9c\\xe7\\xb4\\xa2\" tabindex=\"-1\" data-cl-params=\"_cl_vmodule:search;_cl_link:web_tab;_cl_position:0\"><span class=\"fQMqQTGJTbIMxjQwZA2zk _3tGRl6x9iIWRiFTkKl3kcR\"><span class=\"_1uQvvM7M_K0hc4e29lRa8 _2B_ETzo6nh1JNMLebSi_2p\">\\xe3\\x82\\xa6\\xe3\\x82\\xa7\\xe3\\x83\\x96</span></span></a></li><li><a href=\"https://search.yahoo.co.jp/image\" class=\"y9H1Sj9hz4OlEq2_aEt5E\" aria-label=\"\\xe7\\x94\\xbb\\xe5\\x83\\x8f\\xe3\\x81\\xa7\\xe6\\xa4\\x9c\\xe7\\xb4\\xa2\" tabindex=\"-1\" data-cl-params=\"_cl_vmodule:search;_cl_link:img;_cl_position:0\"><span class=\"fQMqQTGJTbIMxjQwZA2zk _3tGRl6x9iIWRiFTkKl3kcR\"><span class=\"_1uQvvM7M_K0hc4e29lRa8\">\\xe7\\x94\\xbb\\xe5\\x83\\x8f</span></span></a></li><li><a href=\"https://search.yahoo.co.jp/video\" class=\"y9H1Sj9hz4OlEq2_aEt5E\" aria-label=\"\\xe5\\x8b\\x95\\xe7\\x94\\xbb\\xe3\\x81\\xa7\\xe6\\xa4\\x9c\\xe7\\xb4\\xa2\" tabindex=\"-1\" data-cl-params=\"_cl_vmodule:search;_cl_link:vd;_cl_position:0\"><span class=\"fQMqQTGJTbIMxjQwZA2zk _3tGRl6x9iIWRiFTkKl3kcR\"><span class=\"_1uQvvM7M_K0hc4e29lRa8\">\\xe5\\x8b\\x95\\xe7\\x94\\xbb</span></span></a></li><li><a href=\"https://chiebukuro.yahoo.co.jp/\" class=\"y9H1Sj9hz4OlEq2_aEt5E\" aria-label=\"\\xe7\\x9f\\xa5\\xe6\\x81\\xb5\\xe8\\xa2\\x8b\\xe3\\x81\\xa7\\xe6\\xa4\\x9c\\xe7\\xb4\\xa2\" tabindex=\"-1\" data-cl-params=\"_cl_vmodule:search;_cl_link:chie;_cl_position:0\"><span class=\"fQMqQTGJTbIMxjQwZA2zk _3tGRl6x9iIWRiFTkKl3kcR\"><span class=\"_1uQvvM7M_K0hc4e29lRa8\">\\xe7\\x9f\\xa5\\xe6\\x81\\xb5\\xe8\\xa2\\x8b</span></span></a></li><li><a href=\"https://map.yahoo.co.jp/\" class=\"y9H1Sj9hz4OlEq2_aEt5E\" aria-label=\"\\xe5\\x9c\\xb0\\xe5\\x9b\\xb3\\xe3\\x81\\xa7\\xe6\\xa4\\x9c\\xe7\\xb4\\xa2\" tabindex=\"-1\" data-cl-params=\"_cl_vmodule:search;_cl_link:map;_cl_position:0\"><span class=\"fQMqQTGJTbIMxjQwZA2zk _3tGRl6x9iIWRiFTkKl3kcR\"><span class=\"_1uQvvM7M_K0hc4e29lRa8\">\\xe5\\x9c\\xb0\\xe5\\x9b\\xb3</span></span></a></li><li><a href=\"https://search.yahoo.co.jp/realtime\" class=\"y9H1Sj9hz4OlEq2_aEt5E\" aria-label=\"\\xe3\\x83\\xaa\\xe3\\x82\\xa2\\xe3\\x83\\xab\\xe3\\x82\\xbf\\xe3\\x82\\xa4\\xe3\\x83\\xa0\\xe3\\x81\\xa7\\xe6\\xa4\\x9c\\xe7\\xb4\\xa2\" tabindex=\"-1\" data-cl-params=\"_cl_vmodule:search;_cl_link:realtime;_cl_position:0\"><span class=\"fQMqQTGJTbIMxjQwZA2zk _3tGRl6x9iIWRiFTkKl3kcR\"><span class=\"_1uQvvM7M_K0hc4e29lRa8\">\\xe3\\x83\\xaa\\xe3\\x82\\xa2\\xe3\\x83\\xab\\xe3\\x82\\xbf\\xe3\\x82\\xa4\\xe3\\x83\\xa0</span></span></a></li><li><a href=\"https://services.yahoo.co.jp/\" class=\"y9H1Sj9hz4OlEq2_aEt5E\" aria-label=\"\\xe4\\xb8\\x80\\xe8\\xa6\\xa7\\xe3\\x81\\xa7\\xe6\\xa4\\x9c\\xe7\\xb4\\xa2\" tabindex=\"-1\" data-cl-params=\"_cl_vmodule:search;_cl_link:svc;_cl_position:0\"><span class=\"fQMqQTGJTbIMxjQwZA2zk _3tGRl6x9iIWRiFTkKl3kcR\"><span class=\"_1uQvvM7M_K0hc4e29lRa8\">\\xe4\\xb8\\x80\\xe8\\xa6\\xa7</span></span></a></li></ul><form action=\"https://search.yahoo.co.jp/search\" name=\"sf1\" method=\"get\" role=\"search\"><fieldset><legend>Yahoo!\\xe6\\xa4\\x9c\\xe7\\xb4\\xa2</legend><span class=\"DqAzAIGI9nNwKOFNu3ohH\"><input type=\"search\" class=\"n1Bw-ocbo_PYJUKDrSyHN\" name=\"p\" autoComplete=\"on\" aria-label=\"\\xe6\\xa4\\x9c\\xe7\\xb4\\xa2\\xe3\\x81\\x97\\xe3\\x81\\x9f\\xe3\\x81\\x84\\xe3\\x82\\xad\\xe3\\x83\\xbc\\xe3\\x83\\xaf\\xe3\\x83\\xbc\\xe3\\x83\\x89\\xe3\\x82\\x92\\xe5\\x85\\xa5\\xe5\\x8a\\x9b\\xe3\\x81\\x97\\xe3\\x81\\xa6\\xe3\\x81\\x8f\\xe3\\x81\\xa0\\xe3\\x81\\x95\\xe3\\x81\\x84\" aria-live=\"assertive\"/><button class=\"_3doZ1jaGSB3ytjCOeYg5nG\" type=\"submit\" data-cl-params=\"_cl_vmodule:search;_cl_link:web;_cl_position:0\"><span class=\"_4L_am9wbgiSNBUD50wbDA\"><span class=\"_3oyNASbPKmiq-iwh602OKt\">\\xe6\\xa4\\x9c\\xe7\\xb4\\xa2</span></span></button></span></fieldset><input type=\"hidden\" name=\"fr\" value=\"top_table\"/><input type=\"hidden\" name=\"ei\" value=\"UTF-8\"/><input type=\"hidden\" name=\"ts\"/><input type=\"hidden\" name=\"aq\" value=\"\"/></form></div></section><div id=\"Message\" class=\"ult__mods\"><noscript><section class=\"_1bzp-M2uxs86VaYq0IxNuy\"><h1 class=\"_2lQjNEXfrs2C14psQwQ5ai _3v9VCsGKsktTB7eaN70w-n\">JavaScript\\xe3\\x81\\xae\\xe8\\xa8\\xad\\xe5\\xae\\x9a\\xe3\\x81\\xab\\xe3\\x81\\xa4\\xe3\\x81\\x84\\xe3\\x81\\xa6</h1><div class=\"_19J_Z9KVKnQzOVKA0jkC4e\"><p><span class=\"fQMqQTGJTbIMxjQwZA2zk _3tGRl6x9iIWRiFTkKl3kcR\">JavaScript\\xe3\\x81\\x8c\\xe7\\x84\\xa1\\xe5\\x8a\\xb9\\xe3\\x81\\xab\\xe3\\x81\\xaa\\xe3\\x81\\xa3\\xe3\\x81\\xa6\\xe3\\x81\\x84\\xe3\\x81\\xbe\\xe3\\x81\\x99\\xe3\\x80\\x82\\xe3\\x81\\x99\\xe3\\x81\\xb9\\xe3\\x81\\xa6\\xe3\\x81\\xae\\xe6\\xa9\\x9f\\xe8\\x83\\xbd\\xe3\\x82\\x92\\xe5\\x88\\xa9\\xe7\\x94\\xa8\\xe3\\x81\\x99\\xe3\\x82\\x8b\\xe3\\x81\\x9f\\xe3\\x82\\x81\\xe3\\x81\\xab\\xe3\\x81\\xaf\\xe3\\x80\\x81\\xe6\\x9c\\x89\\xe5\\x8a\\xb9\\xe3\\x81\\xab\\xe8\\xa8\\xad\\xe5\\xae\\x9a\\xe3\\x81\\x97\\xe3\\x81\\xa6\\xe3\\x81\\x8f\\xe3\\x81\\xa0\\xe3\\x81\\x95\\xe3\\x81\\x84\\xe3\\x80\\x82<br/>\\xe8\\xa9\\xb3\\xe3\\x81\\x97\\xe3\\x81\\x8f\\xe3\\x81\\xaf\\xe3\\x80\\x8c<a class=\"_1NzGMsC3awTFzjzXnvX-zV\" data-cl-params=\"_cl_vmodule:message;_cl_link:jsof;_cl_position:0\" href=\"https://support.yahoo-net.jp/noscript\">JavaScript\\xe3\\x81\\xae\\xe8\\xa8\\xad\\xe5\\xae\\x9a\\xe6\\x96\\xb9\\xe6\\xb3\\x95</a>\\xe3\\x80\\x8d\\xe3\\x82\\x92\\xe3\\x81\\x94\\xe8\\xa6\\xa7\\xe3\\x81\\x8f\\xe3\\x81\\xa0\\xe3\\x81\\x95\\xe3\\x81\\x84\\xe3\\x80\\x82</span></p></div></section></noscript><section class=\"_1bzp-M2uxs86VaYq0IxNuy\"><h1 class=\"_2lQjNEXfrs2C14psQwQ5ai _3v9VCsGKsktTB7eaN70w-n\">\\xe6\\x8e\\xa8\\xe5\\xa5\\xa8\\xe3\\x83\\x96\\xe3\\x83\\xa9\\xe3\\x82\\xa6\\xe3\\x82\\xb6\\xe3\\x83\\xbc\\xe3\\x81\\xab\\xe3\\x81\\xa4\\xe3\\x81\\x84\\xe3\\x81\\xa6</h1><div class=\"_19J_Z9KVKnQzOVKA0jkC4e\"><p><span class=\"fQMqQTGJTbIMxjQwZA2zk _3tGRl6x9iIWRiFTkKl3kcR\">Yahoo! JAPAN\\xe3\\x83\\x88\\xe3\\x83\\x83\\xe3\\x83\\x97\\xe3\\x83\\x9a\\xe3\\x83\\xbc\\xe3\\x82\\xb8\\xe3\\x81\\xae\\xe6\\xa9\\x9f\\xe8\\x83\\xbd\\xe3\\x82\\x92\\xe6\\xad\\xa3\\xe3\\x81\\x97\\xe3\\x81\\x8f\\xe3\\x81\\x94\\xe5\\x88\\xa9\\xe7\\x94\\xa8\\xe3\\x81\\x84\\xe3\\x81\\x9f\\xe3\\x81\\xa0\\xe3\\x81\\x8f\\xe3\\x81\\xab\\xe3\\x81\\xaf\\xe3\\x80\\x81\\xe4\\xb8\\x8b\\xe8\\xa8\\x98\\xe3\\x81\\xae\\xe7\\x92\\xb0\\xe5\\xa2\\x83\\xe3\\x81\\x8c\\xe5\\xbf\\x85\\xe8\\xa6\\x81\\xe3\\x81\\xa7\\xe3\\x81\\x99\\xe3\\x80\\x82<span class=\"_1XWJVEK6heb_Paj9eU6R1u\">\\xe3\\x83\\x91\\xe3\\x82\\xbd\\xe3\\x82\\xb3\\xe3\\x83\\xb3\\xe3\\x81\\xa7\\xe3\\x81\\x94\\xe5\\x88\\xa9\\xe7\\x94\\xa8\\xe3\\x81\\xae\\xe3\\x81\\x8a\\xe5\\xae\\xa2\\xe6\\xa7\\x98<br/>Windows\\xef\\xbc\\x9aEdge \\xe6\\x9c\\x80\\xe6\\x96\\xb0\\xe7\\x89\\x88 / Chrome \\xe6\\x9c\\x80\\xe6\\x96\\xb0\\xe7\\x89\\x88 / Firefox \\xe6\\x9c\\x80\\xe6\\x96\\xb0\\xe7\\x89\\x88\\xe3\\x80\\x80macOS\\xef\\xbc\\x9aSafari 14.0\\xe4\\xbb\\xa5\\xe4\\xb8\\x8a</span><span class=\"_1XWJVEK6heb_Paj9eU6R1u\">\\xe3\\x82\\xbf\\xe3\\x83\\x96\\xe3\\x83\\xac\\xe3\\x83\\x83\\xe3\\x83\\x88\\xe3\\x81\\xa7\\xe3\\x81\\x94\\xe5\\x88\\xa9\\xe7\\x94\\xa8\\xe3\\x81\\xae\\xe3\\x81\\x8a\\xe5\\xae\\xa2\\xe6\\xa7\\x98<br/>iOS 11.0\\xe4\\xbb\\xa5\\xe9\\x99\\x8d\\xe3\\x80\\x81\\xe3\\x81\\xbe\\xe3\\x81\\x9f\\xe3\\x81\\xaf\\xe3\\x80\\x81Android4.4\\xe4\\xbb\\xa5\\xe9\\x99\\x8d\\xe3\\x81\\xaeOS\\xe3\\x81\\xab\\xe6\\xa8\\x99\\xe6\\xba\\x96\\xe6\\x90\\xad\\xe8\\xbc\\x89\\xe3\\x81\\x95\\xe3\\x82\\x8c\\xe3\\x81\\x9f\\xe3\\x83\\x96\\xe3\\x83\\xa9\\xe3\\x82\\xa6\\xe3\\x82\\xb6\\xe3\\x83\\xbc<br/>\\xe2\\x80\\xbb\\xe6\\x97\\xa5\\xe6\\x9c\\xac\\xe5\\x9b\\xbd\\xe5\\x86\\x85\\xe7\\x89\\x88\\xe3\\x81\\xa8\\xe3\\x81\\x97\\xe3\\x81\\xa6\\xe7\\x99\\xba\\xe5\\xa3\\xb2\\xe3\\x81\\x95\\xe3\\x82\\x8c\\xe3\\x81\\xa6\\xe3\\x81\\x84\\xe3\\x82\\x8b\\xe7\\xab\\xaf\\xe6\\x9c\\xab\\xe3\\x81\\xa7\\xe3\\x81\\x94\\xe5\\x88\\xa9\\xe7\\x94\\xa8\\xe3\\x81\\x8f\\xe3\\x81\\xa0\\xe3\\x81\\x95\\xe3\\x81\\x84\\xe3\\x80\\x82</span></span></p></div></section></div><section id=\"TopLink\" class=\"_2Pb7ROIJrC3Wj9bPxN4J7D ult__mods\"><h1 class=\"T29vXGZu-fmHRJfd123YZ _3v9VCsGKsktTB7eaN70w-n\">\\xe3\\x81\\x8a\\xe7\\x9f\\xa5\\xe3\\x82\\x89\\xe3\\x81\\x9b</h1><ul class=\"QoCp7KDEt29FbN5hCjsCx\" aria-label=\"\\xe3\\x81\\x8a\\xe7\\x9f\\xa5\\xe3\\x82\\x89\\xe3\\x81\\x9b\"><li class=\"_2ZzfUQqYuRip1h-aXoiCHV\"><a class=\"yMWCYupQNdgppL-NV6sMi _3sAlKGsIBCxTUbNi86oSjt\" href=\"https://shopping.yahoo.co.jp/promotion/gateway/public/fukushima/\" data-cl-params=\"_cl_vmodule:toplink;_cl_link:link;_cl_position:1;aid:3721703\"><span class=\"fQMqQTGJTbIMxjQwZA2zk _3tGRl6x9iIWRiFTkKl3kcR\"><span class=\"_3S2Wdrkt1LKANaWcLrZToT\">\\xe6\\xa1\\x83\\xe3\\x82\\x84\\xe5\\x92\\x8c\\xe7\\x89\\x9b\\xe3\\x80\\x81\\xe5\\x9c\\xb0\\xe9\\x85\\x92\\xe3\\x81\\xaa\\xe3\\x81\\xa915\\xef\\xbc\\x85\\xe3\\x82\\xaa\\xe3\\x83\\x95\\xe3\\x80\\x80\\xe7\\xa6\\x8f\\xe5\\xb3\\xb6\\xe3\\x81\\xae\\xe6\\x97\\xac\\xe3\\x82\\x92\\xe4\\xbd\\x93\\xe6\\x84\\x9f</span></span></a></li><li class=\"_2ZzfUQqYuRip1h-aXoiCHV\"><a class=\"yMWCYupQNdgppL-NV6sMi _3sAlKGsIBCxTUbNi86oSjt\" href=\"https://ebookjapan.yahoo.co.jp/sale/31112/\" data-cl-params=\"_cl_vmodule:toplink;_cl_link:link;_cl_position:2;aid:3721715\"><span class=\"fQMqQTGJTbIMxjQwZA2zk _3tGRl6x9iIWRiFTkKl3kcR\"><span class=\"_3S2Wdrkt1LKANaWcLrZToT\">\\xe4\\xba\\xba\\xe6\\xb0\\x97\\xe3\\x82\\xac\\xe3\\x83\\xb3\\xe3\\x83\\x80\\xe3\\x83\\xa0\\xe4\\xbd\\x9c\\xe5\\x93\\x81\\xe3\\x81\\x8c150\\xe5\\x86\\x8a\\xe4\\xbb\\xa5\\xe4\\xb8\\x8a\\xe3\\x80\\x80\\xe6\\x9c\\x80\\xe5\\xa4\\xa750\\xef\\xbc\\x85\\xe3\\x82\\xaa\\xe3\\x83\\x95</span></span></a></li><li class=\"_2ZzfUQqYuRip1h-aXoiCHV\"><a class=\"yMWCYupQNdgppL-NV6sMi _3sAlKGsIBCxTUbNi86oSjt\" href=\"https://yahoo.jp/r-X1e2\" data-cl-params=\"_cl_vmodule:toplink;_cl_link:link;_cl_position:3;aid:3721727\"><span class=\"fQMqQTGJTbIMxjQwZA2zk _3tGRl6x9iIWRiFTkKl3kcR\"><span class=\"_3S2Wdrkt1LKANaWcLrZToT\">\\xe3\\x81\\x82\\xe3\\x81\\xaa\\xe3\\x81\\x9f\\xe3\\x81\\xae\\xe5\\xaf\\x84\\xe4\\xbb\\x98\\xe3\\x81\\x8c\\xe3\\x80\\x81\\xe8\\x8b\\xa6\\xe3\\x81\\x97\\xe3\\x82\\x80\\xe4\\xba\\xba\\xe3\\x82\\x84\\xe8\\xa2\\xab\\xe7\\x81\\xbd\\xe5\\x9c\\xb0\\xe3\\x82\\x92\\xe6\\x95\\x91\\xe3\\x81\\x86</span></span></a></li></ul></section></header><main class=\"_1E44HBKDmnr5AqaU83dU3b\"><div class=\"T0vodIJQXVKLbGKVRIOPQ\"><nav><div class=\"_1nJ39BFpWaPCIWutB-olO8 _171Q0OxQF2Vk3J_CxMxajb -DmdTfmK9dpsdI1vggc-z\"><header class=\"_37AoRe1Io5JOtSIPDdUQCF _1m5d7MNAIFyOM71xJdSK_s _3v9VCsGKsktTB7eaN70w-n\"><h1 class=\"_2LJWWRbnY7KqEPyWQukxFD _2vlyNSs41eUR8HDyQ8iUvQ\">\\xe4\\xb8\\xbb\\xe3\\x81\\xaa\\xe3\\x82\\xb5\\xe3\\x83\\xbc\\xe3\\x83\\x93\\xe3\\x82\\xb9</h1></header><div id=\"ToolList\"><ul class=\"_1glrFPJpWbefWf8qr3k4FU\" aria-label=\"\\xe4\\xb8\\xbb\\xe3\\x81\\xaa\\xe3\\x82\\xb5\\xe3\\x83\\xbc\\xe3\\x83\\x93\\xe3\\x82\\xb9\"><li><div class=\"_3Ip8DQAJYKfPeByyVN-utZ\"><a class=\"yMWCYupQNdgppL-NV6sMi _3sAlKGsIBCxTUbNi86oSjt cl-nofollow\" href=\"https://shopping.yahoo.co.jp/?sc_e=ytc\" aria-label=\"\\xe3\\x82\\xb7\\xe3\\x83\\xa7\\xe3\\x83\\x83\\xe3\\x83\\x94\\xe3\\x83\\xb3\\xe3\\x82\\xb0\\xe3\\x81\\xb8\\xe9\\x81\\xb7\\xe7\\xa7\\xbb\\xe3\\x81\\x99\\xe3\\x82\\x8b\"><p class=\"_2bBRLhI5ZpVYu0tuHZEFrn\"><span class=\"pz0On1w4yAviBGMdKItoQ\"><span class=\"fQMqQTGJTbIMxjQwZA2zk _3tGRl6x9iIWRiFTkKl3kcR\">\\xe3\\x82\\xb7\\xe3\\x83\\xa7\\xe3\\x83\\x83\\xe3\\x83\\x94\\xe3\\x83\\xb3\\xe3\\x82\\xb0</span></span><span class=\"_1Al3K70np2V_Ev1eGkfsBm\"><span class=\"_2Uq6Pw5lfFfxr_OD36xHp6 _1dr5aVDbNPF63JCS2bJhij MOLSPrtOUmdnYy_LgNt2f\" style=\"width:20px;height:20px\"></span></span></p></a></div></li><li><div class=\"_3Ip8DQAJYKfPeByyVN-utZ\"><a class=\"yMWCYupQNdgppL-NV6sMi _3sAlKGsIBCxTUbNi86oSjt cl-nofollow\" href=\"https://auctions.yahoo.co.jp\" aria-label=\"\\xe3\\x83\\xa4\\xe3\\x83\\x95\\xe3\\x82\\xaa\\xe3\\x82\\xaf!\\xe3\\x81\\xb8\\xe9\\x81\\xb7\\xe7\\xa7\\xbb\\xe3\\x81\\x99\\xe3\\x82\\x8b\"><p class=\"_2bBRLhI5ZpVYu0tuHZEFrn\"><span class=\"pz0On1w4yAviBGMdKItoQ\"><span class=\"fQMqQTGJTbIMxjQwZA2zk _3tGRl6x9iIWRiFTkKl3kcR\">\\xe3\\x83\\xa4\\xe3\\x83\\x95\\xe3\\x82\\xaa\\xe3\\x82\\xaf!</span></span><span class=\"_1Al3K70np2V_Ev1eGkfsBm\"><span class=\"_2Uq6Pw5lfFfxr_OD36xHp6 _1dr5aVDbNPF63JCS2bJhij _1K47f2oTmrnpusFOpVVqfY\" style=\"width:20px;height:20px\"></span></span></p></a></div></li><li><div class=\"_3Ip8DQAJYKfPeByyVN-utZ\"><a class=\"yMWCYupQNdgppL-NV6sMi _3sAlKGsIBCxTUbNi86oSjt cl-nofollow\" href=\"https://app.adjust.com/1kmi1m2?redirect=https%3A%2F%2Fpaypayfleamarket.yahoo.co.jp%2F%3Fcpt_s%3Dytopmedia%26cpt_m%3Dkotei%26cpt_n%3Dcontent%26cpt_c%3Dytopmedia\" aria-label=\"PayPay\\xe3\\x83\\x95\\xe3\\x83\\xaa\\xe3\\x83\\x9e\\xe3\\x81\\xb8\\xe9\\x81\\xb7\\xe7\\xa7\\xbb\\xe3\\x81\\x99\\xe3\\x82\\x8b\"><p class=\"_2bBRLhI5ZpVYu0tuHZEFrn\"><span class=\"pz0On1w4yAviBGMdKItoQ\"><span class=\"fQMqQTGJTbIMxjQwZA2zk _3tGRl6x9iIWRiFTkKl3kcR\">PayPay\\xe3\\x83\\x95\\xe3\\x83\\xaa\\xe3\\x83\\x9e</span></span><span class=\"_1Al3K70np2V_Ev1eGkfsBm\"><span class=\"_2Uq6Pw5lfFfxr_OD36xHp6 _1dr5aVDbNPF63JCS2bJhij _3zb-zxOYGPoHJ2-_Ie8y8T\" style=\"width:20px;height:20px\"></span></span></p></a></div></li><li><div class=\"_3Ip8DQAJYKfPeByyVN-utZ\"><a class=\"yMWCYupQNdgppL-NV6sMi _3sAlKGsIBCxTUbNi86oSjt cl-nofollow\" href=\"https://zozo.jp/?utm_source=yahoo&amp;utm_medium=referral&amp;utm_campaign=web_ytop-leftcolumn\" aria-label=\"ZOZOTOWN\\xe3\\x81\\xb8\\xe9\\x81\\xb7\\xe7\\xa7\\xbb\\xe3\\x81\\x99\\xe3\\x82\\x8b\"><p class=\"_2bBRLhI5ZpVYu0tuHZEFrn\"><span class=\"pz0On1w4yAviBGMdKItoQ\"><span class=\"fQMqQTGJTbIMxjQwZA2zk _3tGRl6x9iIWRiFTkKl3kcR\">ZOZOTOWN</span></span><span class=\"_1Al3K70np2V_Ev1eGkfsBm\"><span class=\"_2Uq6Pw5lfFfxr_OD36xHp6 _1dr5aVDbNPF63JCS2bJhij _2VdNwkD_q8hjK0ZyvATgab\" style=\"width:20px;height:20px\"></span></span></p></a></div></li><li><div class=\"_3Ip8DQAJYKfPeByyVN-utZ\"><a class=\"yMWCYupQNdgppL-NV6sMi _3sAlKGsIBCxTUbNi86oSjt cl-nofollow\" href=\"https://lohaco.yahoo.co.jp/?bk=t&amp;sc_e=j_as_ya_tc_n&amp;iscr=1\" aria-label=\"LOHACO\\xe3\\x81\\xb8\\xe9\\x81\\xb7\\xe7\\xa7\\xbb\\xe3\\x81\\x99\\xe3\\x82\\x8b\"><p class=\"_2bBRLhI5ZpVYu0tuHZEFrn\"><span class=\"pz0On1w4yAviBGMdKItoQ\"><span class=\"fQMqQTGJTbIMxjQwZA2zk _3tGRl6x9iIWRiFTkKl3kcR\">LOHACO</span></span><span class=\"_1Al3K70np2V_Ev1eGkfsBm\"><span class=\"_2Uq6Pw5lfFfxr_OD36xHp6 _1dr5aVDbNPF63JCS2bJhij _3xvmznkMqRitO0Iqn3ckur\" style=\"width:20px;height:20px\"></span></span></p></a></div></li><li><div class=\"_3Ip8DQAJYKfPeByyVN-utZ\"><a class=\"yMWCYupQNdgppL-NV6sMi _3sAlKGsIBCxTUbNi86oSjt cl-nofollow\" href=\"https://travel.yahoo.co.jp/ikCo.ashx?cosid=y_010002&amp;cosuid=ytsl&amp;surl=%2F&amp;sc_e=ytsl\" aria-label=\"\\xe3\\x83\\x88\\xe3\\x83\\xa9\\xe3\\x83\\x99\\xe3\\x83\\xab\\xe3\\x81\\xb8\\xe9\\x81\\xb7\\xe7\\xa7\\xbb\\xe3\\x81\\x99\\xe3\\x82\\x8b\"><p class=\"_2bBRLhI5ZpVYu0tuHZEFrn\"><span class=\"pz0On1w4yAviBGMdKItoQ\"><span class=\"fQMqQTGJTbIMxjQwZA2zk _3tGRl6x9iIWRiFTkKl3kcR\">\\xe3\\x83\\x88\\xe3\\x83\\xa9\\xe3\\x83\\x99\\xe3\\x83\\xab</span></span><span class=\"_1Al3K70np2V_Ev1eGkfsBm\"><span class=\"_2Uq6Pw5lfFfxr_OD36xHp6 _1dr5aVDbNPF63JCS2bJhij _1yEKxUFSw-Xv2gaBZsYRuI\" style=\"width:20px;height:20px\"></span></span></p></a></div></li><li><div class=\"_3Ip8DQAJYKfPeByyVN-utZ\"><a class=\"yMWCYupQNdgppL-NV6sMi _3sAlKGsIBCxTUbNi86oSjt cl-nofollow\" href=\"https://www.ikyu.com/ikCo.ashx?cosid=ik010002&amp;surl=%2F&amp;sc_e=ytc_pc_ikyu\" aria-label=\"\\xe4\\xb8\\x80\\xe4\\xbc\\x91.com\\xe3\\x81\\xb8\\xe9\\x81\\xb7\\xe7\\xa7\\xbb\\xe3\\x81\\x99\\xe3\\x82\\x8b\"><p class=\"_2bBRLhI5ZpVYu0tuHZEFrn\"><span class=\"pz0On1w4yAviBGMdKItoQ\"><span class=\"fQMqQTGJTbIMxjQwZA2zk _3tGRl6x9iIWRiFTkKl3kcR\">\\xe4\\xb8\\x80\\xe4\\xbc\\x91.com</span></span><span class=\"_1Al3K70np2V_Ev1eGkfsBm\"><span class=\"_2Uq6Pw5lfFfxr_OD36xHp6 _1dr5aVDbNPF63JCS2bJhij daLkyi7PiGXeFyVYTU_9n\" style=\"width:20px;height:20px\"></span></span></p></a></div></li><li><div class=\"_3Ip8DQAJYKfPeByyVN-utZ\"><a class=\"yMWCYupQNdgppL-NV6sMi _3sAlKGsIBCxTUbNi86oSjt cl-nofollow\" href=\"https://restaurant.ikyu.com/rsCosite.asp?CosNo=10000175&amp;CosUrl=\" aria-label=\"\\xe4\\xb8\\x80\\xe4\\xbc\\x91.com\\xe3\\x83\\xac\\xe3\\x82\\xb9\\xe3\\x83\\x88\\xe3\\x83\\xa9\\xe3\\x83\\xb3\\xe3\\x81\\xb8\\xe9\\x81\\xb7\\xe7\\xa7\\xbb\\xe3\\x81\\x99\\xe3\\x82\\x8b\"><p class=\"_2bBRLhI5ZpVYu0tuHZEFrn\"><span class=\"pz0On1w4yAviBGMdKItoQ\"><span class=\"fQMqQTGJTbIMxjQwZA2zk _3tGRl6x9iIWRiFTkKl3kcR\">\\xe4\\xb8\\x80\\xe4\\xbc\\x91.com\\xe3\\x83\\xac\\xe3\\x82\\xb9\\xe3\\x83\\x88\\xe3\\x83\\xa9\\xe3\\x83\\xb3</span></span><span class=\"_1Al3K70np2V_Ev1eGkfsBm\"><span class=\"_2Uq6Pw5lfFfxr_OD36xHp6 _1dr5aVDbNPF63JCS2bJhij _1z4Le4zkghapVZCQm9RCy8\" style=\"width:20px;height:20px\"></span></span></p></a></div></li><li><div class=\"_3Ip8DQAJYKfPeByyVN-utZ\"><a class=\"yMWCYupQNdgppL-NV6sMi _3sAlKGsIBCxTUbNi86oSjt cl-nofollow\" href=\"https://paypaygourmet.yahoo.co.jp/?sc_e=ytc\" aria-label=\"PayPay\\xe3\\x82\\xb0\\xe3\\x83\\xab\\xe3\\x83\\xa1\\xe3\\x81\\xb8\\xe9\\x81\\xb7\\xe7\\xa7\\xbb\\xe3\\x81\\x99\\xe3\\x82\\x8b\"><p class=\"_2bBRLhI5ZpVYu0tuHZEFrn\"><span class=\"pz0On1w4yAviBGMdKItoQ\"><span class=\"fQMqQTGJTbIMxjQwZA2zk _3tGRl6x9iIWRiFTkKl3kcR\">PayPay\\xe3\\x82\\xb0\\xe3\\x83\\xab\\xe3\\x83\\xa1</span></span><span class=\"_1Al3K70np2V_Ev1eGkfsBm\"><span class=\"_2Uq6Pw5lfFfxr_OD36xHp6 _1dr5aVDbNPF63JCS2bJhij PgUs6FV7zVPjsTeGUP8wT\" style=\"width:20px;height:20px\"></span></span></p></a></div></li><li><div class=\"_3Ip8DQAJYKfPeByyVN-utZ\"><a class=\"yMWCYupQNdgppL-NV6sMi _3sAlKGsIBCxTUbNi86oSjt cl-nofollow\" href=\"https://demae-can.com/?utm_source=yahoo&amp;utm_medium=toplink&amp;utm_campaign=demaecantop\" aria-label=\"\\xe5\\x87\\xba\\xe5\\x89\\x8d\\xe9\\xa4\\xa8\\xe3\\x81\\xb8\\xe9\\x81\\xb7\\xe7\\xa7\\xbb\\xe3\\x81\\x99\\xe3\\x82\\x8b\"><p class=\"_2bBRLhI5ZpVYu0tuHZEFrn\"><span class=\"pz0On1w4yAviBGMdKItoQ\"><span class=\"fQMqQTGJTbIMxjQwZA2zk _3tGRl6x9iIWRiFTkKl3kcR\">\\xe5\\x87\\xba\\xe5\\x89\\x8d\\xe9\\xa4\\xa8</span></span><span class=\"_1Al3K70np2V_Ev1eGkfsBm\"><span class=\"_2Uq6Pw5lfFfxr_OD36xHp6 _1dr5aVDbNPF63JCS2bJhij NuRliOifOckuQ9kobVaI9\" style=\"width:20px;height:20px\"></span></span></p></a></div></li></ul></div><footer id=\"ToolFooter\" class=\"_3wZKJtfV8AYYaTP-zoyO9O ult__mods\"><a class=\"yMWCYupQNdgppL-NV6sMi _3sAlKGsIBCxTUbNi86oSjt\" href=\"https://services.yahoo.co.jp/\" data-cl-params=\"_cl_vmodule:tool;_cl_link:list;_cl_position:0\" aria-label=\"Yahoo! JAPAN\\xe3\\x81\\xae\\xe3\\x82\\xb5\\xe3\\x83\\xbc\\xe3\\x83\\x93\\xe3\\x82\\xb9\\xe4\\xb8\\x80\\xe8\\xa6\\xa7\"><dl class=\"STepvEgbaZ0rLEqfER-qm\"><dt class=\"W2bretj6vyf8QDes2gkQA\"><span class=\"fQMqQTGJTbIMxjQwZA2zk _3tGRl6x9iIWRiFTkKl3kcR\">\\xe3\\x82\\xb5\\xe3\\x83\\xbc\\xe3\\x83\\x93\\xe3\\x82\\xb9\\xe4\\xb8\\x80\\xe8\\xa6\\xa7</span></dt><dd class=\"_37zK--zuySKLzNE12rgdHL\"><span class=\"_2Uq6Pw5lfFfxr_OD36xHp6 _1dr5aVDbNPF63JCS2bJhij _3WrFs0ChLr_s9-gBqS7yts\" style=\"width:12px;height:12px\"></span></dd></dl></a></footer></div></nav></div><div class=\"_18kxl0qTaDA-GTdvTQKmFY\"><div class=\"_2DunygeBZHdgHX_Gih3GC4\" id=\"Topics\"><article><div class=\"_1nJ39BFpWaPCIWutB-olO8 -DmdTfmK9dpsdI1vggc-z\"><header class=\"_3WRl3h4EAx9fdzwK76sfHC\"><h1 class=\"_2LJWWRbnY7KqEPyWQukxFD _9YxVmCAhrwLz2V6qXWqBJ\" aria-label=\"Yahoo!\\xe3\\x83\\x8b\\xe3\\x83\\xa5\\xe3\\x83\\xbc\\xe3\\x82\\xb9\">\\xe3\\x83\\x8b\\xe3\\x83\\xa5\\xe3\\x83\\xbc\\xe3\\x82\\xb9</h1></header><section id=\"tabpanelTopics1\" class=\"ult__mods\" role=\"tabpanel\" aria-labelledby=\"tabTopics1\" aria-hidden=\"false\"><header class=\"_5swsXRdQMtHOvhS2bwHid _3v9VCsGKsktTB7eaN70w-n\"><h1>\\xe4\\xb8\\xbb\\xe8\\xa6\\x81 \\xe3\\x83\\x8b\\xe3\\x83\\xa5\\xe3\\x83\\xbc\\xe3\\x82\\xb9</h1></header><div class=\"_1XAfHUWtx6tfYZuWDVjNxZ\"><div class=\"_2jjSS8r_I9Zd6O9NFJtDN-\" aria-label=\"\\xe4\\xb8\\xbb\\xe8\\xa6\\x81 \\xe3\\x83\\x8b\\xe3\\x83\\xa5\\xe3\\x83\\xbc\\xe3\\x82\\xb9\"><p class=\"_2vq5UBfOFpYcyqNRy51gDf\"><span class=\"fQMqQTGJTbIMxjQwZA2zk _2VDw54wcDejORZkozpOysW\">7/6(\\xe6\\x9c\\xa8) 21:59\\xe6\\x9b\\xb4\\xe6\\x96\\xb0</span></p><ul><li class=\"_2j0udhv5jERZtYzddeDwcv\"><article class=\"QLtbNZwO-lssuRUcWewbd\" data-ual-view-type=\"list\" data-ual=\"id_type:shannon_article;content_id:2f3a700379743308359e47ef0c7d0deb68022643;element_id:first-main-topics-text\"><a class=\"yMWCYupQNdgppL-NV6sMi _3sAlKGsIBCxTUbNi86oSjt\" href=\"https://news.yahoo.co.jp/pickup/6468625\" data-cl-params=\"_cl_vmodule:tpto;_cl_link:title;_cl_position:1;tpid:6468625;imgsize:s;cmt_num:71\" data-ual-gotocontent=\"true\"><div class=\"_2cXD1uC4eaOih4-zkRgqjU\"><div class=\"TRuzXRRZHRqbqgLUCCco9\"><h1 class=\"_3cl937Zpn1ce8mDKd5kp7u\"><span class=\"fQMqQTGJTbIMxjQwZA2zk _1alzSpTqJzvSVUWqpx82d4\">\\xe9\\x80\\xb1\\xe6\\x9c\\xab\\xe3\\x81\\xaf\\xe5\\xba\\x83\\xe3\\x81\\x84\\xe7\\xaf\\x84\\xe5\\x9b\\xb2\\xe3\\x81\\xa7\\xe8\\xad\\xa6\\xe5\\xa0\\xb1\\xe7\\xb4\\x9a\\xe5\\xa4\\xa7\\xe9\\x9b\\xa8\\xe6\\x81\\x90\\xe3\\x82\\x8c</span></h1><span class=\"_2obRU_TgAxzHaYqOXrZYlv\"><span class=\"h4yLXygiSc5wwNlJOQEdz _1dr5aVDbNPF63JCS2bJhij _2M3AyDfFaeJl3Uo7lUPMAp\" style=\"width:30px;height:12px\">NEW</span></span></div></div></a></article></li><li class=\"_2j0udhv5jERZtYzddeDwcv\"><article class=\"QLtbNZwO-lssuRUcWewbd\" data-ual-view-type=\"list\" data-ual=\"id_type:shannon_article;content_id:ed26b09835c92e015e4d8c7599effe4e3044a349;element_id:first-main-topics-text\"><a class=\"yMWCYupQNdgppL-NV6sMi _3sAlKGsIBCxTUbNi86oSjt\" href=\"https://news.yahoo.co.jp/pickup/6468626\" data-cl-params=\"_cl_vmodule:tpto;_cl_link:title;_cl_position:2;tpid:6468626;imgsize:s;cmt_num:14\" data-ual-gotocontent=\"true\"><div class=\"_2cXD1uC4eaOih4-zkRgqjU\"><div class=\"TRuzXRRZHRqbqgLUCCco9\"><h1 class=\"_3cl937Zpn1ce8mDKd5kp7u\"><span class=\"fQMqQTGJTbIMxjQwZA2zk _1alzSpTqJzvSVUWqpx82d4\">\\xe8\\xb1\\xaa\\xe9\\x9b\\xa8\\xe3\\x81\\xa7\\xe6\\xaf\\x8d\\xe5\\xa7\\x89\\xe7\\x8a\\xa0\\xe7\\x89\\xb2 \\xe5\\xbf\\x97\\xe3\\x81\\x97\\xe3\\x81\\x9f\\xe4\\xba\\x88\\xe5\\x82\\x99\\xe8\\x87\\xaa\\xe8\\xa1\\x9b\\xe5\\xae\\x98</span></h1><span class=\"_2obRU_TgAxzHaYqOXrZYlv\"><span class=\"h4yLXygiSc5wwNlJOQEdz _1dr5aVDbNPF63JCS2bJhij _2M3AyDfFaeJl3Uo7lUPMAp\" style=\"width:30px;height:12px\">NEW</span></span></div></div></a></article></li><li class=\"_2j0udhv5jERZtYzddeDwcv\"><article class=\"QLtbNZwO-lssuRUcWewbd\" data-ual-view-type=\"list\" data-ual=\"id_type:shannon_article;content_id:4f2a846fa588584f05c745bf17baca957980e09c;element_id:first-main-topics-text\"><a class=\"yMWCYupQNdgppL-NV6sMi _3sAlKGsIBCxTUbNi86oSjt\" href=\"https://news.yahoo.co.jp/pickup/6468598\" data-cl-params=\"_cl_vmodule:tpto;_cl_link:title;_cl_position:3;tpid:6468598;imgsize:s;cmt_num:1909\" data-ual-gotocontent=\"true\"><div class=\"_2cXD1uC4eaOih4-zkRgqjU\"><div class=\"TRuzXRRZHRqbqgLUCCco9\"><h1 class=\"_3cl937Zpn1ce8mDKd5kp7u\"><span class=\"fQMqQTGJTbIMxjQwZA2zk _1alzSpTqJzvSVUWqpx82d4\">\\xe4\\xb8\\x96\\xe7\\x95\\x8c\\xe3\\x81\\xa7\\xe3\\x82\\x82\\xe3\\x81\\xbe\\xe3\\x82\\x8c \\xe5\\xa4\\x8f\\xe3\\x81\\xab\\xe3\\x82\\xb3\\xe3\\x83\\xad\\xe3\\x83\\x8a\\xe6\\xb5\\x81\\xe8\\xa1\\x8c\\xe3\\x81\\xae\\xe8\\xa8\\xb3</span></h1></div></div></a></article></li><li class=\"_2j0udhv5jERZtYzddeDwcv\"><article class=\"QLtbNZwO-lssuRUcWewbd\" data-ual-view-type=\"list\" data-ual=\"id_type:shannon_article;content_id:c5e2daa91a30527ba66b0ca9b57c8c554263b8d7;element_id:first-main-topics-text\"><a class=\"yMWCYupQNdgppL-NV6sMi _3sAlKGsIBCxTUbNi86oSjt\" href=\"https://news.yahoo.co.jp/pickup/6468623\" data-cl-params=\"_cl_vmodule:tpto;_cl_link:title;_cl_position:4;tpid:6468623;imgsize:s;cmt_num:720\" data-ual-gotocontent=\"true\"><div class=\"_2cXD1uC4eaOih4-zkRgqjU\"><div class=\"TRuzXRRZHRqbqgLUCCco9\"><h1 class=\"_3cl937Zpn1ce8mDKd5kp7u\"><span class=\"fQMqQTGJTbIMxjQwZA2zk _1alzSpTqJzvSVUWqpx82d4\">\\xe7\\xa7\\x8b\\xe7\\xaf\\xa0\\xe5\\xae\\xae\\xe3\\x81\\x94\\xe5\\xa4\\xab\\xe5\\xa6\\xbb \\xe3\\x83\\x99\\xe3\\x83\\x88\\xe3\\x83\\x8a\\xe3\\x83\\xa0\\xe8\\xa8\\xaa\\xe5\\x95\\x8f\\xe3\\x81\\xb8</span></h1><span class=\"_2obRU_TgAxzHaYqOXrZYlv\"><span class=\"h4yLXygiSc5wwNlJOQEdz _1dr5aVDbNPF63JCS2bJhij _2M3AyDfFaeJl3Uo7lUPMAp\" style=\"width:30px;height:12px\">NEW</span></span></div></div></a></article></li><li class=\"_2j0udhv5jERZtYzddeDwcv\"><article class=\"QLtbNZwO-lssuRUcWewbd\" data-ual-view-type=\"list\" data-ual=\"id_type:shannon_article;content_id:486842012ead958f7008431f303fdb5b259c207d;element_id:first-main-topics-text\"><a class=\"yMWCYupQNdgppL-NV6sMi _3sAlKGsIBCxTUbNi86oSjt\" href=\"https://news.yahoo.co.jp/pickup/6468620\" data-cl-params=\"_cl_vmodule:tpto;_cl_link:title;_cl_position:5;tpid:6468620;imgsize:s;cmt_num:499\" data-ual-gotocontent=\"true\"><div class=\"_2cXD1uC4eaOih4-zkRgqjU\"><div class=\"TRuzXRRZHRqbqgLUCCco9\"><h1 class=\"_3cl937Zpn1ce8mDKd5kp7u\"><span class=\"fQMqQTGJTbIMxjQwZA2zk _1alzSpTqJzvSVUWqpx82d4\">Threads 7\\xe6\\x99\\x82\\xe9\\x96\\x93\\xe3\\x81\\xa71000\\xe4\\xb8\\x87\\xe4\\xba\\xba\\xe3\\x81\\x8c\\xe7\\x99\\xbb\\xe9\\x8c\\xb2</span></h1></div></div></a></article></li><li class=\"_2j0udhv5jERZtYzddeDwcv\"><article class=\"QLtbNZwO-lssuRUcWewbd\" data-ual-view-type=\"list\" data-ual=\"id_type:shannon_article;content_id:09b54115b956feddda6ca3796a4c07b0236a4355;element_id:first-main-topics-text\"><a class=\"yMWCYupQNdgppL-NV6sMi _3sAlKGsIBCxTUbNi86oSjt\" href=\"https://news.yahoo.co.jp/pickup/6468628\" data-cl-params=\"_cl_vmodule:tpto;_cl_link:title;_cl_position:6;tpid:6468628;imgsize:s;cmt_num:174\" data-ual-gotocontent=\"true\"><div class=\"_2cXD1uC4eaOih4-zkRgqjU\"><div class=\"TRuzXRRZHRqbqgLUCCco9\"><h1 class=\"_3cl937Zpn1ce8mDKd5kp7u\"><span class=\"fQMqQTGJTbIMxjQwZA2zk _1alzSpTqJzvSVUWqpx82d4\">\\xe7\\x8f\\x8d\\xe3\\x83\\x97\\xe3\\x83\\xac\\xe3\\x83\\xbc \\xe6\\x8d\\x95\\xe6\\x89\\x8b\\xe3\\x81\\xae\\xe9\\x98\\xb2\\xe5\\x85\\xb7\\xe3\\x81\\xab\\xe6\\x8a\\x95\\xe7\\x90\\x83\\xe6\\x8c\\x9f\\xe3\\x81\\xbe\\xe3\\x82\\x8b</span></h1><span class=\"_2obRU_TgAxzHaYqOXrZYlv\"><span class=\"h4yLXygiSc5wwNlJOQEdz _1dr5aVDbNPF63JCS2bJhij _2M3AyDfFaeJl3Uo7lUPMAp\" style=\"width:30px;height:12px\">NEW</span></span></div></div></a></article></li><li class=\"_2j0udhv5jERZtYzddeDwcv\"><article class=\"QLtbNZwO-lssuRUcWewbd\" data-ual-view-type=\"list\" data-ual=\"id_type:shannon_article;content_id:495d4231748a32d8a581a5ba5acdcfeadab934c1;element_id:first-main-topics-text\"><a class=\"yMWCYupQNdgppL-NV6sMi _3sAlKGsIBCxTUbNi86oSjt\" href=\"https://news.yahoo.co.jp/pickup/6468622\" data-cl-params=\"_cl_vmodule:tpto;_cl_link:title;_cl_position:7;tpid:6468622;imgsize:s;cmt_num:984\" data-ual-gotocontent=\"true\"><div class=\"_2cXD1uC4eaOih4-zkRgqjU\"><div class=\"TRuzXRRZHRqbqgLUCCco9\"><h1 class=\"_3cl937Zpn1ce8mDKd5kp7u\"><span class=\"fQMqQTGJTbIMxjQwZA2zk _1alzSpTqJzvSVUWqpx82d4\">\\xe5\\xa4\\xa9\\xe6\\xb0\\x97\\xe3\\x82\\xad\\xe3\\x83\\xa3\\xe3\\x82\\xb9\\xe3\\x82\\xbf\\xe3\\x83\\xbc\\xe6\\xaa\\x9c\\xe5\\xb1\\xb1\\xe6\\xb2\\x99\\xe8\\x80\\xb6 \\xe4\\xba\\xa4\\xe9\\x9a\\x9b\\xe7\\x99\\xba\\xe8\\xa1\\xa8</span></h1></div></div></a></article></li><li class=\"_2j0udhv5jERZtYzddeDwcv\"><article class=\"QLtbNZwO-lssuRUcWewbd\" data-ual-view-type=\"list\" data-ual=\"id_type:shannon_article;content_id:713f9e787f7c802474e616795734de23fa4b1612;element_id:first-main-topics-text\"><a class=\"yMWCYupQNdgppL-NV6sMi _3sAlKGsIBCxTUbNi86oSjt\" href=\"https://news.yahoo.co.jp/pickup/6468614\" data-cl-params=\"_cl_vmodule:tpto;_cl_link:title;_cl_position:8;tpid:6468614;imgsize:s;cmt_num:298\" data-ual-gotocontent=\"true\"><div class=\"_2cXD1uC4eaOih4-zkRgqjU\"><div class=\"TRuzXRRZHRqbqgLUCCco9\"><h1 class=\"_3cl937Zpn1ce8mDKd5kp7u\"><span class=\"fQMqQTGJTbIMxjQwZA2zk _1alzSpTqJzvSVUWqpx82d4\">\\xe5\\xa4\\x8f\\xe3\\x81\\xbe\\xe3\\x82\\x86\\xe3\\x81\\xbf\\xe3\\x81\\x95\\xe3\\x82\\x93\\xe6\\xad\\xbb\\xe5\\x8e\\xbb \\xe3\\x81\\xa4\\xe3\\x82\\x93\\xe3\\x81\\x8f\\xe3\\x81\\x8c\\xe8\\xbf\\xbd\\xe6\\x82\\xbc</span></h1></div></div></a></article></li></ul></div><div class=\"_3sm0x0pVyxLkf4q9ubmXSL\"><article><a class=\"yMWCYupQNdgppL-NV6sMi _3sAlKGsIBCxTUbNi86oSjt\" href=\"https://news.yahoo.co.jp/articles/5017a7b91c060eb59a8d13e3d11a62b95be8b7cb/images/000\" data-cl-params=\"_cl_vmodule:tpto;_cl_link:title;_cl_position:9;imgsize:l\"><div class=\"_1EYwdR4JxrwgpIvWk7vO3f\"><h1 class=\"RS4h_eDWC6FIIyYMupWR0\"><span class=\"fQMqQTGJTbIMxjQwZA2zk _1alzSpTqJzvSVUWqpx82d4\">\\xe3\\x80\\x8c\\xe7\\xa5\\x88\\xe3\\x82\\x8a\\xe3\\x81\\xae\\xe7\\x81\\xaf\\xe3\\x80\\x8d</span></h1><p class=\"_2e8OreFgYIc3gdzYJLKAMA\"><time class=\"_1GD9Sx7FpCs4EuL3bT974r\">7/6(\\xe6\\x9c\\xa8) 21:26</time></p><div class=\"_1pfcRKnf6y-2AXzpXf0vrb\"><cite class=\"O9jggTRv0zy3XcPayfJLa\">\\xe5\\xb1\\xb1\\xe9\\x99\\xbd\\xe6\\x96\\xb0\\xe8\\x81\\x9e\\xe3\\x83\\x87\\xe3\\x82\\xb8\\xe3\\x82\\xbf\\xe3\\x83\\xab</cite></div><div class=\"_1UmUawjY6VSzmTK3Y-1sjq\"><span class=\"rStpk9W4eUO5IMVhnJylj\"><picture><source type=\"image/webp\" srcSet=\"https://news-pctr.c.yimg.jp/t/news-topics/images/tpc/2023/7/6/59ee84d1c7d5dc818d481fa6049afba5a5f928c0ae6ffc969bcc47c30811e079.jpg?h=200&amp;w=200&amp;pri=l&amp;fmt=webp\"/><img src=\"https://news-pctr.c.yimg.jp/t/news-topics/images/tpc/2023/7/6/59ee84d1c7d5dc818d481fa6049afba5a5f928c0ae6ffc969bcc47c30811e079.jpg?h=200&amp;w=200&amp;pri=l\" width=\"90\" height=\"55.12500000000001\" alt=\"\"/></picture></span></div></div></a></article></div></div><footer class=\"_14QMUEF7FBJllh14_fachi\"><ul class=\"g0enqV_RXcWSi7gOheAhU\"><li class=\"_3gXYBXvKzn55TlnxGoxJ5j\"><span class=\"fQMqQTGJTbIMxjQwZA2zk _1alzSpTqJzvSVUWqpx82d4\"><a class=\"yMWCYupQNdgppL-NV6sMi _3sAlKGsIBCxTUbNi86oSjt\" href=\"https://news.yahoo.co.jp/topics/top-picks\" data-cl-params=\"_cl_vmodule:tpto;_cl_link:more;_cl_position:0\">\\xe3\\x82\\x82\\xe3\\x81\\xa3\\xe3\\x81\\xa8\\xe8\\xa6\\x8b\\xe3\\x82\\x8b</a></span></li><li class=\"_3gXYBXvKzn55TlnxGoxJ5j\"><span class=\"fQMqQTGJTbIMxjQwZA2zk _1alzSpTqJzvSVUWqpx82d4\"><a class=\"yMWCYupQNdgppL-NV6sMi _3sAlKGsIBCxTUbNi86oSjt\" href=\"https://news.yahoo.co.jp/topics\" data-cl-params=\"_cl_vmodule:tpto;_cl_link:list;_cl_position:0\">\\xe3\\x83\\x88\\xe3\\x83\\x94\\xe3\\x83\\x83\\xe3\\x82\\xaf\\xe3\\x82\\xb9\\xe4\\xb8\\x80\\xe8\\xa6\\xa7</a></span></li></ul></footer></section></div></article></div></div><div class=\"_18Y5F9M1FtUYbDxoMln3x7\"><footer id=\"footer\" role=\"contentinfo\" class=\"_2GpKo0TlJwonmUj2nqQxuE ult__mods\"><ul><li class=\"_2dqDKArI6iGaA3nS7xNUmE\"><dl><dt class=\"_2X2lsrA-jZqBKb6bsA9Vnr\"><span class=\"fQMqQTGJTbIMxjQwZA2zk _3tGRl6x9iIWRiFTkKl3kcR\">\\xe3\\x83\\xa4\\xe3\\x83\\x95\\xe3\\x83\\xbc\\xe6\\xa0\\xaa\\xe5\\xbc\\x8f\\xe4\\xbc\\x9a\\xe7\\xa4\\xbe</span></dt><dd><ul class=\"_3I3C2VL0OPEm7Iyt-OCFz0\"><li class=\"_3b1WmJCwznSYqqf7ptd54g\"><a class=\"yMWCYupQNdgppL-NV6sMi _3sAlKGsIBCxTUbNi86oSjt\" href=\"https://about.yahoo.co.jp/\" data-cl-params=\"_cl_link:comp;_cl_position:0\">\\xe4\\xbc\\x9a\\xe7\\xa4\\xbe\\xe6\\xa6\\x82\\xe8\\xa6\\x81</a></li><li class=\"_3b1WmJCwznSYqqf7ptd54g\"><a class=\"yMWCYupQNdgppL-NV6sMi _3sAlKGsIBCxTUbNi86oSjt\" href=\"https://about.yahoo.co.jp/csr/\" data-cl-params=\"_cl_link:soc;_cl_position:0\">\\xe7\\xa4\\xbe\\xe4\\xbc\\x9a\\xe7\\x9a\\x84\\xe8\\xb2\\xac\\xe4\\xbb\\xbb</a></li><li class=\"_3b1WmJCwznSYqqf7ptd54g\"><a class=\"yMWCYupQNdgppL-NV6sMi _3sAlKGsIBCxTUbNi86oSjt\" href=\"https://marketing.yahoo.co.jp/\" data-cl-params=\"_cl_link:ad;_cl_position:0\">\\xe5\\xba\\x83\\xe5\\x91\\x8a\\xe6\\x8e\\xb2\\xe8\\xbc\\x89\\xe3\\x81\\xab\\xe3\\x81\\xa4\\xe3\\x81\\x84\\xe3\\x81\\xa6</a></li><li class=\"_3b1WmJCwznSYqqf7ptd54g\"><a class=\"yMWCYupQNdgppL-NV6sMi _3sAlKGsIBCxTUbNi86oSjt\" href=\"https://about.yahoo.co.jp/hr/\" data-cl-params=\"_cl_link:hr;_cl_position:0\">\\xe6\\x8e\\xa1\\xe7\\x94\\xa8\\xe6\\x83\\x85\\xe5\\xa0\\xb1</a></li></ul><ul class=\"_3I3C2VL0OPEm7Iyt-OCFz0\"><li class=\"_3b1WmJCwznSYqqf7ptd54g\"><a class=\"yMWCYupQNdgppL-NV6sMi _3sAlKGsIBCxTUbNi86oSjt\" href=\"https://about.yahoo.co.jp/common/terms/\" data-cl-params=\"_cl_link:agreement;_cl_position:0\">\\xe5\\x88\\xa9\\xe7\\x94\\xa8\\xe8\\xa6\\x8f\\xe7\\xb4\\x84</a></li><li class=\"_3b1WmJCwznSYqqf7ptd54g\"><a class=\"yMWCYupQNdgppL-NV6sMi _3sAlKGsIBCxTUbNi86oSjt\" href=\"https://about.yahoo.co.jp/common/disclaimer/\" data-cl-params=\"_cl_link:disc;_cl_position:0\">\\xe5\\x85\\x8d\\xe8\\xb2\\xac\\xe4\\xba\\x8b\\xe9\\xa0\\x85</a></li><li class=\"_3b1WmJCwznSYqqf7ptd54g\"><a class=\"yMWCYupQNdgppL-NV6sMi _3sAlKGsIBCxTUbNi86oSjt\" href=\"https://about.yahoo.co.jp/common/mediastatement/\" data-cl-params=\"_cl_link:state;_cl_position:0\">\\xe3\\x83\\xa1\\xe3\\x83\\x87\\xe3\\x82\\xa3\\xe3\\x82\\xa2\\xe3\\x82\\xb9\\xe3\\x83\\x86\\xe3\\x83\\xbc\\xe3\\x83\\x88\\xe3\\x83\\xa1\\xe3\\x83\\xb3\\xe3\\x83\\x88</a></li><li class=\"_3b1WmJCwznSYqqf7ptd54g\"><a class=\"yMWCYupQNdgppL-NV6sMi _3sAlKGsIBCxTUbNi86oSjt\" href=\"https://privacy.yahoo.co.jp/\" data-cl-params=\"_cl_link:policy;_cl_position:0\">\\xe3\\x83\\x97\\xe3\\x83\\xa9\\xe3\\x82\\xa4\\xe3\\x83\\x90\\xe3\\x82\\xb7\\xe3\\x83\\xbc</a></li></ul></dd></dl></li><li class=\"_2dqDKArI6iGaA3nS7xNUmE\"><dl><dt class=\"_2X2lsrA-jZqBKb6bsA9Vnr\"><span class=\"fQMqQTGJTbIMxjQwZA2zk _3tGRl6x9iIWRiFTkKl3kcR\">Z\\xe3\\x83\\x9b\\xe3\\x83\\xbc\\xe3\\x83\\xab\\xe3\\x83\\x87\\xe3\\x82\\xa3\\xe3\\x83\\xb3\\xe3\\x82\\xb0\\xe3\\x82\\xb9\\xe6\\xa0\\xaa\\xe5\\xbc\\x8f\\xe4\\xbc\\x9a\\xe7\\xa4\\xbe</span></dt><dd><ul class=\"_3I3C2VL0OPEm7Iyt-OCFz0\"><li class=\"_3b1WmJCwznSYqqf7ptd54g\"><a class=\"yMWCYupQNdgppL-NV6sMi _3sAlKGsIBCxTUbNi86oSjt\" href=\"https://www.z-holdings.co.jp/\" data-cl-params=\"_cl_link:z_comp;_cl_position:0\">\\xe4\\xbc\\x9a\\xe7\\xa4\\xbe\\xe6\\xa6\\x82\\xe8\\xa6\\x81</a></li><li class=\"_3b1WmJCwznSYqqf7ptd54g\"><a class=\"yMWCYupQNdgppL-NV6sMi _3sAlKGsIBCxTUbNi86oSjt\" href=\"https://www.z-holdings.co.jp/ir/\" data-cl-params=\"_cl_link:ir;_cl_position:0\">\\xe6\\x8a\\x95\\xe8\\xb3\\x87\\xe5\\xae\\xb6\\xe6\\x83\\x85\\xe5\\xa0\\xb1</a></li></ul></dd></dl></li></ul><p class=\"_3rCO0-ffBAEkCS8URNYQBC\"><small class=\"_1wf30cBtHv6aK8mAYdYbuo\">\\xc2\\xa9 Yahoo Japan</small></p></footer></div></main></div></div><script src=\"https://s.yimg.jp/images/ds/cl/ds-custom-logger-1.1.0.min.js\"></script><script>(function(){\\n  var osmode = \"unknown\";\\n  if (typeof window.matchMedia !== \"undefined\") {\\n    if (window.matchMedia(\"(prefers-color-scheme: dark)\").matches) {\\n      osmode = \"dark\";\\n    } else if (window.matchMedia(\"(prefers-color-scheme: light)\").matches) {\\n      osmode = \"light\";\\n    }\\n  }\\n  var cl = new DSCustomLogger.CustomLogger();\\n  window.__logger = cl.setHierarchyid(\"2079181999\")\\n    .targetClass(\"ult__mods\")\\n    .targetViewableClass(\"vult__mods\")\\n    .startViewable()\\n    .setPageData({\"service\":\"toppage\",\"pagetype\":\"top\",\"status\":\"logout\",\"device\":\"pc\",\"os\":\"other\",\"apptype\":\"web\",\"opttype\":\"pc\",\"mtestid\":\"\",\"ybb\":\"0\",\"premium\":\"0\",\"paypay\":\"0\",\"jis\":\"02201\",\"location\":\"ip\",\"grade\":\"c\"})\\n    .setPageData({ osmode: osmode })\\n    .initCustomLoggerCore();\\n})();</script><script src=\"https://s.yimg.jp/images/ds/yas/ual-2.10.2.min.js\"></script><script>(function(){\\n  window.ualcmds = window.ualcmds || [];\\n  window.ual = window.ual || function() {\\n    ualcmds.push(arguments);\\n  };\\n\\n  ual(\\'config\\', \\'token\\', \\'4465a92c-f0fd-406f-b519-efd409cc9849\\');\\n\\n  ual(\\'global\\', {\\n    service: \"toppage\",\\n    apptype: \"web\",\\n    mtestid: \"\",\\n    opttype: \"pc\"\\n  });\\n  ual(\\'offset\\', {\\n    auto: true\\n  });\\n  ual(\\'ctrl\\', \\'start\\');\\n})();</script></body></html>'"
      ]
     },
     "execution_count": 5,
     "metadata": {},
     "output_type": "execute_result"
    }
   ],
   "source": [
    "#コンピュータ\n",
    "response.content"
   ]
  },
  {
   "cell_type": "code",
   "execution_count": 6,
   "id": "a1424d5d-eff3-49d6-9109-18231d9ed9a7",
   "metadata": {
    "tags": []
   },
   "outputs": [
    {
     "data": {
      "text/plain": [
       "'UTF-8'"
      ]
     },
     "execution_count": 6,
     "metadata": {},
     "output_type": "execute_result"
    }
   ],
   "source": [
    "response.encoding"
   ]
  },
  {
   "cell_type": "code",
   "execution_count": 7,
   "id": "ff65951b-dea3-4e2d-811c-8cf28d942202",
   "metadata": {
    "tags": []
   },
   "outputs": [
    {
     "data": {
      "text/plain": [
       "{'Server': 'nginx', 'Date': 'Thu, 06 Jul 2023 13:22:13 GMT', 'Content-Type': 'text/html; charset=UTF-8', 'Accept-Ranges': 'none', 'Cache-Control': 'private, no-cache, no-store, must-revalidate', 'Content-Encoding': 'gzip', 'Expires': '-1', 'Pragma': 'no-cache', 'Set-Cookie': 'B=7j9pkvhiadg05&b=3&s=oa; expires=Sun, 06-Jul-2025 13:22:13 GMT; path=/; domain=.yahoo.co.jp; Secure, XB=7j9pkvhiadg05&b=3&s=oa; expires=Sun, 06-Jul-2025 13:22:13 GMT; path=/; domain=.yahoo.co.jp; secure; samesite=none', 'Vary': 'Accept-Encoding', 'X-Content-Type-Options': 'nosniff', 'X-Frame-Options': 'SAMEORIGIN', 'X-Vcap-Request-Id': '4ee5657b-3fb1-486a-4854-244a262c2dcb', 'X-Xss-Protection': '1; mode=block', 'Age': '0', 'Transfer-Encoding': 'chunked', 'Connection': 'keep-alive', 'Accept-CH': 'Sec-CH-UA-Full-Version-List, Sec-CH-UA-Model, Sec-CH-UA-Platform-Version, Sec-CH-UA-Arch', 'Permissions-Policy': 'ch-ua-full-version-list=*, ch-ua-model=*, ch-ua-platform-version=*, ch-ua-arch=*'}"
      ]
     },
     "execution_count": 7,
     "metadata": {},
     "output_type": "execute_result"
    }
   ],
   "source": [
    "response.headers"
   ]
  },
  {
   "cell_type": "code",
   "execution_count": 8,
   "id": "4e5f3477-5d7e-4fa5-830d-b2afd8490593",
   "metadata": {
    "tags": []
   },
   "outputs": [
    {
     "name": "stdout",
     "output_type": "stream",
     "text": [
      "Server   nginx\n",
      "Date   Thu, 06 Jul 2023 13:22:13 GMT\n",
      "Content-Type   text/html; charset=UTF-8\n",
      "Accept-Ranges   none\n",
      "Cache-Control   private, no-cache, no-store, must-revalidate\n",
      "Content-Encoding   gzip\n",
      "Expires   -1\n",
      "Pragma   no-cache\n",
      "Set-Cookie   B=7j9pkvhiadg05&b=3&s=oa; expires=Sun, 06-Jul-2025 13:22:13 GMT; path=/; domain=.yahoo.co.jp; Secure, XB=7j9pkvhiadg05&b=3&s=oa; expires=Sun, 06-Jul-2025 13:22:13 GMT; path=/; domain=.yahoo.co.jp; secure; samesite=none\n",
      "Vary   Accept-Encoding\n",
      "X-Content-Type-Options   nosniff\n",
      "X-Frame-Options   SAMEORIGIN\n",
      "X-Vcap-Request-Id   4ee5657b-3fb1-486a-4854-244a262c2dcb\n",
      "X-Xss-Protection   1; mode=block\n",
      "Age   0\n",
      "Transfer-Encoding   chunked\n",
      "Connection   keep-alive\n",
      "Accept-CH   Sec-CH-UA-Full-Version-List, Sec-CH-UA-Model, Sec-CH-UA-Platform-Version, Sec-CH-UA-Arch\n",
      "Permissions-Policy   ch-ua-full-version-list=*, ch-ua-model=*, ch-ua-platform-version=*, ch-ua-arch=*\n"
     ]
    }
   ],
   "source": [
    "for key, value in response.headers.items():\n",
    "    print(key, \" \", value)"
   ]
  },
  {
   "cell_type": "code",
   "execution_count": 9,
   "id": "b74feb27-a395-466e-a632-28fc473dc2ef",
   "metadata": {
    "tags": []
   },
   "outputs": [
    {
     "data": {
      "text/plain": [
       "<RequestsCookieJar[Cookie(version=0, name='B', value='7j9pkvhiadg05&b=3&s=oa', port=None, port_specified=False, domain='.yahoo.co.jp', domain_specified=True, domain_initial_dot=True, path='/', path_specified=True, secure=True, expires=1751808133, discard=False, comment=None, comment_url=None, rest={}, rfc2109=False), Cookie(version=0, name='XB', value='7j9pkvhiadg05&b=3&s=oa', port=None, port_specified=False, domain='.yahoo.co.jp', domain_specified=True, domain_initial_dot=True, path='/', path_specified=True, secure=True, expires=1751808133, discard=False, comment=None, comment_url=None, rest={'samesite': 'none'}, rfc2109=False)]>"
      ]
     },
     "execution_count": 9,
     "metadata": {},
     "output_type": "execute_result"
    }
   ],
   "source": [
    "response.cookies"
   ]
  },
  {
   "cell_type": "code",
   "execution_count": 10,
   "id": "8df253d9-2e20-487b-88ec-51b063921f20",
   "metadata": {
    "tags": []
   },
   "outputs": [],
   "source": [
    "user_agent = \"Mozilla/5.0 (Macintosh; Intel Mac OS X 10_15_7) AppleWebKit/537.36 (KHTML, like Gecko) Chrome/114.0.0.0 Safari/537.36\""
   ]
  },
  {
   "cell_type": "code",
   "execution_count": 11,
   "id": "eed518d8-b1be-4f9d-b307-01acd292cb00",
   "metadata": {
    "tags": []
   },
   "outputs": [],
   "source": [
    "header = {\"user_agent\":user_agent}"
   ]
  },
  {
   "cell_type": "code",
   "execution_count": 12,
   "id": "6bed2cca-6d88-4012-a3ca-4395bbc6d386",
   "metadata": {
    "tags": []
   },
   "outputs": [],
   "source": [
    "url = \"https://www.yahoo.co.jp/\""
   ]
  },
  {
   "cell_type": "code",
   "execution_count": 13,
   "id": "021744ad-2936-408e-8be6-8e76a7b02526",
   "metadata": {
    "tags": []
   },
   "outputs": [],
   "source": [
    "response = requests.get(url, headers=header)"
   ]
  },
  {
   "cell_type": "code",
   "execution_count": 14,
   "id": "6e39c623-5476-49c8-9dc2-d1d46d77fd19",
   "metadata": {
    "tags": []
   },
   "outputs": [
    {
     "data": {
      "text/plain": [
       "200"
      ]
     },
     "execution_count": 14,
     "metadata": {},
     "output_type": "execute_result"
    }
   ],
   "source": [
    "response.status_code"
   ]
  },
  {
   "cell_type": "code",
   "execution_count": 15,
   "id": "1338383d-ee1b-41c8-9599-6ecbb566b8ee",
   "metadata": {
    "tags": []
   },
   "outputs": [
    {
     "data": {
      "text/plain": [
       "'<!DOCTYPE html><html lang=\"ja\"><head><meta charSet=\"utf-8\"/><meta http-equiv=\"X-UA-Compatible\" content=\"IE=edge,chrome=1\"/><title>Yahoo! JAPAN</title><meta name=\"description\" content=\"あなたの毎日をアップデートする情報ポータル。検索、ニュース、天気、スポーツ、メール、ショッピング、オークションなど便利なサービスを展開しています。\"/><meta name=\"robots\" content=\"noodp\"/><meta name=\"viewport\" content=\"width=1010\"/><link rel=\"dns-prefetch\" href=\"//s.yimg.jp\"/><link rel=\"dns-prefetch\" href=\"//yads.c.yimg.jp\"/><meta name=\"google-site-verification\" content=\"fsLMOiigp5fIpCDMEVodQnQC7jIY1K3UXW5QkQcBmVs\"/><link rel=\"alternate\" href=\"android-app://jp.co.yahoo.android.yjtop/yahoojapan/home/top\"/><link rel=\"alternate\" media=\"only screen and (max-width: 640px)\" href=\"https://m.yahoo.co.jp/\"/><link rel=\"canonical\" href=\"https://www.yahoo.co.jp/\"/><link rel=\"shortcut icon\" href=\"https://s.yimg.jp/c/icon/s/bsc/2.0/favicon.ico\" type=\"image/vnd.microsoft.icon\"/><link rel=\"icon\" href=\"https://s.yimg.jp/c/icon/s/bsc/2.0/favicon.ico\" type=\"image/vnd.microsoft.icon\"/><link rel=\"apple-touch-icon\" href=\"https://s.yimg.jp/c/icon/s/bsc/2.0/y120.png\"/><meta property=\"og:title\" content=\"Yahoo! JAPAN\"/><meta property=\"og:type\" content=\"website\"/><meta property=\"og:url\" content=\"https://www.yahoo.co.jp/\"/><meta property=\"og:image\" content=\"https://s.yimg.jp/images/top/ogp/fb_y_1500px.png\"/><meta property=\"og:description\" content=\"あなたの毎日をアップデートする情報ポータル。検索、ニュース、天気、スポーツ、メール、ショッピング、オークションなど便利なサービスを展開しています。\"/><meta property=\"og:site_name\" content=\"Yahoo! JAPAN\"/><meta property=\"twitter:card\" content=\"summary_large_image\"/><meta property=\"twitter:site\" content=\"@Yahoo_JAPAN_PR\"/><meta property=\"twitter:image\" content=\"https://s.yimg.jp/images/top/ogp/tw_y_1400px.png\"/><meta property=\"fb:app_id\" content=\"472870002762883\"/><link rel=\"stylesheet\" href=\"//s.yimg.jp/images/yjtop-pc/orion/v164/bundle_v164.css\"/><script>window.onbeforeunload = function() {}</script><script>\\n            var TLDataContext = {\\n              ual : {\\n                pageview : {\\n                  service: \"toppage\",\\n                  apptype: \"web\",\\n                  opttype: \"pc\",\\n                  hierarchy_id: \"2079181999\",\\n                  content_id : \\'\\',\\n                  id_type : \\'\\',\\n                  nopv : \\'false\\',\\n                  mtestid: \"\",\\n                  ss_join_id : \\'\\',\\n                  ss_join_id_type : \\'\\',\\n                }\\n              }\\n            };</script><script>(function () {\\n              var tagjs = document.createElement(\"script\");\\n              var s = document.getElementsByTagName(\"script\")[0];\\n              tagjs.async = true;\\n              tagjs.src = \"https://s.yjtag.jp/tag.js#site=2wzBV9u\";\\n              s.parentNode.insertBefore(tagjs, s);\\n            }());</script><script src=\"https://yads.c.yimg.jp/js/yads-async.js\"></script><link rel=\"preconnect\" href=\"//logql.yahoo.co.jp\"/><link rel=\"preconnect\" href=\"//yjtag.yahoo.co.jp\"/><link rel=\"preconnect\" href=\"//yeas.yahoo.co.jp\"/><link rel=\"preconnect\" href=\"//cas.criteo.com\"/><link rel=\"preconnect\" href=\"//ybx-test.yahoo.co.jp\"/><link rel=\"preconnect\" href=\"//quriosity.yahoo.co.jp\"/></head><body><noscript><iframe title=\"PageCount\" src=\"https://b.yjtag.jp/iframe?c=2wzBV9u\" width=\"1\" height=\"1\" frameBorder=\"0\" scrolling=\"no\" marginHeight=\"0\" marginWidth=\"0\"></iframe></noscript><script>bucket_id_for_ad = \\'\\'; bucket_ids = \\'\\';</script><script>window.YAHOO = window.YAHOO || {};\\n              window.YAHOO.JP = window.YAHOO.JP || {};\\n              window.YAHOO.JP.Fp = window.YAHOO.JP.Fp || {};\\n              window.YAHOO.JP.Fp.ads = window.YAHOO.JP.Fp.ads || {};\\n              window.YAHOO.JP.Fp.ads.sidehide = true;</script><div id=\"wrapper\" class=\"_1DyDVN-3FsqGF_QKLg1M9G\" data-rma-pos=\"GYJ\"><div id=\"ContentWrapper\"><header class=\"_2ZLZK6xsD6ls7W_ryou_ED\"><div id=\"Masthead\" class=\"_1mo4G7fxHMqUog3vJGxY2_ ult__mods\"><h1 class=\"_3YIqBohnzWyU3NQ8zb-mQI _1dr5aVDbNPF63JCS2bJhij\"><a class=\"yMWCYupQNdgppL-NV6sMi _3sAlKGsIBCxTUbNi86oSjt\" href=\"https://www.yahoo.co.jp\" data-cl-params=\"_cl_vmodule:header;_cl_link:logo;_cl_position:0\">Yahoo! JAPAN</a></h1><div class=\"_15h66qPnVy4iQzPepgAaiY\"><ul class=\"_6iDyy-CUks251J9k1epBP\"><li class=\"_3gsf81y-6_ZDi-j-tMaVHe\"><a class=\"yMWCYupQNdgppL-NV6sMi _3sAlKGsIBCxTUbNi86oSjt\" href=\"https://rdr.yahoo.co.jp/v1/label=L3ByZW1pdW0veXRvcC9pY29uLw/p=premium_datalake/d=premium_redirect/tk=8d38b1c7-f7b7-4450-9332-535e226244ff/ru=aHR0cHM6Ly9wcmVtaXVtLnlhaG9vLmNvLmpwLw/\" data-cl-params=\"_cl_vmodule:header;_cl_link:premium;_cl_position:0\" aria-label=\"プレミアムへ遷移する\"><p class=\"oLvk9L5Yk-9JOuzi-OHW5\"><span class=\"t_jb9bKlgIcajcRS2hZAP\">プレミアム</span><span class=\"_2Uq6Pw5lfFfxr_OD36xHp6 _1dr5aVDbNPF63JCS2bJhij Y8gFtzzcdGMdFngRO9qFV\" style=\"width:36px;height:36px\"></span></p></a></li><li class=\"_3gsf81y-6_ZDi-j-tMaVHe\"><a class=\"yMWCYupQNdgppL-NV6sMi _3sAlKGsIBCxTUbNi86oSjt\" href=\"https://www.paypay-card.co.jp?utm_source=YTOP&amp;utm_medium=mhd&amp;utm_campaign=pc\" data-cl-params=\"_cl_vmodule:header;_cl_link:paypaycard;_cl_position:0\" aria-label=\"カードへ遷移する\"><p class=\"oLvk9L5Yk-9JOuzi-OHW5\"><span class=\"t_jb9bKlgIcajcRS2hZAP\">カード</span><span class=\"_2Uq6Pw5lfFfxr_OD36xHp6 _1dr5aVDbNPF63JCS2bJhij P1WzQfoRll3q8GIGneUYg\" style=\"width:36px;height:38px\"></span></p></a></li><li class=\"_3gsf81y-6_ZDi-j-tMaVHe\"><a class=\"yMWCYupQNdgppL-NV6sMi _3sAlKGsIBCxTUbNi86oSjt\" href=\"https://mail.yahoo.co.jp/\" data-cl-params=\"_cl_vmodule:header;_cl_link:mail;_cl_position:0\" aria-label=\"メールへ遷移する\"><p class=\"oLvk9L5Yk-9JOuzi-OHW5\"><span class=\"t_jb9bKlgIcajcRS2hZAP\">メール</span><span class=\"_2Uq6Pw5lfFfxr_OD36xHp6 _1dr5aVDbNPF63JCS2bJhij _3Qi5P0lTFbNkWishPzz8tb\" style=\"width:36px;height:38px\"></span></p></a></li></ul></div><div class=\"_2TzkLph0QyL9hAv5c53WeY\"><ul class=\"_6iDyy-CUks251J9k1epBP\"><li class=\"_3gsf81y-6_ZDi-j-tMaVHe\"><a class=\"yMWCYupQNdgppL-NV6sMi _3sAlKGsIBCxTUbNi86oSjt\" href=\"https://travel.yahoo.co.jp/ikCo.ashx?cosid=y_010017&amp;cosuid=ytmh&amp;surl=%2F&amp;sc_e=ytmh\" data-cl-params=\"_cl_vmodule:header;_cl_link:travel;_cl_position:0\" aria-label=\"トラベルへ遷移する\"><p class=\"oLvk9L5Yk-9JOuzi-OHW5\"><span class=\"t_jb9bKlgIcajcRS2hZAP\">トラベル</span><span class=\"_2Uq6Pw5lfFfxr_OD36xHp6 _1dr5aVDbNPF63JCS2bJhij _1yEKxUFSw-Xv2gaBZsYRuI\" style=\"width:38px;height:38px\"></span></p></a></li><li class=\"_3gsf81y-6_ZDi-j-tMaVHe\"><a class=\"yMWCYupQNdgppL-NV6sMi _3sAlKGsIBCxTUbNi86oSjt\" href=\"https://auctions.yahoo.co.jp/\" data-cl-params=\"_cl_vmodule:header;_cl_link:auction;_cl_position:0\" aria-label=\"ヤフオク!へ遷移する\"><p class=\"oLvk9L5Yk-9JOuzi-OHW5\"><span class=\"t_jb9bKlgIcajcRS2hZAP\">ヤフオク!</span><span class=\"_2Uq6Pw5lfFfxr_OD36xHp6 _1dr5aVDbNPF63JCS2bJhij _1K47f2oTmrnpusFOpVVqfY\" style=\"width:38px;height:38px\"></span></p></a></li><li class=\"_3gsf81y-6_ZDi-j-tMaVHe\"><a class=\"yMWCYupQNdgppL-NV6sMi _3sAlKGsIBCxTUbNi86oSjt\" href=\"https://shopping.yahoo.co.jp/?sc_e=ytmh\" data-cl-params=\"_cl_vmodule:header;_cl_link:shopping;_cl_position:0\" aria-label=\"ショッピングへ遷移する\"><p class=\"oLvk9L5Yk-9JOuzi-OHW5\"><span class=\"t_jb9bKlgIcajcRS2hZAP\">ショッピング</span><span class=\"_2Uq6Pw5lfFfxr_OD36xHp6 _1dr5aVDbNPF63JCS2bJhij MOLSPrtOUmdnYy_LgNt2f\" style=\"width:38px;height:38px\"></span></p></a></li></ul></div></div><section id=\"search\" class=\"ult__mods _1w9b7DyFfTztW-X6_zmnAE\"><div class=\"_2pgJollUxnY09eN4CPKMrS\"><h1 class=\"_1iMgPNrCw806mefWspPVMk _3v9VCsGKsktTB7eaN70w-n\">検索</h1><ul class=\"ZMlm7LHfZujKgm8NY-0N5\"><li><a href=\"https://search.yahoo.co.jp/\" class=\"y9H1Sj9hz4OlEq2_aEt5E\" aria-label=\"ウェブで検索\" tabindex=\"-1\" data-cl-params=\"_cl_vmodule:search;_cl_link:web_tab;_cl_position:0\"><span class=\"fQMqQTGJTbIMxjQwZA2zk _3tGRl6x9iIWRiFTkKl3kcR\"><span class=\"_1uQvvM7M_K0hc4e29lRa8 _2B_ETzo6nh1JNMLebSi_2p\">ウェブ</span></span></a></li><li><a href=\"https://search.yahoo.co.jp/image\" class=\"y9H1Sj9hz4OlEq2_aEt5E\" aria-label=\"画像で検索\" tabindex=\"-1\" data-cl-params=\"_cl_vmodule:search;_cl_link:img;_cl_position:0\"><span class=\"fQMqQTGJTbIMxjQwZA2zk _3tGRl6x9iIWRiFTkKl3kcR\"><span class=\"_1uQvvM7M_K0hc4e29lRa8\">画像</span></span></a></li><li><a href=\"https://search.yahoo.co.jp/video\" class=\"y9H1Sj9hz4OlEq2_aEt5E\" aria-label=\"動画で検索\" tabindex=\"-1\" data-cl-params=\"_cl_vmodule:search;_cl_link:vd;_cl_position:0\"><span class=\"fQMqQTGJTbIMxjQwZA2zk _3tGRl6x9iIWRiFTkKl3kcR\"><span class=\"_1uQvvM7M_K0hc4e29lRa8\">動画</span></span></a></li><li><a href=\"https://chiebukuro.yahoo.co.jp/\" class=\"y9H1Sj9hz4OlEq2_aEt5E\" aria-label=\"知恵袋で検索\" tabindex=\"-1\" data-cl-params=\"_cl_vmodule:search;_cl_link:chie;_cl_position:0\"><span class=\"fQMqQTGJTbIMxjQwZA2zk _3tGRl6x9iIWRiFTkKl3kcR\"><span class=\"_1uQvvM7M_K0hc4e29lRa8\">知恵袋</span></span></a></li><li><a href=\"https://map.yahoo.co.jp/\" class=\"y9H1Sj9hz4OlEq2_aEt5E\" aria-label=\"地図で検索\" tabindex=\"-1\" data-cl-params=\"_cl_vmodule:search;_cl_link:map;_cl_position:0\"><span class=\"fQMqQTGJTbIMxjQwZA2zk _3tGRl6x9iIWRiFTkKl3kcR\"><span class=\"_1uQvvM7M_K0hc4e29lRa8\">地図</span></span></a></li><li><a href=\"https://search.yahoo.co.jp/realtime\" class=\"y9H1Sj9hz4OlEq2_aEt5E\" aria-label=\"リアルタイムで検索\" tabindex=\"-1\" data-cl-params=\"_cl_vmodule:search;_cl_link:realtime;_cl_position:0\"><span class=\"fQMqQTGJTbIMxjQwZA2zk _3tGRl6x9iIWRiFTkKl3kcR\"><span class=\"_1uQvvM7M_K0hc4e29lRa8\">リアルタイム</span></span></a></li><li><a href=\"https://services.yahoo.co.jp/\" class=\"y9H1Sj9hz4OlEq2_aEt5E\" aria-label=\"一覧で検索\" tabindex=\"-1\" data-cl-params=\"_cl_vmodule:search;_cl_link:svc;_cl_position:0\"><span class=\"fQMqQTGJTbIMxjQwZA2zk _3tGRl6x9iIWRiFTkKl3kcR\"><span class=\"_1uQvvM7M_K0hc4e29lRa8\">一覧</span></span></a></li></ul><form action=\"https://search.yahoo.co.jp/search\" name=\"sf1\" method=\"get\" role=\"search\"><fieldset><legend>Yahoo!検索</legend><span class=\"DqAzAIGI9nNwKOFNu3ohH\"><input type=\"search\" class=\"n1Bw-ocbo_PYJUKDrSyHN\" name=\"p\" autoComplete=\"on\" aria-label=\"検索したいキーワードを入力してください\" aria-live=\"assertive\"/><button class=\"_3doZ1jaGSB3ytjCOeYg5nG\" type=\"submit\" data-cl-params=\"_cl_vmodule:search;_cl_link:web;_cl_position:0\"><span class=\"_4L_am9wbgiSNBUD50wbDA\"><span class=\"_3oyNASbPKmiq-iwh602OKt\">検索</span></span></button></span></fieldset><input type=\"hidden\" name=\"fr\" value=\"top_table\"/><input type=\"hidden\" name=\"ei\" value=\"UTF-8\"/><input type=\"hidden\" name=\"ts\"/><input type=\"hidden\" name=\"aq\" value=\"\"/></form></div></section><div id=\"Message\" class=\"ult__mods\"><noscript><section class=\"_1bzp-M2uxs86VaYq0IxNuy\"><h1 class=\"_2lQjNEXfrs2C14psQwQ5ai _3v9VCsGKsktTB7eaN70w-n\">JavaScriptの設定について</h1><div class=\"_19J_Z9KVKnQzOVKA0jkC4e\"><p><span class=\"fQMqQTGJTbIMxjQwZA2zk _3tGRl6x9iIWRiFTkKl3kcR\">JavaScriptが無効になっています。すべての機能を利用するためには、有効に設定してください。<br/>詳しくは「<a class=\"_1NzGMsC3awTFzjzXnvX-zV\" data-cl-params=\"_cl_vmodule:message;_cl_link:jsof;_cl_position:0\" href=\"https://support.yahoo-net.jp/noscript\">JavaScriptの設定方法</a>」をご覧ください。</span></p></div></section></noscript><section class=\"_1bzp-M2uxs86VaYq0IxNuy\"><h1 class=\"_2lQjNEXfrs2C14psQwQ5ai _3v9VCsGKsktTB7eaN70w-n\">推奨ブラウザーについて</h1><div class=\"_19J_Z9KVKnQzOVKA0jkC4e\"><p><span class=\"fQMqQTGJTbIMxjQwZA2zk _3tGRl6x9iIWRiFTkKl3kcR\">Yahoo! JAPANトップページの機能を正しくご利用いただくには、下記の環境が必要です。<span class=\"_1XWJVEK6heb_Paj9eU6R1u\">パソコンでご利用のお客様<br/>Windows：Edge 最新版 / Chrome 最新版 / Firefox 最新版\\u3000macOS：Safari 14.0以上</span><span class=\"_1XWJVEK6heb_Paj9eU6R1u\">タブレットでご利用のお客様<br/>iOS 11.0以降、または、Android4.4以降のOSに標準搭載されたブラウザー<br/>※日本国内版として発売されている端末でご利用ください。</span></span></p></div></section></div><section id=\"TopLink\" class=\"_2Pb7ROIJrC3Wj9bPxN4J7D ult__mods\"><h1 class=\"T29vXGZu-fmHRJfd123YZ _3v9VCsGKsktTB7eaN70w-n\">お知らせ</h1><ul class=\"QoCp7KDEt29FbN5hCjsCx\" aria-label=\"お知らせ\"><li class=\"_2ZzfUQqYuRip1h-aXoiCHV\"><a class=\"yMWCYupQNdgppL-NV6sMi _3sAlKGsIBCxTUbNi86oSjt\" href=\"https://shopping.yahoo.co.jp/promotion/gateway/public/fukushima/\" data-cl-params=\"_cl_vmodule:toplink;_cl_link:link;_cl_position:1;aid:3721703\"><span class=\"fQMqQTGJTbIMxjQwZA2zk _3tGRl6x9iIWRiFTkKl3kcR\"><span class=\"_3S2Wdrkt1LKANaWcLrZToT\">桃や和牛、地酒など15％オフ\\u3000福島の旬を体感</span></span></a></li><li class=\"_2ZzfUQqYuRip1h-aXoiCHV\"><a class=\"yMWCYupQNdgppL-NV6sMi _3sAlKGsIBCxTUbNi86oSjt\" href=\"https://ebookjapan.yahoo.co.jp/sale/31112/\" data-cl-params=\"_cl_vmodule:toplink;_cl_link:link;_cl_position:2;aid:3721715\"><span class=\"fQMqQTGJTbIMxjQwZA2zk _3tGRl6x9iIWRiFTkKl3kcR\"><span class=\"_3S2Wdrkt1LKANaWcLrZToT\">人気ガンダム作品が150冊以上\\u3000最大50％オフ</span></span></a></li><li class=\"_2ZzfUQqYuRip1h-aXoiCHV\"><a class=\"yMWCYupQNdgppL-NV6sMi _3sAlKGsIBCxTUbNi86oSjt\" href=\"https://yahoo.jp/r-X1e2\" data-cl-params=\"_cl_vmodule:toplink;_cl_link:link;_cl_position:3;aid:3721727\"><span class=\"fQMqQTGJTbIMxjQwZA2zk _3tGRl6x9iIWRiFTkKl3kcR\"><span class=\"_3S2Wdrkt1LKANaWcLrZToT\">あなたの寄付が、苦しむ人や被災地を救う</span></span></a></li></ul></section></header><main class=\"_1E44HBKDmnr5AqaU83dU3b\"><div class=\"T0vodIJQXVKLbGKVRIOPQ\"><nav><div class=\"_1nJ39BFpWaPCIWutB-olO8 _171Q0OxQF2Vk3J_CxMxajb -DmdTfmK9dpsdI1vggc-z\"><header class=\"_37AoRe1Io5JOtSIPDdUQCF _1m5d7MNAIFyOM71xJdSK_s _3v9VCsGKsktTB7eaN70w-n\"><h1 class=\"_2LJWWRbnY7KqEPyWQukxFD _2vlyNSs41eUR8HDyQ8iUvQ\">主なサービス</h1></header><div id=\"ToolList\"><ul class=\"_1glrFPJpWbefWf8qr3k4FU\" aria-label=\"主なサービス\"><li><div class=\"_3Ip8DQAJYKfPeByyVN-utZ\"><a class=\"yMWCYupQNdgppL-NV6sMi _3sAlKGsIBCxTUbNi86oSjt cl-nofollow\" href=\"https://shopping.yahoo.co.jp/?sc_e=ytc\" aria-label=\"ショッピングへ遷移する\"><p class=\"_2bBRLhI5ZpVYu0tuHZEFrn\"><span class=\"pz0On1w4yAviBGMdKItoQ\"><span class=\"fQMqQTGJTbIMxjQwZA2zk _3tGRl6x9iIWRiFTkKl3kcR\">ショッピング</span></span><span class=\"_1Al3K70np2V_Ev1eGkfsBm\"><span class=\"_2Uq6Pw5lfFfxr_OD36xHp6 _1dr5aVDbNPF63JCS2bJhij MOLSPrtOUmdnYy_LgNt2f\" style=\"width:20px;height:20px\"></span></span></p></a></div></li><li><div class=\"_3Ip8DQAJYKfPeByyVN-utZ\"><a class=\"yMWCYupQNdgppL-NV6sMi _3sAlKGsIBCxTUbNi86oSjt cl-nofollow\" href=\"https://auctions.yahoo.co.jp\" aria-label=\"ヤフオク!へ遷移する\"><p class=\"_2bBRLhI5ZpVYu0tuHZEFrn\"><span class=\"pz0On1w4yAviBGMdKItoQ\"><span class=\"fQMqQTGJTbIMxjQwZA2zk _3tGRl6x9iIWRiFTkKl3kcR\">ヤフオク!</span></span><span class=\"_1Al3K70np2V_Ev1eGkfsBm\"><span class=\"_2Uq6Pw5lfFfxr_OD36xHp6 _1dr5aVDbNPF63JCS2bJhij _1K47f2oTmrnpusFOpVVqfY\" style=\"width:20px;height:20px\"></span></span></p></a></div></li><li><div class=\"_3Ip8DQAJYKfPeByyVN-utZ\"><a class=\"yMWCYupQNdgppL-NV6sMi _3sAlKGsIBCxTUbNi86oSjt cl-nofollow\" href=\"https://app.adjust.com/1kmi1m2?redirect=https%3A%2F%2Fpaypayfleamarket.yahoo.co.jp%2F%3Fcpt_s%3Dytopmedia%26cpt_m%3Dkotei%26cpt_n%3Dcontent%26cpt_c%3Dytopmedia\" aria-label=\"PayPayフリマへ遷移する\"><p class=\"_2bBRLhI5ZpVYu0tuHZEFrn\"><span class=\"pz0On1w4yAviBGMdKItoQ\"><span class=\"fQMqQTGJTbIMxjQwZA2zk _3tGRl6x9iIWRiFTkKl3kcR\">PayPayフリマ</span></span><span class=\"_1Al3K70np2V_Ev1eGkfsBm\"><span class=\"_2Uq6Pw5lfFfxr_OD36xHp6 _1dr5aVDbNPF63JCS2bJhij _3zb-zxOYGPoHJ2-_Ie8y8T\" style=\"width:20px;height:20px\"></span></span></p></a></div></li><li><div class=\"_3Ip8DQAJYKfPeByyVN-utZ\"><a class=\"yMWCYupQNdgppL-NV6sMi _3sAlKGsIBCxTUbNi86oSjt cl-nofollow\" href=\"https://zozo.jp/?utm_source=yahoo&amp;utm_medium=referral&amp;utm_campaign=web_ytop-leftcolumn\" aria-label=\"ZOZOTOWNへ遷移する\"><p class=\"_2bBRLhI5ZpVYu0tuHZEFrn\"><span class=\"pz0On1w4yAviBGMdKItoQ\"><span class=\"fQMqQTGJTbIMxjQwZA2zk _3tGRl6x9iIWRiFTkKl3kcR\">ZOZOTOWN</span></span><span class=\"_1Al3K70np2V_Ev1eGkfsBm\"><span class=\"_2Uq6Pw5lfFfxr_OD36xHp6 _1dr5aVDbNPF63JCS2bJhij _2VdNwkD_q8hjK0ZyvATgab\" style=\"width:20px;height:20px\"></span></span></p></a></div></li><li><div class=\"_3Ip8DQAJYKfPeByyVN-utZ\"><a class=\"yMWCYupQNdgppL-NV6sMi _3sAlKGsIBCxTUbNi86oSjt cl-nofollow\" href=\"https://lohaco.yahoo.co.jp/?bk=t&amp;sc_e=j_as_ya_tc_n&amp;iscr=1\" aria-label=\"LOHACOへ遷移する\"><p class=\"_2bBRLhI5ZpVYu0tuHZEFrn\"><span class=\"pz0On1w4yAviBGMdKItoQ\"><span class=\"fQMqQTGJTbIMxjQwZA2zk _3tGRl6x9iIWRiFTkKl3kcR\">LOHACO</span></span><span class=\"_1Al3K70np2V_Ev1eGkfsBm\"><span class=\"_2Uq6Pw5lfFfxr_OD36xHp6 _1dr5aVDbNPF63JCS2bJhij _3xvmznkMqRitO0Iqn3ckur\" style=\"width:20px;height:20px\"></span></span></p></a></div></li><li><div class=\"_3Ip8DQAJYKfPeByyVN-utZ\"><a class=\"yMWCYupQNdgppL-NV6sMi _3sAlKGsIBCxTUbNi86oSjt cl-nofollow\" href=\"https://travel.yahoo.co.jp/ikCo.ashx?cosid=y_010002&amp;cosuid=ytsl&amp;surl=%2F&amp;sc_e=ytsl\" aria-label=\"トラベルへ遷移する\"><p class=\"_2bBRLhI5ZpVYu0tuHZEFrn\"><span class=\"pz0On1w4yAviBGMdKItoQ\"><span class=\"fQMqQTGJTbIMxjQwZA2zk _3tGRl6x9iIWRiFTkKl3kcR\">トラベル</span></span><span class=\"_1Al3K70np2V_Ev1eGkfsBm\"><span class=\"_2Uq6Pw5lfFfxr_OD36xHp6 _1dr5aVDbNPF63JCS2bJhij _1yEKxUFSw-Xv2gaBZsYRuI\" style=\"width:20px;height:20px\"></span></span></p></a></div></li><li><div class=\"_3Ip8DQAJYKfPeByyVN-utZ\"><a class=\"yMWCYupQNdgppL-NV6sMi _3sAlKGsIBCxTUbNi86oSjt cl-nofollow\" href=\"https://www.ikyu.com/ikCo.ashx?cosid=ik010002&amp;surl=%2F&amp;sc_e=ytc_pc_ikyu\" aria-label=\"一休.comへ遷移する\"><p class=\"_2bBRLhI5ZpVYu0tuHZEFrn\"><span class=\"pz0On1w4yAviBGMdKItoQ\"><span class=\"fQMqQTGJTbIMxjQwZA2zk _3tGRl6x9iIWRiFTkKl3kcR\">一休.com</span></span><span class=\"_1Al3K70np2V_Ev1eGkfsBm\"><span class=\"_2Uq6Pw5lfFfxr_OD36xHp6 _1dr5aVDbNPF63JCS2bJhij daLkyi7PiGXeFyVYTU_9n\" style=\"width:20px;height:20px\"></span></span></p></a></div></li><li><div class=\"_3Ip8DQAJYKfPeByyVN-utZ\"><a class=\"yMWCYupQNdgppL-NV6sMi _3sAlKGsIBCxTUbNi86oSjt cl-nofollow\" href=\"https://restaurant.ikyu.com/rsCosite.asp?CosNo=10000175&amp;CosUrl=\" aria-label=\"一休.comレストランへ遷移する\"><p class=\"_2bBRLhI5ZpVYu0tuHZEFrn\"><span class=\"pz0On1w4yAviBGMdKItoQ\"><span class=\"fQMqQTGJTbIMxjQwZA2zk _3tGRl6x9iIWRiFTkKl3kcR\">一休.comレストラン</span></span><span class=\"_1Al3K70np2V_Ev1eGkfsBm\"><span class=\"_2Uq6Pw5lfFfxr_OD36xHp6 _1dr5aVDbNPF63JCS2bJhij _1z4Le4zkghapVZCQm9RCy8\" style=\"width:20px;height:20px\"></span></span></p></a></div></li><li><div class=\"_3Ip8DQAJYKfPeByyVN-utZ\"><a class=\"yMWCYupQNdgppL-NV6sMi _3sAlKGsIBCxTUbNi86oSjt cl-nofollow\" href=\"https://paypaygourmet.yahoo.co.jp/?sc_e=ytc\" aria-label=\"PayPayグルメへ遷移する\"><p class=\"_2bBRLhI5ZpVYu0tuHZEFrn\"><span class=\"pz0On1w4yAviBGMdKItoQ\"><span class=\"fQMqQTGJTbIMxjQwZA2zk _3tGRl6x9iIWRiFTkKl3kcR\">PayPayグルメ</span></span><span class=\"_1Al3K70np2V_Ev1eGkfsBm\"><span class=\"_2Uq6Pw5lfFfxr_OD36xHp6 _1dr5aVDbNPF63JCS2bJhij PgUs6FV7zVPjsTeGUP8wT\" style=\"width:20px;height:20px\"></span></span></p></a></div></li><li><div class=\"_3Ip8DQAJYKfPeByyVN-utZ\"><a class=\"yMWCYupQNdgppL-NV6sMi _3sAlKGsIBCxTUbNi86oSjt cl-nofollow\" href=\"https://demae-can.com/?utm_source=yahoo&amp;utm_medium=toplink&amp;utm_campaign=demaecantop\" aria-label=\"出前館へ遷移する\"><p class=\"_2bBRLhI5ZpVYu0tuHZEFrn\"><span class=\"pz0On1w4yAviBGMdKItoQ\"><span class=\"fQMqQTGJTbIMxjQwZA2zk _3tGRl6x9iIWRiFTkKl3kcR\">出前館</span></span><span class=\"_1Al3K70np2V_Ev1eGkfsBm\"><span class=\"_2Uq6Pw5lfFfxr_OD36xHp6 _1dr5aVDbNPF63JCS2bJhij NuRliOifOckuQ9kobVaI9\" style=\"width:20px;height:20px\"></span></span></p></a></div></li></ul></div><footer id=\"ToolFooter\" class=\"_3wZKJtfV8AYYaTP-zoyO9O ult__mods\"><a class=\"yMWCYupQNdgppL-NV6sMi _3sAlKGsIBCxTUbNi86oSjt\" href=\"https://services.yahoo.co.jp/\" data-cl-params=\"_cl_vmodule:tool;_cl_link:list;_cl_position:0\" aria-label=\"Yahoo! JAPANのサービス一覧\"><dl class=\"STepvEgbaZ0rLEqfER-qm\"><dt class=\"W2bretj6vyf8QDes2gkQA\"><span class=\"fQMqQTGJTbIMxjQwZA2zk _3tGRl6x9iIWRiFTkKl3kcR\">サービス一覧</span></dt><dd class=\"_37zK--zuySKLzNE12rgdHL\"><span class=\"_2Uq6Pw5lfFfxr_OD36xHp6 _1dr5aVDbNPF63JCS2bJhij _3WrFs0ChLr_s9-gBqS7yts\" style=\"width:12px;height:12px\"></span></dd></dl></a></footer></div></nav></div><div class=\"_18kxl0qTaDA-GTdvTQKmFY\"><div class=\"_2DunygeBZHdgHX_Gih3GC4\" id=\"Topics\"><article><div class=\"_1nJ39BFpWaPCIWutB-olO8 -DmdTfmK9dpsdI1vggc-z\"><header class=\"_3WRl3h4EAx9fdzwK76sfHC\"><h1 class=\"_2LJWWRbnY7KqEPyWQukxFD _9YxVmCAhrwLz2V6qXWqBJ\" aria-label=\"Yahoo!ニュース\">ニュース</h1></header><section id=\"tabpanelTopics1\" class=\"ult__mods\" role=\"tabpanel\" aria-labelledby=\"tabTopics1\" aria-hidden=\"false\"><header class=\"_5swsXRdQMtHOvhS2bwHid _3v9VCsGKsktTB7eaN70w-n\"><h1>主要 ニュース</h1></header><div class=\"_1XAfHUWtx6tfYZuWDVjNxZ\"><div class=\"_2jjSS8r_I9Zd6O9NFJtDN-\" aria-label=\"主要 ニュース\"><p class=\"_2vq5UBfOFpYcyqNRy51gDf\"><span class=\"fQMqQTGJTbIMxjQwZA2zk _2VDw54wcDejORZkozpOysW\">7/6(木) 21:59更新</span></p><ul><li class=\"_2j0udhv5jERZtYzddeDwcv\"><article class=\"QLtbNZwO-lssuRUcWewbd\" data-ual-view-type=\"list\" data-ual=\"id_type:shannon_article;content_id:2f3a700379743308359e47ef0c7d0deb68022643;element_id:first-main-topics-text\"><a class=\"yMWCYupQNdgppL-NV6sMi _3sAlKGsIBCxTUbNi86oSjt\" href=\"https://news.yahoo.co.jp/pickup/6468625\" data-cl-params=\"_cl_vmodule:tpto;_cl_link:title;_cl_position:1;tpid:6468625;imgsize:s;cmt_num:71\" data-ual-gotocontent=\"true\"><div class=\"_2cXD1uC4eaOih4-zkRgqjU\"><div class=\"TRuzXRRZHRqbqgLUCCco9\"><h1 class=\"_3cl937Zpn1ce8mDKd5kp7u\"><span class=\"fQMqQTGJTbIMxjQwZA2zk _1alzSpTqJzvSVUWqpx82d4\">週末は広い範囲で警報級大雨恐れ</span></h1><span class=\"_2obRU_TgAxzHaYqOXrZYlv\"><span class=\"h4yLXygiSc5wwNlJOQEdz _1dr5aVDbNPF63JCS2bJhij _2M3AyDfFaeJl3Uo7lUPMAp\" style=\"width:30px;height:12px\">NEW</span></span></div></div></a></article></li><li class=\"_2j0udhv5jERZtYzddeDwcv\"><article class=\"QLtbNZwO-lssuRUcWewbd\" data-ual-view-type=\"list\" data-ual=\"id_type:shannon_article;content_id:ed26b09835c92e015e4d8c7599effe4e3044a349;element_id:first-main-topics-text\"><a class=\"yMWCYupQNdgppL-NV6sMi _3sAlKGsIBCxTUbNi86oSjt\" href=\"https://news.yahoo.co.jp/pickup/6468626\" data-cl-params=\"_cl_vmodule:tpto;_cl_link:title;_cl_position:2;tpid:6468626;imgsize:s;cmt_num:14\" data-ual-gotocontent=\"true\"><div class=\"_2cXD1uC4eaOih4-zkRgqjU\"><div class=\"TRuzXRRZHRqbqgLUCCco9\"><h1 class=\"_3cl937Zpn1ce8mDKd5kp7u\"><span class=\"fQMqQTGJTbIMxjQwZA2zk _1alzSpTqJzvSVUWqpx82d4\">豪雨で母姉犠牲 志した予備自衛官</span></h1><span class=\"_2obRU_TgAxzHaYqOXrZYlv\"><span class=\"h4yLXygiSc5wwNlJOQEdz _1dr5aVDbNPF63JCS2bJhij _2M3AyDfFaeJl3Uo7lUPMAp\" style=\"width:30px;height:12px\">NEW</span></span></div></div></a></article></li><li class=\"_2j0udhv5jERZtYzddeDwcv\"><article class=\"QLtbNZwO-lssuRUcWewbd\" data-ual-view-type=\"list\" data-ual=\"id_type:shannon_article;content_id:4f2a846fa588584f05c745bf17baca957980e09c;element_id:first-main-topics-text\"><a class=\"yMWCYupQNdgppL-NV6sMi _3sAlKGsIBCxTUbNi86oSjt\" href=\"https://news.yahoo.co.jp/pickup/6468598\" data-cl-params=\"_cl_vmodule:tpto;_cl_link:title;_cl_position:3;tpid:6468598;imgsize:s;cmt_num:1909\" data-ual-gotocontent=\"true\"><div class=\"_2cXD1uC4eaOih4-zkRgqjU\"><div class=\"TRuzXRRZHRqbqgLUCCco9\"><h1 class=\"_3cl937Zpn1ce8mDKd5kp7u\"><span class=\"fQMqQTGJTbIMxjQwZA2zk _1alzSpTqJzvSVUWqpx82d4\">世界でもまれ 夏にコロナ流行の訳</span></h1></div></div></a></article></li><li class=\"_2j0udhv5jERZtYzddeDwcv\"><article class=\"QLtbNZwO-lssuRUcWewbd\" data-ual-view-type=\"list\" data-ual=\"id_type:shannon_article;content_id:c5e2daa91a30527ba66b0ca9b57c8c554263b8d7;element_id:first-main-topics-text\"><a class=\"yMWCYupQNdgppL-NV6sMi _3sAlKGsIBCxTUbNi86oSjt\" href=\"https://news.yahoo.co.jp/pickup/6468623\" data-cl-params=\"_cl_vmodule:tpto;_cl_link:title;_cl_position:4;tpid:6468623;imgsize:s;cmt_num:720\" data-ual-gotocontent=\"true\"><div class=\"_2cXD1uC4eaOih4-zkRgqjU\"><div class=\"TRuzXRRZHRqbqgLUCCco9\"><h1 class=\"_3cl937Zpn1ce8mDKd5kp7u\"><span class=\"fQMqQTGJTbIMxjQwZA2zk _1alzSpTqJzvSVUWqpx82d4\">秋篠宮ご夫妻 ベトナム訪問へ</span></h1><span class=\"_2obRU_TgAxzHaYqOXrZYlv\"><span class=\"h4yLXygiSc5wwNlJOQEdz _1dr5aVDbNPF63JCS2bJhij _2M3AyDfFaeJl3Uo7lUPMAp\" style=\"width:30px;height:12px\">NEW</span></span></div></div></a></article></li><li class=\"_2j0udhv5jERZtYzddeDwcv\"><article class=\"QLtbNZwO-lssuRUcWewbd\" data-ual-view-type=\"list\" data-ual=\"id_type:shannon_article;content_id:486842012ead958f7008431f303fdb5b259c207d;element_id:first-main-topics-text\"><a class=\"yMWCYupQNdgppL-NV6sMi _3sAlKGsIBCxTUbNi86oSjt\" href=\"https://news.yahoo.co.jp/pickup/6468620\" data-cl-params=\"_cl_vmodule:tpto;_cl_link:title;_cl_position:5;tpid:6468620;imgsize:s;cmt_num:499\" data-ual-gotocontent=\"true\"><div class=\"_2cXD1uC4eaOih4-zkRgqjU\"><div class=\"TRuzXRRZHRqbqgLUCCco9\"><h1 class=\"_3cl937Zpn1ce8mDKd5kp7u\"><span class=\"fQMqQTGJTbIMxjQwZA2zk _1alzSpTqJzvSVUWqpx82d4\">Threads 7時間で1000万人が登録</span></h1></div></div></a></article></li><li class=\"_2j0udhv5jERZtYzddeDwcv\"><article class=\"QLtbNZwO-lssuRUcWewbd\" data-ual-view-type=\"list\" data-ual=\"id_type:shannon_article;content_id:09b54115b956feddda6ca3796a4c07b0236a4355;element_id:first-main-topics-text\"><a class=\"yMWCYupQNdgppL-NV6sMi _3sAlKGsIBCxTUbNi86oSjt\" href=\"https://news.yahoo.co.jp/pickup/6468628\" data-cl-params=\"_cl_vmodule:tpto;_cl_link:title;_cl_position:6;tpid:6468628;imgsize:s;cmt_num:174\" data-ual-gotocontent=\"true\"><div class=\"_2cXD1uC4eaOih4-zkRgqjU\"><div class=\"TRuzXRRZHRqbqgLUCCco9\"><h1 class=\"_3cl937Zpn1ce8mDKd5kp7u\"><span class=\"fQMqQTGJTbIMxjQwZA2zk _1alzSpTqJzvSVUWqpx82d4\">珍プレー 捕手の防具に投球挟まる</span></h1><span class=\"_2obRU_TgAxzHaYqOXrZYlv\"><span class=\"h4yLXygiSc5wwNlJOQEdz _1dr5aVDbNPF63JCS2bJhij _2M3AyDfFaeJl3Uo7lUPMAp\" style=\"width:30px;height:12px\">NEW</span></span></div></div></a></article></li><li class=\"_2j0udhv5jERZtYzddeDwcv\"><article class=\"QLtbNZwO-lssuRUcWewbd\" data-ual-view-type=\"list\" data-ual=\"id_type:shannon_article;content_id:495d4231748a32d8a581a5ba5acdcfeadab934c1;element_id:first-main-topics-text\"><a class=\"yMWCYupQNdgppL-NV6sMi _3sAlKGsIBCxTUbNi86oSjt\" href=\"https://news.yahoo.co.jp/pickup/6468622\" data-cl-params=\"_cl_vmodule:tpto;_cl_link:title;_cl_position:7;tpid:6468622;imgsize:s;cmt_num:984\" data-ual-gotocontent=\"true\"><div class=\"_2cXD1uC4eaOih4-zkRgqjU\"><div class=\"TRuzXRRZHRqbqgLUCCco9\"><h1 class=\"_3cl937Zpn1ce8mDKd5kp7u\"><span class=\"fQMqQTGJTbIMxjQwZA2zk _1alzSpTqJzvSVUWqpx82d4\">天気キャスター檜山沙耶 交際発表</span></h1></div></div></a></article></li><li class=\"_2j0udhv5jERZtYzddeDwcv\"><article class=\"QLtbNZwO-lssuRUcWewbd\" data-ual-view-type=\"list\" data-ual=\"id_type:shannon_article;content_id:713f9e787f7c802474e616795734de23fa4b1612;element_id:first-main-topics-text\"><a class=\"yMWCYupQNdgppL-NV6sMi _3sAlKGsIBCxTUbNi86oSjt\" href=\"https://news.yahoo.co.jp/pickup/6468614\" data-cl-params=\"_cl_vmodule:tpto;_cl_link:title;_cl_position:8;tpid:6468614;imgsize:s;cmt_num:298\" data-ual-gotocontent=\"true\"><div class=\"_2cXD1uC4eaOih4-zkRgqjU\"><div class=\"TRuzXRRZHRqbqgLUCCco9\"><h1 class=\"_3cl937Zpn1ce8mDKd5kp7u\"><span class=\"fQMqQTGJTbIMxjQwZA2zk _1alzSpTqJzvSVUWqpx82d4\">夏まゆみさん死去 つんくが追悼</span></h1></div></div></a></article></li></ul></div><div class=\"_3sm0x0pVyxLkf4q9ubmXSL\"><article><a class=\"yMWCYupQNdgppL-NV6sMi _3sAlKGsIBCxTUbNi86oSjt\" href=\"https://news.yahoo.co.jp/articles/5017a7b91c060eb59a8d13e3d11a62b95be8b7cb/images/000\" data-cl-params=\"_cl_vmodule:tpto;_cl_link:title;_cl_position:9;imgsize:l\"><div class=\"_1EYwdR4JxrwgpIvWk7vO3f\"><h1 class=\"RS4h_eDWC6FIIyYMupWR0\"><span class=\"fQMqQTGJTbIMxjQwZA2zk _1alzSpTqJzvSVUWqpx82d4\">「祈りの灯」</span></h1><p class=\"_2e8OreFgYIc3gdzYJLKAMA\"><time class=\"_1GD9Sx7FpCs4EuL3bT974r\">7/6(木) 21:26</time></p><div class=\"_1pfcRKnf6y-2AXzpXf0vrb\"><cite class=\"O9jggTRv0zy3XcPayfJLa\">山陽新聞デジタル</cite></div><div class=\"_1UmUawjY6VSzmTK3Y-1sjq\"><span class=\"rStpk9W4eUO5IMVhnJylj\"><picture><source type=\"image/webp\" srcSet=\"https://news-pctr.c.yimg.jp/t/news-topics/images/tpc/2023/7/6/59ee84d1c7d5dc818d481fa6049afba5a5f928c0ae6ffc969bcc47c30811e079.jpg?h=200&amp;w=200&amp;pri=l&amp;fmt=webp\"/><img src=\"https://news-pctr.c.yimg.jp/t/news-topics/images/tpc/2023/7/6/59ee84d1c7d5dc818d481fa6049afba5a5f928c0ae6ffc969bcc47c30811e079.jpg?h=200&amp;w=200&amp;pri=l\" width=\"90\" height=\"55.12500000000001\" alt=\"\"/></picture></span></div></div></a></article></div></div><footer class=\"_14QMUEF7FBJllh14_fachi\"><ul class=\"g0enqV_RXcWSi7gOheAhU\"><li class=\"_3gXYBXvKzn55TlnxGoxJ5j\"><span class=\"fQMqQTGJTbIMxjQwZA2zk _1alzSpTqJzvSVUWqpx82d4\"><a class=\"yMWCYupQNdgppL-NV6sMi _3sAlKGsIBCxTUbNi86oSjt\" href=\"https://news.yahoo.co.jp/topics/top-picks\" data-cl-params=\"_cl_vmodule:tpto;_cl_link:more;_cl_position:0\">もっと見る</a></span></li><li class=\"_3gXYBXvKzn55TlnxGoxJ5j\"><span class=\"fQMqQTGJTbIMxjQwZA2zk _1alzSpTqJzvSVUWqpx82d4\"><a class=\"yMWCYupQNdgppL-NV6sMi _3sAlKGsIBCxTUbNi86oSjt\" href=\"https://news.yahoo.co.jp/topics\" data-cl-params=\"_cl_vmodule:tpto;_cl_link:list;_cl_position:0\">トピックス一覧</a></span></li></ul></footer></section></div></article></div></div><div class=\"_18Y5F9M1FtUYbDxoMln3x7\"><footer id=\"footer\" role=\"contentinfo\" class=\"_2GpKo0TlJwonmUj2nqQxuE ult__mods\"><ul><li class=\"_2dqDKArI6iGaA3nS7xNUmE\"><dl><dt class=\"_2X2lsrA-jZqBKb6bsA9Vnr\"><span class=\"fQMqQTGJTbIMxjQwZA2zk _3tGRl6x9iIWRiFTkKl3kcR\">ヤフー株式会社</span></dt><dd><ul class=\"_3I3C2VL0OPEm7Iyt-OCFz0\"><li class=\"_3b1WmJCwznSYqqf7ptd54g\"><a class=\"yMWCYupQNdgppL-NV6sMi _3sAlKGsIBCxTUbNi86oSjt\" href=\"https://about.yahoo.co.jp/\" data-cl-params=\"_cl_link:comp;_cl_position:0\">会社概要</a></li><li class=\"_3b1WmJCwznSYqqf7ptd54g\"><a class=\"yMWCYupQNdgppL-NV6sMi _3sAlKGsIBCxTUbNi86oSjt\" href=\"https://about.yahoo.co.jp/csr/\" data-cl-params=\"_cl_link:soc;_cl_position:0\">社会的責任</a></li><li class=\"_3b1WmJCwznSYqqf7ptd54g\"><a class=\"yMWCYupQNdgppL-NV6sMi _3sAlKGsIBCxTUbNi86oSjt\" href=\"https://marketing.yahoo.co.jp/\" data-cl-params=\"_cl_link:ad;_cl_position:0\">広告掲載について</a></li><li class=\"_3b1WmJCwznSYqqf7ptd54g\"><a class=\"yMWCYupQNdgppL-NV6sMi _3sAlKGsIBCxTUbNi86oSjt\" href=\"https://about.yahoo.co.jp/hr/\" data-cl-params=\"_cl_link:hr;_cl_position:0\">採用情報</a></li></ul><ul class=\"_3I3C2VL0OPEm7Iyt-OCFz0\"><li class=\"_3b1WmJCwznSYqqf7ptd54g\"><a class=\"yMWCYupQNdgppL-NV6sMi _3sAlKGsIBCxTUbNi86oSjt\" href=\"https://about.yahoo.co.jp/common/terms/\" data-cl-params=\"_cl_link:agreement;_cl_position:0\">利用規約</a></li><li class=\"_3b1WmJCwznSYqqf7ptd54g\"><a class=\"yMWCYupQNdgppL-NV6sMi _3sAlKGsIBCxTUbNi86oSjt\" href=\"https://about.yahoo.co.jp/common/disclaimer/\" data-cl-params=\"_cl_link:disc;_cl_position:0\">免責事項</a></li><li class=\"_3b1WmJCwznSYqqf7ptd54g\"><a class=\"yMWCYupQNdgppL-NV6sMi _3sAlKGsIBCxTUbNi86oSjt\" href=\"https://about.yahoo.co.jp/common/mediastatement/\" data-cl-params=\"_cl_link:state;_cl_position:0\">メディアステートメント</a></li><li class=\"_3b1WmJCwznSYqqf7ptd54g\"><a class=\"yMWCYupQNdgppL-NV6sMi _3sAlKGsIBCxTUbNi86oSjt\" href=\"https://privacy.yahoo.co.jp/\" data-cl-params=\"_cl_link:policy;_cl_position:0\">プライバシー</a></li></ul></dd></dl></li><li class=\"_2dqDKArI6iGaA3nS7xNUmE\"><dl><dt class=\"_2X2lsrA-jZqBKb6bsA9Vnr\"><span class=\"fQMqQTGJTbIMxjQwZA2zk _3tGRl6x9iIWRiFTkKl3kcR\">Zホールディングス株式会社</span></dt><dd><ul class=\"_3I3C2VL0OPEm7Iyt-OCFz0\"><li class=\"_3b1WmJCwznSYqqf7ptd54g\"><a class=\"yMWCYupQNdgppL-NV6sMi _3sAlKGsIBCxTUbNi86oSjt\" href=\"https://www.z-holdings.co.jp/\" data-cl-params=\"_cl_link:z_comp;_cl_position:0\">会社概要</a></li><li class=\"_3b1WmJCwznSYqqf7ptd54g\"><a class=\"yMWCYupQNdgppL-NV6sMi _3sAlKGsIBCxTUbNi86oSjt\" href=\"https://www.z-holdings.co.jp/ir/\" data-cl-params=\"_cl_link:ir;_cl_position:0\">投資家情報</a></li></ul></dd></dl></li></ul><p class=\"_3rCO0-ffBAEkCS8URNYQBC\"><small class=\"_1wf30cBtHv6aK8mAYdYbuo\">© Yahoo Japan</small></p></footer></div></main></div></div><script src=\"https://s.yimg.jp/images/ds/cl/ds-custom-logger-1.1.0.min.js\"></script><script>(function(){\\n  var osmode = \"unknown\";\\n  if (typeof window.matchMedia !== \"undefined\") {\\n    if (window.matchMedia(\"(prefers-color-scheme: dark)\").matches) {\\n      osmode = \"dark\";\\n    } else if (window.matchMedia(\"(prefers-color-scheme: light)\").matches) {\\n      osmode = \"light\";\\n    }\\n  }\\n  var cl = new DSCustomLogger.CustomLogger();\\n  window.__logger = cl.setHierarchyid(\"2079181999\")\\n    .targetClass(\"ult__mods\")\\n    .targetViewableClass(\"vult__mods\")\\n    .startViewable()\\n    .setPageData({\"service\":\"toppage\",\"pagetype\":\"top\",\"status\":\"logout\",\"device\":\"pc\",\"os\":\"other\",\"apptype\":\"web\",\"opttype\":\"pc\",\"mtestid\":\"\",\"ybb\":\"0\",\"premium\":\"0\",\"paypay\":\"0\",\"jis\":\"02201\",\"location\":\"ip\",\"grade\":\"c\"})\\n    .setPageData({ osmode: osmode })\\n    .initCustomLoggerCore();\\n})();</script><script src=\"https://s.yimg.jp/images/ds/yas/ual-2.10.2.min.js\"></script><script>(function(){\\n  window.ualcmds = window.ualcmds || [];\\n  window.ual = window.ual || function() {\\n    ualcmds.push(arguments);\\n  };\\n\\n  ual(\\'config\\', \\'token\\', \\'4465a92c-f0fd-406f-b519-efd409cc9849\\');\\n\\n  ual(\\'global\\', {\\n    service: \"toppage\",\\n    apptype: \"web\",\\n    mtestid: \"\",\\n    opttype: \"pc\"\\n  });\\n  ual(\\'offset\\', {\\n    auto: true\\n  });\\n  ual(\\'ctrl\\', \\'start\\');\\n})();</script></body></html>'"
      ]
     },
     "execution_count": 15,
     "metadata": {},
     "output_type": "execute_result"
    }
   ],
   "source": [
    "response.text"
   ]
  },
  {
   "cell_type": "code",
   "execution_count": 16,
   "id": "454a549e-e35d-4939-bd70-5d6142db92df",
   "metadata": {
    "tags": []
   },
   "outputs": [],
   "source": [
    "response = requests.get(url, timeout=3)"
   ]
  },
  {
   "cell_type": "code",
   "execution_count": 17,
   "id": "57b6d3c8-069e-429c-809c-d464b9426b47",
   "metadata": {
    "tags": []
   },
   "outputs": [
    {
     "data": {
      "text/plain": [
       "'<!DOCTYPE html><html lang=\"ja\"><head><meta charSet=\"utf-8\"/><meta http-equiv=\"X-UA-Compatible\" content=\"IE=edge,chrome=1\"/><title>Yahoo! JAPAN</title><meta name=\"description\" content=\"あなたの毎日をアップデートする情報ポータル。検索、ニュース、天気、スポーツ、メール、ショッピング、オークションなど便利なサービスを展開しています。\"/><meta name=\"robots\" content=\"noodp\"/><meta name=\"viewport\" content=\"width=1010\"/><link rel=\"dns-prefetch\" href=\"//s.yimg.jp\"/><link rel=\"dns-prefetch\" href=\"//yads.c.yimg.jp\"/><meta name=\"google-site-verification\" content=\"fsLMOiigp5fIpCDME'"
      ]
     },
     "execution_count": 17,
     "metadata": {},
     "output_type": "execute_result"
    }
   ],
   "source": [
    "response.text[:500]"
   ]
  },
  {
   "cell_type": "code",
   "execution_count": 18,
   "id": "2795d1c2-e35f-423c-9260-25d7b889a6da",
   "metadata": {
    "tags": []
   },
   "outputs": [],
   "source": [
    "# response = requests.get(\"https://www.google.com/search?\", params=param)"
   ]
  },
  {
   "cell_type": "code",
   "execution_count": 19,
   "id": "728224c1-f7c5-488c-acf4-3129fcb1b1d7",
   "metadata": {
    "tags": []
   },
   "outputs": [],
   "source": [
    "# param = {\"q\":\"python\"}"
   ]
  },
  {
   "cell_type": "code",
   "execution_count": 20,
   "id": "834507b8-c74d-4a80-a0f4-a4e41144f762",
   "metadata": {
    "tags": []
   },
   "outputs": [],
   "source": [
    "# response.text"
   ]
  },
  {
   "cell_type": "code",
   "execution_count": 21,
   "id": "b40829a0-ddc8-48fe-aebb-48c5349d25ca",
   "metadata": {
    "tags": []
   },
   "outputs": [],
   "source": [
    "from bs4 import BeautifulSoup"
   ]
  },
  {
   "cell_type": "code",
   "execution_count": 22,
   "id": "4098741a-0fbb-4d0c-b7ba-a29d31423b68",
   "metadata": {
    "tags": []
   },
   "outputs": [],
   "source": [
    "html = \"\"\"\n",
    "<html>\n",
    "    <head>\n",
    "        <title>清水義孝の著書</title>\n",
    "    </head>\n",
    "    <body>\n",
    "        <p class=\"title\">\n",
    "            <b>清水義孝の最新の著書には、次の本があります。</b>\n",
    "        </p>\n",
    "        <p class=\"recent books\">\n",
    "            <a class=\"book\" href=\"https://www.amazon.co.jp/dp/B07TN4D3HG\" id=\"link1\">Python3によるビジネスに役立つデータ分析入門</a>、\n",
    "            <a class=\"book\" href=\"http://www.amazon.co.jp/dp/B07SRLRS4M\" id=\"link2\">よくわかるPython3入門2.NumPy・Matplotlib編</a>、\n",
    "            <a class=\"book\" href=\"http://www.amazon.co.jp/dp/B07T9SZ96B\" id=\"link3\">よくわかるPython3入門4.Pandasでデータ分析編</a>\n",
    "        </p>\n",
    "        <p class=\"end\">\n",
    "            <b>そして、これらの本は好評発売中です。</b>\n",
    "        </p>\n",
    "    </body>\n",
    "</html>\n",
    "\"\"\""
   ]
  },
  {
   "cell_type": "code",
   "execution_count": 23,
   "id": "476b59fd-ae02-4e57-82fd-77b20af39deb",
   "metadata": {
    "tags": []
   },
   "outputs": [],
   "source": [
    "soup = BeautifulSoup(html, \"html.parser\")"
   ]
  },
  {
   "cell_type": "code",
   "execution_count": 24,
   "id": "22fb143f-c304-4858-9f77-0b0e6e85fd6c",
   "metadata": {
    "tags": []
   },
   "outputs": [
    {
     "name": "stdout",
     "output_type": "stream",
     "text": [
      "\n",
      "<html>\n",
      "<head>\n",
      "<title>清水義孝の著書</title>\n",
      "</head>\n",
      "<body>\n",
      "<p class=\"title\">\n",
      "<b>清水義孝の最新の著書には、次の本があります。</b>\n",
      "</p>\n",
      "<p class=\"recent books\">\n",
      "<a class=\"book\" href=\"https://www.amazon.co.jp/dp/B07TN4D3HG\" id=\"link1\">Python3によるビジネスに役立つデータ分析入門</a>、\n",
      "            <a class=\"book\" href=\"http://www.amazon.co.jp/dp/B07SRLRS4M\" id=\"link2\">よくわかるPython3入門2.NumPy・Matplotlib編</a>、\n",
      "            <a class=\"book\" href=\"http://www.amazon.co.jp/dp/B07T9SZ96B\" id=\"link3\">よくわかるPython3入門4.Pandasでデータ分析編</a>\n",
      "</p>\n",
      "<p class=\"end\">\n",
      "<b>そして、これらの本は好評発売中です。</b>\n",
      "</p>\n",
      "</body>\n",
      "</html>\n",
      "\n"
     ]
    }
   ],
   "source": [
    "print(soup)"
   ]
  },
  {
   "cell_type": "code",
   "execution_count": 25,
   "id": "17210e89-510b-4136-aee8-13c625b7369c",
   "metadata": {
    "tags": []
   },
   "outputs": [
    {
     "name": "stdout",
     "output_type": "stream",
     "text": [
      "<html>\n",
      " <head>\n",
      "  <title>\n",
      "   清水義孝の著書\n",
      "  </title>\n",
      " </head>\n",
      " <body>\n",
      "  <p class=\"title\">\n",
      "   <b>\n",
      "    清水義孝の最新の著書には、次の本があります。\n",
      "   </b>\n",
      "  </p>\n",
      "  <p class=\"recent books\">\n",
      "   <a class=\"book\" href=\"https://www.amazon.co.jp/dp/B07TN4D3HG\" id=\"link1\">\n",
      "    Python3によるビジネスに役立つデータ分析入門\n",
      "   </a>\n",
      "   、\n",
      "   <a class=\"book\" href=\"http://www.amazon.co.jp/dp/B07SRLRS4M\" id=\"link2\">\n",
      "    よくわかるPython3入門2.NumPy・Matplotlib編\n",
      "   </a>\n",
      "   、\n",
      "   <a class=\"book\" href=\"http://www.amazon.co.jp/dp/B07T9SZ96B\" id=\"link3\">\n",
      "    よくわかるPython3入門4.Pandasでデータ分析編\n",
      "   </a>\n",
      "  </p>\n",
      "  <p class=\"end\">\n",
      "   <b>\n",
      "    そして、これらの本は好評発売中です。\n",
      "   </b>\n",
      "  </p>\n",
      " </body>\n",
      "</html>\n",
      "\n"
     ]
    }
   ],
   "source": [
    "print(soup.prettify())"
   ]
  },
  {
   "cell_type": "code",
   "execution_count": 26,
   "id": "190b01a4-2676-465a-80df-b28c8ee6430f",
   "metadata": {
    "tags": []
   },
   "outputs": [
    {
     "name": "stdout",
     "output_type": "stream",
     "text": [
      "<title>清水義孝の著書</title>\n"
     ]
    }
   ],
   "source": [
    "print(soup.html.head.title)"
   ]
  },
  {
   "cell_type": "code",
   "execution_count": 27,
   "id": "09dd32a4-7f5e-41f9-8408-3e92521a6635",
   "metadata": {
    "tags": []
   },
   "outputs": [
    {
     "name": "stdout",
     "output_type": "stream",
     "text": [
      "<title>清水義孝の著書</title>\n"
     ]
    }
   ],
   "source": [
    "print(soup.title)"
   ]
  },
  {
   "cell_type": "code",
   "execution_count": 28,
   "id": "4a590530-dfdc-453b-9ff1-bf6309f83c76",
   "metadata": {
    "tags": []
   },
   "outputs": [
    {
     "name": "stdout",
     "output_type": "stream",
     "text": [
      "清水義孝の著書\n"
     ]
    }
   ],
   "source": [
    "print(soup.title.string)"
   ]
  },
  {
   "cell_type": "code",
   "execution_count": 29,
   "id": "38b0bce7-ab08-4b4c-8f00-6674de6edfc6",
   "metadata": {
    "tags": []
   },
   "outputs": [
    {
     "name": "stdout",
     "output_type": "stream",
     "text": [
      "title\n"
     ]
    }
   ],
   "source": [
    "print(soup.title.name)"
   ]
  },
  {
   "cell_type": "code",
   "execution_count": 30,
   "id": "2f80df53-712d-45f0-9447-a7f9acf3ec08",
   "metadata": {
    "tags": []
   },
   "outputs": [
    {
     "name": "stdout",
     "output_type": "stream",
     "text": [
      "<class 'bs4.element.Tag'>\n"
     ]
    }
   ],
   "source": [
    "print(type(soup.title))"
   ]
  },
  {
   "cell_type": "code",
   "execution_count": 31,
   "id": "ec82c836-7065-444e-a41e-5141269ff14e",
   "metadata": {
    "tags": []
   },
   "outputs": [
    {
     "name": "stdout",
     "output_type": "stream",
     "text": [
      "<p class=\"title\">\n",
      "<b>清水義孝の最新の著書には、次の本があります。</b>\n",
      "</p>\n"
     ]
    }
   ],
   "source": [
    "print(soup.body.p)"
   ]
  },
  {
   "cell_type": "code",
   "execution_count": 32,
   "id": "8918a150-858f-4b67-86d5-18c4efe3bdfd",
   "metadata": {
    "tags": []
   },
   "outputs": [
    {
     "name": "stdout",
     "output_type": "stream",
     "text": [
      "<p class=\"recent books\">\n",
      "<a class=\"book\" href=\"https://www.amazon.co.jp/dp/B07TN4D3HG\" id=\"link1\">Python3によるビジネスに役立つデータ分析入門</a>、\n",
      "            <a class=\"book\" href=\"http://www.amazon.co.jp/dp/B07SRLRS4M\" id=\"link2\">よくわかるPython3入門2.NumPy・Matplotlib編</a>、\n",
      "            <a class=\"book\" href=\"http://www.amazon.co.jp/dp/B07T9SZ96B\" id=\"link3\">よくわかるPython3入門4.Pandasでデータ分析編</a>\n",
      "</p>\n"
     ]
    }
   ],
   "source": [
    "print(soup.body.p.next_sibling.next_sibling)"
   ]
  },
  {
   "cell_type": "code",
   "execution_count": 33,
   "id": "c3ea1c7f-f5ab-4dec-9642-65ba61b127f8",
   "metadata": {
    "tags": []
   },
   "outputs": [
    {
     "name": "stdout",
     "output_type": "stream",
     "text": [
      "https://www.amazon.co.jp/dp/B07TN4D3HG\n"
     ]
    }
   ],
   "source": [
    "print(soup.body.p.next_sibling.next_sibling.a[\"href\"])"
   ]
  },
  {
   "cell_type": "code",
   "execution_count": 34,
   "id": "960ce976-3b5e-4903-bc56-7232c76ac752",
   "metadata": {
    "tags": []
   },
   "outputs": [
    {
     "name": "stdout",
     "output_type": "stream",
     "text": [
      "[<a class=\"book\" href=\"https://www.amazon.co.jp/dp/B07TN4D3HG\" id=\"link1\">Python3によるビジネスに役立つデータ分析入門</a>, <a class=\"book\" href=\"http://www.amazon.co.jp/dp/B07SRLRS4M\" id=\"link2\">よくわかるPython3入門2.NumPy・Matplotlib編</a>, <a class=\"book\" href=\"http://www.amazon.co.jp/dp/B07T9SZ96B\" id=\"link3\">よくわかるPython3入門4.Pandasでデータ分析編</a>]\n"
     ]
    }
   ],
   "source": [
    "print(soup.find_all(\"a\"))"
   ]
  },
  {
   "cell_type": "code",
   "execution_count": 35,
   "id": "a00ef861-af6d-4138-91a3-1d9ae942921b",
   "metadata": {
    "tags": []
   },
   "outputs": [
    {
     "name": "stdout",
     "output_type": "stream",
     "text": [
      "<a class=\"book\" href=\"https://www.amazon.co.jp/dp/B07TN4D3HG\" id=\"link1\">Python3によるビジネスに役立つデータ分析入門</a>\n",
      "\n",
      "<a class=\"book\" href=\"http://www.amazon.co.jp/dp/B07SRLRS4M\" id=\"link2\">よくわかるPython3入門2.NumPy・Matplotlib編</a>\n",
      "\n",
      "<a class=\"book\" href=\"http://www.amazon.co.jp/dp/B07T9SZ96B\" id=\"link3\">よくわかるPython3入門4.Pandasでデータ分析編</a>\n",
      "\n"
     ]
    }
   ],
   "source": [
    "for i in soup.find_all(\"a\"):\n",
    "    print(i, end=\"\\n\\n\")"
   ]
  },
  {
   "cell_type": "code",
   "execution_count": 36,
   "id": "6ecf73f5-0004-41f5-8cb0-a908d4b7f7a6",
   "metadata": {
    "tags": []
   },
   "outputs": [
    {
     "name": "stdout",
     "output_type": "stream",
     "text": [
      "Python3によるビジネスに役立つデータ分析入門\n",
      "\n",
      "よくわかるPython3入門2.NumPy・Matplotlib編\n",
      "\n",
      "よくわかるPython3入門4.Pandasでデータ分析編\n",
      "\n"
     ]
    }
   ],
   "source": [
    "for i in soup.find_all(\"a\"):\n",
    "    print(i.string, end=\"\\n\\n\")"
   ]
  },
  {
   "cell_type": "code",
   "execution_count": 37,
   "id": "cefe15ac-c112-46e9-b52c-2855a947df23",
   "metadata": {
    "tags": []
   },
   "outputs": [
    {
     "name": "stdout",
     "output_type": "stream",
     "text": [
      "https://www.amazon.co.jp/dp/B07TN4D3HG\n",
      "\n",
      "http://www.amazon.co.jp/dp/B07SRLRS4M\n",
      "\n",
      "http://www.amazon.co.jp/dp/B07T9SZ96B\n",
      "\n"
     ]
    }
   ],
   "source": [
    "for i in soup.find_all(\"a\"):\n",
    "    print(i[\"href\"], end=\"\\n\\n\")"
   ]
  },
  {
   "cell_type": "code",
   "execution_count": 38,
   "id": "319167ca-b784-410a-9090-9fb06256a2a5",
   "metadata": {
    "tags": []
   },
   "outputs": [
    {
     "name": "stdout",
     "output_type": "stream",
     "text": [
      "● Python3によるビジネスに役立つデータ分析入門\n",
      "https://www.amazon.co.jp/dp/B07TN4D3HG\n",
      "\n",
      "● よくわかるPython3入門2.NumPy・Matplotlib編\n",
      "http://www.amazon.co.jp/dp/B07SRLRS4M\n",
      "\n",
      "● よくわかるPython3入門4.Pandasでデータ分析編\n",
      "http://www.amazon.co.jp/dp/B07T9SZ96B\n",
      "\n"
     ]
    }
   ],
   "source": [
    "for i in soup.find_all(\"a\"):\n",
    "    print(\"●\", i.string, end=\"\\n\")\n",
    "    print(i[\"href\"], end=\"\\n\\n\")"
   ]
  },
  {
   "cell_type": "code",
   "execution_count": 39,
   "id": "0aa1d03d-423d-46d5-9882-a4f8f2e94aeb",
   "metadata": {
    "tags": []
   },
   "outputs": [
    {
     "name": "stdout",
     "output_type": "stream",
     "text": [
      "[<b>そして、これらの本は好評発売中です。</b>]\n"
     ]
    }
   ],
   "source": [
    "print(soup.select(\"body > p.end > b\"))"
   ]
  },
  {
   "cell_type": "code",
   "execution_count": 40,
   "id": "5e8ba248-e0bc-41a3-8898-2619a46b7988",
   "metadata": {
    "tags": []
   },
   "outputs": [
    {
     "name": "stdout",
     "output_type": "stream",
     "text": [
      "そして、これらの本は好評発売中です。\n"
     ]
    }
   ],
   "source": [
    "print(soup.select(\"body > p.end > b\")[0].string)"
   ]
  },
  {
   "cell_type": "code",
   "execution_count": 41,
   "id": "54cb72f2-99d4-455d-895b-13007cb05aea",
   "metadata": {
    "tags": []
   },
   "outputs": [],
   "source": [
    "import requests\n",
    "from bs4 import BeautifulSoup"
   ]
  },
  {
   "cell_type": "code",
   "execution_count": 42,
   "id": "a2fe0e46-cd8d-4927-a8ad-11b67601612d",
   "metadata": {
    "tags": []
   },
   "outputs": [],
   "source": [
    "url = \"https://www.yomiuri.co.jp/\""
   ]
  },
  {
   "cell_type": "code",
   "execution_count": 43,
   "id": "ddfb151d-0347-412f-88dd-15da5adc32ca",
   "metadata": {
    "tags": []
   },
   "outputs": [],
   "source": [
    "res = requests.get(url)"
   ]
  },
  {
   "cell_type": "code",
   "execution_count": 44,
   "id": "af579127-b7d3-4669-916d-3a7527dff155",
   "metadata": {
    "tags": []
   },
   "outputs": [
    {
     "data": {
      "text/plain": [
       "200"
      ]
     },
     "execution_count": 44,
     "metadata": {},
     "output_type": "execute_result"
    }
   ],
   "source": [
    "res.status_code"
   ]
  },
  {
   "cell_type": "code",
   "execution_count": 45,
   "id": "34e0f470-a097-45c7-90dd-8ac2c6c9a998",
   "metadata": {
    "collapsed": true,
    "jupyter": {
     "outputs_hidden": true
    },
    "tags": []
   },
   "outputs": [
    {
     "data": {
      "text/plain": [
       "'<!DOCTYPE html>\\n<html lang=\"ja\" >\\n\\n  <head>\\n    <meta charset=\"UTF-8\">\\n    <meta http-equiv=\"X-UA-Compatible\" content=\"IE=Edge\">\\n    <meta name=\"viewport\" content=\"width=device-width\">\\n    <script>\\n      (function(){\\n        // screen adjustment\\n        // ユーザーエージェントの取得\\n        var ua = navigator.userAgent;\\n        if(ua.indexOf(\\'iPad\\') > 0) document.querySelector(\"meta[name=\\'viewport\\']\").setAttribute(\"content\", \"width=1076\");\\n      })();\\n    </script>\\n    <script src=\"/assets/js/pwa-20230630032416.js\"></script>\\n    <title>読売新聞オンライン : ニュース＆お得サイト</title>\\n<meta name=\\'robots\\' content=\\'max-image-preview:large\\' />\\n<link rel=\\'stylesheet\\' id=\\'style-css\\'  href=\\'https://www.yomiuri.co.jp/assets/css/style-20230630032416.css\\'  media=\\'all\\' />\\n<link rel=\\'stylesheet\\' id=\\'uni-home-css\\'  href=\\'https://www.yomiuri.co.jp/assets/css/uni-home-20230630032416.css\\'  media=\\'all\\' />\\n<link rel=\\'stylesheet\\' id=\\'uni-home-2020-css\\'  href=\\'https://www.yomiuri.co.jp/assets/css/uni-home-2020-20230630032416.css\\'  media=\\'all\\' />\\n<link rel=\\'stylesheet\\' id=\\'uni-home-2021-css\\'  href=\\'https://www.yomiuri.co.jp/assets/css/uni-home-2021-20230630032416.css\\'  media=\\'all\\' />\\n<link rel=\\'stylesheet\\' id=\\'sys-ajax-contents-css\\'  href=\\'https://www.yomiuri.co.jp/assets/css/sys-ajax-contents-20230630032416.css\\'  media=\\'all\\' />\\n<link rel=\\'stylesheet\\' id=\\'slick.css-css\\'  href=\\'https://www.yomiuri.co.jp/assets/libs/slick/css/slick.css\\'  media=\\'all\\' />\\n<link rel=\\'stylesheet\\' id=\\'slick-theme.css-css\\'  href=\\'https://www.yomiuri.co.jp/assets/libs/slick/css/slick-theme.css\\'  media=\\'all\\' />\\n<link rel=\\'stylesheet\\' id=\\'slick-base.css-css\\'  href=\\'https://www.yomiuri.co.jp/assets/libs/slick/css/slick-base.css\\'  media=\\'all\\' />\\n<link rel=\\'stylesheet\\' id=\\'uni-scrap-css\\'  href=\\'https://www.yomiuri.co.jp/assets/css/uni-scrap-20230630032416.css\\'  media=\\'all\\' />\\n<link rel=\\'stylesheet\\' id=\\'wp-block-library-css\\'  href=\\'https://www.yomiuri.co.jp/wp-includes/css/dist/block-library/style.min.css?ver=5.9.3\\'  media=\\'all\\' />\\n<style id=\\'global-styles-inline-css\\' type=\\'text/css\\'>\\nbody{--wp--preset--color--black: #000000;--wp--preset--color--cyan-bluish-gray: #abb8c3;--wp--preset--color--white: #ffffff;--wp--preset--color--pale-pink: #f78da7;--wp--preset--color--vivid-red: #cf2e2e;--wp--preset--color--luminous-vivid-orange: #ff6900;--wp--preset--color--luminous-vivid-amber: #fcb900;--wp--preset--color--light-green-cyan: #7bdcb5;--wp--preset--color--vivid-green-cyan: #00d084;--wp--preset--color--pale-cyan-blue: #8ed1fc;--wp--preset--color--vivid-cyan-blue: #0693e3;--wp--preset--color--vivid-purple: #9b51e0;--wp--preset--gradient--vivid-cyan-blue-to-vivid-purple: linear-gradient(135deg,rgba(6,147,227,1) 0%,rgb(155,81,224) 100%);--wp--preset--gradient--light-green-cyan-to-vivid-green-cyan: linear-gradient(135deg,rgb(122,220,180) 0%,rgb(0,208,130) 100%);--wp--preset--gradient--luminous-vivid-amber-to-luminous-vivid-orange: linear-gradient(135deg,rgba(252,185,0,1) 0%,rgba(255,105,0,1) 100%);--wp--preset--gradient--luminous-vivid-orange-to-vivid-red: linear-gradient(135deg,rgba(255,105,0,1) 0%,rgb(207,46,46) 100%);--wp--preset--gradient--very-light-gray-to-cyan-bluish-gray: linear-gradient(135deg,rgb(238,238,238) 0%,rgb(169,184,195) 100%);--wp--preset--gradient--cool-to-warm-spectrum: linear-gradient(135deg,rgb(74,234,220) 0%,rgb(151,120,209) 20%,rgb(207,42,186) 40%,rgb(238,44,130) 60%,rgb(251,105,98) 80%,rgb(254,248,76) 100%);--wp--preset--gradient--blush-light-purple: linear-gradient(135deg,rgb(255,206,236) 0%,rgb(152,150,240) 100%);--wp--preset--gradient--blush-bordeaux: linear-gradient(135deg,rgb(254,205,165) 0%,rgb(254,45,45) 50%,rgb(107,0,62) 100%);--wp--preset--gradient--luminous-dusk: linear-gradient(135deg,rgb(255,203,112) 0%,rgb(199,81,192) 50%,rgb(65,88,208) 100%);--wp--preset--gradient--pale-ocean: linear-gradient(135deg,rgb(255,245,203) 0%,rgb(182,227,212) 50%,rgb(51,167,181) 100%);--wp--preset--gradient--electric-grass: linear-gradient(135deg,rgb(202,248,128) 0%,rgb(113,206,126) 100%);--wp--preset--gradient--midnight: linear-gradient(135deg,rgb(2,3,129) 0%,rgb(40,116,252) 100%);--wp--preset--duotone--dark-grayscale: url(\\'#wp-duotone-dark-grayscale\\');--wp--preset--duotone--grayscale: url(\\'#wp-duotone-grayscale\\');--wp--preset--duotone--purple-yellow: url(\\'#wp-duotone-purple-yellow\\');--wp--preset--duotone--blue-red: url(\\'#wp-duotone-blue-red\\');--wp--preset--duotone--midnight: url(\\'#wp-duotone-midnight\\');--wp--preset--duotone--magenta-yellow: url(\\'#wp-duotone-magenta-yellow\\');--wp--preset--duotone--purple-green: url(\\'#wp-duotone-purple-green\\');--wp--preset--duotone--blue-orange: url(\\'#wp-duotone-blue-orange\\');--wp--preset--font-size--small: 13px;--wp--preset--font-size--medium: 20px;--wp--preset--font-size--large: 36px;--wp--preset--font-size--x-large: 42px;}.has-black-color{color: var(--wp--preset--color--black) !important;}.has-cyan-bluish-gray-color{color: var(--wp--preset--color--cyan-bluish-gray) !important;}.has-white-color{color: var(--wp--preset--color--white) !important;}.has-pale-pink-color{color: var(--wp--preset--color--pale-pink) !important;}.has-vivid-red-color{color: var(--wp--preset--color--vivid-red) !important;}.has-luminous-vivid-orange-color{color: var(--wp--preset--color--luminous-vivid-orange) !important;}.has-luminous-vivid-amber-color{color: var(--wp--preset--color--luminous-vivid-amber) !important;}.has-light-green-cyan-color{color: var(--wp--preset--color--light-green-cyan) !important;}.has-vivid-green-cyan-color{color: var(--wp--preset--color--vivid-green-cyan) !important;}.has-pale-cyan-blue-color{color: var(--wp--preset--color--pale-cyan-blue) !important;}.has-vivid-cyan-blue-color{color: var(--wp--preset--color--vivid-cyan-blue) !important;}.has-vivid-purple-color{color: var(--wp--preset--color--vivid-purple) !important;}.has-black-background-color{background-color: var(--wp--preset--color--black) !important;}.has-cyan-bluish-gray-background-color{background-color: var(--wp--preset--color--cyan-bluish-gray) !important;}.has-white-background-color{background-color: var(--wp--preset--color--white) !important;}.has-pale-pink-background-color{background-color: var(--wp--preset--color--pale-pink) !important;}.has-vivid-red-background-color{background-color: var(--wp--preset--color--vivid-red) !important;}.has-luminous-vivid-orange-background-color{background-color: var(--wp--preset--color--luminous-vivid-orange) !important;}.has-luminous-vivid-amber-background-color{background-color: var(--wp--preset--color--luminous-vivid-amber) !important;}.has-light-green-cyan-background-color{background-color: var(--wp--preset--color--light-green-cyan) !important;}.has-vivid-green-cyan-background-color{background-color: var(--wp--preset--color--vivid-green-cyan) !important;}.has-pale-cyan-blue-background-color{background-color: var(--wp--preset--color--pale-cyan-blue) !important;}.has-vivid-cyan-blue-background-color{background-color: var(--wp--preset--color--vivid-cyan-blue) !important;}.has-vivid-purple-background-color{background-color: var(--wp--preset--color--vivid-purple) !important;}.has-black-border-color{border-color: var(--wp--preset--color--black) !important;}.has-cyan-bluish-gray-border-color{border-color: var(--wp--preset--color--cyan-bluish-gray) !important;}.has-white-border-color{border-color: var(--wp--preset--color--white) !important;}.has-pale-pink-border-color{border-color: var(--wp--preset--color--pale-pink) !important;}.has-vivid-red-border-color{border-color: var(--wp--preset--color--vivid-red) !important;}.has-luminous-vivid-orange-border-color{border-color: var(--wp--preset--color--luminous-vivid-orange) !important;}.has-luminous-vivid-amber-border-color{border-color: var(--wp--preset--color--luminous-vivid-amber) !important;}.has-light-green-cyan-border-color{border-color: var(--wp--preset--color--light-green-cyan) !important;}.has-vivid-green-cyan-border-color{border-color: var(--wp--preset--color--vivid-green-cyan) !important;}.has-pale-cyan-blue-border-color{border-color: var(--wp--preset--color--pale-cyan-blue) !important;}.has-vivid-cyan-blue-border-color{border-color: var(--wp--preset--color--vivid-cyan-blue) !important;}.has-vivid-purple-border-color{border-color: var(--wp--preset--color--vivid-purple) !important;}.has-vivid-cyan-blue-to-vivid-purple-gradient-background{background: var(--wp--preset--gradient--vivid-cyan-blue-to-vivid-purple) !important;}.has-light-green-cyan-to-vivid-green-cyan-gradient-background{background: var(--wp--preset--gradient--light-green-cyan-to-vivid-green-cyan) !important;}.has-luminous-vivid-amber-to-luminous-vivid-orange-gradient-background{background: var(--wp--preset--gradient--luminous-vivid-amber-to-luminous-vivid-orange) !important;}.has-luminous-vivid-orange-to-vivid-red-gradient-background{background: var(--wp--preset--gradient--luminous-vivid-orange-to-vivid-red) !important;}.has-very-light-gray-to-cyan-bluish-gray-gradient-background{background: var(--wp--preset--gradient--very-light-gray-to-cyan-bluish-gray) !important;}.has-cool-to-warm-spectrum-gradient-background{background: var(--wp--preset--gradient--cool-to-warm-spectrum) !important;}.has-blush-light-purple-gradient-background{background: var(--wp--preset--gradient--blush-light-purple) !important;}.has-blush-bordeaux-gradient-background{background: var(--wp--preset--gradient--blush-bordeaux) !important;}.has-luminous-dusk-gradient-background{background: var(--wp--preset--gradient--luminous-dusk) !important;}.has-pale-ocean-gradient-background{background: var(--wp--preset--gradient--pale-ocean) !important;}.has-electric-grass-gradient-background{background: var(--wp--preset--gradient--electric-grass) !important;}.has-midnight-gradient-background{background: var(--wp--preset--gradient--midnight) !important;}.has-small-font-size{font-size: var(--wp--preset--font-size--small) !important;}.has-medium-font-size{font-size: var(--wp--preset--font-size--medium) !important;}.has-large-font-size{font-size: var(--wp--preset--font-size--large) !important;}.has-x-large-font-size{font-size: var(--wp--preset--font-size--x-large) !important;}\\n</style>\\n<link rel=\\'preload\\' href=\\'https://www.yomiuri.co.jp/assets/js/ajax-contents-20230630032416.js\\' as=\\'script\\' />\\n<link rel=\\'prefetch\\' href=\\'https://www.yomiuri.co.jp/assets/js/ajax-contents-20230630032416.js\\' />\\n<script  src=\\'https://www.yomiuri.co.jp/assets/js/manifest-20230630032416.js\\' id=\\'manifest-js\\'></script>\\n<script  src=\\'https://www.yomiuri.co.jp/assets/js/vendor-20230630032416.js\\' id=\\'vendor-js\\'></script>\\n<script type=\\'text/javascript\\' id=\\'ajax-contents-js-extra\\'>\\n/* <![CDATA[ */\\nvar ajax_contents = {\"url\":\"\\\\/wp-admin\\\\/admin-ajax.php\",\"setting\":[{\"action\":\"menu_global_side\",\"use_global_url\":false,\"url\":\"\\\\/y_ajax\\\\/menu_global_side\\\\/\",\"tag_id\":\"memu_global_side\",\"method\":\"displayHtml\",\"format\":\"html\"},{\"action\":\"menu_global\",\"use_global_url\":false,\"url\":\"\\\\/y_ajax\\\\/menu_global\\\\/\",\"tag_id\":\"menu_global\",\"method\":\"displayHtml\",\"format\":\"html\",\"other_params\":\"menu_global_params\"},{\"action\":\"early_warning\",\"use_global_url\":false,\"url\":\"\\\\/y_ajax\\\\/early_warning\\\\/\",\"tag_id\":\"p-emergency\",\"method\":\"displayEarlyWarnings\",\"format\":\"json\"},{\"action\":\"early_warning_2020\",\"use_global_url\":false,\"url\":\"\\\\/y_ajax\\\\/early_warning\\\\/\",\"tag_id\":\"p-emergency-2020\",\"method\":\"displayEarlyWarnings2020\",\"format\":\"json\"},{\"action\":\"early_warning_top\",\"use_global_url\":false,\"url\":\"\\\\/y_ajax\\\\/early_warning\\\\/\",\"tag_id\":\"p-emergency-top\",\"method\":\"displayEarlyWarningsTop\",\"format\":\"json\"},{\"action\":\"early_warning_news_obit\",\"use_global_url\":false,\"url\":\"\\\\/y_ajax\\\\/early_warning\\\\/\",\"tag_id\":\"p-emergency-news-obit\",\"method\":\"displayEarlyWarningsNewsObit\",\"format\":\"json\"},{\"action\":\"kijishita_info\",\"use_global_url\":false,\"url\":\"\\\\/y_ajax\\\\/kijishita_info\\\\/\",\"tag_id\":\"p-emergency-notice\",\"method\":\"displayKijishitaInfo\",\"format\":\"json\"},{\"action\":\"sidebar_organized_news_list\",\"use_global_url\":false,\"url\":\"\\\\/y_ajax\\\\/sidebar_organized_news_list\\\\/\",\"tag_id\":\"sidebar_organized_news_list\",\"method\":\"displayHtml\",\"format\":\"html\",\"other_params\":\"sidebar_organized_params\"},{\"action\":\"sidebar_recommended\",\"use_global_url\":false,\"url\":\"\\\\/y_ajax\\\\/sidebar_recommended\\\\/\",\"tag_id\":\"sidebar_recommended\",\"method\":\"displayHtml\",\"format\":\"html\"},{\"action\":\"sidebar_latest_list\",\"use_global_url\":false,\"url\":\"\\\\/y_ajax\\\\/sidebar_latest_list\\\\/\",\"tag_id\":\"sidebar_latest_list\",\"method\":\"displayHtml\",\"format\":\"HTML\",\"other_params\":\"sidebar_latest_list_params\"},{\"action\":\"sidebar_ranking_access\",\"use_global_url\":false,\"url\":\"\\\\/y_ajax\\\\/sidebar_ranking_access\\\\/\",\"tag_id\":\"sidebar_ranking_access\",\"method\":\"displayRanking\",\"format\":\"html\",\"other_params\":\"ajax_ranking_parameter\"},{\"action\":\"ranking_sns\",\"use_global_url\":false,\"url\":\"\\\\/y_ajax\\\\/ranking_sns\\\\/\",\"tag_id\":\"ranking_sns\",\"method\":\"displayRanking\",\"format\":\"html\",\"other_params\":\"ajax_ranking_parameter\"},{\"action\":\"ranking_access\",\"use_global_url\":false,\"url\":\"\\\\/y_ajax\\\\/ranking_access\\\\/\",\"tag_id\":\"ranking_access\",\"method\":\"displayRanking\",\"format\":\"html\",\"other_params\":\"ajax_ranking_parameter\"},{\"action\":\"ranking_access_2020\",\"use_global_url\":false,\"url\":\"\\\\/y_ajax\\\\/ranking_access_2020\\\\/\",\"tag_id\":\"ranking_access_2020\",\"method\":\"displayRanking\",\"format\":\"html\",\"other_params\":\"ajax_ranking_parameter\"},{\"action\":\"ranking_access_kyoiku_support\",\"use_global_url\":false,\"url\":\"\\\\/y_ajax\\\\/ranking_access_kyoiku_support\\\\/\",\"tag_id\":\"ranking_access_kyoiku_support\",\"method\":\"displayRanking\",\"format\":\"html\",\"other_params\":\"ajax_ranking_parameter\"},{\"action\":\"ranking_access_event\",\"use_global_url\":false,\"url\":\"\\\\/y_ajax\\\\/ranking_access_event\\\\/\",\"tag_id\":\"ranking_access_event\",\"method\":\"displayRanking\",\"format\":\"html\",\"other_params\":\"ajax_ranking_parameter\"},{\"action\":\"ranking_access_event_end\",\"use_global_url\":false,\"url\":\"\\\\/y_ajax\\\\/ranking_access_event_end\\\\/\",\"tag_id\":\"ranking_access_event_end\",\"method\":\"displayRanking\",\"format\":\"html\",\"other_params\":\"ajax_ranking_parameter\"},{\"action\":\"olympic_2020_medals\",\"use_global_url\":false,\"url\":\"\\\\/y_ajax\\\\/olympic_2020_medals\\\\/\",\"tag_id\":\"olympic_2020_medals\",\"method\":\"displayHtml\",\"format\":\"html\"},{\"action\":\"olympic_paralympic2020_medals\",\"use_global_url\":false,\"url\":\"\\\\/y_ajax\\\\/olympic_paralympic2020_medals\\\\/\",\"tag_id\":\"olympic_paralympic2020_medals\",\"method\":\"displayHtml\",\"format\":\"html\"},{\"action\":\"olympic_2022_medals\",\"use_global_url\":false,\"url\":\"\\\\/y_ajax\\\\/olympic_2022_medals\\\\/\",\"tag_id\":\"olympic_2022_medals\",\"method\":\"displayHtml\",\"format\":\"html\"},{\"action\":\"olympic_paralympic2022_medals\",\"use_global_url\":false,\"url\":\"\\\\/y_ajax\\\\/olympic_paralympic2022_medals\\\\/\",\"tag_id\":\"olympic_paralympic2022_medals\",\"method\":\"displayHtml\",\"format\":\"html\"},{\"action\":\"latest_list\",\"use_global_url\":false,\"url\":\"\\\\/y_ajax\\\\/latest_list\\\\/\",\"tag_id\":\"latest_list\",\"method\":\"displayHtml\",\"format\":\"json\",\"paging\":\"ajax_more_button\",\"paging_disappear\":\"js-sys-paging-disappear-button\",\"other_params\":\"latest_list_other_params\"},{\"action\":\"latest_list_news_local\",\"use_global_url\":false,\"url\":\"\\\\/y_ajax\\\\/latest_list_news_local\\\\/\",\"tag_id\":\"latest_list_news_local\",\"method\":\"displayHtml\",\"format\":\"html\"},{\"action\":\"latest_list_news_more\",\"use_global_url\":false,\"url\":\"\\\\/y_ajax\\\\/latest_list_news_more\\\\/\",\"tag_id\":\"latest_list_news_more\",\"method\":\"displayHtml\",\"format\":\"json\",\"paging\":\"ajax_more_button\",\"paging_disappear\":\"js-sys-paging-disappear-button\",\"other_params\":\"latest_list_news_more_other_params\"},{\"action\":\"latest_list_column\",\"use_global_url\":false,\"url\":\"\\\\/y_ajax\\\\/latest_list_column\\\\/\",\"tag_id\":\"latest_list_column\",\"method\":\"displayHtml\",\"format\":\"json\",\"paging\":\"ajax_more_button\",\"paging_disappear\":\"js-sys-paging-disappear-button\",\"other_params\":\"latest_list_column_other_params\"},{\"action\":\"latest_list_olympic_2020_tag\",\"use_global_url\":false,\"url\":\"\\\\/y_ajax\\\\/latest_list_olympic_2020_tag\\\\/\",\"tag_id\":\"latest_list_olympic_2020_tag\",\"method\":\"displayHtml\",\"format\":\"json\",\"paging\":\"ajax_more_button\",\"paging_disappear\":\"js-sys-paging-disappear-button\",\"other_params\":\"latest_list_olympic_2020_tag_other_params\"},{\"action\":\"matome_title_latest_list\",\"use_global_url\":false,\"url\":\"\\\\/y_ajax\\\\/matome_title_latest_list\\\\/\",\"tag_id\":\"matome_title_latest_list\",\"method\":\"displayHtml\",\"format\":\"json\",\"paging\":\"ajax_more_button\",\"paging_disappear\":\"js-sys-paging-disappear-button\",\"other_params\":\"latest_list_other_params\"},{\"action\":\"matome_title_latest_list1\",\"use_global_url\":false,\"url\":\"\\\\/y_ajax\\\\/matome_title_latest_list1\\\\/\",\"tag_id\":\"matome_title_latest_list1\",\"method\":\"displayHtml\",\"format\":\"json\",\"paging\":\"ajax_more_button1\",\"paging_disappear\":\"js-sys-paging-disappear-button\",\"other_params\":\"latest_list_other_params1\"},{\"action\":\"matome_title_latest_list2\",\"use_global_url\":false,\"url\":\"\\\\/y_ajax\\\\/matome_title_latest_list2\\\\/\",\"tag_id\":\"matome_title_latest_list2\",\"method\":\"displayHtml\",\"format\":\"json\",\"paging\":\"ajax_more_button2\",\"paging_disappear\":\"js-sys-paging-disappear-button\",\"other_params\":\"latest_list_other_params2\"},{\"action\":\"matome_title_latest_list3\",\"use_global_url\":false,\"url\":\"\\\\/y_ajax\\\\/matome_title_latest_list3\\\\/\",\"tag_id\":\"matome_title_latest_list3\",\"method\":\"displayHtml\",\"format\":\"json\",\"paging\":\"ajax_more_button3\",\"paging_disappear\":\"js-sys-paging-disappear-button\",\"other_params\":\"latest_list_other_params3\"},{\"action\":\"matome_title_latest_list4\",\"use_global_url\":false,\"url\":\"\\\\/y_ajax\\\\/matome_title_latest_list4\\\\/\",\"tag_id\":\"matome_title_latest_list4\",\"method\":\"displayHtml\",\"format\":\"json\",\"paging\":\"ajax_more_button4\",\"paging_disappear\":\"js-sys-paging-disappear-button\",\"other_params\":\"latest_list_other_params4\"},{\"action\":\"matome_title_latest_list5\",\"use_global_url\":false,\"url\":\"\\\\/y_ajax\\\\/matome_title_latest_list5\\\\/\",\"tag_id\":\"matome_title_latest_list5\",\"method\":\"displayHtml\",\"format\":\"json\",\"paging\":\"ajax_more_button5\",\"paging_disappear\":\"js-sys-paging-disappear-button\",\"other_params\":\"latest_list_other_params5\"},{\"action\":\"menu_footer\",\"use_global_url\":false,\"url\":\"\\\\/y_ajax\\\\/menu_footer\\\\/\",\"tag_id\":\"memu_footer\",\"method\":\"displayHtml\",\"format\":\"html\"},{\"action\":\"timeline\",\"use_global_url\":false,\"url\":\"\\\\/y_ajax\\\\/timeline\\\\/\",\"tag_id\":\"timeline-list\",\"method\":\"displayHtml\",\"format\":\"json\",\"paging\":\"timeline-more\",\"reload\":\"timeline-reload\",\"paging_disappear\":\"js-sys-paging-disappear-button\",\"other_params\":\"timeline_other_params\",\"reload_params\":\"timeline_reload_params\"},{\"action\":\"timeline1\",\"use_global_url\":false,\"url\":\"\\\\/y_ajax\\\\/timeline1\\\\/\",\"tag_id\":\"timeline-list1\",\"method\":\"displayHtml\",\"format\":\"json\",\"paging\":\"timeline-more1\",\"reload\":\"timeline-reload1\",\"paging_disappear\":\"js-sys-paging-disappear-button\",\"other_params\":\"timeline_other_params1\",\"reload_params\":\"timeline_reload_params1\"},{\"action\":\"timeline2\",\"use_global_url\":false,\"url\":\"\\\\/y_ajax\\\\/timeline2\\\\/\",\"tag_id\":\"timeline-list2\",\"method\":\"displayHtml\",\"format\":\"json\",\"paging\":\"timeline-more2\",\"reload\":\"timeline-reload2\",\"paging_disappear\":\"js-sys-paging-disappear-button\",\"other_params\":\"timeline_other_params2\",\"reload_params\":\"timeline_reload_params2\"},{\"action\":\"sudoku\",\"use_global_url\":false,\"url\":\"\\\\/y_ajax\\\\/sudoku\\\\/\",\"format\":\"json\"},{\"action\":\"gendoku_count_down\",\"use_global_url\":false,\"url\":\"\\\\/y_ajax\\\\/gendoku_count_down\\\\/\",\"tag_id\":\"gendoku_count_down\",\"method\":\"displayHtml\",\"format\":\"html\"},{\"action\":\"header_member_status\",\"use_global_url\":false,\"url\":\"\\\\/y_ajax\\\\/header_member_status\\\\/\",\"tag_id\":\"header_member_status\",\"method\":\"displayHtml\",\"format\":\"html\"},{\"action\":\"yomipo_point\",\"use_global_url\":false,\"url\":\"\\\\/y_ajax\\\\/yomipo_point\\\\/\",\"tag_id\":\"yomipo_point\",\"method\":\"displayHtml\",\"format\":\"html\",\"special_yomipo\":true},{\"action\":\"header_member_status_2020\",\"use_global_url\":false,\"url\":\"\\\\/y_ajax\\\\/header_member_status_2020\\\\/\",\"tag_id\":\"header_member_status_2020\",\"method\":\"displayHtml\",\"format\":\"html\"},{\"action\":\"header_member_status_2020_sp\",\"use_global_url\":false,\"url\":\"\\\\/y_ajax\\\\/header_member_status_2020_sp\\\\/\",\"tag_id\":\"header_member_status_2020_sp\",\"method\":\"displayHtml\",\"format\":\"html\"},{\"action\":\"temp_gendoku_announce\",\"use_global_url\":false,\"url\":\"\\\\/y_ajax\\\\/temp_gendoku_announce\\\\/\",\"tag_id\":\"temp_gendoku_announce\",\"method\":\"displayHtml\",\"format\":\"html\"},{\"action\":\"mynews_list\",\"use_global_url\":false,\"url\":\"\\\\/y_ajax\\\\/mynews_list\\\\/\",\"tag_id\":\"mynews_list\",\"method\":\"displayHtmlMynews\",\"format\":\"html\"},{\"action\":\"mynews_list_2020\",\"use_global_url\":false,\"url\":\"\\\\/y_ajax\\\\/mynews_list_2020\\\\/\",\"tag_id\":\"mynews_list_2020\",\"method\":\"displayHtmlMynews\",\"format\":\"html\"},{\"action\":\"mynews_widget\",\"use_global_url\":false,\"url\":\"\\\\/y_ajax\\\\/mynews_list\\\\/\",\"tag_id\":\"mynews_widget\",\"method\":\"displayHtmlMynews\",\"format\":\"html\"},{\"action\":\"scrap\",\"use_global_url\":false,\"url\":\"\\\\/y_ajax\\\\/scrap\\\\/\",\"format\":\"json\"},{\"action\":\"scrap_list\",\"use_global_url\":false,\"url\":\"\\\\/y_ajax\\\\/scrap_list\\\\/\",\"tag_id\":\"scrap_list\",\"method\":\"displayHtml\",\"format\":\"html\"},{\"action\":\"scrap_widget\",\"use_global_url\":false,\"url\":\"\\\\/y_ajax\\\\/scrap_list\\\\/\",\"tag_id\":\"scrap_widget\",\"method\":\"displayHtml\",\"format\":\"html\"},{\"action\":\"pokemon\",\"use_global_url\":false,\"url\":\"\\\\/y_ajax\\\\/pokemon\\\\/\",\"format\":\"json\"},{\"action\":\"pokemon_image\",\"use_global_url\":false,\"url\":\"\\\\/y_ajax\\\\/pokemon_image\\\\/\",\"format\":\"image\"},{\"action\":\"coupon\",\"use_global_url\":false,\"url\":\"\\\\/y_ajax\\\\/coupon\\\\/\",\"format\":\"json\"},{\"action\":\"team8_favorite_article\",\"use_global_url\":false,\"tag_id\":\"team8_favorite_article\",\"url\":\"\\\\/y_ajax\\\\/team8_favorite_article\\\\/\",\"method\":\"displayHtmlMynews\",\"format\":\"html\"},{\"action\":\"team8_favorite_list\",\"use_global_url\":false,\"url\":\"\\\\/y_ajax\\\\/team8_favorite_list\\\\/\",\"format\":\"json\"},{\"action\":\"team8_favorite\",\"use_global_url\":false,\"url\":\"\\\\/y_ajax\\\\/team8_favorite\\\\/\",\"format\":\"json\"},{\"action\":\"team8_favorite_cancel\",\"use_global_url\":false,\"url\":\"\\\\/y_ajax\\\\/team8_favorite_cancel\\\\/\",\"format\":\"json\"},{\"action\":\"team8_like\",\"use_global_url\":false,\"url\":\"\\\\/y_ajax\\\\/team8_like\\\\/\",\"format\":\"json\"},{\"action\":\"kyouiku_support_information_category_latest_list\",\"use_global_url\":false,\"url\":\"\\\\/y_ajax\\\\/kyouiku_support_information_category_latest_list\\\\/\",\"tag_id\":\"kyouiku_support_information_category_latest_list\",\"method\":\"displayHtml\",\"format\":\"json\",\"paging\":\"kyouiku_support_information_category_ajax_more_button\",\"other_params\":\"kyouiku_support_information_category_other_params\"},{\"action\":\"quick_photo_list\",\"use_global_url\":false,\"url\":\"\\\\/y_ajax\\\\/quick_photo_list\\\\/\",\"format\":\"json\"},{\"action\":\"gourmet_recipe_category_latest_list\",\"use_global_url\":false,\"url\":\"\\\\/y_ajax\\\\/gourmet_recipe_category_latest_list\\\\/\",\"tag_id\":\"gourmet_recipe_category_latest_list\",\"method\":\"displayHtml\",\"format\":\"json\",\"paging\":\"gourmet_recipe_category_ajax_more_button\",\"other_params\":\"gourmet_recipe_category_other_params\"},{\"action\":\"gourmet_food_column_category_latest_list\",\"use_global_url\":false,\"url\":\"\\\\/y_ajax\\\\/gourmet_food_column_category_latest_list\\\\/\",\"tag_id\":\"gourmet_food_column_category_latest_list\",\"method\":\"displayHtml\",\"format\":\"json\",\"paging\":\"gourmet_food_column_category_ajax_more_button\",\"other_params\":\"gourmet_food_column_category_other_params\"},{\"action\":\"gourmet_recipe_search_word\",\"use_global_url\":false,\"format\":\"json\"},{\"action\":\"shogi_play\",\"use_global_url\":false,\"format\":\"json\"}]};\\n/* ]]> */\\n</script>\\n<script  src=\\'https://www.yomiuri.co.jp/assets/js/ajax-contents-20230630032416.js\\' id=\\'ajax-contents-js\\'></script>\\n    <!-- HO-04 20230411 122525--><!-- paper -->\\r\\n<link rel=\"preconnect\" href=\"//www.googletagservices.com\" />\\r\\n<link rel=\"preconnect\" href=\"//securepubads.g.doubleclick.net\" />\\r\\n<link rel=\"preconnect\" href=\"//pagead2.googlesyndication.com\" />\\r\\n<link rel=\"preconnect\" href=\"//fam.adingo.jp\" />\\r\\n<link rel=\"preload\" href=\"https://securepubads.g.doubleclick.net/tag/js/gpt.js\" as=\"script\" />\\r\\n<link rel=\"preload\" href=\"https://fam.adingo.jp/bid-strap/yomiuri-online-top/pb.js\" as=\"script\" />\\r\\n\\r\\n<script type=\"text/javascript\">(function(d,s,endpoint,fp,tp){var e=d.createElement(s),tg=d.getElementsByTagName(s)[0],f=fp||\"\",t=tp||\"\";e.type=\"text/javascript\";e.async=true;e.src=\"https://global.one.yomiuri.co.jp/ssc-ym-client.v2.0.js?endpoint=\"+encodeURIComponent(endpoint)+\"&fp=\"+f+\"&tp=\"+t;tg.parentNode.insertBefore(e,tg)})(document,\"script\",\"https://ssc.one.yomiuri.co.jp\");</script>\\r\\n\\r\\n<script>function ad_tr(){var r=document.cookie.split(\";\");ret=!0;for(var t=0,e=r.length;t<e;)c=r[t++],cArray=c.split(\"=\"),\"AD_TR\"==cArray[0].trim(\" \")&&(ret=!1);return ret}</script>\\r\\n<script async=\\'async\\' src=\\'https://securepubads.g.doubleclick.net/tag/js/gpt.js\\'></script>\\r\\n<script async=\"async\" src=\"https://fam.adingo.jp/bid-strap/yomiuri-online-top/pb.js\" type=\"text/javascript\"></script>\\r\\n<script src=\"https://tagan.adlightning.com/fluct-yomiuri/op.js\" defer></script>\\r\\n<script>var bsttag=window.bsttag||{cmd:[]};bsttag.failSafeTimeout=2e3;bsttag.launchAuction=function(slots){var hbm={};bsttag.cmd.push(function(cmd){hbm=cmd.requestBids({adUnits:slots})});setTimeout(function(){if(hbm.isRequestSent){return}hbm.isRequestSent=true;googletag.cmd.push(function(){googletag.pubads().refresh(slots)})},bsttag.failSafeTimeout)};AD3={pageType:\"new-top\",tagType:\"open\",adUnitCode:\"/51343015/yol2020/open_area/\",adOverlayDiv:\"\",AD_HEIGHT:200,dlog:function(str){const date1=new Date;D_str.push(date1.toLocaleString()+\" \"+str)},getDir:function(){return location.href.replace(/^.*?\\\\.[^/]*(\\\\/)/,\"\").replace(/(\\\\?|#).*?$/,\"\").replace(/\\\\.([^.]*?)$/,\"\").replace(/\\\\/$/,\"\").split(\"/\")},getPar:function(){var par=encodeURIComponent(location.search.substring(1)).split(\"%26\");return par},getDevice:function(){if(768<window.innerWidth){return\"PC\"}else{return\"SP\"}},getCookie:function(){var arr=[],decode=function(encodedURIParams){try{return decodeURIComponent(encodedURIParams)}catch(err){return\"\"}};if(document.cookie!=\"\"){var item=document.cookie.split(\"; \");for(var i=0;i<item.length;i++){var data=item[i].split(\"=\");arr[data[0]]=decode(data[1])}}return arr},getCookieValue:function(key){var arr=this.getCookie(),val=\"\";if(arr[key]!=undefined){val=\"000000\"+arr[key]}return val},setTargeting:function(){var dir=this.getDir(),par=this.getPar();function randomInt(min,max){return Math.floor(Math.random()*(max+1-min))+min}googletag.pubads().setTargeting(\"d1d\",\"top\").setTargeting(\"uri\",dir).setTargeting(\"parameter\",par).setTargeting(\"pageType\",this.pageType).setTargeting(\"tagType\",this.tagType).setTargeting(\"hostname\",location.host).setTargeting(\"fluct_ad_group\",String(randomInt(1,10)));if(document.referrer){googletag.pubads().setTargeting(\"refHost\",document.referrer.split(\"/\")[2])}},adsDisplay:function(IgnitionSlots){var HBSlots=[],GAMSlots=[];for(var key in IgnitionSlots){this.adSlots[key][\"Ignition\"]=false;if(this.adSlots[key][\"Type\"]==\"HB\"){this.dlog(\"HBSlot \"+key+\" 発火\");HBSlots.push(this.adSlots[key][\"Slot\"])}else{this.dlog(\"GAMSlot \"+key+\" 発火\");GAMSlots.push(this.adSlots[key][\"Slot\"])}}if(HBSlots.length!=0){bsttag.launchAuction(HBSlots)}if(GAMSlots.length!=0){googletag.cmd.push(function(){googletag.pubads().refresh(GAMSlots)})}},adWakeUp:function(){this.adDevice=this.getDevice();var GroupTag=this.adDevice+\"_group\";var LazyTag=this.adDevice+\"_lazy\";var IgnitionSlots={};for(var key in this.adSlots){var margin=this.adSlots[key][LazyTag];if(this.adSlots[key][\"Ignition\"]){if(margin>=0){var elem=document.getElementById(key);if(elem!==null){var rect;if(elem.style.display==\"none\"){elem.style.display=\"block\";rect=elem.getBoundingClientRect();elem.style.display=\"none\"}else{rect=elem.getBoundingClientRect()}if(-this.AD_HEIGHT-margin<rect.top&&rect.top<window.innerHeight+margin){IgnitionSlots[key]=true;if(this.adSlots[key][GroupTag]){for(var key2 in this.adSlots){if(this.adSlots[key2][\"Ignition\"]&&this.adSlots[key2][GroupTag]==this.adSlots[key][GroupTag]&&document.getElementById(key2)!==null){IgnitionSlots[key2]=true}}}}}}else if(margin==-1){IgnitionSlots[key]=true}}}if(Object.keys(IgnitionSlots).length!=0){this.adsDisplay(IgnitionSlots)}},adsRefresh:function(){this.adDevice=this.getDevice();for(var key in this.adSlots){this.adSlots[key][\"Ignition\"]=true}this.adWakeUp()},makeBatsu:function(ov_slotElementId){var iframe_elm=document.getElementById(this.adOverlayDiv).querySelector(\"iframe[id^=google_ads_iframe]\");ov_width=iframe_elm.getBoundingClientRect().width;ov_height=iframe_elm.getBoundingClientRect().height;this.dlog(\"Batsu Size:\"+String(ov_height)+\"px \");if(ov_height<50){return}var elm=document.getElementById(ov_slotElementId);var parent=elm.parentNode;var batsu_div=document.createElement(\"div\");batsu_div.id=\"batsu\";var window_width=window.innerWidth;batsu_div.style=\"display:block;position:fixed;z-index:2001\";var batsu_bottom=0,batsu_height=0;if(AD3.getDevice()==\"PC\"){batsu_bottom=-30;batsu_height=-38}batsu_div.style.bottom=ov_height+batsu_bottom+\"px\";batsu_div.style.left=(window_width-ov_width)/2+batsu_height+\"px\";var batsu_img=document.createElement(\"img\");batsu_img.src=\"data:image/svg+xml;base64,PHN2ZyB4bWxucz0iaHR0cDovL3d3dy53My5vcmcvMjAwMC9zdmciIHdpZHRoPSIyNCIgaGVpZ2h0PSIyNCIgdmlld0JveD0iMCAwIDI0IDI0Ij48cGF0aCBkPSJNMTksM2EyLDIsMCwwLDEsMiwyVjE5YTIsMiwwLDAsMS0yLDJINWEyLDIsMCwwLDEtMi0yVjVBMiwyLDAsMCwxLDUsM0gxOSIgc3R5bGU9ImZpbGw6I2ZmZiIvPjxwYXRoIGQ9Ik0xOSwxSDVBNCw0LDAsMCwwLDEsNVYxOWE0LDQsMCwwLDAsNCw0SDE5YTQsNCwwLDAsMCw0LTRWNUE0LDQsMCwwLDAsMTksMVptMiwxOGEyLDIsMCwwLDEtMiwySDVhMiwyLDAsMCwxLTItMlY1QTIsMiwwLDAsMSw1LDNIMTlhMiwyLDAsMCwxLDIsMlpNMTcuMjEsNi43OWExLDEsMCwwLDAtMS40MiwwTDEyLDEwLjU5LDguMjEsNi43OUExLDEsMCwxLDAsNi43OSw4LjIxTDEwLjU5LDEybC0zLjgsMy43OWExLDEsMCwwLDAsMCwxLjQyLDEsMSwwLDAsMCwxLjQyLDBMMTIsMTMuNDFsMy43OSwzLjhhMSwxLDAsMCwwLDEuNDIsMCwxLDEsMCwwLDAsMC0xLjQyTDEzLjQxLDEybDMuOC0zLjc5QTEsMSwwLDAsMCwxNy4yMSw2Ljc5WiIvPjwvc3ZnPg==\";batsu_div.appendChild(batsu_img);batsu_div.addEventListener(\"click\",function(){googletag.pubads().clear([AD3.adSlots[ov_slotElementId].Slot]);document.getElementById(\"batsu\").remove()},false);parent.insertBefore(batsu_div,elm);this.adWakeUp()},adSlots:{ad_dfp_banner:{UnitPath:\"YOL_top_banner\",Type:\"HB\",GAMMapping:\"mapping8\",PC_lazy:-1,SP_lazy:-2},ad_dfp_sp_banner:{UnitPath:\"YOL_sp_banner\",Type:\"HB\",GAMMapping:\"mapping9\",PC_lazy:-2,SP_lazy:-1},ad_dfp_banner3:{UnitPath:\"YOL_banner3\",Type:\"HB\",GAMMapping:\"mapping7\",PC_lazy:600,SP_lazy:-2},ad_dfp_rec1:{UnitPath:\"YOL_rec1\",Type:\"HB\",GAMMapping:\"mapping2\",PC_lazy:-1,SP_lazy:400,CollapseEmpty:1},ad_dfp_rec2:{UnitPath:\"YOL_rec2\",Type:\"HB\",GAMMapping:\"mapping3\",PC_lazy:600,SP_lazy:800,CollapseEmpty:1},\"ad_dfp_middle-rec1\":{UnitPath:\"YOL_middle-rec1\",Type:\"HB\",GAMMapping:\"mapping3\",PC_lazy:400,SP_lazy:400},\"ad_dfp_middle-rec2\":{UnitPath:\"YOL_middle-rec2\",Type:\"HB\",GAMMapping:\"mapping5\",PC_lazy:400,SP_lazy:-2},\"ad_dfp_top-infeed1\":{UnitPath:\"YOL_top-infeed1\",Type:\"GAM\",PC_lazy:-1,SP_lazy:-1},\"ad_dfp_top-infeed2\":{UnitPath:\"YOL_top-infeed2\",Type:\"GAM\",PC_lazy:-1,SP_lazy:-1},\"ad_dfp_premium-tile\":{UnitPath:\"YOL_premium-tile\",Type:\"GAM\",PC_lazy:100,SP_lazy:100},\"ad_dfp_pickup-tile1\":{UnitPath:\"YOL_pickup-tile1\",Type:\"GAM\",PC_lazy:200,SP_lazy:500},\"ad_dfp_news-txt1\":{UnitPath:\"YOL_news-txt1\",Type:\"GAM\",PC_lazy:-1,SP_lazy:-1},\"ad_dfp_news-txt2\":{UnitPath:\"YOL_news-txt2\",Type:\"GAM\",PC_lazy:-1,SP_lazy:-1},\"ad_dfp_news-txt3\":{UnitPath:\"YOL_news-txt3\",Type:\"GAM\",PC_lazy:-1,SP_lazy:-1},\"ad_dfp_news-txt4\":{UnitPath:\"YOL_news-txt4\",Type:\"GAM\",PC_lazy:-1,SP_lazy:-1},\"ad_dfp_thumbnail-txt1\":{UnitPath:\"YOL_thumbnail-txt1\",Type:\"GAM\",PC_lazy:-1,SP_lazy:-1},\"ad_dfp_thumbnail-txt2\":{UnitPath:\"YOL_thumbnail-txt2\",Type:\"GAM\",PC_lazy:-1,SP_lazy:-1},\"ad_dfp_thumbnail-txt3\":{UnitPath:\"YOL_thumbnail-txt3\",Type:\"GAM\",PC_lazy:-1,SP_lazy:-1}},Mapping:{mapping1:[[[783,0],[[970,1],[970,250],[728,90]]],[[0,0],[[320,1],[320,50]]]],mapping2:[[[783,0],[[300,250],[300,600],[1,1]]],[[336,280],[[300,250],[336,280],[320,100],[1,1]]],[[0,0],[[300,250],[320,100],[1,1]]]],mapping3:[[[783,0],[[300,250],[300,600],[1,1]]],[[336,280],[[300,250],[336,280],[320,100],[1,1]]],[[0,0],[[300,250],[320,100],[1,1]]]],mapping4:[[[783,0],[[300,250],[336,280],[1,1]]],[[0,0],[[300,250],[1,1]]]],mapping5:[[[783,0],[[300,250],[1,1]]],[[0,0],[]]],mapping6:[[[783,0],[[640,360],[640,1]]],[[0,0],[[320,180],[320,1]]]],mapping7:[[[783,0],[[970,1],[728,90]]],[[0,0],[]]],mapping8:[[[783,0],[[970,1],[728,90]]],[[0,0],[]]],mapping9:[[[783,0],[]],[[0,0],[[320,1],[320,50]]]]}};var D_str=[];AD3=AD3||{};window.googletag=window.googletag||{cmd:[]};googletag.cmd.push(function(){for(var key in AD3.adSlots){if(AD3.adSlots[key][\"UnitPath\"].indexOf(\"/\")!==0){AD3.adSlots[key][\"UnitPath\"]=AD3.adUnitCode+AD3.adSlots[key][\"UnitPath\"]}var tmpSlot=AD3.adSlots[key];if(tmpSlot[\"GAMMapping\"]){AD3.adSlots[key][\"Slot\"]=googletag.defineSlot(tmpSlot[\"UnitPath\"],[[1,1]],key).defineSizeMapping(AD3.Mapping[tmpSlot[\"GAMMapping\"]]).addService(googletag.pubads())}else{AD3.adSlots[key][\"Slot\"]=googletag.defineSlot(tmpSlot[\"UnitPath\"],[[1,1],\"fluid\"],key).addService(googletag.pubads())}if(tmpSlot[\"CollapseEmpty\"]){AD3.adSlots[key][\"Slot\"]=AD3.adSlots[key][\"Slot\"].setCollapseEmptyDiv(true)}if(tmpSlot[\"overlay\"]){AD3.adOverlayDiv=key}}var featureFlag=false;if(ad_tr()){var arr=AD3.getCookie();var ABtest=arr[\"ABtest\"];if(ABtest==undefined){ABtest=\"NONE\";if(Math.random()<.1){if(Math.random()>.5){ABtest=\"ON\"}else{ABtest=\"OFF\"}}}document.cookie=\"ABtest=\"+ABtest+\"; path=/;max-age=\"+String(84600*30);AD3.dlog(\"ABtest:\"+ABtest);if(ABtest==\"ON\"){googletag.pubads().setPublisherProvidedId(AD3.getCookieValue(\"one_td_ssc_id\"));googletag.pubads().setTargeting(\"Y_PPID\",\"ON\")}else if(ABtest==\"OFF\"){googletag.pubads().setTargeting(\"Y_PPID\",\"OFF\")}else{googletag.pubads().setPublisherProvidedId(AD3.getCookieValue(\"one_td_ssc_id\"))}}googletag.pubads().collapseEmptyDivs(true);googletag.pubads().disableInitialLoad();googletag.pubads().enableSingleRequest();googletag.enableServices();AD3.setTargeting();AD3.adsRefresh();AD3.adWakeUp()});var AdTimeoutId;window.addEventListener(\"scroll\",function(){if(AdTimeoutId)return;AdTimeoutId=setTimeout(function(){AdTimeoutId=0;AD3.adWakeUp()},333)});\\r\\n</script>\\r\\n<style>@media screen and (max-width:599px){#ad_dfp_rec1,#ad_rec2_area,.home-2020-ntvnews-ad,.p-ad-dfp-rec1{min-height:250px}.home-2020-prime-recommend li{min-height:75px}.home-2020-ad-text1 li{min-height:22px}.home-2020-ad-text2 li{min-height:70px}.headline .ad{min-height:60px}}@media screen and (min-width:600px){#ad_dfp_rec1,#ad_rec2_area,.p-ad-dfp-rec1{min-height:250px}.home-2020-ntvnews-ad{min-height:530px}.home-2020-ad-text2 li{min-height:70px}.headline .ad{min-height:75px}.home-2021-ad-head-sp{min-height:60px}}</style>\\r\\n<!-- HO-04 20230411 122525 End -->        <meta name=\"description\" content=\"【読売新聞】読売新聞オンラインは読売新聞のニュース・情報サイト。社会、スポーツ、政治、経済、国際などの最新ニュースや教育、医療などの読み物、映像ニュースも充実。ポケモン、発言小町、クーポンやプレゼントも。2019年2月にYOMIURI ONLINEからサイト名を変更しました。\" />\\n      <meta name=\"robots\" content=\"max-image-preview:large\">\\n      <meta name=\"keywords\" content=\"\">\\n      <meta property=\"fb:app_id\" content=\"696165403843173\">\\n      <meta property=\"og:site_name\" content=\"読売新聞オンライン\">\\n      <meta property=\"og:type\" content=\"article\">\\n      <meta property=\"og:title\" content=\"読売新聞オンライン : ニュース＆お得サイト\">\\n      <meta property=\"og:description\" content=\"【読売新聞】読売新聞オンラインは読売新聞のニュース・情報サイト。社会、スポーツ、政治、経済、国際などの最新ニュースや教育、医療などの読み物、映像ニュースも充実。ポケモン、発言小町、クーポンやプレゼントも。2019年2月にYOMIURI ONLINEからサイト名を変更しました。\" />\\n      <meta property=\"og:image\" content=\"https://www.yomiuri.co.jp/ogp.jpg?type=ogp\">\\n          <meta name=\"twitter:site\" content=\"@Yomiuri_Online\">\\n      <meta name=\"twitter:card\" content=\"summary_large_image\">\\n      <meta name=\"twitter:title\" content=\"読売新聞オンライン : ニュース＆お得サイト\" />\\n      <meta name=\"twitter:description\" content=\"【読売新聞】読売新聞オンラインは読売新聞のニュース・情報サイト。社会、スポーツ、政治、経済、国際などの最新ニュースや教育、医療などの読み物、映像ニュースも充実。ポケモン、発言小町、クーポンやプレゼントも。2019年2月にYOMIURI ONLINEからサイト名を変更しました。\" />\\n                  <meta name=\"theme-color\" content=\"#4B0082\">\\n    <link rel=\"author\" href=\"http://www.hatena.ne.jp/YomiuriShimbun/\" />\\n    <!-- Google Tag Manager -->\\n<script>\\n    var yolDataLayerValue = {};\\n                yolDataLayerValue.memberStatus = \\'0\\';\\n        if (Object.keys(yolDataLayerValue).length > 0) {\\n        window.dataLayer = window.dataLayer || [];\\n        window.dataLayer.push(yolDataLayerValue);\\n    }\\n    (function(w,d,s,l,i){w[l]=w[l]||[];w[l].push({\\'gtm.start\\':\\n            new Date().getTime(),event:\\'gtm.js\\'});var f=d.getElementsByTagName(s)[0],\\n        j=d.createElement(s),dl=l!=\\'dataLayer\\'?\\'&l=\\'+l:\\'\\';j.async=true;j.src=\\n        \\'https://www.googletagmanager.com/gtm.js?id=\\'+i+dl;f.parentNode.insertBefore(j,f);\\n    })(window,document,\\'script\\',\\'dataLayer\\',\\'GTM-NTF2JCX\\');\\n</script>\\n<!-- End Google Tag Manager -->\\n\\n        <link rel=\"shortcut icon\" href=\"/favicon.ico\">\\n                  <link rel=\"apple-touch-icon\" sizes=\"152x152\" href=\"/apple-touch-icon.png\">\\n      <link rel=\"apple-touch-icon\" sizes=\"120x120\" href=\"/apple-touch-icon-120x120.png\">\\n      <link rel=\"apple-touch-icon-precomposed\" href=\"/apple-touch-icon-precomposed.png\">\\n    \\n            \\n        \\n        \\n  </head>\\n\\n      <body class=\"home page-template page-template-page-home page-template-page-home-php page page-id-2602122\">\\n  <svg class=\"p-svgs\" version=\"1.1\" xmlns=\"http://www.w3.org/2000/svg\" xmlns:xlink=\"http://www.w3.org/1999/xlink\" width=\"0px\" height=\"0px\">\\n\\t<!-- 2021 -->\\n\\t<symbol id=\"icon_2021_plus_small\" viewBox=\"0 0 12 12\"><polygon points=\"12 5.128 6.872 5.128 6.872 0 5.128 0 5.128 5.128 0 5.128 0 6.872 5.128 6.872 5.128 12 6.872 12 6.872 6.872 12 6.872\"/></symbol>\\n\\t<symbol id=\"icon_2021_minus_small\" viewBox=\"0 0 12 12\"><polygon points=\"12 5.128 0 5.128 0 6.872 12 6.872\"/></symbol>\\n\\t<symbol id=\"icon_2021_ycontents\" viewBox=\"0 0 24 22\"><path d=\"M9.34524887,17.0900295 C9.56227328,17.1440089 9.77929769,17.1893515 9.99632211,17.2271371 L5.36393601,21.835895 C5.2594955,21.9398255 5.11775377,21.9980977 4.9700367,21.997837 C4.90949756,21.9980627 4.84934668,21.9882103 4.79207668,21.9686843 C4.59167475,21.9015268 4.44696835,21.7270071 4.41879469,21.5184964 L3.95436245,18.0638172 L0.481971841,17.5974355 C0.27233447,17.5691878 0.096908768,17.4251589 0.0292514247,17.2257406 C-0.0384059185,17.0263223 0.0133996901,16.8059843 0.162945954,16.657115 L3.92180879,12.9174248 C4.01404416,13.0836812 4.11713076,13.241301 4.21913223,13.4043187 C4.32113371,13.5673363 4.42856079,13.7163194 4.54466885,13.8674616 L1.74830929,16.6495579 L4.53273251,17.0230951 C4.78125778,17.0563683 4.9767424,17.2508559 5.01018622,17.4981135 L5.38238309,20.2618568 L8.74626149,16.9151364 C8.93398761,16.9831504 9.13907568,17.0382093 9.34524887,17.0900295 Z M5.52453408,16.9593994 L6.60965614,15.8798122 C6.45448369,15.7718535 6.30690709,15.6638948 6.15933049,15.5440606 L5.12629428,16.5729072 C5.0177135,16.6812035 5.0177135,16.8565011 5.12629428,16.9647974 C5.23514583,17.0728243 5.41134204,17.0728243 5.52019359,16.9647974 L5.52453408,16.9593994 Z M17.507537,15.7826494 L18.6903201,16.9593994 C18.7991716,17.0674264 18.9753679,17.0674264 19.0842194,16.9593994 C19.1928002,16.8511031 19.1928002,16.6758056 19.0842194,16.5675093 L17.9578627,15.4468977 C17.8113712,15.5656523 17.6594541,15.6746906 17.5064519,15.7826494 L17.507537,15.7826494 Z M23.8435648,16.657115 L20.0847019,12.9174248 C19.9924666,13.0836812 19.88938,13.241301 19.7873785,13.4043187 C19.685377,13.5673363 19.5779499,13.7163194 19.4618419,13.8674616 L22.2571163,16.6484783 L19.4792038,17.0187767 C19.2306786,17.05205 19.0351939,17.2465375 19.0017501,17.4937951 L18.6262979,20.264016 L15.2624195,16.9172955 C15.0616719,16.98423 14.857669,17.0392889 14.6504106,17.0921887 C14.4431523,17.1450885 14.2163618,17.1925903 13.9993374,17.2292963 L18.6317235,21.8380542 C18.7362317,21.9418838 18.8779294,22.0001379 19.0256228,21.9999962 C19.0861619,22.0002219 19.1463128,21.9903695 19.2035828,21.9708434 C19.4044083,21.9040238 19.5495918,21.7294361 19.5779499,21.5206556 L20.0456376,18.0659764 L23.5180282,17.603913 C23.7276655,17.5756653 23.9030912,17.4316364 23.9707486,17.2322181 C24.0384059,17.0327999 23.9866003,16.8124618 23.837054,16.6635925 L23.8435648,16.657115 Z M15.4664224,6.42910548 C15.4664224,8.32335859 13.9229542,9.85895415 12.0189896,9.85895415 C10.1150251,9.85895415 8.57155684,8.32335859 8.57155684,6.42910548 C8.57155684,4.53485236 10.1150251,2.99925681 12.0189896,2.99925681 C13.921539,3.00223055 15.4629473,4.53625952 15.4653373,6.42910548 L15.4664224,6.42910548 Z M13.9385706,6.41615043 C13.9385706,5.35901767 13.0772016,4.50204225 12.0146491,4.50204225 C10.9520967,4.50204225 10.0907277,5.35901767 10.0907277,6.41615043 C10.0907277,7.47328319 10.9520967,8.33025861 12.0146491,8.33025861 C13.0762813,8.32787857 13.9358049,7.47129052 13.9364003,6.41507085 L13.9385706,6.41615043 Z M20.3082372,8.26440379 C20.308676,11.6076101 18.2847321,14.6218453 15.1802609,15.9014367 C12.0757898,17.181028 8.50223912,16.473951 6.12611549,14.1099471 C3.74999186,11.7459432 3.03928975,8.19061999 4.32544133,5.10198364 C5.6115929,2.0133473 8.64128145,-0.000273202614 12.0016277,8.1038126e-05 C14.2073,-0.00965257605 16.3254689,0.857810195 17.8850285,2.40961776 C19.4445881,3.96142532 20.3162214,6.06890351 20.3060668,8.26332421 L20.3082372,8.26440379 Z M18.6382366,8.26440379 C18.6406123,5.4279439 16.8221291,2.90679064 14.1204345,2.00090586 C11.4187398,1.09502107 8.4373635,2.00676978 6.71356846,4.26603437 C4.98977342,6.52529896 4.9086371,9.62738379 6.51199516,11.972786 C7.03276537,10.894033 7.89667078,10.0163195 8.96979663,9.47570068 L9.13582031,9.39149287 L9.2779713,9.51240665 C9.50793721,9.70892264 9.76342202,9.87377761 10.0375567,10.0025393 L10.6343739,10.2821523 L10.0169394,10.5121044 C8.82686616,10.9575056 7.90729203,11.9205201 7.52115868,13.1257851 C10.0565201,15.4556381 13.9683218,15.4476369 16.494033,13.1074322 C16.1051079,11.9136981 15.1920764,10.9604412 14.0123589,10.5164228 L13.3938393,10.2853911 L13.9917416,10.0068576 C14.2659174,9.87861496 14.5214231,9.71410967 14.751327,9.51780458 L14.8923929,9.39689081 L15.0584165,9.48109862 C16.1215061,10.0181861 16.9789154,10.8863871 17.4999412,11.9533534 C18.2418928,10.8644057 18.6380701,9.57888379 18.6371491,8.26332421 L18.6382366,8.26440379 Z\" /></symbol>\\n\\t<symbol id=\"icon_2021_search\" viewBox=\"0 0 20 22\"><path d=\"M16.5429017,17.0106415 L19.6990759,20.2135956 C20.1004827,20.6230816 20.1004827,21.285263 19.6980267,21.6936842 C19.3265288,22.0706883 18.7419671,22.0996886 18.3376901,21.7806851 L18.2406045,21.6936842 L14.8745782,18.2777676 L15.1610262,18.0711941 C15.4135481,17.8894662 15.6772621,17.6968536 15.9403544,17.4939872 L16.3330497,17.1820762 L16.5429017,17.0106415 Z M12.6540972,0.707224273 C16.073833,2.1447202 18.3035601,5.53120291 18.3035601,9.2875608 C18.2977778,14.4143565 14.2038314,18.5689822 9.15191378,18.5748501 C5.45041838,18.5748501 2.11339606,16.3120747 0.696895096,12.8416526 C-0.719605868,9.37123038 0.0633701422,5.37660167 2.68072264,2.72045553 C5.29807514,0.0643093961 9.23436135,-0.730271658 12.6540972,0.707224273 Z M9.15191378,2.4088758 C6.40976439,2.4084453 3.93740844,4.08448462 2.88783725,6.65536749 C1.83826606,9.22625035 2.41820487,12.1856115 4.35719733,14.1533431 C6.29618978,16.1210748 9.21232877,16.7096093 11.7456633,15.6444817 C14.1945533,14.6148583 15.8194744,12.2360159 15.9246981,9.56488409 L15.9301338,9.2875608 C15.927134,5.48985574 12.894153,2.41239721 9.15191378,2.4088758 Z\" /></symbol>\\n\\t<symbol id=\"icon_2021_notice\" viewBox=\"0 0 18 22\"><path d=\"M11.6573363,18.7741877 L11.6573363,19.3678893 C11.6573363,20.8215639 10.4689429,22 9.00298527,22 C7.59341065,22 6.4404597,20.9104696 6.35385634,19.5343481 L6.34863422,19.3678893 L6.34863422,18.7741877 L11.6573363,18.7741877 Z M10.3326849,19.961591 L7.67530493,19.961591 C7.91052129,20.480142 8.43059694,20.8136579 9.00399491,20.8136579 C9.52960973,20.8136579 10.010419,20.5334119 10.2680802,20.0872879 L10.3326849,19.961591 Z M8.99995634,0 C10.5904602,0 11.8905735,1.23289214 11.9814101,2.78748934 L11.9864799,2.96149995 L11.9864799,3.20178393 C14.7476523,4.36650005 16.582134,6.99418402 16.7235291,9.9500486 L16.7318013,10.2280877 L17.0912341,13.3197415 C17.6305913,13.8686708 17.9498975,14.5906374 17.9946445,15.3511278 L18,15.5593884 L18,15.6895422 C18,15.7484603 17.9984792,15.8097982 17.9950034,15.8730461 L17.9782767,16.0680102 C17.8687964,16.9998261 17.2910329,18.2061056 15.0535568,18.2881894 L14.807422,18.2926185 L3.19148104,18.2926185 C0.750623564,18.2926185 0.135078902,17.0331052 0.0217179551,16.0680102 L0.0049954803,15.8730461 L0.0049954803,15.8730461 L0,15.6895422 L0,15.5533813 C0.00289683236,14.7921716 0.276556737,14.0587511 0.768992703,13.4805091 L0.908678563,13.3267498 L1.26811142,10.2230818 C1.3051232,7.24966235 3.05666387,4.56959422 5.75747413,3.31517451 L6.0134328,3.20178393 L6.0134328,2.96149995 C6.0134328,1.32590869 7.35054493,0 8.99995634,0 Z M9.59848128,1.92447624 C9.23080345,1.70919296 8.77415745,1.70919296 8.40647962,1.92447624 C8.07965488,2.11583916 7.86908564,2.45039209 7.83512764,2.81962258 L7.83078992,2.95949759 L7.83078992,4.53135524 L7.78636564,4.54036589 C5.12317564,5.11849498 3.20274388,7.40568518 3.0924941,10.0864556 L3.08748783,10.3312096 L2.62910997,14.2998999 L2.60083997,14.3139164 C2.16423539,14.5214929 1.87254885,14.9386963 1.82439248,15.4096405 L1.81735008,15.5523801 L1.81735008,15.6895422 C1.81735008,16.29143 2.20354849,16.4363487 2.79097695,16.4687525 L3.05451294,16.4767555 L3.05451294,16.4767555 L14.9462616,16.4767555 L14.9462616,16.4767555 L15.2096661,16.4687525 C15.7550606,16.4386632 16.1281958,16.3115586 16.1787182,15.8116492 L16.1845889,15.6895422 L16.1845889,15.5543825 C16.1861177,15.0742489 15.9342621,14.6322677 15.5276272,14.3843247 L15.401092,14.3159188 L15.372822,14.3029034 L15.372822,14.2718668 L14.9174731,10.3402203 C14.9204958,7.63480788 13.0785838,5.28194006 10.4597877,4.59974674 L10.174171,4.53135524 L10.174171,2.95949759 C10.1867011,2.53626767 9.96615911,2.13975953 9.59848128,1.92447624 Z\" /></symbol>\\n\\t<symbol id=\"icon_2021_app\" viewBox=\"0 0 15 22\"><path d=\"M12.0044933,0 C13.6566718,0.00525475875 14.9947149,1.33560797 15,2.97829135 L15,19.0217086 C14.9947149,20.664392 13.6566718,21.9947452 12.0044933,22 L2.99550674,22 C1.34332817,21.9947452 0.00528513278,20.664392 0,19.0217086 L0,2.97935503 C0.00469813351,1.33625627 1.34291218,0.0052578489 2.99550674,0 L12.0044933,0 Z M12.0034234,1.75612822 L2.99550674,1.75612822 C2.3170071,1.7584625 1.7675571,2.30475477 1.76520933,2.97935503 L1.76520933,19.0217086 C1.7675571,19.6963089 2.3170071,20.2426012 2.99550674,20.2449355 L12.0034234,20.2438718 C12.6819231,20.2415375 13.2313731,19.6952452 13.2337208,19.020645 L13.2337208,2.97935503 C13.2313731,2.30475477 12.6819231,1.7584625 12.0034234,1.75612822 Z M7.49946509,16.4614418 C8.16083032,16.4620752 8.7572938,16.8579082 9.01058724,17.4653362 C9.26388067,18.0727642 9.12409147,18.7720909 8.65643553,19.2370591 C8.18877959,19.7020274 7.48541057,19.8410133 6.87447147,19.5891755 C6.26353236,19.3373378 5.8654114,18.7443022 5.86584339,18.0867379 C5.86695733,17.2399935 6.51879179,16.5449253 7.35085524,16.4693213 L7.49946509,16.4614418 Z M7.34552924,17.7214944 C7.19521731,17.7833978 7.09721133,17.9292312 7.09721133,18.0909868 C7.09955705,18.3102111 7.27896696,18.4866923 7.49947097,18.4866799 L7.49947097,18.4909346 C7.66216155,18.4909346 7.80883787,18.3934918 7.87109911,18.2440438 C7.93336035,18.0945957 7.89894522,17.9225735 7.78390145,17.8081909 C7.66885768,17.6938083 7.49584117,17.659591 7.34552924,17.7214944 Z M9.53640967,2.29009331 C9.87673777,2.29009331 10.1526282,2.56439818 10.1526282,2.90277039 C10.1526282,3.2411426 9.87673777,3.51544747 9.53640967,3.51544747 L5.46359033,3.51544747 C5.12326223,3.51544747 4.8473718,3.2411426 4.8473718,2.90277039 C4.8473718,2.56439818 5.12326223,2.29009331 5.46359033,2.29009331 L9.53640967,2.29009331 Z\" /></symbol>\\n\\t<symbol id=\"icon_2021_mypage\" viewBox=\"0 0 16 16\"><path d=\"M4.5,8.9c0.4,0.3,0.8,0.6,1.2,0.8c-2.5,0.9-4.2,3.4-4.2,6.1H0.3c0-2,0.8-4,2.2-5.4C3.1,9.8,3.8,9.3,4.5,8.9z M8,9.5c-2.6,0-4.7-2.1-4.7-4.7c0-2.6,2.1-4.7,4.7-4.7c2.6,0,4.7,2.1,4.7,4.7C12.7,7.5,10.6,9.5,8,9.5z M11.2,4.9 c0-1.8-1.4-3.2-3.2-3.2c-1.8,0-3.2,1.4-3.2,3.2c0,1.8,1.4,3.2,3.2,3.2C9.8,8.1,11.2,6.7,11.2,4.9z M13.4,10.3 c-0.6-0.6-1.2-1-1.9-1.4c-0.4,0.3-0.8,0.6-1.2,0.8c2.5,0.9,4.2,3.4,4.2,6.1h1.2C15.7,13.7,14.9,11.8,13.4,10.3z\"/></symbol>\\n\\t<symbol id=\"icon_2021_help\" viewBox=\"0 0 22 22\"><path d=\"M10.9968052,0 C17.0715118,0.00528414347 21.9947159,4.92848824 22,11.0031948 C21.9982357,17.0774952 17.0732357,22.0005881 10.9989352,22 C4.92463464,21.9994119 0.000588110644,17.0753654 0,11.0010648 C-0.000588110644,4.92676426 4.92250484,0.00176433191 10.9968052,0 Z M11.0010642,2.21384387 C6.14725532,2.21325603 2.21182439,6.1472571 2.21064786,11.0010659 C2.20947239,15.8548747 6.14299655,19.7907823 10.9968052,19.7925464 C15.850088,19.7890252 19.7840665,15.8564761 19.7893514,11.0031948 C19.7893514,6.14938591 15.8548731,2.21443171 11.0010642,2.21384387 Z M12.1255564,14.6492743 L12.1255564,16.5394002 L10.208809,16.5394002 L10.208809,14.6492743 L12.1255564,14.6492743 Z M13.5409874,6.54789818 C14.2009524,7.12037851 14.5953981,7.93984792 14.6311712,8.81277852 C14.6311712,9.82073474 14.1953274,10.4026889 13.5149807,11.0526996 L13.18431,11.3593361 C13.126537,11.4118472 13.0674913,11.4652108 13.0072602,11.5196518 C12.2657326,11.9712922 11.8775338,12.8318419 12.029719,13.6866412 L10.2876086,13.6866412 C10.0769824,12.4678483 10.6056918,11.2396221 11.635721,10.5548889 L11.9705886,10.2770833 L11.9705886,10.2770833 L12.2480957,10.0377527 C12.706222,9.62673358 12.8911905,9.34769302 12.8911905,8.85963235 C12.8911905,8.04075527 12.1915777,7.39438546 11.0681508,7.39438546 C10.0914956,7.40252002 9.16857926,7.84272811 8.54762795,8.59661201 L7.96302,7.00358196 C8.8272281,6.20338038 9.967214,5.76806448 11.1448207,5.7885771 C12.0140515,5.70068351 12.8810224,5.97541784 13.5409874,6.54789818 Z\" /></symbol>\\n\\t<symbol id=\"icon_2021_hmenu\" viewBox=\"0 0 20 22\"><path d=\"M20,16 L20,18 L0,18 L0,16 L20,16 Z M20,10 L20,12 L0,12 L0,10 L20,10 Z M20,4 L20,6 L0,6 L0,4 L20,4 Z\" /></symbol>\\n\\t<symbol id=\"icon_2021_close\" viewBox=\"0 0 30 30\"><polygon points=\"30,2.7 27.3,0 15,12.3 2.7,0 0,2.7 12.3,15 0,27.3 2.7,30 15,17.7 27.3,30 30,27.3 17.7,15 \"/></symbol>\\n\\t<symbol id=\"icon_2021_dots\" viewBox=\"0 0 25 5\"><path d=\"M2.5,0 C3.88071187,0 5,1.11928813 5,2.5 C5,3.88071187 3.88071187,5 2.5,5 C1.11928813,5 0,3.88071187 0,2.5 C0,1.11928813 1.11928813,0 2.5,0 Z M12.5,0 C13.8807119,0 15,1.11928813 15,2.5 C15,3.88071187 13.8807119,5 12.5,5 C11.1192881,5 10,3.88071187 10,2.5 C10,1.11928813 11.1192881,0 12.5,0 Z M22.5,0 C23.8807119,0 25,1.11928813 25,2.5 C25,3.88071187 23.8807119,5 22.5,5 C21.1192881,5 20,3.88071187 20,2.5 C20,1.11928813 21.1192881,0 22.5,0 Z\"/></symbol>\\n\\t<symbol id=\"icon_2021_memberinfo\" viewBox=\"0 0 28 25\"><path d=\"M27.3476924,2.43466543 L25.5558774,0.648259729 C24.6876945,-0.216086576 23.2813848,-0.216086576 22.4132019,0.648259729 L20.7873698,2.26918366 C20.2699339,1.99801245 19.694111,1.856373 19.109543,1.85647609 L5,1.85647609 L5,21.3304914 L19.2185318,21.3304914 L19.2185318,20.1282563 L6.80881322,20.1282563 L6.80881322,3.65883184 L19.1075432,3.65883184 C19.1937091,3.66138585 19.2795837,3.67004731 19.3645167,3.68475068 L13.0551682,9.97505202 C12.8904921,10.1394362 12.7677412,10.3407826 12.6972052,10.5622133 L11.39134,14.6494138 C11.2279072,15.16158 11.3613066,15.7218581 11.7381828,16.106155 C12.115059,16.4904519 12.6738871,16.6360315 13.1911542,16.4846666 L17.3697227,15.2585064 C17.6035906,15.1898204 17.8164118,15.0636786 17.9886588,14.8916552 L20.9153566,11.9747897 L20.9153566,21.3932947 C20.9142544,22.3888034 20.1050664,23.1955486 19.1065433,23.1966474 L8.61762644,23.1966474 C8.07585881,23.1945114 7.56387847,22.9491805 7.22377037,22.528739 L5.1859808,22.528739 C5.67631507,24.0035981 7.05915604,24.9994355 8.61762644,25 L19.1105429,25 C21.1085028,25 22.7281694,23.385223 22.7281694,21.3932947 L22.7281694,10.1784152 L27.3486922,5.57184108 C27.7658997,5.15572789 28,4.59140282 28,4.00304676 C28,3.4146907 27.765165,2.85051419 27.3476924,2.43466543 Z M12.7831963,15.0950184 L13.9830724,11.3487502 L16.6138007,13.9715367 L12.7831963,15.0950184 Z M26.3167988,4.54206591 L22.7271695,8.12085859 L20.9183563,9.92421123 L17.4187176,13.4132849 L14.5450144,10.548257 L20.6223868,4.48923137 L21.9222526,3.19328973 L23.4460952,1.67504426 C23.5894204,1.53174334 23.7840571,1.4512033 23.9870394,1.4512033 C24.1900217,1.4512033 24.3846584,1.53174334 24.5279835,1.67504426 L26.3187986,3.46045308 C26.4623293,3.60378053 26.5427784,3.79814347 26.5424046,4.00067615 C26.5420281,4.20320884 26.4608595,4.39727421 26.3167988,4.54007216 L26.3167988,4.54206591 Z M25.1959145,4.93483592 L23.0691342,2.81447602 L23.4120987,2.47154993 L25.5388791,4.59190982 L25.1959145,4.93483592 Z\"/></symbol>\\n\\t<symbol id=\"icon_2021_mynews\" viewBox=\"0 0 19 25\"><path d=\"M19,3.01980663e-14 L19,21.0314619 L18.9947598,21.0272501 L3.75723978,21.0272501 L3.75723978,19.7289727 L17.0569254,19.7289727 L17.0569254,1.94478373 L15.61272,1.94478373 L15.61272,8.16767047 C15.6130787,8.43028607 15.4557803,8.66720299 15.2143035,8.76775041 C14.9728266,8.86829782 14.6948312,8.81263084 14.5101771,8.62675315 L14.5101771,8.62675315 L12.7599426,6.86834014 L11.1878758,8.44775302 C11.0032216,8.63363072 10.7252262,8.68929769 10.4837494,8.58875028 C10.2422725,8.48820286 10.0849741,8.25128594 10.0853329,7.98867034 L10.0853329,7.98867034 L10.0853329,1.94688961 L3.87776491,1.94688961 C2.80742858,1.94805026 1.9400377,2.81949432 1.93888245,3.89483216 L1.93888245,3.89483216 L1.93888245,21.1051678 C1.93946067,22.1807461 2.80718929,23.0525295 3.87776491,23.0531104 L3.87776491,23.0531104 L15.1232831,23.0531104 C15.7038886,23.0512356 16.2526446,22.786215 16.6167466,22.3318452 L16.6167466,22.3318452 L18.8008715,22.3318452 C18.27466,23.9239666 16.7930805,24.9988785 15.1232831,25 L15.1232831,25 L3.87776491,25 C1.73613449,25 0,23.2557528 0,21.1041149 L0,21.1041149 L0,3.8958851 C0,1.74424717 1.73613449,3.01980663e-14 3.87776491,3.01980663e-14 L3.87776491,3.01980663e-14 L19,3.01980663e-14 Z M14.6013569,17.0766121 L14.6013569,17.7262772 L4.74135363,17.7262772 L4.74135363,17.0766121 L14.6013569,17.0766121 Z M14.6013569,14.7864634 L14.6013569,15.4361285 L4.74135363,15.4361285 L4.74135363,14.7864634 L14.6013569,14.7864634 Z M14.6013569,12.4973676 L14.6013569,13.1470328 L4.74135363,13.1470328 L4.74135363,12.4973676 L14.6013569,12.4973676 Z M14.6013569,10.207219 L14.6013569,10.8568841 L4.74135363,10.8568841 L4.74135363,10.207219 L14.6013569,10.207219 Z M14.3246732,2.37333109 C13.1760163,2.33331929 12.015831,2.31015457 11.3775718,2.31963105 L11.3775718,2.31963105 L11.3775718,6.42610454 L12.3040432,5.49425094 C12.4251517,5.37234035 12.5895511,5.30383181 12.7609907,5.30383181 C12.9324302,5.30383181 13.0968297,5.37234035 13.2179381,5.49425094 L13.2179381,5.49425094 L14.3246732,6.6061576 Z\"/></symbol>\\n\\t<symbol id=\"icon_2021_scrap\" viewBox=\"0 0 24 25\"><path d=\"M20.2683521,9.16452008 L20.2683521,0 L7.14967758,0 C5.2675825,0.00174514314 3.74210713,1.57259482 3.73984712,3.51125375 L3.73984712,4.32836451 L5.53751548,4.32836451 L5.53751548,3.51125375 C5.5386448,2.59518728 6.25931438,1.85285871 7.14865269,1.85169545 L12.4463424,1.85169545 L12.4463424,7.13652295 C12.4413942,7.39708203 12.5918827,7.63417108 12.8255864,7.73400763 C13.05929,7.83384418 13.3285068,7.77605025 13.5040355,7.58836198 L14.8179528,6.2339006 L16.2866294,7.74671678 C16.4026753,7.86696656 16.5606803,7.93427359 16.725285,7.93357544 C16.8065418,7.93365909 16.887009,7.91715374 16.9620361,7.8850133 C17.1948937,7.78748873 17.3466827,7.55379859 17.3453474,7.29487775 L17.3453474,1.85063975 L18.4727335,1.85063975 L18.4727335,9.16135298 L12.8788487,9.16135298 C12.4727629,9.16098607 12.0833126,8.99513489 11.7955332,8.70001267 L9.23329205,6.06076601 C8.95937748,5.7778365 8.58708122,5.61934953 8.19917154,5.62053967 L3.68962719,5.62053967 C1.65190236,5.62053967 0,7.32208828 0,9.42105485 L0,21.1994848 C0,23.2984514 1.65190236,25 3.68962719,25 L20.3103728,25 C22.3480976,25 24,23.2984514 24,21.1994848 L24,9.16452008 L20.2683521,9.16452008 Z M16.1082974,5.7567248 L15.2586582,4.88155061 C15.1430761,4.76065758 14.9852388,4.692584 14.820515,4.692584 C14.6557912,4.692584 14.4979539,4.76065758 14.3823718,4.88155061 L13.6885169,5.5962586 L13.6885169,2.18318483 L13.9016953,2.18318483 C14.4612888,2.18318483 15.2853055,2.20218741 16.1093223,2.23069127 L16.1082974,5.7567248 Z M22.2054063,21.2026519 C22.2037135,22.2770661 21.3585632,23.1476165 20.3154973,23.1493602 L3.69475168,23.1493602 C2.65145204,23.1481966 1.80597236,22.2773069 1.80484264,21.2026519 L1.80484264,9.42316625 C1.80597236,8.34851131 2.65145204,7.4776216 3.69475168,7.47645792 L5.47704659,7.47645792 L8.0392877,7.45745534 L10.5195371,10.0122461 C11.1432483,10.6584 11.9922011,11.0203534 12.8767989,11.0172712 L22.2033565,11.0172712 L22.2054063,21.2026519 Z\"/></symbol>\\n\\t<symbol id=\"icon_2021_local\" viewBox=\"0 0 24 25\"><path d=\"M13.500967,25 C12.8118463,24.9971137 12.1616885,24.6821092 11.7351223,24.1444399 L11.5285907,23.8828478 L11.3220592,24.1444399 C10.895493,24.6821092 10.2453352,24.9971137 9.55621451,25 L6.96734161,25 C6.49730569,24.9994835 6.03916612,24.8531565 5.65689897,24.5814526 L5.50096765,24.4716865 L5.34400368,24.5814526 C4.9621804,24.8532629 4.50433118,24.9996125 4.0345937,25 L2.27184698,25 C1.6693157,25 1.09146253,24.762223 0.665408573,24.3389771 C0.239354619,23.9157313 0,23.3416868 0,22.7431268 L0,14.2203529 C0,12.9739162 1.01714054,11.9634797 2.27184698,11.9634797 L4.0345937,11.9634797 C4.50436384,11.9636609 4.96227499,12.1100303 5.34400368,12.3820271 L5.50096765,12.4917932 L5.65689897,12.3820271 C6.03878513,12.1103409 6.49659321,11.9640044 6.96630895,11.9634797 L14.4840571,11.9634797 C14.8348046,11.9634797 15.1191416,11.6810167 15.1191416,11.332581 L15.1191416,9.46040213 C15.118914,8.99778741 15.2632422,8.54650848 15.5322047,8.16885515 L15.6354705,8.01395158 L15.5322047,7.85904801 C15.2628961,7.48079259 15.1185541,7.02875382 15.1191416,6.56544932 L15.1191416,2.2568732 C15.1191416,1.01043655 16.1362822,0 17.3909886,0 L21.728151,0 C22.9828574,0 24,1.01043655 24,2.2568732 L24,6.56544932 C24.0004396,7.02841417 23.8561013,7.48008303 23.5869349,7.85802216 L23.4836691,8.01292573 L23.5869349,8.16680345 C23.8559779,8.54480353 24.0003034,8.99643233 24,9.45937628 L24,18.528929 C24,19.7753657 22.9828574,20.7858022 21.728151,20.7858022 L16.6330178,20.7858022 L16.6330178,22.73492 C16.6330178,23.9813566 15.6158773,24.9917932 14.3611709,24.9917932 L13.500967,25 Z M6.95701503,13.5904801 C6.60683787,13.5904801 6.3229632,13.8724838 6.3229632,14.2203529 L6.3229632,18.528929 C6.3229632,18.8767981 6.60683787,19.1588018 6.95701503,19.1588018 L10.5919702,19.1588018 C11.8466766,19.1588018 12.8638172,20.1692384 12.8638172,21.415675 L12.8638172,22.7379975 C12.8638172,23.0864332 13.1481542,23.3688962 13.4989017,23.3688962 L14.3498116,23.3688962 C14.7001558,23.3683303 14.9838639,23.086033 14.9838635,22.7379975 L14.9838635,19.9681986 C14.9872435,19.5193469 15.3529928,19.1564654 15.8048263,19.1536725 L21.7198897,19.1536725 C22.0698311,19.1531077 22.353373,18.8714347 22.3539416,18.5237998 L22.3539416,9.45322117 C22.3539416,9.10535203 22.0700669,8.82334754 21.7198897,8.82334754 L17.3827273,8.82334754 C17.2143875,8.82307602 17.0528485,8.88931717 16.9337173,9.00747076 C16.8145861,9.12562436 16.7476426,9.28599063 16.7476428,9.45322117 L16.7476428,11.3254001 C16.7476428,12.5718367 15.7305023,13.5822733 14.4757959,13.5822733 L6.95701503,13.5904801 Z M6.95701503,20.7919573 C6.60683787,20.7919573 6.3229632,21.073961 6.3229632,21.4218301 L6.3229632,22.7410751 C6.3229632,23.0891106 6.6066709,23.3714078 6.95701503,23.3719737 L9.54588793,23.3719737 C9.89623207,23.3714078 10.1799398,23.0891106 10.1799398,22.7410751 L10.1799398,21.4218301 C10.1793712,21.0741952 9.89582932,20.7925221 9.54588793,20.7919573 L6.95701503,20.7919573 Z M2.2615204,13.5904801 C1.9111758,13.5904801 1.62700557,13.8723179 1.6264359,14.2203529 L1.6264359,22.7410751 C1.6264359,23.0895108 1.91077292,23.3719737 2.2615204,23.3719737 L4.02426712,23.3719737 C4.3750146,23.3719737 4.65935162,23.0895108 4.65935162,22.7410751 L4.65935162,14.2203529 C4.65878195,13.8723179 4.37461172,13.5904801 4.02426712,13.5904801 L2.2615204,13.5904801 Z M17.38376,1.62700041 C17.0338175,1.62700041 16.7498135,1.90821316 16.7486755,2.25584735 L16.7486755,6.56442347 C16.7486755,6.7317482 16.815586,6.89221974 16.9346874,7.01053618 C17.0537889,7.12885263 17.2153251,7.19532212 17.38376,7.19532212 L21.7209224,7.19532212 C22.0712665,7.19475621 22.3549742,6.91245895 22.3549742,6.56442347 L22.3549742,2.25584735 C22.353838,1.90861312 22.0704618,1.62756319 21.7209224,1.62700041 L17.38376,1.62700041 Z\"/></symbol>\\n\\n\\t<symbol id=\"icon_2021_weather\" viewBox=\"0 0 18 18\"><path d=\"M9.00053029,14.5914558 C9.15540585,14.5903412 9.30432664,14.6510529 9.41424064,14.7601319 C9.52415463,14.8692108 9.58596512,15.0176335 9.58596512,15.1724585 L9.58596512,15.1724585 L9.58596512,17.4168924 C9.58596512,17.7389339 9.32480668,18 9.00265143,18 C8.68049617,18 8.41933773,17.7389339 8.41933773,17.4168924 L8.41933773,17.4168924 L8.41933773,15.1724585 C8.41933773,14.8515881 8.6795465,14.5914558 9.00053029,14.5914558 Z M13.2622712,12.8520595 C13.4625802,12.7984059 13.6763073,12.8556536 13.8229437,13.0022382 L13.8229437,13.0022382 L15.3586495,14.5374013 C15.5853297,14.7640014 15.5853297,15.1313927 15.3586495,15.3579927 C15.1319694,15.5845927 14.7644482,15.5845927 14.5377681,15.3579927 L14.5377681,15.3579927 L13.0020622,13.8228295 C12.8554259,13.676245 12.7981578,13.4625934 12.8518305,13.2623552 C12.9055031,13.062117 13.0619622,12.9057132 13.2622712,12.8520595 Z M4.17599576,13.0001178 C4.40267591,12.7735178 4.77019706,12.7735178 4.99687721,13.0001178 C5.22355736,13.2267178 5.22355736,13.5941091 4.99687721,13.8207092 L4.99687721,13.8207092 L3.46011077,15.3579927 C3.23343062,15.5845927 2.86590947,15.5845927 2.63922932,15.3579927 C2.41254917,15.1313927 2.41254917,14.7640014 2.63922932,14.5374013 L2.63922932,14.5374013 L4.17493519,13.0022382 Z M8.98356116,4.25562493 C11.602179,4.25796209 13.7245689,6.37912761 13.7274923,8.99681941 C13.7274923,11.6151708 11.6042522,13.7378186 8.98497517,13.7380138 C6.36569815,13.7382089 4.24214162,11.6158774 4.24175117,8.99752605 C4.24136072,6.3791747 6.36428419,4.25621043 8.98356116,4.25562493 Z M8.98356116,5.86500177 C7.25329456,5.86500177 5.85063634,7.26716429 5.85063634,8.99681941 C5.85063634,10.7264745 7.25329456,12.1286371 8.98356116,12.1286371 C10.7138278,12.1286371 12.116486,10.7264745 12.116486,8.99681941 C12.1147322,7.267891 10.7131008,5.86675495 8.98356116,5.86500177 Z M17.4193377,8.42007304 C17.7400286,8.42007304 18,8.67995251 18,9.0005301 C18,9.32110768 17.7400286,9.58098716 17.4193377,9.58098716 L17.4193377,9.58098716 L15.1741103,9.58098716 C14.8534194,9.58098716 14.593448,9.32110768 14.593448,9.0005301 C14.593448,8.67995251 14.8534194,8.42007304 15.1741103,8.42007304 L15.1741103,8.42007304 Z M2.8258897,8.42007304 C2.97975027,8.42007304 3.12730911,8.48117231 3.23610496,8.58992971 C3.34490081,8.69868711 3.40602168,8.84619381 3.40602168,9 C3.40602168,9.32045677 3.14645923,9.58040238 2.8258897,9.58098716 L2.8258897,9.58098716 L0.580662267,9.58098716 C0.259971352,9.58098716 0,9.32110768 0,9.0005301 C0,8.67995251 0.259971352,8.42007304 0.580662267,8.42007304 L0.580662267,8.42007304 Z M14.5377681,2.6430675 C14.7644482,2.41646748 15.1319694,2.41646749 15.3586495,2.64306753 C15.5853297,2.86966756 15.5853297,3.2370588 15.3586495,3.46365885 L15.3586495,3.46365885 L13.8229437,4.998822 C13.7140557,5.107552 13.5664093,5.16857287 13.4125029,5.16845347 C13.1777213,5.16863584 12.9659767,5.02733906 12.8761049,4.81051592 C12.7862332,4.59369278 12.8359552,4.34409639 13.0020622,4.17823065 L13.0020622,4.17823065 Z M2.63922934,2.64200733 C2.86590949,2.41540729 3.23343061,2.41540728 3.46011077,2.6420073 L3.46011077,2.6420073 L4.99581664,4.17717046 C5.22249679,4.4037705 5.22249679,4.77116176 4.99581664,4.99776181 C4.76913649,5.22436185 4.40161534,5.22436185 4.17493519,4.99776181 L4.17493519,4.99776181 L2.63922932,3.46259866 C2.41254919,3.23599861 2.4125492,2.86860736 2.63922934,2.64200733 Z M8.99840914,0 C9.3205644,0 9.58172284,0.261066143 9.58172284,0.583107551 L9.58172284,0.583107551 L9.58172284,2.82754152 C9.58172284,3.14841187 9.32151407,3.40854418 9.00053029,3.40854418 C8.84565472,3.40965879 8.69673393,3.34894708 8.58681993,3.23986813 C8.47690594,3.13078917 8.41509545,2.98236648 8.41509545,2.82754152 L8.41509545,2.82754152 L8.41509545,0.583107551 C8.41509545,0.261066143 8.67625389,0 8.99840914,0 Z\" /></symbol>\\n\\t<symbol id=\"icon_2021_traffics\" viewBox=\"0 0 14 18\"><path d=\"M7.91323623,0 C9.22118946,0.000453997932 10.5259601,0.129223592 11.808898,0.384468177 C12.4260915,0.507311409 12.981806,0.840665203 13.3815706,1.32785974 C13.7805381,1.81580624 13.999017,2.4270187 14,3.05796654 L14,3.05796654 L14,13.6675103 C13.9952525,14.7251161 13.1751796,15.598771 12.1225459,15.6676338 L12.1225459,15.6676338 L11.6559531,15.6676338 L12.1724193,16.6788073 C12.3230107,16.9802105 12.3104855,17.3376892 12.1391704,17.6277548 C12.0080455,17.8546321 11.767836,17.9959273 11.5063331,18 L11.5063331,18 L2.49366688,18 C2.23216402,17.9959273 1.99195448,17.8546321 1.86082964,17.6277548 C1.68951449,17.3376892 1.67698927,16.9802105 1.82758075,16.6788073 L1.82758075,16.6788073 L2.34404687,15.6676338 L1.90626979,15.6676338 C0.842033913,15.613963 0.00512685469,14.7358515 8.8817842e-16,13.6675103 L8.8817842e-16,13.6675103 L8.8817842e-16,3.054633 C0.00322793223,1.75593852 0.917061051,0.63865392 2.18666878,0.381134638 C3.45190626,0.127938786 4.73893792,0.000277889128 6.02913236,0 L6.02913236,0 Z M10.6562698,15.6709673 L3.35370488,15.6709673 L2.62777074,17.091055 L2.62777074,17.091055 L2.62777074,17.1077227 L11.3921786,17.1077227 L11.3921786,17.1077227 L11.3866371,17.091055 L10.6562698,15.6709673 Z M7.92321089,1.16340514 L6.03910703,1.16340514 C4.8251789,1.16354204 3.61422569,1.28376137 2.42384421,1.52231619 C1.69556086,1.6697117 1.17147888,2.31083873 1.17036099,3.05574418 L1.17036099,3.05574418 L1.17036099,13.6675103 C1.17036099,14.1363677 1.5494587,14.5164516 2.01709943,14.5164516 L2.01709943,14.5164516 L12.0028499,14.5164516 C12.4702375,14.5158395 12.8489778,14.1361139 12.8495886,13.6675103 L12.8495886,13.6675103 L12.8495886,3.05796654 C12.8499899,2.311755 12.3239991,1.66942876 11.5938885,1.52453855 C10.3850209,1.28431452 9.15559454,1.16340514 7.92321089,1.16340514 L7.92321089,1.16340514 Z M10.570931,10.5373171 C11.2865763,10.5385405 11.8664175,11.1198902 11.8676377,11.8373974 C11.8676377,12.5554119 11.2870823,13.1374776 10.570931,13.1374776 C9.85477959,13.1374776 9.27422419,12.5554119 9.27422419,11.8373974 C9.27422419,11.1193829 9.85477959,10.5373171 10.570931,10.5373171 Z M3.4379354,10.5373171 C4.15358075,10.5385405 4.73342198,11.1198902 4.73464218,11.8373974 C4.73464218,12.5554119 4.15408678,13.1374776 3.4379354,13.1374776 C2.72178402,13.1374776 2.14122863,12.5554119 2.14122863,11.8373974 C2.14122863,11.1193829 2.72178402,10.5373171 3.4379354,10.5373171 Z M10.570931,11.1873572 C10.2128553,11.1873572 9.92257758,11.4783901 9.92257758,11.8373974 C9.92257758,12.1964046 10.2128553,12.4874375 10.570931,12.4874375 C10.9287536,12.4868258 11.2186743,12.1961509 11.2192844,11.8373974 C11.2192844,11.4783901 10.9290067,11.1873572 10.570931,11.1873572 Z M3.4379354,11.1873572 C3.07985971,11.1873572 2.78958201,11.4783901 2.78958201,11.8373974 C2.78958201,12.1964046 3.07985971,12.4874375 3.4379354,12.4874375 C3.79575807,12.4868258 4.08567869,12.1961509 4.08628879,11.8373974 C4.08628879,11.4783901 3.79601109,11.1873572 3.4379354,11.1873572 Z M11.5440152,3.51577258 C11.7207609,3.51879606 11.862627,3.6630067 11.8632046,3.84023705 L11.8632046,3.84023705 L11.8632046,9.23612569 C11.8625964,9.41506932 11.7180613,9.55998047 11.539582,9.56059016 L11.539582,9.56059016 L2.46152628,9.56059016 C2.28261432,9.56059016 2.13740606,9.41550206 2.13679544,9.23612569 L2.13679544,9.23612569 L2.13679544,3.84023705 C2.13740606,3.66086068 2.28261432,3.51577258 2.46152628,3.51577258 L2.46152628,3.51577258 Z M6.68413553,4.1658127 L2.7940152,4.1658127 L2.7940152,8.91166121 L6.68081064,8.91166121 L6.68413553,4.1658127 Z M11.2248258,4.1658127 L7.33470551,4.1658127 L7.33470551,8.91166121 L11.2248258,8.91166121 L11.2248258,4.1658127 Z\" /></symbol>\\n\\t<symbol id=\"icon_2021_economy\" viewBox=\"0 0 18 18\"><path d=\"M16.943232,4.6365902 L14.4326137,2.13099691 C14.2569942,1.95633436 13.9729017,1.95633436 13.7972822,2.13099691 L10.4829696,5.43867595 L8.86710983,3.82605032 C8.78289605,3.74190031 8.66861462,3.69461651 8.54944408,3.69461651 C8.43027355,3.69461651 8.31599212,3.74190031 8.23177834,3.82605032 L4.8232249,7.22778157 L3.8448144,6.25027259 C3.66919493,6.07561004 3.38510238,6.07561004 3.20948291,6.25027259 L0.916995117,8.53817199 L0,8.53817199 L0,14.4285883 C0.00116661039,15.2959723 0.705439646,15.9988357 1.57456321,16 L16.4254368,16 C17.2945604,15.9988357 17.9988334,15.2959723 18,14.4285883 L18,4.6365902 L16.943232,4.6365902 Z M3.523972,7.20136241 L4.50238249,8.17887139 C4.67800196,8.35353395 4.96209451,8.35353395 5.13771398,8.17887139 L8.54626743,4.77714014 L10.1621272,6.38976577 C10.3404457,6.55778291 10.6191401,6.55778291 10.7974587,6.38976577 L14.1117713,3.08208673 L16.6245073,5.58873679 L16.6446262,5.56865822 L16.6446262,7.62512577 L15.0690041,6.05265727 C14.8933846,5.87799471 14.609292,5.87799471 14.4336726,6.05265727 L10.1885993,10.289234 L8.03482558,8.13660073 C7.85920611,7.96193818 7.57511356,7.96193818 7.39949409,8.13660073 L1.35007942,14.1739075 L1.35007942,9.37513103 L3.523972,7.20136241 Z M16.4222601,14.651566 L2.13894935,14.651566 L7.71292429,9.08874732 L9.87093358,11.2424374 C10.0465531,11.4170999 10.3306456,11.4170999 10.5062651,11.2424374 L14.7513383,7.00586062 L16.645685,8.89535906 L16.645685,14.4264747 C16.645685,14.5499685 16.5459961,14.6504064 16.4222601,14.651566 L16.4222601,14.651566 Z\" /></symbol>\\n\\n\\t<symbol id=\"icon_2021_locked\" viewBox=\"0 0 10 12\"><path d=\"M9.5919592,4.26582384 L8.61086109,4.26582384 L8.61086109,3.60409216 C8.61086109,1.61360702 6.99399963,0 4.99949995,0 C3.00500027,0 1.38813881,1.61360702 1.38813881,3.60409216 L1.38813881,4.26582384 L0.408040804,4.26582384 C0.182686091,4.26582384 0,4.44814222 0,4.67304333 L0,11.5927805 C0,11.8176816 0.182686091,12 0.408040804,12 L9.5919592,12 C9.81731391,12 10,11.8176816 10,11.5927805 L10,4.67304333 C10,4.56504201 9.95701011,4.46146414 9.88048762,4.38509567 C9.80396512,4.3087272 9.70017835,4.26582384 9.5919592,4.26582384 Z M2.20522052,3.60409216 C2.2340304,2.08424801 3.47681805,0.867203256 5,0.867203256 C6.52318195,0.867203256 7.7659696,2.08424801 7.79477948,3.60409216 L7.79477948,4.26582384 L2.20522052,4.26582384 L2.20522052,3.60409216 Z M5.59755976,8.25717375 L5.59755976,10.1235964 L4.39743974,10.1235964 L4.39743974,8.25717375 C3.9604528,7.98917903 3.75507987,7.46406655 3.89460971,6.9715013 C4.03413955,6.47893606 4.48459747,6.13885484 4.99749975,6.13885484 C5.51040203,6.13885484 5.96085995,6.47893606 6.10038979,6.9715013 C6.23991963,7.46406655 6.0345467,7.98917903 5.59755976,8.25717375 Z\" /></symbol>\\n\\t<symbol id=\"icon_2021_unlocked\" viewBox=\"0 0 9 12\"><path d=\"M8.63488903,4.59779204 L7.75485344,4.59779204 L7.75485344,4.59779204 L7.51510016,4.59779204 C8.0062118,3.14261547 7.52280374,1.51803239 6.33371774,0.627535819 C5.14463174,-0.262960755 3.54245822,-0.200252312 2.41822737,0.780786576 L1.96128581,1.18047301 L2.42480883,1.78000267 L2.88175039,1.38031623 C3.78686309,0.588182981 5.08837411,0.570981782 6.0117423,1.33894922 C6.93511049,2.10691667 7.23222275,3.45369651 6.72626484,4.57780772 L3.70819407,4.57780772 L4.51301294,4.57780772 L2.00265501,4.57780772 L2.00265501,4.57780772 L3.70819407,4.57780772 L2.00923647,4.56881477 L2.00923647,4.56881477 L1.27681369,4.56881477 L1.27681369,4.56881477 L0.397718307,4.56881477 C0.195571105,4.5682611 0.0311325869,4.74167885 0.0300966025,4.95651062 L4.93415819e-06,11.5663251 C-0.00103271963,11.7811608 0.161725108,11.956368 0.363870784,11.9580178 L8.60198172,11.99999 C8.69914501,12.0005161 8.79251379,11.9599362 8.8614836,11.8872003 C8.93045342,11.8144643 8.96935493,11.7155512 8.96960342,11.612289 L8.99969011,5.00247456 C9.00378285,4.89681833 8.96719373,4.79395042 8.89835996,4.71759149 C8.8295262,4.64123255 8.73438996,4.59797439 8.63488903,4.59779204 L8.63488903,4.59779204 Z M5.04517121,8.38881789 L5.04517121,10.1714194 L3.97333299,10.1714194 L3.97333299,8.38881789 C3.58054109,8.13367972 3.39532583,7.63205675 3.52002348,7.16110885 C3.64472114,6.69016094 4.04890468,6.36480243 4.5092521,6.36480243 C4.96959952,6.36480243 5.37378307,6.69016094 5.49848072,7.16110885 C5.62317838,7.63205675 5.43796311,8.13367972 5.04517121,8.38881789 Z\" /></symbol>\\n\\t<symbol id=\"icon_2021_photo\" viewBox=\"0 0 13 12\"><path d=\"M9.44125,0 L10.2548333,1.71428571 L11.3771667,1.71428571 C12.221041,1.7154727 12.9139731,2.39508752 12.9925745,3.26362602 L13,3.42857143 L13,10.2857143 C13,11.1767956 12.3555379,11.9090842 11.5314983,11.9921525 L11.375,12 L1.625,12 C0.780329206,12 0.0861805986,11.3201279 0.0074387929,10.4508114 L0,10.2857143 L0,3.42857143 C0,2.53749015 0.64446209,1.80520151 1.46850166,1.72213323 L1.625,1.71428571 L2.74625,1.71428571 L3.55875,0 L9.44125,0 Z M6.50216667,3.00114286 C4.70724123,3.00114286 3.25216667,4.53616657 3.25216667,6.42971429 C3.25216667,8.323262 4.70724123,9.85828571 6.50216667,9.85828571 C8.2970921,9.85828571 9.75216667,8.323262 9.75216667,6.42971429 C9.75216667,4.53616657 8.2970921,3.00114286 6.50216667,3.00114286 Z M6.501625,4.6012566 C6.95856671,4.6012566 7.3967843,4.79279389 7.71983333,5.13371429 C8.39233515,5.8434195 8.39220567,6.99385305 7.71954412,7.70338978 C7.04688257,8.4129265 5.95636743,8.4129265 5.28370588,7.70338978 C4.61104433,6.99385305 4.61091485,5.8434195 5.28341667,5.13371429 C5.6064657,4.79279389 6.04468329,4.6012566 6.501625,4.6012566 Z\" /></symbol>\\n\\t<symbol id=\"icon_2021_movie\" viewBox=\"0 0 17 12\"><path d=\"M15.8136429,0 L15.8136429,1.44545194 L14.1464286,1.44545194 L14.1464286,0 L2.85357143,0 L2.85357143,1.44545194 L1.18635714,1.44545194 L1.18635714,0 L0,0 L0,12 L1.18635714,12 L1.18635714,10.5556934 L2.85357143,10.5556934 L2.85357143,12 L14.1464286,12 L14.1464286,10.5556934 L15.8136429,10.5556934 L15.8136429,12 L17,12 L17,0 L15.8136429,0 Z M2.85478571,9.45843276 L1.18757143,9.45843276 L1.18757143,7.88469982 L2.85478571,7.88469982 L2.85478571,9.45843276 Z M2.85478571,6.78743915 L1.18757143,6.78743915 L1.18757143,5.21485158 L2.85478571,5.21485158 L2.85478571,6.78743915 Z M2.85478571,4.11644555 L1.18757143,4.11644555 L1.18757143,2.54385797 L2.85478571,2.54385797 L2.85478571,4.11644555 Z M6.71378571,7.94654958 L6.71378571,4.05230505 L10.2874286,5.99942732 L6.71378571,7.94654958 Z M15.8148571,9.45843276 L14.1476429,9.45843276 L14.1476429,7.88469982 L15.8136429,7.88469982 L15.8148571,9.45843276 Z M15.8148571,6.78743915 L14.1476429,6.78743915 L14.1476429,5.21485158 L15.8136429,5.21485158 L15.8148571,6.78743915 Z M15.8148571,4.11644555 L14.1476429,4.11644555 L14.1476429,2.54385797 L15.8136429,2.54385797 L15.8148571,4.11644555 Z\" /></symbol>\\n\\t\\n\\t<symbol id=\"icon_2021_arrow_flat_right\" viewBox=\"0 0 6 9\"><polygon fill-rule=\"evenodd\" points=\"3 1.5 7.5 7.5 -1.5 7.5\" transform=\"rotate(90 3 4.5)\"/></symbol>\\n\\t<symbol id=\"icon_2021_arrow_square_right\" viewBox=\"0 0 23 23\"><rect fill=\"#432082\" x=\"0\" y=\"0\" width=\"23\" height=\"23\"></rect><polygon fill=\"#FFFFFF\" points=\"12.882 5 11.691 6.191 16.454 10.954 3 10.954 3 12.654 16.454 12.654 11.691 17.418 12.882 18.609 19.682 11.809\"></polygon></symbol>\\n\\n\\n\\t<!-- 2020 -->\\n\\t<symbol id=\"icon_036\" viewBox=\"0 0 15.492 17\"><path d=\"M8.361,0 C8.69623684,0 8.968,0.271763157 8.968,0.607 C8.968,0.908713159 8.74787184,1.15901263 8.45945855,1.20605539 L8.361,1.214 L8.361,2.458 C8.91568657,2.51434143 9.45926525,2.64766358 9.97617726,2.85369222 L10.283,2.986 L10.895,2.086 C11.0095529,1.88992997 11.2239655,1.77419708 11.450738,1.78603084 C11.6775106,1.7978646 11.8787128,1.9352857 11.9722358,2.14221383 C12.0523985,2.31958081 12.0419573,2.52258565 11.9485702,2.68908195 L11.327,3.604 C11.7569299,3.91903031 12.143515,4.28857437 12.4772078,4.70302077 L12.671,4.957 L13.756,4.33 C13.5883816,4.03949822 13.6879982,3.66811842 13.9785,3.5005 C14.2399516,3.34964342 14.5669144,3.41524724 14.7518863,3.64165237 L14.808,3.723 L15.415,4.775 C15.5234301,4.9629217 15.5233686,5.19441529 15.4148387,5.38227937 C15.3063088,5.57014345 15.1057987,5.685837 14.8888387,5.68577938 C14.702873,5.68572998 14.5290381,5.60064534 14.4148837,5.45799509 L14.363,5.382 L13.28,6.007 C13.506326,6.50395084 13.6636803,7.02895018 13.7481186,7.567419 L13.79,7.892 L14.428,7.892 C14.7632368,7.892 15.035,8.16376316 15.035,8.499 C15.035,8.80071316 14.8148718,9.05101263 14.5264586,9.09805539 L14.428,9.106 L13.778,9.106 C13.7228271,9.64926256 13.5940004,10.1819727 13.395459,10.6895709 L13.268,10.991 L14.351,11.616 C14.5186184,11.3254982 14.8899982,11.2258816 15.1805,11.3935 C15.4419516,11.5443566 15.5487862,11.8602599 15.4453448,12.1337078 L15.403,12.223 L14.796,13.275 C14.6283816,13.5655018 14.2570018,13.6651184 13.9665,13.4975 C13.7050484,13.3466434 13.5982138,13.0307401 13.7016552,12.7572922 L13.744,12.668 L12.659,12.041 C12.3468461,12.4730229 11.9798903,12.8620657 11.5676802,13.1985171 L11.315,13.394 L11.883,14.229 C12.0239601,14.4070339 12.0537589,14.648858 11.9602358,14.8557862 C11.8667128,15.0627143 11.6655106,15.2001354 11.438738,15.2119692 C11.2443616,15.2221124 11.0590659,15.1385332 10.9379529,14.9909737 L10.271,14.012 C9.765377,14.2469403 9.22997559,14.4100289 8.68035453,14.4969916 L8.349,14.54 L8.349,15.786 C8.68423681,15.786 8.95599993,16.0577632 8.95599993,16.393 C8.95599993,16.6947131 8.73587181,16.9450126 8.44745854,16.9920554 L8.349,17 L7.135,17 C6.91813977,17 6.71775264,16.8843065 6.60932252,16.6965 C6.5008924,16.5086936 6.5008924,16.2773064 6.60932252,16.0895 C6.70226262,15.928523 6.86276298,15.820527 7.04328853,15.7929562 L7.135,15.786 L7.135,14.541 C6.58037095,14.4843508 6.03684373,14.3509889 5.51987243,14.1451597 L5.213,14.013 L4.601,14.913 C4.48644711,15.10907 4.27203448,15.2248029 4.04526195,15.2129692 C3.81848942,15.2011354 3.61728723,15.0637143 3.52376416,14.8567862 C3.44360152,14.6794192 3.45404273,14.4764143 3.54742978,14.3099181 L4.169,13.395 C3.73907006,13.0799697 3.35248497,12.7104256 3.0187922,12.2959792 L2.825,12.042 L1.74,12.669 C1.84843013,12.8569217 1.84836866,13.0884153 1.73983875,13.2762794 C1.63130884,13.4641435 1.43079875,13.579837 1.21383872,13.5797794 C1.02787298,13.57973 0.85403809,13.4946454 0.739883689,13.3519951 L0.688,13.276 L0.081,12.224 C-0.0697746632,11.9627861 -0.00435869331,11.6360834 0.221753632,11.4511204 L0.303,11.395 C0.438318368,11.3142775 0.60403426,11.2923181 0.759568607,11.333969 C0.883996085,11.3672898 0.993722707,11.4391293 1.07376664,11.5379786 L1.128,11.617 L2.211,10.992 C1.98467399,10.4950492 1.82731965,9.97004982 1.74288144,9.431581 L1.701,9.107 L1.063,9.107 C0.727763157,9.107 0.456,8.83523684 0.456,8.5 C0.456,8.19828684 0.676128157,7.94798737 0.964541447,7.90094461 L1.063,7.893 L1.701,7.893 C1.75593662,7.3496938 1.88473247,6.8169449 2.08342707,6.30939148 L2.211,6.008 L1.128,5.383 C0.944020176,5.63205396 0.602068088,5.7027065 0.334450191,5.54695956 C0.0965676153,5.40851783 -0.014795491,5.13064248 0.0516485875,4.87184513 L0.085,4.776 L0.692,3.724 C0.800430095,3.53607828 1.00087869,3.42027822 1.21783872,3.42022059 C1.43479875,3.42016296 1.63530884,3.53585651 1.74383875,3.7237206 C1.83428034,3.88027401 1.84939663,4.06712569 1.78917421,4.23381187 L1.744,4.331 L2.828,4.957 C3.14022134,4.52527348 3.50718546,4.13651727 3.91935206,3.80032844 L4.172,3.605 L3.604,2.77 C3.44591706,2.49502558 3.52618905,2.14469972 3.78822705,1.96598981 C4.02114971,1.80713655 4.32788031,1.83149126 4.53242812,2.01273207 L4.604,2.088 L5.216,2.988 C5.721623,2.75305972 6.25702441,2.5899711 6.80664547,2.50300835 L7.138,2.46 L7.138,1.214 C6.80276316,1.214 6.531,0.942236843 6.531,0.607 C6.531,0.305286841 6.75112816,0.0549873682 7.03954145,0.00794460524 L7.138,0 L8.361,0 Z M7.74560874,3.643 L7.52973031,3.64794593 C4.94864636,3.76357404 2.89121762,5.89100568 2.888,8.5 C2.888,11.182447 5.06255297,13.357 7.745,13.357 C10.427447,13.357 12.602,11.182447 12.602,8.5 C12.602,5.89005154 10.543402,3.7609144 7.96134981,3.64773237 L7.74560874,3.643 Z M9.567,9.714 C9.90223684,9.714 10.174,9.98576316 10.174,10.321 C10.174,10.6562368 9.90223684,10.928 9.567,10.928 C9.40601359,10.928 9.25162077,10.8640484 9.13778618,10.7502138 C9.0239516,10.6363792 8.96,10.4819864 8.96,10.321 C8.96,9.98576316 9.23176316,9.714 9.567,9.714 Z M5.621,8.5 C6.12413141,8.5 6.532,8.90786859 6.532,9.411 C6.532,9.91413141 6.12413141,10.322 5.621,10.322 C5.11786859,10.322 4.71,9.91413141 4.71,9.411 C4.71,8.90786859 5.11786859,8.5 5.621,8.5 Z M7.746,5.464 C8.08123684,5.464 8.353,5.73576316 8.353,6.071 C8.353,6.40623684 8.08123684,6.678 7.746,6.678 C7.41076316,6.678 7.139,6.40623684 7.139,6.071 C7.139,5.73576316 7.41076316,5.464 7.746,5.464 Z\"/></symbol>\\n\\t<symbol id=\"icon_035\" viewBox=\"0 0 18 18\"><path d=\"M91.8,93a.6.6,0,0,0-.8.8l1.1,1,.4.2.3-.2a.5.5,0,0,0,0-.7Z\" transform=\"translate(-75.9 -81.8)\"/><path d=\"M91.4,88.7l.4-.2,1-1a.6.6,0,0,0,0-.8.5.5,0,0,0-.7,0L91,87.8a.5.5,0,0,0,0,.7Z\" transform=\"translate(-75.9 -81.8)\"/><path d=\"M93.4,90.2H91.9a.6.6,0,0,0-.5.6.5.5,0,0,0,.5.5h1.5a.5.5,0,0,0,.5-.5A.6.6,0,0,0,93.4,90.2Z\" transform=\"translate(-75.9 -81.8)\"/><path class=\"cls-2\" d=\"M90.2,83.6h-.1a.1.1,0,0,0-.1-.1h-.6l-6,3.7H80.7a2.5,2.5,0,0,0-1.5.5l-.4.5H77.4a1.6,1.6,0,0,0-1.5,1.6h0V92a1.5,1.5,0,0,0,1.5,1.5h1.4a1,1,0,0,0,.4.5,2.7,2.7,0,0,0,1.2.6V96a.8.8,0,0,0,.8.7h1A.8.8,0,0,0,83,96V94.6h.4l6,3.7h.8V83.7ZM78.5,92.4H77.4A.4.4,0,0,1,77,92V89.6a.5.5,0,0,1,.4-.5h1.1v3.3ZM82.3,96H81.1V94.6h1.2Zm.7-2.5H80.7a1.1,1.1,0,0,1-.8-.3,1.2,1.2,0,0,1-.4-.8V89.1a1.2,1.2,0,0,1,.4-.8,1.1,1.1,0,0,1,.8-.3H83Zm6.2,3.4-5.5-3.4V88l5.5-3.3Z\" transform=\"translate(-75.9 -81.8)\"/></symbol>\\n\\t<symbol id=\"icon_034\" viewBox=\"0 0 18 18\"><path d=\"M247.4,222.5l-.4.2-.4-.2-1.6-1.6h.1l.6-.5h.1l1.6,1.6A.5.5,0,0,1,247.4,222.5Zm-13.2-2.1h4.5V220h-4.5Zm9.7.3v.7a1.8,1.8,0,0,1-1.8,1.7h-8.8a1.8,1.8,0,0,1-1.8-1.7V208.6a1.8,1.8,0,0,1,1.8-1.8h7.2a.9.9,0,0,1,.7.3l2.3,2.1a.8.8,0,0,1,.4.7v2.4a4.5,4.5,0,0,1,0,8.4Zm-3.2-10.8h1.8l-1.8-1.6Zm2,11.1h-.6a4.7,4.7,0,0,1-3.9-2.2h-4v-.4H238a5.6,5.6,0,0,1-.4-1.2h-3.4v-.4h3.4v-.3a4.1,4.1,0,0,1,.1-1.1h-3.5v-.8H238a7.5,7.5,0,0,1,.7-1.2h-4.5v-.7h5.5a4.1,4.1,0,0,1,2.4-.8h.6v-1.4h-2.8V208h-6.6a.6.6,0,0,0-.6.6v12.8c0,.3.2.5.6.5h8.8a.6.6,0,0,0,.6-.5Zm2.8-4.5a3.6,3.6,0,0,0-1.6-2.9,2.8,2.8,0,0,0-1.2-.4h-.6l-1,.2h-.4a3.3,3.3,0,0,0-1.4,1.2c-.1.3-.3.5-.4.8a4.1,4.1,0,0,0-.1,1.1,3.3,3.3,0,0,0,3.3,3.3h.6a3.1,3.1,0,0,0,1.2-.5A3.4,3.4,0,0,0,245.5,216.5Z\" transform=\"translate(-231.5 -206.8)\"/></symbol>\\n\\t<symbol id=\"icon_033\" viewBox=\"0 0 18 18\"><path d=\"M11.9,4.9l0,4.9v2.9h4.6V9.5L11.9,4.9z M15.6,11.8h-2.8l0-4.8l2.8,2.8V11.8z M1.5,16.4h15v-3.2h-15V16.4z M2.3,14h13.3v1.5H2.3V14z M11.3,4.3L9,2L6.7,4.3v8.4l4.6,0V4.3z M10.4,11.8H7.6V4.7L9,3.3l1.4,1.4V11.8z M6.1,4.9L1.5,9.5v3.2 l4.6,0V4.9z M5.2,11.8H2.4V9.9l2.8-2.8V11.8z\"/></symbol>\\n\\t<symbol id=\"icon_032\" viewBox=\"0 0 18 18\"><path d=\"M15.9,3.7l-1.6-1.6c-0.8-0.8-2-0.8-2.8,0c0,0,0,0,0,0l-8.4,8.5c-0.1,0.1-0.3,0.3-0.3,0.5l-1.2,3.7 c-0.1,0.5,0,1,0.3,1.3c0.3,0.3,0.8,0.5,1.3,0.3l3.8-1.1c0.2-0.1,0.4-0.2,0.6-0.3l8.4-8.5C16.7,5.8,16.7,4.5,15.9,3.7z M14.6,4.3 l-8.5,8.5l-0.9-0.9l8.5-8.5L14.6,4.3z M12.4,3c0.3-0.3,0.7-0.3,1,0c0,0,0,0,0,0l0,0l-8.5,8.5l-0.5-0.5L12.4,3z M2.8,15.2l0.3-1.1 l0.8,0.8L2.8,15.2z M4.4,14.7l-1.1-1.1l0.6-1.8l2.4,2.4L4.4,14.7z M15,5.6l-8,8l-0.5-0.5l8.5-8.5l0,0C15.2,4.9,15.2,5.3,15,5.6 L15,5.6z\"/></symbol>\\n\\t<symbol id=\"icon_031\" viewBox=\"0 0 18 18\"><path d=\"M13.5,1H4.7C3.8,1,3,1.8,3,2.7v12.6C3,16.2,3.8,17,4.7,17h8.7c0.9,0,1.7-0.8,1.7-1.7V2.7 C15.2,1.8,14.4,1,13.5,1z M14,15.3c0,0.3-0.3,0.6-0.6,0.6H4.7c-0.3,0-0.6-0.3-0.6-0.6V2.7c0-0.3,0.3-0.6,0.6-0.6h8.7 c0.3,0,0.6,0.3,0.6,0.6V15.3z M10.5,3.1H4.8v5h4.3L10.5,3.1z M5.2,7.7V3.4H10L8.8,7.7H5.2z M13.4,8v-5h-2.7L9.3,8H13.4z M11,3.4h2 v4.2H9.8L11,3.4z M8.1,8.6H4.8V12h3.3V8.6z M7.7,11.6H5.2V9h2.5L7.7,11.6z M4.8,14.9h8.6v-2.5H4.8V14.9z M13,12.8v1.7H5.2l0-1.7H13z M8.3,12h5V8.6h-5V12z M8.7,9H13v2.6H8.7V9z\"/></symbol>\\n\\t<symbol id=\"icon_030\" viewBox=\"0 0 18 18\"><path d=\"M9,5.7L9,5.7c-2.1,0-3.8,1.7-3.8,3.8s1.7,3.8,3.8,3.8s3.8-1.7,3.8-3.8C12.8,7.4,11.1,5.7,9,5.7z M9,12.6L9,12.6 c-1.7,0-3.1-1.4-3.1-3.1S7.3,6.5,9,6.5s3.1,1.4,3.1,3.1C12.1,11.3,10.7,12.6,9,12.6z M7.4,7.9c-0.9,0.9-0.9,2.4,0,3.3 c0.9,0.9,2.4,0.9,3.3,0c0.4-0.4,0.7-1,0.7-1.6c0-0.6-0.2-1.2-0.7-1.6C9.7,7,8.3,7,7.4,7.9z M9.8,10.4C9.8,10.4,9.8,10.4,9.8,10.4 L9.8,10.4c-0.5,0.4-1.2,0.4-1.6,0c-0.4-0.4-0.4-1.2,0-1.6c0.4-0.4,1.2-0.4,1.6,0C10.2,9.2,10.2,9.9,9.8,10.4z M14.2,4.2h-0.8 l-0.9-1.7h-7L4.6,4.2H3.8c-1.3,0-2.3,1-2.3,2.3v6.9c0,1.3,1,2.3,2.3,2.3h10.4c1.3,0,2.3-1,2.3-2.3V6.5C16.5,5.3,15.5,4.2,14.2,4.2z M14.2,14.6H3.8c-0.6,0-1.1-0.5-1.1-1.1V6.5c0-0.6,0.5-1.1,1.1-1.1h1.6l0.9-1.7h5.5l0.9,1.7h1.6c0.6,0,1.1,0.5,1.1,1.1l0,6.9 C15.3,14.1,14.8,14.6,14.2,14.6z\"/></symbol>\\n\\t<symbol id=\"icon_029\" viewBox=\"0 0 18 18\"><path d=\"M13.2,4.3H2.6C1.7,4.3,1,5,1,5.8v9.4c0,0.3,0.2,0.6,0.5,0.7c0.3,0.1,0.6,0.1,0.8-0.2l2.2-2.2h8.7 c0.9,0,1.5-0.7,1.5-1.6V5.8C14.7,5,14.1,4.3,13.2,4.3z M13.2,12.4H4.5c-0.3,0-0.6,0.1-0.8,0.3l-1.5,1.5V5.8c0-0.2,0.2-0.4,0.4-0.4 h10.6c0.2,0,0.4,0.2,0.4,0.4l0,6.2C13.6,12.2,13.4,12.4,13.2,12.4z M17.1,3.4v6.2c0,0.8-0.6,1.4-1.4,1.4h-0.4v-0.8h0.4 c0.3,0,0.6-0.3,0.6-0.6V3.4c0-0.3-0.3-0.6-0.6-0.6H5c-0.3,0-0.6,0.3-0.6,0.6v0.4H3.7V3.4C3.7,2.6,4.3,2,5,2h10.7 C16.5,2,17.1,2.6,17.1,3.4z M4.4,7h7v0.8h-7V7z M4.4,8.6h7v0.8h-7V8.6z M4.4,10.3h4.3v0.4H4.4V10.3z\"/></symbol>\\n\\t<symbol id=\"icon_028\" viewBox=\"0 0 18 18\"><path d=\"M16.3,3C16.3,3,16.3,3,16.3,3H4.9C3.9,3,3.2,3.8,3.2,4.7V5l0.1,0C3.6,5,4,5.1,4.3,5.3l0.1,0.1V4.7 c0-0.3,0.2-0.5,0.5-0.5h11.4c0.3,0,0.5,0.2,0.5,0.5v8.4c0,0.3-0.2,0.5-0.5,0.5H7.7c0.3-0.1,0.5-0.3,0.7-0.4C9,13,9.3,12.3,9.1,11.7 l3.5-2.1c0.1-0.1,0.2-0.2,0.1-0.4c0,0,0,0,0,0c0-0.1-0.1-0.1-0.2-0.1c0,0-0.1,0-0.1,0l-3.6,2.1c-0.2-0.2-0.5-0.3-0.8-0.3 c-0.3,0-0.5,0.1-0.8,0.2c-0.4,0.2-0.7,0.3-0.9,0.4L5,10.2H3.8c1.2-0.5,1.9-1.9,1.4-3.1C5.1,6.7,4.9,6.4,4.6,6.2l0,0 C4.5,6.1,4.5,6.1,4.4,6C4,5.7,3.5,5.5,2.9,5.5c-0.7,0-1.3,0.3-1.8,0.8C1.1,6.4,1,6.5,1,6.6C0.2,7.6,0.5,9.1,1.6,9.9 c0.2,0.1,0.3,0.2,0.5,0.3H1.8C0.8,10.2,0,11,0,12c0,0,0,0,0,0v2.9h0.9V12c0-0.5,0.4-0.9,0.9-1c0,0,0,0,0,0h2.8l1.5,1.6l0.3-0.2 c0.1-0.1,0.5-0.3,1.1-0.6c0.1-0.1,0.2-0.1,0.4-0.1c0.1,0,0.2,0,0.3,0.1c0.1,0.1,0,0.4-0.3,0.5c-0.4,0.2-1.4,0.7-2.2,1.1 c-0.7,0.3-1.3,0.7-1.7,0.9l-0.1,0.1l0.1,0.1c0.3,0.1,0.5,0.2,0.8,0.2h11.4c0.9,0,1.7-0.8,1.7-1.7V4.7C18,3.8,17.2,3,16.3,3z M2.2,9.3c-0.7-0.4-1-1.3-0.6-2.1c0.3-0.5,0.8-0.8,1.3-0.8c0.6,0,1.1,0.3,1.3,0.8c0.3,0.5,0.3,1,0,1.5C3.9,9.4,2.9,9.7,2.2,9.3z\"/></symbol>\\n\\t<symbol id=\"icon_027\" viewBox=\"0 0 18 18\"><path d=\"M1,7.4L1,1h6.5v1.3H2.3v5.1H1z M15.7,7.4H17V1l-6.5,0v1.3h5.2V7.4z M2.3,10.6H1V17h6.5v-1.3H2.3L2.3,10.6z M15.7,10.6l0,5.1h-5.2V17H17v-6.4H15.7z M5.5,10.5C4.5,11.5,4,12.7,4,14.1h0.8c0-1.8,1.1-3.3,2.8-4C7.2,10,7,9.8,6.7,9.6 C6.3,9.8,5.8,10.2,5.5,10.5z M9,10c-1.7,0-3-1.4-3-3c0-1.7,1.4-3,3-3c1.7,0,3,1.4,3,3C12,8.6,10.7,10,9,10z M11.1,7 c0-1.2-0.9-2.1-2.1-2.1C7.8,4.8,6.9,5.8,6.9,7c0,0,0,0,0,0c0,1.2,0.9,2.1,2.1,2.1C10.2,9.1,11.1,8.1,11.1,7z M13.2,14.1H14 c0-1.3-0.5-2.6-1.5-3.5c-0.4-0.4-0.8-0.7-1.3-0.9c-0.2,0.2-0.5,0.4-0.8,0.5C12.1,10.7,13.2,12.3,13.2,14.1z\"/></symbol>\\n\\t<symbol id=\"icon_026\" viewBox=\"0 0 18 18\"><path d=\"M14.8,10.6c1.4-1.2,2.2-3,2.2-4.9l0-0.3l-0.3-0.1c-0.2,0-0.4-0.1-0.5-0.1c0-0.5-0.1-0.9-0.2-1.4l-0.1-0.2 l-0.2-0.1h-0.1c-0.5,0-1.1,0.2-1.6,0.4c-0.1-0.4-0.2-0.7-0.4-1l-0.2-0.3l-0.3,0.1c-0.4,0.1-0.7,0.2-1,0.4c-0.1-0.3-0.3-0.5-0.5-0.7 l-0.2-0.2l-0.3,0.1l-0.1,0c-0.4,0.2-0.7,0.4-1,0.7C9.8,2.8,9.5,2.6,9.3,2.3L9.1,2.2L8.8,2.3l0,0C8.5,2.6,8.3,2.8,8.1,3 c-0.3-0.3-0.6-0.5-1-0.7L6.9,2.2L6.6,2.4L6.6,2.4C6.4,2.7,6.2,2.9,6,3.2C5.6,3,5.2,2.8,4.8,2.8L4.5,2.7L4.4,3C4.2,3.3,4.1,3.6,4,4 C3.5,3.8,3,3.7,2.5,3.6l-0.4,0L2,3.9C1.9,4.4,1.8,4.8,1.8,5.3c-0.2,0-0.3,0-0.5,0.1L1,5.4l0,0.3c0,1.9,0.8,3.7,2.2,4.9 c-0.1,0.1-0.3,0.1-0.4,0.2l-0.2,0.2l0.1,0.3c0.5,1,1.4,1.8,2.5,2.1c0.4,0.1,0.9,0.2,1.3,0.2c0.5,0,1-0.1,1.5-0.3v2.3h2.2v-2.2 c0.4,0.1,0.9,0.2,1.4,0.2c0.4,0,0.9-0.1,1.3-0.2c1.1-0.3,2-1,2.5-2.1l0.1-0.3l-0.2-0.2C15.1,10.8,14.9,10.7,14.8,10.6z M15.2,4.5 c0.1,0.3,0.1,0.5,0.1,0.8c-0.4,0-0.8,0.1-1.2,0.2l0,0c0-0.2,0-0.4,0-0.7C14.4,4.7,14.8,4.6,15.2,4.5z M11.9,4.2 c0.1,0,0.1-0.1,0.2-0.1C12.1,4,12.2,4,12.3,4l0,0c0.1-0.3,0.4-0.4,0.7-0.3c0.3,0.1,0.4,0.4,0.3,0.7c0,0.1-0.1,0.1-0.1,0.1 c0,0.1,0,0.1,0,0.2c0,0.1,0,0.1,0,0.2c0,0.3,0,0.7,0,1c0,0.1,0,0.2,0,0.2s0,0.2,0,0.2c-0.1,0.7-0.3,1.3-0.6,2 c-0.2,0.4-0.4,0.8-0.7,1.2c-0.2,0.2-0.4,0.5-0.6,0.7c-0.1,0.1-0.2,0.2-0.3,0.3c0.3-0.9,0.5-1.8,0.5-2.7v0c0,0,0-0.1,0-0.1V7.5 c0-0.1,0-0.2,0-0.3c0-0.1,0-0.2,0-0.4c0-0.1,0-0.2,0-0.3c0-0.1,0-0.2,0-0.3c-0.1-0.5-0.2-1-0.4-1.5C11.3,4.6,11.6,4.4,11.9,4.2z M11.1,3.3c0.1,0.1,0.1,0.2,0.2,0.3c-0.2,0.1-0.4,0.3-0.7,0.5c-0.1-0.1-0.1-0.2-0.2-0.3C10.7,3.6,10.9,3.4,11.1,3.3z M7,3.2 c0.2,0.1,0.4,0.3,0.6,0.5C7.5,3.9,7.4,4,7.4,4.1C7.2,4,7,3.8,6.7,3.6C6.8,3.5,6.9,3.4,7,3.2z M4.9,3.7c0.3-0.2,0.6-0.1,0.8,0.2 c0,0.1,0.1,0.1,0.1,0.2l0,0c0.1,0,0.1,0.1,0.2,0.1c0.1,0,0.1,0.1,0.2,0.1C6.5,4.5,6.7,4.7,7,4.9c-0.2,0.5-0.3,1-0.4,1.5 c0,0.1,0,0.2,0,0.3s0,0.2,0,0.3c0,0.1,0,0.2,0,0.2c0,0.1,0,0.2,0,0.3v0c0,0.1,0,0.2,0,0.3c0,1,0.2,1.9,0.6,2.9l0,0 c-0.2-0.2-0.4-0.4-0.6-0.6C6,9.6,5.6,9,5.3,8.4C5,7.7,4.8,7.1,4.7,6.4c0-0.1,0-0.2,0-0.2c0-0.1,0-0.2,0-0.2c0-0.3,0-0.6,0-1 c0-0.1,0-0.1,0-0.2s0-0.1,0-0.2C4.6,4.3,4.6,3.9,4.9,3.7z M2.7,4.5L2.7,4.5c0.4,0.1,0.7,0.2,1.1,0.3l0.1,0c0,0.2,0,0.4,0,0.6 C3.5,5.4,3.1,5.3,2.7,5.3C2.7,5,2.7,4.8,2.7,4.5z M6.5,12.8c-0.4,0-0.7-0.1-1.1-0.2C4.7,12.5,4,12,3.6,11.4c0.1,0,0.2-0.1,0.3-0.1v0 c0.9,0.7,2,1.2,3.2,1.5C6.9,12.8,6.7,12.8,6.5,12.8z M6.1,11.5c-0.5-0.2-1-0.5-1.4-0.8l-0.1-0.1h0c-0.1,0-0.1-0.1-0.2-0.1 c-0.1,0-0.1-0.1-0.2-0.2l0,0l-0.1-0.1C2.8,9.3,2,7.8,1.8,6.1c0.1,0,0.1,0,0.2,0l0.2,0h0c0.1,0,0.1,0,0.2,0c0.5,0,1,0.1,1.5,0.3 C4,7.2,4.2,8,4.6,8.7c0.4,0.8,0.9,1.5,1.5,2.2c0.1,0.1,0.3,0.3,0.4,0.4c0.2,0.2,0.5,0.4,0.8,0.6C6.8,11.8,6.4,11.7,6.1,11.5z M9.5,15.1h-1v-1.8h1V15.1z M9.7,11.3c-0.1,0.1-0.1,0.2-0.2,0.3l0,0.1c0,0.1-0.1,0.1-0.1,0.2l-0.1,0.1l-0.2,0.3l0,0.1l0,0l0,0l0,0 l-0.1-0.1l-0.1-0.1c-0.1-0.1-0.1-0.2-0.2-0.3l-0.1-0.1c-0.1-0.1-0.1-0.2-0.2-0.3s-0.1-0.2-0.2-0.3c-0.5-0.8-0.7-1.8-0.8-2.7 c0-0.1,0-0.2,0-0.3c0-0.1,0-0.2,0-0.3H7.1l0.2,0V7.7c0-0.1,0-0.2,0-0.3c0-0.1,0-0.2,0-0.3c0-0.6,0.2-1.2,0.4-1.7 c0-0.1,0.1-0.1,0.1-0.2C7.9,5,7.9,5,7.9,4.9C8,4.6,8.2,4.4,8.3,4.1l0,0c0-0.1,0.1-0.1,0.1-0.2c0-0.1,0.1-0.1,0.1-0.2 C8.7,3.6,8.9,3.4,9,3.3c0.2,0.2,0.3,0.4,0.5,0.6c0,0.1,0.1,0.1,0.1,0.2c0,0.1,0.1,0.1,0.1,0.2L9.9,4L9.8,4.2 c0.1,0.2,0.2,0.4,0.4,0.6c0,0.1,0.1,0.1,0.1,0.2c0,0.1,0.1,0.1,0.1,0.2c0.2,0.5,0.3,1.1,0.4,1.6c0,0.1,0,0.2,0,0.3 c0,0.1,0,0.2,0,0.4v0.1c0,0.1,0,0.2,0,0.3c0,0.1,0,0.2,0,0.3C10.6,9.3,10.3,10.4,9.7,11.3z M14.4,11.4c-0.4,0.6-1.1,1.1-1.8,1.3 c-0.3,0.1-0.7,0.2-1.1,0.2c-0.2,0-0.4,0-0.6-0.1c1.2-0.2,2.3-0.8,3.2-1.5C14.2,11.3,14.3,11.3,14.4,11.4L14.4,11.4z M13.9,10.3 C13.9,10.3,13.9,10.4,13.9,10.3l-0.1,0.1c-0.1,0.1-0.1,0.1-0.2,0.2s-0.2,0.1-0.2,0.2s-0.2,0.1-0.3,0.2c-0.4,0.3-0.9,0.5-1.4,0.7 c-0.4,0.1-0.7,0.2-1.1,0.3c0.2-0.1,0.4-0.3,0.6-0.5c0.1,0,0.1-0.1,0.2-0.1c0.2-0.1,0.3-0.3,0.5-0.4c0.6-0.6,1.1-1.4,1.5-2.2 C13.7,8,13.9,7.2,14,6.4c0.5-0.2,1-0.3,1.5-0.3c0.1,0,0.1,0,0.2,0l0.1,0h0.1c0.1,0,0.2,0,0.2,0C16,7.8,15.2,9.3,13.9,10.3z\"/></symbol>\\n\\t<symbol id=\"icon_025\" viewBox=\"0 0 18 18\"><path d=\"M16.3,5.2V2.5c0-0.8-0.7-1.5-1.5-1.5H12c-0.8,0-1.5,0.7-1.5,1.5v2.7c0,0.3,0.1,0.6,0.3,0.9l0,0l0,0 c-0.2,0.3-0.3,0.6-0.3,0.9v1.2c0,0,0,0,0,0c0,0.2-0.1,0.3-0.3,0.3H5.5c-0.3,0-0.6,0.1-0.9,0.3l0,0l0,0C4.2,8.7,3.9,8.6,3.6,8.6H2.5 C1.7,8.6,1,9.3,1,10.1v5.4C1,16.3,1.7,17,2.5,17h1.1c0.3,0,0.6-0.1,0.9-0.3l0,0l0,0C4.9,16.9,5.2,17,5.5,17h1.6 c0.5,0,0.9-0.2,1.2-0.6l0.1-0.1l0.1,0.1C8.7,16.8,9.1,17,9.6,17h0.5c0.8,0,1.5-0.7,1.5-1.5v-1.2h3.1c0.8,0,1.5-0.7,1.5-1.5V7.1 c0-0.3-0.1-0.6-0.3-0.9l0,0l0,0C16.2,5.9,16.3,5.6,16.3,5.2z M3.9,15.5c0,0.2-0.1,0.3-0.3,0.3H2.5c-0.2,0-0.3-0.1-0.3-0.3v-5.4 c0-0.2,0.1-0.3,0.3-0.3h1.1c0.2,0,0.3,0.1,0.3,0.3V15.5z M7.4,15.5C7.4,15.5,7.4,15.5,7.4,15.5c0,0.2-0.1,0.3-0.3,0.3H5.5 c-0.2,0-0.3-0.1-0.3-0.3v-0.8c0,0,0,0,0,0c0-0.2,0.1-0.3,0.3-0.3h1.6c0.2,0,0.3,0.1,0.3,0.3V15.5z M15.1,12.8 C15.1,12.8,15.1,12.8,15.1,12.8c0,0.2-0.1,0.3-0.3,0.3H11c-0.3,0-0.6,0.3-0.6,0.6v1.8c0,0.2-0.1,0.3-0.3,0.3H9.6 c-0.2,0-0.3-0.1-0.3-0.3v-0.8c0-0.8-0.7-1.5-1.5-1.5H5.5c-0.2,0-0.3-0.1-0.3-0.3v-2.7c0-0.2,0.1-0.3,0.3-0.3l4.7,0 c0.8,0,1.5-0.7,1.5-1.5V7.1c0-0.2,0.1-0.3,0.3-0.3h2.7c0.2,0,0.3,0.1,0.3,0.3V12.8z M15.1,5.2C15.1,5.2,15.1,5.2,15.1,5.2 c0,0.2-0.1,0.3-0.3,0.3H12c-0.2,0-0.3-0.1-0.3-0.3V2.5c0,0,0,0,0,0c0-0.2,0.1-0.3,0.3-0.3h2.7c0.2,0,0.3,0.1,0.3,0.3V5.2z\"/></symbol>\\n\\t<symbol id=\"icon_024\" viewBox=\"0 0 18 18\"><path d=\"M17,5.7h-1.7V4c0,0-0.1,0-0.1,0H2.9C1.8,4,1,4.8,1,5.8v6.1c0,1,0.8,1.8,1.8,1.8h6.9l0.9-0.9v0.9h4.5 c1,0,1.8-0.8,1.8-1.8V5.8C17,5.8,17,5.7,17,5.7z M15.2,12.7h-3.8v-1.6l-1.6,1.6h-7c-0.4,0-0.7-0.3-0.7-0.7V5.8 c0-0.4,0.3-0.7,0.7-0.7h11.7v1.3h1.3l0,5.5C15.9,12.4,15.6,12.7,15.2,12.7z M13.1,8.1h0.4v0.4h-0.4V8.1z M12.4,9.2h0.4v0.4h-0.4V9.2 z M13.8,7h0.4v0.4h-0.4V7z M11.6,10.3H12v0.4h-0.4V10.3z M4.6,9c-0.8,0-1.4,0.6-1.4,1.4c0,0.8,0.6,1.4,1.4,1.4 c0.8,0,1.4-0.6,1.4-1.4C6,9.6,5.4,9,4.6,9z M4.6,11.4L4.6,11.4c-0.6,0-1-0.5-1-1s0.5-1,1-1c0.6,0,1,0.5,1,1 C5.7,10.9,5.2,11.4,4.6,11.4z\"/></symbol>\\n\\t<symbol id=\"icon_023\" viewBox=\"0 0 18 18\"><path d=\"M12.8,11.5h0.4v0.4h-0.4V11.5z M4.3,10.8h6.4v-0.4H4.3V10.8z M4.3,9.7h6.4V9.3H4.3V9.7z M10.7,8.2H4.3V5.9h6.4 V8.2z M9.9,6.6H5v0.8h4.9V6.6z M4.3,11.9h6.4v-0.4H4.3V11.9z M12.8,7.4h0.4V7h-0.4V7.4z M12.8,6.3h0.4V5.9h-0.4V6.3z M17,5.8v6.1 c0,1-0.8,1.8-1.8,1.8H2.9c-1,0-1.8-0.8-1.8-1.8V5.8C1,4.8,1.8,4,2.9,4h12.3C16.2,4,17,4.8,17,5.8z M15.9,5.8c0-0.4-0.3-0.7-0.7-0.7 H2.9c-0.4,0-0.7,0.3-0.7,0.7v6.1c0,0,0,0,0,0c0,0.4,0.3,0.7,0.7,0.7h12.3c0,0,0,0,0,0c0.4,0,0.7-0.3,0.7-0.7V5.8 C15.9,5.8,15.9,5.8,15.9,5.8z M12.8,10.8h0.4v-0.4h-0.4V10.8z M12.8,8.6h0.4V8.1h-0.4V8.6z M12.8,9.7h0.4V9.2h-0.4V9.7z\"/></symbol>\\n\\t<symbol id=\"icon_022\" viewBox=\"0 0 18 18\"><path d=\"M8.9,6.1l-1.5,4.3h3L8.9,6.1L8.9,6.1z M8.6,9.5l0.3-0.8l0.3,0.8H8.6z M15.7,14.3L15.7,14.3L11.4,2.8 C11.2,2.3,10.7,2,10.2,2H7.6c-0.5,0-1,0.3-1.2,0.8L2.1,14.3c-0.3,0.7,0.1,1.4,0.7,1.7C3,16,3.1,16,3.3,16h2.5c0.5,0,1-0.3,1.2-0.9 l0.6-1.7h2.5l0.6,1.7c0.2,0.5,0.7,0.9,1.2,0.9h2.6c0.7,0,1.3-0.6,1.3-1.3C15.8,14.6,15.7,14.4,15.7,14.3z M11.9,14.7L11,12.2H6.7 l-0.9,2.5H3.3L7.6,3.3h2.6l4.3,11.4H11.9z\"/></symbol>\\n\\t<symbol id=\"icon_021\" viewBox=\"0 0 18 18\"><path d=\"M17,7.8c0.1-0.6-0.3-1.2-0.9-1.3l-4.2-0.7L10,2.1C9.9,1.9,9.7,1.7,9.5,1.6C9,1.3,8.3,1.6,8,2.1L6.1,5.9L1.9,6.5 c-0.2,0-0.4,0.1-0.6,0.3C0.9,7.3,0.9,8,1.3,8.4l3,3l-0.7,4.2c0,0.1,0,0.1,0,0.2c0,0.6,0.5,1.1,1.1,1.1c0.2,0,0.3,0,0.5-0.1L9,14.8 l3.8,1.9c0.4,0.2,0.8,0.1,1.1-0.1c0.3-0.2,0.5-0.6,0.4-1.1l-0.7-4.2l3-3C16.8,8.2,16.9,8,17,7.8z M12.4,11l0.7,4.6L9,13.4l-4.1,2.1 L5.6,11L2.3,7.7L6.9,7L9,2.8L11.1,7l4.6,0.7L12.4,11z\"/></symbol>\\n\\t<symbol id=\"icon_020\" viewBox=\"0 0 18 18\"><path d=\"M14.8,3.3l-2.3-2C12.3,1.1,12.1,1,11.9,1H4.7C3.8,1,3,1.8,3,2.7v12.6C3,16.2,3.8,17,4.7,17h8.7 c0.9,0,1.7-0.8,1.7-1.7V4C15.2,3.7,15,3.5,14.8,3.3z M12.1,2.4l1.8,1.6h-1.8V2.4z M14,15.3c0,0.3-0.2,0.5-0.5,0.5H4.7 c-0.3,0-0.5-0.2-0.5-0.5V2.7c0-0.3,0.2-0.5,0.5-0.5h6.6v2.6H14V15.3z M5.7,6.7h6.7v0.8H5.7V6.7z M5.7,8.6h6.7v0.8H5.7V8.6z M5.7,10.8h4.4v0.4H5.7V10.8z M5.7,12.3h4.4v0.4H5.7V12.3z M5.7,13.9h4.4v0.4H5.7V13.9z\"/></symbol>\\n\\t<symbol id=\"icon_019\" viewBox=\"0 0 18 18\"><path d=\"M14.3,9.2c-0.4-0.3-0.8-0.4-1.3-0.4c-0.4,0-0.8,0.2-1.2,0.4c-0.4-0.2-0.8-0.3-1.2-0.3C10,8.9,9.4,9.3,9,9.8 c-0.1,0.2-0.2,0.4-0.3,0.6c-0.1,0.4,0.1,0.8,0.5,1c0.1,0,0.1,0,0.2,0c0.2,0,0.3,0.1,0.5,0.2c0.2,0.1,0.3,0.3,0.3,0.6 c0,0.3-0.1,0.7-0.3,0.9c-0.2,0.3-0.4,0.5-0.8,0.5c-0.2,0-0.3,0-0.5-0.1c-0.4-0.4-0.6-0.9-0.6-1.4c0-0.7,0.1-1.4,0.5-2 c0.1-0.1,0.2-0.3,0.3-0.4C9.1,9.4,9.1,9,8.8,8.6c0,0-0.1-0.1-0.1-0.1C8.3,8.1,8,7.5,7.9,6.8C7.8,6.2,8,5.5,8.3,4.9 c0.2-0.3,0.5-0.5,0.8-0.5c0.2,0,0.3,0,0.5,0.1C10,4.9,10,5.6,9.7,6C9.5,6.2,9.3,6.4,9,6.5C8.7,6.7,8.6,7.1,8.7,7.4 c0.3,0.9,1.1,1.4,2,1.4c0.4,0,0.8-0.2,1.2-0.4c0.4,0.2,0.8,0.3,1.2,0.3c0.7,0,1.3-0.4,1.7-0.9c0.1-0.2,0.2-0.4,0.3-0.5 c0.1-0.4-0.1-0.8-0.5-1c0,0,0,0-0.1,0c-0.1,0-0.1,0-0.2-0.1c-0.1-0.1-0.4-0.3-0.5-1.1c-0.2-1.3-0.9-2.5-2-3.3C11.1,1.2,10.1,1,9.1,1 C7.5,1,6,1.9,5.1,3.2C4.6,4,4.2,5,4.1,6C4,6.9,3.8,7.8,3.4,8.6c0,0-0.1,0.1-0.1,0.1C3.1,8.9,3,9.1,3,9.3c0,0.2,0.1,0.4,0.3,0.6 c0.2,0.3,0.4,0.6,0.5,0.9c0.2,0.5,0.3,1,0.3,1.6c0.1,1.5,0.8,2.9,2.1,3.8C6.9,16.7,7.9,17,8.9,17c0.1,0,0.1,0,0.2,0 c0.7,0,1.5-0.3,2.1-0.7l0.1,0c0.5,0.3,1.1,0.5,1.7,0.5c0.7,0,1.3-0.4,1.7-1c0.1-0.2,0.2-0.3,0.3-0.5c0.1-0.2,0.1-0.5-0.1-0.7 c-0.1-0.2-0.4-0.3-0.6-0.3h0c-0.1,0-0.2,0-0.2-0.1c-0.3-0.3-0.4-0.7-0.4-1.1c-0.1-0.5,0.1-1.1,0.3-1.5c0.2-0.2,0.4-0.4,0.7-0.5 c0.2,0,0.4-0.2,0.5-0.4c0.1-0.2,0.1-0.4,0.1-0.6C15,9.8,14.7,9.4,14.3,9.2z M12.5,13.4L12.5,13.4c0,0.8,0.5,1.6,1.2,2 c-0.2,0.3-0.5,0.4-0.9,0.5c-0.4,0-0.9-0.2-1.2-0.5c-0.2-0.3-0.6-0.3-0.9-0.1c0,0,0,0-0.1,0.1c-0.5,0.4-1,0.6-1.6,0.6 c-2,0.1-3.8-1.4-3.9-3.4c0-0.1,0-0.2,0-0.3c0-1.1-0.4-2.1-1-3c0.6-1,0.9-2.1,1-3.2c0.1-2.2,1.8-3.9,4-4c1.9-0.1,3.5,1.4,3.7,3.2 c0.1,0.8,0.5,1.5,1.1,1.9c-0.2,0.3-0.5,0.5-0.9,0.5c-0.3,0-0.5-0.1-0.7-0.2c-0.2-0.3-0.6-0.3-0.9,0c0,0,0,0-0.1,0.1 c-0.2,0.2-0.5,0.3-0.7,0.3c-0.4,0-0.7-0.2-0.9-0.5c0.9-0.5,1.3-1.6,1.1-2.6c-0.2-0.8-1-1.4-1.8-1.3c-1,0.1-1.8,0.8-2,1.8 C6.6,6.5,6.9,8,7.8,9.1c-0.9,1.1-1.2,2.7-0.7,4.1c0.3,0.8,1,1.4,1.9,1.4c1.2-0.2,2.1-1.2,2.1-2.4c0.1-0.8-0.5-1.6-1.3-1.8 c0.2-0.3,0.5-0.5,0.9-0.5c0.2,0,0.5,0.1,0.7,0.2c0.2,0.3,0.6,0.3,0.9,0.1c0,0,0.1-0.1,0.1-0.1c0.2-0.2,0.5-0.3,0.7-0.3 c0.3,0,0.7,0.1,0.8,0.4C12.9,10.9,12.3,12.1,12.5,13.4z\"/></symbol>\\n\\t<symbol id=\"icon_018\" viewBox=\"0 0 18 18\"><path d=\"M9,1C4.6,1,1,4.6,1,9s3.6,8,8,8s8-3.6,8-8C17,4.6,13.4,1,9,1z M9,2.2c3.6,0,6.6,2.8,6.8,6.4h-3.6 c-0.2-1.8-1.8-3-3.6-2.8C7.2,6,6,7.2,5.8,8.6H2.2C2.4,5,5.4,2.2,9,2.2z M11.4,9c0,1.3-1.1,2.4-2.4,2.4c-1.3,0-2.4-1.1-2.4-2.4 S7.7,6.6,9,6.6C10.3,6.6,11.4,7.7,11.4,9L11.4,9z M9,15.8c-3.6,0-6.6-2.8-6.8-6.4h3.6c0.2,1.8,1.8,3,3.6,2.8 c1.5-0.2,2.6-1.3,2.8-2.8h3.6C15.6,13,12.6,15.8,9,15.8z M9,7.1C7.9,7.1,7.1,7.9,7.1,9c0,1.1,0.9,1.9,1.9,1.9c1.1,0,1.9-0.9,1.9-1.9 C10.9,7.9,10.1,7.1,9,7.1z M9,10.1c-0.6,0-1.1-0.5-1.1-1.1S8.4,7.9,9,7.9c0.6,0,1.1,0.5,1.1,1.1C10.1,9.6,9.6,10.1,9,10.1z\"/></symbol>\\n\\t<symbol id=\"icon_017\" viewBox=\"0 0 18 18\">\\t<path d=\"M16.9,8c-0.2-0.6-0.8-1-1.5-1h0c-0.9,0-1.6,0.7-1.6,1.6c0,0.7,0.4,1.3,1,1.5l0.1,0V12c0,2.4-1.9,4.3-4.3,4.3 S6.3,14.4,6.3,12v-0.1c0.2,0,0.3,0,0.3,0c2.4-0.4,4.1-2.4,4.1-4.8V1.7C10.7,1.3,10.4,1,10,1H8C7.6,1,7.3,1.3,7.3,1.7S7.6,2.5,8,2.5 h1.3v4.6c0,1.9-1.5,3.4-3.4,3.4c-1.9,0-3.4-1.5-3.4-3.4V2.5h1.3c0.4,0,0.7-0.3,0.7-0.7S4.1,1,3.7,1h-2C1.3,1,1,1.3,1,1.7v5.3 c0,2.4,1.8,4.4,4.1,4.8c0,0,0.1,0,0.3,0V12c0,2.9,2.3,5.2,5.2,5.2c2.9,0,5.2-2.3,5.2-5.2c0,0,0,0,0,0v-1.9l0.1,0 C16.8,9.8,17.2,8.8,16.9,8z M15.4,9.2c-0.4,0-0.7-0.3-0.7-0.7c0-0.4,0.3-0.7,0.7-0.7c0.4,0,0.7,0.3,0.7,0.7 C16.1,8.9,15.8,9.2,15.4,9.2z\"/></symbol>\\n\\t<symbol id=\"icon_016\" viewBox=\"0 0 18 18\"><path d=\"M14.9,3.1C14.9,3.1,14.9,3.1,14.9,3.1L14.9,3.1c-1.5-1.5-3.9-1.5-5.4,0c0,0,0,0,0,0L3.1,9.5 c-1.5,1.5-1.5,3.9,0,5.4c1.5,1.5,3.9,1.5,5.4,0c0,0,0,0,0,0l6.3-6.3C16.4,7,16.4,4.6,14.9,3.1z M7.7,14C6.6,15,5,14.9,4,13.8 c-0.9-1-0.9-2.5,0-3.5l2.8-2.8l3.7,3.7L7.7,14z M14,7.7l-2.8,2.8L7.5,6.8L10.3,4C11.4,3,13,3.1,14,4.2C14.9,5.2,14.9,6.7,14,7.7z\"/></symbol>\\n\\t<symbol id=\"icon_015\" viewBox=\"0 0 18 18\"><path d=\"M9,1C4.6,1,1,4.6,1,9s3.6,8,8,8l0,0c4.4,0,8-3.6,8-8C17,4.6,13.4,1,9,1z M9,15.8c-3.8,0-6.8-3.1-6.8-6.8 c0-3.8,3.1-6.8,6.8-6.8l0,0c3.8,0,6.8,3.1,6.8,6.8C15.8,12.8,12.8,15.8,9,15.8z M12.4,3.9L12.4,3.9c-0.3,0.3-0.8,0.3-1.2,0 c-0.3,0.3-0.8,0.3-1.2,0c-0.5,0-0.9,0.4-0.9,0.9v1.8c0,0.8,0.4,1.5,1.1,1.8l-0.5,4.5c-0.1,0.8,0.5,1.6,1.3,1.7s1.6-0.5,1.7-1.3 c0-0.1,0-0.1,0-0.2c0-0.1,0-0.1,0-0.2l-0.4-4.5c0.6-0.4,1-1.1,1-1.8V4.8C13.4,4.3,12.9,3.9,12.4,3.9z M12.7,6.6 c0,0.7-0.4,1.2-1.1,1.4l0.5,5c0,0,0,0.1,0,0.1c0,0.5-0.4,0.9-0.9,0.9c-0.5,0-0.9-0.4-0.9-0.9c0,0,0-0.1,0-0.1L10.9,8 c-0.7-0.2-1.1-0.7-1.1-1.4V4.8c0-0.2,0.1-0.3,0.3-0.3s0.3,0.1,0.3,0.3v1.5c0,0.2,0.1,0.3,0.3,0.3s0.3-0.1,0.3-0.3c0,0,0,0,0,0V4.8 c0-0.2,0.1-0.3,0.3-0.3s0.3,0.1,0.3,0.3v1.5c0,0.2,0.1,0.3,0.3,0.3c0.2,0,0.3-0.1,0.3-0.3c0,0,0,0,0,0V4.8c0-0.2,0.1-0.3,0.3-0.3 l0,0c0.2,0,0.3,0.1,0.3,0.3V6.6z M6.7,3.9L6.7,3.9C5.5,4,4.6,5,4.6,6.3c0,0.8,0.4,1.6,1.1,2.1l-0.5,4.5c0,0.1,0,0.1,0,0.2 c0,0.8,0.6,1.5,1.5,1.5s1.5-0.6,1.5-1.5c0,0,0-0.1,0-0.1c0-0.1,0-0.1,0-0.1L7.8,8.3c0.7-0.5,1-1.2,1-2.1C8.9,5,8,4,6.7,3.9z M7.1,7.9l0.5,5c0,0,0,0.1,0,0.1c0,0.5-0.4,0.9-0.9,0.9c-0.5,0-0.9-0.4-0.9-0.9c0,0,0-0.1,0-0.1l0.6-5C5.7,7.7,5.2,7,5.3,6.3 C5.2,5.4,5.8,4.6,6.7,4.5h0c0.9,0.1,1.5,0.9,1.5,1.8C8.2,7,7.8,7.7,7.1,7.9z\"/></symbol>\\n\\t<symbol id=\"icon_014\" viewBox=\"0 0 18 18\"><path d=\"M5,5.6V2.2h0.8v2.4l0.6-0.6c0.2-0.2,0.4-0.2,0.6,0l0.7,0.7V2.2h0.8v3.5c0,0.2-0.2,0.4-0.4,0.4 c-0.1,0-0.2,0-0.3-0.1L6.6,4.9l-1,1C5.6,6,5.5,6,5.4,6C5.2,6,5,5.8,5,5.6z M15.2,3.4v11.3c0,1.3-1.1,2.3-2.3,2.3H3V1h9.9 C14.2,1,15.2,2.1,15.2,3.4z M10.6,2.2H4.2v13.6h6.4V2.2z M11.9,2.2l-0.8,0v13.6h0.8V2.2z M14,3.3c0-0.6-0.5-1.2-1.2-1.2h-0.6v13.6 h0.6c0.6,0,1.2-0.5,1.2-1.2V3.3z\"/></symbol>\\n\\t<symbol id=\"icon_013\" viewBox=\"0 0 18 18\"><path d=\"M14.4,6.9V1H5.7C4.5,1,3.5,2,3.5,3.2v0.5h1.2V3.2c0-0.6,0.5-1.1,1.1-1.1h3.5v3.4C9.2,5.8,9.4,6,9.6,6 c0.1,0,0.2,0,0.3-0.1L10.8,5l1,1c0.2,0.2,0.4,0.2,0.6,0c0.1-0.1,0.1-0.2,0.1-0.3V2.2h0.7v4.7H9.5C9.2,6.9,9,6.8,8.8,6.6L7.1,4.9 C6.9,4.7,6.7,4.6,6.4,4.6h-3C2.1,4.6,1,5.7,1,7v7.5C1,15.9,2.1,17,3.4,17h11c1.3,0,2.4-1.1,2.4-2.4V6.9L14.4,6.9z M11.1,4.1 c-0.2-0.2-0.4-0.2-0.6,0L10,4.6V2.4h0.1c0.4,0,0.9,0,1.5,0l0,2.3L11.1,4.1z M14.4,15.8h-11c-0.7,0-1.2-0.6-1.2-1.2V7 c0-0.7,0.6-1.2,1.2-1.2h1.2l1.7,0l1.6,1.6c0.4,0.4,1,0.6,1.6,0.6h6.2l0,6.5C15.6,15.3,15.1,15.8,14.4,15.8z\"/></symbol>\\n\\t<symbol id=\"icon_012\" viewBox=\"0 0 18 18\"><path d=\"M5.4,14.5h9.8V1H5.5C4.1,1,3,2.1,3,3.5v11C3,15.9,4.1,17,5.5,17h7.2c1.1,0,2-0.7,2.4-1.7h-1.4 c-0.2,0.3-0.6,0.5-1,0.5H5.5c-0.7,0-1.2-0.6-1.2-1.2v-11c0-0.7,0.6-1.2,1.2-1.2h4v3.9c0,0.2,0.2,0.4,0.4,0.4c0.1,0,0.2,0,0.3-0.1 l1-1l1.1,1.1c0.1,0.1,0.2,0.1,0.3,0.1c0.2,0,0.4-0.2,0.4-0.4v-4H14v11.4H5.4V14.5z M12.2,5.2l-0.7-0.7c-0.2-0.2-0.4-0.2-0.6,0 c0,0,0,0,0,0l-0.6,0.6V2.5c0.4,0,1.2,0,1.9,0L12.2,5.2z M12.2,8h-6V7.5h6V8z M6.2,8.9h6v0.5h-6V8.9z M6.2,10.4h6v0.5h-6V10.4z M6.2,11.9h6v0.5h-6V11.9z\"/></symbol>\\n\\t<symbol id=\"icon_011\" viewBox=\"0 0 30 30\"><path d=\"M15,17.4c4.6,0,8.3-3.7,8.3-8.3c0-4.6-3.7-8.3-8.3-8.3c-4.6,0-8.3,3.7-8.3,8.3c0,0,0,0,0,0 C6.7,13.7,10.4,17.4,15,17.4z M8.7,9.1c0-3.4,2.8-6.2,6.2-6.2v0c3.4,0,6.2,2.8,6.2,6.2c0,3.4-2.8,6.2-6.2,6.2 C11.5,15.3,8.7,12.5,8.7,9.1C8.7,9.1,8.7,9.1,8.7,9.1z M10.2,17.8l0.3,0.2l-0.3,0.2C5.9,20,3.1,24.2,3,28.8V29H1v-0.2 c0.1-5.1,3-9.7,7.5-12.1l0.1-0.1l0.1,0.1C9.2,17.2,9.7,17.5,10.2,17.8z M28.9,28.8l0,0.2h-2v-0.2c-0.1-4.7-2.9-8.8-7.2-10.7L19.4,18 l0.3-0.2c0.5-0.3,1.1-0.6,1.5-1l0.1-0.1l0.1,0.1C26,19.1,28.8,23.7,28.9,28.8z M15,19.3l-1.3-0.5l-1.3,6.7l2.5,2.8l2.5-2.8l0,0 l-1.3-6.7L15,19.3z M15,26.8l-1.4-1.6l0.9-5l0.2,0c0.2,0,0.3,0,0.5,0l0.2,0l0.9,5L15,26.8z\"/></symbol>\\n\\t<symbol id=\"icon_010\" viewBox=\"0 0 18 18\"><path d=\"M17.7,7.4l-0.9-0.9c-0.1-0.1-0.2-0.1-0.3-0.2V2H2v14.5h14.5v-6.3L17.7,9C18.1,8.6,18.1,7.8,17.7,7.4z M11.8,3.1 h3.5v3.3c0,0-0.1,0.1-0.1,0.1l-0.1,0.1h-3.3V3.1z M11.8,7.4h2.5l-2.5,2.5V7.4z M7.5,3.1h3.6v3.4H7.5V3.1z M6.7,15.3H3.1v-3.6h3.6 V15.3z M6.7,11H3.1V7.4h3.6V11z M6.7,6.6H3.1V3.2h3.6V6.6z M7.5,7.4h3.6v3.3L10.7,11H7.5L7.5,7.4z M7.5,15.3v-3.6h2.8l-0.6,1.8 c-0.1,0.4,0.1,0.8,0.5,0.9c0.1,0,0.3,0,0.4,0l0.5-0.2l0,1H7.5z M11.1,13.6l-0.7,0.2l0.6-1.9l0.1,0.1l0.8,0.8l0.4,0.4l-0.4,0.1 L11.1,13.6z M15.3,15.3h-3.5v-1.2l0.8-0.2c0.1,0,0.2-0.1,0.3-0.2l2-2h0.4L15.3,15.3z M17.2,8.5C17.2,8.5,17.2,8.5,17.2,8.5L17.2,8.5 l-0.7,0.7l-1.2,1.2L14.7,11l-0.8,0.8l-1.2,1.2l-0.8-0.8l-0.4-0.4l-0.2-0.2l0.5-0.5l0.1-0.1l3.5-3.5V7.4h0.1L15.7,7 C15.8,7,15.9,6.9,16,6.9c0,0,0,0,0,0c0.1,0,0.2,0,0.3,0.1l0.2,0.2l0.7,0.7C17.3,8.1,17.3,8.3,17.2,8.5z\"/></symbol>\\n\\t<symbol id=\"icon_009\" viewBox=\"0 0 18 18\"><path d=\"M0,11.8L5.8,3v11.1h-1v-1.8H2.8v-1h1.9V6.4l-3.9,6L0,11.8z M11.9,5l-0.7-0.7L7.5,8.4V4.4h-1v9.6h1v-3.8l4,4 l0.7-0.7L8,9.3L11.9,5z M18,11.4c0,2.1-2.1,2.6-3.3,2.6l-2.4,0V4.5h2c2,0,3.1,1,3.1,2.6c0,0.8-0.3,1.5-1,1.9 C17.5,9.4,18.1,10.4,18,11.4z M13.3,8.5h1.2v0c0.3,0,2-0.1,2-1.4c0-1.1-0.7-1.6-2.1-1.6l-1,0V8.5z M17,11.4c0-1.7-1.7-1.9-2.4-1.9 h-1.2l0,3.5h1.4C15.1,13,17,13,17,11.4z\"/></symbol>\\n\\t<symbol id=\"icon_008\" viewBox=\"0 0 30 30\"><path d=\"M15.6,6.9h-4.2v9.7h2v-3.5h2c0.9,0.1,1.7-0.2,2.4-0.7c0.6-0.6,0.9-1.5,0.8-2.4l0,0c0.1-0.9-0.2-1.7-0.9-2.3 C17.3,7.1,16.4,6.8,15.6,6.9z M16.4,11.1c-0.3,0.2-0.7,0.4-1.1,0.4h-1.8V8.5h1.8c0.4,0,0.8,0.1,1.1,0.3c0.3,0.3,0.4,0.7,0.4,1.1l0,0 C16.8,10.4,16.6,10.8,16.4,11.1z M11.5,22.6c0.3,0.1,0.5,0.1,0.8,0.2l-5.7,5.7c-0.1,0.1-0.3,0.2-0.5,0.2c-0.1,0-0.1,0-0.2,0 c-0.2-0.1-0.4-0.3-0.5-0.6l-0.6-4.3l-4.3-0.6C0.2,23.2,0,22.9,0,22.5c0-0.1,0.1-0.3,0.2-0.4l4.6-4.6c0.1,0.2,0.2,0.4,0.4,0.6 s0.3,0.4,0.4,0.6l-3.4,3.4l3.4,0.5c0.3,0,0.5,0.3,0.6,0.6l0.5,3.4l4.1-4.1C11,22.5,11.2,22.6,11.5,22.6z M6.3,22.5L6.3,22.5 c-0.1-0.1-0.1-0.4,0-0.5l1.3-1.3C7.8,20.8,8,21,8.1,21.1l-1.3,1.3c0,0,0,0,0,0C6.7,22.6,6.5,22.6,6.3,22.5z M29.5,22.5 c0,0.4-0.2,0.7-0.6,0.8l-4.3,0.6l-0.6,4.3c0,0.3-0.2,0.5-0.5,0.6c-0.1,0-0.1,0-0.2,0c-0.2,0-0.4-0.1-0.5-0.2l-5.7-5.7 c0.3,0,0.5-0.1,0.8-0.2c0.3-0.1,0.5-0.1,0.8-0.2l4.1,4.1l0.5-3.4c0-0.3,0.3-0.5,0.6-0.6l3.4-0.5l-3.4-3.4c0.1-0.2,0.3-0.4,0.4-0.6 c0.1-0.2,0.3-0.4,0.4-0.6l4.6,4.6l0,0C29.4,22.2,29.5,22.3,29.5,22.5z M22.1,20.6l1.4,1.4c0.1,0.1,0.1,0.2,0.1,0.2 c0,0.2-0.2,0.3-0.3,0.3l0,0c-0.1,0-0.2,0-0.2-0.1L21.5,21C21.7,20.9,21.9,20.7,22.1,20.6z M25,11.7L25,11.7 c0-5.6-4.6-10.2-10.2-10.2C9.1,1.5,4.6,6.1,4.6,11.7c0,5.6,4.6,10.2,10.2,10.2C20.4,21.9,25,17.4,25,11.7z M14.8,19.9 C14.8,19.9,14.8,19.9,14.8,19.9c-4.5,0-8.2-3.7-8.2-8.2s3.7-8.2,8.2-8.2s8.2,3.7,8.2,8.2l0,0C22.9,16.2,19.3,19.9,14.8,19.9z\"/></symbol>\\n\\t<symbol id=\"icon_007\" viewBox=\"0 0 30 30\"><path d=\"M27.3,4c-1.4-0.3-2.8-0.5-4.2-0.5c-3-0.1-6,1-8.2,3.1c-2.2-2.1-5.1-3.2-8.2-3.1C5.3,3.5,3.9,3.7,2.6,4L1.2,4.4 v17.5l0,0.4v3.9c0,0.4,0.3,0.7,0.7,0.7c0.1,0,0.2,0,0.3-0.1c4-1.9,8.6-1.7,12.4,0.7c0.2,0.1,0.5,0.1,0.7,0c0.1,0,6.1-4.2,12.3-0.7 c0.3,0.2,0.7,0.1,0.9-0.3c0.1-0.1,0.1-0.2,0.1-0.3v-3.6l0-0.3V4.4L27.3,4z M3.2,6c1.2-0.3,2.3-0.4,3.5-0.4c2.5-0.1,4.9,0.8,6.7,2.5 l0.7,0.8v12.6h1.3V8.8L16.4,8c1.8-1.7,4.2-2.6,6.7-2.5c1.2,0,2.4,0.2,3.5,0.4v15.3c-1.1-0.3-2.3-0.5-3.5-0.5c-2.6,0-5.1,0.7-7.3,1.9 l-0.8,0.5l-0.8-0.5c-2.2-1.3-4.8-1.9-7.3-1.9c-1.2,0-2.4,0.1-3.5,0.5L3.2,6z M27.3,25c-5.7-2.6-10.9,0.2-12.3,1l0,0 c-3.7-2.2-8.3-2.6-12.4-1v-1.3c0,0,0.9-0.3,1.1-0.4c1-0.4,2-0.5,3.1-0.5c2.2,0,4.4,0.6,6.4,1.7l1.8,1l1.8-1c1.9-1.1,4.1-1.7,6.4-1.7 c1,0,2.1,0.1,3.1,0.4c0.3,0.1,1.1,0.4,1.1,0.4V25z\"/></symbol>\\n\\t<symbol id=\"icon_006\" viewBox=\"0 0 18 18\"><path d=\"M8.1,1L5.9,4.6l0.8,0.8L2.3,7.6C2.1,7.6,2,7.8,2.1,8c0.3,2.9,0,5.8-1,8.5c0,0.1,0,0.3,0,0.4 c0.1,0.1,0.3,0.2,0.4,0.1c2-0.8,4.1-1.1,6.3-1.1c0.8,0,1.5,0,2.3,0.1c0,0,0,0,0,0c0.2,0,0.3-0.1,0.4-0.2l2.2-4.4l0.8,0.8L17,9.9l0,0 L8.1,1z M13.6,11.1L6.9,4.5l1.3-2.1l7.4,7.4L13.6,11.1z M9.5,14.7L9.5,14.7c-0.6,0-1.2-0.1-1.8-0.1c-1.4,0-2.9,0.2-4.3,0.5l-0.3,0.1 l2.2-2.2c0.6,0.4,1.4,0.3,1.8-0.3c0.4-0.6,0.3-1.4-0.3-1.8c-0.6-0.4-1.4-0.3-1.8,0.3c-0.3,0.4-0.3,0.9-0.1,1.4l-2.3,2.3 c0.5-2,0.7-4.2,0.5-6.3v0l4.2-2.2l4.1,4.1L9.5,14.7z M5.4,11.9c0-0.4,0.4-0.8,0.8-0.8c0.4,0,0.8,0.4,0.8,0.8c0,0.4-0.4,0.8-0.8,0.8 C5.8,12.7,5.4,12.4,5.4,11.9z\"/></symbol>\\n\\t<symbol id=\"icon_005\" viewBox=\"0 0 18 18\"><path d=\"M15.1,8.9V5.7c0-0.3-0.2-0.6-0.5-0.7V2.2c0-0.4-0.1-1.2-0.8-1.2c-1.2,0-2.2,0.9-2.3,2.1V5 C11.2,5.1,11,5.4,11,5.7v3.2c-0.7,0.3-1.2,0.9-1.2,1.7v4.7c0,1,0.7,1.8,1.7,1.8h3c1,0,1.7-0.8,1.7-1.8v-4.6 C16.2,9.8,15.8,9.1,15.1,8.9z M12.3,3.1c0.1-0.8,0.7-1.3,1.5-1.3l0,0c0,0.1,0.1,0.3,0.1,0.4v2.7h-1.5V3.1z M11.7,5.7h2.6v3.1h-2.6 V5.7z M15.1,15.2c0,0.3-0.2,0.6-0.6,0.6h-2.4v-4.7h-0.4v4.7h-0.2c-0.3,0-0.6-0.3-0.6-0.6v-4.6c0-0.3,0.2-0.6,0.6-0.6h3 c0.3,0,0.6,0.3,0.6,0.6L15.1,15.2z M6.7,9.2h-3C2.8,9.2,2,10,2,10.9V17h6.4v-6.1C8.4,10,7.6,9.2,6.7,9.2z M7.3,15.9h-3v-4.4H3.9v4.4 H3.1v-5c0-0.3,0.3-0.6,0.6-0.6h3c0.3,0,0.6,0.3,0.6,0.6V15.9z\"/></symbol>\\n\\t<symbol id=\"icon_004\" viewBox=\"0 0 18 18\"><path d=\"M5.3,6c0,0.3-0.2,0.5-0.5,0.5C4.5,6.5,4.3,6.2,4.3,6c0-0.3,0.2-0.5,0.5-0.5C5,5.4,5.3,5.7,5.3,6z M13.2,5.4 c-0.3,0-0.5,0.2-0.5,0.5c0,0.3,0.2,0.5,0.5,0.5c0.3,0,0.5-0.2,0.5-0.5C13.7,5.7,13.5,5.4,13.2,5.4z M7.4,7.1h3.3L9,8.9L7.4,7.1z M9.7,7.5H8.3L9,8.3L9.7,7.5z M17.4,13.2v0.4c-1.3,0.1-2.4-0.8-2.6-2.1c0-0.1-0.1-0.2-0.1-0.3c-0.3,0.1-0.6,0.1-0.9,0.1h-1.2 c0.2,0.2,0.3,0.5,0.5,0.7c0.1,0.3,0.2,0.5,0.2,0.8c0.1,0.6,0.3,1.2,0.7,1.7l-0.3,0.2c-0.3-0.6-0.6-1.2-0.7-1.8 c-0.1-0.2-0.1-0.5-0.2-0.7c-0.2-0.3-0.4-0.6-0.6-0.9H9.9c0.1,0.1,0.1,0.2,0.1,0.2c0.1,0.4,0.2,0.9,0.2,1.4c0,0.5,0.1,1,0.3,1.4 l-0.3,0.2c-0.2-0.5-0.4-1.1-0.3-1.6c0-0.4,0-0.8-0.2-1.2c-0.1-0.1-0.2-0.3-0.3-0.4H7.3C7.1,11.6,7,11.9,7,12.1 c-0.1,0.3-0.1,0.6-0.2,0.9c-0.1,0.7-0.3,1.4-0.6,2l-0.3-0.2c0.3-0.6,0.5-1.2,0.6-1.8c0-0.3,0.1-0.6,0.2-0.9c0-0.2,0.1-0.5,0.2-0.7 H4.3c-0.3,0.5-0.5,1-0.6,1.6c-0.1,0.6-0.4,1.1-0.9,1.4c-0.2,0.1-0.5,0.2-0.7,0.2c-0.2,0-0.4,0-0.6-0.1L1.5,14c0.3,0.1,0.7,0.1,1.1,0 c0.4-0.3,0.7-0.7,0.7-1.1c0.1-0.5,0.3-1,0.5-1.5C1.7,11.1,0,9.3,0,7.2C0,4.9,1.9,3,4.2,3h9.7c1.8,0,3.4,1.2,4,2.9 c0.7,2.2-0.5,4.5-2.7,5.3c0,0.1,0.1,0.2,0.1,0.3C15.3,12.5,16.3,13.3,17.4,13.2z M16.8,7.2c0-1.6-1.3-3-3-3H4.2c0,0-0.1,0-0.1,0 c-1.6,0-3,1.4-2.9,3c0,1.6,1.4,3,3,2.9h9.6l0-0.1c0.1,0,0.2,0,0.2,0.1l0,0C15.6,10,16.8,8.7,16.8,7.2z\"/></symbol>\\n\\t<symbol id=\"icon_003\" viewBox=\"0 0 18 18\"><path d=\"M14.7,1.6l1.4,1.4l-0.2,0.2l-1.4-1.4L14.7,1.6z M17.3,3.6l-2.9,2.9v7.2c0,0,0,0,0,0c0,1.3-1,2.3-2.3,2.3H5.3 c-1,0-1.9-0.6-2.2-1.6h1.3c0.2,0.3,0.5,0.4,0.9,0.4H12c0.6,0,1.2-0.5,1.2-1.2v-6l-1.9,1.9c-0.1,0.1-0.2,0.2-0.4,0.2l-2.7,0.8 c-0.2,0.1-0.4,0-0.5,0c-0.5-0.2-0.8-0.7-0.6-1.2l0.8-2.6C8,6.6,8,6.5,8.1,6.4l4-4c-0.1,0-0.1,0-0.2,0H4.2v10.5h7.9v0.8H3V1.2h9 c0.4,0,0.7,0.1,1.1,0.3l1-1c0,0,0,0,0,0c0.6-0.6,1.5-0.6,2,0l1.1,1.1C17.8,2.1,17.8,3,17.3,3.6z M10.4,8.9L8.7,7.3L8,9.7L10.4,8.9z M16.6,2.2l-1.1-1.1c-0.2-0.2-0.5-0.2-0.7,0l-1,1L13,2.9L9.1,6.7l1.8,1.8l2.2-2.2l1.2-1.2l2.3-2.3v0C16.8,2.7,16.8,2.4,16.6,2.2z\"/></symbol>\\n\\t<symbol id=\"icon_002\" viewBox=\"0 0 18 18\"><path d=\"M4.6,8.4H2.9v1.7h0v0h1.7L4.6,8.4L4.6,8.4z M4.3,9.8h-1v-1h1V9.8z M4.6,10.7H2.9v1.7h0v0h1.7L4.6,10.7L4.6,10.7 z M4.3,12h-1v-1h1V12z M15.9,3h-1c-0.4,0.3-0.9,0.3-1.3,0H4.4C4,3.3,3.5,3.3,3.1,3h-1C1.5,3,1,3.5,1,4.1v10.3c0,0.6,0.5,1.1,1.1,1.1 h1c0.4-0.3,0.9-0.3,1.3,0h9.1c0.4-0.3,0.9-0.3,1.3,0h1c0.6,0,1.1-0.5,1.1-1.1V4.1C17,3.5,16.5,3,15.9,3z M15.9,14.4h-1v-1.2h-1.3 v1.2H4.4v-1.2H3.1v1.2h-1V4.1h1v1.2h1.3V4.1h9.1v1.2h1.3V4.1h1V14.4z M13.4,6.1L13.4,6.1l0,1.7h1.7v0h0V6.1L13.4,6.1L13.4,6.1z M13.7,6.5h1v1h-1V6.5z M4.6,6.1H2.9v1.7h0v0h1.7L4.6,6.1L4.6,6.1z M4.3,7.5h-1v-1h1V7.5z M7.2,11.6l4-2.3L7.2,7V11.6z M7.9,8.3 l1.7,1l-1.7,1V8.3z M13.4,10.7L13.4,10.7l0,1.7h1.7v0h0v-1.7L13.4,10.7L13.4,10.7z M13.7,11.1h1v1h-1V11.1z M13.4,8.4L13.4,8.4 l0,1.7h1.7v0h0V8.4L13.4,8.4L13.4,8.4z M13.7,8.8h1v1h-1V8.8z\"/></symbol>\\n\\t<symbol id=\"icon_001\" viewBox=\"0 0 30 30\"><path d=\"M20.4,17h0.7V21h-0.7V17z M21.1,9.8h-12V5.6h12V9.8z M19.7,8.4l0-1.5h-9.2v1.5H19.7z M21.1,11.5h-0.7v3.9h0.7 V11.5z M9.2,1.7C6.9,1.7,5,3.5,5,5.8v18.3c0,2.3,1.9,4.2,4.2,4.2h12c1.8,0,3.4-1.1,3.9-2.8h-2.3c-0.4,0.5-1,0.8-1.6,0.8h-12 c-1.1,0-2.1-0.9-2.1-2.1V5.8c0-1.1,0.9-2.1,2.1-2.1h14.1v19H9v1.4h16.3V1.7H9.2z M18.9,11.5h-0.7v3.9h0.7V11.5z M25.4,24.1 L25.4,24.1L25.4,24.1L25.4,24.1z M9.1,15.4h0.7v-3.9H9.1V15.4z M12.1,15.4v-3.9h-0.7v3.9H12.1z M9.1,17h3.9V21H9.1V17z M9.8,20.3 h2.6l0-2.6H9.8V20.3z M14.3,15.4v-3.9h-0.7v3.9H14.3z M16.6,11.5h-0.7v3.9h0.7V11.5z M18.2,21h0.7V17h-0.7V21z M15.9,21h0.7V17h-0.7 V21z\"/></symbol>\\n\\t<symbol id=\"icon_humberger\" viewBox=\"0 0 20 14\"><rect width=\"20\" height=\"2\"/><rect y=\"6\" width=\"20\" height=\"2\"/><rect y=\"12\" width=\"20\" height=\"2\"/></symbol>\\n\\t<symbol id=\"icon_points\" viewBox=\"0 0 30 30\"><path d=\"M15.6,6.9h-4.2v9.7h2v-3.5h2c0.9,0.1,1.7-0.2,2.4-0.7c0.6-0.6,0.9-1.5,0.8-2.4l0,0c0.1-0.9-0.2-1.7-0.9-2.3 C17.3,7.1,16.4,6.8,15.6,6.9z M16.4,11.1c-0.3,0.2-0.7,0.4-1.1,0.4h-1.8V8.5h1.8c0.4,0,0.8,0.1,1.1,0.3c0.3,0.3,0.4,0.7,0.4,1.1l0,0 C16.8,10.4,16.6,10.8,16.4,11.1z M11.5,22.6c0.3,0.1,0.5,0.1,0.8,0.2l-5.7,5.7c-0.1,0.1-0.3,0.2-0.5,0.2c-0.1,0-0.1,0-0.2,0 c-0.2-0.1-0.4-0.3-0.5-0.6l-0.6-4.3l-4.3-0.6C0.2,23.2,0,22.9,0,22.5c0-0.1,0.1-0.3,0.2-0.4l4.6-4.6c0.1,0.2,0.2,0.4,0.4,0.6 s0.3,0.4,0.4,0.6l-3.4,3.4l3.4,0.5c0.3,0,0.5,0.3,0.6,0.6l0.5,3.4l4.1-4.1C11,22.5,11.2,22.6,11.5,22.6z M6.3,22.5L6.3,22.5 c-0.1-0.1-0.1-0.4,0-0.5l1.3-1.3C7.8,20.8,8,21,8.1,21.1l-1.3,1.3c0,0,0,0,0,0C6.7,22.6,6.5,22.6,6.3,22.5z M29.5,22.5 c0,0.4-0.2,0.7-0.6,0.8l-4.3,0.6l-0.6,4.3c0,0.3-0.2,0.5-0.5,0.6c-0.1,0-0.1,0-0.2,0c-0.2,0-0.4-0.1-0.5-0.2l-5.7-5.7 c0.3,0,0.5-0.1,0.8-0.2c0.3-0.1,0.5-0.1,0.8-0.2l4.1,4.1l0.5-3.4c0-0.3,0.3-0.5,0.6-0.6l3.4-0.5l-3.4-3.4c0.1-0.2,0.3-0.4,0.4-0.6 c0.1-0.2,0.3-0.4,0.4-0.6l4.6,4.6l0,0C29.4,22.2,29.5,22.3,29.5,22.5z M22.1,20.6l1.4,1.4c0.1,0.1,0.1,0.2,0.1,0.2 c0,0.2-0.2,0.3-0.3,0.3l0,0c-0.1,0-0.2,0-0.2-0.1L21.5,21C21.7,20.9,21.9,20.7,22.1,20.6z M25,11.7L25,11.7 c0-5.6-4.6-10.2-10.2-10.2C9.1,1.5,4.6,6.1,4.6,11.7c0,5.6,4.6,10.2,10.2,10.2C20.4,21.9,25,17.4,25,11.7z M14.8,19.9 C14.8,19.9,14.8,19.9,14.8,19.9c-4.5,0-8.2-3.7-8.2-8.2s3.7-8.2,8.2-8.2s8.2,3.7,8.2,8.2l0,0C22.9,16.2,19.3,19.9,14.8,19.9z\"/></symbol>\\n\\t<symbol id=\"icon_plus2\" viewBox=\"0 0 24 24\"><path class=\"st0\" d=\"M24,10.9v2.2H13.1V24h-2.2V13.1H0v-2.2h10.9V0h2.2v10.9H24z\"/></symbol>\\n\\t<symbol id=\"icon_plus\" viewBox=\"0 0 9 9\"><polygon points=\"5.2,3.8 5.2,0 3.8,0 3.8,3.8 0,3.8 0,5.2 3.8,5.2 3.8,9 5.2,9 5.2,5.2 9,5.2 9,3.8 \"/></symbol>\\n\\t<symbol id=\"icon_minus\" viewBox=\"0 0 12 12\"><rect y=\"5.2\" width=\"12\" height=\"1.7\"/></symbol>\\n\\t<symbol id=\"icon_cross\" viewBox=\"0 0 30 30\"><polygon points=\"30,2.7 27.3,0 15,12.3 2.7,0 0,2.7 12.3,15 0,27.3 2.7,30 15,17.7 27.3,30 30,27.3 17.7,15 \"/></symbol>\\n\\t<symbol id=\"icon_blank\" viewBox=\"0 0 10 10\"><path class=\"st0\" d=\"M9.4,0.6C9,0.2,8.4,0,7.9,0H2.1C0.9,0,0,0.9,0,2.1v5.8C0,9.1,0.9,10,2.1,10h5.8C9.1,10,10,9.1,10,7.9V2.1 C10,1.6,9.8,1,9.4,0.6z M9.2,7.9c0,0.7-0.6,1.3-1.3,1.3l0,0H2.1c-0.7,0-1.3-0.6-1.3-1.3V2.1c0-0.7,0.6-1.3,1.3-1.3h5.8 c0.4,0,0.7,0.1,1,0.4c0.3,0.2,0.4,0.6,0.4,1V7.9z M4.1,2.6h3.4V6H6.7V3.9L3,7.7L2.4,7.1l3.8-3.8H4.1V2.6z\"/></symbol>\\n\\t<symbol id=\"icon_movie\" viewBox=\"0 0 12 12\"><path d=\"M11.2,1.5v1.1H10V1.5H2v1.1H0.8V1.5H0v9h0.8V9.4H2v1.1h8V9.4h1.2v1.1H12v-9H11.2z M2,8.6H0.8 V7.4H2V8.6z M2,6.6H0.8V5.4H2V6.6z M2,4.6H0.8V3.4H2V4.6z M4.7,7.5V4.5L7.3,6L4.7,7.5z M11.2,8.6H10V7.4h1.2V8.6z M11.2,6.6H10V5.4 h1.2V6.6z M11.2,4.6H10V3.4h1.2V4.6z\"/></symbol>\\n\\t<symbol id=\"icon_camera\" viewBox=\"0 0 12 12\"><path d=\"M7.1,5.2c-0.6-0.6-1.6-0.6-2.2,0c-0.6,0.6-0.6,1.6,0,2.2C5.5,8,6.5,8,7.1,7.4S7.7,5.8,7.1,5.2 C7.1,5.2,7.1,5.2,7.1,5.2z\"/><path d=\"M9.7,2.9H8.9L8.3,1.6H3.7L3.1,2.9H2.2C1.6,2.9,1,3.4,1,4.1v5c0,0.7,0.6,1.2,1.2,1.2h7.5 c0.7,0,1.2-0.6,1.2-1.2v-5C11,3.4,10.4,2.9,9.7,2.9z M6,8.8c-1.4,0-2.5-1.1-2.5-2.5c0-1.4,1.1-2.5,2.5-2.5c1.4,0,2.5,1.1,2.5,2.5 C8.5,7.7,7.4,8.8,6,8.8z\"/></symbol>\\n\\t<symbol id=\"icon_unlocked\" viewBox=\"0 0 14 14\"><path d=\"M11.6,5.3C11.6,5.3,11.6,5.3,11.6,5.3l-1,0h-0.3c0.7-1.9-0.3-3.9-2.2-4.6C7,0.2,5.7,0.5,4.7,1.3L4.2,1.7 l0.5,0.6l0.5-0.4c1.2-1,2.9-0.8,3.9,0.4c0.7,0.8,0.8,2,0.4,3H7H6.1l-1.9,0H3.4l-1,0C2.2,5.2,2,5.4,2,5.6c0,0,0,0,0,0l0,6.9 C2,12.8,2.2,13,2.4,13l9.2,0c0.2,0,0.4-0.2,0.4-0.4l0-6.9C12,5.5,11.8,5.3,11.6,5.3z M8,8.9C7.9,9,7.8,9.1,7.6,9.2v1.9H6.4V9.2 C5.9,8.9,5.7,8.2,6,7.7c0.3-0.5,1-0.7,1.6-0.4C8.1,7.6,8.3,8.3,8,8.9z\"/></symbol>\\n\\t<symbol id=\"icon_locked\" viewBox=\"0 0 14 14\"><path d=\"M11.6,5.3h-1V4.6C10.6,2.6,9,1,7,1S3.4,2.6,3.4,4.6c0,0,0,0,0,0v0.7h-1C2.2,5.3,2,5.4,2,5.7v6.9 C2,12.8,2.2,13,2.4,13h9.2c0.2,0,0.4-0.2,0.4-0.4V5.7C12,5.4,11.8,5.3,11.6,5.3z M8,8.9C7.9,9,7.8,9.2,7.6,9.3v1.9H6.4V9.3 C5.9,8.9,5.7,8.2,6,7.7c0.3-0.5,1-0.7,1.6-0.4C8.1,7.6,8.3,8.3,8,8.9z M9.8,5.3H4.2V4.6c0-1.5,1.3-2.8,2.8-2.7 c1.5,0,2.7,1.2,2.7,2.7V5.3z\"/></symbol>\\n\\t<symbol id=\"icon_mypage\" viewBox=\"0 0 16 16\"><path d=\"M4.5,8.9c0.4,0.3,0.8,0.6,1.2,0.8c-2.5,0.9-4.2,3.4-4.2,6.1H0.3c0-2,0.8-4,2.2-5.4C3.1,9.8,3.8,9.3,4.5,8.9z M8,9.5c-2.6,0-4.7-2.1-4.7-4.7c0-2.6,2.1-4.7,4.7-4.7c2.6,0,4.7,2.1,4.7,4.7C12.7,7.5,10.6,9.5,8,9.5z M11.2,4.9 c0-1.8-1.4-3.2-3.2-3.2c-1.8,0-3.2,1.4-3.2,3.2c0,1.8,1.4,3.2,3.2,3.2C9.8,8.1,11.2,6.7,11.2,4.9z M13.4,10.3 c-0.6-0.6-1.2-1-1.9-1.4c-0.4,0.3-0.8,0.6-1.2,0.8c2.5,0.9,4.2,3.4,4.2,6.1h1.2C15.7,13.7,14.9,11.8,13.4,10.3z\"/></symbol>\\n\\t<symbol id=\"icon_information\" viewBox=\"0 0 18 18\"><path d=\"M9,0C4,0,0,4,0,9s4,9,9,9c5,0,9-4,9-9S14,0,9,0z M10,14.2H8v-7h2V14.2z M10,5.6H8V3.8h2V5.6z\"/></symbol>\\n\\t<symbol id=\"icon_question\" viewBox=\"0 0 15 15\"><path d=\"M7,10h1.3v1.3H7L7,10z M15,7.5c0,4.1-3.4,7.5-7.5,7.5S0,11.6,0,7.5C0,3.4,3.4,0,7.5,0C11.6,0,15,3.4,15,7.5z M13.5,7.5c0-3.3-2.7-6-6-6c-3.3,0-6,2.7-6,6c0,3.3,2.7,6,6,6C10.8,13.5,13.5,10.8,13.5,7.5z M7.6,3.9C6.8,3.9,6,4.2,5.4,4.8 l0.4,1.1C6.2,5.3,6.9,5,7.5,5c0.8,0,1.2,0.4,1.2,1c0,0.5-0.2,0.6-0.9,1.2C7.2,7.7,6.9,8.5,7,9.3h1.2C8.1,8.7,8.4,8.2,8.9,7.9 C9.5,7.3,10,6.9,10,6c0,0,0-0.1,0-0.1C9.8,4.7,8.8,3.8,7.6,3.9z\"/></symbol>\\n\\t<symbol id=\"icon_gear\" viewBox=\"0 0 15 15\"><path d=\"M13.5,5.5h-0.2C13.2,5.3,13.1,5,13,4.8l0.2-0.2c0.6-0.6,0.6-1.5,0-2.1l-0.7-0.7c-0.6-0.6-1.5-0.6-2.1,0 c0,0,0,0,0,0L10.2,2C10,1.9,9.7,1.8,9.5,1.7V1.5C9.5,0.7,8.8,0,8,0H7C6.2,0,5.6,0.7,5.5,1.5v0.2C5.3,1.8,5,1.9,4.8,2L4.6,1.9 c-0.6-0.6-1.5-0.6-2.1,0c0,0,0,0,0,0L1.9,2.5c-0.6,0.6-0.6,1.5,0,2.1c0,0,0,0,0,0L2,4.8C1.9,5,1.8,5.3,1.7,5.5H1.5 C0.7,5.6,0,6.2,0,7V8c0,0.8,0.7,1.5,1.5,1.5h0.2C1.8,9.7,1.9,10,2,10.2l-0.2,0.2c-0.6,0.6-0.6,1.5,0,2.1c0,0,0,0,0,0l0.7,0.7 c0.3,0.3,0.7,0.4,1.1,0.4c0.4,0,0.8-0.2,1.1-0.4L4.8,13c0.2,0.1,0.5,0.2,0.8,0.3v0.2C5.5,14.3,6.2,15,7,15H8c0.8,0,1.5-0.7,1.5-1.5 v-0.2c0.3-0.1,0.5-0.2,0.8-0.3l0.2,0.2c0.6,0.6,1.5,0.6,2.1,0c0,0,0,0,0,0l0.7-0.7c0.6-0.6,0.6-1.5,0-2.1L13,10.2 c0.1-0.2,0.2-0.5,0.3-0.8h0.2C14.3,9.5,15,8.8,15,8V7C15,6.2,14.3,5.5,13.5,5.5z M13.9,8c0,0.2-0.2,0.4-0.4,0.4h-0.6 c-0.3,0-0.5,0.2-0.5,0.4C12.2,9.2,12,9.6,11.8,10h0c-0.1,0.2-0.1,0.5,0.1,0.7l0.5,0.5c0.1,0.1,0.1,0.4,0,0.5l-0.7,0.7 c-0.1,0.1-0.4,0.1-0.5,0l-0.5-0.5c-0.2-0.2-0.5-0.2-0.7-0.1c-0.4,0.2-0.8,0.4-1.3,0.5c-0.3,0.1-0.4,0.3-0.4,0.5v0.6 c0,0.2-0.2,0.4-0.4,0.4H7c-0.2,0-0.4-0.2-0.4-0.4v-0.6c0-0.3-0.2-0.5-0.4-0.5C5.8,12.2,5.4,12,5,11.8c-0.1-0.1-0.2-0.1-0.3-0.1 c-0.1,0-0.3,0.1-0.4,0.2l-0.5,0.5c-0.1,0.1-0.4,0.1-0.5,0c0,0,0,0,0,0l-0.7-0.7c-0.1-0.1-0.1-0.4,0-0.5l0.5-0.5 c0.2-0.2,0.2-0.5,0.1-0.7C3,9.6,2.8,9.2,2.7,8.8C2.6,8.5,2.4,8.3,2.1,8.3H1.5C1.3,8.3,1.1,8.2,1.1,8V7c0-0.2,0.2-0.4,0.4-0.4h0.6 c0.3,0,0.5-0.2,0.5-0.4C2.8,5.8,3,5.4,3.2,5c0.1-0.2,0.1-0.5-0.1-0.7L2.7,3.8c-0.1-0.1-0.1-0.4,0-0.5c0,0,0,0,0,0l0.7-0.7 c0.1-0.1,0.4-0.1,0.5,0l0.5,0.5C4.5,3.3,4.8,3.3,5,3.2C5.4,3,5.8,2.8,6.3,2.7c0.3-0.1,0.4-0.3,0.4-0.5V1.5c0-0.2,0.2-0.4,0.4-0.4H8 c0.2,0,0.4,0.2,0.4,0.4v0.6c0,0.3,0.2,0.5,0.4,0.5C9.2,2.8,9.6,3,10,3.2c0.2,0.1,0.5,0.1,0.7-0.1l0.5-0.5c0.1-0.1,0.4-0.1,0.5,0 c0,0,0,0,0,0l0.7,0.7c0.1,0.1,0.1,0.4,0,0.5l-0.5,0.5c-0.2,0.2-0.2,0.5-0.1,0.7c0.2,0.4,0.4,0.8,0.5,1.3c0.1,0.3,0.3,0.4,0.5,0.4 h0.6c0.2,0,0.4,0.2,0.4,0.4V8z M7.5,4.8C6,4.8,4.8,6,4.8,7.5c0,1.5,1.2,2.7,2.7,2.7s2.7-1.2,2.7-2.7C10.2,6,9,4.8,7.5,4.8z M7.5,9.3 c-1,0-1.8-0.8-1.8-1.8c0-1,0.8-1.8,1.8-1.8c1,0,1.8,0.8,1.8,1.8C9.3,8.5,8.5,9.3,7.5,9.3z\"/></symbol>\\n\\t<symbol id=\"icon_home\" viewBox=\"0 0 15 15\"><path d=\"M14.4,6.1L8.2,0.7c-0.4-0.3-1-0.3-1.3,0L0.6,6.1c-0.4,0.4-0.5,1-0.1,1.5c0.2,0.2,0.5,0.4,0.8,0.4h0.2v5.6 c0,0.6,0.5,1,1,1h10c0.6,0,1-0.5,1-1V7.9h0.2c0.6,0,1-0.5,1-1C14.8,6.6,14.7,6.3,14.4,6.1z M9,13.4H6V9.8H9V13.4z M12.5,6.9v6.6H9.7 V9.2H5.3v4.4H2.5V6.9H1.2l6.3-5.4l6.3,5.4H12.5z\"/></symbol>\\n\\t<symbol id=\"icon_notice\" viewBox=\"0 0 22 22\"><path d=\"M8.4,19.4c0,1.5,1.2,2.6,2.6,2.6c1.5,0,2.6-1.2,2.6-2.6v-0.6H8.4V19.4z M12.3,20c-0.3,0.7-1.2,1.1-1.9,0.7 c-0.3-0.1-0.6-0.4-0.7-0.7H12.3z M19,13.3l-0.4-3.1c0-3.1-1.9-5.8-4.7-7V3c0-1.6-1.3-3-3-3C9.4,0,8,1.3,8,3c0,0,0,0,0,0v0.2 c-2.8,1.2-4.7,4-4.7,7L3,13.3c-0.6,0.6-0.9,1.4-0.9,2.2v0.1c0,1,0.4,2.6,3.2,2.6h11.5c2.8,0,3.2-1.6,3.2-2.6v-0.1 C19.9,14.7,19.6,13.9,19,13.3z M18.1,15.6L18.1,15.6c0,0.8-0.6,0.9-1.4,0.9H5.2c-0.8,0-1.4-0.1-1.4-0.8v-0.1c0-0.5,0.3-1,0.8-1.2 l0,0l0.5-4c0-2.8,1.9-5.2,4.7-5.8l0,0V3c0-0.6,0.5-1.2,1.1-1.2s1.2,0.5,1.2,1.1c0,0,0,0,0,0.1v1.6l0,0c2.7,0.6,4.7,3,4.7,5.8 l0.5,3.9v0l0,0C17.8,14.5,18.1,15,18.1,15.6L18.1,15.6z\"/></symbol>\\n\\t<symbol id=\"icon_help\" viewBox=\"0 0 22 22\"><path d=\"M10.3,14.4h1.8v1.8h-1.8V14.4z M11.1,6.1c-1.1,0-2.2,0.4-3,1.1l0.5,1.5c0.6-0.7,1.4-1.1,2.4-1.1 c1.1,0,1.7,0.6,1.7,1.4c0,0.6-0.3,0.9-1.2,1.6c-1,0.6-1.5,1.8-1.3,2.9H12c-0.1-0.8,0.2-1.6,0.9-2c0.9-0.8,1.5-1.4,1.5-2.5 c0-0.1,0-0.1,0-0.2C14.2,7.1,12.8,5.9,11.1,6.1z M21.3,11c0,5.7-4.6,10.3-10.3,10.3C5.3,21.3,0.7,16.7,0.7,11 C0.7,5.3,5.3,0.7,11,0.7C16.7,0.7,21.3,5.3,21.3,11z M19.3,11c0-4.6-3.7-8.3-8.3-8.3c-4.6,0-8.3,3.7-8.3,8.3c0,4.6,3.7,8.3,8.3,8.3 C15.6,19.3,19.2,15.6,19.3,11z\"/></symbol>\\n\\t<symbol id=\"icon_search\" viewBox=\"0 0 22 22\"><path d=\"M19.8,21.4c-0.4,0.4-1,0.4-1.4,0l-3.2-3.2l0.3-0.2c0.4-0.3,0.7-0.5,1.1-0.8l0.2-0.2l3,3l0,0 C20.2,20.4,20.2,21,19.8,21.4z M9.7,18.4C4.9,18.4,1,14.5,1,9.7S4.9,1,9.7,1s8.7,3.9,8.7,8.7C18.4,14.5,14.5,18.4,9.7,18.4z M16.2,9.7L16.2,9.7c0-3.6-2.9-6.5-6.5-6.5c0,0,0,0,0,0c-3.6,0-6.5,2.9-6.5,6.5c0,3.6,2.9,6.5,6.5,6.5S16.2,13.3,16.2,9.7z\"/></symbol>\\n\\t<symbol id=\"icon_stock\" viewBox=\"0 0 18 18\"><path d=\"M16.5,4.5l-2.4-2.4C14,2,13.7,2,13.5,2.1l-3.1,3.1L8.9,3.7c-0.2-0.2-0.4-0.2-0.6,0c0,0,0,0,0,0L5.1,6.9L4.1,6 C4,5.9,3.7,5.9,3.5,6L1.4,8.2H0.5v5.6c0,0.8,0.7,1.5,1.5,1.5h14c0.8,0,1.5-0.7,1.5-1.5V4.5H16.5z M1.8,13.5V9l2.1-2.1l0.9,0.9 C4.9,8,5.2,8,5.4,7.8l3.2-3.2l1.5,1.5c0.2,0.2,0.4,0.2,0.6,0L13.8,3l2.4,2.4l0,0v1.9l-1.5-1.5c-0.2-0.2-0.4-0.2-0.6,0l-4,4l-2-2 c-0.2-0.2-0.4-0.2-0.6,0L1.8,13.5z M16.2,13.8c0,0.1-0.1,0.2-0.2,0.2H2.5l5.3-5.3l2,2c0.2,0.2,0.4,0.2,0.6,0l4-4l1.8,1.8V13.8z\"/></symbol>\\n\\t<symbol id=\"icon_traffic\" viewBox=\"0 0 18 18\"><path d=\"M14.8,2.2c-0.4-0.4-0.9-0.7-1.4-0.8C12.2,1.1,11,1,9.8,1H8.1C7,1,5.8,1.1,4.7,1.3c-1.1,0.2-2,1.2-2,2.4v9.6 c0,1,0.8,1.8,1.7,1.8h0.4L4.3,16c-0.1,0.3-0.1,0.6,0,0.9c0.1,0.2,0.3,0.3,0.6,0.3h8.1c0.2,0,0.5-0.1,0.6-0.3c0.2-0.3,0.2-0.6,0-0.9 l-0.5-0.9h0.4c0.9-0.1,1.7-0.8,1.7-1.8V3.8C15.3,3.2,15.1,2.6,14.8,2.2z M5.1,16.4C5.1,16.4,5.1,16.4,5.1,16.4l0.7-1.3h6.6l0.7,1.3 c0,0,0,0,0,0H5.1z M14.3,13.3c0,0.4-0.3,0.8-0.8,0.8h-9c-0.4,0-0.8-0.3-0.8-0.8V3.7c0-0.7,0.5-1.2,1.1-1.4C5.9,2.2,7,2,8.1,2h1.7 c1.1,0,2.2,0.1,3.3,0.3c0.7,0.1,1.1,0.7,1.1,1.4V13.3z M4.9,9.6h8.2c0.2,0,0.3-0.1,0.3-0.3V4.5c0-0.2-0.1-0.3-0.3-0.3H4.9 c-0.2,0-0.3,0.1-0.3,0.3v4.9C4.6,9.5,4.7,9.6,4.9,9.6z M9.3,4.7h3.5V9H9.3V4.7z M5.2,4.7h3.5l0,4.3H5.2V4.7z M12.2,10.5 c-0.6,0-1.2,0.5-1.2,1.2s0.5,1.2,1.2,1.2s1.2-0.5,1.2-1.2C13.4,11,12.9,10.5,12.2,10.5z M12.2,12.2c-0.3,0-0.6-0.3-0.6-0.6 c0-0.3,0.3-0.6,0.6-0.6s0.6,0.3,0.6,0.6C12.8,12,12.5,12.2,12.2,12.2z M5.8,10.5c-0.6,0-1.2,0.5-1.2,1.2s0.5,1.2,1.2,1.2 S7,12.3,7,11.7C7,11,6.4,10.5,5.8,10.5z M5.8,12.2c-0.3,0-0.6-0.3-0.6-0.6c0-0.3,0.3-0.6,0.6-0.6s0.6,0.3,0.6,0.6 C6.4,12,6.1,12.2,5.8,12.2z\"/></symbol>\\n\\t<symbol id=\"icon_weather\" viewBox=\"0 0 18 18\"><path d=\"M9,4.5c-2.5,0-4.5,2-4.5,4.5c0,2.5,2,4.5,4.5,4.5c2.5,0,4.5-2,4.5-4.5C13.5,6.5,11.5,4.5,9,4.5z M9,12 c-1.6,0-3-1.3-3-3s1.3-3,3-3c1.6,0,3,1.3,3,3C11.9,10.6,10.6,12,9,12z M9.6,14.8v2.1c0,0.3-0.2,0.6-0.5,0.6s-0.5-0.2-0.5-0.6v-2.1 c0-0.3,0.2-0.5,0.5-0.5c0,0,0,0,0,0C9.3,14.3,9.6,14.5,9.6,14.8z M8.4,3.2V1.1c0-0.3,0.2-0.5,0.6-0.5c0.3,0,0.5,0.2,0.5,0.5v2.1 c0,0.3-0.2,0.5-0.5,0.5c0,0,0,0,0,0C8.7,3.7,8.4,3.5,8.4,3.2z M17.5,9c0,0.3-0.2,0.5-0.5,0.5h-2.1c-0.3,0-0.5-0.2-0.5-0.5 s0.2-0.5,0.5-0.5h2.1C17.2,8.5,17.5,8.7,17.5,9z M3.2,9.5H1.1C0.8,9.5,0.5,9.3,0.5,9s0.2-0.5,0.5-0.5h2.1c0.3,0,0.5,0.2,0.5,0.5 C3.7,9.3,3.5,9.5,3.2,9.5z M15,14.2c0.2,0.2,0.2,0.6,0,0.8s-0.6,0.2-0.8,0l-1.4-1.4c-0.2-0.2-0.2-0.6,0-0.8c0.2-0.2,0.6-0.2,0.8,0 L15,14.2z M3,3.8C2.8,3.6,2.8,3.2,3,3c0.2-0.2,0.6-0.2,0.8,0l1.4,1.4c0.2,0.2,0.2,0.6,0,0.8s-0.6,0.2-0.8,0L3,3.8z M12.8,5.2 c-0.2-0.2-0.2-0.6,0-0.8L14.2,3c0.2-0.2,0.6-0.2,0.8,0s0.2,0.6,0,0.8l-1.4,1.4c-0.1,0.1-0.2,0.2-0.4,0.2C13,5.4,12.9,5.3,12.8,5.2z M5.2,12.8c0.2,0.2,0.2,0.6,0,0.8L3.8,15c-0.2,0.2-0.6,0.2-0.8,0c-0.2-0.2-0.2-0.6,0-0.8l1.4-1.4l0,0C4.7,12.6,5,12.6,5.2,12.8z\"/></symbol>\\n\\t<symbol id=\"arrow_l\" viewBox=\"0 0 6.7 11.4\"><polygon points=\"1,0 0,1 4.7,5.7 0,10.4 1,11.4 6.7,5.7 \" style=\"transform:rotate(180deg);transform-origin:50% 50%;\"/></symbol>\\n\\t<symbol id=\"arrow_r\" viewBox=\"0 0 6.7 11.4\"><polygon points=\"1,0 0,1 4.7,5.7 0,10.4 1,11.4 6.7,5.7 \"/></symbol>\\n\\t<symbol id=\"icon_scrap\" viewBox=\"0 0 15 16\"><path d=\"M12.687,0 L12.687,5.509 L14.999,5.513 L14.999,12.819 C14.9979432,14.0644704 14.0305676,15.0836965 12.8061113,15.1674404 L12.645,15.173 L2.353,15.173 C1.10752964,15.1719432 0.0883034576,14.2045676 0.00455962387,12.9801113 L-0.001,12.819 L-0.001,5.738 C0.000582694624,4.49365107 0.966714919,3.47532618 2.19003598,3.39068676 L2.351,3.385 L5.143,3.385 C5.35828538,3.38419565 5.56641078,3.45505932 5.73549179,3.58444854 L5.832,3.669 L7.418,5.256 C7.55577962,5.39243082 7.73359603,5.47925504 7.92369138,5.50498514 L8.039,5.513 L11.434,5.513 L11.434,1.257 L10.879,1.257 L10.879,4.457 C10.8796493,4.64117438 10.7684872,4.80732412 10.598,4.877 C10.4561607,4.93370212 10.297557,4.91588705 10.1731401,4.83384798 L10.103,4.777 L9.243,3.917 L8.479,4.681 C8.34951813,4.81185651 8.15372314,4.85134194 7.98364532,4.78089681 C7.83786434,4.72051527 7.73583039,4.58966227 7.71026111,4.43758143 L7.704,4.36 L7.704,1.253 L4.493,1.253 C4.01745101,1.25351245 3.62576315,1.61165501 3.57223425,2.07285555 L3.566,2.181 L3.566,2.743 L2.312,2.743 L2.312,2.181 C2.31358066,1.02949333 3.20616698,0.0869102179 4.33733262,0.00567703429 L4.493,0 L12.687,0 Z M5.017,4.627 L2.354,4.638 C1.78698766,4.638 1.32017613,5.0670107 1.26045465,5.61814288 L1.254,5.738 L1.254,12.816 C1.254,13.3830123 1.6830107,13.8498255 2.23414288,13.9095472 L2.354,13.9160037 L12.646,13.9160037 C13.2126491,13.9170325 13.6800762,13.4894002 13.7412267,12.9387646 L13.748,12.819 L13.748,6.766 L8.04,6.766 C7.53680509,6.76785216 7.05165486,6.59015689 6.67007187,6.26835956 L6.532,6.141 L5.017,4.627 Z M8.84833796,1.45181944 L8.612,1.451 L8.612,3.263 L8.923,2.953 C9.07813047,2.79789511 9.3175747,2.778507 9.49378362,2.89483567 L9.565,2.953 L9.971,3.359 L9.971,1.478 L9.259125,1.458125 L9.259125,1.458125 L8.84833796,1.45181944 Z\"/></symbol>\\n\\t<symbol id=\"icon_pr\" viewBox=\"0 0 20 15\"><path fill=\"#999\" d=\"M19,0H1C0.4,0,0,0.4,0,1v13c0,0.6,0.4,1,1,1h18c0.6,0,1-0.4,1-1V1C20,0.4,19.6,0,19,0z\"/><path fill=\"#FFFFFF\" d=\"M6.9,3.8H3.8V11h1.5V8.4h1.5c0.8,0,1.4-0.2,1.8-0.5c0.4-0.4,0.6-1,0.6-1.8c0-0.8-0.2-1.4-0.6-1.7 C8.2,4,7.6,3.8,6.9,3.8z M7.4,6.9C7.3,7.1,7,7.2,6.6,7.2H5.3V5.1h1.4c0.3,0,0.6,0.1,0.8,0.2s0.3,0.4,0.3,0.8S7.6,6.7,7.4,6.9z\"/><path fill=\"#FFFFFF\" d=\"M16.1,10.4c0-0.1,0-0.3,0-0.7V9.3c0-0.5-0.1-0.9-0.2-1.1c-0.1-0.2-0.4-0.4-0.7-0.6c0.4-0.1,0.7-0.4,0.9-0.7 c0.2-0.3,0.3-0.7,0.3-1c0-0.3,0-0.5-0.1-0.8s-0.2-0.4-0.4-0.6C15.5,4.3,15.3,4.1,15,4c-0.3-0.1-0.6-0.2-1.1-0.2h-3.4V11h1.5V8.2 h1.5c0.4,0,0.7,0.1,0.9,0.2c0.2,0.2,0.2,0.5,0.2,0.9l0,0.7c0,0.2,0,0.4,0.1,0.6c0,0.1,0.1,0.2,0.1,0.4h1.7v-0.2 C16.2,10.7,16.1,10.6,16.1,10.4z M14.3,6.9C14.1,6.9,13.9,7,13.6,7h-1.6V5.1h1.7c0.3,0,0.5,0,0.7,0.1c0.3,0.1,0.4,0.4,0.4,0.9 C14.7,6.5,14.6,6.7,14.3,6.9z\"/></symbol>\\n\\t<symbol id=\"icon_facebook\" viewBox=\"0 0 20 20\"><circle fill=\"#284F8E\" cx=\"10\" cy=\"10\" r=\"10\"/><path style=\"fill-rule:evenodd;clip-rule:evenodd;fill:#FFFFFF;\" d=\"M12.7,4.1c-0.7,0-1.4,0-2.1,0c-0.7,0-1.3,0.3-1.7,0.8 c-0.3,0.4-0.5,1-0.5,1.5c0,0.4,0,0.9,0,1.3c0,0.2,0,0.2-0.2,0.2C7.9,8,7.6,8,7.3,8C7.2,8,7.2,8,7.2,8.1c0,0.6,0,1.2,0,1.8 c0,0.1,0,0.2,0.2,0.2c0.3,0,0.6,0,0.9,0c0.2,0,0.2,0,0.2,0.2c0,0.9,0,1.9,0,2.8c0,0.9,0,1.8,0,2.8c0,0.2,0,0.2,0.2,0.2 c0.7,0,1.4,0,2.1,0c0.2,0,0.2,0,0.2-0.2c0-1.8,0-3.7,0-5.5c0-0.3,0-0.2,0.3-0.2c0.4,0,0.8,0,1.2,0c0.1,0,0.2,0,0.2-0.2 c0-0.6,0.1-1.2,0.2-1.8c0-0.2,0-0.2-0.2-0.2c-0.5,0-1,0-1.5,0c-0.1,0-0.2,0-0.2-0.1c0-0.4,0-0.7,0-1.1c0,0,0-0.1,0-0.1 c0-0.4,0.4-0.6,0.7-0.6c0.3,0,0.7,0,1,0c0.1,0,0.1,0,0.1-0.1c0-0.6,0-1.2,0-1.8C12.8,4.1,12.8,4.1,12.7,4.1z\"/></symbol>\\n\\t<symbol id=\"icon_twitter\" viewBox=\"0 0 20 20\"><circle fill=\"#3296D4\" cx=\"10\" cy=\"10\" r=\"10\"/><path fill=\"#FFFFFF\" d=\"M16.2,6.9c-0.4,0.2-0.9,0.3-1.4,0.4c0.5-0.3,0.9-0.8,1.1-1.3c-0.5,0.3-1,0.5-1.5,0.6c-0.9-1-2.4-1-3.4-0.1 c-0.5,0.5-0.8,1.1-0.8,1.8c0,0.2,0,0.4,0.1,0.6c-1.9-0.1-3.7-1-5-2.5C4.7,7.3,5,8.7,6.1,9.4C5.7,9.4,5.3,9.3,5,9.1v0 c0,1.1,0.8,2.1,1.9,2.4c-0.2,0.1-0.4,0.1-0.6,0.1c-0.2,0-0.3,0-0.5,0c0.3,1,1.2,1.7,2.3,1.7c-0.9,0.7-1.9,1-3,1c-0.2,0-0.4,0-0.6,0 c1.1,0.7,2.4,1.1,3.7,1.1l0,0c3.8,0,6.8-3,6.9-6.8c0,0,0-0.1,0-0.1c0-0.1,0-0.2,0-0.3C15.5,7.8,15.9,7.3,16.2,6.9z\"/></symbol>\\n\\t<symbol id=\"icon_line\" viewBox=\"0 0 20 20\"><circle fill=\"#3FA537\" cx=\"10\" cy=\"10\" r=\"10\"/><path fill=\"#FFFFFF\" d=\"M10,4C6.3,4,3.3,6.4,3.3,9.4c0,2.7,2.4,4.9,5.6,5.3c0.2,0,0.5,0.1,0.6,0.3c0.1,0.2,0.1,0.4,0,0.6l-0.1,0.6 c0,0.2-0.1,0.7,0.6,0.4c1.9-1,3.7-2.3,5.2-3.9c0.9-0.9,1.4-2.1,1.4-3.3l0,0C16.7,6.4,13.7,4,10,4z\"/><path fill=\"#3FA537\" d=\"M8.6,8H8.2C8.1,8,8.1,8,8.1,8.1c0,0,0,0,0,0V11c0,0.1,0.1,0.1,0.1,0.1c0,0,0,0,0,0h0.5 c0.1,0,0.1-0.1,0.1-0.1c0,0,0,0,0,0V8.1C8.8,8,8.7,8,8.6,8z\"/><path fill=\"#3FA537\" d=\"M11.9,8C11.9,8,11.9,8,11.9,8L11.9,8l-0.5,0c-0.1,0-0.1,0.1-0.1,0.1v1.7L9.9,8l0,0l0,0l0,0h0h0h0h0h0H9.4 C9.3,8,9.3,8.1,9.3,8.1V11c0,0.1,0.1,0.1,0.1,0.1c0,0,0,0,0,0h0.5c0.1,0,0.1-0.1,0.1-0.1c0,0,0,0,0,0V9.3l1.3,1.8c0,0,0,0,0,0h0h0 h0h0c0,0,0,0,0,0h0.5c0.1,0,0.1-0.1,0.1-0.1c0,0,0,0,0,0V8.1C12,8,11.9,8,11.9,8z\"/><path fill=\"#3FA537\" d=\"M7.5,10.4H6.3V8.1C6.3,8,6.2,8,6.1,8c0,0,0,0,0,0H5.7C5.6,8,5.5,8,5.5,8.1V11c0,0,0,0.1,0,0.1 c0,0,0.1,0,0.1,0h1.9c0.1,0,0.1-0.1,0.1-0.1c0,0,0,0,0,0v-0.5C7.7,10.5,7.6,10.4,7.5,10.4z\"/><polygon fill=\"#3FA537\" points=\"7.5,10.4 7.5,10.4 7.5,10.4\"/><path fill=\"#3FA537\" d=\"M14.4,8.7c0.1,0,0.1-0.1,0.1-0.1V8.1C14.6,8,14.5,8,14.4,8h-1.9c0,0-0.1,0-0.1,0c0,0,0,0.1,0,0.1V11 c0,0,0,0.1,0,0.1c0,0,0.1,0,0.1,0h1.9c0.1,0,0.1-0.1,0.1-0.1v-0.5c0-0.1-0.1-0.1-0.1-0.1h-1.3V9.9h1.3c0.1,0,0.1-0.1,0.1-0.1V9.3 c0-0.1-0.1-0.1-0.1-0.1h-1.3V8.7L14.4,8.7z\"/></symbol>\\n\\t<symbol id=\"icon_email\" viewBox=\"0 0 20 20\"><path fill=\"#DD4261\" d=\"M10,0 C15.5228475,0 20,4.4771525 20,10 C20,15.5228475 15.5228475,20 10,20 C4.4771525,20 0,15.5228475 0,10 C0,4.4771525 4.4771525,0 10,0 Z\"/><path fill=\"#FFF\" d=\"M4.5,8.108 L9.413,11.013 C9.83258856,11.2608675 10.3532439,11.2631612 10.775,11.019 L10.775,11.019 L15.735,8.148 L15.735,13.148 C15.735,13.3148212 15.6687305,13.4748098 15.5507702,13.5927702 C15.4328098,13.7107305 15.2728212,13.7770008 15.106,13.7770008 L15.106,13.7770008 L5.13,13.7770008 C4.96300563,13.7772655 4.80276,13.7111133 4.68458325,13.5931241 C4.5664065,13.4751349 4.5,13.3149946 4.5,13.148 L4.5,13.148 L4.5,8.108 Z M15.111,5.9949992 C15.2779946,5.9949992 15.4381349,6.0614065 15.5561241,6.17958325 C15.6741133,6.29776 15.7402655,6.45800563 15.7400008,6.625 L15.7400008,6.625 L15.7400008,7.479 L10.49,10.521 C10.2478228,10.6625082 9.94817717,10.6625082 9.706,10.521 L9.706,10.521 L4.5019992,7.44 L4.5019992,6.625 C4.50173402,6.45783221 4.56802341,6.29743466 4.68622904,6.17922904 C4.80443466,6.06102341 4.96483221,5.99473402 5.132,5.9949992 L5.132,5.9949992 Z\"/></symbol>\\n\\t<symbol id=\"icon_app\" viewBox=\"0 0 14.023 20.685\"><g transform=\"translate(-106.317 -31.65)\"><path d=\"M117.539,32h-8.42a2.454,2.454,0,0,0-2.451,2.451V49.533a2.454,2.454,0,0,0,2.451,2.451h8.42a2.454,2.454,0,0,0,2.451-2.451V34.451A2.454,2.454,0,0,0,117.539,32Zm1.5,17.533a1.5,1.5,0,0,1-1.5,1.5h-8.42a1.5,1.5,0,0,1-1.5-1.5V34.451a1.5,1.5,0,0,1,1.5-1.5h8.42a1.5,1.5,0,0,1,1.5,1.5Z\" fill=\"indigo\"/><path d=\"M109.118,31.65h8.421a2.809,2.809,0,0,1,2.8,2.8V49.533a2.809,2.809,0,0,1-2.8,2.8h-8.421a2.809,2.809,0,0,1-2.8-2.8V34.451A2.809,2.809,0,0,1,109.118,31.65Zm8.421,19.985a2.108,2.108,0,0,0,2.1-2.1V34.451a2.108,2.108,0,0,0-2.1-2.1h-8.42a2.108,2.108,0,0,0-2.1,2.1V49.533a2.108,2.108,0,0,0,2.1,2.1ZM109.118,32.6h8.421a1.855,1.855,0,0,1,1.85,1.849V49.533a1.855,1.855,0,0,1-1.849,1.85h-8.421a1.855,1.855,0,0,1-1.85-1.849V34.451A1.855,1.855,0,0,1,109.118,32.6Zm8.42,18.082a1.154,1.154,0,0,0,1.15-1.15V34.451a1.154,1.154,0,0,0-1.15-1.15h-8.42a1.154,1.154,0,0,0-1.15,1.15V49.533a1.154,1.154,0,0,0,1.15,1.15Z\" fill=\"#43117d\"/><path d=\"M206.949,74.667h-3.807a.476.476,0,0,0,0,.952h3.807a.476.476,0,0,0,0-.952Z\" transform=\"translate(-91.718 -40.764)\" fill=\"indigo\"/><path d=\"M203.143,74.567h3.807a.576.576,0,0,1,0,1.152h-3.807a.576.576,0,0,1,0-1.152Zm3.807.952a.376.376,0,0,0,0-.752h-3.807a.376.376,0,0,0,0,.752Z\" transform=\"translate(-91.718 -40.764)\" fill=\"#43117d\"/><path d=\"M225.427,373.333a1.428,1.428,0,1,0,1.427,1.427A1.428,1.428,0,0,0,225.427,373.333Zm0,1.9a.476.476,0,1,1,.476-.476A.476.476,0,0,1,225.427,375.236Z\" transform=\"translate(-112.099 -326.106)\" fill=\"indigo\"/><path d=\"M225.427,373.233a1.528,1.528,0,1,1-1.527,1.527A1.529,1.529,0,0,1,225.427,373.233Zm0,2.855a1.327,1.327,0,1,0-1.327-1.328A1.329,1.329,0,0,0,225.427,376.088Zm0-1.9a.576.576,0,1,1-.576.576A.576.576,0,0,1,225.427,374.185Zm0,.952a.376.376,0,1,0-.376-.376A.376.376,0,0,0,225.427,375.136Z\" transform=\"translate(-112.099 -326.106)\" fill=\"#43117d\"/></g></symbol>\\n\\t<symbol id=\"logo_yomiurishinbun\" viewBox=\"0 0 88 19.2\"><path d=\"M0.5,10.4c0-0.6,0.5-1,1.1-1c0,0,0,0,0,0h3.9c0.6-0.1,1.1,0.4,1.2,0.9c0,0,0,0,0,0c0,0.5-0.5,0.9-1.2,0.9H1.6 C1.1,11.4,0.6,11,0.5,10.4z M5.9,3.4H1.1c0,0,0,0,0,0C0.5,3.3,0,3.8,0,4.3c0.1,0.6,0.6,1,1.1,0.9h4.8c0.7,0,1.2-0.4,1.2-0.9 c0,0,0,0,0,0C7.1,3.7,6.5,3.3,5.9,3.4z M1.6,8.2h3.9c0.7,0,1.2-0.4,1.2-0.9c0,0,0,0,0,0c-0.1-0.6-0.6-1-1.2-0.9H1.6c0,0,0,0,0,0 c-0.6,0-1.1,0.4-1.1,1C0.6,7.8,1.1,8.2,1.6,8.2z M9,3.3h2.9c0.6,0,1.2,0.4,1.2,0.9C13,4.7,12.5,5,11.9,5H9.6C9.5,5,9.4,5,9.3,5 C8.9,5.1,8.5,5.5,8.6,6c0.1,0.5,0.5,0.8,1,0.8H19c0.6,0,1.1-0.4,1.1-0.9c0,0,0,0,0,0C20,5.3,19.6,5,19,5h-2.3 c-0.6,0-1.2-0.4-1.2-0.8c0-0.5,0.6-0.9,1.2-0.9h2.7c0,0,0,0,0,0c0.6,0,1.1-0.4,1.1-1c0,0,0,0,0,0c-0.1-0.6-0.6-1-1.1-0.9l-2.7,0 c-1.6,0-1.2-1.4-2.4-1.4s-0.8,1.4-2.4,1.4H9c0,0,0,0,0,0c-0.6,0-1,0.4-1.1,0.9C7.9,2.9,8.4,3.3,9,3.3z M1.6,2.3h3.9 c0.7,0,1.2-0.4,1.2-0.9c0,0,0,0,0,0c-0.1-0.6-0.6-1-1.2-0.9H1.6c0,0,0,0,0,0c-0.6,0-1.1,0.4-1.1,1C0.6,1.9,1.1,2.3,1.6,2.3z M6.8,14 c0,0.1,0,0.1,0,0.2v3.4c0,0.9-0.7,1.6-1.6,1.5c0,0-0.1,0-0.1,0H2c-0.9,0.1-1.6-0.6-1.7-1.4c0,0,0-0.1,0-0.1v-3.4 c0-0.9,0.6-1.7,1.5-1.7c0.1,0,0.1,0,0.2,0h3C6,12.4,6.8,13.1,6.8,14z M4.8,15.8c0-1.1-0.5-1.5-1.3-1.5c-0.8,0-1.3,0.4-1.3,1.5 c0,1,0.4,1.5,1.3,1.5C4.4,17.3,4.8,16.9,4.8,15.8z M17.1,11.2c0-0.6,0.3-1.2,0.8-1.2c0.6,0,0.7,0.7,0.7,1.1c0,0.3,0.1,1.3,1,1.3 c1,0,1-1,1-2c0-1,0.1-2.4-2.1-2.4H9.9c-2.2,0-2.1,1.5-2.1,2.4s0,2,1,2c1,0,1-0.9,1-1.3c0-0.3,0.1-1.1,0.8-1.1s0.8,0.6,0.8,1.2v2.2 c0.2,1.7-1,3.4-2.7,3.8c-0.6,0.1-0.9,0.7-0.8,1.3c0,0,0,0,0,0.1C8.1,19,8.5,19.3,9.5,19c2.5-0.7,4.2-3,4-5.6v-2.2 c0-0.7,0.3-1.2,0.7-1.2c0.4,0,0.7,0.5,0.7,1.2v2.4c-0.1,2.5,1.5,4.8,4,5.4c0.9,0.3,1.4,0,1.6-0.4c0.2-0.6-0.1-1.2-0.7-1.3 c0,0,0,0-0.1,0c-1.7-0.4-2.8-2-2.6-3.8V11.2z M75.3,7.1h-3.6c-0.8,0-1.4,0.3-1.4,1.3v9.5c0.1,0.6-0.3,1.2-1,1.3c-0.1,0-0.1,0-0.2,0 c-0.5,0-1-0.3-1-1.2V2.4c-0.1-0.9,0.5-1.7,1.4-1.8c0.1,0,0.2,0,0.4,0h5.3c1.1,0,1.7,0.5,1.7,1.5v3.2C76.9,6.5,76.4,7.1,75.3,7.1z M74.4,5.1c0-0.3-0.4-0.5-1.2-0.5h-1.3c-0.7,0-1.2,0.2-1.2,0.5c0,0.4,0.6,0.6,1.1,0.6h1.4C74,5.7,74.4,5.4,74.4,5.1z M74.4,2.7 c0-0.3-0.3-0.6-1.1-0.6h-1.5c-0.7,0-1.2,0.3-1.2,0.6c0,0.4,0.6,0.6,1.1,0.6h1.6C74.2,3.3,74.4,3,74.4,2.7z M88,2.4v14.5 c0,1.7-0.3,2.3-1.9,2.3h-4.2c-2.2,0-0.4-1.9-2.6-1.9h-5.7c-1.2,0-1.6-0.3-1.6-0.8c0-1,1.5-0.4,1.5-2v-3.2c0-2-1.5-1.2-1.5-2.2 c0-0.5,0.5-0.7,1.6-0.7h9.2C83.6,8.3,84,8.6,84,9c0,1.1-1.5,0.4-1.5,2.1v4.8c0,0.9,0.3,1.5,1.3,1.5h0.8c0.9,0,1.2-0.5,1.2-1.4V8.4 c0-0.8-0.4-1.3-1.5-1.3h-3.5c-0.1,0-0.3,0-0.4,0C79.5,7,78.9,6.2,79,5.4l0-3c0-0.1,0-0.3,0-0.4c0.1-0.9,1-1.5,1.9-1.4H86 C87.4,0.6,88,1.1,88,2.4z M85.3,5.1c0-0.3-0.4-0.5-1.2-0.5h-1.4c-0.7,0-1.2,0.2-1.2,0.5c0,0.4,0.6,0.6,1.1,0.6h1.5 C85,5.7,85.3,5.4,85.3,5.1z M85.4,2.7c0-0.3-0.3-0.6-1.1-0.6h-1.6c-0.7,0-1.2,0.3-1.2,0.6c0,0.4,0.6,0.6,1.1,0.6h1.7 C85.1,3.3,85.4,3,85.4,2.7z M80,15.2c0-0.3-0.5-0.5-1.1-0.5h-1.8c-0.7,0-1.2,0.2-1.2,0.5l0,0c0,0.3,0.5,0.5,1.2,0.5h1.8 C79.6,15.7,80,15.6,80,15.2z M80,12.8c0-0.3-0.5-0.5-1.1-0.5h-1.8c-0.7,0-1.2,0.2-1.2,0.5l0,0c0,0.3,0.5,0.5,1.2,0.5h1.8 C79.6,13.3,80,13.2,80,12.8z M80,10.3c0-0.3-0.5-0.5-1.1-0.5h-1.8c-0.7,0-1.2,0.2-1.2,0.5l0,0c0,0.3,0.5,0.5,1.2,0.5h1.8 C79.6,10.8,80,10.7,80,10.3z M59.5,3.8l0,1.1c0,1.2,0.7,1.5,1.4,1.5h3.7c1,0,1.3,0.4,1.3,1c0,1.3-1.4,0.3-1.4,2.4v8 c0,0.8-0.3,1.4-1.1,1.4c-0.8,0-1.2-0.6-1.2-1.4v-8c0-0.9-0.5-1.4-1.4-1.4s-1.3,0.4-1.3,1.5v5c0.2,2.2-1.4,4.2-3.7,4.4 c-0.3,0-0.5,0-0.8,0c-1.1,0-1.5-0.4-1.5-1.5v-5.1c0-0.6-0.3-0.9-0.7-0.9c-0.3,0-0.7,0.3-0.7,0.8v5.1c0,1.1-0.3,1.6-1.1,1.6 c-0.8,0-1.1-0.6-1.1-1.7v-5c0-0.6-0.3-0.8-0.7-0.8s-0.6,0.3-0.6,0.9V15c0,2.5-1.8,4-2.8,4c-0.4,0-0.8-0.3-0.9-0.7c0-0.1,0-0.1,0-0.2 c0-1.4,1.7-0.8,1.7-3.4v-1.8c0-1.8-1.1-1.4-1.1-2.4c0-0.6,0.5-1,1.7-1h1.5c0.5,0,1.1-0.2,1.1-0.6c0-0.4-0.5-0.6-1-0.6h-2.1 c-1,0-1.4-0.4-1.4-1s0.5-0.8,1.2-0.9c1-0.1,1.1-0.8,0.9-1.9c-0.3-1.2-1.6-0.8-1.6-2.1c0-0.6,0.6-0.8,1.3-0.8h1.6 c2,0,1.2-1.6,2.6-1.6c1.5,0,0.7,1.6,2.6,1.6H55c0.7,0,1.4,0.2,1.4,0.9c0,1.2-1.8,0.5-1.8,2.9c0,1.3,1.8,0.5,1.8,1.9 c0,0.6-0.5,0.9-1.3,0.9h-1.6c-0.5,0-1,0.2-1,0.6c0,0.4,0.5,0.7,1,0.7h1.4c1,0,1.5,0.5,1.5,1c0,0.8-0.8,0.6-0.8,2.3v2.6 c0,0.7,0.3,1.1,0.7,1.1c0.6,0,1.2-0.6,1.2-2.2v-12c0-1.3,0.8-1.7,1.9-1.7h5.1c0.8,0,1.5,0.1,1.5,0.9s-0.7,0.9-1.5,0.9h-3.6 c-0.7-0.1-1.2,0.4-1.3,1.1C59.5,3.6,59.5,3.7,59.5,3.8z M52.8,4.5c0-0.7-0.6-1-1.6-1s-1.7,0.3-1.7,0.9c0,1.4,0.4,2,1.7,2 C52.3,6.4,52.8,5.8,52.8,4.5z M42.1,1.5l-6.7,0c-1.6,0-1-1.5-2.4-1.5s-0.8,1.5-2.5,1.5h-6.7c0,0,0,0,0,0c-0.6,0-1.1,0.4-1.2,1 c0.1,0.6,0.6,1,1.2,1h6.7c0.6,0,1.2,0.3,1.2,0.8c0,0.5-0.6,0.8-1.2,0.8h-5.6c-0.1,0-0.2,0-0.3,0c-0.5,0.1-0.9,0.6-0.8,1.1 s0.6,0.9,1.1,0.8H41c0.6,0,1.1-0.4,1.1-0.9c0,0,0,0,0,0c0-0.6-0.5-1-1.1-0.9h-5.5c-0.5,0-1.2-0.3-1.2-0.8c0-0.5,0.5-0.8,1.2-0.8h6.6 c0.7,0,1.2-0.4,1.2-1c0,0,0,0,0,0C43.2,1.9,42.7,1.5,42.1,1.5z M40.6,8.3l-15.3,0c-1.9,0-2.3,0.7-2.3,1.8v1.8c0,1,0.2,1.5,1.1,1.5 s1.2-0.4,1.2-1.6s0.4-1.6,1.6-1.6h0.9c1.1,0,1.6,0.2,1.6,1.6v1.7c0,1.8-0.8,3.5-4.1,3.5h-0.9c-1.1,0-1.4,0.5-1.4,1 c0,0.5,0.1,1.1,1.4,1.1h1.3c3.6,0,6.1-1.8,6.1-5.4v-2.2c0-0.1,0-0.1,0-0.2c0.1-0.7,0.7-1.2,1.3-1.2c0.7,0.1,1.2,0.7,1.2,1.3v2.2 c0,3.6,2.5,5.4,6.1,5.4h1.3c1.2,0,1.4-0.7,1.4-1.1c0-0.5-0.3-1-1.4-1h-0.9c-3.3,0-4.1-1.7-4.1-3.5v-1.7c0-1.4,0.5-1.6,1.6-1.6h0.9 c1.2,0,1.6,0.5,1.6,1.7c0,1.2,0.3,1.6,1.2,1.6c0.9,0,1.1-0.5,1.1-1.5v-1.9C42.9,9.1,42.5,8.3,40.6,8.3z\"/></symbol>\\n</svg>\\n\\n\\n\\n\\n  <svg class=\"p-svgs\" version=\"1.1\" xmlns=\"http://www.w3.org/2000/svg\" xmlns:xlink=\"http://www.w3.org/1999/xlink\" width=\"0px\" height=\"0px\">\\n\\t<symbol id=\"icon_plus_small\" viewBox=\"0 0 12 12\"><polygon points=\"12 5.128 6.872 5.128 6.872 0 5.128 0 5.128 5.128 0 5.128 0 6.872 5.128 6.872 5.128 12 6.872 12 6.872 6.872 12 6.872\"/></symbol>\\n\\t<symbol id=\"icon_minus_small\" viewBox=\"0 0 12 12\"><polygon points=\"12 5.128 0 5.128 0 6.872 12 6.872\"/></symbol>\\n\\t<symbol id=\"icon_ycontents\" viewBox=\"0 0 24 22\"><path d=\"M9.34524887,17.0900295 C9.56227328,17.1440089 9.77929769,17.1893515 9.99632211,17.2271371 L5.36393601,21.835895 C5.2594955,21.9398255 5.11775377,21.9980977 4.9700367,21.997837 C4.90949756,21.9980627 4.84934668,21.9882103 4.79207668,21.9686843 C4.59167475,21.9015268 4.44696835,21.7270071 4.41879469,21.5184964 L3.95436245,18.0638172 L0.481971841,17.5974355 C0.27233447,17.5691878 0.096908768,17.4251589 0.0292514247,17.2257406 C-0.0384059185,17.0263223 0.0133996901,16.8059843 0.162945954,16.657115 L3.92180879,12.9174248 C4.01404416,13.0836812 4.11713076,13.241301 4.21913223,13.4043187 C4.32113371,13.5673363 4.42856079,13.7163194 4.54466885,13.8674616 L1.74830929,16.6495579 L4.53273251,17.0230951 C4.78125778,17.0563683 4.9767424,17.2508559 5.01018622,17.4981135 L5.38238309,20.2618568 L8.74626149,16.9151364 C8.93398761,16.9831504 9.13907568,17.0382093 9.34524887,17.0900295 Z M5.52453408,16.9593994 L6.60965614,15.8798122 C6.45448369,15.7718535 6.30690709,15.6638948 6.15933049,15.5440606 L5.12629428,16.5729072 C5.0177135,16.6812035 5.0177135,16.8565011 5.12629428,16.9647974 C5.23514583,17.0728243 5.41134204,17.0728243 5.52019359,16.9647974 L5.52453408,16.9593994 Z M17.507537,15.7826494 L18.6903201,16.9593994 C18.7991716,17.0674264 18.9753679,17.0674264 19.0842194,16.9593994 C19.1928002,16.8511031 19.1928002,16.6758056 19.0842194,16.5675093 L17.9578627,15.4468977 C17.8113712,15.5656523 17.6594541,15.6746906 17.5064519,15.7826494 L17.507537,15.7826494 Z M23.8435648,16.657115 L20.0847019,12.9174248 C19.9924666,13.0836812 19.88938,13.241301 19.7873785,13.4043187 C19.685377,13.5673363 19.5779499,13.7163194 19.4618419,13.8674616 L22.2571163,16.6484783 L19.4792038,17.0187767 C19.2306786,17.05205 19.0351939,17.2465375 19.0017501,17.4937951 L18.6262979,20.264016 L15.2624195,16.9172955 C15.0616719,16.98423 14.857669,17.0392889 14.6504106,17.0921887 C14.4431523,17.1450885 14.2163618,17.1925903 13.9993374,17.2292963 L18.6317235,21.8380542 C18.7362317,21.9418838 18.8779294,22.0001379 19.0256228,21.9999962 C19.0861619,22.0002219 19.1463128,21.9903695 19.2035828,21.9708434 C19.4044083,21.9040238 19.5495918,21.7294361 19.5779499,21.5206556 L20.0456376,18.0659764 L23.5180282,17.603913 C23.7276655,17.5756653 23.9030912,17.4316364 23.9707486,17.2322181 C24.0384059,17.0327999 23.9866003,16.8124618 23.837054,16.6635925 L23.8435648,16.657115 Z M15.4664224,6.42910548 C15.4664224,8.32335859 13.9229542,9.85895415 12.0189896,9.85895415 C10.1150251,9.85895415 8.57155684,8.32335859 8.57155684,6.42910548 C8.57155684,4.53485236 10.1150251,2.99925681 12.0189896,2.99925681 C13.921539,3.00223055 15.4629473,4.53625952 15.4653373,6.42910548 L15.4664224,6.42910548 Z M13.9385706,6.41615043 C13.9385706,5.35901767 13.0772016,4.50204225 12.0146491,4.50204225 C10.9520967,4.50204225 10.0907277,5.35901767 10.0907277,6.41615043 C10.0907277,7.47328319 10.9520967,8.33025861 12.0146491,8.33025861 C13.0762813,8.32787857 13.9358049,7.47129052 13.9364003,6.41507085 L13.9385706,6.41615043 Z M20.3082372,8.26440379 C20.308676,11.6076101 18.2847321,14.6218453 15.1802609,15.9014367 C12.0757898,17.181028 8.50223912,16.473951 6.12611549,14.1099471 C3.74999186,11.7459432 3.03928975,8.19061999 4.32544133,5.10198364 C5.6115929,2.0133473 8.64128145,-0.000273202614 12.0016277,8.1038126e-05 C14.2073,-0.00965257605 16.3254689,0.857810195 17.8850285,2.40961776 C19.4445881,3.96142532 20.3162214,6.06890351 20.3060668,8.26332421 L20.3082372,8.26440379 Z M18.6382366,8.26440379 C18.6406123,5.4279439 16.8221291,2.90679064 14.1204345,2.00090586 C11.4187398,1.09502107 8.4373635,2.00676978 6.71356846,4.26603437 C4.98977342,6.52529896 4.9086371,9.62738379 6.51199516,11.972786 C7.03276537,10.894033 7.89667078,10.0163195 8.96979663,9.47570068 L9.13582031,9.39149287 L9.2779713,9.51240665 C9.50793721,9.70892264 9.76342202,9.87377761 10.0375567,10.0025393 L10.6343739,10.2821523 L10.0169394,10.5121044 C8.82686616,10.9575056 7.90729203,11.9205201 7.52115868,13.1257851 C10.0565201,15.4556381 13.9683218,15.4476369 16.494033,13.1074322 C16.1051079,11.9136981 15.1920764,10.9604412 14.0123589,10.5164228 L13.3938393,10.2853911 L13.9917416,10.0068576 C14.2659174,9.87861496 14.5214231,9.71410967 14.751327,9.51780458 L14.8923929,9.39689081 L15.0584165,9.48109862 C16.1215061,10.0181861 16.9789154,10.8863871 17.4999412,11.9533534 C18.2418928,10.8644057 18.6380701,9.57888379 18.6371491,8.26332421 L18.6382366,8.26440379 Z\" /></symbol>\\n\\t<symbol id=\"icon_search\" viewBox=\"0 0 20 22\"><path d=\"M16.5429017,17.0106415 L19.6990759,20.2135956 C20.1004827,20.6230816 20.1004827,21.285263 19.6980267,21.6936842 C19.3265288,22.0706883 18.7419671,22.0996886 18.3376901,21.7806851 L18.2406045,21.6936842 L14.8745782,18.2777676 L15.1610262,18.0711941 C15.4135481,17.8894662 15.6772621,17.6968536 15.9403544,17.4939872 L16.3330497,17.1820762 L16.5429017,17.0106415 Z M12.6540972,0.707224273 C16.073833,2.1447202 18.3035601,5.53120291 18.3035601,9.2875608 C18.2977778,14.4143565 14.2038314,18.5689822 9.15191378,18.5748501 C5.45041838,18.5748501 2.11339606,16.3120747 0.696895096,12.8416526 C-0.719605868,9.37123038 0.0633701422,5.37660167 2.68072264,2.72045553 C5.29807514,0.0643093961 9.23436135,-0.730271658 12.6540972,0.707224273 Z M9.15191378,2.4088758 C6.40976439,2.4084453 3.93740844,4.08448462 2.88783725,6.65536749 C1.83826606,9.22625035 2.41820487,12.1856115 4.35719733,14.1533431 C6.29618978,16.1210748 9.21232877,16.7096093 11.7456633,15.6444817 C14.1945533,14.6148583 15.8194744,12.2360159 15.9246981,9.56488409 L15.9301338,9.2875608 C15.927134,5.48985574 12.894153,2.41239721 9.15191378,2.4088758 Z\" /></symbol>\\n\\t<symbol id=\"icon_notice\" viewBox=\"0 0 18 22\"><path d=\"M11.6573363,18.7741877 L11.6573363,19.3678893 C11.6573363,20.8215639 10.4689429,22 9.00298527,22 C7.59341065,22 6.4404597,20.9104696 6.35385634,19.5343481 L6.34863422,19.3678893 L6.34863422,18.7741877 L11.6573363,18.7741877 Z M10.3326849,19.961591 L7.67530493,19.961591 C7.91052129,20.480142 8.43059694,20.8136579 9.00399491,20.8136579 C9.52960973,20.8136579 10.010419,20.5334119 10.2680802,20.0872879 L10.3326849,19.961591 Z M8.99995634,0 C10.5904602,0 11.8905735,1.23289214 11.9814101,2.78748934 L11.9864799,2.96149995 L11.9864799,3.20178393 C14.7476523,4.36650005 16.582134,6.99418402 16.7235291,9.9500486 L16.7318013,10.2280877 L17.0912341,13.3197415 C17.6305913,13.8686708 17.9498975,14.5906374 17.9946445,15.3511278 L18,15.5593884 L18,15.6895422 C18,15.7484603 17.9984792,15.8097982 17.9950034,15.8730461 L17.9782767,16.0680102 C17.8687964,16.9998261 17.2910329,18.2061056 15.0535568,18.2881894 L14.807422,18.2926185 L3.19148104,18.2926185 C0.750623564,18.2926185 0.135078902,17.0331052 0.0217179551,16.0680102 L0.0049954803,15.8730461 L0.0049954803,15.8730461 L0,15.6895422 L0,15.5533813 C0.00289683236,14.7921716 0.276556737,14.0587511 0.768992703,13.4805091 L0.908678563,13.3267498 L1.26811142,10.2230818 C1.3051232,7.24966235 3.05666387,4.56959422 5.75747413,3.31517451 L6.0134328,3.20178393 L6.0134328,2.96149995 C6.0134328,1.32590869 7.35054493,0 8.99995634,0 Z M9.59848128,1.92447624 C9.23080345,1.70919296 8.77415745,1.70919296 8.40647962,1.92447624 C8.07965488,2.11583916 7.86908564,2.45039209 7.83512764,2.81962258 L7.83078992,2.95949759 L7.83078992,4.53135524 L7.78636564,4.54036589 C5.12317564,5.11849498 3.20274388,7.40568518 3.0924941,10.0864556 L3.08748783,10.3312096 L2.62910997,14.2998999 L2.60083997,14.3139164 C2.16423539,14.5214929 1.87254885,14.9386963 1.82439248,15.4096405 L1.81735008,15.5523801 L1.81735008,15.6895422 C1.81735008,16.29143 2.20354849,16.4363487 2.79097695,16.4687525 L3.05451294,16.4767555 L3.05451294,16.4767555 L14.9462616,16.4767555 L14.9462616,16.4767555 L15.2096661,16.4687525 C15.7550606,16.4386632 16.1281958,16.3115586 16.1787182,15.8116492 L16.1845889,15.6895422 L16.1845889,15.5543825 C16.1861177,15.0742489 15.9342621,14.6322677 15.5276272,14.3843247 L15.401092,14.3159188 L15.372822,14.3029034 L15.372822,14.2718668 L14.9174731,10.3402203 C14.9204958,7.63480788 13.0785838,5.28194006 10.4597877,4.59974674 L10.174171,4.53135524 L10.174171,2.95949759 C10.1867011,2.53626767 9.96615911,2.13975953 9.59848128,1.92447624 Z\" /></symbol>\\n\\t<symbol id=\"icon_app\" viewBox=\"0 0 15 22\"><path d=\"M12.0044933,0 C13.6566718,0.00525475875 14.9947149,1.33560797 15,2.97829135 L15,19.0217086 C14.9947149,20.664392 13.6566718,21.9947452 12.0044933,22 L2.99550674,22 C1.34332817,21.9947452 0.00528513278,20.664392 0,19.0217086 L0,2.97935503 C0.00469813351,1.33625627 1.34291218,0.0052578489 2.99550674,0 L12.0044933,0 Z M12.0034234,1.75612822 L2.99550674,1.75612822 C2.3170071,1.7584625 1.7675571,2.30475477 1.76520933,2.97935503 L1.76520933,19.0217086 C1.7675571,19.6963089 2.3170071,20.2426012 2.99550674,20.2449355 L12.0034234,20.2438718 C12.6819231,20.2415375 13.2313731,19.6952452 13.2337208,19.020645 L13.2337208,2.97935503 C13.2313731,2.30475477 12.6819231,1.7584625 12.0034234,1.75612822 Z M7.49946509,16.4614418 C8.16083032,16.4620752 8.7572938,16.8579082 9.01058724,17.4653362 C9.26388067,18.0727642 9.12409147,18.7720909 8.65643553,19.2370591 C8.18877959,19.7020274 7.48541057,19.8410133 6.87447147,19.5891755 C6.26353236,19.3373378 5.8654114,18.7443022 5.86584339,18.0867379 C5.86695733,17.2399935 6.51879179,16.5449253 7.35085524,16.4693213 L7.49946509,16.4614418 Z M7.34552924,17.7214944 C7.19521731,17.7833978 7.09721133,17.9292312 7.09721133,18.0909868 C7.09955705,18.3102111 7.27896696,18.4866923 7.49947097,18.4866799 L7.49947097,18.4909346 C7.66216155,18.4909346 7.80883787,18.3934918 7.87109911,18.2440438 C7.93336035,18.0945957 7.89894522,17.9225735 7.78390145,17.8081909 C7.66885768,17.6938083 7.49584117,17.659591 7.34552924,17.7214944 Z M9.53640967,2.29009331 C9.87673777,2.29009331 10.1526282,2.56439818 10.1526282,2.90277039 C10.1526282,3.2411426 9.87673777,3.51544747 9.53640967,3.51544747 L5.46359033,3.51544747 C5.12326223,3.51544747 4.8473718,3.2411426 4.8473718,2.90277039 C4.8473718,2.56439818 5.12326223,2.29009331 5.46359033,2.29009331 L9.53640967,2.29009331 Z\" /></symbol>\\n\\t<symbol id=\"icon_mypage\" viewBox=\"0 0 16 16\"><path d=\"M4.5,8.9c0.4,0.3,0.8,0.6,1.2,0.8c-2.5,0.9-4.2,3.4-4.2,6.1H0.3c0-2,0.8-4,2.2-5.4C3.1,9.8,3.8,9.3,4.5,8.9z M8,9.5c-2.6,0-4.7-2.1-4.7-4.7c0-2.6,2.1-4.7,4.7-4.7c2.6,0,4.7,2.1,4.7,4.7C12.7,7.5,10.6,9.5,8,9.5z M11.2,4.9 c0-1.8-1.4-3.2-3.2-3.2c-1.8,0-3.2,1.4-3.2,3.2c0,1.8,1.4,3.2,3.2,3.2C9.8,8.1,11.2,6.7,11.2,4.9z M13.4,10.3 c-0.6-0.6-1.2-1-1.9-1.4c-0.4,0.3-0.8,0.6-1.2,0.8c2.5,0.9,4.2,3.4,4.2,6.1h1.2C15.7,13.7,14.9,11.8,13.4,10.3z\"/></symbol>\\n\\t<symbol id=\"icon_help\" viewBox=\"0 0 22 22\"><path d=\"M10.9968052,0 C17.0715118,0.00528414347 21.9947159,4.92848824 22,11.0031948 C21.9982357,17.0774952 17.0732357,22.0005881 10.9989352,22 C4.92463464,21.9994119 0.000588110644,17.0753654 0,11.0010648 C-0.000588110644,4.92676426 4.92250484,0.00176433191 10.9968052,0 Z M11.0010642,2.21384387 C6.14725532,2.21325603 2.21182439,6.1472571 2.21064786,11.0010659 C2.20947239,15.8548747 6.14299655,19.7907823 10.9968052,19.7925464 C15.850088,19.7890252 19.7840665,15.8564761 19.7893514,11.0031948 C19.7893514,6.14938591 15.8548731,2.21443171 11.0010642,2.21384387 Z M12.1255564,14.6492743 L12.1255564,16.5394002 L10.208809,16.5394002 L10.208809,14.6492743 L12.1255564,14.6492743 Z M13.5409874,6.54789818 C14.2009524,7.12037851 14.5953981,7.93984792 14.6311712,8.81277852 C14.6311712,9.82073474 14.1953274,10.4026889 13.5149807,11.0526996 L13.18431,11.3593361 C13.126537,11.4118472 13.0674913,11.4652108 13.0072602,11.5196518 C12.2657326,11.9712922 11.8775338,12.8318419 12.029719,13.6866412 L10.2876086,13.6866412 C10.0769824,12.4678483 10.6056918,11.2396221 11.635721,10.5548889 L11.9705886,10.2770833 L11.9705886,10.2770833 L12.2480957,10.0377527 C12.706222,9.62673358 12.8911905,9.34769302 12.8911905,8.85963235 C12.8911905,8.04075527 12.1915777,7.39438546 11.0681508,7.39438546 C10.0914956,7.40252002 9.16857926,7.84272811 8.54762795,8.59661201 L7.96302,7.00358196 C8.8272281,6.20338038 9.967214,5.76806448 11.1448207,5.7885771 C12.0140515,5.70068351 12.8810224,5.97541784 13.5409874,6.54789818 Z\" /></symbol>\\n\\t<symbol id=\"icon_hmenu\" viewBox=\"0 0 20 22\"><path d=\"M20,16 L20,18 L0,18 L0,16 L20,16 Z M20,10 L20,12 L0,12 L0,10 L20,10 Z M20,4 L20,6 L0,6 L0,4 L20,4 Z\" /></symbol>\\n\\t<symbol id=\"icon_close\" viewBox=\"0 0 30 30\"><polygon points=\"30,2.7 27.3,0 15,12.3 2.7,0 0,2.7 12.3,15 0,27.3 2.7,30 15,17.7 27.3,30 30,27.3 17.7,15 \"/></symbol>\\n\\t<symbol id=\"icon_dots\" viewBox=\"0 0 25 5\"><path d=\"M2.5,0 C3.88071187,0 5,1.11928813 5,2.5 C5,3.88071187 3.88071187,5 2.5,5 C1.11928813,5 0,3.88071187 0,2.5 C0,1.11928813 1.11928813,0 2.5,0 Z M12.5,0 C13.8807119,0 15,1.11928813 15,2.5 C15,3.88071187 13.8807119,5 12.5,5 C11.1192881,5 10,3.88071187 10,2.5 C10,1.11928813 11.1192881,0 12.5,0 Z M22.5,0 C23.8807119,0 25,1.11928813 25,2.5 C25,3.88071187 23.8807119,5 22.5,5 C21.1192881,5 20,3.88071187 20,2.5 C20,1.11928813 21.1192881,0 22.5,0 Z\"/></symbol>\\n  <symbol id=\"icon_points\" viewBox=\"0 0 30 30\"><path d=\"M15.6,6.9h-4.2v9.7h2v-3.5h2c0.9,0.1,1.7-0.2,2.4-0.7c0.6-0.6,0.9-1.5,0.8-2.4l0,0c0.1-0.9-0.2-1.7-0.9-2.3 C17.3,7.1,16.4,6.8,15.6,6.9z M16.4,11.1c-0.3,0.2-0.7,0.4-1.1,0.4h-1.8V8.5h1.8c0.4,0,0.8,0.1,1.1,0.3c0.3,0.3,0.4,0.7,0.4,1.1l0,0 C16.8,10.4,16.6,10.8,16.4,11.1z M11.5,22.6c0.3,0.1,0.5,0.1,0.8,0.2l-5.7,5.7c-0.1,0.1-0.3,0.2-0.5,0.2c-0.1,0-0.1,0-0.2,0 c-0.2-0.1-0.4-0.3-0.5-0.6l-0.6-4.3l-4.3-0.6C0.2,23.2,0,22.9,0,22.5c0-0.1,0.1-0.3,0.2-0.4l4.6-4.6c0.1,0.2,0.2,0.4,0.4,0.6 s0.3,0.4,0.4,0.6l-3.4,3.4l3.4,0.5c0.3,0,0.5,0.3,0.6,0.6l0.5,3.4l4.1-4.1C11,22.5,11.2,22.6,11.5,22.6z M6.3,22.5L6.3,22.5 c-0.1-0.1-0.1-0.4,0-0.5l1.3-1.3C7.8,20.8,8,21,8.1,21.1l-1.3,1.3c0,0,0,0,0,0C6.7,22.6,6.5,22.6,6.3,22.5z M29.5,22.5 c0,0.4-0.2,0.7-0.6,0.8l-4.3,0.6l-0.6,4.3c0,0.3-0.2,0.5-0.5,0.6c-0.1,0-0.1,0-0.2,0c-0.2,0-0.4-0.1-0.5-0.2l-5.7-5.7 c0.3,0,0.5-0.1,0.8-0.2c0.3-0.1,0.5-0.1,0.8-0.2l4.1,4.1l0.5-3.4c0-0.3,0.3-0.5,0.6-0.6l3.4-0.5l-3.4-3.4c0.1-0.2,0.3-0.4,0.4-0.6 c0.1-0.2,0.3-0.4,0.4-0.6l4.6,4.6l0,0C29.4,22.2,29.5,22.3,29.5,22.5z M22.1,20.6l1.4,1.4c0.1,0.1,0.1,0.2,0.1,0.2 c0,0.2-0.2,0.3-0.3,0.3l0,0c-0.1,0-0.2,0-0.2-0.1L21.5,21C21.7,20.9,21.9,20.7,22.1,20.6z M25,11.7L25,11.7 c0-5.6-4.6-10.2-10.2-10.2C9.1,1.5,4.6,6.1,4.6,11.7c0,5.6,4.6,10.2,10.2,10.2C20.4,21.9,25,17.4,25,11.7z M14.8,19.9 C14.8,19.9,14.8,19.9,14.8,19.9c-4.5,0-8.2-3.7-8.2-8.2s3.7-8.2,8.2-8.2s8.2,3.7,8.2,8.2l0,0C22.9,16.2,19.3,19.9,14.8,19.9z\"/></symbol>\\n</svg>\\n\\n\\n\\n\\n\\n  <div class=\"home-2020-ad-wide\">\\n    <div id=\"ad_dfp_banner\">\\n      <script>googletag.cmd.push(function() {googletag.display(\\'ad_dfp_banner\\'); });</script>\\n    </div>\\n  </div>\\n  \\n      \\n    \\n          <header class=\"p-header\">\\n      <div class=\"p-header__wrapper\">\\n        <div class=\"p-header__all\">\\n          <a\\n             type=\"button\"             class=\"js-header-globalnav-show\"><svg><use xlink:href=\"/assets/images/common/dc-header-20230630032416.svg#icon_hmenu\"></svg>すべて</a>\\n        </div>\\n        <div class=\"p-header__logo\">\\n          <h1>              <a href=\"/\"><img src=\"/assets/images/common/dc-2021_logo_yol-20230630032416.svg\" alt=\"読売新聞オンライン\"></a>\\n          </h1>        </div>\\n        <div class=\"p-header__member\">\\n                      <div class=\"loginsignup\"><a href=\"/member/login/\">ログイン・登録</a></div>\\n            <div class=\"login\"><a href=\"/member/login/\">ログイン</a></div>\\n            <div class=\"signup\"><a href=\"/member/reg_top/\">新規登録</a></div>\\n                  </div>\\n\\n        <div class=\"p-header__tools\">\\r\\n  <div class=\"search\"><a href=\"/web-search/\"><svg><use xlink:href=\\'/assets/images/common/dc-header-20230630032416.svg#icon_search\\' ></svg>さがす</a></div>\\r\\n  <div class=\"help\"><a href=\"/help/\"><svg><use xlink:href=\\'/assets/images/common/dc-header-20230630032416.svg#icon_help\\' ></svg>ヘルプ</a></div>\\r\\n  <div class=\"info\"><a href=\"/info/\"><svg><use xlink:href=\\'/assets/images/common/dc-header-20230630032416.svg#icon_notice\\' ></svg>お知らせ</a></div>\\r\\n  <div class=\"app\"><a href=\"/yomiuri-app/\"><svg><use xlink:href=\\'/assets/images/common/dc-header-20230630032416.svg#icon_app\\' ></svg>アプリ</a></div>\\r\\n  \\r\\n    <div class=\"subscribe\"><a href=\"https://lp.434381.yomiuri.co.jp/yomiuri/all/kakaku2023?utm_source=ysol&utm_medium=topbanner\" target=\"_blank\" class=\"js-header-subscribe\">購読お申し込み</a></div>\\r\\n  \\r\\n  \\r\\n            \\r\\n            \\r\\n            \\r\\n            \\r\\n  \\r\\n</div>\\r\\n\\r\\n<div class=\"p-header__nav js-header-action-btn\">\\r\\n  <ul>\\r\\n    <li><a href=\"/\">トップ</a></li>\\r\\n    <li><a href=\"/feature/titlelist/ukraine_news/\">ウクライナ</a></li>\\r\\n    <li><a href=\"/topics/covid19/\">新型コロナ</a></li>\\r\\n    <li class=\"subnav\">\\r\\n      <a href=\"https://pageviewer.yomiuri.co.jp/shimen/login\">紙面ビューアー</a>\\r\\n      <div class=\"list\">\\r\\n        <ul>\\r\\n          <li><a href=\"https://pageviewer.yomiuri.co.jp/shimen/login\">朝刊紙面</a></li>\\r\\n          <li><a href=\"https://pageviewer.yomiuri.co.jp/shimen/login?KPVal=memCh\">地域版</a></li>\\r\\n          <li><a href=\"https://pageviewer.yomiuri.co.jp/shimen/login?CLFlg=1\">おくやみ</a></li>\\r\\n        </ul>\\r\\n      </div>\\r\\n    </li>\\r\\n    <li class=\"subnav\">\\r\\n      <a href=\"/opinion/\">オピニオン</a>\\r\\n      <div class=\"list\">\\r\\n        <ul>\\r\\n          <li><a href=\"/editorial/\">社説</a></li>\\r\\n          \\r\\n          <li><a href=\"/commentary/\">解説</a></li>\\r\\n          <li><a href=\"/choken/\">調査研究</a></li>\\r\\n        </ul>\\r\\n      </div>\\r\\n    </li>\\r\\n    <li class=\"subnav\">\\r\\n      <a href=\"/rensai/\">連載</a>\\r\\n      <div class=\"list\">\\r\\n        <ul>\\r\\n          <li><a href=\"/serial/jidai/\">時代の証言者</a></li>\\r\\n          <li><a href=\"/feature/titlelist/世界秩序の行方/\">世界秩序の行方</a></li>\\r\\n          <li><a href=\"/feature/titlelist/情報偏食/\">情報偏食</a></li>\\r\\n          <li><a href=\"/medical/renaissance/\">医療ルネサンス</a></li>\\r\\n          <li><a href=\"/feature/titlelist/あれから/\">あれから</a></li>\\r\\n          <li><a href=\"/feature/titlelist/Ｎｅｗ門/\">New門</a></li>\\r\\n          <li><a href=\"/serial/webkiryu/\">Web気流</a></li>\\r\\n          <li><a href=\"/jinsei/\">人生案内</a></li>\\r\\n          <li><a href=\"/novel/\">連載小説</a></li>\\r\\n          <li><a href=\"/comic/\">コボちゃん・漫画</a></li>\\r\\n          <li><a href=\"/feature/titlelist/nameko/\">辛酸なめ子の女子校探訪</a></li>\\r\\n          <li>&emsp;<a style=\"text-decoration:underline;\"  href=\"/rensai/\">[もっと見る]</a></li>\\r\\n        </ul>\\r\\n      </div>\\r\\n    </li>\\r\\n    <li class=\"subnav\">\\r\\n      <a href=\"/column/\">コラム</a>\\r\\n      <div class=\"list\">\\r\\n        <ul>\\r\\n          <li><a href=\"/note/hensyu-techo/\">編集手帳</a></li>\\r\\n          <li><a href=\"/note/yomiuri-sunpyo/\">よみうり寸評</a></li>\\r\\n          <li><a href=\"/column/nyancology/\">猫学（ニャンコロジー）</a></li>\\r\\n          <li><a href=\"/column/matsurigoto/\">まつりごと点描</a></li>\\r\\n          <li><a href=\"/column/anshin/\">安心コンパス</a></li>\\r\\n          <li><a href=\"/column/politics01/\">デスクの目～政治部</a></li>\\r\\n          <li><a href=\"/column/economy03/\">デスクの目～経済部</a></li>\\r\\n          <li><a href=\"/column/civil02/\">デスクの目～社会部</a></li>\\r\\n          <li><a href=\"/column/japanesehistory/\">今につながる日本史</a></li>\\r\\n          <li><a href=\"/column/japanesejazz/\">日本ジャズの断面</a></li>\\r\\n          <li><a href=\"/column/naruhodo/\">なるほど！医療</a></li>\\r\\n          <li><a href=\"/column/spotlight/\">スポットライト</a></li>\\r\\n          <li><a href=\"/column/chottomae/\"> ちょっと前はどうだっけ？</a></li>\\r\\n          <li><a href=\"/column/henshu/\">編集委員の目</a></li>\\r\\n          <li><a href=\"/column/wideangle/\">広角多角</a></li>\\r\\n          <li><a href=\"/column/opinionpoll/\">「世論」を見る</a></li>\\r\\n          <li><a href=\"/column/dakarasports/\">だからスポーツは面白い</a></li>\\r\\n          <li><a href=\"/column/dreamchaser/\">挑む―科学の現場から</a></li>\\r\\n        </ul>\\r\\n      </div>\\r\\n    </li>\\r\\n    <li class=\"subnav dots\">\\r\\n      <a href=\"\"><svg><use xlink:href=\"#icon_2021_dots\"/></svg></a>\\r\\n      <div class=\"list\">\\r\\n        <ul>\\r\\n          <li><a href=\"/special/\">特集</a></li>\\r\\n          <li><a href=\"/stream/\">動画</a></li>\\r\\n          <li><a href=\"/photograph/\">写真</a></li>\\r\\n          <li><a href=\"/help/toukou/\">投稿・情報提供</a></li>\\r\\n        </ul>\\r\\n      </div>\\r\\n    </li>\\r\\n    <li class=\"limited\"><a href=\"/special/\">特集</a></li>\\r\\n    <li class=\"limited\"><a href=\"/stream/\">動画</a></li>\\r\\n    <li class=\"limited\"><a href=\"/photograph/\">写真</a></li>\\r\\n    <li><a href=\"https://yomipo.yomiuri.co.jp/\"><em>よみぽランド</em></a></li>\\r\\n    <li><a href=\"/sudoku/\"><em>数独</em></a></li>\\r\\n    <li><a href=\"/otekomachi/\"><em>大手小町</em></a></li>\\r\\n    <li><a href=\"https://komachi.yomiuri.co.jp/\"><em>発言小町</em></a></li>\\r\\n    <li><a href=\"https://yomidr.yomiuri.co.jp/\"><em>ヨミドクター</em></a></li>\\r\\n  </ul>\\r\\n</div>\\r\\n\\r\\n<link rel=\"preload\" href=\"https://cdn.jsdelivr.net/npm/yakuhanjp@3.4.1/dist/fonts/YakuHanJP/YakuHanJP-Regular.woff2\" as=\"font\" type=\"font/woff2\" crossorigin />\\r\\n<link rel=\"preload\" href=\"https://cdn.jsdelivr.net/npm/yakuhanjp@3.4.1/dist/fonts/YakuHanJP/YakuHanJP-Bold.woff2\" as=\"font\" type=\"font/woff2\" crossorigin />\\r\\n<link rel=\"stylesheet\" href=\"https://cdn.jsdelivr.net/npm/yakuhanjp@3.4.1/dist/css/yakuhanjp.min.css\">\\r\\n\\r\\n<div class=\"p-header__globalnav js-header-globalnav\">\\r\\n  <div class=\"p-header__globalnav__layout-header\">\\r\\n    <div class=\"yheader\">\\r\\n      \\r\\n        <div class=\"subscribe\"><a href=\"https://lp.434381.yomiuri.co.jp/yomiuri/all/kakaku2023?utm_source=ysol&utm_medium=topbanner\">購読お申し込み</a></div>\\r\\n      \\r\\n      <ul class=\"support\">\\r\\n        <li><a href=\"/web-search/\"><svg><use xlink:href=\\'/assets/images/common/dc-header-20230630032416.svg#icon_search\\' ></svg><span>さがす</span></a></li>\\r\\n        <li><a href=\"/help/\"><svg><use xlink:href=\\'/assets/images/common/dc-header-20230630032416.svg#icon_help\\' ></svg><span>ヘルプ</span></a></li>\\r\\n        <li><a href=\"/info/\"><svg><use xlink:href=\\'/assets/images/common/dc-header-20230630032416.svg#icon_notice\\' ></svg><span>お知らせ</span></a></li>\\r\\n        <li><a href=\"/yomiuri-app/\"><svg><use xlink:href=\\'/assets/images/common/dc-header-20230630032416.svg#icon_app\\' ></svg><span>アプリ</span></a></li>\\r\\n        \\r\\n      </ul>\\r\\n      <div class=\"close\"><a class=\"js-header-globalnav-hide\"><svg><use xlink:href=\\'/assets/images/common/dc-header-20230630032416.svg#icon_close\\' ></svg><span>閉じる</span></a></div>\\r\\n    </div>\\r\\n  </div>\\r\\n  <!-- yol-header-tile -->\\r\\n<div class=\"p-header__globalnav__layout-left\">\\r\\n  <div class=\"ymenu\">\\r\\n    <div class=\"ymenu-navset\">\\r\\n      <div class=\"ymenu-navset__header js-header-globalnav-ymenu-navset-header\">\\r\\n        <div class=\"link\"><a href=\"/news/\">ニュース<svg><use xlink:href=\"#arrow_r\"/></svg></a></div>\\r\\n        <div class=\"more js-header-globalnav-ymenu-navset-more\"><a>\\r\\n          <svg><use xlink:href=\\'/assets/images/common/dc-header-20230630032416.svg#icon_minus_small\\' ></svg>\\r\\n        </a></div>\\r\\n      </div>\\r\\n      <div class=\"ymenu-navset__body js-header-globalnav-ymenu-navset-contents active\">\\r\\n        <ul>\\r\\n          <li><a href=\"/news/\">新着</a></li>\\r\\n          <li><a href=\"/national/\">社会</a></li>\\r\\n          <li><a href=\"/politics/\">政治</a></li>\\r\\n          <li><a href=\"/economy/\">経済</a></li>\\r\\n          <li><a href=\"/sports/\">スポーツ</a></li>\\r\\n          <li><a href=\"/world/\">国際</a></li>\\r\\n          <li><a href=\"/local/\">地域</a></li>\\r\\n          <li><a href=\"/science/\">科学・IT</a></li>\\r\\n          <li><a href=\"/culture/\">エンタメ・文化</a></li>\\r\\n          <li><a href=\"/life/\">ライフ</a></li>\\r\\n          <li><a href=\"/medical/\">医療・健康</a></li>\\r\\n          <li><a href=\"/kyoiku/\">教育・就活</a></li>\\r\\n        </ul>\\r\\n        <ul class=\"for-small-device\">\\r\\n          <li><a href=\"/opinion/\">社説・解説（オピニオン）<svg><use xlink:href=\"#arrow_r\"/></svg></a></li>\\r\\n          <li><a href=\"/rensai/\">連載<svg><use xlink:href=\"#arrow_r\"/></svg></a></li>\\r\\n          <li><a href=\"/column/\">コラム<svg><use xlink:href=\"#arrow_r\"/></svg></a></li>\\r\\n          <li><a href=\"/special/\">特集<svg><use xlink:href=\"#arrow_r\"/></svg></a></li>\\r\\n          <li><a href=\"/stream/\">動画<svg><use xlink:href=\"#arrow_r\"/></svg></a></li>\\r\\n          <li><a href=\"/photograph/\">写真<svg><use xlink:href=\"#arrow_r\"/></svg></a></li>\\r\\n        </ul>\\r\\n      </div>\\r\\n    </div>\\r\\n    <div class=\"ymenu-navset\">\\r\\n      <div class=\"ymenu-navset__header js-header-globalnav-ymenu-navset-header\">\\r\\n        <div class=\"link\"><a href=\"/opinion/\">社説・解説（オピニオン）<svg><use xlink:href=\"#arrow_r\"/></svg></a></div>\\r\\n        <div class=\"more js-header-globalnav-ymenu-navset-more\"><a>\\r\\n          <svg><use xlink:href=\\'/assets/images/common/dc-header-20230630032416.svg#icon_plus_small\\' ></svg>\\r\\n        </a></div>\\r\\n      </div>\\r\\n      <div class=\"ymenu-navset__body js-header-globalnav-ymenu-navset-contents\">\\r\\n        <ul>\\r\\n          <li><a href=\"/editorial/\">社説</a></li>\\r\\n          \\r\\n          <li><a href=\"/commentary/\">解説</a></li>\\r\\n          <li><a href=\"/choken/\">調査研究</a></li>\\r\\n        </ul>\\r\\n      </div>\\r\\n    </div>\\r\\n    <div class=\"ymenu-navset\">\\r\\n      <div class=\"ymenu-navset__header js-header-globalnav-ymenu-navset-header\">\\r\\n        <div class=\"link\"><a href=\"/rensai/\">連載<svg><use xlink:href=\"#arrow_r\"/></svg></a></div>\\r\\n        <div class=\"more js-header-globalnav-ymenu-navset-more\"><a>\\r\\n          <svg><use xlink:href=\\'/assets/images/common/dc-header-20230630032416.svg#icon_plus_small\\' ></svg>\\r\\n        </a></div>\\r\\n      </div>\\r\\n      <div class=\"ymenu-navset__body js-header-globalnav-ymenu-navset-contents\">\\r\\n        <ul>\\r\\n          <li><a href=\"/serial/jidai/\">時代の証言者</a></li>\\r\\n          <li><a href=\"/serial/earth/\">地球を読む</a></li>\\r\\n          <li><a href=\"/feature/titlelist/%E6%94%BF%E6%B2%BB%E3%81%AE%E7%8F%BE%E5%A0%B4/\">政治の現場</a></li>\\r\\n          <li><a href=\"/medical/renaissance/\">医療ルネサンス</a></li>\\r\\n          <li><a href=\"/feature/titlelist/あれから/\">あれから</a></li>\\r\\n          <li><a href=\"/feature/titlelist/Ｎｅｗ門/\">New門</a></li>\\r\\n          <li><a href=\"/serial/webkiryu/\">Web気流</a></li>\\r\\n          <li><a href=\"/jinsei/\">人生案内</a></li>\\r\\n          <li><a href=\"/novel/\">連載小説</a></li>\\r\\n          <li><a href=\"/comic/\">漫画</a></li>\\r\\n          <li><a href=\"/serial/webkiryu/kiryu/\">投書</a></li>\\r\\n          <li><a href=\"/serial/webkiryu/senryu/\">時事川柳</a></li>\\r\\n          <li><a href=\"/feature/getsuroku/\">NEWS月録</a></li>\\r\\n          <li><a style=\"text-decoration:underline;\" href=\"/rensai/\">[もっと見る]</a></li>\\r\\n        </ul>\\r\\n      </div>\\r\\n    </div>\\r\\n    <div class=\"ymenu-navset\">\\r\\n      <div class=\"ymenu-navset__header js-header-globalnav-ymenu-navset-header\">\\r\\n        <div class=\"link\"><a href=\"/column/\">コラム<svg><use xlink:href=\"#arrow_r\"/></svg></a></div>\\r\\n        <div class=\"more js-header-globalnav-ymenu-navset-more\"><a>\\r\\n          <svg><use xlink:href=\\'/assets/images/common/dc-header-20230630032416.svg#icon_plus_small\\' ></svg>\\r\\n        </a></div>\\r\\n      </div>\\r\\n      <div class=\"ymenu-navset__body js-header-globalnav-ymenu-navset-contents\">\\r\\n        <ul>\\r\\n          <li><a href=\"/note/hensyu-techo/\">編集手帳</a></li>\\r\\n          <li><a href=\"/note/yomiuri-sunpyo/\">よみうり寸評</a></li>\\r\\n          <li><a href=\"/column/history/\">「世界と日本」史</a></li>\\r\\n          <li><a href=\"/column/matsurigoto/\">まつりごと点描</a></li>\\r\\n          <li><a href=\"/column/anshin/\">安心コンパス</a></li>\\r\\n          <li><a href=\"/column/japanesehistory/\">今につながる日本史</a></li>\\r\\n          <li><a href=\"/column/japanesejazz/\">日本ジャズの断面</a></li>\\r\\n          <li><a href=\"/column/naruhodo/\">なるほど！医療</a></li>\\r\\n          <li><a href=\"/column/spotlight/\">スポットライト</a></li>\\r\\n          <li><a href=\"/column/chottomae/\"> ちょっと前はどうだっけ？</a></li>\\r\\n          <li><a href=\"/column/henshu/\">編集委員の目</a></li>\\r\\n          <li><a href=\"/column/wideangle/\">広角多角</a></li>\\r\\n          <li><a href=\"/column/opinionpoll/\">「世論」を見る</a></li>\\r\\n          <li><a style=\"text-decoration:underline;\" href=\"/column/\">[もっと見る]</a></li>\\r\\n        </ul>\\r\\n      </div>\\r\\n    </div>\\r\\n    <div class=\"ymenu-navset\">\\r\\n      <div class=\"ymenu-navset__header js-header-globalnav-ymenu-navset-header\">\\r\\n        <div class=\"link\"><a href=\"/special/\">特集<svg><use xlink:href=\"#arrow_r\"/></svg></a></div>\\r\\n        <div class=\"more js-header-globalnav-ymenu-navset-more\"><a>\\r\\n          <svg><use xlink:href=\\'/assets/images/common/dc-header-20230630032416.svg#icon_plus_small\\' ></svg>\\r\\n        </a></div>\\r\\n      </div>\\r\\n      <div class=\"ymenu-navset__body js-header-globalnav-ymenu-navset-contents\">\\r\\n        <ul>\\r\\n          <li><a href=\"/topics/covid19/\">新型コロナ</a></li>\\r\\n          <li><a href=\"/olympic/\">オリンピック</a></li>\\r\\n          <li><a href=\"/kyoiku/kyoiku/stop01/\">#STOP自殺 しんどい君へ</a></li>\\r\\n          <li><a href=\"/koushitsu/\">皇室</a></li>\\r\\n          <li><a href=\"/hakone-ekiden/\">箱根駅伝</a></li>\\r\\n          <li><a href=\"/feature/top10news/\">読者が選ぶ10大ニュース</a></li>\\r\\n          <li><a href=\"/shinsai311/\">東日本大震災</a></li>\\r\\n          <li><a href=\"/feature/titlelist/%E5%A5%B3%E6%80%A7%E5%88%91%E5%8B%99%E6%89%80/\">女性刑務所</a></li>\\r\\n          <li><a href=\"/feature/titlelist/%E8%A8%B1%E3%81%99%E3%81%AA%E3%80%80%E3%82%8F%E3%81%84%E3%81%9B%E3%81%A4%E6%95%99%E5%93%A1/\">許すな わいせつ教員</a></li>\\r\\n          <li><a href=\"/serial/showashi/\">昭和史の天皇</a></li>\\r\\n          <li><a href=\"/topics/\">トピックス</a></li>\\r\\n          <li><a style=\"text-decoration:underline;\" href=\"/special/\">[もっと見る]</a></li>\\r\\n        </ul>\\r\\n      </div>\\r\\n    </div>\\r\\n    <div class=\"ymenu-navset\">\\r\\n      <div class=\"ymenu-navset__header js-header-globalnav-ymenu-navset-header\">\\r\\n        <div class=\"link\"><a href=\"/stream/\">動画<svg><use xlink:href=\"#arrow_r\"/></svg></a></div>\\r\\n        <div class=\"more js-header-globalnav-ymenu-navset-more\"><a>\\r\\n          <svg><use xlink:href=\\'/assets/images/common/dc-header-20230630032416.svg#icon_plus_small\\' ></svg>\\r\\n        </a></div>\\r\\n      </div>\\r\\n      <div class=\"ymenu-navset__body js-header-globalnav-ymenu-navset-contents\">\\r\\n        <ul>\\r\\n          <li><a href=\"/stream/1/\">新着動画</a></li>\\r\\n          <li><a href=\"/stream/2/\">注目動画</a></li>\\r\\n          <li><a href=\"/stream/64/\">バーチャル紀行</a></li>\\r\\n          <li><a href=\"/stream/form/\">動画の投稿</a></li>\\r\\n          <li><a style=\"text-decoration:underline;\" href=\"/stream/\">[もっと見る]</a></li>\\r\\n        </ul>\\r\\n      </div>\\r\\n    </div>\\r\\n    <div class=\"ymenu-navset\">\\r\\n      <div class=\"ymenu-navset__header js-header-globalnav-ymenu-navset-header\">\\r\\n        <div class=\"link\"><a href=\"/photograph/\">写真<svg><use xlink:href=\"#arrow_r\"/></svg></a></div>\\r\\n        <div class=\"more js-header-globalnav-ymenu-navset-more\"><a>\\r\\n          <svg><use xlink:href=\\'/assets/images/common/dc-header-20230630032416.svg#icon_plus_small\\' ></svg>\\r\\n        </a></div>\\r\\n      </div>\\r\\n      <div class=\"ymenu-navset__body js-header-globalnav-ymenu-navset-contents\">\\r\\n        <ul>\\r\\n          <li><a href=\"/photograph/kyoshitsu/\">撮ろうよ！～写真投稿</a></li>\\r\\n          <li><a href=\"/photograph/kataru/\">今日の写真は語る</a></li>\\r\\n          <li><a href=\"/photograph/digital/\">デジタルストーリー</a></li>\\r\\n          <li><a style=\"text-decoration:underline;\" href=\"/photograph/\">[もっと見る]</a></li>\\r\\n        </ul>\\r\\n      </div>\\r\\n    </div>\\r\\n    <div class=\"ymenu-navset\">\\r\\n      <div class=\"ymenu-navset__header js-header-globalnav-ymenu-navset-header\">\\r\\n        <div class=\"link\">読者会員メニュー</div>\\r\\n        <div class=\"more js-header-globalnav-ymenu-navset-more\"><a>\\r\\n          <svg><use xlink:href=\\'/assets/images/common/dc-header-20230630032416.svg#icon_plus_small\\' ></svg>\\r\\n        </a></div>\\r\\n      </div>\\r\\n      <div class=\"ymenu-navset__body js-header-globalnav-ymenu-navset-contents\">\\r\\n        <ul>\\r\\n          <li><a href=\"/member/mynews/\">myニュース</a></li>\\r\\n          <li><a href=\"/member/scrap/\">スクラップ</a></li>\\r\\n          <li><a href=\"/web-search/?st=2\">紙面記事検索</a></li>\\r\\n        </ul>\\r\\n      </div>\\r\\n    </div>\\r\\n    <div class=\"ymenu-navset\">\\r\\n      <div class=\"ymenu-navset__header js-header-globalnav-ymenu-navset-header\">\\r\\n        <div class=\"link\">サービス</div>\\r\\n        <div class=\"more js-header-globalnav-ymenu-navset-more\"><a>\\r\\n          <svg><use xlink:href=\\'/assets/images/common/dc-header-20230630032416.svg#icon_plus_small\\' ></svg>\\r\\n        </a></div>\\r\\n      </div>\\r\\n      <div class=\"ymenu-navset__body js-header-globalnav-ymenu-navset-contents\">\\r\\n        <ul>\\r\\n          <li><a href=\"https://yomipo.yomiuri.co.jp/\">よみぽランド</a></li>\\r\\n          <li><a href=\"/sudoku/\">数独</a></li>\\r\\n          <li><a href=\"/crossword/\">クロスワード</a></li>\\r\\n          <li><a href=\"/slitherlink/\">スリザーリンク</a></li>\\r\\n          <li><a href=\"/feature/titlelist/%E3%82%80%E3%81%9A%E3%82%80%E3%81%9A%E3%83%91%E3%82%BA%E3%83%AB/\">むずむずパズル</a></li>\\r\\n          <li><a href=\"/life/horoscope/\">占い</a></li>\\r\\n          <li><a href=\"/pokemon/\">日刊！ポケモン</a></li>\\r\\n          <li><a href=\"/weather/\">天気</a></li>\\r\\n          <li><a href=\"/market/\">株・為替</a></li>\\r\\n          <li><a href=\"/traffic/\">交通情報</a></li>\\r\\n          <li><a href=\"/coupon/\">おでかけクーポン</a></li>\\r\\n          <li><a href=\"https://artexhibition.jp/\">美術展ナビ</a></li>\\r\\n          <li><a href=\"https://ticket.yomiuri.co.jp/\">チケットストア</a></li>\\r\\n        </ul>\\r\\n      </div>\\r\\n    </div>\\r\\n    <div class=\"ymenu-navset\">\\r\\n      <div class=\"ymenu-navset__header js-header-globalnav-ymenu-navset-header\">\\r\\n        <div class=\"link\"><a href=\"/help/toukou/\">投稿・情報提供<svg><use xlink:href=\"#arrow_r\"/></svg></a></div>\\r\\n        <div class=\"more js-header-globalnav-ymenu-navset-more\"><a>\\r\\n          <svg><use xlink:href=\\'/assets/images/common/dc-header-20230630032416.svg#icon_plus_small\\' ></svg>\\r\\n        </a></div>\\r\\n      </div>\\r\\n      <div class=\"ymenu-navset__body js-header-globalnav-ymenu-navset-contents\">\\r\\n        <ul>\\r\\n          <li><a href=\"https://form.qooker.jp/Q/ja/yomi/kiryu/\">投稿</a></li>\\r\\n          <li><a href=\"/joho/\">情報提供</a></li>\\r\\n        </ul>\\r\\n      </div>\\r\\n    </div>\\r\\n  </div>\\r\\n</div>\\r\\n\\r\\n<div class=\"p-header__globalnav__layout-right\">\\r\\n  <div class=\"ycontents\">\\r\\n    <ul>\\r\\n      <li>\\r\\n        <figure><a href=\"https://yomipo.yomiuri.co.jp/\"><img src=\"/assets/images/header/2021/dc-header_ycontents_yomipo-20230630032416.png\" alt=\"よみぽランド\" loading=\"lazy\" /></a></figure>\\r\\n        <div class=\"name\"><a href=\"https://yomipo.yomiuri.co.jp/\">よみぽランド</a></div>\\r\\n      </li>\\r\\n      <li>\\r\\n        <div class=\"memberonly\">会員限定</div>\\r\\n        <figure><a href=\"/sudoku/\"><img src=\"/media/2023/06/sudoku_icon_202306.png\" alt=\"数独\" loading=\"lazy\"></a></figure>\\r\\n        <div class=\"name\"><a href=\"/sudoku/\">数独</a></div>\\r\\n      </li>\\r\\n      <li>\\r\\n        <div class=\"memberonly\">会員限定</div>\\r\\n        <figure><a href=\"/crossword/\"><img src=\"/media/2023/06/crossword_icon_202306-1.png\" alt=\"クロスワード\" loading=\"lazy\"></a></figure>\\r\\n        <div class=\"name\"><a href=\"/crossword/\">クロスワード</a></div>\\r\\n      </li>\\r\\n      <li>\\r\\n        <div class=\"memberonly\">会員限定</div>\\r\\n        <figure><a href=\"/slitherlink/\"><img src=\"/media/2023/06/slitherlink_icon_202306.png\" alt=\"スリザーリンク\" loading=\"lazy\"></a></figure>\\r\\n        <div class=\"name\"><a href=\"/slitherlink/\">スリザーリンク</a></div>\\r\\n      </li>\\r\\n<li>\\r\\n        <figure><a href=\"/otekomachi/\"><img src=\"/assets/images/header/dc-header_ycontents_otekomachi_v2-20230630032416.png\" alt=\"大手小町\" loading=\"lazy\" /></a></figure>\\r\\n        <div class=\"name\"><a href=\"/otekomachi/\">大手小町</a></div>\\r\\n</li>\\r\\n      <li>\\r\\n        <figure><a href=\"https://komachi.yomiuri.co.jp/\"><img src=\"/assets/images/header/2021/dc-header_ycontents_komachi-20230630032416.png\" alt=\"発言小町\" loading=\"lazy\" /></a></figure>\\r\\n        <div class=\"name\"><a href=\"https://komachi.yomiuri.co.jp/\">発言小町</a></div>\\r\\n      </li>\\r\\n      <li>\\r\\n        <figure><a href=\"https://yomidr.yomiuri.co.jp/\"><img src=\"/assets/images/header/2021/dc-header_ycontents_yomidr-20230630032416.png\" alt=\"ヨミドクター\" loading=\"lazy\" /></a></figure>\\r\\n        <div class=\"name\"><a href=\"https://yomidr.yomiuri.co.jp/\">ヨミドクター</a></div>\\r\\n      </li>\\r\\n      <li>\\r\\n        <div class=\"memberonly\">会員限定</div>\\r\\n        <figure><a href=\"/novel/\"><img src=\"/assets/images/header/2021/dc-header_ycontents_rensai-20230630032416.png\" alt=\"連載小説\" loading=\"lazy\" /></a></figure>\\r\\n        <div class=\"name\"><a href=\"/novel/\">連載小説</a></div>\\r\\n      </li>\\r\\n      <li>\\r\\n        <div class=\"memberonly\">会員限定</div>\\r\\n        <figure><a href=\"/jinsei/\"><img src=\"/assets/images/header/2021/dc-header_ycontents_jinsei-20230630032416.png\" alt=\"人生案内\" loading=\"lazy\" /></a></figure>\\r\\n        <div class=\"name\"><a href=\"/jinsei/\">人生案内</a></div>\\r\\n      </li>\\r\\n      <li>\\r\\n        <div class=\"memberonly\">会員限定</div>\\r\\n        <figure><a href=\"/feature/titlelist/むずむずパズル/\"><img src=\"/assets/images/header/2021/dc-header_ycontents_puzzle-20230630032416.png\" alt=\"むずむずパズル\" loading=\"lazy\" /></a></figure>\\r\\n        <div class=\"name\"><a href=\"/feature/titlelist/むずむずパズル/\">むずむずパズル</a></div>\\r\\n      </li>\\r\\n      <li>\\r\\n        <figure><a href=\"/life/horoscope/\"><img src=\"/assets/images/header/2021/dc-header_ycontents_uranai-20230630032416.png\" alt=\"夢色★占い\" loading=\"lazy\" /></a></figure>\\r\\n        <div class=\"name\"><a href=\"/life/horoscope/\">夢色★占い</a></div>\\r\\n      </li>\\r\\n      <li>\\r\\n        <div class=\"memberonly\">会員限定</div>\\r\\n        <figure><a href=\"/pokemon/\"><img src=\"/assets/images/header/2021/dc-header_ycontents_pokemon-20230630032416.png\" alt=\"日刊ポケモン\" loading=\"lazy\" /></a></figure>\\r\\n        <div class=\"name\"><a href=\"/pokemon/\">日刊ポケモン</a></div>\\r\\n      </li>\\r\\n      <li>\\r\\n        <div class=\"memberonly\">会員限定</div>\\r\\n        <figure><a href=\"/giants/\"><img src=\"/assets/images/header/2021/dc-header_ycontents_giants-20230630032416.png\" alt=\"巨人プレミアム\" loading=\"lazy\" /></a></figure>\\r\\n        <div class=\"name\"><a href=\"/giants/\">巨人プレミアム</a></div>\\r\\n      </li>\\r\\n      <li>\\r\\n        <figure><a href=\"/life/recipe/\"><img src=\"/assets/images/header/2021/dc-header_ycontents_gourmet-20230630032416.png\" alt=\"よみうりグルメ部\" loading=\"lazy\" /></a></figure>\\r\\n        <div class=\"name\"><a href=\"/life/recipe/\">よみうりグルメ部</a></div>\\r\\n      </li>\\r\\n      <li>\\r\\n        <figure><a href=\"/life/podcast/\"><img src=\"/media/2022/07/koko_header_tile.jpg\" alt=\"読売新聞ポッドキャスト\" loading=\"lazy\"></a></figure>\\r\\n        <div class=\"name\"><a href=\"/life/podcast/\">読売新聞ポッドキャスト</a></div>\\r\\n      </li>\\r\\n      <li>\\r\\n        <figure><a href=\"https://artexhibition.jp\"><img src=\"/assets/images/header/2021/dc-header_ycontents_bijutsu-20230630032416.png\" alt=\"美術展ナビ\" loading=\"lazy\" /></a></figure>\\r\\n        <div class=\"name\"><a href=\"https://artexhibition.jp\">美術展ナビ</a></div>\\r\\n      </li>\\r\\n      <li>\\r\\n        <div class=\"memberonly\">会員限定</div>\\r\\n        <figure><a href=\"/coupon/\"><img src=\"/assets/images/header/2021/dc-header_ycontents_coupon-20230630032416.png\" alt=\"お出かけクーポン\" loading=\"lazy\" /></a></figure>\\r\\n        <div class=\"name\"><a href=\"/coupon/\">お出かけクーポン</a></div>\\r\\n      </li>\\r\\n      <li>\\r\\n        <figure><a href=\"https://ticket.yomiuri.co.jp/sf/tkt25/web\"><img src=\"/media/2021/12/tile-ticketstore.jpg\" alt=\"チケットストア\" loading=\"lazy\"></a></figure>\\r\\n        <div class=\"name\"><a href=\"https://ticket.yomiuri.co.jp/sf/tkt25/web\">チケットストア</a></div>\\r\\n      </li>\\r\\n    </ul>\\r\\n  </div>\\r\\n  <div class=\"operationsite\">\\r\\n    <div class=\"contents js-header-globalnav-operationsite\">\\r\\n      <div class=\"title\">読売新聞社の運営するサイト</div>\\r\\n      <ul>\\r\\n        <li><a href=\"https://komachi.yomiuri.co.jp/\" target=\"_blank\">発言小町</a></li>\\r\\n        <li><a href=\"/otekomachi/\" target=\"_blank\">大手小町</a></li>\\r\\n        <li><a href=\"https://yomidr.yomiuri.co.jp/\" target=\"_blank\">ヨミドクター</a></li>\\r\\n        <li><a href=\"https://the-japan-news.com/\" target=\"_blank\">The Japan News</a></li>\\r\\n        <li><a href=\"https://bosai.yomiuri.co.jp/\" target=\"_blank\">防災ニッポン</a></li>\\r\\n        <li><a href=\"https://sasatto.jp/\" target=\"_blank\">ささっとー</a></li>\\r\\n        <li><a href=\"https://yab.yomiuri.co.jp/idomu/?utm_source=yol&utm_medium=referral\" target=\"_blank\">挑むKANSAI</a></li>\\r\\n        <li><a href=\"https://artexhibition.jp/\" target=\"_blank\">美術展ナビ</a></li>\\r\\n        <li><a href=\"https://database.yomiuri.co.jp/\" target=\"_blank\">データベース「ヨミダス」</a></li>\\r\\n        <li><a href=\"https://ideamarket.yomiuri.co.jp/\" target=\"_blank\">idea market</a></li>\\r\\n        <li><a href=\"https://tsumugu.yomiuri.co.jp\" target=\"_blank\">紡ぐプロジェクト</a></li>\\r\\n        <li><a href=\"https://yab.yomiuri.co.jp/project/mirai/\" target=\"_blank\">未来貢献プロジェクト</a></li>\\r\\n        <li><a href=\"https://katsuji.yomiuri.co.jp/\" target=\"_blank\">活字文化プロジェクト</a></li>\\r\\n        <li><a href=\"//genki-nippon.yomiuri.co.jp/\" target=\"_blank\">元気、ニッポン！</a></li>\\r\\n        <li><a href=\"https://kyoiku.yomiuri.co.jp/\" target=\"_blank\">教育ネットワーク</a></li>\\r\\n        <li><a href=\"https://yomiuri-kiko.or.jp/\" target=\"_blank\">読売調査研究機構</a></li>\\r\\n        <li><a href=\"https://www.giants.jp/\" target=\"_blank\">GIANTS公式サイト</a></li>\\r\\n        <li><a href=\"https://tabiyomi.yomiuri-ryokou.co.jp/\" target=\"_blank\">たびよみ</a></li>\\r\\n        <li><a href=\"https://marieclairejapon.com/\" target=\"_blank\">marie claire digital</a></li>\\r\\n        <li><a href=\"https://adv.yomiuri.co.jp/\" target=\"_blank\">読売新聞広告局ポータルサイト</a></li>\\r\\n        <li><a href=\"//brandstudio.jp/\" target=\"_blank\">YOMIURI BRAND STUDIO</a></li>\\r\\n        <li><a href=\"https://retailadconsortium.jp/\" target=\"_blank\">RETAIL AD CONSORTIUM</a></li>\\r\\n      </ul>\\r\\n    </div>\\r\\n    <div class=\"more js-header-globalnav-operationsite-more\"><a>\\r\\n      <svg><use xlink:href=\\'/assets/images/common/dc-header-20230630032416.svg#icon_plus_small\\' ></svg>もっと見る</a></div>\\r\\n  </div>\\r\\n  <div class=\"banner\">\\r\\n    <ul>\\r\\n      <li><a href=\"/kodomo/\"><figure><img src=\"/assets/images/common/dc-2020_footer_bn_kodomo-20230630032416.png\" alt=\"読売KODOMO新聞\" loading=\"lazy\" /><figcaption>読売KODOMO新聞</figcaption></figure></a></li>\\r\\n      <li><a href=\"/teen/\"><figure><img src=\"/assets/images/common/dc-2020_footer_bn_teen-20230630032416.png\" alt=\"読売中高生新聞\" loading=\"lazy\" /><figcaption>読売中高生新聞</figcaption></figure></a></li>\\r\\n      <li><a href=\"https://japannews.yomiuri.co.jp/\"><figure><img src=\"/media/2022/03/dc-2022_footer_bn_japannews.png\" alt=\"The Japan News\" loading=\"lazy\"><figcaption>The Japan News</figcaption></figure></a></li>\\r\\n    </ul>\\r\\n  </div>\\r\\n</div>\\r\\n\\r\\n</div>\\n      </div>\\n    </header>\\n\\n            \\n<div class=\"p-header-notice\" id=\"p-emergency-top\"></div>\\n      \\n  \\n        \\n          <!-- 本番 -->\\r\\n\\r\\n\\r\\n\\r\\n<!-- ▼読売新聞オンライン+YOL表記 -->\\r\\n\\r\\n  <style>\\r\\n    @media (min-width: 800px){\\r\\n      .p-header-2020-logo a {\\r\\n        display: block;\\r\\n        background: url(/media/2021/03/dc-2020_logo_yol2.png) no-repeat;\\r\\n        background-size: 100% 100%;\\r\\n        position:relative;\\r\\n        overflow:hidden;\\r\\n      }\\r\\n      .p-header-2020-logo a img {\\r\\n        position:absolute;\\r\\n        left:0;\\r\\n        top:-100%;\\r\\n      }\\r\\n    }\\r\\n  </style>\\r\\n  <!-- ▲読売新聞オンライン+YOL表記 -->\\r\\n  \\r\\n  <!-- ▼DAZNバナー -->\\r\\n  <style>\\r\\n  li.dazn_banner {\\r\\n    width: auto !important;\\r\\n    margin-right: 0 !important;\\r\\n  }\\r\\n  </style>\\r\\n  <!-- ▲DAZNバナー -->\\r\\n  <style>\\r\\n  @media (max-width: 799px){\\r\\n  .home-2020-prime-info {\\r\\n      margin: 15px 23px 53px !important;\\r\\n      width: 87% !important;\\r\\n      }\\r\\n  .caution_info2021{\\r\\n      line-height: 1.2;\\r\\n      margin-top: 10px;\\r\\n      margin-left: 18px;\\r\\n      }\\r\\n  }\\r\\n  @media (min-width: 1201px){\\r\\n  .home-2020-prime-info {\\r\\n      margin-bottom: 69px !important;\\r\\n  }\\r\\n  }\\r\\n  @media (min-width: 800px) and (max-width: 1119px){\\r\\n  .home-2020-prime-info {\\r\\n      margin: 30px 0px 0px !important;\\r\\n  \\r\\n  }\\r\\n  .caution_info2021{\\r\\n      margin-top: 0px !important;\\r\\n  }\\r\\n  }\\r\\n  @media (min-width: 1120px) and (max-width: 1200px){\\r\\n      .c-hiddenPC{\\r\\n          display:block !important;\\r\\n          margin: 15px auto;\\r\\n      }\\r\\n      .c-hiddenSPTB{\\r\\n          display:none !important;\\r\\n      }\\r\\n  }\\r\\n  </style>\\r\\n  <!--<div class=\"home-2020-prime-info c-hiddenPC\">\\r\\n                    <a href=\"https://www.yomiuri.co.jp/media/2021/12/YOLrenewalSP.pdf\"><svg><use xlink:href=\"#icon_information\"></use></svg>トップページのデザインが変わりました。\\r\\n                           <p class=\"caution_info2021\">数独・人生案内・連載小説・よみぽランドへは、一番上の「読売コンテンツ」ボタンから。</p></a>\\r\\n                </div>-->\\r\\n  <div class=\"home-2021-ad-head-sp\">\\r\\n    <div id=\"ad_dfp_sp_banner\">\\r\\n      <script>googletag.cmd.push(function() {googletag.display(\\'ad_dfp_sp_banner\\'); });</script>\\r\\n    </div>\\r\\n  </div>\\r\\n\\r\\n\\r\\n\\r\\n  \\r\\n  \\r\\n  \\r\\n  \\r\\n  <div class=\"home-2021-primary\">\\r\\n    <div class=\"home-2021-primary__main\">\\r\\n      \\n<div class=\"p-header-notice\" id=\"p-emergency-news-obit\"></div>\\n\\r\\n\\r\\n\\r\\n<!--東日本大震災リンク\\u3000ここから-->\\r\\n<style>\\r\\n    .ukraine-1year__home__link {\\r\\n        display: inline-block;\\r\\n        font-size: 15px;\\r\\n        font-weight: bolder;\\r\\n        color: indigo;\\r\\n        position: relative;\\r\\n        margin: 18px 0 18px 15px;\\r\\n    }\\r\\n    .ukraine-1year__home__link a::after{\\r\\n        content: \"\";\\r\\n        display: block;\\r\\n        width: 8px;\\r\\n        height: 8px;\\r\\n        border-left: 2px solid indigo;\\r\\n        border-top: 2px solid indigo;\\r\\n        margin: 0 auto;\\r\\n        transform: rotate(135deg);\\r\\n        opacity: 1;\\r\\n        position: absolute;\\r\\n        top: 25%;\\r\\n        right: -5%;\\r\\n    }\\r\\n    .ukraine-1year__home__link a:visited {\\r\\n        color: indigo;\\r\\n    }\\r\\n    @media (max-width: 599px){\\r\\n        .ukraine-1year__home__link {\\r\\n            margin: 18px 0 18px 13px;\\r\\n        }\\r\\n    }\\r\\n</style>\\r\\n\\r\\n\\r\\n\\r\\n\\r\\n\\r\\n\\r\\n\\r\\n<!--東日本大震災リンク\\u3000ここまで-->\\r\\n\\r\\n\\r\\n          <div class=\"category-nav\">\\r\\n              <ul class=\"js-2021-home-category-nav\">\\r\\n              <!-- yol-header-under-nav -->\\r\\n<li><a href=\"/news/\">新着</a></li>\\r\\n<li><a href=\"/national/\">社会</a></li>\\r\\n<li class=\"subnav\">\\r\\n  <a href=\"/politics/\">政治</a>\\r\\n  <div class=\"list\">\\r\\n    <ul>\\r\\n      <li><a href=\"/election/\">選挙</a></li>\\r\\n      <li><a href=\"/election/yoron-chosa/\">世論調査</a></li>\\r\\n    </ul>\\r\\n  </div>\\r\\n</li>\\r\\n<li><a href=\"/economy/\">経済</a></li>\\r\\n<li class=\"subnav\">\\r\\n  <a href=\"/sports/\">スポーツ</a>\\r\\n  <div class=\"list\">\\r\\n    <ul>\\r\\n      <li><a href=\"/sports/npb/\">プロ野球</a></li>\\r\\n         <li><a href=\"/giants/\">巨人プレミアム</a></li>\\r\\n      <li><a href=\"/sports/mlb/\">大リーグ</a></li>\\r\\n      <li><a href=\"/sports/koshien/\">高校野球</a></li>\\r\\n      <li><a href=\"/sports/interhigh/\">インターハイ</a></li>\\r\\n      <li><a href=\"/sports/soccer/\">サッカー</a></li>\\r\\n      <li><a href=\"/sports/sumo/\">大相撲</a></li>\\r\\n      <li><a href=\"/sports/golf/\">ゴルフ</a></li>\\r\\n      <li><a href=\"/hakone-ekiden/\">箱根駅伝</a></li>\\r\\n      <li><a href=\"/sports/actionsports/\">アクションスポーツ</a></li>\\r\\n      <li><a style=\"text-decoration:underline;\" href=\"/sports/\">[もっと見る]</a></li>\\r\\n    </ul>\\r\\n  </div>\\r\\n</li>\\r\\n<li><a href=\"/world/\">国際</a></li>\\r\\n<li class=\"subnav\">\\r\\n  <a href=\"/local/member/\">地域</a>\\r\\n  <div class=\"list\">\\r\\n    <div class=\"local\">\\r\\n       <div class=\"local-group\">\\r\\n        <ul>\\r\\n          <li><a href=\"/local/\">地域トップ</a></li>\\r\\n          <li><a href=\"https://pageviewer.yomiuri.co.jp/shimen/login?KPVal=memCh\">各地域版紙面イメージ</a></li>\\r\\n        </ul>\\r\\n      </div>\\r\\n      <div class=\"local-group\">\\r\\n        <div class=\"region\">北海道・東北</div>\\r\\n        <ul>\\r\\n          <li><a href=\"/local/hokkaido/\">北海道</a></li>\\r\\n          <li><a href=\"/local/aomori/\">青森</a></li>\\r\\n          <li><a href=\"/local/iwate/\">岩手</a></li>\\r\\n          <li><a href=\"/local/miyagi/\">宮城</a></li>\\r\\n          <li><a href=\"/local/akita/\">秋田</a></li>\\r\\n          <li><a href=\"/local/yamagata/\">山形</a></li>\\r\\n          <li><a href=\"/local/fukushima/\">福島</a></li>\\r\\n          <li><a href=\"/local/michinoku/\">We Love みちのく</a></li>\\r\\n        </ul>\\r\\n      </div>\\r\\n      <div class=\"local-group\">\\r\\n        <div class=\"region\">関東</div>\\r\\n        <ul>\\r\\n          <li><a href=\"/local/ibaraki/\">茨城</a></li>\\r\\n          <li><a href=\"/local/tochigi/\">栃木</a></li>\\r\\n          <li><a href=\"/local/gunma/\">群馬</a></li>\\r\\n          <li><a href=\"/local/saitama/\">埼玉</a></li>\\r\\n          <li><a href=\"/local/chiba/\">千葉</a></li>\\r\\n          <li><a href=\"/local/tokyo23/\">東京23区</a></li>\\r\\n          <li><a href=\"/local/tokyotama/\">東京多摩</a></li>\\r\\n          <li><a href=\"/local/kanagawa/\">神奈川</a></li>\\r\\n        </ul>\\r\\n      </div>\\r\\n      <div class=\"local-group\">\\r\\n        <div class=\"region\">北陸</div>\\r\\n        <ul>\\r\\n          <li><a href=\"/local/hokuriku/\">北陸発</a></li>\\r\\n          <li><a href=\"/local/toyama/\">富山</a></li>\\r\\n          <li><a href=\"/local/ishikawa/\">石川</a></li>\\r\\n          <li><a href=\"/local/fukui/\">福井</a></li>\\r\\n        </ul>\\r\\n      </div>\\r\\n      <div class=\"local-group\">\\r\\n        <div class=\"region\">甲信越</div>\\r\\n        <ul>\\r\\n          <li><a href=\"/local/yamanashi/\">山梨</a></li>\\r\\n          <li><a href=\"/local/nagano/\">長野</a></li>\\r\\n          <li><a href=\"/local/niigata/\">新潟</a></li>\\r\\n        </ul>\\r\\n      </div>\\r\\n      <div class=\"local-group\">\\r\\n        <div class=\"region\">東海</div>\\r\\n        <ul>\\r\\n          <li><a href=\"/local/chubu/\">中部発</a></li>\\r\\n          <li><a href=\"/local/gifu/\">岐阜</a></li>\\r\\n          <li><a href=\"/local/shizuoka/\">静岡</a></li>\\r\\n          <li><a href=\"/local/aichi/\">愛知</a></li>\\r\\n          <li><a href=\"/local/mie/\">三重</a></li>\\r\\n        </ul>\\r\\n      </div>\\r\\n      <div class=\"local-group\">\\r\\n        <div class=\"region\">近畿</div>\\r\\n        <ul>\\r\\n          <li><a href=\"/local/kansai/\">関西発</a></li>\\r\\n          <li><a href=\"/local/shiga/\">滋賀</a></li>\\r\\n          <li><a href=\"/local/kyoto/\">京都</a></li>\\r\\n          <li><a href=\"/local/osaka/\">大阪</a></li>\\r\\n          <li><a href=\"/local/hyogo/\">兵庫</a></li>\\r\\n          <li><a href=\"/local/nara/\">奈良</a></li>\\r\\n          <li><a href=\"/local/wakayama/\">和歌山</a></li>\\r\\n        </ul>\\r\\n      </div>\\r\\n      <div class=\"local-group\">\\r\\n        <div class=\"region\">中国・四国</div>\\r\\n        <ul>\\r\\n          <li><a href=\"/local/tottori/\">鳥取</a></li>\\r\\n          <li><a href=\"/local/shimane/\">島根</a></li>\\r\\n          <li><a href=\"/local/okayama/\">岡山</a></li>\\r\\n          <li><a href=\"/local/hiroshima/\">広島</a></li>\\r\\n          <li><a href=\"/local/yamaguchi/\">山口</a></li>\\r\\n          <li><a href=\"/local/tokushima/\">徳島</a></li>\\r\\n          <li><a href=\"/local/kagawa/\">香川</a></li>\\r\\n          <li><a href=\"/local/ehime/\">愛媛</a></li>\\r\\n          <li><a href=\"/local/kochi/\">高知</a></li>\\r\\n        </ul>\\r\\n      </div>\\r\\n      <div class=\"local-group\">\\r\\n        <div class=\"region\">九州・沖縄</div>\\r\\n        <ul>\\r\\n          <li><a href=\"/local/kyushu/\">九州発</a></li>\\r\\n          <li><a href=\"/local/fukuoka/\">福岡</a></li>\\r\\n          <li><a href=\"/local/saga/\">佐賀</a></li>\\r\\n          <li><a href=\"/local/nagasaki/\">長崎</a></li>\\r\\n          <li><a href=\"/local/kumamoto/\">熊本</a></li>\\r\\n          <li><a href=\"/local/oita/\">大分</a></li>\\r\\n          <li><a href=\"/local/miyazaki/\">宮崎</a></li>\\r\\n          <li><a href=\"/local/kagoshima/\">鹿児島</a></li>\\r\\n          <li><a href=\"/local/okinawa/\">沖縄</a></li>\\r\\n        </ul>\\r\\n      </div>\\r\\n    </div>\\r\\n  </div>\\r\\n</li>\\r\\n<li><a href=\"/science/\">科学・IT</a></li>\\r\\n<li class=\"subnav\">\\r\\n  <a href=\"/culture/\">エンタメ・文化</a>\\r\\n  <div class=\"list\">\\r\\n    <ul>\\r\\n      <li><a href=\"/culture/tv/\">テレビ</a></li>\\r\\n      <li><a href=\"/culture/cinema/\">映画</a></li>\\r\\n      <li><a href=\"/culture/music/\">音楽</a></li>\\r\\n      <li><a href=\"/culture/stage/\">舞台</a></li>\\r\\n      <li><a href=\"/culture/book/\">本よみうり堂</a></li>\\r\\n      <li><a href=\"/culture/subcul/\">サブカル</a></li>\\r\\n      <li><a href=\"/igoshougi/\">囲碁・将棋</a></li>\\r\\n      <li><a href=\"/novel/\">連載小説</a></li>\\r\\n      <li><a href=\"/comic/\">コボちゃん・漫画</a></li>\\r\\n      <li><a style=\"text-decoration:underline;\" href=\"/culture/\">[もっと見る]</a></li>\\r\\n    </ul>\\r\\n  </div>\\r\\n</li>\\r\\n<li class=\"subnav\">\\r\\n  <a href=\"/life/\">ライフ</a>\\r\\n  <div class=\"list\">\\r\\n    <ul>\\r\\n      <li><a href=\"/life/digilife/\">入門！デジタル部</a></li>\\r\\n      <li><a href=\"/life/singlestyle/\">シングルスタイル</a></li>\\r\\n      <li><a href=\"/life/kosodate/\">子育て</a></li>\\r\\n      <li><a href=\"/jinsei/\">人生案内</a></li>\\r\\n      <li><a href=\"/life/horoscope/\">占い</a></li>\\r\\n      <li><a href=\"/feature/titlelist/こどもの詩/\">こどもの詩</a></li>\\r\\n      <li><a href=\"/hobby/\">趣味</a></li>\\r\\n      <li><a href=\"/hobby/travel/\">旅行</a></li>\\r\\n      <li><a style=\"text-decoration:underline;\" href=\"/life/\">[もっと見る]</a></li>\\r\\n    </ul>\\r\\n  </div>\\r\\n</li>\\r\\n<li class=\"subnav\">\\r\\n  <a href=\"/medical/\">医療・健康</a>\\r\\n  <div class=\"list\">\\r\\n    <ul>\\r\\n      <li><a href=\"/medical/renaissance/\">医療ルネサンス</a></li>\\r\\n      <li><a href=\"/medical/frail/\">＃フレイル予防中！</a></li>\\r\\n      <li><a style=\"text-decoration:underline;\" href=\"/medical/\">[もっと見る]</a></li>\\r\\n    </ul>\\r\\n  </div>\\r\\n</li>\\r\\n<li class=\"subnav\">\\r\\n  <a href=\"/kyoiku/\">教育・就活</a>\\r\\n  <div class=\"list\">\\r\\n    <ul>\\r\\n      <li><a href=\"/kyoiku/kyoiku/\">教育</a></li>\\r\\n      <li><a href=\"/kyoiku/support/\">中学受験サポート</a></li>\\r\\n      <li><a href=\"/kyoiku/syuukatsu/\">就活</a></li>\\r\\n      <li><a style=\"text-decoration:underline;\" href=\"/kyoiku/\">[もっと見る]</a></li>\\r\\n    </ul>\\r\\n  </div>\\r\\n</li>\\r\\n\\r\\n              </ul>\\r\\n          </div>\\r\\n  \\r\\n  \\r\\n  \\r\\n  \\r\\n  \\r\\n\\r\\n  \\r\\n      <div class=\"headline\">\\r\\n              <article>\\n        <div class=\"wrap\">\\n          <h3 class=\"title\"><a href=\"https://www.yomiuri.co.jp/national/20230706-OYT1T50260/\">学校に軽トラで侵入の男「人にわざとぶつけようとした」…クラブ活動中、児童４人はねられる</a></h3>\\n          <time datetime=\"2023-07-06T21:19\"><span class=\"c-list-date--red\">21:19</span></time>          <div class=\"tag\">\\n                        <a href=\"https://www.yomiuri.co.jp/national/\">社会</a>\\n                        \\n            \\n                      </div>\\n                              <p class=\"lead\"><a href=\"https://www.yomiuri.co.jp/national/20230706-OYT1T50260/\">\\u3000６日午後３時頃、宮城県栗原市若柳の市立若柳小学校の敷地に軽トラックが侵入し、児童３人がはねられた。いずれも病院に搬送されたが、命に別条はないという。県警は、運転していた近くの職業不詳、小野寺章仁容疑者（３４）を殺人未遂…</a></p>\\n          \\n<div class=\"p-header-notice\" id=\"p-emergency-notice\"></div>\\n        </div>\\n                <figure>\\n          <a href=\"https://www.yomiuri.co.jp/national/20230706-OYT1T50260/\">\\n            <picture>\\n              <source media=\"(min-width: 768px)\" srcset=\"https://www.yomiuri.co.jp/media/2023/07/20230706-OYT1I50163-T.jpg?type=PCTB_xx-large\">\\n              <source media=\"(min-width: 600px)\" srcset=\"https://www.yomiuri.co.jp/media/2023/07/20230706-OYT1I50163-T.jpg?type=TB_medium\">\\n              <source media=\"(min-width: 320px)\" srcset=\"https://www.yomiuri.co.jp/media/2023/07/20230706-OYT1I50163-T.jpg?type=SP_x-large\">\\n              <img src=\"https://www.yomiuri.co.jp/media/2023/07/20230706-OYT1I50163-T.jpg\" alt=\"\" loading=\"lazy\">\\n            </picture>\\n          </a>\\n        </figure>\\n              </article>\\n\\r\\n        <article>\\n  <div class=\"wrap\">\\n    <h3 class=\"title\"><a href=\"https://www.yomiuri.co.jp/national/20230706-OYT1T50235/\">宮城・栗原市の市立小学校に軽トラック侵入、児童３人はねられ搬送…男を殺人未遂容疑で逮捕</a></h3>\\n    <time datetime=\"2023-07-06T19:19\">19:19</time>\\n            <a class=\"tag\" href=\"https://www.yomiuri.co.jp/national/\">社会</a>\\n      \\n      \\n      \\n      \\n              </div>\\n    <figure>\\n    <a href=\"https://www.yomiuri.co.jp/national/20230706-OYT1T50235/\">\\n      <picture>\\n        <source media=\"(min-width: 768px)\" srcset=\"https://www.yomiuri.co.jp/media/2023/07/20230706-OYT1I50138-T.jpg?type=PCTB_small\">\\n        <source media=\"(min-width: 320px)\" srcset=\"https://www.yomiuri.co.jp/media/2023/07/20230706-OYT1I50138-T.jpg?type=SP_small\">\\n        <img src=\"https://www.yomiuri.co.jp/media/2023/07/20230706-OYT1I50138-T.jpg\" alt=\"\" loading=\"lazy\">\\n      </picture>\\n    </a>\\n  </figure>\\n  </article>\\n<article>\\n  <div class=\"wrap\">\\n    <h3 class=\"title\"><a href=\"https://www.yomiuri.co.jp/national/20230706-OYT1T50245/\">「南部鉄瓶キャップ」で大谷翔平を現地応援…エンゼルスカラーに漢字で「奥州」、「かなり目立つ」</a></h3>\\n    <time datetime=\"2023-07-06T19:52\">19:52</time>\\n            <a class=\"tag\" href=\"https://www.yomiuri.co.jp/national/\">社会</a>\\n      \\n      \\n      \\n                  <a class=\"tag\" href=\"https://www.yomiuri.co.jp/feature/titlelist/ShoheiOhtani/\">大谷翔平</a>\\n            \\n              </div>\\n    <figure>\\n    <a href=\"https://www.yomiuri.co.jp/national/20230706-OYT1T50245/\">\\n      <picture>\\n        <source media=\"(min-width: 768px)\" srcset=\"https://www.yomiuri.co.jp/media/2023/07/20230706-OYT1I50142-T.jpg?type=PCTB_small\">\\n        <source media=\"(min-width: 320px)\" srcset=\"https://www.yomiuri.co.jp/media/2023/07/20230706-OYT1I50142-T.jpg?type=SP_small\">\\n        <img src=\"https://www.yomiuri.co.jp/media/2023/07/20230706-OYT1I50142-T.jpg\" alt=\"\" loading=\"lazy\">\\n      </picture>\\n    </a>\\n  </figure>\\n  </article>\\n<article>\\n  <div class=\"wrap\">\\n    <h3 class=\"title\"><a href=\"https://www.yomiuri.co.jp/world/20230706-OYT1T50248/\">反転攻勢「もっと早く始めたかった」、ゼレンスキー大統領がＦ１６など兵器供与加速を求める</a></h3>\\n    <time datetime=\"2023-07-06T20:15\">20:15</time>\\n            <a class=\"tag\" href=\"https://www.yomiuri.co.jp/world/\">国際</a>\\n      \\n      \\n      \\n                  <a class=\"tag\" href=\"https://www.yomiuri.co.jp/feature/titlelist/ukraine_news/\">ウクライナ情勢</a>\\n            \\n              </div>\\n    <figure>\\n    <a href=\"https://www.yomiuri.co.jp/world/20230706-OYT1T50248/\">\\n      <picture>\\n        <source media=\"(min-width: 768px)\" srcset=\"https://www.yomiuri.co.jp/media/2023/07/20230706-OYT1I50147-T.jpg?type=PCTB_small\">\\n        <source media=\"(min-width: 320px)\" srcset=\"https://www.yomiuri.co.jp/media/2023/07/20230706-OYT1I50147-T.jpg?type=SP_small\">\\n        <img src=\"https://www.yomiuri.co.jp/media/2023/07/20230706-OYT1I50147-T.jpg\" alt=\"\" loading=\"lazy\">\\n      </picture>\\n    </a>\\n  </figure>\\n  </article>\\n<article>\\n  <div class=\"wrap\">\\n    <h3 class=\"title\"><a href=\"https://www.yomiuri.co.jp/world/20230706-OYT1T50234/\">プリゴジン氏がロシアのサンクトペテルブルクに滞在…ベラルーシ大統領が言及</a></h3>\\n    <time datetime=\"2023-07-06T18:00\">18:00</time>\\n            <a class=\"tag\" href=\"https://www.yomiuri.co.jp/world/\">国際</a>\\n      \\n      \\n      \\n                  <a class=\"tag\" href=\"https://www.yomiuri.co.jp/feature/titlelist/ukraine_news/\">ウクライナ情勢</a>\\n            \\n              </div>\\n    <figure>\\n    <a href=\"https://www.yomiuri.co.jp/world/20230706-OYT1T50234/\">\\n      <picture>\\n        <source media=\"(min-width: 768px)\" srcset=\"https://www.yomiuri.co.jp/media/2023/07/20230706-OYT1I50129-T.jpg?type=PCTB_small\">\\n        <source media=\"(min-width: 320px)\" srcset=\"https://www.yomiuri.co.jp/media/2023/07/20230706-OYT1I50129-T.jpg?type=SP_small\">\\n        <img src=\"https://www.yomiuri.co.jp/media/2023/07/20230706-OYT1I50129-T.jpg\" alt=\"\" loading=\"lazy\">\\n      </picture>\\n    </a>\\n  </figure>\\n  </article>\\n<article>\\n  <div class=\"wrap\">\\n    <h3 class=\"title\"><a href=\"https://www.yomiuri.co.jp/world/20230706-OYT1T50241/\">ベラルーシ運輸通信相が急死、死因は不明…昨年１１月にも現職の外相が急死</a></h3>\\n    <time datetime=\"2023-07-06T19:06\">19:06</time>\\n            <a class=\"tag\" href=\"https://www.yomiuri.co.jp/world/\">国際</a>\\n      \\n      \\n      \\n                  <a class=\"tag\" href=\"https://www.yomiuri.co.jp/feature/titlelist/ukraine_news/\">ウクライナ情勢</a>\\n            \\n              </div>\\n    <figure>\\n    <a href=\"https://www.yomiuri.co.jp/world/20230706-OYT1T50241/\">\\n      <picture>\\n        <source media=\"(min-width: 768px)\" srcset=\"https://www.yomiuri.co.jp/media/2023/07/20230706-OYT1I50136-T.jpg?type=PCTB_small\">\\n        <source media=\"(min-width: 320px)\" srcset=\"https://www.yomiuri.co.jp/media/2023/07/20230706-OYT1I50136-T.jpg?type=SP_small\">\\n        <img src=\"https://www.yomiuri.co.jp/media/2023/07/20230706-OYT1I50136-T.jpg\" alt=\"\" loading=\"lazy\">\\n      </picture>\\n    </a>\\n  </figure>\\n  </article>\\n<article>\\n  <div class=\"wrap\">\\n    <h3 class=\"title\"><a href=\"https://www.yomiuri.co.jp/national/20230706-OYT1T50251/\">小田急死傷事件で懲役２０年求刑、対馬悠介被告「検察の話を聞いてその通りだと納得」</a></h3>\\n    <time datetime=\"2023-07-06T20:23\">20:23</time>\\n            <a class=\"tag\" href=\"https://www.yomiuri.co.jp/national/\">社会</a>\\n      \\n      \\n      \\n      \\n              </div>\\n    <figure>\\n    <a href=\"https://www.yomiuri.co.jp/national/20230706-OYT1T50251/\">\\n      <picture>\\n        <source media=\"(min-width: 768px)\" srcset=\"https://www.yomiuri.co.jp/media/2023/07/20230706-OYT1I50155-T.jpg?type=PCTB_small\">\\n        <source media=\"(min-width: 320px)\" srcset=\"https://www.yomiuri.co.jp/media/2023/07/20230706-OYT1I50155-T.jpg?type=SP_small\">\\n        <img src=\"https://www.yomiuri.co.jp/media/2023/07/20230706-OYT1I50155-T.jpg\" alt=\"\" loading=\"lazy\">\\n      </picture>\\n    </a>\\n  </figure>\\n  </article>\\n<article>\\n  <div class=\"wrap\">\\n    <h3 class=\"title\"><a href=\"https://www.yomiuri.co.jp/economy/20230706-OYT1T50262/\">ソフトバンクに行政指導、不適切な携帯電話の値引き販売３０２０件…総務省</a></h3>\\n    <time datetime=\"2023-07-06T22:11\"><span class=\"c-list-date--red\">22:11</span></time>\\n            <a class=\"tag\" href=\"https://www.yomiuri.co.jp/economy/\">経済</a>\\n      \\n      \\n      \\n      \\n              </div>\\n    <figure>\\n    <a href=\"https://www.yomiuri.co.jp/economy/20230706-OYT1T50262/\">\\n      <picture>\\n        <source media=\"(min-width: 768px)\" srcset=\"https://www.yomiuri.co.jp/media/2023/07/20230706-OYT1I50167-T.jpg?type=PCTB_small\">\\n        <source media=\"(min-width: 320px)\" srcset=\"https://www.yomiuri.co.jp/media/2023/07/20230706-OYT1I50167-T.jpg?type=SP_small\">\\n        <img src=\"https://www.yomiuri.co.jp/media/2023/07/20230706-OYT1I50167-T.jpg\" alt=\"\" loading=\"lazy\">\\n      </picture>\\n    </a>\\n  </figure>\\n  </article>\\n<article>\\n  <div class=\"wrap\">\\n    <h3 class=\"title\"><a href=\"https://www.yomiuri.co.jp/culture/music/20230706-OYT1T50254/\">夏まゆみさん死去、６１歳…「ＡＫＢ４８」や「モー娘。」らにダンス指導</a></h3>\\n    <time datetime=\"2023-07-06T20:38\">20:38</time>\\n            <a class=\"tag\" href=\"https://www.yomiuri.co.jp/culture/music/\">音楽</a>\\n      \\n      \\n      \\n                  <a class=\"tag\" href=\"https://www.yomiuri.co.jp/feature/titlelist/obit/\">訃報</a>\\n            \\n              </div>\\n    <figure>\\n    <a href=\"https://www.yomiuri.co.jp/culture/music/20230706-OYT1T50254/\">\\n      <picture>\\n        <source media=\"(min-width: 768px)\" srcset=\"https://www.yomiuri.co.jp/media/2023/07/20230706-OYT1I50164-T.jpg?type=PCTB_small\">\\n        <source media=\"(min-width: 320px)\" srcset=\"https://www.yomiuri.co.jp/media/2023/07/20230706-OYT1I50164-T.jpg?type=SP_small\">\\n        <img src=\"https://www.yomiuri.co.jp/media/2023/07/20230706-OYT1I50164-T.jpg\" alt=\"\" loading=\"lazy\">\\n      </picture>\\n    </a>\\n  </figure>\\n  </article>\\n<article>\\n  <div class=\"wrap\">\\n    <h3 class=\"title\"><a href=\"https://www.yomiuri.co.jp/national/20230706-OYT1T50209/\">「やまゆり園事件」題材に舞台…劇作家・詩森ろばさん「背景、一緒に考えたい」</a></h3>\\n    <time datetime=\"2023-07-06T15:27\">15:27</time>\\n            <a class=\"tag\" href=\"https://www.yomiuri.co.jp/national/\">社会</a>\\n      \\n      \\n      \\n      \\n                        <svg class=\"icon\" data-icon-type=\"unlocked\"><use xlink:href=\"#icon_2021_locked\"></use></svg>\\n                    </div>\\n    <figure>\\n    <a href=\"https://www.yomiuri.co.jp/national/20230706-OYT1T50209/\">\\n      <picture>\\n        <source media=\"(min-width: 768px)\" srcset=\"https://www.yomiuri.co.jp/media/2023/07/20230706-OYT1I50110-T.jpg?type=PCTB_small\">\\n        <source media=\"(min-width: 320px)\" srcset=\"https://www.yomiuri.co.jp/media/2023/07/20230706-OYT1I50110-T.jpg?type=SP_small\">\\n        <img src=\"https://www.yomiuri.co.jp/media/2023/07/20230706-OYT1I50110-T.jpg\" alt=\"\" loading=\"lazy\">\\n      </picture>\\n    </a>\\n  </figure>\\n  </article>\\n\\r\\n      <article>\\r\\n        <div class=\"wrap\">\\r\\n          <h3 class=\"title\"><a href=\"/slitherlink/\">「よみぽ」１００ポイントが１００人に当たる懸賞付き問題を出題中！</a></h3>\\r\\n          <!--<time datetime=\"2021-11-22T07:41\">07:41</time>-->\\r\\n          <a class=\"tag\" href=\"/slitherlink/\">新パズル「スリザーリンク」</a>\\r\\n          <!--<a class=\"tag\" href=\"test\">タグ</a>-->\\r\\n        </div>\\r\\n        <figure>\\r\\n          <a href=\"/slitherlink/\">\\r\\n            <picture>\\r\\n              <source media=\"(min-width: 768px)\" srcset=\"/media/2023/03/slitherlink_premium_bnr.jpg\"><!-- PCTB fastly:180x120px ※要コメント削除 -->\\r\\n              <source media=\"(min-width: 320px)\" srcset=\"/media/2023/03/slitherlink_premium_bnr.jpg\"><!-- SP fastly:200x150px  ※要コメント削除 -->\\r\\n              <img src=\"/media/2023/03/slitherlink_premium_bnr.jpg\" alt=\"\" loading=\"lazy\"><!-- ie11 PCで使ってるサイズを当てる\\u3000※要コメント削除 -->\\r\\n            </picture>\\r\\n          </a>\\r\\n        </figure>\\r\\n      </article>\\r\\n        <article class=\"ad\">\\r\\n          <div id=\"ad_dfp_top-infeed1\">\\r\\n          <script>\\r\\n          googletag.cmd.push(function() {googletag.display(\\'ad_dfp_top-infeed1\\'); });\\r\\n          </script>\\r\\n          </div>\\r\\n          </article>\\r\\n          <article class=\"ad\">\\r\\n          <div id=\"ad_dfp_top-infeed2\">\\r\\n          <script>\\r\\n          googletag.cmd.push(function() {googletag.display(\\'ad_dfp_top-infeed2\\'); });\\r\\n          </script>\\r\\n          </div>\\r\\n        </article>\\r\\n        <div class=\"more\"><a href=\"/news/\">もっと見る<svg><use xlink:href=\"#arrow_r\"></use></svg></a></div>\\r\\n      </div>\\r\\n\\r\\n\\r\\n\\r\\n\\r\\n\\r\\n\\r\\n\\r\\n\\r\\n<!-- WBC\\u3000ウィジェット用枠 ▲▲▲▲▲ -->\\r\\n      <div class=\"pickup\">\\r\\n        <div class=\"pickup-primary\">\\n  <article>\\n          <h2>動画</h2>\\n    <figure>\\n            <a href=\"https://www.yomiuri.co.jp/stream/1/21713/\">        <picture>\\n          <source media=\"(min-width: 768px)\" srcset=\"/images/osusume/yol_top_movie/20230706_ZPXbPD.jpg?type=PCTB_x-large\">\\n          <source media=\"(min-width: 320px)\" srcset=\"/images/osusume/yol_top_movie/20230706_ZPXbPD.jpg?type=SP_x-large\">\\n          <img src=\"/images/osusume/yol_top_movie/20230706_ZPXbPD.jpg\" alt=\"\" loading=\"lazy\">\\n        </picture>\\n      </a>          </figure>\\n    <div class=\"wrap\">\\n            <h3 class=\"title\"><a href=\"https://www.yomiuri.co.jp/stream/1/21713/\">春日神社、２度の大地震乗り越えて鳥居再建…石川</a></h3>\\n      <p class=\"lead\"><a href=\"https://www.yomiuri.co.jp/stream/1/21713/\">昨年６月に石川県珠洲（すず）市で震度６弱を観測した地震によって、鳥居が倒壊した春日神社（同市飯田町）で６日、２度の大地震を乗り越え、新しい鳥居が再建された。</a></p>\\n          </div>\\n      </article>\\n</div>\\n\\r\\n        <div class=\"pickup-secondary\">\\r\\n          <article>\\r\\n            <figure>\\r\\n              <a href=\"https://www.yomiuri.co.jp/national/20230324-OYT1T50144/\">\\r\\n                <picture>\\r\\n                  <source media=\"(min-width: 768px)\" srcset=\"/media/2023/04/sueoki_premium_bnr.jpg\">\\r\\n                  <source media=\"(min-width: 320px)\" srcset=\"/media/2023/04/sueoki_premium_bnr.jpg\">\\r\\n                  <img src=\"/media/2023/04/sueoki_premium_bnr.jpg\" alt=\"\" loading=\"lazy\">\\r\\n                </picture>\\r\\n              </a>\\r\\n            </figure>\\r\\n            <div class=\"wrap\">\\r\\n              <h3 class=\"title\"><a href=\"https://www.yomiuri.co.jp/national/20230324-OYT1T50144/\">読売新聞は値上げしません…少なくとも１年間</a></h3>\\r\\n            </div>\\r\\n          </article>\\r\\n          <article class=\"ad\">\\r\\n            <div id=\"ad_dfp_premium-tile\">\\r\\n              <script>googletag.cmd.push(function () { googletag.display(\\'ad_dfp_premium-tile\\'); });</script>\\r\\n            </div>\\r\\n          </article>\\r\\n        </div>\\r\\n      </div>\\r\\n      <div class=\"ad-recommend\">\\r\\n        <div id=\"ad_dfp_news-txt1\"><script>googletag.cmd.push(function () { googletag.display(\\'ad_dfp_news-txt1\\'); });</script></div>\\r\\n        <div id=\"ad_dfp_news-txt2\"><script>googletag.cmd.push(function () { googletag.display(\\'ad_dfp_news-txt2\\'); });</script></div>\\r\\n        <div id=\"ad_dfp_news-txt3\"><script>googletag.cmd.push(function () { googletag.display(\\'ad_dfp_news-txt3\\'); });</script></div>\\r\\n        <div id=\"ad_dfp_news-txt4\"><script>googletag.cmd.push(function () { googletag.display(\\'ad_dfp_news-txt4\\'); });</script></div>\\r\\n      </div>\\r\\n            \\r\\n      </div>\\r\\n      <div class=\"home-2021-primary__side\">\\r\\n        <!--<div class=\"home-2020-prime-info c-hiddenSPTB\">\\r\\n                    <a href=\"https://www.yomiuri.co.jp/media/2021/12/YOLrenewal.pdf\"><svg><use xlink:href=\"#icon_information\"></use></svg>トップページデザインが変わりました</a>\\r\\n                    <p style=\"font-size: 0.75em; margin-top: 10px; margin-left: 11px;\">数独・人生案内・連載小説・よみぽランドへは、一番上の「読売コンテンツ」ボタンから。</p>\\r\\n                </div>-->\\r\\n        <div class=\"services\">\\r\\n          <a href=\"/weather/\"><svg><use xlink:href=\"#icon_2021_weather\"/></svg>天気</a>\\r\\n          <a href=\"/traffic/\"><svg><use xlink:href=\"#icon_2021_traffics\"/></svg>交通情報</a>\\r\\n          <a href=\"/market/\"><svg><use xlink:href=\"#icon_2021_economy\"/></svg>株・為替</a>\\r\\n        </div>\\r\\n\\r\\n\\r\\n\\r\\n\\r\\n\\r\\n\\r\\n        <section class=\"latestnews\">\\n  <h2><a href=\"/news/\">新着ニュース<svg><use xlink:href=\"#arrow_r\"></use></svg></a></h2>\\n  <div class=\"articles\">\\n        <article>\\n      <div class=\"c-list-date\"><time datetime=\"2023-07-06T22:11\"><span class=\"c-list-date--red\">22:11</span></time></div>\\n      <h3><a href=\"https://www.yomiuri.co.jp/economy/20230706-OYT1T50262/\">ソフトバンクに行政指導、不適切な携帯電話の値引き販売３０２０件…総務省</a></h3>\\n    </article>\\n        <article>\\n      <div class=\"c-list-date\"><time datetime=\"2023-07-06T22:09\"><span class=\"c-list-date--red\">22:09</span></time></div>\\n      <h3><a href=\"https://www.yomiuri.co.jp/national/20230706-OYT1T50231/\">アレフ信者４人が大声あげ検査妨害…公安庁が大阪府警に刑事告発</a></h3>\\n    </article>\\n        <article>\\n      <div class=\"c-list-date\"><time datetime=\"2023-07-06T21:51\"><span class=\"c-list-date--red\">21:51</span></time></div>\\n      <h3><a href=\"https://www.yomiuri.co.jp/national/20230706-OYT1T50224/\">大麻取締法違反で永山絢斗容疑者を起訴…６月に自宅で乾燥大麻所持</a></h3>\\n    </article>\\n        <article>\\n      <div class=\"c-list-date\"><time datetime=\"2023-07-06T21:19\"><span class=\"c-list-date--red\">21:19</span></time></div>\\n      <h3><a href=\"https://www.yomiuri.co.jp/national/20230706-OYT1T50260/\">学校に軽トラで侵入の男「人にわざとぶつけようとした」…クラブ活動中、児童４人はねられる</a></h3>\\n    </article>\\n        <article>\\n      <div class=\"c-list-date\"><time datetime=\"2023-07-06T21:00\">21:00</time></div>\\n      <h3><a href=\"https://www.yomiuri.co.jp/life/horoscope/20230628-OYT8T50126/\">７月７日の運勢\\u3000おひつじ座は行事に積極的に参加して\\u3000やぎ座はただ行動あるのみ</a></h3>\\n    </article>\\n        <article>\\n      <div class=\"c-list-date\"><time datetime=\"2023-07-06T20:50\">20:50</time></div>\\n      <h3><a href=\"https://www.yomiuri.co.jp/sports/soccer/worldcup/20230706-OYT1T50256/\">なでしこジャパンが壮行会、主将の熊谷「世界で戦えることを証明したい」</a></h3>\\n    </article>\\n        <article>\\n      <div class=\"c-list-date\"><time datetime=\"2023-07-06T20:38\">20:38</time></div>\\n      <h3><a href=\"https://www.yomiuri.co.jp/culture/music/20230706-OYT1T50254/\">夏まゆみさん死去、６１歳…「ＡＫＢ４８」や「モー娘。」らにダンス指導</a></h3>\\n    </article>\\n        <article>\\n      <div class=\"c-list-date\"><time datetime=\"2023-07-06T20:32\">20:32</time></div>\\n      <h3><a href=\"https://www.yomiuri.co.jp/science/20230706-OYT1T50247/\">月面で土木作業する試作ロボットを公開…東大など研究チーム、離着陸拠点の整備を想定</a></h3>\\n    </article>\\n        <article>\\n      <div class=\"c-list-date\"><time datetime=\"2023-07-06T20:23\">20:23</time></div>\\n      <h3><a href=\"https://www.yomiuri.co.jp/national/20230706-OYT1T50251/\">小田急死傷事件で懲役２０年求刑、対馬悠介被告「検察の話を聞いてその通りだと納得」</a></h3>\\n    </article>\\n        <article>\\n      <div class=\"c-list-date\"><time datetime=\"2023-07-06T20:15\">20:15</time></div>\\n      <h3><a href=\"https://www.yomiuri.co.jp/world/20230706-OYT1T50248/\">反転攻勢「もっと早く始めたかった」、ゼレンスキー大統領がＦ１６など兵器供与加速を求める</a></h3>\\n    </article>\\n      </div>\\n</section> \\r\\n  \\r\\n        <div id=\"ad_dfp_rec1\" class=\"ad\">\\r\\n          <script>googletag.cmd.push(function () { googletag.display(\\'ad_dfp_rec1\\'); });</script>\\r\\n        </div>\\r\\n        <div class=\"notification\">\\n\\t<h2><svg><use xlink:href=\"#icon_information\"></use></svg>読売新聞オンラインからのお知らせ</h2>\\n\\t<ul>\\n    \\t\\t<li>\\n      <h3><a href=\"https://www.yomiuri.co.jp/topics/20230222-SYT8T3843061/\" >偽のサイト、メールにご注意ください</a></h3>\\n      \\t\\t</li>\\n    \\t\\t<li>\\n      <h3><a href=\"https://www.yomiuri.co.jp/joho\" >社会部への情報提供はこちら</a></h3>\\n            <a class=\"tag\" href=\"https://www.yomiuri.co.jp/joho\" >皆様からの情報をお待ちしています</a>\\n      \\t\\t</li>\\n    \\t\\t<li>\\n      <h3><a href=\"https://www.yomiuri.co.jp/sports/koshien/summer/20230523-SYT8T4166609/\" >【随時更新】夏の甲子園\\u3000地方大会の組み合わせ</a></h3>\\n            <a class=\"tag\" href=\"https://www.yomiuri.co.jp/sports/koshien/summer/20230523-SYT8T4166609/\" >全国への切符をつかむのはどの高校か</a>\\n      \\t\\t</li>\\n    \\t\\t<li>\\n      <h3><a href=\"https://www.yomiuri.co.jp/help/handling/#130\" >読んだマークが表示されます\\u30006ページでポイント</a></h3>\\n            <a class=\"tag\" href=\"https://www.yomiuri.co.jp/help/handling/#130\" >読んだらポイントマラソン</a>\\n      \\t\\t</li>\\n    \\t\\t<li>\\n      <h3><a href=\"https://www.yomiuri.co.jp/culture/20230125-OYT1T50177/\" >「英語力」「時事力」まとめて味方に</a></h3>\\n            <a class=\"tag\" href=\"https://www.yomiuri.co.jp/culture/20230125-OYT1T50177/\" >電子書籍\\u3000社説で学ぶ時事英語</a>\\n      \\t\\t</li>\\n    \\t\\t<li>\\n      <h3><a href=\"https://www.yomiuri.co.jp/asaichi/\" target=\"_blank\">人生案内、編集手帳、連載小説</a></h3>\\n            <a class=\"tag\" href=\"https://www.yomiuri.co.jp/asaichi/\" target=\"_blank\">朝イチおすすめコーナーはこちらへ</a>\\n      \\t\\t</li>\\n    \\t\\t<li>\\n      <h3><a href=\"https://www.yomiuri.co.jp/life/horoscope/\" target=\"_blank\">あなたの運気を診断！\\u3000夢色☆占い</a></h3>\\n            <a class=\"tag\" href=\"https://www.yomiuri.co.jp/life/horoscope/\" target=\"_blank\">翌日の占いは午後９時アップです</a>\\n      \\t\\t</li>\\n    \\t\\t<li>\\n      <h3><a href=\"https://434381.yomiuri.co.jp/campaign/shukatsu/?from=yoltop\" target=\"_blank\">就活のプロに聞く\\u3000新聞は内定への近道</a></h3>\\n      \\t\\t</li>\\n    \\t\\t<li>\\n      <h3><a href=\"https://database.yomiuri.co.jp/about/kensaku/?utm_source=rgprsn&utm_medium=yltp&utm_campaign=migi2305\" target=\"_blank\">明治～令和、読売新聞150年の記事を検索</a></h3>\\n            <a class=\"tag\" href=\"https://database.yomiuri.co.jp/about/kensaku/?utm_source=rgprsn&utm_medium=yltp&utm_campaign=migi2305\" target=\"_blank\">個人向け「ヨミダス」月額330円から！</a>\\n      \\t\\t</li>\\n    \\t\\t<li>\\n      <h3><a href=\"https://www.yomiuri.co.jp/help/toukou/?utm_source=ysol&utm_medium=sideText\" >投稿・情報提供の窓口一覧はこちら</a></h3>\\n            <a class=\"tag\" href=\"https://www.yomiuri.co.jp/help/toukou/?utm_source=ysol&utm_medium=sideText\" >読売新聞への投稿、情報や写真・動画の提供先をご紹介しています</a>\\n      \\t\\t</li>\\n    \\t</ul>\\n</div>\\n\\r\\n        <div class=\"ranking\">\\r\\n          <div class=\"p-contents-ranking-2020\" id=\"sidebar_ranking_access\">\\r\\n            <input type=\"hidden\" id=\"ajax_ranking_parameter\" value=\"count,3\" />\\r\\n          </div>\\r\\n        </div>\\r\\n      </div>\\r\\n  </div>\\r\\n  <section class=\"home-2021-pickup\">\\r\\n    <h2 class=\"home-2021-pickup__title\">ピックアップ</h2>\\r\\n      <div class=\"home-2021-pickup__list\">\\r\\n          <article>\\n    <figure>\\n                      <a href=\"https://www.yomiuri.co.jp/column/japanesehistory/20230703-OYT8T50142/\">\\n                  <picture>\\n            <source media=\"(min-width: 768px)\" srcset=\"/images/osusume/yol_top_tile/20230705_7HOsqf.jpg?type=PCTB_large\">\\n            <source media=\"(min-width: 600px)\" srcset=\"/images/osusume/yol_top_tile/20230705_7HOsqf.jpg?type=TB_small\">\\n            <source media=\"(min-width: 320px)\" srcset=\"/images/osusume/yol_top_tile/20230705_7HOsqf.jpg?type=SP_large\">\\n            <img src=\"/images/osusume/yol_top_tile/20230705_7HOsqf.jpg\" alt=\"\" loading=\"lazy\">\\n          </picture>\\n                </a>\\n                  </figure>\\n    <h3>\\n            <a href=\"https://www.yomiuri.co.jp/column/japanesehistory/20230703-OYT8T50142/\">\\n              「どうする家康」は甲冑にも注目…きらびやかな装飾に込められた徳川四天王と戦国三英傑の思い            </a>\\n          </h3>\\n    <p>\\n            <a href=\"https://www.yomiuri.co.jp/column/japanesehistory/20230703-OYT8T50142/\">\\n              今につながる日本史\\u3000丸山淳一            </a>\\n                </p>\\n  </article>\\n  <article>\\n    <figure>\\n                      <a href=\"https://www.yomiuri.co.jp/column/spotlight/20230704-OYT8T50075/\">\\n                  <picture>\\n            <source media=\"(min-width: 768px)\" srcset=\"/images/osusume/yol_top_tile/20230705_6Fyaoq.jpg?type=PCTB_large\">\\n            <source media=\"(min-width: 600px)\" srcset=\"/images/osusume/yol_top_tile/20230705_6Fyaoq.jpg?type=TB_small\">\\n            <source media=\"(min-width: 320px)\" srcset=\"/images/osusume/yol_top_tile/20230705_6Fyaoq.jpg?type=SP_large\">\\n            <img src=\"/images/osusume/yol_top_tile/20230705_6Fyaoq.jpg\" alt=\"\" loading=\"lazy\">\\n          </picture>\\n                </a>\\n                  </figure>\\n    <h3>\\n            <a href=\"https://www.yomiuri.co.jp/column/spotlight/20230704-OYT8T50075/\">\\n              「給料なし\\u3000週５日バイト」も…激リアル動画で注目、谷桃子バレエ団の目指すこと            </a>\\n          </h3>\\n    <p>\\n            <a href=\"https://www.yomiuri.co.jp/column/spotlight/20230704-OYT8T50075/\">\\n              スポットライト\\u3000編集委員\\u3000祐成秀樹            </a>\\n                </p>\\n  </article>\\n  <article>\\n    <figure>\\n                      <a href=\"https://www.yomiuri.co.jp/culture/cinema/20230705-OYT1T50111/\">\\n                  <picture>\\n            <source media=\"(min-width: 768px)\" srcset=\"/images/osusume/yol_top_tile/20230706_33pZEK.jpg?type=PCTB_large\">\\n            <source media=\"(min-width: 600px)\" srcset=\"/images/osusume/yol_top_tile/20230706_33pZEK.jpg?type=TB_small\">\\n            <source media=\"(min-width: 320px)\" srcset=\"/images/osusume/yol_top_tile/20230706_33pZEK.jpg?type=SP_large\">\\n            <img src=\"/images/osusume/yol_top_tile/20230706_33pZEK.jpg\" alt=\"\" loading=\"lazy\">\\n          </picture>\\n                </a>\\n                  </figure>\\n    <h3>\\n            <a href=\"https://www.yomiuri.co.jp/culture/cinema/20230705-OYT1T50111/\">\\n              喋らない清原果耶、緻密な計算で「近寄りがたい印象」を捨てたラブストーリー…映画「１秒先の彼」            </a>\\n          </h3>\\n    <p>\\n            <a href=\"https://www.yomiuri.co.jp/culture/cinema/20230705-OYT1T50111/\">\\n              エンタメ・文化\\u3000映画            </a>\\n                </p>\\n  </article>\\n  <article>\\n    <figure>\\n                      <a href=\"https://www.yomiuri.co.jp/otekomachi/20230619-OYT8T50043/?utm_source=yomiuri&utm_medium=yol&utm_campaign=yoltop_otekomachi\">\\n                  <picture>\\n            <source media=\"(min-width: 768px)\" srcset=\"/images/osusume/yol_top_tile/20230706_CW5fFo.jpg?type=PCTB_large\">\\n            <source media=\"(min-width: 600px)\" srcset=\"/images/osusume/yol_top_tile/20230706_CW5fFo.jpg?type=TB_small\">\\n            <source media=\"(min-width: 320px)\" srcset=\"/images/osusume/yol_top_tile/20230706_CW5fFo.jpg?type=SP_large\">\\n            <img src=\"/images/osusume/yol_top_tile/20230706_CW5fFo.jpg\" alt=\"\" loading=\"lazy\">\\n          </picture>\\n                </a>\\n                  </figure>\\n    <h3>\\n            <a href=\"https://www.yomiuri.co.jp/otekomachi/20230619-OYT8T50043/?utm_source=yomiuri&utm_medium=yol&utm_campaign=yoltop_otekomachi\">\\n              【お悩み相談】主人、旦那はイヤ…パートナーの呼び方にモヤモヤ            </a>\\n          </h3>\\n    <p>\\n            <a href=\"https://www.yomiuri.co.jp/otekomachi/20230619-OYT8T50043/?utm_source=yomiuri&utm_medium=yol&utm_campaign=yoltop_otekomachi\">\\n              大手小町\\u3000お悩みアドバイザー・山崎ケイ            </a>\\n                </p>\\n  </article>\\n  <article>\\n    <figure>\\n                      <a href=\"https://www.yomiuri.co.jp/fukayomi/toyokeizai/20230705-SYT8T4313992/\">\\n                  <picture>\\n            <source media=\"(min-width: 768px)\" srcset=\"/images/osusume/yol_top_tile/20230706_JhMBWW.jpg?type=PCTB_large\">\\n            <source media=\"(min-width: 600px)\" srcset=\"/images/osusume/yol_top_tile/20230706_JhMBWW.jpg?type=TB_small\">\\n            <source media=\"(min-width: 320px)\" srcset=\"/images/osusume/yol_top_tile/20230706_JhMBWW.jpg?type=SP_large\">\\n            <img src=\"/images/osusume/yol_top_tile/20230706_JhMBWW.jpg\" alt=\"\" loading=\"lazy\">\\n          </picture>\\n                </a>\\n                  </figure>\\n    <h3>\\n            <a href=\"https://www.yomiuri.co.jp/fukayomi/toyokeizai/20230705-SYT8T4313992/\">\\n              駅のない南アルプス市が東京から人を呼び込む訳            </a>\\n          </h3>\\n    <p>\\n            <a href=\"https://www.yomiuri.co.jp/fukayomi/toyokeizai/20230705-SYT8T4313992/\">\\n              東洋経済オンラインから            </a>\\n                </p>\\n  </article>\\n  <article>\\n    <figure>\\n                      <a href=\"https://www.yomiuri.co.jp/life/recipe/20230628-SYT8T4296419/\">\\n                  <picture>\\n            <source media=\"(min-width: 768px)\" srcset=\"/images/osusume/yol_top_tile/20230706_nYSFoT.jpg?type=PCTB_large\">\\n            <source media=\"(min-width: 600px)\" srcset=\"/images/osusume/yol_top_tile/20230706_nYSFoT.jpg?type=TB_small\">\\n            <source media=\"(min-width: 320px)\" srcset=\"/images/osusume/yol_top_tile/20230706_nYSFoT.jpg?type=SP_large\">\\n            <img src=\"/images/osusume/yol_top_tile/20230706_nYSFoT.jpg\" alt=\"\" loading=\"lazy\">\\n          </picture>\\n                </a>\\n                  </figure>\\n    <h3>\\n            <a href=\"https://www.yomiuri.co.jp/life/recipe/20230628-SYT8T4296419/\">\\n              蒸し暑く食欲が落ちる時期、まろやかな酸味でコクのある黒酢の料理…「ササミの黒酢南蛮漬け」            </a>\\n          </h3>\\n    <p>\\n            <a href=\"https://www.yomiuri.co.jp/life/recipe/20230628-SYT8T4296419/\">\\n              よみうりグルメ部\\u3000〈食\\u3000発酵ゴハン〉            </a>\\n                                          <svg class=\"home-2020-headline__svg1\"><use xlink:href=\"#icon_locked\"/></svg>\\n                    </p>\\n  </article>\\n  <article>\\n    <figure>\\n                      <a href=\"https://www.yomiuri.co.jp/politics/20230705-OYT1T50249/\">\\n                  <picture>\\n            <source media=\"(min-width: 768px)\" srcset=\"/images/osusume/yol_top_tile/20230706_tv0qie.jpg?type=PCTB_large\">\\n            <source media=\"(min-width: 600px)\" srcset=\"/images/osusume/yol_top_tile/20230706_tv0qie.jpg?type=TB_small\">\\n            <source media=\"(min-width: 320px)\" srcset=\"/images/osusume/yol_top_tile/20230706_tv0qie.jpg?type=SP_large\">\\n            <img src=\"/images/osusume/yol_top_tile/20230706_tv0qie.jpg\" alt=\"\" loading=\"lazy\">\\n          </picture>\\n                </a>\\n                  </figure>\\n    <h3>\\n            <a href=\"https://www.yomiuri.co.jp/politics/20230705-OYT1T50249/\">\\n              マイナ保険証\\u3000政府は一体化期限を維持…衆院閉会中審査\\u3000野党から批判相次ぐ「一番の障害は河野氏」            </a>\\n          </h3>\\n    <p>\\n            <a href=\"https://www.yomiuri.co.jp/politics/20230705-OYT1T50249/\">\\n              スキャナー            </a>\\n                                          <svg class=\"home-2020-headline__svg1\"><use xlink:href=\"#icon_locked\"/></svg>\\n                    </p>\\n  </article>\\n  <article>\\n    <figure>\\n                      <a href=\"https://www.yomiuri.co.jp/national/20230706-OYT1T50082/\">\\n                  <picture>\\n            <source media=\"(min-width: 768px)\" srcset=\"/images/osusume/yol_top_tile/20230706_iFiUmW.jpg?type=PCTB_large\">\\n            <source media=\"(min-width: 600px)\" srcset=\"/images/osusume/yol_top_tile/20230706_iFiUmW.jpg?type=TB_small\">\\n            <source media=\"(min-width: 320px)\" srcset=\"/images/osusume/yol_top_tile/20230706_iFiUmW.jpg?type=SP_large\">\\n            <img src=\"/images/osusume/yol_top_tile/20230706_iFiUmW.jpg\" alt=\"\" loading=\"lazy\">\\n          </picture>\\n                </a>\\n                  </figure>\\n    <h3>\\n            <a href=\"https://www.yomiuri.co.jp/national/20230706-OYT1T50082/\">\\n              安倍元首相銃撃、ネットで英雄視くすぶり「暴力の連鎖」へ…宗教虐待の対策は道半ば            </a>\\n          </h3>\\n    <p>\\n            <a href=\"https://www.yomiuri.co.jp/national/20230706-OYT1T50082/\">\\n              安倍元首相\\u3000銃撃１年＜上＞            </a>\\n                </p>\\n  </article>\\n  <article>\\n    <figure>\\n                      <a href=\"https://www.yomiuri.co.jp/local/hiroshima/news/20230705-OYTNT50243/\">\\n                  <picture>\\n            <source media=\"(min-width: 768px)\" srcset=\"/images/osusume/yol_top_tile/20230706_xnUIrU.jpg?type=PCTB_large\">\\n            <source media=\"(min-width: 600px)\" srcset=\"/images/osusume/yol_top_tile/20230706_xnUIrU.jpg?type=TB_small\">\\n            <source media=\"(min-width: 320px)\" srcset=\"/images/osusume/yol_top_tile/20230706_xnUIrU.jpg?type=SP_large\">\\n            <img src=\"/images/osusume/yol_top_tile/20230706_xnUIrU.jpg\" alt=\"\" loading=\"lazy\">\\n          </picture>\\n                </a>\\n                  </figure>\\n    <h3>\\n            <a href=\"https://www.yomiuri.co.jp/local/hiroshima/news/20230705-OYTNT50243/\">\\n              ＜広島・豪雨\\u3000５年＞夫の生きた証し\\u3000伝えたい…野球大好き\\u3000仲間思い            </a>\\n          </h3>\\n    <p>\\n            <a href=\"https://www.yomiuri.co.jp/feature/titlelist/%E8%A5%BF%E6%97%A5%E6%9C%AC%E8%B1%AA%E9%9B%A8%EF%BC%95%E5%B9%B4/\">\\n               西日本豪雨５年            </a>\\n                </p>\\n  </article>\\n  <article>\\n    <figure>\\n                      <a href=\"https://www.yomiuri.co.jp/otekomachi/20230629-OYT8T50006/?utm_source=yomiuri&utm_medium=yol&utm_campaign=yoltop_otekomachi\">\\n                  <picture>\\n            <source media=\"(min-width: 768px)\" srcset=\"/images/osusume/yol_top_tile/20230706_zuaIXb.jpg?type=PCTB_large\">\\n            <source media=\"(min-width: 600px)\" srcset=\"/images/osusume/yol_top_tile/20230706_zuaIXb.jpg?type=TB_small\">\\n            <source media=\"(min-width: 320px)\" srcset=\"/images/osusume/yol_top_tile/20230706_zuaIXb.jpg?type=SP_large\">\\n            <img src=\"/images/osusume/yol_top_tile/20230706_zuaIXb.jpg\" alt=\"\" loading=\"lazy\">\\n          </picture>\\n                </a>\\n                  </figure>\\n    <h3>\\n            <a href=\"https://www.yomiuri.co.jp/otekomachi/20230629-OYT8T50006/?utm_source=yomiuri&utm_medium=yol&utm_campaign=yoltop_otekomachi\">\\n              【世界一黒い布】その名も特級暗黒布太黒門、全国の歯科医に激売れ            </a>\\n          </h3>\\n    <p>\\n            <a href=\"https://www.yomiuri.co.jp/otekomachi/20230629-OYT8T50006/?utm_source=yomiuri&utm_medium=yol&utm_campaign=yoltop_otekomachi\">\\n              大手小町\\u3000辛酸なめ子のじわじわ時事ワード            </a>\\n                </p>\\n  </article>\\n  <article>\\n    <figure>\\n                      <a href=\"https://www.yomiuri.co.jp/national/20230706-OYT1T50093/\">\\n                  <picture>\\n            <source media=\"(min-width: 768px)\" srcset=\"/images/osusume/yol_top_tile/20230706_oOQy9m.jpg?type=PCTB_large\">\\n            <source media=\"(min-width: 600px)\" srcset=\"/images/osusume/yol_top_tile/20230706_oOQy9m.jpg?type=TB_small\">\\n            <source media=\"(min-width: 320px)\" srcset=\"/images/osusume/yol_top_tile/20230706_oOQy9m.jpg?type=SP_large\">\\n            <img src=\"/images/osusume/yol_top_tile/20230706_oOQy9m.jpg\" alt=\"\" loading=\"lazy\">\\n          </picture>\\n                </a>\\n                  </figure>\\n    <h3>\\n            <a href=\"https://www.yomiuri.co.jp/national/20230706-OYT1T50093/\">\\n              「バスケは電通でしょ」組織委元次長の露骨な調整、法廷で明らかに…「門番」として他社差配            </a>\\n          </h3>\\n    <p>\\n            <a href=\"https://www.yomiuri.co.jp/national/20230706-OYT1T50093/\">\\n              社会            </a>\\n                </p>\\n  </article>\\n  <article>\\n    <figure>\\n                      <a href=\"https://www.yomiuri.co.jp/local/kansai/news/20230706-OYO1T50007/\">\\n                  <picture>\\n            <source media=\"(min-width: 768px)\" srcset=\"/images/osusume/yol_top_tile/20230706_60HjSU.jpg?type=PCTB_large\">\\n            <source media=\"(min-width: 600px)\" srcset=\"/images/osusume/yol_top_tile/20230706_60HjSU.jpg?type=TB_small\">\\n            <source media=\"(min-width: 320px)\" srcset=\"/images/osusume/yol_top_tile/20230706_60HjSU.jpg?type=SP_large\">\\n            <img src=\"/images/osusume/yol_top_tile/20230706_60HjSU.jpg\" alt=\"\" loading=\"lazy\">\\n          </picture>\\n                </a>\\n                  </figure>\\n    <h3>\\n            <a href=\"https://www.yomiuri.co.jp/local/kansai/news/20230706-OYO1T50007/\">\\n              災害「警戒レベル」情報、「多すぎて分かりにくい」…さみだれ式に発令・必ずしも避難につながらない実態も            </a>\\n          </h3>\\n    <p>\\n            <a href=\"https://www.yomiuri.co.jp/feature/titlelist/%E8%A5%BF%E6%97%A5%E6%9C%AC%E8%B1%AA%E9%9B%A8%EF%BC%95%E5%B9%B4/\">\\n              西日本豪雨５年            </a>\\n                </p>\\n  </article>\\n  <article>\\n    <figure>\\n                      <a href=\"https://www.yomiuri.co.jp/hobby/travel/ryokou-select/20230629-OYT8T50008/\">\\n                  <picture>\\n            <source media=\"(min-width: 768px)\" srcset=\"/images/osusume/yol_top_tile/20230706_3TuHdU.jpg?type=PCTB_large\">\\n            <source media=\"(min-width: 600px)\" srcset=\"/images/osusume/yol_top_tile/20230706_3TuHdU.jpg?type=TB_small\">\\n            <source media=\"(min-width: 320px)\" srcset=\"/images/osusume/yol_top_tile/20230706_3TuHdU.jpg?type=SP_large\">\\n            <img src=\"/images/osusume/yol_top_tile/20230706_3TuHdU.jpg\" alt=\"\" loading=\"lazy\">\\n          </picture>\\n                </a>\\n                  </figure>\\n    <h3>\\n            <a href=\"https://www.yomiuri.co.jp/hobby/travel/ryokou-select/20230629-OYT8T50008/\">\\n              釧路への思い、「気づき」からつながっていく            </a>\\n          </h3>\\n    <p>\\n            <a href=\"https://www.yomiuri.co.jp/hobby/travel/ryokou-select/20230629-OYT8T50008/\">\\n              旅行読売セレクト            </a>\\n                </p>\\n  </article>\\n  <article>\\n    <figure>\\n                      <a href=\"https://yomidr.yomiuri.co.jp/article/20230620-OYTET50013/?utm_source=yomiuri&utm_medium=yol&utm_campaign=yoltop_yomidr\">\\n                  <picture>\\n            <source media=\"(min-width: 768px)\" srcset=\"/images/osusume/yol_top_tile/20230706_tnz7hv.jpg?type=PCTB_large\">\\n            <source media=\"(min-width: 600px)\" srcset=\"/images/osusume/yol_top_tile/20230706_tnz7hv.jpg?type=TB_small\">\\n            <source media=\"(min-width: 320px)\" srcset=\"/images/osusume/yol_top_tile/20230706_tnz7hv.jpg?type=SP_large\">\\n            <img src=\"/images/osusume/yol_top_tile/20230706_tnz7hv.jpg\" alt=\"\" loading=\"lazy\">\\n          </picture>\\n                </a>\\n                  </figure>\\n    <h3>\\n            <a href=\"https://yomidr.yomiuri.co.jp/article/20230620-OYTET50013/?utm_source=yomiuri&utm_medium=yol&utm_campaign=yoltop_yomidr\">\\n              がん患者にとっての「幸せ」ってなんですか？            </a>\\n          </h3>\\n    <p>\\n            <a href=\"https://yomidr.yomiuri.co.jp/article/20230620-OYTET50013/?utm_source=yomiuri&utm_medium=yol&utm_campaign=yoltop_yomidr\">\\n              ヨミドクター\\u3000Dr.高野の「腫瘍内科医になんでも聞いてみよう」            </a>\\n                </p>\\n  </article>\\n  <article>\\n    <figure>\\n                      <a href=\"https://yomidr.yomiuri.co.jp/article/20230627-OYTET50013/?utm_source=yomiuri&utm_medium=yol&utm_campaign=yoltop_yomidr\">\\n                  <picture>\\n            <source media=\"(min-width: 768px)\" srcset=\"/images/osusume/yol_top_tile/20230706_8QbDbp.jpg?type=PCTB_large\">\\n            <source media=\"(min-width: 600px)\" srcset=\"/images/osusume/yol_top_tile/20230706_8QbDbp.jpg?type=TB_small\">\\n            <source media=\"(min-width: 320px)\" srcset=\"/images/osusume/yol_top_tile/20230706_8QbDbp.jpg?type=SP_large\">\\n            <img src=\"/images/osusume/yol_top_tile/20230706_8QbDbp.jpg\" alt=\"\" loading=\"lazy\">\\n          </picture>\\n                </a>\\n                  </figure>\\n    <h3>\\n            <a href=\"https://yomidr.yomiuri.co.jp/article/20230627-OYTET50013/?utm_source=yomiuri&utm_medium=yol&utm_campaign=yoltop_yomidr\">\\n              ［食中毒］夏場の調理で気をつけたい三つのポイント            </a>\\n          </h3>\\n    <p>\\n            <a href=\"https://yomidr.yomiuri.co.jp/article/20230627-OYTET50013/?utm_source=yomiuri&utm_medium=yol&utm_campaign=yoltop_yomidr\">\\n              ヨミドクター\\u3000山口真弓の「子どものココロとカラダを育む簡単レシピ」            </a>\\n                </p>\\n  </article>\\n  <article>\\n    <figure>\\n                      <a href=\"https://www.yomiuri.co.jp/column/nyancology/20230703-OYT8T50053/\">\\n                  <picture>\\n            <source media=\"(min-width: 768px)\" srcset=\"/images/osusume/yol_top_tile/20230703_PnUcp2.jpg?type=PCTB_large\">\\n            <source media=\"(min-width: 600px)\" srcset=\"/images/osusume/yol_top_tile/20230703_PnUcp2.jpg?type=TB_small\">\\n            <source media=\"(min-width: 320px)\" srcset=\"/images/osusume/yol_top_tile/20230703_PnUcp2.jpg?type=SP_large\">\\n            <img src=\"/images/osusume/yol_top_tile/20230703_PnUcp2.jpg\" alt=\"\" loading=\"lazy\">\\n          </picture>\\n                </a>\\n                  </figure>\\n    <h3>\\n            <a href=\"https://www.yomiuri.co.jp/column/nyancology/20230703-OYT8T50053/\">\\n              ［猫学］猫の飼い主になるかは巡り合わせ――５年前に出会った子猫のいま            </a>\\n          </h3>\\n    <p>\\n            <a href=\"https://www.yomiuri.co.jp/column/nyancology/20230703-OYT8T50053/\">\\n              猫学（ニャンコロジー）            </a>\\n                </p>\\n  </article>\\n  <article>\\n    <figure>\\n                      <a href=\"https://marieclairejapon.com/culture/128217/\">\\n                  <picture>\\n            <source media=\"(min-width: 768px)\" srcset=\"/images/osusume/yol_top_tile/20230705_pmo94k.jpg?type=PCTB_large\">\\n            <source media=\"(min-width: 600px)\" srcset=\"/images/osusume/yol_top_tile/20230705_pmo94k.jpg?type=TB_small\">\\n            <source media=\"(min-width: 320px)\" srcset=\"/images/osusume/yol_top_tile/20230705_pmo94k.jpg?type=SP_large\">\\n            <img src=\"/images/osusume/yol_top_tile/20230705_pmo94k.jpg\" alt=\"\" loading=\"lazy\">\\n          </picture>\\n                </a>\\n                  </figure>\\n    <h3>\\n            <a href=\"https://marieclairejapon.com/culture/128217/\">\\n              ベッカムも一家でラーメン！来日セレブの出没スポットを追跡            </a>\\n          </h3>\\n    <p>\\n            <a href=\"https://marieclairejapon.com/culture/128217/\">\\n              マリ・クレール            </a>\\n                </p>\\n  </article>\\n  <article>\\n    <figure>\\n                      <a href=\"https://www.yomiuri.co.jp/kyoiku/support/information/CO036644/20230418-OYT8T50005/\">\\n                  <picture>\\n            <source media=\"(min-width: 768px)\" srcset=\"/images/osusume/yol_top_tile/20230706_m4opn4.jpg?type=PCTB_large\">\\n            <source media=\"(min-width: 600px)\" srcset=\"/images/osusume/yol_top_tile/20230706_m4opn4.jpg?type=TB_small\">\\n            <source media=\"(min-width: 320px)\" srcset=\"/images/osusume/yol_top_tile/20230706_m4opn4.jpg?type=SP_large\">\\n            <img src=\"/images/osusume/yol_top_tile/20230706_m4opn4.jpg\" alt=\"\" loading=\"lazy\">\\n          </picture>\\n                </a>\\n                  </figure>\\n    <h3>\\n            <a href=\"https://www.yomiuri.co.jp/kyoiku/support/information/CO036644/20230418-OYT8T50005/\">\\n              【特集】自ら問いを見いだす力を養う２年がかりの「探究」授業…東京女学館            </a>\\n          </h3>\\n    <p>\\n            <a href=\"https://www.yomiuri.co.jp/kyoiku/support/information/CO036644/20230418-OYT8T50005/\">\\n              中学受験サポート            </a>\\n                </p>\\n  </article>\\n\\r\\n <!--article>\\r\\n          <figure>\\r\\n            <a href=\"https://yomipo.yomiuri.co.jp/fukubiki/\">\\r\\n              <picture>\\r\\n                <source media=\"(min-width: 768px)\" srcset=\"/media/2023/07/tile-fukubikiall230708.jpg?type=PCTB_large\">\\r\\n                <source media=\"(min-width: 600px)\" srcset=\"/media/2023/07/tile-fukubikiall230708.jpg?type=TB_small\">\\r\\n                <source media=\"(min-width: 320px)\" srcset=\"/media/2023/07/tile-fukubikiall230708.jpg?type=SP_large\">\\r\\n                <img src=\"/media/2023/07/tile-fukubikiall230708.jpg\" alt=\"\" loading=\"lazy\">\\r\\n              </picture>\\r\\n            </a>\\r\\n          </figure>\\r\\n          <h3><a href=\"https://yomipo.yomiuri.co.jp/fukubiki/\">8、9日は福引全員当選デー</a></h3>\\r\\n          <p><a href=\"https://yomipo.yomiuri.co.jp/fukubiki/\">よみぽランド\\u30001ポイント絶対当たる‼</a><a href=\"\"></a>\\r\\n\\u3000\\u3000\\u3000</article-->\\r\\n <article>\\r\\n          <figure>\\r\\n            <a href=\"https://game.yomipo.yomiuri.co.jp/quiz/campaign/media/86/howto-lp.html\">\\r\\n              <picture>\\r\\n                <source media=\"(min-width: 768px)\" srcset=\"/media/2023/06/tile_brainex.png?type=PCTB_large\">\\r\\n                <source media=\"(min-width: 600px)\" srcset=\"/media/2023/06/tile_brainex.png?type=TB_small\">\\r\\n                <source media=\"(min-width: 320px)\"//media/2023/06/tile_brainex.png?type=SP_large\">\\r\\n                <img src=\"/media/2023/06/tile_brainex.png\" alt=\"頭の体操クイズ\\u3000最大2000㌽当たる‼\" loading=\"lazy\">\\r\\n              </picture>\\r\\n            </a>\\r\\n          </figure>\\r\\n     <h3><a href=\"https://game.yomipo.yomiuri.co.jp/quiz/campaign/media/86/howto-lp.html\">頭の体操クイズ\\u3000最大2000㌽当たる‼</a></h3>\\r\\n          <p><a href=\"https://game.yomipo.yomiuri.co.jp/quiz/campaign/media/86/howto-lp.html\">1日3回挑戦\\u3000クイズに答えてポイントためよう‼</a></p>\\r\\n        </article>\\r\\n  <article>\\r\\n    <!-- 広告枠 -->\\r\\n      <div id=\"ad_dfp_pickup-tile1\">\\r\\n        <script>\\r\\n          googletag.cmd.push(function() {googletag.display(\\'ad_dfp_pickup-tile1\\'); });\\r\\n        </script>\\r\\n      </div>\\r\\n  </article>\\r\\n      </div>\\r\\n  </section>\\r\\n  <div class=\"uni-home-2020 home-2020-wrap\">\\r\\n  \\r\\n  \\r\\n  \\r\\n  \\r\\n  \\r\\n  \\r\\n  \\r\\n  \\r\\n  \\r\\n  \\r\\n  \\r\\n      <div class=\"home-2020-ad-text home-2020-ad-text2\">\\r\\n          <ul>\\r\\n              <li id=\"ad_dfp_thumbnail-txt1\">\\r\\n                  <script>googletag.cmd.push(function() {googletag.display(\\'ad_dfp_thumbnail-txt1\\'); });</script>\\r\\n              </li>\\r\\n              <li id=\"ad_dfp_thumbnail-txt2\">\\r\\n                  <script>googletag.cmd.push(function() {googletag.display(\\'ad_dfp_thumbnail-txt2\\'); });</script>\\r\\n              </li>\\r\\n              <li id=\"ad_dfp_thumbnail-txt3\">\\r\\n                  <script>googletag.cmd.push(function() {googletag.display(\\'ad_dfp_thumbnail-txt3\\'); });</script>\\r\\n              </li>\\r\\n          </ul>\\r\\n      </div>\\r\\n      \\r\\n  \\r\\n      <div class=\"home-2020-box home-2020-ntvnews\">\\r\\n          <h2>日テレNEWS24 配信中</h2>\\r\\n          <div class=\"home-2020-ntvnews-movie\">\\r\\n              <div class=\"home-2020-ntvnews-movie__box\">\\r\\n                  <img src=\"https://news.ntv.co.jp/images/live_thumbnail_pc.jpg\" alt=\"日テレNEWS24\" loading=\"lazy\">\\r\\n                  <div class=\"home-2020-ntvnews-movie__login\"><a href=\"/member/login/?to=%2f%23NNN24Video\">ログインして再生</a></div>\\r\\n              </div>\\r\\n          </div>\\r\\n          <div class=\"home-2020-ntvnews-ad\">\\r\\n              <ul>\\r\\n                  <li id=\"ad_dfp_middle-rec1\"><script>googletag.cmd.push(function() {googletag.display(\\'ad_dfp_middle-rec1\\'); });</script></li>\\r\\n                  <li id=\"ad_dfp_middle-rec2\"><script>googletag.cmd.push(function() {googletag.display(\\'ad_dfp_middle-rec2\\'); });</script></li>\\r\\n              </ul>\\r\\n          </div>\\r\\n      </div>\\r\\n  \\r\\n  \\r\\n      <div class=\"home-2020-box home-2020-headline home-2020-campaign\">\\r\\n          <h2><a href=\"https://yomipo.yomiuri.co.jp/present\">キャンペーン&amp;プレゼント<svg><use xlink:href=\"#arrow_r\"/></svg></a></h2>\\r\\n          <ul>\\n    <li>\\n                <figure><a href=\"https://yomipo.yomiuri.co.jp/present/detail/7762\"><img src=\"https://d2x7ubddzu7b7n.cloudfront.net/yomiuri/present/9c779e26-7960-3eb3-aebb-4fb8592816a0.png\" alt=\"\" loading=\"lazy\"></a></figure>\\n                <h3><a href=\"https://yomipo.yomiuri.co.jp/present/detail/7762\">【美食広場】ロマンチックな七夕を…\\u3000「恋する素麺」を５人に</a></h3>\\n    </li>\\n        <li>\\n                <figure><a href=\"https://yomipo.yomiuri.co.jp/present/detail/7747\"><img src=\"https://d2x7ubddzu7b7n.cloudfront.net/yomiuri/present/79c38c27-7cc1-33ac-9802-808bee95b04e.png\" alt=\"\" loading=\"lazy\"></a></figure>\\n                <h3><a href=\"https://yomipo.yomiuri.co.jp/present/detail/7747\">タキイ種苗の９月にまく野菜のタネ３種セットを５人に</a></h3>\\n    </li>\\n        <li>\\n                <figure><a href=\"https://yomipo.yomiuri.co.jp/present/detail/7761\"><img src=\"https://d2x7ubddzu7b7n.cloudfront.net/yomiuri/present/b317b772-b6df-312d-9d69-643e09e7a8d7.png\" alt=\"\" loading=\"lazy\"></a></figure>\\n                <h3><a href=\"https://yomipo.yomiuri.co.jp/present/detail/7761\">チューリップ結成50周年記念出版\\u3000財津和夫著「じじぃは蜜の味」を10人に</a></h3>\\n    </li>\\n            </ul>\\n\\r\\n      </div>\\r\\n  \\r\\n      <div class=\"home-2020-box home-2020-headline home-2020-coupon\">\\r\\n          <h2><a href=\"/coupon/\">新着クーポン<svg><use xlink:href=\"#arrow_r\"/></svg></a></h2>\\r\\n          \\n        <ul>\\n            \\t\\t\\t<li>\\n\\t\\t\\t\\t<figure><a href=\"https://www.yomiuri.co.jp/coupon/coupon-detail/629?return=1\"><img src=\"/images/coupon/yamagata_gachirin2.jpg?type=medium\" alt=\"参考画像\" loading=\"lazy\"></a></figure>\\n\\t\\t\\t\\t<h3><a href=\"https://www.yomiuri.co.jp/coupon/coupon-detail/629?return=1\">ラーメン 月輪（がちりん）【酒田市】</a></h3>\\n                <p>\\n                    <a href=\"https://www.yomiuri.co.jp/coupon/coupon-detail/629?return=1\">\\n                    注文時クーポンをご提示のお客様1名様に麺大盛りまたはチャーシュー1枚サービス                    </a>\\n                </p>\\n\\t\\t\\t</li>\\n            \\t\\t\\t<li>\\n\\t\\t\\t\\t<figure><a href=\"https://www.yomiuri.co.jp/coupon/coupon-detail/630?return=1\"><img src=\"/images/coupon/yamagata_koouken2.jpg?type=medium\" alt=\"参考画像\" loading=\"lazy\"></a></figure>\\n\\t\\t\\t\\t<h3><a href=\"https://www.yomiuri.co.jp/coupon/coupon-detail/630?return=1\">中華そば 虎煌軒（こおうけん）【酒田市】</a></h3>\\n                <p>\\n                    <a href=\"https://www.yomiuri.co.jp/coupon/coupon-detail/630?return=1\">\\n                    注文時クーポンをご提示のお客様1名様に麺大盛りまたはチャーシュー1枚サービス                    </a>\\n                </p>\\n\\t\\t\\t</li>\\n            \\t\\t\\t<li>\\n\\t\\t\\t\\t<figure><a href=\"https://www.yomiuri.co.jp/coupon/coupon-detail/623?return=1\"><img src=\"/images/coupon/syutousekiyu.jpg?type=medium\" alt=\"参考画像\" loading=\"lazy\"></a></figure>\\n\\t\\t\\t\\t<h3><a href=\"https://www.yomiuri.co.jp/coupon/coupon-detail/623?return=1\">首藤石油</a></h3>\\n                <p>\\n                    <a href=\"https://www.yomiuri.co.jp/coupon/coupon-detail/623?return=1\">\\n                    洗車30％OFF                    </a>\\n                </p>\\n\\t\\t\\t</li>\\n            \\t\\t</ul>\\n\\r\\n      </div>\\r\\n      \\r\\n  \\r\\n  \\r\\n  \\r\\n  <div class=\"home-2020-box home-2020-dazn\">\\r\\n  <h2 id=\"dazn\">DAZNでプロ野球＆Jリーグを見よう！</h2>\\r\\n  <div class=\"home-2020-dazn__content\">\\r\\n              <ul>\\r\\n                  <!--<li>\\r\\n  <div class=\"home-2020-dazn__login\">\\r\\n                      <figure><img src=\"/media/2019/03/20190312_Sugano4_500.jpg\" alt=\"DAZN\" width=\"460\" height=\"305\" loading=\"lazy\"></figure>\\r\\n  <div><a href=\"/member/reg_top/\">ログインして再生</a></div>\\r\\n  </div>\\r\\n                      <p>プロ野球・ハイライト</p>\\r\\n                  </li>\\r\\n                  <li>\\r\\n  <div class=\"home-2020-dazn__login\">\\r\\n                      <figure><img src=\"/media/2019/03/20190314_White_JL19060_d26_500.jpg\" alt=\"DAZN\" width=\"460\" height=\"305\" loading=\"lazy\"></figure>\\r\\n  <div><a href=\"/member/reg_top/\">ログインして再生</a></div>\\r\\n                      </div>\\r\\n                      <p>J1リーグ・ダイジェスト</p>\\r\\n                  </li>-->\\r\\n                  <li class=\"dazn_banner\">\\r\\n                                  <a href=\"/topics/20210907-SYT8T2347691/\"><figure><img src=\"/media/2022/03/dazn_banner_202203.jpg\" alt=\"DAZN\" width=\"950\" height=\"178\" loading=\"lazy\"></figure></a>\\r\\n                  </li>\\r\\n              </ul>\\r\\n          </div>\\r\\n          <div class=\"home-2020-dazn__ad\" id=\"ad_dfp_rec2\">\\r\\n           <script>googletag.cmd.push(function() {googletag.display(\\'ad_dfp_rec2\\'); });</script>\\r\\n          </div>\\r\\n  </div>\\r\\n  \\r\\n  \\r\\n  \\r\\n  \\r\\n  \\r\\n  \\r\\n      <div class=\"home-2020-ad-wide\">\\r\\n          <div id=\"ad_dfp_banner3\">\\r\\n              <script>googletag.cmd.push(function() {googletag.display(\\'ad_dfp_banner3\\'); });</script>\\r\\n          </div>\\r\\n      </div>\\r\\n  </div>\\r\\n\\n        \\n                                            <footer class=\"p-footer-2020\">\\r\\n    <div class=\"yomipo-footer\"></div>\\r\\n    <div class=\"p-footer-2020-box p-footer-2020-bannerlinks\">\\u3000\\r\\n      <ul>\\r\\n        <li>\\r\\n          <figure><a href=\"/kodomo/\"><img src=\"/assets/images/common/dc-2020_footer_bn_kodomo-20230630032416.png\" alt=\"読売KODOMO新聞\" width=\"200\" height=\"50\" loading=\"lazy\" /></a></figure>\\r\\n          <p>読売KODOMO新聞</p>\\r\\n        </li>\\r\\n        <li>\\r\\n          <figure><a href=\"/teen/\"><img src=\"/assets/images/common/dc-2020_footer_bn_teen-20230630032416.png\" alt=\"読売中高生新聞\" width=\"200\" height=\"50\" loading=\"lazy\" /></a></figure>\\r\\n          <p>読売中高生新聞</p>\\r\\n        </li>\\r\\n        <li>\\r\\n          <figure><a href=\"https://japannews.yomiuri.co.jp/\" target=\"_blank\"><img src=\"https://www.yomiuri.co.jp/media/2022/03/dc-2022_footer_bn_japannews.png\" alt=\"The Japan News\" width=\"200\" height=\"50\" loading=\"lazy\"></a></figure>\\r\\n          <p>The Japan News</p>\\r\\n        </li>\\r\\n      </ul>\\r\\n    </div>\\r\\n  \\r\\n    <div class=\"p-footer-2020-box p-footer-2020-operationsite\" data-nosnippet>\\r\\n      <div class=\"p-footer-2020-box__title\">読売新聞社の運営するサイト</div>\\r\\n      <div class=\"\" >\\r\\n        <ul>\\r\\n          <li>\\r\\n            <figure><a href=\"https://komachi.yomiuri.co.jp/\" target=\"_blank\"><img src=\"/assets/images/common/dc-2020_footer_icon_hatsugenkomachi-20230630032416.jpg\" alt=\"発言小町\" width=\"100\" height=\"100\" loading=\"lazy\" /></a></figure>\\r\\n            <h3><a href=\"https://komachi.yomiuri.co.jp/\" target=\"_blank\">発言小町</a></h3>\\r\\n            <p>「発言小町」は、読売新聞が運営する女性向け掲示板で、女性のホンネが分かる「ネット版井戸端会議」の場です。</p>\\r\\n          </li>\\r\\n          <li>\\r\\n            <figure><a href=\"https://yomidr.yomiuri.co.jp/\" target=\"_blank\"><img src=\"/assets/images/common/dc-2020_footer_icon_yomidr-20230630032416.jpg\" alt=\"yomiDr.\" width=\"100\" height=\"100\" loading=\"lazy\" /></a></figure>\\r\\n            <h3><a href=\"https://yomidr.yomiuri.co.jp/\" target=\"_blank\">ヨミドクター</a></h3>\\r\\n            <p>yomiDr.（ヨミドクター）は、読売新聞の医療・介護・健康情報サイトです。</p>\\r\\n          </li>\\r\\n<li>\\r\\n          <figure><a href=\"/otekomachi/\" target=\"_blank\"><img src=\"/assets/images/footer/dc-footer_icon_otekomachi_v2-20230630032416.png\" alt=\"大手小町\" width=\"100\" height=\"100\" loading=\"lazy\" /></a></figure>\\r\\n          <h3><a href=\"/otekomachi/\" target=\"_blank\">大手小町</a></h3>\\r\\n          <p>大手小町は「どんな私も、好きになる。」をテーマに、キャリアや恋愛・結婚、ジェンダーにまつわる情報を発信するサイトです。</p>\\r\\n</li>\\r\\n          <li>\\r\\n            <figure><a href=\"https://ideamarket.yomiuri.co.jp/\" target=\"_blank\"><img src=\"https://www.yomiuri.co.jp/media/2020/07/ideamarket_brand-LL_200-200.png\" alt=\"アイデア マーケット\" width=\"100\" height=\"100\" loading=\"lazy\"></a></figure>\\r\\n            <h3><a href=\"https://ideamarket.yomiuri.co.jp/\" target=\"_blank\">idea market</a></h3>\\r\\n            <p>idea market（アイデア マーケット）」は、読売新聞が運営するクラウドファンディングのサイトです。</p>\\r\\n          </li>\\r\\n          <li>\\r\\n            <figure><a href=\"https://artexhibition.jp/\" target=\"_blank\"><img src=\"/assets/images/common/dc-2020_footer_icon_aej-20230630032416.jpg\" alt=\"美術展ナビ\" width=\"100\" height=\"100\" loading=\"lazy\" /></a></figure>\\r\\n            <h3><a href=\"https://artexhibition.jp/\" target=\"_blank\">美術展ナビ</a></h3>\\r\\n            <p>読売新聞が運営する美術館・博物館情報の総合ポータルページです。読売新聞主催の展覧会の他、全国美術館の情報を紹介します。</p>\\r\\n          </li>\\r\\n          <li>\\r\\n            <figure><a href=\"https://tsumugu.yomiuri.co.jp\" target=\"_blank\"><img src=\"https://www.yomiuri.co.jp/media/2022/06/tsumugu_icon-.jpg\" alt=\"紡ぐプロジェクト\" width=\"100\" height=\"100\" loading=\"lazy\"></a></figure>\\r\\n            <h3><a href=\"https://tsumugu.yomiuri.co.jp\" target=\"_blank\">紡ぐプロジェクト</a></h3>\\r\\n            <p>文化庁、宮内庁、読売新聞社で行う「紡ぐプロジェクト」公式サイト。日本美術と伝統芸能など日本文化の魅力を伝えます。</p>\\r\\n          </li>\\r\\n        <li>\\r\\n          <figure><a href=\"https://dentou.yomiuri.co.jp/\" target=\"_blank\"><img src=\"/media/2023/06/dentou_footer_bnr.jpg\" alt=\"Action伝統文化\" width=\"100\" height=\"100\" loading=\"lazy\"></a></figure>\\r\\n          <h3><a href=\"https://dentou.yomiuri.co.jp/\" target=\"_blank\">Action!伝統文化</a></h3>\\r\\n          <p>日本の伝統文化を振興する「Action!伝統文化」のサイトです。企業や自治体などと連携し、工芸や芸能を盛り上げる事業を進めます。</p>\\r\\n        </li>\\r\\n          <li>\\r\\n            <figure><a href=\"https://yomiuri-kiko.or.jp/\" target=\"_blank\"><img src=\"https://www.yomiuri.co.jp/media/2020/07/読売調査研究機構ロゴ白抜き（100×100）.jpg\" alt=\"読売調査研究機構\" width=\"100\" height=\"100\" loading=\"lazy\"></a></figure>\\r\\n            <h3><a href=\"https://yomiuri-kiko.or.jp/\" target=\"_blank\" >読売調査研究機構</a></h3>\\r\\n            <p>東京、北海道、東北、中部、北陸を拠点に、著名な講師を招いた講演会や対談、読売新聞記者によるセミナーなどを開催しています。</p>\\r\\n          </li>\\r\\n          <li>\\r\\n            <figure><a href=\"http://kyoiku.yomiuri.co.jp/\" target=\"_blank\"><img src=\"https://www.yomiuri.co.jp/media/2020/11/kyoikunw_logo_b.jpg\" alt=\"教育ネットワーク\" width=\"100\" height=\"100\" loading=\"lazy\"></a></figure>\\r\\n            <h3><a href=\"http://kyoiku.yomiuri.co.jp/\" target=\"_blank\">教育ネットワーク</a></h3>\\r\\n            <p>読売新聞の教育プログラムやイベントを紹介するサイトです。読売ワークシート通信や出前授業もこちらから申し込めます。</p>\\r\\n          </li>\\r\\n          <li>\\r\\n            <figure><a href=\"https://database.yomiuri.co.jp/\" target=\"_blank\"><img src=\"https://www.yomiuri.co.jp/media/2022/06/yomidas03.jpg\" alt=\"データベース「ヨミダス」\" width=\"100\" height=\"100\" loading=\"lazy\"></a></figure>\\r\\n            <h3><a href=\"https://database.yomiuri.co.jp/\" target=\"_blank\">データベース「ヨミダス」</a></h3>\\r\\n            <p>明治からの読売新聞記事1,400万件以上がネットで読める有料データベース「ヨミダス歴史館」などについて紹介しています。</p>\\r\\n          </li>\\r\\n          <li>\\r\\n            <figure><a href=\"https://bosai.yomiuri.co.jp/\" target=\"_blank\"><img src=\"https://www.yomiuri.co.jp/media/2020/08/防災ニッポンタイトル_100_100Jpeg.jpg\" alt=\"防災ニッポン\" loading=\"lazy\"></a></figure>\\r\\n            <h3><a href=\"https://bosai.yomiuri.co.jp/\" target=\"_blank\">防災ニッポン</a></h3>\\r\\n            <p>読売新聞社のくらし×防災メディアです。身近な防災情報を幅広く紹介しています。企業・自治体向け<a href=\"https://bosai.yomiuri.co.jp/biz/\" target=\"_blank\"><b>「防災ニッポン＋」</b></a>も活用ください。</p>\\r\\n          </li>\\r\\n          <li>\\r\\n            <figure><a href=\"//genki-nippon.yomiuri.co.jp/\" target=\"_blank\"><img src=\"/assets/images/common/dc-2020_footer_icon_genki-20230630032416.jpg\" alt=\"元気、ニッポン！\" loading=\"lazy\" /></a></figure>\\r\\n            <h3><a href=\"//genki-nippon.yomiuri.co.jp/\" target=\"_blank\">元気、ニッポン！</a></h3>\\r\\n            <p>読売新聞社はスポーツを通じて日本を元気にする「元気、ニッポン！」プロジェクトを始めます。</p>\\r\\n          </li>\\r\\n          <li>\\r\\n            <figure><a href=\"/kyoiku/support/\" target=\"_blank\"><img src=\"https://www.yomiuri.co.jp/media/2020/07/jukensupport1.png\" alt=\"中学受験サポート\" width=\"100\" height=\"100\" loading=\"lazy\"></a></figure>\\r\\n            <h3><a href=\"/kyoiku/support/\" target=\"_blank\">中学受験サポート</a></h3>\\r\\n            <p>読売新聞による私立中学受験のための総合情報ページです。学校の最新情報のほか人気ライターによるお役立ちコラムも掲載中です。</p>\\r\\n          </li>\\r\\n          <li>\\r\\n            <figure><a href=\"//tabiyomi.yomiuri-ryokou.co.jp/?provide=24&amp;utm_source=web&amp;utm_medium=yomiuri_online&amp;utm_campaign=bnr_tabiyomi\" target=\"_blank\"><img src=\"https://www.yomiuri.co.jp/media/2019/11/tabiyomi.png\" alt=\"たびよみ\" width=\"100\" height=\"100\" loading=\"lazy\"></a></figure>\\r\\n            <h3><a href=\"//tabiyomi.yomiuri-ryokou.co.jp/?provide=24&amp;utm_source=web&amp;utm_medium=yomiuri_online&amp;utm_campaign=bnr_tabiyomi\" target=\"_blank\">たびよみ</a></h3>\\r\\n            <p>知れば知るほど旅は楽しくなる。旅すれば旅するほど人生は楽しくなる。そう思っていただけるような楽しく便利なメディアです。</p>\\r\\n          </li>\\r\\n          <li>\\r\\n            <figure><a href=\"https://retailadconsortium.jp/\" target=\"_blank\"><img src=\"https://www.yomiuri.co.jp/media/2022/06/YOMIURI-RETAIL-AD-CONSORTIUM_誘導.jpg\" alt=\"RETAIL AD CONSORTIUM\" width=\"100\" height=\"100\" loading=\"lazy\"></a></figure>\\r\\n            <h3><a href=\"https://retailadconsortium.jp/\" target=\"_blank\">RETAIL AD CONSORTIUM</a></h3>\\r\\n            <p>小売業の広告・販促のアイデアや最新の話題、コラム、調査結果など、マーケティングに携わる方に役立つ情報を紹介しています。</p>\\r\\n          </li>\\r\\n          <li>\\r\\n            <figure><a href=\"//brandstudio.jp/\" target=\"_blank\"><img src=\"https://www.yomiuri.co.jp/media/2019/10/YBSロゴ（200×200）.png\" alt=\"YOMIURI BRAND STUDIO\" width=\"100\" height=\"100\" loading=\"lazy\"></a></figure>\\r\\n            <h3><a href=\"//brandstudio.jp/\" target=\"_blank\">YOMIURI BRAND STUDIO</a></h3>\\r\\n            <p>新聞社の信頼性・コンテンツ制作能力と、コンソーシアム企業のクリエイティブ力で、貴社のコミュニケーション課題を解決します。</p>\\r\\n          </li>\\r\\n          <li>\\r\\n            <figure><a href=\"https://sasatto.jp/\" target=\"_blank\"><img src=\"https://www.yomiuri.co.jp/media/2020/10/sasatto_yol.jpg\" alt=\"ささっとー\" width=\"100\" height=\"100\" loading=\"lazy\"></a></figure>\\r\\n            <h3><a href=\"https://sasatto.jp/\" target=\"_blank\">福岡ふかぼりメディアささっとー</a></h3>\\r\\n            <p>読売新聞西部本社が運営する福岡県のローカルウェブメディアです。福岡をテーマにした「ささる」話題が「ささっと」読めます。</p>\\r\\n          </li>\\r\\n          <li>\\r\\n            <figure><a href=\"https://yab.yomiuri.co.jp/idomu/?utm_source=yol&utm_medium=referral\" target=\"_blank\"><img src=\"https://www.yomiuri.co.jp/media/2022/06/idomukansai_yoltopbottom.png\" alt=\"挑むKANSAI\" width=\"100\" height=\"100\" loading=\"lazy\"></a></figure>\\r\\n            <h3><a href=\"https://yab.yomiuri.co.jp/idomu/?utm_source=yol&utm_medium=referral\" target=\"_blank\">挑むKANSAI</a></h3>\\r\\n            <p>読売新聞「挑むKANSAI」プロジェクトでは、２０２５年大阪・関西万博をはじめ、大きな変化に直面する関西の姿を多角的に伝えます。</p>\\r\\n          </li>\\r\\n          <li>\\r\\n            <figure><a href=\"https://marieclairejapon.com/\" target=\"_blank\"><img src=\"https://www.yomiuri.co.jp/media/2021/06/marieclairedigital_yoltopbottom.png\" alt=\"marie claire digital\" width=\"100\" height=\"100\" loading=\"lazy\"></a></figure>\\r\\n            <h3><a href=\"https://marieclairejapon.com/\" target=\"_blank\">marie claire digital</a></h3>\\r\\n            <p>ファッションはもちろん、インテリアやグルメ、トラベル、そして海外のセレブ情報まで、“上質を楽しむ”ためのライフスタイルメディアです。</p>\\r\\n          </li>\\r\\n        </ul>\\r\\n      </div>\\r\\n    </div>\\r\\n    <div class=\"p-footer-2020-box p-footer-2020-grouplinks\">\\r\\n      <div class=\"p-footer-2020-box__title\">読売新聞社グループ</div>\\r\\n      <div class=\"\" >\\r\\n        <ul class=\"p-footer-2020-grouplinks-logo\">\\r\\n          <li><a href=\"https://www.giants.jp/\" target=\"_blank\"><img src=\"/assets/images/common/dc-cm_icon_giants-20230630032416.png\" alt=\"GIANTS\" width=\"62\" height=\"31\" loading=\"lazy\" /></a></li>\\r\\n          <li><a href=\"https://www.chuko.co.jp/\" target=\"_blank\"><img src=\"/assets/images/common/dc-cm_icon_chuko-20230630032416.png\" alt=\"中央公論新社\" width=\"84\" height=\"31\" loading=\"lazy\" /></a></li>\\r\\n          <li><a href=\"https://yomiuriland.co.jp/\" target=\"_blank\"><img src=\"/assets/images/common/dc-cm_icon_yomiuriland-20230630032416.png\" alt=\"よみうりランド\" width=\"84\" height=\"31\" loading=\"lazy\" /></a></li>\\r\\n          <li><a href=\"https://www.ntv.co.jp/\" target=\"_blank\"><img src=\"/assets/images/common/dc-cm_icon_ntv-20230630032416.png\" alt=\"日本テレビ\" width=\"42\" height=\"31\" loading=\"lazy\" /></a></li>\\r\\n          <li><a href=\"http://www.bs4.jp/\" target=\"_blank\"><img src=\"/assets/images/common/dc-cm_icon_bsntv-20230630032416.png\" alt=\"BS日本テレ\" width=\"65\" height=\"31\" loading=\"lazy\" /></a></li>\\r\\n          <li><a href=\"https://www.yomiuri-ryokou.co.jp/\" target=\"_blank\"><img src=\"/assets/images/common/dc-cm_icon_yomiuriryoko-20230630032416.png\" alt=\"読売旅行\" width=\"62\" height=\"31\" loading=\"lazy\" /></a></li>\\r\\n          <li><a href=\"https://www.ync.ne.jp/\" target=\"_blank\"><img src=\"/assets/images/common/dc-cm_icon_yomilkaru-20230630032416.png\" alt=\"よみうりカルチャー\" width=\"62\" height=\"31\" loading=\"lazy\" /></a></li>\\r\\n          <li><a href=\"https://yomikyo.or.jp/\" target=\"_blank\"><img src=\"/assets/images/common/dc-cm_icon_yomilkyo-20230630032416.png\" alt=\"読売日本交響楽団\" width=\"57\" height=\"31\" loading=\"lazy\" /></a></li>\\r\\n          <li><a href=\"https://hochi.news/\" target=\"_blank\"><img src=\"/assets/images/common/dc-cm_icon_hochi-20230630032416.png\" alt=\"スポーツ報知\" width=\"84\" height=\"31\" loading=\"lazy\" /></a></li>\\r\\n          <li><a href=\"http://yfc.yomiuri-johkai.co.jp/\" target=\"_blank\"><img src=\"/assets/images/common/dc-cm_icon_yfc-20230630032416.png\" alt=\"yfc\" width=\"35\" height=\"31\" loading=\"lazy\" /></a></li>\\r\\n          <li><a href=\"https://yomilogi.com/\" target=\"_blank\"><img src=\"https://www.yomiuri.co.jp/media/2020/08/yomiuri-logistic3.png\" alt=\"読売ロジスティクス\" width=\"157\" height=\"31\" loading=\"lazy\" /></a></li>\\r\\n        </ul>\\r\\n        <ul class=\"p-footer-2020-grouplinks-text\">\\r\\n          <li><a href=\"https://www.yomiuri-johkai.co.jp/\" target=\"_blank\">読売情報開発</a></li>\\r\\n          <li><a href=\"https://www.marronniergate.com/\" target=\"_blank\">マロニエゲート銀座</a></li>\\r\\n          <li><a href=\"https://www.ryokoyomiuri.co.jp/\" target=\"_blank\">旅行読売出版</a></li>\\r\\n          <li><a href=\"https://www.yomiuri.edu/\" target=\"_blank\">読売理工学院</a></li>\\r\\n          <li><a href=\"https://www.yomisho.com/\" target=\"_blank\">読売育英奨学会</a></li>\\r\\n          <li><a href=\"https://yomiuri-plus.com/\" target=\"_blank\">読売プラス</a></li>\\r\\n          <li><a href=\"http://www.yomiuri-is.co.jp/\" target=\"_blank\">読売IS</a></li>\\r\\n          <li><a href=\"https://www.yomiuri-ag.co.jp/\" target=\"_blank\">読売AG</a></li>\\r\\n          <li><a href=\"https://www.yomiuri-systec.co.jp/\" target=\"_blank\">読売システック</a></li>\\r\\n          <li><a href=\"https://www.yomiuri-pm.co.jp/\" target=\"_blank\">読売プリントメディア</a></li>\\r\\n          <li><a href=\"https://www.yomiuri-hikari.or.jp/\" target=\"_blank\">読売光と愛の事業団</a></li>\\r\\n          <li><a href=\"https://shourikikouseikai.or.jp/\" target=\"_blank\">正力厚生会</a></li>\\r\\n          <li><a href=\"https://www.yomiuri-clinic.jp/\" target=\"_blank\">読売クリニック</a></li>\\r\\n          <li><a href=\"http://www.minyu-net.com/\" target=\"_blank\">福島民友</a></li>\\r\\n          <li><a href=\"http://www.chukoji.co.jp/\" target=\"_blank\">中央公論事業出版</a></li>\\r\\n          <li><a href=\"http://www.chukobi.co.jp/\" target=\"_blank\">中央公論美術出版</a></li>\\r\\n        </ul>\\r\\n      </div>\\r\\n    </div>\\r\\n    <div class=\"p-footer-2020-box p-footer-2020-sociallinks\">\\r\\n      <h2>読売新聞オンライン公式SNSアカウント</h2>\\r\\n      <ul>\\r\\n        <li><a href=\"https://www.facebook.com/YomiuriOnline/\" target=\"_blank\"><svg><use xlink:href=\"#icon_facebook\"/></svg>Facebook</a></li>\\r\\n        <li><a href=\"https://twitter.com/Yomiuri_Online\" target=\"_blank\"><svg><use xlink:href=\"#icon_twitter\"/></svg>Twitter</a></li>\\r\\n        <li><a href=\"https://line.naver.jp/ti/p/%40oa-yomiurishimbun\" target=\"_blank\"><svg><use xlink:href=\"#icon_line\"/></svg>LINE</a></li>\\r\\n      </ul>\\r\\n    </div>\\r\\n    <div class=\"p-footer-2020-box p-footer-2020-relatedlinks\">\\r\\n      <h2>読売新聞オンライン（YOL）について</h2>\\r\\n    <ul>\\r\\n      <li><a href=\"/welcome-to-online/\">読売新聞オンラインとは</a></li>\\r\\n      <li><a href=\"/sitemap/\">サイトマップ</a></li>\\r\\n      <li><a href=\"/policy/\">サイトポリシー</a></li>\\r\\n      <li><a href=\"https://info.yomiuri.co.jp/privacypolicy/about.html\" target=\"_blank\">個人情報</a></li>\\r\\n      <li><a href=\"https://info.yomiuri.co.jp/privacypolicy/datapolicy.html\" target=\"_blank\">データの収集と利用について</a></li>\\r\\n      <li><a href=\"/policy/application/\">記事・写真・動画の利用申込</a></li>\\r\\n      <li><a href=\"/policy/copyright-conditions/\">著作権</a></li>\\r\\n      <li><a href=\"/help/toukou/\">投稿・情報提供</a></li>\\r\\n      <li><a href=\"/help/\">ヘルプ</a></li>\\r\\n      <li><a href=\"https://contact.yomiuri.co.jp/dform/\" target=\"_blank\">お問い合わせ</a></li>\\r\\n      <li><a href=\"https://adv.yomiuri.co.jp/digital/\" target=\"_blank\">デジタル広告ガイド</a></li>\\r\\n      <li><a href=\"https://adv.yomiuri.co.jp\" target=\"_blank\">新聞広告ガイド</a></li>\\r\\n      <li><a href=\"https://info.yomiuri.co.jp/\" target=\"_blank\">会社案内</a></li>\\r\\n      <li><a href=\"https://info.yomiuri.co.jp/news/\" target=\"_blank\">お知らせ</a></li>\\r\\n      <li><a href=\"https://saiyou.yomiuri.co.jp\" target=\"_blank\">採用情報</a></li>\\r\\n   </ul>\\r\\n    </div>\\r\\n    <div data-nosnippet>\\r\\n      <p class=\"p-footer-2020-attention\">読売新聞オンラインに掲載している記事や写真などは、日本の著作権法や国際条約などで保護されています。読売新聞社など著作権者の承諾を得ずに、転載、インターネット送信などの方法で利用することはできません。</p>\\r\\n      <p class=\"p-footer-2020-copyright\">© The Yomiuri Shimbun.</p>\\r\\n    </div>\\r\\n  </footer>\\r\\n  \\r\\n              <script  src=\\'https://www.yomiuri.co.jp/wp-includes/js/jquery/jquery.min.js?ver=3.6.0\\' id=\\'jquery-core-js\\'></script>\\n<script  src=\\'https://www.yomiuri.co.jp/assets/js/sns-share-20230630032416.js\\' id=\\'sns-share-js\\'></script>\\n<script  src=\\'https://www.yomiuri.co.jp/assets/js/pimg-20230630032416.js\\' id=\\'pimg-js\\'></script>\\n<script  src=\\'https://www.yomiuri.co.jp/assets/js/d-common-20230630032416.js\\' id=\\'d-common-js\\'></script>\\n<script  src=\\'https://www.yomiuri.co.jp/assets/js/uni-temp_header-20230630032416.js\\' id=\\'uni-temp_header-js\\'></script>\\n<script  src=\\'https://www.yomiuri.co.jp/assets/js/uni-home-20230630032416.js\\' id=\\'uni-home-js\\'></script>\\n<script  src=\\'https://www.yomiuri.co.jp/assets/js/uni-header-20230630032416.js\\' id=\\'uni-header-js\\'></script>\\n<script  src=\\'https://www.yomiuri.co.jp/assets/js/uni-footer-20230630032416.js\\' id=\\'uni-footer-js\\'></script>\\n                    <!-- B-06 -->        <!-- B-14 -->\\r\\n<script>\\r\\n// if (0==1){for(var i=0;i<a;i++){;}};\\r\\njQuery(function($){AD3.Gstudio=function(t){this.wrapDiv=document.querySelector(t)||\"\",this.dfpDiv=document.querySelector(t).querySelector(\"div[id^=google_ads_iframe]\")||\"\",this.dfpAdarea=document.querySelector(t).querySelector(\"iframe[id^=google_ads_iframe]\")||\"\",this.wrapPos=document.querySelector(t).parentNode.offsetTop||\"\",this.flag=!1};$(window).bind(\"message\",function(e){if(e.originalEvent.origin!=document.location.protocol+\"//s0.2mdn.net\")return;var data=e.originalEvent.data,obj;if(data==\"canplayStickyBanner\"){obj=AD3.studioBnr=new AD3.Gstudio(\"#ad_dfp_banner\");$(obj.dfpDiv).css({width:\"100%\",height:\"185px\",zIndex:\"101\",backgroundColor:\"#ffffff\"});$(obj.dfpAdarea).css({padding:\"0\",backgroundColor:\"#ffffff\"});var sf=function(){requestAnimationFrame(function(){if(obj.wrapPos<$(window).scrollTop()){$(obj.dfpDiv).css({position:\"fixed\",top:\"0\"});$(obj.wrapDiv).css({marginTop:\"190px\"})}else{$(obj.dfpDiv).css({position:\"static\",top:\"0\"});$(obj.wrapDiv).css({marginTop:\"10px\"})}})};sf();$(window).on(\"scroll\",function(){if(!obj.flag){sf()}})}else if(data==\"closeStickyBanner\"&&AD3.studioBnr){obj=AD3.studioBnr;obj.flag=!0;$(obj.wrapDiv).css({marginTop:\"10px\"});$(obj.dfpDiv).animate({height:\"0px\"},300,\"linear\",function(){$(obj.dfpDiv).css({display:\"none\"});$(obj.wrapDiv).css({display:\"none\"})})}else if(data==\"endStickyBanner\"&&AD3.studioBnr){obj=AD3.studioBnr;obj.flag=!0;$(obj.wrapDiv).css({marginTop:\"10px\"});$(obj.dfpAdarea).css({backgroundColor:\"#f2f4f6\"});if(obj.wrapPos<$(window).scrollTop()){$(obj.dfpDiv).animate({height:\"0px\"},300,\"linear\",function(){$(obj.dfpDiv).css({position:\"static\",width:\"100%\",height:\"180px\"})})}else{$(obj.dfpDiv).css({position:\"static\"})}}else if(data==\"canplayInread\"){obj=AD3.studioInread=new AD3.Gstudio(\"#ad_dfp_inread\");$(obj.dfpDiv).css({marginTop:\"12px\"})}else if(data==\"closeInread\"&&AD3.studioInread){obj=AD3.studioInread;$(obj.dfpDiv).animate({height:\"0px\",marginBottom:\"0px\",opacity:0},500,\"linear\",function(){$(obj.dfpDiv).css({display:\"none\"})})}})});\\r\\n</script>        </body></html>\\n'"
      ]
     },
     "execution_count": 45,
     "metadata": {},
     "output_type": "execute_result"
    }
   ],
   "source": [
    "res.text"
   ]
  },
  {
   "cell_type": "code",
   "execution_count": 46,
   "id": "63b03c79-93e7-4fef-9dd7-509800122ebc",
   "metadata": {
    "tags": []
   },
   "outputs": [],
   "source": [
    "soup = BeautifulSoup(res.text, \"html.parser\")"
   ]
  },
  {
   "cell_type": "code",
   "execution_count": 47,
   "id": "55cca533-6e78-4c89-b9c9-37c3d3b5a374",
   "metadata": {
    "collapsed": true,
    "jupyter": {
     "outputs_hidden": true
    },
    "tags": []
   },
   "outputs": [
    {
     "data": {
      "text/plain": [
       "<!DOCTYPE html>\n",
       "\n",
       "<html lang=\"ja\">\n",
       "<head>\n",
       "<meta charset=\"utf-8\"/>\n",
       "<meta content=\"IE=Edge\" http-equiv=\"X-UA-Compatible\"/>\n",
       "<meta content=\"width=device-width\" name=\"viewport\"/>\n",
       "<script>\n",
       "      (function(){\n",
       "        // screen adjustment\n",
       "        // ユーザーエージェントの取得\n",
       "        var ua = navigator.userAgent;\n",
       "        if(ua.indexOf('iPad') > 0) document.querySelector(\"meta[name='viewport']\").setAttribute(\"content\", \"width=1076\");\n",
       "      })();\n",
       "    </script>\n",
       "<script src=\"/assets/js/pwa-20230630032416.js\"></script>\n",
       "<title>読売新聞オンライン : ニュース＆お得サイト</title>\n",
       "<meta content=\"max-image-preview:large\" name=\"robots\">\n",
       "<link href=\"https://www.yomiuri.co.jp/assets/css/style-20230630032416.css\" id=\"style-css\" media=\"all\" rel=\"stylesheet\"/>\n",
       "<link href=\"https://www.yomiuri.co.jp/assets/css/uni-home-20230630032416.css\" id=\"uni-home-css\" media=\"all\" rel=\"stylesheet\"/>\n",
       "<link href=\"https://www.yomiuri.co.jp/assets/css/uni-home-2020-20230630032416.css\" id=\"uni-home-2020-css\" media=\"all\" rel=\"stylesheet\"/>\n",
       "<link href=\"https://www.yomiuri.co.jp/assets/css/uni-home-2021-20230630032416.css\" id=\"uni-home-2021-css\" media=\"all\" rel=\"stylesheet\"/>\n",
       "<link href=\"https://www.yomiuri.co.jp/assets/css/sys-ajax-contents-20230630032416.css\" id=\"sys-ajax-contents-css\" media=\"all\" rel=\"stylesheet\"/>\n",
       "<link href=\"https://www.yomiuri.co.jp/assets/libs/slick/css/slick.css\" id=\"slick.css-css\" media=\"all\" rel=\"stylesheet\"/>\n",
       "<link href=\"https://www.yomiuri.co.jp/assets/libs/slick/css/slick-theme.css\" id=\"slick-theme.css-css\" media=\"all\" rel=\"stylesheet\"/>\n",
       "<link href=\"https://www.yomiuri.co.jp/assets/libs/slick/css/slick-base.css\" id=\"slick-base.css-css\" media=\"all\" rel=\"stylesheet\"/>\n",
       "<link href=\"https://www.yomiuri.co.jp/assets/css/uni-scrap-20230630032416.css\" id=\"uni-scrap-css\" media=\"all\" rel=\"stylesheet\"/>\n",
       "<link href=\"https://www.yomiuri.co.jp/wp-includes/css/dist/block-library/style.min.css?ver=5.9.3\" id=\"wp-block-library-css\" media=\"all\" rel=\"stylesheet\"/>\n",
       "<style id=\"global-styles-inline-css\" type=\"text/css\">\n",
       "body{--wp--preset--color--black: #000000;--wp--preset--color--cyan-bluish-gray: #abb8c3;--wp--preset--color--white: #ffffff;--wp--preset--color--pale-pink: #f78da7;--wp--preset--color--vivid-red: #cf2e2e;--wp--preset--color--luminous-vivid-orange: #ff6900;--wp--preset--color--luminous-vivid-amber: #fcb900;--wp--preset--color--light-green-cyan: #7bdcb5;--wp--preset--color--vivid-green-cyan: #00d084;--wp--preset--color--pale-cyan-blue: #8ed1fc;--wp--preset--color--vivid-cyan-blue: #0693e3;--wp--preset--color--vivid-purple: #9b51e0;--wp--preset--gradient--vivid-cyan-blue-to-vivid-purple: linear-gradient(135deg,rgba(6,147,227,1) 0%,rgb(155,81,224) 100%);--wp--preset--gradient--light-green-cyan-to-vivid-green-cyan: linear-gradient(135deg,rgb(122,220,180) 0%,rgb(0,208,130) 100%);--wp--preset--gradient--luminous-vivid-amber-to-luminous-vivid-orange: linear-gradient(135deg,rgba(252,185,0,1) 0%,rgba(255,105,0,1) 100%);--wp--preset--gradient--luminous-vivid-orange-to-vivid-red: linear-gradient(135deg,rgba(255,105,0,1) 0%,rgb(207,46,46) 100%);--wp--preset--gradient--very-light-gray-to-cyan-bluish-gray: linear-gradient(135deg,rgb(238,238,238) 0%,rgb(169,184,195) 100%);--wp--preset--gradient--cool-to-warm-spectrum: linear-gradient(135deg,rgb(74,234,220) 0%,rgb(151,120,209) 20%,rgb(207,42,186) 40%,rgb(238,44,130) 60%,rgb(251,105,98) 80%,rgb(254,248,76) 100%);--wp--preset--gradient--blush-light-purple: linear-gradient(135deg,rgb(255,206,236) 0%,rgb(152,150,240) 100%);--wp--preset--gradient--blush-bordeaux: linear-gradient(135deg,rgb(254,205,165) 0%,rgb(254,45,45) 50%,rgb(107,0,62) 100%);--wp--preset--gradient--luminous-dusk: linear-gradient(135deg,rgb(255,203,112) 0%,rgb(199,81,192) 50%,rgb(65,88,208) 100%);--wp--preset--gradient--pale-ocean: linear-gradient(135deg,rgb(255,245,203) 0%,rgb(182,227,212) 50%,rgb(51,167,181) 100%);--wp--preset--gradient--electric-grass: linear-gradient(135deg,rgb(202,248,128) 0%,rgb(113,206,126) 100%);--wp--preset--gradient--midnight: linear-gradient(135deg,rgb(2,3,129) 0%,rgb(40,116,252) 100%);--wp--preset--duotone--dark-grayscale: url('#wp-duotone-dark-grayscale');--wp--preset--duotone--grayscale: url('#wp-duotone-grayscale');--wp--preset--duotone--purple-yellow: url('#wp-duotone-purple-yellow');--wp--preset--duotone--blue-red: url('#wp-duotone-blue-red');--wp--preset--duotone--midnight: url('#wp-duotone-midnight');--wp--preset--duotone--magenta-yellow: url('#wp-duotone-magenta-yellow');--wp--preset--duotone--purple-green: url('#wp-duotone-purple-green');--wp--preset--duotone--blue-orange: url('#wp-duotone-blue-orange');--wp--preset--font-size--small: 13px;--wp--preset--font-size--medium: 20px;--wp--preset--font-size--large: 36px;--wp--preset--font-size--x-large: 42px;}.has-black-color{color: var(--wp--preset--color--black) !important;}.has-cyan-bluish-gray-color{color: var(--wp--preset--color--cyan-bluish-gray) !important;}.has-white-color{color: var(--wp--preset--color--white) !important;}.has-pale-pink-color{color: var(--wp--preset--color--pale-pink) !important;}.has-vivid-red-color{color: var(--wp--preset--color--vivid-red) !important;}.has-luminous-vivid-orange-color{color: var(--wp--preset--color--luminous-vivid-orange) !important;}.has-luminous-vivid-amber-color{color: var(--wp--preset--color--luminous-vivid-amber) !important;}.has-light-green-cyan-color{color: var(--wp--preset--color--light-green-cyan) !important;}.has-vivid-green-cyan-color{color: var(--wp--preset--color--vivid-green-cyan) !important;}.has-pale-cyan-blue-color{color: var(--wp--preset--color--pale-cyan-blue) !important;}.has-vivid-cyan-blue-color{color: var(--wp--preset--color--vivid-cyan-blue) !important;}.has-vivid-purple-color{color: var(--wp--preset--color--vivid-purple) !important;}.has-black-background-color{background-color: var(--wp--preset--color--black) !important;}.has-cyan-bluish-gray-background-color{background-color: var(--wp--preset--color--cyan-bluish-gray) !important;}.has-white-background-color{background-color: var(--wp--preset--color--white) !important;}.has-pale-pink-background-color{background-color: var(--wp--preset--color--pale-pink) !important;}.has-vivid-red-background-color{background-color: var(--wp--preset--color--vivid-red) !important;}.has-luminous-vivid-orange-background-color{background-color: var(--wp--preset--color--luminous-vivid-orange) !important;}.has-luminous-vivid-amber-background-color{background-color: var(--wp--preset--color--luminous-vivid-amber) !important;}.has-light-green-cyan-background-color{background-color: var(--wp--preset--color--light-green-cyan) !important;}.has-vivid-green-cyan-background-color{background-color: var(--wp--preset--color--vivid-green-cyan) !important;}.has-pale-cyan-blue-background-color{background-color: var(--wp--preset--color--pale-cyan-blue) !important;}.has-vivid-cyan-blue-background-color{background-color: var(--wp--preset--color--vivid-cyan-blue) !important;}.has-vivid-purple-background-color{background-color: var(--wp--preset--color--vivid-purple) !important;}.has-black-border-color{border-color: var(--wp--preset--color--black) !important;}.has-cyan-bluish-gray-border-color{border-color: var(--wp--preset--color--cyan-bluish-gray) !important;}.has-white-border-color{border-color: var(--wp--preset--color--white) !important;}.has-pale-pink-border-color{border-color: var(--wp--preset--color--pale-pink) !important;}.has-vivid-red-border-color{border-color: var(--wp--preset--color--vivid-red) !important;}.has-luminous-vivid-orange-border-color{border-color: var(--wp--preset--color--luminous-vivid-orange) !important;}.has-luminous-vivid-amber-border-color{border-color: var(--wp--preset--color--luminous-vivid-amber) !important;}.has-light-green-cyan-border-color{border-color: var(--wp--preset--color--light-green-cyan) !important;}.has-vivid-green-cyan-border-color{border-color: var(--wp--preset--color--vivid-green-cyan) !important;}.has-pale-cyan-blue-border-color{border-color: var(--wp--preset--color--pale-cyan-blue) !important;}.has-vivid-cyan-blue-border-color{border-color: var(--wp--preset--color--vivid-cyan-blue) !important;}.has-vivid-purple-border-color{border-color: var(--wp--preset--color--vivid-purple) !important;}.has-vivid-cyan-blue-to-vivid-purple-gradient-background{background: var(--wp--preset--gradient--vivid-cyan-blue-to-vivid-purple) !important;}.has-light-green-cyan-to-vivid-green-cyan-gradient-background{background: var(--wp--preset--gradient--light-green-cyan-to-vivid-green-cyan) !important;}.has-luminous-vivid-amber-to-luminous-vivid-orange-gradient-background{background: var(--wp--preset--gradient--luminous-vivid-amber-to-luminous-vivid-orange) !important;}.has-luminous-vivid-orange-to-vivid-red-gradient-background{background: var(--wp--preset--gradient--luminous-vivid-orange-to-vivid-red) !important;}.has-very-light-gray-to-cyan-bluish-gray-gradient-background{background: var(--wp--preset--gradient--very-light-gray-to-cyan-bluish-gray) !important;}.has-cool-to-warm-spectrum-gradient-background{background: var(--wp--preset--gradient--cool-to-warm-spectrum) !important;}.has-blush-light-purple-gradient-background{background: var(--wp--preset--gradient--blush-light-purple) !important;}.has-blush-bordeaux-gradient-background{background: var(--wp--preset--gradient--blush-bordeaux) !important;}.has-luminous-dusk-gradient-background{background: var(--wp--preset--gradient--luminous-dusk) !important;}.has-pale-ocean-gradient-background{background: var(--wp--preset--gradient--pale-ocean) !important;}.has-electric-grass-gradient-background{background: var(--wp--preset--gradient--electric-grass) !important;}.has-midnight-gradient-background{background: var(--wp--preset--gradient--midnight) !important;}.has-small-font-size{font-size: var(--wp--preset--font-size--small) !important;}.has-medium-font-size{font-size: var(--wp--preset--font-size--medium) !important;}.has-large-font-size{font-size: var(--wp--preset--font-size--large) !important;}.has-x-large-font-size{font-size: var(--wp--preset--font-size--x-large) !important;}\n",
       "</style>\n",
       "<link as=\"script\" href=\"https://www.yomiuri.co.jp/assets/js/ajax-contents-20230630032416.js\" rel=\"preload\"/>\n",
       "<link href=\"https://www.yomiuri.co.jp/assets/js/ajax-contents-20230630032416.js\" rel=\"prefetch\"/>\n",
       "<script id=\"manifest-js\" src=\"https://www.yomiuri.co.jp/assets/js/manifest-20230630032416.js\"></script>\n",
       "<script id=\"vendor-js\" src=\"https://www.yomiuri.co.jp/assets/js/vendor-20230630032416.js\"></script>\n",
       "<script id=\"ajax-contents-js-extra\" type=\"text/javascript\">\n",
       "/* <![CDATA[ */\n",
       "var ajax_contents = {\"url\":\"\\/wp-admin\\/admin-ajax.php\",\"setting\":[{\"action\":\"menu_global_side\",\"use_global_url\":false,\"url\":\"\\/y_ajax\\/menu_global_side\\/\",\"tag_id\":\"memu_global_side\",\"method\":\"displayHtml\",\"format\":\"html\"},{\"action\":\"menu_global\",\"use_global_url\":false,\"url\":\"\\/y_ajax\\/menu_global\\/\",\"tag_id\":\"menu_global\",\"method\":\"displayHtml\",\"format\":\"html\",\"other_params\":\"menu_global_params\"},{\"action\":\"early_warning\",\"use_global_url\":false,\"url\":\"\\/y_ajax\\/early_warning\\/\",\"tag_id\":\"p-emergency\",\"method\":\"displayEarlyWarnings\",\"format\":\"json\"},{\"action\":\"early_warning_2020\",\"use_global_url\":false,\"url\":\"\\/y_ajax\\/early_warning\\/\",\"tag_id\":\"p-emergency-2020\",\"method\":\"displayEarlyWarnings2020\",\"format\":\"json\"},{\"action\":\"early_warning_top\",\"use_global_url\":false,\"url\":\"\\/y_ajax\\/early_warning\\/\",\"tag_id\":\"p-emergency-top\",\"method\":\"displayEarlyWarningsTop\",\"format\":\"json\"},{\"action\":\"early_warning_news_obit\",\"use_global_url\":false,\"url\":\"\\/y_ajax\\/early_warning\\/\",\"tag_id\":\"p-emergency-news-obit\",\"method\":\"displayEarlyWarningsNewsObit\",\"format\":\"json\"},{\"action\":\"kijishita_info\",\"use_global_url\":false,\"url\":\"\\/y_ajax\\/kijishita_info\\/\",\"tag_id\":\"p-emergency-notice\",\"method\":\"displayKijishitaInfo\",\"format\":\"json\"},{\"action\":\"sidebar_organized_news_list\",\"use_global_url\":false,\"url\":\"\\/y_ajax\\/sidebar_organized_news_list\\/\",\"tag_id\":\"sidebar_organized_news_list\",\"method\":\"displayHtml\",\"format\":\"html\",\"other_params\":\"sidebar_organized_params\"},{\"action\":\"sidebar_recommended\",\"use_global_url\":false,\"url\":\"\\/y_ajax\\/sidebar_recommended\\/\",\"tag_id\":\"sidebar_recommended\",\"method\":\"displayHtml\",\"format\":\"html\"},{\"action\":\"sidebar_latest_list\",\"use_global_url\":false,\"url\":\"\\/y_ajax\\/sidebar_latest_list\\/\",\"tag_id\":\"sidebar_latest_list\",\"method\":\"displayHtml\",\"format\":\"HTML\",\"other_params\":\"sidebar_latest_list_params\"},{\"action\":\"sidebar_ranking_access\",\"use_global_url\":false,\"url\":\"\\/y_ajax\\/sidebar_ranking_access\\/\",\"tag_id\":\"sidebar_ranking_access\",\"method\":\"displayRanking\",\"format\":\"html\",\"other_params\":\"ajax_ranking_parameter\"},{\"action\":\"ranking_sns\",\"use_global_url\":false,\"url\":\"\\/y_ajax\\/ranking_sns\\/\",\"tag_id\":\"ranking_sns\",\"method\":\"displayRanking\",\"format\":\"html\",\"other_params\":\"ajax_ranking_parameter\"},{\"action\":\"ranking_access\",\"use_global_url\":false,\"url\":\"\\/y_ajax\\/ranking_access\\/\",\"tag_id\":\"ranking_access\",\"method\":\"displayRanking\",\"format\":\"html\",\"other_params\":\"ajax_ranking_parameter\"},{\"action\":\"ranking_access_2020\",\"use_global_url\":false,\"url\":\"\\/y_ajax\\/ranking_access_2020\\/\",\"tag_id\":\"ranking_access_2020\",\"method\":\"displayRanking\",\"format\":\"html\",\"other_params\":\"ajax_ranking_parameter\"},{\"action\":\"ranking_access_kyoiku_support\",\"use_global_url\":false,\"url\":\"\\/y_ajax\\/ranking_access_kyoiku_support\\/\",\"tag_id\":\"ranking_access_kyoiku_support\",\"method\":\"displayRanking\",\"format\":\"html\",\"other_params\":\"ajax_ranking_parameter\"},{\"action\":\"ranking_access_event\",\"use_global_url\":false,\"url\":\"\\/y_ajax\\/ranking_access_event\\/\",\"tag_id\":\"ranking_access_event\",\"method\":\"displayRanking\",\"format\":\"html\",\"other_params\":\"ajax_ranking_parameter\"},{\"action\":\"ranking_access_event_end\",\"use_global_url\":false,\"url\":\"\\/y_ajax\\/ranking_access_event_end\\/\",\"tag_id\":\"ranking_access_event_end\",\"method\":\"displayRanking\",\"format\":\"html\",\"other_params\":\"ajax_ranking_parameter\"},{\"action\":\"olympic_2020_medals\",\"use_global_url\":false,\"url\":\"\\/y_ajax\\/olympic_2020_medals\\/\",\"tag_id\":\"olympic_2020_medals\",\"method\":\"displayHtml\",\"format\":\"html\"},{\"action\":\"olympic_paralympic2020_medals\",\"use_global_url\":false,\"url\":\"\\/y_ajax\\/olympic_paralympic2020_medals\\/\",\"tag_id\":\"olympic_paralympic2020_medals\",\"method\":\"displayHtml\",\"format\":\"html\"},{\"action\":\"olympic_2022_medals\",\"use_global_url\":false,\"url\":\"\\/y_ajax\\/olympic_2022_medals\\/\",\"tag_id\":\"olympic_2022_medals\",\"method\":\"displayHtml\",\"format\":\"html\"},{\"action\":\"olympic_paralympic2022_medals\",\"use_global_url\":false,\"url\":\"\\/y_ajax\\/olympic_paralympic2022_medals\\/\",\"tag_id\":\"olympic_paralympic2022_medals\",\"method\":\"displayHtml\",\"format\":\"html\"},{\"action\":\"latest_list\",\"use_global_url\":false,\"url\":\"\\/y_ajax\\/latest_list\\/\",\"tag_id\":\"latest_list\",\"method\":\"displayHtml\",\"format\":\"json\",\"paging\":\"ajax_more_button\",\"paging_disappear\":\"js-sys-paging-disappear-button\",\"other_params\":\"latest_list_other_params\"},{\"action\":\"latest_list_news_local\",\"use_global_url\":false,\"url\":\"\\/y_ajax\\/latest_list_news_local\\/\",\"tag_id\":\"latest_list_news_local\",\"method\":\"displayHtml\",\"format\":\"html\"},{\"action\":\"latest_list_news_more\",\"use_global_url\":false,\"url\":\"\\/y_ajax\\/latest_list_news_more\\/\",\"tag_id\":\"latest_list_news_more\",\"method\":\"displayHtml\",\"format\":\"json\",\"paging\":\"ajax_more_button\",\"paging_disappear\":\"js-sys-paging-disappear-button\",\"other_params\":\"latest_list_news_more_other_params\"},{\"action\":\"latest_list_column\",\"use_global_url\":false,\"url\":\"\\/y_ajax\\/latest_list_column\\/\",\"tag_id\":\"latest_list_column\",\"method\":\"displayHtml\",\"format\":\"json\",\"paging\":\"ajax_more_button\",\"paging_disappear\":\"js-sys-paging-disappear-button\",\"other_params\":\"latest_list_column_other_params\"},{\"action\":\"latest_list_olympic_2020_tag\",\"use_global_url\":false,\"url\":\"\\/y_ajax\\/latest_list_olympic_2020_tag\\/\",\"tag_id\":\"latest_list_olympic_2020_tag\",\"method\":\"displayHtml\",\"format\":\"json\",\"paging\":\"ajax_more_button\",\"paging_disappear\":\"js-sys-paging-disappear-button\",\"other_params\":\"latest_list_olympic_2020_tag_other_params\"},{\"action\":\"matome_title_latest_list\",\"use_global_url\":false,\"url\":\"\\/y_ajax\\/matome_title_latest_list\\/\",\"tag_id\":\"matome_title_latest_list\",\"method\":\"displayHtml\",\"format\":\"json\",\"paging\":\"ajax_more_button\",\"paging_disappear\":\"js-sys-paging-disappear-button\",\"other_params\":\"latest_list_other_params\"},{\"action\":\"matome_title_latest_list1\",\"use_global_url\":false,\"url\":\"\\/y_ajax\\/matome_title_latest_list1\\/\",\"tag_id\":\"matome_title_latest_list1\",\"method\":\"displayHtml\",\"format\":\"json\",\"paging\":\"ajax_more_button1\",\"paging_disappear\":\"js-sys-paging-disappear-button\",\"other_params\":\"latest_list_other_params1\"},{\"action\":\"matome_title_latest_list2\",\"use_global_url\":false,\"url\":\"\\/y_ajax\\/matome_title_latest_list2\\/\",\"tag_id\":\"matome_title_latest_list2\",\"method\":\"displayHtml\",\"format\":\"json\",\"paging\":\"ajax_more_button2\",\"paging_disappear\":\"js-sys-paging-disappear-button\",\"other_params\":\"latest_list_other_params2\"},{\"action\":\"matome_title_latest_list3\",\"use_global_url\":false,\"url\":\"\\/y_ajax\\/matome_title_latest_list3\\/\",\"tag_id\":\"matome_title_latest_list3\",\"method\":\"displayHtml\",\"format\":\"json\",\"paging\":\"ajax_more_button3\",\"paging_disappear\":\"js-sys-paging-disappear-button\",\"other_params\":\"latest_list_other_params3\"},{\"action\":\"matome_title_latest_list4\",\"use_global_url\":false,\"url\":\"\\/y_ajax\\/matome_title_latest_list4\\/\",\"tag_id\":\"matome_title_latest_list4\",\"method\":\"displayHtml\",\"format\":\"json\",\"paging\":\"ajax_more_button4\",\"paging_disappear\":\"js-sys-paging-disappear-button\",\"other_params\":\"latest_list_other_params4\"},{\"action\":\"matome_title_latest_list5\",\"use_global_url\":false,\"url\":\"\\/y_ajax\\/matome_title_latest_list5\\/\",\"tag_id\":\"matome_title_latest_list5\",\"method\":\"displayHtml\",\"format\":\"json\",\"paging\":\"ajax_more_button5\",\"paging_disappear\":\"js-sys-paging-disappear-button\",\"other_params\":\"latest_list_other_params5\"},{\"action\":\"menu_footer\",\"use_global_url\":false,\"url\":\"\\/y_ajax\\/menu_footer\\/\",\"tag_id\":\"memu_footer\",\"method\":\"displayHtml\",\"format\":\"html\"},{\"action\":\"timeline\",\"use_global_url\":false,\"url\":\"\\/y_ajax\\/timeline\\/\",\"tag_id\":\"timeline-list\",\"method\":\"displayHtml\",\"format\":\"json\",\"paging\":\"timeline-more\",\"reload\":\"timeline-reload\",\"paging_disappear\":\"js-sys-paging-disappear-button\",\"other_params\":\"timeline_other_params\",\"reload_params\":\"timeline_reload_params\"},{\"action\":\"timeline1\",\"use_global_url\":false,\"url\":\"\\/y_ajax\\/timeline1\\/\",\"tag_id\":\"timeline-list1\",\"method\":\"displayHtml\",\"format\":\"json\",\"paging\":\"timeline-more1\",\"reload\":\"timeline-reload1\",\"paging_disappear\":\"js-sys-paging-disappear-button\",\"other_params\":\"timeline_other_params1\",\"reload_params\":\"timeline_reload_params1\"},{\"action\":\"timeline2\",\"use_global_url\":false,\"url\":\"\\/y_ajax\\/timeline2\\/\",\"tag_id\":\"timeline-list2\",\"method\":\"displayHtml\",\"format\":\"json\",\"paging\":\"timeline-more2\",\"reload\":\"timeline-reload2\",\"paging_disappear\":\"js-sys-paging-disappear-button\",\"other_params\":\"timeline_other_params2\",\"reload_params\":\"timeline_reload_params2\"},{\"action\":\"sudoku\",\"use_global_url\":false,\"url\":\"\\/y_ajax\\/sudoku\\/\",\"format\":\"json\"},{\"action\":\"gendoku_count_down\",\"use_global_url\":false,\"url\":\"\\/y_ajax\\/gendoku_count_down\\/\",\"tag_id\":\"gendoku_count_down\",\"method\":\"displayHtml\",\"format\":\"html\"},{\"action\":\"header_member_status\",\"use_global_url\":false,\"url\":\"\\/y_ajax\\/header_member_status\\/\",\"tag_id\":\"header_member_status\",\"method\":\"displayHtml\",\"format\":\"html\"},{\"action\":\"yomipo_point\",\"use_global_url\":false,\"url\":\"\\/y_ajax\\/yomipo_point\\/\",\"tag_id\":\"yomipo_point\",\"method\":\"displayHtml\",\"format\":\"html\",\"special_yomipo\":true},{\"action\":\"header_member_status_2020\",\"use_global_url\":false,\"url\":\"\\/y_ajax\\/header_member_status_2020\\/\",\"tag_id\":\"header_member_status_2020\",\"method\":\"displayHtml\",\"format\":\"html\"},{\"action\":\"header_member_status_2020_sp\",\"use_global_url\":false,\"url\":\"\\/y_ajax\\/header_member_status_2020_sp\\/\",\"tag_id\":\"header_member_status_2020_sp\",\"method\":\"displayHtml\",\"format\":\"html\"},{\"action\":\"temp_gendoku_announce\",\"use_global_url\":false,\"url\":\"\\/y_ajax\\/temp_gendoku_announce\\/\",\"tag_id\":\"temp_gendoku_announce\",\"method\":\"displayHtml\",\"format\":\"html\"},{\"action\":\"mynews_list\",\"use_global_url\":false,\"url\":\"\\/y_ajax\\/mynews_list\\/\",\"tag_id\":\"mynews_list\",\"method\":\"displayHtmlMynews\",\"format\":\"html\"},{\"action\":\"mynews_list_2020\",\"use_global_url\":false,\"url\":\"\\/y_ajax\\/mynews_list_2020\\/\",\"tag_id\":\"mynews_list_2020\",\"method\":\"displayHtmlMynews\",\"format\":\"html\"},{\"action\":\"mynews_widget\",\"use_global_url\":false,\"url\":\"\\/y_ajax\\/mynews_list\\/\",\"tag_id\":\"mynews_widget\",\"method\":\"displayHtmlMynews\",\"format\":\"html\"},{\"action\":\"scrap\",\"use_global_url\":false,\"url\":\"\\/y_ajax\\/scrap\\/\",\"format\":\"json\"},{\"action\":\"scrap_list\",\"use_global_url\":false,\"url\":\"\\/y_ajax\\/scrap_list\\/\",\"tag_id\":\"scrap_list\",\"method\":\"displayHtml\",\"format\":\"html\"},{\"action\":\"scrap_widget\",\"use_global_url\":false,\"url\":\"\\/y_ajax\\/scrap_list\\/\",\"tag_id\":\"scrap_widget\",\"method\":\"displayHtml\",\"format\":\"html\"},{\"action\":\"pokemon\",\"use_global_url\":false,\"url\":\"\\/y_ajax\\/pokemon\\/\",\"format\":\"json\"},{\"action\":\"pokemon_image\",\"use_global_url\":false,\"url\":\"\\/y_ajax\\/pokemon_image\\/\",\"format\":\"image\"},{\"action\":\"coupon\",\"use_global_url\":false,\"url\":\"\\/y_ajax\\/coupon\\/\",\"format\":\"json\"},{\"action\":\"team8_favorite_article\",\"use_global_url\":false,\"tag_id\":\"team8_favorite_article\",\"url\":\"\\/y_ajax\\/team8_favorite_article\\/\",\"method\":\"displayHtmlMynews\",\"format\":\"html\"},{\"action\":\"team8_favorite_list\",\"use_global_url\":false,\"url\":\"\\/y_ajax\\/team8_favorite_list\\/\",\"format\":\"json\"},{\"action\":\"team8_favorite\",\"use_global_url\":false,\"url\":\"\\/y_ajax\\/team8_favorite\\/\",\"format\":\"json\"},{\"action\":\"team8_favorite_cancel\",\"use_global_url\":false,\"url\":\"\\/y_ajax\\/team8_favorite_cancel\\/\",\"format\":\"json\"},{\"action\":\"team8_like\",\"use_global_url\":false,\"url\":\"\\/y_ajax\\/team8_like\\/\",\"format\":\"json\"},{\"action\":\"kyouiku_support_information_category_latest_list\",\"use_global_url\":false,\"url\":\"\\/y_ajax\\/kyouiku_support_information_category_latest_list\\/\",\"tag_id\":\"kyouiku_support_information_category_latest_list\",\"method\":\"displayHtml\",\"format\":\"json\",\"paging\":\"kyouiku_support_information_category_ajax_more_button\",\"other_params\":\"kyouiku_support_information_category_other_params\"},{\"action\":\"quick_photo_list\",\"use_global_url\":false,\"url\":\"\\/y_ajax\\/quick_photo_list\\/\",\"format\":\"json\"},{\"action\":\"gourmet_recipe_category_latest_list\",\"use_global_url\":false,\"url\":\"\\/y_ajax\\/gourmet_recipe_category_latest_list\\/\",\"tag_id\":\"gourmet_recipe_category_latest_list\",\"method\":\"displayHtml\",\"format\":\"json\",\"paging\":\"gourmet_recipe_category_ajax_more_button\",\"other_params\":\"gourmet_recipe_category_other_params\"},{\"action\":\"gourmet_food_column_category_latest_list\",\"use_global_url\":false,\"url\":\"\\/y_ajax\\/gourmet_food_column_category_latest_list\\/\",\"tag_id\":\"gourmet_food_column_category_latest_list\",\"method\":\"displayHtml\",\"format\":\"json\",\"paging\":\"gourmet_food_column_category_ajax_more_button\",\"other_params\":\"gourmet_food_column_category_other_params\"},{\"action\":\"gourmet_recipe_search_word\",\"use_global_url\":false,\"format\":\"json\"},{\"action\":\"shogi_play\",\"use_global_url\":false,\"format\":\"json\"}]};\n",
       "/* ]]> */\n",
       "</script>\n",
       "<script id=\"ajax-contents-js\" src=\"https://www.yomiuri.co.jp/assets/js/ajax-contents-20230630032416.js\"></script>\n",
       "<!-- HO-04 20230411 122525--><!-- paper -->\n",
       "<link href=\"//www.googletagservices.com\" rel=\"preconnect\"/>\n",
       "<link href=\"//securepubads.g.doubleclick.net\" rel=\"preconnect\"/>\n",
       "<link href=\"//pagead2.googlesyndication.com\" rel=\"preconnect\"/>\n",
       "<link href=\"//fam.adingo.jp\" rel=\"preconnect\"/>\n",
       "<link as=\"script\" href=\"https://securepubads.g.doubleclick.net/tag/js/gpt.js\" rel=\"preload\"/>\n",
       "<link as=\"script\" href=\"https://fam.adingo.jp/bid-strap/yomiuri-online-top/pb.js\" rel=\"preload\"/>\n",
       "<script type=\"text/javascript\">(function(d,s,endpoint,fp,tp){var e=d.createElement(s),tg=d.getElementsByTagName(s)[0],f=fp||\"\",t=tp||\"\";e.type=\"text/javascript\";e.async=true;e.src=\"https://global.one.yomiuri.co.jp/ssc-ym-client.v2.0.js?endpoint=\"+encodeURIComponent(endpoint)+\"&fp=\"+f+\"&tp=\"+t;tg.parentNode.insertBefore(e,tg)})(document,\"script\",\"https://ssc.one.yomiuri.co.jp\");</script>\n",
       "<script>function ad_tr(){var r=document.cookie.split(\";\");ret=!0;for(var t=0,e=r.length;t<e;)c=r[t++],cArray=c.split(\"=\"),\"AD_TR\"==cArray[0].trim(\" \")&&(ret=!1);return ret}</script>\n",
       "<script async=\"async\" src=\"https://securepubads.g.doubleclick.net/tag/js/gpt.js\"></script>\n",
       "<script async=\"async\" src=\"https://fam.adingo.jp/bid-strap/yomiuri-online-top/pb.js\" type=\"text/javascript\"></script>\n",
       "<script defer=\"\" src=\"https://tagan.adlightning.com/fluct-yomiuri/op.js\"></script>\n",
       "<script>var bsttag=window.bsttag||{cmd:[]};bsttag.failSafeTimeout=2e3;bsttag.launchAuction=function(slots){var hbm={};bsttag.cmd.push(function(cmd){hbm=cmd.requestBids({adUnits:slots})});setTimeout(function(){if(hbm.isRequestSent){return}hbm.isRequestSent=true;googletag.cmd.push(function(){googletag.pubads().refresh(slots)})},bsttag.failSafeTimeout)};AD3={pageType:\"new-top\",tagType:\"open\",adUnitCode:\"/51343015/yol2020/open_area/\",adOverlayDiv:\"\",AD_HEIGHT:200,dlog:function(str){const date1=new Date;D_str.push(date1.toLocaleString()+\" \"+str)},getDir:function(){return location.href.replace(/^.*?\\.[^/]*(\\/)/,\"\").replace(/(\\?|#).*?$/,\"\").replace(/\\.([^.]*?)$/,\"\").replace(/\\/$/,\"\").split(\"/\")},getPar:function(){var par=encodeURIComponent(location.search.substring(1)).split(\"%26\");return par},getDevice:function(){if(768<window.innerWidth){return\"PC\"}else{return\"SP\"}},getCookie:function(){var arr=[],decode=function(encodedURIParams){try{return decodeURIComponent(encodedURIParams)}catch(err){return\"\"}};if(document.cookie!=\"\"){var item=document.cookie.split(\"; \");for(var i=0;i<item.length;i++){var data=item[i].split(\"=\");arr[data[0]]=decode(data[1])}}return arr},getCookieValue:function(key){var arr=this.getCookie(),val=\"\";if(arr[key]!=undefined){val=\"000000\"+arr[key]}return val},setTargeting:function(){var dir=this.getDir(),par=this.getPar();function randomInt(min,max){return Math.floor(Math.random()*(max+1-min))+min}googletag.pubads().setTargeting(\"d1d\",\"top\").setTargeting(\"uri\",dir).setTargeting(\"parameter\",par).setTargeting(\"pageType\",this.pageType).setTargeting(\"tagType\",this.tagType).setTargeting(\"hostname\",location.host).setTargeting(\"fluct_ad_group\",String(randomInt(1,10)));if(document.referrer){googletag.pubads().setTargeting(\"refHost\",document.referrer.split(\"/\")[2])}},adsDisplay:function(IgnitionSlots){var HBSlots=[],GAMSlots=[];for(var key in IgnitionSlots){this.adSlots[key][\"Ignition\"]=false;if(this.adSlots[key][\"Type\"]==\"HB\"){this.dlog(\"HBSlot \"+key+\" 発火\");HBSlots.push(this.adSlots[key][\"Slot\"])}else{this.dlog(\"GAMSlot \"+key+\" 発火\");GAMSlots.push(this.adSlots[key][\"Slot\"])}}if(HBSlots.length!=0){bsttag.launchAuction(HBSlots)}if(GAMSlots.length!=0){googletag.cmd.push(function(){googletag.pubads().refresh(GAMSlots)})}},adWakeUp:function(){this.adDevice=this.getDevice();var GroupTag=this.adDevice+\"_group\";var LazyTag=this.adDevice+\"_lazy\";var IgnitionSlots={};for(var key in this.adSlots){var margin=this.adSlots[key][LazyTag];if(this.adSlots[key][\"Ignition\"]){if(margin>=0){var elem=document.getElementById(key);if(elem!==null){var rect;if(elem.style.display==\"none\"){elem.style.display=\"block\";rect=elem.getBoundingClientRect();elem.style.display=\"none\"}else{rect=elem.getBoundingClientRect()}if(-this.AD_HEIGHT-margin<rect.top&&rect.top<window.innerHeight+margin){IgnitionSlots[key]=true;if(this.adSlots[key][GroupTag]){for(var key2 in this.adSlots){if(this.adSlots[key2][\"Ignition\"]&&this.adSlots[key2][GroupTag]==this.adSlots[key][GroupTag]&&document.getElementById(key2)!==null){IgnitionSlots[key2]=true}}}}}}else if(margin==-1){IgnitionSlots[key]=true}}}if(Object.keys(IgnitionSlots).length!=0){this.adsDisplay(IgnitionSlots)}},adsRefresh:function(){this.adDevice=this.getDevice();for(var key in this.adSlots){this.adSlots[key][\"Ignition\"]=true}this.adWakeUp()},makeBatsu:function(ov_slotElementId){var iframe_elm=document.getElementById(this.adOverlayDiv).querySelector(\"iframe[id^=google_ads_iframe]\");ov_width=iframe_elm.getBoundingClientRect().width;ov_height=iframe_elm.getBoundingClientRect().height;this.dlog(\"Batsu Size:\"+String(ov_height)+\"px \");if(ov_height<50){return}var elm=document.getElementById(ov_slotElementId);var parent=elm.parentNode;var batsu_div=document.createElement(\"div\");batsu_div.id=\"batsu\";var window_width=window.innerWidth;batsu_div.style=\"display:block;position:fixed;z-index:2001\";var batsu_bottom=0,batsu_height=0;if(AD3.getDevice()==\"PC\"){batsu_bottom=-30;batsu_height=-38}batsu_div.style.bottom=ov_height+batsu_bottom+\"px\";batsu_div.style.left=(window_width-ov_width)/2+batsu_height+\"px\";var batsu_img=document.createElement(\"img\");batsu_img.src=\"data:image/svg+xml;base64,PHN2ZyB4bWxucz0iaHR0cDovL3d3dy53My5vcmcvMjAwMC9zdmciIHdpZHRoPSIyNCIgaGVpZ2h0PSIyNCIgdmlld0JveD0iMCAwIDI0IDI0Ij48cGF0aCBkPSJNMTksM2EyLDIsMCwwLDEsMiwyVjE5YTIsMiwwLDAsMS0yLDJINWEyLDIsMCwwLDEtMi0yVjVBMiwyLDAsMCwxLDUsM0gxOSIgc3R5bGU9ImZpbGw6I2ZmZiIvPjxwYXRoIGQ9Ik0xOSwxSDVBNCw0LDAsMCwwLDEsNVYxOWE0LDQsMCwwLDAsNCw0SDE5YTQsNCwwLDAsMCw0LTRWNUE0LDQsMCwwLDAsMTksMVptMiwxOGEyLDIsMCwwLDEtMiwySDVhMiwyLDAsMCwxLTItMlY1QTIsMiwwLDAsMSw1LDNIMTlhMiwyLDAsMCwxLDIsMlpNMTcuMjEsNi43OWExLDEsMCwwLDAtMS40MiwwTDEyLDEwLjU5LDguMjEsNi43OUExLDEsMCwxLDAsNi43OSw4LjIxTDEwLjU5LDEybC0zLjgsMy43OWExLDEsMCwwLDAsMCwxLjQyLDEsMSwwLDAsMCwxLjQyLDBMMTIsMTMuNDFsMy43OSwzLjhhMSwxLDAsMCwwLDEuNDIsMCwxLDEsMCwwLDAsMC0xLjQyTDEzLjQxLDEybDMuOC0zLjc5QTEsMSwwLDAsMCwxNy4yMSw2Ljc5WiIvPjwvc3ZnPg==\";batsu_div.appendChild(batsu_img);batsu_div.addEventListener(\"click\",function(){googletag.pubads().clear([AD3.adSlots[ov_slotElementId].Slot]);document.getElementById(\"batsu\").remove()},false);parent.insertBefore(batsu_div,elm);this.adWakeUp()},adSlots:{ad_dfp_banner:{UnitPath:\"YOL_top_banner\",Type:\"HB\",GAMMapping:\"mapping8\",PC_lazy:-1,SP_lazy:-2},ad_dfp_sp_banner:{UnitPath:\"YOL_sp_banner\",Type:\"HB\",GAMMapping:\"mapping9\",PC_lazy:-2,SP_lazy:-1},ad_dfp_banner3:{UnitPath:\"YOL_banner3\",Type:\"HB\",GAMMapping:\"mapping7\",PC_lazy:600,SP_lazy:-2},ad_dfp_rec1:{UnitPath:\"YOL_rec1\",Type:\"HB\",GAMMapping:\"mapping2\",PC_lazy:-1,SP_lazy:400,CollapseEmpty:1},ad_dfp_rec2:{UnitPath:\"YOL_rec2\",Type:\"HB\",GAMMapping:\"mapping3\",PC_lazy:600,SP_lazy:800,CollapseEmpty:1},\"ad_dfp_middle-rec1\":{UnitPath:\"YOL_middle-rec1\",Type:\"HB\",GAMMapping:\"mapping3\",PC_lazy:400,SP_lazy:400},\"ad_dfp_middle-rec2\":{UnitPath:\"YOL_middle-rec2\",Type:\"HB\",GAMMapping:\"mapping5\",PC_lazy:400,SP_lazy:-2},\"ad_dfp_top-infeed1\":{UnitPath:\"YOL_top-infeed1\",Type:\"GAM\",PC_lazy:-1,SP_lazy:-1},\"ad_dfp_top-infeed2\":{UnitPath:\"YOL_top-infeed2\",Type:\"GAM\",PC_lazy:-1,SP_lazy:-1},\"ad_dfp_premium-tile\":{UnitPath:\"YOL_premium-tile\",Type:\"GAM\",PC_lazy:100,SP_lazy:100},\"ad_dfp_pickup-tile1\":{UnitPath:\"YOL_pickup-tile1\",Type:\"GAM\",PC_lazy:200,SP_lazy:500},\"ad_dfp_news-txt1\":{UnitPath:\"YOL_news-txt1\",Type:\"GAM\",PC_lazy:-1,SP_lazy:-1},\"ad_dfp_news-txt2\":{UnitPath:\"YOL_news-txt2\",Type:\"GAM\",PC_lazy:-1,SP_lazy:-1},\"ad_dfp_news-txt3\":{UnitPath:\"YOL_news-txt3\",Type:\"GAM\",PC_lazy:-1,SP_lazy:-1},\"ad_dfp_news-txt4\":{UnitPath:\"YOL_news-txt4\",Type:\"GAM\",PC_lazy:-1,SP_lazy:-1},\"ad_dfp_thumbnail-txt1\":{UnitPath:\"YOL_thumbnail-txt1\",Type:\"GAM\",PC_lazy:-1,SP_lazy:-1},\"ad_dfp_thumbnail-txt2\":{UnitPath:\"YOL_thumbnail-txt2\",Type:\"GAM\",PC_lazy:-1,SP_lazy:-1},\"ad_dfp_thumbnail-txt3\":{UnitPath:\"YOL_thumbnail-txt3\",Type:\"GAM\",PC_lazy:-1,SP_lazy:-1}},Mapping:{mapping1:[[[783,0],[[970,1],[970,250],[728,90]]],[[0,0],[[320,1],[320,50]]]],mapping2:[[[783,0],[[300,250],[300,600],[1,1]]],[[336,280],[[300,250],[336,280],[320,100],[1,1]]],[[0,0],[[300,250],[320,100],[1,1]]]],mapping3:[[[783,0],[[300,250],[300,600],[1,1]]],[[336,280],[[300,250],[336,280],[320,100],[1,1]]],[[0,0],[[300,250],[320,100],[1,1]]]],mapping4:[[[783,0],[[300,250],[336,280],[1,1]]],[[0,0],[[300,250],[1,1]]]],mapping5:[[[783,0],[[300,250],[1,1]]],[[0,0],[]]],mapping6:[[[783,0],[[640,360],[640,1]]],[[0,0],[[320,180],[320,1]]]],mapping7:[[[783,0],[[970,1],[728,90]]],[[0,0],[]]],mapping8:[[[783,0],[[970,1],[728,90]]],[[0,0],[]]],mapping9:[[[783,0],[]],[[0,0],[[320,1],[320,50]]]]}};var D_str=[];AD3=AD3||{};window.googletag=window.googletag||{cmd:[]};googletag.cmd.push(function(){for(var key in AD3.adSlots){if(AD3.adSlots[key][\"UnitPath\"].indexOf(\"/\")!==0){AD3.adSlots[key][\"UnitPath\"]=AD3.adUnitCode+AD3.adSlots[key][\"UnitPath\"]}var tmpSlot=AD3.adSlots[key];if(tmpSlot[\"GAMMapping\"]){AD3.adSlots[key][\"Slot\"]=googletag.defineSlot(tmpSlot[\"UnitPath\"],[[1,1]],key).defineSizeMapping(AD3.Mapping[tmpSlot[\"GAMMapping\"]]).addService(googletag.pubads())}else{AD3.adSlots[key][\"Slot\"]=googletag.defineSlot(tmpSlot[\"UnitPath\"],[[1,1],\"fluid\"],key).addService(googletag.pubads())}if(tmpSlot[\"CollapseEmpty\"]){AD3.adSlots[key][\"Slot\"]=AD3.adSlots[key][\"Slot\"].setCollapseEmptyDiv(true)}if(tmpSlot[\"overlay\"]){AD3.adOverlayDiv=key}}var featureFlag=false;if(ad_tr()){var arr=AD3.getCookie();var ABtest=arr[\"ABtest\"];if(ABtest==undefined){ABtest=\"NONE\";if(Math.random()<.1){if(Math.random()>.5){ABtest=\"ON\"}else{ABtest=\"OFF\"}}}document.cookie=\"ABtest=\"+ABtest+\"; path=/;max-age=\"+String(84600*30);AD3.dlog(\"ABtest:\"+ABtest);if(ABtest==\"ON\"){googletag.pubads().setPublisherProvidedId(AD3.getCookieValue(\"one_td_ssc_id\"));googletag.pubads().setTargeting(\"Y_PPID\",\"ON\")}else if(ABtest==\"OFF\"){googletag.pubads().setTargeting(\"Y_PPID\",\"OFF\")}else{googletag.pubads().setPublisherProvidedId(AD3.getCookieValue(\"one_td_ssc_id\"))}}googletag.pubads().collapseEmptyDivs(true);googletag.pubads().disableInitialLoad();googletag.pubads().enableSingleRequest();googletag.enableServices();AD3.setTargeting();AD3.adsRefresh();AD3.adWakeUp()});var AdTimeoutId;window.addEventListener(\"scroll\",function(){if(AdTimeoutId)return;AdTimeoutId=setTimeout(function(){AdTimeoutId=0;AD3.adWakeUp()},333)});\n",
       "</script>\n",
       "<style>@media screen and (max-width:599px){#ad_dfp_rec1,#ad_rec2_area,.home-2020-ntvnews-ad,.p-ad-dfp-rec1{min-height:250px}.home-2020-prime-recommend li{min-height:75px}.home-2020-ad-text1 li{min-height:22px}.home-2020-ad-text2 li{min-height:70px}.headline .ad{min-height:60px}}@media screen and (min-width:600px){#ad_dfp_rec1,#ad_rec2_area,.p-ad-dfp-rec1{min-height:250px}.home-2020-ntvnews-ad{min-height:530px}.home-2020-ad-text2 li{min-height:70px}.headline .ad{min-height:75px}.home-2021-ad-head-sp{min-height:60px}}</style>\n",
       "<!-- HO-04 20230411 122525 End --> <meta content=\"【読売新聞】読売新聞オンラインは読売新聞のニュース・情報サイト。社会、スポーツ、政治、経済、国際などの最新ニュースや教育、医療などの読み物、映像ニュースも充実。ポケモン、発言小町、クーポンやプレゼントも。2019年2月にYOMIURI ONLINEからサイト名を変更しました。\" name=\"description\">\n",
       "<meta content=\"max-image-preview:large\" name=\"robots\"/>\n",
       "<meta content=\"\" name=\"keywords\"/>\n",
       "<meta content=\"696165403843173\" property=\"fb:app_id\"/>\n",
       "<meta content=\"読売新聞オンライン\" property=\"og:site_name\"/>\n",
       "<meta content=\"article\" property=\"og:type\"/>\n",
       "<meta content=\"読売新聞オンライン : ニュース＆お得サイト\" property=\"og:title\"/>\n",
       "<meta content=\"【読売新聞】読売新聞オンラインは読売新聞のニュース・情報サイト。社会、スポーツ、政治、経済、国際などの最新ニュースや教育、医療などの読み物、映像ニュースも充実。ポケモン、発言小町、クーポンやプレゼントも。2019年2月にYOMIURI ONLINEからサイト名を変更しました。\" property=\"og:description\">\n",
       "<meta content=\"https://www.yomiuri.co.jp/ogp.jpg?type=ogp\" property=\"og:image\"/>\n",
       "<meta content=\"@Yomiuri_Online\" name=\"twitter:site\"/>\n",
       "<meta content=\"summary_large_image\" name=\"twitter:card\"/>\n",
       "<meta content=\"読売新聞オンライン : ニュース＆お得サイト\" name=\"twitter:title\">\n",
       "<meta content=\"【読売新聞】読売新聞オンラインは読売新聞のニュース・情報サイト。社会、スポーツ、政治、経済、国際などの最新ニュースや教育、医療などの読み物、映像ニュースも充実。ポケモン、発言小町、クーポンやプレゼントも。2019年2月にYOMIURI ONLINEからサイト名を変更しました。\" name=\"twitter:description\">\n",
       "<meta content=\"#4B0082\" name=\"theme-color\"/>\n",
       "<link href=\"http://www.hatena.ne.jp/YomiuriShimbun/\" rel=\"author\"/>\n",
       "<!-- Google Tag Manager -->\n",
       "<script>\n",
       "    var yolDataLayerValue = {};\n",
       "                yolDataLayerValue.memberStatus = '0';\n",
       "        if (Object.keys(yolDataLayerValue).length > 0) {\n",
       "        window.dataLayer = window.dataLayer || [];\n",
       "        window.dataLayer.push(yolDataLayerValue);\n",
       "    }\n",
       "    (function(w,d,s,l,i){w[l]=w[l]||[];w[l].push({'gtm.start':\n",
       "            new Date().getTime(),event:'gtm.js'});var f=d.getElementsByTagName(s)[0],\n",
       "        j=d.createElement(s),dl=l!='dataLayer'?'&l='+l:'';j.async=true;j.src=\n",
       "        'https://www.googletagmanager.com/gtm.js?id='+i+dl;f.parentNode.insertBefore(j,f);\n",
       "    })(window,document,'script','dataLayer','GTM-NTF2JCX');\n",
       "</script>\n",
       "<!-- End Google Tag Manager -->\n",
       "<link href=\"/favicon.ico\" rel=\"shortcut icon\"/>\n",
       "<link href=\"/apple-touch-icon.png\" rel=\"apple-touch-icon\" sizes=\"152x152\"/>\n",
       "<link href=\"/apple-touch-icon-120x120.png\" rel=\"apple-touch-icon\" sizes=\"120x120\"/>\n",
       "<link href=\"/apple-touch-icon-precomposed.png\" rel=\"apple-touch-icon-precomposed\"/>\n",
       "</meta></meta></meta></meta></meta></head>\n",
       "<body class=\"home page-template page-template-page-home page-template-page-home-php page page-id-2602122\">\n",
       "<svg class=\"p-svgs\" height=\"0px\" version=\"1.1\" width=\"0px\" xmlns=\"http://www.w3.org/2000/svg\" xmlns:xlink=\"http://www.w3.org/1999/xlink\">\n",
       "<!-- 2021 -->\n",
       "<symbol id=\"icon_2021_plus_small\" viewbox=\"0 0 12 12\"><polygon points=\"12 5.128 6.872 5.128 6.872 0 5.128 0 5.128 5.128 0 5.128 0 6.872 5.128 6.872 5.128 12 6.872 12 6.872 6.872 12 6.872\"></polygon></symbol>\n",
       "<symbol id=\"icon_2021_minus_small\" viewbox=\"0 0 12 12\"><polygon points=\"12 5.128 0 5.128 0 6.872 12 6.872\"></polygon></symbol>\n",
       "<symbol id=\"icon_2021_ycontents\" viewbox=\"0 0 24 22\"><path d=\"M9.34524887,17.0900295 C9.56227328,17.1440089 9.77929769,17.1893515 9.99632211,17.2271371 L5.36393601,21.835895 C5.2594955,21.9398255 5.11775377,21.9980977 4.9700367,21.997837 C4.90949756,21.9980627 4.84934668,21.9882103 4.79207668,21.9686843 C4.59167475,21.9015268 4.44696835,21.7270071 4.41879469,21.5184964 L3.95436245,18.0638172 L0.481971841,17.5974355 C0.27233447,17.5691878 0.096908768,17.4251589 0.0292514247,17.2257406 C-0.0384059185,17.0263223 0.0133996901,16.8059843 0.162945954,16.657115 L3.92180879,12.9174248 C4.01404416,13.0836812 4.11713076,13.241301 4.21913223,13.4043187 C4.32113371,13.5673363 4.42856079,13.7163194 4.54466885,13.8674616 L1.74830929,16.6495579 L4.53273251,17.0230951 C4.78125778,17.0563683 4.9767424,17.2508559 5.01018622,17.4981135 L5.38238309,20.2618568 L8.74626149,16.9151364 C8.93398761,16.9831504 9.13907568,17.0382093 9.34524887,17.0900295 Z M5.52453408,16.9593994 L6.60965614,15.8798122 C6.45448369,15.7718535 6.30690709,15.6638948 6.15933049,15.5440606 L5.12629428,16.5729072 C5.0177135,16.6812035 5.0177135,16.8565011 5.12629428,16.9647974 C5.23514583,17.0728243 5.41134204,17.0728243 5.52019359,16.9647974 L5.52453408,16.9593994 Z M17.507537,15.7826494 L18.6903201,16.9593994 C18.7991716,17.0674264 18.9753679,17.0674264 19.0842194,16.9593994 C19.1928002,16.8511031 19.1928002,16.6758056 19.0842194,16.5675093 L17.9578627,15.4468977 C17.8113712,15.5656523 17.6594541,15.6746906 17.5064519,15.7826494 L17.507537,15.7826494 Z M23.8435648,16.657115 L20.0847019,12.9174248 C19.9924666,13.0836812 19.88938,13.241301 19.7873785,13.4043187 C19.685377,13.5673363 19.5779499,13.7163194 19.4618419,13.8674616 L22.2571163,16.6484783 L19.4792038,17.0187767 C19.2306786,17.05205 19.0351939,17.2465375 19.0017501,17.4937951 L18.6262979,20.264016 L15.2624195,16.9172955 C15.0616719,16.98423 14.857669,17.0392889 14.6504106,17.0921887 C14.4431523,17.1450885 14.2163618,17.1925903 13.9993374,17.2292963 L18.6317235,21.8380542 C18.7362317,21.9418838 18.8779294,22.0001379 19.0256228,21.9999962 C19.0861619,22.0002219 19.1463128,21.9903695 19.2035828,21.9708434 C19.4044083,21.9040238 19.5495918,21.7294361 19.5779499,21.5206556 L20.0456376,18.0659764 L23.5180282,17.603913 C23.7276655,17.5756653 23.9030912,17.4316364 23.9707486,17.2322181 C24.0384059,17.0327999 23.9866003,16.8124618 23.837054,16.6635925 L23.8435648,16.657115 Z M15.4664224,6.42910548 C15.4664224,8.32335859 13.9229542,9.85895415 12.0189896,9.85895415 C10.1150251,9.85895415 8.57155684,8.32335859 8.57155684,6.42910548 C8.57155684,4.53485236 10.1150251,2.99925681 12.0189896,2.99925681 C13.921539,3.00223055 15.4629473,4.53625952 15.4653373,6.42910548 L15.4664224,6.42910548 Z M13.9385706,6.41615043 C13.9385706,5.35901767 13.0772016,4.50204225 12.0146491,4.50204225 C10.9520967,4.50204225 10.0907277,5.35901767 10.0907277,6.41615043 C10.0907277,7.47328319 10.9520967,8.33025861 12.0146491,8.33025861 C13.0762813,8.32787857 13.9358049,7.47129052 13.9364003,6.41507085 L13.9385706,6.41615043 Z M20.3082372,8.26440379 C20.308676,11.6076101 18.2847321,14.6218453 15.1802609,15.9014367 C12.0757898,17.181028 8.50223912,16.473951 6.12611549,14.1099471 C3.74999186,11.7459432 3.03928975,8.19061999 4.32544133,5.10198364 C5.6115929,2.0133473 8.64128145,-0.000273202614 12.0016277,8.1038126e-05 C14.2073,-0.00965257605 16.3254689,0.857810195 17.8850285,2.40961776 C19.4445881,3.96142532 20.3162214,6.06890351 20.3060668,8.26332421 L20.3082372,8.26440379 Z M18.6382366,8.26440379 C18.6406123,5.4279439 16.8221291,2.90679064 14.1204345,2.00090586 C11.4187398,1.09502107 8.4373635,2.00676978 6.71356846,4.26603437 C4.98977342,6.52529896 4.9086371,9.62738379 6.51199516,11.972786 C7.03276537,10.894033 7.89667078,10.0163195 8.96979663,9.47570068 L9.13582031,9.39149287 L9.2779713,9.51240665 C9.50793721,9.70892264 9.76342202,9.87377761 10.0375567,10.0025393 L10.6343739,10.2821523 L10.0169394,10.5121044 C8.82686616,10.9575056 7.90729203,11.9205201 7.52115868,13.1257851 C10.0565201,15.4556381 13.9683218,15.4476369 16.494033,13.1074322 C16.1051079,11.9136981 15.1920764,10.9604412 14.0123589,10.5164228 L13.3938393,10.2853911 L13.9917416,10.0068576 C14.2659174,9.87861496 14.5214231,9.71410967 14.751327,9.51780458 L14.8923929,9.39689081 L15.0584165,9.48109862 C16.1215061,10.0181861 16.9789154,10.8863871 17.4999412,11.9533534 C18.2418928,10.8644057 18.6380701,9.57888379 18.6371491,8.26332421 L18.6382366,8.26440379 Z\"></path></symbol>\n",
       "<symbol id=\"icon_2021_search\" viewbox=\"0 0 20 22\"><path d=\"M16.5429017,17.0106415 L19.6990759,20.2135956 C20.1004827,20.6230816 20.1004827,21.285263 19.6980267,21.6936842 C19.3265288,22.0706883 18.7419671,22.0996886 18.3376901,21.7806851 L18.2406045,21.6936842 L14.8745782,18.2777676 L15.1610262,18.0711941 C15.4135481,17.8894662 15.6772621,17.6968536 15.9403544,17.4939872 L16.3330497,17.1820762 L16.5429017,17.0106415 Z M12.6540972,0.707224273 C16.073833,2.1447202 18.3035601,5.53120291 18.3035601,9.2875608 C18.2977778,14.4143565 14.2038314,18.5689822 9.15191378,18.5748501 C5.45041838,18.5748501 2.11339606,16.3120747 0.696895096,12.8416526 C-0.719605868,9.37123038 0.0633701422,5.37660167 2.68072264,2.72045553 C5.29807514,0.0643093961 9.23436135,-0.730271658 12.6540972,0.707224273 Z M9.15191378,2.4088758 C6.40976439,2.4084453 3.93740844,4.08448462 2.88783725,6.65536749 C1.83826606,9.22625035 2.41820487,12.1856115 4.35719733,14.1533431 C6.29618978,16.1210748 9.21232877,16.7096093 11.7456633,15.6444817 C14.1945533,14.6148583 15.8194744,12.2360159 15.9246981,9.56488409 L15.9301338,9.2875608 C15.927134,5.48985574 12.894153,2.41239721 9.15191378,2.4088758 Z\"></path></symbol>\n",
       "<symbol id=\"icon_2021_notice\" viewbox=\"0 0 18 22\"><path d=\"M11.6573363,18.7741877 L11.6573363,19.3678893 C11.6573363,20.8215639 10.4689429,22 9.00298527,22 C7.59341065,22 6.4404597,20.9104696 6.35385634,19.5343481 L6.34863422,19.3678893 L6.34863422,18.7741877 L11.6573363,18.7741877 Z M10.3326849,19.961591 L7.67530493,19.961591 C7.91052129,20.480142 8.43059694,20.8136579 9.00399491,20.8136579 C9.52960973,20.8136579 10.010419,20.5334119 10.2680802,20.0872879 L10.3326849,19.961591 Z M8.99995634,0 C10.5904602,0 11.8905735,1.23289214 11.9814101,2.78748934 L11.9864799,2.96149995 L11.9864799,3.20178393 C14.7476523,4.36650005 16.582134,6.99418402 16.7235291,9.9500486 L16.7318013,10.2280877 L17.0912341,13.3197415 C17.6305913,13.8686708 17.9498975,14.5906374 17.9946445,15.3511278 L18,15.5593884 L18,15.6895422 C18,15.7484603 17.9984792,15.8097982 17.9950034,15.8730461 L17.9782767,16.0680102 C17.8687964,16.9998261 17.2910329,18.2061056 15.0535568,18.2881894 L14.807422,18.2926185 L3.19148104,18.2926185 C0.750623564,18.2926185 0.135078902,17.0331052 0.0217179551,16.0680102 L0.0049954803,15.8730461 L0.0049954803,15.8730461 L0,15.6895422 L0,15.5533813 C0.00289683236,14.7921716 0.276556737,14.0587511 0.768992703,13.4805091 L0.908678563,13.3267498 L1.26811142,10.2230818 C1.3051232,7.24966235 3.05666387,4.56959422 5.75747413,3.31517451 L6.0134328,3.20178393 L6.0134328,2.96149995 C6.0134328,1.32590869 7.35054493,0 8.99995634,0 Z M9.59848128,1.92447624 C9.23080345,1.70919296 8.77415745,1.70919296 8.40647962,1.92447624 C8.07965488,2.11583916 7.86908564,2.45039209 7.83512764,2.81962258 L7.83078992,2.95949759 L7.83078992,4.53135524 L7.78636564,4.54036589 C5.12317564,5.11849498 3.20274388,7.40568518 3.0924941,10.0864556 L3.08748783,10.3312096 L2.62910997,14.2998999 L2.60083997,14.3139164 C2.16423539,14.5214929 1.87254885,14.9386963 1.82439248,15.4096405 L1.81735008,15.5523801 L1.81735008,15.6895422 C1.81735008,16.29143 2.20354849,16.4363487 2.79097695,16.4687525 L3.05451294,16.4767555 L3.05451294,16.4767555 L14.9462616,16.4767555 L14.9462616,16.4767555 L15.2096661,16.4687525 C15.7550606,16.4386632 16.1281958,16.3115586 16.1787182,15.8116492 L16.1845889,15.6895422 L16.1845889,15.5543825 C16.1861177,15.0742489 15.9342621,14.6322677 15.5276272,14.3843247 L15.401092,14.3159188 L15.372822,14.3029034 L15.372822,14.2718668 L14.9174731,10.3402203 C14.9204958,7.63480788 13.0785838,5.28194006 10.4597877,4.59974674 L10.174171,4.53135524 L10.174171,2.95949759 C10.1867011,2.53626767 9.96615911,2.13975953 9.59848128,1.92447624 Z\"></path></symbol>\n",
       "<symbol id=\"icon_2021_app\" viewbox=\"0 0 15 22\"><path d=\"M12.0044933,0 C13.6566718,0.00525475875 14.9947149,1.33560797 15,2.97829135 L15,19.0217086 C14.9947149,20.664392 13.6566718,21.9947452 12.0044933,22 L2.99550674,22 C1.34332817,21.9947452 0.00528513278,20.664392 0,19.0217086 L0,2.97935503 C0.00469813351,1.33625627 1.34291218,0.0052578489 2.99550674,0 L12.0044933,0 Z M12.0034234,1.75612822 L2.99550674,1.75612822 C2.3170071,1.7584625 1.7675571,2.30475477 1.76520933,2.97935503 L1.76520933,19.0217086 C1.7675571,19.6963089 2.3170071,20.2426012 2.99550674,20.2449355 L12.0034234,20.2438718 C12.6819231,20.2415375 13.2313731,19.6952452 13.2337208,19.020645 L13.2337208,2.97935503 C13.2313731,2.30475477 12.6819231,1.7584625 12.0034234,1.75612822 Z M7.49946509,16.4614418 C8.16083032,16.4620752 8.7572938,16.8579082 9.01058724,17.4653362 C9.26388067,18.0727642 9.12409147,18.7720909 8.65643553,19.2370591 C8.18877959,19.7020274 7.48541057,19.8410133 6.87447147,19.5891755 C6.26353236,19.3373378 5.8654114,18.7443022 5.86584339,18.0867379 C5.86695733,17.2399935 6.51879179,16.5449253 7.35085524,16.4693213 L7.49946509,16.4614418 Z M7.34552924,17.7214944 C7.19521731,17.7833978 7.09721133,17.9292312 7.09721133,18.0909868 C7.09955705,18.3102111 7.27896696,18.4866923 7.49947097,18.4866799 L7.49947097,18.4909346 C7.66216155,18.4909346 7.80883787,18.3934918 7.87109911,18.2440438 C7.93336035,18.0945957 7.89894522,17.9225735 7.78390145,17.8081909 C7.66885768,17.6938083 7.49584117,17.659591 7.34552924,17.7214944 Z M9.53640967,2.29009331 C9.87673777,2.29009331 10.1526282,2.56439818 10.1526282,2.90277039 C10.1526282,3.2411426 9.87673777,3.51544747 9.53640967,3.51544747 L5.46359033,3.51544747 C5.12326223,3.51544747 4.8473718,3.2411426 4.8473718,2.90277039 C4.8473718,2.56439818 5.12326223,2.29009331 5.46359033,2.29009331 L9.53640967,2.29009331 Z\"></path></symbol>\n",
       "<symbol id=\"icon_2021_mypage\" viewbox=\"0 0 16 16\"><path d=\"M4.5,8.9c0.4,0.3,0.8,0.6,1.2,0.8c-2.5,0.9-4.2,3.4-4.2,6.1H0.3c0-2,0.8-4,2.2-5.4C3.1,9.8,3.8,9.3,4.5,8.9z M8,9.5c-2.6,0-4.7-2.1-4.7-4.7c0-2.6,2.1-4.7,4.7-4.7c2.6,0,4.7,2.1,4.7,4.7C12.7,7.5,10.6,9.5,8,9.5z M11.2,4.9 c0-1.8-1.4-3.2-3.2-3.2c-1.8,0-3.2,1.4-3.2,3.2c0,1.8,1.4,3.2,3.2,3.2C9.8,8.1,11.2,6.7,11.2,4.9z M13.4,10.3 c-0.6-0.6-1.2-1-1.9-1.4c-0.4,0.3-0.8,0.6-1.2,0.8c2.5,0.9,4.2,3.4,4.2,6.1h1.2C15.7,13.7,14.9,11.8,13.4,10.3z\"></path></symbol>\n",
       "<symbol id=\"icon_2021_help\" viewbox=\"0 0 22 22\"><path d=\"M10.9968052,0 C17.0715118,0.00528414347 21.9947159,4.92848824 22,11.0031948 C21.9982357,17.0774952 17.0732357,22.0005881 10.9989352,22 C4.92463464,21.9994119 0.000588110644,17.0753654 0,11.0010648 C-0.000588110644,4.92676426 4.92250484,0.00176433191 10.9968052,0 Z M11.0010642,2.21384387 C6.14725532,2.21325603 2.21182439,6.1472571 2.21064786,11.0010659 C2.20947239,15.8548747 6.14299655,19.7907823 10.9968052,19.7925464 C15.850088,19.7890252 19.7840665,15.8564761 19.7893514,11.0031948 C19.7893514,6.14938591 15.8548731,2.21443171 11.0010642,2.21384387 Z M12.1255564,14.6492743 L12.1255564,16.5394002 L10.208809,16.5394002 L10.208809,14.6492743 L12.1255564,14.6492743 Z M13.5409874,6.54789818 C14.2009524,7.12037851 14.5953981,7.93984792 14.6311712,8.81277852 C14.6311712,9.82073474 14.1953274,10.4026889 13.5149807,11.0526996 L13.18431,11.3593361 C13.126537,11.4118472 13.0674913,11.4652108 13.0072602,11.5196518 C12.2657326,11.9712922 11.8775338,12.8318419 12.029719,13.6866412 L10.2876086,13.6866412 C10.0769824,12.4678483 10.6056918,11.2396221 11.635721,10.5548889 L11.9705886,10.2770833 L11.9705886,10.2770833 L12.2480957,10.0377527 C12.706222,9.62673358 12.8911905,9.34769302 12.8911905,8.85963235 C12.8911905,8.04075527 12.1915777,7.39438546 11.0681508,7.39438546 C10.0914956,7.40252002 9.16857926,7.84272811 8.54762795,8.59661201 L7.96302,7.00358196 C8.8272281,6.20338038 9.967214,5.76806448 11.1448207,5.7885771 C12.0140515,5.70068351 12.8810224,5.97541784 13.5409874,6.54789818 Z\"></path></symbol>\n",
       "<symbol id=\"icon_2021_hmenu\" viewbox=\"0 0 20 22\"><path d=\"M20,16 L20,18 L0,18 L0,16 L20,16 Z M20,10 L20,12 L0,12 L0,10 L20,10 Z M20,4 L20,6 L0,6 L0,4 L20,4 Z\"></path></symbol>\n",
       "<symbol id=\"icon_2021_close\" viewbox=\"0 0 30 30\"><polygon points=\"30,2.7 27.3,0 15,12.3 2.7,0 0,2.7 12.3,15 0,27.3 2.7,30 15,17.7 27.3,30 30,27.3 17.7,15 \"></polygon></symbol>\n",
       "<symbol id=\"icon_2021_dots\" viewbox=\"0 0 25 5\"><path d=\"M2.5,0 C3.88071187,0 5,1.11928813 5,2.5 C5,3.88071187 3.88071187,5 2.5,5 C1.11928813,5 0,3.88071187 0,2.5 C0,1.11928813 1.11928813,0 2.5,0 Z M12.5,0 C13.8807119,0 15,1.11928813 15,2.5 C15,3.88071187 13.8807119,5 12.5,5 C11.1192881,5 10,3.88071187 10,2.5 C10,1.11928813 11.1192881,0 12.5,0 Z M22.5,0 C23.8807119,0 25,1.11928813 25,2.5 C25,3.88071187 23.8807119,5 22.5,5 C21.1192881,5 20,3.88071187 20,2.5 C20,1.11928813 21.1192881,0 22.5,0 Z\"></path></symbol>\n",
       "<symbol id=\"icon_2021_memberinfo\" viewbox=\"0 0 28 25\"><path d=\"M27.3476924,2.43466543 L25.5558774,0.648259729 C24.6876945,-0.216086576 23.2813848,-0.216086576 22.4132019,0.648259729 L20.7873698,2.26918366 C20.2699339,1.99801245 19.694111,1.856373 19.109543,1.85647609 L5,1.85647609 L5,21.3304914 L19.2185318,21.3304914 L19.2185318,20.1282563 L6.80881322,20.1282563 L6.80881322,3.65883184 L19.1075432,3.65883184 C19.1937091,3.66138585 19.2795837,3.67004731 19.3645167,3.68475068 L13.0551682,9.97505202 C12.8904921,10.1394362 12.7677412,10.3407826 12.6972052,10.5622133 L11.39134,14.6494138 C11.2279072,15.16158 11.3613066,15.7218581 11.7381828,16.106155 C12.115059,16.4904519 12.6738871,16.6360315 13.1911542,16.4846666 L17.3697227,15.2585064 C17.6035906,15.1898204 17.8164118,15.0636786 17.9886588,14.8916552 L20.9153566,11.9747897 L20.9153566,21.3932947 C20.9142544,22.3888034 20.1050664,23.1955486 19.1065433,23.1966474 L8.61762644,23.1966474 C8.07585881,23.1945114 7.56387847,22.9491805 7.22377037,22.528739 L5.1859808,22.528739 C5.67631507,24.0035981 7.05915604,24.9994355 8.61762644,25 L19.1105429,25 C21.1085028,25 22.7281694,23.385223 22.7281694,21.3932947 L22.7281694,10.1784152 L27.3486922,5.57184108 C27.7658997,5.15572789 28,4.59140282 28,4.00304676 C28,3.4146907 27.765165,2.85051419 27.3476924,2.43466543 Z M12.7831963,15.0950184 L13.9830724,11.3487502 L16.6138007,13.9715367 L12.7831963,15.0950184 Z M26.3167988,4.54206591 L22.7271695,8.12085859 L20.9183563,9.92421123 L17.4187176,13.4132849 L14.5450144,10.548257 L20.6223868,4.48923137 L21.9222526,3.19328973 L23.4460952,1.67504426 C23.5894204,1.53174334 23.7840571,1.4512033 23.9870394,1.4512033 C24.1900217,1.4512033 24.3846584,1.53174334 24.5279835,1.67504426 L26.3187986,3.46045308 C26.4623293,3.60378053 26.5427784,3.79814347 26.5424046,4.00067615 C26.5420281,4.20320884 26.4608595,4.39727421 26.3167988,4.54007216 L26.3167988,4.54206591 Z M25.1959145,4.93483592 L23.0691342,2.81447602 L23.4120987,2.47154993 L25.5388791,4.59190982 L25.1959145,4.93483592 Z\"></path></symbol>\n",
       "<symbol id=\"icon_2021_mynews\" viewbox=\"0 0 19 25\"><path d=\"M19,3.01980663e-14 L19,21.0314619 L18.9947598,21.0272501 L3.75723978,21.0272501 L3.75723978,19.7289727 L17.0569254,19.7289727 L17.0569254,1.94478373 L15.61272,1.94478373 L15.61272,8.16767047 C15.6130787,8.43028607 15.4557803,8.66720299 15.2143035,8.76775041 C14.9728266,8.86829782 14.6948312,8.81263084 14.5101771,8.62675315 L14.5101771,8.62675315 L12.7599426,6.86834014 L11.1878758,8.44775302 C11.0032216,8.63363072 10.7252262,8.68929769 10.4837494,8.58875028 C10.2422725,8.48820286 10.0849741,8.25128594 10.0853329,7.98867034 L10.0853329,7.98867034 L10.0853329,1.94688961 L3.87776491,1.94688961 C2.80742858,1.94805026 1.9400377,2.81949432 1.93888245,3.89483216 L1.93888245,3.89483216 L1.93888245,21.1051678 C1.93946067,22.1807461 2.80718929,23.0525295 3.87776491,23.0531104 L3.87776491,23.0531104 L15.1232831,23.0531104 C15.7038886,23.0512356 16.2526446,22.786215 16.6167466,22.3318452 L16.6167466,22.3318452 L18.8008715,22.3318452 C18.27466,23.9239666 16.7930805,24.9988785 15.1232831,25 L15.1232831,25 L3.87776491,25 C1.73613449,25 0,23.2557528 0,21.1041149 L0,21.1041149 L0,3.8958851 C0,1.74424717 1.73613449,3.01980663e-14 3.87776491,3.01980663e-14 L3.87776491,3.01980663e-14 L19,3.01980663e-14 Z M14.6013569,17.0766121 L14.6013569,17.7262772 L4.74135363,17.7262772 L4.74135363,17.0766121 L14.6013569,17.0766121 Z M14.6013569,14.7864634 L14.6013569,15.4361285 L4.74135363,15.4361285 L4.74135363,14.7864634 L14.6013569,14.7864634 Z M14.6013569,12.4973676 L14.6013569,13.1470328 L4.74135363,13.1470328 L4.74135363,12.4973676 L14.6013569,12.4973676 Z M14.6013569,10.207219 L14.6013569,10.8568841 L4.74135363,10.8568841 L4.74135363,10.207219 L14.6013569,10.207219 Z M14.3246732,2.37333109 C13.1760163,2.33331929 12.015831,2.31015457 11.3775718,2.31963105 L11.3775718,2.31963105 L11.3775718,6.42610454 L12.3040432,5.49425094 C12.4251517,5.37234035 12.5895511,5.30383181 12.7609907,5.30383181 C12.9324302,5.30383181 13.0968297,5.37234035 13.2179381,5.49425094 L13.2179381,5.49425094 L14.3246732,6.6061576 Z\"></path></symbol>\n",
       "<symbol id=\"icon_2021_scrap\" viewbox=\"0 0 24 25\"><path d=\"M20.2683521,9.16452008 L20.2683521,0 L7.14967758,0 C5.2675825,0.00174514314 3.74210713,1.57259482 3.73984712,3.51125375 L3.73984712,4.32836451 L5.53751548,4.32836451 L5.53751548,3.51125375 C5.5386448,2.59518728 6.25931438,1.85285871 7.14865269,1.85169545 L12.4463424,1.85169545 L12.4463424,7.13652295 C12.4413942,7.39708203 12.5918827,7.63417108 12.8255864,7.73400763 C13.05929,7.83384418 13.3285068,7.77605025 13.5040355,7.58836198 L14.8179528,6.2339006 L16.2866294,7.74671678 C16.4026753,7.86696656 16.5606803,7.93427359 16.725285,7.93357544 C16.8065418,7.93365909 16.887009,7.91715374 16.9620361,7.8850133 C17.1948937,7.78748873 17.3466827,7.55379859 17.3453474,7.29487775 L17.3453474,1.85063975 L18.4727335,1.85063975 L18.4727335,9.16135298 L12.8788487,9.16135298 C12.4727629,9.16098607 12.0833126,8.99513489 11.7955332,8.70001267 L9.23329205,6.06076601 C8.95937748,5.7778365 8.58708122,5.61934953 8.19917154,5.62053967 L3.68962719,5.62053967 C1.65190236,5.62053967 0,7.32208828 0,9.42105485 L0,21.1994848 C0,23.2984514 1.65190236,25 3.68962719,25 L20.3103728,25 C22.3480976,25 24,23.2984514 24,21.1994848 L24,9.16452008 L20.2683521,9.16452008 Z M16.1082974,5.7567248 L15.2586582,4.88155061 C15.1430761,4.76065758 14.9852388,4.692584 14.820515,4.692584 C14.6557912,4.692584 14.4979539,4.76065758 14.3823718,4.88155061 L13.6885169,5.5962586 L13.6885169,2.18318483 L13.9016953,2.18318483 C14.4612888,2.18318483 15.2853055,2.20218741 16.1093223,2.23069127 L16.1082974,5.7567248 Z M22.2054063,21.2026519 C22.2037135,22.2770661 21.3585632,23.1476165 20.3154973,23.1493602 L3.69475168,23.1493602 C2.65145204,23.1481966 1.80597236,22.2773069 1.80484264,21.2026519 L1.80484264,9.42316625 C1.80597236,8.34851131 2.65145204,7.4776216 3.69475168,7.47645792 L5.47704659,7.47645792 L8.0392877,7.45745534 L10.5195371,10.0122461 C11.1432483,10.6584 11.9922011,11.0203534 12.8767989,11.0172712 L22.2033565,11.0172712 L22.2054063,21.2026519 Z\"></path></symbol>\n",
       "<symbol id=\"icon_2021_local\" viewbox=\"0 0 24 25\"><path d=\"M13.500967,25 C12.8118463,24.9971137 12.1616885,24.6821092 11.7351223,24.1444399 L11.5285907,23.8828478 L11.3220592,24.1444399 C10.895493,24.6821092 10.2453352,24.9971137 9.55621451,25 L6.96734161,25 C6.49730569,24.9994835 6.03916612,24.8531565 5.65689897,24.5814526 L5.50096765,24.4716865 L5.34400368,24.5814526 C4.9621804,24.8532629 4.50433118,24.9996125 4.0345937,25 L2.27184698,25 C1.6693157,25 1.09146253,24.762223 0.665408573,24.3389771 C0.239354619,23.9157313 0,23.3416868 0,22.7431268 L0,14.2203529 C0,12.9739162 1.01714054,11.9634797 2.27184698,11.9634797 L4.0345937,11.9634797 C4.50436384,11.9636609 4.96227499,12.1100303 5.34400368,12.3820271 L5.50096765,12.4917932 L5.65689897,12.3820271 C6.03878513,12.1103409 6.49659321,11.9640044 6.96630895,11.9634797 L14.4840571,11.9634797 C14.8348046,11.9634797 15.1191416,11.6810167 15.1191416,11.332581 L15.1191416,9.46040213 C15.118914,8.99778741 15.2632422,8.54650848 15.5322047,8.16885515 L15.6354705,8.01395158 L15.5322047,7.85904801 C15.2628961,7.48079259 15.1185541,7.02875382 15.1191416,6.56544932 L15.1191416,2.2568732 C15.1191416,1.01043655 16.1362822,0 17.3909886,0 L21.728151,0 C22.9828574,0 24,1.01043655 24,2.2568732 L24,6.56544932 C24.0004396,7.02841417 23.8561013,7.48008303 23.5869349,7.85802216 L23.4836691,8.01292573 L23.5869349,8.16680345 C23.8559779,8.54480353 24.0003034,8.99643233 24,9.45937628 L24,18.528929 C24,19.7753657 22.9828574,20.7858022 21.728151,20.7858022 L16.6330178,20.7858022 L16.6330178,22.73492 C16.6330178,23.9813566 15.6158773,24.9917932 14.3611709,24.9917932 L13.500967,25 Z M6.95701503,13.5904801 C6.60683787,13.5904801 6.3229632,13.8724838 6.3229632,14.2203529 L6.3229632,18.528929 C6.3229632,18.8767981 6.60683787,19.1588018 6.95701503,19.1588018 L10.5919702,19.1588018 C11.8466766,19.1588018 12.8638172,20.1692384 12.8638172,21.415675 L12.8638172,22.7379975 C12.8638172,23.0864332 13.1481542,23.3688962 13.4989017,23.3688962 L14.3498116,23.3688962 C14.7001558,23.3683303 14.9838639,23.086033 14.9838635,22.7379975 L14.9838635,19.9681986 C14.9872435,19.5193469 15.3529928,19.1564654 15.8048263,19.1536725 L21.7198897,19.1536725 C22.0698311,19.1531077 22.353373,18.8714347 22.3539416,18.5237998 L22.3539416,9.45322117 C22.3539416,9.10535203 22.0700669,8.82334754 21.7198897,8.82334754 L17.3827273,8.82334754 C17.2143875,8.82307602 17.0528485,8.88931717 16.9337173,9.00747076 C16.8145861,9.12562436 16.7476426,9.28599063 16.7476428,9.45322117 L16.7476428,11.3254001 C16.7476428,12.5718367 15.7305023,13.5822733 14.4757959,13.5822733 L6.95701503,13.5904801 Z M6.95701503,20.7919573 C6.60683787,20.7919573 6.3229632,21.073961 6.3229632,21.4218301 L6.3229632,22.7410751 C6.3229632,23.0891106 6.6066709,23.3714078 6.95701503,23.3719737 L9.54588793,23.3719737 C9.89623207,23.3714078 10.1799398,23.0891106 10.1799398,22.7410751 L10.1799398,21.4218301 C10.1793712,21.0741952 9.89582932,20.7925221 9.54588793,20.7919573 L6.95701503,20.7919573 Z M2.2615204,13.5904801 C1.9111758,13.5904801 1.62700557,13.8723179 1.6264359,14.2203529 L1.6264359,22.7410751 C1.6264359,23.0895108 1.91077292,23.3719737 2.2615204,23.3719737 L4.02426712,23.3719737 C4.3750146,23.3719737 4.65935162,23.0895108 4.65935162,22.7410751 L4.65935162,14.2203529 C4.65878195,13.8723179 4.37461172,13.5904801 4.02426712,13.5904801 L2.2615204,13.5904801 Z M17.38376,1.62700041 C17.0338175,1.62700041 16.7498135,1.90821316 16.7486755,2.25584735 L16.7486755,6.56442347 C16.7486755,6.7317482 16.815586,6.89221974 16.9346874,7.01053618 C17.0537889,7.12885263 17.2153251,7.19532212 17.38376,7.19532212 L21.7209224,7.19532212 C22.0712665,7.19475621 22.3549742,6.91245895 22.3549742,6.56442347 L22.3549742,2.25584735 C22.353838,1.90861312 22.0704618,1.62756319 21.7209224,1.62700041 L17.38376,1.62700041 Z\"></path></symbol>\n",
       "<symbol id=\"icon_2021_weather\" viewbox=\"0 0 18 18\"><path d=\"M9.00053029,14.5914558 C9.15540585,14.5903412 9.30432664,14.6510529 9.41424064,14.7601319 C9.52415463,14.8692108 9.58596512,15.0176335 9.58596512,15.1724585 L9.58596512,15.1724585 L9.58596512,17.4168924 C9.58596512,17.7389339 9.32480668,18 9.00265143,18 C8.68049617,18 8.41933773,17.7389339 8.41933773,17.4168924 L8.41933773,17.4168924 L8.41933773,15.1724585 C8.41933773,14.8515881 8.6795465,14.5914558 9.00053029,14.5914558 Z M13.2622712,12.8520595 C13.4625802,12.7984059 13.6763073,12.8556536 13.8229437,13.0022382 L13.8229437,13.0022382 L15.3586495,14.5374013 C15.5853297,14.7640014 15.5853297,15.1313927 15.3586495,15.3579927 C15.1319694,15.5845927 14.7644482,15.5845927 14.5377681,15.3579927 L14.5377681,15.3579927 L13.0020622,13.8228295 C12.8554259,13.676245 12.7981578,13.4625934 12.8518305,13.2623552 C12.9055031,13.062117 13.0619622,12.9057132 13.2622712,12.8520595 Z M4.17599576,13.0001178 C4.40267591,12.7735178 4.77019706,12.7735178 4.99687721,13.0001178 C5.22355736,13.2267178 5.22355736,13.5941091 4.99687721,13.8207092 L4.99687721,13.8207092 L3.46011077,15.3579927 C3.23343062,15.5845927 2.86590947,15.5845927 2.63922932,15.3579927 C2.41254917,15.1313927 2.41254917,14.7640014 2.63922932,14.5374013 L2.63922932,14.5374013 L4.17493519,13.0022382 Z M8.98356116,4.25562493 C11.602179,4.25796209 13.7245689,6.37912761 13.7274923,8.99681941 C13.7274923,11.6151708 11.6042522,13.7378186 8.98497517,13.7380138 C6.36569815,13.7382089 4.24214162,11.6158774 4.24175117,8.99752605 C4.24136072,6.3791747 6.36428419,4.25621043 8.98356116,4.25562493 Z M8.98356116,5.86500177 C7.25329456,5.86500177 5.85063634,7.26716429 5.85063634,8.99681941 C5.85063634,10.7264745 7.25329456,12.1286371 8.98356116,12.1286371 C10.7138278,12.1286371 12.116486,10.7264745 12.116486,8.99681941 C12.1147322,7.267891 10.7131008,5.86675495 8.98356116,5.86500177 Z M17.4193377,8.42007304 C17.7400286,8.42007304 18,8.67995251 18,9.0005301 C18,9.32110768 17.7400286,9.58098716 17.4193377,9.58098716 L17.4193377,9.58098716 L15.1741103,9.58098716 C14.8534194,9.58098716 14.593448,9.32110768 14.593448,9.0005301 C14.593448,8.67995251 14.8534194,8.42007304 15.1741103,8.42007304 L15.1741103,8.42007304 Z M2.8258897,8.42007304 C2.97975027,8.42007304 3.12730911,8.48117231 3.23610496,8.58992971 C3.34490081,8.69868711 3.40602168,8.84619381 3.40602168,9 C3.40602168,9.32045677 3.14645923,9.58040238 2.8258897,9.58098716 L2.8258897,9.58098716 L0.580662267,9.58098716 C0.259971352,9.58098716 0,9.32110768 0,9.0005301 C0,8.67995251 0.259971352,8.42007304 0.580662267,8.42007304 L0.580662267,8.42007304 Z M14.5377681,2.6430675 C14.7644482,2.41646748 15.1319694,2.41646749 15.3586495,2.64306753 C15.5853297,2.86966756 15.5853297,3.2370588 15.3586495,3.46365885 L15.3586495,3.46365885 L13.8229437,4.998822 C13.7140557,5.107552 13.5664093,5.16857287 13.4125029,5.16845347 C13.1777213,5.16863584 12.9659767,5.02733906 12.8761049,4.81051592 C12.7862332,4.59369278 12.8359552,4.34409639 13.0020622,4.17823065 L13.0020622,4.17823065 Z M2.63922934,2.64200733 C2.86590949,2.41540729 3.23343061,2.41540728 3.46011077,2.6420073 L3.46011077,2.6420073 L4.99581664,4.17717046 C5.22249679,4.4037705 5.22249679,4.77116176 4.99581664,4.99776181 C4.76913649,5.22436185 4.40161534,5.22436185 4.17493519,4.99776181 L4.17493519,4.99776181 L2.63922932,3.46259866 C2.41254919,3.23599861 2.4125492,2.86860736 2.63922934,2.64200733 Z M8.99840914,0 C9.3205644,0 9.58172284,0.261066143 9.58172284,0.583107551 L9.58172284,0.583107551 L9.58172284,2.82754152 C9.58172284,3.14841187 9.32151407,3.40854418 9.00053029,3.40854418 C8.84565472,3.40965879 8.69673393,3.34894708 8.58681993,3.23986813 C8.47690594,3.13078917 8.41509545,2.98236648 8.41509545,2.82754152 L8.41509545,2.82754152 L8.41509545,0.583107551 C8.41509545,0.261066143 8.67625389,0 8.99840914,0 Z\"></path></symbol>\n",
       "<symbol id=\"icon_2021_traffics\" viewbox=\"0 0 14 18\"><path d=\"M7.91323623,0 C9.22118946,0.000453997932 10.5259601,0.129223592 11.808898,0.384468177 C12.4260915,0.507311409 12.981806,0.840665203 13.3815706,1.32785974 C13.7805381,1.81580624 13.999017,2.4270187 14,3.05796654 L14,3.05796654 L14,13.6675103 C13.9952525,14.7251161 13.1751796,15.598771 12.1225459,15.6676338 L12.1225459,15.6676338 L11.6559531,15.6676338 L12.1724193,16.6788073 C12.3230107,16.9802105 12.3104855,17.3376892 12.1391704,17.6277548 C12.0080455,17.8546321 11.767836,17.9959273 11.5063331,18 L11.5063331,18 L2.49366688,18 C2.23216402,17.9959273 1.99195448,17.8546321 1.86082964,17.6277548 C1.68951449,17.3376892 1.67698927,16.9802105 1.82758075,16.6788073 L1.82758075,16.6788073 L2.34404687,15.6676338 L1.90626979,15.6676338 C0.842033913,15.613963 0.00512685469,14.7358515 8.8817842e-16,13.6675103 L8.8817842e-16,13.6675103 L8.8817842e-16,3.054633 C0.00322793223,1.75593852 0.917061051,0.63865392 2.18666878,0.381134638 C3.45190626,0.127938786 4.73893792,0.000277889128 6.02913236,0 L6.02913236,0 Z M10.6562698,15.6709673 L3.35370488,15.6709673 L2.62777074,17.091055 L2.62777074,17.091055 L2.62777074,17.1077227 L11.3921786,17.1077227 L11.3921786,17.1077227 L11.3866371,17.091055 L10.6562698,15.6709673 Z M7.92321089,1.16340514 L6.03910703,1.16340514 C4.8251789,1.16354204 3.61422569,1.28376137 2.42384421,1.52231619 C1.69556086,1.6697117 1.17147888,2.31083873 1.17036099,3.05574418 L1.17036099,3.05574418 L1.17036099,13.6675103 C1.17036099,14.1363677 1.5494587,14.5164516 2.01709943,14.5164516 L2.01709943,14.5164516 L12.0028499,14.5164516 C12.4702375,14.5158395 12.8489778,14.1361139 12.8495886,13.6675103 L12.8495886,13.6675103 L12.8495886,3.05796654 C12.8499899,2.311755 12.3239991,1.66942876 11.5938885,1.52453855 C10.3850209,1.28431452 9.15559454,1.16340514 7.92321089,1.16340514 L7.92321089,1.16340514 Z M10.570931,10.5373171 C11.2865763,10.5385405 11.8664175,11.1198902 11.8676377,11.8373974 C11.8676377,12.5554119 11.2870823,13.1374776 10.570931,13.1374776 C9.85477959,13.1374776 9.27422419,12.5554119 9.27422419,11.8373974 C9.27422419,11.1193829 9.85477959,10.5373171 10.570931,10.5373171 Z M3.4379354,10.5373171 C4.15358075,10.5385405 4.73342198,11.1198902 4.73464218,11.8373974 C4.73464218,12.5554119 4.15408678,13.1374776 3.4379354,13.1374776 C2.72178402,13.1374776 2.14122863,12.5554119 2.14122863,11.8373974 C2.14122863,11.1193829 2.72178402,10.5373171 3.4379354,10.5373171 Z M10.570931,11.1873572 C10.2128553,11.1873572 9.92257758,11.4783901 9.92257758,11.8373974 C9.92257758,12.1964046 10.2128553,12.4874375 10.570931,12.4874375 C10.9287536,12.4868258 11.2186743,12.1961509 11.2192844,11.8373974 C11.2192844,11.4783901 10.9290067,11.1873572 10.570931,11.1873572 Z M3.4379354,11.1873572 C3.07985971,11.1873572 2.78958201,11.4783901 2.78958201,11.8373974 C2.78958201,12.1964046 3.07985971,12.4874375 3.4379354,12.4874375 C3.79575807,12.4868258 4.08567869,12.1961509 4.08628879,11.8373974 C4.08628879,11.4783901 3.79601109,11.1873572 3.4379354,11.1873572 Z M11.5440152,3.51577258 C11.7207609,3.51879606 11.862627,3.6630067 11.8632046,3.84023705 L11.8632046,3.84023705 L11.8632046,9.23612569 C11.8625964,9.41506932 11.7180613,9.55998047 11.539582,9.56059016 L11.539582,9.56059016 L2.46152628,9.56059016 C2.28261432,9.56059016 2.13740606,9.41550206 2.13679544,9.23612569 L2.13679544,9.23612569 L2.13679544,3.84023705 C2.13740606,3.66086068 2.28261432,3.51577258 2.46152628,3.51577258 L2.46152628,3.51577258 Z M6.68413553,4.1658127 L2.7940152,4.1658127 L2.7940152,8.91166121 L6.68081064,8.91166121 L6.68413553,4.1658127 Z M11.2248258,4.1658127 L7.33470551,4.1658127 L7.33470551,8.91166121 L11.2248258,8.91166121 L11.2248258,4.1658127 Z\"></path></symbol>\n",
       "<symbol id=\"icon_2021_economy\" viewbox=\"0 0 18 18\"><path d=\"M16.943232,4.6365902 L14.4326137,2.13099691 C14.2569942,1.95633436 13.9729017,1.95633436 13.7972822,2.13099691 L10.4829696,5.43867595 L8.86710983,3.82605032 C8.78289605,3.74190031 8.66861462,3.69461651 8.54944408,3.69461651 C8.43027355,3.69461651 8.31599212,3.74190031 8.23177834,3.82605032 L4.8232249,7.22778157 L3.8448144,6.25027259 C3.66919493,6.07561004 3.38510238,6.07561004 3.20948291,6.25027259 L0.916995117,8.53817199 L0,8.53817199 L0,14.4285883 C0.00116661039,15.2959723 0.705439646,15.9988357 1.57456321,16 L16.4254368,16 C17.2945604,15.9988357 17.9988334,15.2959723 18,14.4285883 L18,4.6365902 L16.943232,4.6365902 Z M3.523972,7.20136241 L4.50238249,8.17887139 C4.67800196,8.35353395 4.96209451,8.35353395 5.13771398,8.17887139 L8.54626743,4.77714014 L10.1621272,6.38976577 C10.3404457,6.55778291 10.6191401,6.55778291 10.7974587,6.38976577 L14.1117713,3.08208673 L16.6245073,5.58873679 L16.6446262,5.56865822 L16.6446262,7.62512577 L15.0690041,6.05265727 C14.8933846,5.87799471 14.609292,5.87799471 14.4336726,6.05265727 L10.1885993,10.289234 L8.03482558,8.13660073 C7.85920611,7.96193818 7.57511356,7.96193818 7.39949409,8.13660073 L1.35007942,14.1739075 L1.35007942,9.37513103 L3.523972,7.20136241 Z M16.4222601,14.651566 L2.13894935,14.651566 L7.71292429,9.08874732 L9.87093358,11.2424374 C10.0465531,11.4170999 10.3306456,11.4170999 10.5062651,11.2424374 L14.7513383,7.00586062 L16.645685,8.89535906 L16.645685,14.4264747 C16.645685,14.5499685 16.5459961,14.6504064 16.4222601,14.651566 L16.4222601,14.651566 Z\"></path></symbol>\n",
       "<symbol id=\"icon_2021_locked\" viewbox=\"0 0 10 12\"><path d=\"M9.5919592,4.26582384 L8.61086109,4.26582384 L8.61086109,3.60409216 C8.61086109,1.61360702 6.99399963,0 4.99949995,0 C3.00500027,0 1.38813881,1.61360702 1.38813881,3.60409216 L1.38813881,4.26582384 L0.408040804,4.26582384 C0.182686091,4.26582384 0,4.44814222 0,4.67304333 L0,11.5927805 C0,11.8176816 0.182686091,12 0.408040804,12 L9.5919592,12 C9.81731391,12 10,11.8176816 10,11.5927805 L10,4.67304333 C10,4.56504201 9.95701011,4.46146414 9.88048762,4.38509567 C9.80396512,4.3087272 9.70017835,4.26582384 9.5919592,4.26582384 Z M2.20522052,3.60409216 C2.2340304,2.08424801 3.47681805,0.867203256 5,0.867203256 C6.52318195,0.867203256 7.7659696,2.08424801 7.79477948,3.60409216 L7.79477948,4.26582384 L2.20522052,4.26582384 L2.20522052,3.60409216 Z M5.59755976,8.25717375 L5.59755976,10.1235964 L4.39743974,10.1235964 L4.39743974,8.25717375 C3.9604528,7.98917903 3.75507987,7.46406655 3.89460971,6.9715013 C4.03413955,6.47893606 4.48459747,6.13885484 4.99749975,6.13885484 C5.51040203,6.13885484 5.96085995,6.47893606 6.10038979,6.9715013 C6.23991963,7.46406655 6.0345467,7.98917903 5.59755976,8.25717375 Z\"></path></symbol>\n",
       "<symbol id=\"icon_2021_unlocked\" viewbox=\"0 0 9 12\"><path d=\"M8.63488903,4.59779204 L7.75485344,4.59779204 L7.75485344,4.59779204 L7.51510016,4.59779204 C8.0062118,3.14261547 7.52280374,1.51803239 6.33371774,0.627535819 C5.14463174,-0.262960755 3.54245822,-0.200252312 2.41822737,0.780786576 L1.96128581,1.18047301 L2.42480883,1.78000267 L2.88175039,1.38031623 C3.78686309,0.588182981 5.08837411,0.570981782 6.0117423,1.33894922 C6.93511049,2.10691667 7.23222275,3.45369651 6.72626484,4.57780772 L3.70819407,4.57780772 L4.51301294,4.57780772 L2.00265501,4.57780772 L2.00265501,4.57780772 L3.70819407,4.57780772 L2.00923647,4.56881477 L2.00923647,4.56881477 L1.27681369,4.56881477 L1.27681369,4.56881477 L0.397718307,4.56881477 C0.195571105,4.5682611 0.0311325869,4.74167885 0.0300966025,4.95651062 L4.93415819e-06,11.5663251 C-0.00103271963,11.7811608 0.161725108,11.956368 0.363870784,11.9580178 L8.60198172,11.99999 C8.69914501,12.0005161 8.79251379,11.9599362 8.8614836,11.8872003 C8.93045342,11.8144643 8.96935493,11.7155512 8.96960342,11.612289 L8.99969011,5.00247456 C9.00378285,4.89681833 8.96719373,4.79395042 8.89835996,4.71759149 C8.8295262,4.64123255 8.73438996,4.59797439 8.63488903,4.59779204 L8.63488903,4.59779204 Z M5.04517121,8.38881789 L5.04517121,10.1714194 L3.97333299,10.1714194 L3.97333299,8.38881789 C3.58054109,8.13367972 3.39532583,7.63205675 3.52002348,7.16110885 C3.64472114,6.69016094 4.04890468,6.36480243 4.5092521,6.36480243 C4.96959952,6.36480243 5.37378307,6.69016094 5.49848072,7.16110885 C5.62317838,7.63205675 5.43796311,8.13367972 5.04517121,8.38881789 Z\"></path></symbol>\n",
       "<symbol id=\"icon_2021_photo\" viewbox=\"0 0 13 12\"><path d=\"M9.44125,0 L10.2548333,1.71428571 L11.3771667,1.71428571 C12.221041,1.7154727 12.9139731,2.39508752 12.9925745,3.26362602 L13,3.42857143 L13,10.2857143 C13,11.1767956 12.3555379,11.9090842 11.5314983,11.9921525 L11.375,12 L1.625,12 C0.780329206,12 0.0861805986,11.3201279 0.0074387929,10.4508114 L0,10.2857143 L0,3.42857143 C0,2.53749015 0.64446209,1.80520151 1.46850166,1.72213323 L1.625,1.71428571 L2.74625,1.71428571 L3.55875,0 L9.44125,0 Z M6.50216667,3.00114286 C4.70724123,3.00114286 3.25216667,4.53616657 3.25216667,6.42971429 C3.25216667,8.323262 4.70724123,9.85828571 6.50216667,9.85828571 C8.2970921,9.85828571 9.75216667,8.323262 9.75216667,6.42971429 C9.75216667,4.53616657 8.2970921,3.00114286 6.50216667,3.00114286 Z M6.501625,4.6012566 C6.95856671,4.6012566 7.3967843,4.79279389 7.71983333,5.13371429 C8.39233515,5.8434195 8.39220567,6.99385305 7.71954412,7.70338978 C7.04688257,8.4129265 5.95636743,8.4129265 5.28370588,7.70338978 C4.61104433,6.99385305 4.61091485,5.8434195 5.28341667,5.13371429 C5.6064657,4.79279389 6.04468329,4.6012566 6.501625,4.6012566 Z\"></path></symbol>\n",
       "<symbol id=\"icon_2021_movie\" viewbox=\"0 0 17 12\"><path d=\"M15.8136429,0 L15.8136429,1.44545194 L14.1464286,1.44545194 L14.1464286,0 L2.85357143,0 L2.85357143,1.44545194 L1.18635714,1.44545194 L1.18635714,0 L0,0 L0,12 L1.18635714,12 L1.18635714,10.5556934 L2.85357143,10.5556934 L2.85357143,12 L14.1464286,12 L14.1464286,10.5556934 L15.8136429,10.5556934 L15.8136429,12 L17,12 L17,0 L15.8136429,0 Z M2.85478571,9.45843276 L1.18757143,9.45843276 L1.18757143,7.88469982 L2.85478571,7.88469982 L2.85478571,9.45843276 Z M2.85478571,6.78743915 L1.18757143,6.78743915 L1.18757143,5.21485158 L2.85478571,5.21485158 L2.85478571,6.78743915 Z M2.85478571,4.11644555 L1.18757143,4.11644555 L1.18757143,2.54385797 L2.85478571,2.54385797 L2.85478571,4.11644555 Z M6.71378571,7.94654958 L6.71378571,4.05230505 L10.2874286,5.99942732 L6.71378571,7.94654958 Z M15.8148571,9.45843276 L14.1476429,9.45843276 L14.1476429,7.88469982 L15.8136429,7.88469982 L15.8148571,9.45843276 Z M15.8148571,6.78743915 L14.1476429,6.78743915 L14.1476429,5.21485158 L15.8136429,5.21485158 L15.8148571,6.78743915 Z M15.8148571,4.11644555 L14.1476429,4.11644555 L14.1476429,2.54385797 L15.8136429,2.54385797 L15.8148571,4.11644555 Z\"></path></symbol>\n",
       "<symbol id=\"icon_2021_arrow_flat_right\" viewbox=\"0 0 6 9\"><polygon fill-rule=\"evenodd\" points=\"3 1.5 7.5 7.5 -1.5 7.5\" transform=\"rotate(90 3 4.5)\"></polygon></symbol>\n",
       "<symbol id=\"icon_2021_arrow_square_right\" viewbox=\"0 0 23 23\"><rect fill=\"#432082\" height=\"23\" width=\"23\" x=\"0\" y=\"0\"></rect><polygon fill=\"#FFFFFF\" points=\"12.882 5 11.691 6.191 16.454 10.954 3 10.954 3 12.654 16.454 12.654 11.691 17.418 12.882 18.609 19.682 11.809\"></polygon></symbol>\n",
       "<!-- 2020 -->\n",
       "<symbol id=\"icon_036\" viewbox=\"0 0 15.492 17\"><path d=\"M8.361,0 C8.69623684,0 8.968,0.271763157 8.968,0.607 C8.968,0.908713159 8.74787184,1.15901263 8.45945855,1.20605539 L8.361,1.214 L8.361,2.458 C8.91568657,2.51434143 9.45926525,2.64766358 9.97617726,2.85369222 L10.283,2.986 L10.895,2.086 C11.0095529,1.88992997 11.2239655,1.77419708 11.450738,1.78603084 C11.6775106,1.7978646 11.8787128,1.9352857 11.9722358,2.14221383 C12.0523985,2.31958081 12.0419573,2.52258565 11.9485702,2.68908195 L11.327,3.604 C11.7569299,3.91903031 12.143515,4.28857437 12.4772078,4.70302077 L12.671,4.957 L13.756,4.33 C13.5883816,4.03949822 13.6879982,3.66811842 13.9785,3.5005 C14.2399516,3.34964342 14.5669144,3.41524724 14.7518863,3.64165237 L14.808,3.723 L15.415,4.775 C15.5234301,4.9629217 15.5233686,5.19441529 15.4148387,5.38227937 C15.3063088,5.57014345 15.1057987,5.685837 14.8888387,5.68577938 C14.702873,5.68572998 14.5290381,5.60064534 14.4148837,5.45799509 L14.363,5.382 L13.28,6.007 C13.506326,6.50395084 13.6636803,7.02895018 13.7481186,7.567419 L13.79,7.892 L14.428,7.892 C14.7632368,7.892 15.035,8.16376316 15.035,8.499 C15.035,8.80071316 14.8148718,9.05101263 14.5264586,9.09805539 L14.428,9.106 L13.778,9.106 C13.7228271,9.64926256 13.5940004,10.1819727 13.395459,10.6895709 L13.268,10.991 L14.351,11.616 C14.5186184,11.3254982 14.8899982,11.2258816 15.1805,11.3935 C15.4419516,11.5443566 15.5487862,11.8602599 15.4453448,12.1337078 L15.403,12.223 L14.796,13.275 C14.6283816,13.5655018 14.2570018,13.6651184 13.9665,13.4975 C13.7050484,13.3466434 13.5982138,13.0307401 13.7016552,12.7572922 L13.744,12.668 L12.659,12.041 C12.3468461,12.4730229 11.9798903,12.8620657 11.5676802,13.1985171 L11.315,13.394 L11.883,14.229 C12.0239601,14.4070339 12.0537589,14.648858 11.9602358,14.8557862 C11.8667128,15.0627143 11.6655106,15.2001354 11.438738,15.2119692 C11.2443616,15.2221124 11.0590659,15.1385332 10.9379529,14.9909737 L10.271,14.012 C9.765377,14.2469403 9.22997559,14.4100289 8.68035453,14.4969916 L8.349,14.54 L8.349,15.786 C8.68423681,15.786 8.95599993,16.0577632 8.95599993,16.393 C8.95599993,16.6947131 8.73587181,16.9450126 8.44745854,16.9920554 L8.349,17 L7.135,17 C6.91813977,17 6.71775264,16.8843065 6.60932252,16.6965 C6.5008924,16.5086936 6.5008924,16.2773064 6.60932252,16.0895 C6.70226262,15.928523 6.86276298,15.820527 7.04328853,15.7929562 L7.135,15.786 L7.135,14.541 C6.58037095,14.4843508 6.03684373,14.3509889 5.51987243,14.1451597 L5.213,14.013 L4.601,14.913 C4.48644711,15.10907 4.27203448,15.2248029 4.04526195,15.2129692 C3.81848942,15.2011354 3.61728723,15.0637143 3.52376416,14.8567862 C3.44360152,14.6794192 3.45404273,14.4764143 3.54742978,14.3099181 L4.169,13.395 C3.73907006,13.0799697 3.35248497,12.7104256 3.0187922,12.2959792 L2.825,12.042 L1.74,12.669 C1.84843013,12.8569217 1.84836866,13.0884153 1.73983875,13.2762794 C1.63130884,13.4641435 1.43079875,13.579837 1.21383872,13.5797794 C1.02787298,13.57973 0.85403809,13.4946454 0.739883689,13.3519951 L0.688,13.276 L0.081,12.224 C-0.0697746632,11.9627861 -0.00435869331,11.6360834 0.221753632,11.4511204 L0.303,11.395 C0.438318368,11.3142775 0.60403426,11.2923181 0.759568607,11.333969 C0.883996085,11.3672898 0.993722707,11.4391293 1.07376664,11.5379786 L1.128,11.617 L2.211,10.992 C1.98467399,10.4950492 1.82731965,9.97004982 1.74288144,9.431581 L1.701,9.107 L1.063,9.107 C0.727763157,9.107 0.456,8.83523684 0.456,8.5 C0.456,8.19828684 0.676128157,7.94798737 0.964541447,7.90094461 L1.063,7.893 L1.701,7.893 C1.75593662,7.3496938 1.88473247,6.8169449 2.08342707,6.30939148 L2.211,6.008 L1.128,5.383 C0.944020176,5.63205396 0.602068088,5.7027065 0.334450191,5.54695956 C0.0965676153,5.40851783 -0.014795491,5.13064248 0.0516485875,4.87184513 L0.085,4.776 L0.692,3.724 C0.800430095,3.53607828 1.00087869,3.42027822 1.21783872,3.42022059 C1.43479875,3.42016296 1.63530884,3.53585651 1.74383875,3.7237206 C1.83428034,3.88027401 1.84939663,4.06712569 1.78917421,4.23381187 L1.744,4.331 L2.828,4.957 C3.14022134,4.52527348 3.50718546,4.13651727 3.91935206,3.80032844 L4.172,3.605 L3.604,2.77 C3.44591706,2.49502558 3.52618905,2.14469972 3.78822705,1.96598981 C4.02114971,1.80713655 4.32788031,1.83149126 4.53242812,2.01273207 L4.604,2.088 L5.216,2.988 C5.721623,2.75305972 6.25702441,2.5899711 6.80664547,2.50300835 L7.138,2.46 L7.138,1.214 C6.80276316,1.214 6.531,0.942236843 6.531,0.607 C6.531,0.305286841 6.75112816,0.0549873682 7.03954145,0.00794460524 L7.138,0 L8.361,0 Z M7.74560874,3.643 L7.52973031,3.64794593 C4.94864636,3.76357404 2.89121762,5.89100568 2.888,8.5 C2.888,11.182447 5.06255297,13.357 7.745,13.357 C10.427447,13.357 12.602,11.182447 12.602,8.5 C12.602,5.89005154 10.543402,3.7609144 7.96134981,3.64773237 L7.74560874,3.643 Z M9.567,9.714 C9.90223684,9.714 10.174,9.98576316 10.174,10.321 C10.174,10.6562368 9.90223684,10.928 9.567,10.928 C9.40601359,10.928 9.25162077,10.8640484 9.13778618,10.7502138 C9.0239516,10.6363792 8.96,10.4819864 8.96,10.321 C8.96,9.98576316 9.23176316,9.714 9.567,9.714 Z M5.621,8.5 C6.12413141,8.5 6.532,8.90786859 6.532,9.411 C6.532,9.91413141 6.12413141,10.322 5.621,10.322 C5.11786859,10.322 4.71,9.91413141 4.71,9.411 C4.71,8.90786859 5.11786859,8.5 5.621,8.5 Z M7.746,5.464 C8.08123684,5.464 8.353,5.73576316 8.353,6.071 C8.353,6.40623684 8.08123684,6.678 7.746,6.678 C7.41076316,6.678 7.139,6.40623684 7.139,6.071 C7.139,5.73576316 7.41076316,5.464 7.746,5.464 Z\"></path></symbol>\n",
       "<symbol id=\"icon_035\" viewbox=\"0 0 18 18\"><path d=\"M91.8,93a.6.6,0,0,0-.8.8l1.1,1,.4.2.3-.2a.5.5,0,0,0,0-.7Z\" transform=\"translate(-75.9 -81.8)\"></path><path d=\"M91.4,88.7l.4-.2,1-1a.6.6,0,0,0,0-.8.5.5,0,0,0-.7,0L91,87.8a.5.5,0,0,0,0,.7Z\" transform=\"translate(-75.9 -81.8)\"></path><path d=\"M93.4,90.2H91.9a.6.6,0,0,0-.5.6.5.5,0,0,0,.5.5h1.5a.5.5,0,0,0,.5-.5A.6.6,0,0,0,93.4,90.2Z\" transform=\"translate(-75.9 -81.8)\"></path><path class=\"cls-2\" d=\"M90.2,83.6h-.1a.1.1,0,0,0-.1-.1h-.6l-6,3.7H80.7a2.5,2.5,0,0,0-1.5.5l-.4.5H77.4a1.6,1.6,0,0,0-1.5,1.6h0V92a1.5,1.5,0,0,0,1.5,1.5h1.4a1,1,0,0,0,.4.5,2.7,2.7,0,0,0,1.2.6V96a.8.8,0,0,0,.8.7h1A.8.8,0,0,0,83,96V94.6h.4l6,3.7h.8V83.7ZM78.5,92.4H77.4A.4.4,0,0,1,77,92V89.6a.5.5,0,0,1,.4-.5h1.1v3.3ZM82.3,96H81.1V94.6h1.2Zm.7-2.5H80.7a1.1,1.1,0,0,1-.8-.3,1.2,1.2,0,0,1-.4-.8V89.1a1.2,1.2,0,0,1,.4-.8,1.1,1.1,0,0,1,.8-.3H83Zm6.2,3.4-5.5-3.4V88l5.5-3.3Z\" transform=\"translate(-75.9 -81.8)\"></path></symbol>\n",
       "<symbol id=\"icon_034\" viewbox=\"0 0 18 18\"><path d=\"M247.4,222.5l-.4.2-.4-.2-1.6-1.6h.1l.6-.5h.1l1.6,1.6A.5.5,0,0,1,247.4,222.5Zm-13.2-2.1h4.5V220h-4.5Zm9.7.3v.7a1.8,1.8,0,0,1-1.8,1.7h-8.8a1.8,1.8,0,0,1-1.8-1.7V208.6a1.8,1.8,0,0,1,1.8-1.8h7.2a.9.9,0,0,1,.7.3l2.3,2.1a.8.8,0,0,1,.4.7v2.4a4.5,4.5,0,0,1,0,8.4Zm-3.2-10.8h1.8l-1.8-1.6Zm2,11.1h-.6a4.7,4.7,0,0,1-3.9-2.2h-4v-.4H238a5.6,5.6,0,0,1-.4-1.2h-3.4v-.4h3.4v-.3a4.1,4.1,0,0,1,.1-1.1h-3.5v-.8H238a7.5,7.5,0,0,1,.7-1.2h-4.5v-.7h5.5a4.1,4.1,0,0,1,2.4-.8h.6v-1.4h-2.8V208h-6.6a.6.6,0,0,0-.6.6v12.8c0,.3.2.5.6.5h8.8a.6.6,0,0,0,.6-.5Zm2.8-4.5a3.6,3.6,0,0,0-1.6-2.9,2.8,2.8,0,0,0-1.2-.4h-.6l-1,.2h-.4a3.3,3.3,0,0,0-1.4,1.2c-.1.3-.3.5-.4.8a4.1,4.1,0,0,0-.1,1.1,3.3,3.3,0,0,0,3.3,3.3h.6a3.1,3.1,0,0,0,1.2-.5A3.4,3.4,0,0,0,245.5,216.5Z\" transform=\"translate(-231.5 -206.8)\"></path></symbol>\n",
       "<symbol id=\"icon_033\" viewbox=\"0 0 18 18\"><path d=\"M11.9,4.9l0,4.9v2.9h4.6V9.5L11.9,4.9z M15.6,11.8h-2.8l0-4.8l2.8,2.8V11.8z M1.5,16.4h15v-3.2h-15V16.4z M2.3,14h13.3v1.5H2.3V14z M11.3,4.3L9,2L6.7,4.3v8.4l4.6,0V4.3z M10.4,11.8H7.6V4.7L9,3.3l1.4,1.4V11.8z M6.1,4.9L1.5,9.5v3.2 l4.6,0V4.9z M5.2,11.8H2.4V9.9l2.8-2.8V11.8z\"></path></symbol>\n",
       "<symbol id=\"icon_032\" viewbox=\"0 0 18 18\"><path d=\"M15.9,3.7l-1.6-1.6c-0.8-0.8-2-0.8-2.8,0c0,0,0,0,0,0l-8.4,8.5c-0.1,0.1-0.3,0.3-0.3,0.5l-1.2,3.7 c-0.1,0.5,0,1,0.3,1.3c0.3,0.3,0.8,0.5,1.3,0.3l3.8-1.1c0.2-0.1,0.4-0.2,0.6-0.3l8.4-8.5C16.7,5.8,16.7,4.5,15.9,3.7z M14.6,4.3 l-8.5,8.5l-0.9-0.9l8.5-8.5L14.6,4.3z M12.4,3c0.3-0.3,0.7-0.3,1,0c0,0,0,0,0,0l0,0l-8.5,8.5l-0.5-0.5L12.4,3z M2.8,15.2l0.3-1.1 l0.8,0.8L2.8,15.2z M4.4,14.7l-1.1-1.1l0.6-1.8l2.4,2.4L4.4,14.7z M15,5.6l-8,8l-0.5-0.5l8.5-8.5l0,0C15.2,4.9,15.2,5.3,15,5.6 L15,5.6z\"></path></symbol>\n",
       "<symbol id=\"icon_031\" viewbox=\"0 0 18 18\"><path d=\"M13.5,1H4.7C3.8,1,3,1.8,3,2.7v12.6C3,16.2,3.8,17,4.7,17h8.7c0.9,0,1.7-0.8,1.7-1.7V2.7 C15.2,1.8,14.4,1,13.5,1z M14,15.3c0,0.3-0.3,0.6-0.6,0.6H4.7c-0.3,0-0.6-0.3-0.6-0.6V2.7c0-0.3,0.3-0.6,0.6-0.6h8.7 c0.3,0,0.6,0.3,0.6,0.6V15.3z M10.5,3.1H4.8v5h4.3L10.5,3.1z M5.2,7.7V3.4H10L8.8,7.7H5.2z M13.4,8v-5h-2.7L9.3,8H13.4z M11,3.4h2 v4.2H9.8L11,3.4z M8.1,8.6H4.8V12h3.3V8.6z M7.7,11.6H5.2V9h2.5L7.7,11.6z M4.8,14.9h8.6v-2.5H4.8V14.9z M13,12.8v1.7H5.2l0-1.7H13z M8.3,12h5V8.6h-5V12z M8.7,9H13v2.6H8.7V9z\"></path></symbol>\n",
       "<symbol id=\"icon_030\" viewbox=\"0 0 18 18\"><path d=\"M9,5.7L9,5.7c-2.1,0-3.8,1.7-3.8,3.8s1.7,3.8,3.8,3.8s3.8-1.7,3.8-3.8C12.8,7.4,11.1,5.7,9,5.7z M9,12.6L9,12.6 c-1.7,0-3.1-1.4-3.1-3.1S7.3,6.5,9,6.5s3.1,1.4,3.1,3.1C12.1,11.3,10.7,12.6,9,12.6z M7.4,7.9c-0.9,0.9-0.9,2.4,0,3.3 c0.9,0.9,2.4,0.9,3.3,0c0.4-0.4,0.7-1,0.7-1.6c0-0.6-0.2-1.2-0.7-1.6C9.7,7,8.3,7,7.4,7.9z M9.8,10.4C9.8,10.4,9.8,10.4,9.8,10.4 L9.8,10.4c-0.5,0.4-1.2,0.4-1.6,0c-0.4-0.4-0.4-1.2,0-1.6c0.4-0.4,1.2-0.4,1.6,0C10.2,9.2,10.2,9.9,9.8,10.4z M14.2,4.2h-0.8 l-0.9-1.7h-7L4.6,4.2H3.8c-1.3,0-2.3,1-2.3,2.3v6.9c0,1.3,1,2.3,2.3,2.3h10.4c1.3,0,2.3-1,2.3-2.3V6.5C16.5,5.3,15.5,4.2,14.2,4.2z M14.2,14.6H3.8c-0.6,0-1.1-0.5-1.1-1.1V6.5c0-0.6,0.5-1.1,1.1-1.1h1.6l0.9-1.7h5.5l0.9,1.7h1.6c0.6,0,1.1,0.5,1.1,1.1l0,6.9 C15.3,14.1,14.8,14.6,14.2,14.6z\"></path></symbol>\n",
       "<symbol id=\"icon_029\" viewbox=\"0 0 18 18\"><path d=\"M13.2,4.3H2.6C1.7,4.3,1,5,1,5.8v9.4c0,0.3,0.2,0.6,0.5,0.7c0.3,0.1,0.6,0.1,0.8-0.2l2.2-2.2h8.7 c0.9,0,1.5-0.7,1.5-1.6V5.8C14.7,5,14.1,4.3,13.2,4.3z M13.2,12.4H4.5c-0.3,0-0.6,0.1-0.8,0.3l-1.5,1.5V5.8c0-0.2,0.2-0.4,0.4-0.4 h10.6c0.2,0,0.4,0.2,0.4,0.4l0,6.2C13.6,12.2,13.4,12.4,13.2,12.4z M17.1,3.4v6.2c0,0.8-0.6,1.4-1.4,1.4h-0.4v-0.8h0.4 c0.3,0,0.6-0.3,0.6-0.6V3.4c0-0.3-0.3-0.6-0.6-0.6H5c-0.3,0-0.6,0.3-0.6,0.6v0.4H3.7V3.4C3.7,2.6,4.3,2,5,2h10.7 C16.5,2,17.1,2.6,17.1,3.4z M4.4,7h7v0.8h-7V7z M4.4,8.6h7v0.8h-7V8.6z M4.4,10.3h4.3v0.4H4.4V10.3z\"></path></symbol>\n",
       "<symbol id=\"icon_028\" viewbox=\"0 0 18 18\"><path d=\"M16.3,3C16.3,3,16.3,3,16.3,3H4.9C3.9,3,3.2,3.8,3.2,4.7V5l0.1,0C3.6,5,4,5.1,4.3,5.3l0.1,0.1V4.7 c0-0.3,0.2-0.5,0.5-0.5h11.4c0.3,0,0.5,0.2,0.5,0.5v8.4c0,0.3-0.2,0.5-0.5,0.5H7.7c0.3-0.1,0.5-0.3,0.7-0.4C9,13,9.3,12.3,9.1,11.7 l3.5-2.1c0.1-0.1,0.2-0.2,0.1-0.4c0,0,0,0,0,0c0-0.1-0.1-0.1-0.2-0.1c0,0-0.1,0-0.1,0l-3.6,2.1c-0.2-0.2-0.5-0.3-0.8-0.3 c-0.3,0-0.5,0.1-0.8,0.2c-0.4,0.2-0.7,0.3-0.9,0.4L5,10.2H3.8c1.2-0.5,1.9-1.9,1.4-3.1C5.1,6.7,4.9,6.4,4.6,6.2l0,0 C4.5,6.1,4.5,6.1,4.4,6C4,5.7,3.5,5.5,2.9,5.5c-0.7,0-1.3,0.3-1.8,0.8C1.1,6.4,1,6.5,1,6.6C0.2,7.6,0.5,9.1,1.6,9.9 c0.2,0.1,0.3,0.2,0.5,0.3H1.8C0.8,10.2,0,11,0,12c0,0,0,0,0,0v2.9h0.9V12c0-0.5,0.4-0.9,0.9-1c0,0,0,0,0,0h2.8l1.5,1.6l0.3-0.2 c0.1-0.1,0.5-0.3,1.1-0.6c0.1-0.1,0.2-0.1,0.4-0.1c0.1,0,0.2,0,0.3,0.1c0.1,0.1,0,0.4-0.3,0.5c-0.4,0.2-1.4,0.7-2.2,1.1 c-0.7,0.3-1.3,0.7-1.7,0.9l-0.1,0.1l0.1,0.1c0.3,0.1,0.5,0.2,0.8,0.2h11.4c0.9,0,1.7-0.8,1.7-1.7V4.7C18,3.8,17.2,3,16.3,3z M2.2,9.3c-0.7-0.4-1-1.3-0.6-2.1c0.3-0.5,0.8-0.8,1.3-0.8c0.6,0,1.1,0.3,1.3,0.8c0.3,0.5,0.3,1,0,1.5C3.9,9.4,2.9,9.7,2.2,9.3z\"></path></symbol>\n",
       "<symbol id=\"icon_027\" viewbox=\"0 0 18 18\"><path d=\"M1,7.4L1,1h6.5v1.3H2.3v5.1H1z M15.7,7.4H17V1l-6.5,0v1.3h5.2V7.4z M2.3,10.6H1V17h6.5v-1.3H2.3L2.3,10.6z M15.7,10.6l0,5.1h-5.2V17H17v-6.4H15.7z M5.5,10.5C4.5,11.5,4,12.7,4,14.1h0.8c0-1.8,1.1-3.3,2.8-4C7.2,10,7,9.8,6.7,9.6 C6.3,9.8,5.8,10.2,5.5,10.5z M9,10c-1.7,0-3-1.4-3-3c0-1.7,1.4-3,3-3c1.7,0,3,1.4,3,3C12,8.6,10.7,10,9,10z M11.1,7 c0-1.2-0.9-2.1-2.1-2.1C7.8,4.8,6.9,5.8,6.9,7c0,0,0,0,0,0c0,1.2,0.9,2.1,2.1,2.1C10.2,9.1,11.1,8.1,11.1,7z M13.2,14.1H14 c0-1.3-0.5-2.6-1.5-3.5c-0.4-0.4-0.8-0.7-1.3-0.9c-0.2,0.2-0.5,0.4-0.8,0.5C12.1,10.7,13.2,12.3,13.2,14.1z\"></path></symbol>\n",
       "<symbol id=\"icon_026\" viewbox=\"0 0 18 18\"><path d=\"M14.8,10.6c1.4-1.2,2.2-3,2.2-4.9l0-0.3l-0.3-0.1c-0.2,0-0.4-0.1-0.5-0.1c0-0.5-0.1-0.9-0.2-1.4l-0.1-0.2 l-0.2-0.1h-0.1c-0.5,0-1.1,0.2-1.6,0.4c-0.1-0.4-0.2-0.7-0.4-1l-0.2-0.3l-0.3,0.1c-0.4,0.1-0.7,0.2-1,0.4c-0.1-0.3-0.3-0.5-0.5-0.7 l-0.2-0.2l-0.3,0.1l-0.1,0c-0.4,0.2-0.7,0.4-1,0.7C9.8,2.8,9.5,2.6,9.3,2.3L9.1,2.2L8.8,2.3l0,0C8.5,2.6,8.3,2.8,8.1,3 c-0.3-0.3-0.6-0.5-1-0.7L6.9,2.2L6.6,2.4L6.6,2.4C6.4,2.7,6.2,2.9,6,3.2C5.6,3,5.2,2.8,4.8,2.8L4.5,2.7L4.4,3C4.2,3.3,4.1,3.6,4,4 C3.5,3.8,3,3.7,2.5,3.6l-0.4,0L2,3.9C1.9,4.4,1.8,4.8,1.8,5.3c-0.2,0-0.3,0-0.5,0.1L1,5.4l0,0.3c0,1.9,0.8,3.7,2.2,4.9 c-0.1,0.1-0.3,0.1-0.4,0.2l-0.2,0.2l0.1,0.3c0.5,1,1.4,1.8,2.5,2.1c0.4,0.1,0.9,0.2,1.3,0.2c0.5,0,1-0.1,1.5-0.3v2.3h2.2v-2.2 c0.4,0.1,0.9,0.2,1.4,0.2c0.4,0,0.9-0.1,1.3-0.2c1.1-0.3,2-1,2.5-2.1l0.1-0.3l-0.2-0.2C15.1,10.8,14.9,10.7,14.8,10.6z M15.2,4.5 c0.1,0.3,0.1,0.5,0.1,0.8c-0.4,0-0.8,0.1-1.2,0.2l0,0c0-0.2,0-0.4,0-0.7C14.4,4.7,14.8,4.6,15.2,4.5z M11.9,4.2 c0.1,0,0.1-0.1,0.2-0.1C12.1,4,12.2,4,12.3,4l0,0c0.1-0.3,0.4-0.4,0.7-0.3c0.3,0.1,0.4,0.4,0.3,0.7c0,0.1-0.1,0.1-0.1,0.1 c0,0.1,0,0.1,0,0.2c0,0.1,0,0.1,0,0.2c0,0.3,0,0.7,0,1c0,0.1,0,0.2,0,0.2s0,0.2,0,0.2c-0.1,0.7-0.3,1.3-0.6,2 c-0.2,0.4-0.4,0.8-0.7,1.2c-0.2,0.2-0.4,0.5-0.6,0.7c-0.1,0.1-0.2,0.2-0.3,0.3c0.3-0.9,0.5-1.8,0.5-2.7v0c0,0,0-0.1,0-0.1V7.5 c0-0.1,0-0.2,0-0.3c0-0.1,0-0.2,0-0.4c0-0.1,0-0.2,0-0.3c0-0.1,0-0.2,0-0.3c-0.1-0.5-0.2-1-0.4-1.5C11.3,4.6,11.6,4.4,11.9,4.2z M11.1,3.3c0.1,0.1,0.1,0.2,0.2,0.3c-0.2,0.1-0.4,0.3-0.7,0.5c-0.1-0.1-0.1-0.2-0.2-0.3C10.7,3.6,10.9,3.4,11.1,3.3z M7,3.2 c0.2,0.1,0.4,0.3,0.6,0.5C7.5,3.9,7.4,4,7.4,4.1C7.2,4,7,3.8,6.7,3.6C6.8,3.5,6.9,3.4,7,3.2z M4.9,3.7c0.3-0.2,0.6-0.1,0.8,0.2 c0,0.1,0.1,0.1,0.1,0.2l0,0c0.1,0,0.1,0.1,0.2,0.1c0.1,0,0.1,0.1,0.2,0.1C6.5,4.5,6.7,4.7,7,4.9c-0.2,0.5-0.3,1-0.4,1.5 c0,0.1,0,0.2,0,0.3s0,0.2,0,0.3c0,0.1,0,0.2,0,0.2c0,0.1,0,0.2,0,0.3v0c0,0.1,0,0.2,0,0.3c0,1,0.2,1.9,0.6,2.9l0,0 c-0.2-0.2-0.4-0.4-0.6-0.6C6,9.6,5.6,9,5.3,8.4C5,7.7,4.8,7.1,4.7,6.4c0-0.1,0-0.2,0-0.2c0-0.1,0-0.2,0-0.2c0-0.3,0-0.6,0-1 c0-0.1,0-0.1,0-0.2s0-0.1,0-0.2C4.6,4.3,4.6,3.9,4.9,3.7z M2.7,4.5L2.7,4.5c0.4,0.1,0.7,0.2,1.1,0.3l0.1,0c0,0.2,0,0.4,0,0.6 C3.5,5.4,3.1,5.3,2.7,5.3C2.7,5,2.7,4.8,2.7,4.5z M6.5,12.8c-0.4,0-0.7-0.1-1.1-0.2C4.7,12.5,4,12,3.6,11.4c0.1,0,0.2-0.1,0.3-0.1v0 c0.9,0.7,2,1.2,3.2,1.5C6.9,12.8,6.7,12.8,6.5,12.8z M6.1,11.5c-0.5-0.2-1-0.5-1.4-0.8l-0.1-0.1h0c-0.1,0-0.1-0.1-0.2-0.1 c-0.1,0-0.1-0.1-0.2-0.2l0,0l-0.1-0.1C2.8,9.3,2,7.8,1.8,6.1c0.1,0,0.1,0,0.2,0l0.2,0h0c0.1,0,0.1,0,0.2,0c0.5,0,1,0.1,1.5,0.3 C4,7.2,4.2,8,4.6,8.7c0.4,0.8,0.9,1.5,1.5,2.2c0.1,0.1,0.3,0.3,0.4,0.4c0.2,0.2,0.5,0.4,0.8,0.6C6.8,11.8,6.4,11.7,6.1,11.5z M9.5,15.1h-1v-1.8h1V15.1z M9.7,11.3c-0.1,0.1-0.1,0.2-0.2,0.3l0,0.1c0,0.1-0.1,0.1-0.1,0.2l-0.1,0.1l-0.2,0.3l0,0.1l0,0l0,0l0,0 l-0.1-0.1l-0.1-0.1c-0.1-0.1-0.1-0.2-0.2-0.3l-0.1-0.1c-0.1-0.1-0.1-0.2-0.2-0.3s-0.1-0.2-0.2-0.3c-0.5-0.8-0.7-1.8-0.8-2.7 c0-0.1,0-0.2,0-0.3c0-0.1,0-0.2,0-0.3H7.1l0.2,0V7.7c0-0.1,0-0.2,0-0.3c0-0.1,0-0.2,0-0.3c0-0.6,0.2-1.2,0.4-1.7 c0-0.1,0.1-0.1,0.1-0.2C7.9,5,7.9,5,7.9,4.9C8,4.6,8.2,4.4,8.3,4.1l0,0c0-0.1,0.1-0.1,0.1-0.2c0-0.1,0.1-0.1,0.1-0.2 C8.7,3.6,8.9,3.4,9,3.3c0.2,0.2,0.3,0.4,0.5,0.6c0,0.1,0.1,0.1,0.1,0.2c0,0.1,0.1,0.1,0.1,0.2L9.9,4L9.8,4.2 c0.1,0.2,0.2,0.4,0.4,0.6c0,0.1,0.1,0.1,0.1,0.2c0,0.1,0.1,0.1,0.1,0.2c0.2,0.5,0.3,1.1,0.4,1.6c0,0.1,0,0.2,0,0.3 c0,0.1,0,0.2,0,0.4v0.1c0,0.1,0,0.2,0,0.3c0,0.1,0,0.2,0,0.3C10.6,9.3,10.3,10.4,9.7,11.3z M14.4,11.4c-0.4,0.6-1.1,1.1-1.8,1.3 c-0.3,0.1-0.7,0.2-1.1,0.2c-0.2,0-0.4,0-0.6-0.1c1.2-0.2,2.3-0.8,3.2-1.5C14.2,11.3,14.3,11.3,14.4,11.4L14.4,11.4z M13.9,10.3 C13.9,10.3,13.9,10.4,13.9,10.3l-0.1,0.1c-0.1,0.1-0.1,0.1-0.2,0.2s-0.2,0.1-0.2,0.2s-0.2,0.1-0.3,0.2c-0.4,0.3-0.9,0.5-1.4,0.7 c-0.4,0.1-0.7,0.2-1.1,0.3c0.2-0.1,0.4-0.3,0.6-0.5c0.1,0,0.1-0.1,0.2-0.1c0.2-0.1,0.3-0.3,0.5-0.4c0.6-0.6,1.1-1.4,1.5-2.2 C13.7,8,13.9,7.2,14,6.4c0.5-0.2,1-0.3,1.5-0.3c0.1,0,0.1,0,0.2,0l0.1,0h0.1c0.1,0,0.2,0,0.2,0C16,7.8,15.2,9.3,13.9,10.3z\"></path></symbol>\n",
       "<symbol id=\"icon_025\" viewbox=\"0 0 18 18\"><path d=\"M16.3,5.2V2.5c0-0.8-0.7-1.5-1.5-1.5H12c-0.8,0-1.5,0.7-1.5,1.5v2.7c0,0.3,0.1,0.6,0.3,0.9l0,0l0,0 c-0.2,0.3-0.3,0.6-0.3,0.9v1.2c0,0,0,0,0,0c0,0.2-0.1,0.3-0.3,0.3H5.5c-0.3,0-0.6,0.1-0.9,0.3l0,0l0,0C4.2,8.7,3.9,8.6,3.6,8.6H2.5 C1.7,8.6,1,9.3,1,10.1v5.4C1,16.3,1.7,17,2.5,17h1.1c0.3,0,0.6-0.1,0.9-0.3l0,0l0,0C4.9,16.9,5.2,17,5.5,17h1.6 c0.5,0,0.9-0.2,1.2-0.6l0.1-0.1l0.1,0.1C8.7,16.8,9.1,17,9.6,17h0.5c0.8,0,1.5-0.7,1.5-1.5v-1.2h3.1c0.8,0,1.5-0.7,1.5-1.5V7.1 c0-0.3-0.1-0.6-0.3-0.9l0,0l0,0C16.2,5.9,16.3,5.6,16.3,5.2z M3.9,15.5c0,0.2-0.1,0.3-0.3,0.3H2.5c-0.2,0-0.3-0.1-0.3-0.3v-5.4 c0-0.2,0.1-0.3,0.3-0.3h1.1c0.2,0,0.3,0.1,0.3,0.3V15.5z M7.4,15.5C7.4,15.5,7.4,15.5,7.4,15.5c0,0.2-0.1,0.3-0.3,0.3H5.5 c-0.2,0-0.3-0.1-0.3-0.3v-0.8c0,0,0,0,0,0c0-0.2,0.1-0.3,0.3-0.3h1.6c0.2,0,0.3,0.1,0.3,0.3V15.5z M15.1,12.8 C15.1,12.8,15.1,12.8,15.1,12.8c0,0.2-0.1,0.3-0.3,0.3H11c-0.3,0-0.6,0.3-0.6,0.6v1.8c0,0.2-0.1,0.3-0.3,0.3H9.6 c-0.2,0-0.3-0.1-0.3-0.3v-0.8c0-0.8-0.7-1.5-1.5-1.5H5.5c-0.2,0-0.3-0.1-0.3-0.3v-2.7c0-0.2,0.1-0.3,0.3-0.3l4.7,0 c0.8,0,1.5-0.7,1.5-1.5V7.1c0-0.2,0.1-0.3,0.3-0.3h2.7c0.2,0,0.3,0.1,0.3,0.3V12.8z M15.1,5.2C15.1,5.2,15.1,5.2,15.1,5.2 c0,0.2-0.1,0.3-0.3,0.3H12c-0.2,0-0.3-0.1-0.3-0.3V2.5c0,0,0,0,0,0c0-0.2,0.1-0.3,0.3-0.3h2.7c0.2,0,0.3,0.1,0.3,0.3V5.2z\"></path></symbol>\n",
       "<symbol id=\"icon_024\" viewbox=\"0 0 18 18\"><path d=\"M17,5.7h-1.7V4c0,0-0.1,0-0.1,0H2.9C1.8,4,1,4.8,1,5.8v6.1c0,1,0.8,1.8,1.8,1.8h6.9l0.9-0.9v0.9h4.5 c1,0,1.8-0.8,1.8-1.8V5.8C17,5.8,17,5.7,17,5.7z M15.2,12.7h-3.8v-1.6l-1.6,1.6h-7c-0.4,0-0.7-0.3-0.7-0.7V5.8 c0-0.4,0.3-0.7,0.7-0.7h11.7v1.3h1.3l0,5.5C15.9,12.4,15.6,12.7,15.2,12.7z M13.1,8.1h0.4v0.4h-0.4V8.1z M12.4,9.2h0.4v0.4h-0.4V9.2 z M13.8,7h0.4v0.4h-0.4V7z M11.6,10.3H12v0.4h-0.4V10.3z M4.6,9c-0.8,0-1.4,0.6-1.4,1.4c0,0.8,0.6,1.4,1.4,1.4 c0.8,0,1.4-0.6,1.4-1.4C6,9.6,5.4,9,4.6,9z M4.6,11.4L4.6,11.4c-0.6,0-1-0.5-1-1s0.5-1,1-1c0.6,0,1,0.5,1,1 C5.7,10.9,5.2,11.4,4.6,11.4z\"></path></symbol>\n",
       "<symbol id=\"icon_023\" viewbox=\"0 0 18 18\"><path d=\"M12.8,11.5h0.4v0.4h-0.4V11.5z M4.3,10.8h6.4v-0.4H4.3V10.8z M4.3,9.7h6.4V9.3H4.3V9.7z M10.7,8.2H4.3V5.9h6.4 V8.2z M9.9,6.6H5v0.8h4.9V6.6z M4.3,11.9h6.4v-0.4H4.3V11.9z M12.8,7.4h0.4V7h-0.4V7.4z M12.8,6.3h0.4V5.9h-0.4V6.3z M17,5.8v6.1 c0,1-0.8,1.8-1.8,1.8H2.9c-1,0-1.8-0.8-1.8-1.8V5.8C1,4.8,1.8,4,2.9,4h12.3C16.2,4,17,4.8,17,5.8z M15.9,5.8c0-0.4-0.3-0.7-0.7-0.7 H2.9c-0.4,0-0.7,0.3-0.7,0.7v6.1c0,0,0,0,0,0c0,0.4,0.3,0.7,0.7,0.7h12.3c0,0,0,0,0,0c0.4,0,0.7-0.3,0.7-0.7V5.8 C15.9,5.8,15.9,5.8,15.9,5.8z M12.8,10.8h0.4v-0.4h-0.4V10.8z M12.8,8.6h0.4V8.1h-0.4V8.6z M12.8,9.7h0.4V9.2h-0.4V9.7z\"></path></symbol>\n",
       "<symbol id=\"icon_022\" viewbox=\"0 0 18 18\"><path d=\"M8.9,6.1l-1.5,4.3h3L8.9,6.1L8.9,6.1z M8.6,9.5l0.3-0.8l0.3,0.8H8.6z M15.7,14.3L15.7,14.3L11.4,2.8 C11.2,2.3,10.7,2,10.2,2H7.6c-0.5,0-1,0.3-1.2,0.8L2.1,14.3c-0.3,0.7,0.1,1.4,0.7,1.7C3,16,3.1,16,3.3,16h2.5c0.5,0,1-0.3,1.2-0.9 l0.6-1.7h2.5l0.6,1.7c0.2,0.5,0.7,0.9,1.2,0.9h2.6c0.7,0,1.3-0.6,1.3-1.3C15.8,14.6,15.7,14.4,15.7,14.3z M11.9,14.7L11,12.2H6.7 l-0.9,2.5H3.3L7.6,3.3h2.6l4.3,11.4H11.9z\"></path></symbol>\n",
       "<symbol id=\"icon_021\" viewbox=\"0 0 18 18\"><path d=\"M17,7.8c0.1-0.6-0.3-1.2-0.9-1.3l-4.2-0.7L10,2.1C9.9,1.9,9.7,1.7,9.5,1.6C9,1.3,8.3,1.6,8,2.1L6.1,5.9L1.9,6.5 c-0.2,0-0.4,0.1-0.6,0.3C0.9,7.3,0.9,8,1.3,8.4l3,3l-0.7,4.2c0,0.1,0,0.1,0,0.2c0,0.6,0.5,1.1,1.1,1.1c0.2,0,0.3,0,0.5-0.1L9,14.8 l3.8,1.9c0.4,0.2,0.8,0.1,1.1-0.1c0.3-0.2,0.5-0.6,0.4-1.1l-0.7-4.2l3-3C16.8,8.2,16.9,8,17,7.8z M12.4,11l0.7,4.6L9,13.4l-4.1,2.1 L5.6,11L2.3,7.7L6.9,7L9,2.8L11.1,7l4.6,0.7L12.4,11z\"></path></symbol>\n",
       "<symbol id=\"icon_020\" viewbox=\"0 0 18 18\"><path d=\"M14.8,3.3l-2.3-2C12.3,1.1,12.1,1,11.9,1H4.7C3.8,1,3,1.8,3,2.7v12.6C3,16.2,3.8,17,4.7,17h8.7 c0.9,0,1.7-0.8,1.7-1.7V4C15.2,3.7,15,3.5,14.8,3.3z M12.1,2.4l1.8,1.6h-1.8V2.4z M14,15.3c0,0.3-0.2,0.5-0.5,0.5H4.7 c-0.3,0-0.5-0.2-0.5-0.5V2.7c0-0.3,0.2-0.5,0.5-0.5h6.6v2.6H14V15.3z M5.7,6.7h6.7v0.8H5.7V6.7z M5.7,8.6h6.7v0.8H5.7V8.6z M5.7,10.8h4.4v0.4H5.7V10.8z M5.7,12.3h4.4v0.4H5.7V12.3z M5.7,13.9h4.4v0.4H5.7V13.9z\"></path></symbol>\n",
       "<symbol id=\"icon_019\" viewbox=\"0 0 18 18\"><path d=\"M14.3,9.2c-0.4-0.3-0.8-0.4-1.3-0.4c-0.4,0-0.8,0.2-1.2,0.4c-0.4-0.2-0.8-0.3-1.2-0.3C10,8.9,9.4,9.3,9,9.8 c-0.1,0.2-0.2,0.4-0.3,0.6c-0.1,0.4,0.1,0.8,0.5,1c0.1,0,0.1,0,0.2,0c0.2,0,0.3,0.1,0.5,0.2c0.2,0.1,0.3,0.3,0.3,0.6 c0,0.3-0.1,0.7-0.3,0.9c-0.2,0.3-0.4,0.5-0.8,0.5c-0.2,0-0.3,0-0.5-0.1c-0.4-0.4-0.6-0.9-0.6-1.4c0-0.7,0.1-1.4,0.5-2 c0.1-0.1,0.2-0.3,0.3-0.4C9.1,9.4,9.1,9,8.8,8.6c0,0-0.1-0.1-0.1-0.1C8.3,8.1,8,7.5,7.9,6.8C7.8,6.2,8,5.5,8.3,4.9 c0.2-0.3,0.5-0.5,0.8-0.5c0.2,0,0.3,0,0.5,0.1C10,4.9,10,5.6,9.7,6C9.5,6.2,9.3,6.4,9,6.5C8.7,6.7,8.6,7.1,8.7,7.4 c0.3,0.9,1.1,1.4,2,1.4c0.4,0,0.8-0.2,1.2-0.4c0.4,0.2,0.8,0.3,1.2,0.3c0.7,0,1.3-0.4,1.7-0.9c0.1-0.2,0.2-0.4,0.3-0.5 c0.1-0.4-0.1-0.8-0.5-1c0,0,0,0-0.1,0c-0.1,0-0.1,0-0.2-0.1c-0.1-0.1-0.4-0.3-0.5-1.1c-0.2-1.3-0.9-2.5-2-3.3C11.1,1.2,10.1,1,9.1,1 C7.5,1,6,1.9,5.1,3.2C4.6,4,4.2,5,4.1,6C4,6.9,3.8,7.8,3.4,8.6c0,0-0.1,0.1-0.1,0.1C3.1,8.9,3,9.1,3,9.3c0,0.2,0.1,0.4,0.3,0.6 c0.2,0.3,0.4,0.6,0.5,0.9c0.2,0.5,0.3,1,0.3,1.6c0.1,1.5,0.8,2.9,2.1,3.8C6.9,16.7,7.9,17,8.9,17c0.1,0,0.1,0,0.2,0 c0.7,0,1.5-0.3,2.1-0.7l0.1,0c0.5,0.3,1.1,0.5,1.7,0.5c0.7,0,1.3-0.4,1.7-1c0.1-0.2,0.2-0.3,0.3-0.5c0.1-0.2,0.1-0.5-0.1-0.7 c-0.1-0.2-0.4-0.3-0.6-0.3h0c-0.1,0-0.2,0-0.2-0.1c-0.3-0.3-0.4-0.7-0.4-1.1c-0.1-0.5,0.1-1.1,0.3-1.5c0.2-0.2,0.4-0.4,0.7-0.5 c0.2,0,0.4-0.2,0.5-0.4c0.1-0.2,0.1-0.4,0.1-0.6C15,9.8,14.7,9.4,14.3,9.2z M12.5,13.4L12.5,13.4c0,0.8,0.5,1.6,1.2,2 c-0.2,0.3-0.5,0.4-0.9,0.5c-0.4,0-0.9-0.2-1.2-0.5c-0.2-0.3-0.6-0.3-0.9-0.1c0,0,0,0-0.1,0.1c-0.5,0.4-1,0.6-1.6,0.6 c-2,0.1-3.8-1.4-3.9-3.4c0-0.1,0-0.2,0-0.3c0-1.1-0.4-2.1-1-3c0.6-1,0.9-2.1,1-3.2c0.1-2.2,1.8-3.9,4-4c1.9-0.1,3.5,1.4,3.7,3.2 c0.1,0.8,0.5,1.5,1.1,1.9c-0.2,0.3-0.5,0.5-0.9,0.5c-0.3,0-0.5-0.1-0.7-0.2c-0.2-0.3-0.6-0.3-0.9,0c0,0,0,0-0.1,0.1 c-0.2,0.2-0.5,0.3-0.7,0.3c-0.4,0-0.7-0.2-0.9-0.5c0.9-0.5,1.3-1.6,1.1-2.6c-0.2-0.8-1-1.4-1.8-1.3c-1,0.1-1.8,0.8-2,1.8 C6.6,6.5,6.9,8,7.8,9.1c-0.9,1.1-1.2,2.7-0.7,4.1c0.3,0.8,1,1.4,1.9,1.4c1.2-0.2,2.1-1.2,2.1-2.4c0.1-0.8-0.5-1.6-1.3-1.8 c0.2-0.3,0.5-0.5,0.9-0.5c0.2,0,0.5,0.1,0.7,0.2c0.2,0.3,0.6,0.3,0.9,0.1c0,0,0.1-0.1,0.1-0.1c0.2-0.2,0.5-0.3,0.7-0.3 c0.3,0,0.7,0.1,0.8,0.4C12.9,10.9,12.3,12.1,12.5,13.4z\"></path></symbol>\n",
       "<symbol id=\"icon_018\" viewbox=\"0 0 18 18\"><path d=\"M9,1C4.6,1,1,4.6,1,9s3.6,8,8,8s8-3.6,8-8C17,4.6,13.4,1,9,1z M9,2.2c3.6,0,6.6,2.8,6.8,6.4h-3.6 c-0.2-1.8-1.8-3-3.6-2.8C7.2,6,6,7.2,5.8,8.6H2.2C2.4,5,5.4,2.2,9,2.2z M11.4,9c0,1.3-1.1,2.4-2.4,2.4c-1.3,0-2.4-1.1-2.4-2.4 S7.7,6.6,9,6.6C10.3,6.6,11.4,7.7,11.4,9L11.4,9z M9,15.8c-3.6,0-6.6-2.8-6.8-6.4h3.6c0.2,1.8,1.8,3,3.6,2.8 c1.5-0.2,2.6-1.3,2.8-2.8h3.6C15.6,13,12.6,15.8,9,15.8z M9,7.1C7.9,7.1,7.1,7.9,7.1,9c0,1.1,0.9,1.9,1.9,1.9c1.1,0,1.9-0.9,1.9-1.9 C10.9,7.9,10.1,7.1,9,7.1z M9,10.1c-0.6,0-1.1-0.5-1.1-1.1S8.4,7.9,9,7.9c0.6,0,1.1,0.5,1.1,1.1C10.1,9.6,9.6,10.1,9,10.1z\"></path></symbol>\n",
       "<symbol id=\"icon_017\" viewbox=\"0 0 18 18\"> <path d=\"M16.9,8c-0.2-0.6-0.8-1-1.5-1h0c-0.9,0-1.6,0.7-1.6,1.6c0,0.7,0.4,1.3,1,1.5l0.1,0V12c0,2.4-1.9,4.3-4.3,4.3 S6.3,14.4,6.3,12v-0.1c0.2,0,0.3,0,0.3,0c2.4-0.4,4.1-2.4,4.1-4.8V1.7C10.7,1.3,10.4,1,10,1H8C7.6,1,7.3,1.3,7.3,1.7S7.6,2.5,8,2.5 h1.3v4.6c0,1.9-1.5,3.4-3.4,3.4c-1.9,0-3.4-1.5-3.4-3.4V2.5h1.3c0.4,0,0.7-0.3,0.7-0.7S4.1,1,3.7,1h-2C1.3,1,1,1.3,1,1.7v5.3 c0,2.4,1.8,4.4,4.1,4.8c0,0,0.1,0,0.3,0V12c0,2.9,2.3,5.2,5.2,5.2c2.9,0,5.2-2.3,5.2-5.2c0,0,0,0,0,0v-1.9l0.1,0 C16.8,9.8,17.2,8.8,16.9,8z M15.4,9.2c-0.4,0-0.7-0.3-0.7-0.7c0-0.4,0.3-0.7,0.7-0.7c0.4,0,0.7,0.3,0.7,0.7 C16.1,8.9,15.8,9.2,15.4,9.2z\"></path></symbol>\n",
       "<symbol id=\"icon_016\" viewbox=\"0 0 18 18\"><path d=\"M14.9,3.1C14.9,3.1,14.9,3.1,14.9,3.1L14.9,3.1c-1.5-1.5-3.9-1.5-5.4,0c0,0,0,0,0,0L3.1,9.5 c-1.5,1.5-1.5,3.9,0,5.4c1.5,1.5,3.9,1.5,5.4,0c0,0,0,0,0,0l6.3-6.3C16.4,7,16.4,4.6,14.9,3.1z M7.7,14C6.6,15,5,14.9,4,13.8 c-0.9-1-0.9-2.5,0-3.5l2.8-2.8l3.7,3.7L7.7,14z M14,7.7l-2.8,2.8L7.5,6.8L10.3,4C11.4,3,13,3.1,14,4.2C14.9,5.2,14.9,6.7,14,7.7z\"></path></symbol>\n",
       "<symbol id=\"icon_015\" viewbox=\"0 0 18 18\"><path d=\"M9,1C4.6,1,1,4.6,1,9s3.6,8,8,8l0,0c4.4,0,8-3.6,8-8C17,4.6,13.4,1,9,1z M9,15.8c-3.8,0-6.8-3.1-6.8-6.8 c0-3.8,3.1-6.8,6.8-6.8l0,0c3.8,0,6.8,3.1,6.8,6.8C15.8,12.8,12.8,15.8,9,15.8z M12.4,3.9L12.4,3.9c-0.3,0.3-0.8,0.3-1.2,0 c-0.3,0.3-0.8,0.3-1.2,0c-0.5,0-0.9,0.4-0.9,0.9v1.8c0,0.8,0.4,1.5,1.1,1.8l-0.5,4.5c-0.1,0.8,0.5,1.6,1.3,1.7s1.6-0.5,1.7-1.3 c0-0.1,0-0.1,0-0.2c0-0.1,0-0.1,0-0.2l-0.4-4.5c0.6-0.4,1-1.1,1-1.8V4.8C13.4,4.3,12.9,3.9,12.4,3.9z M12.7,6.6 c0,0.7-0.4,1.2-1.1,1.4l0.5,5c0,0,0,0.1,0,0.1c0,0.5-0.4,0.9-0.9,0.9c-0.5,0-0.9-0.4-0.9-0.9c0,0,0-0.1,0-0.1L10.9,8 c-0.7-0.2-1.1-0.7-1.1-1.4V4.8c0-0.2,0.1-0.3,0.3-0.3s0.3,0.1,0.3,0.3v1.5c0,0.2,0.1,0.3,0.3,0.3s0.3-0.1,0.3-0.3c0,0,0,0,0,0V4.8 c0-0.2,0.1-0.3,0.3-0.3s0.3,0.1,0.3,0.3v1.5c0,0.2,0.1,0.3,0.3,0.3c0.2,0,0.3-0.1,0.3-0.3c0,0,0,0,0,0V4.8c0-0.2,0.1-0.3,0.3-0.3 l0,0c0.2,0,0.3,0.1,0.3,0.3V6.6z M6.7,3.9L6.7,3.9C5.5,4,4.6,5,4.6,6.3c0,0.8,0.4,1.6,1.1,2.1l-0.5,4.5c0,0.1,0,0.1,0,0.2 c0,0.8,0.6,1.5,1.5,1.5s1.5-0.6,1.5-1.5c0,0,0-0.1,0-0.1c0-0.1,0-0.1,0-0.1L7.8,8.3c0.7-0.5,1-1.2,1-2.1C8.9,5,8,4,6.7,3.9z M7.1,7.9l0.5,5c0,0,0,0.1,0,0.1c0,0.5-0.4,0.9-0.9,0.9c-0.5,0-0.9-0.4-0.9-0.9c0,0,0-0.1,0-0.1l0.6-5C5.7,7.7,5.2,7,5.3,6.3 C5.2,5.4,5.8,4.6,6.7,4.5h0c0.9,0.1,1.5,0.9,1.5,1.8C8.2,7,7.8,7.7,7.1,7.9z\"></path></symbol>\n",
       "<symbol id=\"icon_014\" viewbox=\"0 0 18 18\"><path d=\"M5,5.6V2.2h0.8v2.4l0.6-0.6c0.2-0.2,0.4-0.2,0.6,0l0.7,0.7V2.2h0.8v3.5c0,0.2-0.2,0.4-0.4,0.4 c-0.1,0-0.2,0-0.3-0.1L6.6,4.9l-1,1C5.6,6,5.5,6,5.4,6C5.2,6,5,5.8,5,5.6z M15.2,3.4v11.3c0,1.3-1.1,2.3-2.3,2.3H3V1h9.9 C14.2,1,15.2,2.1,15.2,3.4z M10.6,2.2H4.2v13.6h6.4V2.2z M11.9,2.2l-0.8,0v13.6h0.8V2.2z M14,3.3c0-0.6-0.5-1.2-1.2-1.2h-0.6v13.6 h0.6c0.6,0,1.2-0.5,1.2-1.2V3.3z\"></path></symbol>\n",
       "<symbol id=\"icon_013\" viewbox=\"0 0 18 18\"><path d=\"M14.4,6.9V1H5.7C4.5,1,3.5,2,3.5,3.2v0.5h1.2V3.2c0-0.6,0.5-1.1,1.1-1.1h3.5v3.4C9.2,5.8,9.4,6,9.6,6 c0.1,0,0.2,0,0.3-0.1L10.8,5l1,1c0.2,0.2,0.4,0.2,0.6,0c0.1-0.1,0.1-0.2,0.1-0.3V2.2h0.7v4.7H9.5C9.2,6.9,9,6.8,8.8,6.6L7.1,4.9 C6.9,4.7,6.7,4.6,6.4,4.6h-3C2.1,4.6,1,5.7,1,7v7.5C1,15.9,2.1,17,3.4,17h11c1.3,0,2.4-1.1,2.4-2.4V6.9L14.4,6.9z M11.1,4.1 c-0.2-0.2-0.4-0.2-0.6,0L10,4.6V2.4h0.1c0.4,0,0.9,0,1.5,0l0,2.3L11.1,4.1z M14.4,15.8h-11c-0.7,0-1.2-0.6-1.2-1.2V7 c0-0.7,0.6-1.2,1.2-1.2h1.2l1.7,0l1.6,1.6c0.4,0.4,1,0.6,1.6,0.6h6.2l0,6.5C15.6,15.3,15.1,15.8,14.4,15.8z\"></path></symbol>\n",
       "<symbol id=\"icon_012\" viewbox=\"0 0 18 18\"><path d=\"M5.4,14.5h9.8V1H5.5C4.1,1,3,2.1,3,3.5v11C3,15.9,4.1,17,5.5,17h7.2c1.1,0,2-0.7,2.4-1.7h-1.4 c-0.2,0.3-0.6,0.5-1,0.5H5.5c-0.7,0-1.2-0.6-1.2-1.2v-11c0-0.7,0.6-1.2,1.2-1.2h4v3.9c0,0.2,0.2,0.4,0.4,0.4c0.1,0,0.2,0,0.3-0.1 l1-1l1.1,1.1c0.1,0.1,0.2,0.1,0.3,0.1c0.2,0,0.4-0.2,0.4-0.4v-4H14v11.4H5.4V14.5z M12.2,5.2l-0.7-0.7c-0.2-0.2-0.4-0.2-0.6,0 c0,0,0,0,0,0l-0.6,0.6V2.5c0.4,0,1.2,0,1.9,0L12.2,5.2z M12.2,8h-6V7.5h6V8z M6.2,8.9h6v0.5h-6V8.9z M6.2,10.4h6v0.5h-6V10.4z M6.2,11.9h6v0.5h-6V11.9z\"></path></symbol>\n",
       "<symbol id=\"icon_011\" viewbox=\"0 0 30 30\"><path d=\"M15,17.4c4.6,0,8.3-3.7,8.3-8.3c0-4.6-3.7-8.3-8.3-8.3c-4.6,0-8.3,3.7-8.3,8.3c0,0,0,0,0,0 C6.7,13.7,10.4,17.4,15,17.4z M8.7,9.1c0-3.4,2.8-6.2,6.2-6.2v0c3.4,0,6.2,2.8,6.2,6.2c0,3.4-2.8,6.2-6.2,6.2 C11.5,15.3,8.7,12.5,8.7,9.1C8.7,9.1,8.7,9.1,8.7,9.1z M10.2,17.8l0.3,0.2l-0.3,0.2C5.9,20,3.1,24.2,3,28.8V29H1v-0.2 c0.1-5.1,3-9.7,7.5-12.1l0.1-0.1l0.1,0.1C9.2,17.2,9.7,17.5,10.2,17.8z M28.9,28.8l0,0.2h-2v-0.2c-0.1-4.7-2.9-8.8-7.2-10.7L19.4,18 l0.3-0.2c0.5-0.3,1.1-0.6,1.5-1l0.1-0.1l0.1,0.1C26,19.1,28.8,23.7,28.9,28.8z M15,19.3l-1.3-0.5l-1.3,6.7l2.5,2.8l2.5-2.8l0,0 l-1.3-6.7L15,19.3z M15,26.8l-1.4-1.6l0.9-5l0.2,0c0.2,0,0.3,0,0.5,0l0.2,0l0.9,5L15,26.8z\"></path></symbol>\n",
       "<symbol id=\"icon_010\" viewbox=\"0 0 18 18\"><path d=\"M17.7,7.4l-0.9-0.9c-0.1-0.1-0.2-0.1-0.3-0.2V2H2v14.5h14.5v-6.3L17.7,9C18.1,8.6,18.1,7.8,17.7,7.4z M11.8,3.1 h3.5v3.3c0,0-0.1,0.1-0.1,0.1l-0.1,0.1h-3.3V3.1z M11.8,7.4h2.5l-2.5,2.5V7.4z M7.5,3.1h3.6v3.4H7.5V3.1z M6.7,15.3H3.1v-3.6h3.6 V15.3z M6.7,11H3.1V7.4h3.6V11z M6.7,6.6H3.1V3.2h3.6V6.6z M7.5,7.4h3.6v3.3L10.7,11H7.5L7.5,7.4z M7.5,15.3v-3.6h2.8l-0.6,1.8 c-0.1,0.4,0.1,0.8,0.5,0.9c0.1,0,0.3,0,0.4,0l0.5-0.2l0,1H7.5z M11.1,13.6l-0.7,0.2l0.6-1.9l0.1,0.1l0.8,0.8l0.4,0.4l-0.4,0.1 L11.1,13.6z M15.3,15.3h-3.5v-1.2l0.8-0.2c0.1,0,0.2-0.1,0.3-0.2l2-2h0.4L15.3,15.3z M17.2,8.5C17.2,8.5,17.2,8.5,17.2,8.5L17.2,8.5 l-0.7,0.7l-1.2,1.2L14.7,11l-0.8,0.8l-1.2,1.2l-0.8-0.8l-0.4-0.4l-0.2-0.2l0.5-0.5l0.1-0.1l3.5-3.5V7.4h0.1L15.7,7 C15.8,7,15.9,6.9,16,6.9c0,0,0,0,0,0c0.1,0,0.2,0,0.3,0.1l0.2,0.2l0.7,0.7C17.3,8.1,17.3,8.3,17.2,8.5z\"></path></symbol>\n",
       "<symbol id=\"icon_009\" viewbox=\"0 0 18 18\"><path d=\"M0,11.8L5.8,3v11.1h-1v-1.8H2.8v-1h1.9V6.4l-3.9,6L0,11.8z M11.9,5l-0.7-0.7L7.5,8.4V4.4h-1v9.6h1v-3.8l4,4 l0.7-0.7L8,9.3L11.9,5z M18,11.4c0,2.1-2.1,2.6-3.3,2.6l-2.4,0V4.5h2c2,0,3.1,1,3.1,2.6c0,0.8-0.3,1.5-1,1.9 C17.5,9.4,18.1,10.4,18,11.4z M13.3,8.5h1.2v0c0.3,0,2-0.1,2-1.4c0-1.1-0.7-1.6-2.1-1.6l-1,0V8.5z M17,11.4c0-1.7-1.7-1.9-2.4-1.9 h-1.2l0,3.5h1.4C15.1,13,17,13,17,11.4z\"></path></symbol>\n",
       "<symbol id=\"icon_008\" viewbox=\"0 0 30 30\"><path d=\"M15.6,6.9h-4.2v9.7h2v-3.5h2c0.9,0.1,1.7-0.2,2.4-0.7c0.6-0.6,0.9-1.5,0.8-2.4l0,0c0.1-0.9-0.2-1.7-0.9-2.3 C17.3,7.1,16.4,6.8,15.6,6.9z M16.4,11.1c-0.3,0.2-0.7,0.4-1.1,0.4h-1.8V8.5h1.8c0.4,0,0.8,0.1,1.1,0.3c0.3,0.3,0.4,0.7,0.4,1.1l0,0 C16.8,10.4,16.6,10.8,16.4,11.1z M11.5,22.6c0.3,0.1,0.5,0.1,0.8,0.2l-5.7,5.7c-0.1,0.1-0.3,0.2-0.5,0.2c-0.1,0-0.1,0-0.2,0 c-0.2-0.1-0.4-0.3-0.5-0.6l-0.6-4.3l-4.3-0.6C0.2,23.2,0,22.9,0,22.5c0-0.1,0.1-0.3,0.2-0.4l4.6-4.6c0.1,0.2,0.2,0.4,0.4,0.6 s0.3,0.4,0.4,0.6l-3.4,3.4l3.4,0.5c0.3,0,0.5,0.3,0.6,0.6l0.5,3.4l4.1-4.1C11,22.5,11.2,22.6,11.5,22.6z M6.3,22.5L6.3,22.5 c-0.1-0.1-0.1-0.4,0-0.5l1.3-1.3C7.8,20.8,8,21,8.1,21.1l-1.3,1.3c0,0,0,0,0,0C6.7,22.6,6.5,22.6,6.3,22.5z M29.5,22.5 c0,0.4-0.2,0.7-0.6,0.8l-4.3,0.6l-0.6,4.3c0,0.3-0.2,0.5-0.5,0.6c-0.1,0-0.1,0-0.2,0c-0.2,0-0.4-0.1-0.5-0.2l-5.7-5.7 c0.3,0,0.5-0.1,0.8-0.2c0.3-0.1,0.5-0.1,0.8-0.2l4.1,4.1l0.5-3.4c0-0.3,0.3-0.5,0.6-0.6l3.4-0.5l-3.4-3.4c0.1-0.2,0.3-0.4,0.4-0.6 c0.1-0.2,0.3-0.4,0.4-0.6l4.6,4.6l0,0C29.4,22.2,29.5,22.3,29.5,22.5z M22.1,20.6l1.4,1.4c0.1,0.1,0.1,0.2,0.1,0.2 c0,0.2-0.2,0.3-0.3,0.3l0,0c-0.1,0-0.2,0-0.2-0.1L21.5,21C21.7,20.9,21.9,20.7,22.1,20.6z M25,11.7L25,11.7 c0-5.6-4.6-10.2-10.2-10.2C9.1,1.5,4.6,6.1,4.6,11.7c0,5.6,4.6,10.2,10.2,10.2C20.4,21.9,25,17.4,25,11.7z M14.8,19.9 C14.8,19.9,14.8,19.9,14.8,19.9c-4.5,0-8.2-3.7-8.2-8.2s3.7-8.2,8.2-8.2s8.2,3.7,8.2,8.2l0,0C22.9,16.2,19.3,19.9,14.8,19.9z\"></path></symbol>\n",
       "<symbol id=\"icon_007\" viewbox=\"0 0 30 30\"><path d=\"M27.3,4c-1.4-0.3-2.8-0.5-4.2-0.5c-3-0.1-6,1-8.2,3.1c-2.2-2.1-5.1-3.2-8.2-3.1C5.3,3.5,3.9,3.7,2.6,4L1.2,4.4 v17.5l0,0.4v3.9c0,0.4,0.3,0.7,0.7,0.7c0.1,0,0.2,0,0.3-0.1c4-1.9,8.6-1.7,12.4,0.7c0.2,0.1,0.5,0.1,0.7,0c0.1,0,6.1-4.2,12.3-0.7 c0.3,0.2,0.7,0.1,0.9-0.3c0.1-0.1,0.1-0.2,0.1-0.3v-3.6l0-0.3V4.4L27.3,4z M3.2,6c1.2-0.3,2.3-0.4,3.5-0.4c2.5-0.1,4.9,0.8,6.7,2.5 l0.7,0.8v12.6h1.3V8.8L16.4,8c1.8-1.7,4.2-2.6,6.7-2.5c1.2,0,2.4,0.2,3.5,0.4v15.3c-1.1-0.3-2.3-0.5-3.5-0.5c-2.6,0-5.1,0.7-7.3,1.9 l-0.8,0.5l-0.8-0.5c-2.2-1.3-4.8-1.9-7.3-1.9c-1.2,0-2.4,0.1-3.5,0.5L3.2,6z M27.3,25c-5.7-2.6-10.9,0.2-12.3,1l0,0 c-3.7-2.2-8.3-2.6-12.4-1v-1.3c0,0,0.9-0.3,1.1-0.4c1-0.4,2-0.5,3.1-0.5c2.2,0,4.4,0.6,6.4,1.7l1.8,1l1.8-1c1.9-1.1,4.1-1.7,6.4-1.7 c1,0,2.1,0.1,3.1,0.4c0.3,0.1,1.1,0.4,1.1,0.4V25z\"></path></symbol>\n",
       "<symbol id=\"icon_006\" viewbox=\"0 0 18 18\"><path d=\"M8.1,1L5.9,4.6l0.8,0.8L2.3,7.6C2.1,7.6,2,7.8,2.1,8c0.3,2.9,0,5.8-1,8.5c0,0.1,0,0.3,0,0.4 c0.1,0.1,0.3,0.2,0.4,0.1c2-0.8,4.1-1.1,6.3-1.1c0.8,0,1.5,0,2.3,0.1c0,0,0,0,0,0c0.2,0,0.3-0.1,0.4-0.2l2.2-4.4l0.8,0.8L17,9.9l0,0 L8.1,1z M13.6,11.1L6.9,4.5l1.3-2.1l7.4,7.4L13.6,11.1z M9.5,14.7L9.5,14.7c-0.6,0-1.2-0.1-1.8-0.1c-1.4,0-2.9,0.2-4.3,0.5l-0.3,0.1 l2.2-2.2c0.6,0.4,1.4,0.3,1.8-0.3c0.4-0.6,0.3-1.4-0.3-1.8c-0.6-0.4-1.4-0.3-1.8,0.3c-0.3,0.4-0.3,0.9-0.1,1.4l-2.3,2.3 c0.5-2,0.7-4.2,0.5-6.3v0l4.2-2.2l4.1,4.1L9.5,14.7z M5.4,11.9c0-0.4,0.4-0.8,0.8-0.8c0.4,0,0.8,0.4,0.8,0.8c0,0.4-0.4,0.8-0.8,0.8 C5.8,12.7,5.4,12.4,5.4,11.9z\"></path></symbol>\n",
       "<symbol id=\"icon_005\" viewbox=\"0 0 18 18\"><path d=\"M15.1,8.9V5.7c0-0.3-0.2-0.6-0.5-0.7V2.2c0-0.4-0.1-1.2-0.8-1.2c-1.2,0-2.2,0.9-2.3,2.1V5 C11.2,5.1,11,5.4,11,5.7v3.2c-0.7,0.3-1.2,0.9-1.2,1.7v4.7c0,1,0.7,1.8,1.7,1.8h3c1,0,1.7-0.8,1.7-1.8v-4.6 C16.2,9.8,15.8,9.1,15.1,8.9z M12.3,3.1c0.1-0.8,0.7-1.3,1.5-1.3l0,0c0,0.1,0.1,0.3,0.1,0.4v2.7h-1.5V3.1z M11.7,5.7h2.6v3.1h-2.6 V5.7z M15.1,15.2c0,0.3-0.2,0.6-0.6,0.6h-2.4v-4.7h-0.4v4.7h-0.2c-0.3,0-0.6-0.3-0.6-0.6v-4.6c0-0.3,0.2-0.6,0.6-0.6h3 c0.3,0,0.6,0.3,0.6,0.6L15.1,15.2z M6.7,9.2h-3C2.8,9.2,2,10,2,10.9V17h6.4v-6.1C8.4,10,7.6,9.2,6.7,9.2z M7.3,15.9h-3v-4.4H3.9v4.4 H3.1v-5c0-0.3,0.3-0.6,0.6-0.6h3c0.3,0,0.6,0.3,0.6,0.6V15.9z\"></path></symbol>\n",
       "<symbol id=\"icon_004\" viewbox=\"0 0 18 18\"><path d=\"M5.3,6c0,0.3-0.2,0.5-0.5,0.5C4.5,6.5,4.3,6.2,4.3,6c0-0.3,0.2-0.5,0.5-0.5C5,5.4,5.3,5.7,5.3,6z M13.2,5.4 c-0.3,0-0.5,0.2-0.5,0.5c0,0.3,0.2,0.5,0.5,0.5c0.3,0,0.5-0.2,0.5-0.5C13.7,5.7,13.5,5.4,13.2,5.4z M7.4,7.1h3.3L9,8.9L7.4,7.1z M9.7,7.5H8.3L9,8.3L9.7,7.5z M17.4,13.2v0.4c-1.3,0.1-2.4-0.8-2.6-2.1c0-0.1-0.1-0.2-0.1-0.3c-0.3,0.1-0.6,0.1-0.9,0.1h-1.2 c0.2,0.2,0.3,0.5,0.5,0.7c0.1,0.3,0.2,0.5,0.2,0.8c0.1,0.6,0.3,1.2,0.7,1.7l-0.3,0.2c-0.3-0.6-0.6-1.2-0.7-1.8 c-0.1-0.2-0.1-0.5-0.2-0.7c-0.2-0.3-0.4-0.6-0.6-0.9H9.9c0.1,0.1,0.1,0.2,0.1,0.2c0.1,0.4,0.2,0.9,0.2,1.4c0,0.5,0.1,1,0.3,1.4 l-0.3,0.2c-0.2-0.5-0.4-1.1-0.3-1.6c0-0.4,0-0.8-0.2-1.2c-0.1-0.1-0.2-0.3-0.3-0.4H7.3C7.1,11.6,7,11.9,7,12.1 c-0.1,0.3-0.1,0.6-0.2,0.9c-0.1,0.7-0.3,1.4-0.6,2l-0.3-0.2c0.3-0.6,0.5-1.2,0.6-1.8c0-0.3,0.1-0.6,0.2-0.9c0-0.2,0.1-0.5,0.2-0.7 H4.3c-0.3,0.5-0.5,1-0.6,1.6c-0.1,0.6-0.4,1.1-0.9,1.4c-0.2,0.1-0.5,0.2-0.7,0.2c-0.2,0-0.4,0-0.6-0.1L1.5,14c0.3,0.1,0.7,0.1,1.1,0 c0.4-0.3,0.7-0.7,0.7-1.1c0.1-0.5,0.3-1,0.5-1.5C1.7,11.1,0,9.3,0,7.2C0,4.9,1.9,3,4.2,3h9.7c1.8,0,3.4,1.2,4,2.9 c0.7,2.2-0.5,4.5-2.7,5.3c0,0.1,0.1,0.2,0.1,0.3C15.3,12.5,16.3,13.3,17.4,13.2z M16.8,7.2c0-1.6-1.3-3-3-3H4.2c0,0-0.1,0-0.1,0 c-1.6,0-3,1.4-2.9,3c0,1.6,1.4,3,3,2.9h9.6l0-0.1c0.1,0,0.2,0,0.2,0.1l0,0C15.6,10,16.8,8.7,16.8,7.2z\"></path></symbol>\n",
       "<symbol id=\"icon_003\" viewbox=\"0 0 18 18\"><path d=\"M14.7,1.6l1.4,1.4l-0.2,0.2l-1.4-1.4L14.7,1.6z M17.3,3.6l-2.9,2.9v7.2c0,0,0,0,0,0c0,1.3-1,2.3-2.3,2.3H5.3 c-1,0-1.9-0.6-2.2-1.6h1.3c0.2,0.3,0.5,0.4,0.9,0.4H12c0.6,0,1.2-0.5,1.2-1.2v-6l-1.9,1.9c-0.1,0.1-0.2,0.2-0.4,0.2l-2.7,0.8 c-0.2,0.1-0.4,0-0.5,0c-0.5-0.2-0.8-0.7-0.6-1.2l0.8-2.6C8,6.6,8,6.5,8.1,6.4l4-4c-0.1,0-0.1,0-0.2,0H4.2v10.5h7.9v0.8H3V1.2h9 c0.4,0,0.7,0.1,1.1,0.3l1-1c0,0,0,0,0,0c0.6-0.6,1.5-0.6,2,0l1.1,1.1C17.8,2.1,17.8,3,17.3,3.6z M10.4,8.9L8.7,7.3L8,9.7L10.4,8.9z M16.6,2.2l-1.1-1.1c-0.2-0.2-0.5-0.2-0.7,0l-1,1L13,2.9L9.1,6.7l1.8,1.8l2.2-2.2l1.2-1.2l2.3-2.3v0C16.8,2.7,16.8,2.4,16.6,2.2z\"></path></symbol>\n",
       "<symbol id=\"icon_002\" viewbox=\"0 0 18 18\"><path d=\"M4.6,8.4H2.9v1.7h0v0h1.7L4.6,8.4L4.6,8.4z M4.3,9.8h-1v-1h1V9.8z M4.6,10.7H2.9v1.7h0v0h1.7L4.6,10.7L4.6,10.7 z M4.3,12h-1v-1h1V12z M15.9,3h-1c-0.4,0.3-0.9,0.3-1.3,0H4.4C4,3.3,3.5,3.3,3.1,3h-1C1.5,3,1,3.5,1,4.1v10.3c0,0.6,0.5,1.1,1.1,1.1 h1c0.4-0.3,0.9-0.3,1.3,0h9.1c0.4-0.3,0.9-0.3,1.3,0h1c0.6,0,1.1-0.5,1.1-1.1V4.1C17,3.5,16.5,3,15.9,3z M15.9,14.4h-1v-1.2h-1.3 v1.2H4.4v-1.2H3.1v1.2h-1V4.1h1v1.2h1.3V4.1h9.1v1.2h1.3V4.1h1V14.4z M13.4,6.1L13.4,6.1l0,1.7h1.7v0h0V6.1L13.4,6.1L13.4,6.1z M13.7,6.5h1v1h-1V6.5z M4.6,6.1H2.9v1.7h0v0h1.7L4.6,6.1L4.6,6.1z M4.3,7.5h-1v-1h1V7.5z M7.2,11.6l4-2.3L7.2,7V11.6z M7.9,8.3 l1.7,1l-1.7,1V8.3z M13.4,10.7L13.4,10.7l0,1.7h1.7v0h0v-1.7L13.4,10.7L13.4,10.7z M13.7,11.1h1v1h-1V11.1z M13.4,8.4L13.4,8.4 l0,1.7h1.7v0h0V8.4L13.4,8.4L13.4,8.4z M13.7,8.8h1v1h-1V8.8z\"></path></symbol>\n",
       "<symbol id=\"icon_001\" viewbox=\"0 0 30 30\"><path d=\"M20.4,17h0.7V21h-0.7V17z M21.1,9.8h-12V5.6h12V9.8z M19.7,8.4l0-1.5h-9.2v1.5H19.7z M21.1,11.5h-0.7v3.9h0.7 V11.5z M9.2,1.7C6.9,1.7,5,3.5,5,5.8v18.3c0,2.3,1.9,4.2,4.2,4.2h12c1.8,0,3.4-1.1,3.9-2.8h-2.3c-0.4,0.5-1,0.8-1.6,0.8h-12 c-1.1,0-2.1-0.9-2.1-2.1V5.8c0-1.1,0.9-2.1,2.1-2.1h14.1v19H9v1.4h16.3V1.7H9.2z M18.9,11.5h-0.7v3.9h0.7V11.5z M25.4,24.1 L25.4,24.1L25.4,24.1L25.4,24.1z M9.1,15.4h0.7v-3.9H9.1V15.4z M12.1,15.4v-3.9h-0.7v3.9H12.1z M9.1,17h3.9V21H9.1V17z M9.8,20.3 h2.6l0-2.6H9.8V20.3z M14.3,15.4v-3.9h-0.7v3.9H14.3z M16.6,11.5h-0.7v3.9h0.7V11.5z M18.2,21h0.7V17h-0.7V21z M15.9,21h0.7V17h-0.7 V21z\"></path></symbol>\n",
       "<symbol id=\"icon_humberger\" viewbox=\"0 0 20 14\"><rect height=\"2\" width=\"20\"></rect><rect height=\"2\" width=\"20\" y=\"6\"></rect><rect height=\"2\" width=\"20\" y=\"12\"></rect></symbol>\n",
       "<symbol id=\"icon_points\" viewbox=\"0 0 30 30\"><path d=\"M15.6,6.9h-4.2v9.7h2v-3.5h2c0.9,0.1,1.7-0.2,2.4-0.7c0.6-0.6,0.9-1.5,0.8-2.4l0,0c0.1-0.9-0.2-1.7-0.9-2.3 C17.3,7.1,16.4,6.8,15.6,6.9z M16.4,11.1c-0.3,0.2-0.7,0.4-1.1,0.4h-1.8V8.5h1.8c0.4,0,0.8,0.1,1.1,0.3c0.3,0.3,0.4,0.7,0.4,1.1l0,0 C16.8,10.4,16.6,10.8,16.4,11.1z M11.5,22.6c0.3,0.1,0.5,0.1,0.8,0.2l-5.7,5.7c-0.1,0.1-0.3,0.2-0.5,0.2c-0.1,0-0.1,0-0.2,0 c-0.2-0.1-0.4-0.3-0.5-0.6l-0.6-4.3l-4.3-0.6C0.2,23.2,0,22.9,0,22.5c0-0.1,0.1-0.3,0.2-0.4l4.6-4.6c0.1,0.2,0.2,0.4,0.4,0.6 s0.3,0.4,0.4,0.6l-3.4,3.4l3.4,0.5c0.3,0,0.5,0.3,0.6,0.6l0.5,3.4l4.1-4.1C11,22.5,11.2,22.6,11.5,22.6z M6.3,22.5L6.3,22.5 c-0.1-0.1-0.1-0.4,0-0.5l1.3-1.3C7.8,20.8,8,21,8.1,21.1l-1.3,1.3c0,0,0,0,0,0C6.7,22.6,6.5,22.6,6.3,22.5z M29.5,22.5 c0,0.4-0.2,0.7-0.6,0.8l-4.3,0.6l-0.6,4.3c0,0.3-0.2,0.5-0.5,0.6c-0.1,0-0.1,0-0.2,0c-0.2,0-0.4-0.1-0.5-0.2l-5.7-5.7 c0.3,0,0.5-0.1,0.8-0.2c0.3-0.1,0.5-0.1,0.8-0.2l4.1,4.1l0.5-3.4c0-0.3,0.3-0.5,0.6-0.6l3.4-0.5l-3.4-3.4c0.1-0.2,0.3-0.4,0.4-0.6 c0.1-0.2,0.3-0.4,0.4-0.6l4.6,4.6l0,0C29.4,22.2,29.5,22.3,29.5,22.5z M22.1,20.6l1.4,1.4c0.1,0.1,0.1,0.2,0.1,0.2 c0,0.2-0.2,0.3-0.3,0.3l0,0c-0.1,0-0.2,0-0.2-0.1L21.5,21C21.7,20.9,21.9,20.7,22.1,20.6z M25,11.7L25,11.7 c0-5.6-4.6-10.2-10.2-10.2C9.1,1.5,4.6,6.1,4.6,11.7c0,5.6,4.6,10.2,10.2,10.2C20.4,21.9,25,17.4,25,11.7z M14.8,19.9 C14.8,19.9,14.8,19.9,14.8,19.9c-4.5,0-8.2-3.7-8.2-8.2s3.7-8.2,8.2-8.2s8.2,3.7,8.2,8.2l0,0C22.9,16.2,19.3,19.9,14.8,19.9z\"></path></symbol>\n",
       "<symbol id=\"icon_plus2\" viewbox=\"0 0 24 24\"><path class=\"st0\" d=\"M24,10.9v2.2H13.1V24h-2.2V13.1H0v-2.2h10.9V0h2.2v10.9H24z\"></path></symbol>\n",
       "<symbol id=\"icon_plus\" viewbox=\"0 0 9 9\"><polygon points=\"5.2,3.8 5.2,0 3.8,0 3.8,3.8 0,3.8 0,5.2 3.8,5.2 3.8,9 5.2,9 5.2,5.2 9,5.2 9,3.8 \"></polygon></symbol>\n",
       "<symbol id=\"icon_minus\" viewbox=\"0 0 12 12\"><rect height=\"1.7\" width=\"12\" y=\"5.2\"></rect></symbol>\n",
       "<symbol id=\"icon_cross\" viewbox=\"0 0 30 30\"><polygon points=\"30,2.7 27.3,0 15,12.3 2.7,0 0,2.7 12.3,15 0,27.3 2.7,30 15,17.7 27.3,30 30,27.3 17.7,15 \"></polygon></symbol>\n",
       "<symbol id=\"icon_blank\" viewbox=\"0 0 10 10\"><path class=\"st0\" d=\"M9.4,0.6C9,0.2,8.4,0,7.9,0H2.1C0.9,0,0,0.9,0,2.1v5.8C0,9.1,0.9,10,2.1,10h5.8C9.1,10,10,9.1,10,7.9V2.1 C10,1.6,9.8,1,9.4,0.6z M9.2,7.9c0,0.7-0.6,1.3-1.3,1.3l0,0H2.1c-0.7,0-1.3-0.6-1.3-1.3V2.1c0-0.7,0.6-1.3,1.3-1.3h5.8 c0.4,0,0.7,0.1,1,0.4c0.3,0.2,0.4,0.6,0.4,1V7.9z M4.1,2.6h3.4V6H6.7V3.9L3,7.7L2.4,7.1l3.8-3.8H4.1V2.6z\"></path></symbol>\n",
       "<symbol id=\"icon_movie\" viewbox=\"0 0 12 12\"><path d=\"M11.2,1.5v1.1H10V1.5H2v1.1H0.8V1.5H0v9h0.8V9.4H2v1.1h8V9.4h1.2v1.1H12v-9H11.2z M2,8.6H0.8 V7.4H2V8.6z M2,6.6H0.8V5.4H2V6.6z M2,4.6H0.8V3.4H2V4.6z M4.7,7.5V4.5L7.3,6L4.7,7.5z M11.2,8.6H10V7.4h1.2V8.6z M11.2,6.6H10V5.4 h1.2V6.6z M11.2,4.6H10V3.4h1.2V4.6z\"></path></symbol>\n",
       "<symbol id=\"icon_camera\" viewbox=\"0 0 12 12\"><path d=\"M7.1,5.2c-0.6-0.6-1.6-0.6-2.2,0c-0.6,0.6-0.6,1.6,0,2.2C5.5,8,6.5,8,7.1,7.4S7.7,5.8,7.1,5.2 C7.1,5.2,7.1,5.2,7.1,5.2z\"></path><path d=\"M9.7,2.9H8.9L8.3,1.6H3.7L3.1,2.9H2.2C1.6,2.9,1,3.4,1,4.1v5c0,0.7,0.6,1.2,1.2,1.2h7.5 c0.7,0,1.2-0.6,1.2-1.2v-5C11,3.4,10.4,2.9,9.7,2.9z M6,8.8c-1.4,0-2.5-1.1-2.5-2.5c0-1.4,1.1-2.5,2.5-2.5c1.4,0,2.5,1.1,2.5,2.5 C8.5,7.7,7.4,8.8,6,8.8z\"></path></symbol>\n",
       "<symbol id=\"icon_unlocked\" viewbox=\"0 0 14 14\"><path d=\"M11.6,5.3C11.6,5.3,11.6,5.3,11.6,5.3l-1,0h-0.3c0.7-1.9-0.3-3.9-2.2-4.6C7,0.2,5.7,0.5,4.7,1.3L4.2,1.7 l0.5,0.6l0.5-0.4c1.2-1,2.9-0.8,3.9,0.4c0.7,0.8,0.8,2,0.4,3H7H6.1l-1.9,0H3.4l-1,0C2.2,5.2,2,5.4,2,5.6c0,0,0,0,0,0l0,6.9 C2,12.8,2.2,13,2.4,13l9.2,0c0.2,0,0.4-0.2,0.4-0.4l0-6.9C12,5.5,11.8,5.3,11.6,5.3z M8,8.9C7.9,9,7.8,9.1,7.6,9.2v1.9H6.4V9.2 C5.9,8.9,5.7,8.2,6,7.7c0.3-0.5,1-0.7,1.6-0.4C8.1,7.6,8.3,8.3,8,8.9z\"></path></symbol>\n",
       "<symbol id=\"icon_locked\" viewbox=\"0 0 14 14\"><path d=\"M11.6,5.3h-1V4.6C10.6,2.6,9,1,7,1S3.4,2.6,3.4,4.6c0,0,0,0,0,0v0.7h-1C2.2,5.3,2,5.4,2,5.7v6.9 C2,12.8,2.2,13,2.4,13h9.2c0.2,0,0.4-0.2,0.4-0.4V5.7C12,5.4,11.8,5.3,11.6,5.3z M8,8.9C7.9,9,7.8,9.2,7.6,9.3v1.9H6.4V9.3 C5.9,8.9,5.7,8.2,6,7.7c0.3-0.5,1-0.7,1.6-0.4C8.1,7.6,8.3,8.3,8,8.9z M9.8,5.3H4.2V4.6c0-1.5,1.3-2.8,2.8-2.7 c1.5,0,2.7,1.2,2.7,2.7V5.3z\"></path></symbol>\n",
       "<symbol id=\"icon_mypage\" viewbox=\"0 0 16 16\"><path d=\"M4.5,8.9c0.4,0.3,0.8,0.6,1.2,0.8c-2.5,0.9-4.2,3.4-4.2,6.1H0.3c0-2,0.8-4,2.2-5.4C3.1,9.8,3.8,9.3,4.5,8.9z M8,9.5c-2.6,0-4.7-2.1-4.7-4.7c0-2.6,2.1-4.7,4.7-4.7c2.6,0,4.7,2.1,4.7,4.7C12.7,7.5,10.6,9.5,8,9.5z M11.2,4.9 c0-1.8-1.4-3.2-3.2-3.2c-1.8,0-3.2,1.4-3.2,3.2c0,1.8,1.4,3.2,3.2,3.2C9.8,8.1,11.2,6.7,11.2,4.9z M13.4,10.3 c-0.6-0.6-1.2-1-1.9-1.4c-0.4,0.3-0.8,0.6-1.2,0.8c2.5,0.9,4.2,3.4,4.2,6.1h1.2C15.7,13.7,14.9,11.8,13.4,10.3z\"></path></symbol>\n",
       "<symbol id=\"icon_information\" viewbox=\"0 0 18 18\"><path d=\"M9,0C4,0,0,4,0,9s4,9,9,9c5,0,9-4,9-9S14,0,9,0z M10,14.2H8v-7h2V14.2z M10,5.6H8V3.8h2V5.6z\"></path></symbol>\n",
       "<symbol id=\"icon_question\" viewbox=\"0 0 15 15\"><path d=\"M7,10h1.3v1.3H7L7,10z M15,7.5c0,4.1-3.4,7.5-7.5,7.5S0,11.6,0,7.5C0,3.4,3.4,0,7.5,0C11.6,0,15,3.4,15,7.5z M13.5,7.5c0-3.3-2.7-6-6-6c-3.3,0-6,2.7-6,6c0,3.3,2.7,6,6,6C10.8,13.5,13.5,10.8,13.5,7.5z M7.6,3.9C6.8,3.9,6,4.2,5.4,4.8 l0.4,1.1C6.2,5.3,6.9,5,7.5,5c0.8,0,1.2,0.4,1.2,1c0,0.5-0.2,0.6-0.9,1.2C7.2,7.7,6.9,8.5,7,9.3h1.2C8.1,8.7,8.4,8.2,8.9,7.9 C9.5,7.3,10,6.9,10,6c0,0,0-0.1,0-0.1C9.8,4.7,8.8,3.8,7.6,3.9z\"></path></symbol>\n",
       "<symbol id=\"icon_gear\" viewbox=\"0 0 15 15\"><path d=\"M13.5,5.5h-0.2C13.2,5.3,13.1,5,13,4.8l0.2-0.2c0.6-0.6,0.6-1.5,0-2.1l-0.7-0.7c-0.6-0.6-1.5-0.6-2.1,0 c0,0,0,0,0,0L10.2,2C10,1.9,9.7,1.8,9.5,1.7V1.5C9.5,0.7,8.8,0,8,0H7C6.2,0,5.6,0.7,5.5,1.5v0.2C5.3,1.8,5,1.9,4.8,2L4.6,1.9 c-0.6-0.6-1.5-0.6-2.1,0c0,0,0,0,0,0L1.9,2.5c-0.6,0.6-0.6,1.5,0,2.1c0,0,0,0,0,0L2,4.8C1.9,5,1.8,5.3,1.7,5.5H1.5 C0.7,5.6,0,6.2,0,7V8c0,0.8,0.7,1.5,1.5,1.5h0.2C1.8,9.7,1.9,10,2,10.2l-0.2,0.2c-0.6,0.6-0.6,1.5,0,2.1c0,0,0,0,0,0l0.7,0.7 c0.3,0.3,0.7,0.4,1.1,0.4c0.4,0,0.8-0.2,1.1-0.4L4.8,13c0.2,0.1,0.5,0.2,0.8,0.3v0.2C5.5,14.3,6.2,15,7,15H8c0.8,0,1.5-0.7,1.5-1.5 v-0.2c0.3-0.1,0.5-0.2,0.8-0.3l0.2,0.2c0.6,0.6,1.5,0.6,2.1,0c0,0,0,0,0,0l0.7-0.7c0.6-0.6,0.6-1.5,0-2.1L13,10.2 c0.1-0.2,0.2-0.5,0.3-0.8h0.2C14.3,9.5,15,8.8,15,8V7C15,6.2,14.3,5.5,13.5,5.5z M13.9,8c0,0.2-0.2,0.4-0.4,0.4h-0.6 c-0.3,0-0.5,0.2-0.5,0.4C12.2,9.2,12,9.6,11.8,10h0c-0.1,0.2-0.1,0.5,0.1,0.7l0.5,0.5c0.1,0.1,0.1,0.4,0,0.5l-0.7,0.7 c-0.1,0.1-0.4,0.1-0.5,0l-0.5-0.5c-0.2-0.2-0.5-0.2-0.7-0.1c-0.4,0.2-0.8,0.4-1.3,0.5c-0.3,0.1-0.4,0.3-0.4,0.5v0.6 c0,0.2-0.2,0.4-0.4,0.4H7c-0.2,0-0.4-0.2-0.4-0.4v-0.6c0-0.3-0.2-0.5-0.4-0.5C5.8,12.2,5.4,12,5,11.8c-0.1-0.1-0.2-0.1-0.3-0.1 c-0.1,0-0.3,0.1-0.4,0.2l-0.5,0.5c-0.1,0.1-0.4,0.1-0.5,0c0,0,0,0,0,0l-0.7-0.7c-0.1-0.1-0.1-0.4,0-0.5l0.5-0.5 c0.2-0.2,0.2-0.5,0.1-0.7C3,9.6,2.8,9.2,2.7,8.8C2.6,8.5,2.4,8.3,2.1,8.3H1.5C1.3,8.3,1.1,8.2,1.1,8V7c0-0.2,0.2-0.4,0.4-0.4h0.6 c0.3,0,0.5-0.2,0.5-0.4C2.8,5.8,3,5.4,3.2,5c0.1-0.2,0.1-0.5-0.1-0.7L2.7,3.8c-0.1-0.1-0.1-0.4,0-0.5c0,0,0,0,0,0l0.7-0.7 c0.1-0.1,0.4-0.1,0.5,0l0.5,0.5C4.5,3.3,4.8,3.3,5,3.2C5.4,3,5.8,2.8,6.3,2.7c0.3-0.1,0.4-0.3,0.4-0.5V1.5c0-0.2,0.2-0.4,0.4-0.4H8 c0.2,0,0.4,0.2,0.4,0.4v0.6c0,0.3,0.2,0.5,0.4,0.5C9.2,2.8,9.6,3,10,3.2c0.2,0.1,0.5,0.1,0.7-0.1l0.5-0.5c0.1-0.1,0.4-0.1,0.5,0 c0,0,0,0,0,0l0.7,0.7c0.1,0.1,0.1,0.4,0,0.5l-0.5,0.5c-0.2,0.2-0.2,0.5-0.1,0.7c0.2,0.4,0.4,0.8,0.5,1.3c0.1,0.3,0.3,0.4,0.5,0.4 h0.6c0.2,0,0.4,0.2,0.4,0.4V8z M7.5,4.8C6,4.8,4.8,6,4.8,7.5c0,1.5,1.2,2.7,2.7,2.7s2.7-1.2,2.7-2.7C10.2,6,9,4.8,7.5,4.8z M7.5,9.3 c-1,0-1.8-0.8-1.8-1.8c0-1,0.8-1.8,1.8-1.8c1,0,1.8,0.8,1.8,1.8C9.3,8.5,8.5,9.3,7.5,9.3z\"></path></symbol>\n",
       "<symbol id=\"icon_home\" viewbox=\"0 0 15 15\"><path d=\"M14.4,6.1L8.2,0.7c-0.4-0.3-1-0.3-1.3,0L0.6,6.1c-0.4,0.4-0.5,1-0.1,1.5c0.2,0.2,0.5,0.4,0.8,0.4h0.2v5.6 c0,0.6,0.5,1,1,1h10c0.6,0,1-0.5,1-1V7.9h0.2c0.6,0,1-0.5,1-1C14.8,6.6,14.7,6.3,14.4,6.1z M9,13.4H6V9.8H9V13.4z M12.5,6.9v6.6H9.7 V9.2H5.3v4.4H2.5V6.9H1.2l6.3-5.4l6.3,5.4H12.5z\"></path></symbol>\n",
       "<symbol id=\"icon_notice\" viewbox=\"0 0 22 22\"><path d=\"M8.4,19.4c0,1.5,1.2,2.6,2.6,2.6c1.5,0,2.6-1.2,2.6-2.6v-0.6H8.4V19.4z M12.3,20c-0.3,0.7-1.2,1.1-1.9,0.7 c-0.3-0.1-0.6-0.4-0.7-0.7H12.3z M19,13.3l-0.4-3.1c0-3.1-1.9-5.8-4.7-7V3c0-1.6-1.3-3-3-3C9.4,0,8,1.3,8,3c0,0,0,0,0,0v0.2 c-2.8,1.2-4.7,4-4.7,7L3,13.3c-0.6,0.6-0.9,1.4-0.9,2.2v0.1c0,1,0.4,2.6,3.2,2.6h11.5c2.8,0,3.2-1.6,3.2-2.6v-0.1 C19.9,14.7,19.6,13.9,19,13.3z M18.1,15.6L18.1,15.6c0,0.8-0.6,0.9-1.4,0.9H5.2c-0.8,0-1.4-0.1-1.4-0.8v-0.1c0-0.5,0.3-1,0.8-1.2 l0,0l0.5-4c0-2.8,1.9-5.2,4.7-5.8l0,0V3c0-0.6,0.5-1.2,1.1-1.2s1.2,0.5,1.2,1.1c0,0,0,0,0,0.1v1.6l0,0c2.7,0.6,4.7,3,4.7,5.8 l0.5,3.9v0l0,0C17.8,14.5,18.1,15,18.1,15.6L18.1,15.6z\"></path></symbol>\n",
       "<symbol id=\"icon_help\" viewbox=\"0 0 22 22\"><path d=\"M10.3,14.4h1.8v1.8h-1.8V14.4z M11.1,6.1c-1.1,0-2.2,0.4-3,1.1l0.5,1.5c0.6-0.7,1.4-1.1,2.4-1.1 c1.1,0,1.7,0.6,1.7,1.4c0,0.6-0.3,0.9-1.2,1.6c-1,0.6-1.5,1.8-1.3,2.9H12c-0.1-0.8,0.2-1.6,0.9-2c0.9-0.8,1.5-1.4,1.5-2.5 c0-0.1,0-0.1,0-0.2C14.2,7.1,12.8,5.9,11.1,6.1z M21.3,11c0,5.7-4.6,10.3-10.3,10.3C5.3,21.3,0.7,16.7,0.7,11 C0.7,5.3,5.3,0.7,11,0.7C16.7,0.7,21.3,5.3,21.3,11z M19.3,11c0-4.6-3.7-8.3-8.3-8.3c-4.6,0-8.3,3.7-8.3,8.3c0,4.6,3.7,8.3,8.3,8.3 C15.6,19.3,19.2,15.6,19.3,11z\"></path></symbol>\n",
       "<symbol id=\"icon_search\" viewbox=\"0 0 22 22\"><path d=\"M19.8,21.4c-0.4,0.4-1,0.4-1.4,0l-3.2-3.2l0.3-0.2c0.4-0.3,0.7-0.5,1.1-0.8l0.2-0.2l3,3l0,0 C20.2,20.4,20.2,21,19.8,21.4z M9.7,18.4C4.9,18.4,1,14.5,1,9.7S4.9,1,9.7,1s8.7,3.9,8.7,8.7C18.4,14.5,14.5,18.4,9.7,18.4z M16.2,9.7L16.2,9.7c0-3.6-2.9-6.5-6.5-6.5c0,0,0,0,0,0c-3.6,0-6.5,2.9-6.5,6.5c0,3.6,2.9,6.5,6.5,6.5S16.2,13.3,16.2,9.7z\"></path></symbol>\n",
       "<symbol id=\"icon_stock\" viewbox=\"0 0 18 18\"><path d=\"M16.5,4.5l-2.4-2.4C14,2,13.7,2,13.5,2.1l-3.1,3.1L8.9,3.7c-0.2-0.2-0.4-0.2-0.6,0c0,0,0,0,0,0L5.1,6.9L4.1,6 C4,5.9,3.7,5.9,3.5,6L1.4,8.2H0.5v5.6c0,0.8,0.7,1.5,1.5,1.5h14c0.8,0,1.5-0.7,1.5-1.5V4.5H16.5z M1.8,13.5V9l2.1-2.1l0.9,0.9 C4.9,8,5.2,8,5.4,7.8l3.2-3.2l1.5,1.5c0.2,0.2,0.4,0.2,0.6,0L13.8,3l2.4,2.4l0,0v1.9l-1.5-1.5c-0.2-0.2-0.4-0.2-0.6,0l-4,4l-2-2 c-0.2-0.2-0.4-0.2-0.6,0L1.8,13.5z M16.2,13.8c0,0.1-0.1,0.2-0.2,0.2H2.5l5.3-5.3l2,2c0.2,0.2,0.4,0.2,0.6,0l4-4l1.8,1.8V13.8z\"></path></symbol>\n",
       "<symbol id=\"icon_traffic\" viewbox=\"0 0 18 18\"><path d=\"M14.8,2.2c-0.4-0.4-0.9-0.7-1.4-0.8C12.2,1.1,11,1,9.8,1H8.1C7,1,5.8,1.1,4.7,1.3c-1.1,0.2-2,1.2-2,2.4v9.6 c0,1,0.8,1.8,1.7,1.8h0.4L4.3,16c-0.1,0.3-0.1,0.6,0,0.9c0.1,0.2,0.3,0.3,0.6,0.3h8.1c0.2,0,0.5-0.1,0.6-0.3c0.2-0.3,0.2-0.6,0-0.9 l-0.5-0.9h0.4c0.9-0.1,1.7-0.8,1.7-1.8V3.8C15.3,3.2,15.1,2.6,14.8,2.2z M5.1,16.4C5.1,16.4,5.1,16.4,5.1,16.4l0.7-1.3h6.6l0.7,1.3 c0,0,0,0,0,0H5.1z M14.3,13.3c0,0.4-0.3,0.8-0.8,0.8h-9c-0.4,0-0.8-0.3-0.8-0.8V3.7c0-0.7,0.5-1.2,1.1-1.4C5.9,2.2,7,2,8.1,2h1.7 c1.1,0,2.2,0.1,3.3,0.3c0.7,0.1,1.1,0.7,1.1,1.4V13.3z M4.9,9.6h8.2c0.2,0,0.3-0.1,0.3-0.3V4.5c0-0.2-0.1-0.3-0.3-0.3H4.9 c-0.2,0-0.3,0.1-0.3,0.3v4.9C4.6,9.5,4.7,9.6,4.9,9.6z M9.3,4.7h3.5V9H9.3V4.7z M5.2,4.7h3.5l0,4.3H5.2V4.7z M12.2,10.5 c-0.6,0-1.2,0.5-1.2,1.2s0.5,1.2,1.2,1.2s1.2-0.5,1.2-1.2C13.4,11,12.9,10.5,12.2,10.5z M12.2,12.2c-0.3,0-0.6-0.3-0.6-0.6 c0-0.3,0.3-0.6,0.6-0.6s0.6,0.3,0.6,0.6C12.8,12,12.5,12.2,12.2,12.2z M5.8,10.5c-0.6,0-1.2,0.5-1.2,1.2s0.5,1.2,1.2,1.2 S7,12.3,7,11.7C7,11,6.4,10.5,5.8,10.5z M5.8,12.2c-0.3,0-0.6-0.3-0.6-0.6c0-0.3,0.3-0.6,0.6-0.6s0.6,0.3,0.6,0.6 C6.4,12,6.1,12.2,5.8,12.2z\"></path></symbol>\n",
       "<symbol id=\"icon_weather\" viewbox=\"0 0 18 18\"><path d=\"M9,4.5c-2.5,0-4.5,2-4.5,4.5c0,2.5,2,4.5,4.5,4.5c2.5,0,4.5-2,4.5-4.5C13.5,6.5,11.5,4.5,9,4.5z M9,12 c-1.6,0-3-1.3-3-3s1.3-3,3-3c1.6,0,3,1.3,3,3C11.9,10.6,10.6,12,9,12z M9.6,14.8v2.1c0,0.3-0.2,0.6-0.5,0.6s-0.5-0.2-0.5-0.6v-2.1 c0-0.3,0.2-0.5,0.5-0.5c0,0,0,0,0,0C9.3,14.3,9.6,14.5,9.6,14.8z M8.4,3.2V1.1c0-0.3,0.2-0.5,0.6-0.5c0.3,0,0.5,0.2,0.5,0.5v2.1 c0,0.3-0.2,0.5-0.5,0.5c0,0,0,0,0,0C8.7,3.7,8.4,3.5,8.4,3.2z M17.5,9c0,0.3-0.2,0.5-0.5,0.5h-2.1c-0.3,0-0.5-0.2-0.5-0.5 s0.2-0.5,0.5-0.5h2.1C17.2,8.5,17.5,8.7,17.5,9z M3.2,9.5H1.1C0.8,9.5,0.5,9.3,0.5,9s0.2-0.5,0.5-0.5h2.1c0.3,0,0.5,0.2,0.5,0.5 C3.7,9.3,3.5,9.5,3.2,9.5z M15,14.2c0.2,0.2,0.2,0.6,0,0.8s-0.6,0.2-0.8,0l-1.4-1.4c-0.2-0.2-0.2-0.6,0-0.8c0.2-0.2,0.6-0.2,0.8,0 L15,14.2z M3,3.8C2.8,3.6,2.8,3.2,3,3c0.2-0.2,0.6-0.2,0.8,0l1.4,1.4c0.2,0.2,0.2,0.6,0,0.8s-0.6,0.2-0.8,0L3,3.8z M12.8,5.2 c-0.2-0.2-0.2-0.6,0-0.8L14.2,3c0.2-0.2,0.6-0.2,0.8,0s0.2,0.6,0,0.8l-1.4,1.4c-0.1,0.1-0.2,0.2-0.4,0.2C13,5.4,12.9,5.3,12.8,5.2z M5.2,12.8c0.2,0.2,0.2,0.6,0,0.8L3.8,15c-0.2,0.2-0.6,0.2-0.8,0c-0.2-0.2-0.2-0.6,0-0.8l1.4-1.4l0,0C4.7,12.6,5,12.6,5.2,12.8z\"></path></symbol>\n",
       "<symbol id=\"arrow_l\" viewbox=\"0 0 6.7 11.4\"><polygon points=\"1,0 0,1 4.7,5.7 0,10.4 1,11.4 6.7,5.7 \" style=\"transform:rotate(180deg);transform-origin:50% 50%;\"></polygon></symbol>\n",
       "<symbol id=\"arrow_r\" viewbox=\"0 0 6.7 11.4\"><polygon points=\"1,0 0,1 4.7,5.7 0,10.4 1,11.4 6.7,5.7 \"></polygon></symbol>\n",
       "<symbol id=\"icon_scrap\" viewbox=\"0 0 15 16\"><path d=\"M12.687,0 L12.687,5.509 L14.999,5.513 L14.999,12.819 C14.9979432,14.0644704 14.0305676,15.0836965 12.8061113,15.1674404 L12.645,15.173 L2.353,15.173 C1.10752964,15.1719432 0.0883034576,14.2045676 0.00455962387,12.9801113 L-0.001,12.819 L-0.001,5.738 C0.000582694624,4.49365107 0.966714919,3.47532618 2.19003598,3.39068676 L2.351,3.385 L5.143,3.385 C5.35828538,3.38419565 5.56641078,3.45505932 5.73549179,3.58444854 L5.832,3.669 L7.418,5.256 C7.55577962,5.39243082 7.73359603,5.47925504 7.92369138,5.50498514 L8.039,5.513 L11.434,5.513 L11.434,1.257 L10.879,1.257 L10.879,4.457 C10.8796493,4.64117438 10.7684872,4.80732412 10.598,4.877 C10.4561607,4.93370212 10.297557,4.91588705 10.1731401,4.83384798 L10.103,4.777 L9.243,3.917 L8.479,4.681 C8.34951813,4.81185651 8.15372314,4.85134194 7.98364532,4.78089681 C7.83786434,4.72051527 7.73583039,4.58966227 7.71026111,4.43758143 L7.704,4.36 L7.704,1.253 L4.493,1.253 C4.01745101,1.25351245 3.62576315,1.61165501 3.57223425,2.07285555 L3.566,2.181 L3.566,2.743 L2.312,2.743 L2.312,2.181 C2.31358066,1.02949333 3.20616698,0.0869102179 4.33733262,0.00567703429 L4.493,0 L12.687,0 Z M5.017,4.627 L2.354,4.638 C1.78698766,4.638 1.32017613,5.0670107 1.26045465,5.61814288 L1.254,5.738 L1.254,12.816 C1.254,13.3830123 1.6830107,13.8498255 2.23414288,13.9095472 L2.354,13.9160037 L12.646,13.9160037 C13.2126491,13.9170325 13.6800762,13.4894002 13.7412267,12.9387646 L13.748,12.819 L13.748,6.766 L8.04,6.766 C7.53680509,6.76785216 7.05165486,6.59015689 6.67007187,6.26835956 L6.532,6.141 L5.017,4.627 Z M8.84833796,1.45181944 L8.612,1.451 L8.612,3.263 L8.923,2.953 C9.07813047,2.79789511 9.3175747,2.778507 9.49378362,2.89483567 L9.565,2.953 L9.971,3.359 L9.971,1.478 L9.259125,1.458125 L9.259125,1.458125 L8.84833796,1.45181944 Z\"></path></symbol>\n",
       "<symbol id=\"icon_pr\" viewbox=\"0 0 20 15\"><path d=\"M19,0H1C0.4,0,0,0.4,0,1v13c0,0.6,0.4,1,1,1h18c0.6,0,1-0.4,1-1V1C20,0.4,19.6,0,19,0z\" fill=\"#999\"></path><path d=\"M6.9,3.8H3.8V11h1.5V8.4h1.5c0.8,0,1.4-0.2,1.8-0.5c0.4-0.4,0.6-1,0.6-1.8c0-0.8-0.2-1.4-0.6-1.7 C8.2,4,7.6,3.8,6.9,3.8z M7.4,6.9C7.3,7.1,7,7.2,6.6,7.2H5.3V5.1h1.4c0.3,0,0.6,0.1,0.8,0.2s0.3,0.4,0.3,0.8S7.6,6.7,7.4,6.9z\" fill=\"#FFFFFF\"></path><path d=\"M16.1,10.4c0-0.1,0-0.3,0-0.7V9.3c0-0.5-0.1-0.9-0.2-1.1c-0.1-0.2-0.4-0.4-0.7-0.6c0.4-0.1,0.7-0.4,0.9-0.7 c0.2-0.3,0.3-0.7,0.3-1c0-0.3,0-0.5-0.1-0.8s-0.2-0.4-0.4-0.6C15.5,4.3,15.3,4.1,15,4c-0.3-0.1-0.6-0.2-1.1-0.2h-3.4V11h1.5V8.2 h1.5c0.4,0,0.7,0.1,0.9,0.2c0.2,0.2,0.2,0.5,0.2,0.9l0,0.7c0,0.2,0,0.4,0.1,0.6c0,0.1,0.1,0.2,0.1,0.4h1.7v-0.2 C16.2,10.7,16.1,10.6,16.1,10.4z M14.3,6.9C14.1,6.9,13.9,7,13.6,7h-1.6V5.1h1.7c0.3,0,0.5,0,0.7,0.1c0.3,0.1,0.4,0.4,0.4,0.9 C14.7,6.5,14.6,6.7,14.3,6.9z\" fill=\"#FFFFFF\"></path></symbol>\n",
       "<symbol id=\"icon_facebook\" viewbox=\"0 0 20 20\"><circle cx=\"10\" cy=\"10\" fill=\"#284F8E\" r=\"10\"></circle><path d=\"M12.7,4.1c-0.7,0-1.4,0-2.1,0c-0.7,0-1.3,0.3-1.7,0.8 c-0.3,0.4-0.5,1-0.5,1.5c0,0.4,0,0.9,0,1.3c0,0.2,0,0.2-0.2,0.2C7.9,8,7.6,8,7.3,8C7.2,8,7.2,8,7.2,8.1c0,0.6,0,1.2,0,1.8 c0,0.1,0,0.2,0.2,0.2c0.3,0,0.6,0,0.9,0c0.2,0,0.2,0,0.2,0.2c0,0.9,0,1.9,0,2.8c0,0.9,0,1.8,0,2.8c0,0.2,0,0.2,0.2,0.2 c0.7,0,1.4,0,2.1,0c0.2,0,0.2,0,0.2-0.2c0-1.8,0-3.7,0-5.5c0-0.3,0-0.2,0.3-0.2c0.4,0,0.8,0,1.2,0c0.1,0,0.2,0,0.2-0.2 c0-0.6,0.1-1.2,0.2-1.8c0-0.2,0-0.2-0.2-0.2c-0.5,0-1,0-1.5,0c-0.1,0-0.2,0-0.2-0.1c0-0.4,0-0.7,0-1.1c0,0,0-0.1,0-0.1 c0-0.4,0.4-0.6,0.7-0.6c0.3,0,0.7,0,1,0c0.1,0,0.1,0,0.1-0.1c0-0.6,0-1.2,0-1.8C12.8,4.1,12.8,4.1,12.7,4.1z\" style=\"fill-rule:evenodd;clip-rule:evenodd;fill:#FFFFFF;\"></path></symbol>\n",
       "<symbol id=\"icon_twitter\" viewbox=\"0 0 20 20\"><circle cx=\"10\" cy=\"10\" fill=\"#3296D4\" r=\"10\"></circle><path d=\"M16.2,6.9c-0.4,0.2-0.9,0.3-1.4,0.4c0.5-0.3,0.9-0.8,1.1-1.3c-0.5,0.3-1,0.5-1.5,0.6c-0.9-1-2.4-1-3.4-0.1 c-0.5,0.5-0.8,1.1-0.8,1.8c0,0.2,0,0.4,0.1,0.6c-1.9-0.1-3.7-1-5-2.5C4.7,7.3,5,8.7,6.1,9.4C5.7,9.4,5.3,9.3,5,9.1v0 c0,1.1,0.8,2.1,1.9,2.4c-0.2,0.1-0.4,0.1-0.6,0.1c-0.2,0-0.3,0-0.5,0c0.3,1,1.2,1.7,2.3,1.7c-0.9,0.7-1.9,1-3,1c-0.2,0-0.4,0-0.6,0 c1.1,0.7,2.4,1.1,3.7,1.1l0,0c3.8,0,6.8-3,6.9-6.8c0,0,0-0.1,0-0.1c0-0.1,0-0.2,0-0.3C15.5,7.8,15.9,7.3,16.2,6.9z\" fill=\"#FFFFFF\"></path></symbol>\n",
       "<symbol id=\"icon_line\" viewbox=\"0 0 20 20\"><circle cx=\"10\" cy=\"10\" fill=\"#3FA537\" r=\"10\"></circle><path d=\"M10,4C6.3,4,3.3,6.4,3.3,9.4c0,2.7,2.4,4.9,5.6,5.3c0.2,0,0.5,0.1,0.6,0.3c0.1,0.2,0.1,0.4,0,0.6l-0.1,0.6 c0,0.2-0.1,0.7,0.6,0.4c1.9-1,3.7-2.3,5.2-3.9c0.9-0.9,1.4-2.1,1.4-3.3l0,0C16.7,6.4,13.7,4,10,4z\" fill=\"#FFFFFF\"></path><path d=\"M8.6,8H8.2C8.1,8,8.1,8,8.1,8.1c0,0,0,0,0,0V11c0,0.1,0.1,0.1,0.1,0.1c0,0,0,0,0,0h0.5 c0.1,0,0.1-0.1,0.1-0.1c0,0,0,0,0,0V8.1C8.8,8,8.7,8,8.6,8z\" fill=\"#3FA537\"></path><path d=\"M11.9,8C11.9,8,11.9,8,11.9,8L11.9,8l-0.5,0c-0.1,0-0.1,0.1-0.1,0.1v1.7L9.9,8l0,0l0,0l0,0h0h0h0h0h0H9.4 C9.3,8,9.3,8.1,9.3,8.1V11c0,0.1,0.1,0.1,0.1,0.1c0,0,0,0,0,0h0.5c0.1,0,0.1-0.1,0.1-0.1c0,0,0,0,0,0V9.3l1.3,1.8c0,0,0,0,0,0h0h0 h0h0c0,0,0,0,0,0h0.5c0.1,0,0.1-0.1,0.1-0.1c0,0,0,0,0,0V8.1C12,8,11.9,8,11.9,8z\" fill=\"#3FA537\"></path><path d=\"M7.5,10.4H6.3V8.1C6.3,8,6.2,8,6.1,8c0,0,0,0,0,0H5.7C5.6,8,5.5,8,5.5,8.1V11c0,0,0,0.1,0,0.1 c0,0,0.1,0,0.1,0h1.9c0.1,0,0.1-0.1,0.1-0.1c0,0,0,0,0,0v-0.5C7.7,10.5,7.6,10.4,7.5,10.4z\" fill=\"#3FA537\"></path><polygon fill=\"#3FA537\" points=\"7.5,10.4 7.5,10.4 7.5,10.4\"></polygon><path d=\"M14.4,8.7c0.1,0,0.1-0.1,0.1-0.1V8.1C14.6,8,14.5,8,14.4,8h-1.9c0,0-0.1,0-0.1,0c0,0,0,0.1,0,0.1V11 c0,0,0,0.1,0,0.1c0,0,0.1,0,0.1,0h1.9c0.1,0,0.1-0.1,0.1-0.1v-0.5c0-0.1-0.1-0.1-0.1-0.1h-1.3V9.9h1.3c0.1,0,0.1-0.1,0.1-0.1V9.3 c0-0.1-0.1-0.1-0.1-0.1h-1.3V8.7L14.4,8.7z\" fill=\"#3FA537\"></path></symbol>\n",
       "<symbol id=\"icon_email\" viewbox=\"0 0 20 20\"><path d=\"M10,0 C15.5228475,0 20,4.4771525 20,10 C20,15.5228475 15.5228475,20 10,20 C4.4771525,20 0,15.5228475 0,10 C0,4.4771525 4.4771525,0 10,0 Z\" fill=\"#DD4261\"></path><path d=\"M4.5,8.108 L9.413,11.013 C9.83258856,11.2608675 10.3532439,11.2631612 10.775,11.019 L10.775,11.019 L15.735,8.148 L15.735,13.148 C15.735,13.3148212 15.6687305,13.4748098 15.5507702,13.5927702 C15.4328098,13.7107305 15.2728212,13.7770008 15.106,13.7770008 L15.106,13.7770008 L5.13,13.7770008 C4.96300563,13.7772655 4.80276,13.7111133 4.68458325,13.5931241 C4.5664065,13.4751349 4.5,13.3149946 4.5,13.148 L4.5,13.148 L4.5,8.108 Z M15.111,5.9949992 C15.2779946,5.9949992 15.4381349,6.0614065 15.5561241,6.17958325 C15.6741133,6.29776 15.7402655,6.45800563 15.7400008,6.625 L15.7400008,6.625 L15.7400008,7.479 L10.49,10.521 C10.2478228,10.6625082 9.94817717,10.6625082 9.706,10.521 L9.706,10.521 L4.5019992,7.44 L4.5019992,6.625 C4.50173402,6.45783221 4.56802341,6.29743466 4.68622904,6.17922904 C4.80443466,6.06102341 4.96483221,5.99473402 5.132,5.9949992 L5.132,5.9949992 Z\" fill=\"#FFF\"></path></symbol>\n",
       "<symbol id=\"icon_app\" viewbox=\"0 0 14.023 20.685\"><g transform=\"translate(-106.317 -31.65)\"><path d=\"M117.539,32h-8.42a2.454,2.454,0,0,0-2.451,2.451V49.533a2.454,2.454,0,0,0,2.451,2.451h8.42a2.454,2.454,0,0,0,2.451-2.451V34.451A2.454,2.454,0,0,0,117.539,32Zm1.5,17.533a1.5,1.5,0,0,1-1.5,1.5h-8.42a1.5,1.5,0,0,1-1.5-1.5V34.451a1.5,1.5,0,0,1,1.5-1.5h8.42a1.5,1.5,0,0,1,1.5,1.5Z\" fill=\"indigo\"></path><path d=\"M109.118,31.65h8.421a2.809,2.809,0,0,1,2.8,2.8V49.533a2.809,2.809,0,0,1-2.8,2.8h-8.421a2.809,2.809,0,0,1-2.8-2.8V34.451A2.809,2.809,0,0,1,109.118,31.65Zm8.421,19.985a2.108,2.108,0,0,0,2.1-2.1V34.451a2.108,2.108,0,0,0-2.1-2.1h-8.42a2.108,2.108,0,0,0-2.1,2.1V49.533a2.108,2.108,0,0,0,2.1,2.1ZM109.118,32.6h8.421a1.855,1.855,0,0,1,1.85,1.849V49.533a1.855,1.855,0,0,1-1.849,1.85h-8.421a1.855,1.855,0,0,1-1.85-1.849V34.451A1.855,1.855,0,0,1,109.118,32.6Zm8.42,18.082a1.154,1.154,0,0,0,1.15-1.15V34.451a1.154,1.154,0,0,0-1.15-1.15h-8.42a1.154,1.154,0,0,0-1.15,1.15V49.533a1.154,1.154,0,0,0,1.15,1.15Z\" fill=\"#43117d\"></path><path d=\"M206.949,74.667h-3.807a.476.476,0,0,0,0,.952h3.807a.476.476,0,0,0,0-.952Z\" fill=\"indigo\" transform=\"translate(-91.718 -40.764)\"></path><path d=\"M203.143,74.567h3.807a.576.576,0,0,1,0,1.152h-3.807a.576.576,0,0,1,0-1.152Zm3.807.952a.376.376,0,0,0,0-.752h-3.807a.376.376,0,0,0,0,.752Z\" fill=\"#43117d\" transform=\"translate(-91.718 -40.764)\"></path><path d=\"M225.427,373.333a1.428,1.428,0,1,0,1.427,1.427A1.428,1.428,0,0,0,225.427,373.333Zm0,1.9a.476.476,0,1,1,.476-.476A.476.476,0,0,1,225.427,375.236Z\" fill=\"indigo\" transform=\"translate(-112.099 -326.106)\"></path><path d=\"M225.427,373.233a1.528,1.528,0,1,1-1.527,1.527A1.529,1.529,0,0,1,225.427,373.233Zm0,2.855a1.327,1.327,0,1,0-1.327-1.328A1.329,1.329,0,0,0,225.427,376.088Zm0-1.9a.576.576,0,1,1-.576.576A.576.576,0,0,1,225.427,374.185Zm0,.952a.376.376,0,1,0-.376-.376A.376.376,0,0,0,225.427,375.136Z\" fill=\"#43117d\" transform=\"translate(-112.099 -326.106)\"></path></g></symbol>\n",
       "<symbol id=\"logo_yomiurishinbun\" viewbox=\"0 0 88 19.2\"><path d=\"M0.5,10.4c0-0.6,0.5-1,1.1-1c0,0,0,0,0,0h3.9c0.6-0.1,1.1,0.4,1.2,0.9c0,0,0,0,0,0c0,0.5-0.5,0.9-1.2,0.9H1.6 C1.1,11.4,0.6,11,0.5,10.4z M5.9,3.4H1.1c0,0,0,0,0,0C0.5,3.3,0,3.8,0,4.3c0.1,0.6,0.6,1,1.1,0.9h4.8c0.7,0,1.2-0.4,1.2-0.9 c0,0,0,0,0,0C7.1,3.7,6.5,3.3,5.9,3.4z M1.6,8.2h3.9c0.7,0,1.2-0.4,1.2-0.9c0,0,0,0,0,0c-0.1-0.6-0.6-1-1.2-0.9H1.6c0,0,0,0,0,0 c-0.6,0-1.1,0.4-1.1,1C0.6,7.8,1.1,8.2,1.6,8.2z M9,3.3h2.9c0.6,0,1.2,0.4,1.2,0.9C13,4.7,12.5,5,11.9,5H9.6C9.5,5,9.4,5,9.3,5 C8.9,5.1,8.5,5.5,8.6,6c0.1,0.5,0.5,0.8,1,0.8H19c0.6,0,1.1-0.4,1.1-0.9c0,0,0,0,0,0C20,5.3,19.6,5,19,5h-2.3 c-0.6,0-1.2-0.4-1.2-0.8c0-0.5,0.6-0.9,1.2-0.9h2.7c0,0,0,0,0,0c0.6,0,1.1-0.4,1.1-1c0,0,0,0,0,0c-0.1-0.6-0.6-1-1.1-0.9l-2.7,0 c-1.6,0-1.2-1.4-2.4-1.4s-0.8,1.4-2.4,1.4H9c0,0,0,0,0,0c-0.6,0-1,0.4-1.1,0.9C7.9,2.9,8.4,3.3,9,3.3z M1.6,2.3h3.9 c0.7,0,1.2-0.4,1.2-0.9c0,0,0,0,0,0c-0.1-0.6-0.6-1-1.2-0.9H1.6c0,0,0,0,0,0c-0.6,0-1.1,0.4-1.1,1C0.6,1.9,1.1,2.3,1.6,2.3z M6.8,14 c0,0.1,0,0.1,0,0.2v3.4c0,0.9-0.7,1.6-1.6,1.5c0,0-0.1,0-0.1,0H2c-0.9,0.1-1.6-0.6-1.7-1.4c0,0,0-0.1,0-0.1v-3.4 c0-0.9,0.6-1.7,1.5-1.7c0.1,0,0.1,0,0.2,0h3C6,12.4,6.8,13.1,6.8,14z M4.8,15.8c0-1.1-0.5-1.5-1.3-1.5c-0.8,0-1.3,0.4-1.3,1.5 c0,1,0.4,1.5,1.3,1.5C4.4,17.3,4.8,16.9,4.8,15.8z M17.1,11.2c0-0.6,0.3-1.2,0.8-1.2c0.6,0,0.7,0.7,0.7,1.1c0,0.3,0.1,1.3,1,1.3 c1,0,1-1,1-2c0-1,0.1-2.4-2.1-2.4H9.9c-2.2,0-2.1,1.5-2.1,2.4s0,2,1,2c1,0,1-0.9,1-1.3c0-0.3,0.1-1.1,0.8-1.1s0.8,0.6,0.8,1.2v2.2 c0.2,1.7-1,3.4-2.7,3.8c-0.6,0.1-0.9,0.7-0.8,1.3c0,0,0,0,0,0.1C8.1,19,8.5,19.3,9.5,19c2.5-0.7,4.2-3,4-5.6v-2.2 c0-0.7,0.3-1.2,0.7-1.2c0.4,0,0.7,0.5,0.7,1.2v2.4c-0.1,2.5,1.5,4.8,4,5.4c0.9,0.3,1.4,0,1.6-0.4c0.2-0.6-0.1-1.2-0.7-1.3 c0,0,0,0-0.1,0c-1.7-0.4-2.8-2-2.6-3.8V11.2z M75.3,7.1h-3.6c-0.8,0-1.4,0.3-1.4,1.3v9.5c0.1,0.6-0.3,1.2-1,1.3c-0.1,0-0.1,0-0.2,0 c-0.5,0-1-0.3-1-1.2V2.4c-0.1-0.9,0.5-1.7,1.4-1.8c0.1,0,0.2,0,0.4,0h5.3c1.1,0,1.7,0.5,1.7,1.5v3.2C76.9,6.5,76.4,7.1,75.3,7.1z M74.4,5.1c0-0.3-0.4-0.5-1.2-0.5h-1.3c-0.7,0-1.2,0.2-1.2,0.5c0,0.4,0.6,0.6,1.1,0.6h1.4C74,5.7,74.4,5.4,74.4,5.1z M74.4,2.7 c0-0.3-0.3-0.6-1.1-0.6h-1.5c-0.7,0-1.2,0.3-1.2,0.6c0,0.4,0.6,0.6,1.1,0.6h1.6C74.2,3.3,74.4,3,74.4,2.7z M88,2.4v14.5 c0,1.7-0.3,2.3-1.9,2.3h-4.2c-2.2,0-0.4-1.9-2.6-1.9h-5.7c-1.2,0-1.6-0.3-1.6-0.8c0-1,1.5-0.4,1.5-2v-3.2c0-2-1.5-1.2-1.5-2.2 c0-0.5,0.5-0.7,1.6-0.7h9.2C83.6,8.3,84,8.6,84,9c0,1.1-1.5,0.4-1.5,2.1v4.8c0,0.9,0.3,1.5,1.3,1.5h0.8c0.9,0,1.2-0.5,1.2-1.4V8.4 c0-0.8-0.4-1.3-1.5-1.3h-3.5c-0.1,0-0.3,0-0.4,0C79.5,7,78.9,6.2,79,5.4l0-3c0-0.1,0-0.3,0-0.4c0.1-0.9,1-1.5,1.9-1.4H86 C87.4,0.6,88,1.1,88,2.4z M85.3,5.1c0-0.3-0.4-0.5-1.2-0.5h-1.4c-0.7,0-1.2,0.2-1.2,0.5c0,0.4,0.6,0.6,1.1,0.6h1.5 C85,5.7,85.3,5.4,85.3,5.1z M85.4,2.7c0-0.3-0.3-0.6-1.1-0.6h-1.6c-0.7,0-1.2,0.3-1.2,0.6c0,0.4,0.6,0.6,1.1,0.6h1.7 C85.1,3.3,85.4,3,85.4,2.7z M80,15.2c0-0.3-0.5-0.5-1.1-0.5h-1.8c-0.7,0-1.2,0.2-1.2,0.5l0,0c0,0.3,0.5,0.5,1.2,0.5h1.8 C79.6,15.7,80,15.6,80,15.2z M80,12.8c0-0.3-0.5-0.5-1.1-0.5h-1.8c-0.7,0-1.2,0.2-1.2,0.5l0,0c0,0.3,0.5,0.5,1.2,0.5h1.8 C79.6,13.3,80,13.2,80,12.8z M80,10.3c0-0.3-0.5-0.5-1.1-0.5h-1.8c-0.7,0-1.2,0.2-1.2,0.5l0,0c0,0.3,0.5,0.5,1.2,0.5h1.8 C79.6,10.8,80,10.7,80,10.3z M59.5,3.8l0,1.1c0,1.2,0.7,1.5,1.4,1.5h3.7c1,0,1.3,0.4,1.3,1c0,1.3-1.4,0.3-1.4,2.4v8 c0,0.8-0.3,1.4-1.1,1.4c-0.8,0-1.2-0.6-1.2-1.4v-8c0-0.9-0.5-1.4-1.4-1.4s-1.3,0.4-1.3,1.5v5c0.2,2.2-1.4,4.2-3.7,4.4 c-0.3,0-0.5,0-0.8,0c-1.1,0-1.5-0.4-1.5-1.5v-5.1c0-0.6-0.3-0.9-0.7-0.9c-0.3,0-0.7,0.3-0.7,0.8v5.1c0,1.1-0.3,1.6-1.1,1.6 c-0.8,0-1.1-0.6-1.1-1.7v-5c0-0.6-0.3-0.8-0.7-0.8s-0.6,0.3-0.6,0.9V15c0,2.5-1.8,4-2.8,4c-0.4,0-0.8-0.3-0.9-0.7c0-0.1,0-0.1,0-0.2 c0-1.4,1.7-0.8,1.7-3.4v-1.8c0-1.8-1.1-1.4-1.1-2.4c0-0.6,0.5-1,1.7-1h1.5c0.5,0,1.1-0.2,1.1-0.6c0-0.4-0.5-0.6-1-0.6h-2.1 c-1,0-1.4-0.4-1.4-1s0.5-0.8,1.2-0.9c1-0.1,1.1-0.8,0.9-1.9c-0.3-1.2-1.6-0.8-1.6-2.1c0-0.6,0.6-0.8,1.3-0.8h1.6 c2,0,1.2-1.6,2.6-1.6c1.5,0,0.7,1.6,2.6,1.6H55c0.7,0,1.4,0.2,1.4,0.9c0,1.2-1.8,0.5-1.8,2.9c0,1.3,1.8,0.5,1.8,1.9 c0,0.6-0.5,0.9-1.3,0.9h-1.6c-0.5,0-1,0.2-1,0.6c0,0.4,0.5,0.7,1,0.7h1.4c1,0,1.5,0.5,1.5,1c0,0.8-0.8,0.6-0.8,2.3v2.6 c0,0.7,0.3,1.1,0.7,1.1c0.6,0,1.2-0.6,1.2-2.2v-12c0-1.3,0.8-1.7,1.9-1.7h5.1c0.8,0,1.5,0.1,1.5,0.9s-0.7,0.9-1.5,0.9h-3.6 c-0.7-0.1-1.2,0.4-1.3,1.1C59.5,3.6,59.5,3.7,59.5,3.8z M52.8,4.5c0-0.7-0.6-1-1.6-1s-1.7,0.3-1.7,0.9c0,1.4,0.4,2,1.7,2 C52.3,6.4,52.8,5.8,52.8,4.5z M42.1,1.5l-6.7,0c-1.6,0-1-1.5-2.4-1.5s-0.8,1.5-2.5,1.5h-6.7c0,0,0,0,0,0c-0.6,0-1.1,0.4-1.2,1 c0.1,0.6,0.6,1,1.2,1h6.7c0.6,0,1.2,0.3,1.2,0.8c0,0.5-0.6,0.8-1.2,0.8h-5.6c-0.1,0-0.2,0-0.3,0c-0.5,0.1-0.9,0.6-0.8,1.1 s0.6,0.9,1.1,0.8H41c0.6,0,1.1-0.4,1.1-0.9c0,0,0,0,0,0c0-0.6-0.5-1-1.1-0.9h-5.5c-0.5,0-1.2-0.3-1.2-0.8c0-0.5,0.5-0.8,1.2-0.8h6.6 c0.7,0,1.2-0.4,1.2-1c0,0,0,0,0,0C43.2,1.9,42.7,1.5,42.1,1.5z M40.6,8.3l-15.3,0c-1.9,0-2.3,0.7-2.3,1.8v1.8c0,1,0.2,1.5,1.1,1.5 s1.2-0.4,1.2-1.6s0.4-1.6,1.6-1.6h0.9c1.1,0,1.6,0.2,1.6,1.6v1.7c0,1.8-0.8,3.5-4.1,3.5h-0.9c-1.1,0-1.4,0.5-1.4,1 c0,0.5,0.1,1.1,1.4,1.1h1.3c3.6,0,6.1-1.8,6.1-5.4v-2.2c0-0.1,0-0.1,0-0.2c0.1-0.7,0.7-1.2,1.3-1.2c0.7,0.1,1.2,0.7,1.2,1.3v2.2 c0,3.6,2.5,5.4,6.1,5.4h1.3c1.2,0,1.4-0.7,1.4-1.1c0-0.5-0.3-1-1.4-1h-0.9c-3.3,0-4.1-1.7-4.1-3.5v-1.7c0-1.4,0.5-1.6,1.6-1.6h0.9 c1.2,0,1.6,0.5,1.6,1.7c0,1.2,0.3,1.6,1.2,1.6c0.9,0,1.1-0.5,1.1-1.5v-1.9C42.9,9.1,42.5,8.3,40.6,8.3z\"></path></symbol>\n",
       "</svg>\n",
       "<svg class=\"p-svgs\" height=\"0px\" version=\"1.1\" width=\"0px\" xmlns=\"http://www.w3.org/2000/svg\" xmlns:xlink=\"http://www.w3.org/1999/xlink\">\n",
       "<symbol id=\"icon_plus_small\" viewbox=\"0 0 12 12\"><polygon points=\"12 5.128 6.872 5.128 6.872 0 5.128 0 5.128 5.128 0 5.128 0 6.872 5.128 6.872 5.128 12 6.872 12 6.872 6.872 12 6.872\"></polygon></symbol>\n",
       "<symbol id=\"icon_minus_small\" viewbox=\"0 0 12 12\"><polygon points=\"12 5.128 0 5.128 0 6.872 12 6.872\"></polygon></symbol>\n",
       "<symbol id=\"icon_ycontents\" viewbox=\"0 0 24 22\"><path d=\"M9.34524887,17.0900295 C9.56227328,17.1440089 9.77929769,17.1893515 9.99632211,17.2271371 L5.36393601,21.835895 C5.2594955,21.9398255 5.11775377,21.9980977 4.9700367,21.997837 C4.90949756,21.9980627 4.84934668,21.9882103 4.79207668,21.9686843 C4.59167475,21.9015268 4.44696835,21.7270071 4.41879469,21.5184964 L3.95436245,18.0638172 L0.481971841,17.5974355 C0.27233447,17.5691878 0.096908768,17.4251589 0.0292514247,17.2257406 C-0.0384059185,17.0263223 0.0133996901,16.8059843 0.162945954,16.657115 L3.92180879,12.9174248 C4.01404416,13.0836812 4.11713076,13.241301 4.21913223,13.4043187 C4.32113371,13.5673363 4.42856079,13.7163194 4.54466885,13.8674616 L1.74830929,16.6495579 L4.53273251,17.0230951 C4.78125778,17.0563683 4.9767424,17.2508559 5.01018622,17.4981135 L5.38238309,20.2618568 L8.74626149,16.9151364 C8.93398761,16.9831504 9.13907568,17.0382093 9.34524887,17.0900295 Z M5.52453408,16.9593994 L6.60965614,15.8798122 C6.45448369,15.7718535 6.30690709,15.6638948 6.15933049,15.5440606 L5.12629428,16.5729072 C5.0177135,16.6812035 5.0177135,16.8565011 5.12629428,16.9647974 C5.23514583,17.0728243 5.41134204,17.0728243 5.52019359,16.9647974 L5.52453408,16.9593994 Z M17.507537,15.7826494 L18.6903201,16.9593994 C18.7991716,17.0674264 18.9753679,17.0674264 19.0842194,16.9593994 C19.1928002,16.8511031 19.1928002,16.6758056 19.0842194,16.5675093 L17.9578627,15.4468977 C17.8113712,15.5656523 17.6594541,15.6746906 17.5064519,15.7826494 L17.507537,15.7826494 Z M23.8435648,16.657115 L20.0847019,12.9174248 C19.9924666,13.0836812 19.88938,13.241301 19.7873785,13.4043187 C19.685377,13.5673363 19.5779499,13.7163194 19.4618419,13.8674616 L22.2571163,16.6484783 L19.4792038,17.0187767 C19.2306786,17.05205 19.0351939,17.2465375 19.0017501,17.4937951 L18.6262979,20.264016 L15.2624195,16.9172955 C15.0616719,16.98423 14.857669,17.0392889 14.6504106,17.0921887 C14.4431523,17.1450885 14.2163618,17.1925903 13.9993374,17.2292963 L18.6317235,21.8380542 C18.7362317,21.9418838 18.8779294,22.0001379 19.0256228,21.9999962 C19.0861619,22.0002219 19.1463128,21.9903695 19.2035828,21.9708434 C19.4044083,21.9040238 19.5495918,21.7294361 19.5779499,21.5206556 L20.0456376,18.0659764 L23.5180282,17.603913 C23.7276655,17.5756653 23.9030912,17.4316364 23.9707486,17.2322181 C24.0384059,17.0327999 23.9866003,16.8124618 23.837054,16.6635925 L23.8435648,16.657115 Z M15.4664224,6.42910548 C15.4664224,8.32335859 13.9229542,9.85895415 12.0189896,9.85895415 C10.1150251,9.85895415 8.57155684,8.32335859 8.57155684,6.42910548 C8.57155684,4.53485236 10.1150251,2.99925681 12.0189896,2.99925681 C13.921539,3.00223055 15.4629473,4.53625952 15.4653373,6.42910548 L15.4664224,6.42910548 Z M13.9385706,6.41615043 C13.9385706,5.35901767 13.0772016,4.50204225 12.0146491,4.50204225 C10.9520967,4.50204225 10.0907277,5.35901767 10.0907277,6.41615043 C10.0907277,7.47328319 10.9520967,8.33025861 12.0146491,8.33025861 C13.0762813,8.32787857 13.9358049,7.47129052 13.9364003,6.41507085 L13.9385706,6.41615043 Z M20.3082372,8.26440379 C20.308676,11.6076101 18.2847321,14.6218453 15.1802609,15.9014367 C12.0757898,17.181028 8.50223912,16.473951 6.12611549,14.1099471 C3.74999186,11.7459432 3.03928975,8.19061999 4.32544133,5.10198364 C5.6115929,2.0133473 8.64128145,-0.000273202614 12.0016277,8.1038126e-05 C14.2073,-0.00965257605 16.3254689,0.857810195 17.8850285,2.40961776 C19.4445881,3.96142532 20.3162214,6.06890351 20.3060668,8.26332421 L20.3082372,8.26440379 Z M18.6382366,8.26440379 C18.6406123,5.4279439 16.8221291,2.90679064 14.1204345,2.00090586 C11.4187398,1.09502107 8.4373635,2.00676978 6.71356846,4.26603437 C4.98977342,6.52529896 4.9086371,9.62738379 6.51199516,11.972786 C7.03276537,10.894033 7.89667078,10.0163195 8.96979663,9.47570068 L9.13582031,9.39149287 L9.2779713,9.51240665 C9.50793721,9.70892264 9.76342202,9.87377761 10.0375567,10.0025393 L10.6343739,10.2821523 L10.0169394,10.5121044 C8.82686616,10.9575056 7.90729203,11.9205201 7.52115868,13.1257851 C10.0565201,15.4556381 13.9683218,15.4476369 16.494033,13.1074322 C16.1051079,11.9136981 15.1920764,10.9604412 14.0123589,10.5164228 L13.3938393,10.2853911 L13.9917416,10.0068576 C14.2659174,9.87861496 14.5214231,9.71410967 14.751327,9.51780458 L14.8923929,9.39689081 L15.0584165,9.48109862 C16.1215061,10.0181861 16.9789154,10.8863871 17.4999412,11.9533534 C18.2418928,10.8644057 18.6380701,9.57888379 18.6371491,8.26332421 L18.6382366,8.26440379 Z\"></path></symbol>\n",
       "<symbol id=\"icon_search\" viewbox=\"0 0 20 22\"><path d=\"M16.5429017,17.0106415 L19.6990759,20.2135956 C20.1004827,20.6230816 20.1004827,21.285263 19.6980267,21.6936842 C19.3265288,22.0706883 18.7419671,22.0996886 18.3376901,21.7806851 L18.2406045,21.6936842 L14.8745782,18.2777676 L15.1610262,18.0711941 C15.4135481,17.8894662 15.6772621,17.6968536 15.9403544,17.4939872 L16.3330497,17.1820762 L16.5429017,17.0106415 Z M12.6540972,0.707224273 C16.073833,2.1447202 18.3035601,5.53120291 18.3035601,9.2875608 C18.2977778,14.4143565 14.2038314,18.5689822 9.15191378,18.5748501 C5.45041838,18.5748501 2.11339606,16.3120747 0.696895096,12.8416526 C-0.719605868,9.37123038 0.0633701422,5.37660167 2.68072264,2.72045553 C5.29807514,0.0643093961 9.23436135,-0.730271658 12.6540972,0.707224273 Z M9.15191378,2.4088758 C6.40976439,2.4084453 3.93740844,4.08448462 2.88783725,6.65536749 C1.83826606,9.22625035 2.41820487,12.1856115 4.35719733,14.1533431 C6.29618978,16.1210748 9.21232877,16.7096093 11.7456633,15.6444817 C14.1945533,14.6148583 15.8194744,12.2360159 15.9246981,9.56488409 L15.9301338,9.2875608 C15.927134,5.48985574 12.894153,2.41239721 9.15191378,2.4088758 Z\"></path></symbol>\n",
       "<symbol id=\"icon_notice\" viewbox=\"0 0 18 22\"><path d=\"M11.6573363,18.7741877 L11.6573363,19.3678893 C11.6573363,20.8215639 10.4689429,22 9.00298527,22 C7.59341065,22 6.4404597,20.9104696 6.35385634,19.5343481 L6.34863422,19.3678893 L6.34863422,18.7741877 L11.6573363,18.7741877 Z M10.3326849,19.961591 L7.67530493,19.961591 C7.91052129,20.480142 8.43059694,20.8136579 9.00399491,20.8136579 C9.52960973,20.8136579 10.010419,20.5334119 10.2680802,20.0872879 L10.3326849,19.961591 Z M8.99995634,0 C10.5904602,0 11.8905735,1.23289214 11.9814101,2.78748934 L11.9864799,2.96149995 L11.9864799,3.20178393 C14.7476523,4.36650005 16.582134,6.99418402 16.7235291,9.9500486 L16.7318013,10.2280877 L17.0912341,13.3197415 C17.6305913,13.8686708 17.9498975,14.5906374 17.9946445,15.3511278 L18,15.5593884 L18,15.6895422 C18,15.7484603 17.9984792,15.8097982 17.9950034,15.8730461 L17.9782767,16.0680102 C17.8687964,16.9998261 17.2910329,18.2061056 15.0535568,18.2881894 L14.807422,18.2926185 L3.19148104,18.2926185 C0.750623564,18.2926185 0.135078902,17.0331052 0.0217179551,16.0680102 L0.0049954803,15.8730461 L0.0049954803,15.8730461 L0,15.6895422 L0,15.5533813 C0.00289683236,14.7921716 0.276556737,14.0587511 0.768992703,13.4805091 L0.908678563,13.3267498 L1.26811142,10.2230818 C1.3051232,7.24966235 3.05666387,4.56959422 5.75747413,3.31517451 L6.0134328,3.20178393 L6.0134328,2.96149995 C6.0134328,1.32590869 7.35054493,0 8.99995634,0 Z M9.59848128,1.92447624 C9.23080345,1.70919296 8.77415745,1.70919296 8.40647962,1.92447624 C8.07965488,2.11583916 7.86908564,2.45039209 7.83512764,2.81962258 L7.83078992,2.95949759 L7.83078992,4.53135524 L7.78636564,4.54036589 C5.12317564,5.11849498 3.20274388,7.40568518 3.0924941,10.0864556 L3.08748783,10.3312096 L2.62910997,14.2998999 L2.60083997,14.3139164 C2.16423539,14.5214929 1.87254885,14.9386963 1.82439248,15.4096405 L1.81735008,15.5523801 L1.81735008,15.6895422 C1.81735008,16.29143 2.20354849,16.4363487 2.79097695,16.4687525 L3.05451294,16.4767555 L3.05451294,16.4767555 L14.9462616,16.4767555 L14.9462616,16.4767555 L15.2096661,16.4687525 C15.7550606,16.4386632 16.1281958,16.3115586 16.1787182,15.8116492 L16.1845889,15.6895422 L16.1845889,15.5543825 C16.1861177,15.0742489 15.9342621,14.6322677 15.5276272,14.3843247 L15.401092,14.3159188 L15.372822,14.3029034 L15.372822,14.2718668 L14.9174731,10.3402203 C14.9204958,7.63480788 13.0785838,5.28194006 10.4597877,4.59974674 L10.174171,4.53135524 L10.174171,2.95949759 C10.1867011,2.53626767 9.96615911,2.13975953 9.59848128,1.92447624 Z\"></path></symbol>\n",
       "<symbol id=\"icon_app\" viewbox=\"0 0 15 22\"><path d=\"M12.0044933,0 C13.6566718,0.00525475875 14.9947149,1.33560797 15,2.97829135 L15,19.0217086 C14.9947149,20.664392 13.6566718,21.9947452 12.0044933,22 L2.99550674,22 C1.34332817,21.9947452 0.00528513278,20.664392 0,19.0217086 L0,2.97935503 C0.00469813351,1.33625627 1.34291218,0.0052578489 2.99550674,0 L12.0044933,0 Z M12.0034234,1.75612822 L2.99550674,1.75612822 C2.3170071,1.7584625 1.7675571,2.30475477 1.76520933,2.97935503 L1.76520933,19.0217086 C1.7675571,19.6963089 2.3170071,20.2426012 2.99550674,20.2449355 L12.0034234,20.2438718 C12.6819231,20.2415375 13.2313731,19.6952452 13.2337208,19.020645 L13.2337208,2.97935503 C13.2313731,2.30475477 12.6819231,1.7584625 12.0034234,1.75612822 Z M7.49946509,16.4614418 C8.16083032,16.4620752 8.7572938,16.8579082 9.01058724,17.4653362 C9.26388067,18.0727642 9.12409147,18.7720909 8.65643553,19.2370591 C8.18877959,19.7020274 7.48541057,19.8410133 6.87447147,19.5891755 C6.26353236,19.3373378 5.8654114,18.7443022 5.86584339,18.0867379 C5.86695733,17.2399935 6.51879179,16.5449253 7.35085524,16.4693213 L7.49946509,16.4614418 Z M7.34552924,17.7214944 C7.19521731,17.7833978 7.09721133,17.9292312 7.09721133,18.0909868 C7.09955705,18.3102111 7.27896696,18.4866923 7.49947097,18.4866799 L7.49947097,18.4909346 C7.66216155,18.4909346 7.80883787,18.3934918 7.87109911,18.2440438 C7.93336035,18.0945957 7.89894522,17.9225735 7.78390145,17.8081909 C7.66885768,17.6938083 7.49584117,17.659591 7.34552924,17.7214944 Z M9.53640967,2.29009331 C9.87673777,2.29009331 10.1526282,2.56439818 10.1526282,2.90277039 C10.1526282,3.2411426 9.87673777,3.51544747 9.53640967,3.51544747 L5.46359033,3.51544747 C5.12326223,3.51544747 4.8473718,3.2411426 4.8473718,2.90277039 C4.8473718,2.56439818 5.12326223,2.29009331 5.46359033,2.29009331 L9.53640967,2.29009331 Z\"></path></symbol>\n",
       "<symbol id=\"icon_mypage\" viewbox=\"0 0 16 16\"><path d=\"M4.5,8.9c0.4,0.3,0.8,0.6,1.2,0.8c-2.5,0.9-4.2,3.4-4.2,6.1H0.3c0-2,0.8-4,2.2-5.4C3.1,9.8,3.8,9.3,4.5,8.9z M8,9.5c-2.6,0-4.7-2.1-4.7-4.7c0-2.6,2.1-4.7,4.7-4.7c2.6,0,4.7,2.1,4.7,4.7C12.7,7.5,10.6,9.5,8,9.5z M11.2,4.9 c0-1.8-1.4-3.2-3.2-3.2c-1.8,0-3.2,1.4-3.2,3.2c0,1.8,1.4,3.2,3.2,3.2C9.8,8.1,11.2,6.7,11.2,4.9z M13.4,10.3 c-0.6-0.6-1.2-1-1.9-1.4c-0.4,0.3-0.8,0.6-1.2,0.8c2.5,0.9,4.2,3.4,4.2,6.1h1.2C15.7,13.7,14.9,11.8,13.4,10.3z\"></path></symbol>\n",
       "<symbol id=\"icon_help\" viewbox=\"0 0 22 22\"><path d=\"M10.9968052,0 C17.0715118,0.00528414347 21.9947159,4.92848824 22,11.0031948 C21.9982357,17.0774952 17.0732357,22.0005881 10.9989352,22 C4.92463464,21.9994119 0.000588110644,17.0753654 0,11.0010648 C-0.000588110644,4.92676426 4.92250484,0.00176433191 10.9968052,0 Z M11.0010642,2.21384387 C6.14725532,2.21325603 2.21182439,6.1472571 2.21064786,11.0010659 C2.20947239,15.8548747 6.14299655,19.7907823 10.9968052,19.7925464 C15.850088,19.7890252 19.7840665,15.8564761 19.7893514,11.0031948 C19.7893514,6.14938591 15.8548731,2.21443171 11.0010642,2.21384387 Z M12.1255564,14.6492743 L12.1255564,16.5394002 L10.208809,16.5394002 L10.208809,14.6492743 L12.1255564,14.6492743 Z M13.5409874,6.54789818 C14.2009524,7.12037851 14.5953981,7.93984792 14.6311712,8.81277852 C14.6311712,9.82073474 14.1953274,10.4026889 13.5149807,11.0526996 L13.18431,11.3593361 C13.126537,11.4118472 13.0674913,11.4652108 13.0072602,11.5196518 C12.2657326,11.9712922 11.8775338,12.8318419 12.029719,13.6866412 L10.2876086,13.6866412 C10.0769824,12.4678483 10.6056918,11.2396221 11.635721,10.5548889 L11.9705886,10.2770833 L11.9705886,10.2770833 L12.2480957,10.0377527 C12.706222,9.62673358 12.8911905,9.34769302 12.8911905,8.85963235 C12.8911905,8.04075527 12.1915777,7.39438546 11.0681508,7.39438546 C10.0914956,7.40252002 9.16857926,7.84272811 8.54762795,8.59661201 L7.96302,7.00358196 C8.8272281,6.20338038 9.967214,5.76806448 11.1448207,5.7885771 C12.0140515,5.70068351 12.8810224,5.97541784 13.5409874,6.54789818 Z\"></path></symbol>\n",
       "<symbol id=\"icon_hmenu\" viewbox=\"0 0 20 22\"><path d=\"M20,16 L20,18 L0,18 L0,16 L20,16 Z M20,10 L20,12 L0,12 L0,10 L20,10 Z M20,4 L20,6 L0,6 L0,4 L20,4 Z\"></path></symbol>\n",
       "<symbol id=\"icon_close\" viewbox=\"0 0 30 30\"><polygon points=\"30,2.7 27.3,0 15,12.3 2.7,0 0,2.7 12.3,15 0,27.3 2.7,30 15,17.7 27.3,30 30,27.3 17.7,15 \"></polygon></symbol>\n",
       "<symbol id=\"icon_dots\" viewbox=\"0 0 25 5\"><path d=\"M2.5,0 C3.88071187,0 5,1.11928813 5,2.5 C5,3.88071187 3.88071187,5 2.5,5 C1.11928813,5 0,3.88071187 0,2.5 C0,1.11928813 1.11928813,0 2.5,0 Z M12.5,0 C13.8807119,0 15,1.11928813 15,2.5 C15,3.88071187 13.8807119,5 12.5,5 C11.1192881,5 10,3.88071187 10,2.5 C10,1.11928813 11.1192881,0 12.5,0 Z M22.5,0 C23.8807119,0 25,1.11928813 25,2.5 C25,3.88071187 23.8807119,5 22.5,5 C21.1192881,5 20,3.88071187 20,2.5 C20,1.11928813 21.1192881,0 22.5,0 Z\"></path></symbol>\n",
       "<symbol id=\"icon_points\" viewbox=\"0 0 30 30\"><path d=\"M15.6,6.9h-4.2v9.7h2v-3.5h2c0.9,0.1,1.7-0.2,2.4-0.7c0.6-0.6,0.9-1.5,0.8-2.4l0,0c0.1-0.9-0.2-1.7-0.9-2.3 C17.3,7.1,16.4,6.8,15.6,6.9z M16.4,11.1c-0.3,0.2-0.7,0.4-1.1,0.4h-1.8V8.5h1.8c0.4,0,0.8,0.1,1.1,0.3c0.3,0.3,0.4,0.7,0.4,1.1l0,0 C16.8,10.4,16.6,10.8,16.4,11.1z M11.5,22.6c0.3,0.1,0.5,0.1,0.8,0.2l-5.7,5.7c-0.1,0.1-0.3,0.2-0.5,0.2c-0.1,0-0.1,0-0.2,0 c-0.2-0.1-0.4-0.3-0.5-0.6l-0.6-4.3l-4.3-0.6C0.2,23.2,0,22.9,0,22.5c0-0.1,0.1-0.3,0.2-0.4l4.6-4.6c0.1,0.2,0.2,0.4,0.4,0.6 s0.3,0.4,0.4,0.6l-3.4,3.4l3.4,0.5c0.3,0,0.5,0.3,0.6,0.6l0.5,3.4l4.1-4.1C11,22.5,11.2,22.6,11.5,22.6z M6.3,22.5L6.3,22.5 c-0.1-0.1-0.1-0.4,0-0.5l1.3-1.3C7.8,20.8,8,21,8.1,21.1l-1.3,1.3c0,0,0,0,0,0C6.7,22.6,6.5,22.6,6.3,22.5z M29.5,22.5 c0,0.4-0.2,0.7-0.6,0.8l-4.3,0.6l-0.6,4.3c0,0.3-0.2,0.5-0.5,0.6c-0.1,0-0.1,0-0.2,0c-0.2,0-0.4-0.1-0.5-0.2l-5.7-5.7 c0.3,0,0.5-0.1,0.8-0.2c0.3-0.1,0.5-0.1,0.8-0.2l4.1,4.1l0.5-3.4c0-0.3,0.3-0.5,0.6-0.6l3.4-0.5l-3.4-3.4c0.1-0.2,0.3-0.4,0.4-0.6 c0.1-0.2,0.3-0.4,0.4-0.6l4.6,4.6l0,0C29.4,22.2,29.5,22.3,29.5,22.5z M22.1,20.6l1.4,1.4c0.1,0.1,0.1,0.2,0.1,0.2 c0,0.2-0.2,0.3-0.3,0.3l0,0c-0.1,0-0.2,0-0.2-0.1L21.5,21C21.7,20.9,21.9,20.7,22.1,20.6z M25,11.7L25,11.7 c0-5.6-4.6-10.2-10.2-10.2C9.1,1.5,4.6,6.1,4.6,11.7c0,5.6,4.6,10.2,10.2,10.2C20.4,21.9,25,17.4,25,11.7z M14.8,19.9 C14.8,19.9,14.8,19.9,14.8,19.9c-4.5,0-8.2-3.7-8.2-8.2s3.7-8.2,8.2-8.2s8.2,3.7,8.2,8.2l0,0C22.9,16.2,19.3,19.9,14.8,19.9z\"></path></symbol>\n",
       "</svg>\n",
       "<div class=\"home-2020-ad-wide\">\n",
       "<div id=\"ad_dfp_banner\">\n",
       "<script>googletag.cmd.push(function() {googletag.display('ad_dfp_banner'); });</script>\n",
       "</div>\n",
       "</div>\n",
       "<header class=\"p-header\">\n",
       "<div class=\"p-header__wrapper\">\n",
       "<div class=\"p-header__all\">\n",
       "<a class=\"js-header-globalnav-show\" type=\"button\"><svg><use xlink:href=\"/assets/images/common/dc-header-20230630032416.svg#icon_hmenu\"></use></svg>すべて</a>\n",
       "</div>\n",
       "<div class=\"p-header__logo\">\n",
       "<h1> <a href=\"/\"><img alt=\"読売新聞オンライン\" src=\"/assets/images/common/dc-2021_logo_yol-20230630032416.svg\"/></a>\n",
       "</h1> </div>\n",
       "<div class=\"p-header__member\">\n",
       "<div class=\"loginsignup\"><a href=\"/member/login/\">ログイン・登録</a></div>\n",
       "<div class=\"login\"><a href=\"/member/login/\">ログイン</a></div>\n",
       "<div class=\"signup\"><a href=\"/member/reg_top/\">新規登録</a></div>\n",
       "</div>\n",
       "<div class=\"p-header__tools\">\n",
       "<div class=\"search\"><a href=\"/web-search/\"><svg><use xlink:href=\"/assets/images/common/dc-header-20230630032416.svg#icon_search\"></use></svg>さがす</a></div>\n",
       "<div class=\"help\"><a href=\"/help/\"><svg><use xlink:href=\"/assets/images/common/dc-header-20230630032416.svg#icon_help\"></use></svg>ヘルプ</a></div>\n",
       "<div class=\"info\"><a href=\"/info/\"><svg><use xlink:href=\"/assets/images/common/dc-header-20230630032416.svg#icon_notice\"></use></svg>お知らせ</a></div>\n",
       "<div class=\"app\"><a href=\"/yomiuri-app/\"><svg><use xlink:href=\"/assets/images/common/dc-header-20230630032416.svg#icon_app\"></use></svg>アプリ</a></div>\n",
       "<div class=\"subscribe\"><a class=\"js-header-subscribe\" href=\"https://lp.434381.yomiuri.co.jp/yomiuri/all/kakaku2023?utm_source=ysol&amp;utm_medium=topbanner\" target=\"_blank\">購読お申し込み</a></div>\n",
       "</div>\n",
       "<div class=\"p-header__nav js-header-action-btn\">\n",
       "<ul>\n",
       "<li><a href=\"/\">トップ</a></li>\n",
       "<li><a href=\"/feature/titlelist/ukraine_news/\">ウクライナ</a></li>\n",
       "<li><a href=\"/topics/covid19/\">新型コロナ</a></li>\n",
       "<li class=\"subnav\">\n",
       "<a href=\"https://pageviewer.yomiuri.co.jp/shimen/login\">紙面ビューアー</a>\n",
       "<div class=\"list\">\n",
       "<ul>\n",
       "<li><a href=\"https://pageviewer.yomiuri.co.jp/shimen/login\">朝刊紙面</a></li>\n",
       "<li><a href=\"https://pageviewer.yomiuri.co.jp/shimen/login?KPVal=memCh\">地域版</a></li>\n",
       "<li><a href=\"https://pageviewer.yomiuri.co.jp/shimen/login?CLFlg=1\">おくやみ</a></li>\n",
       "</ul>\n",
       "</div>\n",
       "</li>\n",
       "<li class=\"subnav\">\n",
       "<a href=\"/opinion/\">オピニオン</a>\n",
       "<div class=\"list\">\n",
       "<ul>\n",
       "<li><a href=\"/editorial/\">社説</a></li>\n",
       "<li><a href=\"/commentary/\">解説</a></li>\n",
       "<li><a href=\"/choken/\">調査研究</a></li>\n",
       "</ul>\n",
       "</div>\n",
       "</li>\n",
       "<li class=\"subnav\">\n",
       "<a href=\"/rensai/\">連載</a>\n",
       "<div class=\"list\">\n",
       "<ul>\n",
       "<li><a href=\"/serial/jidai/\">時代の証言者</a></li>\n",
       "<li><a href=\"/feature/titlelist/世界秩序の行方/\">世界秩序の行方</a></li>\n",
       "<li><a href=\"/feature/titlelist/情報偏食/\">情報偏食</a></li>\n",
       "<li><a href=\"/medical/renaissance/\">医療ルネサンス</a></li>\n",
       "<li><a href=\"/feature/titlelist/あれから/\">あれから</a></li>\n",
       "<li><a href=\"/feature/titlelist/Ｎｅｗ門/\">New門</a></li>\n",
       "<li><a href=\"/serial/webkiryu/\">Web気流</a></li>\n",
       "<li><a href=\"/jinsei/\">人生案内</a></li>\n",
       "<li><a href=\"/novel/\">連載小説</a></li>\n",
       "<li><a href=\"/comic/\">コボちゃん・漫画</a></li>\n",
       "<li><a href=\"/feature/titlelist/nameko/\">辛酸なめ子の女子校探訪</a></li>\n",
       "<li> <a href=\"/rensai/\" style=\"text-decoration:underline;\">[もっと見る]</a></li>\n",
       "</ul>\n",
       "</div>\n",
       "</li>\n",
       "<li class=\"subnav\">\n",
       "<a href=\"/column/\">コラム</a>\n",
       "<div class=\"list\">\n",
       "<ul>\n",
       "<li><a href=\"/note/hensyu-techo/\">編集手帳</a></li>\n",
       "<li><a href=\"/note/yomiuri-sunpyo/\">よみうり寸評</a></li>\n",
       "<li><a href=\"/column/nyancology/\">猫学（ニャンコロジー）</a></li>\n",
       "<li><a href=\"/column/matsurigoto/\">まつりごと点描</a></li>\n",
       "<li><a href=\"/column/anshin/\">安心コンパス</a></li>\n",
       "<li><a href=\"/column/politics01/\">デスクの目～政治部</a></li>\n",
       "<li><a href=\"/column/economy03/\">デスクの目～経済部</a></li>\n",
       "<li><a href=\"/column/civil02/\">デスクの目～社会部</a></li>\n",
       "<li><a href=\"/column/japanesehistory/\">今につながる日本史</a></li>\n",
       "<li><a href=\"/column/japanesejazz/\">日本ジャズの断面</a></li>\n",
       "<li><a href=\"/column/naruhodo/\">なるほど！医療</a></li>\n",
       "<li><a href=\"/column/spotlight/\">スポットライト</a></li>\n",
       "<li><a href=\"/column/chottomae/\"> ちょっと前はどうだっけ？</a></li>\n",
       "<li><a href=\"/column/henshu/\">編集委員の目</a></li>\n",
       "<li><a href=\"/column/wideangle/\">広角多角</a></li>\n",
       "<li><a href=\"/column/opinionpoll/\">「世論」を見る</a></li>\n",
       "<li><a href=\"/column/dakarasports/\">だからスポーツは面白い</a></li>\n",
       "<li><a href=\"/column/dreamchaser/\">挑む―科学の現場から</a></li>\n",
       "</ul>\n",
       "</div>\n",
       "</li>\n",
       "<li class=\"subnav dots\">\n",
       "<a href=\"\"><svg><use xlink:href=\"#icon_2021_dots\"></use></svg></a>\n",
       "<div class=\"list\">\n",
       "<ul>\n",
       "<li><a href=\"/special/\">特集</a></li>\n",
       "<li><a href=\"/stream/\">動画</a></li>\n",
       "<li><a href=\"/photograph/\">写真</a></li>\n",
       "<li><a href=\"/help/toukou/\">投稿・情報提供</a></li>\n",
       "</ul>\n",
       "</div>\n",
       "</li>\n",
       "<li class=\"limited\"><a href=\"/special/\">特集</a></li>\n",
       "<li class=\"limited\"><a href=\"/stream/\">動画</a></li>\n",
       "<li class=\"limited\"><a href=\"/photograph/\">写真</a></li>\n",
       "<li><a href=\"https://yomipo.yomiuri.co.jp/\"><em>よみぽランド</em></a></li>\n",
       "<li><a href=\"/sudoku/\"><em>数独</em></a></li>\n",
       "<li><a href=\"/otekomachi/\"><em>大手小町</em></a></li>\n",
       "<li><a href=\"https://komachi.yomiuri.co.jp/\"><em>発言小町</em></a></li>\n",
       "<li><a href=\"https://yomidr.yomiuri.co.jp/\"><em>ヨミドクター</em></a></li>\n",
       "</ul>\n",
       "</div>\n",
       "<link as=\"font\" crossorigin=\"\" href=\"https://cdn.jsdelivr.net/npm/yakuhanjp@3.4.1/dist/fonts/YakuHanJP/YakuHanJP-Regular.woff2\" rel=\"preload\" type=\"font/woff2\">\n",
       "<link as=\"font\" crossorigin=\"\" href=\"https://cdn.jsdelivr.net/npm/yakuhanjp@3.4.1/dist/fonts/YakuHanJP/YakuHanJP-Bold.woff2\" rel=\"preload\" type=\"font/woff2\">\n",
       "<link href=\"https://cdn.jsdelivr.net/npm/yakuhanjp@3.4.1/dist/css/yakuhanjp.min.css\" rel=\"stylesheet\"/>\n",
       "<div class=\"p-header__globalnav js-header-globalnav\">\n",
       "<div class=\"p-header__globalnav__layout-header\">\n",
       "<div class=\"yheader\">\n",
       "<div class=\"subscribe\"><a href=\"https://lp.434381.yomiuri.co.jp/yomiuri/all/kakaku2023?utm_source=ysol&amp;utm_medium=topbanner\">購読お申し込み</a></div>\n",
       "<ul class=\"support\">\n",
       "<li><a href=\"/web-search/\"><svg><use xlink:href=\"/assets/images/common/dc-header-20230630032416.svg#icon_search\"></use></svg><span>さがす</span></a></li>\n",
       "<li><a href=\"/help/\"><svg><use xlink:href=\"/assets/images/common/dc-header-20230630032416.svg#icon_help\"></use></svg><span>ヘルプ</span></a></li>\n",
       "<li><a href=\"/info/\"><svg><use xlink:href=\"/assets/images/common/dc-header-20230630032416.svg#icon_notice\"></use></svg><span>お知らせ</span></a></li>\n",
       "<li><a href=\"/yomiuri-app/\"><svg><use xlink:href=\"/assets/images/common/dc-header-20230630032416.svg#icon_app\"></use></svg><span>アプリ</span></a></li>\n",
       "</ul>\n",
       "<div class=\"close\"><a class=\"js-header-globalnav-hide\"><svg><use xlink:href=\"/assets/images/common/dc-header-20230630032416.svg#icon_close\"></use></svg><span>閉じる</span></a></div>\n",
       "</div>\n",
       "</div>\n",
       "<!-- yol-header-tile -->\n",
       "<div class=\"p-header__globalnav__layout-left\">\n",
       "<div class=\"ymenu\">\n",
       "<div class=\"ymenu-navset\">\n",
       "<div class=\"ymenu-navset__header js-header-globalnav-ymenu-navset-header\">\n",
       "<div class=\"link\"><a href=\"/news/\">ニュース<svg><use xlink:href=\"#arrow_r\"></use></svg></a></div>\n",
       "<div class=\"more js-header-globalnav-ymenu-navset-more\"><a>\n",
       "<svg><use xlink:href=\"/assets/images/common/dc-header-20230630032416.svg#icon_minus_small\"></use></svg>\n",
       "</a></div>\n",
       "</div>\n",
       "<div class=\"ymenu-navset__body js-header-globalnav-ymenu-navset-contents active\">\n",
       "<ul>\n",
       "<li><a href=\"/news/\">新着</a></li>\n",
       "<li><a href=\"/national/\">社会</a></li>\n",
       "<li><a href=\"/politics/\">政治</a></li>\n",
       "<li><a href=\"/economy/\">経済</a></li>\n",
       "<li><a href=\"/sports/\">スポーツ</a></li>\n",
       "<li><a href=\"/world/\">国際</a></li>\n",
       "<li><a href=\"/local/\">地域</a></li>\n",
       "<li><a href=\"/science/\">科学・IT</a></li>\n",
       "<li><a href=\"/culture/\">エンタメ・文化</a></li>\n",
       "<li><a href=\"/life/\">ライフ</a></li>\n",
       "<li><a href=\"/medical/\">医療・健康</a></li>\n",
       "<li><a href=\"/kyoiku/\">教育・就活</a></li>\n",
       "</ul>\n",
       "<ul class=\"for-small-device\">\n",
       "<li><a href=\"/opinion/\">社説・解説（オピニオン）<svg><use xlink:href=\"#arrow_r\"></use></svg></a></li>\n",
       "<li><a href=\"/rensai/\">連載<svg><use xlink:href=\"#arrow_r\"></use></svg></a></li>\n",
       "<li><a href=\"/column/\">コラム<svg><use xlink:href=\"#arrow_r\"></use></svg></a></li>\n",
       "<li><a href=\"/special/\">特集<svg><use xlink:href=\"#arrow_r\"></use></svg></a></li>\n",
       "<li><a href=\"/stream/\">動画<svg><use xlink:href=\"#arrow_r\"></use></svg></a></li>\n",
       "<li><a href=\"/photograph/\">写真<svg><use xlink:href=\"#arrow_r\"></use></svg></a></li>\n",
       "</ul>\n",
       "</div>\n",
       "</div>\n",
       "<div class=\"ymenu-navset\">\n",
       "<div class=\"ymenu-navset__header js-header-globalnav-ymenu-navset-header\">\n",
       "<div class=\"link\"><a href=\"/opinion/\">社説・解説（オピニオン）<svg><use xlink:href=\"#arrow_r\"></use></svg></a></div>\n",
       "<div class=\"more js-header-globalnav-ymenu-navset-more\"><a>\n",
       "<svg><use xlink:href=\"/assets/images/common/dc-header-20230630032416.svg#icon_plus_small\"></use></svg>\n",
       "</a></div>\n",
       "</div>\n",
       "<div class=\"ymenu-navset__body js-header-globalnav-ymenu-navset-contents\">\n",
       "<ul>\n",
       "<li><a href=\"/editorial/\">社説</a></li>\n",
       "<li><a href=\"/commentary/\">解説</a></li>\n",
       "<li><a href=\"/choken/\">調査研究</a></li>\n",
       "</ul>\n",
       "</div>\n",
       "</div>\n",
       "<div class=\"ymenu-navset\">\n",
       "<div class=\"ymenu-navset__header js-header-globalnav-ymenu-navset-header\">\n",
       "<div class=\"link\"><a href=\"/rensai/\">連載<svg><use xlink:href=\"#arrow_r\"></use></svg></a></div>\n",
       "<div class=\"more js-header-globalnav-ymenu-navset-more\"><a>\n",
       "<svg><use xlink:href=\"/assets/images/common/dc-header-20230630032416.svg#icon_plus_small\"></use></svg>\n",
       "</a></div>\n",
       "</div>\n",
       "<div class=\"ymenu-navset__body js-header-globalnav-ymenu-navset-contents\">\n",
       "<ul>\n",
       "<li><a href=\"/serial/jidai/\">時代の証言者</a></li>\n",
       "<li><a href=\"/serial/earth/\">地球を読む</a></li>\n",
       "<li><a href=\"/feature/titlelist/%E6%94%BF%E6%B2%BB%E3%81%AE%E7%8F%BE%E5%A0%B4/\">政治の現場</a></li>\n",
       "<li><a href=\"/medical/renaissance/\">医療ルネサンス</a></li>\n",
       "<li><a href=\"/feature/titlelist/あれから/\">あれから</a></li>\n",
       "<li><a href=\"/feature/titlelist/Ｎｅｗ門/\">New門</a></li>\n",
       "<li><a href=\"/serial/webkiryu/\">Web気流</a></li>\n",
       "<li><a href=\"/jinsei/\">人生案内</a></li>\n",
       "<li><a href=\"/novel/\">連載小説</a></li>\n",
       "<li><a href=\"/comic/\">漫画</a></li>\n",
       "<li><a href=\"/serial/webkiryu/kiryu/\">投書</a></li>\n",
       "<li><a href=\"/serial/webkiryu/senryu/\">時事川柳</a></li>\n",
       "<li><a href=\"/feature/getsuroku/\">NEWS月録</a></li>\n",
       "<li><a href=\"/rensai/\" style=\"text-decoration:underline;\">[もっと見る]</a></li>\n",
       "</ul>\n",
       "</div>\n",
       "</div>\n",
       "<div class=\"ymenu-navset\">\n",
       "<div class=\"ymenu-navset__header js-header-globalnav-ymenu-navset-header\">\n",
       "<div class=\"link\"><a href=\"/column/\">コラム<svg><use xlink:href=\"#arrow_r\"></use></svg></a></div>\n",
       "<div class=\"more js-header-globalnav-ymenu-navset-more\"><a>\n",
       "<svg><use xlink:href=\"/assets/images/common/dc-header-20230630032416.svg#icon_plus_small\"></use></svg>\n",
       "</a></div>\n",
       "</div>\n",
       "<div class=\"ymenu-navset__body js-header-globalnav-ymenu-navset-contents\">\n",
       "<ul>\n",
       "<li><a href=\"/note/hensyu-techo/\">編集手帳</a></li>\n",
       "<li><a href=\"/note/yomiuri-sunpyo/\">よみうり寸評</a></li>\n",
       "<li><a href=\"/column/history/\">「世界と日本」史</a></li>\n",
       "<li><a href=\"/column/matsurigoto/\">まつりごと点描</a></li>\n",
       "<li><a href=\"/column/anshin/\">安心コンパス</a></li>\n",
       "<li><a href=\"/column/japanesehistory/\">今につながる日本史</a></li>\n",
       "<li><a href=\"/column/japanesejazz/\">日本ジャズの断面</a></li>\n",
       "<li><a href=\"/column/naruhodo/\">なるほど！医療</a></li>\n",
       "<li><a href=\"/column/spotlight/\">スポットライト</a></li>\n",
       "<li><a href=\"/column/chottomae/\"> ちょっと前はどうだっけ？</a></li>\n",
       "<li><a href=\"/column/henshu/\">編集委員の目</a></li>\n",
       "<li><a href=\"/column/wideangle/\">広角多角</a></li>\n",
       "<li><a href=\"/column/opinionpoll/\">「世論」を見る</a></li>\n",
       "<li><a href=\"/column/\" style=\"text-decoration:underline;\">[もっと見る]</a></li>\n",
       "</ul>\n",
       "</div>\n",
       "</div>\n",
       "<div class=\"ymenu-navset\">\n",
       "<div class=\"ymenu-navset__header js-header-globalnav-ymenu-navset-header\">\n",
       "<div class=\"link\"><a href=\"/special/\">特集<svg><use xlink:href=\"#arrow_r\"></use></svg></a></div>\n",
       "<div class=\"more js-header-globalnav-ymenu-navset-more\"><a>\n",
       "<svg><use xlink:href=\"/assets/images/common/dc-header-20230630032416.svg#icon_plus_small\"></use></svg>\n",
       "</a></div>\n",
       "</div>\n",
       "<div class=\"ymenu-navset__body js-header-globalnav-ymenu-navset-contents\">\n",
       "<ul>\n",
       "<li><a href=\"/topics/covid19/\">新型コロナ</a></li>\n",
       "<li><a href=\"/olympic/\">オリンピック</a></li>\n",
       "<li><a href=\"/kyoiku/kyoiku/stop01/\">#STOP自殺 しんどい君へ</a></li>\n",
       "<li><a href=\"/koushitsu/\">皇室</a></li>\n",
       "<li><a href=\"/hakone-ekiden/\">箱根駅伝</a></li>\n",
       "<li><a href=\"/feature/top10news/\">読者が選ぶ10大ニュース</a></li>\n",
       "<li><a href=\"/shinsai311/\">東日本大震災</a></li>\n",
       "<li><a href=\"/feature/titlelist/%E5%A5%B3%E6%80%A7%E5%88%91%E5%8B%99%E6%89%80/\">女性刑務所</a></li>\n",
       "<li><a href=\"/feature/titlelist/%E8%A8%B1%E3%81%99%E3%81%AA%E3%80%80%E3%82%8F%E3%81%84%E3%81%9B%E3%81%A4%E6%95%99%E5%93%A1/\">許すな わいせつ教員</a></li>\n",
       "<li><a href=\"/serial/showashi/\">昭和史の天皇</a></li>\n",
       "<li><a href=\"/topics/\">トピックス</a></li>\n",
       "<li><a href=\"/special/\" style=\"text-decoration:underline;\">[もっと見る]</a></li>\n",
       "</ul>\n",
       "</div>\n",
       "</div>\n",
       "<div class=\"ymenu-navset\">\n",
       "<div class=\"ymenu-navset__header js-header-globalnav-ymenu-navset-header\">\n",
       "<div class=\"link\"><a href=\"/stream/\">動画<svg><use xlink:href=\"#arrow_r\"></use></svg></a></div>\n",
       "<div class=\"more js-header-globalnav-ymenu-navset-more\"><a>\n",
       "<svg><use xlink:href=\"/assets/images/common/dc-header-20230630032416.svg#icon_plus_small\"></use></svg>\n",
       "</a></div>\n",
       "</div>\n",
       "<div class=\"ymenu-navset__body js-header-globalnav-ymenu-navset-contents\">\n",
       "<ul>\n",
       "<li><a href=\"/stream/1/\">新着動画</a></li>\n",
       "<li><a href=\"/stream/2/\">注目動画</a></li>\n",
       "<li><a href=\"/stream/64/\">バーチャル紀行</a></li>\n",
       "<li><a href=\"/stream/form/\">動画の投稿</a></li>\n",
       "<li><a href=\"/stream/\" style=\"text-decoration:underline;\">[もっと見る]</a></li>\n",
       "</ul>\n",
       "</div>\n",
       "</div>\n",
       "<div class=\"ymenu-navset\">\n",
       "<div class=\"ymenu-navset__header js-header-globalnav-ymenu-navset-header\">\n",
       "<div class=\"link\"><a href=\"/photograph/\">写真<svg><use xlink:href=\"#arrow_r\"></use></svg></a></div>\n",
       "<div class=\"more js-header-globalnav-ymenu-navset-more\"><a>\n",
       "<svg><use xlink:href=\"/assets/images/common/dc-header-20230630032416.svg#icon_plus_small\"></use></svg>\n",
       "</a></div>\n",
       "</div>\n",
       "<div class=\"ymenu-navset__body js-header-globalnav-ymenu-navset-contents\">\n",
       "<ul>\n",
       "<li><a href=\"/photograph/kyoshitsu/\">撮ろうよ！～写真投稿</a></li>\n",
       "<li><a href=\"/photograph/kataru/\">今日の写真は語る</a></li>\n",
       "<li><a href=\"/photograph/digital/\">デジタルストーリー</a></li>\n",
       "<li><a href=\"/photograph/\" style=\"text-decoration:underline;\">[もっと見る]</a></li>\n",
       "</ul>\n",
       "</div>\n",
       "</div>\n",
       "<div class=\"ymenu-navset\">\n",
       "<div class=\"ymenu-navset__header js-header-globalnav-ymenu-navset-header\">\n",
       "<div class=\"link\">読者会員メニュー</div>\n",
       "<div class=\"more js-header-globalnav-ymenu-navset-more\"><a>\n",
       "<svg><use xlink:href=\"/assets/images/common/dc-header-20230630032416.svg#icon_plus_small\"></use></svg>\n",
       "</a></div>\n",
       "</div>\n",
       "<div class=\"ymenu-navset__body js-header-globalnav-ymenu-navset-contents\">\n",
       "<ul>\n",
       "<li><a href=\"/member/mynews/\">myニュース</a></li>\n",
       "<li><a href=\"/member/scrap/\">スクラップ</a></li>\n",
       "<li><a href=\"/web-search/?st=2\">紙面記事検索</a></li>\n",
       "</ul>\n",
       "</div>\n",
       "</div>\n",
       "<div class=\"ymenu-navset\">\n",
       "<div class=\"ymenu-navset__header js-header-globalnav-ymenu-navset-header\">\n",
       "<div class=\"link\">サービス</div>\n",
       "<div class=\"more js-header-globalnav-ymenu-navset-more\"><a>\n",
       "<svg><use xlink:href=\"/assets/images/common/dc-header-20230630032416.svg#icon_plus_small\"></use></svg>\n",
       "</a></div>\n",
       "</div>\n",
       "<div class=\"ymenu-navset__body js-header-globalnav-ymenu-navset-contents\">\n",
       "<ul>\n",
       "<li><a href=\"https://yomipo.yomiuri.co.jp/\">よみぽランド</a></li>\n",
       "<li><a href=\"/sudoku/\">数独</a></li>\n",
       "<li><a href=\"/crossword/\">クロスワード</a></li>\n",
       "<li><a href=\"/slitherlink/\">スリザーリンク</a></li>\n",
       "<li><a href=\"/feature/titlelist/%E3%82%80%E3%81%9A%E3%82%80%E3%81%9A%E3%83%91%E3%82%BA%E3%83%AB/\">むずむずパズル</a></li>\n",
       "<li><a href=\"/life/horoscope/\">占い</a></li>\n",
       "<li><a href=\"/pokemon/\">日刊！ポケモン</a></li>\n",
       "<li><a href=\"/weather/\">天気</a></li>\n",
       "<li><a href=\"/market/\">株・為替</a></li>\n",
       "<li><a href=\"/traffic/\">交通情報</a></li>\n",
       "<li><a href=\"/coupon/\">おでかけクーポン</a></li>\n",
       "<li><a href=\"https://artexhibition.jp/\">美術展ナビ</a></li>\n",
       "<li><a href=\"https://ticket.yomiuri.co.jp/\">チケットストア</a></li>\n",
       "</ul>\n",
       "</div>\n",
       "</div>\n",
       "<div class=\"ymenu-navset\">\n",
       "<div class=\"ymenu-navset__header js-header-globalnav-ymenu-navset-header\">\n",
       "<div class=\"link\"><a href=\"/help/toukou/\">投稿・情報提供<svg><use xlink:href=\"#arrow_r\"></use></svg></a></div>\n",
       "<div class=\"more js-header-globalnav-ymenu-navset-more\"><a>\n",
       "<svg><use xlink:href=\"/assets/images/common/dc-header-20230630032416.svg#icon_plus_small\"></use></svg>\n",
       "</a></div>\n",
       "</div>\n",
       "<div class=\"ymenu-navset__body js-header-globalnav-ymenu-navset-contents\">\n",
       "<ul>\n",
       "<li><a href=\"https://form.qooker.jp/Q/ja/yomi/kiryu/\">投稿</a></li>\n",
       "<li><a href=\"/joho/\">情報提供</a></li>\n",
       "</ul>\n",
       "</div>\n",
       "</div>\n",
       "</div>\n",
       "</div>\n",
       "<div class=\"p-header__globalnav__layout-right\">\n",
       "<div class=\"ycontents\">\n",
       "<ul>\n",
       "<li>\n",
       "<figure><a href=\"https://yomipo.yomiuri.co.jp/\"><img alt=\"よみぽランド\" loading=\"lazy\" src=\"/assets/images/header/2021/dc-header_ycontents_yomipo-20230630032416.png\"/></a></figure>\n",
       "<div class=\"name\"><a href=\"https://yomipo.yomiuri.co.jp/\">よみぽランド</a></div>\n",
       "</li>\n",
       "<li>\n",
       "<div class=\"memberonly\">会員限定</div>\n",
       "<figure><a href=\"/sudoku/\"><img alt=\"数独\" loading=\"lazy\" src=\"/media/2023/06/sudoku_icon_202306.png\"/></a></figure>\n",
       "<div class=\"name\"><a href=\"/sudoku/\">数独</a></div>\n",
       "</li>\n",
       "<li>\n",
       "<div class=\"memberonly\">会員限定</div>\n",
       "<figure><a href=\"/crossword/\"><img alt=\"クロスワード\" loading=\"lazy\" src=\"/media/2023/06/crossword_icon_202306-1.png\"/></a></figure>\n",
       "<div class=\"name\"><a href=\"/crossword/\">クロスワード</a></div>\n",
       "</li>\n",
       "<li>\n",
       "<div class=\"memberonly\">会員限定</div>\n",
       "<figure><a href=\"/slitherlink/\"><img alt=\"スリザーリンク\" loading=\"lazy\" src=\"/media/2023/06/slitherlink_icon_202306.png\"/></a></figure>\n",
       "<div class=\"name\"><a href=\"/slitherlink/\">スリザーリンク</a></div>\n",
       "</li>\n",
       "<li>\n",
       "<figure><a href=\"/otekomachi/\"><img alt=\"大手小町\" loading=\"lazy\" src=\"/assets/images/header/dc-header_ycontents_otekomachi_v2-20230630032416.png\"/></a></figure>\n",
       "<div class=\"name\"><a href=\"/otekomachi/\">大手小町</a></div>\n",
       "</li>\n",
       "<li>\n",
       "<figure><a href=\"https://komachi.yomiuri.co.jp/\"><img alt=\"発言小町\" loading=\"lazy\" src=\"/assets/images/header/2021/dc-header_ycontents_komachi-20230630032416.png\"/></a></figure>\n",
       "<div class=\"name\"><a href=\"https://komachi.yomiuri.co.jp/\">発言小町</a></div>\n",
       "</li>\n",
       "<li>\n",
       "<figure><a href=\"https://yomidr.yomiuri.co.jp/\"><img alt=\"ヨミドクター\" loading=\"lazy\" src=\"/assets/images/header/2021/dc-header_ycontents_yomidr-20230630032416.png\"/></a></figure>\n",
       "<div class=\"name\"><a href=\"https://yomidr.yomiuri.co.jp/\">ヨミドクター</a></div>\n",
       "</li>\n",
       "<li>\n",
       "<div class=\"memberonly\">会員限定</div>\n",
       "<figure><a href=\"/novel/\"><img alt=\"連載小説\" loading=\"lazy\" src=\"/assets/images/header/2021/dc-header_ycontents_rensai-20230630032416.png\"/></a></figure>\n",
       "<div class=\"name\"><a href=\"/novel/\">連載小説</a></div>\n",
       "</li>\n",
       "<li>\n",
       "<div class=\"memberonly\">会員限定</div>\n",
       "<figure><a href=\"/jinsei/\"><img alt=\"人生案内\" loading=\"lazy\" src=\"/assets/images/header/2021/dc-header_ycontents_jinsei-20230630032416.png\"/></a></figure>\n",
       "<div class=\"name\"><a href=\"/jinsei/\">人生案内</a></div>\n",
       "</li>\n",
       "<li>\n",
       "<div class=\"memberonly\">会員限定</div>\n",
       "<figure><a href=\"/feature/titlelist/むずむずパズル/\"><img alt=\"むずむずパズル\" loading=\"lazy\" src=\"/assets/images/header/2021/dc-header_ycontents_puzzle-20230630032416.png\"/></a></figure>\n",
       "<div class=\"name\"><a href=\"/feature/titlelist/むずむずパズル/\">むずむずパズル</a></div>\n",
       "</li>\n",
       "<li>\n",
       "<figure><a href=\"/life/horoscope/\"><img alt=\"夢色★占い\" loading=\"lazy\" src=\"/assets/images/header/2021/dc-header_ycontents_uranai-20230630032416.png\"/></a></figure>\n",
       "<div class=\"name\"><a href=\"/life/horoscope/\">夢色★占い</a></div>\n",
       "</li>\n",
       "<li>\n",
       "<div class=\"memberonly\">会員限定</div>\n",
       "<figure><a href=\"/pokemon/\"><img alt=\"日刊ポケモン\" loading=\"lazy\" src=\"/assets/images/header/2021/dc-header_ycontents_pokemon-20230630032416.png\"/></a></figure>\n",
       "<div class=\"name\"><a href=\"/pokemon/\">日刊ポケモン</a></div>\n",
       "</li>\n",
       "<li>\n",
       "<div class=\"memberonly\">会員限定</div>\n",
       "<figure><a href=\"/giants/\"><img alt=\"巨人プレミアム\" loading=\"lazy\" src=\"/assets/images/header/2021/dc-header_ycontents_giants-20230630032416.png\"/></a></figure>\n",
       "<div class=\"name\"><a href=\"/giants/\">巨人プレミアム</a></div>\n",
       "</li>\n",
       "<li>\n",
       "<figure><a href=\"/life/recipe/\"><img alt=\"よみうりグルメ部\" loading=\"lazy\" src=\"/assets/images/header/2021/dc-header_ycontents_gourmet-20230630032416.png\"/></a></figure>\n",
       "<div class=\"name\"><a href=\"/life/recipe/\">よみうりグルメ部</a></div>\n",
       "</li>\n",
       "<li>\n",
       "<figure><a href=\"/life/podcast/\"><img alt=\"読売新聞ポッドキャスト\" loading=\"lazy\" src=\"/media/2022/07/koko_header_tile.jpg\"/></a></figure>\n",
       "<div class=\"name\"><a href=\"/life/podcast/\">読売新聞ポッドキャスト</a></div>\n",
       "</li>\n",
       "<li>\n",
       "<figure><a href=\"https://artexhibition.jp\"><img alt=\"美術展ナビ\" loading=\"lazy\" src=\"/assets/images/header/2021/dc-header_ycontents_bijutsu-20230630032416.png\"/></a></figure>\n",
       "<div class=\"name\"><a href=\"https://artexhibition.jp\">美術展ナビ</a></div>\n",
       "</li>\n",
       "<li>\n",
       "<div class=\"memberonly\">会員限定</div>\n",
       "<figure><a href=\"/coupon/\"><img alt=\"お出かけクーポン\" loading=\"lazy\" src=\"/assets/images/header/2021/dc-header_ycontents_coupon-20230630032416.png\"/></a></figure>\n",
       "<div class=\"name\"><a href=\"/coupon/\">お出かけクーポン</a></div>\n",
       "</li>\n",
       "<li>\n",
       "<figure><a href=\"https://ticket.yomiuri.co.jp/sf/tkt25/web\"><img alt=\"チケットストア\" loading=\"lazy\" src=\"/media/2021/12/tile-ticketstore.jpg\"/></a></figure>\n",
       "<div class=\"name\"><a href=\"https://ticket.yomiuri.co.jp/sf/tkt25/web\">チケットストア</a></div>\n",
       "</li>\n",
       "</ul>\n",
       "</div>\n",
       "<div class=\"operationsite\">\n",
       "<div class=\"contents js-header-globalnav-operationsite\">\n",
       "<div class=\"title\">読売新聞社の運営するサイト</div>\n",
       "<ul>\n",
       "<li><a href=\"https://komachi.yomiuri.co.jp/\" target=\"_blank\">発言小町</a></li>\n",
       "<li><a href=\"/otekomachi/\" target=\"_blank\">大手小町</a></li>\n",
       "<li><a href=\"https://yomidr.yomiuri.co.jp/\" target=\"_blank\">ヨミドクター</a></li>\n",
       "<li><a href=\"https://the-japan-news.com/\" target=\"_blank\">The Japan News</a></li>\n",
       "<li><a href=\"https://bosai.yomiuri.co.jp/\" target=\"_blank\">防災ニッポン</a></li>\n",
       "<li><a href=\"https://sasatto.jp/\" target=\"_blank\">ささっとー</a></li>\n",
       "<li><a href=\"https://yab.yomiuri.co.jp/idomu/?utm_source=yol&amp;utm_medium=referral\" target=\"_blank\">挑むKANSAI</a></li>\n",
       "<li><a href=\"https://artexhibition.jp/\" target=\"_blank\">美術展ナビ</a></li>\n",
       "<li><a href=\"https://database.yomiuri.co.jp/\" target=\"_blank\">データベース「ヨミダス」</a></li>\n",
       "<li><a href=\"https://ideamarket.yomiuri.co.jp/\" target=\"_blank\">idea market</a></li>\n",
       "<li><a href=\"https://tsumugu.yomiuri.co.jp\" target=\"_blank\">紡ぐプロジェクト</a></li>\n",
       "<li><a href=\"https://yab.yomiuri.co.jp/project/mirai/\" target=\"_blank\">未来貢献プロジェクト</a></li>\n",
       "<li><a href=\"https://katsuji.yomiuri.co.jp/\" target=\"_blank\">活字文化プロジェクト</a></li>\n",
       "<li><a href=\"//genki-nippon.yomiuri.co.jp/\" target=\"_blank\">元気、ニッポン！</a></li>\n",
       "<li><a href=\"https://kyoiku.yomiuri.co.jp/\" target=\"_blank\">教育ネットワーク</a></li>\n",
       "<li><a href=\"https://yomiuri-kiko.or.jp/\" target=\"_blank\">読売調査研究機構</a></li>\n",
       "<li><a href=\"https://www.giants.jp/\" target=\"_blank\">GIANTS公式サイト</a></li>\n",
       "<li><a href=\"https://tabiyomi.yomiuri-ryokou.co.jp/\" target=\"_blank\">たびよみ</a></li>\n",
       "<li><a href=\"https://marieclairejapon.com/\" target=\"_blank\">marie claire digital</a></li>\n",
       "<li><a href=\"https://adv.yomiuri.co.jp/\" target=\"_blank\">読売新聞広告局ポータルサイト</a></li>\n",
       "<li><a href=\"//brandstudio.jp/\" target=\"_blank\">YOMIURI BRAND STUDIO</a></li>\n",
       "<li><a href=\"https://retailadconsortium.jp/\" target=\"_blank\">RETAIL AD CONSORTIUM</a></li>\n",
       "</ul>\n",
       "</div>\n",
       "<div class=\"more js-header-globalnav-operationsite-more\"><a>\n",
       "<svg><use xlink:href=\"/assets/images/common/dc-header-20230630032416.svg#icon_plus_small\"></use></svg>もっと見る</a></div>\n",
       "</div>\n",
       "<div class=\"banner\">\n",
       "<ul>\n",
       "<li><a href=\"/kodomo/\"><figure><img alt=\"読売KODOMO新聞\" loading=\"lazy\" src=\"/assets/images/common/dc-2020_footer_bn_kodomo-20230630032416.png\"><figcaption>読売KODOMO新聞</figcaption></img></figure></a></li>\n",
       "<li><a href=\"/teen/\"><figure><img alt=\"読売中高生新聞\" loading=\"lazy\" src=\"/assets/images/common/dc-2020_footer_bn_teen-20230630032416.png\"/><figcaption>読売中高生新聞</figcaption></figure></a></li>\n",
       "<li><a href=\"https://japannews.yomiuri.co.jp/\"><figure><img alt=\"The Japan News\" loading=\"lazy\" src=\"/media/2022/03/dc-2022_footer_bn_japannews.png\"/><figcaption>The Japan News</figcaption></figure></a></li>\n",
       "</ul>\n",
       "</div>\n",
       "</div>\n",
       "</div>\n",
       "</link></link></div>\n",
       "</header>\n",
       "<div class=\"p-header-notice\" id=\"p-emergency-top\"></div>\n",
       "<!-- 本番 -->\n",
       "<!-- ▼読売新聞オンライン+YOL表記 -->\n",
       "<style>\n",
       "    @media (min-width: 800px){\n",
       "      .p-header-2020-logo a {\n",
       "        display: block;\n",
       "        background: url(/media/2021/03/dc-2020_logo_yol2.png) no-repeat;\n",
       "        background-size: 100% 100%;\n",
       "        position:relative;\n",
       "        overflow:hidden;\n",
       "      }\n",
       "      .p-header-2020-logo a img {\n",
       "        position:absolute;\n",
       "        left:0;\n",
       "        top:-100%;\n",
       "      }\n",
       "    }\n",
       "  </style>\n",
       "<!-- ▲読売新聞オンライン+YOL表記 -->\n",
       "<!-- ▼DAZNバナー -->\n",
       "<style>\n",
       "  li.dazn_banner {\n",
       "    width: auto !important;\n",
       "    margin-right: 0 !important;\n",
       "  }\n",
       "  </style>\n",
       "<!-- ▲DAZNバナー -->\n",
       "<style>\n",
       "  @media (max-width: 799px){\n",
       "  .home-2020-prime-info {\n",
       "      margin: 15px 23px 53px !important;\n",
       "      width: 87% !important;\n",
       "      }\n",
       "  .caution_info2021{\n",
       "      line-height: 1.2;\n",
       "      margin-top: 10px;\n",
       "      margin-left: 18px;\n",
       "      }\n",
       "  }\n",
       "  @media (min-width: 1201px){\n",
       "  .home-2020-prime-info {\n",
       "      margin-bottom: 69px !important;\n",
       "  }\n",
       "  }\n",
       "  @media (min-width: 800px) and (max-width: 1119px){\n",
       "  .home-2020-prime-info {\n",
       "      margin: 30px 0px 0px !important;\n",
       "  \n",
       "  }\n",
       "  .caution_info2021{\n",
       "      margin-top: 0px !important;\n",
       "  }\n",
       "  }\n",
       "  @media (min-width: 1120px) and (max-width: 1200px){\n",
       "      .c-hiddenPC{\n",
       "          display:block !important;\n",
       "          margin: 15px auto;\n",
       "      }\n",
       "      .c-hiddenSPTB{\n",
       "          display:none !important;\n",
       "      }\n",
       "  }\n",
       "  </style>\n",
       "<!--<div class=\"home-2020-prime-info c-hiddenPC\">\n",
       "                    <a href=\"https://www.yomiuri.co.jp/media/2021/12/YOLrenewalSP.pdf\"><svg><use xlink:href=\"#icon_information\"></use></svg>トップページのデザインが変わりました。\n",
       "                           <p class=\"caution_info2021\">数独・人生案内・連載小説・よみぽランドへは、一番上の「読売コンテンツ」ボタンから。</p></a>\n",
       "                </div>-->\n",
       "<div class=\"home-2021-ad-head-sp\">\n",
       "<div id=\"ad_dfp_sp_banner\">\n",
       "<script>googletag.cmd.push(function() {googletag.display('ad_dfp_sp_banner'); });</script>\n",
       "</div>\n",
       "</div>\n",
       "<div class=\"home-2021-primary\">\n",
       "<div class=\"home-2021-primary__main\">\n",
       "<div class=\"p-header-notice\" id=\"p-emergency-news-obit\"></div>\n",
       "<!--東日本大震災リンク　ここから-->\n",
       "<style>\n",
       "    .ukraine-1year__home__link {\n",
       "        display: inline-block;\n",
       "        font-size: 15px;\n",
       "        font-weight: bolder;\n",
       "        color: indigo;\n",
       "        position: relative;\n",
       "        margin: 18px 0 18px 15px;\n",
       "    }\n",
       "    .ukraine-1year__home__link a::after{\n",
       "        content: \"\";\n",
       "        display: block;\n",
       "        width: 8px;\n",
       "        height: 8px;\n",
       "        border-left: 2px solid indigo;\n",
       "        border-top: 2px solid indigo;\n",
       "        margin: 0 auto;\n",
       "        transform: rotate(135deg);\n",
       "        opacity: 1;\n",
       "        position: absolute;\n",
       "        top: 25%;\n",
       "        right: -5%;\n",
       "    }\n",
       "    .ukraine-1year__home__link a:visited {\n",
       "        color: indigo;\n",
       "    }\n",
       "    @media (max-width: 599px){\n",
       "        .ukraine-1year__home__link {\n",
       "            margin: 18px 0 18px 13px;\n",
       "        }\n",
       "    }\n",
       "</style>\n",
       "<!--東日本大震災リンク　ここまで-->\n",
       "<div class=\"category-nav\">\n",
       "<ul class=\"js-2021-home-category-nav\">\n",
       "<!-- yol-header-under-nav -->\n",
       "<li><a href=\"/news/\">新着</a></li>\n",
       "<li><a href=\"/national/\">社会</a></li>\n",
       "<li class=\"subnav\">\n",
       "<a href=\"/politics/\">政治</a>\n",
       "<div class=\"list\">\n",
       "<ul>\n",
       "<li><a href=\"/election/\">選挙</a></li>\n",
       "<li><a href=\"/election/yoron-chosa/\">世論調査</a></li>\n",
       "</ul>\n",
       "</div>\n",
       "</li>\n",
       "<li><a href=\"/economy/\">経済</a></li>\n",
       "<li class=\"subnav\">\n",
       "<a href=\"/sports/\">スポーツ</a>\n",
       "<div class=\"list\">\n",
       "<ul>\n",
       "<li><a href=\"/sports/npb/\">プロ野球</a></li>\n",
       "<li><a href=\"/giants/\">巨人プレミアム</a></li>\n",
       "<li><a href=\"/sports/mlb/\">大リーグ</a></li>\n",
       "<li><a href=\"/sports/koshien/\">高校野球</a></li>\n",
       "<li><a href=\"/sports/interhigh/\">インターハイ</a></li>\n",
       "<li><a href=\"/sports/soccer/\">サッカー</a></li>\n",
       "<li><a href=\"/sports/sumo/\">大相撲</a></li>\n",
       "<li><a href=\"/sports/golf/\">ゴルフ</a></li>\n",
       "<li><a href=\"/hakone-ekiden/\">箱根駅伝</a></li>\n",
       "<li><a href=\"/sports/actionsports/\">アクションスポーツ</a></li>\n",
       "<li><a href=\"/sports/\" style=\"text-decoration:underline;\">[もっと見る]</a></li>\n",
       "</ul>\n",
       "</div>\n",
       "</li>\n",
       "<li><a href=\"/world/\">国際</a></li>\n",
       "<li class=\"subnav\">\n",
       "<a href=\"/local/member/\">地域</a>\n",
       "<div class=\"list\">\n",
       "<div class=\"local\">\n",
       "<div class=\"local-group\">\n",
       "<ul>\n",
       "<li><a href=\"/local/\">地域トップ</a></li>\n",
       "<li><a href=\"https://pageviewer.yomiuri.co.jp/shimen/login?KPVal=memCh\">各地域版紙面イメージ</a></li>\n",
       "</ul>\n",
       "</div>\n",
       "<div class=\"local-group\">\n",
       "<div class=\"region\">北海道・東北</div>\n",
       "<ul>\n",
       "<li><a href=\"/local/hokkaido/\">北海道</a></li>\n",
       "<li><a href=\"/local/aomori/\">青森</a></li>\n",
       "<li><a href=\"/local/iwate/\">岩手</a></li>\n",
       "<li><a href=\"/local/miyagi/\">宮城</a></li>\n",
       "<li><a href=\"/local/akita/\">秋田</a></li>\n",
       "<li><a href=\"/local/yamagata/\">山形</a></li>\n",
       "<li><a href=\"/local/fukushima/\">福島</a></li>\n",
       "<li><a href=\"/local/michinoku/\">We Love みちのく</a></li>\n",
       "</ul>\n",
       "</div>\n",
       "<div class=\"local-group\">\n",
       "<div class=\"region\">関東</div>\n",
       "<ul>\n",
       "<li><a href=\"/local/ibaraki/\">茨城</a></li>\n",
       "<li><a href=\"/local/tochigi/\">栃木</a></li>\n",
       "<li><a href=\"/local/gunma/\">群馬</a></li>\n",
       "<li><a href=\"/local/saitama/\">埼玉</a></li>\n",
       "<li><a href=\"/local/chiba/\">千葉</a></li>\n",
       "<li><a href=\"/local/tokyo23/\">東京23区</a></li>\n",
       "<li><a href=\"/local/tokyotama/\">東京多摩</a></li>\n",
       "<li><a href=\"/local/kanagawa/\">神奈川</a></li>\n",
       "</ul>\n",
       "</div>\n",
       "<div class=\"local-group\">\n",
       "<div class=\"region\">北陸</div>\n",
       "<ul>\n",
       "<li><a href=\"/local/hokuriku/\">北陸発</a></li>\n",
       "<li><a href=\"/local/toyama/\">富山</a></li>\n",
       "<li><a href=\"/local/ishikawa/\">石川</a></li>\n",
       "<li><a href=\"/local/fukui/\">福井</a></li>\n",
       "</ul>\n",
       "</div>\n",
       "<div class=\"local-group\">\n",
       "<div class=\"region\">甲信越</div>\n",
       "<ul>\n",
       "<li><a href=\"/local/yamanashi/\">山梨</a></li>\n",
       "<li><a href=\"/local/nagano/\">長野</a></li>\n",
       "<li><a href=\"/local/niigata/\">新潟</a></li>\n",
       "</ul>\n",
       "</div>\n",
       "<div class=\"local-group\">\n",
       "<div class=\"region\">東海</div>\n",
       "<ul>\n",
       "<li><a href=\"/local/chubu/\">中部発</a></li>\n",
       "<li><a href=\"/local/gifu/\">岐阜</a></li>\n",
       "<li><a href=\"/local/shizuoka/\">静岡</a></li>\n",
       "<li><a href=\"/local/aichi/\">愛知</a></li>\n",
       "<li><a href=\"/local/mie/\">三重</a></li>\n",
       "</ul>\n",
       "</div>\n",
       "<div class=\"local-group\">\n",
       "<div class=\"region\">近畿</div>\n",
       "<ul>\n",
       "<li><a href=\"/local/kansai/\">関西発</a></li>\n",
       "<li><a href=\"/local/shiga/\">滋賀</a></li>\n",
       "<li><a href=\"/local/kyoto/\">京都</a></li>\n",
       "<li><a href=\"/local/osaka/\">大阪</a></li>\n",
       "<li><a href=\"/local/hyogo/\">兵庫</a></li>\n",
       "<li><a href=\"/local/nara/\">奈良</a></li>\n",
       "<li><a href=\"/local/wakayama/\">和歌山</a></li>\n",
       "</ul>\n",
       "</div>\n",
       "<div class=\"local-group\">\n",
       "<div class=\"region\">中国・四国</div>\n",
       "<ul>\n",
       "<li><a href=\"/local/tottori/\">鳥取</a></li>\n",
       "<li><a href=\"/local/shimane/\">島根</a></li>\n",
       "<li><a href=\"/local/okayama/\">岡山</a></li>\n",
       "<li><a href=\"/local/hiroshima/\">広島</a></li>\n",
       "<li><a href=\"/local/yamaguchi/\">山口</a></li>\n",
       "<li><a href=\"/local/tokushima/\">徳島</a></li>\n",
       "<li><a href=\"/local/kagawa/\">香川</a></li>\n",
       "<li><a href=\"/local/ehime/\">愛媛</a></li>\n",
       "<li><a href=\"/local/kochi/\">高知</a></li>\n",
       "</ul>\n",
       "</div>\n",
       "<div class=\"local-group\">\n",
       "<div class=\"region\">九州・沖縄</div>\n",
       "<ul>\n",
       "<li><a href=\"/local/kyushu/\">九州発</a></li>\n",
       "<li><a href=\"/local/fukuoka/\">福岡</a></li>\n",
       "<li><a href=\"/local/saga/\">佐賀</a></li>\n",
       "<li><a href=\"/local/nagasaki/\">長崎</a></li>\n",
       "<li><a href=\"/local/kumamoto/\">熊本</a></li>\n",
       "<li><a href=\"/local/oita/\">大分</a></li>\n",
       "<li><a href=\"/local/miyazaki/\">宮崎</a></li>\n",
       "<li><a href=\"/local/kagoshima/\">鹿児島</a></li>\n",
       "<li><a href=\"/local/okinawa/\">沖縄</a></li>\n",
       "</ul>\n",
       "</div>\n",
       "</div>\n",
       "</div>\n",
       "</li>\n",
       "<li><a href=\"/science/\">科学・IT</a></li>\n",
       "<li class=\"subnav\">\n",
       "<a href=\"/culture/\">エンタメ・文化</a>\n",
       "<div class=\"list\">\n",
       "<ul>\n",
       "<li><a href=\"/culture/tv/\">テレビ</a></li>\n",
       "<li><a href=\"/culture/cinema/\">映画</a></li>\n",
       "<li><a href=\"/culture/music/\">音楽</a></li>\n",
       "<li><a href=\"/culture/stage/\">舞台</a></li>\n",
       "<li><a href=\"/culture/book/\">本よみうり堂</a></li>\n",
       "<li><a href=\"/culture/subcul/\">サブカル</a></li>\n",
       "<li><a href=\"/igoshougi/\">囲碁・将棋</a></li>\n",
       "<li><a href=\"/novel/\">連載小説</a></li>\n",
       "<li><a href=\"/comic/\">コボちゃん・漫画</a></li>\n",
       "<li><a href=\"/culture/\" style=\"text-decoration:underline;\">[もっと見る]</a></li>\n",
       "</ul>\n",
       "</div>\n",
       "</li>\n",
       "<li class=\"subnav\">\n",
       "<a href=\"/life/\">ライフ</a>\n",
       "<div class=\"list\">\n",
       "<ul>\n",
       "<li><a href=\"/life/digilife/\">入門！デジタル部</a></li>\n",
       "<li><a href=\"/life/singlestyle/\">シングルスタイル</a></li>\n",
       "<li><a href=\"/life/kosodate/\">子育て</a></li>\n",
       "<li><a href=\"/jinsei/\">人生案内</a></li>\n",
       "<li><a href=\"/life/horoscope/\">占い</a></li>\n",
       "<li><a href=\"/feature/titlelist/こどもの詩/\">こどもの詩</a></li>\n",
       "<li><a href=\"/hobby/\">趣味</a></li>\n",
       "<li><a href=\"/hobby/travel/\">旅行</a></li>\n",
       "<li><a href=\"/life/\" style=\"text-decoration:underline;\">[もっと見る]</a></li>\n",
       "</ul>\n",
       "</div>\n",
       "</li>\n",
       "<li class=\"subnav\">\n",
       "<a href=\"/medical/\">医療・健康</a>\n",
       "<div class=\"list\">\n",
       "<ul>\n",
       "<li><a href=\"/medical/renaissance/\">医療ルネサンス</a></li>\n",
       "<li><a href=\"/medical/frail/\">＃フレイル予防中！</a></li>\n",
       "<li><a href=\"/medical/\" style=\"text-decoration:underline;\">[もっと見る]</a></li>\n",
       "</ul>\n",
       "</div>\n",
       "</li>\n",
       "<li class=\"subnav\">\n",
       "<a href=\"/kyoiku/\">教育・就活</a>\n",
       "<div class=\"list\">\n",
       "<ul>\n",
       "<li><a href=\"/kyoiku/kyoiku/\">教育</a></li>\n",
       "<li><a href=\"/kyoiku/support/\">中学受験サポート</a></li>\n",
       "<li><a href=\"/kyoiku/syuukatsu/\">就活</a></li>\n",
       "<li><a href=\"/kyoiku/\" style=\"text-decoration:underline;\">[もっと見る]</a></li>\n",
       "</ul>\n",
       "</div>\n",
       "</li>\n",
       "</ul>\n",
       "</div>\n",
       "<div class=\"headline\">\n",
       "<article>\n",
       "<div class=\"wrap\">\n",
       "<h3 class=\"title\"><a href=\"https://www.yomiuri.co.jp/national/20230706-OYT1T50260/\">学校に軽トラで侵入の男「人にわざとぶつけようとした」…クラブ活動中、児童４人はねられる</a></h3>\n",
       "<time datetime=\"2023-07-06T21:19\"><span class=\"c-list-date--red\">21:19</span></time> <div class=\"tag\">\n",
       "<a href=\"https://www.yomiuri.co.jp/national/\">社会</a>\n",
       "</div>\n",
       "<p class=\"lead\"><a href=\"https://www.yomiuri.co.jp/national/20230706-OYT1T50260/\">　６日午後３時頃、宮城県栗原市若柳の市立若柳小学校の敷地に軽トラックが侵入し、児童３人がはねられた。いずれも病院に搬送されたが、命に別条はないという。県警は、運転していた近くの職業不詳、小野寺章仁容疑者（３４）を殺人未遂…</a></p>\n",
       "<div class=\"p-header-notice\" id=\"p-emergency-notice\"></div>\n",
       "</div>\n",
       "<figure>\n",
       "<a href=\"https://www.yomiuri.co.jp/national/20230706-OYT1T50260/\">\n",
       "<picture>\n",
       "<source media=\"(min-width: 768px)\" srcset=\"https://www.yomiuri.co.jp/media/2023/07/20230706-OYT1I50163-T.jpg?type=PCTB_xx-large\"/>\n",
       "<source media=\"(min-width: 600px)\" srcset=\"https://www.yomiuri.co.jp/media/2023/07/20230706-OYT1I50163-T.jpg?type=TB_medium\"/>\n",
       "<source media=\"(min-width: 320px)\" srcset=\"https://www.yomiuri.co.jp/media/2023/07/20230706-OYT1I50163-T.jpg?type=SP_x-large\"/>\n",
       "<img alt=\"\" loading=\"lazy\" src=\"https://www.yomiuri.co.jp/media/2023/07/20230706-OYT1I50163-T.jpg\"/>\n",
       "</picture>\n",
       "</a>\n",
       "</figure>\n",
       "</article>\n",
       "<article>\n",
       "<div class=\"wrap\">\n",
       "<h3 class=\"title\"><a href=\"https://www.yomiuri.co.jp/national/20230706-OYT1T50235/\">宮城・栗原市の市立小学校に軽トラック侵入、児童３人はねられ搬送…男を殺人未遂容疑で逮捕</a></h3>\n",
       "<time datetime=\"2023-07-06T19:19\">19:19</time>\n",
       "<a class=\"tag\" href=\"https://www.yomiuri.co.jp/national/\">社会</a>\n",
       "</div>\n",
       "<figure>\n",
       "<a href=\"https://www.yomiuri.co.jp/national/20230706-OYT1T50235/\">\n",
       "<picture>\n",
       "<source media=\"(min-width: 768px)\" srcset=\"https://www.yomiuri.co.jp/media/2023/07/20230706-OYT1I50138-T.jpg?type=PCTB_small\"/>\n",
       "<source media=\"(min-width: 320px)\" srcset=\"https://www.yomiuri.co.jp/media/2023/07/20230706-OYT1I50138-T.jpg?type=SP_small\"/>\n",
       "<img alt=\"\" loading=\"lazy\" src=\"https://www.yomiuri.co.jp/media/2023/07/20230706-OYT1I50138-T.jpg\"/>\n",
       "</picture>\n",
       "</a>\n",
       "</figure>\n",
       "</article>\n",
       "<article>\n",
       "<div class=\"wrap\">\n",
       "<h3 class=\"title\"><a href=\"https://www.yomiuri.co.jp/national/20230706-OYT1T50245/\">「南部鉄瓶キャップ」で大谷翔平を現地応援…エンゼルスカラーに漢字で「奥州」、「かなり目立つ」</a></h3>\n",
       "<time datetime=\"2023-07-06T19:52\">19:52</time>\n",
       "<a class=\"tag\" href=\"https://www.yomiuri.co.jp/national/\">社会</a>\n",
       "<a class=\"tag\" href=\"https://www.yomiuri.co.jp/feature/titlelist/ShoheiOhtani/\">大谷翔平</a>\n",
       "</div>\n",
       "<figure>\n",
       "<a href=\"https://www.yomiuri.co.jp/national/20230706-OYT1T50245/\">\n",
       "<picture>\n",
       "<source media=\"(min-width: 768px)\" srcset=\"https://www.yomiuri.co.jp/media/2023/07/20230706-OYT1I50142-T.jpg?type=PCTB_small\"/>\n",
       "<source media=\"(min-width: 320px)\" srcset=\"https://www.yomiuri.co.jp/media/2023/07/20230706-OYT1I50142-T.jpg?type=SP_small\"/>\n",
       "<img alt=\"\" loading=\"lazy\" src=\"https://www.yomiuri.co.jp/media/2023/07/20230706-OYT1I50142-T.jpg\"/>\n",
       "</picture>\n",
       "</a>\n",
       "</figure>\n",
       "</article>\n",
       "<article>\n",
       "<div class=\"wrap\">\n",
       "<h3 class=\"title\"><a href=\"https://www.yomiuri.co.jp/world/20230706-OYT1T50248/\">反転攻勢「もっと早く始めたかった」、ゼレンスキー大統領がＦ１６など兵器供与加速を求める</a></h3>\n",
       "<time datetime=\"2023-07-06T20:15\">20:15</time>\n",
       "<a class=\"tag\" href=\"https://www.yomiuri.co.jp/world/\">国際</a>\n",
       "<a class=\"tag\" href=\"https://www.yomiuri.co.jp/feature/titlelist/ukraine_news/\">ウクライナ情勢</a>\n",
       "</div>\n",
       "<figure>\n",
       "<a href=\"https://www.yomiuri.co.jp/world/20230706-OYT1T50248/\">\n",
       "<picture>\n",
       "<source media=\"(min-width: 768px)\" srcset=\"https://www.yomiuri.co.jp/media/2023/07/20230706-OYT1I50147-T.jpg?type=PCTB_small\"/>\n",
       "<source media=\"(min-width: 320px)\" srcset=\"https://www.yomiuri.co.jp/media/2023/07/20230706-OYT1I50147-T.jpg?type=SP_small\"/>\n",
       "<img alt=\"\" loading=\"lazy\" src=\"https://www.yomiuri.co.jp/media/2023/07/20230706-OYT1I50147-T.jpg\"/>\n",
       "</picture>\n",
       "</a>\n",
       "</figure>\n",
       "</article>\n",
       "<article>\n",
       "<div class=\"wrap\">\n",
       "<h3 class=\"title\"><a href=\"https://www.yomiuri.co.jp/world/20230706-OYT1T50234/\">プリゴジン氏がロシアのサンクトペテルブルクに滞在…ベラルーシ大統領が言及</a></h3>\n",
       "<time datetime=\"2023-07-06T18:00\">18:00</time>\n",
       "<a class=\"tag\" href=\"https://www.yomiuri.co.jp/world/\">国際</a>\n",
       "<a class=\"tag\" href=\"https://www.yomiuri.co.jp/feature/titlelist/ukraine_news/\">ウクライナ情勢</a>\n",
       "</div>\n",
       "<figure>\n",
       "<a href=\"https://www.yomiuri.co.jp/world/20230706-OYT1T50234/\">\n",
       "<picture>\n",
       "<source media=\"(min-width: 768px)\" srcset=\"https://www.yomiuri.co.jp/media/2023/07/20230706-OYT1I50129-T.jpg?type=PCTB_small\"/>\n",
       "<source media=\"(min-width: 320px)\" srcset=\"https://www.yomiuri.co.jp/media/2023/07/20230706-OYT1I50129-T.jpg?type=SP_small\"/>\n",
       "<img alt=\"\" loading=\"lazy\" src=\"https://www.yomiuri.co.jp/media/2023/07/20230706-OYT1I50129-T.jpg\"/>\n",
       "</picture>\n",
       "</a>\n",
       "</figure>\n",
       "</article>\n",
       "<article>\n",
       "<div class=\"wrap\">\n",
       "<h3 class=\"title\"><a href=\"https://www.yomiuri.co.jp/world/20230706-OYT1T50241/\">ベラルーシ運輸通信相が急死、死因は不明…昨年１１月にも現職の外相が急死</a></h3>\n",
       "<time datetime=\"2023-07-06T19:06\">19:06</time>\n",
       "<a class=\"tag\" href=\"https://www.yomiuri.co.jp/world/\">国際</a>\n",
       "<a class=\"tag\" href=\"https://www.yomiuri.co.jp/feature/titlelist/ukraine_news/\">ウクライナ情勢</a>\n",
       "</div>\n",
       "<figure>\n",
       "<a href=\"https://www.yomiuri.co.jp/world/20230706-OYT1T50241/\">\n",
       "<picture>\n",
       "<source media=\"(min-width: 768px)\" srcset=\"https://www.yomiuri.co.jp/media/2023/07/20230706-OYT1I50136-T.jpg?type=PCTB_small\"/>\n",
       "<source media=\"(min-width: 320px)\" srcset=\"https://www.yomiuri.co.jp/media/2023/07/20230706-OYT1I50136-T.jpg?type=SP_small\"/>\n",
       "<img alt=\"\" loading=\"lazy\" src=\"https://www.yomiuri.co.jp/media/2023/07/20230706-OYT1I50136-T.jpg\"/>\n",
       "</picture>\n",
       "</a>\n",
       "</figure>\n",
       "</article>\n",
       "<article>\n",
       "<div class=\"wrap\">\n",
       "<h3 class=\"title\"><a href=\"https://www.yomiuri.co.jp/national/20230706-OYT1T50251/\">小田急死傷事件で懲役２０年求刑、対馬悠介被告「検察の話を聞いてその通りだと納得」</a></h3>\n",
       "<time datetime=\"2023-07-06T20:23\">20:23</time>\n",
       "<a class=\"tag\" href=\"https://www.yomiuri.co.jp/national/\">社会</a>\n",
       "</div>\n",
       "<figure>\n",
       "<a href=\"https://www.yomiuri.co.jp/national/20230706-OYT1T50251/\">\n",
       "<picture>\n",
       "<source media=\"(min-width: 768px)\" srcset=\"https://www.yomiuri.co.jp/media/2023/07/20230706-OYT1I50155-T.jpg?type=PCTB_small\"/>\n",
       "<source media=\"(min-width: 320px)\" srcset=\"https://www.yomiuri.co.jp/media/2023/07/20230706-OYT1I50155-T.jpg?type=SP_small\"/>\n",
       "<img alt=\"\" loading=\"lazy\" src=\"https://www.yomiuri.co.jp/media/2023/07/20230706-OYT1I50155-T.jpg\"/>\n",
       "</picture>\n",
       "</a>\n",
       "</figure>\n",
       "</article>\n",
       "<article>\n",
       "<div class=\"wrap\">\n",
       "<h3 class=\"title\"><a href=\"https://www.yomiuri.co.jp/economy/20230706-OYT1T50262/\">ソフトバンクに行政指導、不適切な携帯電話の値引き販売３０２０件…総務省</a></h3>\n",
       "<time datetime=\"2023-07-06T22:11\"><span class=\"c-list-date--red\">22:11</span></time>\n",
       "<a class=\"tag\" href=\"https://www.yomiuri.co.jp/economy/\">経済</a>\n",
       "</div>\n",
       "<figure>\n",
       "<a href=\"https://www.yomiuri.co.jp/economy/20230706-OYT1T50262/\">\n",
       "<picture>\n",
       "<source media=\"(min-width: 768px)\" srcset=\"https://www.yomiuri.co.jp/media/2023/07/20230706-OYT1I50167-T.jpg?type=PCTB_small\"/>\n",
       "<source media=\"(min-width: 320px)\" srcset=\"https://www.yomiuri.co.jp/media/2023/07/20230706-OYT1I50167-T.jpg?type=SP_small\"/>\n",
       "<img alt=\"\" loading=\"lazy\" src=\"https://www.yomiuri.co.jp/media/2023/07/20230706-OYT1I50167-T.jpg\"/>\n",
       "</picture>\n",
       "</a>\n",
       "</figure>\n",
       "</article>\n",
       "<article>\n",
       "<div class=\"wrap\">\n",
       "<h3 class=\"title\"><a href=\"https://www.yomiuri.co.jp/culture/music/20230706-OYT1T50254/\">夏まゆみさん死去、６１歳…「ＡＫＢ４８」や「モー娘。」らにダンス指導</a></h3>\n",
       "<time datetime=\"2023-07-06T20:38\">20:38</time>\n",
       "<a class=\"tag\" href=\"https://www.yomiuri.co.jp/culture/music/\">音楽</a>\n",
       "<a class=\"tag\" href=\"https://www.yomiuri.co.jp/feature/titlelist/obit/\">訃報</a>\n",
       "</div>\n",
       "<figure>\n",
       "<a href=\"https://www.yomiuri.co.jp/culture/music/20230706-OYT1T50254/\">\n",
       "<picture>\n",
       "<source media=\"(min-width: 768px)\" srcset=\"https://www.yomiuri.co.jp/media/2023/07/20230706-OYT1I50164-T.jpg?type=PCTB_small\"/>\n",
       "<source media=\"(min-width: 320px)\" srcset=\"https://www.yomiuri.co.jp/media/2023/07/20230706-OYT1I50164-T.jpg?type=SP_small\"/>\n",
       "<img alt=\"\" loading=\"lazy\" src=\"https://www.yomiuri.co.jp/media/2023/07/20230706-OYT1I50164-T.jpg\"/>\n",
       "</picture>\n",
       "</a>\n",
       "</figure>\n",
       "</article>\n",
       "<article>\n",
       "<div class=\"wrap\">\n",
       "<h3 class=\"title\"><a href=\"https://www.yomiuri.co.jp/national/20230706-OYT1T50209/\">「やまゆり園事件」題材に舞台…劇作家・詩森ろばさん「背景、一緒に考えたい」</a></h3>\n",
       "<time datetime=\"2023-07-06T15:27\">15:27</time>\n",
       "<a class=\"tag\" href=\"https://www.yomiuri.co.jp/national/\">社会</a>\n",
       "<svg class=\"icon\" data-icon-type=\"unlocked\"><use xlink:href=\"#icon_2021_locked\"></use></svg>\n",
       "</div>\n",
       "<figure>\n",
       "<a href=\"https://www.yomiuri.co.jp/national/20230706-OYT1T50209/\">\n",
       "<picture>\n",
       "<source media=\"(min-width: 768px)\" srcset=\"https://www.yomiuri.co.jp/media/2023/07/20230706-OYT1I50110-T.jpg?type=PCTB_small\"/>\n",
       "<source media=\"(min-width: 320px)\" srcset=\"https://www.yomiuri.co.jp/media/2023/07/20230706-OYT1I50110-T.jpg?type=SP_small\"/>\n",
       "<img alt=\"\" loading=\"lazy\" src=\"https://www.yomiuri.co.jp/media/2023/07/20230706-OYT1I50110-T.jpg\"/>\n",
       "</picture>\n",
       "</a>\n",
       "</figure>\n",
       "</article>\n",
       "<article>\n",
       "<div class=\"wrap\">\n",
       "<h3 class=\"title\"><a href=\"/slitherlink/\">「よみぽ」１００ポイントが１００人に当たる懸賞付き問題を出題中！</a></h3>\n",
       "<!--<time datetime=\"2021-11-22T07:41\">07:41</time>-->\n",
       "<a class=\"tag\" href=\"/slitherlink/\">新パズル「スリザーリンク」</a>\n",
       "<!--<a class=\"tag\" href=\"test\">タグ</a>-->\n",
       "</div>\n",
       "<figure>\n",
       "<a href=\"/slitherlink/\">\n",
       "<picture>\n",
       "<source media=\"(min-width: 768px)\" srcset=\"/media/2023/03/slitherlink_premium_bnr.jpg\"/><!-- PCTB fastly:180x120px ※要コメント削除 -->\n",
       "<source media=\"(min-width: 320px)\" srcset=\"/media/2023/03/slitherlink_premium_bnr.jpg\"/><!-- SP fastly:200x150px  ※要コメント削除 -->\n",
       "<img alt=\"\" loading=\"lazy\" src=\"/media/2023/03/slitherlink_premium_bnr.jpg\"/><!-- ie11 PCで使ってるサイズを当てる　※要コメント削除 -->\n",
       "</picture>\n",
       "</a>\n",
       "</figure>\n",
       "</article>\n",
       "<article class=\"ad\">\n",
       "<div id=\"ad_dfp_top-infeed1\">\n",
       "<script>\n",
       "          googletag.cmd.push(function() {googletag.display('ad_dfp_top-infeed1'); });\n",
       "          </script>\n",
       "</div>\n",
       "</article>\n",
       "<article class=\"ad\">\n",
       "<div id=\"ad_dfp_top-infeed2\">\n",
       "<script>\n",
       "          googletag.cmd.push(function() {googletag.display('ad_dfp_top-infeed2'); });\n",
       "          </script>\n",
       "</div>\n",
       "</article>\n",
       "<div class=\"more\"><a href=\"/news/\">もっと見る<svg><use xlink:href=\"#arrow_r\"></use></svg></a></div>\n",
       "</div>\n",
       "<!-- WBC　ウィジェット用枠 ▲▲▲▲▲ -->\n",
       "<div class=\"pickup\">\n",
       "<div class=\"pickup-primary\">\n",
       "<article>\n",
       "<h2>動画</h2>\n",
       "<figure>\n",
       "<a href=\"https://www.yomiuri.co.jp/stream/1/21713/\"> <picture>\n",
       "<source media=\"(min-width: 768px)\" srcset=\"/images/osusume/yol_top_movie/20230706_ZPXbPD.jpg?type=PCTB_x-large\"/>\n",
       "<source media=\"(min-width: 320px)\" srcset=\"/images/osusume/yol_top_movie/20230706_ZPXbPD.jpg?type=SP_x-large\"/>\n",
       "<img alt=\"\" loading=\"lazy\" src=\"/images/osusume/yol_top_movie/20230706_ZPXbPD.jpg\"/>\n",
       "</picture>\n",
       "</a> </figure>\n",
       "<div class=\"wrap\">\n",
       "<h3 class=\"title\"><a href=\"https://www.yomiuri.co.jp/stream/1/21713/\">春日神社、２度の大地震乗り越えて鳥居再建…石川</a></h3>\n",
       "<p class=\"lead\"><a href=\"https://www.yomiuri.co.jp/stream/1/21713/\">昨年６月に石川県珠洲（すず）市で震度６弱を観測した地震によって、鳥居が倒壊した春日神社（同市飯田町）で６日、２度の大地震を乗り越え、新しい鳥居が再建された。</a></p>\n",
       "</div>\n",
       "</article>\n",
       "</div>\n",
       "<div class=\"pickup-secondary\">\n",
       "<article>\n",
       "<figure>\n",
       "<a href=\"https://www.yomiuri.co.jp/national/20230324-OYT1T50144/\">\n",
       "<picture>\n",
       "<source media=\"(min-width: 768px)\" srcset=\"/media/2023/04/sueoki_premium_bnr.jpg\"/>\n",
       "<source media=\"(min-width: 320px)\" srcset=\"/media/2023/04/sueoki_premium_bnr.jpg\"/>\n",
       "<img alt=\"\" loading=\"lazy\" src=\"/media/2023/04/sueoki_premium_bnr.jpg\"/>\n",
       "</picture>\n",
       "</a>\n",
       "</figure>\n",
       "<div class=\"wrap\">\n",
       "<h3 class=\"title\"><a href=\"https://www.yomiuri.co.jp/national/20230324-OYT1T50144/\">読売新聞は値上げしません…少なくとも１年間</a></h3>\n",
       "</div>\n",
       "</article>\n",
       "<article class=\"ad\">\n",
       "<div id=\"ad_dfp_premium-tile\">\n",
       "<script>googletag.cmd.push(function () { googletag.display('ad_dfp_premium-tile'); });</script>\n",
       "</div>\n",
       "</article>\n",
       "</div>\n",
       "</div>\n",
       "<div class=\"ad-recommend\">\n",
       "<div id=\"ad_dfp_news-txt1\"><script>googletag.cmd.push(function () { googletag.display('ad_dfp_news-txt1'); });</script></div>\n",
       "<div id=\"ad_dfp_news-txt2\"><script>googletag.cmd.push(function () { googletag.display('ad_dfp_news-txt2'); });</script></div>\n",
       "<div id=\"ad_dfp_news-txt3\"><script>googletag.cmd.push(function () { googletag.display('ad_dfp_news-txt3'); });</script></div>\n",
       "<div id=\"ad_dfp_news-txt4\"><script>googletag.cmd.push(function () { googletag.display('ad_dfp_news-txt4'); });</script></div>\n",
       "</div>\n",
       "</div>\n",
       "<div class=\"home-2021-primary__side\">\n",
       "<!--<div class=\"home-2020-prime-info c-hiddenSPTB\">\n",
       "                    <a href=\"https://www.yomiuri.co.jp/media/2021/12/YOLrenewal.pdf\"><svg><use xlink:href=\"#icon_information\"></use></svg>トップページデザインが変わりました</a>\n",
       "                    <p style=\"font-size: 0.75em; margin-top: 10px; margin-left: 11px;\">数独・人生案内・連載小説・よみぽランドへは、一番上の「読売コンテンツ」ボタンから。</p>\n",
       "                </div>-->\n",
       "<div class=\"services\">\n",
       "<a href=\"/weather/\"><svg><use xlink:href=\"#icon_2021_weather\"></use></svg>天気</a>\n",
       "<a href=\"/traffic/\"><svg><use xlink:href=\"#icon_2021_traffics\"></use></svg>交通情報</a>\n",
       "<a href=\"/market/\"><svg><use xlink:href=\"#icon_2021_economy\"></use></svg>株・為替</a>\n",
       "</div>\n",
       "<section class=\"latestnews\">\n",
       "<h2><a href=\"/news/\">新着ニュース<svg><use xlink:href=\"#arrow_r\"></use></svg></a></h2>\n",
       "<div class=\"articles\">\n",
       "<article>\n",
       "<div class=\"c-list-date\"><time datetime=\"2023-07-06T22:11\"><span class=\"c-list-date--red\">22:11</span></time></div>\n",
       "<h3><a href=\"https://www.yomiuri.co.jp/economy/20230706-OYT1T50262/\">ソフトバンクに行政指導、不適切な携帯電話の値引き販売３０２０件…総務省</a></h3>\n",
       "</article>\n",
       "<article>\n",
       "<div class=\"c-list-date\"><time datetime=\"2023-07-06T22:09\"><span class=\"c-list-date--red\">22:09</span></time></div>\n",
       "<h3><a href=\"https://www.yomiuri.co.jp/national/20230706-OYT1T50231/\">アレフ信者４人が大声あげ検査妨害…公安庁が大阪府警に刑事告発</a></h3>\n",
       "</article>\n",
       "<article>\n",
       "<div class=\"c-list-date\"><time datetime=\"2023-07-06T21:51\"><span class=\"c-list-date--red\">21:51</span></time></div>\n",
       "<h3><a href=\"https://www.yomiuri.co.jp/national/20230706-OYT1T50224/\">大麻取締法違反で永山絢斗容疑者を起訴…６月に自宅で乾燥大麻所持</a></h3>\n",
       "</article>\n",
       "<article>\n",
       "<div class=\"c-list-date\"><time datetime=\"2023-07-06T21:19\"><span class=\"c-list-date--red\">21:19</span></time></div>\n",
       "<h3><a href=\"https://www.yomiuri.co.jp/national/20230706-OYT1T50260/\">学校に軽トラで侵入の男「人にわざとぶつけようとした」…クラブ活動中、児童４人はねられる</a></h3>\n",
       "</article>\n",
       "<article>\n",
       "<div class=\"c-list-date\"><time datetime=\"2023-07-06T21:00\">21:00</time></div>\n",
       "<h3><a href=\"https://www.yomiuri.co.jp/life/horoscope/20230628-OYT8T50126/\">７月７日の運勢　おひつじ座は行事に積極的に参加して　やぎ座はただ行動あるのみ</a></h3>\n",
       "</article>\n",
       "<article>\n",
       "<div class=\"c-list-date\"><time datetime=\"2023-07-06T20:50\">20:50</time></div>\n",
       "<h3><a href=\"https://www.yomiuri.co.jp/sports/soccer/worldcup/20230706-OYT1T50256/\">なでしこジャパンが壮行会、主将の熊谷「世界で戦えることを証明したい」</a></h3>\n",
       "</article>\n",
       "<article>\n",
       "<div class=\"c-list-date\"><time datetime=\"2023-07-06T20:38\">20:38</time></div>\n",
       "<h3><a href=\"https://www.yomiuri.co.jp/culture/music/20230706-OYT1T50254/\">夏まゆみさん死去、６１歳…「ＡＫＢ４８」や「モー娘。」らにダンス指導</a></h3>\n",
       "</article>\n",
       "<article>\n",
       "<div class=\"c-list-date\"><time datetime=\"2023-07-06T20:32\">20:32</time></div>\n",
       "<h3><a href=\"https://www.yomiuri.co.jp/science/20230706-OYT1T50247/\">月面で土木作業する試作ロボットを公開…東大など研究チーム、離着陸拠点の整備を想定</a></h3>\n",
       "</article>\n",
       "<article>\n",
       "<div class=\"c-list-date\"><time datetime=\"2023-07-06T20:23\">20:23</time></div>\n",
       "<h3><a href=\"https://www.yomiuri.co.jp/national/20230706-OYT1T50251/\">小田急死傷事件で懲役２０年求刑、対馬悠介被告「検察の話を聞いてその通りだと納得」</a></h3>\n",
       "</article>\n",
       "<article>\n",
       "<div class=\"c-list-date\"><time datetime=\"2023-07-06T20:15\">20:15</time></div>\n",
       "<h3><a href=\"https://www.yomiuri.co.jp/world/20230706-OYT1T50248/\">反転攻勢「もっと早く始めたかった」、ゼレンスキー大統領がＦ１６など兵器供与加速を求める</a></h3>\n",
       "</article>\n",
       "</div>\n",
       "</section>\n",
       "<div class=\"ad\" id=\"ad_dfp_rec1\">\n",
       "<script>googletag.cmd.push(function () { googletag.display('ad_dfp_rec1'); });</script>\n",
       "</div>\n",
       "<div class=\"notification\">\n",
       "<h2><svg><use xlink:href=\"#icon_information\"></use></svg>読売新聞オンラインからのお知らせ</h2>\n",
       "<ul>\n",
       "<li>\n",
       "<h3><a href=\"https://www.yomiuri.co.jp/topics/20230222-SYT8T3843061/\">偽のサイト、メールにご注意ください</a></h3>\n",
       "</li>\n",
       "<li>\n",
       "<h3><a href=\"https://www.yomiuri.co.jp/joho\">社会部への情報提供はこちら</a></h3>\n",
       "<a class=\"tag\" href=\"https://www.yomiuri.co.jp/joho\">皆様からの情報をお待ちしています</a>\n",
       "</li>\n",
       "<li>\n",
       "<h3><a href=\"https://www.yomiuri.co.jp/sports/koshien/summer/20230523-SYT8T4166609/\">【随時更新】夏の甲子園　地方大会の組み合わせ</a></h3>\n",
       "<a class=\"tag\" href=\"https://www.yomiuri.co.jp/sports/koshien/summer/20230523-SYT8T4166609/\">全国への切符をつかむのはどの高校か</a>\n",
       "</li>\n",
       "<li>\n",
       "<h3><a href=\"https://www.yomiuri.co.jp/help/handling/#130\">読んだマークが表示されます　6ページでポイント</a></h3>\n",
       "<a class=\"tag\" href=\"https://www.yomiuri.co.jp/help/handling/#130\">読んだらポイントマラソン</a>\n",
       "</li>\n",
       "<li>\n",
       "<h3><a href=\"https://www.yomiuri.co.jp/culture/20230125-OYT1T50177/\">「英語力」「時事力」まとめて味方に</a></h3>\n",
       "<a class=\"tag\" href=\"https://www.yomiuri.co.jp/culture/20230125-OYT1T50177/\">電子書籍　社説で学ぶ時事英語</a>\n",
       "</li>\n",
       "<li>\n",
       "<h3><a href=\"https://www.yomiuri.co.jp/asaichi/\" target=\"_blank\">人生案内、編集手帳、連載小説</a></h3>\n",
       "<a class=\"tag\" href=\"https://www.yomiuri.co.jp/asaichi/\" target=\"_blank\">朝イチおすすめコーナーはこちらへ</a>\n",
       "</li>\n",
       "<li>\n",
       "<h3><a href=\"https://www.yomiuri.co.jp/life/horoscope/\" target=\"_blank\">あなたの運気を診断！　夢色☆占い</a></h3>\n",
       "<a class=\"tag\" href=\"https://www.yomiuri.co.jp/life/horoscope/\" target=\"_blank\">翌日の占いは午後９時アップです</a>\n",
       "</li>\n",
       "<li>\n",
       "<h3><a href=\"https://434381.yomiuri.co.jp/campaign/shukatsu/?from=yoltop\" target=\"_blank\">就活のプロに聞く　新聞は内定への近道</a></h3>\n",
       "</li>\n",
       "<li>\n",
       "<h3><a href=\"https://database.yomiuri.co.jp/about/kensaku/?utm_source=rgprsn&amp;utm_medium=yltp&amp;utm_campaign=migi2305\" target=\"_blank\">明治～令和、読売新聞150年の記事を検索</a></h3>\n",
       "<a class=\"tag\" href=\"https://database.yomiuri.co.jp/about/kensaku/?utm_source=rgprsn&amp;utm_medium=yltp&amp;utm_campaign=migi2305\" target=\"_blank\">個人向け「ヨミダス」月額330円から！</a>\n",
       "</li>\n",
       "<li>\n",
       "<h3><a href=\"https://www.yomiuri.co.jp/help/toukou/?utm_source=ysol&amp;utm_medium=sideText\">投稿・情報提供の窓口一覧はこちら</a></h3>\n",
       "<a class=\"tag\" href=\"https://www.yomiuri.co.jp/help/toukou/?utm_source=ysol&amp;utm_medium=sideText\">読売新聞への投稿、情報や写真・動画の提供先をご紹介しています</a>\n",
       "</li>\n",
       "</ul>\n",
       "</div>\n",
       "<div class=\"ranking\">\n",
       "<div class=\"p-contents-ranking-2020\" id=\"sidebar_ranking_access\">\n",
       "<input id=\"ajax_ranking_parameter\" type=\"hidden\" value=\"count,3\"/>\n",
       "</div>\n",
       "</div>\n",
       "</div>\n",
       "</div>\n",
       "<section class=\"home-2021-pickup\">\n",
       "<h2 class=\"home-2021-pickup__title\">ピックアップ</h2>\n",
       "<div class=\"home-2021-pickup__list\">\n",
       "<article>\n",
       "<figure>\n",
       "<a href=\"https://www.yomiuri.co.jp/column/japanesehistory/20230703-OYT8T50142/\">\n",
       "<picture>\n",
       "<source media=\"(min-width: 768px)\" srcset=\"/images/osusume/yol_top_tile/20230705_7HOsqf.jpg?type=PCTB_large\"/>\n",
       "<source media=\"(min-width: 600px)\" srcset=\"/images/osusume/yol_top_tile/20230705_7HOsqf.jpg?type=TB_small\"/>\n",
       "<source media=\"(min-width: 320px)\" srcset=\"/images/osusume/yol_top_tile/20230705_7HOsqf.jpg?type=SP_large\"/>\n",
       "<img alt=\"\" loading=\"lazy\" src=\"/images/osusume/yol_top_tile/20230705_7HOsqf.jpg\"/>\n",
       "</picture>\n",
       "</a>\n",
       "</figure>\n",
       "<h3>\n",
       "<a href=\"https://www.yomiuri.co.jp/column/japanesehistory/20230703-OYT8T50142/\">\n",
       "              「どうする家康」は甲冑にも注目…きらびやかな装飾に込められた徳川四天王と戦国三英傑の思い            </a>\n",
       "</h3>\n",
       "<p>\n",
       "<a href=\"https://www.yomiuri.co.jp/column/japanesehistory/20230703-OYT8T50142/\">\n",
       "              今につながる日本史　丸山淳一            </a>\n",
       "</p>\n",
       "</article>\n",
       "<article>\n",
       "<figure>\n",
       "<a href=\"https://www.yomiuri.co.jp/column/spotlight/20230704-OYT8T50075/\">\n",
       "<picture>\n",
       "<source media=\"(min-width: 768px)\" srcset=\"/images/osusume/yol_top_tile/20230705_6Fyaoq.jpg?type=PCTB_large\"/>\n",
       "<source media=\"(min-width: 600px)\" srcset=\"/images/osusume/yol_top_tile/20230705_6Fyaoq.jpg?type=TB_small\"/>\n",
       "<source media=\"(min-width: 320px)\" srcset=\"/images/osusume/yol_top_tile/20230705_6Fyaoq.jpg?type=SP_large\"/>\n",
       "<img alt=\"\" loading=\"lazy\" src=\"/images/osusume/yol_top_tile/20230705_6Fyaoq.jpg\"/>\n",
       "</picture>\n",
       "</a>\n",
       "</figure>\n",
       "<h3>\n",
       "<a href=\"https://www.yomiuri.co.jp/column/spotlight/20230704-OYT8T50075/\">\n",
       "              「給料なし　週５日バイト」も…激リアル動画で注目、谷桃子バレエ団の目指すこと            </a>\n",
       "</h3>\n",
       "<p>\n",
       "<a href=\"https://www.yomiuri.co.jp/column/spotlight/20230704-OYT8T50075/\">\n",
       "              スポットライト　編集委員　祐成秀樹            </a>\n",
       "</p>\n",
       "</article>\n",
       "<article>\n",
       "<figure>\n",
       "<a href=\"https://www.yomiuri.co.jp/culture/cinema/20230705-OYT1T50111/\">\n",
       "<picture>\n",
       "<source media=\"(min-width: 768px)\" srcset=\"/images/osusume/yol_top_tile/20230706_33pZEK.jpg?type=PCTB_large\"/>\n",
       "<source media=\"(min-width: 600px)\" srcset=\"/images/osusume/yol_top_tile/20230706_33pZEK.jpg?type=TB_small\"/>\n",
       "<source media=\"(min-width: 320px)\" srcset=\"/images/osusume/yol_top_tile/20230706_33pZEK.jpg?type=SP_large\"/>\n",
       "<img alt=\"\" loading=\"lazy\" src=\"/images/osusume/yol_top_tile/20230706_33pZEK.jpg\"/>\n",
       "</picture>\n",
       "</a>\n",
       "</figure>\n",
       "<h3>\n",
       "<a href=\"https://www.yomiuri.co.jp/culture/cinema/20230705-OYT1T50111/\">\n",
       "              喋らない清原果耶、緻密な計算で「近寄りがたい印象」を捨てたラブストーリー…映画「１秒先の彼」            </a>\n",
       "</h3>\n",
       "<p>\n",
       "<a href=\"https://www.yomiuri.co.jp/culture/cinema/20230705-OYT1T50111/\">\n",
       "              エンタメ・文化　映画            </a>\n",
       "</p>\n",
       "</article>\n",
       "<article>\n",
       "<figure>\n",
       "<a href=\"https://www.yomiuri.co.jp/otekomachi/20230619-OYT8T50043/?utm_source=yomiuri&amp;utm_medium=yol&amp;utm_campaign=yoltop_otekomachi\">\n",
       "<picture>\n",
       "<source media=\"(min-width: 768px)\" srcset=\"/images/osusume/yol_top_tile/20230706_CW5fFo.jpg?type=PCTB_large\"/>\n",
       "<source media=\"(min-width: 600px)\" srcset=\"/images/osusume/yol_top_tile/20230706_CW5fFo.jpg?type=TB_small\"/>\n",
       "<source media=\"(min-width: 320px)\" srcset=\"/images/osusume/yol_top_tile/20230706_CW5fFo.jpg?type=SP_large\"/>\n",
       "<img alt=\"\" loading=\"lazy\" src=\"/images/osusume/yol_top_tile/20230706_CW5fFo.jpg\"/>\n",
       "</picture>\n",
       "</a>\n",
       "</figure>\n",
       "<h3>\n",
       "<a href=\"https://www.yomiuri.co.jp/otekomachi/20230619-OYT8T50043/?utm_source=yomiuri&amp;utm_medium=yol&amp;utm_campaign=yoltop_otekomachi\">\n",
       "              【お悩み相談】主人、旦那はイヤ…パートナーの呼び方にモヤモヤ            </a>\n",
       "</h3>\n",
       "<p>\n",
       "<a href=\"https://www.yomiuri.co.jp/otekomachi/20230619-OYT8T50043/?utm_source=yomiuri&amp;utm_medium=yol&amp;utm_campaign=yoltop_otekomachi\">\n",
       "              大手小町　お悩みアドバイザー・山崎ケイ            </a>\n",
       "</p>\n",
       "</article>\n",
       "<article>\n",
       "<figure>\n",
       "<a href=\"https://www.yomiuri.co.jp/fukayomi/toyokeizai/20230705-SYT8T4313992/\">\n",
       "<picture>\n",
       "<source media=\"(min-width: 768px)\" srcset=\"/images/osusume/yol_top_tile/20230706_JhMBWW.jpg?type=PCTB_large\"/>\n",
       "<source media=\"(min-width: 600px)\" srcset=\"/images/osusume/yol_top_tile/20230706_JhMBWW.jpg?type=TB_small\"/>\n",
       "<source media=\"(min-width: 320px)\" srcset=\"/images/osusume/yol_top_tile/20230706_JhMBWW.jpg?type=SP_large\"/>\n",
       "<img alt=\"\" loading=\"lazy\" src=\"/images/osusume/yol_top_tile/20230706_JhMBWW.jpg\"/>\n",
       "</picture>\n",
       "</a>\n",
       "</figure>\n",
       "<h3>\n",
       "<a href=\"https://www.yomiuri.co.jp/fukayomi/toyokeizai/20230705-SYT8T4313992/\">\n",
       "              駅のない南アルプス市が東京から人を呼び込む訳            </a>\n",
       "</h3>\n",
       "<p>\n",
       "<a href=\"https://www.yomiuri.co.jp/fukayomi/toyokeizai/20230705-SYT8T4313992/\">\n",
       "              東洋経済オンラインから            </a>\n",
       "</p>\n",
       "</article>\n",
       "<article>\n",
       "<figure>\n",
       "<a href=\"https://www.yomiuri.co.jp/life/recipe/20230628-SYT8T4296419/\">\n",
       "<picture>\n",
       "<source media=\"(min-width: 768px)\" srcset=\"/images/osusume/yol_top_tile/20230706_nYSFoT.jpg?type=PCTB_large\"/>\n",
       "<source media=\"(min-width: 600px)\" srcset=\"/images/osusume/yol_top_tile/20230706_nYSFoT.jpg?type=TB_small\"/>\n",
       "<source media=\"(min-width: 320px)\" srcset=\"/images/osusume/yol_top_tile/20230706_nYSFoT.jpg?type=SP_large\"/>\n",
       "<img alt=\"\" loading=\"lazy\" src=\"/images/osusume/yol_top_tile/20230706_nYSFoT.jpg\"/>\n",
       "</picture>\n",
       "</a>\n",
       "</figure>\n",
       "<h3>\n",
       "<a href=\"https://www.yomiuri.co.jp/life/recipe/20230628-SYT8T4296419/\">\n",
       "              蒸し暑く食欲が落ちる時期、まろやかな酸味でコクのある黒酢の料理…「ササミの黒酢南蛮漬け」            </a>\n",
       "</h3>\n",
       "<p>\n",
       "<a href=\"https://www.yomiuri.co.jp/life/recipe/20230628-SYT8T4296419/\">\n",
       "              よみうりグルメ部　〈食　発酵ゴハン〉            </a>\n",
       "<svg class=\"home-2020-headline__svg1\"><use xlink:href=\"#icon_locked\"></use></svg>\n",
       "</p>\n",
       "</article>\n",
       "<article>\n",
       "<figure>\n",
       "<a href=\"https://www.yomiuri.co.jp/politics/20230705-OYT1T50249/\">\n",
       "<picture>\n",
       "<source media=\"(min-width: 768px)\" srcset=\"/images/osusume/yol_top_tile/20230706_tv0qie.jpg?type=PCTB_large\"/>\n",
       "<source media=\"(min-width: 600px)\" srcset=\"/images/osusume/yol_top_tile/20230706_tv0qie.jpg?type=TB_small\"/>\n",
       "<source media=\"(min-width: 320px)\" srcset=\"/images/osusume/yol_top_tile/20230706_tv0qie.jpg?type=SP_large\"/>\n",
       "<img alt=\"\" loading=\"lazy\" src=\"/images/osusume/yol_top_tile/20230706_tv0qie.jpg\"/>\n",
       "</picture>\n",
       "</a>\n",
       "</figure>\n",
       "<h3>\n",
       "<a href=\"https://www.yomiuri.co.jp/politics/20230705-OYT1T50249/\">\n",
       "              マイナ保険証　政府は一体化期限を維持…衆院閉会中審査　野党から批判相次ぐ「一番の障害は河野氏」            </a>\n",
       "</h3>\n",
       "<p>\n",
       "<a href=\"https://www.yomiuri.co.jp/politics/20230705-OYT1T50249/\">\n",
       "              スキャナー            </a>\n",
       "<svg class=\"home-2020-headline__svg1\"><use xlink:href=\"#icon_locked\"></use></svg>\n",
       "</p>\n",
       "</article>\n",
       "<article>\n",
       "<figure>\n",
       "<a href=\"https://www.yomiuri.co.jp/national/20230706-OYT1T50082/\">\n",
       "<picture>\n",
       "<source media=\"(min-width: 768px)\" srcset=\"/images/osusume/yol_top_tile/20230706_iFiUmW.jpg?type=PCTB_large\"/>\n",
       "<source media=\"(min-width: 600px)\" srcset=\"/images/osusume/yol_top_tile/20230706_iFiUmW.jpg?type=TB_small\"/>\n",
       "<source media=\"(min-width: 320px)\" srcset=\"/images/osusume/yol_top_tile/20230706_iFiUmW.jpg?type=SP_large\"/>\n",
       "<img alt=\"\" loading=\"lazy\" src=\"/images/osusume/yol_top_tile/20230706_iFiUmW.jpg\"/>\n",
       "</picture>\n",
       "</a>\n",
       "</figure>\n",
       "<h3>\n",
       "<a href=\"https://www.yomiuri.co.jp/national/20230706-OYT1T50082/\">\n",
       "              安倍元首相銃撃、ネットで英雄視くすぶり「暴力の連鎖」へ…宗教虐待の対策は道半ば            </a>\n",
       "</h3>\n",
       "<p>\n",
       "<a href=\"https://www.yomiuri.co.jp/national/20230706-OYT1T50082/\">\n",
       "              安倍元首相　銃撃１年＜上＞            </a>\n",
       "</p>\n",
       "</article>\n",
       "<article>\n",
       "<figure>\n",
       "<a href=\"https://www.yomiuri.co.jp/local/hiroshima/news/20230705-OYTNT50243/\">\n",
       "<picture>\n",
       "<source media=\"(min-width: 768px)\" srcset=\"/images/osusume/yol_top_tile/20230706_xnUIrU.jpg?type=PCTB_large\"/>\n",
       "<source media=\"(min-width: 600px)\" srcset=\"/images/osusume/yol_top_tile/20230706_xnUIrU.jpg?type=TB_small\"/>\n",
       "<source media=\"(min-width: 320px)\" srcset=\"/images/osusume/yol_top_tile/20230706_xnUIrU.jpg?type=SP_large\"/>\n",
       "<img alt=\"\" loading=\"lazy\" src=\"/images/osusume/yol_top_tile/20230706_xnUIrU.jpg\"/>\n",
       "</picture>\n",
       "</a>\n",
       "</figure>\n",
       "<h3>\n",
       "<a href=\"https://www.yomiuri.co.jp/local/hiroshima/news/20230705-OYTNT50243/\">\n",
       "              ＜広島・豪雨　５年＞夫の生きた証し　伝えたい…野球大好き　仲間思い            </a>\n",
       "</h3>\n",
       "<p>\n",
       "<a href=\"https://www.yomiuri.co.jp/feature/titlelist/%E8%A5%BF%E6%97%A5%E6%9C%AC%E8%B1%AA%E9%9B%A8%EF%BC%95%E5%B9%B4/\">\n",
       "               西日本豪雨５年            </a>\n",
       "</p>\n",
       "</article>\n",
       "<article>\n",
       "<figure>\n",
       "<a href=\"https://www.yomiuri.co.jp/otekomachi/20230629-OYT8T50006/?utm_source=yomiuri&amp;utm_medium=yol&amp;utm_campaign=yoltop_otekomachi\">\n",
       "<picture>\n",
       "<source media=\"(min-width: 768px)\" srcset=\"/images/osusume/yol_top_tile/20230706_zuaIXb.jpg?type=PCTB_large\"/>\n",
       "<source media=\"(min-width: 600px)\" srcset=\"/images/osusume/yol_top_tile/20230706_zuaIXb.jpg?type=TB_small\"/>\n",
       "<source media=\"(min-width: 320px)\" srcset=\"/images/osusume/yol_top_tile/20230706_zuaIXb.jpg?type=SP_large\"/>\n",
       "<img alt=\"\" loading=\"lazy\" src=\"/images/osusume/yol_top_tile/20230706_zuaIXb.jpg\"/>\n",
       "</picture>\n",
       "</a>\n",
       "</figure>\n",
       "<h3>\n",
       "<a href=\"https://www.yomiuri.co.jp/otekomachi/20230629-OYT8T50006/?utm_source=yomiuri&amp;utm_medium=yol&amp;utm_campaign=yoltop_otekomachi\">\n",
       "              【世界一黒い布】その名も特級暗黒布太黒門、全国の歯科医に激売れ            </a>\n",
       "</h3>\n",
       "<p>\n",
       "<a href=\"https://www.yomiuri.co.jp/otekomachi/20230629-OYT8T50006/?utm_source=yomiuri&amp;utm_medium=yol&amp;utm_campaign=yoltop_otekomachi\">\n",
       "              大手小町　辛酸なめ子のじわじわ時事ワード            </a>\n",
       "</p>\n",
       "</article>\n",
       "<article>\n",
       "<figure>\n",
       "<a href=\"https://www.yomiuri.co.jp/national/20230706-OYT1T50093/\">\n",
       "<picture>\n",
       "<source media=\"(min-width: 768px)\" srcset=\"/images/osusume/yol_top_tile/20230706_oOQy9m.jpg?type=PCTB_large\"/>\n",
       "<source media=\"(min-width: 600px)\" srcset=\"/images/osusume/yol_top_tile/20230706_oOQy9m.jpg?type=TB_small\"/>\n",
       "<source media=\"(min-width: 320px)\" srcset=\"/images/osusume/yol_top_tile/20230706_oOQy9m.jpg?type=SP_large\"/>\n",
       "<img alt=\"\" loading=\"lazy\" src=\"/images/osusume/yol_top_tile/20230706_oOQy9m.jpg\"/>\n",
       "</picture>\n",
       "</a>\n",
       "</figure>\n",
       "<h3>\n",
       "<a href=\"https://www.yomiuri.co.jp/national/20230706-OYT1T50093/\">\n",
       "              「バスケは電通でしょ」組織委元次長の露骨な調整、法廷で明らかに…「門番」として他社差配            </a>\n",
       "</h3>\n",
       "<p>\n",
       "<a href=\"https://www.yomiuri.co.jp/national/20230706-OYT1T50093/\">\n",
       "              社会            </a>\n",
       "</p>\n",
       "</article>\n",
       "<article>\n",
       "<figure>\n",
       "<a href=\"https://www.yomiuri.co.jp/local/kansai/news/20230706-OYO1T50007/\">\n",
       "<picture>\n",
       "<source media=\"(min-width: 768px)\" srcset=\"/images/osusume/yol_top_tile/20230706_60HjSU.jpg?type=PCTB_large\"/>\n",
       "<source media=\"(min-width: 600px)\" srcset=\"/images/osusume/yol_top_tile/20230706_60HjSU.jpg?type=TB_small\"/>\n",
       "<source media=\"(min-width: 320px)\" srcset=\"/images/osusume/yol_top_tile/20230706_60HjSU.jpg?type=SP_large\"/>\n",
       "<img alt=\"\" loading=\"lazy\" src=\"/images/osusume/yol_top_tile/20230706_60HjSU.jpg\"/>\n",
       "</picture>\n",
       "</a>\n",
       "</figure>\n",
       "<h3>\n",
       "<a href=\"https://www.yomiuri.co.jp/local/kansai/news/20230706-OYO1T50007/\">\n",
       "              災害「警戒レベル」情報、「多すぎて分かりにくい」…さみだれ式に発令・必ずしも避難につながらない実態も            </a>\n",
       "</h3>\n",
       "<p>\n",
       "<a href=\"https://www.yomiuri.co.jp/feature/titlelist/%E8%A5%BF%E6%97%A5%E6%9C%AC%E8%B1%AA%E9%9B%A8%EF%BC%95%E5%B9%B4/\">\n",
       "              西日本豪雨５年            </a>\n",
       "</p>\n",
       "</article>\n",
       "<article>\n",
       "<figure>\n",
       "<a href=\"https://www.yomiuri.co.jp/hobby/travel/ryokou-select/20230629-OYT8T50008/\">\n",
       "<picture>\n",
       "<source media=\"(min-width: 768px)\" srcset=\"/images/osusume/yol_top_tile/20230706_3TuHdU.jpg?type=PCTB_large\"/>\n",
       "<source media=\"(min-width: 600px)\" srcset=\"/images/osusume/yol_top_tile/20230706_3TuHdU.jpg?type=TB_small\"/>\n",
       "<source media=\"(min-width: 320px)\" srcset=\"/images/osusume/yol_top_tile/20230706_3TuHdU.jpg?type=SP_large\"/>\n",
       "<img alt=\"\" loading=\"lazy\" src=\"/images/osusume/yol_top_tile/20230706_3TuHdU.jpg\"/>\n",
       "</picture>\n",
       "</a>\n",
       "</figure>\n",
       "<h3>\n",
       "<a href=\"https://www.yomiuri.co.jp/hobby/travel/ryokou-select/20230629-OYT8T50008/\">\n",
       "              釧路への思い、「気づき」からつながっていく            </a>\n",
       "</h3>\n",
       "<p>\n",
       "<a href=\"https://www.yomiuri.co.jp/hobby/travel/ryokou-select/20230629-OYT8T50008/\">\n",
       "              旅行読売セレクト            </a>\n",
       "</p>\n",
       "</article>\n",
       "<article>\n",
       "<figure>\n",
       "<a href=\"https://yomidr.yomiuri.co.jp/article/20230620-OYTET50013/?utm_source=yomiuri&amp;utm_medium=yol&amp;utm_campaign=yoltop_yomidr\">\n",
       "<picture>\n",
       "<source media=\"(min-width: 768px)\" srcset=\"/images/osusume/yol_top_tile/20230706_tnz7hv.jpg?type=PCTB_large\"/>\n",
       "<source media=\"(min-width: 600px)\" srcset=\"/images/osusume/yol_top_tile/20230706_tnz7hv.jpg?type=TB_small\"/>\n",
       "<source media=\"(min-width: 320px)\" srcset=\"/images/osusume/yol_top_tile/20230706_tnz7hv.jpg?type=SP_large\"/>\n",
       "<img alt=\"\" loading=\"lazy\" src=\"/images/osusume/yol_top_tile/20230706_tnz7hv.jpg\"/>\n",
       "</picture>\n",
       "</a>\n",
       "</figure>\n",
       "<h3>\n",
       "<a href=\"https://yomidr.yomiuri.co.jp/article/20230620-OYTET50013/?utm_source=yomiuri&amp;utm_medium=yol&amp;utm_campaign=yoltop_yomidr\">\n",
       "              がん患者にとっての「幸せ」ってなんですか？            </a>\n",
       "</h3>\n",
       "<p>\n",
       "<a href=\"https://yomidr.yomiuri.co.jp/article/20230620-OYTET50013/?utm_source=yomiuri&amp;utm_medium=yol&amp;utm_campaign=yoltop_yomidr\">\n",
       "              ヨミドクター　Dr.高野の「腫瘍内科医になんでも聞いてみよう」            </a>\n",
       "</p>\n",
       "</article>\n",
       "<article>\n",
       "<figure>\n",
       "<a href=\"https://yomidr.yomiuri.co.jp/article/20230627-OYTET50013/?utm_source=yomiuri&amp;utm_medium=yol&amp;utm_campaign=yoltop_yomidr\">\n",
       "<picture>\n",
       "<source media=\"(min-width: 768px)\" srcset=\"/images/osusume/yol_top_tile/20230706_8QbDbp.jpg?type=PCTB_large\"/>\n",
       "<source media=\"(min-width: 600px)\" srcset=\"/images/osusume/yol_top_tile/20230706_8QbDbp.jpg?type=TB_small\"/>\n",
       "<source media=\"(min-width: 320px)\" srcset=\"/images/osusume/yol_top_tile/20230706_8QbDbp.jpg?type=SP_large\"/>\n",
       "<img alt=\"\" loading=\"lazy\" src=\"/images/osusume/yol_top_tile/20230706_8QbDbp.jpg\"/>\n",
       "</picture>\n",
       "</a>\n",
       "</figure>\n",
       "<h3>\n",
       "<a href=\"https://yomidr.yomiuri.co.jp/article/20230627-OYTET50013/?utm_source=yomiuri&amp;utm_medium=yol&amp;utm_campaign=yoltop_yomidr\">\n",
       "              ［食中毒］夏場の調理で気をつけたい三つのポイント            </a>\n",
       "</h3>\n",
       "<p>\n",
       "<a href=\"https://yomidr.yomiuri.co.jp/article/20230627-OYTET50013/?utm_source=yomiuri&amp;utm_medium=yol&amp;utm_campaign=yoltop_yomidr\">\n",
       "              ヨミドクター　山口真弓の「子どものココロとカラダを育む簡単レシピ」            </a>\n",
       "</p>\n",
       "</article>\n",
       "<article>\n",
       "<figure>\n",
       "<a href=\"https://www.yomiuri.co.jp/column/nyancology/20230703-OYT8T50053/\">\n",
       "<picture>\n",
       "<source media=\"(min-width: 768px)\" srcset=\"/images/osusume/yol_top_tile/20230703_PnUcp2.jpg?type=PCTB_large\"/>\n",
       "<source media=\"(min-width: 600px)\" srcset=\"/images/osusume/yol_top_tile/20230703_PnUcp2.jpg?type=TB_small\"/>\n",
       "<source media=\"(min-width: 320px)\" srcset=\"/images/osusume/yol_top_tile/20230703_PnUcp2.jpg?type=SP_large\"/>\n",
       "<img alt=\"\" loading=\"lazy\" src=\"/images/osusume/yol_top_tile/20230703_PnUcp2.jpg\"/>\n",
       "</picture>\n",
       "</a>\n",
       "</figure>\n",
       "<h3>\n",
       "<a href=\"https://www.yomiuri.co.jp/column/nyancology/20230703-OYT8T50053/\">\n",
       "              ［猫学］猫の飼い主になるかは巡り合わせ――５年前に出会った子猫のいま            </a>\n",
       "</h3>\n",
       "<p>\n",
       "<a href=\"https://www.yomiuri.co.jp/column/nyancology/20230703-OYT8T50053/\">\n",
       "              猫学（ニャンコロジー）            </a>\n",
       "</p>\n",
       "</article>\n",
       "<article>\n",
       "<figure>\n",
       "<a href=\"https://marieclairejapon.com/culture/128217/\">\n",
       "<picture>\n",
       "<source media=\"(min-width: 768px)\" srcset=\"/images/osusume/yol_top_tile/20230705_pmo94k.jpg?type=PCTB_large\"/>\n",
       "<source media=\"(min-width: 600px)\" srcset=\"/images/osusume/yol_top_tile/20230705_pmo94k.jpg?type=TB_small\"/>\n",
       "<source media=\"(min-width: 320px)\" srcset=\"/images/osusume/yol_top_tile/20230705_pmo94k.jpg?type=SP_large\"/>\n",
       "<img alt=\"\" loading=\"lazy\" src=\"/images/osusume/yol_top_tile/20230705_pmo94k.jpg\"/>\n",
       "</picture>\n",
       "</a>\n",
       "</figure>\n",
       "<h3>\n",
       "<a href=\"https://marieclairejapon.com/culture/128217/\">\n",
       "              ベッカムも一家でラーメン！来日セレブの出没スポットを追跡            </a>\n",
       "</h3>\n",
       "<p>\n",
       "<a href=\"https://marieclairejapon.com/culture/128217/\">\n",
       "              マリ・クレール            </a>\n",
       "</p>\n",
       "</article>\n",
       "<article>\n",
       "<figure>\n",
       "<a href=\"https://www.yomiuri.co.jp/kyoiku/support/information/CO036644/20230418-OYT8T50005/\">\n",
       "<picture>\n",
       "<source media=\"(min-width: 768px)\" srcset=\"/images/osusume/yol_top_tile/20230706_m4opn4.jpg?type=PCTB_large\"/>\n",
       "<source media=\"(min-width: 600px)\" srcset=\"/images/osusume/yol_top_tile/20230706_m4opn4.jpg?type=TB_small\"/>\n",
       "<source media=\"(min-width: 320px)\" srcset=\"/images/osusume/yol_top_tile/20230706_m4opn4.jpg?type=SP_large\"/>\n",
       "<img alt=\"\" loading=\"lazy\" src=\"/images/osusume/yol_top_tile/20230706_m4opn4.jpg\"/>\n",
       "</picture>\n",
       "</a>\n",
       "</figure>\n",
       "<h3>\n",
       "<a href=\"https://www.yomiuri.co.jp/kyoiku/support/information/CO036644/20230418-OYT8T50005/\">\n",
       "              【特集】自ら問いを見いだす力を養う２年がかりの「探究」授業…東京女学館            </a>\n",
       "</h3>\n",
       "<p>\n",
       "<a href=\"https://www.yomiuri.co.jp/kyoiku/support/information/CO036644/20230418-OYT8T50005/\">\n",
       "              中学受験サポート            </a>\n",
       "</p>\n",
       "</article>\n",
       "<!--article>\n",
       "          <figure>\n",
       "            <a href=\"https://yomipo.yomiuri.co.jp/fukubiki/\">\n",
       "              <picture>\n",
       "                <source media=\"(min-width: 768px)\" srcset=\"/media/2023/07/tile-fukubikiall230708.jpg?type=PCTB_large\">\n",
       "                <source media=\"(min-width: 600px)\" srcset=\"/media/2023/07/tile-fukubikiall230708.jpg?type=TB_small\">\n",
       "                <source media=\"(min-width: 320px)\" srcset=\"/media/2023/07/tile-fukubikiall230708.jpg?type=SP_large\">\n",
       "                <img src=\"/media/2023/07/tile-fukubikiall230708.jpg\" alt=\"\" loading=\"lazy\">\n",
       "              </picture>\n",
       "            </a>\n",
       "          </figure>\n",
       "          <h3><a href=\"https://yomipo.yomiuri.co.jp/fukubiki/\">8、9日は福引全員当選デー</a></h3>\n",
       "          <p><a href=\"https://yomipo.yomiuri.co.jp/fukubiki/\">よみぽランド　1ポイント絶対当たる‼</a><a href=\"\"></a>\n",
       "　　　</article-->\n",
       "<article>\n",
       "<figure>\n",
       "<a href=\"https://game.yomipo.yomiuri.co.jp/quiz/campaign/media/86/howto-lp.html\">\n",
       "<picture>\n",
       "<source media=\"(min-width: 768px)\" srcset=\"/media/2023/06/tile_brainex.png?type=PCTB_large\"/>\n",
       "<source media=\"(min-width: 600px)\" srcset=\"/media/2023/06/tile_brainex.png?type=TB_small\"/>\n",
       "<source 06=\"\" 2023=\"\" media=\"\" tile_brainex.png?type='SP_large\"'/>\n",
       "<img alt=\"頭の体操クイズ　最大2000㌽当たる‼\" loading=\"lazy\" src=\"/media/2023/06/tile_brainex.png\"/>\n",
       "</picture>\n",
       "</a>\n",
       "</figure>\n",
       "<h3><a href=\"https://game.yomipo.yomiuri.co.jp/quiz/campaign/media/86/howto-lp.html\">頭の体操クイズ　最大2000㌽当たる‼</a></h3>\n",
       "<p><a href=\"https://game.yomipo.yomiuri.co.jp/quiz/campaign/media/86/howto-lp.html\">1日3回挑戦　クイズに答えてポイントためよう‼</a></p>\n",
       "</article>\n",
       "<article>\n",
       "<!-- 広告枠 -->\n",
       "<div id=\"ad_dfp_pickup-tile1\">\n",
       "<script>\n",
       "          googletag.cmd.push(function() {googletag.display('ad_dfp_pickup-tile1'); });\n",
       "        </script>\n",
       "</div>\n",
       "</article>\n",
       "</div>\n",
       "</section>\n",
       "<div class=\"uni-home-2020 home-2020-wrap\">\n",
       "<div class=\"home-2020-ad-text home-2020-ad-text2\">\n",
       "<ul>\n",
       "<li id=\"ad_dfp_thumbnail-txt1\">\n",
       "<script>googletag.cmd.push(function() {googletag.display('ad_dfp_thumbnail-txt1'); });</script>\n",
       "</li>\n",
       "<li id=\"ad_dfp_thumbnail-txt2\">\n",
       "<script>googletag.cmd.push(function() {googletag.display('ad_dfp_thumbnail-txt2'); });</script>\n",
       "</li>\n",
       "<li id=\"ad_dfp_thumbnail-txt3\">\n",
       "<script>googletag.cmd.push(function() {googletag.display('ad_dfp_thumbnail-txt3'); });</script>\n",
       "</li>\n",
       "</ul>\n",
       "</div>\n",
       "<div class=\"home-2020-box home-2020-ntvnews\">\n",
       "<h2>日テレNEWS24 配信中</h2>\n",
       "<div class=\"home-2020-ntvnews-movie\">\n",
       "<div class=\"home-2020-ntvnews-movie__box\">\n",
       "<img alt=\"日テレNEWS24\" loading=\"lazy\" src=\"https://news.ntv.co.jp/images/live_thumbnail_pc.jpg\"/>\n",
       "<div class=\"home-2020-ntvnews-movie__login\"><a href=\"/member/login/?to=%2f%23NNN24Video\">ログインして再生</a></div>\n",
       "</div>\n",
       "</div>\n",
       "<div class=\"home-2020-ntvnews-ad\">\n",
       "<ul>\n",
       "<li id=\"ad_dfp_middle-rec1\"><script>googletag.cmd.push(function() {googletag.display('ad_dfp_middle-rec1'); });</script></li>\n",
       "<li id=\"ad_dfp_middle-rec2\"><script>googletag.cmd.push(function() {googletag.display('ad_dfp_middle-rec2'); });</script></li>\n",
       "</ul>\n",
       "</div>\n",
       "</div>\n",
       "<div class=\"home-2020-box home-2020-headline home-2020-campaign\">\n",
       "<h2><a href=\"https://yomipo.yomiuri.co.jp/present\">キャンペーン&amp;プレゼント<svg><use xlink:href=\"#arrow_r\"></use></svg></a></h2>\n",
       "<ul>\n",
       "<li>\n",
       "<figure><a href=\"https://yomipo.yomiuri.co.jp/present/detail/7762\"><img alt=\"\" loading=\"lazy\" src=\"https://d2x7ubddzu7b7n.cloudfront.net/yomiuri/present/9c779e26-7960-3eb3-aebb-4fb8592816a0.png\"/></a></figure>\n",
       "<h3><a href=\"https://yomipo.yomiuri.co.jp/present/detail/7762\">【美食広場】ロマンチックな七夕を…　「恋する素麺」を５人に</a></h3>\n",
       "</li>\n",
       "<li>\n",
       "<figure><a href=\"https://yomipo.yomiuri.co.jp/present/detail/7747\"><img alt=\"\" loading=\"lazy\" src=\"https://d2x7ubddzu7b7n.cloudfront.net/yomiuri/present/79c38c27-7cc1-33ac-9802-808bee95b04e.png\"/></a></figure>\n",
       "<h3><a href=\"https://yomipo.yomiuri.co.jp/present/detail/7747\">タキイ種苗の９月にまく野菜のタネ３種セットを５人に</a></h3>\n",
       "</li>\n",
       "<li>\n",
       "<figure><a href=\"https://yomipo.yomiuri.co.jp/present/detail/7761\"><img alt=\"\" loading=\"lazy\" src=\"https://d2x7ubddzu7b7n.cloudfront.net/yomiuri/present/b317b772-b6df-312d-9d69-643e09e7a8d7.png\"/></a></figure>\n",
       "<h3><a href=\"https://yomipo.yomiuri.co.jp/present/detail/7761\">チューリップ結成50周年記念出版　財津和夫著「じじぃは蜜の味」を10人に</a></h3>\n",
       "</li>\n",
       "</ul>\n",
       "</div>\n",
       "<div class=\"home-2020-box home-2020-headline home-2020-coupon\">\n",
       "<h2><a href=\"/coupon/\">新着クーポン<svg><use xlink:href=\"#arrow_r\"></use></svg></a></h2>\n",
       "<ul>\n",
       "<li>\n",
       "<figure><a href=\"https://www.yomiuri.co.jp/coupon/coupon-detail/629?return=1\"><img alt=\"参考画像\" loading=\"lazy\" src=\"/images/coupon/yamagata_gachirin2.jpg?type=medium\"/></a></figure>\n",
       "<h3><a href=\"https://www.yomiuri.co.jp/coupon/coupon-detail/629?return=1\">ラーメン 月輪（がちりん）【酒田市】</a></h3>\n",
       "<p>\n",
       "<a href=\"https://www.yomiuri.co.jp/coupon/coupon-detail/629?return=1\">\n",
       "                    注文時クーポンをご提示のお客様1名様に麺大盛りまたはチャーシュー1枚サービス                    </a>\n",
       "</p>\n",
       "</li>\n",
       "<li>\n",
       "<figure><a href=\"https://www.yomiuri.co.jp/coupon/coupon-detail/630?return=1\"><img alt=\"参考画像\" loading=\"lazy\" src=\"/images/coupon/yamagata_koouken2.jpg?type=medium\"/></a></figure>\n",
       "<h3><a href=\"https://www.yomiuri.co.jp/coupon/coupon-detail/630?return=1\">中華そば 虎煌軒（こおうけん）【酒田市】</a></h3>\n",
       "<p>\n",
       "<a href=\"https://www.yomiuri.co.jp/coupon/coupon-detail/630?return=1\">\n",
       "                    注文時クーポンをご提示のお客様1名様に麺大盛りまたはチャーシュー1枚サービス                    </a>\n",
       "</p>\n",
       "</li>\n",
       "<li>\n",
       "<figure><a href=\"https://www.yomiuri.co.jp/coupon/coupon-detail/623?return=1\"><img alt=\"参考画像\" loading=\"lazy\" src=\"/images/coupon/syutousekiyu.jpg?type=medium\"/></a></figure>\n",
       "<h3><a href=\"https://www.yomiuri.co.jp/coupon/coupon-detail/623?return=1\">首藤石油</a></h3>\n",
       "<p>\n",
       "<a href=\"https://www.yomiuri.co.jp/coupon/coupon-detail/623?return=1\">\n",
       "                    洗車30％OFF                    </a>\n",
       "</p>\n",
       "</li>\n",
       "</ul>\n",
       "</div>\n",
       "<div class=\"home-2020-box home-2020-dazn\">\n",
       "<h2 id=\"dazn\">DAZNでプロ野球＆Jリーグを見よう！</h2>\n",
       "<div class=\"home-2020-dazn__content\">\n",
       "<ul>\n",
       "<!--<li>\n",
       "  <div class=\"home-2020-dazn__login\">\n",
       "                      <figure><img src=\"/media/2019/03/20190312_Sugano4_500.jpg\" alt=\"DAZN\" width=\"460\" height=\"305\" loading=\"lazy\"></figure>\n",
       "  <div><a href=\"/member/reg_top/\">ログインして再生</a></div>\n",
       "  </div>\n",
       "                      <p>プロ野球・ハイライト</p>\n",
       "                  </li>\n",
       "                  <li>\n",
       "  <div class=\"home-2020-dazn__login\">\n",
       "                      <figure><img src=\"/media/2019/03/20190314_White_JL19060_d26_500.jpg\" alt=\"DAZN\" width=\"460\" height=\"305\" loading=\"lazy\"></figure>\n",
       "  <div><a href=\"/member/reg_top/\">ログインして再生</a></div>\n",
       "                      </div>\n",
       "                      <p>J1リーグ・ダイジェスト</p>\n",
       "                  </li>-->\n",
       "<li class=\"dazn_banner\">\n",
       "<a href=\"/topics/20210907-SYT8T2347691/\"><figure><img alt=\"DAZN\" height=\"178\" loading=\"lazy\" src=\"/media/2022/03/dazn_banner_202203.jpg\" width=\"950\"/></figure></a>\n",
       "</li>\n",
       "</ul>\n",
       "</div>\n",
       "<div class=\"home-2020-dazn__ad\" id=\"ad_dfp_rec2\">\n",
       "<script>googletag.cmd.push(function() {googletag.display('ad_dfp_rec2'); });</script>\n",
       "</div>\n",
       "</div>\n",
       "<div class=\"home-2020-ad-wide\">\n",
       "<div id=\"ad_dfp_banner3\">\n",
       "<script>googletag.cmd.push(function() {googletag.display('ad_dfp_banner3'); });</script>\n",
       "</div>\n",
       "</div>\n",
       "</div>\n",
       "<footer class=\"p-footer-2020\">\n",
       "<div class=\"yomipo-footer\"></div>\n",
       "<div class=\"p-footer-2020-box p-footer-2020-bannerlinks\">　\n",
       "      <ul>\n",
       "<li>\n",
       "<figure><a href=\"/kodomo/\"><img alt=\"読売KODOMO新聞\" height=\"50\" loading=\"lazy\" src=\"/assets/images/common/dc-2020_footer_bn_kodomo-20230630032416.png\" width=\"200\"/></a></figure>\n",
       "<p>読売KODOMO新聞</p>\n",
       "</li>\n",
       "<li>\n",
       "<figure><a href=\"/teen/\"><img alt=\"読売中高生新聞\" height=\"50\" loading=\"lazy\" src=\"/assets/images/common/dc-2020_footer_bn_teen-20230630032416.png\" width=\"200\"/></a></figure>\n",
       "<p>読売中高生新聞</p>\n",
       "</li>\n",
       "<li>\n",
       "<figure><a href=\"https://japannews.yomiuri.co.jp/\" target=\"_blank\"><img alt=\"The Japan News\" height=\"50\" loading=\"lazy\" src=\"https://www.yomiuri.co.jp/media/2022/03/dc-2022_footer_bn_japannews.png\" width=\"200\"/></a></figure>\n",
       "<p>The Japan News</p>\n",
       "</li>\n",
       "</ul>\n",
       "</div>\n",
       "<div class=\"p-footer-2020-box p-footer-2020-operationsite\" data-nosnippet=\"\">\n",
       "<div class=\"p-footer-2020-box__title\">読売新聞社の運営するサイト</div>\n",
       "<div class=\"\">\n",
       "<ul>\n",
       "<li>\n",
       "<figure><a href=\"https://komachi.yomiuri.co.jp/\" target=\"_blank\"><img alt=\"発言小町\" height=\"100\" loading=\"lazy\" src=\"/assets/images/common/dc-2020_footer_icon_hatsugenkomachi-20230630032416.jpg\" width=\"100\"/></a></figure>\n",
       "<h3><a href=\"https://komachi.yomiuri.co.jp/\" target=\"_blank\">発言小町</a></h3>\n",
       "<p>「発言小町」は、読売新聞が運営する女性向け掲示板で、女性のホンネが分かる「ネット版井戸端会議」の場です。</p>\n",
       "</li>\n",
       "<li>\n",
       "<figure><a href=\"https://yomidr.yomiuri.co.jp/\" target=\"_blank\"><img alt=\"yomiDr.\" height=\"100\" loading=\"lazy\" src=\"/assets/images/common/dc-2020_footer_icon_yomidr-20230630032416.jpg\" width=\"100\"/></a></figure>\n",
       "<h3><a href=\"https://yomidr.yomiuri.co.jp/\" target=\"_blank\">ヨミドクター</a></h3>\n",
       "<p>yomiDr.（ヨミドクター）は、読売新聞の医療・介護・健康情報サイトです。</p>\n",
       "</li>\n",
       "<li>\n",
       "<figure><a href=\"/otekomachi/\" target=\"_blank\"><img alt=\"大手小町\" height=\"100\" loading=\"lazy\" src=\"/assets/images/footer/dc-footer_icon_otekomachi_v2-20230630032416.png\" width=\"100\"/></a></figure>\n",
       "<h3><a href=\"/otekomachi/\" target=\"_blank\">大手小町</a></h3>\n",
       "<p>大手小町は「どんな私も、好きになる。」をテーマに、キャリアや恋愛・結婚、ジェンダーにまつわる情報を発信するサイトです。</p>\n",
       "</li>\n",
       "<li>\n",
       "<figure><a href=\"https://ideamarket.yomiuri.co.jp/\" target=\"_blank\"><img alt=\"アイデア マーケット\" height=\"100\" loading=\"lazy\" src=\"https://www.yomiuri.co.jp/media/2020/07/ideamarket_brand-LL_200-200.png\" width=\"100\"/></a></figure>\n",
       "<h3><a href=\"https://ideamarket.yomiuri.co.jp/\" target=\"_blank\">idea market</a></h3>\n",
       "<p>idea market（アイデア マーケット）」は、読売新聞が運営するクラウドファンディングのサイトです。</p>\n",
       "</li>\n",
       "<li>\n",
       "<figure><a href=\"https://artexhibition.jp/\" target=\"_blank\"><img alt=\"美術展ナビ\" height=\"100\" loading=\"lazy\" src=\"/assets/images/common/dc-2020_footer_icon_aej-20230630032416.jpg\" width=\"100\"/></a></figure>\n",
       "<h3><a href=\"https://artexhibition.jp/\" target=\"_blank\">美術展ナビ</a></h3>\n",
       "<p>読売新聞が運営する美術館・博物館情報の総合ポータルページです。読売新聞主催の展覧会の他、全国美術館の情報を紹介します。</p>\n",
       "</li>\n",
       "<li>\n",
       "<figure><a href=\"https://tsumugu.yomiuri.co.jp\" target=\"_blank\"><img alt=\"紡ぐプロジェクト\" height=\"100\" loading=\"lazy\" src=\"https://www.yomiuri.co.jp/media/2022/06/tsumugu_icon-.jpg\" width=\"100\"/></a></figure>\n",
       "<h3><a href=\"https://tsumugu.yomiuri.co.jp\" target=\"_blank\">紡ぐプロジェクト</a></h3>\n",
       "<p>文化庁、宮内庁、読売新聞社で行う「紡ぐプロジェクト」公式サイト。日本美術と伝統芸能など日本文化の魅力を伝えます。</p>\n",
       "</li>\n",
       "<li>\n",
       "<figure><a href=\"https://dentou.yomiuri.co.jp/\" target=\"_blank\"><img alt=\"Action伝統文化\" height=\"100\" loading=\"lazy\" src=\"/media/2023/06/dentou_footer_bnr.jpg\" width=\"100\"/></a></figure>\n",
       "<h3><a href=\"https://dentou.yomiuri.co.jp/\" target=\"_blank\">Action!伝統文化</a></h3>\n",
       "<p>日本の伝統文化を振興する「Action!伝統文化」のサイトです。企業や自治体などと連携し、工芸や芸能を盛り上げる事業を進めます。</p>\n",
       "</li>\n",
       "<li>\n",
       "<figure><a href=\"https://yomiuri-kiko.or.jp/\" target=\"_blank\"><img alt=\"読売調査研究機構\" height=\"100\" loading=\"lazy\" src=\"https://www.yomiuri.co.jp/media/2020/07/読売調査研究機構ロゴ白抜き（100×100）.jpg\" width=\"100\"/></a></figure>\n",
       "<h3><a href=\"https://yomiuri-kiko.or.jp/\" target=\"_blank\">読売調査研究機構</a></h3>\n",
       "<p>東京、北海道、東北、中部、北陸を拠点に、著名な講師を招いた講演会や対談、読売新聞記者によるセミナーなどを開催しています。</p>\n",
       "</li>\n",
       "<li>\n",
       "<figure><a href=\"http://kyoiku.yomiuri.co.jp/\" target=\"_blank\"><img alt=\"教育ネットワーク\" height=\"100\" loading=\"lazy\" src=\"https://www.yomiuri.co.jp/media/2020/11/kyoikunw_logo_b.jpg\" width=\"100\"/></a></figure>\n",
       "<h3><a href=\"http://kyoiku.yomiuri.co.jp/\" target=\"_blank\">教育ネットワーク</a></h3>\n",
       "<p>読売新聞の教育プログラムやイベントを紹介するサイトです。読売ワークシート通信や出前授業もこちらから申し込めます。</p>\n",
       "</li>\n",
       "<li>\n",
       "<figure><a href=\"https://database.yomiuri.co.jp/\" target=\"_blank\"><img alt=\"データベース「ヨミダス」\" height=\"100\" loading=\"lazy\" src=\"https://www.yomiuri.co.jp/media/2022/06/yomidas03.jpg\" width=\"100\"/></a></figure>\n",
       "<h3><a href=\"https://database.yomiuri.co.jp/\" target=\"_blank\">データベース「ヨミダス」</a></h3>\n",
       "<p>明治からの読売新聞記事1,400万件以上がネットで読める有料データベース「ヨミダス歴史館」などについて紹介しています。</p>\n",
       "</li>\n",
       "<li>\n",
       "<figure><a href=\"https://bosai.yomiuri.co.jp/\" target=\"_blank\"><img alt=\"防災ニッポン\" loading=\"lazy\" src=\"https://www.yomiuri.co.jp/media/2020/08/防災ニッポンタイトル_100_100Jpeg.jpg\"/></a></figure>\n",
       "<h3><a href=\"https://bosai.yomiuri.co.jp/\" target=\"_blank\">防災ニッポン</a></h3>\n",
       "<p>読売新聞社のくらし×防災メディアです。身近な防災情報を幅広く紹介しています。企業・自治体向け<a href=\"https://bosai.yomiuri.co.jp/biz/\" target=\"_blank\"><b>「防災ニッポン＋」</b></a>も活用ください。</p>\n",
       "</li>\n",
       "<li>\n",
       "<figure><a href=\"//genki-nippon.yomiuri.co.jp/\" target=\"_blank\"><img alt=\"元気、ニッポン！\" loading=\"lazy\" src=\"/assets/images/common/dc-2020_footer_icon_genki-20230630032416.jpg\"/></a></figure>\n",
       "<h3><a href=\"//genki-nippon.yomiuri.co.jp/\" target=\"_blank\">元気、ニッポン！</a></h3>\n",
       "<p>読売新聞社はスポーツを通じて日本を元気にする「元気、ニッポン！」プロジェクトを始めます。</p>\n",
       "</li>\n",
       "<li>\n",
       "<figure><a href=\"/kyoiku/support/\" target=\"_blank\"><img alt=\"中学受験サポート\" height=\"100\" loading=\"lazy\" src=\"https://www.yomiuri.co.jp/media/2020/07/jukensupport1.png\" width=\"100\"/></a></figure>\n",
       "<h3><a href=\"/kyoiku/support/\" target=\"_blank\">中学受験サポート</a></h3>\n",
       "<p>読売新聞による私立中学受験のための総合情報ページです。学校の最新情報のほか人気ライターによるお役立ちコラムも掲載中です。</p>\n",
       "</li>\n",
       "<li>\n",
       "<figure><a href=\"//tabiyomi.yomiuri-ryokou.co.jp/?provide=24&amp;utm_source=web&amp;utm_medium=yomiuri_online&amp;utm_campaign=bnr_tabiyomi\" target=\"_blank\"><img alt=\"たびよみ\" height=\"100\" loading=\"lazy\" src=\"https://www.yomiuri.co.jp/media/2019/11/tabiyomi.png\" width=\"100\"/></a></figure>\n",
       "<h3><a href=\"//tabiyomi.yomiuri-ryokou.co.jp/?provide=24&amp;utm_source=web&amp;utm_medium=yomiuri_online&amp;utm_campaign=bnr_tabiyomi\" target=\"_blank\">たびよみ</a></h3>\n",
       "<p>知れば知るほど旅は楽しくなる。旅すれば旅するほど人生は楽しくなる。そう思っていただけるような楽しく便利なメディアです。</p>\n",
       "</li>\n",
       "<li>\n",
       "<figure><a href=\"https://retailadconsortium.jp/\" target=\"_blank\"><img alt=\"RETAIL AD CONSORTIUM\" height=\"100\" loading=\"lazy\" src=\"https://www.yomiuri.co.jp/media/2022/06/YOMIURI-RETAIL-AD-CONSORTIUM_誘導.jpg\" width=\"100\"/></a></figure>\n",
       "<h3><a href=\"https://retailadconsortium.jp/\" target=\"_blank\">RETAIL AD CONSORTIUM</a></h3>\n",
       "<p>小売業の広告・販促のアイデアや最新の話題、コラム、調査結果など、マーケティングに携わる方に役立つ情報を紹介しています。</p>\n",
       "</li>\n",
       "<li>\n",
       "<figure><a href=\"//brandstudio.jp/\" target=\"_blank\"><img alt=\"YOMIURI BRAND STUDIO\" height=\"100\" loading=\"lazy\" src=\"https://www.yomiuri.co.jp/media/2019/10/YBSロゴ（200×200）.png\" width=\"100\"/></a></figure>\n",
       "<h3><a href=\"//brandstudio.jp/\" target=\"_blank\">YOMIURI BRAND STUDIO</a></h3>\n",
       "<p>新聞社の信頼性・コンテンツ制作能力と、コンソーシアム企業のクリエイティブ力で、貴社のコミュニケーション課題を解決します。</p>\n",
       "</li>\n",
       "<li>\n",
       "<figure><a href=\"https://sasatto.jp/\" target=\"_blank\"><img alt=\"ささっとー\" height=\"100\" loading=\"lazy\" src=\"https://www.yomiuri.co.jp/media/2020/10/sasatto_yol.jpg\" width=\"100\"/></a></figure>\n",
       "<h3><a href=\"https://sasatto.jp/\" target=\"_blank\">福岡ふかぼりメディアささっとー</a></h3>\n",
       "<p>読売新聞西部本社が運営する福岡県のローカルウェブメディアです。福岡をテーマにした「ささる」話題が「ささっと」読めます。</p>\n",
       "</li>\n",
       "<li>\n",
       "<figure><a href=\"https://yab.yomiuri.co.jp/idomu/?utm_source=yol&amp;utm_medium=referral\" target=\"_blank\"><img alt=\"挑むKANSAI\" height=\"100\" loading=\"lazy\" src=\"https://www.yomiuri.co.jp/media/2022/06/idomukansai_yoltopbottom.png\" width=\"100\"/></a></figure>\n",
       "<h3><a href=\"https://yab.yomiuri.co.jp/idomu/?utm_source=yol&amp;utm_medium=referral\" target=\"_blank\">挑むKANSAI</a></h3>\n",
       "<p>読売新聞「挑むKANSAI」プロジェクトでは、２０２５年大阪・関西万博をはじめ、大きな変化に直面する関西の姿を多角的に伝えます。</p>\n",
       "</li>\n",
       "<li>\n",
       "<figure><a href=\"https://marieclairejapon.com/\" target=\"_blank\"><img alt=\"marie claire digital\" height=\"100\" loading=\"lazy\" src=\"https://www.yomiuri.co.jp/media/2021/06/marieclairedigital_yoltopbottom.png\" width=\"100\"/></a></figure>\n",
       "<h3><a href=\"https://marieclairejapon.com/\" target=\"_blank\">marie claire digital</a></h3>\n",
       "<p>ファッションはもちろん、インテリアやグルメ、トラベル、そして海外のセレブ情報まで、“上質を楽しむ”ためのライフスタイルメディアです。</p>\n",
       "</li>\n",
       "</ul>\n",
       "</div>\n",
       "</div>\n",
       "<div class=\"p-footer-2020-box p-footer-2020-grouplinks\">\n",
       "<div class=\"p-footer-2020-box__title\">読売新聞社グループ</div>\n",
       "<div class=\"\">\n",
       "<ul class=\"p-footer-2020-grouplinks-logo\">\n",
       "<li><a href=\"https://www.giants.jp/\" target=\"_blank\"><img alt=\"GIANTS\" height=\"31\" loading=\"lazy\" src=\"/assets/images/common/dc-cm_icon_giants-20230630032416.png\" width=\"62\"/></a></li>\n",
       "<li><a href=\"https://www.chuko.co.jp/\" target=\"_blank\"><img alt=\"中央公論新社\" height=\"31\" loading=\"lazy\" src=\"/assets/images/common/dc-cm_icon_chuko-20230630032416.png\" width=\"84\"/></a></li>\n",
       "<li><a href=\"https://yomiuriland.co.jp/\" target=\"_blank\"><img alt=\"よみうりランド\" height=\"31\" loading=\"lazy\" src=\"/assets/images/common/dc-cm_icon_yomiuriland-20230630032416.png\" width=\"84\"/></a></li>\n",
       "<li><a href=\"https://www.ntv.co.jp/\" target=\"_blank\"><img alt=\"日本テレビ\" height=\"31\" loading=\"lazy\" src=\"/assets/images/common/dc-cm_icon_ntv-20230630032416.png\" width=\"42\"/></a></li>\n",
       "<li><a href=\"http://www.bs4.jp/\" target=\"_blank\"><img alt=\"BS日本テレ\" height=\"31\" loading=\"lazy\" src=\"/assets/images/common/dc-cm_icon_bsntv-20230630032416.png\" width=\"65\"/></a></li>\n",
       "<li><a href=\"https://www.yomiuri-ryokou.co.jp/\" target=\"_blank\"><img alt=\"読売旅行\" height=\"31\" loading=\"lazy\" src=\"/assets/images/common/dc-cm_icon_yomiuriryoko-20230630032416.png\" width=\"62\"/></a></li>\n",
       "<li><a href=\"https://www.ync.ne.jp/\" target=\"_blank\"><img alt=\"よみうりカルチャー\" height=\"31\" loading=\"lazy\" src=\"/assets/images/common/dc-cm_icon_yomilkaru-20230630032416.png\" width=\"62\"/></a></li>\n",
       "<li><a href=\"https://yomikyo.or.jp/\" target=\"_blank\"><img alt=\"読売日本交響楽団\" height=\"31\" loading=\"lazy\" src=\"/assets/images/common/dc-cm_icon_yomilkyo-20230630032416.png\" width=\"57\"/></a></li>\n",
       "<li><a href=\"https://hochi.news/\" target=\"_blank\"><img alt=\"スポーツ報知\" height=\"31\" loading=\"lazy\" src=\"/assets/images/common/dc-cm_icon_hochi-20230630032416.png\" width=\"84\"/></a></li>\n",
       "<li><a href=\"http://yfc.yomiuri-johkai.co.jp/\" target=\"_blank\"><img alt=\"yfc\" height=\"31\" loading=\"lazy\" src=\"/assets/images/common/dc-cm_icon_yfc-20230630032416.png\" width=\"35\"/></a></li>\n",
       "<li><a href=\"https://yomilogi.com/\" target=\"_blank\"><img alt=\"読売ロジスティクス\" height=\"31\" loading=\"lazy\" src=\"https://www.yomiuri.co.jp/media/2020/08/yomiuri-logistic3.png\" width=\"157\"/></a></li>\n",
       "</ul>\n",
       "<ul class=\"p-footer-2020-grouplinks-text\">\n",
       "<li><a href=\"https://www.yomiuri-johkai.co.jp/\" target=\"_blank\">読売情報開発</a></li>\n",
       "<li><a href=\"https://www.marronniergate.com/\" target=\"_blank\">マロニエゲート銀座</a></li>\n",
       "<li><a href=\"https://www.ryokoyomiuri.co.jp/\" target=\"_blank\">旅行読売出版</a></li>\n",
       "<li><a href=\"https://www.yomiuri.edu/\" target=\"_blank\">読売理工学院</a></li>\n",
       "<li><a href=\"https://www.yomisho.com/\" target=\"_blank\">読売育英奨学会</a></li>\n",
       "<li><a href=\"https://yomiuri-plus.com/\" target=\"_blank\">読売プラス</a></li>\n",
       "<li><a href=\"http://www.yomiuri-is.co.jp/\" target=\"_blank\">読売IS</a></li>\n",
       "<li><a href=\"https://www.yomiuri-ag.co.jp/\" target=\"_blank\">読売AG</a></li>\n",
       "<li><a href=\"https://www.yomiuri-systec.co.jp/\" target=\"_blank\">読売システック</a></li>\n",
       "<li><a href=\"https://www.yomiuri-pm.co.jp/\" target=\"_blank\">読売プリントメディア</a></li>\n",
       "<li><a href=\"https://www.yomiuri-hikari.or.jp/\" target=\"_blank\">読売光と愛の事業団</a></li>\n",
       "<li><a href=\"https://shourikikouseikai.or.jp/\" target=\"_blank\">正力厚生会</a></li>\n",
       "<li><a href=\"https://www.yomiuri-clinic.jp/\" target=\"_blank\">読売クリニック</a></li>\n",
       "<li><a href=\"http://www.minyu-net.com/\" target=\"_blank\">福島民友</a></li>\n",
       "<li><a href=\"http://www.chukoji.co.jp/\" target=\"_blank\">中央公論事業出版</a></li>\n",
       "<li><a href=\"http://www.chukobi.co.jp/\" target=\"_blank\">中央公論美術出版</a></li>\n",
       "</ul>\n",
       "</div>\n",
       "</div>\n",
       "<div class=\"p-footer-2020-box p-footer-2020-sociallinks\">\n",
       "<h2>読売新聞オンライン公式SNSアカウント</h2>\n",
       "<ul>\n",
       "<li><a href=\"https://www.facebook.com/YomiuriOnline/\" target=\"_blank\"><svg><use xlink:href=\"#icon_facebook\"></use></svg>Facebook</a></li>\n",
       "<li><a href=\"https://twitter.com/Yomiuri_Online\" target=\"_blank\"><svg><use xlink:href=\"#icon_twitter\"></use></svg>Twitter</a></li>\n",
       "<li><a href=\"https://line.naver.jp/ti/p/%40oa-yomiurishimbun\" target=\"_blank\"><svg><use xlink:href=\"#icon_line\"></use></svg>LINE</a></li>\n",
       "</ul>\n",
       "</div>\n",
       "<div class=\"p-footer-2020-box p-footer-2020-relatedlinks\">\n",
       "<h2>読売新聞オンライン（YOL）について</h2>\n",
       "<ul>\n",
       "<li><a href=\"/welcome-to-online/\">読売新聞オンラインとは</a></li>\n",
       "<li><a href=\"/sitemap/\">サイトマップ</a></li>\n",
       "<li><a href=\"/policy/\">サイトポリシー</a></li>\n",
       "<li><a href=\"https://info.yomiuri.co.jp/privacypolicy/about.html\" target=\"_blank\">個人情報</a></li>\n",
       "<li><a href=\"https://info.yomiuri.co.jp/privacypolicy/datapolicy.html\" target=\"_blank\">データの収集と利用について</a></li>\n",
       "<li><a href=\"/policy/application/\">記事・写真・動画の利用申込</a></li>\n",
       "<li><a href=\"/policy/copyright-conditions/\">著作権</a></li>\n",
       "<li><a href=\"/help/toukou/\">投稿・情報提供</a></li>\n",
       "<li><a href=\"/help/\">ヘルプ</a></li>\n",
       "<li><a href=\"https://contact.yomiuri.co.jp/dform/\" target=\"_blank\">お問い合わせ</a></li>\n",
       "<li><a href=\"https://adv.yomiuri.co.jp/digital/\" target=\"_blank\">デジタル広告ガイド</a></li>\n",
       "<li><a href=\"https://adv.yomiuri.co.jp\" target=\"_blank\">新聞広告ガイド</a></li>\n",
       "<li><a href=\"https://info.yomiuri.co.jp/\" target=\"_blank\">会社案内</a></li>\n",
       "<li><a href=\"https://info.yomiuri.co.jp/news/\" target=\"_blank\">お知らせ</a></li>\n",
       "<li><a href=\"https://saiyou.yomiuri.co.jp\" target=\"_blank\">採用情報</a></li>\n",
       "</ul>\n",
       "</div>\n",
       "<div data-nosnippet=\"\">\n",
       "<p class=\"p-footer-2020-attention\">読売新聞オンラインに掲載している記事や写真などは、日本の著作権法や国際条約などで保護されています。読売新聞社など著作権者の承諾を得ずに、転載、インターネット送信などの方法で利用することはできません。</p>\n",
       "<p class=\"p-footer-2020-copyright\">© The Yomiuri Shimbun.</p>\n",
       "</div>\n",
       "</footer>\n",
       "<script id=\"jquery-core-js\" src=\"https://www.yomiuri.co.jp/wp-includes/js/jquery/jquery.min.js?ver=3.6.0\"></script>\n",
       "<script id=\"sns-share-js\" src=\"https://www.yomiuri.co.jp/assets/js/sns-share-20230630032416.js\"></script>\n",
       "<script id=\"pimg-js\" src=\"https://www.yomiuri.co.jp/assets/js/pimg-20230630032416.js\"></script>\n",
       "<script id=\"d-common-js\" src=\"https://www.yomiuri.co.jp/assets/js/d-common-20230630032416.js\"></script>\n",
       "<script id=\"uni-temp_header-js\" src=\"https://www.yomiuri.co.jp/assets/js/uni-temp_header-20230630032416.js\"></script>\n",
       "<script id=\"uni-home-js\" src=\"https://www.yomiuri.co.jp/assets/js/uni-home-20230630032416.js\"></script>\n",
       "<script id=\"uni-header-js\" src=\"https://www.yomiuri.co.jp/assets/js/uni-header-20230630032416.js\"></script>\n",
       "<script id=\"uni-footer-js\" src=\"https://www.yomiuri.co.jp/assets/js/uni-footer-20230630032416.js\"></script>\n",
       "<!-- B-06 --> <!-- B-14 -->\n",
       "<script>\n",
       "// if (0==1){for(var i=0;i<a;i++){;}};\n",
       "jQuery(function($){AD3.Gstudio=function(t){this.wrapDiv=document.querySelector(t)||\"\",this.dfpDiv=document.querySelector(t).querySelector(\"div[id^=google_ads_iframe]\")||\"\",this.dfpAdarea=document.querySelector(t).querySelector(\"iframe[id^=google_ads_iframe]\")||\"\",this.wrapPos=document.querySelector(t).parentNode.offsetTop||\"\",this.flag=!1};$(window).bind(\"message\",function(e){if(e.originalEvent.origin!=document.location.protocol+\"//s0.2mdn.net\")return;var data=e.originalEvent.data,obj;if(data==\"canplayStickyBanner\"){obj=AD3.studioBnr=new AD3.Gstudio(\"#ad_dfp_banner\");$(obj.dfpDiv).css({width:\"100%\",height:\"185px\",zIndex:\"101\",backgroundColor:\"#ffffff\"});$(obj.dfpAdarea).css({padding:\"0\",backgroundColor:\"#ffffff\"});var sf=function(){requestAnimationFrame(function(){if(obj.wrapPos<$(window).scrollTop()){$(obj.dfpDiv).css({position:\"fixed\",top:\"0\"});$(obj.wrapDiv).css({marginTop:\"190px\"})}else{$(obj.dfpDiv).css({position:\"static\",top:\"0\"});$(obj.wrapDiv).css({marginTop:\"10px\"})}})};sf();$(window).on(\"scroll\",function(){if(!obj.flag){sf()}})}else if(data==\"closeStickyBanner\"&&AD3.studioBnr){obj=AD3.studioBnr;obj.flag=!0;$(obj.wrapDiv).css({marginTop:\"10px\"});$(obj.dfpDiv).animate({height:\"0px\"},300,\"linear\",function(){$(obj.dfpDiv).css({display:\"none\"});$(obj.wrapDiv).css({display:\"none\"})})}else if(data==\"endStickyBanner\"&&AD3.studioBnr){obj=AD3.studioBnr;obj.flag=!0;$(obj.wrapDiv).css({marginTop:\"10px\"});$(obj.dfpAdarea).css({backgroundColor:\"#f2f4f6\"});if(obj.wrapPos<$(window).scrollTop()){$(obj.dfpDiv).animate({height:\"0px\"},300,\"linear\",function(){$(obj.dfpDiv).css({position:\"static\",width:\"100%\",height:\"180px\"})})}else{$(obj.dfpDiv).css({position:\"static\"})}}else if(data==\"canplayInread\"){obj=AD3.studioInread=new AD3.Gstudio(\"#ad_dfp_inread\");$(obj.dfpDiv).css({marginTop:\"12px\"})}else if(data==\"closeInread\"&&AD3.studioInread){obj=AD3.studioInread;$(obj.dfpDiv).animate({height:\"0px\",marginBottom:\"0px\",opacity:0},500,\"linear\",function(){$(obj.dfpDiv).css({display:\"none\"})})}})});\n",
       "</script> </body></html>"
      ]
     },
     "execution_count": 47,
     "metadata": {},
     "output_type": "execute_result"
    }
   ],
   "source": [
    "soup"
   ]
  },
  {
   "cell_type": "code",
   "execution_count": 68,
   "id": "137c00e8-69c0-451a-9b3e-2256a3a6d653",
   "metadata": {
    "tags": []
   },
   "outputs": [],
   "source": [
    "elems = soup.select(\"body > div.home-2021-primary > div.home-2021-primary__main > div.headline > article:nth-child(1) > div > h3 > a\")"
   ]
  },
  {
   "cell_type": "code",
   "execution_count": 69,
   "id": "762e3f44-6a48-4f23-811f-fc85b60a4c34",
   "metadata": {},
   "outputs": [
    {
     "data": {
      "text/plain": [
       "[<a href=\"https://www.yomiuri.co.jp/national/20230706-OYT1T50260/\">学校に軽トラで侵入の男「人にわざとぶつけようとした」…クラブ活動中、児童４人はねられる</a>]"
      ]
     },
     "execution_count": 69,
     "metadata": {},
     "output_type": "execute_result"
    }
   ],
   "source": [
    "elems"
   ]
  },
  {
   "cell_type": "code",
   "execution_count": 65,
   "id": "05baec13-fb2d-4d1d-a257-265fe161f3d4",
   "metadata": {
    "tags": []
   },
   "outputs": [
    {
     "data": {
      "text/plain": [
       "['学校に軽トラで侵入の男「人にわざとぶつけようとした」…クラブ活動中、児童４人はねられる']"
      ]
     },
     "execution_count": 65,
     "metadata": {},
     "output_type": "execute_result"
    }
   ],
   "source": [
    "elems[0].contents"
   ]
  },
  {
   "cell_type": "code",
   "execution_count": 67,
   "id": "9094d007-f5cd-4b13-ae1a-77edabad0658",
   "metadata": {
    "tags": []
   },
   "outputs": [
    {
     "data": {
      "text/plain": [
       "'https://www.yomiuri.co.jp/national/20230706-OYT1T50260/'"
      ]
     },
     "execution_count": 67,
     "metadata": {},
     "output_type": "execute_result"
    }
   ],
   "source": [
    "elems[0].attrs[\"href\"]"
   ]
  },
  {
   "cell_type": "code",
   "execution_count": 117,
   "id": "b142f9e2-2d8c-42a4-8142-4f66a61f51da",
   "metadata": {
    "tags": []
   },
   "outputs": [],
   "source": [
    "elems = soup.select(\"body > div.home-2021-primary > div.home-2021-primary__main > div.headline\")"
   ]
  },
  {
   "cell_type": "code",
   "execution_count": 54,
   "id": "d24f91ff-1f67-4d1f-a125-5557ecc63379",
   "metadata": {
    "tags": []
   },
   "outputs": [
    {
     "data": {
      "text/plain": [
       "<a href=\"https://www.yomiuri.co.jp/national/20230706-OYT1T50260/\">学校に軽トラで侵入の男「人にわざとぶつけようとした」…クラブ活動中、児童４人はねられる</a>"
      ]
     },
     "execution_count": 54,
     "metadata": {},
     "output_type": "execute_result"
    }
   ],
   "source": [
    "elems[0]"
   ]
  },
  {
   "cell_type": "code",
   "execution_count": 55,
   "id": "0501745e-acc9-4026-be86-2add749e129a",
   "metadata": {
    "tags": []
   },
   "outputs": [
    {
     "name": "stdout",
     "output_type": "stream",
     "text": [
      "<a href=\"https://www.yomiuri.co.jp/national/20230706-OYT1T50260/\">\n",
      " 学校に軽トラで侵入の男「人にわざとぶつけようとした」…クラブ活動中、児童４人はねられる\n",
      "</a>\n",
      "\n"
     ]
    }
   ],
   "source": [
    "print(elems[0].prettify())"
   ]
  },
  {
   "cell_type": "code",
   "execution_count": 57,
   "id": "9aad2733-0aaa-495c-9e60-7aeda2c68ecd",
   "metadata": {
    "tags": []
   },
   "outputs": [
    {
     "name": "stdout",
     "output_type": "stream",
     "text": [
      "<class 'bs4.element.ResultSet'>\n"
     ]
    }
   ],
   "source": [
    "print(type(elems))"
   ]
  },
  {
   "cell_type": "code",
   "execution_count": 59,
   "id": "6d5b6d6e-5da8-43a6-8345-55a7f0a38ee9",
   "metadata": {
    "tags": []
   },
   "outputs": [
    {
     "ename": "AttributeError",
     "evalue": "ResultSet object has no attribute 'h3'. You're probably treating a list of elements like a single element. Did you call find_all() when you meant to call find()?",
     "output_type": "error",
     "traceback": [
      "\u001b[0;31m---------------------------------------------------------------------------\u001b[0m",
      "\u001b[0;31mAttributeError\u001b[0m                            Traceback (most recent call last)",
      "Cell \u001b[0;32mIn[59], line 1\u001b[0m\n\u001b[0;32m----> 1\u001b[0m \u001b[43melems\u001b[49m\u001b[38;5;241;43m.\u001b[39;49m\u001b[43mh3\u001b[49m\u001b[38;5;241m.\u001b[39mstring\n",
      "File \u001b[0;32m~/.pyenv/versions/3.11.1/lib/python3.11/site-packages/bs4/element.py:2428\u001b[0m, in \u001b[0;36mResultSet.__getattr__\u001b[0;34m(self, key)\u001b[0m\n\u001b[1;32m   2426\u001b[0m \u001b[38;5;28;01mdef\u001b[39;00m \u001b[38;5;21m__getattr__\u001b[39m(\u001b[38;5;28mself\u001b[39m, key):\n\u001b[1;32m   2427\u001b[0m \u001b[38;5;250m    \u001b[39m\u001b[38;5;124;03m\"\"\"Raise a helpful exception to explain a common code fix.\"\"\"\u001b[39;00m\n\u001b[0;32m-> 2428\u001b[0m     \u001b[38;5;28;01mraise\u001b[39;00m \u001b[38;5;167;01mAttributeError\u001b[39;00m(\n\u001b[1;32m   2429\u001b[0m         \u001b[38;5;124m\"\u001b[39m\u001b[38;5;124mResultSet object has no attribute \u001b[39m\u001b[38;5;124m'\u001b[39m\u001b[38;5;132;01m%s\u001b[39;00m\u001b[38;5;124m'\u001b[39m\u001b[38;5;124m. You\u001b[39m\u001b[38;5;124m'\u001b[39m\u001b[38;5;124mre probably treating a list of elements like a single element. Did you call find_all() when you meant to call find()?\u001b[39m\u001b[38;5;124m\"\u001b[39m \u001b[38;5;241m%\u001b[39m key\n\u001b[1;32m   2430\u001b[0m     )\n",
      "\u001b[0;31mAttributeError\u001b[0m: ResultSet object has no attribute 'h3'. You're probably treating a list of elements like a single element. Did you call find_all() when you meant to call find()?"
     ]
    }
   ],
   "source": [
    "elems.h3.string"
   ]
  },
  {
   "cell_type": "code",
   "execution_count": 60,
   "id": "437447f2-13ed-40d1-a1af-3160b676503e",
   "metadata": {
    "tags": []
   },
   "outputs": [
    {
     "ename": "AttributeError",
     "evalue": "'NoneType' object has no attribute 'a'",
     "output_type": "error",
     "traceback": [
      "\u001b[0;31m---------------------------------------------------------------------------\u001b[0m",
      "\u001b[0;31mAttributeError\u001b[0m                            Traceback (most recent call last)",
      "Cell \u001b[0;32mIn[60], line 1\u001b[0m\n\u001b[0;32m----> 1\u001b[0m \u001b[43melems\u001b[49m\u001b[43m[\u001b[49m\u001b[38;5;241;43m0\u001b[39;49m\u001b[43m]\u001b[49m\u001b[38;5;241;43m.\u001b[39;49m\u001b[43mh3\u001b[49m\u001b[38;5;241;43m.\u001b[39;49m\u001b[43ma\u001b[49m[\u001b[38;5;124m\"\u001b[39m\u001b[38;5;124mhref\u001b[39m\u001b[38;5;124m\"\u001b[39m]\n",
      "\u001b[0;31mAttributeError\u001b[0m: 'NoneType' object has no attribute 'a'"
     ]
    }
   ],
   "source": [
    "elems[0].h3.a[\"href\"]"
   ]
  },
  {
   "cell_type": "code",
   "execution_count": 130,
   "id": "9a619ad0-b3b8-45cf-80b8-85e4bf5db2ab",
   "metadata": {
    "tags": []
   },
   "outputs": [
    {
     "data": {
      "text/plain": [
       "' WBC\\u3000ウィジェット用枠 ▲▲▲▲▲ '"
      ]
     },
     "execution_count": 130,
     "metadata": {},
     "output_type": "execute_result"
    }
   ],
   "source": [
    "elems[0].next_sibling.next_sibling"
   ]
  },
  {
   "cell_type": "code",
   "execution_count": 131,
   "id": "bc7a19a3-2478-4751-8bbc-93c3ee33b130",
   "metadata": {
    "collapsed": true,
    "jupyter": {
     "outputs_hidden": true
    },
    "tags": []
   },
   "outputs": [
    {
     "name": "stdout",
     "output_type": "stream",
     "text": [
      "<div class=\"headline\">\n",
      " <article>\n",
      "  <div class=\"wrap\">\n",
      "   <h3 class=\"title\">\n",
      "    <a href=\"https://www.yomiuri.co.jp/medical/20230705-OYT1T50107/\">\n",
      "     感染症急増で小児科切迫「これほどは初めて」…１日１００人の診察枠、１５分で半分以上埋まる\n",
      "    </a>\n",
      "   </h3>\n",
      "   <time datetime=\"2023-07-05T14:00\">\n",
      "    14:00\n",
      "   </time>\n",
      "   <div class=\"tag\">\n",
      "    <a href=\"https://www.yomiuri.co.jp/medical/\">\n",
      "     医療・健康\n",
      "    </a>\n",
      "   </div>\n",
      "   <p class=\"lead\">\n",
      "    <a href=\"https://www.yomiuri.co.jp/medical/20230705-OYT1T50107/\">\n",
      "     神奈川県内でも子ども中心に、「ＲＳウイルス」や「ヘルパンギーナ」といった感染症が急増し、患者を受け入れきれない小児科が出始めている。県立こども医療センター（横浜市南区）によると、新型コロナウイルスの感染防止策を長く徹底…\n",
      "    </a>\n",
      "   </p>\n",
      "   <div class=\"p-header-notice\" id=\"p-emergency-notice\">\n",
      "   </div>\n",
      "  </div>\n",
      "  <figure>\n",
      "   <a href=\"https://www.yomiuri.co.jp/medical/20230705-OYT1T50107/\">\n",
      "    <picture>\n",
      "     <source media=\"(min-width: 768px)\" srcset=\"https://www.yomiuri.co.jp/media/2023/07/20230705-OYT1I50043-T.jpg?type=PCTB_xx-large\"/>\n",
      "     <source media=\"(min-width: 600px)\" srcset=\"https://www.yomiuri.co.jp/media/2023/07/20230705-OYT1I50043-T.jpg?type=TB_medium\"/>\n",
      "     <source media=\"(min-width: 320px)\" srcset=\"https://www.yomiuri.co.jp/media/2023/07/20230705-OYT1I50043-T.jpg?type=SP_x-large\"/>\n",
      "     <img alt=\"\" loading=\"lazy\" src=\"https://www.yomiuri.co.jp/media/2023/07/20230705-OYT1I50043-T.jpg\"/>\n",
      "    </picture>\n",
      "   </a>\n",
      "  </figure>\n",
      " </article>\n",
      " <article>\n",
      "  <div class=\"wrap\">\n",
      "   <h3 class=\"title\">\n",
      "    <a href=\"https://www.yomiuri.co.jp/kyoiku/kyoiku/news/20230705-OYT1T50162/\">\n",
      "     大学入学共通テスト、２５年度からネット出願…マイナでトラブルの富士通子会社がシステム開発\n",
      "    </a>\n",
      "   </h3>\n",
      "   <time datetime=\"2023-07-05T15:00\">\n",
      "    <span class=\"c-list-date--red\">\n",
      "     15:00\n",
      "    </span>\n",
      "   </time>\n",
      "   <a class=\"tag\" href=\"https://www.yomiuri.co.jp/kyoiku/kyoiku/news/\">\n",
      "    ニュース\n",
      "   </a>\n",
      "  </div>\n",
      "  <figure>\n",
      "   <a href=\"https://www.yomiuri.co.jp/kyoiku/kyoiku/news/20230705-OYT1T50162/\">\n",
      "    <picture>\n",
      "     <source media=\"(min-width: 768px)\" srcset=\"https://www.yomiuri.co.jp/media/2023/07/20230705-OYT1I50083-T.jpg?type=PCTB_small\"/>\n",
      "     <source media=\"(min-width: 320px)\" srcset=\"https://www.yomiuri.co.jp/media/2023/07/20230705-OYT1I50083-T.jpg?type=SP_small\"/>\n",
      "     <img alt=\"\" loading=\"lazy\" src=\"https://www.yomiuri.co.jp/media/2023/07/20230705-OYT1I50083-T.jpg\"/>\n",
      "    </picture>\n",
      "   </a>\n",
      "  </figure>\n",
      " </article>\n",
      " <article>\n",
      "  <div class=\"wrap\">\n",
      "   <h3 class=\"title\">\n",
      "    <a href=\"https://www.yomiuri.co.jp/economy/20230705-OYT1T50110/\">\n",
      "     破産手続き中のアウトレット、１８年に新施設開業契約結んだが２年で解消…コロナ禍で頓挫\n",
      "    </a>\n",
      "   </h3>\n",
      "   <time datetime=\"2023-07-05T14:26\">\n",
      "    14:26\n",
      "   </time>\n",
      "   <a class=\"tag\" href=\"https://www.yomiuri.co.jp/economy/\">\n",
      "    経済\n",
      "   </a>\n",
      "   <a class=\"tag\" href=\"https://www.yomiuri.co.jp/feature/titlelist/%E6%96%B0%E5%9E%8B%E3%82%B3%E3%83%AD%E3%83%8A/\">\n",
      "    新型コロナ\n",
      "   </a>\n",
      "  </div>\n",
      "  <figure>\n",
      "   <a href=\"https://www.yomiuri.co.jp/economy/20230705-OYT1T50110/\">\n",
      "    <picture>\n",
      "     <source media=\"(min-width: 768px)\" srcset=\"https://www.yomiuri.co.jp/media/2023/07/20230705-OYT1I50046-T.jpg?type=PCTB_small\"/>\n",
      "     <source media=\"(min-width: 320px)\" srcset=\"https://www.yomiuri.co.jp/media/2023/07/20230705-OYT1I50046-T.jpg?type=SP_small\"/>\n",
      "     <img alt=\"\" loading=\"lazy\" src=\"https://www.yomiuri.co.jp/media/2023/07/20230705-OYT1I50046-T.jpg\"/>\n",
      "    </picture>\n",
      "   </a>\n",
      "  </figure>\n",
      " </article>\n",
      " <article>\n",
      "  <div class=\"wrap\">\n",
      "   <h3 class=\"title\">\n",
      "    <a href=\"https://www.yomiuri.co.jp/national/20230705-OYT1T50142/\">\n",
      "     名古屋港システム障害、原因は身代金要求型ウイルス…コンテナ搬出入停止続く\n",
      "    </a>\n",
      "   </h3>\n",
      "   <time datetime=\"2023-07-05T13:30\">\n",
      "    13:30\n",
      "   </time>\n",
      "   <a class=\"tag\" href=\"https://www.yomiuri.co.jp/national/\">\n",
      "    社会\n",
      "   </a>\n",
      "  </div>\n",
      "  <figure>\n",
      "   <a href=\"https://www.yomiuri.co.jp/national/20230705-OYT1T50142/\">\n",
      "    <picture>\n",
      "     <source media=\"(min-width: 768px)\" srcset=\"https://www.yomiuri.co.jp/media/2023/07/20230705-OYT1I50076-T.jpg?type=PCTB_small\"/>\n",
      "     <source media=\"(min-width: 320px)\" srcset=\"https://www.yomiuri.co.jp/media/2023/07/20230705-OYT1I50076-T.jpg?type=SP_small\"/>\n",
      "     <img alt=\"\" loading=\"lazy\" src=\"https://www.yomiuri.co.jp/media/2023/07/20230705-OYT1I50076-T.jpg\"/>\n",
      "    </picture>\n",
      "   </a>\n",
      "  </figure>\n",
      " </article>\n",
      " <article>\n",
      "  <div class=\"wrap\">\n",
      "   <h3 class=\"title\">\n",
      "    <a href=\"https://www.yomiuri.co.jp/economy/20230705-OYT1T50138/\">\n",
      "     西武新宿駅窓口、１２か国語話せば通じる…画面に翻訳浮かび上がる\n",
      "    </a>\n",
      "   </h3>\n",
      "   <time datetime=\"2023-07-05T15:45\">\n",
      "    <span class=\"c-list-date--red\">\n",
      "     15:45\n",
      "    </span>\n",
      "   </time>\n",
      "   <a class=\"tag\" href=\"https://www.yomiuri.co.jp/economy/\">\n",
      "    経済\n",
      "   </a>\n",
      "  </div>\n",
      "  <figure>\n",
      "   <a href=\"https://www.yomiuri.co.jp/economy/20230705-OYT1T50138/\">\n",
      "    <picture>\n",
      "     <source media=\"(min-width: 768px)\" srcset=\"https://www.yomiuri.co.jp/media/2023/07/20230705-OYT1I50075-T.jpg?type=PCTB_small\"/>\n",
      "     <source media=\"(min-width: 320px)\" srcset=\"https://www.yomiuri.co.jp/media/2023/07/20230705-OYT1I50075-T.jpg?type=SP_small\"/>\n",
      "     <img alt=\"\" loading=\"lazy\" src=\"https://www.yomiuri.co.jp/media/2023/07/20230705-OYT1I50075-T.jpg\"/>\n",
      "    </picture>\n",
      "   </a>\n",
      "  </figure>\n",
      " </article>\n",
      " <article>\n",
      "  <div class=\"wrap\">\n",
      "   <h3 class=\"title\">\n",
      "    <a href=\"https://www.yomiuri.co.jp/national/20230705-OYT1T50093/\">\n",
      "     バス運転手不足、平均より年収７０万円低く若者敬遠…札幌の団地「バスなくなってすごく不便」\n",
      "    </a>\n",
      "   </h3>\n",
      "   <time datetime=\"2023-07-05T11:04\">\n",
      "    11:04\n",
      "   </time>\n",
      "   <a class=\"tag\" href=\"https://www.yomiuri.co.jp/national/\">\n",
      "    社会\n",
      "   </a>\n",
      "  </div>\n",
      "  <figure>\n",
      "   <a href=\"https://www.yomiuri.co.jp/national/20230705-OYT1T50093/\">\n",
      "    <picture>\n",
      "     <source media=\"(min-width: 768px)\" srcset=\"https://www.yomiuri.co.jp/media/2023/07/20230705-OYT1I50031-T.jpg?type=PCTB_small\"/>\n",
      "     <source media=\"(min-width: 320px)\" srcset=\"https://www.yomiuri.co.jp/media/2023/07/20230705-OYT1I50031-T.jpg?type=SP_small\"/>\n",
      "     <img alt=\"\" loading=\"lazy\" src=\"https://www.yomiuri.co.jp/media/2023/07/20230705-OYT1I50031-T.jpg\"/>\n",
      "    </picture>\n",
      "   </a>\n",
      "  </figure>\n",
      " </article>\n",
      " <article>\n",
      "  <div class=\"wrap\">\n",
      "   <h3 class=\"title\">\n",
      "    <a href=\"https://www.yomiuri.co.jp/economy/20230705-OYT1T50024/\">\n",
      "     トヨタ、ＥＶ部品を一体成型へ…「ギガキャスト」米テスラも採用\n",
      "    </a>\n",
      "   </h3>\n",
      "   <time datetime=\"2023-07-05T14:39\">\n",
      "    14:39\n",
      "   </time>\n",
      "   <a class=\"tag\" href=\"https://www.yomiuri.co.jp/economy/\">\n",
      "    経済\n",
      "   </a>\n",
      "  </div>\n",
      "  <figure>\n",
      "   <a href=\"https://www.yomiuri.co.jp/economy/20230705-OYT1T50024/\">\n",
      "    <picture>\n",
      "     <source media=\"(min-width: 768px)\" srcset=\"https://www.yomiuri.co.jp/media/2023/07/20230705-OYT1I50009-T.jpg?type=PCTB_small\"/>\n",
      "     <source media=\"(min-width: 320px)\" srcset=\"https://www.yomiuri.co.jp/media/2023/07/20230705-OYT1I50009-T.jpg?type=SP_small\"/>\n",
      "     <img alt=\"\" loading=\"lazy\" src=\"https://www.yomiuri.co.jp/media/2023/07/20230705-OYT1I50009-T.jpg\"/>\n",
      "    </picture>\n",
      "   </a>\n",
      "  </figure>\n",
      " </article>\n",
      " <article>\n",
      "  <div class=\"wrap\">\n",
      "   <h3 class=\"title\">\n",
      "    <a href=\"https://www.yomiuri.co.jp/sports/mlb/20230705-OYT1T50117/\">\n",
      "     大谷翔平、オールスターは登板せず本塁打競争も「たぶん出られない」…５失点でマメもできて降板\n",
      "    </a>\n",
      "   </h3>\n",
      "   <time datetime=\"2023-07-05T11:54\">\n",
      "    11:54\n",
      "   </time>\n",
      "   <a class=\"tag\" href=\"https://www.yomiuri.co.jp/sports/mlb/\">\n",
      "    大リーグ\n",
      "   </a>\n",
      "   <a class=\"tag\" href=\"https://www.yomiuri.co.jp/feature/titlelist/ShoheiOhtani/\">\n",
      "    大谷翔平\n",
      "   </a>\n",
      "  </div>\n",
      "  <figure>\n",
      "   <a href=\"https://www.yomiuri.co.jp/sports/mlb/20230705-OYT1T50117/\">\n",
      "    <picture>\n",
      "     <source media=\"(min-width: 768px)\" srcset=\"https://www.yomiuri.co.jp/media/2023/07/20230705-OYT1I50061-T.jpg?type=PCTB_small\"/>\n",
      "     <source media=\"(min-width: 320px)\" srcset=\"https://www.yomiuri.co.jp/media/2023/07/20230705-OYT1I50061-T.jpg?type=SP_small\"/>\n",
      "     <img alt=\"\" loading=\"lazy\" src=\"https://www.yomiuri.co.jp/media/2023/07/20230705-OYT1I50061-T.jpg\"/>\n",
      "    </picture>\n",
      "   </a>\n",
      "  </figure>\n",
      " </article>\n",
      " <article>\n",
      "  <div class=\"wrap\">\n",
      "   <h3 class=\"title\">\n",
      "    <a href=\"https://www.yomiuri.co.jp/national/20230705-OYT1T50123/\">\n",
      "     ススキノ切断遺体、無防備な状態で刺されたか…スーツケース引いてホテル出た女性？追う\n",
      "    </a>\n",
      "   </h3>\n",
      "   <time datetime=\"2023-07-05T12:03\">\n",
      "    12:03\n",
      "   </time>\n",
      "   <a class=\"tag\" href=\"https://www.yomiuri.co.jp/national/\">\n",
      "    社会\n",
      "   </a>\n",
      "  </div>\n",
      "  <figure>\n",
      "   <a href=\"https://www.yomiuri.co.jp/national/20230705-OYT1T50123/\">\n",
      "    <picture>\n",
      "     <source media=\"(min-width: 768px)\" srcset=\"https://www.yomiuri.co.jp/media/2023/07/20230705-OYT1I50067-T.jpg?type=PCTB_small\"/>\n",
      "     <source media=\"(min-width: 320px)\" srcset=\"https://www.yomiuri.co.jp/media/2023/07/20230705-OYT1I50067-T.jpg?type=SP_small\"/>\n",
      "     <img alt=\"\" loading=\"lazy\" src=\"https://www.yomiuri.co.jp/media/2023/07/20230705-OYT1I50067-T.jpg\"/>\n",
      "    </picture>\n",
      "   </a>\n",
      "  </figure>\n",
      " </article>\n",
      " <article>\n",
      "  <div class=\"wrap\">\n",
      "   <h3 class=\"title\">\n",
      "    <a href=\"https://www.yomiuri.co.jp/economy/20230705-OYT1T50032/\">\n",
      "     ツルハに統治改善要求…香港ファンド\n",
      "    </a>\n",
      "   </h3>\n",
      "   <time datetime=\"2023-07-05T15:30\">\n",
      "    <span class=\"c-list-date--red\">\n",
      "     15:30\n",
      "    </span>\n",
      "   </time>\n",
      "   <a class=\"tag\" href=\"https://www.yomiuri.co.jp/economy/\">\n",
      "    経済\n",
      "   </a>\n",
      "   <svg class=\"icon\" data-icon-type=\"unlocked\">\n",
      "    <use xlink:href=\"#icon_2021_locked\">\n",
      "    </use>\n",
      "   </svg>\n",
      "  </div>\n",
      "  <figure>\n",
      "   <a href=\"https://www.yomiuri.co.jp/economy/20230705-OYT1T50032/\">\n",
      "    <picture>\n",
      "     <source media=\"(min-width: 768px)\" srcset=\"https://www.yomiuri.co.jp/media/2023/07/20230705-OYT1I50011-T.jpg?type=PCTB_small\"/>\n",
      "     <source media=\"(min-width: 320px)\" srcset=\"https://www.yomiuri.co.jp/media/2023/07/20230705-OYT1I50011-T.jpg?type=SP_small\"/>\n",
      "     <img alt=\"\" loading=\"lazy\" src=\"https://www.yomiuri.co.jp/media/2023/07/20230705-OYT1I50011-T.jpg\"/>\n",
      "    </picture>\n",
      "   </a>\n",
      "  </figure>\n",
      " </article>\n",
      " <article>\n",
      "  <div class=\"wrap\">\n",
      "   <h3 class=\"title\">\n",
      "    <a href=\"/slitherlink/\">\n",
      "     「よみぽ」１００ポイントが１００人に当たる懸賞付き問題を出題中！\n",
      "    </a>\n",
      "   </h3>\n",
      "   <!--<time datetime=\"2021-11-22T07:41\">07:41</time>-->\n",
      "   <a class=\"tag\" href=\"/slitherlink/\">\n",
      "    新パズル「スリザーリンク」\n",
      "   </a>\n",
      "   <!--<a class=\"tag\" href=\"test\">タグ</a>-->\n",
      "  </div>\n",
      "  <figure>\n",
      "   <a href=\"/slitherlink/\">\n",
      "    <picture>\n",
      "     <source media=\"(min-width: 768px)\" srcset=\"/media/2023/03/slitherlink_premium_bnr.jpg\"/>\n",
      "     <!-- PCTB fastly:180x120px ※要コメント削除 -->\n",
      "     <source media=\"(min-width: 320px)\" srcset=\"/media/2023/03/slitherlink_premium_bnr.jpg\"/>\n",
      "     <!-- SP fastly:200x150px  ※要コメント削除 -->\n",
      "     <img alt=\"\" loading=\"lazy\" src=\"/media/2023/03/slitherlink_premium_bnr.jpg\"/>\n",
      "     <!-- ie11 PCで使ってるサイズを当てる　※要コメント削除 -->\n",
      "    </picture>\n",
      "   </a>\n",
      "  </figure>\n",
      " </article>\n",
      " <article class=\"ad\">\n",
      "  <div id=\"ad_dfp_top-infeed1\">\n",
      "   <script>\n",
      "    googletag.cmd.push(function() {googletag.display('ad_dfp_top-infeed1'); });\n",
      "   </script>\n",
      "  </div>\n",
      " </article>\n",
      " <article class=\"ad\">\n",
      "  <div id=\"ad_dfp_top-infeed2\">\n",
      "   <script>\n",
      "    googletag.cmd.push(function() {googletag.display('ad_dfp_top-infeed2'); });\n",
      "   </script>\n",
      "  </div>\n",
      " </article>\n",
      " <div class=\"more\">\n",
      "  <a href=\"/news/\">\n",
      "   もっと見る\n",
      "   <svg>\n",
      "    <use xlink:href=\"#arrow_r\">\n",
      "    </use>\n",
      "   </svg>\n",
      "  </a>\n",
      " </div>\n",
      "</div>\n",
      "\n"
     ]
    }
   ],
   "source": [
    "print(elems[0].prettify())"
   ]
  },
  {
   "cell_type": "code",
   "execution_count": 137,
   "id": "8050c838-1c4f-4e26-9f5a-f8c3f0fbeae7",
   "metadata": {
    "tags": []
   },
   "outputs": [
    {
     "name": "stdout",
     "output_type": "stream",
     "text": [
      "[<h3 class=\"title\"><a href=\"https://www.yomiuri.co.jp/medical/20230705-OYT1T50107/\">感染症急増で小児科切迫「これほどは初めて」…１日１００人の診察枠、１５分で半分以上埋まる</a></h3>, <h3 class=\"title\"><a href=\"https://www.yomiuri.co.jp/kyoiku/kyoiku/news/20230705-OYT1T50162/\">大学入学共通テスト、２５年度からネット出願…マイナでトラブルの富士通子会社がシステム開発</a></h3>, <h3 class=\"title\"><a href=\"https://www.yomiuri.co.jp/economy/20230705-OYT1T50110/\">破産手続き中のアウトレット、１８年に新施設開業契約結んだが２年で解消…コロナ禍で頓挫</a></h3>, <h3 class=\"title\"><a href=\"https://www.yomiuri.co.jp/national/20230705-OYT1T50142/\">名古屋港システム障害、原因は身代金要求型ウイルス…コンテナ搬出入停止続く</a></h3>, <h3 class=\"title\"><a href=\"https://www.yomiuri.co.jp/economy/20230705-OYT1T50138/\">西武新宿駅窓口、１２か国語話せば通じる…画面に翻訳浮かび上がる</a></h3>, <h3 class=\"title\"><a href=\"https://www.yomiuri.co.jp/national/20230705-OYT1T50093/\">バス運転手不足、平均より年収７０万円低く若者敬遠…札幌の団地「バスなくなってすごく不便」</a></h3>, <h3 class=\"title\"><a href=\"https://www.yomiuri.co.jp/economy/20230705-OYT1T50024/\">トヨタ、ＥＶ部品を一体成型へ…「ギガキャスト」米テスラも採用</a></h3>, <h3 class=\"title\"><a href=\"https://www.yomiuri.co.jp/sports/mlb/20230705-OYT1T50117/\">大谷翔平、オールスターは登板せず本塁打競争も「たぶん出られない」…５失点でマメもできて降板</a></h3>, <h3 class=\"title\"><a href=\"https://www.yomiuri.co.jp/national/20230705-OYT1T50123/\">ススキノ切断遺体、無防備な状態で刺されたか…スーツケース引いてホテル出た女性？追う</a></h3>, <h3 class=\"title\"><a href=\"https://www.yomiuri.co.jp/economy/20230705-OYT1T50032/\">ツルハに統治改善要求…香港ファンド</a></h3>, <h3 class=\"title\"><a href=\"/slitherlink/\">「よみぽ」１００ポイントが１００人に当たる懸賞付き問題を出題中！</a></h3>]\n"
     ]
    }
   ],
   "source": [
    "elems_news = elems[0].find_all(\"h3\")\n",
    "print(elems_news)"
   ]
  },
  {
   "cell_type": "code",
   "execution_count": 139,
   "id": "128a3847-630d-447a-b960-0a6bb18a91e9",
   "metadata": {
    "tags": []
   },
   "outputs": [
    {
     "name": "stdout",
     "output_type": "stream",
     "text": [
      "感染症急増で小児科切迫「これほどは初めて」…１日１００人の診察枠、１５分で半分以上埋まる\n",
      "https://www.yomiuri.co.jp/medical/20230705-OYT1T50107/\n",
      "\n",
      "大学入学共通テスト、２５年度からネット出願…マイナでトラブルの富士通子会社がシステム開発\n",
      "https://www.yomiuri.co.jp/kyoiku/kyoiku/news/20230705-OYT1T50162/\n",
      "\n",
      "破産手続き中のアウトレット、１８年に新施設開業契約結んだが２年で解消…コロナ禍で頓挫\n",
      "https://www.yomiuri.co.jp/economy/20230705-OYT1T50110/\n",
      "\n",
      "名古屋港システム障害、原因は身代金要求型ウイルス…コンテナ搬出入停止続く\n",
      "https://www.yomiuri.co.jp/national/20230705-OYT1T50142/\n",
      "\n",
      "西武新宿駅窓口、１２か国語話せば通じる…画面に翻訳浮かび上がる\n",
      "https://www.yomiuri.co.jp/economy/20230705-OYT1T50138/\n",
      "\n",
      "バス運転手不足、平均より年収７０万円低く若者敬遠…札幌の団地「バスなくなってすごく不便」\n",
      "https://www.yomiuri.co.jp/national/20230705-OYT1T50093/\n",
      "\n",
      "トヨタ、ＥＶ部品を一体成型へ…「ギガキャスト」米テスラも採用\n",
      "https://www.yomiuri.co.jp/economy/20230705-OYT1T50024/\n",
      "\n",
      "大谷翔平、オールスターは登板せず本塁打競争も「たぶん出られない」…５失点でマメもできて降板\n",
      "https://www.yomiuri.co.jp/sports/mlb/20230705-OYT1T50117/\n",
      "\n",
      "ススキノ切断遺体、無防備な状態で刺されたか…スーツケース引いてホテル出た女性？追う\n",
      "https://www.yomiuri.co.jp/national/20230705-OYT1T50123/\n",
      "\n",
      "ツルハに統治改善要求…香港ファンド\n",
      "https://www.yomiuri.co.jp/economy/20230705-OYT1T50032/\n",
      "\n",
      "「よみぽ」１００ポイントが１００人に当たる懸賞付き問題を出題中！\n",
      "/slitherlink/\n",
      "\n"
     ]
    }
   ],
   "source": [
    "for elem in elems_news:\n",
    "    print(elem.a.string)\n",
    "    print(elem.a[\"href\"], end=\"\\n\\n\")"
   ]
  },
  {
   "cell_type": "code",
   "execution_count": null,
   "id": "4c6b1fb4-0a91-45c9-a3d7-eef28b9b8c8f",
   "metadata": {},
   "outputs": [],
   "source": []
  }
 ],
 "metadata": {
  "kernelspec": {
   "display_name": "Python 3 (ipykernel)",
   "language": "python",
   "name": "python3"
  },
  "language_info": {
   "codemirror_mode": {
    "name": "ipython",
    "version": 3
   },
   "file_extension": ".py",
   "mimetype": "text/x-python",
   "name": "python",
   "nbconvert_exporter": "python",
   "pygments_lexer": "ipython3",
   "version": "3.11.1"
  }
 },
 "nbformat": 4,
 "nbformat_minor": 5
}
