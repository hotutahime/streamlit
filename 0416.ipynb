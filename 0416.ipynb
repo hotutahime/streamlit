{
 "cells": [
  {
   "cell_type": "code",
   "execution_count": 15,
   "id": "af9cbcc2-4e1e-470c-ab27-751b9af552bf",
   "metadata": {
    "tags": []
   },
   "outputs": [],
   "source": [
    "import openpyxl as excel"
   ]
  },
  {
   "cell_type": "code",
   "execution_count": 16,
   "id": "e0e7ac1c-838a-42ac-830a-8f14b2d653e4",
   "metadata": {
    "tags": []
   },
   "outputs": [],
   "source": [
    "book = excel.Workbook()\n",
    "sheet = book.active"
   ]
  },
  {
   "cell_type": "code",
   "execution_count": 17,
   "id": "3b8d982b-deeb-4e87-87ae-2ebf7ee882a2",
   "metadata": {
    "tags": []
   },
   "outputs": [],
   "source": [
    "for y in range(1, 101):\n",
    "    for x in range(1, 101):\n",
    "        cell = sheet.cell(row=y , column=x)\n",
    "        cell.value = cell.coordinate\n",
    "\n",
    "book.save(\"test100.xlsx\")"
   ]
  },
  {
   "cell_type": "code",
   "execution_count": null,
   "id": "39bdeb46-80c4-437f-9283-ee2989c6e2d0",
   "metadata": {},
   "outputs": [],
   "source": []
  }
 ],
 "metadata": {
  "kernelspec": {
   "display_name": "Python 3 (ipykernel)",
   "language": "python",
   "name": "python3"
  },
  "language_info": {
   "codemirror_mode": {
    "name": "ipython",
    "version": 3
   },
   "file_extension": ".py",
   "mimetype": "text/x-python",
   "name": "python",
   "nbconvert_exporter": "python",
   "pygments_lexer": "ipython3",
   "version": "3.11.1"
  }
 },
 "nbformat": 4,
 "nbformat_minor": 5
}
