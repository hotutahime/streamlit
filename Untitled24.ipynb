{
 "cells": [
  {
   "cell_type": "code",
   "execution_count": 11,
   "id": "27b8c035-bc5a-420d-af80-742315425be3",
   "metadata": {
    "tags": []
   },
   "outputs": [
    {
     "name": "stdout",
     "output_type": "stream",
     "text": [
      "1 <class 'int'>\n",
      "1 <class 'str'>\n",
      "True <class 'bool'>\n"
     ]
    }
   ],
   "source": [
    "num = 1\n",
    "name = \"Mike\"\n",
    "name = \"1\"\n",
    "is_ok = True\n",
    "new_num = int(name)\n",
    "\n",
    "print(num , type(num))\n",
    "print(name , type(name))\n",
    "print(is_ok , type(is_ok))"
   ]
  },
  {
   "cell_type": "code",
   "execution_count": null,
   "id": "e9c0155e-6704-46a6-b7ad-6f5a343c8e6b",
   "metadata": {},
   "outputs": [],
   "source": []
  }
 ],
 "metadata": {
  "kernelspec": {
   "display_name": "Python 3 (ipykernel)",
   "language": "python",
   "name": "python3"
  },
  "language_info": {
   "codemirror_mode": {
    "name": "ipython",
    "version": 3
   },
   "file_extension": ".py",
   "mimetype": "text/x-python",
   "name": "python",
   "nbconvert_exporter": "python",
   "pygments_lexer": "ipython3",
   "version": "3.11.1"
  }
 },
 "nbformat": 4,
 "nbformat_minor": 5
}
