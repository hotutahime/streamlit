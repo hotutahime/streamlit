{
 "cells": [
  {
   "cell_type": "code",
   "execution_count": 5,
   "id": "9158fa7b-21e6-48bd-b8ac-facf9a6822f8",
   "metadata": {
    "tags": []
   },
   "outputs": [],
   "source": [
    "import tkinter as tk #ウィンドウ関数読み込み\n",
    "import random #ランダム関数読み込み\n",
    "\n",
    "def dispLabel():\n",
    "    kuji = [\"大吉\",\"中吉\",\"小吉\"]\n",
    "    lbl.configure(text=random.choice(kuji))\n",
    "    \n",
    "root = tk.Tk()\n",
    "root.geometry(\"300x400\")\n",
    "\n",
    "lbl = tk.Label(text=\"ラベルです\")\n",
    "btn = tk.Button(text=\"こちらを押してください\" , command = dispLabel)\n",
    "\n",
    "lbl.pack()\n",
    "btn.pack()\n",
    "tk.mainloop()"
   ]
  },
  {
   "cell_type": "code",
   "execution_count": null,
   "id": "a882137d-501d-4b35-9006-d1068da258c6",
   "metadata": {},
   "outputs": [],
   "source": []
  }
 ],
 "metadata": {
  "kernelspec": {
   "display_name": "Python 3 (ipykernel)",
   "language": "python",
   "name": "python3"
  },
  "language_info": {
   "codemirror_mode": {
    "name": "ipython",
    "version": 3
   },
   "file_extension": ".py",
   "mimetype": "text/x-python",
   "name": "python",
   "nbconvert_exporter": "python",
   "pygments_lexer": "ipython3",
   "version": "3.8.16"
  }
 },
 "nbformat": 4,
 "nbformat_minor": 5
}
