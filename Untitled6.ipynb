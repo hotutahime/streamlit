{
 "cells": [
  {
   "cell_type": "code",
   "execution_count": 1,
   "id": "2da09bd6-0fd9-46fc-9fb0-f49cdc08af54",
   "metadata": {
    "tags": []
   },
   "outputs": [
    {
     "ename": "ModuleNotFoundError",
     "evalue": "No module named '_tkinter'",
     "output_type": "error",
     "traceback": [
      "\u001b[0;31m---------------------------------------------------------------------------\u001b[0m",
      "\u001b[0;31mModuleNotFoundError\u001b[0m                       Traceback (most recent call last)",
      "Cell \u001b[0;32mIn[1], line 1\u001b[0m\n\u001b[0;32m----> 1\u001b[0m \u001b[38;5;28;01mimport\u001b[39;00m \u001b[38;5;21;01mPySimpleGUI\u001b[39;00m \u001b[38;5;28;01mas\u001b[39;00m \u001b[38;5;21;01msg\u001b[39;00m\n\u001b[1;32m      3\u001b[0m sg\u001b[38;5;241m.\u001b[39mChangeLookAndFeel(\u001b[38;5;124m'\u001b[39m\u001b[38;5;124mGreenTan\u001b[39m\u001b[38;5;124m'\u001b[39m)\n\u001b[1;32m      4\u001b[0m \u001b[38;5;66;03m# ------ Menu Definition ------ #\u001b[39;00m\n",
      "File \u001b[0;32m~/.pyenv/versions/3.11.1/lib/python3.11/site-packages/PySimpleGUI/__init__.py:2\u001b[0m\n\u001b[1;32m      1\u001b[0m name \u001b[38;5;241m=\u001b[39m \u001b[38;5;124m\"\u001b[39m\u001b[38;5;124mPySimpleGUI\u001b[39m\u001b[38;5;124m\"\u001b[39m\n\u001b[0;32m----> 2\u001b[0m \u001b[38;5;28;01mfrom\u001b[39;00m \u001b[38;5;21;01m.\u001b[39;00m\u001b[38;5;21;01mPySimpleGUI\u001b[39;00m \u001b[38;5;28;01mimport\u001b[39;00m \u001b[38;5;241m*\u001b[39m\n\u001b[1;32m      3\u001b[0m \u001b[38;5;28;01mfrom\u001b[39;00m \u001b[38;5;21;01m.\u001b[39;00m\u001b[38;5;21;01mPySimpleGUI\u001b[39;00m \u001b[38;5;28;01mimport\u001b[39;00m __version__\n",
      "File \u001b[0;32m~/.pyenv/versions/3.11.1/lib/python3.11/site-packages/PySimpleGUI/PySimpleGUI.py:136\u001b[0m\n\u001b[1;32m     39\u001b[0m \u001b[38;5;124;03m\"\"\"\u001b[39;00m\n\u001b[1;32m     40\u001b[0m \u001b[38;5;124;03m    Copyright 2018, 2019, 2020, 2021, 2022 PySimpleGUI(tm)\u001b[39;00m\n\u001b[1;32m     41\u001b[0m \n\u001b[0;32m   (...)\u001b[0m\n\u001b[1;32m    132\u001b[0m \u001b[38;5;124;03m    \"Thank you\" has fueled this project. I'm incredibly grateful to have users that are in turn grateful. It's a feedback loop of gratitude. What a fantastic thing!\u001b[39;00m\n\u001b[1;32m    133\u001b[0m \u001b[38;5;124;03m\"\"\"\u001b[39;00m\n\u001b[1;32m    135\u001b[0m \u001b[38;5;66;03m# all of the tkinter involved imports\u001b[39;00m\n\u001b[0;32m--> 136\u001b[0m \u001b[38;5;28;01mimport\u001b[39;00m \u001b[38;5;21;01mtkinter\u001b[39;00m \u001b[38;5;28;01mas\u001b[39;00m \u001b[38;5;21;01mtk\u001b[39;00m\n\u001b[1;32m    137\u001b[0m \u001b[38;5;28;01mfrom\u001b[39;00m \u001b[38;5;21;01mtkinter\u001b[39;00m \u001b[38;5;28;01mimport\u001b[39;00m filedialog\n\u001b[1;32m    138\u001b[0m \u001b[38;5;28;01mfrom\u001b[39;00m \u001b[38;5;21;01mtkinter\u001b[39;00m\u001b[38;5;21;01m.\u001b[39;00m\u001b[38;5;21;01mcolorchooser\u001b[39;00m \u001b[38;5;28;01mimport\u001b[39;00m askcolor\n",
      "File \u001b[0;32m~/.pyenv/versions/3.11.1/lib/python3.11/tkinter/__init__.py:38\u001b[0m\n\u001b[1;32m     35\u001b[0m \u001b[38;5;28;01mimport\u001b[39;00m \u001b[38;5;21;01msys\u001b[39;00m\n\u001b[1;32m     36\u001b[0m \u001b[38;5;28;01mimport\u001b[39;00m \u001b[38;5;21;01mtypes\u001b[39;00m\n\u001b[0;32m---> 38\u001b[0m \u001b[38;5;28;01mimport\u001b[39;00m \u001b[38;5;21;01m_tkinter\u001b[39;00m \u001b[38;5;66;03m# If this fails your Python may not be configured for Tk\u001b[39;00m\n\u001b[1;32m     39\u001b[0m TclError \u001b[38;5;241m=\u001b[39m _tkinter\u001b[38;5;241m.\u001b[39mTclError\n\u001b[1;32m     40\u001b[0m \u001b[38;5;28;01mfrom\u001b[39;00m \u001b[38;5;21;01mtkinter\u001b[39;00m\u001b[38;5;21;01m.\u001b[39;00m\u001b[38;5;21;01mconstants\u001b[39;00m \u001b[38;5;28;01mimport\u001b[39;00m \u001b[38;5;241m*\u001b[39m\n",
      "\u001b[0;31mModuleNotFoundError\u001b[0m: No module named '_tkinter'"
     ]
    }
   ],
   "source": [
    "import PySimpleGUI as sg\n",
    "\n",
    "sg.ChangeLookAndFeel('GreenTan')\n",
    "# ------ Menu Definition ------ #\n",
    "menu_def = [['&File', ['&Open', '&Save', 'E&xit', 'Properties']],\n",
    "            ['&Edit', ['Paste', ['Special', 'Normal', ], 'Undo'], ],\n",
    "            ['&Help', '&About...'], ]\n",
    "# ------ Column Definition ------ #\n",
    "column1 = [[sg.Text('Column 1', background_color='lightblue', justification='center', size=(10, 1))],\n",
    "           [sg.Spin(values=('Spin Box 1', '2', '3'), initial_value='Spin Box 1')],\n",
    "           [sg.Spin(values=('Spin Box 1', '2', '3'), initial_value='Spin Box 2')],\n",
    "           [sg.Spin(values=('Spin Box 1', '2', '3'), initial_value='Spin Box 3')]]\n",
    "\n",
    "layout = [\n",
    "    [sg.Menu(menu_def, tearoff=True)],\n",
    "    [sg.Text('(Almost) All widgets in one Window!', size=(30, 1), justification='center', font=(\"Helvetica\", 25), relief=sg.RELIEF_RIDGE)],\n",
    "    [sg.Text('Here is some text.... and a place to enter text')],\n",
    "    [sg.InputText('This is my text')],\n",
    "    [sg.Frame(layout=[\n",
    "    [sg.Checkbox('Checkbox', size=(10,1)),  sg.Checkbox('My second checkbox!', default=True)],\n",
    "    [sg.Radio('My first Radio!     ', \"RADIO1\", default=True, size=(10,1)), sg.Radio('My second Radio!', \"RADIO1\")]], title='Options',title_color='red', relief=sg.RELIEF_SUNKEN, tooltip='Use these to set flags')],\n",
    "    [sg.Multiline(default_text='This is the default Text should you decide not to type anything', size=(35, 3)),\n",
    "     sg.Multiline(default_text='A second multi-line', size=(35, 3))],\n",
    "    [sg.InputCombo(('Combobox 1', 'Combobox 2'), size=(20, 1)),\n",
    "     sg.Slider(range=(1, 100), orientation='h', size=(34, 20), default_value=85)],\n",
    "    [sg.InputOptionMenu(('Menu Option 1', 'Menu Option 2', 'Menu Option 3'))],\n",
    "    [sg.Listbox(values=('Listbox 1', 'Listbox 2', 'Listbox 3'), size=(30, 3)),\n",
    "     sg.Frame('Labelled Group',[[\n",
    "     sg.Slider(range=(1, 100), orientation='v', size=(5, 20), default_value=25),\n",
    "     sg.Slider(range=(1, 100), orientation='v', size=(5, 20), default_value=75),\n",
    "     sg.Slider(range=(1, 100), orientation='v', size=(5, 20), default_value=10),\n",
    "     sg.Column(column1, background_color='lightblue')]])],\n",
    "    [sg.Text('_' * 80)],\n",
    "    [sg.Text('Choose A Folder', size=(35, 1))],\n",
    "    [sg.Text('Your Folder', size=(15, 1), auto_size_text=False, justification='right'),\n",
    "     sg.InputText('Default Folder'), sg.FolderBrowse()],\n",
    "    [sg.Submit(tooltip='Click to submit this form'), sg.Cancel()]]\n",
    "\n",
    "window = sg.Window('Everything bagel', default_element_size=(40, 1), grab_anywhere=False).Layout(layout)\n",
    "button, values = window.Read()"
   ]
  },
  {
   "cell_type": "code",
   "execution_count": null,
   "id": "2306c520-f3cd-497f-9cd4-a2a451f86fb8",
   "metadata": {},
   "outputs": [],
   "source": []
  }
 ],
 "metadata": {
  "kernelspec": {
   "display_name": "Python 3 (ipykernel)",
   "language": "python",
   "name": "python3"
  },
  "language_info": {
   "codemirror_mode": {
    "name": "ipython",
    "version": 3
   },
   "file_extension": ".py",
   "mimetype": "text/x-python",
   "name": "python",
   "nbconvert_exporter": "python",
   "pygments_lexer": "ipython3",
   "version": "3.11.1"
  }
 },
 "nbformat": 4,
 "nbformat_minor": 5
}
