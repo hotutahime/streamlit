{
 "cells": [
  {
   "cell_type": "code",
   "execution_count": 1,
   "id": "54950780-419a-487e-982f-538c4a4e0b3f",
   "metadata": {
    "tags": []
   },
   "outputs": [],
   "source": [
    "#いろいろインポート\n",
    "import pandas as pd\n",
    "from datetime import datetime\n",
    "import seaborn as sns\n",
    "import matplotlib.pyplot as plt\n",
    "\n",
    "#データ読み込み\n",
    "df = pd.read_csv(\"/Users/kato/Downloads/3-3_TS_sample2.csv\",index_col=\"年月日\",encoding=\"shift_jis\",parse_dates=True)"
   ]
  },
  {
   "cell_type": "code",
   "execution_count": 6,
   "id": "57c2155f-3212-4c03-a87c-83a67b1b9998",
   "metadata": {
    "tags": []
   },
   "outputs": [],
   "source": [
    "#　月ごとに集計したデータも準備しておく\n",
    "df_month = df[\"2010\":\"2018\"].resample(\"M\").mean()\n",
    "df_month_all = df.loc[\"2010\":\"2019\"].resample(\"M\").mean()\n",
    "\n",
    "df_month_pred = df.loc[\"2019\"].resample(\"M\").mean()"
   ]
  },
  {
   "cell_type": "code",
   "execution_count": 7,
   "id": "99ef702f-3619-4c47-9969-cb4d51ffaa9d",
   "metadata": {
    "tags": []
   },
   "outputs": [
    {
     "name": "stdout",
     "output_type": "stream",
     "text": [
      "RUNNING THE L-BFGS-B CODE\n",
      "\n",
      "           * * *\n",
      "\n",
      "Machine precision = 2.220D-16\n",
      " N =            6     M =           10\n",
      "\n",
      "At X0         0 variables are exactly at the bounds\n",
      "\n",
      "At iterate    0    f=  1.38110D+00    |proj g|=  1.94948D-01\n",
      "\n",
      "At iterate    5    f=  1.33598D+00    |proj g|=  2.68518D-02\n",
      "\n",
      "At iterate   10    f=  1.31835D+00    |proj g|=  3.73339D-02\n",
      "\n",
      "At iterate   15    f=  1.31313D+00    |proj g|=  1.91597D-02\n"
     ]
    },
    {
     "name": "stderr",
     "output_type": "stream",
     "text": [
      " This problem is unconstrained.\n"
     ]
    },
    {
     "name": "stdout",
     "output_type": "stream",
     "text": [
      "\n",
      "At iterate   20    f=  1.31268D+00    |proj g|=  9.20485D-03\n",
      "\n",
      "At iterate   25    f=  1.31257D+00    |proj g|=  1.34997D-03\n",
      "\n",
      "At iterate   30    f=  1.31256D+00    |proj g|=  2.04488D-04\n",
      "\n",
      "At iterate   35    f=  1.31256D+00    |proj g|=  8.80470D-05\n",
      "\n",
      "           * * *\n",
      "\n",
      "Tit   = total number of iterations\n",
      "Tnf   = total number of function evaluations\n",
      "Tnint = total number of segments explored during Cauchy searches\n",
      "Skip  = number of BFGS updates skipped\n",
      "Nact  = number of active bounds at final generalized Cauchy point\n",
      "Projg = norm of the final projected gradient\n",
      "F     = final function value\n",
      "\n",
      "           * * *\n",
      "\n",
      "   N    Tit     Tnf  Tnint  Skip  Nact     Projg        F\n",
      "    6     37     51      1     0     0   2.320D-05   1.313D+00\n",
      "  F =   1.3125624128347997     \n",
      "\n",
      "CONVERGENCE: REL_REDUCTION_OF_F_<=_FACTR*EPSMCH             \n"
     ]
    },
    {
     "data": {
      "text/html": [
       "<table class=\"simpletable\">\n",
       "<caption>SARIMAX Results</caption>\n",
       "<tr>\n",
       "  <th>Dep. Variable:</th>               <td>平均気温(℃)</td>            <th>  No. Observations:  </th>    <td>108</td>  \n",
       "</tr>\n",
       "<tr>\n",
       "  <th>Model:</th>           <td>SARIMAX(1, 1, 1)x(0, 1, 1, 12)</td> <th>  Log Likelihood     </th> <td>-141.757</td>\n",
       "</tr>\n",
       "<tr>\n",
       "  <th>Date:</th>                   <td>Wed, 26 Apr 2023</td>        <th>  AIC                </th>  <td>295.513</td>\n",
       "</tr>\n",
       "<tr>\n",
       "  <th>Time:</th>                       <td>01:31:09</td>            <th>  BIC                </th>  <td>310.837</td>\n",
       "</tr>\n",
       "<tr>\n",
       "  <th>Sample:</th>                    <td>01-31-2010</td>           <th>  HQIC               </th>  <td>301.705</td>\n",
       "</tr>\n",
       "<tr>\n",
       "  <th></th>                          <td>- 12-31-2018</td>          <th>                     </th>     <td> </td>   \n",
       "</tr>\n",
       "<tr>\n",
       "  <th>Covariance Type:</th>               <td>opg</td>              <th>                     </th>     <td> </td>   \n",
       "</tr>\n",
       "</table>\n",
       "<table class=\"simpletable\">\n",
       "<tr>\n",
       "       <td></td>         <th>coef</th>     <th>std err</th>      <th>z</th>      <th>P>|z|</th>  <th>[0.025</th>    <th>0.975]</th>  \n",
       "</tr>\n",
       "<tr>\n",
       "  <th>降水量の合計(mm)</th> <td>   -0.0053</td> <td>    0.036</td> <td>   -0.145</td> <td> 0.885</td> <td>   -0.077</td> <td>    0.066</td>\n",
       "</tr>\n",
       "<tr>\n",
       "  <th>日照時間(時間)</th>   <td>    0.3840</td> <td>    0.154</td> <td>    2.489</td> <td> 0.013</td> <td>    0.082</td> <td>    0.686</td>\n",
       "</tr>\n",
       "<tr>\n",
       "  <th>ar.L1</th>      <td>    0.2492</td> <td>    0.119</td> <td>    2.102</td> <td> 0.036</td> <td>    0.017</td> <td>    0.482</td>\n",
       "</tr>\n",
       "<tr>\n",
       "  <th>ma.L1</th>      <td>   -0.9989</td> <td>    2.330</td> <td>   -0.429</td> <td> 0.668</td> <td>   -5.566</td> <td>    3.568</td>\n",
       "</tr>\n",
       "<tr>\n",
       "  <th>ma.S.L12</th>   <td>   -0.9974</td> <td>   12.044</td> <td>   -0.083</td> <td> 0.934</td> <td>  -24.603</td> <td>   22.608</td>\n",
       "</tr>\n",
       "<tr>\n",
       "  <th>sigma2</th>     <td>    0.8257</td> <td>   10.785</td> <td>    0.077</td> <td> 0.939</td> <td>  -20.313</td> <td>   21.965</td>\n",
       "</tr>\n",
       "</table>\n",
       "<table class=\"simpletable\">\n",
       "<tr>\n",
       "  <th>Ljung-Box (L1) (Q):</th>     <td>0.07</td> <th>  Jarque-Bera (JB):  </th> <td>1.97</td>\n",
       "</tr>\n",
       "<tr>\n",
       "  <th>Prob(Q):</th>                <td>0.79</td> <th>  Prob(JB):          </th> <td>0.37</td>\n",
       "</tr>\n",
       "<tr>\n",
       "  <th>Heteroskedasticity (H):</th> <td>0.89</td> <th>  Skew:              </th> <td>0.31</td>\n",
       "</tr>\n",
       "<tr>\n",
       "  <th>Prob(H) (two-sided):</th>    <td>0.74</td> <th>  Kurtosis:          </th> <td>3.35</td>\n",
       "</tr>\n",
       "</table><br/><br/>Warnings:<br/>[1] Covariance matrix calculated using the outer product of gradients (complex-step)."
      ],
      "text/plain": [
       "<class 'statsmodels.iolib.summary.Summary'>\n",
       "\"\"\"\n",
       "                                     SARIMAX Results                                      \n",
       "==========================================================================================\n",
       "Dep. Variable:                            平均気温(℃)   No. Observations:                  108\n",
       "Model:             SARIMAX(1, 1, 1)x(0, 1, 1, 12)   Log Likelihood                -141.757\n",
       "Date:                            Wed, 26 Apr 2023   AIC                            295.513\n",
       "Time:                                    01:31:09   BIC                            310.837\n",
       "Sample:                                01-31-2010   HQIC                           301.705\n",
       "                                     - 12-31-2018                                         \n",
       "Covariance Type:                              opg                                         \n",
       "==============================================================================\n",
       "                 coef    std err          z      P>|z|      [0.025      0.975]\n",
       "------------------------------------------------------------------------------\n",
       "降水量の合計(mm)    -0.0053      0.036     -0.145      0.885      -0.077       0.066\n",
       "日照時間(時間)       0.3840      0.154      2.489      0.013       0.082       0.686\n",
       "ar.L1          0.2492      0.119      2.102      0.036       0.017       0.482\n",
       "ma.L1         -0.9989      2.330     -0.429      0.668      -5.566       3.568\n",
       "ma.S.L12      -0.9974     12.044     -0.083      0.934     -24.603      22.608\n",
       "sigma2         0.8257     10.785      0.077      0.939     -20.313      21.965\n",
       "===================================================================================\n",
       "Ljung-Box (L1) (Q):                   0.07   Jarque-Bera (JB):                 1.97\n",
       "Prob(Q):                              0.79   Prob(JB):                         0.37\n",
       "Heteroskedasticity (H):               0.89   Skew:                             0.31\n",
       "Prob(H) (two-sided):                  0.74   Kurtosis:                         3.35\n",
       "===================================================================================\n",
       "\n",
       "Warnings:\n",
       "[1] Covariance matrix calculated using the outer product of gradients (complex-step).\n",
       "\"\"\""
      ]
     },
     "execution_count": 7,
     "metadata": {},
     "output_type": "execute_result"
    }
   ],
   "source": [
    "from statsmodels.tsa.statespace.sarimax import SARIMAX\n",
    "\n",
    "y = df_month[\"平均気温(℃)\"]\n",
    "X = df_month[[\"降水量の合計(mm)\",\"日照時間(時間)\"]]\n",
    "sarima_model = sm.tsa.SARIMAX(y,X, order=(1,1,1),seasonal_order=(0,1,1,12))\n",
    "result = sarima_model.fit()\n",
    "\n",
    "result.summary()"
   ]
  },
  {
   "cell_type": "code",
   "execution_count": null,
   "id": "45d19002-de87-43e4-aa78-4d6526f463f9",
   "metadata": {},
   "outputs": [],
   "source": []
  }
 ],
 "metadata": {
  "kernelspec": {
   "display_name": "Python 3 (ipykernel)",
   "language": "python",
   "name": "python3"
  },
  "language_info": {
   "codemirror_mode": {
    "name": "ipython",
    "version": 3
   },
   "file_extension": ".py",
   "mimetype": "text/x-python",
   "name": "python",
   "nbconvert_exporter": "python",
   "pygments_lexer": "ipython3",
   "version": "3.11.1"
  }
 },
 "nbformat": 4,
 "nbformat_minor": 5
}
