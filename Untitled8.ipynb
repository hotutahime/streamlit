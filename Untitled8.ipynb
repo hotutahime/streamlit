{
 "cells": [
  {
   "cell_type": "code",
   "execution_count": 1,
   "id": "7cf32728-0088-4de2-8faa-10ddc74b81e1",
   "metadata": {
    "tags": []
   },
   "outputs": [],
   "source": [
    "import pandas as pd"
   ]
  },
  {
   "cell_type": "code",
   "execution_count": 2,
   "id": "85d8954a-daf8-4f9c-9079-4f144adbba76",
   "metadata": {
    "tags": []
   },
   "outputs": [],
   "source": [
    "df = pd.read_csv(\"/Users/kato/Desktop/mypython/awesomebook-master/data/reserve.csv\" , encoding=\"utf-8\")"
   ]
  },
  {
   "cell_type": "code",
   "execution_count": 4,
   "id": "4b1907aa-d6dd-4b78-bfe5-2d41d4cb95aa",
   "metadata": {
    "tags": []
   },
   "outputs": [
    {
     "data": {
      "text/html": [
       "<div>\n",
       "<style scoped>\n",
       "    .dataframe tbody tr th:only-of-type {\n",
       "        vertical-align: middle;\n",
       "    }\n",
       "\n",
       "    .dataframe tbody tr th {\n",
       "        vertical-align: top;\n",
       "    }\n",
       "\n",
       "    .dataframe thead th {\n",
       "        text-align: right;\n",
       "    }\n",
       "</style>\n",
       "<table border=\"1\" class=\"dataframe\">\n",
       "  <thead>\n",
       "    <tr style=\"text-align: right;\">\n",
       "      <th></th>\n",
       "      <th>reserve_id</th>\n",
       "      <th>hotel_id</th>\n",
       "      <th>customer_id</th>\n",
       "      <th>reserve_datetime</th>\n",
       "      <th>checkin_date</th>\n",
       "      <th>checkin_time</th>\n",
       "      <th>checkout_date</th>\n",
       "      <th>people_num</th>\n",
       "      <th>total_price</th>\n",
       "    </tr>\n",
       "  </thead>\n",
       "  <tbody>\n",
       "    <tr>\n",
       "      <th>0</th>\n",
       "      <td>r1</td>\n",
       "      <td>h_75</td>\n",
       "      <td>c_1</td>\n",
       "      <td>2016-03-06 13:09:42</td>\n",
       "      <td>2016-03-26</td>\n",
       "      <td>10:00:00</td>\n",
       "      <td>2016-03-29</td>\n",
       "      <td>4</td>\n",
       "      <td>97200</td>\n",
       "    </tr>\n",
       "    <tr>\n",
       "      <th>1</th>\n",
       "      <td>r2</td>\n",
       "      <td>h_219</td>\n",
       "      <td>c_1</td>\n",
       "      <td>2016-07-16 23:39:55</td>\n",
       "      <td>2016-07-20</td>\n",
       "      <td>11:30:00</td>\n",
       "      <td>2016-07-21</td>\n",
       "      <td>2</td>\n",
       "      <td>20600</td>\n",
       "    </tr>\n",
       "    <tr>\n",
       "      <th>2</th>\n",
       "      <td>r3</td>\n",
       "      <td>h_179</td>\n",
       "      <td>c_1</td>\n",
       "      <td>2016-09-24 10:03:17</td>\n",
       "      <td>2016-10-19</td>\n",
       "      <td>09:00:00</td>\n",
       "      <td>2016-10-22</td>\n",
       "      <td>2</td>\n",
       "      <td>33600</td>\n",
       "    </tr>\n",
       "  </tbody>\n",
       "</table>\n",
       "</div>"
      ],
      "text/plain": [
       "  reserve_id hotel_id customer_id     reserve_datetime checkin_date   \n",
       "0         r1     h_75         c_1  2016-03-06 13:09:42   2016-03-26  \\\n",
       "1         r2    h_219         c_1  2016-07-16 23:39:55   2016-07-20   \n",
       "2         r3    h_179         c_1  2016-09-24 10:03:17   2016-10-19   \n",
       "\n",
       "  checkin_time checkout_date  people_num  total_price  \n",
       "0     10:00:00    2016-03-29           4        97200  \n",
       "1     11:30:00    2016-07-21           2        20600  \n",
       "2     09:00:00    2016-10-22           2        33600  "
      ]
     },
     "execution_count": 4,
     "metadata": {},
     "output_type": "execute_result"
    }
   ],
   "source": [
    "df.head(3)"
   ]
  },
  {
   "cell_type": "code",
   "execution_count": 5,
   "id": "218cb4a4-bbc3-44a2-b52f-bee903c11bbf",
   "metadata": {
    "tags": []
   },
   "outputs": [
    {
     "ename": "SyntaxError",
     "evalue": "unterminated string literal (detected at line 1) (3041343299.py, line 1)",
     "output_type": "error",
     "traceback": [
      "\u001b[0;36m  Cell \u001b[0;32mIn[5], line 1\u001b[0;36m\u001b[0m\n\u001b[0;31m    pd.pivot_table(df, index=\"0 , columns=\"total_price\")\u001b[0m\n\u001b[0m                                                      ^\u001b[0m\n\u001b[0;31mSyntaxError\u001b[0m\u001b[0;31m:\u001b[0m unterminated string literal (detected at line 1)\n"
     ]
    }
   ],
   "source": [
    "pd.pivot_table(df, index=\"0 , columns=\"total_price\")"
   ]
  },
  {
   "cell_type": "code",
   "execution_count": null,
   "id": "58d1cebb-eeb6-47ff-b094-e4aeafb5f110",
   "metadata": {},
   "outputs": [],
   "source": []
  }
 ],
 "metadata": {
  "kernelspec": {
   "display_name": "Python 3 (ipykernel)",
   "language": "python",
   "name": "python3"
  },
  "language_info": {
   "codemirror_mode": {
    "name": "ipython",
    "version": 3
   },
   "file_extension": ".py",
   "mimetype": "text/x-python",
   "name": "python",
   "nbconvert_exporter": "python",
   "pygments_lexer": "ipython3",
   "version": "3.11.1"
  }
 },
 "nbformat": 4,
 "nbformat_minor": 5
}
