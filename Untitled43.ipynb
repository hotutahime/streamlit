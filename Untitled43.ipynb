{
 "cells": [
  {
   "cell_type": "code",
   "execution_count": 20,
   "id": "b5b7d210-f702-41d8-b06e-6b231f90f033",
   "metadata": {
    "tags": []
   },
   "outputs": [],
   "source": [
    "import pyautogui as pag"
   ]
  },
  {
   "cell_type": "code",
   "execution_count": 29,
   "id": "2e03191a-f644-49bd-8434-bcdec08af1fd",
   "metadata": {
    "tags": []
   },
   "outputs": [
    {
     "data": {
      "text/plain": [
       "Point(x=1216, y=323)"
      ]
     },
     "execution_count": 29,
     "metadata": {},
     "output_type": "execute_result"
    }
   ],
   "source": [
    "pag.position()"
   ]
  },
  {
   "cell_type": "code",
   "execution_count": 22,
   "id": "48d9619e-dc6b-4f91-80d4-3593ed4a1467",
   "metadata": {
    "tags": []
   },
   "outputs": [],
   "source": [
    "pag.moveTo(818, 51, duration=0.5)"
   ]
  },
  {
   "cell_type": "code",
   "execution_count": 5,
   "id": "cc8da18d-6ccc-4924-b38c-9d71efc17606",
   "metadata": {
    "tags": []
   },
   "outputs": [],
   "source": [
    "pag.click(818, 51)"
   ]
  },
  {
   "cell_type": "code",
   "execution_count": null,
   "id": "490af1c5-9fbc-4b67-b3c1-7ba770284be3",
   "metadata": {},
   "outputs": [],
   "source": [
    "gazou = pag.locateOnScreen(\".bmp\")\n",
    "x, y = pag.center(gazou)\n",
    "pag.click(x, y)"
   ]
  },
  {
   "cell_type": "code",
   "execution_count": null,
   "id": "6248916d-a7eb-4ae4-bac7-905e6073b704",
   "metadata": {},
   "outputs": [],
   "source": [
    "gazou = pag.locateOnScreen(\".bmp\")\n",
    "x, y = pag.center(gazou)[0]\n",
    "pag.click(list(gazou))[0]"
   ]
  },
  {
   "cell_type": "code",
   "execution_count": 12,
   "id": "ee18a185-0a1a-44e2-901e-218633fc5364",
   "metadata": {
    "tags": []
   },
   "outputs": [],
   "source": [
    "pag.doubleClick(912, 53)"
   ]
  },
  {
   "cell_type": "code",
   "execution_count": 15,
   "id": "2a8ef13e-6647-454b-94b9-a4c0db24b8d5",
   "metadata": {
    "tags": []
   },
   "outputs": [],
   "source": [
    "pag.rightClick()"
   ]
  },
  {
   "cell_type": "code",
   "execution_count": 24,
   "id": "fa939e80-da78-4f47-85f1-54f05bfc3519",
   "metadata": {
    "tags": []
   },
   "outputs": [],
   "source": [
    "pag.hotkey(\"ctrl\", \"a\")"
   ]
  },
  {
   "cell_type": "code",
   "execution_count": 32,
   "id": "937b8bad-613e-4dc6-98bd-d49ae57851d5",
   "metadata": {
    "tags": []
   },
   "outputs": [],
   "source": [
    "pag.moveTo(1216, 323, duration=0.5)\n",
    "pag.click()\n",
    "pag.write(\"aaaaaa\")"
   ]
  },
  {
   "cell_type": "code",
   "execution_count": 34,
   "id": "62ae4f3a-9869-4b1d-a91a-464be05e5fba",
   "metadata": {
    "tags": []
   },
   "outputs": [],
   "source": [
    "pag.press(\"enter\", presses=3,interval=0.5)"
   ]
  },
  {
   "cell_type": "code",
   "execution_count": null,
   "id": "0e806d4f-3105-4515-bfe7-6b358d7e28e0",
   "metadata": {},
   "outputs": [],
   "source": []
  }
 ],
 "metadata": {
  "kernelspec": {
   "display_name": "Python 3 (ipykernel)",
   "language": "python",
   "name": "python3"
  },
  "language_info": {
   "codemirror_mode": {
    "name": "ipython",
    "version": 3
   },
   "file_extension": ".py",
   "mimetype": "text/x-python",
   "name": "python",
   "nbconvert_exporter": "python",
   "pygments_lexer": "ipython3",
   "version": "3.11.1"
  }
 },
 "nbformat": 4,
 "nbformat_minor": 5
}
