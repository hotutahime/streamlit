{
 "cells": [
  {
   "cell_type": "code",
   "execution_count": 1,
   "id": "dd33aeff-7722-471a-a2c4-0a19bdcded89",
   "metadata": {
    "tags": []
   },
   "outputs": [
    {
     "ename": "SyntaxError",
     "evalue": "invalid syntax (3600897065.py, line 3)",
     "output_type": "error",
     "traceback": [
      "\u001b[0;36m  Cell \u001b[0;32mIn[1], line 3\u001b[0;36m\u001b[0m\n\u001b[0;31m    <PongBall>:\u001b[0m\n\u001b[0m    ^\u001b[0m\n\u001b[0;31mSyntaxError\u001b[0m\u001b[0;31m:\u001b[0m invalid syntax\n"
     ]
    }
   ],
   "source": [
    "#:kivy 1.0.9\n",
    "\n",
    "<PongBall>:\n",
    "    size: 50, 50 \n",
    "    canvas:\n",
    "        Ellipse:\n",
    "            pos: self.pos\n",
    "            size: self.size          \n",
    "\n",
    "<PongGame>:\n",
    "    ball: pong_ball\n",
    "    \n",
    "    canvas:\n",
    "        Rectangle:\n",
    "            pos: self.center_x - 5, 0\n",
    "            size: 10, self.height\n",
    "    \n",
    "    Label:\n",
    "        font_size: 70  \n",
    "        center_x: root.width / 4\n",
    "        top: root.top - 50\n",
    "        text: \"0\"\n",
    "        \n",
    "    Label:\n",
    "        font_size: 70  \n",
    "        center_x: root.width * 3 / 4\n",
    "        top: root.top - 50\n",
    "        text: \"0\"\n",
    "    \n",
    "    PongBall:\n",
    "        id: pong_ball\n",
    "        center: self.parent.center"
   ]
  },
  {
   "cell_type": "code",
   "execution_count": null,
   "id": "e6eff890-822d-4466-8817-dc749797ec4c",
   "metadata": {},
   "outputs": [],
   "source": []
  }
 ],
 "metadata": {
  "kernelspec": {
   "display_name": "Python 3 (ipykernel)",
   "language": "python",
   "name": "python3"
  },
  "language_info": {
   "codemirror_mode": {
    "name": "ipython",
    "version": 3
   },
   "file_extension": ".py",
   "mimetype": "text/x-python",
   "name": "python",
   "nbconvert_exporter": "python",
   "pygments_lexer": "ipython3",
   "version": "3.11.1"
  }
 },
 "nbformat": 4,
 "nbformat_minor": 5
}
