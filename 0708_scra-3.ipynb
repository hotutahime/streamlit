{
 "cells": [
  {
   "cell_type": "code",
   "execution_count": 52,
   "id": "e915f120-6c06-4bb8-8e3d-3d1454563aff",
   "metadata": {
    "tags": []
   },
   "outputs": [],
   "source": [
    "import requests\n",
    "import pandas as pd\n",
    "from bs4 import BeautifulSoup"
   ]
  },
  {
   "cell_type": "code",
   "execution_count": 53,
   "id": "7fcb1ce2-9a38-4165-a90b-1490a0865c59",
   "metadata": {
    "tags": []
   },
   "outputs": [],
   "source": [
    "url = \"https://travel.rakuten.co.jp/yado/aomori/aomori.html?lid=jparea_undated_arealink\"\n",
    "\n",
    "res = requests.get(url)\n",
    "res.encoding = res.apparent_encoding\n",
    "soup = BeautifulSoup(res.text, \"html.parser\")"
   ]
  },
  {
   "cell_type": "code",
   "execution_count": 54,
   "id": "7bed383b-cf81-4644-8d44-538acd0e5a09",
   "metadata": {
    "tags": []
   },
   "outputs": [
    {
     "data": {
      "text/plain": [
       "[<a href=\"https://travel.rakuten.co.jp/HOTEL/80549/80549.html?l-id=hotelList_1_80549\">ホテルサンルート青森</a>,\n",
       " <a href=\"https://travel.rakuten.co.jp/HOTEL/69296/69296.html?l-id=hotelList_2_69296\">スーパーホテル青森</a>,\n",
       " <a href=\"https://travel.rakuten.co.jp/HOTEL/167605/167605.html?l-id=hotelList_3_167605\">ダイワロイネットホテル青森</a>,\n",
       " <a href=\"https://travel.rakuten.co.jp/HOTEL/78156/78156.html?l-id=hotelList_4_78156\">まちなか温泉　青森センターホテル</a>,\n",
       " <a href=\"https://travel.rakuten.co.jp/HOTEL/172789/172789.html?l-id=hotelList_5_172789\">アートホテル青森</a>,\n",
       " <a href=\"https://travel.rakuten.co.jp/HOTEL/80726/80726.html?l-id=hotelList_6_80726\">リッチモンドホテル青森</a>,\n",
       " <a href=\"https://travel.rakuten.co.jp/HOTEL/15969/15969.html?l-id=hotelList_7_15969\">ホテルルートイン青森駅前</a>,\n",
       " <a href=\"https://travel.rakuten.co.jp/HOTEL/68192/68192.html?l-id=hotelList_8_68192\">ホテルマイステイズ青森駅前</a>,\n",
       " <a href=\"https://travel.rakuten.co.jp/HOTEL/856/856.html?l-id=hotelList_9_856\">スマイルホテル青森</a>,\n",
       " <a href=\"https://travel.rakuten.co.jp/HOTEL/73881/73881.html?l-id=hotelList_10_73881\">ホテルルートイン青森中央インター</a>,\n",
       " <a href=\"https://travel.rakuten.co.jp/HOTEL/1482/1482.html?l-id=hotelList_11_1482\">ホテルＪＡＬシティ青森</a>,\n",
       " <a href=\"https://travel.rakuten.co.jp/HOTEL/4962/4962.html?l-id=hotelList_12_4962\">浅虫温泉　南部屋・海扇閣（なんぶや・かいせんかく）</a>,\n",
       " <a href=\"https://travel.rakuten.co.jp/HOTEL/149278/149278.html?l-id=hotelList_13_149278\">アパホテル〈青森駅県庁通〉</a>,\n",
       " <a href=\"https://travel.rakuten.co.jp/HOTEL/44186/44186.html?l-id=hotelList_14_44186\">浅虫温泉　辰巳館</a>,\n",
       " <a href=\"https://travel.rakuten.co.jp/HOTEL/16678/16678.html?l-id=hotelList_15_16678\">青森グリーンパークホテル</a>,\n",
       " <a href=\"https://travel.rakuten.co.jp/HOTEL/163034/163034.html?l-id=hotelList_16_163034\">ホテルパサージュＩＩ</a>,\n",
       " <a href=\"https://travel.rakuten.co.jp/HOTEL/178564/178564.html?l-id=hotelList_17_178564\">東横ＩＮＮ新青森駅東口</a>,\n",
       " <a href=\"https://travel.rakuten.co.jp/HOTEL/146141/146141.html?l-id=hotelList_18_146141\">アパホテル〈青森駅東〉</a>,\n",
       " <a href=\"https://travel.rakuten.co.jp/HOTEL/2668/2668.html?l-id=hotelList_19_2668\">アルファホテル青森</a>,\n",
       " <a href=\"https://travel.rakuten.co.jp/HOTEL/38074/38074.html?l-id=hotelList_20_38074\">ホテル２１３５</a>,\n",
       " <a href=\"https://travel.rakuten.co.jp/HOTEL/70700/70700.html?l-id=hotelList_21_70700\">東横ＩＮＮ青森駅前</a>,\n",
       " <a href=\"https://travel.rakuten.co.jp/HOTEL/13755/13755.html?l-id=hotelList_22_13755\">浅虫温泉　椿館</a>,\n",
       " <a href=\"https://travel.rakuten.co.jp/HOTEL/32383/32383.html?l-id=hotelList_23_32383\">浅虫温泉　絶景の宿　浅虫さくら観光ホテル</a>,\n",
       " <a href=\"https://travel.rakuten.co.jp/HOTEL/79403/79403.html?l-id=hotelList_24_79403\">割烹旅館　さつき</a>,\n",
       " <a href=\"https://travel.rakuten.co.jp/HOTEL/7026/7026.html?l-id=hotelList_25_7026\">浅虫温泉　津軽藩本陣の宿　旅館柳の湯</a>,\n",
       " <a href=\"https://travel.rakuten.co.jp/HOTEL/76867/76867.html?l-id=hotelList_26_76867\">ホテルセレクトイン青森</a>,\n",
       " <a href=\"https://travel.rakuten.co.jp/HOTEL/4814/4814.html?l-id=hotelList_27_4814\">浅虫温泉　ホテル秋田屋</a>,\n",
       " <a href=\"https://travel.rakuten.co.jp/HOTEL/20710/20710.html?l-id=hotelList_28_20710\">浅虫温泉　宿屋つばき</a>,\n",
       " <a href=\"https://travel.rakuten.co.jp/HOTEL/49350/49350.html?l-id=hotelList_29_49350\">コテージホテル　ショコラ</a>,\n",
       " <a href=\"https://travel.rakuten.co.jp/HOTEL/2617/2617.html?l-id=hotelList_30_2617\">ホテル青森</a>]"
      ]
     },
     "execution_count": 54,
     "metadata": {},
     "output_type": "execute_result"
    }
   ],
   "source": [
    "#css_selectorで指定。書き方は直前のタグ > 取得したい該当タグ。xpathの//a/h3の直前までは//で省略できるのと一緒。\n",
    "soup.select(\"h1 > a\")"
   ]
  },
  {
   "cell_type": "code",
   "execution_count": 55,
   "id": "3f64710e-ba9d-40f8-a3fc-64be0862b47b",
   "metadata": {
    "tags": []
   },
   "outputs": [
    {
     "name": "stdout",
     "output_type": "stream",
     "text": [
      "['ホテルサンルート青森', 'スーパーホテル青森', 'ダイワロイネットホテル青森', 'まちなか温泉青森センターホテル', 'アートホテル青森', 'リッチモンドホテル青森', 'ホテルルートイン青森駅前', 'ホテルマイステイズ青森駅前', 'スマイルホテル青森', 'ホテルルートイン青森中央インター', 'ホテルＪＡＬシティ青森', '浅虫温泉南部屋・海扇閣（なんぶや・かいせんかく）', 'アパホテル〈青森駅県庁通〉', '浅虫温泉辰巳館', '青森グリーンパークホテル', 'ホテルパサージュＩＩ', '東横ＩＮＮ新青森駅東口', 'アパホテル〈青森駅東〉', 'アルファホテル青森', 'ホテル２１３５', '東横ＩＮＮ青森駅前', '浅虫温泉椿館', '浅虫温泉絶景の宿浅虫さくら観光ホテル', '割烹旅館さつき', '浅虫温泉津軽藩本陣の宿旅館柳の湯', 'ホテルセレクトイン青森', '浅虫温泉ホテル秋田屋', '浅虫温泉宿屋つばき', 'コテージホテルショコラ', 'ホテル青森']\n"
     ]
    }
   ],
   "source": [
    "hotel_list = []\n",
    "\n",
    "for hotel_name in soup.select(\"h1 > a\"):\n",
    "    hotel_list.append(hotel_name.text.replace(\"\\u3000\", \"\"))\n",
    "    \n",
    "print(hotel_list)"
   ]
  },
  {
   "cell_type": "code",
   "execution_count": 56,
   "id": "e1202504-0281-400d-9f5d-760997f0b55a",
   "metadata": {
    "tags": []
   },
   "outputs": [
    {
     "data": {
      "text/plain": [
       "[<span class=\"incldTax\">（消費税込6,000円〜）</span>,\n",
       " <span class=\"incldTax\">（消費税込3,240円〜）</span>,\n",
       " <span class=\"incldTax\">（消費税込6,100円〜）</span>,\n",
       " <span class=\"incldTax\">（消費税込4,000円〜）</span>,\n",
       " <span class=\"incldTax\">（消費税込3,600円〜）</span>,\n",
       " <span class=\"incldTax\">（消費税込5,070円〜）</span>,\n",
       " <span class=\"incldTax\">（消費税込5,750円〜）</span>,\n",
       " <span class=\"incldTax\">（消費税込3,330円〜）</span>,\n",
       " <span class=\"incldTax\">（消費税込3,200円〜）</span>,\n",
       " <span class=\"incldTax\">（消費税込5,600円〜）</span>,\n",
       " <span class=\"incldTax\">（消費税込3,750円〜）</span>,\n",
       " <span class=\"incldTax\">（消費税込13,200円〜）</span>,\n",
       " <span class=\"incldTax\">（消費税込4,400円〜）</span>,\n",
       " <span class=\"incldTax\">（消費税込11,000円〜）</span>,\n",
       " <span class=\"incldTax\">（消費税込7,100円〜）</span>,\n",
       " <span class=\"incldTax\">（消費税込5,000円〜）</span>,\n",
       " <span class=\"incldTax\">（消費税込4,253円〜）</span>,\n",
       " <span class=\"incldTax\">（消費税込3,900円〜）</span>,\n",
       " <span class=\"incldTax\">（消費税込3,000円〜）</span>,\n",
       " <span class=\"incldTax\">（消費税込3,780円〜）</span>,\n",
       " <span class=\"incldTax\">（消費税込4,253円〜）</span>,\n",
       " <span class=\"incldTax\">（消費税込10,900円〜）</span>,\n",
       " <span class=\"incldTax\">（消費税込8,360円〜）</span>,\n",
       " <span class=\"incldTax\">（消費税込20,000円〜）</span>,\n",
       " <span class=\"incldTax\">（消費税込7,700円〜）</span>,\n",
       " <span class=\"incldTax\">（消費税込2,870円〜）</span>,\n",
       " <span class=\"incldTax\">（消費税込7,150円〜）</span>,\n",
       " <span class=\"incldTax\">（消費税込6,600円〜）</span>,\n",
       " <span class=\"incldTax\">（消費税込7,300円〜）</span>,\n",
       " <span class=\"incldTax\">（消費税込5,940円〜）</span>]"
      ]
     },
     "execution_count": 56,
     "metadata": {},
     "output_type": "execute_result"
    }
   ],
   "source": [
    "soup.find_all(class_=\"incldTax\")"
   ]
  },
  {
   "cell_type": "code",
   "execution_count": 57,
   "id": "ff57a0aa-00cb-4ff6-8e49-38130d65e67e",
   "metadata": {
    "tags": []
   },
   "outputs": [
    {
     "name": "stdout",
     "output_type": "stream",
     "text": [
      "['消費税込6,000円〜', '消費税込3,240円〜', '消費税込6,100円〜', '消費税込4,000円〜', '消費税込3,600円〜', '消費税込5,070円〜', '消費税込5,750円〜', '消費税込3,330円〜', '消費税込3,200円〜', '消費税込5,600円〜', '消費税込3,750円〜', '消費税込13,200円〜', '消費税込4,400円〜', '消費税込11,000円〜', '消費税込7,100円〜', '消費税込5,000円〜', '消費税込4,253円〜', '消費税込3,900円〜', '消費税込3,000円〜', '消費税込3,780円〜', '消費税込4,253円〜', '消費税込10,900円〜', '消費税込8,360円〜', '消費税込20,000円〜', '消費税込7,700円〜', '消費税込2,870円〜', '消費税込7,150円〜', '消費税込6,600円〜', '消費税込7,300円〜', '消費税込5,940円〜']\n"
     ]
    }
   ],
   "source": [
    "hotel_price = []\n",
    "\n",
    "for price in soup.find_all(class_=\"incldTax\"):\n",
    "    hotel_price.append(price.text.replace(\"（\", \"\").replace(\"）\", \"\"))\n",
    "\n",
    "print(hotel_price)"
   ]
  },
  {
   "cell_type": "code",
   "execution_count": 62,
   "id": "65a11dac-df79-4ca6-9f12-402e96da70c8",
   "metadata": {
    "tags": []
   },
   "outputs": [],
   "source": [
    "df = pd.DataFrame({\n",
    "    \"ホテル名\":hotel_list,\n",
    "    \"税込価格\":hotel_price\n",
    "})"
   ]
  },
  {
   "cell_type": "code",
   "execution_count": 63,
   "id": "0490b76a-3786-4393-ac76-9e639b7edae4",
   "metadata": {
    "tags": []
   },
   "outputs": [
    {
     "data": {
      "text/html": [
       "<div>\n",
       "<style scoped>\n",
       "    .dataframe tbody tr th:only-of-type {\n",
       "        vertical-align: middle;\n",
       "    }\n",
       "\n",
       "    .dataframe tbody tr th {\n",
       "        vertical-align: top;\n",
       "    }\n",
       "\n",
       "    .dataframe thead th {\n",
       "        text-align: right;\n",
       "    }\n",
       "</style>\n",
       "<table border=\"1\" class=\"dataframe\">\n",
       "  <thead>\n",
       "    <tr style=\"text-align: right;\">\n",
       "      <th></th>\n",
       "      <th>ホテル名</th>\n",
       "      <th>税込価格</th>\n",
       "    </tr>\n",
       "  </thead>\n",
       "  <tbody>\n",
       "    <tr>\n",
       "      <th>0</th>\n",
       "      <td>ホテルサンルート青森</td>\n",
       "      <td>消費税込6,000円〜</td>\n",
       "    </tr>\n",
       "    <tr>\n",
       "      <th>1</th>\n",
       "      <td>スーパーホテル青森</td>\n",
       "      <td>消費税込3,240円〜</td>\n",
       "    </tr>\n",
       "    <tr>\n",
       "      <th>2</th>\n",
       "      <td>ダイワロイネットホテル青森</td>\n",
       "      <td>消費税込6,100円〜</td>\n",
       "    </tr>\n",
       "    <tr>\n",
       "      <th>3</th>\n",
       "      <td>まちなか温泉青森センターホテル</td>\n",
       "      <td>消費税込4,000円〜</td>\n",
       "    </tr>\n",
       "    <tr>\n",
       "      <th>4</th>\n",
       "      <td>アートホテル青森</td>\n",
       "      <td>消費税込3,600円〜</td>\n",
       "    </tr>\n",
       "    <tr>\n",
       "      <th>5</th>\n",
       "      <td>リッチモンドホテル青森</td>\n",
       "      <td>消費税込5,070円〜</td>\n",
       "    </tr>\n",
       "    <tr>\n",
       "      <th>6</th>\n",
       "      <td>ホテルルートイン青森駅前</td>\n",
       "      <td>消費税込5,750円〜</td>\n",
       "    </tr>\n",
       "    <tr>\n",
       "      <th>7</th>\n",
       "      <td>ホテルマイステイズ青森駅前</td>\n",
       "      <td>消費税込3,330円〜</td>\n",
       "    </tr>\n",
       "    <tr>\n",
       "      <th>8</th>\n",
       "      <td>スマイルホテル青森</td>\n",
       "      <td>消費税込3,200円〜</td>\n",
       "    </tr>\n",
       "    <tr>\n",
       "      <th>9</th>\n",
       "      <td>ホテルルートイン青森中央インター</td>\n",
       "      <td>消費税込5,600円〜</td>\n",
       "    </tr>\n",
       "    <tr>\n",
       "      <th>10</th>\n",
       "      <td>ホテルＪＡＬシティ青森</td>\n",
       "      <td>消費税込3,750円〜</td>\n",
       "    </tr>\n",
       "    <tr>\n",
       "      <th>11</th>\n",
       "      <td>浅虫温泉南部屋・海扇閣（なんぶや・かいせんかく）</td>\n",
       "      <td>消費税込13,200円〜</td>\n",
       "    </tr>\n",
       "    <tr>\n",
       "      <th>12</th>\n",
       "      <td>アパホテル〈青森駅県庁通〉</td>\n",
       "      <td>消費税込4,400円〜</td>\n",
       "    </tr>\n",
       "    <tr>\n",
       "      <th>13</th>\n",
       "      <td>浅虫温泉辰巳館</td>\n",
       "      <td>消費税込11,000円〜</td>\n",
       "    </tr>\n",
       "    <tr>\n",
       "      <th>14</th>\n",
       "      <td>青森グリーンパークホテル</td>\n",
       "      <td>消費税込7,100円〜</td>\n",
       "    </tr>\n",
       "    <tr>\n",
       "      <th>15</th>\n",
       "      <td>ホテルパサージュＩＩ</td>\n",
       "      <td>消費税込5,000円〜</td>\n",
       "    </tr>\n",
       "    <tr>\n",
       "      <th>16</th>\n",
       "      <td>東横ＩＮＮ新青森駅東口</td>\n",
       "      <td>消費税込4,253円〜</td>\n",
       "    </tr>\n",
       "    <tr>\n",
       "      <th>17</th>\n",
       "      <td>アパホテル〈青森駅東〉</td>\n",
       "      <td>消費税込3,900円〜</td>\n",
       "    </tr>\n",
       "    <tr>\n",
       "      <th>18</th>\n",
       "      <td>アルファホテル青森</td>\n",
       "      <td>消費税込3,000円〜</td>\n",
       "    </tr>\n",
       "    <tr>\n",
       "      <th>19</th>\n",
       "      <td>ホテル２１３５</td>\n",
       "      <td>消費税込3,780円〜</td>\n",
       "    </tr>\n",
       "    <tr>\n",
       "      <th>20</th>\n",
       "      <td>東横ＩＮＮ青森駅前</td>\n",
       "      <td>消費税込4,253円〜</td>\n",
       "    </tr>\n",
       "    <tr>\n",
       "      <th>21</th>\n",
       "      <td>浅虫温泉椿館</td>\n",
       "      <td>消費税込10,900円〜</td>\n",
       "    </tr>\n",
       "    <tr>\n",
       "      <th>22</th>\n",
       "      <td>浅虫温泉絶景の宿浅虫さくら観光ホテル</td>\n",
       "      <td>消費税込8,360円〜</td>\n",
       "    </tr>\n",
       "    <tr>\n",
       "      <th>23</th>\n",
       "      <td>割烹旅館さつき</td>\n",
       "      <td>消費税込20,000円〜</td>\n",
       "    </tr>\n",
       "    <tr>\n",
       "      <th>24</th>\n",
       "      <td>浅虫温泉津軽藩本陣の宿旅館柳の湯</td>\n",
       "      <td>消費税込7,700円〜</td>\n",
       "    </tr>\n",
       "    <tr>\n",
       "      <th>25</th>\n",
       "      <td>ホテルセレクトイン青森</td>\n",
       "      <td>消費税込2,870円〜</td>\n",
       "    </tr>\n",
       "    <tr>\n",
       "      <th>26</th>\n",
       "      <td>浅虫温泉ホテル秋田屋</td>\n",
       "      <td>消費税込7,150円〜</td>\n",
       "    </tr>\n",
       "    <tr>\n",
       "      <th>27</th>\n",
       "      <td>浅虫温泉宿屋つばき</td>\n",
       "      <td>消費税込6,600円〜</td>\n",
       "    </tr>\n",
       "    <tr>\n",
       "      <th>28</th>\n",
       "      <td>コテージホテルショコラ</td>\n",
       "      <td>消費税込7,300円〜</td>\n",
       "    </tr>\n",
       "    <tr>\n",
       "      <th>29</th>\n",
       "      <td>ホテル青森</td>\n",
       "      <td>消費税込5,940円〜</td>\n",
       "    </tr>\n",
       "  </tbody>\n",
       "</table>\n",
       "</div>"
      ],
      "text/plain": [
       "                        ホテル名          税込価格\n",
       "0                 ホテルサンルート青森   消費税込6,000円〜\n",
       "1                  スーパーホテル青森   消費税込3,240円〜\n",
       "2              ダイワロイネットホテル青森   消費税込6,100円〜\n",
       "3            まちなか温泉青森センターホテル   消費税込4,000円〜\n",
       "4                   アートホテル青森   消費税込3,600円〜\n",
       "5                リッチモンドホテル青森   消費税込5,070円〜\n",
       "6               ホテルルートイン青森駅前   消費税込5,750円〜\n",
       "7              ホテルマイステイズ青森駅前   消費税込3,330円〜\n",
       "8                  スマイルホテル青森   消費税込3,200円〜\n",
       "9           ホテルルートイン青森中央インター   消費税込5,600円〜\n",
       "10               ホテルＪＡＬシティ青森   消費税込3,750円〜\n",
       "11  浅虫温泉南部屋・海扇閣（なんぶや・かいせんかく）  消費税込13,200円〜\n",
       "12             アパホテル〈青森駅県庁通〉   消費税込4,400円〜\n",
       "13                   浅虫温泉辰巳館  消費税込11,000円〜\n",
       "14              青森グリーンパークホテル   消費税込7,100円〜\n",
       "15                ホテルパサージュＩＩ   消費税込5,000円〜\n",
       "16               東横ＩＮＮ新青森駅東口   消費税込4,253円〜\n",
       "17               アパホテル〈青森駅東〉   消費税込3,900円〜\n",
       "18                 アルファホテル青森   消費税込3,000円〜\n",
       "19                   ホテル２１３５   消費税込3,780円〜\n",
       "20                 東横ＩＮＮ青森駅前   消費税込4,253円〜\n",
       "21                    浅虫温泉椿館  消費税込10,900円〜\n",
       "22        浅虫温泉絶景の宿浅虫さくら観光ホテル   消費税込8,360円〜\n",
       "23                   割烹旅館さつき  消費税込20,000円〜\n",
       "24          浅虫温泉津軽藩本陣の宿旅館柳の湯   消費税込7,700円〜\n",
       "25               ホテルセレクトイン青森   消費税込2,870円〜\n",
       "26                浅虫温泉ホテル秋田屋   消費税込7,150円〜\n",
       "27                 浅虫温泉宿屋つばき   消費税込6,600円〜\n",
       "28               コテージホテルショコラ   消費税込7,300円〜\n",
       "29                     ホテル青森   消費税込5,940円〜"
      ]
     },
     "execution_count": 63,
     "metadata": {},
     "output_type": "execute_result"
    }
   ],
   "source": [
    "df"
   ]
  },
  {
   "cell_type": "code",
   "execution_count": null,
   "id": "00da255d-b11a-4944-a859-b25b95fc5da1",
   "metadata": {},
   "outputs": [],
   "source": []
  }
 ],
 "metadata": {
  "kernelspec": {
   "display_name": "Python 3 (ipykernel)",
   "language": "python",
   "name": "python3"
  },
  "language_info": {
   "codemirror_mode": {
    "name": "ipython",
    "version": 3
   },
   "file_extension": ".py",
   "mimetype": "text/x-python",
   "name": "python",
   "nbconvert_exporter": "python",
   "pygments_lexer": "ipython3",
   "version": "3.11.1"
  }
 },
 "nbformat": 4,
 "nbformat_minor": 5
}
