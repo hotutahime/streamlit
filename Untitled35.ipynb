{
 "cells": [
  {
   "cell_type": "code",
   "execution_count": 1,
   "id": "897ebc61-8d7a-4660-b730-30371583f892",
   "metadata": {
    "tags": []
   },
   "outputs": [
    {
     "name": "stdout",
     "output_type": "stream",
     "text": [
      "1 10\n",
      "1 20\n",
      "1 30\n",
      "2 10\n",
      "2 20\n",
      "2 30\n",
      "3 10\n",
      "3 20\n",
      "3 30\n"
     ]
    }
   ],
   "source": [
    "l1 = [1, 2, 3]\n",
    "l2 = [10, 20, 30]\n",
    "\n",
    "for i in l1:\n",
    "    for j in l2:\n",
    "        print(i, j)"
   ]
  },
  {
   "cell_type": "code",
   "execution_count": 10,
   "id": "fec3681b-c5e5-4dbe-9e7e-24f906764674",
   "metadata": {
    "tags": []
   },
   "outputs": [
    {
     "name": "stdout",
     "output_type": "stream",
     "text": [
      "10\n",
      "20\n",
      "30\n",
      "40\n",
      "50\n",
      "20\n",
      "40\n",
      "60\n",
      "80\n",
      "100\n"
     ]
    }
   ],
   "source": [
    "l1 = [1, 2]\n",
    "l2 = [10]\n",
    "\n",
    "for i in l1:\n",
    "    for j in l2:\n",
    "        print(i*j*1)\n",
    "        print(i*j*2)\n",
    "        print(i*j*3)\n",
    "        print(i*j*4)\n",
    "        print(i*j*5)"
   ]
  },
  {
   "cell_type": "code",
   "execution_count": 2,
   "id": "aa92cb3a-b58c-4fef-9319-a263eb938a5e",
   "metadata": {
    "tags": []
   },
   "outputs": [
    {
     "name": "stdout",
     "output_type": "stream",
     "text": [
      "1 10\n",
      "1 20\n",
      "1 30\n",
      "2 10\n",
      "2 20\n",
      "BREAK\n",
      "3 10\n",
      "3 20\n",
      "3 30\n"
     ]
    }
   ],
   "source": [
    "for i in l1:\n",
    "    for j in l2:\n",
    "        print(i, j)\n",
    "        if i == 2 and j == 20 :\n",
    "            print('BREAK')\n",
    "            break"
   ]
  },
  {
   "cell_type": "code",
   "execution_count": null,
   "id": "a1cebeac-c21c-476f-9e60-244cb00b37fb",
   "metadata": {},
   "outputs": [],
   "source": [
    "from selenium import webdriver\n",
    "from selenium.webdriver.common.by import By\n",
    "from selenium.webdriver.common.action_chains import ActionChains\n",
    "from selenium.webdriver.support.ui import Select\n",
    "import pyautogui as pag\n",
    "import time\n",
    "import datetime\n",
    "import timedelta\n",
    "from datetime import date, timedelta\n",
    "import pandas as pd\n",
    "import subprocess\n",
    "import glob\n",
    "import os\n",
    "\n",
    "for df_num in range(file_quantity):\n",
    "\n",
    "　#入出荷\n",
    "　driver.find_element(by=By.XPATH , value=\"//*[@id='gnav_inventory']/li[3]/a\").click()\n",
    "　time.sleep(1)\n",
    "\n",
    "　#入荷登録\n",
    "　driver.find_element(by=By.XPATH , value=\"//*[@id='gnav_inventory_storages']/li[1]/a\").click()\n",
    "　time.sleep(1)\n",
    "\n",
    "    #個数列の取得\n",
    "    df_item_num = df_xlsx[df_num][\"個数\"]\n",
    "\n",
    "    #JANコード列の取得\n",
    "    df_item_id = df_xlsx[df_num][\"JANコード\"]\n",
    "\n",
    "    #JANコードの数＝登録する商品の数のためにlenで数字を設定\n",
    "    df_item_len = len(df_xlsx[df_num][\"JANコード\"])\n",
    "\n",
    "    #入力画面でメーカー指定のため、メーカー名を取得\n",
    "    df_maker = df_xlsx[df_num][\"仕入れ先（番号あり）\"][0]\n",
    "\n",
    "    #入力画面でメーカーを選択\n",
    "    driver.find_element(By.ID, \"IcStorageSupplierId\").send_keys(df_maker)\n",
    "\n",
    "    #納品先にショップを指定\n",
    "    driver.find_element(By.ID, \"IcStorageStorageStoreId\").send_keys(\"Food Marché\")\n",
    "    time.sleep(0.1)\n",
    "\n",
    "    #入荷予定日をクリック\n",
    "    driver.find_element(By.ID, \"IcStorageStorageDate\").click()\n",
    "    time.sleep(0.1)\n",
    "    #バックスペースで日付を消す\n",
    "    pag.press(\"backspace\", presses=10, interval=0.01)\n",
    "    time.sleep(0.5)\n",
    "    #入荷日をエクセルファイルの「納品希望日」として設定\n",
    "    driver.find_element(By.ID, \"IcStorageStorageDate\").send_keys(df_2_day)\n",
    "    time.sleep(2)\n",
    "\n",
    "    #最初の5行表示では、発注商品数が5以上になるとエラーになるため、行追加ボタンを押して行を増やす\n",
    "    driver.find_element(By.ID, \"btnAddRow\").click()\n",
    "    time.sleep(0.1)\n",
    "    driver.find_element(By.ID, \"btnAddRow\").click()\n",
    "    time.sleep(0.1)\n",
    "    driver.find_element(By.ID, \"btnAddRow\").click()\n",
    "    time.sleep(0.1)\n",
    "    driver.find_element(By.ID, \"btnAddRow\").click()\n",
    "    time.sleep(0.1)\n",
    "    driver.find_element(By.ID, \"btnAddRow\").click()\n",
    "    time.sleep(0.1)\n",
    "\n",
    "    time.sleep(1)\n",
    "\n",
    "    for cell_num in range(df_item_len):\n",
    "        #JAN入力欄のxpathを、cell_numを代入して作成（なぜかは最後の\n",
    "        jan_xpath = \"//*[@id='bindingTarget']/tr[\" + str(cell_num + 1)  + \"]/td[1]/input\"\n",
    "        time.sleep(0.1)\n",
    "        item_xpath = \"//*[@id='bindingTarget']/tr[\" + str(cell_num + 1)  + \"]/td[7]/input\"\n",
    "        time.sleep(0.1)\n",
    "        driver.find_element(By.XPATH, value=jan_xpath).send_keys(str(df_item_id[cell_num]))\n",
    "        time.sleep(0.1)\n",
    "        pag.press(\"enter\")\n",
    "        time.sleep(0.1)\n",
    "        driver.find_element(By.XPATH, value=item_xpath).send_keys(str(df_item_num[cell_num]))\n",
    "        time.sleep(0.1)\n",
    "       \n",
    "        if int(cell_num+1) == int(df_item_len):\n",
    "            test = pag.confirm(text=str(df_num+1)+\"番目のエクセルファイル終了\", title='確認', buttons=['次へ', '終わる'])\n",
    "           \n",
    "    break\n"
   ]
  }
 ],
 "metadata": {
  "kernelspec": {
   "display_name": "Python 3 (ipykernel)",
   "language": "python",
   "name": "python3"
  },
  "language_info": {
   "codemirror_mode": {
    "name": "ipython",
    "version": 3
   },
   "file_extension": ".py",
   "mimetype": "text/x-python",
   "name": "python",
   "nbconvert_exporter": "python",
   "pygments_lexer": "ipython3",
   "version": "3.11.1"
  }
 },
 "nbformat": 4,
 "nbformat_minor": 5
}
