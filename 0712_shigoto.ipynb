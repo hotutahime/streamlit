{
 "cells": [
  {
   "cell_type": "code",
   "execution_count": 13,
   "id": "d70aac39-8d60-486b-bbcb-d5507406a631",
   "metadata": {
    "tags": []
   },
   "outputs": [],
   "source": [
    "import datetime"
   ]
  },
  {
   "cell_type": "code",
   "execution_count": 15,
   "id": "eb41c760-5c38-4c2f-968d-c315b3e4e6d4",
   "metadata": {
    "tags": []
   },
   "outputs": [],
   "source": [
    "time = datetime.datetime.now()"
   ]
  },
  {
   "cell_type": "code",
   "execution_count": 16,
   "id": "131e81c7-bf1a-4a16-a3b5-f0a4f7dbc5f0",
   "metadata": {
    "tags": []
   },
   "outputs": [
    {
     "name": "stdout",
     "output_type": "stream",
     "text": [
      "2023-07-12 23:49:40.167785\n"
     ]
    }
   ],
   "source": [
    "print(time)"
   ]
  },
  {
   "cell_type": "code",
   "execution_count": 17,
   "id": "30cdcbc9-91be-41c5-9b9f-3b05e5b97dcf",
   "metadata": {
    "tags": []
   },
   "outputs": [],
   "source": [
    "today = datetime.datetime.today()"
   ]
  },
  {
   "cell_type": "code",
   "execution_count": 18,
   "id": "8c4a62ae-de29-46dd-8038-7ab990ada690",
   "metadata": {
    "tags": []
   },
   "outputs": [
    {
     "data": {
      "text/plain": [
       "datetime.datetime(2023, 7, 12, 23, 50, 28, 324295)"
      ]
     },
     "execution_count": 18,
     "metadata": {},
     "output_type": "execute_result"
    }
   ],
   "source": [
    "today"
   ]
  },
  {
   "cell_type": "code",
   "execution_count": 20,
   "id": "1baee7ea-ce43-4cbb-ac1b-6f0db917de93",
   "metadata": {
    "tags": []
   },
   "outputs": [
    {
     "name": "stdout",
     "output_type": "stream",
     "text": [
      "2023/07/12\n"
     ]
    }
   ],
   "source": [
    "#読み込んだ時間を自由な形式に変換する（文字データ）\n",
    "fmt = time.strftime(\"%Y/%m/%d\")\n",
    "print(fmt)"
   ]
  },
  {
   "cell_type": "code",
   "execution_count": 22,
   "id": "a7216c18-a776-4413-b866-89e029521a27",
   "metadata": {
    "tags": []
   },
   "outputs": [],
   "source": [
    "#新しいシート作成\n",
    "import openpyxl as excel\n",
    "book = excel.Workbook()\n",
    "sheet = book.active\n",
    "sheet[\"A1\"] = \"こんにちは\"\n",
    "book.save(\"hello.xlsx\")"
   ]
  },
  {
   "cell_type": "code",
   "execution_count": 24,
   "id": "a5ed13f2-e477-4cbb-acc6-f33df9c64e7f",
   "metadata": {
    "tags": []
   },
   "outputs": [
    {
     "name": "stdout",
     "output_type": "stream",
     "text": [
      "こんにちは\n"
     ]
    }
   ],
   "source": [
    "#既存のエクセルから値を取得\n",
    "book = excel.load_workbook(\"hello.xlsx\")\n",
    "sheet = book.worksheets[0]\n",
    "cell = sheet[\"A1\"]\n",
    "print(cell.value)"
   ]
  },
  {
   "cell_type": "code",
   "execution_count": 26,
   "id": "30cca6d0-b037-4965-bcaf-068618bcd20d",
   "metadata": {
    "tags": []
   },
   "outputs": [],
   "source": [
    "#新規ブックを作成し、いろいろな方法で値を書き込む\n",
    "book = excel.Workbook()\n",
    "sheet = book.active\n",
    "\n",
    "#セル番地を指定して値を書き込む\n",
    "sheet[\"A1\"] = \"勤勉な人の計画は必ず成功する\"\n",
    "\n",
    "#セルの位置を行、列で指定して値を書き込む\n",
    "sheet.cell(row=2, column=1, value=\"猿の尻笑い\")\n",
    "\n",
    "#valueを別に書き込む\n",
    "cell = sheet.cell(row=3, column=1)\n",
    "cell.value = \"探すのに時があり諦めるのに時がある\"\n",
    "\n",
    "book.save(\"0712cell.xlsx\")"
   ]
  },
  {
   "cell_type": "code",
   "execution_count": 36,
   "id": "00303b49-71e9-4cac-8265-fbfb90302fe2",
   "metadata": {
    "tags": []
   },
   "outputs": [],
   "source": [
    "#連続書き込み\n",
    "book = excel.Workbook()\n",
    "sheet = book.active\n",
    "\n",
    "for i in range(11):\n",
    "    sheet.cell(row=(i+1), column=1, value=i)\n",
    "\n",
    "book.save(\"testtest.xlsx\")"
   ]
  },
  {
   "cell_type": "code",
   "execution_count": 37,
   "id": "1b862299-a1d6-442f-ada4-06117d0268cb",
   "metadata": {
    "tags": []
   },
   "outputs": [],
   "source": [
    "#連続書き込み2\n",
    "book = excel.Workbook()\n",
    "sheet = book.active\n",
    "\n",
    "for i in range(11):\n",
    "    sheet[\"A\" + str(i+1)] = i\n",
    "\n",
    "book.save(\"testtest2.xlsx\")"
   ]
  },
  {
   "cell_type": "code",
   "execution_count": 42,
   "id": "085acfee-4800-46b6-9afe-10a9819c2c9a",
   "metadata": {
    "tags": []
   },
   "outputs": [],
   "source": [
    "#九九の計算\n",
    "book = excel.Workbook()\n",
    "sheet = book.active\n",
    "\n",
    "for y in range(1, 10):\n",
    "    for x in range(1, 10):\n",
    "        cell = sheet.cell(row=y, column=x)\n",
    "        cell.value = x * y\n",
    "        \n",
    "\n",
    "book.save(\"testtest3.xlsx\")"
   ]
  },
  {
   "cell_type": "code",
   "execution_count": 45,
   "id": "1acfeaaa-5918-4f49-b788-612ce56a36dc",
   "metadata": {
    "tags": []
   },
   "outputs": [],
   "source": [
    "#セル名の取得\n",
    "book = excel.Workbook()\n",
    "sheet = book.active\n",
    "\n",
    "for y in range(1, 101):\n",
    "    for x in range(1, 101):\n",
    "        cell = sheet.cell(row=y, column=x)\n",
    "        cell.value = cell.coordinate\n",
    "book.save(\"text100.xlsx\")"
   ]
  },
  {
   "cell_type": "code",
   "execution_count": null,
   "id": "8581498b-81ae-4767-b70d-d2e9a32b2573",
   "metadata": {},
   "outputs": [],
   "source": []
  }
 ],
 "metadata": {
  "kernelspec": {
   "display_name": "Python 3 (ipykernel)",
   "language": "python",
   "name": "python3"
  },
  "language_info": {
   "codemirror_mode": {
    "name": "ipython",
    "version": 3
   },
   "file_extension": ".py",
   "mimetype": "text/x-python",
   "name": "python",
   "nbconvert_exporter": "python",
   "pygments_lexer": "ipython3",
   "version": "3.11.1"
  }
 },
 "nbformat": 4,
 "nbformat_minor": 5
}
