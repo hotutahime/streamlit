{
 "cells": [
  {
   "cell_type": "code",
   "execution_count": 1,
   "id": "e9b310b2-3c4d-4120-aa2e-d2a6ffd119a1",
   "metadata": {
    "tags": []
   },
   "outputs": [],
   "source": [
    "import openpyxl as excel"
   ]
  },
  {
   "cell_type": "code",
   "execution_count": 2,
   "id": "f2696178-60aa-4f83-b8ef-84871d3443aa",
   "metadata": {},
   "outputs": [],
   "source": [
    "#wbの作成と値書き込みと保存\n",
    "book = excel.Workbook()\n",
    "sheet = book.active\n",
    "sheet[\"A1\"] = \"こんにちは\"\n",
    "book.save(\"hello.xlsx\")"
   ]
  },
  {
   "cell_type": "code",
   "execution_count": 3,
   "id": "25e654f3-1571-48dc-8f43-518d43158b85",
   "metadata": {
    "tags": []
   },
   "outputs": [
    {
     "name": "stdout",
     "output_type": "stream",
     "text": [
      "こんにちは\n"
     ]
    }
   ],
   "source": [
    "#エクセルの読み込みと値呼び出し（worksheet[0]は何番目のシートを読み込むか）\n",
    "#book[\"シート名\"]でシート名で指定することも出来る\n",
    "import openpyxl as excel\n",
    "book = excel.load_workbook(\"hello.xlsx\")\n",
    "sheet = book.worksheets[0]\n",
    "cell = sheet[\"A1\"]\n",
    "print(cell.value)"
   ]
  },
  {
   "cell_type": "code",
   "execution_count": 4,
   "id": "f9b78a6c-b663-4e23-97b6-1cf68954d68f",
   "metadata": {
    "tags": []
   },
   "outputs": [],
   "source": [
    "import openpyxl as excel\n",
    "book = excel.Workbook()\n",
    "sheet = book.active\n",
    "sheet[\"A1\"] = \"勤勉な人の計画は必ず成功する\"\n",
    "sheet.cell(row=2 , column=1 , value=\"猿の尻笑い\")\n",
    "cell = sheet.cell(row=3 , column=1)\n",
    "cell.value=\"探すのに時があり諦めるのに時がある\"\n",
    "book.save(\"cell_w.xlsx\")"
   ]
  },
  {
   "cell_type": "code",
   "execution_count": 5,
   "id": "e618c572-8f09-4ad9-8f1a-acae40ef3ad3",
   "metadata": {
    "tags": []
   },
   "outputs": [],
   "source": [
    "import openpyxl as excel\n",
    "book = excel.Workbook()\n",
    "sheet = book.active\n",
    "for i in range(10):\n",
    "    sheet.cell(row=(i+1), column=1 , value=i)\n",
    "\n",
    "book.save(\"renzoku.xlsx\")"
   ]
  },
  {
   "cell_type": "code",
   "execution_count": 6,
   "id": "d5ba9e3d-0cdd-43fb-a110-5fefe8d449ea",
   "metadata": {
    "tags": []
   },
   "outputs": [],
   "source": [
    "import openpyxl as excel\n",
    "book = excel.Workbook()\n",
    "sheet = book.active\n",
    "for y in range(1,10):\n",
    "    for x in range(1,10):\n",
    "        cell = sheet.cell(row=y , column=x)\n",
    "        cell.value = x * y\n",
    "\n",
    "book.save(\"9x9.xlsx\")"
   ]
  },
  {
   "cell_type": "code",
   "execution_count": 7,
   "id": "771ba8c0-3e34-4aa6-9973-c1028f76440b",
   "metadata": {
    "tags": []
   },
   "outputs": [],
   "source": [
    "import openpyxl as excel\n",
    "book = excel.Workbook()\n",
    "sheet = book.active\n",
    "for y in range(1,21):\n",
    "    for x in range(1,21):\n",
    "        cell = sheet.cell(row=y , column=x)\n",
    "        cell.value = x * y\n",
    "\n",
    "book.save(\"20x20.xlsx\")"
   ]
  },
  {
   "cell_type": "code",
   "execution_count": 8,
   "id": "fb089590-258b-4904-a5b3-727664cb0284",
   "metadata": {
    "tags": []
   },
   "outputs": [],
   "source": [
    "import openpyxl as excel\n",
    "book = excel.Workbook()\n",
    "sheet = book.active\n",
    "for y in range(1,100):\n",
    "    for x in range(1,100):\n",
    "        cell = sheet.cell(row=y , column=x)\n",
    "        cell.value = x * y\n",
    "\n",
    "book.save(\"99x99.xlsx\")"
   ]
  },
  {
   "cell_type": "code",
   "execution_count": 15,
   "id": "205a9ae8-7155-404f-bb43-e6f16af425a9",
   "metadata": {
    "tags": []
   },
   "outputs": [],
   "source": [
    "import openpyxl as excel\n",
    "book = excel.Workbook()\n",
    "sheet = book.active\n",
    "for y in range(1,101):\n",
    "    for x in range(1,101):\n",
    "        cell = sheet.cell(row=y , column=x)\n",
    "        cell.value = cell.coordinate\n",
    "\n",
    "book.save(\"test100.xlsx\")"
   ]
  },
  {
   "cell_type": "code",
   "execution_count": 10,
   "id": "42baca04-9753-4b79-836a-3f6a4d977b42",
   "metadata": {
    "tags": []
   },
   "outputs": [],
   "source": [
    "import openpyxl as excel\n",
    "import datetime\n",
    "book = excel.Workbook()\n",
    "sheet = book.active\n",
    "this_year = datetime.date.today().year\n",
    "for i in range(80):\n",
    "    age = i\n",
    "    year = this_year - i\n",
    "    age_cell = sheet.cell(i+1 , 1)\n",
    "    age_cell.value = str(i) + \"才\"\n",
    "    year_cell = sheet.cell(i+1 , 2)\n",
    "    year_cell.value = str(year) + \"年\"\n",
    "\n",
    "book.save(\"agelist.xlsx\")"
   ]
  },
  {
   "cell_type": "code",
   "execution_count": 11,
   "id": "4c5cfccf-d84b-44c5-815d-69406f85d583",
   "metadata": {
    "tags": []
   },
   "outputs": [],
   "source": [
    "import openpyxl as excel\n",
    "import datetime\n",
    "book = excel.Workbook()\n",
    "sheet = book.active\n",
    "base_year = datetime.date.today().year\n",
    "for i in range(50):\n",
    "    year = base_year + i\n",
    "    s1 = year - 7\n",
    "    s2 = year - 6\n",
    "    sf = \"{}年4/2〜{}年4/1に生まれた人\".format(s1 , s2)\n",
    "    sheet.cell(i+1 , 1 , value=str(year)+\"年度\")\n",
    "    sheet.cell(i+1 , 2 , value=sf)\n",
    "\n",
    "book.save(\"nyugaku_list.xlsx\")"
   ]
  },
  {
   "cell_type": "code",
   "execution_count": 12,
   "id": "36fe23a9-06ae-4f4e-bb49-644bd85670cb",
   "metadata": {
    "tags": []
   },
   "outputs": [
    {
     "name": "stdout",
     "output_type": "stream",
     "text": [
      "1930 - 昭和5年\n",
      "1931 - 昭和6年\n",
      "1932 - 昭和7年\n",
      "1933 - 昭和8年\n",
      "1934 - 昭和9年\n",
      "1935 - 昭和10年\n",
      "1936 - 昭和11年\n",
      "1937 - 昭和12年\n",
      "1938 - 昭和13年\n",
      "1939 - 昭和14年\n",
      "1940 - 昭和15年\n",
      "1941 - 昭和16年\n",
      "1942 - 昭和17年\n",
      "1943 - 昭和18年\n",
      "1944 - 昭和19年\n",
      "1945 - 昭和20年\n",
      "1946 - 昭和21年\n",
      "1947 - 昭和22年\n",
      "1948 - 昭和23年\n",
      "1949 - 昭和24年\n",
      "1950 - 昭和25年\n",
      "1951 - 昭和26年\n",
      "1952 - 昭和27年\n",
      "1953 - 昭和28年\n",
      "1954 - 昭和29年\n",
      "1955 - 昭和30年\n",
      "1956 - 昭和31年\n",
      "1957 - 昭和32年\n",
      "1958 - 昭和33年\n",
      "1959 - 昭和34年\n",
      "1960 - 昭和35年\n",
      "1961 - 昭和36年\n",
      "1962 - 昭和37年\n",
      "1963 - 昭和38年\n",
      "1964 - 昭和39年\n",
      "1965 - 昭和40年\n",
      "1966 - 昭和41年\n",
      "1967 - 昭和42年\n",
      "1968 - 昭和43年\n",
      "1969 - 昭和44年\n",
      "1970 - 昭和45年\n",
      "1971 - 昭和46年\n",
      "1972 - 昭和47年\n",
      "1973 - 昭和48年\n",
      "1974 - 昭和49年\n",
      "1975 - 昭和50年\n",
      "1976 - 昭和51年\n",
      "1977 - 昭和52年\n",
      "1978 - 昭和53年\n",
      "1979 - 昭和54年\n",
      "1980 - 昭和55年\n",
      "1981 - 昭和56年\n",
      "1982 - 昭和57年\n",
      "1983 - 昭和58年\n",
      "1984 - 昭和59年\n",
      "1985 - 昭和60年\n",
      "1986 - 昭和61年\n",
      "1987 - 昭和62年\n",
      "1988 - 昭和63年\n",
      "1989 - 平成元年\n",
      "1990 - 平成2年\n",
      "1991 - 平成3年\n",
      "1992 - 平成4年\n",
      "1993 - 平成5年\n",
      "1994 - 平成6年\n",
      "1995 - 平成7年\n",
      "1996 - 平成8年\n",
      "1997 - 平成9年\n",
      "1998 - 平成10年\n",
      "1999 - 平成11年\n",
      "2000 - 平成12年\n",
      "2001 - 平成13年\n",
      "2002 - 平成14年\n",
      "2003 - 平成15年\n",
      "2004 - 平成16年\n",
      "2005 - 平成17年\n",
      "2006 - 平成18年\n",
      "2007 - 平成19年\n",
      "2008 - 平成20年\n",
      "2009 - 平成21年\n",
      "2010 - 平成22年\n",
      "2011 - 平成23年\n",
      "2012 - 平成24年\n",
      "2013 - 平成25年\n",
      "2014 - 平成26年\n",
      "2015 - 平成27年\n",
      "2016 - 平成28年\n",
      "2017 - 平成29年\n",
      "2018 - 平成30年\n",
      "2019 - 令和元年\n",
      "2020 - 令和2年\n",
      "2021 - 令和3年\n",
      "2022 - 令和4年\n",
      "2023 - 令和5年\n",
      "2024 - 令和6年\n",
      "2025 - 令和7年\n",
      "2026 - 令和8年\n",
      "2027 - 令和9年\n",
      "2028 - 令和10年\n",
      "2029 - 令和11年\n"
     ]
    }
   ],
   "source": [
    "import openpyxl as excel\n",
    "wareki_table = [\n",
    "    {\"name\":\"明治\" , \"start\":1868 , \"end\":1912},\n",
    "    {\"name\":\"大正\" , \"start\":1912 , \"end\":1926},\n",
    "    {\"name\":\"昭和\" , \"start\":1926 , \"end\":1989},\n",
    "    {\"name\":\"平成\" , \"start\":1989 , \"end\":2019},\n",
    "    {\"name\":\"令和\" , \"start\":2019 , \"end\":9999}\n",
    "]\n",
    "\n",
    "def seireki_wareki(year):\n",
    "    for w in wareki_table:\n",
    "        if w[\"start\"] <= year < w[\"end\"]:\n",
    "            y = str(year - w[\"start\"] + 1) + \"年\"\n",
    "            if y == \"1年\": y = \"元年\"\n",
    "            return w[\"name\"] + y\n",
    "    return \"不明\"\n",
    "\n",
    "book = excel.Workbook()\n",
    "sheet = book.active\n",
    "sheet[\"A1\"] = \"西暦\"\n",
    "sheet[\"B1\"] = \"和暦\"\n",
    "\n",
    "start_y = 1930\n",
    "for i in range(100):\n",
    "    sei = start_y + i\n",
    "    wa = seireki_wareki(sei)\n",
    "    sheet.cell(row=(2+i), column=1 , value=str(sei)+\"年\")\n",
    "    sheet.cell(row=(2+i), column=2 , value=wa)\n",
    "    print(sei , \"-\" , wa)\n",
    "book.save(\"wareki_2.xlsx\")"
   ]
  },
  {
   "cell_type": "code",
   "execution_count": 13,
   "id": "0a3253f8-5801-4cf0-9ac9-e90deca5f051",
   "metadata": {},
   "outputs": [],
   "source": [
    "import openpyxl as excel\n",
    "book = excel.Workbook()\n",
    "sheet = book.active\n",
    "sheet[\"A1\"] = \"2023/01/01\"\n",
    "sheet[\"B1\"] = '=TEXT(A1,\"ggge年m月d日\")'\n",
    "book.save(\"susiki_2.xlsx\")"
   ]
  },
  {
   "cell_type": "code",
   "execution_count": 14,
   "id": "faf0a0fc-4030-459f-a713-65c338c41351",
   "metadata": {
    "tags": []
   },
   "outputs": [
    {
     "name": "stdout",
     "output_type": "stream",
     "text": [
      "1930 - =TEXT(\"1930/1/1\",\"ggge年\")\n",
      "1931 - =TEXT(\"1931/1/1\",\"ggge年\")\n",
      "1932 - =TEXT(\"1932/1/1\",\"ggge年\")\n",
      "1933 - =TEXT(\"1933/1/1\",\"ggge年\")\n",
      "1934 - =TEXT(\"1934/1/1\",\"ggge年\")\n",
      "1935 - =TEXT(\"1935/1/1\",\"ggge年\")\n",
      "1936 - =TEXT(\"1936/1/1\",\"ggge年\")\n",
      "1937 - =TEXT(\"1937/1/1\",\"ggge年\")\n",
      "1938 - =TEXT(\"1938/1/1\",\"ggge年\")\n",
      "1939 - =TEXT(\"1939/1/1\",\"ggge年\")\n",
      "1940 - =TEXT(\"1940/1/1\",\"ggge年\")\n",
      "1941 - =TEXT(\"1941/1/1\",\"ggge年\")\n",
      "1942 - =TEXT(\"1942/1/1\",\"ggge年\")\n",
      "1943 - =TEXT(\"1943/1/1\",\"ggge年\")\n",
      "1944 - =TEXT(\"1944/1/1\",\"ggge年\")\n",
      "1945 - =TEXT(\"1945/1/1\",\"ggge年\")\n",
      "1946 - =TEXT(\"1946/1/1\",\"ggge年\")\n",
      "1947 - =TEXT(\"1947/1/1\",\"ggge年\")\n",
      "1948 - =TEXT(\"1948/1/1\",\"ggge年\")\n",
      "1949 - =TEXT(\"1949/1/1\",\"ggge年\")\n",
      "1950 - =TEXT(\"1950/1/1\",\"ggge年\")\n",
      "1951 - =TEXT(\"1951/1/1\",\"ggge年\")\n",
      "1952 - =TEXT(\"1952/1/1\",\"ggge年\")\n",
      "1953 - =TEXT(\"1953/1/1\",\"ggge年\")\n",
      "1954 - =TEXT(\"1954/1/1\",\"ggge年\")\n",
      "1955 - =TEXT(\"1955/1/1\",\"ggge年\")\n",
      "1956 - =TEXT(\"1956/1/1\",\"ggge年\")\n",
      "1957 - =TEXT(\"1957/1/1\",\"ggge年\")\n",
      "1958 - =TEXT(\"1958/1/1\",\"ggge年\")\n",
      "1959 - =TEXT(\"1959/1/1\",\"ggge年\")\n",
      "1960 - =TEXT(\"1960/1/1\",\"ggge年\")\n",
      "1961 - =TEXT(\"1961/1/1\",\"ggge年\")\n",
      "1962 - =TEXT(\"1962/1/1\",\"ggge年\")\n",
      "1963 - =TEXT(\"1963/1/1\",\"ggge年\")\n",
      "1964 - =TEXT(\"1964/1/1\",\"ggge年\")\n",
      "1965 - =TEXT(\"1965/1/1\",\"ggge年\")\n",
      "1966 - =TEXT(\"1966/1/1\",\"ggge年\")\n",
      "1967 - =TEXT(\"1967/1/1\",\"ggge年\")\n",
      "1968 - =TEXT(\"1968/1/1\",\"ggge年\")\n",
      "1969 - =TEXT(\"1969/1/1\",\"ggge年\")\n",
      "1970 - =TEXT(\"1970/1/1\",\"ggge年\")\n",
      "1971 - =TEXT(\"1971/1/1\",\"ggge年\")\n",
      "1972 - =TEXT(\"1972/1/1\",\"ggge年\")\n",
      "1973 - =TEXT(\"1973/1/1\",\"ggge年\")\n",
      "1974 - =TEXT(\"1974/1/1\",\"ggge年\")\n",
      "1975 - =TEXT(\"1975/1/1\",\"ggge年\")\n",
      "1976 - =TEXT(\"1976/1/1\",\"ggge年\")\n",
      "1977 - =TEXT(\"1977/1/1\",\"ggge年\")\n",
      "1978 - =TEXT(\"1978/1/1\",\"ggge年\")\n",
      "1979 - =TEXT(\"1979/1/1\",\"ggge年\")\n",
      "1980 - =TEXT(\"1980/1/1\",\"ggge年\")\n",
      "1981 - =TEXT(\"1981/1/1\",\"ggge年\")\n",
      "1982 - =TEXT(\"1982/1/1\",\"ggge年\")\n",
      "1983 - =TEXT(\"1983/1/1\",\"ggge年\")\n",
      "1984 - =TEXT(\"1984/1/1\",\"ggge年\")\n",
      "1985 - =TEXT(\"1985/1/1\",\"ggge年\")\n",
      "1986 - =TEXT(\"1986/1/1\",\"ggge年\")\n",
      "1987 - =TEXT(\"1987/1/1\",\"ggge年\")\n",
      "1988 - =TEXT(\"1988/1/1\",\"ggge年\")\n",
      "1989 - =TEXT(\"1989/1/1\",\"ggge年\")\n",
      "1990 - =TEXT(\"1990/1/1\",\"ggge年\")\n",
      "1991 - =TEXT(\"1991/1/1\",\"ggge年\")\n",
      "1992 - =TEXT(\"1992/1/1\",\"ggge年\")\n",
      "1993 - =TEXT(\"1993/1/1\",\"ggge年\")\n",
      "1994 - =TEXT(\"1994/1/1\",\"ggge年\")\n",
      "1995 - =TEXT(\"1995/1/1\",\"ggge年\")\n",
      "1996 - =TEXT(\"1996/1/1\",\"ggge年\")\n",
      "1997 - =TEXT(\"1997/1/1\",\"ggge年\")\n",
      "1998 - =TEXT(\"1998/1/1\",\"ggge年\")\n",
      "1999 - =TEXT(\"1999/1/1\",\"ggge年\")\n",
      "2000 - =TEXT(\"2000/1/1\",\"ggge年\")\n",
      "2001 - =TEXT(\"2001/1/1\",\"ggge年\")\n",
      "2002 - =TEXT(\"2002/1/1\",\"ggge年\")\n",
      "2003 - =TEXT(\"2003/1/1\",\"ggge年\")\n",
      "2004 - =TEXT(\"2004/1/1\",\"ggge年\")\n",
      "2005 - =TEXT(\"2005/1/1\",\"ggge年\")\n",
      "2006 - =TEXT(\"2006/1/1\",\"ggge年\")\n",
      "2007 - =TEXT(\"2007/1/1\",\"ggge年\")\n",
      "2008 - =TEXT(\"2008/1/1\",\"ggge年\")\n",
      "2009 - =TEXT(\"2009/1/1\",\"ggge年\")\n",
      "2010 - =TEXT(\"2010/1/1\",\"ggge年\")\n",
      "2011 - =TEXT(\"2011/1/1\",\"ggge年\")\n",
      "2012 - =TEXT(\"2012/1/1\",\"ggge年\")\n",
      "2013 - =TEXT(\"2013/1/1\",\"ggge年\")\n",
      "2014 - =TEXT(\"2014/1/1\",\"ggge年\")\n",
      "2015 - =TEXT(\"2015/1/1\",\"ggge年\")\n",
      "2016 - =TEXT(\"2016/1/1\",\"ggge年\")\n",
      "2017 - =TEXT(\"2017/1/1\",\"ggge年\")\n",
      "2018 - =TEXT(\"2018/1/1\",\"ggge年\")\n",
      "2019 - =TEXT(\"2019/1/1\",\"ggge年\")\n",
      "2020 - =TEXT(\"2020/1/1\",\"ggge年\")\n",
      "2021 - =TEXT(\"2021/1/1\",\"ggge年\")\n",
      "2022 - =TEXT(\"2022/1/1\",\"ggge年\")\n",
      "2023 - =TEXT(\"2023/1/1\",\"ggge年\")\n",
      "2024 - =TEXT(\"2024/1/1\",\"ggge年\")\n",
      "2025 - =TEXT(\"2025/1/1\",\"ggge年\")\n",
      "2026 - =TEXT(\"2026/1/1\",\"ggge年\")\n",
      "2027 - =TEXT(\"2027/1/1\",\"ggge年\")\n",
      "2028 - =TEXT(\"2028/1/1\",\"ggge年\")\n",
      "2029 - =TEXT(\"2029/1/1\",\"ggge年\")\n"
     ]
    }
   ],
   "source": [
    "import openpyxl as excel\n",
    "book = excel.Workbook()\n",
    "sheet = book.active\n",
    "sheet[\"A1\"] = \"西暦\"\n",
    "sheet[\"B1\"] = \"和暦\"\n",
    "start_y = 1930\n",
    "for i in range(100):\n",
    "    sei = str(start_y + i)\n",
    "    wa = '=TEXT(\"{}/1/1\",\"ggge年\")'.format(sei)\n",
    "    sheet.cell(row=(2+i), column=1 , value=sei+\"年\")\n",
    "    sheet.cell(row=(2+i), column=2 , value=wa)\n",
    "    print(sei , \"-\" , wa)\n",
    "book.save(\"wareki2.xlsx\")"
   ]
  },
  {
   "cell_type": "code",
   "execution_count": 16,
   "id": "5f853712-d54c-4e2e-972c-211c183e8612",
   "metadata": {
    "tags": []
   },
   "outputs": [
    {
     "name": "stdout",
     "output_type": "stream",
     "text": [
      "H2\n",
      "H2\n"
     ]
    }
   ],
   "source": [
    "import openpyxl as excel\n",
    "book = excel.load_workbook(\"test100.xlsx\")\n",
    "sheet = book.active\n",
    "print(sheet[\"H2\"].value)\n",
    "cell = sheet.cell(row=2 , column=8)\n",
    "print(cell.value)"
   ]
  },
  {
   "cell_type": "code",
   "execution_count": 18,
   "id": "983b0d5f-4a08-448d-8ac5-8ac77a9cdcf9",
   "metadata": {
    "tags": []
   },
   "outputs": [
    {
     "name": "stdout",
     "output_type": "stream",
     "text": [
      "['B2', 'C2', 'D2']\n",
      "['B3', 'C3', 'D3']\n",
      "['B4', 'C4', 'D4']\n"
     ]
    }
   ],
   "source": [
    "import openpyxl as excel\n",
    "book = excel.load_workbook(\"test100.xlsx\")\n",
    "sheet = book.active\n",
    "for y in range(2,5):\n",
    "    r = []\n",
    "    for x in range(2,5):\n",
    "        v = sheet.cell(row=y , column=x).value\n",
    "        r.append(v)\n",
    "    print(r)"
   ]
  },
  {
   "cell_type": "code",
   "execution_count": 19,
   "id": "9afc45b6-6e44-4617-9187-e884fee78598",
   "metadata": {
    "tags": []
   },
   "outputs": [
    {
     "name": "stdout",
     "output_type": "stream",
     "text": [
      "['B2', 'C2', 'D2']\n",
      "['B3', 'C3', 'D3']\n",
      "['B4', 'C4', 'D4']\n"
     ]
    }
   ],
   "source": [
    "import openpyxl as excel\n",
    "book = excel.load_workbook(\"test100.xlsx\")\n",
    "sheet = book.active\n",
    "for row in sheet[\"B2\":\"D4\"]:\n",
    "    r = []\n",
    "    for cell in row:\n",
    "        r.append(cell.value)\n",
    "    print(r)"
   ]
  },
  {
   "cell_type": "code",
   "execution_count": 20,
   "id": "0a8ed3dc-fef1-4c25-8ab5-83f739f412a1",
   "metadata": {
    "tags": []
   },
   "outputs": [
    {
     "name": "stdout",
     "output_type": "stream",
     "text": [
      "['B2', 'C2', 'D2']\n",
      "['B3', 'C3', 'D3']\n",
      "['B4', 'C4', 'D4']\n"
     ]
    }
   ],
   "source": [
    "import openpyxl as excel\n",
    "book = excel.load_workbook(\"test100.xlsx\")\n",
    "sheet = book.active\n",
    "for row in sheet[\"B2\":\"D4\"]:\n",
    "    print([c.value for c in row])"
   ]
  },
  {
   "cell_type": "code",
   "execution_count": 21,
   "id": "ae09be21-b0c4-482a-8c4f-7fc5caecff06",
   "metadata": {
    "tags": []
   },
   "outputs": [
    {
     "name": "stdout",
     "output_type": "stream",
     "text": [
      "['B2', 'C2', 'D2']\n",
      "['B3', 'C3', 'D3']\n",
      "['B4', 'C4', 'D4']\n"
     ]
    }
   ],
   "source": [
    "import openpyxl as excel\n",
    "book = excel.load_workbook(\"test100.xlsx\")\n",
    "sheet = book.active\n",
    "it = sheet.iter_rows(min_row=2 , min_col=2,\n",
    "                    max_row=4 , max_col=4)\n",
    "for row in it:\n",
    "    r = []\n",
    "    for cell in row:\n",
    "        r.append(cell.value)\n",
    "    print(r)"
   ]
  },
  {
   "cell_type": "code",
   "execution_count": 24,
   "id": "820745ab-2d68-4483-9428-4064e316bb55",
   "metadata": {
    "tags": []
   },
   "outputs": [
    {
     "name": "stdout",
     "output_type": "stream",
     "text": [
      "C2=(2,3)\n",
      "(2,3)=C2\n"
     ]
    }
   ],
   "source": [
    "import openpyxl as excel\n",
    "book = excel.Workbook()\n",
    "sheet = book.active\n",
    "cell = sheet[\"C2\"]\n",
    "(row , col) = (cell.row , cell.column)\n",
    "print(\"C2=({},{})\".format(row , col))\n",
    "cell = sheet.cell(row=2 , column=3)\n",
    "cdt = cell.coordinate\n",
    "print(\"(2,3)={}\".format(cdt))"
   ]
  },
  {
   "cell_type": "code",
   "execution_count": 25,
   "id": "65d4ef22-9ca9-476f-84ec-ac1f3d9e92be",
   "metadata": {
    "tags": []
   },
   "outputs": [
    {
     "name": "stdout",
     "output_type": "stream",
     "text": [
      "[datetime.datetime(2020, 3, 3, 0, 0), '鈴木太郎', 'バナナ', 3, 1000, '=D3*E3']\n",
      "[datetime.datetime(2020, 3, 5, 0, 0), '伊藤次郎', 'リンゴ', 2, 1500, '=D4*E4']\n",
      "[datetime.datetime(2020, 3, 5, 0, 0), '西川三郎', 'イチゴ', 2, 2000, '=D5*E5']\n",
      "[datetime.datetime(2020, 3, 7, 0, 0), '山田史朗', 'バナナ', 8, 1000, '=D6*E6']\n",
      "[datetime.datetime(2020, 3, 15, 0, 0), '伊藤次郎', 'リンゴ', 2, 1500, '=D7*E7']\n",
      "[datetime.datetime(2020, 3, 16, 0, 0), '山田史朗', 'イチゴ', 5, 2000, '=D8*E8']\n",
      "[datetime.datetime(2020, 3, 20, 0, 0), '山下五郎', 'マンゴー', 3, 1900, '=D9*E9']\n"
     ]
    }
   ],
   "source": [
    "import openpyxl as excel\n",
    "book = excel.load_workbook(\"/Users/kato/Desktop/python/sigoto/0src/ch2/uriage.xlsx\")\n",
    "sheet = book.active\n",
    "rows = sheet[\"A3\":\"F9\"]\n",
    "for row in rows:\n",
    "    values = [cell.value for cell in row]\n",
    "    print(values)"
   ]
  },
  {
   "cell_type": "code",
   "execution_count": 26,
   "id": "508525e9-b516-4a5f-8a7c-aae315f9dfbe",
   "metadata": {
    "tags": []
   },
   "outputs": [
    {
     "name": "stdout",
     "output_type": "stream",
     "text": [
      "[datetime.datetime(2020, 3, 3, 0, 0), '鈴木太郎', 'バナナ', 3, 1000, 3000]\n",
      "[datetime.datetime(2020, 3, 5, 0, 0), '伊藤次郎', 'リンゴ', 2, 1500, 3000]\n",
      "[datetime.datetime(2020, 3, 5, 0, 0), '西川三郎', 'イチゴ', 2, 2000, 4000]\n",
      "[datetime.datetime(2020, 3, 7, 0, 0), '山田史朗', 'バナナ', 8, 1000, 8000]\n",
      "[datetime.datetime(2020, 3, 15, 0, 0), '伊藤次郎', 'リンゴ', 2, 1500, 3000]\n",
      "[datetime.datetime(2020, 3, 16, 0, 0), '山田史朗', 'イチゴ', 5, 2000, 10000]\n",
      "[datetime.datetime(2020, 3, 20, 0, 0), '山下五郎', 'マンゴー', 3, 1900, 5700]\n"
     ]
    }
   ],
   "source": [
    "import openpyxl as excel\n",
    "book = excel.load_workbook(\"/Users/kato/Desktop/python/sigoto/0src/ch2/uriage.xlsx\" , data_only=True)\n",
    "sheet = book.active\n",
    "rows = sheet[\"A3\":\"F9\"]\n",
    "for row in rows:\n",
    "    values = [cell.value for cell in row]\n",
    "    print(values)"
   ]
  },
  {
   "cell_type": "code",
   "execution_count": 27,
   "id": "8c919b99-d5b5-442e-8da3-859815fcf883",
   "metadata": {
    "tags": []
   },
   "outputs": [
    {
     "name": "stdout",
     "output_type": "stream",
     "text": [
      "[datetime.datetime(2020, 3, 3, 0, 0), '鈴木太郎', 'バナナ', 3, 1000, 3000]\n",
      "[datetime.datetime(2020, 3, 5, 0, 0), '伊藤次郎', 'リンゴ', 2, 1500, 3000]\n",
      "[datetime.datetime(2020, 3, 5, 0, 0), '西川三郎', 'イチゴ', 2, 2000, 4000]\n",
      "[datetime.datetime(2020, 3, 7, 0, 0), '山田史朗', 'バナナ', 8, 1000, 8000]\n",
      "[datetime.datetime(2020, 3, 15, 0, 0), '伊藤次郎', 'リンゴ', 2, 1500, 3000]\n",
      "[datetime.datetime(2020, 3, 16, 0, 0), '山田史朗', 'イチゴ', 5, 2000, 10000]\n",
      "[datetime.datetime(2020, 3, 20, 0, 0), '山下五郎', 'マンゴー', 3, 1900, 5700]\n"
     ]
    }
   ],
   "source": [
    "import openpyxl as excel\n",
    "book = excel.load_workbook(\"/Users/kato/Desktop/python/sigoto/0src/ch2/uriage.xlsx\" , data_only=True)\n",
    "sheet = book.active\n",
    "rows = sheet[\"A3\":\"F999\"]\n",
    "for row in rows:\n",
    "    values = [cell.value for cell in row]\n",
    "    if values[0] is None: break\n",
    "    print(values)"
   ]
  },
  {
   "cell_type": "code",
   "execution_count": 28,
   "id": "51300110-c383-4078-8fb0-50373df86b04",
   "metadata": {
    "tags": []
   },
   "outputs": [
    {
     "name": "stdout",
     "output_type": "stream",
     "text": [
      "[datetime.datetime(2020, 3, 3, 0, 0), '鈴木太郎', 'バナナ', 3, 1000, 3000]\n",
      "[datetime.datetime(2020, 3, 5, 0, 0), '伊藤次郎', 'リンゴ', 2, 1500, 3000]\n",
      "[datetime.datetime(2020, 3, 5, 0, 0), '西川三郎', 'イチゴ', 2, 2000, 4000]\n",
      "[datetime.datetime(2020, 3, 7, 0, 0), '山田史朗', 'バナナ', 8, 1000, 8000]\n",
      "[datetime.datetime(2020, 3, 15, 0, 0), '伊藤次郎', 'リンゴ', 2, 1500, 3000]\n",
      "[datetime.datetime(2020, 3, 16, 0, 0), '山田史朗', 'イチゴ', 5, 2000, 10000]\n",
      "[datetime.datetime(2020, 3, 20, 0, 0), '山下五郎', 'マンゴー', 3, 1900, 5700]\n"
     ]
    }
   ],
   "source": [
    "import openpyxl as excel\n",
    "book = excel.load_workbook(\"/Users/kato/Desktop/python/sigoto/0src/ch2/uriage.xlsx\" , data_only=True).active\n",
    "for row in sheet.iter_rows(min_row=3):\n",
    "    values = [cell.value for cell in row]\n",
    "    if values[0] is None: break\n",
    "    print(values)"
   ]
  },
  {
   "cell_type": "code",
   "execution_count": 30,
   "id": "fff24148-6f23-443e-a8e5-83dbddaea223",
   "metadata": {
    "tags": []
   },
   "outputs": [
    {
     "name": "stdout",
     "output_type": "stream",
     "text": [
      "ok , atari= 71\n"
     ]
    }
   ],
   "source": [
    "import openpyxl as exel\n",
    "import random\n",
    "atari = random.randint(1,100)\n",
    "book = excel.Workbook()\n",
    "book.active[\"B2\"] = \"あたりが書かれたシートを探そう\"\n",
    "for i in range(1,101):\n",
    "    sname = str(i) + \"番\"\n",
    "    sheet = book.create_sheet(title=sname)\n",
    "    word = \"ハズレ\"\n",
    "    if i == atari:word = \"あたり\"\n",
    "    for y in range(50):\n",
    "        for x in range(30):\n",
    "            c = sheet.cell(y+1 , x+1)\n",
    "            c.value = word\n",
    "\n",
    "book.save(\"game100.xlsx\")\n",
    "print(\"ok , atari=\" , atari)"
   ]
  },
  {
   "cell_type": "code",
   "execution_count": 32,
   "id": "9f4b2bb7-c61c-4b28-bbec-7c10c344dbc0",
   "metadata": {
    "tags": []
   },
   "outputs": [
    {
     "name": "stdout",
     "output_type": "stream",
     "text": [
      "['古田 みき', '名古屋市', 'A']\n",
      "['山中 武雄', '横浜市', 'B']\n",
      "['浅野 雅紀', '名古屋市', 'C']\n",
      "['児玉 次郎', '横浜市', 'D']\n",
      "['天野 嘉人', '名古屋市', 'A']\n",
      "['東 太陽', '横浜市', 'B']\n",
      "['榊原 博貴', '名古屋市', 'D']\n",
      "['小西 博', '横浜市', 'D']\n",
      "['原口 雅刀', '名古屋市', 'B']\n",
      "['篠崎 良純', '横浜市', 'C']\n",
      "['小池 力也', '名古屋市', 'D']\n",
      "['鶴田 俊大', '横浜市', 'D']\n",
      "['松尾 晴彦', '名古屋市', 'B']\n",
      "['木村 一平', '横浜市', 'C']\n",
      "['中嶋 幹二', '名古屋市', 'D']\n",
      "['三好 哲也', '横浜市', 'A']\n",
      "['林 勇希', '名古屋市', 'C']\n",
      "['小笠原 信', '横浜市', 'C']\n",
      "['下村 純一', '名古屋市', 'D']\n"
     ]
    }
   ],
   "source": [
    "import openpyxl as excel\n",
    "book = excel.load_workbook(\"/Users/kato/Desktop/python/sigoto/0src/ch2/all-customer.xlsx\")\n",
    "sheet = book[\"名簿\"]\n",
    "customers = [[\"名前\" , \"住所\" , \"購入プラン\"]]\n",
    "for row in sheet.iter_rows(min_row=3):\n",
    "    values = [v.value for v in row]\n",
    "    if values[0] is None: break\n",
    "    area = values[1]\n",
    "    if area == \"横浜市\" or area == \"名古屋市\":\n",
    "        customers.append(values)\n",
    "        print(values)\n",
    "\n",
    "new_book = excel.Workbook()\n",
    "new_sheet = new_book.active\n",
    "for row, row_val in enumerate(customers):\n",
    "    for col , val in enumerate(row_val):\n",
    "        c = new_sheet.cell(2+row , 1+col)\n",
    "        c.value = val\n",
    "new_book.save(\"yokohama_nagoya.xlsx\")"
   ]
  },
  {
   "cell_type": "code",
   "execution_count": 37,
   "id": "090a5cbb-7bfa-4d26-9c8b-411fac1533b5",
   "metadata": {
    "tags": []
   },
   "outputs": [
    {
     "name": "stdout",
     "output_type": "stream",
     "text": [
      "['古田 みき', '名古屋市', 'A']\n",
      "['小田 誉大', '大阪府', 'A']\n",
      "['石塚 晃', '京都市', 'A']\n",
      "['山中 武雄', '横浜市', 'B']\n",
      "['二宮 良知', '川崎市', 'B']\n",
      "['古賀 健太郎', '東京都', 'B']\n",
      "['臼井 弘', '千葉市', 'B']\n",
      "['荒木 真一朗', 'さいたま市', 'C']\n",
      "['北原 義徳', '長野市', 'C']\n",
      "['谷本 直哉', '堺市', 'C']\n",
      "['荒井 康弘', '札幌市', 'C']\n",
      "['浅野 雅紀', '名古屋市', 'C']\n",
      "['加藤 滉', '大阪府', 'C']\n",
      "['中村 武彦', '京都市', 'D']\n",
      "['児玉 次郎', '横浜市', 'D']\n",
      "['萩原 忠義', '川崎市', 'D']\n",
      "['福原 知史', '東京都', 'D']\n",
      "['高瀬 賢', '千葉市', 'D']\n",
      "['小島 力', 'さいたま市', 'D']\n",
      "['大平 祐輝', '長野市', 'D']\n",
      "['瀬戸 誠治', '堺市', 'A']\n",
      "['倉田 翔馬', '札幌市', 'A']\n",
      "['天野 嘉人', '名古屋市', 'A']\n",
      "['川崎 耕介', '大阪府', 'B']\n",
      "['竹本 章良', '京都市', 'B']\n",
      "['東 太陽', '横浜市', 'B']\n",
      "['松下 優', '川崎市', 'B']\n",
      "['前川 剛志', '東京都', 'C']\n",
      "['木下 健', '千葉市', 'C']\n",
      "['越智 吾朗', 'さいたま市', 'C']\n",
      "['今井 雅樹', '長野市', 'C']\n",
      "['竹中 博之', '堺市', 'C']\n",
      "['岡田 知哉', '札幌市', 'C']\n",
      "['榊原 博貴', '名古屋市', 'D']\n",
      "['菊池 将雄', '大阪府', 'D']\n",
      "['西川 三郎', '京都市', 'D']\n",
      "['小西 博', '横浜市', 'D']\n",
      "['中原 蔵人', '川崎市', 'D']\n",
      "['岩井 俊夫', '東京都', 'D']\n",
      "['福永 英雄', '千葉市', 'D']\n",
      "['根岸 弘章', 'さいたま市', 'A']\n",
      "['塚田 照治', '長野市', 'A']\n",
      "['篠原 哲', '堺市', 'A']\n",
      "['堀 香里', '札幌市', 'B']\n",
      "['原口 雅刀', '名古屋市', 'B']\n",
      "['笠井 竜次', '大阪府', 'B']\n",
      "['大久保 登', '京都市', 'B']\n",
      "['篠崎 良純', '横浜市', 'C']\n",
      "['坂口 俊人', '川崎市', 'C']\n",
      "['大島 佑樹', '東京都', 'C']\n",
      "['黒田 正樹', '千葉市', 'C']\n",
      "['松村 祥三', 'さいたま市', 'C']\n",
      "['内海 恭二', '長野市', 'C']\n",
      "['渡辺 範一', '堺市', 'D']\n",
      "['及川 義男', '札幌市', 'D']\n",
      "['小池 力也', '名古屋市', 'D']\n",
      "['藤本 翔', '大阪府', 'D']\n",
      "['堤 竜兵', '京都市', 'D']\n",
      "['鶴田 俊大', '横浜市', 'D']\n",
      "['野田 謙二郎', '川崎市', 'D']\n",
      "['花田 健次', '東京都', 'A']\n",
      "['岡野 大介', '千葉市', 'A']\n",
      "['下田 文太', 'さいたま市', 'A']\n",
      "['中谷 望', '長野市', 'B']\n",
      "['高井 崇高', '堺市', 'B']\n",
      "['新田 耕司', '札幌市', 'B']\n",
      "['松尾 晴彦', '名古屋市', 'B']\n",
      "['星野 郁人', '大阪府', 'C']\n",
      "['沼田 徹', '京都市', 'C']\n",
      "['木村 一平', '横浜市', 'C']\n",
      "['今村 信次郎', '川崎市', 'C']\n",
      "['望月 翔平', '東京都', 'C']\n",
      "['山岡 亨', '千葉市', 'C']\n",
      "['豊田 克巳', 'さいたま市', 'D']\n",
      "['藤田 雅也', '長野市', 'D']\n",
      "['河原 茂雄', '堺市', 'D']\n",
      "['福本 真二郎', '札幌市', 'D']\n",
      "['中嶋 幹二', '名古屋市', 'D']\n",
      "['西 准一', '大阪府', 'D']\n",
      "['大川 拓', '京都市', 'D']\n",
      "['三好 哲也', '横浜市', 'A']\n",
      "['山口 聖陽', '川崎市', 'A']\n",
      "['土屋 健一', '東京都', 'A']\n",
      "['大山 真吾', '千葉市', 'B']\n",
      "['相沢 隼士', 'さいたま市', 'B']\n",
      "['石崎 賢一', '長野市', 'B']\n",
      "['石山 広樹', '堺市', 'B']\n",
      "['手塚 信弘', '札幌市', 'C']\n",
      "['林 勇希', '名古屋市', 'C']\n",
      "['成田 裕介', '大阪府', 'C']\n",
      "['浅井 晋也', '京都市', 'C']\n",
      "['小笠原 信', '横浜市', 'C']\n",
      "['田口 友介', '川崎市', 'C']\n",
      "['志村 真千子', '東京都', 'D']\n",
      "['平岡 正次', '千葉市', 'D']\n",
      "['内山 英彦', 'さいたま市', 'D']\n",
      "['尾崎 章二', '長野市', 'D']\n",
      "['堀江 聡', '堺市', 'D']\n",
      "['田中 勝', '札幌市', 'D']\n",
      "['下村 純一', '名古屋市', 'D']\n"
     ]
    }
   ],
   "source": [
    "import openpyxl as excel\n",
    "book = excel.load_workbook(\"/Users/kato/Desktop/python/sigoto/0src/ch2/all-customer.xlsx\")\n",
    "sheet = book[\"名簿\"]\n",
    "for row in sheet.iter_rows(min_row=3):\n",
    "    cells = [v.value for v in row]\n",
    "    if cells[0] is None: break\n",
    "    print(cells)\n",
    "    (name,area,plan) = cells\n",
    "    sname = plan+\"プラン\"\n",
    "    if sname not in book.sheetnames:\n",
    "        to_sheet = book.create_sheet(title=sname)\n",
    "        to_sheet.append([\"名前\" , \"住所\" , \"プラン\"])\n",
    "    else:\n",
    "        to_sheet = book[sname]\n",
    "    to_sheet.append(cells)\n",
    "book.save(\"split_sheet.xlsx\")"
   ]
  },
  {
   "cell_type": "code",
   "execution_count": 39,
   "id": "4682c23e-954b-42bb-a1f7-532359a69c13",
   "metadata": {
    "tags": []
   },
   "outputs": [],
   "source": [
    "#表示形式（小数点）\n",
    "import openpyxl as excel\n",
    "book = excel.Workbook()\n",
    "sheet = book.active\n",
    "val = 3.14159\n",
    "sheet.append([val,val,val])\n",
    "sheet[\"A1\"].number_format = \"0\"\n",
    "sheet[\"B1\"].number_format = \"0.00\"\n",
    "sheet[\"C1\"].number_format = \"0.0000\"\n",
    "book.save(\"number_format.xlsx\")"
   ]
  },
  {
   "cell_type": "code",
   "execution_count": 43,
   "id": "5db97849-4575-46d8-8ec0-f46f0b96fe9a",
   "metadata": {
    "tags": []
   },
   "outputs": [],
   "source": [
    "import openpyxl as excel\n",
    "book = excel.Workbook()\n",
    "sheet = book.active\n",
    "\n",
    "def set_cell(cname , value , fmt):\n",
    "    c = sheet[cname]\n",
    "    c.value = value\n",
    "    c.number_format = fmt\n",
    "    \n",
    "keta3_fmt = '#,##0'\n",
    "sheet[\"A1\"] = keta3_fmt\n",
    "set_cell(\"B1\" , 12345 , keta3_fmt)\n",
    "set_cell(\"C1\" , 123456789 , keta3_fmt)\n",
    "\n",
    "cur_fmt = '\"\\\"#,##0;\"\\\"\\\\-#,##0'\n",
    "sheet[\"A2\"] = cur_fmt\n",
    "set_cell(\"B2\" , 12345 , cur_fmt)\n",
    "set_cell(\"C2\" , -12345 , cur_fmt)\n",
    "\n",
    "num_fmt = '#,##0;[red]\"△\"#,##0'\n",
    "sheet[\"A3\"] = num_fmt\n",
    "set_cell(\"B3\" , 12345 , num_fmt)\n",
    "set_cell(\"C3\" , -12345 , num_fmt)\n",
    "\n",
    "book.save(\"number_format2.xlsx\")"
   ]
  },
  {
   "cell_type": "code",
   "execution_count": 47,
   "id": "48e27cc7-eb83-45aa-887c-7ae74f36b63e",
   "metadata": {
    "tags": []
   },
   "outputs": [],
   "source": [
    "import openpyxl as excel\n",
    "book = excel.Workbook()\n",
    "sheet = book.active\n",
    "import datetime\n",
    "dt = datetime.datetime(year=2023,month=4,day=5,hour=11,minute=22,second=33)\n",
    "sheet.append([dt,dt,dt,dt])\n",
    "\n",
    "sheet[\"A1\"].number_format = \"yyyy/mm/dd\"\n",
    "sheet[\"B1\"].number_format = \"yyyy年mm月dd日\"\n",
    "sheet[\"C1\"].number_format = \"hh:mm:ss\"\n",
    "sheet[\"D1\"].number_format = \"mm/dd hh:mm:ss\"\n",
    "book.save(\"number_format_datetime.xlsx\")"
   ]
  },
  {
   "cell_type": "code",
   "execution_count": 48,
   "id": "07d9e97a-d451-42ce-80e2-f494549cad43",
   "metadata": {
    "tags": []
   },
   "outputs": [],
   "source": [
    "import openpyxl as excel\n",
    "book = excel.Workbook()\n",
    "sheet = book.active\n",
    "\n",
    "cell = sheet[\"A1\"]\n",
    "cell.value = 345\n",
    "sheet[\"B1\"] = \"data_type=\" + cell.data_type\n",
    "\n",
    "cell = sheet[\"A2\"]\n",
    "cell.value = \"abc\"\n",
    "sheet[\"B2\"] = \"data_type=\" + cell.data_type\n",
    "\n",
    "cell = sheet[\"A3\"]\n",
    "from datetime import date\n",
    "cell.value = date(2021,4,1)\n",
    "sheet[\"B3\"] = \"data_type=\" + cell.data_type\n",
    "book.save(\"data_type.xlsx\")"
   ]
  },
  {
   "cell_type": "code",
   "execution_count": 49,
   "id": "a06a519c-8083-4a57-8084-89daea033c74",
   "metadata": {
    "tags": []
   },
   "outputs": [],
   "source": [
    "import openpyxl as xl\n",
    "\n",
    "book = xl.Workbook()\n",
    "sheet = book.active\n",
    "\n",
    "# 横幅を指定 --- (*1)\n",
    "sheet.column_dimensions['B'].width = 40\n",
    "# 高さを指定 --- (*2)\n",
    "sheet.row_dimensions[2].height = 40 \n",
    "\n",
    "cell = sheet[\"B2\"]\n",
    "cell.value = \"喜びにあふれた心は良い薬\"\n",
    "\n",
    "# テキスト配置の指定 --- (*3)\n",
    "from openpyxl.styles.alignment import Alignment\n",
    "cell.alignment = Alignment(\n",
    "        horizontal='center', # 水平位置を中央に\n",
    "        vertical='center') # 垂直位置を中央に\n",
    "\n",
    "# 罫線の指定 --- (*4)\n",
    "from openpyxl.styles.borders import Border, Side\n",
    "cell.border = Border(\n",
    "    top=Side(style='thin', color='000000'),   # 上\n",
    "    right=Side(style='thin', color='000000'), # 右\n",
    "    bottom=Side(style='thin', color='000000'),# 下\n",
    "    left=Side(style='thin', color='000000'),  # 左\n",
    ")\n",
    "\n",
    "# フォントの指定 --- (*5)\n",
    "from openpyxl.styles import Font\n",
    "cell.font = Font(\n",
    "    size=14,        # 文字サイズ\n",
    "    bold=True,      # 太文字\n",
    "    italic=True,    # イタリック\n",
    "    color='FFFFFF') # 文字色\n",
    "\n",
    "# 背景色の指定 --- (*6)\n",
    "from openpyxl.styles import PatternFill\n",
    "cell.fill = PatternFill(\n",
    "        fill_type='solid', # べた\n",
    "        fgColor='FF0000')  # 赤色\n",
    "\n",
    "# 保存\n",
    "book.save(\"style.xlsx\")"
   ]
  },
  {
   "cell_type": "code",
   "execution_count": 50,
   "id": "4cb21394-a2f5-4cf9-a428-8043231416af",
   "metadata": {
    "tags": []
   },
   "outputs": [
    {
     "name": "stdout",
     "output_type": "stream",
     "text": [
      "(*1) 0から数えて 5 文字目にあります\n",
      "(*2) 見つかりました\n"
     ]
    }
   ],
   "source": [
    "# 対象となる文字列\n",
    "target = '0123456789'\n",
    "\n",
    "# find で検索 --- (*1)\n",
    "i = target.find('56')\n",
    "if i >= 0:\n",
    "    print('(*1) 0から数えて', i, '文字目にあります')\n",
    "else:\n",
    "    print('(*1) 見つかりません')\n",
    "\n",
    "# in で検索 --- (*2)\n",
    "if '56' in target:\n",
    "    print('(*2) 見つかりました')\n",
    "else:\n",
    "    print('(*2) 見つかりません')"
   ]
  },
  {
   "cell_type": "code",
   "execution_count": 52,
   "id": "a803c0fa-90b2-4dc4-a1f9-47b4e80439d5",
   "metadata": {
    "tags": []
   },
   "outputs": [
    {
     "name": "stderr",
     "output_type": "stream",
     "text": [
      "/Users/kato/.pyenv/versions/3.11.1/lib/python3.11/site-packages/openpyxl/reader/workbook.py:118: UserWarning: Print area cannot be set to Defined name: 請求書!$A:$H.\n",
      "  warn(f\"Print area cannot be set to Defined name: {defn.value}.\")\n"
     ]
    }
   ],
   "source": [
    "# テンプレートから請求書を作成\n",
    "# ファイル名を指定 --- (*1)\n",
    "template_file = '/Users/kato/Desktop/python/sigoto/0src/ch3/invoice-template.xlsx'\n",
    "save_file = 'invoice01.xlsx'\n",
    "# 設定するデータ --- (*2)\n",
    "name = '田中一郎'\n",
    "subject = '1月分のご請求'\n",
    "items = [ # 内訳\n",
    "    ['リンゴ', 5, 320],\n",
    "    ['バナナ', 8, 210],\n",
    "    ['メロン', 1, 1200]\n",
    "]\n",
    "\n",
    "# テンプレートを開く --- (*3)\n",
    "import openpyxl as excel\n",
    "book = excel.load_workbook(template_file)\n",
    "sheet = book.active\n",
    "# テンプレートに名前と件名を書き込む --- (*4)\n",
    "sheet[\"B4\"] = name\n",
    "sheet[\"C10\"] = subject\n",
    "# 内訳を連続で書き込む --- (*5)\n",
    "total = 0\n",
    "for i, it in enumerate(items):\n",
    "    summary, count, price = it\n",
    "    subtotal = count * price\n",
    "    total += subtotal\n",
    "    # シートに書き込む\n",
    "    row = 15 + i\n",
    "    sheet.cell(row, 2, summary)\n",
    "    sheet.cell(row, 5, count)\n",
    "    sheet.cell(row, 6, price)\n",
    "    sheet.cell(row, 7, subtotal)\n",
    "# 請求金額(合計金額)を書き込む --- (*6)\n",
    "sheet[\"C11\"] = total\n",
    "\n",
    "# ブックを保存 --- (*7)\n",
    "book.save(save_file)"
   ]
  },
  {
   "cell_type": "code",
   "execution_count": 53,
   "id": "4adbcc4d-74e8-4051-911d-b9f56d18605d",
   "metadata": {
    "tags": []
   },
   "outputs": [
    {
     "name": "stdout",
     "output_type": "stream",
     "text": [
      "['wareki_2.xlsx', '9x9.xlsx', 'wareki.xlsx', 'renzoku.xlsx', 'hello.xlsx', 'invoice01.xlsx', 'cell_w.xlsx', 'style.xlsx', '20x20.xlsx', 'game100.xlsx', 'number_format_datetime.xlsx', '99x99.xlsx', 'agelist.xlsx', 'yokohama_nagoya.xlsx', 'number_format2.xlsx', 'wareki2.xlsx', 'nyugaku_list.xlsx', 'test100.xlsx', 'susiki_2.xlsx', 'data_type.xlsx', 'susiki.xlsx', 'number_format.xlsx', 'split_sheet.xlsx']\n"
     ]
    }
   ],
   "source": [
    "import glob\n",
    "# ファイルを列挙\n",
    "files = glob.glob(\"*.xlsx\")\n",
    "# 列挙したファイルを表示\n",
    "print(files)"
   ]
  },
  {
   "cell_type": "code",
   "execution_count": 55,
   "id": "e6ed49a5-d12e-4173-ac5e-6f8897def3dd",
   "metadata": {
    "tags": []
   },
   "outputs": [
    {
     "name": "stdout",
     "output_type": "stream",
     "text": [
      "read: /Users/kato/Desktop/python/sigoto/0src/ch3/salesbooks/sales-tanaka.xlsx\n",
      "[datetime.datetime(2020, 3, 3, 0, 0), '上田 祐輝', '豆腐', 4, 1000, 4000]\n",
      "[datetime.datetime(2020, 3, 5, 0, 0), '松山 竜兵', '豆腐', 1, 1000, 1000]\n",
      "[datetime.datetime(2020, 3, 5, 0, 0), '大内 圭人', '湯葉', 1, 2000, 2000]\n",
      "[datetime.datetime(2020, 3, 7, 0, 0), '上田 祐輝', '大豆セット', 2, 2000, 4000]\n",
      "[datetime.datetime(2020, 3, 15, 0, 0), '松山 竜兵', '小豆', 1, 1000, 1000]\n",
      "[datetime.datetime(2020, 3, 16, 0, 0), '大内 圭人', '豆腐', 4, 1000, 4000]\n",
      "[datetime.datetime(2020, 3, 20, 0, 0), '松山 竜兵', '小豆', 5, 1000, 5000]\n",
      "read: /Users/kato/Desktop/python/sigoto/0src/ch3/salesbooks/sales-kakei.xlsx\n",
      "[datetime.datetime(2020, 3, 6, 0, 0), '上田 祐輝', '醤油', 20, 1500, 30000]\n",
      "[datetime.datetime(2020, 3, 11, 0, 0), '松山 竜兵', 'ソース', 2, 1500, 3000]\n",
      "[datetime.datetime(2020, 3, 20, 0, 0), '上田 祐輝', '味噌', 8, 950, 7600]\n",
      "[datetime.datetime(2020, 3, 21, 0, 0), '松山 竜兵', '醤油', 10, 1500, 15000]\n",
      "read: /Users/kato/Desktop/python/sigoto/0src/ch3/salesbooks/sales-ooda.xlsx\n",
      "[datetime.datetime(2020, 3, 6, 0, 0), '鈴木 太郎', 'ミカンゼリー', 20, 1500, 30000]\n",
      "[datetime.datetime(2020, 3, 11, 0, 0), '伊藤 次郎', '桃ゼリー', 2, 1500, 3000]\n",
      "[datetime.datetime(2020, 3, 20, 0, 0), '西川 三郎', 'ミカンゼリー', 8, 950, 7600]\n",
      "[datetime.datetime(2020, 3, 21, 0, 0), '松山 竜兵', '桃ゼリー', 10, 1500, 15000]\n",
      "read: /Users/kato/Desktop/python/sigoto/0src/ch3/salesbooks/sales-yamda.xlsx\n",
      "[datetime.datetime(2020, 3, 3, 0, 0), '鈴木 太郎', 'バナナ', 3, 1000, 3000]\n",
      "[datetime.datetime(2020, 3, 5, 0, 0), '伊藤 次郎', 'リンゴ', 2, 1500, 3000]\n",
      "[datetime.datetime(2020, 3, 5, 0, 0), '西川 三郎', 'イチゴ', 2, 2000, 4000]\n",
      "[datetime.datetime(2020, 3, 7, 0, 0), '山田 史朗', 'バナナ', 8, 1000, 8000]\n",
      "[datetime.datetime(2020, 3, 15, 0, 0), '伊藤 次郎', 'リンゴ', 2, 1500, 3000]\n",
      "[datetime.datetime(2020, 3, 16, 0, 0), '山田 史朗', 'イチゴ', 5, 2000, 10000]\n",
      "[datetime.datetime(2020, 3, 20, 0, 0), '山下 五郎', 'マンゴー', 3, 1900, 5700]\n",
      "read: /Users/kato/Desktop/python/sigoto/0src/ch3/salesbooks/sales-inoue.xlsx\n",
      "[datetime.datetime(2020, 3, 1, 0, 0), '小島 重吉', 'ミカン', 2, 2500, 5000]\n",
      "[datetime.datetime(2020, 3, 2, 0, 0), '伊藤 次郎', 'リンゴ', 1, 1500, 1500]\n",
      "[datetime.datetime(2020, 3, 3, 0, 0), '西川 三郎', 'ミカン', 3, 2500, 7500]\n",
      "[datetime.datetime(2020, 3, 15, 0, 0), '山田 史朗', 'ミカン', 4, 2500, 10000]\n",
      "[datetime.datetime(2020, 3, 16, 0, 0), '小島 重吉', 'リンゴ', 2, 1500, 3000]\n",
      "[datetime.datetime(2020, 3, 17, 0, 0), '山田 史朗', 'ブドウ', 2, 3000, 6000]\n",
      "[datetime.datetime(2020, 3, 22, 0, 0), '小島 重吉', 'ブドウ', 2, 3000, 6000]\n"
     ]
    }
   ],
   "source": [
    "import glob\n",
    "import openpyxl as excel\n",
    "# 対象フォルダと保存先のファイル名を指定\n",
    "target_dir = '/Users/kato/Desktop/python/sigoto/0src/ch3/salesbooks'\n",
    "save_file = 'matome.xlsx'\n",
    "\n",
    "# メイン処理 --- (*1)\n",
    "def read_files():\n",
    "    # 売上一覧を書き込むブックを用意する\n",
    "    book = excel.Workbook()\n",
    "    main_sheet = book.active\n",
    "    # ファイルをを列挙して読む\n",
    "    enumfiles(main_sheet)\n",
    "    # 読み込んだデータを保存\n",
    "    book.save(save_file)\n",
    "\n",
    "# ファイルを列挙する --- (*2)\n",
    "def enumfiles(main_sheet):\n",
    "    # Excelファイルの一覧を得る --- (*3)\n",
    "    files = glob.glob(target_dir + '/*.xlsx')\n",
    "    # 各Excelブックを次々と読んでいく --- (*4)\n",
    "    for fname in files:\n",
    "        read_book(main_sheet, fname)\n",
    "\n",
    "# ブックを開いて中身を読む --- (*5)\n",
    "def read_book(main_sheet, fname):\n",
    "    print(\"read:\", fname)\n",
    "    # Excelブックを読み込む --- (*6)\n",
    "    book = excel.load_workbook(fname, data_only=True)\n",
    "    sheet = book.active\n",
    "    # 売上データのある範囲を読み取る --- (*7)\n",
    "    rows = sheet[\"A4\":\"F999\"]\n",
    "    for row in rows:\n",
    "        # セルの値をリストとして得る --- (*8)\n",
    "        values = [cell.value for cell in row]\n",
    "        if values[0] is None: break\n",
    "        print(values)\n",
    "        # メインシートに値をコピー --- (*9)\n",
    "        main_sheet.append(values)\n",
    "\n",
    "# メインプログラムを実行 --- (*10)\n",
    "if __name__ == \"__main__\":\n",
    "    read_files()"
   ]
  },
  {
   "cell_type": "code",
   "execution_count": 56,
   "id": "0322c8ca-f1bf-467e-a086-0c62493fec3e",
   "metadata": {
    "tags": []
   },
   "outputs": [
    {
     "name": "stdout",
     "output_type": "stream",
     "text": [
      "[['伊藤', 300], ['伊藤', 600], ['伊藤', 200]]\n",
      "伊藤 1100\n",
      "[['田中', 300], ['田中', 200]]\n",
      "田中 500\n"
     ]
    }
   ],
   "source": [
    "# ダミーデータ\n",
    "dummy_data = [\n",
    "    [\"伊藤\", 300],\n",
    "    [\"伊藤\", 600],\n",
    "    [\"伊藤\", 200],\n",
    "    [\"田中\", 300],\n",
    "    [\"田中\", 200]\n",
    "]\n",
    "\n",
    "# データを顧客名で辞書型に分割 --- (*1)\n",
    "users = {}\n",
    "for row in dummy_data:\n",
    "    name, value = row # 変数に分ける\n",
    "    # 顧客名が初出ならリストを初期化 --- (*2)\n",
    "    if name not in users:\n",
    "        users[name] = []\n",
    "    # 顧客名をキーに値にデータを追記 --- (*3)\n",
    "    users[name].append(row)\n",
    "\n",
    "# 顧客ごとに集計 --- (*4)\n",
    "for name, rows in users.items():\n",
    "    print(rows) # --- 集計対象データを表示\n",
    "    # 顧客の購入金額を合計 --- (*5)\n",
    "    total = 0\n",
    "    for row in rows:\n",
    "        total += row[1]\n",
    "    print(name, total) # 結果を表示"
   ]
  },
  {
   "cell_type": "code",
   "execution_count": 60,
   "id": "353e8035-6491-40b5-a207-cbb22ee2568f",
   "metadata": {
    "tags": []
   },
   "outputs": [
    {
     "name": "stdout",
     "output_type": "stream",
     "text": [
      "上田 祐輝 45600\n",
      "松山 竜兵 40000\n",
      "大内 圭人 6000\n",
      "鈴木 太郎 33000\n",
      "伊藤 次郎 10500\n",
      "西川 三郎 19100\n",
      "山田 史朗 34000\n",
      "山下 五郎 5700\n",
      "小島 重吉 14000\n"
     ]
    }
   ],
   "source": [
    "import openpyxl as excel, json\n",
    "# 入出力ファイルを指定\n",
    "in_file = '/Users/kato/mypython/matome.xlsx'\n",
    "out_file = '/Users/kato/mypython/matome.json'\n",
    "\n",
    "# メイン処理 --- (*1)\n",
    "def split_list():\n",
    "    # Excelシートのデータを顧客ごとに分ける --- (*2)\n",
    "    users = read_and_split(in_file)\n",
    "    # お客ごとにデータを集計する --- (*3)\n",
    "    result = {}\n",
    "    for name, rows in users.items():\n",
    "        result[name] = calc_user(rows)\n",
    "        print(name, result[name]['total'])\n",
    "    # ファイルに結果を保存 --- (*4)\n",
    "    with open(out_file, \"wt\") as fp:\n",
    "        json.dump(result, fp)\n",
    "\n",
    "# 入力ファイルを読んで顧客ごとに分割 --- (*5)\n",
    "def read_and_split(in_file):\n",
    "    users = {} # 辞書型の変数を初期化\n",
    "    # ブックを開いてシートの全行を読む --- (*6)\n",
    "    sheet = excel.load_workbook(in_file).active\n",
    "    for row in sheet.iter_rows():\n",
    "        # シートの一行を取り出してリストに変換 --- (*7)\n",
    "        values = [col.value for col in row]\n",
    "        name = values[1] # 顧客名を取り出す\n",
    "        # 初出ならリスト初期化\n",
    "        if name not in users: users[name] = []\n",
    "        # データを顧客毎に分ける --- (*8)\n",
    "        users[name].append(values)\n",
    "    return users\n",
    "\n",
    "# 顧客一人分のデータを集計する --- (*9)\n",
    "def calc_user(rows):\n",
    "    total = 0\n",
    "    items = [] # 請求の明細用\n",
    "    # 集計処理を行う --- (*10)\n",
    "    for row in rows:\n",
    "        # 請求書に必要な項目だけ抽出して請求書明細の形式で追加\n",
    "        date, _, item, cnt, price, _ = row\n",
    "        date_s = date.strftime('%m/%d') # --- (*11)\n",
    "        items.append([date_s, item, cnt, price])\n",
    "        # 合計金額を計算 --- (*12)\n",
    "        total += cnt * price\n",
    "    # 集計結果を辞書形式で返す\n",
    "    return {'items': items, 'total': total}\n",
    "\n",
    "if __name__ == \"__main__\":\n",
    "    split_list() # メイン処理を実行"
   ]
  },
  {
   "cell_type": "code",
   "execution_count": 62,
   "id": "d371dcc9-6709-4ce7-8bdd-2f40e52cfc98",
   "metadata": {
    "tags": []
   },
   "outputs": [
    {
     "name": "stdout",
     "output_type": "stream",
     "text": [
      "save:  /Users/kato/Desktop/python/sigoto/0src/ch3/invoice02/上田 祐輝様.xlsx\n",
      "save:  /Users/kato/Desktop/python/sigoto/0src/ch3/invoice02/松山 竜兵様.xlsx\n",
      "save:  /Users/kato/Desktop/python/sigoto/0src/ch3/invoice02/大内 圭人様.xlsx\n",
      "save:  /Users/kato/Desktop/python/sigoto/0src/ch3/invoice02/鈴木 太郎様.xlsx\n",
      "save:  /Users/kato/Desktop/python/sigoto/0src/ch3/invoice02/伊藤 次郎様.xlsx\n",
      "save:  /Users/kato/Desktop/python/sigoto/0src/ch3/invoice02/西川 三郎様.xlsx\n",
      "save:  /Users/kato/Desktop/python/sigoto/0src/ch3/invoice02/山田 史朗様.xlsx\n",
      "save:  /Users/kato/Desktop/python/sigoto/0src/ch3/invoice02/山下 五郎様.xlsx\n",
      "save:  /Users/kato/Desktop/python/sigoto/0src/ch3/invoice02/小島 重吉様.xlsx\n"
     ]
    }
   ],
   "source": [
    "import openpyxl as excel, json\n",
    "# 各種設定 --- (*1)\n",
    "in_file = '/Users/kato/mypython/matome.json'\n",
    "out_dir = '/Users/kato/Desktop/python/sigoto/0src/ch3/invoice02'\n",
    "template_file = '/Users/kato/Desktop/python/sigoto/0src/ch3/invoice-template.xlsx'\n",
    "subject = \"2月分のご請求\"\n",
    "\n",
    "#メイン処理 --- (*2)\n",
    "def gen_invoice():\n",
    "    # JSONファイルを読み込む --- (*3)\n",
    "    with open(in_file, \"rt\") as fp:\n",
    "        users = json.load(fp)\n",
    "    # 顧客ごとに請求書を作成 --- (*4)\n",
    "    for name, data in users.items():\n",
    "        make_user_invoice(name, data)\n",
    "\n",
    "# テンプレートにデータを流し込む --- (*5)\n",
    "def make_user_invoice(name, data):\n",
    "    # テンプレートを読み込む --- (*6)\n",
    "    book = excel.load_workbook(template_file)\n",
    "    sheet = book.active\n",
    "    # シートに名前と件名と金額を書き込む --- (*7)\n",
    "    sheet[\"B4\"] = name\n",
    "    sheet[\"C10\"] = subject\n",
    "    sheet[\"C11\"] = data[\"total\"]\n",
    "    # 内訳を連続で書き込む --- (*8)\n",
    "    for i, it in enumerate(data['items']):\n",
    "        date, summary, cnt, price = it\n",
    "        row = 15 + i\n",
    "        sheet.cell(row, 2, summary+'('+date+')')\n",
    "        sheet.cell(row, 5, cnt)\n",
    "        sheet.cell(row, 6, price)\n",
    "        sheet.cell(row, 7, cnt*price)\n",
    "    # 請求書をファイルに保存 --- (*9)\n",
    "    out_file = out_dir+'/' + name + '様.xlsx'\n",
    "    book.save(out_file)\n",
    "    print(\"save: \", out_file)\n",
    "\n",
    "if __name__ == \"__main__\":\n",
    "    gen_invoice() # メイン処理を実行"
   ]
  },
  {
   "cell_type": "code",
   "execution_count": null,
   "id": "0f166b48-d58e-482c-819f-6e25a95f0337",
   "metadata": {},
   "outputs": [],
   "source": [
    "#p112まで"
   ]
  },
  {
   "cell_type": "code",
   "execution_count": 66,
   "id": "9bdb51ca-f8f7-4eb7-831a-44fd0adc6539",
   "metadata": {
    "tags": []
   },
   "outputs": [],
   "source": [
    "import openpyxl as excel\n",
    "import datetime\n",
    "\n",
    "in_file = '/Users/kato/Desktop/python/sigoto/0src/ch3/date-sample.xlsx'\n",
    "out_file = 'date-wareki.xlsx'\n",
    "cell_format = '[$-ja-JP]ggge\"年\"m\"月\"d\"日\"'\n",
    "\n",
    "# メイン処理\n",
    "def date_wareki(in_file, out_file):\n",
    "    # Excelブックを開く --- (*1)\n",
    "    book = excel.load_workbook(in_file)\n",
    "    # 全シートを確認する --- (*2)\n",
    "    for sheet in book.worksheets:\n",
    "        # 全行を確認する --- (*3)\n",
    "        for row in sheet.iter_rows():\n",
    "            # 全セルを確認する --- (*4)\n",
    "            for cell in row:\n",
    "                check_cell(cell)\n",
    "    # 保存\n",
    "    book.save(out_file)\n",
    "\n",
    "# セルをチェックする --- (*5)\n",
    "def check_cell(cell):\n",
    "    # セルが日付型か確認\n",
    "    if type(cell.value) is datetime.datetime:\n",
    "        cell.number_format = cell_format\n",
    "\n",
    "if __name__ == '__main__':\n",
    "    date_wareki(in_file, out_file)"
   ]
  },
  {
   "cell_type": "code",
   "execution_count": 65,
   "id": "e8bebfbd-0e08-4312-8999-3fe2748d1b74",
   "metadata": {
    "tags": []
   },
   "outputs": [],
   "source": [
    "import openpyxl as excel\n",
    "from openpyxl.styles import PatternFill\n",
    "import datetime\n",
    "\n",
    "in_file = '/Users/kato/Desktop/python/sigoto/0src/ch3/date-sample.xlsx'\n",
    "out_file = 'date-mark_olditems.xlsx'\n",
    "limit = datetime.datetime(2020, 1, 1)\n",
    "\n",
    "# メイン処理\n",
    "def date_mark(in_file, out_file):\n",
    "    # Excelブックを開く --- (*1)\n",
    "    book = excel.load_workbook(in_file)\n",
    "    # 全シートを確認する --- (*2)\n",
    "    for sheet in book.worksheets:\n",
    "        # シート内の範囲を調べる --(*3)\n",
    "        for row in sheet.iter_rows(min_row=4):\n",
    "            check_row(row)\n",
    "   # 保存\n",
    "    book.save(out_file)\n",
    "\n",
    "# 指定行をチェックする --- (*4)\n",
    "def check_row(row):\n",
    "    date = row[0].value # A列を得る --- (*5)\n",
    "    # セルが日付型でなければチェックしない\n",
    "    if type(date) is not datetime.datetime:\n",
    "        return\n",
    "    # 古い在庫か？ --- (*6)\n",
    "    if date < limit:\n",
    "        # 背景を赤色に --- (*7)\n",
    "        red = PatternFill(\n",
    "            fill_type='solid', \n",
    "            fgColor='ff0000')\n",
    "        # その行のセルを全て赤色に設定 --- (*8)\n",
    "        for cell in row:\n",
    "            cell.fill = red\n",
    "\n",
    "if __name__ == '__main__':\n",
    "    date_mark(in_file, out_file)"
   ]
  },
  {
   "cell_type": "code",
   "execution_count": 67,
   "id": "3373b2e8-8f26-4056-bf56-096e6aabaf5d",
   "metadata": {
    "tags": []
   },
   "outputs": [],
   "source": [
    "import openpyxl as excel\n",
    "# 入出力ファイルを指定\n",
    "in_file = '/Users/kato/Desktop/python/sigoto/0src/ch3/name2.xlsx'\n",
    "out_file = 'name_combine.xlsx'\n",
    "\n",
    "# 入力ブックを開きシートを得る --- (*1)\n",
    "in_book = excel.load_workbook(in_file)\n",
    "in_sheet = in_book.worksheets[0]\n",
    "# 新規ブックを生成しシートを得る --- (*2)\n",
    "out_book = excel.Workbook()\n",
    "out_sheet = out_book.active\n",
    "# シートを全部読む --- (*3)\n",
    "for row in in_sheet.iter_rows():\n",
    "    # 行内の姓と名のデータを得る --- (*4)\n",
    "    sei = row[0].value\n",
    "    na = row[1].value\n",
    "    # 姓と名をつなげる --- (*5)\n",
    "    name = sei + ' ' + na\n",
    "    # 新規シートに追記 --- (*6)\n",
    "    out_sheet.append([name])\n",
    "# 結果を保存\n",
    "out_book.save(out_file)"
   ]
  },
  {
   "cell_type": "code",
   "execution_count": 68,
   "id": "15433731-3378-4c28-9188-ca86cf747ffe",
   "metadata": {
    "tags": []
   },
   "outputs": [],
   "source": [
    "import openpyxl as excel\n",
    "# 入出力ファイルを指定\n",
    "in_file = 'name1.xlsx'\n",
    "out_file = 'name_split.xlsx'\n",
    "\n",
    "# 入力ブックを開いてシートを得る --- (*1)\n",
    "book = excel.load_workbook(in_file)\n",
    "sheet = book.worksheets[0]\n",
    "# 新規ブックを作成しシートを得る --- (*2)\n",
    "out_book = excel.Workbook()\n",
    "out_sheet = out_book.active\n",
    "# シートを全部読む --- (*3)\n",
    "for row in sheet.iter_rows():\n",
    "    # 名前のセルを得る --- (*4)\n",
    "    name = row[0].value\n",
    "    # 姓と名に分ける --- (*5)\n",
    "    sei, na = name.split(' ')\n",
    "    # 新規シートに追加 --- (*6)\n",
    "    out_sheet.append([sei, na])\n",
    "# 結果を保存\n",
    "out_book.save(out_file)"
   ]
  },
  {
   "cell_type": "code",
   "execution_count": null,
   "id": "751a42bf-c2cf-404d-b5ad-3834a5deeb8a",
   "metadata": {},
   "outputs": [],
   "source": [
    "#p123まで"
   ]
  }
 ],
 "metadata": {
  "kernelspec": {
   "display_name": "Python 3 (ipykernel)",
   "language": "python",
   "name": "python3"
  },
  "language_info": {
   "codemirror_mode": {
    "name": "ipython",
    "version": 3
   },
   "file_extension": ".py",
   "mimetype": "text/x-python",
   "name": "python",
   "nbconvert_exporter": "python",
   "pygments_lexer": "ipython3",
   "version": "3.11.1"
  }
 },
 "nbformat": 4,
 "nbformat_minor": 5
}
