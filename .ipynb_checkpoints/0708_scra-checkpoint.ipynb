{
 "cells": [
  {
   "cell_type": "code",
   "execution_count": 1,
   "id": "5ea068d7-c351-402e-9884-d5fb84d32670",
   "metadata": {
    "tags": []
   },
   "outputs": [
    {
     "data": {
      "text/plain": [
       "'/Users/kato/.pyenv/versions/3.11.1/lib/python3.11/site-packages/chromedriver_autoinstaller/114/chromedriver'"
      ]
     },
     "execution_count": 1,
     "metadata": {},
     "output_type": "execute_result"
    }
   ],
   "source": [
    "from selenium import webdriver\n",
    "from selenium.webdriver.chrome.options import Options\n",
    "from time import sleep\n",
    "import chromedriver_autoinstaller\n",
    "chromedriver_autoinstaller.install()"
   ]
  },
  {
   "cell_type": "code",
   "execution_count": 2,
   "id": "991284ec-b6e9-40d8-bbc1-00b737c9cd3a",
   "metadata": {
    "tags": []
   },
   "outputs": [],
   "source": [
    "#取得するURLを指定\n",
    "url = \"https://www.google.com/?hl=ja\"\n",
    "\n",
    "#ヘッドレスモードを使うためのOptions定義（呪文）\n",
    "options = Options()\n",
    "\n",
    "#ヘッドレスモードの指定\n",
    "options.add_argument(\"--headless\")\n",
    "\n",
    "#引数にOptions（今回はヘッドレスモードのこと）を指定\n",
    "driver = webdriver.Chrome(options=options)\n",
    "driver.get(url)"
   ]
  },
  {
   "cell_type": "code",
   "execution_count": 3,
   "id": "efbc6fff-ffd1-4eb7-919a-c10513bb691f",
   "metadata": {
    "tags": []
   },
   "outputs": [],
   "source": [
    "#nameの値が\"q\"の場所を指定\n",
    "search_bar = driver.find_element_by_name(\"q\")\n",
    "\n",
    "#そこにpythonという文字を入力（send_keys）\n",
    "search_bar.send_keys(\"python\")\n",
    "\n",
    "#決定ボタンを押す\n",
    "search_bar.submit()"
   ]
  },
  {
   "cell_type": "code",
   "execution_count": 4,
   "id": "118d8390-c1d3-4040-be69-7f6a0d28f37a",
   "metadata": {},
   "outputs": [],
   "source": [
    "# #最初の一つだけであれば以下のコードでタイトルとURLを取得出来た。\n",
    "# test = driver.find_element_by_xpath(\"//a/h3\")\n",
    "# test2 = test.find_element_by_xpath(\"..\")\n",
    "# print(test.text)\n",
    "# print(test2.get_attribute(\"href\"))"
   ]
  },
  {
   "cell_type": "code",
   "execution_count": 5,
   "id": "f8cf3eb9-87ec-45f7-ba5b-737cbafbf8d9",
   "metadata": {
    "tags": []
   },
   "outputs": [
    {
     "name": "stdout",
     "output_type": "stream",
     "text": [
      "python.jp: プログラミング言語 Python 総合情報サイト\n",
      "https://www.python.jp/\n",
      "Welcome to Python.org\n",
      "https://www.python.org/\n",
      "\n",
      "https://www.tech-teacher.jp/blog/python_suitable/#:~:text=Python%E3%81%AF%E3%83%87%E3%82%A3%E3%83%BC%E3%83%97%E3%83%A9%E3%83%BC%E3%83%8B%E3%83%B3%E3%82%B0%E3%81%AB,%E4%BC%81%E6%A5%AD%E3%81%AE%E5%BE%8C%E6%8A%BC%E3%81%97%E3%81%8C%E3%81%82%E3%82%8A%E3%81%BE%E3%81%99%E3%80%82\n",
      "\n",
      "https://sejuku.net/blog/7720#:~:text=Python%E3%81%A8%E3%81%AF%E3%80%81%E3%82%AA%E3%83%A9%E3%83%B3%E3%83%80%E4%BA%BA,%E6%80%A7%E3%81%AE%E9%AB%98%E3%81%84%E8%A8%80%E8%AA%9E%E3%81%A7%E3%81%99%E3%80%82\n",
      "\n",
      "https://udemy.benesse.co.jp/development/python-work/python.html#:~:text=Python%E3%81%A8%E3%81%AF%E3%80%81AI%E3%82%84,%E3%81%AB%E3%82%88%E3%81%A3%E3%81%A6%E9%96%8B%E7%99%BA%E3%81%95%E3%82%8C%E3%81%BE%E3%81%97%E3%81%9F%E3%80%82\n",
      "\n",
      "https://tech-diary.net/python-self-study/\n",
      "Python - Wikipedia\n",
      "https://ja.wikipedia.org/wiki/Python\n",
      "Pythonとは？特徴やできることを初心者向けにわかりやすく解説\n",
      "https://www.sejuku.net/blog/7720\n",
      "Python入門\n",
      "https://www.javadrive.jp/python/\n",
      "Pythonとは？言語の特徴・メリット・活用事例を初心…\n",
      "https://udemy.benesse.co.jp/development/python-work/python.html\n",
      "Python-izm | Python の入門から応用までをサポートする学習 ...\n",
      "https://www.python-izm.com/\n",
      "［Python入門］Pythonってどんな言語なの？ - ITmedia\n",
      "https://atmarkit.itmedia.co.jp/ait/articles/1904/02/news024.html\n",
      "Pythonとは？プログラミング言語の概要や用途を徹底解説\n",
      "https://coeteco.jp/articles/10661\n",
      "Download Python\n",
      "https://www.python.org/downloads/\n",
      "とほほのPython入門\n",
      "https://www.tohoho-web.com/python/\n",
      "Pythonの開発環境を用意しよう！（Windows）\n",
      "https://prog-8.com/docs/python-env-win\n",
      "新・Python入門編 | プログラミング学習サイト【paizaラーニング】\n",
      "https://paiza.jp/works/python/new-primer\n",
      "プログラミング言語のPythonとは？その特徴と活用方法\n",
      "https://hnavi.co.jp/knowledge/blog/python/\n",
      "Pythonとは？初心者向けチュートリアル、開発に役立つ情報\n",
      "https://qiita.com/tags/python\n",
      "Pythonでできること6つ！活用事例やおすすめ学習方法まで ...\n",
      "https://www.dhw.ac.jp/faculty/game/python/\n",
      "【2023 年最新】0 からわかる Python 入門ロードマップ！\n",
      "https://blog.kikagaku.co.jp/python-roadmap\n",
      "スッキリわかるPython入門 (スッキリわかる入門シリーズ)\n",
      "https://www.amazon.co.jp/%E3%82%B9%E3%83%83%E3%82%AD%E3%83%AA%E3%82%8F%E3%81%8B%E3%82%8BPython%E5%85%A5%E9%96%80-%E3%82%B9%E3%83%83%E3%82%AD%E3%83%AA%E3%82%B7%E3%83%AA%E3%83%BC%E3%82%BA-%E5%9B%BD%E6%9C%AC%E5%A4%A7%E6%82%9F/dp/4295006327\n",
      "Pythonプログラミング入門\n",
      "https://utokyo-ipp.github.io/\n",
      "Pythonとは？大人気プログラミング言語のメリットや活用事例を ...\n",
      "https://www.internetacademy.jp/it/programming/programming-basic/what-is-python.html\n",
      "Python試験・資格、データ分析試験・資格を運営する一般社団 ...\n",
      "https://www.pythonic-exam.com/\n",
      "「Python ゼロからはじめるプログラミング」サポートページ\n",
      "https://mitani.cs.tsukuba.ac.jp/book_support/python/\n",
      "Python - 奥村研究室\n",
      "https://okumuralab.org/~okumura/python/\n",
      "PyQ | Pythonで一歩踏み出すあなたのための、独学 ...\n",
      "https://pyq.jp/\n",
      "Python 言語入門\n",
      "https://www.isc.meiji.ac.jp/~be00085/Python3/index.html\n",
      "【集合】Python入門 (UJS60L)\n",
      "http://www.knowledgewing.com/cgi-bin/kw/redirect.cgi?c=UJS60L\n",
      "Google App Engine での Python\n",
      "https://cloud.google.com/appengine/docs/python?hl=ja\n",
      "【超入門】Pythonとは？できること・基本をわかりやすく解説\n",
      "https://www.kagoya.jp/howto/it-glossary/develop/python/\n",
      "Pythonとは？特徴や世の中における活用事例、学習方法 ...\n",
      "https://www.rd.ntt/se/media/article/0074.html\n",
      "プログラミング言語人気第1位 Pythonでできること5選\n",
      "https://www.youtube.com/watch?v=2FIAadJEZhk\n",
      "JavaとPythonの違いは？どちらを学ぶべき？\n",
      "https://freelance-hub.jp/column/detail/288/\n",
      "Pythonに関する情報 - nkmk note\n",
      "https://note.nkmk.me/python/\n",
      "PythonとJavaの違い─プロジェクトでどちらを利用すべきか\n",
      "https://kinsta.com/jp/blog/python-vs-java/\n",
      "Python（パイソン）とは？人気のプログラミング言語について ...\n",
      "https://online.dhw.co.jp/kuritama/about-python/\n",
      "O'Reilly Japan - ロバストPython\n",
      "https://www.oreilly.co.jp/books/9784814400171/\n",
      "よくわかるPython入門 | FOM出版\n",
      "https://www.fom.fujitsu.com/goods/program/python/fpt2210.html\n",
      "Pythonコース\n",
      "https://techacademy.jp/course/python\n",
      "Pythonプログラミング入門\n",
      "https://sites.google.com/view/ut-python/\n",
      "現役シリコンバレーエンジニアが教えるPython 3 入門 + 応用 ...\n",
      "https://www.udemy.com/course/python-beginner/\n",
      "Python 入門\n",
      "https://python.keicode.com/\n",
      "Python学習講座\n",
      "https://www.python.ambitious-engineer.com/\n",
      "初心者向け Python - Training\n",
      "https://learn.microsoft.com/ja-jp/training/paths/beginner-python/\n",
      "Pythonコース\n",
      "https://www.daily-trial.com/python\n",
      "Pythonエンジニア認定試験 - Odyssey CBT\n",
      "https://cbt.odyssey-com.co.jp/pythonic-exam/index.html\n",
      "Python Tutorial\n",
      "https://www.w3schools.com/python/\n",
      "Python入門におすすめサイト20選！OS別(Mac・Windows ...\n",
      "https://www.dsp.co.jp/tocreator/engineer/tips-engineer/python_introductory_website/\n",
      "Pythonとは？（パイソンとは？）初心者向けにわかりやすく3分 ...\n",
      "https://it-biz.online/python/python-abc/\n",
      "Pythonのコース一覧｜CTC教育サービス 研修/トレーニング\n",
      "https://www.school.ctc-g.co.jp/python/\n",
      "Python - Visual Studio Marketplace\n",
      "https://marketplace.visualstudio.com/items?itemName=ms-python.python\n"
     ]
    }
   ],
   "source": [
    "i = 0\n",
    "\n",
    "while True:\n",
    "    \n",
    "    i = i + 1\n",
    "    sleep(1)\n",
    "\n",
    "    for elem_h3 in driver.find_elements_by_xpath(\"//a/h3\"):\n",
    "        print(elem_h3.text)\n",
    "        elem_a = elem_h3.find_element_by_xpath(\"..\")\n",
    "        print(elem_a.get_attribute(\"href\"))\n",
    "    next_link = driver.find_element_by_id(\"pnnext\")\n",
    "    driver.get(next_link.get_attribute(\"href\"))\n",
    "    \n",
    "    if i > 4:\n",
    "        break"
   ]
  },
  {
   "cell_type": "code",
   "execution_count": null,
   "id": "94d4cfaf-6b17-46a0-bd68-a993f55d0733",
   "metadata": {},
   "outputs": [],
   "source": []
  }
 ],
 "metadata": {
  "kernelspec": {
   "display_name": "Python 3 (ipykernel)",
   "language": "python",
   "name": "python3"
  },
  "language_info": {
   "codemirror_mode": {
    "name": "ipython",
    "version": 3
   },
   "file_extension": ".py",
   "mimetype": "text/x-python",
   "name": "python",
   "nbconvert_exporter": "python",
   "pygments_lexer": "ipython3",
   "version": "3.11.1"
  }
 },
 "nbformat": 4,
 "nbformat_minor": 5
}
