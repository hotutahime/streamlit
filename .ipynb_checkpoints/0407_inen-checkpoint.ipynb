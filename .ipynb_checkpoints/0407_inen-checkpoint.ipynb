{
 "cells": [
  {
   "cell_type": "code",
   "execution_count": 1,
   "id": "91a37ded-23a7-4c41-a752-77e73b63bc58",
   "metadata": {
    "tags": []
   },
   "outputs": [
    {
     "name": "stdout",
     "output_type": "stream",
     "text": [
      "2\n",
      "4\n"
     ]
    }
   ],
   "source": [
    "print(2)\n",
    "print(1+3)"
   ]
  },
  {
   "cell_type": "code",
   "execution_count": 3,
   "id": "e83d87c3-0227-441c-97c5-c31a0a884328",
   "metadata": {
    "tags": []
   },
   "outputs": [
    {
     "name": "stdout",
     "output_type": "stream",
     "text": [
      "答えは 22\n"
     ]
    }
   ],
   "source": [
    "print(\"答えは\" , 13+9)"
   ]
  },
  {
   "cell_type": "code",
   "execution_count": 5,
   "id": "ee9b2fb5-9a84-455f-b893-ad3bdad652d3",
   "metadata": {
    "tags": []
   },
   "outputs": [
    {
     "name": "stdout",
     "output_type": "stream",
     "text": [
      "大吉\n"
     ]
    }
   ],
   "source": [
    "import random as rd\n",
    "kuji = [\"大吉\" , \"中吉\" , \"小吉\" , \"凶\"]\n",
    "print(rd.choice(kuji))"
   ]
  },
  {
   "cell_type": "code",
   "execution_count": 6,
   "id": "01c725da-6452-4f2d-b63e-6d9c4a3db6ff",
   "metadata": {
    "tags": []
   },
   "outputs": [
    {
     "name": "stdin",
     "output_type": "stream",
     "text": [
      "身長 180\n",
      "体重 77\n"
     ]
    },
    {
     "name": "stdout",
     "output_type": "stream",
     "text": [
      "あなたのBMIは、 23.76543209876543 です。\n"
     ]
    }
   ],
   "source": [
    "h = float(input(\"身長\")) / 100.0\n",
    "w = float(input(\"体重\"))\n",
    "bmi = w / (h * h)\n",
    "print(\"あなたのBMIは、\" , bmi , \"です。\")"
   ]
  },
  {
   "cell_type": "code",
   "execution_count": null,
   "id": "b124bee3-9bae-4f6a-8baf-03d0cbe9df27",
   "metadata": {},
   "outputs": [],
   "source": []
  }
 ],
 "metadata": {
  "kernelspec": {
   "display_name": "Python 3 (ipykernel)",
   "language": "python",
   "name": "python3"
  },
  "language_info": {
   "codemirror_mode": {
    "name": "ipython",
    "version": 3
   },
   "file_extension": ".py",
   "mimetype": "text/x-python",
   "name": "python",
   "nbconvert_exporter": "python",
   "pygments_lexer": "ipython3",
   "version": "3.11.1"
  }
 },
 "nbformat": 4,
 "nbformat_minor": 5
}
