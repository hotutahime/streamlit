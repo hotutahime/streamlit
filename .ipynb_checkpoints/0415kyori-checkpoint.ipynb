{
 "cells": [
  {
   "cell_type": "code",
   "execution_count": 48,
   "id": "befc1943-a921-43d8-88ee-3795815e5dde",
   "metadata": {
    "tags": []
   },
   "outputs": [],
   "source": [
    "import pandas as pd"
   ]
  },
  {
   "cell_type": "code",
   "execution_count": 49,
   "id": "45af500a-8d78-4f92-87ed-741e64506c5d",
   "metadata": {
    "tags": []
   },
   "outputs": [],
   "source": [
    "from geopy.distance import geodesic"
   ]
  },
  {
   "cell_type": "code",
   "execution_count": 50,
   "id": "7d3ef225-a4ff-4c61-8561-cab65c8e1d0c",
   "metadata": {
    "tags": []
   },
   "outputs": [
    {
     "data": {
      "text/html": [
       "<div>\n",
       "<style scoped>\n",
       "    .dataframe tbody tr th:only-of-type {\n",
       "        vertical-align: middle;\n",
       "    }\n",
       "\n",
       "    .dataframe tbody tr th {\n",
       "        vertical-align: top;\n",
       "    }\n",
       "\n",
       "    .dataframe thead th {\n",
       "        text-align: right;\n",
       "    }\n",
       "</style>\n",
       "<table border=\"1\" class=\"dataframe\">\n",
       "  <thead>\n",
       "    <tr style=\"text-align: right;\">\n",
       "      <th></th>\n",
       "      <th>都道府県コード</th>\n",
       "      <th>都道府県名</th>\n",
       "      <th>市区町村コード</th>\n",
       "      <th>市区町村名</th>\n",
       "      <th>大字町丁目コード</th>\n",
       "      <th>大字町丁目名</th>\n",
       "      <th>緯度</th>\n",
       "      <th>経度</th>\n",
       "      <th>原典資料コード</th>\n",
       "      <th>大字・字・丁目区分コード</th>\n",
       "    </tr>\n",
       "  </thead>\n",
       "  <tbody>\n",
       "    <tr>\n",
       "      <th>0</th>\n",
       "      <td>2</td>\n",
       "      <td>青森県</td>\n",
       "      <td>2201</td>\n",
       "      <td>青森市</td>\n",
       "      <td>22010001001</td>\n",
       "      <td>青葉一丁目</td>\n",
       "      <td>40.805836</td>\n",
       "      <td>140.743053</td>\n",
       "      <td>0</td>\n",
       "      <td>3</td>\n",
       "    </tr>\n",
       "    <tr>\n",
       "      <th>1</th>\n",
       "      <td>2</td>\n",
       "      <td>青森県</td>\n",
       "      <td>2201</td>\n",
       "      <td>青森市</td>\n",
       "      <td>22010001002</td>\n",
       "      <td>青葉二丁目</td>\n",
       "      <td>40.805128</td>\n",
       "      <td>140.747826</td>\n",
       "      <td>0</td>\n",
       "      <td>3</td>\n",
       "    </tr>\n",
       "    <tr>\n",
       "      <th>2</th>\n",
       "      <td>2</td>\n",
       "      <td>青森県</td>\n",
       "      <td>2201</td>\n",
       "      <td>青森市</td>\n",
       "      <td>22010001003</td>\n",
       "      <td>青葉三丁目</td>\n",
       "      <td>40.802571</td>\n",
       "      <td>140.750706</td>\n",
       "      <td>0</td>\n",
       "      <td>3</td>\n",
       "    </tr>\n",
       "  </tbody>\n",
       "</table>\n",
       "</div>"
      ],
      "text/plain": [
       "   都道府県コード 都道府県名  市区町村コード 市区町村名     大字町丁目コード 大字町丁目名         緯度          経度   \n",
       "0        2   青森県     2201   青森市  22010001001  青葉一丁目  40.805836  140.743053  \\\n",
       "1        2   青森県     2201   青森市  22010001002  青葉二丁目  40.805128  140.747826   \n",
       "2        2   青森県     2201   青森市  22010001003  青葉三丁目  40.802571  140.750706   \n",
       "\n",
       "   原典資料コード  大字・字・丁目区分コード  \n",
       "0        0             3  \n",
       "1        0             3  \n",
       "2        0             3  "
      ]
     },
     "execution_count": 50,
     "metadata": {},
     "output_type": "execute_result"
    }
   ],
   "source": [
    "df = pd.read_csv(\"/Users/kato/Desktop/mypython/02201_2021.csv\" , encoding=\"shift-jis\")\n",
    "df.head(3)"
   ]
  },
  {
   "cell_type": "code",
   "execution_count": 51,
   "id": "6aef1406-0606-4897-9a26-560f92ea9dea",
   "metadata": {
    "tags": []
   },
   "outputs": [
    {
     "data": {
      "text/html": [
       "<div>\n",
       "<style scoped>\n",
       "    .dataframe tbody tr th:only-of-type {\n",
       "        vertical-align: middle;\n",
       "    }\n",
       "\n",
       "    .dataframe tbody tr th {\n",
       "        vertical-align: top;\n",
       "    }\n",
       "\n",
       "    .dataframe thead th {\n",
       "        text-align: right;\n",
       "    }\n",
       "</style>\n",
       "<table border=\"1\" class=\"dataframe\">\n",
       "  <thead>\n",
       "    <tr style=\"text-align: right;\">\n",
       "      <th></th>\n",
       "      <th>大字町丁目名</th>\n",
       "      <th>緯度</th>\n",
       "      <th>経度</th>\n",
       "    </tr>\n",
       "  </thead>\n",
       "  <tbody>\n",
       "    <tr>\n",
       "      <th>0</th>\n",
       "      <td>青葉一丁目</td>\n",
       "      <td>40.805836</td>\n",
       "      <td>140.743053</td>\n",
       "    </tr>\n",
       "    <tr>\n",
       "      <th>1</th>\n",
       "      <td>青葉二丁目</td>\n",
       "      <td>40.805128</td>\n",
       "      <td>140.747826</td>\n",
       "    </tr>\n",
       "    <tr>\n",
       "      <th>2</th>\n",
       "      <td>青葉三丁目</td>\n",
       "      <td>40.802571</td>\n",
       "      <td>140.750706</td>\n",
       "    </tr>\n",
       "  </tbody>\n",
       "</table>\n",
       "</div>"
      ],
      "text/plain": [
       "  大字町丁目名         緯度          経度\n",
       "0  青葉一丁目  40.805836  140.743053\n",
       "1  青葉二丁目  40.805128  140.747826\n",
       "2  青葉三丁目  40.802571  140.750706"
      ]
     },
     "execution_count": 51,
     "metadata": {},
     "output_type": "execute_result"
    }
   ],
   "source": [
    "df2 = df.drop(df.columns[[0,1,2,3,4,8,9]] , axis=1)\n",
    "df2.head(3)"
   ]
  },
  {
   "cell_type": "code",
   "execution_count": 52,
   "id": "e2b5fbbb-0d25-4853-983a-e1d955914efb",
   "metadata": {
    "tags": []
   },
   "outputs": [],
   "source": [
    "location = (40.829336055838, 140.73403843386)\n",
    "df2[\"distance\"] = df2.apply(lambda x:geodesic((x[\"緯度\"], x[\"経度\"]), location), axis=1)"
   ]
  },
  {
   "cell_type": "code",
   "execution_count": 53,
   "id": "291cf406-96f9-4047-802c-cd4c304c7192",
   "metadata": {
    "tags": []
   },
   "outputs": [
    {
     "data": {
      "text/plain": [
       "0     2.718250884665882 km\n",
       "1     2.929181862544067 km\n",
       "2    3.2881367462300997 km\n",
       "Name: distance, dtype: object"
      ]
     },
     "execution_count": 53,
     "metadata": {},
     "output_type": "execute_result"
    }
   ],
   "source": [
    "df2[\"distance\"].head(3)"
   ]
  },
  {
   "cell_type": "code",
   "execution_count": 54,
   "id": "c59bcaf1-538e-460c-ab9b-a0270fcdf46f",
   "metadata": {
    "tags": []
   },
   "outputs": [
    {
     "data": {
      "text/html": [
       "<div>\n",
       "<style scoped>\n",
       "    .dataframe tbody tr th:only-of-type {\n",
       "        vertical-align: middle;\n",
       "    }\n",
       "\n",
       "    .dataframe tbody tr th {\n",
       "        vertical-align: top;\n",
       "    }\n",
       "\n",
       "    .dataframe thead th {\n",
       "        text-align: right;\n",
       "    }\n",
       "</style>\n",
       "<table border=\"1\" class=\"dataframe\">\n",
       "  <thead>\n",
       "    <tr style=\"text-align: right;\">\n",
       "      <th></th>\n",
       "      <th>大字町丁目名</th>\n",
       "      <th>緯度</th>\n",
       "      <th>経度</th>\n",
       "      <th>distance</th>\n",
       "    </tr>\n",
       "  </thead>\n",
       "  <tbody>\n",
       "    <tr>\n",
       "      <th>0</th>\n",
       "      <td>青葉一丁目</td>\n",
       "      <td>40.805836</td>\n",
       "      <td>140.743053</td>\n",
       "      <td>2.718250884665882 km</td>\n",
       "    </tr>\n",
       "    <tr>\n",
       "      <th>1</th>\n",
       "      <td>青葉二丁目</td>\n",
       "      <td>40.805128</td>\n",
       "      <td>140.747826</td>\n",
       "      <td>2.929181862544067 km</td>\n",
       "    </tr>\n",
       "    <tr>\n",
       "      <th>2</th>\n",
       "      <td>青葉三丁目</td>\n",
       "      <td>40.802571</td>\n",
       "      <td>140.750706</td>\n",
       "      <td>3.2881367462300997 km</td>\n",
       "    </tr>\n",
       "  </tbody>\n",
       "</table>\n",
       "</div>"
      ],
      "text/plain": [
       "  大字町丁目名         緯度          経度               distance\n",
       "0  青葉一丁目  40.805836  140.743053   2.718250884665882 km\n",
       "1  青葉二丁目  40.805128  140.747826   2.929181862544067 km\n",
       "2  青葉三丁目  40.802571  140.750706  3.2881367462300997 km"
      ]
     },
     "execution_count": 54,
     "metadata": {},
     "output_type": "execute_result"
    }
   ],
   "source": [
    "df2.head(3)"
   ]
  },
  {
   "cell_type": "code",
   "execution_count": 47,
   "id": "a94e5cb7-4d4d-45ab-bb58-a83440689eba",
   "metadata": {
    "tags": []
   },
   "outputs": [],
   "source": [
    "df2.to_excel(\"/Users/kato/Desktop/mypython/testmarket.xlsx\")"
   ]
  },
  {
   "cell_type": "code",
   "execution_count": null,
   "id": "0bede96d-e971-49e5-bb6b-a65a144507f7",
   "metadata": {},
   "outputs": [],
   "source": []
  }
 ],
 "metadata": {
  "kernelspec": {
   "display_name": "Python 3 (ipykernel)",
   "language": "python",
   "name": "python3"
  },
  "language_info": {
   "codemirror_mode": {
    "name": "ipython",
    "version": 3
   },
   "file_extension": ".py",
   "mimetype": "text/x-python",
   "name": "python",
   "nbconvert_exporter": "python",
   "pygments_lexer": "ipython3",
   "version": "3.11.1"
  }
 },
 "nbformat": 4,
 "nbformat_minor": 5
}
