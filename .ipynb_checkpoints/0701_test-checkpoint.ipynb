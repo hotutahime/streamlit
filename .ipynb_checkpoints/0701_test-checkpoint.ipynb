{
 "cells": [
  {
   "cell_type": "code",
   "execution_count": 32,
   "id": "acf4fdb9-8179-4354-8652-29e9c088a0af",
   "metadata": {
    "tags": []
   },
   "outputs": [],
   "source": [
    "#pandas（データフレーム）ライブラリ\n",
    "import pandas as pd\n",
    "\n",
    "#自動操作ライブラリ\n",
    "import pyautogui as pag\n",
    "\n",
    "#ファイルの連続読み込みライブラリ\n",
    "import glob\n",
    "\n",
    "#秒数指定型の処理待ちライブラリ\n",
    "import time"
   ]
  },
  {
   "cell_type": "code",
   "execution_count": 33,
   "id": "de6a5755-0133-4fd1-ba20-22d13cf668b5",
   "metadata": {
    "tags": []
   },
   "outputs": [
    {
     "name": "stdout",
     "output_type": "stream",
     "text": [
      "['/Users/kato/Desktop/shigoto/test_1_1.xlsx', '/Users/kato/Desktop/shigoto/test_1_2.xlsx']\n",
      "2\n",
      "2\n"
     ]
    }
   ],
   "source": [
    "#ファイルパスをglobで指定し、testから始まるxlsxファイルを複数読み込む\n",
    "file_paths = glob.glob(\"/Users/kato/Desktop/shigoto/test*.xlsx\")\n",
    "\n",
    "#念の為、取得した複数ファイルの各ファイル名をプリントする\n",
    "print(file_paths)\n",
    "\n",
    "#念の為、取得した複数ファイルの個数をプリントする\n",
    "print(len(file_paths))\n",
    "\n",
    "#取得したファイルの個数をlenで数え、数値化する\n",
    "#のちにdf[0]=読み込んだxlsxの0番目、1番目と個数に応じてDFを変数化するために使用する\n",
    "file_num = len(file_paths)\n",
    "\n",
    "#念の為、lenで設定した数値をプリントする\n",
    "print(file_num)"
   ]
  },
  {
   "cell_type": "code",
   "execution_count": 59,
   "id": "66c2d84d-1e02-4ed1-8ef0-ac70b1720fa7",
   "metadata": {
    "tags": []
   },
   "outputs": [],
   "source": [
    "#読み込んだxlsxをfor文で順番に入れるための空のリストを作成\n",
    "dfs = []\n",
    "\n",
    "#file_numの数値が、for文でfile変数に代入される（0〜）\n",
    "for file in range(file_num):\n",
    "    \n",
    "    #df変数にエクセルファイルを入れ、4行目をヘッダーとする\n",
    "    #なお、for文で回しているためfileの数字が続く限りこの処理が繰り返される\n",
    "    #globで取得したfilepathsの、file（数値）番目のエクセルをDFにするということ\n",
    "    df = pd.read_excel(file_paths[file], header=4)\n",
    "    \n",
    "    #読み込んだDFを、dfsの空のリストに入れる\n",
    "    #この状態では、dfsはlist型になっており、読み込んだDFが全て入っている\n",
    "    #リスト型なので、dfs[0]やdfs[1]で確認すると一つずつのDFが確認できる\n",
    "    dfs.append(df)\n",
    "\n",
    "#range関数で、df+[i] = df[0] = dfsの0番目のような指定の仕方でDFを作成する\n",
    "\n",
    "\n",
    "#df1=dfs[0]番目、df2=dfs[1]番目とする\n",
    "#それぞれプリントやDF表示してみると分かる\n",
    "for i in range(file_num):\n",
    "    globals()[\"df\" + str(i+1)] = dfs[i]"
   ]
  },
  {
   "cell_type": "code",
   "execution_count": 36,
   "id": "309c2d2b-3b6e-4fe4-b349-fbc2125bc2a2",
   "metadata": {
    "tags": []
   },
   "outputs": [],
   "source": [
    "#この最初のfor文をループAとする\n",
    "#この時、ループAが終わった後にループBが発生し、ループBの繰り返しが全て終わった後にループAに戻ってくる（ネスト）\n",
    "\n",
    "#file_numの数値＝読み込んだファイル数を、変数sに代入\n",
    "#これは、全てのファイルに対しループBを行うため、ファイル数分の処理をするということ\n",
    "\n",
    "#（ループA）\n",
    "for s in range(file_num):\n",
    "    \n",
    "    #発注数が入っていない行は削除して上書きする\n",
    "    dfs[s].dropna(subset=[\"数量\"], inplace=True)\n",
    "    \n",
    "    #インデックス番号がずれていると、Series番号の何番目という指定が、sの変数数値でできないので、行番号を振り直して上書きする\n",
    "    dfs[s].reset_index(inplace=True)\n",
    "    \n",
    "    #余計なものは削除する（Seriesにする）\n",
    "    #JANコードは、dfs[s]のJAN列のみを指定\n",
    "    df_jan = dfs[s][\"JAN\"]\n",
    "    \n",
    "    #そのJANの個数分のデータを入力するので、そのfor分のための数値を取得する\n",
    "    df_len = len(dfs[s][\"JAN\"])\n",
    "    \n",
    "    #発注数は、dfs[s]の数量列のみを指定\n",
    "    df_item = dfs[s][\"数量\"]\n",
    "    \n",
    "    \n",
    "    #このインデントのあるfor文をループBとする\n",
    "    #（ループB）\n",
    "    #for文を使って、先ほど読み込んだJANコードの個数分書き込みなど一連の処理を繰り返す\n",
    "    #そのために、先ほど取得したJANコードの個数分（df_len）の数値を、変数に入れる\n",
    "    for n in range(df_len):\n",
    "        \n",
    "        #入力画面をアクティブウィンドウにするために、所定の位置をクリックする\n",
    "        pag.click(1231, 408)\n",
    "        \n",
    "        #JANコードのn番目を書き込む\n",
    "        pag.write(str(df_jan[n]))\n",
    "        pag.press(\"enter\")\n",
    "        pag.press(\"tab\", presses=2, interval=0.01)\n",
    "        \n",
    "        #数量のn番目を書き込む\n",
    "        pag.write(str(df_item[n]))\n",
    "        pag.press(\"tab\", presses=2, interval=0.01)\n",
    "        \n",
    "        #n+1が、df_lenの数値（JANの個数分の数値）と一緒になったら\n",
    "        #＝全てのJANの書き込みを終え、ループBが終わったらポップアップを出す\n",
    "        #その時、OKを押すとこのループBは終了し、ループAにいく\n",
    "        #そして、dfs[s]の次＝2番目のDFの読み込んで書き込みに繋げる\n",
    "        if n+1 == df_len:\n",
    "            pag.confirm(text = \"次へ行きますか？\",\n",
    "                              title = str(s+1)+\"ファイル目が終わりました\",\n",
    "                              buttons = [\"OK\", \"Calcel\"])\n",
    "            \n",
    "            \n",
    "#OKを押したらTABで移動して更新（入荷登録）、日時設定、入荷先設定とかまで済ましてから次のループに行けば良いかもしれない"
   ]
  },
  {
   "cell_type": "code",
   "execution_count": null,
   "id": "6fc19ca6-03d7-48d4-9301-5fba223fda3d",
   "metadata": {},
   "outputs": [],
   "source": []
  }
 ],
 "metadata": {
  "kernelspec": {
   "display_name": "Python 3 (ipykernel)",
   "language": "python",
   "name": "python3"
  },
  "language_info": {
   "codemirror_mode": {
    "name": "ipython",
    "version": 3
   },
   "file_extension": ".py",
   "mimetype": "text/x-python",
   "name": "python",
   "nbconvert_exporter": "python",
   "pygments_lexer": "ipython3",
   "version": "3.8.16"
  }
 },
 "nbformat": 4,
 "nbformat_minor": 5
}
