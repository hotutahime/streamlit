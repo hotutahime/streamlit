{
 "cells": [
  {
   "cell_type": "code",
   "execution_count": 208,
   "id": "5e342609-e6e0-42c7-b987-67537902455e",
   "metadata": {
    "tags": []
   },
   "outputs": [],
   "source": [
    "import pandas as pd\n",
    "import pyautogui as pag\n",
    "import subprocess\n",
    "import glob\n",
    "import time\n",
    "import os"
   ]
  },
  {
   "cell_type": "code",
   "execution_count": 209,
   "id": "5d96a26a-4911-4d1a-a4fa-6e400357abfe",
   "metadata": {
    "tags": []
   },
   "outputs": [
    {
     "name": "stdout",
     "output_type": "stream",
     "text": [
      "['/Users/kato/Desktop/shigoto/test3.xlsx', '/Users/kato/Desktop/shigoto/test2.xlsx', '/Users/kato/Desktop/shigoto/test.xlsx']\n",
      "3\n",
      "3\n"
     ]
    }
   ],
   "source": [
    "#ファイルパスをglobで指定し、複数ファイルを取得する\n",
    "file_paths = glob.glob(\"/Users/kato/Desktop/shigoto/test*.xlsx\")\n",
    "\n",
    "#念の為、取得したファイルパス名と、個数をプリントする\n",
    "print(file_paths)\n",
    "print(len(file_paths))\n",
    "\n",
    "#取得したファイル数を数値化する（for文用）\n",
    "file_num = len(file_paths)\n",
    "print(file_num)"
   ]
  },
  {
   "cell_type": "code",
   "execution_count": 210,
   "id": "a7153665-5c66-4c14-8650-f425cef29f5d",
   "metadata": {
    "tags": []
   },
   "outputs": [],
   "source": [
    "#空のリスト作成\n",
    "dfs = []\n",
    "\n",
    "#fileの中に個数を代入し、pd.read_excelは\n",
    "#file_paths変数で指定した\"/Users/kato/Desktop/shigoto/test*.xlsx\"+file（番号）になる\n",
    "#なので、例えば/Users/kato/Desktop/shigoto/test*.xlsx[0]のようになっていると思う\n",
    "#そのdfを、dfsリストに格納する\n",
    "for file in range(file_num):\n",
    "    df = pd.read_excel(file_paths[file], header=17)\n",
    "    dfs.append(df)\n",
    "\n",
    "#range関数で、df+[i] = df[0] = dfsの0番目のような指定の仕方でDFを作成する\n",
    "for i in range(file_num):\n",
    "    globals()[\"df\" + str(i+1)] = dfs[i]"
   ]
  },
  {
   "cell_type": "code",
   "execution_count": 212,
   "id": "9362f40a-8fae-4e9d-a44d-a5abac954f8a",
   "metadata": {
    "tags": []
   },
   "outputs": [],
   "source": [
    "for y in range(file_num):\n",
    "    df_item_id = dfs[y][\"商品ID\"]\n",
    "    df_item_num = dfs[y][\"数量\"]\n",
    "    df_item_len = len(dfs[y][\"商品ID\"])\n",
    "    \n",
    "    for t in range(df_item_len):\n",
    "        pag.click(1231, 408)\n",
    "        pag.write(str(df_item_id[t]))\n",
    "        pag.press(\"enter\")\n",
    "        pag.write(str(df_item_num[t]))\n",
    "        pag.press(\"tab\", presses=2, interval=0.01)\n",
    "        pag.press(\"tab\", presses=2, interval=0.01)\n",
    "    "
   ]
  },
  {
   "cell_type": "code",
   "execution_count": null,
   "id": "865ae57c-5f95-4ec4-b9cd-bc6dd0d9b89e",
   "metadata": {},
   "outputs": [],
   "source": []
  }
 ],
 "metadata": {
  "kernelspec": {
   "display_name": "Python 3 (ipykernel)",
   "language": "python",
   "name": "python3"
  },
  "language_info": {
   "codemirror_mode": {
    "name": "ipython",
    "version": 3
   },
   "file_extension": ".py",
   "mimetype": "text/x-python",
   "name": "python",
   "nbconvert_exporter": "python",
   "pygments_lexer": "ipython3",
   "version": "3.11.1"
  }
 },
 "nbformat": 4,
 "nbformat_minor": 5
}
