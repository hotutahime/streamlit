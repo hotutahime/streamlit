{
 "cells": [
  {
   "cell_type": "code",
   "execution_count": 4,
   "id": "4ef0e91a-96f8-4060-82e4-7a683669cc4a",
   "metadata": {
    "tags": []
   },
   "outputs": [
    {
     "name": "stdout",
     "output_type": "stream",
     "text": [
      "1\n",
      "Mike\n",
      "True\n",
      "<class 'int'>\n",
      "<class 'str'>\n",
      "<class 'bool'>\n"
     ]
    }
   ],
   "source": [
    "#変数宣言と、タイプ確認\n",
    "num = 1\n",
    "name = \"Mike\"\n",
    "is_ok = True\n",
    "\n",
    "print(num)\n",
    "print(name)\n",
    "print(is_ok)\n",
    "\n",
    "print(type(num))\n",
    "print(type(name))\n",
    "print(type(is_ok))"
   ]
  },
  {
   "cell_type": "code",
   "execution_count": 13,
   "id": "46791434-4249-4782-a65e-6cb13303cd6d",
   "metadata": {
    "tags": []
   },
   "outputs": [
    {
     "name": "stdout",
     "output_type": "stream",
     "text": [
      "Hi Mike\n",
      "Hi,Mike\n",
      "Hi , Mike\n",
      "Hi,Mike.\n"
     ]
    }
   ],
   "source": [
    "#print方法\n",
    "print(\"Hi\", \"Mike\")\n",
    "print(\"Hi\", \"Mike\", sep=\",\")\n",
    "print(\"Hi\", \"Mike\", sep=\" , \")\n",
    "print(\"Hi\", \"Mike\", sep=\",\", end=\".\\n\")"
   ]
  },
  {
   "cell_type": "code",
   "execution_count": 26,
   "id": "2ca78b03-a83c-48ca-8b99-d9131bef53c6",
   "metadata": {
    "tags": []
   },
   "outputs": [
    {
     "name": "stdout",
     "output_type": "stream",
     "text": [
      "2\n",
      "3125\n",
      "30\n",
      "3.14\n"
     ]
    }
   ],
   "source": [
    "#数字計算\n",
    "print(17%3)\n",
    "print(5 ** 5)\n",
    "x=5\n",
    "y=6\n",
    "print(x*y)\n",
    "pie = 3.143434654\n",
    "print(round(pie, 2))"
   ]
  },
  {
   "cell_type": "code",
   "execution_count": 38,
   "id": "68c98c67-dc70-4e32-a508-2434ae49958a",
   "metadata": {
    "tags": []
   },
   "outputs": [
    {
     "name": "stdout",
     "output_type": "stream",
     "text": [
      "test\n",
      "Hello\n",
      "Hello \n",
      "How are you\n",
      "C:\n",
      "ame\n",
      "ame\n",
      "C:\\name\\name\n",
      "py thon\n",
      "python\n",
      "py test\n",
      "pytest\n"
     ]
    }
   ],
   "source": [
    "#文字列操作\n",
    "s =\"test\"\n",
    "print(s)\n",
    "print(\"Hello\")\n",
    "print(\"Hello \\nHow are you\")\n",
    "print(\"C:\\name\\name\")\n",
    "#rを付けると生データということになり改行が無視される\n",
    "print(r\"C:\\name\\name\")\n",
    "print(\"py\",\"thon\")\n",
    "print(\"py\"+\"thon\")\n",
    "print(\"py\", s)\n",
    "print(\"py\"+s)"
   ]
  },
  {
   "cell_type": "code",
   "execution_count": 46,
   "id": "cb590fbd-32ad-407e-8f6c-c40fd41a671e",
   "metadata": {
    "tags": []
   },
   "outputs": [
    {
     "name": "stdout",
     "output_type": "stream",
     "text": [
      "p\n",
      "y\n",
      "n\n",
      "hon\n",
      "ytho\n",
      "pyt\n",
      "python\n",
      "6\n"
     ]
    }
   ],
   "source": [
    "#インデックス\n",
    "word = \"python\"\n",
    "print(word[0])\n",
    "print(word[1])\n",
    "print(word[-1])\n",
    "print(word[3:])\n",
    "print(word[1:5])\n",
    "print(word[:3])\n",
    "print(word[:])\n",
    "#lenで文字数を調べる\n",
    "n = len(word)\n",
    "print(n)"
   ]
  },
  {
   "cell_type": "code",
   "execution_count": 59,
   "id": "30e45d87-18bb-46bd-9669-0bdb8905c4ac",
   "metadata": {
    "tags": []
   },
   "outputs": [
    {
     "name": "stdout",
     "output_type": "stream",
     "text": [
      "My name is Mike. Hi Mike\n",
      "11\n",
      "20\n",
      "2\n",
      "My name is mike. hi mike\n",
      "My Name Is Mike. Hi Mike\n",
      "MY NAME IS MIKE. HI MIKE\n",
      "my name is mike. hi mike\n",
      "My name is Nancy. Hi Nancy\n"
     ]
    }
   ],
   "source": [
    "#文字列のメソッド\n",
    "s = \"My name is Mike. Hi Mike\"\n",
    "print(s)\n",
    "#文字列がその文字から始まっているかどうかを調べる\n",
    "s.startswith(\"My\")\n",
    "\n",
    "#文字が何文字目にあるか調べる\n",
    "print(s.find(\"Mike\"))\n",
    "print(s.rfind(\"Mike\"))\n",
    "print(s.count(\"Mike\"))\n",
    "#最初を大文字に\n",
    "print(s.capitalize())\n",
    "#全ての最初を大文字に\n",
    "print(s.title())\n",
    "#全てを大文字に\n",
    "print(s.upper())\n",
    "#全てを小文字に\n",
    "print(s.lower())\n",
    "#文字列を直す\n",
    "print(s.replace(\"Mike\", \"Nancy\"))"
   ]
  },
  {
   "cell_type": "code",
   "execution_count": 74,
   "id": "6320641b-5c79-4b3f-b0fc-a1fb6cfb0502",
   "metadata": {
    "tags": []
   },
   "outputs": [
    {
     "name": "stdout",
     "output_type": "stream",
     "text": [
      "a is a\n",
      "a is test\n",
      "a is 123\n",
      "a is 123\n",
      "My name is JunSakai\n",
      "My name is Jun,Sakai\n",
      "My name is Sakai,Jun\n",
      "1\n",
      "1\n",
      "a is a\n",
      "a is 123\n",
      "a is 312\n"
     ]
    }
   ],
   "source": [
    "#文字列の代入\n",
    "print(\"a is {}\".format(\"a\"))\n",
    "print(\"a is {}\".format(\"test\"))\n",
    "print(\"a is {}{}{}\".format(\"1\", \"2\", \"3\"))\n",
    "print(\"a is {}{}{}\".format(1,2,3))\n",
    "print(\"My name is {}{}\".format(\"Jun\", \"Sakai\"))\n",
    "print(\"My name is {0},{1}\".format(\"Jun\", \"Sakai\"))\n",
    "print(\"My name is {family},{name}\".format(name=\"Jun\", family=\"Sakai\"))\n",
    "print(\"1\")\n",
    "print(str(1))\n",
    "\n",
    "#fストリング表記\n",
    "a = \"a\"\n",
    "print(f\"a is {a}\")\n",
    "x, y, z = 1, 2, 3\n",
    "print(f\"a is {x}{y}{z}\")\n",
    "print(f\"a is {z}{x}{y}\")"
   ]
  },
  {
   "cell_type": "code",
   "execution_count": 88,
   "id": "3acf205e-f94d-4424-b9b9-64d23b9e444c",
   "metadata": {
    "tags": []
   },
   "outputs": [
    {
     "name": "stdout",
     "output_type": "stream",
     "text": [
      "1\n",
      "20\n",
      "2\n",
      "[1, 20]\n",
      "[1, 20, 4, 50, 2, 1, 2]\n",
      "[4, 50, 2]\n",
      "[1, 20, 4]\n",
      "[4, 50, 2, 1, 2]\n",
      "7\n",
      "<class 'list'>\n",
      "[1, 2, 3, 4, 5, 6, 7, 8, 9, 10]\n",
      "[1, 3, 5, 7, 9]\n",
      "[['a', 'b', 'c'], [1, 2, 3]]\n",
      "['a', 'b', 'c']\n",
      "[1, 2, 3]\n",
      "b\n",
      "3\n"
     ]
    }
   ],
   "source": [
    "#list\n",
    "l = [1, 20, 4, 50, 2, 1, 2]\n",
    "print(l[0])\n",
    "print(l[1])\n",
    "print(l[-1])\n",
    "print(l[0:2])\n",
    "print(l[:])\n",
    "print(l[2:5])\n",
    "print(l[:3])\n",
    "print(l[2:])\n",
    "print(len(l))\n",
    "print(type(l))\n",
    "\n",
    "#文字列を一文字ずつリストに変換\n",
    "list(\"abcdefg\")\n",
    "\n",
    "n = [1,2,3,4,5,6,7,8,9,10]\n",
    "print(n)\n",
    "print(n[::2])\n",
    "\n",
    "#リストの中にリストを入れる\n",
    "a = [\"a\", \"b\", \"c\"]\n",
    "n = [1, 2, 3]\n",
    "x = [a, n]\n",
    "print(x)\n",
    "\n",
    "print(x[0])\n",
    "print(x[1])\n",
    "print(x[0][1])\n",
    "print(x[1][2])"
   ]
  },
  {
   "cell_type": "code",
   "execution_count": 105,
   "id": "20f1db7e-1bec-4524-b742-9bf93d75ae9c",
   "metadata": {
    "tags": []
   },
   "outputs": [
    {
     "name": "stdout",
     "output_type": "stream",
     "text": [
      "a\n",
      "['x', 'b', 'c', 'd', 'e', 'f', 'g']\n",
      "x\n",
      "['c', 'd', 'e']\n",
      "['x', 'b', 'C', 'D', 'E', 'f', 'g']\n",
      "['x', 'b', 'f', 'g']\n",
      "[1, 2, 3, 4, 5, 6, 7, 8, 9, 10]\n",
      "[1, 2, 3, 4, 5, 6, 7, 8, 9, 10, 100]\n",
      "[200, 1, 2, 3, 4, 5, 6, 7, 8, 9, 10, 100]\n",
      "100\n",
      "200\n",
      "[2, 3, 4, 5, 6, 7, 8, 9, 10]\n",
      "[1, 2, 3]\n"
     ]
    }
   ],
   "source": [
    "#list操作\n",
    "s = [\"a\", \"b\", \"c\", \"d\", \"e\", \"f\", \"g\"]\n",
    "print(s[0])\n",
    "\n",
    "s[0] = \"x\"\n",
    "print(s)\n",
    "print(s[0])\n",
    "\n",
    "print(s[2:5])\n",
    "s[2:5] = [\"C\", \"D\", \"E\"]\n",
    "print(s)\n",
    "\n",
    "s[2:5] = []\n",
    "print(s)\n",
    "\n",
    "n = [1,2,3,4,5,6,7,8,9,10]\n",
    "print(n)\n",
    "\n",
    "n.append(100)\n",
    "print(n)\n",
    "\n",
    "n.insert(0, 200)\n",
    "print(n)\n",
    "\n",
    "print(n.pop())\n",
    "print(n.pop(0))\n",
    "\n",
    "del n[0]\n",
    "print(n)\n",
    "\n",
    "n = [1,2,2,3]\n",
    "n.remove(2)\n",
    "print(n)"
   ]
  },
  {
   "cell_type": "code",
   "execution_count": 122,
   "id": "92a47bcd-36c0-432f-905f-f30346efd9dc",
   "metadata": {
    "tags": []
   },
   "outputs": [
    {
     "name": "stdout",
     "output_type": "stream",
     "text": [
      "[1, 2, 3, 4, 5, 1, 2, 3]\n",
      "2\n",
      "7\n",
      "2\n",
      "exist\n",
      "[1, 1, 2, 2, 3, 3, 4, 5]\n",
      "[5, 4, 3, 3, 2, 2, 1, 1]\n",
      "[1, 1, 2, 2, 3, 3, 4, 5]\n",
      "['My', 'name', 'is', 'Mike.']\n",
      "My name is Mike.\n",
      "My###name###is###Mike.\n"
     ]
    }
   ],
   "source": [
    "#listのメソッド\n",
    "r = [1,2,3,4,5,1,2,3]\n",
    "print(r)\n",
    "print(r.index(3))\n",
    "print(r.index(3,3))\n",
    "print(r.count(3))\n",
    "\n",
    "#もし5がrのリストの中に入っていたら\n",
    "if 5 in r:\n",
    "    print(\"exist\")\n",
    "\n",
    "r.sort()\n",
    "print(r)\n",
    "\n",
    "r.sort(reverse=True)\n",
    "print(r)\n",
    "\n",
    "r.reverse()\n",
    "print(r)\n",
    "\n",
    "#スペースで文字を区切ってくれる\n",
    "s = \"My name is Mike.\"\n",
    "to_split = s.split(\" \")\n",
    "print(to_split)\n",
    "\n",
    "x = \" \".join(to_split)\n",
    "print(x)\n",
    "\n",
    "x = \"###\".join(to_split)\n",
    "print(x)"
   ]
  },
  {
   "cell_type": "code",
   "execution_count": 130,
   "id": "e6554f72-21c5-46e7-b26c-4e39935bcd1c",
   "metadata": {
    "tags": []
   },
   "outputs": [
    {
     "name": "stdout",
     "output_type": "stream",
     "text": [
      "j= [100, 2, 3, 4, 5]\n",
      "i= [100, 2, 3, 4, 5]\n",
      "----------------------\n",
      "y= [100, 2, 3, 4, 5]\n",
      "x= [1, 2, 3, 4, 5]\n",
      "----------------------\n",
      "p= [100, 2, 3, 4, 5]\n",
      "o= [1, 2, 3, 4, 5]\n"
     ]
    }
   ],
   "source": [
    "#リストのコピー\n",
    "i = [1,2,3,4,5]\n",
    "j = i\n",
    "j[0] = 100\n",
    "print(\"j=\", j)\n",
    "print(\"i=\", i)\n",
    "\n",
    "print(\"----------------------\")\n",
    "\n",
    "x = [1,2,3,4,5]\n",
    "y = x.copy()\n",
    "y[0] = 100\n",
    "print(\"y=\", y)\n",
    "print(\"x=\", x)\n",
    "\n",
    "print(\"----------------------\")\n",
    "\n",
    "p = [1,2,3,4,5]\n",
    "o = p[:]\n",
    "p[0] = 100\n",
    "print(\"p=\", p)\n",
    "print(\"o=\", o)"
   ]
  },
  {
   "cell_type": "code",
   "execution_count": 145,
   "id": "47b43e9a-b20b-4506-84da-c57f57b42d29",
   "metadata": {
    "tags": []
   },
   "outputs": [
    {
     "data": {
      "text/plain": [
       "True"
      ]
     },
     "execution_count": 145,
     "metadata": {},
     "output_type": "execute_result"
    }
   ],
   "source": [
    "#リストの使い所\n",
    "seat = []\n",
    "min = 0\n",
    "max = 5\n",
    "min <= len(seat) < max\n",
    "\n",
    "seat.append(p)\n",
    "min <= len(seat) < max\n",
    "len(seat)\n",
    "\n",
    "seat.append(p)\n",
    "min <= len(seat) < max\n",
    "\n",
    "seat.append(p)\n",
    "min <= len(seat) < max\n",
    "\n",
    "seat.append(p)\n",
    "min <= len(seat) < max\n",
    "\n",
    "seat.append(p)\n",
    "min <= len(seat) < max\n",
    "len(seat)\n",
    "\n",
    "seat.pop(0)\n",
    "min <= len(seat) < max"
   ]
  },
  {
   "cell_type": "code",
   "execution_count": 147,
   "id": "c5d5ed3f-2210-4ef4-9d1c-2cd05be1f8f0",
   "metadata": {
    "tags": []
   },
   "outputs": [
    {
     "name": "stdout",
     "output_type": "stream",
     "text": [
      "Hi\n"
     ]
    }
   ],
   "source": [
    "#say_somethingを呼び出すと、print(\"Hi\")を実行するという意味\n",
    "def say_something():\n",
    "    print(\"Hi\")\n",
    "\n",
    "say_something()"
   ]
  },
  {
   "cell_type": "code",
   "execution_count": 149,
   "id": "08ebe23f-cb8f-44ef-8e3e-d85403b1e51f",
   "metadata": {
    "tags": []
   },
   "outputs": [
    {
     "name": "stdout",
     "output_type": "stream",
     "text": [
      "Hi\n"
     ]
    }
   ],
   "source": [
    "def say_something():\n",
    "    print(\"Hi\")\n",
    "\n",
    "f = say_something\n",
    "f()"
   ]
  },
  {
   "cell_type": "code",
   "execution_count": 151,
   "id": "185785c5-5452-406b-902a-51191c041281",
   "metadata": {
    "tags": []
   },
   "outputs": [
    {
     "name": "stdout",
     "output_type": "stream",
     "text": [
      "Hi\n"
     ]
    }
   ],
   "source": [
    "def say_something():\n",
    "    s = \"Hi\"\n",
    "    return s\n",
    "\n",
    "result = say_something()\n",
    "print(result)"
   ]
  },
  {
   "cell_type": "code",
   "execution_count": 152,
   "id": "14e003d9-eb5a-4eef-b04c-3c3c1b8abe17",
   "metadata": {
    "tags": []
   },
   "outputs": [
    {
     "name": "stdout",
     "output_type": "stream",
     "text": [
      "red\n"
     ]
    }
   ],
   "source": [
    "#defのcolorと、下に記述した()タプル内がリンクしている。\n",
    "def what_is_this(color):\n",
    "    print(color)\n",
    "\n",
    "what_is_this(\"red\")"
   ]
  },
  {
   "cell_type": "code",
   "execution_count": 155,
   "id": "839d57ba-c50e-44a9-ad23-b1ca6f8755d2",
   "metadata": {
    "tags": []
   },
   "outputs": [
    {
     "data": {
      "text/plain": [
       "\"I don't know\""
      ]
     },
     "execution_count": 155,
     "metadata": {},
     "output_type": "execute_result"
    }
   ],
   "source": [
    "#下に記述した文の（）内の引数が、(color)に入る\n",
    "def what_is_this(color):\n",
    "    if color == \"red\":\n",
    "        return \"tomato\"\n",
    "    elif color == \"green\":\n",
    "        return \"green pepper\"\n",
    "    else:\n",
    "        return \"I don't know\"\n",
    "\n",
    "what_is_this(\"black\")"
   ]
  },
  {
   "cell_type": "code",
   "execution_count": 157,
   "id": "d8e925f8-f254-4f60-b039-831e4783dbcb",
   "metadata": {
    "tags": []
   },
   "outputs": [
    {
     "name": "stdout",
     "output_type": "stream",
     "text": [
      "30\n"
     ]
    }
   ],
   "source": [
    "def add_num(a, b):\n",
    "    return a + b\n",
    "\n",
    "r = add_num(10, 20)\n",
    "print(r)"
   ]
  },
  {
   "cell_type": "code",
   "execution_count": 158,
   "id": "74aa8e02-bb25-45b1-acce-3544c6cb2b22",
   "metadata": {
    "tags": []
   },
   "outputs": [
    {
     "name": "stdout",
     "output_type": "stream",
     "text": [
      "beef\n",
      "beer\n",
      "ice\n"
     ]
    }
   ],
   "source": [
    "def menu(entree, drink, desert):\n",
    "    print(entree)\n",
    "    print(drink)\n",
    "    print(desert)\n",
    "\n",
    "menu(\"beef\", \"beer\", \"ice\")"
   ]
  },
  {
   "cell_type": "code",
   "execution_count": null,
   "id": "e3ecf5b9-1625-4073-9495-a909c9857459",
   "metadata": {},
   "outputs": [],
   "source": []
  }
 ],
 "metadata": {
  "kernelspec": {
   "display_name": "Python 3 (ipykernel)",
   "language": "python",
   "name": "python3"
  },
  "language_info": {
   "codemirror_mode": {
    "name": "ipython",
    "version": 3
   },
   "file_extension": ".py",
   "mimetype": "text/x-python",
   "name": "python",
   "nbconvert_exporter": "python",
   "pygments_lexer": "ipython3",
   "version": "3.11.1"
  }
 },
 "nbformat": 4,
 "nbformat_minor": 5
}
