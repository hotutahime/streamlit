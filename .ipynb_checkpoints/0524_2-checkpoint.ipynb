{
 "cells": [
  {
   "cell_type": "code",
   "execution_count": 1,
   "id": "af0479f6-dcce-4f56-b03b-7cc626d65617",
   "metadata": {
    "tags": []
   },
   "outputs": [],
   "source": [
    "import PySimpleGUI as sg"
   ]
  },
  {
   "cell_type": "code",
   "execution_count": 5,
   "id": "4ca77044-f34a-4eb5-b525-b6606637d9be",
   "metadata": {
    "tags": []
   },
   "outputs": [],
   "source": [
    "layout = [\n",
    "    [sg.Text(\"牛乳（150円）：\"),\n",
    "     sg.Combo(list(range(1, 11)), key=\"-QUANTITY-\"),\n",
    "     sg.Text(\"個\")],\n",
    "    [sg.Button(\"購入\" , key=\"-SUBMIT-\")],\n",
    "    [sg.Text(key=\"-AMOUNT-\" , size=(120,10))]]"
   ]
  },
  {
   "cell_type": "code",
   "execution_count": 6,
   "id": "36be9f28-efe7-468b-861f-f04c3ce55ea2",
   "metadata": {
    "tags": []
   },
   "outputs": [],
   "source": [
    "window = sg.Window(\"テストアプリ\" , layout , size=(300,150))"
   ]
  },
  {
   "cell_type": "code",
   "execution_count": 7,
   "id": "7c2f3a73-3fa6-4fc8-be7f-a138d93b6ca1",
   "metadata": {
    "tags": []
   },
   "outputs": [
    {
     "ename": "KeyError",
     "evalue": "'-QUANTIRY-'",
     "output_type": "error",
     "traceback": [
      "\u001b[0;31m---------------------------------------------------------------------------\u001b[0m",
      "\u001b[0;31mKeyError\u001b[0m                                  Traceback (most recent call last)",
      "Cell \u001b[0;32mIn[7], line 4\u001b[0m\n\u001b[1;32m      2\u001b[0m event, values \u001b[38;5;241m=\u001b[39m window\u001b[38;5;241m.\u001b[39mread()\n\u001b[1;32m      3\u001b[0m \u001b[38;5;28;01mif\u001b[39;00m event \u001b[38;5;241m==\u001b[39m \u001b[38;5;124m\"\u001b[39m\u001b[38;5;124m-SUBMIT-\u001b[39m\u001b[38;5;124m\"\u001b[39m:\n\u001b[0;32m----> 4\u001b[0m     total \u001b[38;5;241m=\u001b[39m \u001b[38;5;241m150\u001b[39m \u001b[38;5;241m*\u001b[39m \u001b[38;5;28mint\u001b[39m(\u001b[43mvalues\u001b[49m\u001b[43m[\u001b[49m\u001b[38;5;124;43m\"\u001b[39;49m\u001b[38;5;124;43m-QUANTIRY-\u001b[39;49m\u001b[38;5;124;43m\"\u001b[39;49m\u001b[43m]\u001b[49m)\n\u001b[1;32m      5\u001b[0m     window[\u001b[38;5;124m\"\u001b[39m\u001b[38;5;124m-AMOUNT-\u001b[39m\u001b[38;5;124m\"\u001b[39m]\u001b[38;5;241m.\u001b[39mupdate(values\u001b[38;5;241m=\u001b[39m\u001b[38;5;124mf\u001b[39m\u001b[38;5;124m'\u001b[39m\u001b[38;5;124m金額:\u001b[39m\u001b[38;5;132;01m{\u001b[39;00mtotal\u001b[38;5;132;01m}\u001b[39;00m\u001b[38;5;124m'\u001b[39m)\n\u001b[1;32m      6\u001b[0m \u001b[38;5;28;01mif\u001b[39;00m event \u001b[38;5;241m==\u001b[39m sg\u001b[38;5;241m.\u001b[39mWIN_CLOSED:\n",
      "\u001b[0;31mKeyError\u001b[0m: '-QUANTIRY-'"
     ]
    }
   ],
   "source": [
    "while True:\n",
    "    event, values = window.read()\n",
    "    if event == \"-SUBMIT-\":\n",
    "        total = 150 * int(values[\"-QUANTITY-\"])\n",
    "        window[\"-AMOUNT-\"].update(values=f'金額:{total}')\n",
    "    if event == sg.WIN_CLOSED:\n",
    "        break"
   ]
  },
  {
   "cell_type": "code",
   "execution_count": null,
   "id": "f9f0a1a7-c279-4296-ac71-ea6856887025",
   "metadata": {},
   "outputs": [],
   "source": []
  }
 ],
 "metadata": {
  "kernelspec": {
   "display_name": "Python 3 (ipykernel)",
   "language": "python",
   "name": "python3"
  },
  "language_info": {
   "codemirror_mode": {
    "name": "ipython",
    "version": 3
   },
   "file_extension": ".py",
   "mimetype": "text/x-python",
   "name": "python",
   "nbconvert_exporter": "python",
   "pygments_lexer": "ipython3",
   "version": "3.8.16"
  }
 },
 "nbformat": 4,
 "nbformat_minor": 5
}
