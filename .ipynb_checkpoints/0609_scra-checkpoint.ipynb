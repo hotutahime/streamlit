{
 "cells": [
  {
   "cell_type": "code",
   "execution_count": 1,
   "id": "5538b743-746e-4bb7-9547-abff4c39e67f",
   "metadata": {
    "tags": []
   },
   "outputs": [],
   "source": [
    "import requests"
   ]
  },
  {
   "cell_type": "code",
   "execution_count": 2,
   "id": "b5e9cb5a-8761-41aa-b938-2de9525db96a",
   "metadata": {
    "tags": []
   },
   "outputs": [],
   "source": [
    "url = \"https://www.ymori.com/books/python2nen/test1.html\""
   ]
  },
  {
   "cell_type": "code",
   "execution_count": 3,
   "id": "4c9e1b8d-3902-4702-8cbf-6d4917f55fd1",
   "metadata": {
    "tags": []
   },
   "outputs": [],
   "source": [
    "response = requests.get(url)"
   ]
  },
  {
   "cell_type": "code",
   "execution_count": 4,
   "id": "afbe25c5-1aca-4541-a9a7-a8063f2d9675",
   "metadata": {
    "tags": []
   },
   "outputs": [],
   "source": [
    "response.encoding = response.apparent_encoding"
   ]
  },
  {
   "cell_type": "code",
   "execution_count": 5,
   "id": "01eaf361-faba-45a1-9088-27dda8c91647",
   "metadata": {
    "tags": []
   },
   "outputs": [
    {
     "name": "stdout",
     "output_type": "stream",
     "text": [
      "<!DOCTYPE html>\n",
      "<html>\n",
      "\t<head>\n",
      "\t\t<meta charset=\"UTF-8\">\n",
      "\t\t<title>Python2年生</title>\n",
      "\t</head>\n",
      "\t<body>\n",
      "\t\t<h2>第1章 Pythonでデータをダウンロード</h2>\n",
      "\t\t<ol>\n",
      "\t\t\t<li>スクレイピングってなに？</li>\n",
      "\t\t\t<li>Pythonをインストールしてみよう</li>\n",
      "\t\t\t<li>requestsでアクセスしてみよう</li>\n",
      "\t\t</ol>\n",
      "\t</body>\n",
      "</html>\n"
     ]
    }
   ],
   "source": [
    "print(response.text)"
   ]
  },
  {
   "cell_type": "code",
   "execution_count": 6,
   "id": "0e4f4d9a-b0d8-40c4-b097-32709489eb60",
   "metadata": {
    "tags": []
   },
   "outputs": [],
   "source": [
    "filename = \"download.txt\""
   ]
  },
  {
   "cell_type": "code",
   "execution_count": 7,
   "id": "23baeaa1-f9be-47a2-8e31-abf6a91b4b38",
   "metadata": {
    "tags": []
   },
   "outputs": [],
   "source": [
    "with open(filename , mode=\"w\") as f:\n",
    "    f.write(response.text)"
   ]
  },
  {
   "cell_type": "code",
   "execution_count": 8,
   "id": "d6698674-5d77-4df3-931c-a6d7542498bd",
   "metadata": {
    "tags": []
   },
   "outputs": [],
   "source": [
    "from bs4 import BeautifulSoup"
   ]
  },
  {
   "cell_type": "code",
   "execution_count": 9,
   "id": "b2420177-c38f-49fc-b26f-bc7ac09b9c26",
   "metadata": {
    "tags": []
   },
   "outputs": [],
   "source": [
    "load_url = \"https://www.ymori.com/books/python2nen/test1.html\""
   ]
  },
  {
   "cell_type": "code",
   "execution_count": 10,
   "id": "7680e1e9-46bc-4ed7-8abd-34c22c7038de",
   "metadata": {
    "tags": []
   },
   "outputs": [],
   "source": [
    "html = requests.get(load_url)"
   ]
  },
  {
   "cell_type": "code",
   "execution_count": 11,
   "id": "b1747615-6b15-49e3-bb8d-31b373e520f0",
   "metadata": {
    "tags": []
   },
   "outputs": [],
   "source": [
    "soup = BeautifulSoup(html.content , \"html.parser\")"
   ]
  },
  {
   "cell_type": "code",
   "execution_count": 12,
   "id": "b108c657-72c8-46de-a361-cd9d9f3938d1",
   "metadata": {
    "tags": []
   },
   "outputs": [
    {
     "name": "stdout",
     "output_type": "stream",
     "text": [
      "<!DOCTYPE html>\n",
      "\n",
      "<html>\n",
      "<head>\n",
      "<meta charset=\"utf-8\"/>\n",
      "<title>Python2年生</title>\n",
      "</head>\n",
      "<body>\n",
      "<h2>第1章 Pythonでデータをダウンロード</h2>\n",
      "<ol>\n",
      "<li>スクレイピングってなに？</li>\n",
      "<li>Pythonをインストールしてみよう</li>\n",
      "<li>requestsでアクセスしてみよう</li>\n",
      "</ol>\n",
      "</body>\n",
      "</html>\n"
     ]
    }
   ],
   "source": [
    "print(soup)"
   ]
  },
  {
   "cell_type": "code",
   "execution_count": 13,
   "id": "08dc8b7e-ada0-4fac-beab-53441c0b7c86",
   "metadata": {
    "tags": []
   },
   "outputs": [
    {
     "name": "stdout",
     "output_type": "stream",
     "text": [
      "<title>Python2年生</title>\n",
      "<h2>第1章 Pythonでデータをダウンロード</h2>\n",
      "<li>スクレイピングってなに？</li>\n"
     ]
    }
   ],
   "source": [
    "print(soup.find(\"title\"))\n",
    "print(soup.find(\"h2\"))\n",
    "print(soup.find(\"li\"))"
   ]
  },
  {
   "cell_type": "code",
   "execution_count": 14,
   "id": "6b7523f0-8c1f-4051-8c45-d22120a633df",
   "metadata": {
    "tags": []
   },
   "outputs": [
    {
     "name": "stdout",
     "output_type": "stream",
     "text": [
      "Python2年生\n",
      "第1章 Pythonでデータをダウンロード\n",
      "スクレイピングってなに？\n"
     ]
    }
   ],
   "source": [
    "print(soup.find(\"title\").text)\n",
    "print(soup.find(\"h2\").text)\n",
    "print(soup.find(\"li\").text)"
   ]
  },
  {
   "cell_type": "code",
   "execution_count": 15,
   "id": "b3dab500-2a92-45a5-8252-a8607588ca76",
   "metadata": {
    "tags": []
   },
   "outputs": [],
   "source": [
    "load_url = \"https://www.ymori.com/books/python2nen/test2.html\""
   ]
  },
  {
   "cell_type": "code",
   "execution_count": 16,
   "id": "565b065c-45f1-4863-b7c1-21510be51f7d",
   "metadata": {
    "tags": []
   },
   "outputs": [],
   "source": [
    "html = requests.get(load_url)"
   ]
  },
  {
   "cell_type": "code",
   "execution_count": 17,
   "id": "28b63460-c688-4ee4-ba3c-b948babace47",
   "metadata": {
    "tags": []
   },
   "outputs": [],
   "source": [
    "soup = BeautifulSoup(html.content , \"html.parser\")"
   ]
  },
  {
   "cell_type": "code",
   "execution_count": 18,
   "id": "93e138c1-c8fe-4cf3-9dc5-70dafba0e8eb",
   "metadata": {
    "tags": []
   },
   "outputs": [
    {
     "name": "stdout",
     "output_type": "stream",
     "text": [
      "\n",
      "\n",
      "\n",
      "\n",
      "Python2年生\n",
      "\n",
      "\n",
      "\n",
      "第1章 Pythonでデータをダウンロード\n",
      "\n",
      "スクレイピングってなに？\n",
      "Pythonをインストールしてみよう\n",
      "requestsでアクセスしてみよう\n",
      "\n",
      "\n",
      "\n",
      "第2章 HTMLを解析しよう\n",
      "\n",
      "HTMLを解析してみよう\n",
      "ニュースの最新記事一覧を取得してみよう\n",
      "リンク一覧をファイルに書き出そう\n",
      "画像を一括ダウンロードしよう\n",
      "\n",
      "\n",
      "リンク1\n",
      "リンク2\n",
      "\n",
      "\n",
      "\n",
      "\n",
      "\n"
     ]
    }
   ],
   "source": [
    "print(soup.text)"
   ]
  },
  {
   "cell_type": "code",
   "execution_count": 19,
   "id": "612ce6a4-ef32-4f99-b171-c9e93a39ec78",
   "metadata": {
    "tags": []
   },
   "outputs": [
    {
     "name": "stdout",
     "output_type": "stream",
     "text": [
      "スクレイピングってなに？\n",
      "Pythonをインストールしてみよう\n",
      "requestsでアクセスしてみよう\n",
      "HTMLを解析してみよう\n",
      "ニュースの最新記事一覧を取得してみよう\n",
      "リンク一覧をファイルに書き出そう\n",
      "画像を一括ダウンロードしよう\n"
     ]
    }
   ],
   "source": [
    "for element in soup.find_all(\"li\"):\n",
    "    print(element.text)"
   ]
  },
  {
   "cell_type": "code",
   "execution_count": 20,
   "id": "6e43bcd8-b016-4a1b-be8b-3e33188150cd",
   "metadata": {
    "tags": []
   },
   "outputs": [
    {
     "name": "stdout",
     "output_type": "stream",
     "text": [
      "<div id=\"chap2\">\n",
      "<h2>第2章 HTMLを解析しよう</h2>\n",
      "<ol>\n",
      "<li>HTMLを解析してみよう</li>\n",
      "<li>ニュースの最新記事一覧を取得してみよう</li>\n",
      "<li>リンク一覧をファイルに書き出そう</li>\n",
      "<li>画像を一括ダウンロードしよう</li>\n",
      "</ol>\n",
      "</div>\n"
     ]
    }
   ],
   "source": [
    "chap2 = soup.find(id=\"chap2\")\n",
    "print(chap2)"
   ]
  },
  {
   "cell_type": "code",
   "execution_count": 21,
   "id": "8623857c-526c-4648-a800-0d231523f1a8",
   "metadata": {
    "tags": []
   },
   "outputs": [
    {
     "name": "stdout",
     "output_type": "stream",
     "text": [
      "HTMLを解析してみよう\n",
      "ニュースの最新記事一覧を取得してみよう\n",
      "リンク一覧をファイルに書き出そう\n",
      "画像を一括ダウンロードしよう\n"
     ]
    }
   ],
   "source": [
    "for element in chap2.find_all(\"li\"):\n",
    "    print(element.text)"
   ]
  },
  {
   "cell_type": "code",
   "execution_count": 22,
   "id": "470086ee-6764-4ab6-a310-ae1d1cb8554f",
   "metadata": {
    "tags": []
   },
   "outputs": [],
   "source": [
    "url = \"https://news.yahoo.co.jp/categories/it\"\n",
    "html = requests.get(url)\n",
    "soup = BeautifulSoup(html.content , \"html.parser\")"
   ]
  },
  {
   "cell_type": "code",
   "execution_count": 23,
   "id": "ce98d1a3-158e-4f96-a8a0-ae1bfdf0ae51",
   "metadata": {
    "tags": []
   },
   "outputs": [],
   "source": [
    "topic = soup.find(class_ = \"sc-dJYuPD dHtQoG topics\")"
   ]
  },
  {
   "cell_type": "code",
   "execution_count": 24,
   "id": "a9d948cc-7fd9-4f8b-8006-38f6103eb7fc",
   "metadata": {
    "tags": []
   },
   "outputs": [
    {
     "name": "stdout",
     "output_type": "stream",
     "text": [
      "アプリストアの独占是正へ 規制案\n",
      "マイナ問題 他人の年金記録閲覧可\n",
      "マイナ問題は数年続く可能性 識者\n",
      "アマプラで広告付きプラン計画か\n",
      "モバイルPASMO障害 現在は復旧\n",
      "「敗戦」の誤表示 J1鹿島が抗議\n",
      "クックパッド苦境 タイパ重視影響\n",
      "生成AI巡り知財保護へ方策 原案\n",
      "もっと見る\n",
      "アプリストアの独占是正へ 規制案\n"
     ]
    }
   ],
   "source": [
    "#そのクラスに何もデータがない場合はNoneが返ってくる\n",
    "for element in topic.find_all(\"a\"):\n",
    "    print(element.text)"
   ]
  },
  {
   "cell_type": "code",
   "execution_count": 25,
   "id": "76fa8020-75ef-4c4a-8a6d-f5a5e38051fd",
   "metadata": {
    "tags": []
   },
   "outputs": [
    {
     "name": "stdout",
     "output_type": "stream",
     "text": [
      "リンク1\n",
      "https://www.ymori.com/books/python2nen/test1.html\n",
      "リンク2\n",
      "./test3.html\n"
     ]
    }
   ],
   "source": [
    "load_url = \"https://www.ymori.com/books/python2nen/test2.html\"\n",
    "html = requests.get(load_url)\n",
    "soup = BeautifulSoup(html.content , \"html.parser\")\n",
    "\n",
    "for element in soup.find_all(\"a\"):\n",
    "    print(element.text)\n",
    "    url = element.get(\"href\")\n",
    "    print(url)"
   ]
  },
  {
   "cell_type": "code",
   "execution_count": 26,
   "id": "7d29a385-7121-4187-a188-a3763b91b092",
   "metadata": {
    "tags": []
   },
   "outputs": [],
   "source": [
    "import urllib"
   ]
  },
  {
   "cell_type": "code",
   "execution_count": 27,
   "id": "d1e940b5-ed86-425e-b78e-8a900a141b1d",
   "metadata": {
    "tags": []
   },
   "outputs": [
    {
     "name": "stdout",
     "output_type": "stream",
     "text": [
      "リンク1\n",
      "https://www.ymori.com/books/python2nen/test1.html\n",
      "リンク2\n",
      "https://www.ymori.com/books/python2nen/test3.html\n"
     ]
    }
   ],
   "source": [
    "for element in soup.find_all(\"a\"):\n",
    "    print(element.text)\n",
    "    url = element.get(\"href\")\n",
    "    link_url = urllib.parse.urljoin(load_url , url)\n",
    "    print(link_url)"
   ]
  },
  {
   "cell_type": "code",
   "execution_count": 28,
   "id": "072cc312-b19f-4e40-9159-d34d87eb1ce6",
   "metadata": {
    "tags": []
   },
   "outputs": [],
   "source": [
    "filename = \"linklist.txt\"\n",
    "with open(filename , \"w\") as f:\n",
    "    for element in soup.find_all(\"a\"):\n",
    "        link_url = urllib.parse.urljoin(load_url , url)\n",
    "        f.write(element.text + \"\\n\")\n",
    "        f.write(link_url + \"\\n\")\n",
    "        f.write(\"\\n\")"
   ]
  },
  {
   "cell_type": "code",
   "execution_count": 29,
   "id": "b5590f55-2050-4e3f-bc40-96ffea362f16",
   "metadata": {
    "tags": []
   },
   "outputs": [],
   "source": [
    "image_url = \"https://www.ymori.com/books/python2nen/sample1.png\"\n",
    "imgdata = requests.get(image_url)"
   ]
  },
  {
   "cell_type": "code",
   "execution_count": 30,
   "id": "4394298e-5c7c-4127-be6f-89c098f91da0",
   "metadata": {
    "tags": []
   },
   "outputs": [],
   "source": [
    "filename = image_url.split(\"/\")[-1]"
   ]
  },
  {
   "cell_type": "code",
   "execution_count": 31,
   "id": "ca7b5083-a138-43ff-9611-de1c9e366b14",
   "metadata": {
    "tags": []
   },
   "outputs": [
    {
     "data": {
      "text/plain": [
       "'sample1.png'"
      ]
     },
     "execution_count": 31,
     "metadata": {},
     "output_type": "execute_result"
    }
   ],
   "source": [
    "filename"
   ]
  },
  {
   "cell_type": "code",
   "execution_count": 32,
   "id": "71a229a8-e94f-46a6-b595-5869f4f1a1ea",
   "metadata": {
    "tags": []
   },
   "outputs": [],
   "source": [
    "with open(filename , mode=\"wb\") as f:\n",
    "    f.write(imgdata.content)"
   ]
  },
  {
   "cell_type": "code",
   "execution_count": 33,
   "id": "b712239f-3a49-4ca0-8406-fe3f6416b9a6",
   "metadata": {
    "tags": []
   },
   "outputs": [],
   "source": [
    "from pathlib import Path"
   ]
  },
  {
   "cell_type": "code",
   "execution_count": 34,
   "id": "060cc5a1-224e-49d0-8aa9-b303f6c11df4",
   "metadata": {
    "tags": []
   },
   "outputs": [],
   "source": [
    "out_folder = Path(\"/Users/kato/Desktop/python/mypython/2nen/0609\")\n",
    "out_folder.mkdir(exist_ok = True)"
   ]
  },
  {
   "cell_type": "code",
   "execution_count": 35,
   "id": "009677c0-8a5b-492a-96dc-cb0ebdef5d6f",
   "metadata": {
    "tags": []
   },
   "outputs": [],
   "source": [
    "image_url = \"https://www.ymori.com/books/python2nen/sample1.png\"\n",
    "imgdata = requests.get(image_url)\n",
    "filename = image_url.split(\"/\")[-1]\n",
    "out_path = out_folder.joinpath(filename)"
   ]
  },
  {
   "cell_type": "code",
   "execution_count": 36,
   "id": "8e071c6d-7c45-4e43-8faf-f1a61b8df76b",
   "metadata": {
    "tags": []
   },
   "outputs": [],
   "source": [
    "with open(out_path , mode=\"wb\") as f:\n",
    "    f.write(imgdata.content)"
   ]
  },
  {
   "cell_type": "code",
   "execution_count": 37,
   "id": "df10a74c-5bc2-4172-9536-a00f5838df31",
   "metadata": {
    "tags": []
   },
   "outputs": [
    {
     "name": "stdout",
     "output_type": "stream",
     "text": [
      "https://www.ymori.com/books/python2nen/sample1.png >> sample1.png\n",
      "https://www.ymori.com/books/python2nen/sample2.png >> sample2.png\n",
      "https://www.ymori.com/books/python2nen/sample3.png >> sample3.png\n"
     ]
    }
   ],
   "source": [
    "for element in soup.find_all(\"img\"):\n",
    "    src = element.get(\"src\")\n",
    "    image_url = urllib.parse.urljoin(load_url , src)\n",
    "    filename = image_url.split(\"/\")[-1]\n",
    "    print(image_url , \">>\" , filename)"
   ]
  },
  {
   "cell_type": "code",
   "execution_count": 41,
   "id": "b7ef2499-1b72-4a1f-b00f-6b4129d7ad09",
   "metadata": {
    "tags": []
   },
   "outputs": [],
   "source": [
    "import time"
   ]
  },
  {
   "cell_type": "code",
   "execution_count": 43,
   "id": "0eb8abde-dc40-443b-b659-7ae44e27ee5c",
   "metadata": {
    "tags": []
   },
   "outputs": [],
   "source": [
    "load_url = \"https://www.ymori.com/books/python2nen/test2.html\"\n",
    "html = requests.get(load_url)\n",
    "soup = BeautifulSoup(html.content , \"html.parser\")\n",
    "\n",
    "\n",
    "out_folder = Path(\"/Users/kato/Desktop/python/mypython/2nen/0609/download2\")\n",
    "out_folder.mkdir(exist_ok=True)\n",
    "\n",
    "\n",
    "for element in soup.find_all(\"img\"):\n",
    "    src = element.get(\"src\")\n",
    "    image_url = urllib.parse.urljoin(load_url , src)\n",
    "    imgdata = requests.get(image_url)\n",
    "    filename = image_url.split(\"/\")[-1]\n",
    "    out_path = out_folder.joinpath(filename)\n",
    "    with open(out_path , mode=\"wb\") as f:\n",
    "        f.write(imgdata.content)\n",
    "        time.sleep(1)"
   ]
  },
  {
   "cell_type": "code",
   "execution_count": 44,
   "id": "53b1456b-e022-42a8-85d5-83f4506910bf",
   "metadata": {
    "tags": []
   },
   "outputs": [],
   "source": [
    "import pandas as pd"
   ]
  },
  {
   "cell_type": "code",
   "execution_count": 45,
   "id": "b20da720-cb9d-457c-aab5-62e4a6d0a6c4",
   "metadata": {
    "tags": []
   },
   "outputs": [],
   "source": [
    "df = pd.read_csv(\"/Users/kato/Desktop/python/mypython/2nen/0609/13TOKYO.CSV\" , header=None , encoding=\"shift_jis\")"
   ]
  },
  {
   "cell_type": "code",
   "execution_count": 46,
   "id": "0da64858-1ffc-4abe-9152-dd2e23f1a6c9",
   "metadata": {
    "tags": []
   },
   "outputs": [
    {
     "name": "stdout",
     "output_type": "stream",
     "text": [
      "4046\n",
      "[ 0  1  2  3  4  5  6  7  8  9 10 11 12 13 14]\n"
     ]
    }
   ],
   "source": [
    "print(len(df))\n",
    "print(df.columns.values)"
   ]
  },
  {
   "cell_type": "code",
   "execution_count": 48,
   "id": "6f2a2700-4adb-4909-9bd7-ee1eedd2ae07",
   "metadata": {
    "tags": []
   },
   "outputs": [
    {
     "data": {
      "text/html": [
       "<div>\n",
       "<style scoped>\n",
       "    .dataframe tbody tr th:only-of-type {\n",
       "        vertical-align: middle;\n",
       "    }\n",
       "\n",
       "    .dataframe tbody tr th {\n",
       "        vertical-align: top;\n",
       "    }\n",
       "\n",
       "    .dataframe thead th {\n",
       "        text-align: right;\n",
       "    }\n",
       "</style>\n",
       "<table border=\"1\" class=\"dataframe\">\n",
       "  <thead>\n",
       "    <tr style=\"text-align: right;\">\n",
       "      <th></th>\n",
       "      <th>0</th>\n",
       "      <th>1</th>\n",
       "      <th>2</th>\n",
       "      <th>3</th>\n",
       "      <th>4</th>\n",
       "      <th>5</th>\n",
       "      <th>6</th>\n",
       "      <th>7</th>\n",
       "      <th>8</th>\n",
       "      <th>9</th>\n",
       "      <th>10</th>\n",
       "      <th>11</th>\n",
       "      <th>12</th>\n",
       "      <th>13</th>\n",
       "      <th>14</th>\n",
       "    </tr>\n",
       "  </thead>\n",
       "  <tbody>\n",
       "    <tr>\n",
       "      <th>0</th>\n",
       "      <td>13101</td>\n",
       "      <td>100</td>\n",
       "      <td>1000000</td>\n",
       "      <td>ﾄｳｷｮｳﾄ</td>\n",
       "      <td>ﾁﾖﾀﾞｸ</td>\n",
       "      <td>ｲｶﾆｹｲｻｲｶﾞﾅｲﾊﾞｱｲ</td>\n",
       "      <td>東京都</td>\n",
       "      <td>千代田区</td>\n",
       "      <td>以下に掲載がない場合</td>\n",
       "      <td>0</td>\n",
       "      <td>0</td>\n",
       "      <td>0</td>\n",
       "      <td>0</td>\n",
       "      <td>0</td>\n",
       "      <td>0</td>\n",
       "    </tr>\n",
       "    <tr>\n",
       "      <th>1</th>\n",
       "      <td>13101</td>\n",
       "      <td>102</td>\n",
       "      <td>1020072</td>\n",
       "      <td>ﾄｳｷｮｳﾄ</td>\n",
       "      <td>ﾁﾖﾀﾞｸ</td>\n",
       "      <td>ｲｲﾀﾞﾊﾞｼ</td>\n",
       "      <td>東京都</td>\n",
       "      <td>千代田区</td>\n",
       "      <td>飯田橋</td>\n",
       "      <td>0</td>\n",
       "      <td>0</td>\n",
       "      <td>1</td>\n",
       "      <td>0</td>\n",
       "      <td>0</td>\n",
       "      <td>0</td>\n",
       "    </tr>\n",
       "    <tr>\n",
       "      <th>2</th>\n",
       "      <td>13101</td>\n",
       "      <td>102</td>\n",
       "      <td>1020082</td>\n",
       "      <td>ﾄｳｷｮｳﾄ</td>\n",
       "      <td>ﾁﾖﾀﾞｸ</td>\n",
       "      <td>ｲﾁﾊﾞﾝﾁｮｳ</td>\n",
       "      <td>東京都</td>\n",
       "      <td>千代田区</td>\n",
       "      <td>一番町</td>\n",
       "      <td>0</td>\n",
       "      <td>0</td>\n",
       "      <td>0</td>\n",
       "      <td>0</td>\n",
       "      <td>0</td>\n",
       "      <td>0</td>\n",
       "    </tr>\n",
       "  </tbody>\n",
       "</table>\n",
       "</div>"
      ],
      "text/plain": [
       "      0    1        2       3      4                5    6     7           8    \n",
       "0  13101  100  1000000  ﾄｳｷｮｳﾄ  ﾁﾖﾀﾞｸ  ｲｶﾆｹｲｻｲｶﾞﾅｲﾊﾞｱｲ  東京都  千代田区  以下に掲載がない場合  \\\n",
       "1  13101  102  1020072  ﾄｳｷｮｳﾄ  ﾁﾖﾀﾞｸ          ｲｲﾀﾞﾊﾞｼ  東京都  千代田区         飯田橋   \n",
       "2  13101  102  1020082  ﾄｳｷｮｳﾄ  ﾁﾖﾀﾞｸ         ｲﾁﾊﾞﾝﾁｮｳ  東京都  千代田区         一番町   \n",
       "\n",
       "   9   10  11  12  13  14  \n",
       "0   0   0   0   0   0   0  \n",
       "1   0   0   1   0   0   0  \n",
       "2   0   0   0   0   0   0  "
      ]
     },
     "execution_count": 48,
     "metadata": {},
     "output_type": "execute_result"
    }
   ],
   "source": [
    "df.head(3)"
   ]
  },
  {
   "cell_type": "code",
   "execution_count": 50,
   "id": "8db1cb82-f20e-4431-b0f8-eb031da6bbdf",
   "metadata": {
    "tags": []
   },
   "outputs": [
    {
     "name": "stdout",
     "output_type": "stream",
     "text": [
      "            2    6    7   8\n",
      "2313  1600006  東京都  新宿区  舟町\n"
     ]
    }
   ],
   "source": [
    "result = df[df[2] == 1600006]\n",
    "print(result[[2,6,7,8]])"
   ]
  },
  {
   "cell_type": "code",
   "execution_count": 52,
   "id": "bd838869-94b4-4505-9aaf-a6200b4e91ea",
   "metadata": {
    "tags": []
   },
   "outputs": [
    {
     "name": "stdout",
     "output_type": "stream",
     "text": [
      "            2    6    7   8\n",
      "2323  1600004  東京都  新宿区  四谷\n",
      "3541  1830035  東京都  府中市  四谷\n"
     ]
    }
   ],
   "source": [
    "result = df[df[8] == \"四谷\"]\n",
    "print(result[[2,6,7,8]])"
   ]
  },
  {
   "cell_type": "code",
   "execution_count": 53,
   "id": "22901554-f49d-498e-b446-5951c7132618",
   "metadata": {
    "tags": []
   },
   "outputs": [
    {
     "name": "stdout",
     "output_type": "stream",
     "text": [
      "            2    6     7      8\n",
      "2323  1600004  東京都   新宿区     四谷\n",
      "2324  1600002  東京都   新宿区   四谷坂町\n",
      "2325  1600008  東京都   新宿区  四谷三栄町\n",
      "2326  1600003  東京都   新宿区  四谷本塩町\n",
      "3414  1930813  東京都  八王子市    四谷町\n",
      "3541  1830035  東京都   府中市     四谷\n"
     ]
    }
   ],
   "source": [
    "result = df[df[8].str.contains(\"四谷\")]\n",
    "print(result[[2,6,7,8]])"
   ]
  },
  {
   "cell_type": "code",
   "execution_count": null,
   "id": "4341eb60-f0c1-40d6-91e7-21d5bb6b7d1b",
   "metadata": {},
   "outputs": [],
   "source": []
  }
 ],
 "metadata": {
  "kernelspec": {
   "display_name": "Python 3 (ipykernel)",
   "language": "python",
   "name": "python3"
  },
  "language_info": {
   "codemirror_mode": {
    "name": "ipython",
    "version": 3
   },
   "file_extension": ".py",
   "mimetype": "text/x-python",
   "name": "python",
   "nbconvert_exporter": "python",
   "pygments_lexer": "ipython3",
   "version": "3.11.1"
  }
 },
 "nbformat": 4,
 "nbformat_minor": 5
}
