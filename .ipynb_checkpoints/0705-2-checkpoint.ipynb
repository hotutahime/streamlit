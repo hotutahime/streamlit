{
 "cells": [
  {
   "cell_type": "code",
   "execution_count": 1,
   "id": "1596a008-b03e-485c-b4b9-73c65a0431f1",
   "metadata": {
    "tags": []
   },
   "outputs": [],
   "source": [
    "import requests\n",
    "from bs4 import BeautifulSoup\n",
    "import time"
   ]
  },
  {
   "cell_type": "code",
   "execution_count": 2,
   "id": "cf6715bf-c192-4106-b13c-da74e59765e9",
   "metadata": {
    "tags": []
   },
   "outputs": [],
   "source": [
    "url = \"https://www.yahoo.co.jp/\""
   ]
  },
  {
   "cell_type": "code",
   "execution_count": 3,
   "id": "829bd701-77f5-4d00-9cbb-df0cbbef28d4",
   "metadata": {
    "tags": []
   },
   "outputs": [],
   "source": [
    "res = requests.get(url)"
   ]
  },
  {
   "cell_type": "code",
   "execution_count": 4,
   "id": "3a0534f3-2acb-4b63-8eb3-673890be1f9a",
   "metadata": {
    "tags": []
   },
   "outputs": [],
   "source": [
    "soup = BeautifulSoup(res.text, \"html.parser\")"
   ]
  },
  {
   "cell_type": "code",
   "execution_count": 5,
   "id": "6e8191bd-0465-4a3c-88b7-89cfe7273c39",
   "metadata": {
    "tags": []
   },
   "outputs": [],
   "source": [
    "elems = soup.find_all(\"a\")"
   ]
  },
  {
   "cell_type": "code",
   "execution_count": 6,
   "id": "72aaaab5-3660-4e20-b733-3310c19da2b9",
   "metadata": {
    "tags": []
   },
   "outputs": [
    {
     "data": {
      "text/plain": [
       "[<a class=\"yMWCYupQNdgppL-NV6sMi _3sAlKGsIBCxTUbNi86oSjt\" data-cl-params=\"_cl_vmodule:header;_cl_link:logo;_cl_position:0\" href=\"https://www.yahoo.co.jp\">Yahoo! JAPAN</a>,\n",
       " <a aria-label=\"プレミアムへ遷移する\" class=\"yMWCYupQNdgppL-NV6sMi _3sAlKGsIBCxTUbNi86oSjt\" data-cl-params=\"_cl_vmodule:header;_cl_link:premium;_cl_position:0\" href=\"https://rdr.yahoo.co.jp/v1/label=L3ByZW1pdW0veXRvcC9pY29uLw/p=premium_datalake/d=premium_redirect/tk=8d38b1c7-f7b7-4450-9332-535e226244ff/ru=aHR0cHM6Ly9wcmVtaXVtLnlhaG9vLmNvLmpwLw/\"><p class=\"oLvk9L5Yk-9JOuzi-OHW5\"><span class=\"t_jb9bKlgIcajcRS2hZAP\">プレミアム</span><span class=\"_2Uq6Pw5lfFfxr_OD36xHp6 _1dr5aVDbNPF63JCS2bJhij Y8gFtzzcdGMdFngRO9qFV\" style=\"width:36px;height:36px\"></span></p></a>,\n",
       " <a aria-label=\"カードへ遷移する\" class=\"yMWCYupQNdgppL-NV6sMi _3sAlKGsIBCxTUbNi86oSjt\" data-cl-params=\"_cl_vmodule:header;_cl_link:paypaycard;_cl_position:0\" href=\"https://www.paypay-card.co.jp?utm_source=YTOP&amp;utm_medium=mhd&amp;utm_campaign=pc\"><p class=\"oLvk9L5Yk-9JOuzi-OHW5\"><span class=\"t_jb9bKlgIcajcRS2hZAP\">カード</span><span class=\"_2Uq6Pw5lfFfxr_OD36xHp6 _1dr5aVDbNPF63JCS2bJhij P1WzQfoRll3q8GIGneUYg\" style=\"width:36px;height:38px\"></span></p></a>,\n",
       " <a aria-label=\"メールへ遷移する\" class=\"yMWCYupQNdgppL-NV6sMi _3sAlKGsIBCxTUbNi86oSjt\" data-cl-params=\"_cl_vmodule:header;_cl_link:mail;_cl_position:0\" href=\"https://mail.yahoo.co.jp/\"><p class=\"oLvk9L5Yk-9JOuzi-OHW5\"><span class=\"t_jb9bKlgIcajcRS2hZAP\">メール</span><span class=\"_2Uq6Pw5lfFfxr_OD36xHp6 _1dr5aVDbNPF63JCS2bJhij _3Qi5P0lTFbNkWishPzz8tb\" style=\"width:36px;height:38px\"></span></p></a>,\n",
       " <a aria-label=\"トラベルへ遷移する\" class=\"yMWCYupQNdgppL-NV6sMi _3sAlKGsIBCxTUbNi86oSjt\" data-cl-params=\"_cl_vmodule:header;_cl_link:travel;_cl_position:0\" href=\"https://travel.yahoo.co.jp/ikCo.ashx?cosid=y_010017&amp;cosuid=ytmh&amp;surl=%2F&amp;sc_e=ytmh\"><p class=\"oLvk9L5Yk-9JOuzi-OHW5\"><span class=\"t_jb9bKlgIcajcRS2hZAP\">トラベル</span><span class=\"_2Uq6Pw5lfFfxr_OD36xHp6 _1dr5aVDbNPF63JCS2bJhij _1yEKxUFSw-Xv2gaBZsYRuI\" style=\"width:38px;height:38px\"></span></p></a>,\n",
       " <a aria-label=\"ヤフオク!へ遷移する\" class=\"yMWCYupQNdgppL-NV6sMi _3sAlKGsIBCxTUbNi86oSjt\" data-cl-params=\"_cl_vmodule:header;_cl_link:auction;_cl_position:0\" href=\"https://auctions.yahoo.co.jp/\"><p class=\"oLvk9L5Yk-9JOuzi-OHW5\"><span class=\"t_jb9bKlgIcajcRS2hZAP\">ヤフオク!</span><span class=\"_2Uq6Pw5lfFfxr_OD36xHp6 _1dr5aVDbNPF63JCS2bJhij _1K47f2oTmrnpusFOpVVqfY\" style=\"width:38px;height:38px\"></span></p></a>,\n",
       " <a aria-label=\"ショッピングへ遷移する\" class=\"yMWCYupQNdgppL-NV6sMi _3sAlKGsIBCxTUbNi86oSjt\" data-cl-params=\"_cl_vmodule:header;_cl_link:shopping;_cl_position:0\" href=\"https://shopping.yahoo.co.jp/?sc_e=ytmh\"><p class=\"oLvk9L5Yk-9JOuzi-OHW5\"><span class=\"t_jb9bKlgIcajcRS2hZAP\">ショッピング</span><span class=\"_2Uq6Pw5lfFfxr_OD36xHp6 _1dr5aVDbNPF63JCS2bJhij MOLSPrtOUmdnYy_LgNt2f\" style=\"width:38px;height:38px\"></span></p></a>,\n",
       " <a aria-label=\"ウェブで検索\" class=\"y9H1Sj9hz4OlEq2_aEt5E\" data-cl-params=\"_cl_vmodule:search;_cl_link:web_tab;_cl_position:0\" href=\"https://search.yahoo.co.jp/\" tabindex=\"-1\"><span class=\"fQMqQTGJTbIMxjQwZA2zk _3tGRl6x9iIWRiFTkKl3kcR\"><span class=\"_1uQvvM7M_K0hc4e29lRa8 _2B_ETzo6nh1JNMLebSi_2p\">ウェブ</span></span></a>,\n",
       " <a aria-label=\"画像で検索\" class=\"y9H1Sj9hz4OlEq2_aEt5E\" data-cl-params=\"_cl_vmodule:search;_cl_link:img;_cl_position:0\" href=\"https://search.yahoo.co.jp/image\" tabindex=\"-1\"><span class=\"fQMqQTGJTbIMxjQwZA2zk _3tGRl6x9iIWRiFTkKl3kcR\"><span class=\"_1uQvvM7M_K0hc4e29lRa8\">画像</span></span></a>,\n",
       " <a aria-label=\"動画で検索\" class=\"y9H1Sj9hz4OlEq2_aEt5E\" data-cl-params=\"_cl_vmodule:search;_cl_link:vd;_cl_position:0\" href=\"https://search.yahoo.co.jp/video\" tabindex=\"-1\"><span class=\"fQMqQTGJTbIMxjQwZA2zk _3tGRl6x9iIWRiFTkKl3kcR\"><span class=\"_1uQvvM7M_K0hc4e29lRa8\">動画</span></span></a>,\n",
       " <a aria-label=\"知恵袋で検索\" class=\"y9H1Sj9hz4OlEq2_aEt5E\" data-cl-params=\"_cl_vmodule:search;_cl_link:chie;_cl_position:0\" href=\"https://chiebukuro.yahoo.co.jp/\" tabindex=\"-1\"><span class=\"fQMqQTGJTbIMxjQwZA2zk _3tGRl6x9iIWRiFTkKl3kcR\"><span class=\"_1uQvvM7M_K0hc4e29lRa8\">知恵袋</span></span></a>,\n",
       " <a aria-label=\"地図で検索\" class=\"y9H1Sj9hz4OlEq2_aEt5E\" data-cl-params=\"_cl_vmodule:search;_cl_link:map;_cl_position:0\" href=\"https://map.yahoo.co.jp/\" tabindex=\"-1\"><span class=\"fQMqQTGJTbIMxjQwZA2zk _3tGRl6x9iIWRiFTkKl3kcR\"><span class=\"_1uQvvM7M_K0hc4e29lRa8\">地図</span></span></a>,\n",
       " <a aria-label=\"リアルタイムで検索\" class=\"y9H1Sj9hz4OlEq2_aEt5E\" data-cl-params=\"_cl_vmodule:search;_cl_link:realtime;_cl_position:0\" href=\"https://search.yahoo.co.jp/realtime\" tabindex=\"-1\"><span class=\"fQMqQTGJTbIMxjQwZA2zk _3tGRl6x9iIWRiFTkKl3kcR\"><span class=\"_1uQvvM7M_K0hc4e29lRa8\">リアルタイム</span></span></a>,\n",
       " <a aria-label=\"一覧で検索\" class=\"y9H1Sj9hz4OlEq2_aEt5E\" data-cl-params=\"_cl_vmodule:search;_cl_link:svc;_cl_position:0\" href=\"https://services.yahoo.co.jp/\" tabindex=\"-1\"><span class=\"fQMqQTGJTbIMxjQwZA2zk _3tGRl6x9iIWRiFTkKl3kcR\"><span class=\"_1uQvvM7M_K0hc4e29lRa8\">一覧</span></span></a>,\n",
       " <a class=\"_1NzGMsC3awTFzjzXnvX-zV\" data-cl-params=\"_cl_vmodule:message;_cl_link:jsof;_cl_position:0\" href=\"https://support.yahoo-net.jp/noscript\">JavaScriptの設定方法</a>,\n",
       " <a class=\"yMWCYupQNdgppL-NV6sMi _3sAlKGsIBCxTUbNi86oSjt\" data-cl-params=\"_cl_vmodule:toplink;_cl_link:link;_cl_position:1;aid:3720737\" href=\"https://shopping.yahoo.co.jp/promotion/sale/ppf/?sc_e=yttl_pc_ppf202307\"><span class=\"fQMqQTGJTbIMxjQwZA2zk _3tGRl6x9iIWRiFTkKl3kcR\"><span class=\"_3S2Wdrkt1LKANaWcLrZToT\">事前購入などで7/29～31は最大24.5％戻ってくる</span></span></a>,\n",
       " <a class=\"yMWCYupQNdgppL-NV6sMi _3sAlKGsIBCxTUbNi86oSjt\" data-cl-params=\"_cl_vmodule:toplink;_cl_link:link;_cl_position:2;aid:3720761\" href=\"https://paypayfleamarket.yahoo.co.jp/feature/game?cpt_s=ytopmedia&amp;cpt_m=hensei&amp;cpt_n=tlnk&amp;cpt_c=feature\"><span class=\"fQMqQTGJTbIMxjQwZA2zk _3tGRl6x9iIWRiFTkKl3kcR\"><span class=\"_3S2Wdrkt1LKANaWcLrZToT\">Switchやファミコンなど出品中　ゲーム特集</span></span></a>,\n",
       " <a class=\"yMWCYupQNdgppL-NV6sMi _3sAlKGsIBCxTUbNi86oSjt\" data-cl-params=\"_cl_vmodule:toplink;_cl_link:link;_cl_position:3;aid:3720755\" href=\"https://shopping.yahoo.co.jp/promotion/campaign/5day/?sc_e=yttl_pc_5day\"><span class=\"fQMqQTGJTbIMxjQwZA2zk _3tGRl6x9iIWRiFTkKl3kcR\"><span class=\"_3S2Wdrkt1LKANaWcLrZToT\">「5のつく日」買い物が4％おトク</span></span></a>,\n",
       " <a aria-label=\"ショッピングへ遷移する\" class=\"yMWCYupQNdgppL-NV6sMi _3sAlKGsIBCxTUbNi86oSjt cl-nofollow\" href=\"https://shopping.yahoo.co.jp/?sc_e=ytc\"><p class=\"_2bBRLhI5ZpVYu0tuHZEFrn\"><span class=\"pz0On1w4yAviBGMdKItoQ\"><span class=\"fQMqQTGJTbIMxjQwZA2zk _3tGRl6x9iIWRiFTkKl3kcR\">ショッピング</span></span><span class=\"_1Al3K70np2V_Ev1eGkfsBm\"><span class=\"_2Uq6Pw5lfFfxr_OD36xHp6 _1dr5aVDbNPF63JCS2bJhij MOLSPrtOUmdnYy_LgNt2f\" style=\"width:20px;height:20px\"></span></span></p></a>,\n",
       " <a aria-label=\"ヤフオク!へ遷移する\" class=\"yMWCYupQNdgppL-NV6sMi _3sAlKGsIBCxTUbNi86oSjt cl-nofollow\" href=\"https://auctions.yahoo.co.jp\"><p class=\"_2bBRLhI5ZpVYu0tuHZEFrn\"><span class=\"pz0On1w4yAviBGMdKItoQ\"><span class=\"fQMqQTGJTbIMxjQwZA2zk _3tGRl6x9iIWRiFTkKl3kcR\">ヤフオク!</span></span><span class=\"_1Al3K70np2V_Ev1eGkfsBm\"><span class=\"_2Uq6Pw5lfFfxr_OD36xHp6 _1dr5aVDbNPF63JCS2bJhij _1K47f2oTmrnpusFOpVVqfY\" style=\"width:20px;height:20px\"></span></span></p></a>,\n",
       " <a aria-label=\"PayPayフリマへ遷移する\" class=\"yMWCYupQNdgppL-NV6sMi _3sAlKGsIBCxTUbNi86oSjt cl-nofollow\" href=\"https://app.adjust.com/1kmi1m2?redirect=https%3A%2F%2Fpaypayfleamarket.yahoo.co.jp%2F%3Fcpt_s%3Dytopmedia%26cpt_m%3Dkotei%26cpt_n%3Dcontent%26cpt_c%3Dytopmedia\"><p class=\"_2bBRLhI5ZpVYu0tuHZEFrn\"><span class=\"pz0On1w4yAviBGMdKItoQ\"><span class=\"fQMqQTGJTbIMxjQwZA2zk _3tGRl6x9iIWRiFTkKl3kcR\">PayPayフリマ</span></span><span class=\"_1Al3K70np2V_Ev1eGkfsBm\"><span class=\"_2Uq6Pw5lfFfxr_OD36xHp6 _1dr5aVDbNPF63JCS2bJhij _3zb-zxOYGPoHJ2-_Ie8y8T\" style=\"width:20px;height:20px\"></span></span></p></a>,\n",
       " <a aria-label=\"ZOZOTOWNへ遷移する\" class=\"yMWCYupQNdgppL-NV6sMi _3sAlKGsIBCxTUbNi86oSjt cl-nofollow\" href=\"https://zozo.jp/?utm_source=yahoo&amp;utm_medium=referral&amp;utm_campaign=web_ytop-leftcolumn\"><p class=\"_2bBRLhI5ZpVYu0tuHZEFrn\"><span class=\"pz0On1w4yAviBGMdKItoQ\"><span class=\"fQMqQTGJTbIMxjQwZA2zk _3tGRl6x9iIWRiFTkKl3kcR\">ZOZOTOWN</span></span><span class=\"_1Al3K70np2V_Ev1eGkfsBm\"><span class=\"_2Uq6Pw5lfFfxr_OD36xHp6 _1dr5aVDbNPF63JCS2bJhij _2VdNwkD_q8hjK0ZyvATgab\" style=\"width:20px;height:20px\"></span></span></p></a>,\n",
       " <a aria-label=\"LOHACOへ遷移する\" class=\"yMWCYupQNdgppL-NV6sMi _3sAlKGsIBCxTUbNi86oSjt cl-nofollow\" href=\"https://lohaco.yahoo.co.jp/?bk=t&amp;sc_e=j_as_ya_tc_n&amp;iscr=1\"><p class=\"_2bBRLhI5ZpVYu0tuHZEFrn\"><span class=\"pz0On1w4yAviBGMdKItoQ\"><span class=\"fQMqQTGJTbIMxjQwZA2zk _3tGRl6x9iIWRiFTkKl3kcR\">LOHACO</span></span><span class=\"_1Al3K70np2V_Ev1eGkfsBm\"><span class=\"_2Uq6Pw5lfFfxr_OD36xHp6 _1dr5aVDbNPF63JCS2bJhij _3xvmznkMqRitO0Iqn3ckur\" style=\"width:20px;height:20px\"></span></span></p></a>,\n",
       " <a aria-label=\"トラベルへ遷移する\" class=\"yMWCYupQNdgppL-NV6sMi _3sAlKGsIBCxTUbNi86oSjt cl-nofollow\" href=\"https://travel.yahoo.co.jp/ikCo.ashx?cosid=y_010002&amp;cosuid=ytsl&amp;surl=%2F&amp;sc_e=ytsl\"><p class=\"_2bBRLhI5ZpVYu0tuHZEFrn\"><span class=\"pz0On1w4yAviBGMdKItoQ\"><span class=\"fQMqQTGJTbIMxjQwZA2zk _3tGRl6x9iIWRiFTkKl3kcR\">トラベル</span></span><span class=\"_1Al3K70np2V_Ev1eGkfsBm\"><span class=\"_2Uq6Pw5lfFfxr_OD36xHp6 _1dr5aVDbNPF63JCS2bJhij _1yEKxUFSw-Xv2gaBZsYRuI\" style=\"width:20px;height:20px\"></span></span></p></a>,\n",
       " <a aria-label=\"一休.comへ遷移する\" class=\"yMWCYupQNdgppL-NV6sMi _3sAlKGsIBCxTUbNi86oSjt cl-nofollow\" href=\"https://www.ikyu.com/ikCo.ashx?cosid=ik010002&amp;surl=%2F&amp;sc_e=ytc_pc_ikyu\"><p class=\"_2bBRLhI5ZpVYu0tuHZEFrn\"><span class=\"pz0On1w4yAviBGMdKItoQ\"><span class=\"fQMqQTGJTbIMxjQwZA2zk _3tGRl6x9iIWRiFTkKl3kcR\">一休.com</span></span><span class=\"_1Al3K70np2V_Ev1eGkfsBm\"><span class=\"_2Uq6Pw5lfFfxr_OD36xHp6 _1dr5aVDbNPF63JCS2bJhij daLkyi7PiGXeFyVYTU_9n\" style=\"width:20px;height:20px\"></span></span></p></a>,\n",
       " <a aria-label=\"一休.comレストランへ遷移する\" class=\"yMWCYupQNdgppL-NV6sMi _3sAlKGsIBCxTUbNi86oSjt cl-nofollow\" href=\"https://restaurant.ikyu.com/rsCosite.asp?CosNo=10000175&amp;CosUrl=\"><p class=\"_2bBRLhI5ZpVYu0tuHZEFrn\"><span class=\"pz0On1w4yAviBGMdKItoQ\"><span class=\"fQMqQTGJTbIMxjQwZA2zk _3tGRl6x9iIWRiFTkKl3kcR\">一休.comレストラン</span></span><span class=\"_1Al3K70np2V_Ev1eGkfsBm\"><span class=\"_2Uq6Pw5lfFfxr_OD36xHp6 _1dr5aVDbNPF63JCS2bJhij _1z4Le4zkghapVZCQm9RCy8\" style=\"width:20px;height:20px\"></span></span></p></a>,\n",
       " <a aria-label=\"PayPayグルメへ遷移する\" class=\"yMWCYupQNdgppL-NV6sMi _3sAlKGsIBCxTUbNi86oSjt cl-nofollow\" href=\"https://paypaygourmet.yahoo.co.jp/?sc_e=ytc\"><p class=\"_2bBRLhI5ZpVYu0tuHZEFrn\"><span class=\"pz0On1w4yAviBGMdKItoQ\"><span class=\"fQMqQTGJTbIMxjQwZA2zk _3tGRl6x9iIWRiFTkKl3kcR\">PayPayグルメ</span></span><span class=\"_1Al3K70np2V_Ev1eGkfsBm\"><span class=\"_2Uq6Pw5lfFfxr_OD36xHp6 _1dr5aVDbNPF63JCS2bJhij PgUs6FV7zVPjsTeGUP8wT\" style=\"width:20px;height:20px\"></span></span></p></a>,\n",
       " <a aria-label=\"出前館へ遷移する\" class=\"yMWCYupQNdgppL-NV6sMi _3sAlKGsIBCxTUbNi86oSjt cl-nofollow\" href=\"https://demae-can.com/?utm_source=yahoo&amp;utm_medium=toplink&amp;utm_campaign=demaecantop\"><p class=\"_2bBRLhI5ZpVYu0tuHZEFrn\"><span class=\"pz0On1w4yAviBGMdKItoQ\"><span class=\"fQMqQTGJTbIMxjQwZA2zk _3tGRl6x9iIWRiFTkKl3kcR\">出前館</span></span><span class=\"_1Al3K70np2V_Ev1eGkfsBm\"><span class=\"_2Uq6Pw5lfFfxr_OD36xHp6 _1dr5aVDbNPF63JCS2bJhij NuRliOifOckuQ9kobVaI9\" style=\"width:20px;height:20px\"></span></span></p></a>,\n",
       " <a aria-label=\"Yahoo! JAPANのサービス一覧\" class=\"yMWCYupQNdgppL-NV6sMi _3sAlKGsIBCxTUbNi86oSjt\" data-cl-params=\"_cl_vmodule:tool;_cl_link:list;_cl_position:0\" href=\"https://services.yahoo.co.jp/\"><dl class=\"STepvEgbaZ0rLEqfER-qm\"><dt class=\"W2bretj6vyf8QDes2gkQA\"><span class=\"fQMqQTGJTbIMxjQwZA2zk _3tGRl6x9iIWRiFTkKl3kcR\">サービス一覧</span></dt><dd class=\"_37zK--zuySKLzNE12rgdHL\"><span class=\"_2Uq6Pw5lfFfxr_OD36xHp6 _1dr5aVDbNPF63JCS2bJhij _3WrFs0ChLr_s9-gBqS7yts\" style=\"width:12px;height:12px\"></span></dd></dl></a>,\n",
       " <a class=\"yMWCYupQNdgppL-NV6sMi _3sAlKGsIBCxTUbNi86oSjt\" data-cl-params=\"_cl_vmodule:tpto;_cl_link:title;_cl_position:1;tpid:6468514;imgsize:s;cmt_num:4749\" data-ual-gotocontent=\"true\" href=\"https://news.yahoo.co.jp/pickup/6468514\"><div class=\"_2cXD1uC4eaOih4-zkRgqjU\"><div class=\"TRuzXRRZHRqbqgLUCCco9\"><h1 class=\"_3cl937Zpn1ce8mDKd5kp7u\"><span class=\"fQMqQTGJTbIMxjQwZA2zk _1alzSpTqJzvSVUWqpx82d4\">日本医師会「第9波になっている」</span></h1></div></div></a>,\n",
       " <a class=\"yMWCYupQNdgppL-NV6sMi _3sAlKGsIBCxTUbNi86oSjt\" data-cl-params=\"_cl_vmodule:tpto;_cl_link:title;_cl_position:2;tpid:6468519;imgsize:s;cmt_num:59\" data-ual-gotocontent=\"true\" href=\"https://news.yahoo.co.jp/pickup/6468519\"><div class=\"_2cXD1uC4eaOih4-zkRgqjU\"><div class=\"TRuzXRRZHRqbqgLUCCco9\"><h1 class=\"_3cl937Zpn1ce8mDKd5kp7u\"><span class=\"fQMqQTGJTbIMxjQwZA2zk _1alzSpTqJzvSVUWqpx82d4\">九州7日から大雨恐れ 6日に対策を</span></h1></div></div></a>,\n",
       " <a class=\"yMWCYupQNdgppL-NV6sMi _3sAlKGsIBCxTUbNi86oSjt\" data-cl-params=\"_cl_vmodule:tpto;_cl_link:title;_cl_position:3;tpid:6468521;imgsize:s;cmt_num:259\" data-ual-gotocontent=\"true\" href=\"https://news.yahoo.co.jp/pickup/6468521\"><div class=\"_2cXD1uC4eaOih4-zkRgqjU\"><div class=\"TRuzXRRZHRqbqgLUCCco9\"><h1 class=\"_3cl937Zpn1ce8mDKd5kp7u\"><span class=\"fQMqQTGJTbIMxjQwZA2zk _1alzSpTqJzvSVUWqpx82d4\">SBI 台湾大手と半導体工場建設へ</span></h1><span class=\"_2obRU_TgAxzHaYqOXrZYlv\"><span class=\"h4yLXygiSc5wwNlJOQEdz _1dr5aVDbNPF63JCS2bJhij _2M3AyDfFaeJl3Uo7lUPMAp\" style=\"width:30px;height:12px\">NEW</span></span></div></div></a>,\n",
       " <a class=\"yMWCYupQNdgppL-NV6sMi _3sAlKGsIBCxTUbNi86oSjt\" data-cl-params=\"_cl_vmodule:tpto;_cl_link:title;_cl_position:4;tpid:6468526;imgsize:s;cmt_num:0\" data-ual-gotocontent=\"true\" href=\"https://news.yahoo.co.jp/pickup/6468526\"><div class=\"_2cXD1uC4eaOih4-zkRgqjU\"><div class=\"TRuzXRRZHRqbqgLUCCco9\"><h1 class=\"_3cl937Zpn1ce8mDKd5kp7u\"><span class=\"fQMqQTGJTbIMxjQwZA2zk _1alzSpTqJzvSVUWqpx82d4\">溺れた娘助け 妻に渡した後夫死亡</span></h1><span class=\"_2obRU_TgAxzHaYqOXrZYlv\"><span class=\"h4yLXygiSc5wwNlJOQEdz _1dr5aVDbNPF63JCS2bJhij _2M3AyDfFaeJl3Uo7lUPMAp\" style=\"width:30px;height:12px\">NEW</span></span></div></div></a>,\n",
       " <a class=\"yMWCYupQNdgppL-NV6sMi _3sAlKGsIBCxTUbNi86oSjt\" data-cl-params=\"_cl_vmodule:tpto;_cl_link:title;_cl_position:5;tpid:6468525;imgsize:s;cmt_num:207\" data-ual-gotocontent=\"true\" href=\"https://news.yahoo.co.jp/pickup/6468525\"><div class=\"_2cXD1uC4eaOih4-zkRgqjU\"><div class=\"TRuzXRRZHRqbqgLUCCco9\"><h1 class=\"_3cl937Zpn1ce8mDKd5kp7u\"><span class=\"fQMqQTGJTbIMxjQwZA2zk _1alzSpTqJzvSVUWqpx82d4\">横田基地でPFAS漏出 米軍認める</span></h1><span class=\"_2obRU_TgAxzHaYqOXrZYlv\"><span class=\"h4yLXygiSc5wwNlJOQEdz _1dr5aVDbNPF63JCS2bJhij _2M3AyDfFaeJl3Uo7lUPMAp\" style=\"width:30px;height:12px\">NEW</span></span></div></div></a>,\n",
       " <a class=\"yMWCYupQNdgppL-NV6sMi _3sAlKGsIBCxTUbNi86oSjt\" data-cl-params=\"_cl_vmodule:tpto;_cl_link:title;_cl_position:6;tpid:6468527;imgsize:s;cmt_num:141\" data-ual-gotocontent=\"true\" href=\"https://news.yahoo.co.jp/pickup/6468527\"><div class=\"_2cXD1uC4eaOih4-zkRgqjU\"><div class=\"TRuzXRRZHRqbqgLUCCco9\"><h1 class=\"_3cl937Zpn1ce8mDKd5kp7u\"><span class=\"fQMqQTGJTbIMxjQwZA2zk _1alzSpTqJzvSVUWqpx82d4\">梅毒の感染者増 妊娠中は特に危険</span></h1><span class=\"_2obRU_TgAxzHaYqOXrZYlv\"><span class=\"h4yLXygiSc5wwNlJOQEdz _1dr5aVDbNPF63JCS2bJhij _2M3AyDfFaeJl3Uo7lUPMAp\" style=\"width:30px;height:12px\">NEW</span></span></div></div></a>,\n",
       " <a class=\"yMWCYupQNdgppL-NV6sMi _3sAlKGsIBCxTUbNi86oSjt\" data-cl-params=\"_cl_vmodule:tpto;_cl_link:title;_cl_position:7;tpid:6468522;imgsize:s;cmt_num:762\" data-ual-gotocontent=\"true\" href=\"https://news.yahoo.co.jp/pickup/6468522\"><div class=\"_2cXD1uC4eaOih4-zkRgqjU\"><div class=\"TRuzXRRZHRqbqgLUCCco9\"><h1 class=\"_3cl937Zpn1ce8mDKd5kp7u\"><span class=\"fQMqQTGJTbIMxjQwZA2zk _1alzSpTqJzvSVUWqpx82d4\">鳥羽氏 調理専門校の学部長を退任</span></h1></div></div></a>,\n",
       " <a class=\"yMWCYupQNdgppL-NV6sMi _3sAlKGsIBCxTUbNi86oSjt\" data-cl-params=\"_cl_vmodule:tpto;_cl_link:title;_cl_position:8;tpid:6468472;imgsize:s;cmt_num:804\" data-ual-gotocontent=\"true\" href=\"https://news.yahoo.co.jp/pickup/6468472\"><div class=\"_2cXD1uC4eaOih4-zkRgqjU\"><div class=\"TRuzXRRZHRqbqgLUCCco9\"><h1 class=\"_3cl937Zpn1ce8mDKd5kp7u\"><span class=\"fQMqQTGJTbIMxjQwZA2zk _1alzSpTqJzvSVUWqpx82d4\">大谷 球宴で登板「厳しくなった」</span></h1></div></div></a>,\n",
       " <a class=\"yMWCYupQNdgppL-NV6sMi _3sAlKGsIBCxTUbNi86oSjt\" data-cl-params=\"_cl_vmodule:tpto;_cl_link:title;_cl_position:9;imgsize:l\" href=\"https://news.yahoo.co.jp/articles/ecf6d483e21dfbfb3efcdf840884a5c71e002956/images/000\"><div class=\"_1EYwdR4JxrwgpIvWk7vO3f\"><h1 class=\"RS4h_eDWC6FIIyYMupWR0\"><span class=\"fQMqQTGJTbIMxjQwZA2zk _1alzSpTqJzvSVUWqpx82d4\">風太20歳</span></h1><p class=\"_2e8OreFgYIc3gdzYJLKAMA\"><time class=\"_1GD9Sx7FpCs4EuL3bT974r\">7/5(水) 17:38</time></p><div class=\"_1pfcRKnf6y-2AXzpXf0vrb\"><cite class=\"O9jggTRv0zy3XcPayfJLa\">千葉日報オンライン</cite></div><div class=\"_1UmUawjY6VSzmTK3Y-1sjq\"><span class=\"rStpk9W4eUO5IMVhnJylj\"><picture><source srcset=\"https://news-pctr.c.yimg.jp/t/news-topics/images/tpc/2023/7/5/f50e9d872fad5c7dd94c2013be3d26b2505e3d2b0a57bc913726d2fa35566103.jpg?h=200&amp;w=200&amp;pri=l&amp;fmt=webp\" type=\"image/webp\"/><img alt=\"\" height=\"59.9625\" src=\"https://news-pctr.c.yimg.jp/t/news-topics/images/tpc/2023/7/5/f50e9d872fad5c7dd94c2013be3d26b2505e3d2b0a57bc913726d2fa35566103.jpg?h=200&amp;w=200&amp;pri=l\" width=\"90\"/></picture></span></div></div></a>,\n",
       " <a class=\"yMWCYupQNdgppL-NV6sMi _3sAlKGsIBCxTUbNi86oSjt\" data-cl-params=\"_cl_vmodule:tpto;_cl_link:more;_cl_position:0\" href=\"https://news.yahoo.co.jp/topics/top-picks\">もっと見る</a>,\n",
       " <a class=\"yMWCYupQNdgppL-NV6sMi _3sAlKGsIBCxTUbNi86oSjt\" data-cl-params=\"_cl_vmodule:tpto;_cl_link:list;_cl_position:0\" href=\"https://news.yahoo.co.jp/topics\">トピックス一覧</a>,\n",
       " <a class=\"yMWCYupQNdgppL-NV6sMi _3sAlKGsIBCxTUbNi86oSjt\" data-cl-params=\"_cl_link:comp;_cl_position:0\" href=\"https://about.yahoo.co.jp/\">会社概要</a>,\n",
       " <a class=\"yMWCYupQNdgppL-NV6sMi _3sAlKGsIBCxTUbNi86oSjt\" data-cl-params=\"_cl_link:soc;_cl_position:0\" href=\"https://about.yahoo.co.jp/csr/\">社会的責任</a>,\n",
       " <a class=\"yMWCYupQNdgppL-NV6sMi _3sAlKGsIBCxTUbNi86oSjt\" data-cl-params=\"_cl_link:ad;_cl_position:0\" href=\"https://marketing.yahoo.co.jp/\">広告掲載について</a>,\n",
       " <a class=\"yMWCYupQNdgppL-NV6sMi _3sAlKGsIBCxTUbNi86oSjt\" data-cl-params=\"_cl_link:hr;_cl_position:0\" href=\"https://about.yahoo.co.jp/hr/\">採用情報</a>,\n",
       " <a class=\"yMWCYupQNdgppL-NV6sMi _3sAlKGsIBCxTUbNi86oSjt\" data-cl-params=\"_cl_link:agreement;_cl_position:0\" href=\"https://about.yahoo.co.jp/common/terms/\">利用規約</a>,\n",
       " <a class=\"yMWCYupQNdgppL-NV6sMi _3sAlKGsIBCxTUbNi86oSjt\" data-cl-params=\"_cl_link:disc;_cl_position:0\" href=\"https://about.yahoo.co.jp/common/disclaimer/\">免責事項</a>,\n",
       " <a class=\"yMWCYupQNdgppL-NV6sMi _3sAlKGsIBCxTUbNi86oSjt\" data-cl-params=\"_cl_link:state;_cl_position:0\" href=\"https://about.yahoo.co.jp/common/mediastatement/\">メディアステートメント</a>,\n",
       " <a class=\"yMWCYupQNdgppL-NV6sMi _3sAlKGsIBCxTUbNi86oSjt\" data-cl-params=\"_cl_link:policy;_cl_position:0\" href=\"https://privacy.yahoo.co.jp/\">プライバシー</a>,\n",
       " <a class=\"yMWCYupQNdgppL-NV6sMi _3sAlKGsIBCxTUbNi86oSjt\" data-cl-params=\"_cl_link:z_comp;_cl_position:0\" href=\"https://www.z-holdings.co.jp/\">会社概要</a>,\n",
       " <a class=\"yMWCYupQNdgppL-NV6sMi _3sAlKGsIBCxTUbNi86oSjt\" data-cl-params=\"_cl_link:ir;_cl_position:0\" href=\"https://www.z-holdings.co.jp/ir/\">投資家情報</a>]"
      ]
     },
     "execution_count": 6,
     "metadata": {},
     "output_type": "execute_result"
    }
   ],
   "source": [
    "elems"
   ]
  },
  {
   "cell_type": "code",
   "execution_count": null,
   "id": "abab6a59-0f0c-4bf6-a2ef-26cd0717343d",
   "metadata": {},
   "outputs": [],
   "source": []
  }
 ],
 "metadata": {
  "kernelspec": {
   "display_name": "Python 3 (ipykernel)",
   "language": "python",
   "name": "python3"
  },
  "language_info": {
   "codemirror_mode": {
    "name": "ipython",
    "version": 3
   },
   "file_extension": ".py",
   "mimetype": "text/x-python",
   "name": "python",
   "nbconvert_exporter": "python",
   "pygments_lexer": "ipython3",
   "version": "3.11.1"
  }
 },
 "nbformat": 4,
 "nbformat_minor": 5
}
