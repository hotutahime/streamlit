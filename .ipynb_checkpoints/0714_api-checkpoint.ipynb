{
 "cells": [
  {
   "cell_type": "code",
   "execution_count": 213,
   "id": "8e23dcb3-4c53-400e-8f2b-96ed9253f95e",
   "metadata": {
    "tags": []
   },
   "outputs": [],
   "source": [
    "import pandas as pd\n",
    "import requests\n",
    "import pprint\n",
    "import json"
   ]
  },
  {
   "cell_type": "code",
   "execution_count": 214,
   "id": "ac21810c-a810-4857-ac39-8170f666d4d2",
   "metadata": {
    "tags": []
   },
   "outputs": [],
   "source": [
    "# url = \"https://api.aoikujira.com/tenki/week.php?fmt=json&city=青森\""
   ]
  },
  {
   "cell_type": "code",
   "execution_count": 215,
   "id": "ed5e53a9-cbb5-4314-841e-3e0b98cb470f",
   "metadata": {
    "tags": []
   },
   "outputs": [],
   "source": [
    "url = \"https://api.aoikujira.com/tenki/week.php?fmt=\" + str(file) + \"&city=\" + str(city)"
   ]
  },
  {
   "cell_type": "code",
   "execution_count": 216,
   "id": "f86feb46-70a7-48c0-b64a-41a224a8b5e0",
   "metadata": {
    "tags": []
   },
   "outputs": [],
   "source": [
    "file = \"json\"\n",
    "city = \"青森\""
   ]
  },
  {
   "cell_type": "code",
   "execution_count": 217,
   "id": "d87117ef-1ed5-4037-b7a5-997d768e83a7",
   "metadata": {
    "tags": []
   },
   "outputs": [],
   "source": [
    "response = requests.get(url).json()"
   ]
  },
  {
   "cell_type": "code",
   "execution_count": 219,
   "id": "7dfb4147-906a-4f33-9681-9903ec6826fa",
   "metadata": {
    "tags": []
   },
   "outputs": [
    {
     "name": "stdout",
     "output_type": "stream",
     "text": [
      "dict_keys(['mkdate', '青森'])\n"
     ]
    }
   ],
   "source": [
    "print(response.keys())"
   ]
  },
  {
   "cell_type": "code",
   "execution_count": 170,
   "id": "45b6507e-62c7-4ecc-ba45-67a001bb4269",
   "metadata": {
    "tags": []
   },
   "outputs": [
    {
     "name": "stdout",
     "output_type": "stream",
     "text": [
      "{'mkdate': '2023/07/14 23:21:08',\n",
      " '青森': [{'date': '14日(金)',\n",
      "         'forecast': '曇後雨',\n",
      "         'maxtemp': '-',\n",
      "         'mintemp': '-',\n",
      "         'poptimes': '-/-/-',\n",
      "         'waves': '１メートル',\n",
      "         'weathers': 'くもり\\u3000夜\\u3000雨',\n",
      "         'winds': '北西の風\\u3000後\\u3000南の風\\u3000海上\\u3000では\\u3000南東の風\\u3000やや強く'},\n",
      "        {'date': '15日(土)',\n",
      "         'forecast': '雨',\n",
      "         'maxtemp': '20',\n",
      "         'mintemp': '20',\n",
      "         'poptimes': '100/70/50',\n",
      "         'waves': '１．５メートル\\u3000後\\u3000４メートル',\n",
      "         'weathers': '雨\\u3000所により\\u3000昼前\\u3000から\\u3000昼過ぎ\\u3000非常に\\u3000'\n",
      "                     '激しく\\u3000降る',\n",
      "         'winds': '南の風\\u3000後\\u3000やや強く\\u3000海上\\u3000では\\u3000南西の風\\u3000強く'},\n",
      "        {'date': '16日(日)',\n",
      "         'forecast': '曇一時雨',\n",
      "         'maxtemp': '29',\n",
      "         'mintemp': '23',\n",
      "         'poptimes': '-/-/-',\n",
      "         'waves': '３メートル\\u3000後\\u3000１．５メートル',\n",
      "         'weathers': 'くもり\\u3000一時\\u3000雨',\n",
      "         'winds': '西の風'},\n",
      "        {'date': '17日(月)',\n",
      "         'forecast': '曇一時雨',\n",
      "         'maxtemp': '27',\n",
      "         'mintemp': '23',\n",
      "         'poptimes': '-/-/-',\n",
      "         'waves': '-',\n",
      "         'weathers': '-',\n",
      "         'winds': '-'},\n",
      "        {'date': '18日(火)',\n",
      "         'forecast': '曇',\n",
      "         'maxtemp': '28',\n",
      "         'mintemp': '22',\n",
      "         'poptimes': '-/-/-',\n",
      "         'waves': '-',\n",
      "         'weathers': '-',\n",
      "         'winds': '-'},\n",
      "        {'date': '19日(水)',\n",
      "         'forecast': '曇一時雨',\n",
      "         'maxtemp': '24',\n",
      "         'mintemp': '20',\n",
      "         'poptimes': '-/-/-',\n",
      "         'waves': '-',\n",
      "         'weathers': '-',\n",
      "         'winds': '-'},\n",
      "        {'date': '20日(木)',\n",
      "         'forecast': '曇一時雨',\n",
      "         'maxtemp': '25',\n",
      "         'mintemp': '21',\n",
      "         'poptimes': '-/-/-',\n",
      "         'waves': '-',\n",
      "         'weathers': '-',\n",
      "         'winds': '-'},\n",
      "        {'date': '21日(金)',\n",
      "         'forecast': '曇時々晴',\n",
      "         'maxtemp': '25',\n",
      "         'mintemp': '21',\n",
      "         'poptimes': '-/-/-',\n",
      "         'waves': '-',\n",
      "         'weathers': '-',\n",
      "         'winds': '-'}]}\n"
     ]
    }
   ],
   "source": [
    "pprint.pprint(response)"
   ]
  },
  {
   "cell_type": "code",
   "execution_count": 225,
   "id": "2995d39b-927d-4df3-b8ae-6cf3ee341ebb",
   "metadata": {
    "tags": []
   },
   "outputs": [
    {
     "data": {
      "text/plain": [
       "{'date': '14日(金)',\n",
       " 'forecast': '曇後雨',\n",
       " 'mintemp': '-',\n",
       " 'maxtemp': '-',\n",
       " 'poptimes': '-/-/-',\n",
       " 'waves': '１メートル',\n",
       " 'winds': '北西の風\\u3000後\\u3000南の風\\u3000海上\\u3000では\\u3000南東の風\\u3000やや強く',\n",
       " 'weathers': 'くもり\\u3000夜\\u3000雨'}"
      ]
     },
     "execution_count": 225,
     "metadata": {},
     "output_type": "execute_result"
    }
   ],
   "source": [
    "res = response[\"青森\"][0]\n",
    "res"
   ]
  },
  {
   "cell_type": "code",
   "execution_count": 230,
   "id": "5d694a78-640e-4886-a682-d3d654fef620",
   "metadata": {
    "tags": []
   },
   "outputs": [
    {
     "data": {
      "text/html": [
       "<div>\n",
       "<style scoped>\n",
       "    .dataframe tbody tr th:only-of-type {\n",
       "        vertical-align: middle;\n",
       "    }\n",
       "\n",
       "    .dataframe tbody tr th {\n",
       "        vertical-align: top;\n",
       "    }\n",
       "\n",
       "    .dataframe thead th {\n",
       "        text-align: right;\n",
       "    }\n",
       "</style>\n",
       "<table border=\"1\" class=\"dataframe\">\n",
       "  <thead>\n",
       "    <tr style=\"text-align: right;\">\n",
       "      <th></th>\n",
       "      <th>date</th>\n",
       "      <th>forecast</th>\n",
       "      <th>mintemp</th>\n",
       "      <th>maxtemp</th>\n",
       "      <th>poptimes</th>\n",
       "      <th>waves</th>\n",
       "      <th>winds</th>\n",
       "      <th>weathers</th>\n",
       "    </tr>\n",
       "  </thead>\n",
       "  <tbody>\n",
       "    <tr>\n",
       "      <th>0</th>\n",
       "      <td>14日(金)</td>\n",
       "      <td>曇後雨</td>\n",
       "      <td>-</td>\n",
       "      <td>-</td>\n",
       "      <td>-/-/-</td>\n",
       "      <td>１メートル</td>\n",
       "      <td>北西の風　後　南の風　海上　では　南東の風　やや強く</td>\n",
       "      <td>くもり　夜　雨</td>\n",
       "    </tr>\n",
       "    <tr>\n",
       "      <th>1</th>\n",
       "      <td>15日(土)</td>\n",
       "      <td>雨</td>\n",
       "      <td>20</td>\n",
       "      <td>20</td>\n",
       "      <td>100/70/50</td>\n",
       "      <td>１．５メートル　後　４メートル</td>\n",
       "      <td>南の風　後　やや強く　海上　では　南西の風　強く</td>\n",
       "      <td>雨　所により　昼前　から　昼過ぎ　非常に　激しく　降る</td>\n",
       "    </tr>\n",
       "    <tr>\n",
       "      <th>2</th>\n",
       "      <td>16日(日)</td>\n",
       "      <td>曇一時雨</td>\n",
       "      <td>23</td>\n",
       "      <td>29</td>\n",
       "      <td>-/-/-</td>\n",
       "      <td>３メートル　後　１．５メートル</td>\n",
       "      <td>西の風</td>\n",
       "      <td>くもり　一時　雨</td>\n",
       "    </tr>\n",
       "    <tr>\n",
       "      <th>3</th>\n",
       "      <td>17日(月)</td>\n",
       "      <td>曇一時雨</td>\n",
       "      <td>23</td>\n",
       "      <td>27</td>\n",
       "      <td>-/-/-</td>\n",
       "      <td>-</td>\n",
       "      <td>-</td>\n",
       "      <td>-</td>\n",
       "    </tr>\n",
       "    <tr>\n",
       "      <th>4</th>\n",
       "      <td>18日(火)</td>\n",
       "      <td>曇</td>\n",
       "      <td>22</td>\n",
       "      <td>28</td>\n",
       "      <td>-/-/-</td>\n",
       "      <td>-</td>\n",
       "      <td>-</td>\n",
       "      <td>-</td>\n",
       "    </tr>\n",
       "    <tr>\n",
       "      <th>5</th>\n",
       "      <td>19日(水)</td>\n",
       "      <td>曇一時雨</td>\n",
       "      <td>20</td>\n",
       "      <td>24</td>\n",
       "      <td>-/-/-</td>\n",
       "      <td>-</td>\n",
       "      <td>-</td>\n",
       "      <td>-</td>\n",
       "    </tr>\n",
       "    <tr>\n",
       "      <th>6</th>\n",
       "      <td>20日(木)</td>\n",
       "      <td>曇一時雨</td>\n",
       "      <td>21</td>\n",
       "      <td>25</td>\n",
       "      <td>-/-/-</td>\n",
       "      <td>-</td>\n",
       "      <td>-</td>\n",
       "      <td>-</td>\n",
       "    </tr>\n",
       "    <tr>\n",
       "      <th>7</th>\n",
       "      <td>21日(金)</td>\n",
       "      <td>曇時々晴</td>\n",
       "      <td>21</td>\n",
       "      <td>25</td>\n",
       "      <td>-/-/-</td>\n",
       "      <td>-</td>\n",
       "      <td>-</td>\n",
       "      <td>-</td>\n",
       "    </tr>\n",
       "  </tbody>\n",
       "</table>\n",
       "</div>"
      ],
      "text/plain": [
       "     date forecast mintemp maxtemp   poptimes            waves   \n",
       "0  14日(金)      曇後雨       -       -      -/-/-            １メートル  \\\n",
       "1  15日(土)        雨      20      20  100/70/50  １．５メートル　後　４メートル   \n",
       "2  16日(日)     曇一時雨      23      29      -/-/-  ３メートル　後　１．５メートル   \n",
       "3  17日(月)     曇一時雨      23      27      -/-/-                -   \n",
       "4  18日(火)        曇      22      28      -/-/-                -   \n",
       "5  19日(水)     曇一時雨      20      24      -/-/-                -   \n",
       "6  20日(木)     曇一時雨      21      25      -/-/-                -   \n",
       "7  21日(金)     曇時々晴      21      25      -/-/-                -   \n",
       "\n",
       "                        winds                     weathers  \n",
       "0  北西の風　後　南の風　海上　では　南東の風　やや強く                      くもり　夜　雨  \n",
       "1    南の風　後　やや強く　海上　では　南西の風　強く  雨　所により　昼前　から　昼過ぎ　非常に　激しく　降る  \n",
       "2                         西の風                     くもり　一時　雨  \n",
       "3                           -                            -  \n",
       "4                           -                            -  \n",
       "5                           -                            -  \n",
       "6                           -                            -  \n",
       "7                           -                            -  "
      ]
     },
     "execution_count": 230,
     "metadata": {},
     "output_type": "execute_result"
    }
   ],
   "source": [
    "pd.json_normalize(response, record_path=\"青森\")"
   ]
  },
  {
   "cell_type": "code",
   "execution_count": null,
   "id": "e1a8954c-f44a-4f36-85a8-04df0939ae40",
   "metadata": {},
   "outputs": [],
   "source": []
  }
 ],
 "metadata": {
  "kernelspec": {
   "display_name": "Python 3 (ipykernel)",
   "language": "python",
   "name": "python3"
  },
  "language_info": {
   "codemirror_mode": {
    "name": "ipython",
    "version": 3
   },
   "file_extension": ".py",
   "mimetype": "text/x-python",
   "name": "python",
   "nbconvert_exporter": "python",
   "pygments_lexer": "ipython3",
   "version": "3.11.1"
  }
 },
 "nbformat": 4,
 "nbformat_minor": 5
}
