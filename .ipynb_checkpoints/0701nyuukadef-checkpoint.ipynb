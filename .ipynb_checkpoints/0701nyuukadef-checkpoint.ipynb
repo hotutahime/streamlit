{
 "cells": [
  {
   "cell_type": "code",
   "execution_count": 18,
   "id": "b3e679a2-0d5c-4ff0-8b2e-e0608bcd90f3",
   "metadata": {
    "tags": []
   },
   "outputs": [],
   "source": [
    "import pandas as pd\n",
    "import pyautogui as pag\n",
    "import PySimpleGUI as sg\n",
    "import glob\n",
    "import time"
   ]
  },
  {
   "cell_type": "code",
   "execution_count": 19,
   "id": "c884fe97-4fd2-4553-98b6-e3166a2e4559",
   "metadata": {
    "tags": []
   },
   "outputs": [],
   "source": [
    "def write_event():\n",
    "    \n",
    "    file_paths = glob.glob(\"/Users/kato/Desktop/shigoto/test*.xlsx\")\n",
    "    file_num = len(file_paths)\n",
    "    dfs = []\n",
    "\n",
    "    for file in range(file_num):\n",
    "        df = pd.read_excel(file_paths[file], header=4)\n",
    "        dfs.append(df)\n",
    "\n",
    "    for i in range(file_num):\n",
    "        globals()[\"df\" + str(i+1)] = dfs[i]\n",
    "    \n",
    "    for s in range(file_num):\n",
    "        dfs[s].dropna(subset=[\"数量\"], inplace=True)\n",
    "        dfs[s].reset_index(inplace=True)\n",
    "        df_jan = dfs[s][\"JAN\"]\n",
    "        df_len = len(dfs[s][\"JAN\"])\n",
    "        df_item = dfs[s][\"数量\"]\n",
    "    \n",
    "        for n in range(df_len):\n",
    "            pag.click(1231, 408)\n",
    "            pag.write(str(df_jan[n]))\n",
    "            pag.press(\"enter\")\n",
    "            pag.press(\"tab\", presses=2, interval=0.01)\n",
    "            pag.write(str(df_item[n]))\n",
    "            pag.press(\"tab\", presses=2, interval=0.01)\n",
    "            if n+1 == df_len:\n",
    "                pag.confirm(text = \"次へ行きますか？\",\n",
    "                                  title = str(s+1)+\"ファイル目が終わりました\",\n",
    "                                  buttons = [\"OK\", \"Calcel\"])"
   ]
  },
  {
   "cell_type": "code",
   "execution_count": null,
   "id": "0e6cdcd0-b4cf-4c8d-896b-077f20121f03",
   "metadata": {
    "tags": []
   },
   "outputs": [],
   "source": [
    "def main():\n",
    "    \n",
    "    layout = [\n",
    "        [sg.Button(\"処理を開始しますか？\", key = write_event)]\n",
    "    ]\n",
    "    \n",
    "    window = sg.Window(\"入荷登録\", layout=layout)\n",
    "    \n",
    "    while True:\n",
    "        event, value = window.read()\n",
    "        \n",
    "        if event is None:\n",
    "            break\n",
    "        \n",
    "        elif callable(event):\n",
    "            event()\n",
    "        \n",
    "        else:\n",
    "            continue\n",
    "    \n",
    "    window.close()\n",
    "\n",
    "if __name__ == \"__main__\":\n",
    "    main()"
   ]
  },
  {
   "cell_type": "code",
   "execution_count": null,
   "id": "32e29302-0c51-45d1-918e-fb175ba7eca8",
   "metadata": {},
   "outputs": [],
   "source": []
  }
 ],
 "metadata": {
  "kernelspec": {
   "display_name": "Python 3 (ipykernel)",
   "language": "python",
   "name": "python3"
  },
  "language_info": {
   "codemirror_mode": {
    "name": "ipython",
    "version": 3
   },
   "file_extension": ".py",
   "mimetype": "text/x-python",
   "name": "python",
   "nbconvert_exporter": "python",
   "pygments_lexer": "ipython3",
   "version": "3.8.16"
  }
 },
 "nbformat": 4,
 "nbformat_minor": 5
}
