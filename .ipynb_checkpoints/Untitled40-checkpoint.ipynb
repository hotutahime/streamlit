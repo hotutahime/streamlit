{
 "cells": [
  {
   "cell_type": "code",
   "execution_count": 3,
   "id": "95808222-5860-4d30-842a-ecad84151236",
   "metadata": {
    "tags": []
   },
   "outputs": [],
   "source": [
    "import requests\n",
    "import json\n",
    "from pprint import pprint"
   ]
  },
  {
   "cell_type": "code",
   "execution_count": 4,
   "id": "e1ee04b3-6c99-4d29-a31a-e2e0750a0e0d",
   "metadata": {
    "tags": []
   },
   "outputs": [],
   "source": [
    "url = \"https://api.openweathermap.org/data/2.5/weather?\""
   ]
  },
  {
   "cell_type": "code",
   "execution_count": 5,
   "id": "63c93fdf-07c2-4dec-945f-0aba58c1e24b",
   "metadata": {
    "tags": []
   },
   "outputs": [],
   "source": [
    "params = {\n",
    "    \"q\": \"aomori\",\n",
    "    \"appid\": \"5c73a9afe371e82456944e038dda739f\",\n",
    "    \"lang\": \"ja\",\n",
    "    \"units\": \"metric\"\n",
    "}"
   ]
  },
  {
   "cell_type": "code",
   "execution_count": 6,
   "id": "d4f30cdb-0fe9-4ed6-8f6d-b72953c69f93",
   "metadata": {
    "tags": []
   },
   "outputs": [
    {
     "name": "stdout",
     "output_type": "stream",
     "text": [
      "{'base': 'stations',\n",
      " 'clouds': {'all': 74},\n",
      " 'cod': 200,\n",
      " 'coord': {'lat': 40.8244, 'lon': 140.74},\n",
      " 'dt': 1689519909,\n",
      " 'id': 2130658,\n",
      " 'main': {'feels_like': 23.35,\n",
      "          'grnd_level': 1011,\n",
      "          'humidity': 97,\n",
      "          'pressure': 1012,\n",
      "          'sea_level': 1012,\n",
      "          'temp': 22.51,\n",
      "          'temp_max': 22.51,\n",
      "          'temp_min': 22.28},\n",
      " 'name': '青森市',\n",
      " 'sys': {'country': 'JP',\n",
      "         'id': 2077513,\n",
      "         'sunrise': 1689535145,\n",
      "         'sunset': 1689588404,\n",
      "         'type': 2},\n",
      " 'timezone': 32400,\n",
      " 'visibility': 7293,\n",
      " 'weather': [{'description': '曇りがち',\n",
      "              'icon': '04n',\n",
      "              'id': 803,\n",
      "              'main': 'Clouds'}],\n",
      " 'wind': {'deg': 225, 'gust': 3.69, 'speed': 2.51}}\n"
     ]
    }
   ],
   "source": [
    "response = requests.get(url, params).json()\n",
    "pprint(response)"
   ]
  },
  {
   "cell_type": "code",
   "execution_count": null,
   "id": "0f8d5bbe-e946-46b3-89fc-7943a2b97b4b",
   "metadata": {},
   "outputs": [],
   "source": []
  },
  {
   "cell_type": "code",
   "execution_count": null,
   "id": "87635b4c-c9cc-4517-a482-049a210f2954",
   "metadata": {},
   "outputs": [],
   "source": [
    "\n",
    "url = \"https://api.openweathermap.org/data/2.5/weather?q={city_name}&appid={API_key}&lang=ja&units=metric\"\n",
    "\n",
    "\n",
    "#URLの{}内に入れる変数用データ\n",
    "url = url.format(city_name=\"aomori\" , API_key=\"5c73a9afe371e82456944e038dda739f\")\n",
    "\n",
    "\n",
    "#jsonデータをrequestsのgetメソッドとjsonメソッドで呼び出す\n",
    "json_data = requests.get(url).json()\n",
    "pprint(json_data)\n"
   ]
  }
 ],
 "metadata": {
  "kernelspec": {
   "display_name": "Python 3 (ipykernel)",
   "language": "python",
   "name": "python3"
  },
  "language_info": {
   "codemirror_mode": {
    "name": "ipython",
    "version": 3
   },
   "file_extension": ".py",
   "mimetype": "text/x-python",
   "name": "python",
   "nbconvert_exporter": "python",
   "pygments_lexer": "ipython3",
   "version": "3.11.1"
  }
 },
 "nbformat": 4,
 "nbformat_minor": 5
}
