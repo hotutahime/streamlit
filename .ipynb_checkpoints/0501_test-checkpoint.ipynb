{
 "cells": [
  {
   "cell_type": "code",
   "execution_count": 2,
   "id": "d81f8e99-c51c-4cea-be32-fdedf7911df3",
   "metadata": {
    "tags": []
   },
   "outputs": [],
   "source": [
    "import pandas as pd\n",
    "import numpy as np\n",
    "import xgboost as xgb\n",
    "from sklearn.model_selection import cross_validate ,KFold"
   ]
  },
  {
   "cell_type": "code",
   "execution_count": 3,
   "id": "74dff328-5c63-4665-8aff-3d732e5b525d",
   "metadata": {
    "tags": []
   },
   "outputs": [],
   "source": [
    "df = pd.read_csv(\"/Users/kato/Downloads/Boston (1).csv\" , index_col=0)"
   ]
  },
  {
   "cell_type": "code",
   "execution_count": 4,
   "id": "6fe16557-8ea9-42f0-aa21-06c8b4b1553b",
   "metadata": {
    "tags": []
   },
   "outputs": [
    {
     "data": {
      "text/html": [
       "<div>\n",
       "<style scoped>\n",
       "    .dataframe tbody tr th:only-of-type {\n",
       "        vertical-align: middle;\n",
       "    }\n",
       "\n",
       "    .dataframe tbody tr th {\n",
       "        vertical-align: top;\n",
       "    }\n",
       "\n",
       "    .dataframe thead th {\n",
       "        text-align: right;\n",
       "    }\n",
       "</style>\n",
       "<table border=\"1\" class=\"dataframe\">\n",
       "  <thead>\n",
       "    <tr style=\"text-align: right;\">\n",
       "      <th></th>\n",
       "      <th>crim</th>\n",
       "      <th>zn</th>\n",
       "      <th>indus</th>\n",
       "      <th>chas</th>\n",
       "      <th>nox</th>\n",
       "      <th>rm</th>\n",
       "      <th>age</th>\n",
       "      <th>dis</th>\n",
       "      <th>rad</th>\n",
       "      <th>tax</th>\n",
       "      <th>ptratio</th>\n",
       "      <th>black</th>\n",
       "      <th>lstat</th>\n",
       "      <th>medv</th>\n",
       "    </tr>\n",
       "  </thead>\n",
       "  <tbody>\n",
       "    <tr>\n",
       "      <th>1</th>\n",
       "      <td>0.00632</td>\n",
       "      <td>18.0</td>\n",
       "      <td>2.31</td>\n",
       "      <td>0</td>\n",
       "      <td>0.538</td>\n",
       "      <td>6.575</td>\n",
       "      <td>65.2</td>\n",
       "      <td>4.0900</td>\n",
       "      <td>1</td>\n",
       "      <td>296</td>\n",
       "      <td>15.3</td>\n",
       "      <td>396.90</td>\n",
       "      <td>4.98</td>\n",
       "      <td>24.0</td>\n",
       "    </tr>\n",
       "    <tr>\n",
       "      <th>2</th>\n",
       "      <td>0.02731</td>\n",
       "      <td>0.0</td>\n",
       "      <td>7.07</td>\n",
       "      <td>0</td>\n",
       "      <td>0.469</td>\n",
       "      <td>6.421</td>\n",
       "      <td>78.9</td>\n",
       "      <td>4.9671</td>\n",
       "      <td>2</td>\n",
       "      <td>242</td>\n",
       "      <td>17.8</td>\n",
       "      <td>396.90</td>\n",
       "      <td>9.14</td>\n",
       "      <td>21.6</td>\n",
       "    </tr>\n",
       "    <tr>\n",
       "      <th>3</th>\n",
       "      <td>0.02729</td>\n",
       "      <td>0.0</td>\n",
       "      <td>7.07</td>\n",
       "      <td>0</td>\n",
       "      <td>0.469</td>\n",
       "      <td>7.185</td>\n",
       "      <td>61.1</td>\n",
       "      <td>4.9671</td>\n",
       "      <td>2</td>\n",
       "      <td>242</td>\n",
       "      <td>17.8</td>\n",
       "      <td>392.83</td>\n",
       "      <td>4.03</td>\n",
       "      <td>34.7</td>\n",
       "    </tr>\n",
       "    <tr>\n",
       "      <th>4</th>\n",
       "      <td>0.03237</td>\n",
       "      <td>0.0</td>\n",
       "      <td>2.18</td>\n",
       "      <td>0</td>\n",
       "      <td>0.458</td>\n",
       "      <td>6.998</td>\n",
       "      <td>45.8</td>\n",
       "      <td>6.0622</td>\n",
       "      <td>3</td>\n",
       "      <td>222</td>\n",
       "      <td>18.7</td>\n",
       "      <td>394.63</td>\n",
       "      <td>2.94</td>\n",
       "      <td>33.4</td>\n",
       "    </tr>\n",
       "    <tr>\n",
       "      <th>5</th>\n",
       "      <td>0.06905</td>\n",
       "      <td>0.0</td>\n",
       "      <td>2.18</td>\n",
       "      <td>0</td>\n",
       "      <td>0.458</td>\n",
       "      <td>7.147</td>\n",
       "      <td>54.2</td>\n",
       "      <td>6.0622</td>\n",
       "      <td>3</td>\n",
       "      <td>222</td>\n",
       "      <td>18.7</td>\n",
       "      <td>396.90</td>\n",
       "      <td>5.33</td>\n",
       "      <td>36.2</td>\n",
       "    </tr>\n",
       "  </tbody>\n",
       "</table>\n",
       "</div>"
      ],
      "text/plain": [
       "      crim    zn  indus  chas    nox     rm   age     dis  rad  tax  ptratio   \n",
       "1  0.00632  18.0   2.31     0  0.538  6.575  65.2  4.0900    1  296     15.3  \\\n",
       "2  0.02731   0.0   7.07     0  0.469  6.421  78.9  4.9671    2  242     17.8   \n",
       "3  0.02729   0.0   7.07     0  0.469  7.185  61.1  4.9671    2  242     17.8   \n",
       "4  0.03237   0.0   2.18     0  0.458  6.998  45.8  6.0622    3  222     18.7   \n",
       "5  0.06905   0.0   2.18     0  0.458  7.147  54.2  6.0622    3  222     18.7   \n",
       "\n",
       "    black  lstat  medv  \n",
       "1  396.90   4.98  24.0  \n",
       "2  396.90   9.14  21.6  \n",
       "3  392.83   4.03  34.7  \n",
       "4  394.63   2.94  33.4  \n",
       "5  396.90   5.33  36.2  "
      ]
     },
     "execution_count": 4,
     "metadata": {},
     "output_type": "execute_result"
    }
   ],
   "source": [
    "df.head()"
   ]
  },
  {
   "cell_type": "code",
   "execution_count": 5,
   "id": "9fea0cf3-893f-43e4-8ba6-37a688c083c5",
   "metadata": {
    "tags": []
   },
   "outputs": [],
   "source": [
    "X = df.drop(columns=[\"medv\"])\n",
    "y = df[\"medv\"]"
   ]
  },
  {
   "cell_type": "code",
   "execution_count": 6,
   "id": "70e8fd11-bfff-4752-a92b-650ad9852d8c",
   "metadata": {
    "tags": []
   },
   "outputs": [],
   "source": [
    "model = xgb.XGBRegressor(objective=\"reg:squarederror\" , max_depth=100)\n",
    "kf = KFold(n_splits=5 , shuffle=True)"
   ]
  },
  {
   "cell_type": "code",
   "execution_count": 8,
   "id": "bfef92a5-66f3-4c66-abe6-b90ce2887814",
   "metadata": {
    "tags": []
   },
   "outputs": [
    {
     "data": {
      "text/plain": [
       "{'fit_time': array([0.19821596, 0.15578175, 0.13695502, 0.144454  , 0.1658051 ]),\n",
       " 'score_time': array([0.00198698, 0.00102401, 0.00095701, 0.00092292, 0.00093007]),\n",
       " 'estimator': [XGBRegressor(base_score=None, booster=None, callbacks=None,\n",
       "               colsample_bylevel=None, colsample_bynode=None,\n",
       "               colsample_bytree=None, early_stopping_rounds=None,\n",
       "               enable_categorical=False, eval_metric=None, feature_types=None,\n",
       "               gamma=None, gpu_id=None, grow_policy=None, importance_type=None,\n",
       "               interaction_constraints=None, learning_rate=None, max_bin=None,\n",
       "               max_cat_threshold=None, max_cat_to_onehot=None,\n",
       "               max_delta_step=None, max_depth=100, max_leaves=None,\n",
       "               min_child_weight=None, missing=nan, monotone_constraints=None,\n",
       "               n_estimators=100, n_jobs=None, num_parallel_tree=None,\n",
       "               predictor=None, random_state=None, ...),\n",
       "  XGBRegressor(base_score=None, booster=None, callbacks=None,\n",
       "               colsample_bylevel=None, colsample_bynode=None,\n",
       "               colsample_bytree=None, early_stopping_rounds=None,\n",
       "               enable_categorical=False, eval_metric=None, feature_types=None,\n",
       "               gamma=None, gpu_id=None, grow_policy=None, importance_type=None,\n",
       "               interaction_constraints=None, learning_rate=None, max_bin=None,\n",
       "               max_cat_threshold=None, max_cat_to_onehot=None,\n",
       "               max_delta_step=None, max_depth=100, max_leaves=None,\n",
       "               min_child_weight=None, missing=nan, monotone_constraints=None,\n",
       "               n_estimators=100, n_jobs=None, num_parallel_tree=None,\n",
       "               predictor=None, random_state=None, ...),\n",
       "  XGBRegressor(base_score=None, booster=None, callbacks=None,\n",
       "               colsample_bylevel=None, colsample_bynode=None,\n",
       "               colsample_bytree=None, early_stopping_rounds=None,\n",
       "               enable_categorical=False, eval_metric=None, feature_types=None,\n",
       "               gamma=None, gpu_id=None, grow_policy=None, importance_type=None,\n",
       "               interaction_constraints=None, learning_rate=None, max_bin=None,\n",
       "               max_cat_threshold=None, max_cat_to_onehot=None,\n",
       "               max_delta_step=None, max_depth=100, max_leaves=None,\n",
       "               min_child_weight=None, missing=nan, monotone_constraints=None,\n",
       "               n_estimators=100, n_jobs=None, num_parallel_tree=None,\n",
       "               predictor=None, random_state=None, ...),\n",
       "  XGBRegressor(base_score=None, booster=None, callbacks=None,\n",
       "               colsample_bylevel=None, colsample_bynode=None,\n",
       "               colsample_bytree=None, early_stopping_rounds=None,\n",
       "               enable_categorical=False, eval_metric=None, feature_types=None,\n",
       "               gamma=None, gpu_id=None, grow_policy=None, importance_type=None,\n",
       "               interaction_constraints=None, learning_rate=None, max_bin=None,\n",
       "               max_cat_threshold=None, max_cat_to_onehot=None,\n",
       "               max_delta_step=None, max_depth=100, max_leaves=None,\n",
       "               min_child_weight=None, missing=nan, monotone_constraints=None,\n",
       "               n_estimators=100, n_jobs=None, num_parallel_tree=None,\n",
       "               predictor=None, random_state=None, ...),\n",
       "  XGBRegressor(base_score=None, booster=None, callbacks=None,\n",
       "               colsample_bylevel=None, colsample_bynode=None,\n",
       "               colsample_bytree=None, early_stopping_rounds=None,\n",
       "               enable_categorical=False, eval_metric=None, feature_types=None,\n",
       "               gamma=None, gpu_id=None, grow_policy=None, importance_type=None,\n",
       "               interaction_constraints=None, learning_rate=None, max_bin=None,\n",
       "               max_cat_threshold=None, max_cat_to_onehot=None,\n",
       "               max_delta_step=None, max_depth=100, max_leaves=None,\n",
       "               min_child_weight=None, missing=nan, monotone_constraints=None,\n",
       "               n_estimators=100, n_jobs=None, num_parallel_tree=None,\n",
       "               predictor=None, random_state=None, ...)],\n",
       " 'test_neg_mean_absolute_error': array([-2.12808329, -1.86301067, -2.14355986, -2.96961366, -2.17680222])}"
      ]
     },
     "execution_count": 8,
     "metadata": {},
     "output_type": "execute_result"
    }
   ],
   "source": [
    "score = cross_validate(model , X , y , cv=kf , scoring=[\"neg_mean_absolute_error\"], return_estimator=True)\n",
    "score"
   ]
  },
  {
   "cell_type": "code",
   "execution_count": 9,
   "id": "dd7a08df-f944-4f87-936e-f0907ed9eb3a",
   "metadata": {
    "tags": []
   },
   "outputs": [
    {
     "data": {
      "text/plain": [
       "-2.256213937961946"
      ]
     },
     "execution_count": 9,
     "metadata": {},
     "output_type": "execute_result"
    }
   ],
   "source": [
    "score[\"test_neg_mean_absolute_error\"].mean()"
   ]
  },
  {
   "cell_type": "code",
   "execution_count": 12,
   "id": "9f47e3a5-01ae-43d6-8afd-3082fcb1006a",
   "metadata": {
    "tags": []
   },
   "outputs": [
    {
     "data": {
      "text/plain": [
       "array([0.01399512, 0.00226598, 0.01496594, 0.00119857, 0.04096753,\n",
       "       0.20259385, 0.00658769, 0.04861623, 0.01922857, 0.02382036,\n",
       "       0.03638966, 0.00931533, 0.5800552 ], dtype=float32)"
      ]
     },
     "execution_count": 12,
     "metadata": {},
     "output_type": "execute_result"
    }
   ],
   "source": [
    "mean_score = np.mean([score[\"estimator\"][i].feature_importances_ for i in range(5)],axis=0)\n",
    "mean_score"
   ]
  },
  {
   "cell_type": "code",
   "execution_count": 13,
   "id": "19fd9e9a-53c7-4484-8c41-3d8ecbc19071",
   "metadata": {
    "tags": []
   },
   "outputs": [],
   "source": [
    "test_data = pd.read_csv(\"/Users/kato/Downloads/Boston (1)-2.csv\" , index_col=0)"
   ]
  },
  {
   "cell_type": "code",
   "execution_count": 14,
   "id": "29abeccc-237d-46a3-95a1-92493dc9eeef",
   "metadata": {
    "tags": []
   },
   "outputs": [
    {
     "data": {
      "text/html": [
       "<style>#sk-container-id-1 {color: black;background-color: white;}#sk-container-id-1 pre{padding: 0;}#sk-container-id-1 div.sk-toggleable {background-color: white;}#sk-container-id-1 label.sk-toggleable__label {cursor: pointer;display: block;width: 100%;margin-bottom: 0;padding: 0.3em;box-sizing: border-box;text-align: center;}#sk-container-id-1 label.sk-toggleable__label-arrow:before {content: \"▸\";float: left;margin-right: 0.25em;color: #696969;}#sk-container-id-1 label.sk-toggleable__label-arrow:hover:before {color: black;}#sk-container-id-1 div.sk-estimator:hover label.sk-toggleable__label-arrow:before {color: black;}#sk-container-id-1 div.sk-toggleable__content {max-height: 0;max-width: 0;overflow: hidden;text-align: left;background-color: #f0f8ff;}#sk-container-id-1 div.sk-toggleable__content pre {margin: 0.2em;color: black;border-radius: 0.25em;background-color: #f0f8ff;}#sk-container-id-1 input.sk-toggleable__control:checked~div.sk-toggleable__content {max-height: 200px;max-width: 100%;overflow: auto;}#sk-container-id-1 input.sk-toggleable__control:checked~label.sk-toggleable__label-arrow:before {content: \"▾\";}#sk-container-id-1 div.sk-estimator input.sk-toggleable__control:checked~label.sk-toggleable__label {background-color: #d4ebff;}#sk-container-id-1 div.sk-label input.sk-toggleable__control:checked~label.sk-toggleable__label {background-color: #d4ebff;}#sk-container-id-1 input.sk-hidden--visually {border: 0;clip: rect(1px 1px 1px 1px);clip: rect(1px, 1px, 1px, 1px);height: 1px;margin: -1px;overflow: hidden;padding: 0;position: absolute;width: 1px;}#sk-container-id-1 div.sk-estimator {font-family: monospace;background-color: #f0f8ff;border: 1px dotted black;border-radius: 0.25em;box-sizing: border-box;margin-bottom: 0.5em;}#sk-container-id-1 div.sk-estimator:hover {background-color: #d4ebff;}#sk-container-id-1 div.sk-parallel-item::after {content: \"\";width: 100%;border-bottom: 1px solid gray;flex-grow: 1;}#sk-container-id-1 div.sk-label:hover label.sk-toggleable__label {background-color: #d4ebff;}#sk-container-id-1 div.sk-serial::before {content: \"\";position: absolute;border-left: 1px solid gray;box-sizing: border-box;top: 0;bottom: 0;left: 50%;z-index: 0;}#sk-container-id-1 div.sk-serial {display: flex;flex-direction: column;align-items: center;background-color: white;padding-right: 0.2em;padding-left: 0.2em;position: relative;}#sk-container-id-1 div.sk-item {position: relative;z-index: 1;}#sk-container-id-1 div.sk-parallel {display: flex;align-items: stretch;justify-content: center;background-color: white;position: relative;}#sk-container-id-1 div.sk-item::before, #sk-container-id-1 div.sk-parallel-item::before {content: \"\";position: absolute;border-left: 1px solid gray;box-sizing: border-box;top: 0;bottom: 0;left: 50%;z-index: -1;}#sk-container-id-1 div.sk-parallel-item {display: flex;flex-direction: column;z-index: 1;position: relative;background-color: white;}#sk-container-id-1 div.sk-parallel-item:first-child::after {align-self: flex-end;width: 50%;}#sk-container-id-1 div.sk-parallel-item:last-child::after {align-self: flex-start;width: 50%;}#sk-container-id-1 div.sk-parallel-item:only-child::after {width: 0;}#sk-container-id-1 div.sk-dashed-wrapped {border: 1px dashed gray;margin: 0 0.4em 0.5em 0.4em;box-sizing: border-box;padding-bottom: 0.4em;background-color: white;}#sk-container-id-1 div.sk-label label {font-family: monospace;font-weight: bold;display: inline-block;line-height: 1.2em;}#sk-container-id-1 div.sk-label-container {text-align: center;}#sk-container-id-1 div.sk-container {/* jupyter's `normalize.less` sets `[hidden] { display: none; }` but bootstrap.min.css set `[hidden] { display: none !important; }` so we also need the `!important` here to be able to override the default hidden behavior on the sphinx rendered scikit-learn.org. See: https://github.com/scikit-learn/scikit-learn/issues/21755 */display: inline-block !important;position: relative;}#sk-container-id-1 div.sk-text-repr-fallback {display: none;}</style><div id=\"sk-container-id-1\" class=\"sk-top-container\"><div class=\"sk-text-repr-fallback\"><pre>XGBRegressor(base_score=None, booster=None, callbacks=None,\n",
       "             colsample_bylevel=None, colsample_bynode=None,\n",
       "             colsample_bytree=None, early_stopping_rounds=None,\n",
       "             enable_categorical=False, eval_metric=None, feature_types=None,\n",
       "             gamma=None, gpu_id=None, grow_policy=None, importance_type=None,\n",
       "             interaction_constraints=None, learning_rate=None, max_bin=None,\n",
       "             max_cat_threshold=None, max_cat_to_onehot=None,\n",
       "             max_delta_step=None, max_depth=100, max_leaves=None,\n",
       "             min_child_weight=None, missing=nan, monotone_constraints=None,\n",
       "             n_estimators=100, n_jobs=None, num_parallel_tree=None,\n",
       "             predictor=None, random_state=None, ...)</pre><b>In a Jupyter environment, please rerun this cell to show the HTML representation or trust the notebook. <br />On GitHub, the HTML representation is unable to render, please try loading this page with nbviewer.org.</b></div><div class=\"sk-container\" hidden><div class=\"sk-item\"><div class=\"sk-estimator sk-toggleable\"><input class=\"sk-toggleable__control sk-hidden--visually\" id=\"sk-estimator-id-1\" type=\"checkbox\" checked><label for=\"sk-estimator-id-1\" class=\"sk-toggleable__label sk-toggleable__label-arrow\">XGBRegressor</label><div class=\"sk-toggleable__content\"><pre>XGBRegressor(base_score=None, booster=None, callbacks=None,\n",
       "             colsample_bylevel=None, colsample_bynode=None,\n",
       "             colsample_bytree=None, early_stopping_rounds=None,\n",
       "             enable_categorical=False, eval_metric=None, feature_types=None,\n",
       "             gamma=None, gpu_id=None, grow_policy=None, importance_type=None,\n",
       "             interaction_constraints=None, learning_rate=None, max_bin=None,\n",
       "             max_cat_threshold=None, max_cat_to_onehot=None,\n",
       "             max_delta_step=None, max_depth=100, max_leaves=None,\n",
       "             min_child_weight=None, missing=nan, monotone_constraints=None,\n",
       "             n_estimators=100, n_jobs=None, num_parallel_tree=None,\n",
       "             predictor=None, random_state=None, ...)</pre></div></div></div></div></div>"
      ],
      "text/plain": [
       "XGBRegressor(base_score=None, booster=None, callbacks=None,\n",
       "             colsample_bylevel=None, colsample_bynode=None,\n",
       "             colsample_bytree=None, early_stopping_rounds=None,\n",
       "             enable_categorical=False, eval_metric=None, feature_types=None,\n",
       "             gamma=None, gpu_id=None, grow_policy=None, importance_type=None,\n",
       "             interaction_constraints=None, learning_rate=None, max_bin=None,\n",
       "             max_cat_threshold=None, max_cat_to_onehot=None,\n",
       "             max_delta_step=None, max_depth=100, max_leaves=None,\n",
       "             min_child_weight=None, missing=nan, monotone_constraints=None,\n",
       "             n_estimators=100, n_jobs=None, num_parallel_tree=None,\n",
       "             predictor=None, random_state=None, ...)"
      ]
     },
     "execution_count": 14,
     "metadata": {},
     "output_type": "execute_result"
    }
   ],
   "source": [
    "model.fit(X,y)"
   ]
  },
  {
   "cell_type": "code",
   "execution_count": 15,
   "id": "015cd7eb-64e4-46e3-b388-363aeed67702",
   "metadata": {
    "tags": []
   },
   "outputs": [],
   "source": [
    "pred = model.predict(test_data)"
   ]
  },
  {
   "cell_type": "code",
   "execution_count": 16,
   "id": "5999e898-66f9-4166-bef6-d2e956f3c890",
   "metadata": {
    "tags": []
   },
   "outputs": [
    {
     "data": {
      "text/plain": [
       "array([23.999722 , 21.600113 , 34.700035 , 33.39994  , 36.199707 ,\n",
       "       28.700066 , 22.899548 , 27.09615  , 16.500132 , 18.89968  ,\n",
       "       15.000231 , 18.90063  , 21.700241 , 20.399734 , 18.200434 ,\n",
       "       19.900288 , 23.099945 , 17.500221 , 20.19978  , 18.20026  ,\n",
       "       13.599562 , 19.598625 , 15.200469 , 14.499835 , 15.60034  ,\n",
       "       13.900475 , 16.599674 , 14.800245 , 18.399889 , 20.999311 ,\n",
       "       12.700241 , 14.500322 , 13.1997   , 13.100596 , 13.50016  ,\n",
       "       18.900042 , 20.000093 , 21.000072 , 24.70035  , 30.799551 ,\n",
       "       34.89982  , 26.600115 , 25.29945  , 24.700209 , 21.200296 ,\n",
       "       19.299746 , 20.000435 , 16.600136 , 14.400117 , 19.399714 ,\n",
       "       19.699923 , 20.500132 , 25.000555 , 23.398462 , 18.899988 ,\n",
       "       35.400005 , 24.700241 , 31.599827 , 23.300215 , 19.600319 ,\n",
       "       18.699936 , 16.000366 , 22.200243 , 25.000166 , 32.99995  ,\n",
       "       23.500368 , 19.40019  , 21.99977  , 17.40001  , 20.90065  ,\n",
       "       24.199718 , 21.699953 , 22.800222 , 23.400341 , 24.100145 ,\n",
       "       21.400705 , 20.000095 , 20.800322 , 21.199556 , 20.300318 ,\n",
       "       28.000687 , 23.90105  , 24.798958 , 22.90019  , 23.899027 ,\n",
       "       26.599985 , 22.50021  , 22.200014 , 23.60041  , 28.70032  ,\n",
       "       22.599949 , 22.000244 , 22.899923 , 24.99997  , 20.600271 ,\n",
       "       28.3996   , 21.400341 , 38.699825 , 43.800232 , 33.200268 ,\n",
       "       27.498182 , 26.499916 , 18.599985 , 19.300339 , 20.100338 ,\n",
       "       19.499851 , 19.4992   , 20.399908 , 19.800144 , 19.40007  ,\n",
       "       21.700096 , 22.800188 , 18.80053  , 18.699583 , 18.500341 ,\n",
       "       18.300507 , 21.199732 , 19.20048  , 20.399769 , 19.300097 ,\n",
       "       21.999697 , 20.300505 , 20.499367 , 17.3      , 18.80097  ,\n",
       "       21.400087 , 15.700356 , 16.199642 , 18.000298 , 14.3006525,\n",
       "       19.200186 , 19.600178 , 22.999695 , 18.400484 , 15.599989 ,\n",
       "       18.09974  , 17.400196 , 17.100096 , 13.300204 , 17.800047 ,\n",
       "       13.999911 , 14.4001045, 13.400133 , 15.599242 , 11.800377 ,\n",
       "       13.800821 , 15.600096 , 14.59977  , 17.79953  , 15.400126 ,\n",
       "       21.50026  , 19.600155 , 15.300924 , 19.39907  , 17.000345 ,\n",
       "       15.600221 , 13.100127 , 41.30038  , 24.299374 , 23.300531 ,\n",
       "       26.999073 , 50.00038  , 49.999622 , 49.99954  , 22.700161 ,\n",
       "       25.000246 , 50.000164 , 23.799385 , 23.800127 , 22.300337 ,\n",
       "       17.400288 , 19.100372 , 23.099487 , 23.600592 , 22.60023  ,\n",
       "       29.399439 , 23.199028 , 24.599796 , 29.900064 , 37.20041  ,\n",
       "       39.80047  , 36.196327 , 37.90055  , 32.49967  , 26.399996 ,\n",
       "       29.598412 , 49.99999  , 31.998314 , 29.79955  , 34.900005 ,\n",
       "       36.999634 , 30.500383 , 36.39995  , 31.10015  , 29.100155 ,\n",
       "       49.999516 , 33.300335 , 30.299908 , 34.59828  , 34.89973  ,\n",
       "       32.900154 , 24.100084 , 42.300022 , 48.500217 , 49.999493 ,\n",
       "       22.601112 , 24.400345 , 22.499224 , 24.400305 , 19.999119 ,\n",
       "       21.700129 , 19.300146 , 22.401234 , 28.097643 , 23.699104 ,\n",
       "       25.001513 , 23.29984  , 28.699608 , 21.500189 , 22.99999  ,\n",
       "       26.700092 , 21.70026  , 27.499575 , 30.09914  , 44.800613 ,\n",
       "       49.998943 , 37.600063 , 31.599886 , 46.70084  , 31.500103 ,\n",
       "       24.299908 , 31.699825 , 41.70088  , 48.29946  , 29.000208 ,\n",
       "       24.00102  , 25.100397 , 31.50129  , 23.700241 , 23.300423 ,\n",
       "       22.00064  , 20.100252 , 22.199253 , 23.700354 , 17.599976 ,\n",
       "       18.50031  , 24.298874 , 20.5004   , 24.499655 , 26.200195 ,\n",
       "       24.400082 , 24.799875 , 29.60005  , 42.80002  , 21.900911 ,\n",
       "       20.899391 , 43.99986  , 50.00048  , 35.999817 , 30.100578 ,\n",
       "       33.79998  , 43.100132 , 48.80015  , 31.000347 , 36.500187 ,\n",
       "       22.800428 , 30.69887  , 49.9983   , 43.50115  , 20.699844 ,\n",
       "       21.100164 , 25.200098 , 24.400282 , 35.20003  , 32.399727 ,\n",
       "       32.000282 , 33.19974  , 33.09998  , 29.100006 , 35.098682 ,\n",
       "       45.400543 , 35.400513 , 46.000095 , 49.999557 , 32.20017  ,\n",
       "       22.000381 , 20.100285 , 23.20037  , 22.29984  , 24.800106 ,\n",
       "       28.500927 , 37.297855 , 27.90008  , 23.900225 , 21.699675 ,\n",
       "       28.600035 , 27.099957 , 20.300262 , 22.500452 , 29.00029  ,\n",
       "       24.80007  , 22.000326 , 26.398582 , 33.10026  , 36.09956  ,\n",
       "       28.400318 , 33.39958  , 28.200579 , 22.800392 , 20.300104 ,\n",
       "       16.100191 , 22.100075 , 19.399977 , 21.599714 , 23.800259 ,\n",
       "       16.200382 , 17.800436 , 19.799932 , 23.099941 , 21.000261 ,\n",
       "       23.799852 , 23.100422 , 20.400215 , 18.500467 , 24.998549 ,\n",
       "       24.600054 , 23.000395 , 22.199718 , 19.299923 , 22.600292 ,\n",
       "       19.799646 , 17.100555 , 19.400295 , 22.20002  , 20.700449 ,\n",
       "       21.099976 , 19.50006  , 18.499933 , 20.600424 , 19.000427 ,\n",
       "       18.700485 , 32.700363 , 16.500313 , 23.900024 , 31.200048 ,\n",
       "       17.50004  , 17.200356 , 23.100407 , 24.500175 , 26.599401 ,\n",
       "       22.90039  , 24.100069 , 18.60025  , 30.10016  , 18.2004   ,\n",
       "       20.600292 , 17.798847 , 21.699902 , 22.70009  , 22.599125 ,\n",
       "       24.999495 , 19.900417 , 20.799595 , 16.80021  , 21.900204 ,\n",
       "       27.498774 , 21.899883 , 23.099949 , 49.9996   , 50.000034 ,\n",
       "       49.9976   , 49.99974  , 49.99974  , 13.800148 , 13.800116 ,\n",
       "       14.999892 , 13.899983 , 13.300455 , 13.098896 , 10.200147 ,\n",
       "       10.400268 , 10.900188 , 11.300868 , 12.299523 ,  8.80027  ,\n",
       "        7.2005534, 10.499481 ,  7.400246 , 10.200652 , 11.500096 ,\n",
       "       15.100322 , 23.196455 ,  9.700478 , 13.801157 , 12.699671 ,\n",
       "       13.100073 , 12.500135 ,  8.5003805,  5.000176 ,  6.300075 ,\n",
       "        5.6001225,  7.2004266, 12.099479 ,  8.300448 ,  8.50008  ,\n",
       "        4.999968 , 11.900732 , 27.899729 , 17.199875 , 27.499556 ,\n",
       "       14.999902 , 17.20059  , 17.899004 , 16.300247 ,  7.000175 ,\n",
       "        7.1999226,  7.500378 , 10.39929  ,  8.800016 ,  8.400103 ,\n",
       "       16.700258 , 14.200271 , 20.799654 , 13.399643 , 11.700474 ,\n",
       "        8.3006315, 10.199963 , 10.899881 , 11.00048  ,  9.50023  ,\n",
       "       14.499905 , 14.1003275, 16.100136 , 14.3002825, 11.699743 ,\n",
       "       13.399977 ,  9.600789 ,  8.699778 ,  8.400171 , 12.799489 ,\n",
       "       10.499867 , 17.100403 , 18.399628 , 15.3996935, 10.800056 ,\n",
       "       11.799639 , 14.8995075, 12.600887 , 14.100117 , 13.000336 ,\n",
       "       13.400103 , 15.19986  , 16.100952 , 17.799667 , 14.899246 ,\n",
       "       14.10026  , 12.70016  , 13.500551 , 14.900114 , 19.999327 ,\n",
       "       16.399914 , 17.70144  , 19.50057  , 20.200375 , 21.400217 ,\n",
       "       19.900276 , 18.99804  , 19.099146 , 19.09985  , 20.100275 ,\n",
       "       19.899704 , 19.600355 , 23.198414 , 29.798725 , 13.800098 ,\n",
       "       13.301727 , 16.700232 , 12.000042 , 14.600478 , 21.400145 ,\n",
       "       22.998709 , 23.700369 , 25.00024  , 21.800344 , 20.600426 ,\n",
       "       21.2002   , 19.100191 , 20.599957 , 15.200065 ,  7.0004315,\n",
       "        8.099626 , 13.600329 , 20.100296 , 21.799597 , 24.496256 ,\n",
       "       23.099741 , 19.699911 , 18.300642 , 21.200157 , 17.499924 ,\n",
       "       16.800997 , 22.40014  , 20.599373 , 23.899775 , 22.00039  ,\n",
       "       11.901724 ], dtype=float32)"
      ]
     },
     "execution_count": 16,
     "metadata": {},
     "output_type": "execute_result"
    }
   ],
   "source": [
    "pred"
   ]
  },
  {
   "cell_type": "code",
   "execution_count": null,
   "id": "fbbc4a65-eba6-4e6b-a397-b4d07121706b",
   "metadata": {},
   "outputs": [],
   "source": []
  }
 ],
 "metadata": {
  "kernelspec": {
   "display_name": "Python 3 (ipykernel)",
   "language": "python",
   "name": "python3"
  },
  "language_info": {
   "codemirror_mode": {
    "name": "ipython",
    "version": 3
   },
   "file_extension": ".py",
   "mimetype": "text/x-python",
   "name": "python",
   "nbconvert_exporter": "python",
   "pygments_lexer": "ipython3",
   "version": "3.11.1"
  }
 },
 "nbformat": 4,
 "nbformat_minor": 5
}
