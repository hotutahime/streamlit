{
 "cells": [
  {
   "cell_type": "code",
   "execution_count": 34,
   "id": "7a89d801-3b13-42f9-8491-00bc09833103",
   "metadata": {
    "tags": []
   },
   "outputs": [],
   "source": [
    "#デスクトップアプリ化のためのライブラリ「PySimpleGUI」を読み込み\n",
    "import PySimpleGUI as sg"
   ]
  },
  {
   "cell_type": "code",
   "execution_count": 35,
   "id": "c93a83bf-b4eb-4fa8-8862-e8c3a91ebdeb",
   "metadata": {
    "tags": []
   },
   "outputs": [],
   "source": [
    "#本コード内で一括変更できるように、ここでフォントサイズとフォントを決めておく\n",
    "#size=フォントサイズ、font=フォントファミリー\n",
    "size=(20, 5)\n",
    "font=(\"Yu Gothic\", 20)"
   ]
  },
  {
   "cell_type": "code",
   "execution_count": 37,
   "id": "006120d2-e1ec-499b-920f-a85bbc553030",
   "metadata": {
    "tags": []
   },
   "outputs": [],
   "source": [
    "#layout = []の、[]の中に全体のレイアウトを書いていく\n",
    "#基本は一つの命令が[sg.●●●(内容)]になる\n",
    "#key=\"\"は、そのsgの処理を実行するためのIDのようなもの\n",
    "#default=Trueは、最初から値を入れる、選択されている状態にするというイメージ\n",
    "#唯一group_idだけ使っていないかも\n",
    "#\n",
    "#\n",
    "#\n",
    "layout = [\n",
    "    #ファイルを選択を起動させるが、横のsg.InputTextによって何のファイルを選んでいるかが表示されるようになっている\n",
    "    [sg.FileBrowse(\"ファイル\", font=font), sg.InputText(key=\"filepath\" , font=font)],\n",
    "    #これも一緒で、フォルダ選択が起動するが何のファイルなのか表示されるようになっている\n",
    "    [sg.FolderBrowse(\"フォルダ\", font=font), sg.InputText(font=font)],\n",
    "    [sg.Text(\"三つの数字で計算をします\" , font=font)],\n",
    "    #key=addのaddは単に足し算を意味するもので、こういう指定ワードがあるわけではない（default=Trueによって最初は足し算が選ばれる）\n",
    "    [sg.Radio(\"足し算\" , font=font , key=\"add\" , group_id=\"calc\" , default=True), \n",
    "    sg.Radio(\"引き算\" , font=font , key=\"sub\" , group_id=\"calc\")],\n",
    "    [sg.Checkbox(\"入力1\" , font=font, key=\"c1\" , default=True), \n",
    "     sg.InputText(default_text=\"1\" , font=font , key=\"I1\")],\n",
    "    [sg.Checkbox(\"入力2\" , font=font , key=\"c2\"), \n",
    "     sg.InputText(default_text=\"10\" , font=font , key=\"I2\")],\n",
    "    [sg.Checkbox(\"入力3\" , font=font , key=\"c3\"), \n",
    "     sg.InputText(default_text=\"100\" , font=font , key=\"I3\")],\n",
    "    [sg.Multiline(default_text=\"Multiline\" , font=font)],\n",
    "    #このボタンにbtn1というkey(ID)を設定\n",
    "    [sg.Button(\"計算\", font=font , key=\"btn1\")],\n",
    "    #計算結果がsg.InputTextに表示される。表示される内容はresultイベント※詳しくは下の計算結果から。\n",
    "    [sg.Text(\"計算結果\" , font=font), sg.InputText(font=font, key=\"result\")]\n",
    "]\n",
    "\n",
    "#ただ単にウィンドウ部部に表示される言葉なだけ。\n",
    "window = sg.Window(\"AAAウィンドウタイトル\", layout)\n",
    "\n",
    "#ここからbreakまではおまじないだと思って意味は後々理解すること\n",
    "while True:\n",
    "    event , value = window.read()\n",
    "    if event == None:\n",
    "        break\n",
    "#btn1が押されたらI1とI2とI3をそれぞれi1、i2、i3に代入する\n",
    "    if event == \"btn1\":\n",
    "        i1 = int(value[\"I1\"])\n",
    "        i2 = int(value[\"I2\"])\n",
    "        i3 = float(value[\"I3\"])\n",
    "        sum = 0\n",
    "    \n",
    "#addがONになっていれば、i1i2i3を足し算する\n",
    "    if value[\"add\"] == True:\n",
    "        if value[\"c1\"] == True:\n",
    "            sum += i1\n",
    "        if value[\"c2\"] == True:\n",
    "            sum += i2\n",
    "        if value[\"c3\"] == True:\n",
    "            sum += i3\n",
    "        print(sum)\n",
    "\n",
    "#引き算\n",
    "    if value[\"sub\"] == True:\n",
    "        if value[\"c1\"] == True:\n",
    "            sum -= i1\n",
    "        if value[\"c2\"] == True:\n",
    "            sum -= i2\n",
    "        if value[\"c3\"] == True:\n",
    "            sum -= i3\n",
    "    print(sum)\n",
    "#resultのウィンドウをsumに入れ替える\n",
    "    window[\"result\"].update(sum)\n",
    "        \n",
    "window.close()"
   ]
  },
  {
   "cell_type": "code",
   "execution_count": null,
   "id": "7ffd5cb5-036e-4ba5-90fa-1d12f496f2b5",
   "metadata": {},
   "outputs": [],
   "source": []
  }
 ],
 "metadata": {
  "kernelspec": {
   "display_name": "Python 3 (ipykernel)",
   "language": "python",
   "name": "python3"
  },
  "language_info": {
   "codemirror_mode": {
    "name": "ipython",
    "version": 3
   },
   "file_extension": ".py",
   "mimetype": "text/x-python",
   "name": "python",
   "nbconvert_exporter": "python",
   "pygments_lexer": "ipython3",
   "version": "3.8.16"
  }
 },
 "nbformat": 4,
 "nbformat_minor": 5
}
