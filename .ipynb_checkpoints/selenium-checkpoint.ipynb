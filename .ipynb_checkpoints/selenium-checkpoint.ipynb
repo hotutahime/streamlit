{
 "cells": [
  {
   "cell_type": "code",
   "execution_count": 26,
   "id": "8890ac6c-7351-4a91-83f3-b239c753d75f",
   "metadata": {
    "tags": []
   },
   "outputs": [],
   "source": [
    "from selenium import webdriver"
   ]
  },
  {
   "cell_type": "code",
   "execution_count": 27,
   "id": "2772ef51-efab-4851-95bd-8756d1cb4457",
   "metadata": {
    "tags": []
   },
   "outputs": [],
   "source": [
    "from time import sleep"
   ]
  },
  {
   "cell_type": "code",
   "execution_count": 28,
   "id": "9ff9fd6c-c9b4-400e-8235-b767a64edc67",
   "metadata": {
    "tags": []
   },
   "outputs": [],
   "source": [
    "browser = webdriver.Chrome()"
   ]
  },
  {
   "cell_type": "code",
   "execution_count": 29,
   "id": "d0b86fd2-a5a2-4d36-8b9e-f9d46cc9940f",
   "metadata": {
    "tags": []
   },
   "outputs": [],
   "source": [
    "url = \"https://scraping-for-beginner.herokuapp.com/login_page\"\n",
    "browser.get(url)"
   ]
  },
  {
   "cell_type": "code",
   "execution_count": 35,
   "id": "d2d3b698-84cc-487a-89e9-45ecdf5cf698",
   "metadata": {
    "tags": []
   },
   "outputs": [
    {
     "ename": "NameError",
     "evalue": "name 'by_ID' is not defined",
     "output_type": "error",
     "traceback": [
      "\u001b[0;31m---------------------------------------------------------------------------\u001b[0m",
      "\u001b[0;31mNameError\u001b[0m                                 Traceback (most recent call last)",
      "Cell \u001b[0;32mIn[35], line 1\u001b[0m\n\u001b[0;32m----> 1\u001b[0m elem_username \u001b[38;5;241m=\u001b[39m browser\u001b[38;5;241m.\u001b[39mfind_element(\u001b[43mby_ID\u001b[49m,\u001b[38;5;124m'\u001b[39m\u001b[38;5;124musername\u001b[39m\u001b[38;5;124m'\u001b[39m)\n",
      "\u001b[0;31mNameError\u001b[0m: name 'by_ID' is not defined"
     ]
    }
   ],
   "source": [
    "elem_username = browser.find_element(by_ID,'username')"
   ]
  },
  {
   "cell_type": "code",
   "execution_count": null,
   "id": "20e0a1cb-c261-4b82-bc47-306f2aa8989f",
   "metadata": {},
   "outputs": [],
   "source": []
  }
 ],
 "metadata": {
  "kernelspec": {
   "display_name": "Python 3 (ipykernel)",
   "language": "python",
   "name": "python3"
  },
  "language_info": {
   "codemirror_mode": {
    "name": "ipython",
    "version": 3
   },
   "file_extension": ".py",
   "mimetype": "text/x-python",
   "name": "python",
   "nbconvert_exporter": "python",
   "pygments_lexer": "ipython3",
   "version": "3.11.1"
  }
 },
 "nbformat": 4,
 "nbformat_minor": 5
}
