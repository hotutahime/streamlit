{
 "cells": [
  {
   "cell_type": "code",
   "execution_count": 8,
   "id": "b25071a4-d8b6-4fbb-b376-39c6f1180fec",
   "metadata": {
    "tags": []
   },
   "outputs": [],
   "source": [
    "from selenium import webdriver"
   ]
  },
  {
   "cell_type": "code",
   "execution_count": 9,
   "id": "e0e7f322-748b-4948-a2af-49cff3215632",
   "metadata": {
    "tags": []
   },
   "outputs": [],
   "source": [
    "web = webdriver.Chrome()\n",
    "web.get(\"https://scraping-for-beginner.herokuapp.com/login_page\")"
   ]
  },
  {
   "cell_type": "code",
   "execution_count": 10,
   "id": "3a66e981-a2aa-41c0-8ee9-6b5a3f83f03c",
   "metadata": {
    "tags": []
   },
   "outputs": [
    {
     "name": "stderr",
     "output_type": "stream",
     "text": [
      "/var/folders/m6/pc3bdj354kvdpy2d0y10p3k40000gn/T/ipykernel_2056/1021561220.py:1: DeprecationWarning: find_element_by_* commands are deprecated. Please use find_element() instead\n",
      "  user = web.find_element_by_id(\"username\")\n",
      "/var/folders/m6/pc3bdj354kvdpy2d0y10p3k40000gn/T/ipykernel_2056/1021561220.py:4: DeprecationWarning: find_element_by_* commands are deprecated. Please use find_element() instead\n",
      "  userpass = web.find_element_by_id(\"password\")\n",
      "/var/folders/m6/pc3bdj354kvdpy2d0y10p3k40000gn/T/ipykernel_2056/1021561220.py:7: DeprecationWarning: find_element_by_* commands are deprecated. Please use find_element() instead\n",
      "  login = web.find_element_by_id(\"login-btn\")\n"
     ]
    }
   ],
   "source": [
    "user = web.find_element_by_id(\"username\")\n",
    "user.send_keys(\"imanishi\")\n",
    "\n",
    "userpass = web.find_element_by_id(\"password\")\n",
    "userpass.send_keys(\"kohei\")\n",
    "\n",
    "login = web.find_element_by_id(\"login-btn\")\n",
    "login.click()"
   ]
  },
  {
   "cell_type": "code",
   "execution_count": 13,
   "id": "e2228303-9a1a-4eda-8ed4-9565b4299c1e",
   "metadata": {
    "tags": []
   },
   "outputs": [
    {
     "name": "stderr",
     "output_type": "stream",
     "text": [
      "/var/folders/m6/pc3bdj354kvdpy2d0y10p3k40000gn/T/ipykernel_2056/1814838205.py:1: DeprecationWarning: find_element_by_* commands are deprecated. Please use find_element() instead\n",
      "  elem = web.find_element_by_id(\"name\")\n"
     ]
    }
   ],
   "source": [
    "elem = web.find_element_by_id(\"name\")\n",
    "name = elem.text"
   ]
  },
  {
   "cell_type": "code",
   "execution_count": 17,
   "id": "98e14052-9393-41e2-a9b0-998cc60553c6",
   "metadata": {
    "tags": []
   },
   "outputs": [
    {
     "data": {
      "text/plain": [
       "str"
      ]
     },
     "execution_count": 17,
     "metadata": {},
     "output_type": "execute_result"
    }
   ],
   "source": [
    "type(name)"
   ]
  },
  {
   "cell_type": "code",
   "execution_count": 23,
   "id": "25725c99-4b1b-4d77-a792-c0949494782f",
   "metadata": {
    "tags": []
   },
   "outputs": [
    {
     "name": "stdout",
     "output_type": "stream",
     "text": [
      "株式会社キカガク\n",
      "1994年7月15日\n",
      "千葉県\n",
      "バスケットボール\n",
      "読書\n",
      "ガジェット集め\n"
     ]
    },
    {
     "name": "stderr",
     "output_type": "stream",
     "text": [
      "/var/folders/m6/pc3bdj354kvdpy2d0y10p3k40000gn/T/ipykernel_2056/3109513942.py:1: DeprecationWarning: find_element_by_* commands are deprecated. Please use find_element() instead\n",
      "  company = web.find_element_by_id(\"company\")\n",
      "/var/folders/m6/pc3bdj354kvdpy2d0y10p3k40000gn/T/ipykernel_2056/3109513942.py:2: DeprecationWarning: find_element_by_* commands are deprecated. Please use find_element() instead\n",
      "  birthday = web.find_element_by_id(\"birthday\")\n",
      "/var/folders/m6/pc3bdj354kvdpy2d0y10p3k40000gn/T/ipykernel_2056/3109513942.py:3: DeprecationWarning: find_element_by_* commands are deprecated. Please use find_element() instead\n",
      "  come_from = web.find_element_by_id(\"come_from\")\n",
      "/var/folders/m6/pc3bdj354kvdpy2d0y10p3k40000gn/T/ipykernel_2056/3109513942.py:4: DeprecationWarning: find_element_by_* commands are deprecated. Please use find_element() instead\n",
      "  hobby = web.find_element_by_id(\"hobby\")\n"
     ]
    }
   ],
   "source": [
    "company = web.find_element_by_id(\"company\")\n",
    "birthday = web.find_element_by_id(\"birthday\")\n",
    "come_from = web.find_element_by_id(\"come_from\")\n",
    "hobby = web.find_element_by_id(\"hobby\")\n",
    "\n",
    "print(company.text)\n",
    "print(birthday.text)\n",
    "print(come_from.text)\n",
    "print(hobby.text)"
   ]
  },
  {
   "cell_type": "code",
   "execution_count": null,
   "id": "dae9d641-6eb4-45d9-b192-f86754153250",
   "metadata": {},
   "outputs": [],
   "source": []
  }
 ],
 "metadata": {
  "kernelspec": {
   "display_name": "Python 3 (ipykernel)",
   "language": "python",
   "name": "python3"
  },
  "language_info": {
   "codemirror_mode": {
    "name": "ipython",
    "version": 3
   },
   "file_extension": ".py",
   "mimetype": "text/x-python",
   "name": "python",
   "nbconvert_exporter": "python",
   "pygments_lexer": "ipython3",
   "version": "3.11.1"
  }
 },
 "nbformat": 4,
 "nbformat_minor": 5
}
