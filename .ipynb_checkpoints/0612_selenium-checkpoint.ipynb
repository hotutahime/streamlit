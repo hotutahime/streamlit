{
 "cells": [
  {
   "cell_type": "code",
   "execution_count": 3,
   "id": "183a4de9-fcf1-4ff4-bdef-d5c3e9840407",
   "metadata": {
    "tags": []
   },
   "outputs": [
    {
     "data": {
      "text/plain": [
       "'/Users/kato/.pyenv/versions/3.11.1/lib/python3.11/site-packages/chromedriver_autoinstaller/114/chromedriver'"
      ]
     },
     "execution_count": 3,
     "metadata": {},
     "output_type": "execute_result"
    }
   ],
   "source": [
    "from selenium import webdriver\n",
    "\n",
    "#chrome web driverを自動でインストールしてくれる便利なライブラリ\n",
    "import chromedriver_autoinstaller\n",
    "import time\n",
    "\n",
    "#このコードで自動でchrome web driverの最新版をインストールしてくれる\n",
    "chromedriver_autoinstaller.install()"
   ]
  },
  {
   "cell_type": "code",
   "execution_count": 4,
   "id": "05539f0a-a920-4f7a-9e29-a91569d5a230",
   "metadata": {
    "tags": []
   },
   "outputs": [],
   "source": [
    "from selenium import webdriver\n",
    "import time"
   ]
  },
  {
   "cell_type": "code",
   "execution_count": 6,
   "id": "696a4dbe-1434-4952-9310-661391b93640",
   "metadata": {
    "tags": []
   },
   "outputs": [],
   "source": [
    "#chromeの起動\n",
    "driver = webdriver.Chrome()\n",
    "\n",
    "#pytohnのHPを開く\n",
    "driver.get(\"https://python.org\")\n",
    "\n",
    "#5秒後に閉じる\n",
    "time.sleep(5)\n",
    "driver.quit()"
   ]
  },
  {
   "cell_type": "code",
   "execution_count": 7,
   "id": "60a4f0d5-95d3-4b55-a9aa-5306e2baa563",
   "metadata": {},
   "outputs": [
    {
     "name": "stderr",
     "output_type": "stream",
     "text": [
      "/var/folders/m6/pc3bdj354kvdpy2d0y10p3k40000gn/T/ipykernel_3292/2959301266.py:9: DeprecationWarning: find_element_by_* commands are deprecated. Please use find_element() instead\n",
      "  e = driver.find_element_by_class_name(\"posttitle\")\n"
     ]
    },
    {
     "name": "stdout",
     "output_type": "stream",
     "text": [
      "人はいさ 心も知らず ふるさとは 花ぞ昔の 香に匂ひける --- 百人一首 作\n"
     ]
    }
   ],
   "source": [
    "from selenium import webdriver\n",
    "\n",
    "#chromeの起動\n",
    "driver = webdriver.Chrome()\n",
    "\n",
    "#開くURLを変数に入れる\n",
    "url = \"https://uta.pw/sakusibbs/post.php?mml_id=35\"\n",
    "\n",
    "#chromeでURLを開く\n",
    "driver.get(url)\n",
    "\n",
    "#変数にclass_nameがposttitleの要素を入れる\n",
    "e = driver.find_element_by_class_name(\"posttitle\")\n",
    "\n",
    "#変数のテキストを表示する\n",
    "print(e.text)\n",
    "\n",
    "#driver閉じる\n",
    "driver.close()"
   ]
  },
  {
   "cell_type": "code",
   "execution_count": 8,
   "id": "e4103bf8-2cde-4ca0-9729-af3bacf1bca9",
   "metadata": {
    "tags": []
   },
   "outputs": [
    {
     "name": "stderr",
     "output_type": "stream",
     "text": [
      "/var/folders/m6/pc3bdj354kvdpy2d0y10p3k40000gn/T/ipykernel_3292/3382448292.py:8: DeprecationWarning: find_element_by_* commands are deprecated. Please use find_element() instead\n",
      "  link = driver.find_element_by_link_text(\"名作アーカイブ\")\n"
     ]
    }
   ],
   "source": [
    "from selenium import webdriver\n",
    "import time\n",
    "\n",
    "#chromeを起動する\n",
    "driver = webdriver.Chrome()\n",
    "\n",
    "#指定したURLを開く\n",
    "driver.get(\"https://uta.pw/sakusibbs/\")\n",
    "\n",
    "#「名作アーカイブ」というリンクテキストを変数に入れる\n",
    "link = driver.find_element_by_link_text(\"名作アーカイブ\")\n",
    "\n",
    "#「名作アーカイブ」というリンクテキストをクリックする\n",
    "link.click()\n",
    "\n",
    "#5秒後に閉じる\n",
    "time.sleep(5)\n",
    "driver.close()"
   ]
  },
  {
   "cell_type": "code",
   "execution_count": 9,
   "id": "44342f07-0488-492b-84d4-25ca47f836fe",
   "metadata": {
    "tags": []
   },
   "outputs": [
    {
     "name": "stderr",
     "output_type": "stream",
     "text": [
      "/var/folders/m6/pc3bdj354kvdpy2d0y10p3k40000gn/T/ipykernel_3292/1679883043.py:8: DeprecationWarning: find_element_by_* commands are deprecated. Please use find_element() instead\n",
      "  e1 = driver.find_element_by_name(\"q\")\n"
     ]
    }
   ],
   "source": [
    "from selenium import webdriver\n",
    "import time\n",
    "\n",
    "#chromeを起動する\n",
    "driver = webdriver.Chrome()\n",
    "\n",
    "#googleを開く\n",
    "driver.get(\"https://google.com\")\n",
    "\n",
    "#name(\"q\")の属性を探して\n",
    "e1 = driver.find_element_by_name(\"q\")\n",
    "\n",
    "#「Pythonの教科書」という文字を入力し\n",
    "e1.send_keys(\"Pythonの教科書\")\n",
    "\n",
    "#入力したフォームを送信する\n",
    "e1.submit()\n",
    "\n",
    "#5秒後に閉じる\n",
    "time.sleep(5)\n",
    "driver.close()"
   ]
  },
  {
   "cell_type": "code",
   "execution_count": 7,
   "id": "f9b3b3d5-4450-4bc3-9fdb-a0398389278d",
   "metadata": {
    "tags": []
   },
   "outputs": [
    {
     "name": "stderr",
     "output_type": "stream",
     "text": [
      "/var/folders/m6/pc3bdj354kvdpy2d0y10p3k40000gn/T/ipykernel_1299/4042213513.py:10: DeprecationWarning: find_elements_by_* commands are deprecated. Please use find_elements() instead\n",
      "  a_list = driver.find_elements_by_css_selector(\"ul#mmlist li a\")\n"
     ]
    },
    {
     "name": "stdout",
     "output_type": "stream",
     "text": [
      "■ どこまでも\n",
      "→ https://uta.pw/sakusibbs/post.php?mml_id=1232\n",
      "■ テストとはテスト\n",
      "→ https://uta.pw/sakusibbs/post.php?mml_id=421\n",
      "■ ヨモギ\n",
      "→ https://uta.pw/sakusibbs/post.php?mml_id=347\n",
      "■ すたーとふろむ風呂\n",
      "→ https://uta.pw/sakusibbs/post.php?mml_id=346\n",
      "■ 取り外す\n",
      "→ https://uta.pw/sakusibbs/post.php?mml_id=272\n",
      "■ 危険な試験\n",
      "→ https://uta.pw/sakusibbs/post.php?mml_id=270\n",
      "■ 数え歌\n",
      "→ https://uta.pw/sakusibbs/post.php?mml_id=245\n",
      "■ 爽やかな風の中で\n",
      "→ https://uta.pw/sakusibbs/post.php?mml_id=206\n",
      "■ リトマス紙と私\n",
      "→ https://uta.pw/sakusibbs/post.php?mml_id=141\n",
      "■ サラダよ皿に乗れ\n",
      "→ https://uta.pw/sakusibbs/post.php?mml_id=127\n",
      "■ ずーっとるーむ\n",
      "→ https://uta.pw/sakusibbs/post.php?mml_id=124\n",
      "■ チキンカレーだけが世界\n",
      "→ https://uta.pw/sakusibbs/post.php?mml_id=121\n",
      "■ 夕焼けと船\n",
      "→ https://uta.pw/sakusibbs/post.php?mml_id=118\n",
      "■ 逃亡\n",
      "→ https://uta.pw/sakusibbs/post.php?mml_id=116\n",
      "■ ゆうひ\n",
      "→ https://uta.pw/sakusibbs/post.php?mml_id=110\n",
      "■ おもちゃ箱ガラガラ行進曲の歌詞\n",
      "→ https://uta.pw/sakusibbs/post.php?mml_id=108\n",
      "■ 海辺でゆったり\n",
      "→ https://uta.pw/sakusibbs/post.php?mml_id=105\n"
     ]
    }
   ],
   "source": [
    "from selenium import webdriver\n",
    "import time\n",
    "\n",
    "options = webdriver.ChromeOptions()\n",
    "options.add_argument(\"--headless\")\n",
    "driver = webdriver.Chrome(options=options)\n",
    "\n",
    "driver.get(\"https://uta.pw/sakusibbs/users.php?user_id=1\")\n",
    "\n",
    "a_list = driver.find_elements_by_css_selector(\"ul#mmlist li a\")\n",
    "\n",
    "for a in a_list:\n",
    "    print(\"■\" , a.text)\n",
    "    print(\"→\" , a.get_attribute(\"href\"))\n",
    "\n",
    "time.sleep(3)\n",
    "driver.close()"
   ]
  },
  {
   "cell_type": "code",
   "execution_count": 10,
   "id": "5db8395e-72a8-4351-9b81-c2a94515f11f",
   "metadata": {},
   "outputs": [],
   "source": [
    "#エラーになる\n",
    "\n",
    "# from selenium import webdriver\n",
    "\n",
    "# url = \"https://python.org\"\n",
    "\n",
    "# save_file = \"screenshot_full.png\"\n",
    "\n",
    "# def screenshot_full(url , save_file):\n",
    "#     w , h = get_page_size(url)\n",
    "#     screenshot_size(url , save_file , w , h)\n",
    "\n",
    "# def get_page_size(url):\n",
    "#     driver = webdriver.Chrome()\n",
    "#     w = driver.execute_script(\"return document.body.scrollWidth:\")\n",
    "#     h = driver.execute_script(\"return document.body.scrollHeight:\")\n",
    "#     driver.close()\n",
    "#     print(\"page_size=\" , w , h)\n",
    "#     return(w , h)\n",
    "\n",
    "# def screenshot_size(url , save_file , w , h):\n",
    "#     options = webdriver.ChromeOptions()\n",
    "#     options.add_argument(\"--headless\")\n",
    "#     win_size = \"window-size-\" + str(w)+ \",\" +str(h)\n",
    "#     options.add_argument(win_size)\n",
    "#     cap_driver = webdriver.Chrome(options=options)\n",
    "#     cap_driver.get(url)\n",
    "#     cap_driver.save_screenshot(save_file)\n",
    "#     cap_driver.close()\n",
    "\n",
    "# if __name__ == \"__main__\":\n",
    "#     screenshot_full(url , save_file)"
   ]
  },
  {
   "cell_type": "code",
   "execution_count": 14,
   "id": "666f00df-0d88-410c-b6e3-c1418b806bf1",
   "metadata": {
    "tags": []
   },
   "outputs": [],
   "source": [
    "# from selenium import webdriver\n",
    "# import os , time\n",
    "\n",
    "# login_url = \"https://uta.pw/sakusibbs/users.php?action=login&\"\n",
    "# user_id , password = (\"JS-TESTER\" , \"ipCU12ySxI\")\n",
    "\n",
    "# save_dir = os.path.dirname(os.path.abspath(\"__file__\"))\n",
    "# save_file = save_dir + \"/list.csv\"\n",
    "# options = webdriver.ChromeOptions()\n",
    "# options.add_experimental_option(\"prefs\",{\"download.default_directory\":save_dir})\n",
    "\n",
    "# def login_download():\n",
    "#     driver = webdriver.Chrome(options=options)\n",
    "#     try_login(driver)\n",
    "#     link_click(driver , \"マイページ\")\n",
    "#     link_click(driver , \"CSVでダウンロード\")\n",
    "#     for i in range(30):\n",
    "#         if os.path.exists(save_file): break\n",
    "#         time.sleep(1)\n",
    "\n",
    "# def try_login(driver):\n",
    "#     usr = driver.find_element_by_name(\"username_mm1bbs6\")\n",
    "#     usr.send_keys(user_id)\n",
    "#     pwd = driver.find_element_by_name(\"password_mm1bbs6\")\n",
    "#     pwd.send_keys(password)\n",
    "#     pwd.submit()\n",
    "\n",
    "# def link_clikck(driver , label):\n",
    "#     a = driver.find_element_by_partial_link_text(label)\n",
    "#     a.click()\n",
    "\n",
    "# if __name__ == \"__main__\":\n",
    "#     login_download()"
   ]
  },
  {
   "cell_type": "code",
   "execution_count": 16,
   "id": "df35bb58-182f-41bf-9378-66a44f17a8d5",
   "metadata": {
    "tags": []
   },
   "outputs": [
    {
     "name": "stderr",
     "output_type": "stream",
     "text": [
      "/var/folders/m6/pc3bdj354kvdpy2d0y10p3k40000gn/T/ipykernel_1299/3901958458.py:35: DeprecationWarning: find_element_by_* commands are deprecated. Please use find_element() instead\n",
      "  usr = driver.find_element_by_name('username_mmlbbs6')\n",
      "/var/folders/m6/pc3bdj354kvdpy2d0y10p3k40000gn/T/ipykernel_1299/3901958458.py:37: DeprecationWarning: find_element_by_* commands are deprecated. Please use find_element() instead\n",
      "  pwd = driver.find_element_by_name('password_mmlbbs6')\n",
      "/var/folders/m6/pc3bdj354kvdpy2d0y10p3k40000gn/T/ipykernel_1299/3901958458.py:43: DeprecationWarning: find_element_by_* commands are deprecated. Please use find_element() instead\n",
      "  a = driver.find_element_by_partial_link_text(label)\n"
     ]
    }
   ],
   "source": [
    "#サンプルコードからコピー。きちんと動く。\n",
    "\n",
    "from selenium import webdriver\n",
    "import os, time\n",
    "\n",
    "# 作詞掲示板のログインの情報を指定 --- (*1)\n",
    "login_url = 'https://uta.pw/sakusibbs/users.php?action=login'\n",
    "user_id, password = ('JS-TESTER', 'ipCU12ySxI')\n",
    "# 保存先フォルダ(絶対パスで指定) --- (*2)\n",
    "save_dir = os.path.dirname(os.path.abspath(\"__file__\"))\n",
    "save_file = save_dir + '/list.csv'\n",
    "# Chromeのオプションで保存先フォルダを設定 --- (*3)\n",
    "options = webdriver.ChromeOptions()\n",
    "options.add_experimental_option('prefs', {\n",
    "    'download.default_directory': save_dir})\n",
    "\n",
    "# メイン処理 --- (*4)\n",
    "def login_download():\n",
    "    # Chromeを起動 --- (*5)\n",
    "    driver = webdriver.Chrome(options=options)\n",
    "    # ログイン処理実行 --- (*6)\n",
    "    try_login(driver)\n",
    "    # マイページに行く --- (*7)\n",
    "    link_click(driver, 'マイページ')\n",
    "    # ダウンロード --- (*8)\n",
    "    link_click(driver, 'CSVでダウンロード')\n",
    "    # ダウンロード完了まで最大30秒待機 --- (*9)\n",
    "    for i in range(30):\n",
    "        if os.path.exists(save_file): break\n",
    "        time.sleep(1)\n",
    "\n",
    "# ログイン処理 --- (*10)\n",
    "def try_login(driver):\n",
    "    # ログインページを開く --- (*11)\n",
    "    driver.get(login_url)\n",
    "    # ユーザー名とパスワードを書き込む --- (*12)\n",
    "    usr = driver.find_element_by_name('username_mmlbbs6')\n",
    "    usr.send_keys(user_id)\n",
    "    pwd = driver.find_element_by_name('password_mmlbbs6')\n",
    "    pwd.send_keys(password)\n",
    "    pwd.submit() # 送信 \n",
    "\n",
    "# ラベルを指定してリンクを検索しクリックする --- (*13)\n",
    "def link_click(driver, label):\n",
    "    a = driver.find_element_by_partial_link_text(label)\n",
    "    a.click()\n",
    "\n",
    "if __name__ == '__main__':\n",
    "    login_download()"
   ]
  },
  {
   "cell_type": "code",
   "execution_count": null,
   "id": "72f1d1cd-4534-4e6a-9a41-65b76cab851f",
   "metadata": {},
   "outputs": [],
   "source": []
  }
 ],
 "metadata": {
  "kernelspec": {
   "display_name": "Python 3 (ipykernel)",
   "language": "python",
   "name": "python3"
  },
  "language_info": {
   "codemirror_mode": {
    "name": "ipython",
    "version": 3
   },
   "file_extension": ".py",
   "mimetype": "text/x-python",
   "name": "python",
   "nbconvert_exporter": "python",
   "pygments_lexer": "ipython3",
   "version": "3.11.1"
  }
 },
 "nbformat": 4,
 "nbformat_minor": 5
}
