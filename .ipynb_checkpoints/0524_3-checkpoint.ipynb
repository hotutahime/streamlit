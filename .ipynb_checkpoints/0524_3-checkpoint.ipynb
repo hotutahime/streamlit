{
 "cells": [
  {
   "cell_type": "code",
   "execution_count": 4,
   "id": "fdafb8f6-c903-4178-8111-9c4e656b0b80",
   "metadata": {
    "tags": []
   },
   "outputs": [],
   "source": [
    "import PySimpleGUI as sg\n",
    "import requests"
   ]
  },
  {
   "cell_type": "code",
   "execution_count": 5,
   "id": "b11c775c-d0ea-49b0-9542-9d24478c68b0",
   "metadata": {
    "tags": []
   },
   "outputs": [],
   "source": [
    "layout = [\n",
    "    [sg.Text(\"郵便番号：\"),\n",
    "    sg.InputText(key=\"-NUMBER1-\" , size=(10,3)),\n",
    "    sg.Text(\"-\"),\n",
    "    sg.InputText(key=\"-NUMBER2-\" , size=(10,3))],\n",
    "    [sg.Text(\"住所：\" , size=(5,5)),\n",
    "    sg.Text(key=\"-ADDRESS-\", size=(20,5))],\n",
    "    [sg.Button(\"実行\" , key=\"-SUBMIT-\")]\n",
    "]"
   ]
  },
  {
   "cell_type": "code",
   "execution_count": 6,
   "id": "85ace53d-91aa-467e-b6ce-255e6cc566ca",
   "metadata": {
    "tags": []
   },
   "outputs": [],
   "source": [
    "window = sg.Window(\"テストアプリ\" , layout, size=(300, 150))"
   ]
  },
  {
   "cell_type": "code",
   "execution_count": 8,
   "id": "d373acae-13c8-4d3f-8bdb-2ebdbad68e7b",
   "metadata": {
    "tags": []
   },
   "outputs": [],
   "source": [
    "while True:\n",
    "    event , values = window.read()\n",
    "    \n",
    "    if event == \"-SUBMIT-\":\n",
    "        num1 = values[\"-NUMBER1-\"]\n",
    "        num2 = values[\"-NUMBER2-\"]\n",
    "        #リクエストURL（HPに書いている・エンドポイントとも言う）\n",
    "        URL = \"https://zipcloud.ibsnet.co.jp/api/search\"\n",
    "        #リクエストパラメータ（リクエストURLの後ろに「？」を付けてからくっ付ける\n",
    "        #URLがリクエストURL\n",
    "        #?zipcode=までが、このサイトでのリクエストパラメータ\n",
    "        #=郵便番号を指定すると結果が返ってくるが、ここでは郵便番号を変数で指定している\n",
    "        #やり方が書いていなければgetを使う\n",
    "        res = requests.get(f\"{URL}?zipcode={num1}{num2}\")\n",
    "        res_json = res.json()\n",
    "        if res_json[\"status\"] == 200:\n",
    "            result = res_json[\"results\"][0]\n",
    "            adr1 = result[\"address1\"]\n",
    "            adr2 = result[\"address2\"]\n",
    "            adr3 = result[\"address3\"]\n",
    "            window[\"-ADDRESS-\"].update(f\"{adr1}{adr2}{adr3}\")\n",
    "        else:\n",
    "            window[\"-ADDRESS-\"].update(\"住所の取得に失敗しました\")\n",
    "    \n",
    "    if event == sg.WIN_CLOSED:\n",
    "        break"
   ]
  },
  {
   "cell_type": "code",
   "execution_count": null,
   "id": "0996e40d-dbf1-4bb0-b7a5-569e77f7a07d",
   "metadata": {},
   "outputs": [],
   "source": []
  }
 ],
 "metadata": {
  "kernelspec": {
   "display_name": "Python 3 (ipykernel)",
   "language": "python",
   "name": "python3"
  },
  "language_info": {
   "codemirror_mode": {
    "name": "ipython",
    "version": 3
   },
   "file_extension": ".py",
   "mimetype": "text/x-python",
   "name": "python",
   "nbconvert_exporter": "python",
   "pygments_lexer": "ipython3",
   "version": "3.8.16"
  }
 },
 "nbformat": 4,
 "nbformat_minor": 5
}
