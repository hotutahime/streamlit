{
 "cells": [
  {
   "cell_type": "code",
   "execution_count": 6,
   "id": "62653fe7-0c1b-41f4-ab0d-65548b986884",
   "metadata": {
    "tags": []
   },
   "outputs": [],
   "source": [
    "from selenium import webdriver"
   ]
  },
  {
   "cell_type": "code",
   "execution_count": 10,
   "id": "e84c2d23-f83a-47cd-a90b-0d157ff4c5d8",
   "metadata": {
    "tags": []
   },
   "outputs": [
    {
     "name": "stderr",
     "output_type": "stream",
     "text": [
      "/var/folders/m6/pc3bdj354kvdpy2d0y10p3k40000gn/T/ipykernel_1846/4185480328.py:1: DeprecationWarning: executable_path has been deprecated, please pass in a Service object\n",
      "  driver = webdriver.Chrome(\"/Users/kato/Desktop/mypython/chromedriver_mac_arm64./chromedriver\")\n"
     ]
    },
    {
     "ename": "NameError",
     "evalue": "name 'driverimplicitly_wait' is not defined",
     "output_type": "error",
     "traceback": [
      "\u001b[0;31m---------------------------------------------------------------------------\u001b[0m",
      "\u001b[0;31mNameError\u001b[0m                                 Traceback (most recent call last)",
      "Cell \u001b[0;32mIn[10], line 2\u001b[0m\n\u001b[1;32m      1\u001b[0m driver \u001b[38;5;241m=\u001b[39m webdriver\u001b[38;5;241m.\u001b[39mChrome(\u001b[38;5;124m\"\u001b[39m\u001b[38;5;124m/Users/kato/Desktop/mypython/chromedriver_mac_arm64./chromedriver\u001b[39m\u001b[38;5;124m\"\u001b[39m)\n\u001b[0;32m----> 2\u001b[0m \u001b[43mdriverimplicitly_wait\u001b[49m(\u001b[38;5;241m10\u001b[39m)\n\u001b[1;32m      3\u001b[0m driver\u001b[38;5;241m.\u001b[39mget(\n\u001b[1;32m      4\u001b[0m     \u001b[38;5;124m\"\u001b[39m\u001b[38;5;124mhttps://www.library.chiyoda.tokyo.jp/\u001b[39m\u001b[38;5;124m\"\u001b[39m)\n\u001b[1;32m      5\u001b[0m e1 \u001b[38;5;241m=\u001b[39m driver\u001b[38;5;241m.\u001b[39mfind_element_by_class_name(\u001b[38;5;124m\"\u001b[39m\u001b[38;5;124mxxx\u001b[39m\u001b[38;5;124m\"\u001b[39m)\n",
      "\u001b[0;31mNameError\u001b[0m: name 'driverimplicitly_wait' is not defined"
     ]
    }
   ],
   "source": [
    "driver = webdriver.Chrome(\"/Users/kato/Desktop/mypython/chromedriver_mac_arm64./chromedriver\")\n",
    "driverimplicitly_wait(10)\n",
    "driver.get(\n",
    "    \"https://www.library.chiyoda.tokyo.jp/\")\n",
    "e1 = driver.find_element_by_class_name(\"xxx\")"
   ]
  },
  {
   "cell_type": "code",
   "execution_count": null,
   "id": "e91c3192-9837-4944-8274-3a7c8b363736",
   "metadata": {},
   "outputs": [],
   "source": []
  }
 ],
 "metadata": {
  "kernelspec": {
   "display_name": "Python 3 (ipykernel)",
   "language": "python",
   "name": "python3"
  },
  "language_info": {
   "codemirror_mode": {
    "name": "ipython",
    "version": 3
   },
   "file_extension": ".py",
   "mimetype": "text/x-python",
   "name": "python",
   "nbconvert_exporter": "python",
   "pygments_lexer": "ipython3",
   "version": "3.11.1"
  }
 },
 "nbformat": 4,
 "nbformat_minor": 5
}
