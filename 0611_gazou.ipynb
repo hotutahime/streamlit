{
 "cells": [
  {
   "cell_type": "code",
   "execution_count": 3,
   "id": "0eb111bc-5b93-48d2-a733-f91b40938906",
   "metadata": {
    "tags": []
   },
   "outputs": [],
   "source": [
    "import cv2"
   ]
  },
  {
   "cell_type": "code",
   "execution_count": 7,
   "id": "3498c9ed-09ac-4dc0-a87e-7993881ce45d",
   "metadata": {
    "tags": []
   },
   "outputs": [
    {
     "name": "stdout",
     "output_type": "stream",
     "text": [
      "画像幅:1920\n",
      "画像高さ:1440\n"
     ]
    }
   ],
   "source": [
    "img = cv2.imread(\"/Users/kato/Desktop/python/nock/100knock-data_analytics/9章/img/img01.jpg\")\n",
    "height , width = img.shape[:2]\n",
    "print(\"画像幅:\" + str(width))\n",
    "print(\"画像高さ:\" + str(height))"
   ]
  },
  {
   "cell_type": "code",
   "execution_count": null,
   "id": "fa8c6abf-8d15-40a0-bc02-82a9ca57f550",
   "metadata": {},
   "outputs": [],
   "source": [
    "import matplotlib.pyplot as plt\n",
    "from matplotlib.animation import FuncAnimation\n",
    "from IPython.display import HTML"
   ]
  }
 ],
 "metadata": {
  "kernelspec": {
   "display_name": "Python 3 (ipykernel)",
   "language": "python",
   "name": "python3"
  },
  "language_info": {
   "codemirror_mode": {
    "name": "ipython",
    "version": 3
   },
   "file_extension": ".py",
   "mimetype": "text/x-python",
   "name": "python",
   "nbconvert_exporter": "python",
   "pygments_lexer": "ipython3",
   "version": "3.11.1"
  }
 },
 "nbformat": 4,
 "nbformat_minor": 5
}
