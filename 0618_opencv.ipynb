{
 "cells": [
  {
   "cell_type": "code",
   "execution_count": 1,
   "id": "8f03a13a-f8ea-457c-bf2b-cf087e3514f7",
   "metadata": {
    "tags": []
   },
   "outputs": [],
   "source": [
    "import os\n",
    "\n",
    "import cv2\n",
    "from IPython.display import Image, display\n",
    "\n",
    "\n",
    "def imshow(img):\n",
    "    \"\"\"ndarray 配列をインラインで Notebook 上に表示する。\n",
    "    \"\"\"\n",
    "    ret, encoded = cv2.imencode(\"/Users/kato/Desktop/python/img_4cfb13e2021364c2bb128f49a8856d6a245829.jpg\", img)\n",
    "    display(Image(encoded))\n",
    "\n",
    "\n",
    "# 正面の顔を検出するカスケード分類器を作成する。\n",
    "cascade_path = os.path.join(\n",
    "    cv2.data.haarcascades, \"haarcascade_frontalface_default.xml\"\n",
    ")\n",
    "face_cascade = cv2.CascadeClassifier(cascade_path)"
   ]
  },
  {
   "cell_type": "code",
   "execution_count": 2,
   "id": "af58cdf5-d78d-4919-867b-203546cefeab",
   "metadata": {
    "tags": []
   },
   "outputs": [
    {
     "ename": "error",
     "evalue": "OpenCV(4.7.0) /Users/xperience/GHA-OCV-Python/_work/opencv-python/opencv-python/opencv/modules/imgproc/src/color.cpp:182: error: (-215:Assertion failed) !_src.empty() in function 'cvtColor'\n",
     "output_type": "error",
     "traceback": [
      "\u001b[0;31m---------------------------------------------------------------------------\u001b[0m",
      "\u001b[0;31merror\u001b[0m                                     Traceback (most recent call last)",
      "Cell \u001b[0;32mIn[2], line 5\u001b[0m\n\u001b[1;32m      2\u001b[0m img \u001b[38;5;241m=\u001b[39m cv2\u001b[38;5;241m.\u001b[39mimread(\u001b[38;5;124m\"\u001b[39m\u001b[38;5;124m/Users/kato/Desktop/python/img_4cfb13e2021364c2bb128f49a8856d6a245829.jpg\u001b[39m\u001b[38;5;124m\"\u001b[39m)\n\u001b[1;32m      4\u001b[0m \u001b[38;5;66;03m# グレースケールに変換する。\u001b[39;00m\n\u001b[0;32m----> 5\u001b[0m gray \u001b[38;5;241m=\u001b[39m \u001b[43mcv2\u001b[49m\u001b[38;5;241;43m.\u001b[39;49m\u001b[43mcvtColor\u001b[49m\u001b[43m(\u001b[49m\u001b[43mimg\u001b[49m\u001b[43m,\u001b[49m\u001b[43m \u001b[49m\u001b[43mcv2\u001b[49m\u001b[38;5;241;43m.\u001b[39;49m\u001b[43mCOLOR_BGR2GRAY\u001b[49m\u001b[43m)\u001b[49m\n",
      "\u001b[0;31merror\u001b[0m: OpenCV(4.7.0) /Users/xperience/GHA-OCV-Python/_work/opencv-python/opencv-python/opencv/modules/imgproc/src/color.cpp:182: error: (-215:Assertion failed) !_src.empty() in function 'cvtColor'\n"
     ]
    }
   ],
   "source": [
    "# 画像を読み込む。\n",
    "img = cv2.imread(\"/Users/kato/Desktop/python/img_4cfb13e2021364c2bb128f49a8856d6a245829.jpg\")\n",
    "\n",
    "# グレースケールに変換する。\n",
    "gray = cv2.cvtColor(img, cv2.COLOR_BGR2GRAY)"
   ]
  },
  {
   "cell_type": "code",
   "execution_count": null,
   "id": "60dea56d-4242-44dd-90c2-7e734690e741",
   "metadata": {
    "tags": []
   },
   "outputs": [],
   "source": [
    "# 検出する。\n",
    "faces = face_cascade.detectMultiScale(gray)\n",
    "\n",
    "# 矩形を画像に描画する。\n",
    "for x, y, w, h in faces:\n",
    "    cv2.rectangle(img, (x, y), (x + w, y + h), color=(0, 255, 0), thickness=2)\n",
    "imshow(img)"
   ]
  },
  {
   "cell_type": "code",
   "execution_count": null,
   "id": "bf9d929d-191a-4eb9-8d8d-593a63ae5a02",
   "metadata": {
    "tags": []
   },
   "outputs": [],
   "source": [
    "# 目を検出するカスケード分類器を作成する。\n",
    "cascade_path = os.path.join(cv2.data.haarcascades, \"haarcascade_eye.xml\")\n",
    "eye_cascade = cv2.CascadeClassifier(cascade_path)\n",
    "\n",
    "for x, y, w, h in faces:\n",
    "    # 顔の領域を切り取る。\n",
    "    roi = gray[y : y + h, x : x + w]\n",
    "\n",
    "    # 目を検出する。\n",
    "    eyes = eye_cascade.detectMultiScale(roi, minNeighbors=5)\n",
    "\n",
    "    # 矩形を画像に描画する。\n",
    "    for ex, ey, ew, eh in eyes:\n",
    "        cv2.rectangle(\n",
    "            img,\n",
    "            (x + ex, y + ey),\n",
    "            (x + ex + ew, y + ey + eh),\n",
    "            color=(255, 0, 0),\n",
    "            thickness=2,\n",
    "        )\n",
    "\n",
    "\n",
    "imshow(img)"
   ]
  },
  {
   "cell_type": "code",
   "execution_count": null,
   "id": "03d47e98-7547-452a-9670-c5b97476a907",
   "metadata": {},
   "outputs": [],
   "source": []
  }
 ],
 "metadata": {
  "kernelspec": {
   "display_name": "Python 3 (ipykernel)",
   "language": "python",
   "name": "python3"
  },
  "language_info": {
   "codemirror_mode": {
    "name": "ipython",
    "version": 3
   },
   "file_extension": ".py",
   "mimetype": "text/x-python",
   "name": "python",
   "nbconvert_exporter": "python",
   "pygments_lexer": "ipython3",
   "version": "3.11.1"
  }
 },
 "nbformat": 4,
 "nbformat_minor": 5
}
