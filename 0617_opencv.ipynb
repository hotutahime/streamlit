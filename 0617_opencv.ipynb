{
 "cells": [
  {
   "cell_type": "code",
   "execution_count": 1,
   "id": "1c94673f-2e1f-4e14-9e55-abfb2f1d839b",
   "metadata": {
    "tags": []
   },
   "outputs": [
    {
     "data": {
      "text/plain": [
       "3"
      ]
     },
     "execution_count": 1,
     "metadata": {},
     "output_type": "execute_result"
    }
   ],
   "source": [
    "import cv2\n",
    "img = cv2.imread(\"/Users/kato/Downloads/uchidenokoduchi_eto08_hitsuji.png\")\n",
    "\n",
    "cv2.startWindowThread()\n",
    "cv2.imshow(\"image\" , img)\n",
    "cv2.waitKey(0)\n",
    "cv2.destroyAllWindows()\n",
    "cv2.waitKey(0)"
   ]
  },
  {
   "cell_type": "code",
   "execution_count": 2,
   "id": "f5ce884a-3cbd-4d7c-9748-0a1fd585e0ce",
   "metadata": {},
   "outputs": [
    {
     "data": {
      "text/plain": [
       "3"
      ]
     },
     "execution_count": 2,
     "metadata": {},
     "output_type": "execute_result"
    }
   ],
   "source": [
    "import cv2\n",
    "img = cv2.imread(\"/Users/kato/Downloads/uchidenokoduchi_eto08_hitsuji.png\")\n",
    "img = cv2.flip(img, 1)\n",
    "\n",
    "cv2.startWindowThread()\n",
    "cv2.imshow(\"image\" , img)\n",
    "cv2.waitKey(0)\n",
    "cv2.destroyAllWindows()\n",
    "cv2.waitKey(0)"
   ]
  },
  {
   "cell_type": "code",
   "execution_count": 3,
   "id": "404fa744-0b5c-487a-8dd1-890f3844107d",
   "metadata": {
    "tags": []
   },
   "outputs": [
    {
     "data": {
      "text/plain": [
       "3"
      ]
     },
     "execution_count": 3,
     "metadata": {},
     "output_type": "execute_result"
    }
   ],
   "source": [
    "import cv2\n",
    "img = cv2.imread(\"/Users/kato/Downloads/uchidenokoduchi_eto08_hitsuji.png\")\n",
    "img = cv2.cvtColor(img, cv2.COLOR_BGR2GRAY)\n",
    "\n",
    "cv2.startWindowThread()\n",
    "cv2.imshow(\"image\" , img)\n",
    "cv2.waitKey(0)\n",
    "cv2.destroyAllWindows()\n",
    "cv2.waitKey(0)"
   ]
  },
  {
   "cell_type": "code",
   "execution_count": 4,
   "id": "438d213b-0148-4a14-9078-d77fb03776d6",
   "metadata": {
    "tags": []
   },
   "outputs": [
    {
     "data": {
      "text/plain": [
       "3"
      ]
     },
     "execution_count": 4,
     "metadata": {},
     "output_type": "execute_result"
    }
   ],
   "source": [
    "import cv2\n",
    "img = cv2.imread(\"/Users/kato/Downloads/uchidenokoduchi_eto08_hitsuji.png\")\n",
    "\n",
    "size = 224\n",
    "img = cv2.resize(img, (size , size))\n",
    "\n",
    "cv2.startWindowThread()\n",
    "cv2.imshow(\"image\" , img)\n",
    "cv2.waitKey(0)\n",
    "cv2.destroyAllWindows()\n",
    "cv2.waitKey(0)"
   ]
  },
  {
   "cell_type": "code",
   "execution_count": 5,
   "id": "60f0aec7-4419-4361-8ad1-c2d8f3d9b852",
   "metadata": {
    "tags": []
   },
   "outputs": [
    {
     "data": {
      "text/plain": [
       "3"
      ]
     },
     "execution_count": 5,
     "metadata": {},
     "output_type": "execute_result"
    }
   ],
   "source": [
    "import cv2\n",
    "img = cv2.imread(\"/Users/kato/Downloads/money_creditcard_cut.png\")\n",
    "\n",
    "cv2.startWindowThread()\n",
    "cv2.imshow(\"image\" , img)\n",
    "cv2.waitKey(0)\n",
    "cv2.destroyAllWindows()\n",
    "cv2.waitKey(0)"
   ]
  },
  {
   "cell_type": "code",
   "execution_count": 6,
   "id": "cb518477-69ed-41fa-8cbb-eceb01268573",
   "metadata": {
    "tags": []
   },
   "outputs": [
    {
     "data": {
      "text/plain": [
       "3"
      ]
     },
     "execution_count": 6,
     "metadata": {},
     "output_type": "execute_result"
    }
   ],
   "source": [
    "import cv2\n",
    "\n",
    "img1 = cv2.imread(\"/Users/kato/Downloads/uchidenokoduchi_eto08_hitsuji.png\")\n",
    "img2 = cv2.imread(\"/Users/kato/Downloads/money_creditcard_cut.png\")\n",
    "\n",
    "img2 = cv2.resize(img2 , img1.shape[1::-1])\n",
    "\n",
    "img = cv2.addWeighted(img1 , 0.5 , img2 , 0.5 , 0)\n",
    "\n",
    "cv2.startWindowThread()\n",
    "cv2.imshow(\"image\" , img)\n",
    "cv2.waitKey(0)\n",
    "cv2.destroyAllWindows()\n",
    "cv2.waitKey(0)"
   ]
  },
  {
   "cell_type": "code",
   "execution_count": 7,
   "id": "4339665c-9cd6-475f-9bb4-2822119e9b1d",
   "metadata": {
    "tags": []
   },
   "outputs": [],
   "source": [
    "import cv2\n",
    "\n",
    "def Face_Cut(img):\n",
    "    cascade_file = \"haarcascade_frontalfae_alt_xml\"\n",
    "    cascade = cv2.CascadeClassifier(cascade_file)\n",
    "    \n",
    "    gray = cv2.cvtColor(img , cv2.COLOR_BGR2GRAY)\n",
    "    \n",
    "    face_list = cascade.detectMultiScale(gray,\n",
    "                                         scaleFactor=1.11,\n",
    "                                         minNeighbors=5,\n",
    "                                         minSize=(128,128),\n",
    "                                         flags = cv2.CASCADE_SCALE_IMAGE)\n",
    "    \n",
    "    \n",
    "    color = (0,0,255)\n",
    "    \n",
    "    if len(face_list) > 0:\n",
    "        x,y,w,h = face\n",
    "        cv2.rectangle(img,(x,y),(x+w,y+h),color,thickness=2)\n",
    "    \n",
    "    return img"
   ]
  },
  {
   "cell_type": "code",
   "execution_count": 8,
   "id": "ce272b64-7573-4e4a-99a2-6381baa3b1ed",
   "metadata": {
    "tags": []
   },
   "outputs": [
    {
     "name": "stderr",
     "output_type": "stream",
     "text": [
      "[ERROR:0@15.529] global persistence.cpp:505 open Can't open file: 'haarcascade_frontalfae_alt_xml' in read mode\n"
     ]
    },
    {
     "ename": "error",
     "evalue": "OpenCV(4.7.0) /Users/xperience/GHA-OCV-Python/_work/opencv-python/opencv-python/opencv/modules/imgproc/src/color.cpp:182: error: (-215:Assertion failed) !_src.empty() in function 'cvtColor'\n",
     "output_type": "error",
     "traceback": [
      "\u001b[0;31m---------------------------------------------------------------------------\u001b[0m",
      "\u001b[0;31merror\u001b[0m                                     Traceback (most recent call last)",
      "Cell \u001b[0;32mIn[8], line 5\u001b[0m\n\u001b[1;32m      3\u001b[0m \u001b[38;5;28;01mwhile\u001b[39;00m \u001b[38;5;28;01mTrue\u001b[39;00m:\n\u001b[1;32m      4\u001b[0m     ret , frame \u001b[38;5;241m=\u001b[39m cap\u001b[38;5;241m.\u001b[39mread()\n\u001b[0;32m----> 5\u001b[0m     img \u001b[38;5;241m=\u001b[39m \u001b[43mFace_Cut\u001b[49m\u001b[43m(\u001b[49m\u001b[43mframe\u001b[49m\u001b[43m)\u001b[49m\n\u001b[1;32m      6\u001b[0m     cv2\u001b[38;5;241m.\u001b[39mstartWindowThread()\n\u001b[1;32m      7\u001b[0m     cv2\u001b[38;5;241m.\u001b[39mimshow(\u001b[38;5;124m\"\u001b[39m\u001b[38;5;124mFrame\u001b[39m\u001b[38;5;124m\"\u001b[39m , img)\n",
      "Cell \u001b[0;32mIn[7], line 7\u001b[0m, in \u001b[0;36mFace_Cut\u001b[0;34m(img)\u001b[0m\n\u001b[1;32m      4\u001b[0m cascade_file \u001b[38;5;241m=\u001b[39m \u001b[38;5;124m\"\u001b[39m\u001b[38;5;124mhaarcascade_frontalfae_alt_xml\u001b[39m\u001b[38;5;124m\"\u001b[39m\n\u001b[1;32m      5\u001b[0m cascade \u001b[38;5;241m=\u001b[39m cv2\u001b[38;5;241m.\u001b[39mCascadeClassifier(cascade_file)\n\u001b[0;32m----> 7\u001b[0m gray \u001b[38;5;241m=\u001b[39m \u001b[43mcv2\u001b[49m\u001b[38;5;241;43m.\u001b[39;49m\u001b[43mcvtColor\u001b[49m\u001b[43m(\u001b[49m\u001b[43mimg\u001b[49m\u001b[43m \u001b[49m\u001b[43m,\u001b[49m\u001b[43m \u001b[49m\u001b[43mcv2\u001b[49m\u001b[38;5;241;43m.\u001b[39;49m\u001b[43mCOLOR_BGR2GRAY\u001b[49m\u001b[43m)\u001b[49m\n\u001b[1;32m      9\u001b[0m face_list \u001b[38;5;241m=\u001b[39m cascade\u001b[38;5;241m.\u001b[39mdetectMultiScale(gray,\n\u001b[1;32m     10\u001b[0m                                      scaleFactor\u001b[38;5;241m=\u001b[39m\u001b[38;5;241m1.11\u001b[39m,\n\u001b[1;32m     11\u001b[0m                                      minNeighbors\u001b[38;5;241m=\u001b[39m\u001b[38;5;241m5\u001b[39m,\n\u001b[1;32m     12\u001b[0m                                      minSize\u001b[38;5;241m=\u001b[39m(\u001b[38;5;241m128\u001b[39m,\u001b[38;5;241m128\u001b[39m),\n\u001b[1;32m     13\u001b[0m                                      flags \u001b[38;5;241m=\u001b[39m cv2\u001b[38;5;241m.\u001b[39mCASCADE_SCALE_IMAGE)\n\u001b[1;32m     16\u001b[0m color \u001b[38;5;241m=\u001b[39m (\u001b[38;5;241m0\u001b[39m,\u001b[38;5;241m0\u001b[39m,\u001b[38;5;241m255\u001b[39m)\n",
      "\u001b[0;31merror\u001b[0m: OpenCV(4.7.0) /Users/xperience/GHA-OCV-Python/_work/opencv-python/opencv-python/opencv/modules/imgproc/src/color.cpp:182: error: (-215:Assertion failed) !_src.empty() in function 'cvtColor'\n"
     ]
    }
   ],
   "source": [
    "cap = cv2.VideoCapture(0)\n",
    "\n",
    "while True:\n",
    "    ret , frame = cap.read()\n",
    "    img = Face_Cut(frame)\n",
    "    cv2.startWindowThread()\n",
    "    cv2.imshow(\"Frame\" , img)\n",
    "    k = cv2.waitKey(1)\n",
    "    if k == 27:\n",
    "        break\n",
    "\n",
    "cap.release()\n",
    "cv2.waitKey(0)\n",
    "cv2.destroyAllWindows()\n",
    "cv2.waitKey(0)"
   ]
  },
  {
   "cell_type": "code",
   "execution_count": null,
   "id": "c9f7c2c5-6812-4db9-a25d-e763c190ba8b",
   "metadata": {},
   "outputs": [],
   "source": []
  }
 ],
 "metadata": {
  "kernelspec": {
   "display_name": "Python 3 (ipykernel)",
   "language": "python",
   "name": "python3"
  },
  "language_info": {
   "codemirror_mode": {
    "name": "ipython",
    "version": 3
   },
   "file_extension": ".py",
   "mimetype": "text/x-python",
   "name": "python",
   "nbconvert_exporter": "python",
   "pygments_lexer": "ipython3",
   "version": "3.11.1"
  }
 },
 "nbformat": 4,
 "nbformat_minor": 5
}
