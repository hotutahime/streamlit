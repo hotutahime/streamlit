{
 "cells": [
  {
   "cell_type": "code",
   "execution_count": null,
   "id": "3e22334c-a43d-47df-b766-fa6bc5fcda08",
   "metadata": {
    "tags": []
   },
   "outputs": [],
   "source": [
    "import cv2"
   ]
  },
  {
   "cell_type": "code",
   "execution_count": null,
   "id": "88c1ad78-4005-461d-899c-481b93494696",
   "metadata": {
    "tags": []
   },
   "outputs": [],
   "source": [
    "img = cv2.imread(\"/Users/kato/Downloads/uchidenokoduchi_eto08_hitsuji.png\")\n",
    "\n",
    "cv2.imshow(\"image\" , img)\n",
    "cv2.waitKey(0)\n",
    "cv2.destroyAllWindows()"
   ]
  },
  {
   "cell_type": "code",
   "execution_count": null,
   "id": "c50c263a-c143-4c4f-ae91-7b6fa3bb2c22",
   "metadata": {
    "tags": []
   },
   "outputs": [],
   "source": [
    "cv2.destroyAllWindows()"
   ]
  },
  {
   "cell_type": "code",
   "execution_count": null,
   "id": "9e55ec6a-d128-460d-a9d1-3b4696e65307",
   "metadata": {},
   "outputs": [],
   "source": []
  }
 ],
 "metadata": {
  "kernelspec": {
   "display_name": "Python 3 (ipykernel)",
   "language": "python",
   "name": "python3"
  },
  "language_info": {
   "codemirror_mode": {
    "name": "ipython",
    "version": 3
   },
   "file_extension": ".py",
   "mimetype": "text/x-python",
   "name": "python",
   "nbconvert_exporter": "python",
   "pygments_lexer": "ipython3",
   "version": "3.11.1"
  }
 },
 "nbformat": 4,
 "nbformat_minor": 5
}
