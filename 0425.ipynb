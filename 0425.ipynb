{
 "cells": [
  {
   "cell_type": "code",
   "execution_count": null,
   "id": "40f25a0f-fafc-4530-b39e-bf5322c030cd",
   "metadata": {},
   "outputs": [],
   "source": []
  },
  {
   "cell_type": "code",
   "execution_count": null,
   "id": "30213083-c61a-4f7f-9f7b-4b6bc86f1680",
   "metadata": {},
   "outputs": [],
   "source": []
  },
  {
   "cell_type": "code",
   "execution_count": 6,
   "id": "995803b7-b3a2-4b11-8400-c0cb59b3f62e",
   "metadata": {
    "tags": []
   },
   "outputs": [],
   "source": [
    "from PIL import Image"
   ]
  },
  {
   "cell_type": "code",
   "execution_count": 11,
   "id": "b47ba817-0cde-4327-9cce-2864c06ef6af",
   "metadata": {
    "tags": []
   },
   "outputs": [],
   "source": [
    "image = Image.open(\"/Users/kato/Downloads/skitch.png\")"
   ]
  },
  {
   "cell_type": "code",
   "execution_count": 12,
   "id": "c7f332dc-b01f-4585-bffa-fc0e4f032a3e",
   "metadata": {
    "tags": []
   },
   "outputs": [],
   "source": [
    "import pytesseract"
   ]
  },
  {
   "cell_type": "code",
   "execution_count": 13,
   "id": "dbefa24f-2c61-4b8d-b978-a0a24cb585f8",
   "metadata": {
    "tags": []
   },
   "outputs": [],
   "source": [
    "text = pytesseract.image_to_string(image, lang=\"eng\")"
   ]
  },
  {
   "cell_type": "code",
   "execution_count": 14,
   "id": "11a97357-5394-4201-bd06-70e94fb59ec2",
   "metadata": {},
   "outputs": [
    {
     "name": "stdout",
     "output_type": "stream",
     "text": [
      "Classmethod\n",
      "\n",
      "Providing continuous support of creative activities to all people\n",
      "\n"
     ]
    }
   ],
   "source": [
    "print(text)"
   ]
  },
  {
   "cell_type": "code",
   "execution_count": null,
   "id": "94df44d8-6127-4fb5-ab4f-246a8b0f8648",
   "metadata": {},
   "outputs": [],
   "source": []
  }
 ],
 "metadata": {
  "kernelspec": {
   "display_name": "Python 3 (ipykernel)",
   "language": "python",
   "name": "python3"
  },
  "language_info": {
   "codemirror_mode": {
    "name": "ipython",
    "version": 3
   },
   "file_extension": ".py",
   "mimetype": "text/x-python",
   "name": "python",
   "nbconvert_exporter": "python",
   "pygments_lexer": "ipython3",
   "version": "3.11.1"
  }
 },
 "nbformat": 4,
 "nbformat_minor": 5
}
