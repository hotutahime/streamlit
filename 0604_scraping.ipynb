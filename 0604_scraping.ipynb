{
 "cells": [
  {
   "cell_type": "code",
   "execution_count": 1,
   "id": "5ebe4108-81ca-4bf1-a11c-1f87eb9f6aae",
   "metadata": {
    "tags": []
   },
   "outputs": [],
   "source": [
    "from urllib.request import urlopen\n",
    "from urllib.error import HTTPError\n",
    "from urllib.error import URLError\n",
    "from bs4 import BeautifulSoup"
   ]
  },
  {
   "cell_type": "code",
   "execution_count": 2,
   "id": "82c3c399-5229-4ebd-83c6-23173e7ffd87",
   "metadata": {
    "tags": []
   },
   "outputs": [
    {
     "name": "stdout",
     "output_type": "stream",
     "text": [
      "<h1>An Interesting Title</h1>\n"
     ]
    }
   ],
   "source": [
    "html = urlopen(\"http://pythonscraping.com/pages/page1.html\")\n",
    "bs = BeautifulSoup(html , \"html.parser\")\n",
    "print(bs.h1)"
   ]
  },
  {
   "cell_type": "code",
   "execution_count": 3,
   "id": "ea06df57-e556-4150-bce6-e63a04101027",
   "metadata": {
    "tags": []
   },
   "outputs": [
    {
     "name": "stdout",
     "output_type": "stream",
     "text": [
      "It Worked\n"
     ]
    }
   ],
   "source": [
    "try:\n",
    "    html = urlopen(\"http://pythonscraping.com/pages/page1.html\")\n",
    "except HTTPError as e:\n",
    "    print(e)\n",
    "except URLError as e:\n",
    "    print(\"The server could not be found!\")\n",
    "else:\n",
    "    print(\"It Worked\")"
   ]
  },
  {
   "cell_type": "code",
   "execution_count": 4,
   "id": "632622f6-dad9-4d81-b17c-432e754137dd",
   "metadata": {
    "tags": []
   },
   "outputs": [
    {
     "name": "stdout",
     "output_type": "stream",
     "text": [
      "None\n"
     ]
    },
    {
     "name": "stderr",
     "output_type": "stream",
     "text": [
      "/var/folders/m6/pc3bdj354kvdpy2d0y10p3k40000gn/T/ipykernel_1765/2784940019.py:1: DeprecationWarning: .nonExistentTag is deprecated, use .find(\"nonExistent\") instead. If you really were looking for a tag called nonExistentTag, use .find(\"nonExistentTag\")\n",
      "  print(bs.nonExistentTag)\n"
     ]
    }
   ],
   "source": [
    "print(bs.nonExistentTag)"
   ]
  },
  {
   "cell_type": "code",
   "execution_count": 5,
   "id": "dbf960ab-f876-488c-972c-6da8af2b9882",
   "metadata": {
    "tags": []
   },
   "outputs": [
    {
     "name": "stdout",
     "output_type": "stream",
     "text": [
      "Tag was not found\n"
     ]
    },
    {
     "name": "stderr",
     "output_type": "stream",
     "text": [
      "/var/folders/m6/pc3bdj354kvdpy2d0y10p3k40000gn/T/ipykernel_1765/1498459533.py:2: DeprecationWarning: .nonExisitingTag is deprecated, use .find(\"nonExisiting\") instead. If you really were looking for a tag called nonExisitingTag, use .find(\"nonExisitingTag\")\n",
      "  badContent = bs.nonExisitingTag.anotherTag\n"
     ]
    }
   ],
   "source": [
    "try:\n",
    "    badContent = bs.nonExisitingTag.anotherTag\n",
    "except AttributeError as e:\n",
    "    print(\"Tag was not found\")\n",
    "else:\n",
    "    if badContent == None:\n",
    "        print(\"Tag was not found\")\n",
    "    else:\n",
    "        print(badContent)"
   ]
  },
  {
   "cell_type": "code",
   "execution_count": 6,
   "id": "01e54cc0-a628-432b-903b-11f0acd656a9",
   "metadata": {
    "tags": []
   },
   "outputs": [
    {
     "name": "stdout",
     "output_type": "stream",
     "text": [
      "<h1>An Interesting Title</h1>\n"
     ]
    }
   ],
   "source": [
    "def getTitle(url):\n",
    "    try:\n",
    "        html = urlopen(url)\n",
    "    except HTTPError as e:\n",
    "        return None\n",
    "    try:\n",
    "        bs = BeautifulSoup(html.read() , \"html.parser\")\n",
    "        title = bs.body.h1\n",
    "    except AttributeError as e:\n",
    "        return None\n",
    "    return title\n",
    "\n",
    "title = getTitle(\"http://pythonscraping.com/pages/page1.html\")\n",
    "if title == None:\n",
    "    print(\"Title could not be found\")\n",
    "else:\n",
    "    print(title)"
   ]
  },
  {
   "cell_type": "code",
   "execution_count": 7,
   "id": "adbcdccb-e31f-40b6-80f6-f75d55887dd0",
   "metadata": {
    "tags": []
   },
   "outputs": [],
   "source": [
    "html = urlopen(\"https://www.pythonscraping.com/pages/warandpeace.html\")\n",
    "bs = BeautifulSoup(html.read() , \"html.parser\")"
   ]
  },
  {
   "cell_type": "code",
   "execution_count": 8,
   "id": "7a4be4c1-e658-484c-a16f-be34e74639c5",
   "metadata": {
    "tags": []
   },
   "outputs": [],
   "source": [
    "namelist = bs.find_all(\"span\" , {\"calss\":\"green\"})\n",
    "for name in namelist:\n",
    "    print(name.get_text())"
   ]
  },
  {
   "cell_type": "code",
   "execution_count": 9,
   "id": "76745ff0-0e1d-4723-b965-f349d2aded37",
   "metadata": {
    "tags": []
   },
   "outputs": [
    {
     "name": "stdout",
     "output_type": "stream",
     "text": [
      "7\n"
     ]
    },
    {
     "name": "stderr",
     "output_type": "stream",
     "text": [
      "/var/folders/m6/pc3bdj354kvdpy2d0y10p3k40000gn/T/ipykernel_1765/2646743857.py:1: DeprecationWarning: The 'text' argument to find()-type methods is deprecated. Use 'string' instead.\n",
      "  namelist = bs.find_all(text = \"the prince\")\n"
     ]
    }
   ],
   "source": [
    "namelist = bs.find_all(text = \"the prince\")\n",
    "print(len(namelist))"
   ]
  },
  {
   "cell_type": "code",
   "execution_count": 11,
   "id": "fae64f4f-c14d-4d38-aa6e-befb95b9e327",
   "metadata": {
    "tags": []
   },
   "outputs": [],
   "source": [
    "html = urlopen(\"http://www.pythonscraping.com/pages/page3.html\")\n",
    "bs = BeautifulSoup(html , \"html.parser\")"
   ]
  },
  {
   "cell_type": "code",
   "execution_count": null,
   "id": "29a60079-24e5-493b-ab8b-69680cd11ea4",
   "metadata": {},
   "outputs": [],
   "source": []
  }
 ],
 "metadata": {
  "kernelspec": {
   "display_name": "Python 3 (ipykernel)",
   "language": "python",
   "name": "python3"
  },
  "language_info": {
   "codemirror_mode": {
    "name": "ipython",
    "version": 3
   },
   "file_extension": ".py",
   "mimetype": "text/x-python",
   "name": "python",
   "nbconvert_exporter": "python",
   "pygments_lexer": "ipython3",
   "version": "3.11.1"
  }
 },
 "nbformat": 4,
 "nbformat_minor": 5
}
