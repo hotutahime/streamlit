{
 "cells": [
  {
   "cell_type": "code",
   "execution_count": 11,
   "id": "994f86e7-01c1-4604-b70c-46a3a3aa3bb3",
   "metadata": {
    "tags": []
   },
   "outputs": [
    {
     "ename": "AttributeError",
     "evalue": "'NoneType' object has no attribute 'find_all'",
     "output_type": "error",
     "traceback": [
      "\u001b[0;31m---------------------------------------------------------------------------\u001b[0m",
      "\u001b[0;31mAttributeError\u001b[0m                            Traceback (most recent call last)",
      "Cell \u001b[0;32mIn[11], line 18\u001b[0m\n\u001b[1;32m     15\u001b[0m table \u001b[38;5;241m=\u001b[39m soup\u001b[38;5;241m.\u001b[39mfind(\u001b[38;5;124m'\u001b[39m\u001b[38;5;124mtable\u001b[39m\u001b[38;5;124m'\u001b[39m, {\u001b[38;5;124m'\u001b[39m\u001b[38;5;124mclass\u001b[39m\u001b[38;5;124m'\u001b[39m: \u001b[38;5;124m'\u001b[39m\u001b[38;5;124mhtlListTable\u001b[39m\u001b[38;5;124m'\u001b[39m})\n\u001b[1;32m     17\u001b[0m \u001b[38;5;66;03m# テーブル内の各行を処理\u001b[39;00m\n\u001b[0;32m---> 18\u001b[0m \u001b[38;5;28;01mfor\u001b[39;00m row \u001b[38;5;129;01min\u001b[39;00m \u001b[43mtable\u001b[49m\u001b[38;5;241;43m.\u001b[39;49m\u001b[43mfind_all\u001b[49m(\u001b[38;5;124m'\u001b[39m\u001b[38;5;124mtr\u001b[39m\u001b[38;5;124m'\u001b[39m)[\u001b[38;5;241m1\u001b[39m:]:\n\u001b[1;32m     19\u001b[0m     \u001b[38;5;66;03m# ホテル名を取得\u001b[39;00m\n\u001b[1;32m     20\u001b[0m     hotel_name \u001b[38;5;241m=\u001b[39m row\u001b[38;5;241m.\u001b[39mfind(\u001b[38;5;124m'\u001b[39m\u001b[38;5;124mtd\u001b[39m\u001b[38;5;124m'\u001b[39m, {\u001b[38;5;124m'\u001b[39m\u001b[38;5;124mclass\u001b[39m\u001b[38;5;124m'\u001b[39m: \u001b[38;5;124m'\u001b[39m\u001b[38;5;124mhtlListHotelName\u001b[39m\u001b[38;5;124m'\u001b[39m})\u001b[38;5;241m.\u001b[39mtext\u001b[38;5;241m.\u001b[39mstrip()\n\u001b[1;32m     21\u001b[0m     \u001b[38;5;66;03m# 住所を取得\u001b[39;00m\n",
      "\u001b[0;31mAttributeError\u001b[0m: 'NoneType' object has no attribute 'find_all'"
     ]
    }
   ],
   "source": [
    "import requests\n",
    "from bs4 import BeautifulSoup\n",
    "\n",
    "# 青森市のホテル一覧ページのURL\n",
    "url = 'https://www.travel.co.jp/hotel/list/?s=3&aldf=1&wd=%E9%9D%92%E6%A3%AE%E5%B8%82'\n",
    "\n",
    "# requestsを使ってHTMLデータを取得\n",
    "response = requests.get(url)\n",
    "html = response.content\n",
    "\n",
    "# BeautifulSoupを使ってHTMLをパース\n",
    "soup = BeautifulSoup(html, 'html.parser')\n",
    "\n",
    "# ホテル一覧のテーブルを取得\n",
    "table = soup.find('table', {'class': 'htlListTable'})\n",
    "\n",
    "# テーブル内の各行を処理\n",
    "for row in table.find_all('tr')[1:]:\n",
    "    # ホテル名を取得\n",
    "    hotel_name = row.find('td', {'class': 'htlListHotelName'}).text.strip()\n",
    "    # 住所を取得\n",
    "    address = row.find('td', {'class': 'htlListAddress'}).text.strip()\n",
    "    # 空室状況を取得\n",
    "    availability = row.find('td', {'class': 'htlListAvailability'}).text.strip()\n",
    "    # 青森市にあるホテルのみを表示\n",
    "    if '青森市' in address:\n",
    "        print(hotel_name)\n",
    "        print(address)\n",
    "        print(availability)\n",
    "        print('-----------------------')"
   ]
  },
  {
   "cell_type": "code",
   "execution_count": null,
   "id": "347d11de-8291-4683-a5e7-cdabfec64d64",
   "metadata": {},
   "outputs": [],
   "source": []
  }
 ],
 "metadata": {
  "kernelspec": {
   "display_name": "Python 3 (ipykernel)",
   "language": "python",
   "name": "python3"
  },
  "language_info": {
   "codemirror_mode": {
    "name": "ipython",
    "version": 3
   },
   "file_extension": ".py",
   "mimetype": "text/x-python",
   "name": "python",
   "nbconvert_exporter": "python",
   "pygments_lexer": "ipython3",
   "version": "3.11.1"
  }
 },
 "nbformat": 4,
 "nbformat_minor": 5
}
