{
 "cells": [
  {
   "cell_type": "code",
   "execution_count": 1,
   "id": "d49c152c-8961-4923-87d1-7aed7c9a6fa6",
   "metadata": {
    "tags": []
   },
   "outputs": [],
   "source": [
    "import requests\n",
    "import json"
   ]
  },
  {
   "cell_type": "code",
   "execution_count": 2,
   "id": "a7d64747-9a18-4935-895f-49d1571c5b5e",
   "metadata": {
    "tags": []
   },
   "outputs": [],
   "source": [
    "url = \"http://api.openweathermap.org/data/2.5/weather?q=(city)&appid={key}&lang=ja&units=metric\""
   ]
  },
  {
   "cell_type": "code",
   "execution_count": 3,
   "id": "8effc659-a758-4307-8640-e762e229c4ee",
   "metadata": {
    "tags": []
   },
   "outputs": [],
   "source": [
    "url = url.format(city=\"kobe,JP\", key=\"5c73a9afe371e82456944e038dda739f\")"
   ]
  },
  {
   "cell_type": "code",
   "execution_count": 4,
   "id": "6ee1143b-db7c-4df0-b4db-f6413c3f938c",
   "metadata": {
    "tags": []
   },
   "outputs": [
    {
     "name": "stdout",
     "output_type": "stream",
     "text": [
      "{'cod': 401, 'message': 'Invalid API key. Please see https://openweathermap.org/faq#error401 for more info.'}\n"
     ]
    }
   ],
   "source": [
    "jsondata = requests.get(url).json()\n",
    "print(jsondata)"
   ]
  },
  {
   "cell_type": "code",
   "execution_count": null,
   "id": "d8b5a818-8d72-4ac3-831a-ebe57f6eb306",
   "metadata": {},
   "outputs": [],
   "source": []
  }
 ],
 "metadata": {
  "kernelspec": {
   "display_name": "Python 3 (ipykernel)",
   "language": "python",
   "name": "python3"
  },
  "language_info": {
   "codemirror_mode": {
    "name": "ipython",
    "version": 3
   },
   "file_extension": ".py",
   "mimetype": "text/x-python",
   "name": "python",
   "nbconvert_exporter": "python",
   "pygments_lexer": "ipython3",
   "version": "3.11.1"
  }
 },
 "nbformat": 4,
 "nbformat_minor": 5
}
