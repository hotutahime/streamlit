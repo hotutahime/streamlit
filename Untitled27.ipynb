{
 "cells": [
  {
   "cell_type": "code",
   "execution_count": 1,
   "id": "349a8a73-3792-4cdd-a308-7a0bef52f2bb",
   "metadata": {
    "tags": []
   },
   "outputs": [
    {
     "name": "stderr",
     "output_type": "stream",
     "text": [
      "2023-06-25 00:27:47.168 python3.11[7071:128067] _TIPropertyValueIsValid called with 4 on nil context!\n",
      "2023-06-25 00:27:47.168 python3.11[7071:128067] imkxpc_getApplicationProperty:reply: called with incorrect property value 4, bailing.\n",
      "2023-06-25 00:27:47.168 python3.11[7071:128067] Text input context does not respond to _valueForTIProperty:\n",
      "2023-06-25 00:27:47.172 python3.11[7071:128067] _TIPropertyValueIsValid called with 4 on nil context!\n",
      "2023-06-25 00:27:47.172 python3.11[7071:128067] imkxpc_getApplicationProperty:reply: called with incorrect property value 4, bailing.\n",
      "2023-06-25 00:27:47.172 python3.11[7071:128067] Text input context does not respond to _valueForTIProperty:\n"
     ]
    },
    {
     "data": {
      "text/plain": [
       "-1"
      ]
     },
     "execution_count": 1,
     "metadata": {},
     "output_type": "execute_result"
    }
   ],
   "source": [
    "import cv2\n",
    "\n",
    "cap = cv2.VideoCapture(1)\n",
    "red = (0, 0, 255)\n",
    "avg = None\n",
    "objects = {}  # オブジェクトの辞書 {ID: (x, y, count)}\n",
    "\n",
    "while True:\n",
    "    ret, frame = cap.read()\n",
    "    \n",
    "    if not ret:\n",
    "        break\n",
    "    \n",
    "    gray = cv2.cvtColor(frame, cv2.COLOR_BGR2GRAY)\n",
    "    \n",
    "    if avg is None:\n",
    "        avg = gray.copy().astype(\"float\")\n",
    "        continue\n",
    "    \n",
    "    cv2.accumulateWeighted(gray, avg, 0.50)\n",
    "    frameDelta = cv2.absdiff(gray, cv2.convertScaleAbs(avg))\n",
    "    \n",
    "    thresh = cv2.threshold(frameDelta, 10, 255, cv2.THRESH_BINARY)[1]\n",
    "    contours, hierarchy = cv2.findContours(thresh.copy(),\n",
    "                                           cv2.RETR_EXTERNAL,\n",
    "                                           cv2.CHAIN_APPROX_SIMPLE)\n",
    "    \n",
    "    for target in contours:\n",
    "        x, y, w, h = cv2.boundingRect(target)\n",
    "        \n",
    "        if w < 200:\n",
    "            continue\n",
    "        \n",
    "        found = False\n",
    "        \n",
    "        for object_id, (object_x, object_y, count) in objects.items():\n",
    "            distance = abs(x - object_x) + abs(y - object_y)\n",
    "            \n",
    "            if distance < 20:  # 新しいオブジェクトと既存のオブジェクトが近い場合\n",
    "                objects[object_id] = (x, y, count + 1)  # 既存のオブジェクトを更新\n",
    "                found = True\n",
    "                break\n",
    "        \n",
    "        if not found:  # 新しいオブジェクトが\n",
    "            new_id = max(objects.keys()) + 1 if objects else 1\n",
    "            objects[new_id] = (x, y, 1)  # 新しいオブジェクトを追加\n",
    "    \n",
    "    for object_id, (object_x, object_y, count) in objects.items():\n",
    "        if count > 0:\n",
    "            cv2.putText(frame, f\"ID: {object_id}\", (object_x, object_y - 10),\n",
    "                        cv2.FONT_HERSHEY_SIMPLEX, 0.9, red, 2)\n",
    "            cv2.putText(frame, f\"Count: {count}\", (object_x, object_y + 30),\n",
    "                        cv2.FONT_HERSHEY_SIMPLEX, 0.9, red, 2)\n",
    "    \n",
    "    cv2.imshow(\"camera\", frame)\n",
    "    \n",
    "    key = cv2.waitKey(10)\n",
    "    if key == 27:\n",
    "        break\n",
    "\n",
    "cap.release()\n",
    "cv2.waitKey(1)\n",
    "cv2.destroyAllWindows()\n",
    "cv2.waitKey(1)"
   ]
  },
  {
   "cell_type": "code",
   "execution_count": null,
   "id": "add26bf2-086c-41ba-890a-ada7eb546e48",
   "metadata": {},
   "outputs": [],
   "source": []
  }
 ],
 "metadata": {
  "kernelspec": {
   "display_name": "Python 3 (ipykernel)",
   "language": "python",
   "name": "python3"
  },
  "language_info": {
   "codemirror_mode": {
    "name": "ipython",
    "version": 3
   },
   "file_extension": ".py",
   "mimetype": "text/x-python",
   "name": "python",
   "nbconvert_exporter": "python",
   "pygments_lexer": "ipython3",
   "version": "3.11.1"
  }
 },
 "nbformat": 4,
 "nbformat_minor": 5
}
