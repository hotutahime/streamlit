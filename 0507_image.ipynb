{
 "cells": [
  {
   "cell_type": "code",
   "execution_count": 20,
   "id": "7110bf02-c5f8-47a2-9048-8371310e911b",
   "metadata": {
    "tags": []
   },
   "outputs": [],
   "source": [
    "import requests\n",
    "from pathlib import Path"
   ]
  },
  {
   "cell_type": "code",
   "execution_count": 21,
   "id": "c2fab838-aecd-48a5-9224-4c019d16bf06",
   "metadata": {
    "tags": []
   },
   "outputs": [],
   "source": [
    "out_folder = Path(\"/Users/kato/Desktop/mypython/2nen/download\")\n",
    "out_folder.mkdir(exist_ok = True)"
   ]
  },
  {
   "cell_type": "code",
   "execution_count": 27,
   "id": "65e17629-82eb-49e6-b643-f0ecd9b3f5b9",
   "metadata": {
    "tags": []
   },
   "outputs": [],
   "source": [
    "image_url = \"https://www.ymori.com/books/python2nen/sample1.png\"\n",
    "imgdata = requests.get(image_url)"
   ]
  },
  {
   "cell_type": "code",
   "execution_count": 23,
   "id": "37156e63-a565-474e-9297-4b19cf582a0f",
   "metadata": {
    "tags": []
   },
   "outputs": [],
   "source": [
    "filename = image_url.split(\"/\")[-1]\n",
    "out_path = out_folder.joinpath(filename)"
   ]
  },
  {
   "cell_type": "code",
   "execution_count": 28,
   "id": "cd9cf4fa-8309-4002-84bd-097c1aa4a0bd",
   "metadata": {
    "tags": []
   },
   "outputs": [],
   "source": [
    "with open(out_path , mode=\"wb\") as f:\n",
    "    f.write(imgdata.content)"
   ]
  },
  {
   "cell_type": "code",
   "execution_count": null,
   "id": "6c5406e0-ced0-4918-b11e-00ea50017269",
   "metadata": {},
   "outputs": [],
   "source": []
  }
 ],
 "metadata": {
  "kernelspec": {
   "display_name": "Python 3 (ipykernel)",
   "language": "python",
   "name": "python3"
  },
  "language_info": {
   "codemirror_mode": {
    "name": "ipython",
    "version": 3
   },
   "file_extension": ".py",
   "mimetype": "text/x-python",
   "name": "python",
   "nbconvert_exporter": "python",
   "pygments_lexer": "ipython3",
   "version": "3.11.1"
  }
 },
 "nbformat": 4,
 "nbformat_minor": 5
}
