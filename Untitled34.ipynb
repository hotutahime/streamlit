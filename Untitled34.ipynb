{
 "cells": [
  {
   "cell_type": "code",
   "execution_count": 1,
   "id": "1d1f3c72-54c3-4ac3-a3df-993881616080",
   "metadata": {
    "tags": []
   },
   "outputs": [],
   "source": [
    "import requests\n",
    "from bs4 import BeautifulSoup"
   ]
  },
  {
   "cell_type": "code",
   "execution_count": 2,
   "id": "697c489f-8089-4478-8e8f-01ae3e24a29c",
   "metadata": {
    "tags": []
   },
   "outputs": [],
   "source": [
    "url = \"https://travel.rakuten.co.jp/vacancy/#regular/normal/2/2/aomori/\""
   ]
  },
  {
   "cell_type": "code",
   "execution_count": 3,
   "id": "59b6ab5a-276a-4df4-af71-56c933ceda13",
   "metadata": {
    "tags": []
   },
   "outputs": [],
   "source": [
    "res = requests.get(url)\n",
    "res.encoding = res.apparent_encoding\n",
    "soup = BeautifulSoup(res.content, \"html.parser\")"
   ]
  },
  {
   "cell_type": "code",
   "execution_count": 6,
   "id": "8c1d0965-c8db-483d-adff-9ec773045285",
   "metadata": {
    "tags": []
   },
   "outputs": [
    {
     "data": {
      "text/plain": [
       "[]"
      ]
     },
     "execution_count": 6,
     "metadata": {},
     "output_type": "execute_result"
    }
   ],
   "source": [
    "soup.select(\"#vacantCalendar > div:nth-child(3) > table > tbody > tr:nth-child(2) > td.barely > a\")"
   ]
  },
  {
   "cell_type": "code",
   "execution_count": null,
   "id": "4df85eae-66d5-41c4-b481-bbf8f1b0bd33",
   "metadata": {},
   "outputs": [],
   "source": []
  }
 ],
 "metadata": {
  "kernelspec": {
   "display_name": "Python 3 (ipykernel)",
   "language": "python",
   "name": "python3"
  },
  "language_info": {
   "codemirror_mode": {
    "name": "ipython",
    "version": 3
   },
   "file_extension": ".py",
   "mimetype": "text/x-python",
   "name": "python",
   "nbconvert_exporter": "python",
   "pygments_lexer": "ipython3",
   "version": "3.11.1"
  }
 },
 "nbformat": 4,
 "nbformat_minor": 5
}
