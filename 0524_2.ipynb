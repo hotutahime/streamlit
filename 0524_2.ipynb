{
 "cells": [
  {
   "cell_type": "code",
   "execution_count": 1,
   "id": "af0479f6-dcce-4f56-b03b-7cc626d65617",
   "metadata": {
    "tags": []
   },
   "outputs": [],
   "source": [
    "import PySimpleGUI as sg"
   ]
  },
  {
   "cell_type": "code",
   "execution_count": 2,
   "id": "f48b3abb-cd1d-4697-b92c-7f7c93c834d4",
   "metadata": {
    "tags": []
   },
   "outputs": [
    {
     "data": {
      "text/plain": [
       "'BluePurple'"
      ]
     },
     "execution_count": 2,
     "metadata": {},
     "output_type": "execute_result"
    }
   ],
   "source": [
    "sg.theme(\"BluePurple\")"
   ]
  },
  {
   "cell_type": "code",
   "execution_count": 3,
   "id": "4ca77044-f34a-4eb5-b525-b6606637d9be",
   "metadata": {
    "tags": []
   },
   "outputs": [],
   "source": [
    "layout = [\n",
    "    [sg.Text(\"牛乳（150円）：\"),\n",
    "     sg.Combo(list(range(1, 11)), key=\"-QUANTITY-\"),\n",
    "     sg.Text(\"個\")],\n",
    "    [sg.Button(\"購入\" , key=\"-SUBMIT-\")],\n",
    "    [sg.Text(key=\"-AMOUNT-\" , size=(120,10))]]"
   ]
  },
  {
   "cell_type": "code",
   "execution_count": 4,
   "id": "36be9f28-efe7-468b-861f-f04c3ce55ea2",
   "metadata": {
    "tags": []
   },
   "outputs": [],
   "source": [
    "window = sg.Window(\"テストアプリ\" , layout , size=(300,150))"
   ]
  },
  {
   "cell_type": "code",
   "execution_count": 5,
   "id": "7c2f3a73-3fa6-4fc8-be7f-a138d93b6ca1",
   "metadata": {
    "tags": []
   },
   "outputs": [],
   "source": [
    "while True:\n",
    "    event, values = window.read()\n",
    "    if event == \"-SUBMIT-\":\n",
    "        total = 150 * int(values[\"-QUANTITY-\"])\n",
    "        window[\"-AMOUNT-\"].update(value=f'金額:{total}')\n",
    "    if event == sg.WIN_CLOSED:\n",
    "        break"
   ]
  },
  {
   "cell_type": "code",
   "execution_count": null,
   "id": "f9f0a1a7-c279-4296-ac71-ea6856887025",
   "metadata": {},
   "outputs": [],
   "source": []
  }
 ],
 "metadata": {
  "kernelspec": {
   "display_name": "Python 3 (ipykernel)",
   "language": "python",
   "name": "python3"
  },
  "language_info": {
   "codemirror_mode": {
    "name": "ipython",
    "version": 3
   },
   "file_extension": ".py",
   "mimetype": "text/x-python",
   "name": "python",
   "nbconvert_exporter": "python",
   "pygments_lexer": "ipython3",
   "version": "3.8.16"
  }
 },
 "nbformat": 4,
 "nbformat_minor": 5
}
