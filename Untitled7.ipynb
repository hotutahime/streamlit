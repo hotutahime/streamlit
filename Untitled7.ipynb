{
 "cells": [
  {
   "cell_type": "code",
   "execution_count": 1,
   "id": "3bed6ffb-dbb0-409a-97f4-705263462157",
   "metadata": {
    "tags": []
   },
   "outputs": [],
   "source": [
    "import PySimpleGUI as sg\n",
    "\n",
    "sg.ChangeLookAndFeel('GreenTan')\n",
    "# ------ Menu Definition ------ #\n",
    "menu_def = [['&File', ['&Open', '&Save', 'E&xit', 'Properties']],\n",
    "            ['&Edit', ['Paste', ['Special', 'Normal', ], 'Undo'], ],\n",
    "            ['&Help', '&About...'], ]\n",
    "# ------ Column Definition ------ #\n",
    "column1 = [[sg.Text('Column 1', background_color='lightblue', justification='center', size=(10, 1))],\n",
    "           [sg.Spin(values=('Spin Box 1', '2', '3'), initial_value='Spin Box 1')],\n",
    "           [sg.Spin(values=('Spin Box 1', '2', '3'), initial_value='Spin Box 2')],\n",
    "           [sg.Spin(values=('Spin Box 1', '2', '3'), initial_value='Spin Box 3')]]\n",
    "\n",
    "layout = [\n",
    "    [sg.Menu(menu_def, tearoff=True)],\n",
    "    [sg.Text('(Almost) All widgets in one Window!', size=(30, 1), justification='center', font=(\"Helvetica\", 25), relief=sg.RELIEF_RIDGE)],\n",
    "    [sg.Text('Here is some text.... and a place to enter text')],\n",
    "    [sg.InputText('This is my text')],\n",
    "    [sg.Frame(layout=[\n",
    "    [sg.Checkbox('Checkbox', size=(10,1)),  sg.Checkbox('My second checkbox!', default=True)],\n",
    "    [sg.Radio('My first Radio!     ', \"RADIO1\", default=True, size=(10,1)), sg.Radio('My second Radio!', \"RADIO1\")]], title='Options',title_color='red', relief=sg.RELIEF_SUNKEN, tooltip='Use these to set flags')],\n",
    "    [sg.Multiline(default_text='This is the default Text should you decide not to type anything', size=(35, 3)),\n",
    "     sg.Multiline(default_text='A second multi-line', size=(35, 3))],\n",
    "    [sg.InputCombo(('Combobox 1', 'Combobox 2'), size=(20, 1)),\n",
    "     sg.Slider(range=(1, 100), orientation='h', size=(34, 20), default_value=85)],\n",
    "    [sg.InputOptionMenu(('Menu Option 1', 'Menu Option 2', 'Menu Option 3'))],\n",
    "    [sg.Listbox(values=('Listbox 1', 'Listbox 2', 'Listbox 3'), size=(30, 3)),\n",
    "     sg.Frame('Labelled Group',[[\n",
    "     sg.Slider(range=(1, 100), orientation='v', size=(5, 20), default_value=25),\n",
    "     sg.Slider(range=(1, 100), orientation='v', size=(5, 20), default_value=75),\n",
    "     sg.Slider(range=(1, 100), orientation='v', size=(5, 20), default_value=10),\n",
    "     sg.Column(column1, background_color='lightblue')]])],\n",
    "    [sg.Text('_' * 80)],\n",
    "    [sg.Text('Choose A Folder', size=(35, 1))],\n",
    "    [sg.Text('Your Folder', size=(15, 1), auto_size_text=False, justification='right'),\n",
    "     sg.InputText('Default Folder'), sg.FolderBrowse()],\n",
    "    [sg.Submit(tooltip='Click to submit this form'), sg.Cancel()]]\n",
    "\n",
    "window = sg.Window('Everything bagel', default_element_size=(40, 1), grab_anywhere=False).Layout(layout)\n",
    "button, values = window.Read()"
   ]
  },
  {
   "cell_type": "code",
   "execution_count": null,
   "id": "6419f175-9589-4a7c-a0e6-c567888b3d23",
   "metadata": {},
   "outputs": [],
   "source": []
  }
 ],
 "metadata": {
  "kernelspec": {
   "display_name": "Python 3 (ipykernel)",
   "language": "python",
   "name": "python3"
  },
  "language_info": {
   "codemirror_mode": {
    "name": "ipython",
    "version": 3
   },
   "file_extension": ".py",
   "mimetype": "text/x-python",
   "name": "python",
   "nbconvert_exporter": "python",
   "pygments_lexer": "ipython3",
   "version": "3.8.16"
  }
 },
 "nbformat": 4,
 "nbformat_minor": 5
}
