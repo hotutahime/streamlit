{
 "cells": [
  {
   "cell_type": "code",
   "execution_count": 29,
   "id": "5e342609-e6e0-42c7-b987-67537902455e",
   "metadata": {
    "tags": []
   },
   "outputs": [],
   "source": [
    "import pandas as pd\n",
    "import pyautogui as pag\n",
    "import subprocess\n",
    "import glob\n",
    "import time\n",
    "import os"
   ]
  },
  {
   "cell_type": "code",
   "execution_count": 30,
   "id": "5d96a26a-4911-4d1a-a4fa-6e400357abfe",
   "metadata": {
    "tags": []
   },
   "outputs": [
    {
     "name": "stdout",
     "output_type": "stream",
     "text": [
      "['/Users/kato/Desktop/shigoto/test_1_1.xlsx', '/Users/kato/Desktop/shigoto/test_1_2.xlsx']\n",
      "2\n",
      "2\n"
     ]
    }
   ],
   "source": [
    "#ファイルパスをglobで指定し、複数ファイルを取得する\n",
    "file_paths = glob.glob(\"/Users/kato/Desktop/shigoto/test*.xlsx\")\n",
    "\n",
    "#念の為、取得したファイルパス名と、個数をプリントする\n",
    "print(file_paths)\n",
    "print(len(file_paths))\n",
    "\n",
    "#取得したファイル数を数値化する（for文用）\n",
    "file_num = len(file_paths)\n",
    "print(file_num)"
   ]
  },
  {
   "cell_type": "code",
   "execution_count": 31,
   "id": "a7153665-5c66-4c14-8650-f425cef29f5d",
   "metadata": {
    "tags": []
   },
   "outputs": [],
   "source": [
    "#空のリスト作成\n",
    "dfs = []\n",
    "\n",
    "#fileの中に個数を代入し、pd.read_excelは\n",
    "#file_paths変数で指定した\"/Users/kato/Desktop/shigoto/test*.xlsx\"+file（番号）になる\n",
    "#なので、例えば/Users/kato/Desktop/shigoto/test*.xlsx[0]のようになっていると思う\n",
    "#そのdfを、dfsリストに格納する\n",
    "for file in range(file_num):\n",
    "    df = pd.read_excel(file_paths[file], header=4)\n",
    "    dfs.append(df)\n",
    "\n",
    "#range関数で、df+[i] = df[0] = dfsの0番目のような指定の仕方でDFを作成する\n",
    "for i in range(file_num):\n",
    "    globals()[\"df\" + str(i+1)] = dfs[i]"
   ]
  },
  {
   "cell_type": "code",
   "execution_count": 32,
   "id": "c5cd7667-3a7e-4cc5-b619-429b9447be53",
   "metadata": {
    "tags": []
   },
   "outputs": [
    {
     "data": {
      "text/plain": [
       "2"
      ]
     },
     "execution_count": 32,
     "metadata": {},
     "output_type": "execute_result"
    }
   ],
   "source": [
    "file_num"
   ]
  },
  {
   "cell_type": "code",
   "execution_count": 35,
   "id": "9362f40a-8fae-4e9d-a44d-a5abac954f8a",
   "metadata": {
    "tags": []
   },
   "outputs": [],
   "source": [
    "for y in range(file_num):\n",
    "    dfs[y].dropna(subset=[\"数量\"], inplace=True)\n",
    "    dfs[y].reset_index(inplace=True)\n",
    "    df_jan = dfs[y][\"JAN\"]\n",
    "    df_len = len(dfs[y][\"JAN\"])\n",
    "    df_item = dfs[y][\"数量\"]\n",
    "    \n",
    "    for t in range(df_len):\n",
    "        pag.click(1231, 408)\n",
    "        pag.write(str(df_jan[t]))\n",
    "        pag.press(\"enter\")\n",
    "        pag.press(\"tab\", presses=2, interval=0.01)\n",
    "        pag.write(str(df_item[t]))\n",
    "        # pag.press(\"tab\", presses=2, interval=0.01)\n",
    "        # if t+1 == df_len:\n",
    "    "
   ]
  },
  {
   "cell_type": "code",
   "execution_count": 34,
   "id": "865ae57c-5f95-4ec4-b9cd-bc6dd0d9b89e",
   "metadata": {},
   "outputs": [
    {
     "data": {
      "text/plain": [
       "Point(x=525, y=456)"
      ]
     },
     "execution_count": 34,
     "metadata": {},
     "output_type": "execute_result"
    }
   ],
   "source": [
    "pag.position()"
   ]
  },
  {
   "cell_type": "code",
   "execution_count": 22,
   "id": "ba5a1a85-44b4-4fe0-ac79-eaa8e815aeea",
   "metadata": {
    "tags": []
   },
   "outputs": [
    {
     "data": {
      "text/plain": [
       "0    2.0\n",
       "1    3.0\n",
       "2    NaN\n",
       "3    5.0\n",
       "4    NaN\n",
       "5    8.0\n",
       "6    NaN\n",
       "7    9.0\n",
       "8    0.0\n",
       "9    NaN\n",
       "Name: 数量, dtype: float64"
      ]
     },
     "execution_count": 22,
     "metadata": {},
     "output_type": "execute_result"
    }
   ],
   "source": [
    "df_item_num = dfs[0][\"数量\"]\n",
    "df_item_num"
   ]
  },
  {
   "cell_type": "code",
   "execution_count": null,
   "id": "08a56939-876a-4926-b869-e366b0d55f63",
   "metadata": {},
   "outputs": [],
   "source": []
  }
 ],
 "metadata": {
  "kernelspec": {
   "display_name": "Python 3 (ipykernel)",
   "language": "python",
   "name": "python3"
  },
  "language_info": {
   "codemirror_mode": {
    "name": "ipython",
    "version": 3
   },
   "file_extension": ".py",
   "mimetype": "text/x-python",
   "name": "python",
   "nbconvert_exporter": "python",
   "pygments_lexer": "ipython3",
   "version": "3.11.1"
  }
 },
 "nbformat": 4,
 "nbformat_minor": 5
}
