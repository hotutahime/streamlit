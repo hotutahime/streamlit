{
 "cells": [
  {
   "cell_type": "code",
   "execution_count": 1,
   "id": "544cffa8-7112-44fd-be75-f1d01247ca60",
   "metadata": {
    "tags": []
   },
   "outputs": [],
   "source": [
    "import requests"
   ]
  },
  {
   "cell_type": "code",
   "execution_count": 4,
   "id": "21c64cdf-1341-4564-a993-95163434f619",
   "metadata": {
    "tags": []
   },
   "outputs": [],
   "source": [
    "#get関数で Webページを取得\n",
    "r = requests.get(\"http://sample.scraping-book.com/dp\")"
   ]
  },
  {
   "cell_type": "code",
   "execution_count": 5,
   "id": "7702ab19-3b72-4b47-8f66-e9c2c584e3da",
   "metadata": {
    "tags": []
   },
   "outputs": [
    {
     "data": {
      "text/plain": [
       "requests.models.Response"
      ]
     },
     "execution_count": 5,
     "metadata": {},
     "output_type": "execute_result"
    }
   ],
   "source": [
    "type(r)"
   ]
  },
  {
   "cell_type": "code",
   "execution_count": 6,
   "id": "ad36a20c-d73e-425a-a38f-c1aa2b13f566",
   "metadata": {
    "tags": []
   },
   "outputs": [
    {
     "data": {
      "text/plain": [
       "200"
      ]
     },
     "execution_count": 6,
     "metadata": {},
     "output_type": "execute_result"
    }
   ],
   "source": [
    "#ステータスコードの取得\n",
    "r.status_code"
   ]
  },
  {
   "cell_type": "code",
   "execution_count": 7,
   "id": "8ac6a6b0-8d2a-4da5-a993-6b580562211b",
   "metadata": {
    "tags": []
   },
   "outputs": [
    {
     "data": {
      "text/plain": [
       "'text/html; charset=utf-8'"
      ]
     },
     "execution_count": 7,
     "metadata": {},
     "output_type": "execute_result"
    }
   ],
   "source": [
    "#HTTPヘッダー辞書を取得\n",
    "r.headers[\"content-type\"]"
   ]
  },
  {
   "cell_type": "code",
   "execution_count": 8,
   "id": "397ba4e3-23a7-4b86-8963-d473ff26afbd",
   "metadata": {
    "tags": []
   },
   "outputs": [
    {
     "data": {
      "text/plain": [
       "'utf-8'"
      ]
     },
     "execution_count": 8,
     "metadata": {},
     "output_type": "execute_result"
    }
   ],
   "source": [
    "#文字エンコーダの確認\n",
    "r.encoding"
   ]
  },
  {
   "cell_type": "code",
   "execution_count": 9,
   "id": "9cc285af-be9b-46fb-a08f-bed927146a7f",
   "metadata": {
    "collapsed": true,
    "jupyter": {
     "outputs_hidden": true
    },
    "tags": []
   },
   "outputs": [
    {
     "data": {
      "text/plain": [
       "'<!DOCTYPE HTML>\\n<html lang=\"ja\" class=\"pc\">\\n<head>\\n  <meta charset=\"UTF-8\">\\n  <title>Pythonクローリング＆スクレイピング -データ収集・解析のための実践開発ガイド- サンプルページ</title>\\n  <meta http-equiv=\"Content-Style-Type\" content=\"text/css\"/>\\n  <meta http-equiv=\"Content-Script-Type\" content=\"application/javascript\"/>\\n  <meta name=\"description\" content=\"Pythonクローリング＆スクレイピング -データ収集・解析のための実践開発ガイド- サンプルページ\"/>\\n  <meta http-equiv=\"X-UA-Compatible\" content=\"IE=Edge,chrome=1\"/>\\n  <meta name=\"apple-mobile-web-app-capable\" content=\"yes\"/>\\n  <meta name=\"format-detection\" content=\"telephone=no\"/>\\n  <link rel=\"shortcut icon\" href=\"/assets/templates/gdp/favicon.ico\" type=\"image/vnd.microsoft.icon\"/>\\n  <meta name=\"robots\" content=\"noindex,noarchive\"/>\\n  <link rel=\"stylesheet\" href=\"/dp/assets/style/store1124.css\" type=\"text/css\" media=\"all\"/>\\n</head>\\n<body itemscope=\"itemscope\" itemtype=\"http://schema.org/WebPage\" class=\"page-home\">\\n  <header id=\"header\" itemscope=\"itemscope\" itemtype=\"http://schema.org/WPHeader\">\\n    <h1 class=\"home-title\">Scraping-Book</h1>\\n    <h2 class=\"home-subtitle\">これは書籍用のサンプルページです。購入などの操作はできません。</h2>\\n    <nav id=\"headerFunction\">\\n      <div id=\"login\">\\n        <a href=\"#login\" title=\"サンプルページのため利用できません\">ログイン</a>\\n      </div>\\n      <div id=\"cart\">\\n        <a href=\"/dp/cart\" title=\"サンプルページのため利用できません\">カート</a>\\n      </div>\\n    </nav>\\n  </header>\\n  <div id=\"main\">\\n    <noscript><div id=\"noscript\">\\n      <p>本サイトではJavaScriptを使用しております。JavaScriptが無効な状態ではご利用いただけません。</p>\\n    </div></noscript>\\n\\n    <div id=\"bookList\">\\n      <h2>商品一覧</h2>\\n      <div id=\"topNavigation\">\\n        <div id=\"filter\">\\n          <form id=\"search\" action=\"/dp\" method=\"get\">\\n            <input type=\"search\" name=\"query\" id=\"searchText\" title=\"検索する商品のキーワードを入力\" placeholder=\"商品のキーワード\" required=\"required\" value=\"\"/>\\n            <input type=\"submit\" id=\"searchSubmit\" value=\"検索\" title=\"検索する\"/>\\n          </form>\\n          <div id=\"select\">\\n            <a href=\"\" id=\"selectLabel\" title=\"商品ジャンルを選択する\">すべての商品</a>\\n            <div id=\"selectMenu\">\\n              <ul id=\"selectMenuBody\"><li class=\"title\">商品ジャンルを選択</li><li class=\"selected\"><a href=\"/dp\">すべての商品</a></li><li><a href=\"/dp/genre/%E3%83%91%E3%82%BD%E3%82%B3%E3%83%B3\">パソコン</a></li><li><a href=\"/dp/genre/%E3%82%B9%E3%83%9E%E3%83%BC%E3%83%88%E3%83%95%E3%82%A9%E3%83%B3%E3%83%BB%E3%82%BF%E3%83%96%E3%83%AC%E3%83%83%E3%83%88\">スマートフォン・タブレット</a></li><li><a href=\"/dp/genre/%E3%83%87%E3%82%B6%E3%82%A4%E3%83%B3%E3%83%BB%E7%B4%A0%E6%9D%90%E9%9B%86\">デザイン・素材集</a></li><li><a href=\"/dp/genre/Web%E3%82%B5%E3%82%A4%E3%83%88%E5%88%B6%E4%BD%9C\">Webサイト制作</a></li><li><a href=\"/dp/genre/%E3%83%97%E3%83%AD%E3%82%B0%E3%83%A9%E3%83%9F%E3%83%B3%E3%82%B0%E3%83%BB%E3%82%B7%E3%82%B9%E3%83%86%E3%83%A0%E9%96%8B%E7%99%BA\">プログラミング・システム開発</a></li><li><a href=\"/dp/genre/%E3%83%8D%E3%83%83%E3%83%88%E3%83%AF%E3%83%BC%E3%82%AF%E3%83%BBUNIX%E3%83%BB%E3%83%87%E3%83%BC%E3%82%BF%E3%83%99%E3%83%BC%E3%82%B9\">ネットワーク・UNIX・データベース</a></li><li><a href=\"/dp/genre/%E8%B3%87%E6%A0%BC%E8%A9%A6%E9%A8%93%EF%BC%88IT%EF%BC%89\">資格試験（IT）</a></li><li><a href=\"/dp/genre/%E8%B3%87%E6%A0%BC%E8%A9%A6%E9%A8%93%EF%BC%88%E4%B8%80%E8%88%AC%EF%BC%89%E3%83%BB%E5%A4%A7%E5%AD%A6%E5%8F%97%E9%A8%93\">資格試験（一般）・大学受験</a></li><li><a href=\"/dp/genre/%E8%B6%A3%E5%91%B3%E3%83%BB%E5%AE%9F%E7%94%A8%E3%83%BB%E3%83%87%E3%82%B8%E3%82%AB%E3%83%A1\">趣味・実用・デジカメ</a></li><li><a href=\"/dp/genre/%E3%83%93%E3%82%B8%E3%83%8D%E3%82%B9%E3%83%BB%E3%83%9E%E3%83%8D%E3%83%BC\">ビジネス・マネー</a></li><li><a href=\"/dp/genre/%E7%90%86%E5%B7%A5%E3%83%BB%E3%82%B5%E3%82%A4%E3%82%A8%E3%83%B3%E3%82%B9\">理工・サイエンス</a></li></ul>\\n            </div>\\n          </div>\\n        </div>\\n        <nav id=\"pagingTop\">          <ul>\\n            <li><span class=\"prev\">―</span></li>\\n            <li class=\"paging-number\">1</li>\\n            <li><a href=\"/dp?start=30\" title=\"サンプルページのため利用できません\" class=\"next\">次</a></li>\\n          </ul>\\n        </nav>\\n      </div>\\n      <ul itemprop=\"isPartOf\" itemscope=\"itemscope\" itemtype=\"http://www.schema.org/CollectionPage\" id=\"listBook\" class=\"list-book\"><li id=\"bannerTopAd\">\\n  <div id=\"topAdPrev\"><a href=\"#adPrev\" title=\"サンプルページのため利用できません\">前</a></div>\\n  <div id=\"topAdNext\"><a href=\"#adNext\" title=\"サンプルページのため利用できません\">次</a></div>\\n  <ul id=\"topAdNum\"></ul>\\n</li>\\n<li class=\"subscription\"><a href=\"/dp/subscription\" title=\"サンプルページのため利用できません\">\\n  <p class=\"title\"><span class=\"series\">Software Design・<wbr>WEB+DB PRESS</span>電子版定期購読のお申し込み</p>\\n  <img src=\"/assets/images/dummy.png\" data-image=\"/assets/images/gdp/subscription/subsc-cover.png,/assets/images/gdp/subscription/subsc-cover@2x.png\" width=\"236\" height=\"138\" alt=\"cover\" style=\"max-width:none;max-height:none;position:absolute;right:0;bottom:-10px;border:none\">\\n  <ul class=\"format\"><li class=\"pdf\">PDF</li></ul>\\n</a></li>        <li class=\"new\" id=\"978-4-7741-8336-7\"><a itemprop=\"url\" href=\"/dp/ebook/2016/978-4-7741-8336-7\">\\n          <img itemprop=\"image\" src=\"/assets/images/dummy.png\" width=\"100\" height=\"141\" data-image=\"/assets/images/gdp/2016/thumb/TH100_978-4-7741-8336-7.jpg,/assets/images/gdp/2016/thumb/TH200_978-4-7741-8336-7.jpg\" alt=\"カバー画像\"/>\\n          <p itemprop=\"name\" class=\"title\">これからはじめるプログラミング 作って覚える基礎の基礎</p>\\n          <p itemprop=\"author\" class=\"author\">谷尻かおり\\u3000著，<wbr/>谷尻豊寿\\u3000監修</p>\\n          <p itemprop=\"offers\" itemscope=\"itemscope\" itemtype=\"http://schema.org/Offer\" class=\"price\"><span itemprop=\"price\">2,280</span>円<meta itemprop=\"priceCurrency\" content=\"JPY\"/></p>\\n          <ul class=\"format\">\\n            <li class=\"pdf\">PDF</li><li class=\"epub\">EPUB</li>\\n          </ul>\\n          <ul class=\"date\">\\n            <li class=\"notice\"><time datetime=\"2016-7-23\" itemprop=\"datePublished\" class=\"published\">2016年7月23日</time></li>\\n            \\n          </ul>\\n        </a></li>        <li class=\"new\" id=\"978-4-7741-8337-4\"><a itemprop=\"url\" href=\"/dp/ebook/2016/978-4-7741-8337-4\">\\n          <img itemprop=\"image\" src=\"/assets/images/dummy.png\" width=\"100\" height=\"141\" data-image=\"/assets/images/gdp/2016/thumb/TH100_978-4-7741-8337-4.jpg,/assets/images/gdp/2016/thumb/TH200_978-4-7741-8337-4.jpg\" alt=\"カバー画像\"/>\\n          <p itemprop=\"name\" class=\"title\"><span class=\"series\">情報処理技術者試験</span> 平成<wbr/>28<wbr/>年度<wbr/>【秋期】<wbr/>情報セキュリティマネジメント パーフェクトラーニング過去問題集</p>\\n          <p itemprop=\"author\" class=\"author\">庄司勝哉，<wbr/>吉川允樹\\u3000著</p>\\n          <p itemprop=\"offers\" itemscope=\"itemscope\" itemtype=\"http://schema.org/Offer\" class=\"price\"><span itemprop=\"price\">1,480</span>円<meta itemprop=\"priceCurrency\" content=\"JPY\"/></p>\\n          <ul class=\"format\">\\n            <li class=\"pdf\">PDF</li>\\n          </ul>\\n          <ul class=\"date\">\\n            <li class=\"notice\"><time datetime=\"2016-7-23\" itemprop=\"datePublished\" class=\"published\">2016年7月23日</time></li>\\n            \\n          </ul>\\n        </a></li>        <li class=\"new\" id=\"978-4-7741-8338-1\"><a itemprop=\"url\" href=\"/dp/ebook/2016/978-4-7741-8338-1\">\\n          <img itemprop=\"image\" src=\"/assets/images/dummy.png\" width=\"100\" height=\"144\" data-image=\"/assets/images/gdp/2016/thumb/TH100_978-4-7741-8338-1.jpg,/assets/images/gdp/2016/thumb/TH200_978-4-7741-8338-1.jpg\" alt=\"カバー画像\"/>\\n          <p itemprop=\"name\" class=\"title\"><span class=\"series\">大人の自由時間<wbr/>（大人の自由時間<wbr/>mini）</span> 水泳のきれいなカラダをつくる<br/><span class=\"sub\">～スリムな逆三角形になる！ドライランドトレーニング</span></p>\\n          <p itemprop=\"author\" class=\"author\">髙橋雄介\\u3000著</p>\\n          <p itemprop=\"offers\" itemscope=\"itemscope\" itemtype=\"http://schema.org/Offer\" class=\"price\"><span itemprop=\"price\">1,280</span>円<meta itemprop=\"priceCurrency\" content=\"JPY\"/></p>\\n          <ul class=\"format\">\\n            <li class=\"pdf\">PDF</li>\\n          </ul>\\n          <ul class=\"date\">\\n            <li class=\"notice\"><time datetime=\"2016-7-23\" itemprop=\"datePublished\" class=\"published\">2016年7月23日</time></li>\\n            \\n          </ul>\\n        </a></li>        <li class=\"new\" id=\"978-4-7741-8346-6\"><a itemprop=\"url\" href=\"/dp/ebook/2016/978-4-7741-8346-6\">\\n          <img itemprop=\"image\" src=\"/assets/images/dummy.png\" width=\"100\" height=\"133\" data-image=\"/assets/images/gdp/2016/thumb/TH100_978-4-7741-8346-6.jpg,/assets/images/gdp/2016/thumb/TH200_978-4-7741-8346-6.jpg\" alt=\"カバー画像\"/>\\n          <p itemprop=\"name\" class=\"title\"><span class=\"series\">30<wbr/>レッスン</span> 30<wbr/>レッスンで絶対合格！ Microsoft Office Specialist PowerPoint 2013 テキスト＋問題集</p>\\n          <p itemprop=\"author\" class=\"author\">本郷PC塾\\u3000著</p>\\n          <p itemprop=\"offers\" itemscope=\"itemscope\" itemtype=\"http://schema.org/Offer\" class=\"price\"><span itemprop=\"price\">1,980</span>円<meta itemprop=\"priceCurrency\" content=\"JPY\"/></p>\\n          <ul class=\"format\">\\n            <li class=\"pdf\">PDF</li>\\n          </ul>\\n          <ul class=\"date\">\\n            <li class=\"notice\"><time datetime=\"2016-7-22\" itemprop=\"datePublished\" class=\"published\">2016年7月22日</time></li>\\n            \\n          </ul>\\n        </a></li>        <li class=\"new\" id=\"978-4-7741-8334-3\"><a itemprop=\"url\" href=\"/dp/ebook/2016/978-4-7741-8334-3\">\\n          <img itemprop=\"image\" src=\"/assets/images/dummy.png\" width=\"100\" height=\"147\" data-image=\"/assets/images/gdp/2016/thumb/TH100_978-4-7741-8334-3.jpg,/assets/images/gdp/2016/thumb/TH200_978-4-7741-8334-3.jpg\" alt=\"カバー画像\"/>\\n          <p itemprop=\"name\" class=\"title\"><span class=\"series\">ゼロからはじめる</span> ゼロからはじめる<br/>海外旅行でスマホ活用 スマートガイド</p>\\n          <p itemprop=\"author\" class=\"author\">山谷剛史，<wbr/>田口和裕，<wbr/>タトラエディット\\u3000著</p>\\n          <p itemprop=\"offers\" itemscope=\"itemscope\" itemtype=\"http://schema.org/Offer\" class=\"price\"><span itemprop=\"price\">1,380</span>円<meta itemprop=\"priceCurrency\" content=\"JPY\"/></p>\\n          <ul class=\"format\">\\n            <li class=\"pdf\">PDF</li>\\n          </ul>\\n          <ul class=\"date\">\\n            <li class=\"notice\"><time datetime=\"2016-7-22\" itemprop=\"datePublished\" class=\"published\">2016年7月22日</time></li>\\n            \\n          </ul>\\n        </a></li>        <li class=\"new\" id=\"978-4-7741-8335-0\"><a itemprop=\"url\" href=\"/dp/ebook/2016/978-4-7741-8335-0\">\\n          <img itemprop=\"image\" src=\"/assets/images/dummy.png\" width=\"100\" height=\"157\" data-image=\"/assets/images/gdp/2016/thumb/TH100_978-4-7741-8335-0.jpg,/assets/images/gdp/2016/thumb/TH200_978-4-7741-8335-0.jpg\" alt=\"カバー画像\"/>\\n          <p itemprop=\"name\" class=\"title\"><span class=\"series\">今すぐ使えるかんたん<wbr/>mini</span> 今すぐ使えるかんたんmini<br/>CD&amp;DVD 作成超入門<br/><span class=\"sub\">［Windows 10<wbr/>対応版］</span></p>\\n          <p itemprop=\"author\" class=\"author\">オンサイト\\u3000著</p>\\n          <p itemprop=\"offers\" itemscope=\"itemscope\" itemtype=\"http://schema.org/Offer\" class=\"price\"><span itemprop=\"price\">1,080</span>円<meta itemprop=\"priceCurrency\" content=\"JPY\"/></p>\\n          <ul class=\"format\">\\n            <li class=\"pdf\">PDF</li>\\n          </ul>\\n          <ul class=\"date\">\\n            <li class=\"notice\"><time datetime=\"2016-7-22\" itemprop=\"datePublished\" class=\"published\">2016年7月22日</time></li>\\n            \\n          </ul>\\n        </a></li>        <li class=\"new\" id=\"978-4-7741-8325-1\"><a itemprop=\"url\" href=\"/dp/ebook/2016/978-4-7741-8325-1\">\\n          <img itemprop=\"image\" src=\"/assets/images/dummy.png\" width=\"100\" height=\"133\" data-image=\"/assets/images/gdp/2016/thumb/TH100_978-4-7741-8325-1.jpg,/assets/images/gdp/2016/thumb/TH200_978-4-7741-8325-1.jpg\" alt=\"カバー画像\"/>\\n          <p itemprop=\"name\" class=\"title\"><span class=\"series\">大きな字でわかりやすい</span> 大きな字でわかりやすい<br/>ワード<wbr/>2016<wbr/>入門</p>\\n          <p itemprop=\"author\" class=\"author\">AYURA\\u3000著</p>\\n          <p itemprop=\"offers\" itemscope=\"itemscope\" itemtype=\"http://schema.org/Offer\" class=\"price\"><span itemprop=\"price\">980</span>円<meta itemprop=\"priceCurrency\" content=\"JPY\"/></p>\\n          <ul class=\"format\">\\n            <li class=\"pdf\">PDF</li>\\n          </ul>\\n          <ul class=\"date\">\\n            <li><time datetime=\"2016-7-20\" itemprop=\"datePublished\" class=\"published\">2016年7月20日</time></li>\\n            \\n          </ul>\\n        </a></li>        <li class=\"new\" id=\"978-4-7741-8322-0\"><a itemprop=\"url\" href=\"/dp/ebook/2016/978-4-7741-8322-0\">\\n          <img itemprop=\"image\" src=\"/assets/images/dummy.png\" width=\"100\" height=\"133\" data-image=\"/assets/images/gdp/2016/thumb/TH100_978-4-7741-8322-0.jpg,/assets/images/gdp/2016/thumb/TH200_978-4-7741-8322-0.jpg\" alt=\"カバー画像\"/>\\n          <p itemprop=\"name\" class=\"title\"><span class=\"series\">大きな字でわかりやすい</span> 大きな字でわかりやすい<br/>エクセル<wbr/>2016 入門</p>\\n          <p itemprop=\"author\" class=\"author\">AYURA\\u3000著</p>\\n          <p itemprop=\"offers\" itemscope=\"itemscope\" itemtype=\"http://schema.org/Offer\" class=\"price\"><span itemprop=\"price\">980</span>円<meta itemprop=\"priceCurrency\" content=\"JPY\"/></p>\\n          <ul class=\"format\">\\n            <li class=\"pdf\">PDF</li>\\n          </ul>\\n          <ul class=\"date\">\\n            <li><time datetime=\"2016-7-20\" itemprop=\"datePublished\" class=\"published\">2016年7月20日</time></li>\\n            \\n          </ul>\\n        </a></li>        <li class=\"new\" id=\"978-4-7741-8323-7\"><a itemprop=\"url\" href=\"/dp/ebook/2016/978-4-7741-8323-7\">\\n          <img itemprop=\"image\" src=\"/assets/images/dummy.png\" width=\"100\" height=\"128\" data-image=\"/assets/images/gdp/2016/thumb/TH100_978-4-7741-8323-7.jpg,/assets/images/gdp/2016/thumb/TH200_978-4-7741-8323-7.jpg\" alt=\"カバー画像\"/>\\n          <p itemprop=\"name\" class=\"title\"><span class=\"series\">今すぐ使えるかんたん</span> 今すぐ使えるかんたん<br/>ぜったいデキます！ デジカメ写真活用術<br/><span class=\"sub\">［Windows 10<wbr/>対応版］</span></p>\\n          <p itemprop=\"author\" class=\"author\">井上香緒里\\u3000著</p>\\n          <p itemprop=\"offers\" itemscope=\"itemscope\" itemtype=\"http://schema.org/Offer\" class=\"price\"><span itemprop=\"price\">1,480</span>円<meta itemprop=\"priceCurrency\" content=\"JPY\"/></p>\\n          <ul class=\"format\">\\n            <li class=\"pdf\">PDF</li>\\n          </ul>\\n          <ul class=\"date\">\\n            <li><time datetime=\"2016-7-16\" itemprop=\"datePublished\" class=\"published\">2016年7月16日</time></li>\\n            \\n          </ul>\\n        </a></li>        <li class=\"new\" id=\"978-4-7741-8119-6\"><a itemprop=\"url\" href=\"/dp/ebook/2016/978-4-7741-8119-6\">\\n          <img itemprop=\"image\" src=\"/assets/images/dummy.png\" width=\"100\" height=\"141\" data-image=\"/assets/images/gdp/2016/thumb/TH100_978-4-7741-8119-6.jpg,/assets/images/gdp/2016/thumb/TH200_978-4-7741-8119-6.jpg\" alt=\"カバー画像\"/>\\n          <p itemprop=\"name\" class=\"title\">Software Design 2016<wbr/>年<wbr/>8<wbr/>月号</p>\\n          <p itemprop=\"author\" class=\"author\"></p>\\n          <p itemprop=\"offers\" itemscope=\"itemscope\" itemtype=\"http://schema.org/Offer\" class=\"price\"><span itemprop=\"price\">1,318</span>円<meta itemprop=\"priceCurrency\" content=\"JPY\"/></p>\\n          <ul class=\"format\">\\n            <li class=\"pdf\">PDF</li>\\n          </ul>\\n          <ul class=\"date\">\\n            <li><time datetime=\"2016-7-16\" itemprop=\"datePublished\" class=\"published\">2016年7月16日</time></li>\\n            \\n          </ul>\\n        </a></li>        <li class=\"new\" id=\"978-4-7741-8333-6\"><a itemprop=\"url\" href=\"/dp/ebook/2016/978-4-7741-8333-6\">\\n          <img itemprop=\"image\" src=\"/assets/images/dummy.png\" width=\"100\" height=\"126\" data-image=\"/assets/images/gdp/2016/thumb/TH100_978-4-7741-8333-6.jpg,/assets/images/gdp/2016/thumb/TH200_978-4-7741-8333-6.jpg\" alt=\"カバー画像\"/>\\n          <p itemprop=\"name\" class=\"title\">無料ではじめる<wbr/>Blender CG<wbr/>イラストテクニック<br/><span class=\"sub\">～<wbr/>3DCG<wbr/>の考え方としくみがしっかりわかる</span></p>\\n          <p itemprop=\"author\" class=\"author\">大澤龍一\\u3000著</p>\\n          <p itemprop=\"offers\" itemscope=\"itemscope\" itemtype=\"http://schema.org/Offer\" class=\"price\"><span itemprop=\"price\">2,680</span>円<meta itemprop=\"priceCurrency\" content=\"JPY\"/></p>\\n          <ul class=\"format\">\\n            <li class=\"pdf\">PDF</li>\\n          </ul>\\n          <ul class=\"date\">\\n            <li><time datetime=\"2016-7-16\" itemprop=\"datePublished\" class=\"published\">2016年7月16日</time></li>\\n            \\n          </ul>\\n        </a></li>        <li class=\"new\" id=\"978-4-7741-8324-4\"><a itemprop=\"url\" href=\"/dp/ebook/2016/978-4-7741-8324-4\">\\n          <img itemprop=\"image\" src=\"/assets/images/dummy.png\" width=\"100\" height=\"127\" data-image=\"/assets/images/gdp/2016/thumb/TH100_978-4-7741-8324-4.jpg,/assets/images/gdp/2016/thumb/TH200_978-4-7741-8324-4.jpg\" alt=\"カバー画像\"/>\\n          <p itemprop=\"name\" class=\"title\">小さなお店＆<wbr/>会社の WordPress<wbr/>超入門<br/><span class=\"sub\">―初めてでも安心！思いどおりのホームページを作ろう！</span></p>\\n          <p itemprop=\"author\" class=\"author\">星野邦敏，<wbr/>大胡由紀，<wbr/>吉田裕介，<wbr/>羽野めぐみ，<wbr/>リブロワークス\\u3000著</p>\\n          <p itemprop=\"offers\" itemscope=\"itemscope\" itemtype=\"http://schema.org/Offer\" class=\"price\"><span itemprop=\"price\">1,980</span>円<meta itemprop=\"priceCurrency\" content=\"JPY\"/></p>\\n          <ul class=\"format\">\\n            <li class=\"pdf\">PDF</li><li class=\"epub\">EPUB</li>\\n          </ul>\\n          <ul class=\"date\">\\n            <li><time datetime=\"2016-7-15\" itemprop=\"datePublished\" class=\"published\">2016年7月15日</time></li>\\n            \\n          </ul>\\n        </a></li>        <li id=\"978-4-7741-8302-2\"><a itemprop=\"url\" href=\"/dp/ebook/2016/978-4-7741-8302-2\">\\n          <img itemprop=\"image\" src=\"/assets/images/dummy.png\" width=\"100\" height=\"142\" data-image=\"/assets/images/gdp/2016/thumb/TH100_978-4-7741-8302-2.jpg,/assets/images/gdp/2016/thumb/TH200_978-4-7741-8302-2.jpg\" alt=\"カバー画像\"/>\\n          <p itemprop=\"name\" class=\"title\"><span class=\"series\">WEB+DB PRESS plus</span> Atom<wbr/>実践入門<br/><span class=\"sub\">──進化し続けるハッカブルなエディタ</span></p>\\n          <p itemprop=\"author\" class=\"author\">大竹智也\\u3000著</p>\\n          <p itemprop=\"offers\" itemscope=\"itemscope\" itemtype=\"http://schema.org/Offer\" class=\"price\"><span itemprop=\"price\">2,680</span>円<meta itemprop=\"priceCurrency\" content=\"JPY\"/></p>\\n          <ul class=\"format\">\\n            <li class=\"pdf\">PDF</li><li class=\"epub\">EPUB</li>\\n          </ul>\\n          <ul class=\"date\">\\n            <li><time datetime=\"2016-7-14\" itemprop=\"datePublished\" class=\"published\">2016年7月14日</time></li>\\n            \\n          </ul>\\n        </a></li>        <li id=\"978-4-7741-8301-5\"><a itemprop=\"url\" href=\"/dp/ebook/2016/978-4-7741-8301-5\">\\n          <img itemprop=\"image\" src=\"/assets/images/dummy.png\" width=\"100\" height=\"142\" data-image=\"/assets/images/gdp/2016/thumb/TH100_978-4-7741-8301-5.jpg,/assets/images/gdp/2016/thumb/TH200_978-4-7741-8301-5.jpg\" alt=\"カバー画像\"/>\\n          <p itemprop=\"name\" class=\"title\">アウトライナー実践入門<br/><span class=\"sub\">～<wbr/>「書く・<wbr/>考える・<wbr/>生活する」<wbr/>創造的アウトライン・<wbr/>プロセッシングの技術〜</span></p>\\n          <p itemprop=\"author\" class=\"author\">Tak.\\u3000著</p>\\n          <p itemprop=\"offers\" itemscope=\"itemscope\" itemtype=\"http://schema.org/Offer\" class=\"price\"><span itemprop=\"price\">1,980</span>円<meta itemprop=\"priceCurrency\" content=\"JPY\"/></p>\\n          <ul class=\"format\">\\n            <li class=\"pdf\">PDF</li><li class=\"epub\">EPUB</li>\\n          </ul>\\n          <ul class=\"date\">\\n            <li><time datetime=\"2016-7-09\" itemprop=\"datePublished\" class=\"published\">2016年7月9日</time></li>\\n            \\n          </ul>\\n        </a></li>        <li id=\"978-4-7741-8297-1\"><a itemprop=\"url\" href=\"/dp/ebook/2016/978-4-7741-8297-1\">\\n          <img itemprop=\"image\" src=\"/assets/images/dummy.png\" width=\"100\" height=\"152\" data-image=\"/assets/images/gdp/2016/thumb/TH100_978-4-7741-8297-1.jpg,/assets/images/gdp/2016/thumb/TH200_978-4-7741-8297-1.jpg\" alt=\"カバー画像\"/>\\n          <p itemprop=\"name\" class=\"title\"><span class=\"series\">ゼロからはじめる</span> ゼロからはじめる<br/>ドコモ<wbr/>Galaxy S7 edge SC-02H スマートガイド</p>\\n          <p itemprop=\"author\" class=\"author\">技術評論社編集部\\u3000著</p>\\n          <p itemprop=\"offers\" itemscope=\"itemscope\" itemtype=\"http://schema.org/Offer\" class=\"price\"><span itemprop=\"price\">1,380</span>円<meta itemprop=\"priceCurrency\" content=\"JPY\"/></p>\\n          <ul class=\"format\">\\n            <li class=\"pdf\">PDF</li>\\n          </ul>\\n          <ul class=\"date\">\\n            <li><time datetime=\"2016-7-08\" itemprop=\"datePublished\" class=\"published\">2016年7月8日</time></li>\\n            \\n          </ul>\\n        </a></li>        <li id=\"978-4-7741-8255-9\"><a itemprop=\"url\" href=\"/dp/ebook/2016/978-4-7741-8255-9\">\\n          <img itemprop=\"image\" src=\"/assets/images/dummy.png\" width=\"100\" height=\"141\" data-image=\"/assets/images/gdp/2016/thumb/TH100_978-4-7741-8255-9.jpg,/assets/images/gdp/2016/thumb/TH200_978-4-7741-8255-9.jpg\" alt=\"カバー画像\"/>\\n          <p itemprop=\"name\" class=\"title\">Excel<wbr/>のムカムカ！が一瞬でなくなる使い方<br/><span class=\"sub\">～表計算・<wbr/>資料作成のストレスを最小限に！</span></p>\\n          <p itemprop=\"author\" class=\"author\">四禮静子\\u3000著</p>\\n          <p itemprop=\"offers\" itemscope=\"itemscope\" itemtype=\"http://schema.org/Offer\" class=\"price\"><span itemprop=\"price\">1,480</span>円<meta itemprop=\"priceCurrency\" content=\"JPY\"/></p>\\n          <ul class=\"format\">\\n            <li class=\"pdf\">PDF</li><li class=\"epub\">EPUB</li>\\n          </ul>\\n          <ul class=\"date\">\\n            <li><time datetime=\"2016-7-08\" itemprop=\"datePublished\" class=\"published\">2016年7月8日</time></li>\\n            \\n          </ul>\\n        </a></li>        <li id=\"978-4-7741-8258-2\"><a itemprop=\"url\" href=\"/dp/ebook/2016/978-4-7741-8258-2\">\\n          <img itemprop=\"image\" src=\"/assets/images/dummy.png\" width=\"100\" height=\"141\" data-image=\"/assets/images/gdp/2016/thumb/TH100_978-4-7741-8258-2.jpg,/assets/images/gdp/2016/thumb/TH200_978-4-7741-8258-2.jpg\" alt=\"カバー画像\"/>\\n          <p itemprop=\"name\" class=\"title\">Word<wbr/>のムカムカ！が一瞬でなくなる使い方<br/><span class=\"sub\">～文章・<wbr/>資料作成のストレスを最小限に！</span></p>\\n          <p itemprop=\"author\" class=\"author\">四禮静子\\u3000著</p>\\n          <p itemprop=\"offers\" itemscope=\"itemscope\" itemtype=\"http://schema.org/Offer\" class=\"price\"><span itemprop=\"price\">1,480</span>円<meta itemprop=\"priceCurrency\" content=\"JPY\"/></p>\\n          <ul class=\"format\">\\n            <li class=\"pdf\">PDF</li><li class=\"epub\">EPUB</li>\\n          </ul>\\n          <ul class=\"date\">\\n            <li><time datetime=\"2016-7-08\" itemprop=\"datePublished\" class=\"published\">2016年7月8日</time></li>\\n            \\n          </ul>\\n        </a></li>        <li id=\"978-4-7741-8319-0\"><a itemprop=\"url\" href=\"/dp/ebook/2016/978-4-7741-8319-0\">\\n          <img itemprop=\"image\" src=\"/assets/images/dummy.png\" width=\"100\" height=\"142\" data-image=\"/assets/images/gdp/2016/thumb/TH100_978-4-7741-8319-0.jpg,/assets/images/gdp/2016/thumb/TH200_978-4-7741-8319-0.jpg\" alt=\"カバー画像\"/>\\n          <p itemprop=\"name\" class=\"title\"><span class=\"series\">生物ミステリー<wbr/>（生物ミステリー プロ）</span> そもそも島に進化あり</p>\\n          <p itemprop=\"author\" class=\"author\">川上和人\\u3000著</p>\\n          <p itemprop=\"offers\" itemscope=\"itemscope\" itemtype=\"http://schema.org/Offer\" class=\"price\"><span itemprop=\"price\">1,880</span>円<meta itemprop=\"priceCurrency\" content=\"JPY\"/></p>\\n          <ul class=\"format\">\\n            <li class=\"pdf\">PDF</li><li class=\"epub\">EPUB</li>\\n          </ul>\\n          <ul class=\"date\">\\n            <li><time datetime=\"2016-7-08\" itemprop=\"datePublished\" class=\"published\">2016年7月8日</time></li>\\n            <li><time datetime=\"2016-7-08\" itemprop=\"dateModified\" class=\"modified\">2016年7月8日</time></li>\\n          </ul>\\n        </a></li>        <li id=\"978-4-7741-8318-3\"><a itemprop=\"url\" href=\"/dp/ebook/2016/978-4-7741-8318-3\">\\n          <img itemprop=\"image\" src=\"/assets/images/dummy.png\" width=\"100\" height=\"143\" data-image=\"/assets/images/gdp/2016/thumb/TH100_978-4-7741-8318-3.jpg,/assets/images/gdp/2016/thumb/TH200_978-4-7741-8318-3.jpg\" alt=\"カバー画像\"/>\\n          <p itemprop=\"name\" class=\"title\"><span class=\"series\">大人の自由時間<wbr/>（大人の自由時間<wbr/>mini）</span> 山歩きスタートブック<br/><span class=\"sub\">～道具と歩き方がわかる，<wbr/>行きたいコースが見つかる</span></p>\\n          <p itemprop=\"author\" class=\"author\">西野淑子\\u3000著</p>\\n          <p itemprop=\"offers\" itemscope=\"itemscope\" itemtype=\"http://schema.org/Offer\" class=\"price\"><span itemprop=\"price\">1,280</span>円<meta itemprop=\"priceCurrency\" content=\"JPY\"/></p>\\n          <ul class=\"format\">\\n            <li class=\"pdf\">PDF</li>\\n          </ul>\\n          <ul class=\"date\">\\n            <li><time datetime=\"2016-7-06\" itemprop=\"datePublished\" class=\"published\">2016年7月6日</time></li>\\n            \\n          </ul>\\n        </a></li>        <li id=\"978-4-7741-8317-6\"><a itemprop=\"url\" href=\"/dp/ebook/2016/978-4-7741-8317-6\">\\n          <img itemprop=\"image\" src=\"/assets/images/dummy.png\" width=\"100\" height=\"142\" data-image=\"/assets/images/gdp/2016/thumb/TH100_978-4-7741-8317-6.jpg,/assets/images/gdp/2016/thumb/TH200_978-4-7741-8317-6.jpg\" alt=\"カバー画像\"/>\\n          <p itemprop=\"name\" class=\"title\">平成<wbr/>28-29<wbr/>年度 基本情報技術者 試験によくでる問題集<br/><span class=\"sub\">【午後】</span></p>\\n          <p itemprop=\"author\" class=\"author\">角谷一成，<wbr/>イエローテールコンピュータ\\u3000著</p>\\n          <p itemprop=\"offers\" itemscope=\"itemscope\" itemtype=\"http://schema.org/Offer\" class=\"price\"><span itemprop=\"price\">1,880</span>円<meta itemprop=\"priceCurrency\" content=\"JPY\"/></p>\\n          <ul class=\"format\">\\n            <li class=\"pdf\">PDF</li><li class=\"epub\">EPUB</li>\\n          </ul>\\n          <ul class=\"date\">\\n            <li><time datetime=\"2016-7-05\" itemprop=\"datePublished\" class=\"published\">2016年7月5日</time></li>\\n            \\n          </ul>\\n        </a></li>        <li id=\"978-4-7741-8300-8\"><a itemprop=\"url\" href=\"/dp/ebook/2016/978-4-7741-8300-8\">\\n          <img itemprop=\"image\" src=\"/assets/images/dummy.png\" width=\"100\" height=\"142\" data-image=\"/assets/images/gdp/2016/thumb/TH100_978-4-7741-8300-8.jpg,/assets/images/gdp/2016/thumb/TH200_978-4-7741-8300-8.jpg\" alt=\"カバー画像\"/>\\n          <p itemprop=\"name\" class=\"title\"><span class=\"series\">大人の自由時間<wbr/>（大人の自由時間<wbr/>mini）</span> あきらめないランニング<br/><span class=\"sub\">～楽しいランのはじめかた，<wbr/>続けかた</span></p>\\n          <p itemprop=\"author\" class=\"author\">白方健一，<wbr/>ナイスク\\u3000著</p>\\n          <p itemprop=\"offers\" itemscope=\"itemscope\" itemtype=\"http://schema.org/Offer\" class=\"price\"><span itemprop=\"price\">1,280</span>円<meta itemprop=\"priceCurrency\" content=\"JPY\"/></p>\\n          <ul class=\"format\">\\n            <li class=\"pdf\">PDF</li>\\n          </ul>\\n          <ul class=\"date\">\\n            <li><time datetime=\"2016-7-01\" itemprop=\"datePublished\" class=\"published\">2016年7月1日</time></li>\\n            \\n          </ul>\\n        </a></li>        <li id=\"978-4-7741-8299-5\"><a itemprop=\"url\" href=\"/dp/ebook/2016/978-4-7741-8299-5\">\\n          <img itemprop=\"image\" src=\"/assets/images/dummy.png\" width=\"100\" height=\"126\" data-image=\"/assets/images/gdp/2016/thumb/TH100_978-4-7741-8299-5.jpg,/assets/images/gdp/2016/thumb/TH200_978-4-7741-8299-5.jpg\" alt=\"カバー画像\"/>\\n          <p itemprop=\"name\" class=\"title\">Excel<wbr/>＆<wbr/>Access<wbr/>連携 実践ガイド<br/><span class=\"sub\">～仕事の現場で即使える</span></p>\\n          <p itemprop=\"author\" class=\"author\">今村ゆうこ\\u3000著</p>\\n          <p itemprop=\"offers\" itemscope=\"itemscope\" itemtype=\"http://schema.org/Offer\" class=\"price\"><span itemprop=\"price\">2,680</span>円<meta itemprop=\"priceCurrency\" content=\"JPY\"/></p>\\n          <ul class=\"format\">\\n            <li class=\"pdf\">PDF</li>\\n          </ul>\\n          <ul class=\"date\">\\n            <li><time datetime=\"2016-6-29\" itemprop=\"datePublished\" class=\"published\">2016年6月29日</time></li>\\n            \\n          </ul>\\n        </a></li>        <li id=\"978-4-7741-8296-4\"><a itemprop=\"url\" href=\"/dp/ebook/2016/978-4-7741-8296-4\">\\n          <img itemprop=\"image\" src=\"/assets/images/dummy.png\" width=\"100\" height=\"142\" data-image=\"/assets/images/gdp/2016/thumb/TH100_978-4-7741-8296-4.jpg,/assets/images/gdp/2016/thumb/TH200_978-4-7741-8296-4.jpg\" alt=\"カバー画像\"/>\\n          <p itemprop=\"name\" class=\"title\"><span class=\"series\">大人の自由時間<wbr/>（大人の自由時間<wbr/>mini）</span> もう一度バイクに乗ろう！<br/><span class=\"sub\">～羨望されるオトナのライダーになりたい人に</span></p>\\n          <p itemprop=\"author\" class=\"author\">西尾淳\\u3000著，<wbr/>WINDY Co.\\u3000編</p>\\n          <p itemprop=\"offers\" itemscope=\"itemscope\" itemtype=\"http://schema.org/Offer\" class=\"price\"><span itemprop=\"price\">1,280</span>円<meta itemprop=\"priceCurrency\" content=\"JPY\"/></p>\\n          <ul class=\"format\">\\n            <li class=\"pdf\">PDF</li>\\n          </ul>\\n          <ul class=\"date\">\\n            <li><time datetime=\"2016-6-28\" itemprop=\"datePublished\" class=\"published\">2016年6月28日</time></li>\\n            \\n          </ul>\\n        </a></li>        <li id=\"978-4-7741-8292-6\"><a itemprop=\"url\" href=\"/dp/ebook/2016/978-4-7741-8292-6\">\\n          <img itemprop=\"image\" src=\"/assets/images/dummy.png\" width=\"100\" height=\"142\" data-image=\"/assets/images/gdp/2016/thumb/TH100_978-4-7741-8292-6.jpg,/assets/images/gdp/2016/thumb/TH200_978-4-7741-8292-6.jpg\" alt=\"カバー画像\"/>\\n          <p itemprop=\"name\" class=\"title\">Slack<wbr/>入門<br/><span class=\"sub\">[ChatOpsによるチーム開発の効率化]</span></p>\\n          <p itemprop=\"author\" class=\"author\">松下雅和，<wbr/>小島泰洋，<wbr/>長瀬敦史，<wbr/>坂本卓巳\\u3000著</p>\\n          <p itemprop=\"offers\" itemscope=\"itemscope\" itemtype=\"http://schema.org/Offer\" class=\"price\"><span itemprop=\"price\">1,980</span>円<meta itemprop=\"priceCurrency\" content=\"JPY\"/></p>\\n          <ul class=\"format\">\\n            <li class=\"pdf\">PDF</li><li class=\"epub\">EPUB</li>\\n          </ul>\\n          <ul class=\"date\">\\n            <li><time datetime=\"2016-6-28\" itemprop=\"datePublished\" class=\"published\">2016年6月28日</time></li>\\n            \\n          </ul>\\n        </a></li>        <li id=\"978-4-7741-8273-5\"><a itemprop=\"url\" href=\"/dp/ebook/2016/978-4-7741-8273-5\">\\n          <img itemprop=\"image\" src=\"/assets/images/dummy.png\" width=\"100\" height=\"127\" data-image=\"/assets/images/gdp/2016/thumb/TH100_978-4-7741-8273-5.jpg,/assets/images/gdp/2016/thumb/TH200_978-4-7741-8273-5.jpg\" alt=\"カバー画像\"/>\\n          <p itemprop=\"name\" class=\"title\">パソコン入門<wbr/>5<wbr/>冊分！<br/><span class=\"sub\">＜<wbr/>Windows 10<wbr/>入門＋<wbr/>Windows 10<wbr/>活用＋インターネット＆<wbr/>メール＋<wbr/>Word<wbr/>＋<wbr/>Excel<wbr/>＞</span></p>\\n          <p itemprop=\"author\" class=\"author\">飯島弘文\\u3000著</p>\\n          <p itemprop=\"offers\" itemscope=\"itemscope\" itemtype=\"http://schema.org/Offer\" class=\"price\"><span itemprop=\"price\">1,780</span>円<meta itemprop=\"priceCurrency\" content=\"JPY\"/></p>\\n          <ul class=\"format\">\\n            <li class=\"pdf\">PDF</li>\\n          </ul>\\n          <ul class=\"date\">\\n            <li><time datetime=\"2016-6-27\" itemprop=\"datePublished\" class=\"published\">2016年6月27日</time></li>\\n            \\n          </ul>\\n        </a></li>        <li id=\"978-4-7741-8295-7\"><a itemprop=\"url\" href=\"/dp/ebook/2016/978-4-7741-8295-7\">\\n          <img itemprop=\"image\" src=\"/assets/images/dummy.png\" width=\"100\" height=\"110\" data-image=\"/assets/images/gdp/2016/thumb/TH100_978-4-7741-8295-7.jpg,/assets/images/gdp/2016/thumb/TH200_978-4-7741-8295-7.jpg\" alt=\"カバー画像\"/>\\n          <p itemprop=\"name\" class=\"title\">人気ハンドメイド作家になりたい人が読む本</p>\\n          <p itemprop=\"author\" class=\"author\">ARENSKI\\u3000著，<wbr/>小泉七美\\u3000監修</p>\\n          <p itemprop=\"offers\" itemscope=\"itemscope\" itemtype=\"http://schema.org/Offer\" class=\"price\"><span itemprop=\"price\">1,480</span>円<meta itemprop=\"priceCurrency\" content=\"JPY\"/></p>\\n          <ul class=\"format\">\\n            <li class=\"pdf\">PDF</li><li class=\"epub\">EPUB</li>\\n          </ul>\\n          <ul class=\"date\">\\n            <li><time datetime=\"2016-6-27\" itemprop=\"datePublished\" class=\"published\">2016年6月27日</time></li>\\n            <li><time datetime=\"2016-6-30\" itemprop=\"dateModified\" class=\"modified\">2016年6月30日</time></li>\\n          </ul>\\n        </a></li>        <li id=\"978-4-7741-8288-9\"><a itemprop=\"url\" href=\"/dp/ebook/2016/978-4-7741-8288-9\">\\n          <img itemprop=\"image\" src=\"/assets/images/dummy.png\" width=\"100\" height=\"142\" data-image=\"/assets/images/gdp/2016/thumb/TH100_978-4-7741-8288-9.jpg,/assets/images/gdp/2016/thumb/TH200_978-4-7741-8288-9.jpg\" alt=\"カバー画像\"/>\\n          <p itemprop=\"name\" class=\"title\"><span class=\"series\">今すぐ使えるかんたん<wbr/>Ex</span> 今すぐ使えるかんたんEx<br/>ヤフオク！ 本気で儲ける！ プロ技セレクション</p>\\n          <p itemprop=\"author\" class=\"author\">梅田潤\\u3000著</p>\\n          <p itemprop=\"offers\" itemscope=\"itemscope\" itemtype=\"http://schema.org/Offer\" class=\"price\"><span itemprop=\"price\">1,780</span>円<meta itemprop=\"priceCurrency\" content=\"JPY\"/></p>\\n          <ul class=\"format\">\\n            <li class=\"pdf\">PDF</li>\\n          </ul>\\n          <ul class=\"date\">\\n            <li><time datetime=\"2016-6-25\" itemprop=\"datePublished\" class=\"published\">2016年6月25日</time></li>\\n            \\n          </ul>\\n        </a></li>        <li id=\"978-4-7741-8289-6\"><a itemprop=\"url\" href=\"/dp/ebook/2016/978-4-7741-8289-6\">\\n          <img itemprop=\"image\" src=\"/assets/images/dummy.png\" width=\"100\" height=\"157\" data-image=\"/assets/images/gdp/2016/thumb/TH100_978-4-7741-8289-6.jpg,/assets/images/gdp/2016/thumb/TH200_978-4-7741-8289-6.jpg\" alt=\"カバー画像\"/>\\n          <p itemprop=\"name\" class=\"title\"><span class=\"series\">今すぐ使えるかんたん<wbr/>mini</span> 今すぐ使えるかんたんmini<br/>Access 2016 基本技</p>\\n          <p itemprop=\"author\" class=\"author\">技術評論社編集部，<wbr/>AYURA\\u3000著</p>\\n          <p itemprop=\"offers\" itemscope=\"itemscope\" itemtype=\"http://schema.org/Offer\" class=\"price\"><span itemprop=\"price\">980</span>円<meta itemprop=\"priceCurrency\" content=\"JPY\"/></p>\\n          <ul class=\"format\">\\n            <li class=\"pdf\">PDF</li>\\n          </ul>\\n          <ul class=\"date\">\\n            <li><time datetime=\"2016-6-25\" itemprop=\"datePublished\" class=\"published\">2016年6月25日</time></li>\\n            \\n          </ul>\\n        </a></li>        <li id=\"978-4-7741-8290-2\"><a itemprop=\"url\" href=\"/dp/ebook/2016/978-4-7741-8290-2\">\\n          <img itemprop=\"image\" src=\"/assets/images/dummy.png\" width=\"100\" height=\"147\" data-image=\"/assets/images/gdp/2016/thumb/TH100_978-4-7741-8290-2.jpg,/assets/images/gdp/2016/thumb/TH200_978-4-7741-8290-2.jpg\" alt=\"カバー画像\"/>\\n          <p itemprop=\"name\" class=\"title\"><span class=\"series\">ゼロからはじめる</span> ゼロからはじめる<br/>OneNote 2016<wbr/>／<wbr/>2013 スマートガイド</p>\\n          <p itemprop=\"author\" class=\"author\">技術評論社編集部，<wbr/>マイカ\\u3000著</p>\\n          <p itemprop=\"offers\" itemscope=\"itemscope\" itemtype=\"http://schema.org/Offer\" class=\"price\"><span itemprop=\"price\">980</span>円<meta itemprop=\"priceCurrency\" content=\"JPY\"/></p>\\n          <ul class=\"format\">\\n            <li class=\"pdf\">PDF</li>\\n          </ul>\\n          <ul class=\"date\">\\n            <li><time datetime=\"2016-6-25\" itemprop=\"datePublished\" class=\"published\">2016年6月25日</time></li>\\n            \\n          </ul>\\n        </a></li>        <li id=\"978-4-7741-8291-9\"><a itemprop=\"url\" href=\"/dp/ebook/2016/978-4-7741-8291-9\">\\n          <img itemprop=\"image\" src=\"/assets/images/dummy.png\" width=\"100\" height=\"147\" data-image=\"/assets/images/gdp/2016/thumb/TH100_978-4-7741-8291-9.jpg,/assets/images/gdp/2016/thumb/TH200_978-4-7741-8291-9.jpg\" alt=\"カバー画像\"/>\\n          <p itemprop=\"name\" class=\"title\"><span class=\"series\">ゼロからはじめる</span> ゼロからはじめる<br/>au Galaxy S7 edge SCV33 スマートガイド</p>\\n          <p itemprop=\"author\" class=\"author\">技術評論社編集部\\u3000著</p>\\n          <p itemprop=\"offers\" itemscope=\"itemscope\" itemtype=\"http://schema.org/Offer\" class=\"price\"><span itemprop=\"price\">1,380</span>円<meta itemprop=\"priceCurrency\" content=\"JPY\"/></p>\\n          <ul class=\"format\">\\n            <li class=\"pdf\">PDF</li>\\n          </ul>\\n          <ul class=\"date\">\\n            <li><time datetime=\"2016-6-25\" itemprop=\"datePublished\" class=\"published\">2016年6月25日</time></li>\\n            \\n          </ul>\\n        </a></li>\\n      </ul>\\n      <nav id=\"pagingBottom\">        <ul>\\n          <li><span class=\"prev\">―</span></li>\\n          <li class=\"paging-number\">1 - 30 / 1395</li>\\n          <li><a href=\"/dp?start=30\" title=\"サンプルページのため利用できません\" class=\"next\">次</a></li>\\n        </ul>\\n      </nav>\\n    </div>\\n  </div>\\n  <footer id=\"footer\" itemscope=\"itemscope\" itemtype=\"http://www.schema.org/WPFooter\">\\n    <div id=\"wait\" class=\"hidden\"></div>\\n    <nav id=\"navigation\" itemscope=\"itemscope\" itemtype=\"http://www.schema.org/SiteNavigationElement\">\\n      <ul id=\"navigationLink\">\\n        <li id=\"navLinkHome\" class=\"current\"><a itemprop=\"url\" href=\"/dp\" title=\"サンプルページのため利用できません\" class=\"home\">ストア</a></li>\\n        <li id=\"navLinkMyPage\"><a itemprop=\"url\" href=\"/dp/my-page\" title=\"サンプルページのため利用できません\" class=\"mypage\">マイページ</a></li>\\n        <li id=\"navLinkInfor\"><a itemprop=\"url\" href=\"/dp/information\" title=\"サンプルページのため利用できません\" class=\"information\">お知らせ</a></li>\\n        <li id=\"navLinkHelp\"><a itemprop=\"url\" href=\"/dp/help\" title=\"サンプルページのため利用できません\" class=\"help\">ヘルプ</a></li>\\n      </ul>\\n    </nav>\\n    <nav id=\"function\" itemscope=\"itemscope\" itemtype=\"http://www.schema.org/WPSideBar\">\\n      <div id=\"backgroundWrapper\"></div>\\n      <div id=\"navInfor\"><p class=\"page\">1 - 30 / 1395</p></div>\\n    </nav>\\n    <div id=\"storeInformation\">\\n      <ul id=\"footerLink\">\\n        <li><a href=\"/\">このサイトについて</a></li>\\n      </ul>\\n      <p id=\"storeCopyright\"><span style=\"color:red;font-size:1.8em;\">このページは「Pythonクローリング＆スクレイピング -データ収集・解析のための実践開発ガイド-」のためのサンプルサイトです。特別の許可を得て技術評論社の著作物を使用しています。</span><br/><small>Copyright © 2016 <span class=\"reserved\">All Rights Reserved by</span> <a href=\"http://gihyo.jp/book\">Gijutsu-Hyohron Co., Ltd.</a></small></p>\\n    </div>\\n  </footer>\\n</body>\\n</html>\\n'"
      ]
     },
     "execution_count": 9,
     "metadata": {},
     "output_type": "execute_result"
    }
   ],
   "source": [
    "#STR型に変換されたボディを取得\n",
    "r.text"
   ]
  },
  {
   "cell_type": "code",
   "execution_count": 10,
   "id": "e11be49c-ae3e-4747-aa6d-45c3207bb7b3",
   "metadata": {
    "collapsed": true,
    "jupyter": {
     "outputs_hidden": true
    },
    "tags": []
   },
   "outputs": [
    {
     "data": {
      "text/plain": [
       "b'<!DOCTYPE HTML>\\n<html lang=\"ja\" class=\"pc\">\\n<head>\\n  <meta charset=\"UTF-8\">\\n  <title>Python\\xe3\\x82\\xaf\\xe3\\x83\\xad\\xe3\\x83\\xbc\\xe3\\x83\\xaa\\xe3\\x83\\xb3\\xe3\\x82\\xb0\\xef\\xbc\\x86\\xe3\\x82\\xb9\\xe3\\x82\\xaf\\xe3\\x83\\xac\\xe3\\x82\\xa4\\xe3\\x83\\x94\\xe3\\x83\\xb3\\xe3\\x82\\xb0 -\\xe3\\x83\\x87\\xe3\\x83\\xbc\\xe3\\x82\\xbf\\xe5\\x8f\\x8e\\xe9\\x9b\\x86\\xe3\\x83\\xbb\\xe8\\xa7\\xa3\\xe6\\x9e\\x90\\xe3\\x81\\xae\\xe3\\x81\\x9f\\xe3\\x82\\x81\\xe3\\x81\\xae\\xe5\\xae\\x9f\\xe8\\xb7\\xb5\\xe9\\x96\\x8b\\xe7\\x99\\xba\\xe3\\x82\\xac\\xe3\\x82\\xa4\\xe3\\x83\\x89- \\xe3\\x82\\xb5\\xe3\\x83\\xb3\\xe3\\x83\\x97\\xe3\\x83\\xab\\xe3\\x83\\x9a\\xe3\\x83\\xbc\\xe3\\x82\\xb8</title>\\n  <meta http-equiv=\"Content-Style-Type\" content=\"text/css\"/>\\n  <meta http-equiv=\"Content-Script-Type\" content=\"application/javascript\"/>\\n  <meta name=\"description\" content=\"Python\\xe3\\x82\\xaf\\xe3\\x83\\xad\\xe3\\x83\\xbc\\xe3\\x83\\xaa\\xe3\\x83\\xb3\\xe3\\x82\\xb0\\xef\\xbc\\x86\\xe3\\x82\\xb9\\xe3\\x82\\xaf\\xe3\\x83\\xac\\xe3\\x82\\xa4\\xe3\\x83\\x94\\xe3\\x83\\xb3\\xe3\\x82\\xb0 -\\xe3\\x83\\x87\\xe3\\x83\\xbc\\xe3\\x82\\xbf\\xe5\\x8f\\x8e\\xe9\\x9b\\x86\\xe3\\x83\\xbb\\xe8\\xa7\\xa3\\xe6\\x9e\\x90\\xe3\\x81\\xae\\xe3\\x81\\x9f\\xe3\\x82\\x81\\xe3\\x81\\xae\\xe5\\xae\\x9f\\xe8\\xb7\\xb5\\xe9\\x96\\x8b\\xe7\\x99\\xba\\xe3\\x82\\xac\\xe3\\x82\\xa4\\xe3\\x83\\x89- \\xe3\\x82\\xb5\\xe3\\x83\\xb3\\xe3\\x83\\x97\\xe3\\x83\\xab\\xe3\\x83\\x9a\\xe3\\x83\\xbc\\xe3\\x82\\xb8\"/>\\n  <meta http-equiv=\"X-UA-Compatible\" content=\"IE=Edge,chrome=1\"/>\\n  <meta name=\"apple-mobile-web-app-capable\" content=\"yes\"/>\\n  <meta name=\"format-detection\" content=\"telephone=no\"/>\\n  <link rel=\"shortcut icon\" href=\"/assets/templates/gdp/favicon.ico\" type=\"image/vnd.microsoft.icon\"/>\\n  <meta name=\"robots\" content=\"noindex,noarchive\"/>\\n  <link rel=\"stylesheet\" href=\"/dp/assets/style/store1124.css\" type=\"text/css\" media=\"all\"/>\\n</head>\\n<body itemscope=\"itemscope\" itemtype=\"http://schema.org/WebPage\" class=\"page-home\">\\n  <header id=\"header\" itemscope=\"itemscope\" itemtype=\"http://schema.org/WPHeader\">\\n    <h1 class=\"home-title\">Scraping-Book</h1>\\n    <h2 class=\"home-subtitle\">\\xe3\\x81\\x93\\xe3\\x82\\x8c\\xe3\\x81\\xaf\\xe6\\x9b\\xb8\\xe7\\xb1\\x8d\\xe7\\x94\\xa8\\xe3\\x81\\xae\\xe3\\x82\\xb5\\xe3\\x83\\xb3\\xe3\\x83\\x97\\xe3\\x83\\xab\\xe3\\x83\\x9a\\xe3\\x83\\xbc\\xe3\\x82\\xb8\\xe3\\x81\\xa7\\xe3\\x81\\x99\\xe3\\x80\\x82\\xe8\\xb3\\xbc\\xe5\\x85\\xa5\\xe3\\x81\\xaa\\xe3\\x81\\xa9\\xe3\\x81\\xae\\xe6\\x93\\x8d\\xe4\\xbd\\x9c\\xe3\\x81\\xaf\\xe3\\x81\\xa7\\xe3\\x81\\x8d\\xe3\\x81\\xbe\\xe3\\x81\\x9b\\xe3\\x82\\x93\\xe3\\x80\\x82</h2>\\n    <nav id=\"headerFunction\">\\n      <div id=\"login\">\\n        <a href=\"#login\" title=\"\\xe3\\x82\\xb5\\xe3\\x83\\xb3\\xe3\\x83\\x97\\xe3\\x83\\xab\\xe3\\x83\\x9a\\xe3\\x83\\xbc\\xe3\\x82\\xb8\\xe3\\x81\\xae\\xe3\\x81\\x9f\\xe3\\x82\\x81\\xe5\\x88\\xa9\\xe7\\x94\\xa8\\xe3\\x81\\xa7\\xe3\\x81\\x8d\\xe3\\x81\\xbe\\xe3\\x81\\x9b\\xe3\\x82\\x93\">\\xe3\\x83\\xad\\xe3\\x82\\xb0\\xe3\\x82\\xa4\\xe3\\x83\\xb3</a>\\n      </div>\\n      <div id=\"cart\">\\n        <a href=\"/dp/cart\" title=\"\\xe3\\x82\\xb5\\xe3\\x83\\xb3\\xe3\\x83\\x97\\xe3\\x83\\xab\\xe3\\x83\\x9a\\xe3\\x83\\xbc\\xe3\\x82\\xb8\\xe3\\x81\\xae\\xe3\\x81\\x9f\\xe3\\x82\\x81\\xe5\\x88\\xa9\\xe7\\x94\\xa8\\xe3\\x81\\xa7\\xe3\\x81\\x8d\\xe3\\x81\\xbe\\xe3\\x81\\x9b\\xe3\\x82\\x93\">\\xe3\\x82\\xab\\xe3\\x83\\xbc\\xe3\\x83\\x88</a>\\n      </div>\\n    </nav>\\n  </header>\\n  <div id=\"main\">\\n    <noscript><div id=\"noscript\">\\n      <p>\\xe6\\x9c\\xac\\xe3\\x82\\xb5\\xe3\\x82\\xa4\\xe3\\x83\\x88\\xe3\\x81\\xa7\\xe3\\x81\\xafJavaScript\\xe3\\x82\\x92\\xe4\\xbd\\xbf\\xe7\\x94\\xa8\\xe3\\x81\\x97\\xe3\\x81\\xa6\\xe3\\x81\\x8a\\xe3\\x82\\x8a\\xe3\\x81\\xbe\\xe3\\x81\\x99\\xe3\\x80\\x82JavaScript\\xe3\\x81\\x8c\\xe7\\x84\\xa1\\xe5\\x8a\\xb9\\xe3\\x81\\xaa\\xe7\\x8a\\xb6\\xe6\\x85\\x8b\\xe3\\x81\\xa7\\xe3\\x81\\xaf\\xe3\\x81\\x94\\xe5\\x88\\xa9\\xe7\\x94\\xa8\\xe3\\x81\\x84\\xe3\\x81\\x9f\\xe3\\x81\\xa0\\xe3\\x81\\x91\\xe3\\x81\\xbe\\xe3\\x81\\x9b\\xe3\\x82\\x93\\xe3\\x80\\x82</p>\\n    </div></noscript>\\n\\n    <div id=\"bookList\">\\n      <h2>\\xe5\\x95\\x86\\xe5\\x93\\x81\\xe4\\xb8\\x80\\xe8\\xa6\\xa7</h2>\\n      <div id=\"topNavigation\">\\n        <div id=\"filter\">\\n          <form id=\"search\" action=\"/dp\" method=\"get\">\\n            <input type=\"search\" name=\"query\" id=\"searchText\" title=\"\\xe6\\xa4\\x9c\\xe7\\xb4\\xa2\\xe3\\x81\\x99\\xe3\\x82\\x8b\\xe5\\x95\\x86\\xe5\\x93\\x81\\xe3\\x81\\xae\\xe3\\x82\\xad\\xe3\\x83\\xbc\\xe3\\x83\\xaf\\xe3\\x83\\xbc\\xe3\\x83\\x89\\xe3\\x82\\x92\\xe5\\x85\\xa5\\xe5\\x8a\\x9b\" placeholder=\"\\xe5\\x95\\x86\\xe5\\x93\\x81\\xe3\\x81\\xae\\xe3\\x82\\xad\\xe3\\x83\\xbc\\xe3\\x83\\xaf\\xe3\\x83\\xbc\\xe3\\x83\\x89\" required=\"required\" value=\"\"/>\\n            <input type=\"submit\" id=\"searchSubmit\" value=\"\\xe6\\xa4\\x9c\\xe7\\xb4\\xa2\" title=\"\\xe6\\xa4\\x9c\\xe7\\xb4\\xa2\\xe3\\x81\\x99\\xe3\\x82\\x8b\"/>\\n          </form>\\n          <div id=\"select\">\\n            <a href=\"\" id=\"selectLabel\" title=\"\\xe5\\x95\\x86\\xe5\\x93\\x81\\xe3\\x82\\xb8\\xe3\\x83\\xa3\\xe3\\x83\\xb3\\xe3\\x83\\xab\\xe3\\x82\\x92\\xe9\\x81\\xb8\\xe6\\x8a\\x9e\\xe3\\x81\\x99\\xe3\\x82\\x8b\">\\xe3\\x81\\x99\\xe3\\x81\\xb9\\xe3\\x81\\xa6\\xe3\\x81\\xae\\xe5\\x95\\x86\\xe5\\x93\\x81</a>\\n            <div id=\"selectMenu\">\\n              <ul id=\"selectMenuBody\"><li class=\"title\">\\xe5\\x95\\x86\\xe5\\x93\\x81\\xe3\\x82\\xb8\\xe3\\x83\\xa3\\xe3\\x83\\xb3\\xe3\\x83\\xab\\xe3\\x82\\x92\\xe9\\x81\\xb8\\xe6\\x8a\\x9e</li><li class=\"selected\"><a href=\"/dp\">\\xe3\\x81\\x99\\xe3\\x81\\xb9\\xe3\\x81\\xa6\\xe3\\x81\\xae\\xe5\\x95\\x86\\xe5\\x93\\x81</a></li><li><a href=\"/dp/genre/%E3%83%91%E3%82%BD%E3%82%B3%E3%83%B3\">\\xe3\\x83\\x91\\xe3\\x82\\xbd\\xe3\\x82\\xb3\\xe3\\x83\\xb3</a></li><li><a href=\"/dp/genre/%E3%82%B9%E3%83%9E%E3%83%BC%E3%83%88%E3%83%95%E3%82%A9%E3%83%B3%E3%83%BB%E3%82%BF%E3%83%96%E3%83%AC%E3%83%83%E3%83%88\">\\xe3\\x82\\xb9\\xe3\\x83\\x9e\\xe3\\x83\\xbc\\xe3\\x83\\x88\\xe3\\x83\\x95\\xe3\\x82\\xa9\\xe3\\x83\\xb3\\xe3\\x83\\xbb\\xe3\\x82\\xbf\\xe3\\x83\\x96\\xe3\\x83\\xac\\xe3\\x83\\x83\\xe3\\x83\\x88</a></li><li><a href=\"/dp/genre/%E3%83%87%E3%82%B6%E3%82%A4%E3%83%B3%E3%83%BB%E7%B4%A0%E6%9D%90%E9%9B%86\">\\xe3\\x83\\x87\\xe3\\x82\\xb6\\xe3\\x82\\xa4\\xe3\\x83\\xb3\\xe3\\x83\\xbb\\xe7\\xb4\\xa0\\xe6\\x9d\\x90\\xe9\\x9b\\x86</a></li><li><a href=\"/dp/genre/Web%E3%82%B5%E3%82%A4%E3%83%88%E5%88%B6%E4%BD%9C\">Web\\xe3\\x82\\xb5\\xe3\\x82\\xa4\\xe3\\x83\\x88\\xe5\\x88\\xb6\\xe4\\xbd\\x9c</a></li><li><a href=\"/dp/genre/%E3%83%97%E3%83%AD%E3%82%B0%E3%83%A9%E3%83%9F%E3%83%B3%E3%82%B0%E3%83%BB%E3%82%B7%E3%82%B9%E3%83%86%E3%83%A0%E9%96%8B%E7%99%BA\">\\xe3\\x83\\x97\\xe3\\x83\\xad\\xe3\\x82\\xb0\\xe3\\x83\\xa9\\xe3\\x83\\x9f\\xe3\\x83\\xb3\\xe3\\x82\\xb0\\xe3\\x83\\xbb\\xe3\\x82\\xb7\\xe3\\x82\\xb9\\xe3\\x83\\x86\\xe3\\x83\\xa0\\xe9\\x96\\x8b\\xe7\\x99\\xba</a></li><li><a href=\"/dp/genre/%E3%83%8D%E3%83%83%E3%83%88%E3%83%AF%E3%83%BC%E3%82%AF%E3%83%BBUNIX%E3%83%BB%E3%83%87%E3%83%BC%E3%82%BF%E3%83%99%E3%83%BC%E3%82%B9\">\\xe3\\x83\\x8d\\xe3\\x83\\x83\\xe3\\x83\\x88\\xe3\\x83\\xaf\\xe3\\x83\\xbc\\xe3\\x82\\xaf\\xe3\\x83\\xbbUNIX\\xe3\\x83\\xbb\\xe3\\x83\\x87\\xe3\\x83\\xbc\\xe3\\x82\\xbf\\xe3\\x83\\x99\\xe3\\x83\\xbc\\xe3\\x82\\xb9</a></li><li><a href=\"/dp/genre/%E8%B3%87%E6%A0%BC%E8%A9%A6%E9%A8%93%EF%BC%88IT%EF%BC%89\">\\xe8\\xb3\\x87\\xe6\\xa0\\xbc\\xe8\\xa9\\xa6\\xe9\\xa8\\x93\\xef\\xbc\\x88IT\\xef\\xbc\\x89</a></li><li><a href=\"/dp/genre/%E8%B3%87%E6%A0%BC%E8%A9%A6%E9%A8%93%EF%BC%88%E4%B8%80%E8%88%AC%EF%BC%89%E3%83%BB%E5%A4%A7%E5%AD%A6%E5%8F%97%E9%A8%93\">\\xe8\\xb3\\x87\\xe6\\xa0\\xbc\\xe8\\xa9\\xa6\\xe9\\xa8\\x93\\xef\\xbc\\x88\\xe4\\xb8\\x80\\xe8\\x88\\xac\\xef\\xbc\\x89\\xe3\\x83\\xbb\\xe5\\xa4\\xa7\\xe5\\xad\\xa6\\xe5\\x8f\\x97\\xe9\\xa8\\x93</a></li><li><a href=\"/dp/genre/%E8%B6%A3%E5%91%B3%E3%83%BB%E5%AE%9F%E7%94%A8%E3%83%BB%E3%83%87%E3%82%B8%E3%82%AB%E3%83%A1\">\\xe8\\xb6\\xa3\\xe5\\x91\\xb3\\xe3\\x83\\xbb\\xe5\\xae\\x9f\\xe7\\x94\\xa8\\xe3\\x83\\xbb\\xe3\\x83\\x87\\xe3\\x82\\xb8\\xe3\\x82\\xab\\xe3\\x83\\xa1</a></li><li><a href=\"/dp/genre/%E3%83%93%E3%82%B8%E3%83%8D%E3%82%B9%E3%83%BB%E3%83%9E%E3%83%8D%E3%83%BC\">\\xe3\\x83\\x93\\xe3\\x82\\xb8\\xe3\\x83\\x8d\\xe3\\x82\\xb9\\xe3\\x83\\xbb\\xe3\\x83\\x9e\\xe3\\x83\\x8d\\xe3\\x83\\xbc</a></li><li><a href=\"/dp/genre/%E7%90%86%E5%B7%A5%E3%83%BB%E3%82%B5%E3%82%A4%E3%82%A8%E3%83%B3%E3%82%B9\">\\xe7\\x90\\x86\\xe5\\xb7\\xa5\\xe3\\x83\\xbb\\xe3\\x82\\xb5\\xe3\\x82\\xa4\\xe3\\x82\\xa8\\xe3\\x83\\xb3\\xe3\\x82\\xb9</a></li></ul>\\n            </div>\\n          </div>\\n        </div>\\n        <nav id=\"pagingTop\">          <ul>\\n            <li><span class=\"prev\">\\xe2\\x80\\x95</span></li>\\n            <li class=\"paging-number\">1</li>\\n            <li><a href=\"/dp?start=30\" title=\"\\xe3\\x82\\xb5\\xe3\\x83\\xb3\\xe3\\x83\\x97\\xe3\\x83\\xab\\xe3\\x83\\x9a\\xe3\\x83\\xbc\\xe3\\x82\\xb8\\xe3\\x81\\xae\\xe3\\x81\\x9f\\xe3\\x82\\x81\\xe5\\x88\\xa9\\xe7\\x94\\xa8\\xe3\\x81\\xa7\\xe3\\x81\\x8d\\xe3\\x81\\xbe\\xe3\\x81\\x9b\\xe3\\x82\\x93\" class=\"next\">\\xe6\\xac\\xa1</a></li>\\n          </ul>\\n        </nav>\\n      </div>\\n      <ul itemprop=\"isPartOf\" itemscope=\"itemscope\" itemtype=\"http://www.schema.org/CollectionPage\" id=\"listBook\" class=\"list-book\"><li id=\"bannerTopAd\">\\n  <div id=\"topAdPrev\"><a href=\"#adPrev\" title=\"\\xe3\\x82\\xb5\\xe3\\x83\\xb3\\xe3\\x83\\x97\\xe3\\x83\\xab\\xe3\\x83\\x9a\\xe3\\x83\\xbc\\xe3\\x82\\xb8\\xe3\\x81\\xae\\xe3\\x81\\x9f\\xe3\\x82\\x81\\xe5\\x88\\xa9\\xe7\\x94\\xa8\\xe3\\x81\\xa7\\xe3\\x81\\x8d\\xe3\\x81\\xbe\\xe3\\x81\\x9b\\xe3\\x82\\x93\">\\xe5\\x89\\x8d</a></div>\\n  <div id=\"topAdNext\"><a href=\"#adNext\" title=\"\\xe3\\x82\\xb5\\xe3\\x83\\xb3\\xe3\\x83\\x97\\xe3\\x83\\xab\\xe3\\x83\\x9a\\xe3\\x83\\xbc\\xe3\\x82\\xb8\\xe3\\x81\\xae\\xe3\\x81\\x9f\\xe3\\x82\\x81\\xe5\\x88\\xa9\\xe7\\x94\\xa8\\xe3\\x81\\xa7\\xe3\\x81\\x8d\\xe3\\x81\\xbe\\xe3\\x81\\x9b\\xe3\\x82\\x93\">\\xe6\\xac\\xa1</a></div>\\n  <ul id=\"topAdNum\"></ul>\\n</li>\\n<li class=\"subscription\"><a href=\"/dp/subscription\" title=\"\\xe3\\x82\\xb5\\xe3\\x83\\xb3\\xe3\\x83\\x97\\xe3\\x83\\xab\\xe3\\x83\\x9a\\xe3\\x83\\xbc\\xe3\\x82\\xb8\\xe3\\x81\\xae\\xe3\\x81\\x9f\\xe3\\x82\\x81\\xe5\\x88\\xa9\\xe7\\x94\\xa8\\xe3\\x81\\xa7\\xe3\\x81\\x8d\\xe3\\x81\\xbe\\xe3\\x81\\x9b\\xe3\\x82\\x93\">\\n  <p class=\"title\"><span class=\"series\">Software Design\\xe3\\x83\\xbb<wbr>WEB+DB PRESS</span>\\xe9\\x9b\\xbb\\xe5\\xad\\x90\\xe7\\x89\\x88\\xe5\\xae\\x9a\\xe6\\x9c\\x9f\\xe8\\xb3\\xbc\\xe8\\xaa\\xad\\xe3\\x81\\xae\\xe3\\x81\\x8a\\xe7\\x94\\xb3\\xe3\\x81\\x97\\xe8\\xbe\\xbc\\xe3\\x81\\xbf</p>\\n  <img src=\"/assets/images/dummy.png\" data-image=\"/assets/images/gdp/subscription/subsc-cover.png,/assets/images/gdp/subscription/subsc-cover@2x.png\" width=\"236\" height=\"138\" alt=\"cover\" style=\"max-width:none;max-height:none;position:absolute;right:0;bottom:-10px;border:none\">\\n  <ul class=\"format\"><li class=\"pdf\">PDF</li></ul>\\n</a></li>        <li class=\"new\" id=\"978-4-7741-8336-7\"><a itemprop=\"url\" href=\"/dp/ebook/2016/978-4-7741-8336-7\">\\n          <img itemprop=\"image\" src=\"/assets/images/dummy.png\" width=\"100\" height=\"141\" data-image=\"/assets/images/gdp/2016/thumb/TH100_978-4-7741-8336-7.jpg,/assets/images/gdp/2016/thumb/TH200_978-4-7741-8336-7.jpg\" alt=\"\\xe3\\x82\\xab\\xe3\\x83\\x90\\xe3\\x83\\xbc\\xe7\\x94\\xbb\\xe5\\x83\\x8f\"/>\\n          <p itemprop=\"name\" class=\"title\">\\xe3\\x81\\x93\\xe3\\x82\\x8c\\xe3\\x81\\x8b\\xe3\\x82\\x89\\xe3\\x81\\xaf\\xe3\\x81\\x98\\xe3\\x82\\x81\\xe3\\x82\\x8b\\xe3\\x83\\x97\\xe3\\x83\\xad\\xe3\\x82\\xb0\\xe3\\x83\\xa9\\xe3\\x83\\x9f\\xe3\\x83\\xb3\\xe3\\x82\\xb0 \\xe4\\xbd\\x9c\\xe3\\x81\\xa3\\xe3\\x81\\xa6\\xe8\\xa6\\x9a\\xe3\\x81\\x88\\xe3\\x82\\x8b\\xe5\\x9f\\xba\\xe7\\xa4\\x8e\\xe3\\x81\\xae\\xe5\\x9f\\xba\\xe7\\xa4\\x8e</p>\\n          <p itemprop=\"author\" class=\"author\">\\xe8\\xb0\\xb7\\xe5\\xb0\\xbb\\xe3\\x81\\x8b\\xe3\\x81\\x8a\\xe3\\x82\\x8a\\xe3\\x80\\x80\\xe8\\x91\\x97\\xef\\xbc\\x8c<wbr/>\\xe8\\xb0\\xb7\\xe5\\xb0\\xbb\\xe8\\xb1\\x8a\\xe5\\xaf\\xbf\\xe3\\x80\\x80\\xe7\\x9b\\xa3\\xe4\\xbf\\xae</p>\\n          <p itemprop=\"offers\" itemscope=\"itemscope\" itemtype=\"http://schema.org/Offer\" class=\"price\"><span itemprop=\"price\">2,280</span>\\xe5\\x86\\x86<meta itemprop=\"priceCurrency\" content=\"JPY\"/></p>\\n          <ul class=\"format\">\\n            <li class=\"pdf\">PDF</li><li class=\"epub\">EPUB</li>\\n          </ul>\\n          <ul class=\"date\">\\n            <li class=\"notice\"><time datetime=\"2016-7-23\" itemprop=\"datePublished\" class=\"published\">2016\\xe5\\xb9\\xb47\\xe6\\x9c\\x8823\\xe6\\x97\\xa5</time></li>\\n            \\n          </ul>\\n        </a></li>        <li class=\"new\" id=\"978-4-7741-8337-4\"><a itemprop=\"url\" href=\"/dp/ebook/2016/978-4-7741-8337-4\">\\n          <img itemprop=\"image\" src=\"/assets/images/dummy.png\" width=\"100\" height=\"141\" data-image=\"/assets/images/gdp/2016/thumb/TH100_978-4-7741-8337-4.jpg,/assets/images/gdp/2016/thumb/TH200_978-4-7741-8337-4.jpg\" alt=\"\\xe3\\x82\\xab\\xe3\\x83\\x90\\xe3\\x83\\xbc\\xe7\\x94\\xbb\\xe5\\x83\\x8f\"/>\\n          <p itemprop=\"name\" class=\"title\"><span class=\"series\">\\xe6\\x83\\x85\\xe5\\xa0\\xb1\\xe5\\x87\\xa6\\xe7\\x90\\x86\\xe6\\x8a\\x80\\xe8\\xa1\\x93\\xe8\\x80\\x85\\xe8\\xa9\\xa6\\xe9\\xa8\\x93</span> \\xe5\\xb9\\xb3\\xe6\\x88\\x90<wbr/>28<wbr/>\\xe5\\xb9\\xb4\\xe5\\xba\\xa6<wbr/>\\xe3\\x80\\x90\\xe7\\xa7\\x8b\\xe6\\x9c\\x9f\\xe3\\x80\\x91<wbr/>\\xe6\\x83\\x85\\xe5\\xa0\\xb1\\xe3\\x82\\xbb\\xe3\\x82\\xad\\xe3\\x83\\xa5\\xe3\\x83\\xaa\\xe3\\x83\\x86\\xe3\\x82\\xa3\\xe3\\x83\\x9e\\xe3\\x83\\x8d\\xe3\\x82\\xb8\\xe3\\x83\\xa1\\xe3\\x83\\xb3\\xe3\\x83\\x88 \\xe3\\x83\\x91\\xe3\\x83\\xbc\\xe3\\x83\\x95\\xe3\\x82\\xa7\\xe3\\x82\\xaf\\xe3\\x83\\x88\\xe3\\x83\\xa9\\xe3\\x83\\xbc\\xe3\\x83\\x8b\\xe3\\x83\\xb3\\xe3\\x82\\xb0\\xe9\\x81\\x8e\\xe5\\x8e\\xbb\\xe5\\x95\\x8f\\xe9\\xa1\\x8c\\xe9\\x9b\\x86</p>\\n          <p itemprop=\"author\" class=\"author\">\\xe5\\xba\\x84\\xe5\\x8f\\xb8\\xe5\\x8b\\x9d\\xe5\\x93\\x89\\xef\\xbc\\x8c<wbr/>\\xe5\\x90\\x89\\xe5\\xb7\\x9d\\xe5\\x85\\x81\\xe6\\xa8\\xb9\\xe3\\x80\\x80\\xe8\\x91\\x97</p>\\n          <p itemprop=\"offers\" itemscope=\"itemscope\" itemtype=\"http://schema.org/Offer\" class=\"price\"><span itemprop=\"price\">1,480</span>\\xe5\\x86\\x86<meta itemprop=\"priceCurrency\" content=\"JPY\"/></p>\\n          <ul class=\"format\">\\n            <li class=\"pdf\">PDF</li>\\n          </ul>\\n          <ul class=\"date\">\\n            <li class=\"notice\"><time datetime=\"2016-7-23\" itemprop=\"datePublished\" class=\"published\">2016\\xe5\\xb9\\xb47\\xe6\\x9c\\x8823\\xe6\\x97\\xa5</time></li>\\n            \\n          </ul>\\n        </a></li>        <li class=\"new\" id=\"978-4-7741-8338-1\"><a itemprop=\"url\" href=\"/dp/ebook/2016/978-4-7741-8338-1\">\\n          <img itemprop=\"image\" src=\"/assets/images/dummy.png\" width=\"100\" height=\"144\" data-image=\"/assets/images/gdp/2016/thumb/TH100_978-4-7741-8338-1.jpg,/assets/images/gdp/2016/thumb/TH200_978-4-7741-8338-1.jpg\" alt=\"\\xe3\\x82\\xab\\xe3\\x83\\x90\\xe3\\x83\\xbc\\xe7\\x94\\xbb\\xe5\\x83\\x8f\"/>\\n          <p itemprop=\"name\" class=\"title\"><span class=\"series\">\\xe5\\xa4\\xa7\\xe4\\xba\\xba\\xe3\\x81\\xae\\xe8\\x87\\xaa\\xe7\\x94\\xb1\\xe6\\x99\\x82\\xe9\\x96\\x93<wbr/>\\xef\\xbc\\x88\\xe5\\xa4\\xa7\\xe4\\xba\\xba\\xe3\\x81\\xae\\xe8\\x87\\xaa\\xe7\\x94\\xb1\\xe6\\x99\\x82\\xe9\\x96\\x93<wbr/>mini\\xef\\xbc\\x89</span> \\xe6\\xb0\\xb4\\xe6\\xb3\\xb3\\xe3\\x81\\xae\\xe3\\x81\\x8d\\xe3\\x82\\x8c\\xe3\\x81\\x84\\xe3\\x81\\xaa\\xe3\\x82\\xab\\xe3\\x83\\xa9\\xe3\\x83\\x80\\xe3\\x82\\x92\\xe3\\x81\\xa4\\xe3\\x81\\x8f\\xe3\\x82\\x8b<br/><span class=\"sub\">\\xef\\xbd\\x9e\\xe3\\x82\\xb9\\xe3\\x83\\xaa\\xe3\\x83\\xa0\\xe3\\x81\\xaa\\xe9\\x80\\x86\\xe4\\xb8\\x89\\xe8\\xa7\\x92\\xe5\\xbd\\xa2\\xe3\\x81\\xab\\xe3\\x81\\xaa\\xe3\\x82\\x8b\\xef\\xbc\\x81\\xe3\\x83\\x89\\xe3\\x83\\xa9\\xe3\\x82\\xa4\\xe3\\x83\\xa9\\xe3\\x83\\xb3\\xe3\\x83\\x89\\xe3\\x83\\x88\\xe3\\x83\\xac\\xe3\\x83\\xbc\\xe3\\x83\\x8b\\xe3\\x83\\xb3\\xe3\\x82\\xb0</span></p>\\n          <p itemprop=\"author\" class=\"author\">\\xe9\\xab\\x99\\xe6\\xa9\\x8b\\xe9\\x9b\\x84\\xe4\\xbb\\x8b\\xe3\\x80\\x80\\xe8\\x91\\x97</p>\\n          <p itemprop=\"offers\" itemscope=\"itemscope\" itemtype=\"http://schema.org/Offer\" class=\"price\"><span itemprop=\"price\">1,280</span>\\xe5\\x86\\x86<meta itemprop=\"priceCurrency\" content=\"JPY\"/></p>\\n          <ul class=\"format\">\\n            <li class=\"pdf\">PDF</li>\\n          </ul>\\n          <ul class=\"date\">\\n            <li class=\"notice\"><time datetime=\"2016-7-23\" itemprop=\"datePublished\" class=\"published\">2016\\xe5\\xb9\\xb47\\xe6\\x9c\\x8823\\xe6\\x97\\xa5</time></li>\\n            \\n          </ul>\\n        </a></li>        <li class=\"new\" id=\"978-4-7741-8346-6\"><a itemprop=\"url\" href=\"/dp/ebook/2016/978-4-7741-8346-6\">\\n          <img itemprop=\"image\" src=\"/assets/images/dummy.png\" width=\"100\" height=\"133\" data-image=\"/assets/images/gdp/2016/thumb/TH100_978-4-7741-8346-6.jpg,/assets/images/gdp/2016/thumb/TH200_978-4-7741-8346-6.jpg\" alt=\"\\xe3\\x82\\xab\\xe3\\x83\\x90\\xe3\\x83\\xbc\\xe7\\x94\\xbb\\xe5\\x83\\x8f\"/>\\n          <p itemprop=\"name\" class=\"title\"><span class=\"series\">30<wbr/>\\xe3\\x83\\xac\\xe3\\x83\\x83\\xe3\\x82\\xb9\\xe3\\x83\\xb3</span> 30<wbr/>\\xe3\\x83\\xac\\xe3\\x83\\x83\\xe3\\x82\\xb9\\xe3\\x83\\xb3\\xe3\\x81\\xa7\\xe7\\xb5\\xb6\\xe5\\xaf\\xbe\\xe5\\x90\\x88\\xe6\\xa0\\xbc\\xef\\xbc\\x81 Microsoft Office Specialist PowerPoint 2013 \\xe3\\x83\\x86\\xe3\\x82\\xad\\xe3\\x82\\xb9\\xe3\\x83\\x88\\xef\\xbc\\x8b\\xe5\\x95\\x8f\\xe9\\xa1\\x8c\\xe9\\x9b\\x86</p>\\n          <p itemprop=\"author\" class=\"author\">\\xe6\\x9c\\xac\\xe9\\x83\\xb7PC\\xe5\\xa1\\xbe\\xe3\\x80\\x80\\xe8\\x91\\x97</p>\\n          <p itemprop=\"offers\" itemscope=\"itemscope\" itemtype=\"http://schema.org/Offer\" class=\"price\"><span itemprop=\"price\">1,980</span>\\xe5\\x86\\x86<meta itemprop=\"priceCurrency\" content=\"JPY\"/></p>\\n          <ul class=\"format\">\\n            <li class=\"pdf\">PDF</li>\\n          </ul>\\n          <ul class=\"date\">\\n            <li class=\"notice\"><time datetime=\"2016-7-22\" itemprop=\"datePublished\" class=\"published\">2016\\xe5\\xb9\\xb47\\xe6\\x9c\\x8822\\xe6\\x97\\xa5</time></li>\\n            \\n          </ul>\\n        </a></li>        <li class=\"new\" id=\"978-4-7741-8334-3\"><a itemprop=\"url\" href=\"/dp/ebook/2016/978-4-7741-8334-3\">\\n          <img itemprop=\"image\" src=\"/assets/images/dummy.png\" width=\"100\" height=\"147\" data-image=\"/assets/images/gdp/2016/thumb/TH100_978-4-7741-8334-3.jpg,/assets/images/gdp/2016/thumb/TH200_978-4-7741-8334-3.jpg\" alt=\"\\xe3\\x82\\xab\\xe3\\x83\\x90\\xe3\\x83\\xbc\\xe7\\x94\\xbb\\xe5\\x83\\x8f\"/>\\n          <p itemprop=\"name\" class=\"title\"><span class=\"series\">\\xe3\\x82\\xbc\\xe3\\x83\\xad\\xe3\\x81\\x8b\\xe3\\x82\\x89\\xe3\\x81\\xaf\\xe3\\x81\\x98\\xe3\\x82\\x81\\xe3\\x82\\x8b</span> \\xe3\\x82\\xbc\\xe3\\x83\\xad\\xe3\\x81\\x8b\\xe3\\x82\\x89\\xe3\\x81\\xaf\\xe3\\x81\\x98\\xe3\\x82\\x81\\xe3\\x82\\x8b<br/>\\xe6\\xb5\\xb7\\xe5\\xa4\\x96\\xe6\\x97\\x85\\xe8\\xa1\\x8c\\xe3\\x81\\xa7\\xe3\\x82\\xb9\\xe3\\x83\\x9e\\xe3\\x83\\x9b\\xe6\\xb4\\xbb\\xe7\\x94\\xa8 \\xe3\\x82\\xb9\\xe3\\x83\\x9e\\xe3\\x83\\xbc\\xe3\\x83\\x88\\xe3\\x82\\xac\\xe3\\x82\\xa4\\xe3\\x83\\x89</p>\\n          <p itemprop=\"author\" class=\"author\">\\xe5\\xb1\\xb1\\xe8\\xb0\\xb7\\xe5\\x89\\x9b\\xe5\\x8f\\xb2\\xef\\xbc\\x8c<wbr/>\\xe7\\x94\\xb0\\xe5\\x8f\\xa3\\xe5\\x92\\x8c\\xe8\\xa3\\x95\\xef\\xbc\\x8c<wbr/>\\xe3\\x82\\xbf\\xe3\\x83\\x88\\xe3\\x83\\xa9\\xe3\\x82\\xa8\\xe3\\x83\\x87\\xe3\\x82\\xa3\\xe3\\x83\\x83\\xe3\\x83\\x88\\xe3\\x80\\x80\\xe8\\x91\\x97</p>\\n          <p itemprop=\"offers\" itemscope=\"itemscope\" itemtype=\"http://schema.org/Offer\" class=\"price\"><span itemprop=\"price\">1,380</span>\\xe5\\x86\\x86<meta itemprop=\"priceCurrency\" content=\"JPY\"/></p>\\n          <ul class=\"format\">\\n            <li class=\"pdf\">PDF</li>\\n          </ul>\\n          <ul class=\"date\">\\n            <li class=\"notice\"><time datetime=\"2016-7-22\" itemprop=\"datePublished\" class=\"published\">2016\\xe5\\xb9\\xb47\\xe6\\x9c\\x8822\\xe6\\x97\\xa5</time></li>\\n            \\n          </ul>\\n        </a></li>        <li class=\"new\" id=\"978-4-7741-8335-0\"><a itemprop=\"url\" href=\"/dp/ebook/2016/978-4-7741-8335-0\">\\n          <img itemprop=\"image\" src=\"/assets/images/dummy.png\" width=\"100\" height=\"157\" data-image=\"/assets/images/gdp/2016/thumb/TH100_978-4-7741-8335-0.jpg,/assets/images/gdp/2016/thumb/TH200_978-4-7741-8335-0.jpg\" alt=\"\\xe3\\x82\\xab\\xe3\\x83\\x90\\xe3\\x83\\xbc\\xe7\\x94\\xbb\\xe5\\x83\\x8f\"/>\\n          <p itemprop=\"name\" class=\"title\"><span class=\"series\">\\xe4\\xbb\\x8a\\xe3\\x81\\x99\\xe3\\x81\\x90\\xe4\\xbd\\xbf\\xe3\\x81\\x88\\xe3\\x82\\x8b\\xe3\\x81\\x8b\\xe3\\x82\\x93\\xe3\\x81\\x9f\\xe3\\x82\\x93<wbr/>mini</span> \\xe4\\xbb\\x8a\\xe3\\x81\\x99\\xe3\\x81\\x90\\xe4\\xbd\\xbf\\xe3\\x81\\x88\\xe3\\x82\\x8b\\xe3\\x81\\x8b\\xe3\\x82\\x93\\xe3\\x81\\x9f\\xe3\\x82\\x93mini<br/>CD&amp;DVD \\xe4\\xbd\\x9c\\xe6\\x88\\x90\\xe8\\xb6\\x85\\xe5\\x85\\xa5\\xe9\\x96\\x80<br/><span class=\"sub\">\\xef\\xbc\\xbbWindows 10<wbr/>\\xe5\\xaf\\xbe\\xe5\\xbf\\x9c\\xe7\\x89\\x88\\xef\\xbc\\xbd</span></p>\\n          <p itemprop=\"author\" class=\"author\">\\xe3\\x82\\xaa\\xe3\\x83\\xb3\\xe3\\x82\\xb5\\xe3\\x82\\xa4\\xe3\\x83\\x88\\xe3\\x80\\x80\\xe8\\x91\\x97</p>\\n          <p itemprop=\"offers\" itemscope=\"itemscope\" itemtype=\"http://schema.org/Offer\" class=\"price\"><span itemprop=\"price\">1,080</span>\\xe5\\x86\\x86<meta itemprop=\"priceCurrency\" content=\"JPY\"/></p>\\n          <ul class=\"format\">\\n            <li class=\"pdf\">PDF</li>\\n          </ul>\\n          <ul class=\"date\">\\n            <li class=\"notice\"><time datetime=\"2016-7-22\" itemprop=\"datePublished\" class=\"published\">2016\\xe5\\xb9\\xb47\\xe6\\x9c\\x8822\\xe6\\x97\\xa5</time></li>\\n            \\n          </ul>\\n        </a></li>        <li class=\"new\" id=\"978-4-7741-8325-1\"><a itemprop=\"url\" href=\"/dp/ebook/2016/978-4-7741-8325-1\">\\n          <img itemprop=\"image\" src=\"/assets/images/dummy.png\" width=\"100\" height=\"133\" data-image=\"/assets/images/gdp/2016/thumb/TH100_978-4-7741-8325-1.jpg,/assets/images/gdp/2016/thumb/TH200_978-4-7741-8325-1.jpg\" alt=\"\\xe3\\x82\\xab\\xe3\\x83\\x90\\xe3\\x83\\xbc\\xe7\\x94\\xbb\\xe5\\x83\\x8f\"/>\\n          <p itemprop=\"name\" class=\"title\"><span class=\"series\">\\xe5\\xa4\\xa7\\xe3\\x81\\x8d\\xe3\\x81\\xaa\\xe5\\xad\\x97\\xe3\\x81\\xa7\\xe3\\x82\\x8f\\xe3\\x81\\x8b\\xe3\\x82\\x8a\\xe3\\x82\\x84\\xe3\\x81\\x99\\xe3\\x81\\x84</span> \\xe5\\xa4\\xa7\\xe3\\x81\\x8d\\xe3\\x81\\xaa\\xe5\\xad\\x97\\xe3\\x81\\xa7\\xe3\\x82\\x8f\\xe3\\x81\\x8b\\xe3\\x82\\x8a\\xe3\\x82\\x84\\xe3\\x81\\x99\\xe3\\x81\\x84<br/>\\xe3\\x83\\xaf\\xe3\\x83\\xbc\\xe3\\x83\\x89<wbr/>2016<wbr/>\\xe5\\x85\\xa5\\xe9\\x96\\x80</p>\\n          <p itemprop=\"author\" class=\"author\">AYURA\\xe3\\x80\\x80\\xe8\\x91\\x97</p>\\n          <p itemprop=\"offers\" itemscope=\"itemscope\" itemtype=\"http://schema.org/Offer\" class=\"price\"><span itemprop=\"price\">980</span>\\xe5\\x86\\x86<meta itemprop=\"priceCurrency\" content=\"JPY\"/></p>\\n          <ul class=\"format\">\\n            <li class=\"pdf\">PDF</li>\\n          </ul>\\n          <ul class=\"date\">\\n            <li><time datetime=\"2016-7-20\" itemprop=\"datePublished\" class=\"published\">2016\\xe5\\xb9\\xb47\\xe6\\x9c\\x8820\\xe6\\x97\\xa5</time></li>\\n            \\n          </ul>\\n        </a></li>        <li class=\"new\" id=\"978-4-7741-8322-0\"><a itemprop=\"url\" href=\"/dp/ebook/2016/978-4-7741-8322-0\">\\n          <img itemprop=\"image\" src=\"/assets/images/dummy.png\" width=\"100\" height=\"133\" data-image=\"/assets/images/gdp/2016/thumb/TH100_978-4-7741-8322-0.jpg,/assets/images/gdp/2016/thumb/TH200_978-4-7741-8322-0.jpg\" alt=\"\\xe3\\x82\\xab\\xe3\\x83\\x90\\xe3\\x83\\xbc\\xe7\\x94\\xbb\\xe5\\x83\\x8f\"/>\\n          <p itemprop=\"name\" class=\"title\"><span class=\"series\">\\xe5\\xa4\\xa7\\xe3\\x81\\x8d\\xe3\\x81\\xaa\\xe5\\xad\\x97\\xe3\\x81\\xa7\\xe3\\x82\\x8f\\xe3\\x81\\x8b\\xe3\\x82\\x8a\\xe3\\x82\\x84\\xe3\\x81\\x99\\xe3\\x81\\x84</span> \\xe5\\xa4\\xa7\\xe3\\x81\\x8d\\xe3\\x81\\xaa\\xe5\\xad\\x97\\xe3\\x81\\xa7\\xe3\\x82\\x8f\\xe3\\x81\\x8b\\xe3\\x82\\x8a\\xe3\\x82\\x84\\xe3\\x81\\x99\\xe3\\x81\\x84<br/>\\xe3\\x82\\xa8\\xe3\\x82\\xaf\\xe3\\x82\\xbb\\xe3\\x83\\xab<wbr/>2016 \\xe5\\x85\\xa5\\xe9\\x96\\x80</p>\\n          <p itemprop=\"author\" class=\"author\">AYURA\\xe3\\x80\\x80\\xe8\\x91\\x97</p>\\n          <p itemprop=\"offers\" itemscope=\"itemscope\" itemtype=\"http://schema.org/Offer\" class=\"price\"><span itemprop=\"price\">980</span>\\xe5\\x86\\x86<meta itemprop=\"priceCurrency\" content=\"JPY\"/></p>\\n          <ul class=\"format\">\\n            <li class=\"pdf\">PDF</li>\\n          </ul>\\n          <ul class=\"date\">\\n            <li><time datetime=\"2016-7-20\" itemprop=\"datePublished\" class=\"published\">2016\\xe5\\xb9\\xb47\\xe6\\x9c\\x8820\\xe6\\x97\\xa5</time></li>\\n            \\n          </ul>\\n        </a></li>        <li class=\"new\" id=\"978-4-7741-8323-7\"><a itemprop=\"url\" href=\"/dp/ebook/2016/978-4-7741-8323-7\">\\n          <img itemprop=\"image\" src=\"/assets/images/dummy.png\" width=\"100\" height=\"128\" data-image=\"/assets/images/gdp/2016/thumb/TH100_978-4-7741-8323-7.jpg,/assets/images/gdp/2016/thumb/TH200_978-4-7741-8323-7.jpg\" alt=\"\\xe3\\x82\\xab\\xe3\\x83\\x90\\xe3\\x83\\xbc\\xe7\\x94\\xbb\\xe5\\x83\\x8f\"/>\\n          <p itemprop=\"name\" class=\"title\"><span class=\"series\">\\xe4\\xbb\\x8a\\xe3\\x81\\x99\\xe3\\x81\\x90\\xe4\\xbd\\xbf\\xe3\\x81\\x88\\xe3\\x82\\x8b\\xe3\\x81\\x8b\\xe3\\x82\\x93\\xe3\\x81\\x9f\\xe3\\x82\\x93</span> \\xe4\\xbb\\x8a\\xe3\\x81\\x99\\xe3\\x81\\x90\\xe4\\xbd\\xbf\\xe3\\x81\\x88\\xe3\\x82\\x8b\\xe3\\x81\\x8b\\xe3\\x82\\x93\\xe3\\x81\\x9f\\xe3\\x82\\x93<br/>\\xe3\\x81\\x9c\\xe3\\x81\\xa3\\xe3\\x81\\x9f\\xe3\\x81\\x84\\xe3\\x83\\x87\\xe3\\x82\\xad\\xe3\\x81\\xbe\\xe3\\x81\\x99\\xef\\xbc\\x81 \\xe3\\x83\\x87\\xe3\\x82\\xb8\\xe3\\x82\\xab\\xe3\\x83\\xa1\\xe5\\x86\\x99\\xe7\\x9c\\x9f\\xe6\\xb4\\xbb\\xe7\\x94\\xa8\\xe8\\xa1\\x93<br/><span class=\"sub\">\\xef\\xbc\\xbbWindows 10<wbr/>\\xe5\\xaf\\xbe\\xe5\\xbf\\x9c\\xe7\\x89\\x88\\xef\\xbc\\xbd</span></p>\\n          <p itemprop=\"author\" class=\"author\">\\xe4\\xba\\x95\\xe4\\xb8\\x8a\\xe9\\xa6\\x99\\xe7\\xb7\\x92\\xe9\\x87\\x8c\\xe3\\x80\\x80\\xe8\\x91\\x97</p>\\n          <p itemprop=\"offers\" itemscope=\"itemscope\" itemtype=\"http://schema.org/Offer\" class=\"price\"><span itemprop=\"price\">1,480</span>\\xe5\\x86\\x86<meta itemprop=\"priceCurrency\" content=\"JPY\"/></p>\\n          <ul class=\"format\">\\n            <li class=\"pdf\">PDF</li>\\n          </ul>\\n          <ul class=\"date\">\\n            <li><time datetime=\"2016-7-16\" itemprop=\"datePublished\" class=\"published\">2016\\xe5\\xb9\\xb47\\xe6\\x9c\\x8816\\xe6\\x97\\xa5</time></li>\\n            \\n          </ul>\\n        </a></li>        <li class=\"new\" id=\"978-4-7741-8119-6\"><a itemprop=\"url\" href=\"/dp/ebook/2016/978-4-7741-8119-6\">\\n          <img itemprop=\"image\" src=\"/assets/images/dummy.png\" width=\"100\" height=\"141\" data-image=\"/assets/images/gdp/2016/thumb/TH100_978-4-7741-8119-6.jpg,/assets/images/gdp/2016/thumb/TH200_978-4-7741-8119-6.jpg\" alt=\"\\xe3\\x82\\xab\\xe3\\x83\\x90\\xe3\\x83\\xbc\\xe7\\x94\\xbb\\xe5\\x83\\x8f\"/>\\n          <p itemprop=\"name\" class=\"title\">Software Design 2016<wbr/>\\xe5\\xb9\\xb4<wbr/>8<wbr/>\\xe6\\x9c\\x88\\xe5\\x8f\\xb7</p>\\n          <p itemprop=\"author\" class=\"author\"></p>\\n          <p itemprop=\"offers\" itemscope=\"itemscope\" itemtype=\"http://schema.org/Offer\" class=\"price\"><span itemprop=\"price\">1,318</span>\\xe5\\x86\\x86<meta itemprop=\"priceCurrency\" content=\"JPY\"/></p>\\n          <ul class=\"format\">\\n            <li class=\"pdf\">PDF</li>\\n          </ul>\\n          <ul class=\"date\">\\n            <li><time datetime=\"2016-7-16\" itemprop=\"datePublished\" class=\"published\">2016\\xe5\\xb9\\xb47\\xe6\\x9c\\x8816\\xe6\\x97\\xa5</time></li>\\n            \\n          </ul>\\n        </a></li>        <li class=\"new\" id=\"978-4-7741-8333-6\"><a itemprop=\"url\" href=\"/dp/ebook/2016/978-4-7741-8333-6\">\\n          <img itemprop=\"image\" src=\"/assets/images/dummy.png\" width=\"100\" height=\"126\" data-image=\"/assets/images/gdp/2016/thumb/TH100_978-4-7741-8333-6.jpg,/assets/images/gdp/2016/thumb/TH200_978-4-7741-8333-6.jpg\" alt=\"\\xe3\\x82\\xab\\xe3\\x83\\x90\\xe3\\x83\\xbc\\xe7\\x94\\xbb\\xe5\\x83\\x8f\"/>\\n          <p itemprop=\"name\" class=\"title\">\\xe7\\x84\\xa1\\xe6\\x96\\x99\\xe3\\x81\\xa7\\xe3\\x81\\xaf\\xe3\\x81\\x98\\xe3\\x82\\x81\\xe3\\x82\\x8b<wbr/>Blender CG<wbr/>\\xe3\\x82\\xa4\\xe3\\x83\\xa9\\xe3\\x82\\xb9\\xe3\\x83\\x88\\xe3\\x83\\x86\\xe3\\x82\\xaf\\xe3\\x83\\x8b\\xe3\\x83\\x83\\xe3\\x82\\xaf<br/><span class=\"sub\">\\xef\\xbd\\x9e<wbr/>3DCG<wbr/>\\xe3\\x81\\xae\\xe8\\x80\\x83\\xe3\\x81\\x88\\xe6\\x96\\xb9\\xe3\\x81\\xa8\\xe3\\x81\\x97\\xe3\\x81\\x8f\\xe3\\x81\\xbf\\xe3\\x81\\x8c\\xe3\\x81\\x97\\xe3\\x81\\xa3\\xe3\\x81\\x8b\\xe3\\x82\\x8a\\xe3\\x82\\x8f\\xe3\\x81\\x8b\\xe3\\x82\\x8b</span></p>\\n          <p itemprop=\"author\" class=\"author\">\\xe5\\xa4\\xa7\\xe6\\xbe\\xa4\\xe9\\xbe\\x8d\\xe4\\xb8\\x80\\xe3\\x80\\x80\\xe8\\x91\\x97</p>\\n          <p itemprop=\"offers\" itemscope=\"itemscope\" itemtype=\"http://schema.org/Offer\" class=\"price\"><span itemprop=\"price\">2,680</span>\\xe5\\x86\\x86<meta itemprop=\"priceCurrency\" content=\"JPY\"/></p>\\n          <ul class=\"format\">\\n            <li class=\"pdf\">PDF</li>\\n          </ul>\\n          <ul class=\"date\">\\n            <li><time datetime=\"2016-7-16\" itemprop=\"datePublished\" class=\"published\">2016\\xe5\\xb9\\xb47\\xe6\\x9c\\x8816\\xe6\\x97\\xa5</time></li>\\n            \\n          </ul>\\n        </a></li>        <li class=\"new\" id=\"978-4-7741-8324-4\"><a itemprop=\"url\" href=\"/dp/ebook/2016/978-4-7741-8324-4\">\\n          <img itemprop=\"image\" src=\"/assets/images/dummy.png\" width=\"100\" height=\"127\" data-image=\"/assets/images/gdp/2016/thumb/TH100_978-4-7741-8324-4.jpg,/assets/images/gdp/2016/thumb/TH200_978-4-7741-8324-4.jpg\" alt=\"\\xe3\\x82\\xab\\xe3\\x83\\x90\\xe3\\x83\\xbc\\xe7\\x94\\xbb\\xe5\\x83\\x8f\"/>\\n          <p itemprop=\"name\" class=\"title\">\\xe5\\xb0\\x8f\\xe3\\x81\\x95\\xe3\\x81\\xaa\\xe3\\x81\\x8a\\xe5\\xba\\x97\\xef\\xbc\\x86<wbr/>\\xe4\\xbc\\x9a\\xe7\\xa4\\xbe\\xe3\\x81\\xae WordPress<wbr/>\\xe8\\xb6\\x85\\xe5\\x85\\xa5\\xe9\\x96\\x80<br/><span class=\"sub\">\\xe2\\x80\\x95\\xe5\\x88\\x9d\\xe3\\x82\\x81\\xe3\\x81\\xa6\\xe3\\x81\\xa7\\xe3\\x82\\x82\\xe5\\xae\\x89\\xe5\\xbf\\x83\\xef\\xbc\\x81\\xe6\\x80\\x9d\\xe3\\x81\\x84\\xe3\\x81\\xa9\\xe3\\x81\\x8a\\xe3\\x82\\x8a\\xe3\\x81\\xae\\xe3\\x83\\x9b\\xe3\\x83\\xbc\\xe3\\x83\\xa0\\xe3\\x83\\x9a\\xe3\\x83\\xbc\\xe3\\x82\\xb8\\xe3\\x82\\x92\\xe4\\xbd\\x9c\\xe3\\x82\\x8d\\xe3\\x81\\x86\\xef\\xbc\\x81</span></p>\\n          <p itemprop=\"author\" class=\"author\">\\xe6\\x98\\x9f\\xe9\\x87\\x8e\\xe9\\x82\\xa6\\xe6\\x95\\x8f\\xef\\xbc\\x8c<wbr/>\\xe5\\xa4\\xa7\\xe8\\x83\\xa1\\xe7\\x94\\xb1\\xe7\\xb4\\x80\\xef\\xbc\\x8c<wbr/>\\xe5\\x90\\x89\\xe7\\x94\\xb0\\xe8\\xa3\\x95\\xe4\\xbb\\x8b\\xef\\xbc\\x8c<wbr/>\\xe7\\xbe\\xbd\\xe9\\x87\\x8e\\xe3\\x82\\x81\\xe3\\x81\\x90\\xe3\\x81\\xbf\\xef\\xbc\\x8c<wbr/>\\xe3\\x83\\xaa\\xe3\\x83\\x96\\xe3\\x83\\xad\\xe3\\x83\\xaf\\xe3\\x83\\xbc\\xe3\\x82\\xaf\\xe3\\x82\\xb9\\xe3\\x80\\x80\\xe8\\x91\\x97</p>\\n          <p itemprop=\"offers\" itemscope=\"itemscope\" itemtype=\"http://schema.org/Offer\" class=\"price\"><span itemprop=\"price\">1,980</span>\\xe5\\x86\\x86<meta itemprop=\"priceCurrency\" content=\"JPY\"/></p>\\n          <ul class=\"format\">\\n            <li class=\"pdf\">PDF</li><li class=\"epub\">EPUB</li>\\n          </ul>\\n          <ul class=\"date\">\\n            <li><time datetime=\"2016-7-15\" itemprop=\"datePublished\" class=\"published\">2016\\xe5\\xb9\\xb47\\xe6\\x9c\\x8815\\xe6\\x97\\xa5</time></li>\\n            \\n          </ul>\\n        </a></li>        <li id=\"978-4-7741-8302-2\"><a itemprop=\"url\" href=\"/dp/ebook/2016/978-4-7741-8302-2\">\\n          <img itemprop=\"image\" src=\"/assets/images/dummy.png\" width=\"100\" height=\"142\" data-image=\"/assets/images/gdp/2016/thumb/TH100_978-4-7741-8302-2.jpg,/assets/images/gdp/2016/thumb/TH200_978-4-7741-8302-2.jpg\" alt=\"\\xe3\\x82\\xab\\xe3\\x83\\x90\\xe3\\x83\\xbc\\xe7\\x94\\xbb\\xe5\\x83\\x8f\"/>\\n          <p itemprop=\"name\" class=\"title\"><span class=\"series\">WEB+DB PRESS plus</span> Atom<wbr/>\\xe5\\xae\\x9f\\xe8\\xb7\\xb5\\xe5\\x85\\xa5\\xe9\\x96\\x80<br/><span class=\"sub\">\\xe2\\x94\\x80\\xe2\\x94\\x80\\xe9\\x80\\xb2\\xe5\\x8c\\x96\\xe3\\x81\\x97\\xe7\\xb6\\x9a\\xe3\\x81\\x91\\xe3\\x82\\x8b\\xe3\\x83\\x8f\\xe3\\x83\\x83\\xe3\\x82\\xab\\xe3\\x83\\x96\\xe3\\x83\\xab\\xe3\\x81\\xaa\\xe3\\x82\\xa8\\xe3\\x83\\x87\\xe3\\x82\\xa3\\xe3\\x82\\xbf</span></p>\\n          <p itemprop=\"author\" class=\"author\">\\xe5\\xa4\\xa7\\xe7\\xab\\xb9\\xe6\\x99\\xba\\xe4\\xb9\\x9f\\xe3\\x80\\x80\\xe8\\x91\\x97</p>\\n          <p itemprop=\"offers\" itemscope=\"itemscope\" itemtype=\"http://schema.org/Offer\" class=\"price\"><span itemprop=\"price\">2,680</span>\\xe5\\x86\\x86<meta itemprop=\"priceCurrency\" content=\"JPY\"/></p>\\n          <ul class=\"format\">\\n            <li class=\"pdf\">PDF</li><li class=\"epub\">EPUB</li>\\n          </ul>\\n          <ul class=\"date\">\\n            <li><time datetime=\"2016-7-14\" itemprop=\"datePublished\" class=\"published\">2016\\xe5\\xb9\\xb47\\xe6\\x9c\\x8814\\xe6\\x97\\xa5</time></li>\\n            \\n          </ul>\\n        </a></li>        <li id=\"978-4-7741-8301-5\"><a itemprop=\"url\" href=\"/dp/ebook/2016/978-4-7741-8301-5\">\\n          <img itemprop=\"image\" src=\"/assets/images/dummy.png\" width=\"100\" height=\"142\" data-image=\"/assets/images/gdp/2016/thumb/TH100_978-4-7741-8301-5.jpg,/assets/images/gdp/2016/thumb/TH200_978-4-7741-8301-5.jpg\" alt=\"\\xe3\\x82\\xab\\xe3\\x83\\x90\\xe3\\x83\\xbc\\xe7\\x94\\xbb\\xe5\\x83\\x8f\"/>\\n          <p itemprop=\"name\" class=\"title\">\\xe3\\x82\\xa2\\xe3\\x82\\xa6\\xe3\\x83\\x88\\xe3\\x83\\xa9\\xe3\\x82\\xa4\\xe3\\x83\\x8a\\xe3\\x83\\xbc\\xe5\\xae\\x9f\\xe8\\xb7\\xb5\\xe5\\x85\\xa5\\xe9\\x96\\x80<br/><span class=\"sub\">\\xef\\xbd\\x9e<wbr/>\\xe3\\x80\\x8c\\xe6\\x9b\\xb8\\xe3\\x81\\x8f\\xe3\\x83\\xbb<wbr/>\\xe8\\x80\\x83\\xe3\\x81\\x88\\xe3\\x82\\x8b\\xe3\\x83\\xbb<wbr/>\\xe7\\x94\\x9f\\xe6\\xb4\\xbb\\xe3\\x81\\x99\\xe3\\x82\\x8b\\xe3\\x80\\x8d<wbr/>\\xe5\\x89\\xb5\\xe9\\x80\\xa0\\xe7\\x9a\\x84\\xe3\\x82\\xa2\\xe3\\x82\\xa6\\xe3\\x83\\x88\\xe3\\x83\\xa9\\xe3\\x82\\xa4\\xe3\\x83\\xb3\\xe3\\x83\\xbb<wbr/>\\xe3\\x83\\x97\\xe3\\x83\\xad\\xe3\\x82\\xbb\\xe3\\x83\\x83\\xe3\\x82\\xb7\\xe3\\x83\\xb3\\xe3\\x82\\xb0\\xe3\\x81\\xae\\xe6\\x8a\\x80\\xe8\\xa1\\x93\\xe3\\x80\\x9c</span></p>\\n          <p itemprop=\"author\" class=\"author\">Tak.\\xe3\\x80\\x80\\xe8\\x91\\x97</p>\\n          <p itemprop=\"offers\" itemscope=\"itemscope\" itemtype=\"http://schema.org/Offer\" class=\"price\"><span itemprop=\"price\">1,980</span>\\xe5\\x86\\x86<meta itemprop=\"priceCurrency\" content=\"JPY\"/></p>\\n          <ul class=\"format\">\\n            <li class=\"pdf\">PDF</li><li class=\"epub\">EPUB</li>\\n          </ul>\\n          <ul class=\"date\">\\n            <li><time datetime=\"2016-7-09\" itemprop=\"datePublished\" class=\"published\">2016\\xe5\\xb9\\xb47\\xe6\\x9c\\x889\\xe6\\x97\\xa5</time></li>\\n            \\n          </ul>\\n        </a></li>        <li id=\"978-4-7741-8297-1\"><a itemprop=\"url\" href=\"/dp/ebook/2016/978-4-7741-8297-1\">\\n          <img itemprop=\"image\" src=\"/assets/images/dummy.png\" width=\"100\" height=\"152\" data-image=\"/assets/images/gdp/2016/thumb/TH100_978-4-7741-8297-1.jpg,/assets/images/gdp/2016/thumb/TH200_978-4-7741-8297-1.jpg\" alt=\"\\xe3\\x82\\xab\\xe3\\x83\\x90\\xe3\\x83\\xbc\\xe7\\x94\\xbb\\xe5\\x83\\x8f\"/>\\n          <p itemprop=\"name\" class=\"title\"><span class=\"series\">\\xe3\\x82\\xbc\\xe3\\x83\\xad\\xe3\\x81\\x8b\\xe3\\x82\\x89\\xe3\\x81\\xaf\\xe3\\x81\\x98\\xe3\\x82\\x81\\xe3\\x82\\x8b</span> \\xe3\\x82\\xbc\\xe3\\x83\\xad\\xe3\\x81\\x8b\\xe3\\x82\\x89\\xe3\\x81\\xaf\\xe3\\x81\\x98\\xe3\\x82\\x81\\xe3\\x82\\x8b<br/>\\xe3\\x83\\x89\\xe3\\x82\\xb3\\xe3\\x83\\xa2<wbr/>Galaxy S7 edge SC-02H \\xe3\\x82\\xb9\\xe3\\x83\\x9e\\xe3\\x83\\xbc\\xe3\\x83\\x88\\xe3\\x82\\xac\\xe3\\x82\\xa4\\xe3\\x83\\x89</p>\\n          <p itemprop=\"author\" class=\"author\">\\xe6\\x8a\\x80\\xe8\\xa1\\x93\\xe8\\xa9\\x95\\xe8\\xab\\x96\\xe7\\xa4\\xbe\\xe7\\xb7\\xa8\\xe9\\x9b\\x86\\xe9\\x83\\xa8\\xe3\\x80\\x80\\xe8\\x91\\x97</p>\\n          <p itemprop=\"offers\" itemscope=\"itemscope\" itemtype=\"http://schema.org/Offer\" class=\"price\"><span itemprop=\"price\">1,380</span>\\xe5\\x86\\x86<meta itemprop=\"priceCurrency\" content=\"JPY\"/></p>\\n          <ul class=\"format\">\\n            <li class=\"pdf\">PDF</li>\\n          </ul>\\n          <ul class=\"date\">\\n            <li><time datetime=\"2016-7-08\" itemprop=\"datePublished\" class=\"published\">2016\\xe5\\xb9\\xb47\\xe6\\x9c\\x888\\xe6\\x97\\xa5</time></li>\\n            \\n          </ul>\\n        </a></li>        <li id=\"978-4-7741-8255-9\"><a itemprop=\"url\" href=\"/dp/ebook/2016/978-4-7741-8255-9\">\\n          <img itemprop=\"image\" src=\"/assets/images/dummy.png\" width=\"100\" height=\"141\" data-image=\"/assets/images/gdp/2016/thumb/TH100_978-4-7741-8255-9.jpg,/assets/images/gdp/2016/thumb/TH200_978-4-7741-8255-9.jpg\" alt=\"\\xe3\\x82\\xab\\xe3\\x83\\x90\\xe3\\x83\\xbc\\xe7\\x94\\xbb\\xe5\\x83\\x8f\"/>\\n          <p itemprop=\"name\" class=\"title\">Excel<wbr/>\\xe3\\x81\\xae\\xe3\\x83\\xa0\\xe3\\x82\\xab\\xe3\\x83\\xa0\\xe3\\x82\\xab\\xef\\xbc\\x81\\xe3\\x81\\x8c\\xe4\\xb8\\x80\\xe7\\x9e\\xac\\xe3\\x81\\xa7\\xe3\\x81\\xaa\\xe3\\x81\\x8f\\xe3\\x81\\xaa\\xe3\\x82\\x8b\\xe4\\xbd\\xbf\\xe3\\x81\\x84\\xe6\\x96\\xb9<br/><span class=\"sub\">\\xef\\xbd\\x9e\\xe8\\xa1\\xa8\\xe8\\xa8\\x88\\xe7\\xae\\x97\\xe3\\x83\\xbb<wbr/>\\xe8\\xb3\\x87\\xe6\\x96\\x99\\xe4\\xbd\\x9c\\xe6\\x88\\x90\\xe3\\x81\\xae\\xe3\\x82\\xb9\\xe3\\x83\\x88\\xe3\\x83\\xac\\xe3\\x82\\xb9\\xe3\\x82\\x92\\xe6\\x9c\\x80\\xe5\\xb0\\x8f\\xe9\\x99\\x90\\xe3\\x81\\xab\\xef\\xbc\\x81</span></p>\\n          <p itemprop=\"author\" class=\"author\">\\xe5\\x9b\\x9b\\xe7\\xa6\\xae\\xe9\\x9d\\x99\\xe5\\xad\\x90\\xe3\\x80\\x80\\xe8\\x91\\x97</p>\\n          <p itemprop=\"offers\" itemscope=\"itemscope\" itemtype=\"http://schema.org/Offer\" class=\"price\"><span itemprop=\"price\">1,480</span>\\xe5\\x86\\x86<meta itemprop=\"priceCurrency\" content=\"JPY\"/></p>\\n          <ul class=\"format\">\\n            <li class=\"pdf\">PDF</li><li class=\"epub\">EPUB</li>\\n          </ul>\\n          <ul class=\"date\">\\n            <li><time datetime=\"2016-7-08\" itemprop=\"datePublished\" class=\"published\">2016\\xe5\\xb9\\xb47\\xe6\\x9c\\x888\\xe6\\x97\\xa5</time></li>\\n            \\n          </ul>\\n        </a></li>        <li id=\"978-4-7741-8258-2\"><a itemprop=\"url\" href=\"/dp/ebook/2016/978-4-7741-8258-2\">\\n          <img itemprop=\"image\" src=\"/assets/images/dummy.png\" width=\"100\" height=\"141\" data-image=\"/assets/images/gdp/2016/thumb/TH100_978-4-7741-8258-2.jpg,/assets/images/gdp/2016/thumb/TH200_978-4-7741-8258-2.jpg\" alt=\"\\xe3\\x82\\xab\\xe3\\x83\\x90\\xe3\\x83\\xbc\\xe7\\x94\\xbb\\xe5\\x83\\x8f\"/>\\n          <p itemprop=\"name\" class=\"title\">Word<wbr/>\\xe3\\x81\\xae\\xe3\\x83\\xa0\\xe3\\x82\\xab\\xe3\\x83\\xa0\\xe3\\x82\\xab\\xef\\xbc\\x81\\xe3\\x81\\x8c\\xe4\\xb8\\x80\\xe7\\x9e\\xac\\xe3\\x81\\xa7\\xe3\\x81\\xaa\\xe3\\x81\\x8f\\xe3\\x81\\xaa\\xe3\\x82\\x8b\\xe4\\xbd\\xbf\\xe3\\x81\\x84\\xe6\\x96\\xb9<br/><span class=\"sub\">\\xef\\xbd\\x9e\\xe6\\x96\\x87\\xe7\\xab\\xa0\\xe3\\x83\\xbb<wbr/>\\xe8\\xb3\\x87\\xe6\\x96\\x99\\xe4\\xbd\\x9c\\xe6\\x88\\x90\\xe3\\x81\\xae\\xe3\\x82\\xb9\\xe3\\x83\\x88\\xe3\\x83\\xac\\xe3\\x82\\xb9\\xe3\\x82\\x92\\xe6\\x9c\\x80\\xe5\\xb0\\x8f\\xe9\\x99\\x90\\xe3\\x81\\xab\\xef\\xbc\\x81</span></p>\\n          <p itemprop=\"author\" class=\"author\">\\xe5\\x9b\\x9b\\xe7\\xa6\\xae\\xe9\\x9d\\x99\\xe5\\xad\\x90\\xe3\\x80\\x80\\xe8\\x91\\x97</p>\\n          <p itemprop=\"offers\" itemscope=\"itemscope\" itemtype=\"http://schema.org/Offer\" class=\"price\"><span itemprop=\"price\">1,480</span>\\xe5\\x86\\x86<meta itemprop=\"priceCurrency\" content=\"JPY\"/></p>\\n          <ul class=\"format\">\\n            <li class=\"pdf\">PDF</li><li class=\"epub\">EPUB</li>\\n          </ul>\\n          <ul class=\"date\">\\n            <li><time datetime=\"2016-7-08\" itemprop=\"datePublished\" class=\"published\">2016\\xe5\\xb9\\xb47\\xe6\\x9c\\x888\\xe6\\x97\\xa5</time></li>\\n            \\n          </ul>\\n        </a></li>        <li id=\"978-4-7741-8319-0\"><a itemprop=\"url\" href=\"/dp/ebook/2016/978-4-7741-8319-0\">\\n          <img itemprop=\"image\" src=\"/assets/images/dummy.png\" width=\"100\" height=\"142\" data-image=\"/assets/images/gdp/2016/thumb/TH100_978-4-7741-8319-0.jpg,/assets/images/gdp/2016/thumb/TH200_978-4-7741-8319-0.jpg\" alt=\"\\xe3\\x82\\xab\\xe3\\x83\\x90\\xe3\\x83\\xbc\\xe7\\x94\\xbb\\xe5\\x83\\x8f\"/>\\n          <p itemprop=\"name\" class=\"title\"><span class=\"series\">\\xe7\\x94\\x9f\\xe7\\x89\\xa9\\xe3\\x83\\x9f\\xe3\\x82\\xb9\\xe3\\x83\\x86\\xe3\\x83\\xaa\\xe3\\x83\\xbc<wbr/>\\xef\\xbc\\x88\\xe7\\x94\\x9f\\xe7\\x89\\xa9\\xe3\\x83\\x9f\\xe3\\x82\\xb9\\xe3\\x83\\x86\\xe3\\x83\\xaa\\xe3\\x83\\xbc \\xe3\\x83\\x97\\xe3\\x83\\xad\\xef\\xbc\\x89</span> \\xe3\\x81\\x9d\\xe3\\x82\\x82\\xe3\\x81\\x9d\\xe3\\x82\\x82\\xe5\\xb3\\xb6\\xe3\\x81\\xab\\xe9\\x80\\xb2\\xe5\\x8c\\x96\\xe3\\x81\\x82\\xe3\\x82\\x8a</p>\\n          <p itemprop=\"author\" class=\"author\">\\xe5\\xb7\\x9d\\xe4\\xb8\\x8a\\xe5\\x92\\x8c\\xe4\\xba\\xba\\xe3\\x80\\x80\\xe8\\x91\\x97</p>\\n          <p itemprop=\"offers\" itemscope=\"itemscope\" itemtype=\"http://schema.org/Offer\" class=\"price\"><span itemprop=\"price\">1,880</span>\\xe5\\x86\\x86<meta itemprop=\"priceCurrency\" content=\"JPY\"/></p>\\n          <ul class=\"format\">\\n            <li class=\"pdf\">PDF</li><li class=\"epub\">EPUB</li>\\n          </ul>\\n          <ul class=\"date\">\\n            <li><time datetime=\"2016-7-08\" itemprop=\"datePublished\" class=\"published\">2016\\xe5\\xb9\\xb47\\xe6\\x9c\\x888\\xe6\\x97\\xa5</time></li>\\n            <li><time datetime=\"2016-7-08\" itemprop=\"dateModified\" class=\"modified\">2016\\xe5\\xb9\\xb47\\xe6\\x9c\\x888\\xe6\\x97\\xa5</time></li>\\n          </ul>\\n        </a></li>        <li id=\"978-4-7741-8318-3\"><a itemprop=\"url\" href=\"/dp/ebook/2016/978-4-7741-8318-3\">\\n          <img itemprop=\"image\" src=\"/assets/images/dummy.png\" width=\"100\" height=\"143\" data-image=\"/assets/images/gdp/2016/thumb/TH100_978-4-7741-8318-3.jpg,/assets/images/gdp/2016/thumb/TH200_978-4-7741-8318-3.jpg\" alt=\"\\xe3\\x82\\xab\\xe3\\x83\\x90\\xe3\\x83\\xbc\\xe7\\x94\\xbb\\xe5\\x83\\x8f\"/>\\n          <p itemprop=\"name\" class=\"title\"><span class=\"series\">\\xe5\\xa4\\xa7\\xe4\\xba\\xba\\xe3\\x81\\xae\\xe8\\x87\\xaa\\xe7\\x94\\xb1\\xe6\\x99\\x82\\xe9\\x96\\x93<wbr/>\\xef\\xbc\\x88\\xe5\\xa4\\xa7\\xe4\\xba\\xba\\xe3\\x81\\xae\\xe8\\x87\\xaa\\xe7\\x94\\xb1\\xe6\\x99\\x82\\xe9\\x96\\x93<wbr/>mini\\xef\\xbc\\x89</span> \\xe5\\xb1\\xb1\\xe6\\xad\\xa9\\xe3\\x81\\x8d\\xe3\\x82\\xb9\\xe3\\x82\\xbf\\xe3\\x83\\xbc\\xe3\\x83\\x88\\xe3\\x83\\x96\\xe3\\x83\\x83\\xe3\\x82\\xaf<br/><span class=\"sub\">\\xef\\xbd\\x9e\\xe9\\x81\\x93\\xe5\\x85\\xb7\\xe3\\x81\\xa8\\xe6\\xad\\xa9\\xe3\\x81\\x8d\\xe6\\x96\\xb9\\xe3\\x81\\x8c\\xe3\\x82\\x8f\\xe3\\x81\\x8b\\xe3\\x82\\x8b\\xef\\xbc\\x8c<wbr/>\\xe8\\xa1\\x8c\\xe3\\x81\\x8d\\xe3\\x81\\x9f\\xe3\\x81\\x84\\xe3\\x82\\xb3\\xe3\\x83\\xbc\\xe3\\x82\\xb9\\xe3\\x81\\x8c\\xe8\\xa6\\x8b\\xe3\\x81\\xa4\\xe3\\x81\\x8b\\xe3\\x82\\x8b</span></p>\\n          <p itemprop=\"author\" class=\"author\">\\xe8\\xa5\\xbf\\xe9\\x87\\x8e\\xe6\\xb7\\x91\\xe5\\xad\\x90\\xe3\\x80\\x80\\xe8\\x91\\x97</p>\\n          <p itemprop=\"offers\" itemscope=\"itemscope\" itemtype=\"http://schema.org/Offer\" class=\"price\"><span itemprop=\"price\">1,280</span>\\xe5\\x86\\x86<meta itemprop=\"priceCurrency\" content=\"JPY\"/></p>\\n          <ul class=\"format\">\\n            <li class=\"pdf\">PDF</li>\\n          </ul>\\n          <ul class=\"date\">\\n            <li><time datetime=\"2016-7-06\" itemprop=\"datePublished\" class=\"published\">2016\\xe5\\xb9\\xb47\\xe6\\x9c\\x886\\xe6\\x97\\xa5</time></li>\\n            \\n          </ul>\\n        </a></li>        <li id=\"978-4-7741-8317-6\"><a itemprop=\"url\" href=\"/dp/ebook/2016/978-4-7741-8317-6\">\\n          <img itemprop=\"image\" src=\"/assets/images/dummy.png\" width=\"100\" height=\"142\" data-image=\"/assets/images/gdp/2016/thumb/TH100_978-4-7741-8317-6.jpg,/assets/images/gdp/2016/thumb/TH200_978-4-7741-8317-6.jpg\" alt=\"\\xe3\\x82\\xab\\xe3\\x83\\x90\\xe3\\x83\\xbc\\xe7\\x94\\xbb\\xe5\\x83\\x8f\"/>\\n          <p itemprop=\"name\" class=\"title\">\\xe5\\xb9\\xb3\\xe6\\x88\\x90<wbr/>28-29<wbr/>\\xe5\\xb9\\xb4\\xe5\\xba\\xa6 \\xe5\\x9f\\xba\\xe6\\x9c\\xac\\xe6\\x83\\x85\\xe5\\xa0\\xb1\\xe6\\x8a\\x80\\xe8\\xa1\\x93\\xe8\\x80\\x85 \\xe8\\xa9\\xa6\\xe9\\xa8\\x93\\xe3\\x81\\xab\\xe3\\x82\\x88\\xe3\\x81\\x8f\\xe3\\x81\\xa7\\xe3\\x82\\x8b\\xe5\\x95\\x8f\\xe9\\xa1\\x8c\\xe9\\x9b\\x86<br/><span class=\"sub\">\\xe3\\x80\\x90\\xe5\\x8d\\x88\\xe5\\xbe\\x8c\\xe3\\x80\\x91</span></p>\\n          <p itemprop=\"author\" class=\"author\">\\xe8\\xa7\\x92\\xe8\\xb0\\xb7\\xe4\\xb8\\x80\\xe6\\x88\\x90\\xef\\xbc\\x8c<wbr/>\\xe3\\x82\\xa4\\xe3\\x82\\xa8\\xe3\\x83\\xad\\xe3\\x83\\xbc\\xe3\\x83\\x86\\xe3\\x83\\xbc\\xe3\\x83\\xab\\xe3\\x82\\xb3\\xe3\\x83\\xb3\\xe3\\x83\\x94\\xe3\\x83\\xa5\\xe3\\x83\\xbc\\xe3\\x82\\xbf\\xe3\\x80\\x80\\xe8\\x91\\x97</p>\\n          <p itemprop=\"offers\" itemscope=\"itemscope\" itemtype=\"http://schema.org/Offer\" class=\"price\"><span itemprop=\"price\">1,880</span>\\xe5\\x86\\x86<meta itemprop=\"priceCurrency\" content=\"JPY\"/></p>\\n          <ul class=\"format\">\\n            <li class=\"pdf\">PDF</li><li class=\"epub\">EPUB</li>\\n          </ul>\\n          <ul class=\"date\">\\n            <li><time datetime=\"2016-7-05\" itemprop=\"datePublished\" class=\"published\">2016\\xe5\\xb9\\xb47\\xe6\\x9c\\x885\\xe6\\x97\\xa5</time></li>\\n            \\n          </ul>\\n        </a></li>        <li id=\"978-4-7741-8300-8\"><a itemprop=\"url\" href=\"/dp/ebook/2016/978-4-7741-8300-8\">\\n          <img itemprop=\"image\" src=\"/assets/images/dummy.png\" width=\"100\" height=\"142\" data-image=\"/assets/images/gdp/2016/thumb/TH100_978-4-7741-8300-8.jpg,/assets/images/gdp/2016/thumb/TH200_978-4-7741-8300-8.jpg\" alt=\"\\xe3\\x82\\xab\\xe3\\x83\\x90\\xe3\\x83\\xbc\\xe7\\x94\\xbb\\xe5\\x83\\x8f\"/>\\n          <p itemprop=\"name\" class=\"title\"><span class=\"series\">\\xe5\\xa4\\xa7\\xe4\\xba\\xba\\xe3\\x81\\xae\\xe8\\x87\\xaa\\xe7\\x94\\xb1\\xe6\\x99\\x82\\xe9\\x96\\x93<wbr/>\\xef\\xbc\\x88\\xe5\\xa4\\xa7\\xe4\\xba\\xba\\xe3\\x81\\xae\\xe8\\x87\\xaa\\xe7\\x94\\xb1\\xe6\\x99\\x82\\xe9\\x96\\x93<wbr/>mini\\xef\\xbc\\x89</span> \\xe3\\x81\\x82\\xe3\\x81\\x8d\\xe3\\x82\\x89\\xe3\\x82\\x81\\xe3\\x81\\xaa\\xe3\\x81\\x84\\xe3\\x83\\xa9\\xe3\\x83\\xb3\\xe3\\x83\\x8b\\xe3\\x83\\xb3\\xe3\\x82\\xb0<br/><span class=\"sub\">\\xef\\xbd\\x9e\\xe6\\xa5\\xbd\\xe3\\x81\\x97\\xe3\\x81\\x84\\xe3\\x83\\xa9\\xe3\\x83\\xb3\\xe3\\x81\\xae\\xe3\\x81\\xaf\\xe3\\x81\\x98\\xe3\\x82\\x81\\xe3\\x81\\x8b\\xe3\\x81\\x9f\\xef\\xbc\\x8c<wbr/>\\xe7\\xb6\\x9a\\xe3\\x81\\x91\\xe3\\x81\\x8b\\xe3\\x81\\x9f</span></p>\\n          <p itemprop=\"author\" class=\"author\">\\xe7\\x99\\xbd\\xe6\\x96\\xb9\\xe5\\x81\\xa5\\xe4\\xb8\\x80\\xef\\xbc\\x8c<wbr/>\\xe3\\x83\\x8a\\xe3\\x82\\xa4\\xe3\\x82\\xb9\\xe3\\x82\\xaf\\xe3\\x80\\x80\\xe8\\x91\\x97</p>\\n          <p itemprop=\"offers\" itemscope=\"itemscope\" itemtype=\"http://schema.org/Offer\" class=\"price\"><span itemprop=\"price\">1,280</span>\\xe5\\x86\\x86<meta itemprop=\"priceCurrency\" content=\"JPY\"/></p>\\n          <ul class=\"format\">\\n            <li class=\"pdf\">PDF</li>\\n          </ul>\\n          <ul class=\"date\">\\n            <li><time datetime=\"2016-7-01\" itemprop=\"datePublished\" class=\"published\">2016\\xe5\\xb9\\xb47\\xe6\\x9c\\x881\\xe6\\x97\\xa5</time></li>\\n            \\n          </ul>\\n        </a></li>        <li id=\"978-4-7741-8299-5\"><a itemprop=\"url\" href=\"/dp/ebook/2016/978-4-7741-8299-5\">\\n          <img itemprop=\"image\" src=\"/assets/images/dummy.png\" width=\"100\" height=\"126\" data-image=\"/assets/images/gdp/2016/thumb/TH100_978-4-7741-8299-5.jpg,/assets/images/gdp/2016/thumb/TH200_978-4-7741-8299-5.jpg\" alt=\"\\xe3\\x82\\xab\\xe3\\x83\\x90\\xe3\\x83\\xbc\\xe7\\x94\\xbb\\xe5\\x83\\x8f\"/>\\n          <p itemprop=\"name\" class=\"title\">Excel<wbr/>\\xef\\xbc\\x86<wbr/>Access<wbr/>\\xe9\\x80\\xa3\\xe6\\x90\\xba \\xe5\\xae\\x9f\\xe8\\xb7\\xb5\\xe3\\x82\\xac\\xe3\\x82\\xa4\\xe3\\x83\\x89<br/><span class=\"sub\">\\xef\\xbd\\x9e\\xe4\\xbb\\x95\\xe4\\xba\\x8b\\xe3\\x81\\xae\\xe7\\x8f\\xbe\\xe5\\xa0\\xb4\\xe3\\x81\\xa7\\xe5\\x8d\\xb3\\xe4\\xbd\\xbf\\xe3\\x81\\x88\\xe3\\x82\\x8b</span></p>\\n          <p itemprop=\"author\" class=\"author\">\\xe4\\xbb\\x8a\\xe6\\x9d\\x91\\xe3\\x82\\x86\\xe3\\x81\\x86\\xe3\\x81\\x93\\xe3\\x80\\x80\\xe8\\x91\\x97</p>\\n          <p itemprop=\"offers\" itemscope=\"itemscope\" itemtype=\"http://schema.org/Offer\" class=\"price\"><span itemprop=\"price\">2,680</span>\\xe5\\x86\\x86<meta itemprop=\"priceCurrency\" content=\"JPY\"/></p>\\n          <ul class=\"format\">\\n            <li class=\"pdf\">PDF</li>\\n          </ul>\\n          <ul class=\"date\">\\n            <li><time datetime=\"2016-6-29\" itemprop=\"datePublished\" class=\"published\">2016\\xe5\\xb9\\xb46\\xe6\\x9c\\x8829\\xe6\\x97\\xa5</time></li>\\n            \\n          </ul>\\n        </a></li>        <li id=\"978-4-7741-8296-4\"><a itemprop=\"url\" href=\"/dp/ebook/2016/978-4-7741-8296-4\">\\n          <img itemprop=\"image\" src=\"/assets/images/dummy.png\" width=\"100\" height=\"142\" data-image=\"/assets/images/gdp/2016/thumb/TH100_978-4-7741-8296-4.jpg,/assets/images/gdp/2016/thumb/TH200_978-4-7741-8296-4.jpg\" alt=\"\\xe3\\x82\\xab\\xe3\\x83\\x90\\xe3\\x83\\xbc\\xe7\\x94\\xbb\\xe5\\x83\\x8f\"/>\\n          <p itemprop=\"name\" class=\"title\"><span class=\"series\">\\xe5\\xa4\\xa7\\xe4\\xba\\xba\\xe3\\x81\\xae\\xe8\\x87\\xaa\\xe7\\x94\\xb1\\xe6\\x99\\x82\\xe9\\x96\\x93<wbr/>\\xef\\xbc\\x88\\xe5\\xa4\\xa7\\xe4\\xba\\xba\\xe3\\x81\\xae\\xe8\\x87\\xaa\\xe7\\x94\\xb1\\xe6\\x99\\x82\\xe9\\x96\\x93<wbr/>mini\\xef\\xbc\\x89</span> \\xe3\\x82\\x82\\xe3\\x81\\x86\\xe4\\xb8\\x80\\xe5\\xba\\xa6\\xe3\\x83\\x90\\xe3\\x82\\xa4\\xe3\\x82\\xaf\\xe3\\x81\\xab\\xe4\\xb9\\x97\\xe3\\x82\\x8d\\xe3\\x81\\x86\\xef\\xbc\\x81<br/><span class=\"sub\">\\xef\\xbd\\x9e\\xe7\\xbe\\xa8\\xe6\\x9c\\x9b\\xe3\\x81\\x95\\xe3\\x82\\x8c\\xe3\\x82\\x8b\\xe3\\x82\\xaa\\xe3\\x83\\x88\\xe3\\x83\\x8a\\xe3\\x81\\xae\\xe3\\x83\\xa9\\xe3\\x82\\xa4\\xe3\\x83\\x80\\xe3\\x83\\xbc\\xe3\\x81\\xab\\xe3\\x81\\xaa\\xe3\\x82\\x8a\\xe3\\x81\\x9f\\xe3\\x81\\x84\\xe4\\xba\\xba\\xe3\\x81\\xab</span></p>\\n          <p itemprop=\"author\" class=\"author\">\\xe8\\xa5\\xbf\\xe5\\xb0\\xbe\\xe6\\xb7\\xb3\\xe3\\x80\\x80\\xe8\\x91\\x97\\xef\\xbc\\x8c<wbr/>WINDY Co.\\xe3\\x80\\x80\\xe7\\xb7\\xa8</p>\\n          <p itemprop=\"offers\" itemscope=\"itemscope\" itemtype=\"http://schema.org/Offer\" class=\"price\"><span itemprop=\"price\">1,280</span>\\xe5\\x86\\x86<meta itemprop=\"priceCurrency\" content=\"JPY\"/></p>\\n          <ul class=\"format\">\\n            <li class=\"pdf\">PDF</li>\\n          </ul>\\n          <ul class=\"date\">\\n            <li><time datetime=\"2016-6-28\" itemprop=\"datePublished\" class=\"published\">2016\\xe5\\xb9\\xb46\\xe6\\x9c\\x8828\\xe6\\x97\\xa5</time></li>\\n            \\n          </ul>\\n        </a></li>        <li id=\"978-4-7741-8292-6\"><a itemprop=\"url\" href=\"/dp/ebook/2016/978-4-7741-8292-6\">\\n          <img itemprop=\"image\" src=\"/assets/images/dummy.png\" width=\"100\" height=\"142\" data-image=\"/assets/images/gdp/2016/thumb/TH100_978-4-7741-8292-6.jpg,/assets/images/gdp/2016/thumb/TH200_978-4-7741-8292-6.jpg\" alt=\"\\xe3\\x82\\xab\\xe3\\x83\\x90\\xe3\\x83\\xbc\\xe7\\x94\\xbb\\xe5\\x83\\x8f\"/>\\n          <p itemprop=\"name\" class=\"title\">Slack<wbr/>\\xe5\\x85\\xa5\\xe9\\x96\\x80<br/><span class=\"sub\">[ChatOps\\xe3\\x81\\xab\\xe3\\x82\\x88\\xe3\\x82\\x8b\\xe3\\x83\\x81\\xe3\\x83\\xbc\\xe3\\x83\\xa0\\xe9\\x96\\x8b\\xe7\\x99\\xba\\xe3\\x81\\xae\\xe5\\x8a\\xb9\\xe7\\x8e\\x87\\xe5\\x8c\\x96]</span></p>\\n          <p itemprop=\"author\" class=\"author\">\\xe6\\x9d\\xbe\\xe4\\xb8\\x8b\\xe9\\x9b\\x85\\xe5\\x92\\x8c\\xef\\xbc\\x8c<wbr/>\\xe5\\xb0\\x8f\\xe5\\xb3\\xb6\\xe6\\xb3\\xb0\\xe6\\xb4\\x8b\\xef\\xbc\\x8c<wbr/>\\xe9\\x95\\xb7\\xe7\\x80\\xac\\xe6\\x95\\xa6\\xe5\\x8f\\xb2\\xef\\xbc\\x8c<wbr/>\\xe5\\x9d\\x82\\xe6\\x9c\\xac\\xe5\\x8d\\x93\\xe5\\xb7\\xb3\\xe3\\x80\\x80\\xe8\\x91\\x97</p>\\n          <p itemprop=\"offers\" itemscope=\"itemscope\" itemtype=\"http://schema.org/Offer\" class=\"price\"><span itemprop=\"price\">1,980</span>\\xe5\\x86\\x86<meta itemprop=\"priceCurrency\" content=\"JPY\"/></p>\\n          <ul class=\"format\">\\n            <li class=\"pdf\">PDF</li><li class=\"epub\">EPUB</li>\\n          </ul>\\n          <ul class=\"date\">\\n            <li><time datetime=\"2016-6-28\" itemprop=\"datePublished\" class=\"published\">2016\\xe5\\xb9\\xb46\\xe6\\x9c\\x8828\\xe6\\x97\\xa5</time></li>\\n            \\n          </ul>\\n        </a></li>        <li id=\"978-4-7741-8273-5\"><a itemprop=\"url\" href=\"/dp/ebook/2016/978-4-7741-8273-5\">\\n          <img itemprop=\"image\" src=\"/assets/images/dummy.png\" width=\"100\" height=\"127\" data-image=\"/assets/images/gdp/2016/thumb/TH100_978-4-7741-8273-5.jpg,/assets/images/gdp/2016/thumb/TH200_978-4-7741-8273-5.jpg\" alt=\"\\xe3\\x82\\xab\\xe3\\x83\\x90\\xe3\\x83\\xbc\\xe7\\x94\\xbb\\xe5\\x83\\x8f\"/>\\n          <p itemprop=\"name\" class=\"title\">\\xe3\\x83\\x91\\xe3\\x82\\xbd\\xe3\\x82\\xb3\\xe3\\x83\\xb3\\xe5\\x85\\xa5\\xe9\\x96\\x80<wbr/>5<wbr/>\\xe5\\x86\\x8a\\xe5\\x88\\x86\\xef\\xbc\\x81<br/><span class=\"sub\">\\xef\\xbc\\x9c<wbr/>Windows 10<wbr/>\\xe5\\x85\\xa5\\xe9\\x96\\x80\\xef\\xbc\\x8b<wbr/>Windows 10<wbr/>\\xe6\\xb4\\xbb\\xe7\\x94\\xa8\\xef\\xbc\\x8b\\xe3\\x82\\xa4\\xe3\\x83\\xb3\\xe3\\x82\\xbf\\xe3\\x83\\xbc\\xe3\\x83\\x8d\\xe3\\x83\\x83\\xe3\\x83\\x88\\xef\\xbc\\x86<wbr/>\\xe3\\x83\\xa1\\xe3\\x83\\xbc\\xe3\\x83\\xab\\xef\\xbc\\x8b<wbr/>Word<wbr/>\\xef\\xbc\\x8b<wbr/>Excel<wbr/>\\xef\\xbc\\x9e</span></p>\\n          <p itemprop=\"author\" class=\"author\">\\xe9\\xa3\\xaf\\xe5\\xb3\\xb6\\xe5\\xbc\\x98\\xe6\\x96\\x87\\xe3\\x80\\x80\\xe8\\x91\\x97</p>\\n          <p itemprop=\"offers\" itemscope=\"itemscope\" itemtype=\"http://schema.org/Offer\" class=\"price\"><span itemprop=\"price\">1,780</span>\\xe5\\x86\\x86<meta itemprop=\"priceCurrency\" content=\"JPY\"/></p>\\n          <ul class=\"format\">\\n            <li class=\"pdf\">PDF</li>\\n          </ul>\\n          <ul class=\"date\">\\n            <li><time datetime=\"2016-6-27\" itemprop=\"datePublished\" class=\"published\">2016\\xe5\\xb9\\xb46\\xe6\\x9c\\x8827\\xe6\\x97\\xa5</time></li>\\n            \\n          </ul>\\n        </a></li>        <li id=\"978-4-7741-8295-7\"><a itemprop=\"url\" href=\"/dp/ebook/2016/978-4-7741-8295-7\">\\n          <img itemprop=\"image\" src=\"/assets/images/dummy.png\" width=\"100\" height=\"110\" data-image=\"/assets/images/gdp/2016/thumb/TH100_978-4-7741-8295-7.jpg,/assets/images/gdp/2016/thumb/TH200_978-4-7741-8295-7.jpg\" alt=\"\\xe3\\x82\\xab\\xe3\\x83\\x90\\xe3\\x83\\xbc\\xe7\\x94\\xbb\\xe5\\x83\\x8f\"/>\\n          <p itemprop=\"name\" class=\"title\">\\xe4\\xba\\xba\\xe6\\xb0\\x97\\xe3\\x83\\x8f\\xe3\\x83\\xb3\\xe3\\x83\\x89\\xe3\\x83\\xa1\\xe3\\x82\\xa4\\xe3\\x83\\x89\\xe4\\xbd\\x9c\\xe5\\xae\\xb6\\xe3\\x81\\xab\\xe3\\x81\\xaa\\xe3\\x82\\x8a\\xe3\\x81\\x9f\\xe3\\x81\\x84\\xe4\\xba\\xba\\xe3\\x81\\x8c\\xe8\\xaa\\xad\\xe3\\x82\\x80\\xe6\\x9c\\xac</p>\\n          <p itemprop=\"author\" class=\"author\">ARENSKI\\xe3\\x80\\x80\\xe8\\x91\\x97\\xef\\xbc\\x8c<wbr/>\\xe5\\xb0\\x8f\\xe6\\xb3\\x89\\xe4\\xb8\\x83\\xe7\\xbe\\x8e\\xe3\\x80\\x80\\xe7\\x9b\\xa3\\xe4\\xbf\\xae</p>\\n          <p itemprop=\"offers\" itemscope=\"itemscope\" itemtype=\"http://schema.org/Offer\" class=\"price\"><span itemprop=\"price\">1,480</span>\\xe5\\x86\\x86<meta itemprop=\"priceCurrency\" content=\"JPY\"/></p>\\n          <ul class=\"format\">\\n            <li class=\"pdf\">PDF</li><li class=\"epub\">EPUB</li>\\n          </ul>\\n          <ul class=\"date\">\\n            <li><time datetime=\"2016-6-27\" itemprop=\"datePublished\" class=\"published\">2016\\xe5\\xb9\\xb46\\xe6\\x9c\\x8827\\xe6\\x97\\xa5</time></li>\\n            <li><time datetime=\"2016-6-30\" itemprop=\"dateModified\" class=\"modified\">2016\\xe5\\xb9\\xb46\\xe6\\x9c\\x8830\\xe6\\x97\\xa5</time></li>\\n          </ul>\\n        </a></li>        <li id=\"978-4-7741-8288-9\"><a itemprop=\"url\" href=\"/dp/ebook/2016/978-4-7741-8288-9\">\\n          <img itemprop=\"image\" src=\"/assets/images/dummy.png\" width=\"100\" height=\"142\" data-image=\"/assets/images/gdp/2016/thumb/TH100_978-4-7741-8288-9.jpg,/assets/images/gdp/2016/thumb/TH200_978-4-7741-8288-9.jpg\" alt=\"\\xe3\\x82\\xab\\xe3\\x83\\x90\\xe3\\x83\\xbc\\xe7\\x94\\xbb\\xe5\\x83\\x8f\"/>\\n          <p itemprop=\"name\" class=\"title\"><span class=\"series\">\\xe4\\xbb\\x8a\\xe3\\x81\\x99\\xe3\\x81\\x90\\xe4\\xbd\\xbf\\xe3\\x81\\x88\\xe3\\x82\\x8b\\xe3\\x81\\x8b\\xe3\\x82\\x93\\xe3\\x81\\x9f\\xe3\\x82\\x93<wbr/>Ex</span> \\xe4\\xbb\\x8a\\xe3\\x81\\x99\\xe3\\x81\\x90\\xe4\\xbd\\xbf\\xe3\\x81\\x88\\xe3\\x82\\x8b\\xe3\\x81\\x8b\\xe3\\x82\\x93\\xe3\\x81\\x9f\\xe3\\x82\\x93Ex<br/>\\xe3\\x83\\xa4\\xe3\\x83\\x95\\xe3\\x82\\xaa\\xe3\\x82\\xaf\\xef\\xbc\\x81 \\xe6\\x9c\\xac\\xe6\\xb0\\x97\\xe3\\x81\\xa7\\xe5\\x84\\xb2\\xe3\\x81\\x91\\xe3\\x82\\x8b\\xef\\xbc\\x81 \\xe3\\x83\\x97\\xe3\\x83\\xad\\xe6\\x8a\\x80\\xe3\\x82\\xbb\\xe3\\x83\\xac\\xe3\\x82\\xaf\\xe3\\x82\\xb7\\xe3\\x83\\xa7\\xe3\\x83\\xb3</p>\\n          <p itemprop=\"author\" class=\"author\">\\xe6\\xa2\\x85\\xe7\\x94\\xb0\\xe6\\xbd\\xa4\\xe3\\x80\\x80\\xe8\\x91\\x97</p>\\n          <p itemprop=\"offers\" itemscope=\"itemscope\" itemtype=\"http://schema.org/Offer\" class=\"price\"><span itemprop=\"price\">1,780</span>\\xe5\\x86\\x86<meta itemprop=\"priceCurrency\" content=\"JPY\"/></p>\\n          <ul class=\"format\">\\n            <li class=\"pdf\">PDF</li>\\n          </ul>\\n          <ul class=\"date\">\\n            <li><time datetime=\"2016-6-25\" itemprop=\"datePublished\" class=\"published\">2016\\xe5\\xb9\\xb46\\xe6\\x9c\\x8825\\xe6\\x97\\xa5</time></li>\\n            \\n          </ul>\\n        </a></li>        <li id=\"978-4-7741-8289-6\"><a itemprop=\"url\" href=\"/dp/ebook/2016/978-4-7741-8289-6\">\\n          <img itemprop=\"image\" src=\"/assets/images/dummy.png\" width=\"100\" height=\"157\" data-image=\"/assets/images/gdp/2016/thumb/TH100_978-4-7741-8289-6.jpg,/assets/images/gdp/2016/thumb/TH200_978-4-7741-8289-6.jpg\" alt=\"\\xe3\\x82\\xab\\xe3\\x83\\x90\\xe3\\x83\\xbc\\xe7\\x94\\xbb\\xe5\\x83\\x8f\"/>\\n          <p itemprop=\"name\" class=\"title\"><span class=\"series\">\\xe4\\xbb\\x8a\\xe3\\x81\\x99\\xe3\\x81\\x90\\xe4\\xbd\\xbf\\xe3\\x81\\x88\\xe3\\x82\\x8b\\xe3\\x81\\x8b\\xe3\\x82\\x93\\xe3\\x81\\x9f\\xe3\\x82\\x93<wbr/>mini</span> \\xe4\\xbb\\x8a\\xe3\\x81\\x99\\xe3\\x81\\x90\\xe4\\xbd\\xbf\\xe3\\x81\\x88\\xe3\\x82\\x8b\\xe3\\x81\\x8b\\xe3\\x82\\x93\\xe3\\x81\\x9f\\xe3\\x82\\x93mini<br/>Access 2016 \\xe5\\x9f\\xba\\xe6\\x9c\\xac\\xe6\\x8a\\x80</p>\\n          <p itemprop=\"author\" class=\"author\">\\xe6\\x8a\\x80\\xe8\\xa1\\x93\\xe8\\xa9\\x95\\xe8\\xab\\x96\\xe7\\xa4\\xbe\\xe7\\xb7\\xa8\\xe9\\x9b\\x86\\xe9\\x83\\xa8\\xef\\xbc\\x8c<wbr/>AYURA\\xe3\\x80\\x80\\xe8\\x91\\x97</p>\\n          <p itemprop=\"offers\" itemscope=\"itemscope\" itemtype=\"http://schema.org/Offer\" class=\"price\"><span itemprop=\"price\">980</span>\\xe5\\x86\\x86<meta itemprop=\"priceCurrency\" content=\"JPY\"/></p>\\n          <ul class=\"format\">\\n            <li class=\"pdf\">PDF</li>\\n          </ul>\\n          <ul class=\"date\">\\n            <li><time datetime=\"2016-6-25\" itemprop=\"datePublished\" class=\"published\">2016\\xe5\\xb9\\xb46\\xe6\\x9c\\x8825\\xe6\\x97\\xa5</time></li>\\n            \\n          </ul>\\n        </a></li>        <li id=\"978-4-7741-8290-2\"><a itemprop=\"url\" href=\"/dp/ebook/2016/978-4-7741-8290-2\">\\n          <img itemprop=\"image\" src=\"/assets/images/dummy.png\" width=\"100\" height=\"147\" data-image=\"/assets/images/gdp/2016/thumb/TH100_978-4-7741-8290-2.jpg,/assets/images/gdp/2016/thumb/TH200_978-4-7741-8290-2.jpg\" alt=\"\\xe3\\x82\\xab\\xe3\\x83\\x90\\xe3\\x83\\xbc\\xe7\\x94\\xbb\\xe5\\x83\\x8f\"/>\\n          <p itemprop=\"name\" class=\"title\"><span class=\"series\">\\xe3\\x82\\xbc\\xe3\\x83\\xad\\xe3\\x81\\x8b\\xe3\\x82\\x89\\xe3\\x81\\xaf\\xe3\\x81\\x98\\xe3\\x82\\x81\\xe3\\x82\\x8b</span> \\xe3\\x82\\xbc\\xe3\\x83\\xad\\xe3\\x81\\x8b\\xe3\\x82\\x89\\xe3\\x81\\xaf\\xe3\\x81\\x98\\xe3\\x82\\x81\\xe3\\x82\\x8b<br/>OneNote 2016<wbr/>\\xef\\xbc\\x8f<wbr/>2013 \\xe3\\x82\\xb9\\xe3\\x83\\x9e\\xe3\\x83\\xbc\\xe3\\x83\\x88\\xe3\\x82\\xac\\xe3\\x82\\xa4\\xe3\\x83\\x89</p>\\n          <p itemprop=\"author\" class=\"author\">\\xe6\\x8a\\x80\\xe8\\xa1\\x93\\xe8\\xa9\\x95\\xe8\\xab\\x96\\xe7\\xa4\\xbe\\xe7\\xb7\\xa8\\xe9\\x9b\\x86\\xe9\\x83\\xa8\\xef\\xbc\\x8c<wbr/>\\xe3\\x83\\x9e\\xe3\\x82\\xa4\\xe3\\x82\\xab\\xe3\\x80\\x80\\xe8\\x91\\x97</p>\\n          <p itemprop=\"offers\" itemscope=\"itemscope\" itemtype=\"http://schema.org/Offer\" class=\"price\"><span itemprop=\"price\">980</span>\\xe5\\x86\\x86<meta itemprop=\"priceCurrency\" content=\"JPY\"/></p>\\n          <ul class=\"format\">\\n            <li class=\"pdf\">PDF</li>\\n          </ul>\\n          <ul class=\"date\">\\n            <li><time datetime=\"2016-6-25\" itemprop=\"datePublished\" class=\"published\">2016\\xe5\\xb9\\xb46\\xe6\\x9c\\x8825\\xe6\\x97\\xa5</time></li>\\n            \\n          </ul>\\n        </a></li>        <li id=\"978-4-7741-8291-9\"><a itemprop=\"url\" href=\"/dp/ebook/2016/978-4-7741-8291-9\">\\n          <img itemprop=\"image\" src=\"/assets/images/dummy.png\" width=\"100\" height=\"147\" data-image=\"/assets/images/gdp/2016/thumb/TH100_978-4-7741-8291-9.jpg,/assets/images/gdp/2016/thumb/TH200_978-4-7741-8291-9.jpg\" alt=\"\\xe3\\x82\\xab\\xe3\\x83\\x90\\xe3\\x83\\xbc\\xe7\\x94\\xbb\\xe5\\x83\\x8f\"/>\\n          <p itemprop=\"name\" class=\"title\"><span class=\"series\">\\xe3\\x82\\xbc\\xe3\\x83\\xad\\xe3\\x81\\x8b\\xe3\\x82\\x89\\xe3\\x81\\xaf\\xe3\\x81\\x98\\xe3\\x82\\x81\\xe3\\x82\\x8b</span> \\xe3\\x82\\xbc\\xe3\\x83\\xad\\xe3\\x81\\x8b\\xe3\\x82\\x89\\xe3\\x81\\xaf\\xe3\\x81\\x98\\xe3\\x82\\x81\\xe3\\x82\\x8b<br/>au Galaxy S7 edge SCV33 \\xe3\\x82\\xb9\\xe3\\x83\\x9e\\xe3\\x83\\xbc\\xe3\\x83\\x88\\xe3\\x82\\xac\\xe3\\x82\\xa4\\xe3\\x83\\x89</p>\\n          <p itemprop=\"author\" class=\"author\">\\xe6\\x8a\\x80\\xe8\\xa1\\x93\\xe8\\xa9\\x95\\xe8\\xab\\x96\\xe7\\xa4\\xbe\\xe7\\xb7\\xa8\\xe9\\x9b\\x86\\xe9\\x83\\xa8\\xe3\\x80\\x80\\xe8\\x91\\x97</p>\\n          <p itemprop=\"offers\" itemscope=\"itemscope\" itemtype=\"http://schema.org/Offer\" class=\"price\"><span itemprop=\"price\">1,380</span>\\xe5\\x86\\x86<meta itemprop=\"priceCurrency\" content=\"JPY\"/></p>\\n          <ul class=\"format\">\\n            <li class=\"pdf\">PDF</li>\\n          </ul>\\n          <ul class=\"date\">\\n            <li><time datetime=\"2016-6-25\" itemprop=\"datePublished\" class=\"published\">2016\\xe5\\xb9\\xb46\\xe6\\x9c\\x8825\\xe6\\x97\\xa5</time></li>\\n            \\n          </ul>\\n        </a></li>\\n      </ul>\\n      <nav id=\"pagingBottom\">        <ul>\\n          <li><span class=\"prev\">\\xe2\\x80\\x95</span></li>\\n          <li class=\"paging-number\">1 - 30 / 1395</li>\\n          <li><a href=\"/dp?start=30\" title=\"\\xe3\\x82\\xb5\\xe3\\x83\\xb3\\xe3\\x83\\x97\\xe3\\x83\\xab\\xe3\\x83\\x9a\\xe3\\x83\\xbc\\xe3\\x82\\xb8\\xe3\\x81\\xae\\xe3\\x81\\x9f\\xe3\\x82\\x81\\xe5\\x88\\xa9\\xe7\\x94\\xa8\\xe3\\x81\\xa7\\xe3\\x81\\x8d\\xe3\\x81\\xbe\\xe3\\x81\\x9b\\xe3\\x82\\x93\" class=\"next\">\\xe6\\xac\\xa1</a></li>\\n        </ul>\\n      </nav>\\n    </div>\\n  </div>\\n  <footer id=\"footer\" itemscope=\"itemscope\" itemtype=\"http://www.schema.org/WPFooter\">\\n    <div id=\"wait\" class=\"hidden\"></div>\\n    <nav id=\"navigation\" itemscope=\"itemscope\" itemtype=\"http://www.schema.org/SiteNavigationElement\">\\n      <ul id=\"navigationLink\">\\n        <li id=\"navLinkHome\" class=\"current\"><a itemprop=\"url\" href=\"/dp\" title=\"\\xe3\\x82\\xb5\\xe3\\x83\\xb3\\xe3\\x83\\x97\\xe3\\x83\\xab\\xe3\\x83\\x9a\\xe3\\x83\\xbc\\xe3\\x82\\xb8\\xe3\\x81\\xae\\xe3\\x81\\x9f\\xe3\\x82\\x81\\xe5\\x88\\xa9\\xe7\\x94\\xa8\\xe3\\x81\\xa7\\xe3\\x81\\x8d\\xe3\\x81\\xbe\\xe3\\x81\\x9b\\xe3\\x82\\x93\" class=\"home\">\\xe3\\x82\\xb9\\xe3\\x83\\x88\\xe3\\x82\\xa2</a></li>\\n        <li id=\"navLinkMyPage\"><a itemprop=\"url\" href=\"/dp/my-page\" title=\"\\xe3\\x82\\xb5\\xe3\\x83\\xb3\\xe3\\x83\\x97\\xe3\\x83\\xab\\xe3\\x83\\x9a\\xe3\\x83\\xbc\\xe3\\x82\\xb8\\xe3\\x81\\xae\\xe3\\x81\\x9f\\xe3\\x82\\x81\\xe5\\x88\\xa9\\xe7\\x94\\xa8\\xe3\\x81\\xa7\\xe3\\x81\\x8d\\xe3\\x81\\xbe\\xe3\\x81\\x9b\\xe3\\x82\\x93\" class=\"mypage\">\\xe3\\x83\\x9e\\xe3\\x82\\xa4\\xe3\\x83\\x9a\\xe3\\x83\\xbc\\xe3\\x82\\xb8</a></li>\\n        <li id=\"navLinkInfor\"><a itemprop=\"url\" href=\"/dp/information\" title=\"\\xe3\\x82\\xb5\\xe3\\x83\\xb3\\xe3\\x83\\x97\\xe3\\x83\\xab\\xe3\\x83\\x9a\\xe3\\x83\\xbc\\xe3\\x82\\xb8\\xe3\\x81\\xae\\xe3\\x81\\x9f\\xe3\\x82\\x81\\xe5\\x88\\xa9\\xe7\\x94\\xa8\\xe3\\x81\\xa7\\xe3\\x81\\x8d\\xe3\\x81\\xbe\\xe3\\x81\\x9b\\xe3\\x82\\x93\" class=\"information\">\\xe3\\x81\\x8a\\xe7\\x9f\\xa5\\xe3\\x82\\x89\\xe3\\x81\\x9b</a></li>\\n        <li id=\"navLinkHelp\"><a itemprop=\"url\" href=\"/dp/help\" title=\"\\xe3\\x82\\xb5\\xe3\\x83\\xb3\\xe3\\x83\\x97\\xe3\\x83\\xab\\xe3\\x83\\x9a\\xe3\\x83\\xbc\\xe3\\x82\\xb8\\xe3\\x81\\xae\\xe3\\x81\\x9f\\xe3\\x82\\x81\\xe5\\x88\\xa9\\xe7\\x94\\xa8\\xe3\\x81\\xa7\\xe3\\x81\\x8d\\xe3\\x81\\xbe\\xe3\\x81\\x9b\\xe3\\x82\\x93\" class=\"help\">\\xe3\\x83\\x98\\xe3\\x83\\xab\\xe3\\x83\\x97</a></li>\\n      </ul>\\n    </nav>\\n    <nav id=\"function\" itemscope=\"itemscope\" itemtype=\"http://www.schema.org/WPSideBar\">\\n      <div id=\"backgroundWrapper\"></div>\\n      <div id=\"navInfor\"><p class=\"page\">1 - 30 / 1395</p></div>\\n    </nav>\\n    <div id=\"storeInformation\">\\n      <ul id=\"footerLink\">\\n        <li><a href=\"/\">\\xe3\\x81\\x93\\xe3\\x81\\xae\\xe3\\x82\\xb5\\xe3\\x82\\xa4\\xe3\\x83\\x88\\xe3\\x81\\xab\\xe3\\x81\\xa4\\xe3\\x81\\x84\\xe3\\x81\\xa6</a></li>\\n      </ul>\\n      <p id=\"storeCopyright\"><span style=\"color:red;font-size:1.8em;\">\\xe3\\x81\\x93\\xe3\\x81\\xae\\xe3\\x83\\x9a\\xe3\\x83\\xbc\\xe3\\x82\\xb8\\xe3\\x81\\xaf\\xe3\\x80\\x8cPython\\xe3\\x82\\xaf\\xe3\\x83\\xad\\xe3\\x83\\xbc\\xe3\\x83\\xaa\\xe3\\x83\\xb3\\xe3\\x82\\xb0\\xef\\xbc\\x86\\xe3\\x82\\xb9\\xe3\\x82\\xaf\\xe3\\x83\\xac\\xe3\\x82\\xa4\\xe3\\x83\\x94\\xe3\\x83\\xb3\\xe3\\x82\\xb0 -\\xe3\\x83\\x87\\xe3\\x83\\xbc\\xe3\\x82\\xbf\\xe5\\x8f\\x8e\\xe9\\x9b\\x86\\xe3\\x83\\xbb\\xe8\\xa7\\xa3\\xe6\\x9e\\x90\\xe3\\x81\\xae\\xe3\\x81\\x9f\\xe3\\x82\\x81\\xe3\\x81\\xae\\xe5\\xae\\x9f\\xe8\\xb7\\xb5\\xe9\\x96\\x8b\\xe7\\x99\\xba\\xe3\\x82\\xac\\xe3\\x82\\xa4\\xe3\\x83\\x89-\\xe3\\x80\\x8d\\xe3\\x81\\xae\\xe3\\x81\\x9f\\xe3\\x82\\x81\\xe3\\x81\\xae\\xe3\\x82\\xb5\\xe3\\x83\\xb3\\xe3\\x83\\x97\\xe3\\x83\\xab\\xe3\\x82\\xb5\\xe3\\x82\\xa4\\xe3\\x83\\x88\\xe3\\x81\\xa7\\xe3\\x81\\x99\\xe3\\x80\\x82\\xe7\\x89\\xb9\\xe5\\x88\\xa5\\xe3\\x81\\xae\\xe8\\xa8\\xb1\\xe5\\x8f\\xaf\\xe3\\x82\\x92\\xe5\\xbe\\x97\\xe3\\x81\\xa6\\xe6\\x8a\\x80\\xe8\\xa1\\x93\\xe8\\xa9\\x95\\xe8\\xab\\x96\\xe7\\xa4\\xbe\\xe3\\x81\\xae\\xe8\\x91\\x97\\xe4\\xbd\\x9c\\xe7\\x89\\xa9\\xe3\\x82\\x92\\xe4\\xbd\\xbf\\xe7\\x94\\xa8\\xe3\\x81\\x97\\xe3\\x81\\xa6\\xe3\\x81\\x84\\xe3\\x81\\xbe\\xe3\\x81\\x99\\xe3\\x80\\x82</span><br/><small>Copyright \\xc2\\xa9 2016 <span class=\"reserved\">All Rights Reserved by</span> <a href=\"http://gihyo.jp/book\">Gijutsu-Hyohron Co., Ltd.</a></small></p>\\n    </div>\\n  </footer>\\n</body>\\n</html>\\n'"
      ]
     },
     "execution_count": 10,
     "metadata": {},
     "output_type": "execute_result"
    }
   ],
   "source": [
    "#byte型のボディを取得\n",
    "r.content"
   ]
  },
  {
   "cell_type": "code",
   "execution_count": 11,
   "id": "db554f22-59a4-4100-9aea-3904f4c63229",
   "metadata": {
    "collapsed": true,
    "jupyter": {
     "outputs_hidden": true
    },
    "tags": []
   },
   "outputs": [
    {
     "data": {
      "text/plain": [
       "{'publicTime': '2023-06-20T17:00:00+09:00',\n",
       " 'publicTimeFormatted': '2023/06/20 17:00:00',\n",
       " 'publishingOffice': '気象庁',\n",
       " 'title': '東京都 東京 の天気',\n",
       " 'link': 'https://www.jma.go.jp/bosai/forecast/#area_type=offices&area_code=130000',\n",
       " 'description': {'publicTime': '2023-06-20T16:38:00+09:00',\n",
       "  'publicTimeFormatted': '2023/06/20 16:38:00',\n",
       "  'headlineText': '',\n",
       "  'bodyText': '\\u3000本州付近は高気圧に覆われていますが、関東甲信地方は湿った空気の影響を受けています。\\n\\n\\u3000東京地方は、晴れや曇りとなっています。\\n\\n\\u3000２０日は、高気圧に覆われますが、湿った空気の影響を受ける見込みです。このため、晴れ時々曇りとなるでしょう。\\n\\n\\u3000２１日は、高気圧に覆われますが、湿った空気の影響を受ける見込みです。このため、晴れ朝晩曇りとなるでしょう。\\n\\n【関東甲信地方】\\n\\u3000関東甲信地方は、晴れや曇りとなっています。\\n\\n\\u3000２０日は、高気圧に覆われますが、湿った空気の影響を受ける見込みです。このため、晴れや曇りで、雨の降る所があるでしょう。\\n\\n\\u3000２１日は、高気圧に覆われますが、湿った空気の影響を受ける見込みです。このため、曇りや晴れで、未明は雨の降る所があるでしょう。\\n\\n\\u3000関東地方と伊豆諸島の海上では、うねりを伴い、２０日は波がやや高く、２１日は波が高いでしょう。',\n",
       "  'text': '\\u3000本州付近は高気圧に覆われていますが、関東甲信地方は湿った空気の影響を受けています。\\n\\n\\u3000東京地方は、晴れや曇りとなっています。\\n\\n\\u3000２０日は、高気圧に覆われますが、湿った空気の影響を受ける見込みです。このため、晴れ時々曇りとなるでしょう。\\n\\n\\u3000２１日は、高気圧に覆われますが、湿った空気の影響を受ける見込みです。このため、晴れ朝晩曇りとなるでしょう。\\n\\n【関東甲信地方】\\n\\u3000関東甲信地方は、晴れや曇りとなっています。\\n\\n\\u3000２０日は、高気圧に覆われますが、湿った空気の影響を受ける見込みです。このため、晴れや曇りで、雨の降る所があるでしょう。\\n\\n\\u3000２１日は、高気圧に覆われますが、湿った空気の影響を受ける見込みです。このため、曇りや晴れで、未明は雨の降る所があるでしょう。\\n\\n\\u3000関東地方と伊豆諸島の海上では、うねりを伴い、２０日は波がやや高く、２１日は波が高いでしょう。'},\n",
       " 'forecasts': [{'date': '2023-06-20',\n",
       "   'dateLabel': '今日',\n",
       "   'telop': '晴時々曇',\n",
       "   'detail': {'weather': '晴れ\\u3000夜のはじめ頃\\u3000くもり',\n",
       "    'wind': '南の風',\n",
       "    'wave': '０．５メートル'},\n",
       "   'temperature': {'min': {'celsius': None, 'fahrenheit': None},\n",
       "    'max': {'celsius': None, 'fahrenheit': None}},\n",
       "   'chanceOfRain': {'T00_06': '--%',\n",
       "    'T06_12': '--%',\n",
       "    'T12_18': '--%',\n",
       "    'T18_24': '10%'},\n",
       "   'image': {'title': '晴時々曇',\n",
       "    'url': 'https://www.jma.go.jp/bosai/forecast/img/101.svg',\n",
       "    'width': 80,\n",
       "    'height': 60}},\n",
       "  {'date': '2023-06-21',\n",
       "   'dateLabel': '明日',\n",
       "   'telop': '晴時々曇',\n",
       "   'detail': {'weather': '晴れ\\u3000朝晩\\u3000くもり',\n",
       "    'wind': '北の風\\u3000後\\u3000南東の風',\n",
       "    'wave': '０．５メートル'},\n",
       "   'temperature': {'min': {'celsius': '19', 'fahrenheit': '66.2'},\n",
       "    'max': {'celsius': '28', 'fahrenheit': '82.4'}},\n",
       "   'chanceOfRain': {'T00_06': '10%',\n",
       "    'T06_12': '0%',\n",
       "    'T12_18': '0%',\n",
       "    'T18_24': '10%'},\n",
       "   'image': {'title': '晴時々曇',\n",
       "    'url': 'https://www.jma.go.jp/bosai/forecast/img/101.svg',\n",
       "    'width': 80,\n",
       "    'height': 60}},\n",
       "  {'date': '2023-06-22',\n",
       "   'dateLabel': '明後日',\n",
       "   'telop': '曇時々雨',\n",
       "   'detail': {'weather': 'くもり\\u3000時々\\u3000雨',\n",
       "    'wind': '東の風\\u3000後\\u3000南の風',\n",
       "    'wave': '０．５メートル'},\n",
       "   'temperature': {'min': {'celsius': '18', 'fahrenheit': '64.4'},\n",
       "    'max': {'celsius': '23', 'fahrenheit': '73.4'}},\n",
       "   'chanceOfRain': {'T00_06': '70%',\n",
       "    'T06_12': '70%',\n",
       "    'T12_18': '70%',\n",
       "    'T18_24': '70%'},\n",
       "   'image': {'title': '曇時々雨',\n",
       "    'url': 'https://www.jma.go.jp/bosai/forecast/img/202.svg',\n",
       "    'width': 80,\n",
       "    'height': 60}}],\n",
       " 'location': {'area': '関東',\n",
       "  'prefecture': '東京都',\n",
       "  'district': '東京地方',\n",
       "  'city': '東京'},\n",
       " 'copyright': {'title': '(C) 天気予報 API（livedoor 天気互換）',\n",
       "  'link': 'https://weather.tsukumijima.net/',\n",
       "  'image': {'title': '天気予報 API（livedoor 天気互換）',\n",
       "   'link': 'https://weather.tsukumijima.net/',\n",
       "   'url': 'https://weather.tsukumijima.net/logo.png',\n",
       "   'width': 120,\n",
       "   'height': 120},\n",
       "  'provider': [{'link': 'https://www.jma.go.jp/jma/',\n",
       "    'name': '気象庁 Japan Meteorological Agency',\n",
       "    'note': '気象庁 HP にて配信されている天気予報を JSON データへ編集しています。'}]}}"
      ]
     },
     "execution_count": 11,
     "metadata": {},
     "output_type": "execute_result"
    }
   ],
   "source": [
    "#jsonメソッドで簡単にJSONデータを取得できる\n",
    "r = requests.get(\"https://weather.tsukumijima.net/api/forecast?city=130010\")\n",
    "r.json()"
   ]
  },
  {
   "cell_type": "code",
   "execution_count": 26,
   "id": "ff0d26ce-9130-4b09-ad23-8429c1170af7",
   "metadata": {
    "collapsed": true,
    "jupyter": {
     "outputs_hidden": true
    },
    "tags": []
   },
   "outputs": [
    {
     "name": "stdout",
     "output_type": "stream",
     "text": [
      "#login ログイン\n",
      "/dp/cart カート\n",
      " すべての商品\n",
      "/dp すべての商品\n",
      "/dp/genre/%E3%83%91%E3%82%BD%E3%82%B3%E3%83%B3 パソコン\n",
      "/dp/genre/%E3%82%B9%E3%83%9E%E3%83%BC%E3%83%88%E3%83%95%E3%82%A9%E3%83%B3%E3%83%BB%E3%82%BF%E3%83%96%E3%83%AC%E3%83%83%E3%83%88 スマートフォン・タブレット\n",
      "/dp/genre/%E3%83%87%E3%82%B6%E3%82%A4%E3%83%B3%E3%83%BB%E7%B4%A0%E6%9D%90%E9%9B%86 デザイン・素材集\n",
      "/dp/genre/Web%E3%82%B5%E3%82%A4%E3%83%88%E5%88%B6%E4%BD%9C Webサイト制作\n",
      "/dp/genre/%E3%83%97%E3%83%AD%E3%82%B0%E3%83%A9%E3%83%9F%E3%83%B3%E3%82%B0%E3%83%BB%E3%82%B7%E3%82%B9%E3%83%86%E3%83%A0%E9%96%8B%E7%99%BA プログラミング・システム開発\n",
      "/dp/genre/%E3%83%8D%E3%83%83%E3%83%88%E3%83%AF%E3%83%BC%E3%82%AF%E3%83%BBUNIX%E3%83%BB%E3%83%87%E3%83%BC%E3%82%BF%E3%83%99%E3%83%BC%E3%82%B9 ネットワーク・UNIX・データベース\n",
      "/dp/genre/%E8%B3%87%E6%A0%BC%E8%A9%A6%E9%A8%93%EF%BC%88IT%EF%BC%89 資格試験（IT）\n",
      "/dp/genre/%E8%B3%87%E6%A0%BC%E8%A9%A6%E9%A8%93%EF%BC%88%E4%B8%80%E8%88%AC%EF%BC%89%E3%83%BB%E5%A4%A7%E5%AD%A6%E5%8F%97%E9%A8%93 資格試験（一般）・大学受験\n",
      "/dp/genre/%E8%B6%A3%E5%91%B3%E3%83%BB%E5%AE%9F%E7%94%A8%E3%83%BB%E3%83%87%E3%82%B8%E3%82%AB%E3%83%A1 趣味・実用・デジカメ\n",
      "/dp/genre/%E3%83%93%E3%82%B8%E3%83%8D%E3%82%B9%E3%83%BB%E3%83%9E%E3%83%8D%E3%83%BC ビジネス・マネー\n",
      "/dp/genre/%E7%90%86%E5%B7%A5%E3%83%BB%E3%82%B5%E3%82%A4%E3%82%A8%E3%83%B3%E3%82%B9 理工・サイエンス\n",
      "/dp?start=30 次\n",
      "#adPrev 前\n",
      "#adNext 次\n",
      "/dp/subscription \n",
      "  \n",
      "/dp/ebook/2023/978-4-297-13572-0 \n",
      "          \n",
      "/dp/ebook/2023/978-4-297-13578-2 \n",
      "          \n",
      "/dp/ebook/2023/978-4-297-13532-4 \n",
      "          \n",
      "/dp/ebook/2023/978-4-297-13556-0 \n",
      "          \n",
      "/dp/ebook/2023/978-4-297-13494-5 \n",
      "          \n",
      "/dp/ebook/2023/978-4-297-13542-3 \n",
      "          \n",
      "/dp/ebook/2023/978-4-297-13522-5 \n",
      "          \n",
      "/dp/ebook/2023/978-4-297-13530-0 \n",
      "          \n",
      "/dp/ebook/2023/978-4-297-13512-6 \n",
      "          \n",
      "/dp/ebook/2023/978-4-297-13536-2 \n",
      "          \n",
      "/dp/ebook/2023/978-4-297-13560-7 \n",
      "          \n",
      "/dp/ebook/2023/978-4-297-13554-6 \n",
      "          \n",
      "/dp/ebook/2023/978-4-297-13518-8 \n",
      "          \n",
      "/dp/ebook/2023/978-4-297-13452-5 \n",
      "          \n",
      "/dp/ebook/2023/978-4-297-13564-5 \n",
      "          \n",
      "/dp/ebook/2023/978-4-297-13558-4 \n",
      "          \n",
      "/dp/ebook/2023/978-4-297-13548-5 \n",
      "          \n",
      "/dp/ebook/2023/978-4-297-13609-3 \n",
      "          \n",
      "/dp/ebook/2023/978-4-297-13566-9 \n",
      "          \n",
      "/dp/ebook/2023/978-4-297-13546-1 \n",
      "          \n",
      "/dp/ebook/2023/978-4-297-13538-6 \n",
      "          \n",
      "/dp/ebook/2023/978-4-297-13540-9 \n",
      "          \n",
      "/dp/ebook/2023/978-4-297-13528-7 \n",
      "          \n",
      "/dp/ebook/2023/978-4-297-13552-2 \n",
      "          \n",
      "/dp/ebook/2023/978-4-297-13520-1 \n",
      "          \n",
      "/dp/ebook/2023/978-4-297-13502-7 \n",
      "          \n",
      "/dp/ebook/2023/978-4-297-13544-7 \n",
      "          \n",
      "/dp/ebook/2023/978-4-297-13464-8 \n",
      "          \n",
      "/dp/ebook/2023/978-4-297-13506-5 \n",
      "          \n",
      "/dp/ebook/2023/978-4-297-13484-6 \n",
      "          \n",
      "/dp?start=30 次\n",
      "/dp ストア\n",
      "/dp/my-page マイページ\n",
      "/dp/information お知らせ\n",
      "/dp/help ヘルプ\n",
      "https://twitter.com/gihyoDP @gihyoDP\n",
      "/dp/help/about/site このサイトについて\n",
      "/dp/help/about/terms 利用規約\n",
      "/dp/help/about/privacy プライバシーポリシー\n",
      "/dp/help/about/law 特定商取引法に基づく表示\n",
      "/book Gijutsu-Hyoron Co., Ltd.\n"
     ]
    }
   ],
   "source": [
    "import lxml.html\n",
    "#parse関数でファイルパスを指定してパースできる\n",
    "tree = lxml.html.parse(\"/Users/kato/dp.html\")\n",
    "#getrootメソッドでHTMLオブジェクトが得られる\n",
    "html = tree.getroot()\n",
    "\n",
    "#htmlの中のaタグを、for関数でaの中に入れて、全てのhref属性とリンクテキストをプリントする\n",
    "for a in html.cssselect(\"a\"):\n",
    "    print(a.get(\"href\"), a.text)"
   ]
  },
  {
   "cell_type": "code",
   "execution_count": 27,
   "id": "7dbc4a9d-4b56-4ee2-a2f1-f82ebddbba57",
   "metadata": {
    "collapsed": true,
    "jupyter": {
     "outputs_hidden": true
    },
    "tags": []
   },
   "outputs": [
    {
     "name": "stdout",
     "output_type": "stream",
     "text": [
      "#login ログイン\n",
      "/dp/cart カート\n",
      " すべての商品\n",
      "/dp すべての商品\n",
      "/dp/genre/%E3%83%91%E3%82%BD%E3%82%B3%E3%83%B3 パソコン\n",
      "/dp/genre/%E3%82%B9%E3%83%9E%E3%83%BC%E3%83%88%E3%83%95%E3%82%A9%E3%83%B3%E3%83%BB%E3%82%BF%E3%83%96%E3%83%AC%E3%83%83%E3%83%88 スマートフォン・タブレット\n",
      "/dp/genre/%E3%83%87%E3%82%B6%E3%82%A4%E3%83%B3%E3%83%BB%E7%B4%A0%E6%9D%90%E9%9B%86 デザイン・素材集\n",
      "/dp/genre/Web%E3%82%B5%E3%82%A4%E3%83%88%E5%88%B6%E4%BD%9C Webサイト制作\n",
      "/dp/genre/%E3%83%97%E3%83%AD%E3%82%B0%E3%83%A9%E3%83%9F%E3%83%B3%E3%82%B0%E3%83%BB%E3%82%B7%E3%82%B9%E3%83%86%E3%83%A0%E9%96%8B%E7%99%BA プログラミング・システム開発\n",
      "/dp/genre/%E3%83%8D%E3%83%83%E3%83%88%E3%83%AF%E3%83%BC%E3%82%AF%E3%83%BBUNIX%E3%83%BB%E3%83%87%E3%83%BC%E3%82%BF%E3%83%99%E3%83%BC%E3%82%B9 ネットワーク・UNIX・データベース\n",
      "/dp/genre/%E8%B3%87%E6%A0%BC%E8%A9%A6%E9%A8%93%EF%BC%88IT%EF%BC%89 資格試験（IT）\n",
      "/dp/genre/%E8%B3%87%E6%A0%BC%E8%A9%A6%E9%A8%93%EF%BC%88%E4%B8%80%E8%88%AC%EF%BC%89%E3%83%BB%E5%A4%A7%E5%AD%A6%E5%8F%97%E9%A8%93 資格試験（一般）・大学受験\n",
      "/dp/genre/%E8%B6%A3%E5%91%B3%E3%83%BB%E5%AE%9F%E7%94%A8%E3%83%BB%E3%83%87%E3%82%B8%E3%82%AB%E3%83%A1 趣味・実用・デジカメ\n",
      "/dp/genre/%E3%83%93%E3%82%B8%E3%83%8D%E3%82%B9%E3%83%BB%E3%83%9E%E3%83%8D%E3%83%BC ビジネス・マネー\n",
      "/dp/genre/%E7%90%86%E5%B7%A5%E3%83%BB%E3%82%B5%E3%82%A4%E3%82%A8%E3%83%B3%E3%82%B9 理工・サイエンス\n",
      "/dp?start=30 次\n",
      "#adPrev 前\n",
      "#adNext 次\n",
      "/dp/subscription \n",
      "Software Design・WEB+DB PRESS電子版定期購読のお申し込み\n",
      "\n",
      "PDFEPUB\n",
      "\n",
      "/dp/ebook/2023/978-4-297-13572-0 \n",
      "\n",
      "WEB+DB PRESS Vol.135\n",
      "\n",
      "1,628円\n",
      "\n",
      "PDFEPUB\n",
      "\n",
      "\n",
      "2023年6月24日\n",
      "\n",
      "\n",
      "/dp/ebook/2023/978-4-297-13578-2 \n",
      "\n",
      "Webデザイナー養成講座 【改訂第3版】WordPress 仕事の現場でサッと使える！ デザイン教科書［WordPress 6.x対応版］\n",
      "中島真洋　著，ロクナナワークショップ　監修\n",
      "3,000円\n",
      "\n",
      "PDF\n",
      "\n",
      "\n",
      "2023年6月23日\n",
      "\n",
      "\n",
      "/dp/ebook/2023/978-4-297-13532-4 \n",
      "\n",
      "COMODO（COMODO ライフブック） レシート探訪 1枚にみる小さな生活史\n",
      "藤沢あかり　著\n",
      "1,600円\n",
      "\n",
      "PDF\n",
      "\n",
      "\n",
      "2023年6月23日\n",
      "\n",
      "\n",
      "/dp/ebook/2023/978-4-297-13556-0 \n",
      "\n",
      "YouTubeライブ配信大全［OBS Studio対応版］\n",
      "リンクアップ　著，株式会社アバンク　監修\n",
      "2,200円\n",
      "\n",
      "PDF\n",
      "\n",
      "\n",
      "2023年6月23日\n",
      "\n",
      "\n",
      "/dp/ebook/2023/978-4-297-13494-5 \n",
      "\n",
      "これならわかる! Googleアナリティクス4 アクセス解析超入門\n",
      "志鎌真奈美　著\n",
      "2,000円\n",
      "\n",
      "PDF\n",
      "\n",
      "\n",
      "2023年6月23日\n",
      "\n",
      "\n",
      "/dp/ebook/2023/978-4-297-13542-3 \n",
      "\n",
      "図解即戦力 図解即戦力ISO27001:2022の規格と審査がこれ1冊でしっかりわかる教科書\n",
      "株式会社テクノソフト コンサルタント　岡田敏靖　著\n",
      "2,200円\n",
      "\n",
      "PDF\n",
      "\n",
      "\n",
      "2023年6月22日\n",
      "\n",
      "\n",
      "/dp/ebook/2023/978-4-297-13522-5 \n",
      "\n",
      "情報処理技術者試験 令和05年【秋期】応用情報技術者 パーフェクトラーニング過去問題集\n",
      "加藤昭，高見澤秀幸，矢野龍王　著\n",
      "1,900円\n",
      "\n",
      "PDF\n",
      "\n",
      "\n",
      "2023年6月21日\n",
      "\n",
      "\n",
      "/dp/ebook/2023/978-4-297-13530-0 \n",
      "\n",
      "図解即戦力 図解即戦力金融業界のしくみとビジネスがこれ1冊でしっかりわかる教科書［改訂2版］\n",
      "伊藤亮太　著\n",
      "1,600円\n",
      "\n",
      "PDF\n",
      "\n",
      "\n",
      "2023年6月21日\n",
      "\n",
      "\n",
      "/dp/ebook/2023/978-4-297-13512-6 \n",
      "\n",
      "量子コンピュータの頭の中――計算しながら理解する量子アルゴリズムの世界\n",
      "束野仁政　著\n",
      "3,200円\n",
      "\n",
      "PDF\n",
      "\n",
      "\n",
      "2023年6月19日\n",
      "\n",
      "\n",
      "/dp/ebook/2023/978-4-297-13536-2 \n",
      "\n",
      "ほんの一手間でプロっぽくなる Photoshop＆Illustratorデザインの小ワザ\n",
      "島田陽生　著\n",
      "2,000円\n",
      "\n",
      "PDF\n",
      "\n",
      "\n",
      "2023年6月17日\n",
      "\n",
      "\n",
      "/dp/ebook/2023/978-4-297-13560-7 \n",
      "\n",
      "賃貸不動産経営管理士 テキスト＋問題集\n",
      "田村誠　著\n",
      "2,200円\n",
      "\n",
      "PDF\n",
      "\n",
      "\n",
      "2023年6月17日\n",
      "\n",
      "\n",
      "/dp/ebook/2023/978-4-297-13554-6 \n",
      "\n",
      "これまでの仕事 これからの仕事～たった1人から現実を変えていくアジャイルという方法\n",
      "市谷聡啓　著\n",
      "1,600円\n",
      "\n",
      "PDFEPUB\n",
      "\n",
      "\n",
      "2023年6月17日\n",
      "\n",
      "\n",
      "/dp/ebook/2023/978-4-297-13518-8 \n",
      "\n",
      "情報処理技術者試験 令和05年【下半期】 ITパスポート パーフェクトラーニング過去問題集\n",
      "五十嵐聡　著\n",
      "1,180円\n",
      "\n",
      "PDF\n",
      "\n",
      "\n",
      "2023年6月17日\n",
      "\n",
      "\n",
      "/dp/ebook/2023/978-4-297-13452-5 \n",
      "\n",
      "Software Design 2023年7月号\n",
      "\n",
      "1,562円\n",
      "\n",
      "PDFEPUB\n",
      "\n",
      "\n",
      "2023年6月16日\n",
      "\n",
      "\n",
      "/dp/ebook/2023/978-4-297-13564-5 \n",
      "\n",
      "Excelでできる 不動産投資「資産管理」のすべて\n",
      "玉川陽介　著\n",
      "2,400円\n",
      "\n",
      "PDF\n",
      "\n",
      "\n",
      "2023年6月14日\n",
      "\n",
      "\n",
      "/dp/ebook/2023/978-4-297-13558-4 \n",
      "\n",
      "図解即戦力 図解即戦力画像センシングのしくみと開発がこれ1冊でしっかりわかる教科書\n",
      "輿水大和　監修，青木義満　主筆，明石卓也，大橋剛介，片岡裕雄，杉本麻樹，竹内渉，戸田真志，中嶋航大，門馬英一郎，山田亮佑　著\n",
      "2,600円\n",
      "\n",
      "PDF\n",
      "\n",
      "\n",
      "2023年6月14日\n",
      "\n",
      "\n",
      "/dp/ebook/2023/978-4-297-13548-5 \n",
      "\n",
      "今すぐ使えるかんたん 今すぐ使えるかんたんPremiere Pro やさしい入門\n",
      "阿部信行　著\n",
      "2,680円\n",
      "\n",
      "PDF\n",
      "\n",
      "\n",
      "2023年6月14日\n",
      "\n",
      "\n",
      "/dp/ebook/2023/978-4-297-13609-3 \n",
      "\n",
      "ゼロからはじめる ゼロからはじめるGalaxy S23／S23 Ultra スマートガイド［ドコモ／au対応版］\n",
      "技術評論社編集部　著\n",
      "1,580円\n",
      "\n",
      "PDF\n",
      "\n",
      "\n",
      "2023年6月10日\n",
      "\n",
      "\n",
      "/dp/ebook/2023/978-4-297-13566-9 \n",
      "\n",
      "人が増えても速くならない～変化を抱擁せよ～\n",
      "倉貫義人　著\n",
      "1,400円\n",
      "\n",
      "PDFEPUB\n",
      "\n",
      "\n",
      "2023年6月10日\n",
      "\n",
      "\n",
      "/dp/ebook/2023/978-4-297-13546-1 \n",
      "\n",
      "今すぐ使えるかんたん 今すぐ使えるかんたんPower Automate for desktop 完全ガイドブック\n",
      "日本システム開発株式会社　岩崎将大，山口晃弘，原沢陵央　著\n",
      "2,200円\n",
      "\n",
      "PDF\n",
      "\n",
      "\n",
      "2023年6月7日\n",
      "\n",
      "\n",
      "/dp/ebook/2023/978-4-297-13538-6 \n",
      "\n",
      "図解即戦力 図解即戦力産休・育休の導入と実務がこれ1冊でしっかりわかる本\n",
      "女性と男性の働き方研究会　著，ドリームサポート社会保険労務士法人　監修\n",
      "2,000円\n",
      "\n",
      "PDF\n",
      "\n",
      "\n",
      "2023年6月7日\n",
      "\n",
      "\n",
      "/dp/ebook/2023/978-4-297-13540-9 \n",
      "\n",
      "大きな字でわかりやすい 大きな字でわかりやすいスマートフォン超入門 Android対応版［改訂2版］\n",
      "リンクアップ　著\n",
      "1,400円\n",
      "\n",
      "PDF\n",
      "\n",
      "\n",
      "2023年6月7日\n",
      "\n",
      "\n",
      "/dp/ebook/2023/978-4-297-13528-7 \n",
      "\n",
      "集客の王道 Googleビジネスプロフィール 集客の王道～Googleマップから「来店」を生み出す最強ツール\n",
      "永友一朗　著\n",
      "1,800円\n",
      "\n",
      "PDF\n",
      "\n",
      "\n",
      "2023年6月2日\n",
      "\n",
      "\n",
      "/dp/ebook/2023/978-4-297-13552-2 \n",
      "\n",
      "今すぐ使えるかんたんbiz 今すぐ使えるかんたんbizZoom ビジネス活用大全\n",
      "リンクアップ　著，分散システム技研合同会社　監修\n",
      "1,680円\n",
      "\n",
      "PDF\n",
      "\n",
      "\n",
      "2023年5月27日\n",
      "\n",
      "\n",
      "/dp/ebook/2023/978-4-297-13520-1 \n",
      "\n",
      "基本情報技術者【科目B】アルゴリズム×擬似言語 トレーニングブック\n",
      "大滝みや子　著\n",
      "2,000円\n",
      "\n",
      "PDF\n",
      "\n",
      "\n",
      "2023年5月27日\n",
      "\n",
      "\n",
      "/dp/ebook/2023/978-4-297-13502-7 \n",
      "\n",
      "しくみ図解 給排水・衛生設備が一番わかる\n",
      "渋田雄一　著\n",
      "2,000円\n",
      "\n",
      "PDF\n",
      "\n",
      "\n",
      "2023年5月27日\n",
      "\n",
      "\n",
      "/dp/ebook/2023/978-4-297-13544-7 \n",
      "\n",
      "ゼロからはじめる ゼロからはじめるMicrosoft Teams 基本＆便利技［改訂2版］\n",
      "リンクアップ　著\n",
      "1,200円\n",
      "\n",
      "PDF\n",
      "\n",
      "\n",
      "2023年5月26日\n",
      "\n",
      "\n",
      "/dp/ebook/2023/978-4-297-13464-8 \n",
      "\n",
      "今すぐ使えるかんたんmini 今すぐ使えるかんたんminiExcel マクロ＆VBAの基本と便利がこれ1冊でわかる本［Office 2021/Microsoft 365両対応］\n",
      "門脇香奈子　著\n",
      "900円\n",
      "\n",
      "PDF\n",
      "\n",
      "\n",
      "2023年5月25日\n",
      "\n",
      "\n",
      "/dp/ebook/2023/978-4-297-13506-5 \n",
      "\n",
      "Web3ビジネスの法務\n",
      "弁護士法人GVA法律事務所 弁護士　熊谷直弥，山地洋平　編著\n",
      "3,600円\n",
      "\n",
      "PDF\n",
      "\n",
      "\n",
      "2023年5月25日\n",
      "\n",
      "\n",
      "/dp/ebook/2023/978-4-297-13484-6 \n",
      "\n",
      "今すぐ使えるかんたんEx 今すぐ使えるかんたんExYouTube 投稿＆集客 プロ技BESTセレクション 改訂2版\n",
      "リンクアップ　著，ギュイーントクガワ　監修\n",
      "1,800円\n",
      "\n",
      "PDF\n",
      "\n",
      "\n",
      "2023年5月24日\n",
      "\n",
      "\n",
      "/dp?start=30 次\n",
      "/dp ストア\n",
      "/dp/my-page マイページ\n",
      "/dp/information お知らせ\n",
      "/dp/help ヘルプ\n",
      "https://twitter.com/gihyoDP @gihyoDP\n",
      "/dp/help/about/site このサイトについて\n",
      "/dp/help/about/terms 利用規約\n",
      "/dp/help/about/privacy プライバシーポリシー\n",
      "/dp/help/about/law 特定商取引法に基づく表示\n",
      "/book Gijutsu-Hyoron Co., Ltd.\n"
     ]
    }
   ],
   "source": [
    "from bs4 import BeautifulSoup\n",
    "\n",
    "#HTMLを読み込んでスープオブジェクトを取得\n",
    "with open(\"/Users/kato/dp.html\") as f:\n",
    "    soup = BeautifulSoup(f , \"html.parser\")\n",
    "\n",
    "#find_allでaタグを取得し、href属性とリンクテキストを表示する\n",
    "for a in soup.find_all(\"a\"):\n",
    "    print(a.get(\"href\") , a.text)"
   ]
  },
  {
   "cell_type": "code",
   "execution_count": 28,
   "id": "b22473c4-ea6d-4aa1-a272-778e29742423",
   "metadata": {
    "tags": []
   },
   "outputs": [],
   "source": [
    "# import MySQLdb"
   ]
  },
  {
   "cell_type": "code",
   "execution_count": 29,
   "id": "d1abe3a3-fc4a-45b9-bb46-72517cec2dca",
   "metadata": {
    "tags": []
   },
   "outputs": [],
   "source": [
    "# conn = MySQLdb.connect(db=\"scraping\" , user=\"scraper\" , passwd=\"password\" , charset=\"utf8mb4\")"
   ]
  },
  {
   "cell_type": "code",
   "execution_count": 30,
   "id": "3372b921-efa6-4742-9a42-508e253fc1e4",
   "metadata": {
    "tags": []
   },
   "outputs": [],
   "source": [
    "# c = conn.cursor()"
   ]
  },
  {
   "cell_type": "code",
   "execution_count": 31,
   "id": "13fa878e-92b0-4a56-b389-7e4186d0b74e",
   "metadata": {
    "tags": []
   },
   "outputs": [
    {
     "data": {
      "text/plain": [
       "0"
      ]
     },
     "execution_count": 31,
     "metadata": {},
     "output_type": "execute_result"
    }
   ],
   "source": [
    "# c.execute(\"DROP TABLE IF EXISTS cities\")"
   ]
  },
  {
   "cell_type": "code",
   "execution_count": 34,
   "id": "282ac01d-042a-464c-a4cd-6c345bd47a18",
   "metadata": {
    "tags": []
   },
   "outputs": [],
   "source": [
    "# c.execute('''CREATE TABLE cities (rank integer,city text,population integer)''')"
   ]
  },
  {
   "cell_type": "code",
   "execution_count": 38,
   "id": "d4ae4b70-fac4-4774-a86d-d62a73ab9faf",
   "metadata": {
    "tags": []
   },
   "outputs": [
    {
     "name": "stdout",
     "output_type": "stream",
     "text": [
      "/dp/ebook/2023/978-4-297-13580-5\n",
      "/dp/ebook/2023/978-4-297-13524-9\n",
      "/dp/ebook/2023/978-4-297-13572-0\n",
      "/dp/ebook/2023/978-4-297-13562-1\n",
      "/dp/ebook/2023/978-4-297-13574-4\n",
      "/dp/ebook/2023/978-4-297-13550-8\n",
      "/dp/ebook/2023/978-4-297-13578-2\n",
      "/dp/ebook/2023/978-4-297-13532-4\n",
      "/dp/ebook/2023/978-4-297-13556-0\n",
      "/dp/ebook/2023/978-4-297-13494-5\n",
      "/dp/ebook/2023/978-4-297-13542-3\n",
      "/dp/ebook/2023/978-4-297-13522-5\n",
      "/dp/ebook/2023/978-4-297-13530-0\n",
      "/dp/ebook/2023/978-4-297-13512-6\n",
      "/dp/ebook/2023/978-4-297-13536-2\n",
      "/dp/ebook/2023/978-4-297-13560-7\n",
      "/dp/ebook/2023/978-4-297-13554-6\n",
      "/dp/ebook/2023/978-4-297-13518-8\n",
      "/dp/ebook/2023/978-4-297-13452-5\n",
      "/dp/ebook/2023/978-4-297-13564-5\n",
      "/dp/ebook/2023/978-4-297-13558-4\n",
      "/dp/ebook/2023/978-4-297-13548-5\n",
      "/dp/ebook/2023/978-4-297-13609-3\n",
      "/dp/ebook/2023/978-4-297-13566-9\n",
      "/dp/ebook/2023/978-4-297-13546-1\n",
      "/dp/ebook/2023/978-4-297-13538-6\n",
      "/dp/ebook/2023/978-4-297-13540-9\n",
      "/dp/ebook/2023/978-4-297-13528-7\n",
      "/dp/ebook/2023/978-4-297-13552-2\n",
      "/dp/ebook/2023/978-4-297-13520-1\n",
      "/dp\n",
      "/dp/my-page\n",
      "/dp/information\n",
      "/dp/help\n"
     ]
    }
   ],
   "source": [
    "#一覧ページからURLを抜き出す\n",
    "#ただしこの状態で抜き出せるURLは相対URLになる\n",
    "#しかも下４つは本と関係のないURL\n",
    "import requests\n",
    "import lxml.html\n",
    "\n",
    "response = requests.get(\"https://gihyo.jp/dp\")\n",
    "root = lxml.html.fromstring(response.content)\n",
    "for a in root.cssselect('a[itemprop=\"url\"]'):\n",
    "    url = a.get(\"href\")\n",
    "    print(url)"
   ]
  },
  {
   "cell_type": "code",
   "execution_count": 41,
   "id": "dd30e355-cf42-4337-89ce-89039848dfa8",
   "metadata": {
    "tags": []
   },
   "outputs": [
    {
     "name": "stdout",
     "output_type": "stream",
     "text": [
      "https://gihyo.jp/dp/ebook/2023/978-4-297-13580-5\n",
      "https://gihyo.jp/dp/ebook/2023/978-4-297-13524-9\n",
      "https://gihyo.jp/dp/ebook/2023/978-4-297-13572-0\n",
      "https://gihyo.jp/dp/ebook/2023/978-4-297-13562-1\n",
      "https://gihyo.jp/dp/ebook/2023/978-4-297-13574-4\n",
      "https://gihyo.jp/dp/ebook/2023/978-4-297-13550-8\n",
      "https://gihyo.jp/dp/ebook/2023/978-4-297-13578-2\n",
      "https://gihyo.jp/dp/ebook/2023/978-4-297-13532-4\n",
      "https://gihyo.jp/dp/ebook/2023/978-4-297-13556-0\n",
      "https://gihyo.jp/dp/ebook/2023/978-4-297-13494-5\n",
      "https://gihyo.jp/dp/ebook/2023/978-4-297-13542-3\n",
      "https://gihyo.jp/dp/ebook/2023/978-4-297-13522-5\n",
      "https://gihyo.jp/dp/ebook/2023/978-4-297-13530-0\n",
      "https://gihyo.jp/dp/ebook/2023/978-4-297-13512-6\n",
      "https://gihyo.jp/dp/ebook/2023/978-4-297-13536-2\n",
      "https://gihyo.jp/dp/ebook/2023/978-4-297-13560-7\n",
      "https://gihyo.jp/dp/ebook/2023/978-4-297-13554-6\n",
      "https://gihyo.jp/dp/ebook/2023/978-4-297-13518-8\n",
      "https://gihyo.jp/dp/ebook/2023/978-4-297-13452-5\n",
      "https://gihyo.jp/dp/ebook/2023/978-4-297-13564-5\n",
      "https://gihyo.jp/dp/ebook/2023/978-4-297-13558-4\n",
      "https://gihyo.jp/dp/ebook/2023/978-4-297-13548-5\n",
      "https://gihyo.jp/dp/ebook/2023/978-4-297-13609-3\n",
      "https://gihyo.jp/dp/ebook/2023/978-4-297-13566-9\n",
      "https://gihyo.jp/dp/ebook/2023/978-4-297-13546-1\n",
      "https://gihyo.jp/dp/ebook/2023/978-4-297-13538-6\n",
      "https://gihyo.jp/dp/ebook/2023/978-4-297-13540-9\n",
      "https://gihyo.jp/dp/ebook/2023/978-4-297-13528-7\n",
      "https://gihyo.jp/dp/ebook/2023/978-4-297-13552-2\n",
      "https://gihyo.jp/dp/ebook/2023/978-4-297-13520-1\n"
     ]
    }
   ],
   "source": [
    "import requests\n",
    "import lxml.html\n",
    "\n",
    "response = requests.get(\"https://gihyo.jp/dp\")\n",
    "root = lxml.html.fromstring(response.content)\n",
    "#root.make_links_absoluteで全てのリンクを絶対パスに変換する\n",
    "#更に本だけのURLを拾っている（影響しているのはlistBook？HTML？）\n",
    "root.make_links_absolute(response.url)\n",
    "for a in root.cssselect('#listBook a[itemprop=\"url\"]'):\n",
    "    url = a.get(\"href\")\n",
    "    print(url)"
   ]
  },
  {
   "cell_type": "code",
   "execution_count": 47,
   "id": "36b790f2-3f77-475b-a1a3-aeadf9dd4e60",
   "metadata": {
    "tags": []
   },
   "outputs": [
    {
     "name": "stdout",
     "output_type": "stream",
     "text": [
      "https://gihyo.jp/dp/ebook/2023/978-4-297-13580-5\n",
      "https://gihyo.jp/dp/ebook/2023/978-4-297-13524-9\n",
      "https://gihyo.jp/dp/ebook/2023/978-4-297-13572-0\n",
      "https://gihyo.jp/dp/ebook/2023/978-4-297-13562-1\n",
      "https://gihyo.jp/dp/ebook/2023/978-4-297-13574-4\n",
      "https://gihyo.jp/dp/ebook/2023/978-4-297-13550-8\n",
      "https://gihyo.jp/dp/ebook/2023/978-4-297-13578-2\n",
      "https://gihyo.jp/dp/ebook/2023/978-4-297-13532-4\n",
      "https://gihyo.jp/dp/ebook/2023/978-4-297-13556-0\n",
      "https://gihyo.jp/dp/ebook/2023/978-4-297-13494-5\n",
      "https://gihyo.jp/dp/ebook/2023/978-4-297-13542-3\n",
      "https://gihyo.jp/dp/ebook/2023/978-4-297-13522-5\n",
      "https://gihyo.jp/dp/ebook/2023/978-4-297-13530-0\n",
      "https://gihyo.jp/dp/ebook/2023/978-4-297-13512-6\n",
      "https://gihyo.jp/dp/ebook/2023/978-4-297-13536-2\n",
      "https://gihyo.jp/dp/ebook/2023/978-4-297-13560-7\n",
      "https://gihyo.jp/dp/ebook/2023/978-4-297-13554-6\n",
      "https://gihyo.jp/dp/ebook/2023/978-4-297-13518-8\n",
      "https://gihyo.jp/dp/ebook/2023/978-4-297-13452-5\n",
      "https://gihyo.jp/dp/ebook/2023/978-4-297-13564-5\n",
      "https://gihyo.jp/dp/ebook/2023/978-4-297-13558-4\n",
      "https://gihyo.jp/dp/ebook/2023/978-4-297-13548-5\n",
      "https://gihyo.jp/dp/ebook/2023/978-4-297-13609-3\n",
      "https://gihyo.jp/dp/ebook/2023/978-4-297-13566-9\n",
      "https://gihyo.jp/dp/ebook/2023/978-4-297-13546-1\n",
      "https://gihyo.jp/dp/ebook/2023/978-4-297-13538-6\n",
      "https://gihyo.jp/dp/ebook/2023/978-4-297-13540-9\n",
      "https://gihyo.jp/dp/ebook/2023/978-4-297-13528-7\n",
      "https://gihyo.jp/dp/ebook/2023/978-4-297-13552-2\n",
      "https://gihyo.jp/dp/ebook/2023/978-4-297-13520-1\n"
     ]
    }
   ],
   "source": [
    "import requests\n",
    "import lxml.html\n",
    "\n",
    "def main():\n",
    "    \"\"\"\n",
    "    クローラーのメイン処理\n",
    "    \"\"\"\n",
    "    response = requests.get(\"https://gihyo.jp/dp\")\n",
    "    urls = scrape_list_page(response)\n",
    "    for url in urls:\n",
    "        print(url)\n",
    "\n",
    "def scrape_list_page(response):\n",
    "    \"\"\"\n",
    "    一覧ページのResponseから詳細ページのURLを抜き出すジェネレーター関数\n",
    "    \"\"\"\n",
    "    root = lxml.html.fromstring(response.content)\n",
    "    root.make_links_absolute(response.url)\n",
    "    for a in root.cssselect('#listBook a[itemprop=\"url\"]'):\n",
    "        url = a.get(\"href\")\n",
    "        yield url\n",
    "\n",
    "if __name__ == '__main__':\n",
    "    main()"
   ]
  },
  {
   "cell_type": "code",
   "execution_count": 52,
   "id": "94fed60f-c6dc-45ce-8c19-74851416e760",
   "metadata": {
    "tags": []
   },
   "outputs": [
    {
     "name": "stdout",
     "output_type": "stream",
     "text": [
      "{'url': 'https://gihyo.jp/dp/ebook/2023/978-4-297-13580-5', 'title': '60分でわかる！電帳法＆経理DX 超入門', 'price': '1,300円', 'content': ['【巻頭】', 'Part1\\u3000何から始めればいい？\\r\\n電子帳簿保存法のポイントを理解しよう', 'Part2\\u3000全事業者が対応必須!\\r\\nPDFの請求書や領収書など電子取引データ保存のルール', 'Part3\\u3000対応する会計ソフトで作成するだけ!\\r\\n帳簿･書類など電子帳簿等保存のルール', 'Part4\\u3000入力期間の制限に注意!\\r\\n紙で授受した請求書・領収書などのスキャナ保存のルール', 'Part5\\u3000電子取引データ保存に基づく\\r\\n電子契約のしくみ＆利用と管理のポイント', 'Part6\\u3000Q&Aでわかる\\r\\n実務の現場で役立つ電帳法の実践アドバイス', '【巻末特典】']}\n"
     ]
    }
   ],
   "source": [
    "import requests\n",
    "import lxml.html\n",
    "\n",
    "def main():\n",
    "    session = requests.Session()\n",
    "    response = session.get(\"https://gihyo.jp/dp\")\n",
    "    urls = scrape_list_page(response)\n",
    "    for url in urls:\n",
    "        response = session.get(url)\n",
    "        ebook = scrape_detail_page(response)\n",
    "        print(ebook)\n",
    "        break\n",
    "\n",
    "def scrape_list_page(response):\n",
    "    root = lxml.html.fromstring(response.content)\n",
    "    root.make_links_absolute(response.url)\n",
    "    for a in root.cssselect('#listBook a[itemprop=\"url\"]'):\n",
    "        url = a.get(\"href\")\n",
    "        yield url\n",
    "\n",
    "def scrape_detail_page(response):\n",
    "    root = lxml.html.fromstring(response.content)\n",
    "    ebook = {\n",
    "        \"url\":response.url,\n",
    "        \"title\":root.cssselect('#bookTitle')[0].text_content(),\n",
    "        \"price\":root.cssselect('.buy')[0].text.strip(),\n",
    "        \"content\":[h3.text_content() for h3 in root.cssselect('#content > h3')],\n",
    "    }\n",
    "    return ebook\n",
    "\n",
    "def normalize_spaces(s):\n",
    "    return re.sub(r'\\s+',' ', s).strip()\n",
    "\n",
    "if __name__ == '__main__':\n",
    "    main()"
   ]
  },
  {
   "cell_type": "code",
   "execution_count": 54,
   "id": "195ad6e2-b89a-4a17-b5a3-8544b8be3b84",
   "metadata": {
    "tags": []
   },
   "outputs": [
    {
     "name": "stdout",
     "output_type": "stream",
     "text": [
      "{'url': 'https://gihyo.jp/dp/ebook/2023/978-4-297-13580-5', 'title': '60分でわかる！電帳法＆経理DX 超入門', 'price': '1,300円', 'content': ['【巻頭】', 'Part1\\u3000何から始めればいい？\\r\\n電子帳簿保存法のポイントを理解しよう', 'Part2\\u3000全事業者が対応必須!\\r\\nPDFの請求書や領収書など電子取引データ保存のルール', 'Part3\\u3000対応する会計ソフトで作成するだけ!\\r\\n帳簿･書類など電子帳簿等保存のルール', 'Part4\\u3000入力期間の制限に注意!\\r\\n紙で授受した請求書・領収書などのスキャナ保存のルール', 'Part5\\u3000電子取引データ保存に基づく\\r\\n電子契約のしくみ＆利用と管理のポイント', 'Part6\\u3000Q&Aでわかる\\r\\n実務の現場で役立つ電帳法の実践アドバイス', '【巻末特典】']}\n",
      "{'url': 'https://gihyo.jp/dp/ebook/2023/978-4-297-13524-9', 'title': '令和05年【下期】基本情報技術者 パーフェクトラーニング過去問題集', 'price': '1,360円', 'content': ['サンプル問題', '対策問題①', '対策問題②', '対策問題③']}\n",
      "{'url': 'https://gihyo.jp/dp/ebook/2023/978-4-297-13572-0', 'title': 'WEB+DB PRESS Vol.135', 'price': '1,628円', 'content': ['特集1\\r\\nパブリックでもオンプレでも！\\r\\nインフラ技術総点検\\r\\nDocker/LXD，Kubernetes，プライベートクラウド', '特集2\\r\\n現場で使えるLaravel 10\\r\\n新機能，チュートリアル，落とし穴への対策', '一般記事', '連載', 'コラム']}\n",
      "{'url': 'https://gihyo.jp/dp/ebook/2023/978-4-297-13562-1', 'title': 'デジタルイラスト 「塗り」の教科書［CLIP STUDIO PAINT PRO/EX/iPad対応］', 'price': '2,360円', 'content': ['講座編', '実践編']}\n",
      "{'url': 'https://gihyo.jp/dp/ebook/2023/978-4-297-13574-4', 'title': 'Kubernetesの知識地図——現場での基礎から本番運用まで', 'price': '2,700円', 'content': ['第1章：Kubernetesの基本', '第2章：Kubernetesにおけるアプリケーションの起動', '第3章：KubernetesにおけるInfrastructure as Code', '第4章：Kubernetesにおけるアプリケーション運用']}\n",
      "{'url': 'https://gihyo.jp/dp/ebook/2023/978-4-297-13550-8', 'title': 'GIMP パーフェクトガイド', 'price': '2,600円', 'content': ['CHAPTER 00\\u3000GIMPの基本', 'CHAPTER 01\\u3000画像の準備', 'CHAPTER 02\\u3000選択範囲の作成', 'CHAPTER 03\\u3000レイヤーの操作', 'CHAPTER 04\\u3000ペイントの操作', 'CHAPTER 05\\u3000テキストの入力', 'CHAPTER 06\\u3000色調補正', 'CHAPTER 07\\u3000変形とレタッチ', 'CHAPTER 08\\u3000フィルター加工', 'CHAPTER 09\\u3000パスの操作', 'CHAPTER 10\\u3000保存と出力']}\n",
      "{'url': 'https://gihyo.jp/dp/ebook/2023/978-4-297-13578-2', 'title': '【改訂第3版】WordPress 仕事の現場でサッと使える！ デザイン教科書［WordPress 6.x対応版］', 'price': '3,000円', 'content': ['CHAPTER 1\\u3000WordPressの準備と基本設定', 'CHAPTER 2\\u3000基本的なテーマを作成する', 'CHAPTER 3\\u3000プラグインを利用する', 'CHAPTER 4\\u3000Webサイトを拡張する', 'CHAPTER 5\\u3000投稿タイプ・フィールド・タクソノミーをカスタマイズする', 'CHAPTER 6\\u3000WordPressのブロックエディター', 'CHAPTER 7\\u3000管理画面をカスタマイズする', 'CHAPTER 8\\u3000高度な機能を活用する', 'CHAPTER 9\\u3000WordPressを効率的に運用する', 'APPENDIX']}\n",
      "{'url': 'https://gihyo.jp/dp/ebook/2023/978-4-297-13532-4', 'title': 'レシート探訪 1枚にみる小さな生活史', 'price': '1,600円', 'content': ['レシートからのぞいた「食卓」', 'レシートから伝わる「家族」', 'レシートから気付いた「好き」', 'レシートで考えた「仕事」', 'レシートからみえた「未来」']}\n",
      "{'url': 'https://gihyo.jp/dp/ebook/2023/978-4-297-13556-0', 'title': 'YouTubeライブ配信大全［OBS Studio対応版］', 'price': '2,200円', 'content': ['序章\\u3000YouTubeライブ配信の活用事例', '第1章\\u3000YouTubeライブ配信の基本を知る', '第2章\\u3000YouTubeライブ配信の準備をする', '第3章\\u3000YouTubeでWebカメラ配信をする', '第4章\\u3000YouTubeでエンコーダ配信をする［基本編］', '第5章\\u3000YouTubeでエンコーダ配信をする［応用編］', '第6章 YouTubeでセミナーを配信する', '第7章\\u3000YouTubeでゲーム実況をする', '第8章\\u3000YouTubeでVTuber配信をする', '付録1\\u3000ライブ配信Q&A', '付録2\\u3000ライブ配信機材カタログ', '付録3\\u3000ライブ配信用語集']}\n",
      "{'url': 'https://gihyo.jp/dp/ebook/2023/978-4-297-13494-5', 'title': 'これならわかる! Googleアナリティクス4 アクセス解析超入門', 'price': '2,000円', 'content': ['Chapter 1\\u3000Googleアナリティクスとアクセス解析', 'Chapter 2\\u3000Googleアナリティクスを導入しよう', 'Chapter 3\\u3000「リアルタイム」でアクセス状況を知ろう', 'Chapter 4\\u3000「ユーザー」で訪問者について知ろう', 'Chapter 5\\u3000「集客」で訪問者の行動を知ろう', 'Chapter 6\\u3000「エンゲージメント」でアクセス状況を知ろう', 'Chapter 7\\u3000「データ探索」でデータを集計しよう', 'Chapter 8\\u3000Googleサーチコンソールを導入しよう', 'Chapter 9\\u3000Webサイトの運用や改善に活用しよう']}\n",
      "{'url': 'https://gihyo.jp/dp/ebook/2023/978-4-297-13542-3', 'title': '図解即戦力ISO27001:2022の規格と審査がこれ1冊でしっかりわかる教科書', 'price': '2,200円', 'content': ['1章\\u3000情報セキュリティマネジメントシステム ISO/IEC 27001 とは', '2章\\u3000情報セキュリティマネジメントシステム（ISMS）適合性評価制度と認証審査', '3章\\u3000情報セキュリティマネジメントシステム（ISMS）に関する用語', '4章\\u30004 組織の状況', '5章\\u30005 リーダーシップ', '6章\\u30006 計画', '7章\\u30007 支援', '8章\\u30008 運用\\u30009 パフォーマンス評価\\u300010 改善', '9章\\u3000附属書A（管理策）情報セキュリティ管理策（5 組織的管理策）', '10章\\u3000附属書A（管理策）情報セキュリティ管理策（6 人的管理策）', '11章\\u3000附属書A（管理策）情報セキュリティ管理策（7 物理的管理策）', '12章\\u3000附属書A（管理策）情報セキュリティ管理策（8 技術的管理策）', '13章\\u3000情報セキュリティマネジメントシステムの構築', '14章\\u3000情報セキュリティマネジメントシステムの運用・認証取得']}\n",
      "{'url': 'https://gihyo.jp/dp/ebook/2023/978-4-297-13522-5', 'title': '令和05年【秋期】応用情報技術者 パーフェクトラーニング過去問題集', 'price': '1,900円', 'content': ['①令和5年度【春期】', '②令和4年度【秋期】', '③令和4年度【春期】', '④令和03年度【秋期】']}\n",
      "{'url': 'https://gihyo.jp/dp/ebook/2023/978-4-297-13530-0', 'title': '図解即戦力金融業界のしくみとビジネスがこれ1冊でしっかりわかる教科書［改訂2版］', 'price': '1,600円', 'content': ['Chapter 1\\u3000金融業界で今起こっていること', 'Chapter 2\\u3000金融業界の基本', 'Chapter 3\\u3000金融機関の種類と役割', 'Chapter 4\\u3000銀行業のしくみ', 'Chapter 5\\u3000証券会社のしくみ', 'Chapter 6\\u3000保険業のしくみ', 'Chapter 7\\u3000投資銀行のしくみ', 'Chapter 8\\u3000ノンバンクのしくみ', 'Chapter 9\\u3000高度化する金融商品']}\n",
      "{'url': 'https://gihyo.jp/dp/ebook/2023/978-4-297-13512-6', 'title': '量子コンピュータの頭の中――計算しながら理解する量子アルゴリズムの世界', 'price': '3,200円', 'content': ['第1章\\u3000量子コンピュータへのいざない', '第2章\\u3000量子コンピュータ入門以前', '第3章\\u3000量子コンピュータの基本ルール', '第4章\\u3000行列で読み解く量子回路の基本', '第5章\\u30002量子ビットに拡張する', '第6章\\u30002量子ビットの量子回路', '第7章\\u3000量子プログラミング入門編', '第8章\\u3000n量子ビットの世界', '第9章\\u3000量子テレポーテーション', '第10章\\u3000量子誤り訂正入門', '第11章\\u3000ドイッチュのアルゴリズム', '第12章\\u3000グローバーのアルゴリズム', '付録 量子プログラミング実機編']}\n",
      "{'url': 'https://gihyo.jp/dp/ebook/2023/978-4-297-13536-2', 'title': 'ほんの一手間でプロっぽくなる Photoshop＆Illustratorデザインの小ワザ', 'price': '2,000円', 'content': ['Chapter 1\\u3000ほんの一手間でプロっぽくなる「色調補正」の小ワザ', 'Chapter 2\\u3000ほんの一手間でプロっぽくなる「人物レタッチ・合成」の小ワザ', 'Chapter 3\\u3000ほんの一手間でプロっぽくなる「商品レタッチ・合成」の小ワザ', 'Chapter 4\\u3000ほんの一手間でプロっぽくなる「文字デザイン」の小ワザ', 'Chapter 5\\u3000ほんの一手間でプロっぽくなる「あしらいデザイン」の小ワザ', '付録\\u3000PhotoshopとIllustratorのきほん']}\n",
      "{'url': 'https://gihyo.jp/dp/ebook/2023/978-4-297-13560-7', 'title': '賃貸不動産経営管理士 テキスト＋問題集', 'price': '2,200円', 'content': ['第1章\\u3000賃貸管理の意義・役割をめぐる社会状況', '第2章\\u3000賃貸住宅管理業登録制度', '第3章\\u3000特定賃貸借契約の適正化のための措置等', '第4章\\u3000管理受託契約', '第5章\\u3000賃貸借契約', '第6章\\u3000金銭の管理', '第7章\\u3000賃貸住宅の維持管理', '第8章\\u3000管理実務の実施', '第9章\\u3000賃貸不動産経営管理士']}\n",
      "{'url': 'https://gihyo.jp/dp/ebook/2023/978-4-297-13554-6', 'title': 'これまでの仕事 これからの仕事～たった1人から現実を変えていくアジャイルという方法', 'price': '1,600円', 'content': ['はじめに\\u3000だれかが変えるのをただ待ち続けるほど，人生は長くない', '第1章\\u3000「数字だけ」から，「こうありたい」へ', '第2章\\u3000目先の効率から，本質的な問いへ', '第3章 \\u3000想定どおりから，未知の可能性へ', '第4章\\u3000アウトプットから，アウトカムへ', '第5章 \\u3000マイクロマネジメントから，自律へ', '第6章\\u30001人の知識から，みんなの知識へ', '第7章\\u3000縄張りから，越境へ', '終章\\u3000思考停止から，行動へ']}\n",
      "{'url': 'https://gihyo.jp/dp/ebook/2023/978-4-297-13518-8', 'title': '令和05年【下半期】 ITパスポート パーフェクトラーニング過去問題集', 'price': '1,180円', 'content': ['巻頭記事', '公開問題＋模擬問題と詳細解説']}\n",
      "{'url': 'https://gihyo.jp/dp/ebook/2023/978-4-297-13452-5', 'title': 'Software Design 2023年7月号', 'price': '1,562円', 'content': ['第1特集\\r\\nAPI実装の大本命\\r\\ngRPCで始めるWeb API開発\\r\\nHTTP/2ベースの効率的なデータ通信を実現しよう', '第2特集\\r\\nいま注目のJavaScriptフレームワーク\\r\\nはじめようSvelte\\r\\n軽量で高速なJamstack開発を体験', '一般記事', '連載']}\n",
      "{'url': 'https://gihyo.jp/dp/ebook/2023/978-4-297-13564-5', 'title': 'Excelでできる 不動産投資「資産管理」のすべて', 'price': '2,400円', 'content': ['序章\\u3000「資産管理」のすべてを紐解く', '1\\u3000「融資の仕組み」編', '2\\u3000「IT活用」編', '3\\u3000「税知識」編', '4\\u3000「試算表作成」編', '5\\u3000「財務資料作成」編', '6\\u3000「Excel データ分析」編']}\n",
      "{'url': 'https://gihyo.jp/dp/ebook/2023/978-4-297-13558-4', 'title': '図解即戦力画像センシングのしくみと開発がこれ1冊でしっかりわかる教科書', 'price': '2,600円', 'content': ['第1章\\u3000画像センシング現場の技術深訪', '第2章\\u3000画像センシングのキホン ～センサーから画像処理まで～', '第3章\\u3000画像処理技術の詳細 ～パターン検出と画像識別～', '第4章\\u3000最先端画像センシング技術', '第5章\\u3000さまざまなタスク', '第6章\\u3000画像センシングを支えるツール & Tips ～ハード，ソフトからデータセットまで～', '【COLUMN】']}\n",
      "{'url': 'https://gihyo.jp/dp/ebook/2023/978-4-297-13548-5', 'title': '今すぐ使えるかんたんPremiere Pro やさしい入門', 'price': '2,680円', 'content': ['Chapter 1\\u3000Premiere Proの基本操作を身に付けよう', 'Chapter 2\\u3000動画素材をカット編集しよう', 'Chapter 3\\u3000トランジションやエフェクトでクリップを演出しよう', 'Chapter 4\\u3000テロップを作成しよう', 'Chapter 5\\u3000音声やBGMを追加／編集しよう', 'Chapter 6\\u3000ステップアップした編集テクニックを利用しよう', 'Chapter 7\\u3000編集した動画を出力しよう', 'Appendix']}\n",
      "{'url': 'https://gihyo.jp/dp/ebook/2023/978-4-297-13609-3', 'title': 'ゼロからはじめるGalaxy S23／S23 Ultra スマートガイド［ドコモ／au対応版］', 'price': '1,580円', 'content': ['Chapter 1\\u3000Galaxy S23/S23 Ultraのキホン', 'Chapter 2\\u3000電話の便利機能，メールやインターネットを利用する', 'Chapter 3\\u3000Google のサービスを利用する', 'Chapter 4\\u3000便利な機能を使ってみる', 'Chapter 5\\u3000独自機能を使いこなす', 'Chapter 6\\u3000S23/S23 Ultraを使いやすく設定する']}\n",
      "{'url': 'https://gihyo.jp/dp/ebook/2023/978-4-297-13566-9', 'title': '人が増えても速くならない～変化を抱擁せよ～', 'price': '1,400円', 'content': ['はじめに', '1章\\u3000完成しても，終わりではない', '2章\\u3000人を増やしても速く作れるわけではない', '3章\\u3000たくさん作っても生産性が高いとは言えない', '4章\\u3000人に依存せず同じ品質で作ることはできない', '5章\\u3000プレッシャーをかけても生産性は上がらない', '6章\\u3000見積もりを求めるほどに絶望感は増す', '7章\\u3000一度に大きく作れば得に見えて損をする', '8章\\u3000工程を分業しても，効率化につながらない', 'おわりに']}\n",
      "{'url': 'https://gihyo.jp/dp/ebook/2023/978-4-297-13546-1', 'title': '今すぐ使えるかんたんPower Automate for desktop 完全ガイドブック', 'price': '2,200円', 'content': ['第1章\\u3000Power Automate for desktopの基本を知ろう', '第2章\\u3000フローを作成・実行してみよう', '第3章\\u3000画面構成を知ろう', '第4章\\u3000フロー作成のための基本を知ろう', '第5章\\u3000Excelへの転記を自動化しよう', '第6章\\u3000Excel文書の作成を自動化しよう', '第7章\\u3000Webの操作を自動化しよう', '第8章\\u3000Outlookのメール操作を自動化しよう']}\n",
      "{'url': 'https://gihyo.jp/dp/ebook/2023/978-4-297-13538-6', 'title': '図解即戦力産休・育休の導入と実務がこれ1冊でしっかりわかる本', 'price': '2,000円', 'content': ['Chapter 1\\u3000産前産後休業・育児休業の基礎知識', 'Chapter 2\\u3000育児休業推進のカギ「男性育休」', 'Chapter 3\\u3000育児・介護休業規程を策定する', 'Chapter 4\\u3000従業員に提出してもらう社内書類を作成する', 'Chapter 5\\u3000産休・育休中の社会保険の手続き', 'Chapter 6\\u3000従業員に制度を説明する', 'Chapter 7\\u3000電子申請と届出状況の確認・訂正手続き']}\n",
      "{'url': 'https://gihyo.jp/dp/ebook/2023/978-4-297-13540-9', 'title': '大きな字でわかりやすいスマートフォン超入門 Android対応版［改訂2版］', 'price': '1,400円', 'content': ['第1章\\u3000Androidスマートフォンの基本を学ぼう', '第2章\\u3000文字の入力をしよう', '第3章\\u3000インターネットとメールを使おう', '第4章\\u3000便利なアプリを活用しよう', '第5章\\u3000ライン（LINE）を楽しもう', '第6章\\u3000覚えておきたい便利技']}\n",
      "{'url': 'https://gihyo.jp/dp/ebook/2023/978-4-297-13528-7', 'title': 'Googleビジネスプロフィール 集客の王道～Googleマップから「来店」を生み出す最強ツール', 'price': '1,800円', 'content': ['第1章\\u3000Googleビジネスプロフィールの基本と活用戦略', '第2章\\u3000店舗情報を効果的に掲載する方法', '第3章\\u3000ライバルに差をつける 「攻め」の運用テクニック', '第4章\\u3000「投稿」機能で活かしたい Webライティング術', '第5章\\u3000お店の印象を良くする クチコミ返信術', '第6章\\u3000集客効果を底上げする 外部施策テクニック', '第7章\\u3000集客効果の分析と管理のテクニック', '第8章\\u3000ここが知りたい！ Q&A']}\n",
      "{'url': 'https://gihyo.jp/dp/ebook/2023/978-4-297-13552-2', 'title': '今すぐ使えるかんたんbizZoom ビジネス活用大全', 'price': '1,680円', 'content': ['第1章\\u3000Zoomの基本の技', '第2章\\u3000Zoomミーティングの技', '第3章\\u3000チャットの技', '第4章\\u3000チャンネル機能の技', '第5章\\u3000外部ツール連携の技', '第6章\\u3000Zoomの有料プラン管理者の技', '第7章\\u3000ウェビナーの技', '第8章\\u3000スマートフォンやタブレットの技']}\n",
      "{'url': 'https://gihyo.jp/dp/ebook/2023/978-4-297-13520-1', 'title': '基本情報技術者【科目B】アルゴリズム×擬似言語 トレーニングブック', 'price': '2,000円', 'content': ['第1章\\u3000変数とデータ構造', '第2章\\u3000擬似言語プログラミング', '第3章\\u3000基本例題', '第4章\\u3000応用例題', '第5章\\u3000サンプル問題']}\n"
     ]
    }
   ],
   "source": [
    "import time\n",
    "import re\n",
    "\n",
    "import requests\n",
    "import lxml.html\n",
    "\n",
    "def main():\n",
    "    session = requests.Session()\n",
    "    response = session.get(\"https://gihyo.jp/dp\")\n",
    "    urls = scrape_list_page(response)\n",
    "    for url in urls:\n",
    "        time.sleep(1)\n",
    "        response = session.get(url)\n",
    "        ebook = scrape_detail_page(response)\n",
    "        print(ebook)\n",
    "\n",
    "if __name__ == '__main__':\n",
    "    main()\n",
    "\n",
    "#ここまででP99まで"
   ]
  },
  {
   "cell_type": "code",
   "execution_count": 59,
   "id": "050b4df4-54d9-48e3-a4ba-60a82df5b6f8",
   "metadata": {
    "tags": []
   },
   "outputs": [
    {
     "name": "stdout",
     "output_type": "stream",
     "text": [
      "Hello, -f!\n"
     ]
    }
   ],
   "source": [
    "#基礎編\n",
    "import sys\n",
    "\n",
    "def greet(name):\n",
    "    print(\"Hello, {0}!\".format(name))\n",
    "\n",
    "if len(sys.argv) > 1:\n",
    "    name = sys.argv[1]\n",
    "    greet(name)\n",
    "else:\n",
    "    greet(\"Guide\")"
   ]
  },
  {
   "cell_type": "code",
   "execution_count": 61,
   "id": "09823282-8811-4095-9308-6e8a76289a6a",
   "metadata": {
    "tags": []
   },
   "outputs": [
    {
     "name": "stdout",
     "output_type": "stream",
     "text": [
      "a is 1\n"
     ]
    }
   ],
   "source": [
    "a = 1\n",
    "if a == 1:\n",
    "    print(\"a is 1\")\n",
    "else:\n",
    "    print(\"a is not 1\")"
   ]
  },
  {
   "cell_type": "code",
   "execution_count": null,
   "id": "da69b66a-9ada-43c9-ad6c-3a9081cf6137",
   "metadata": {},
   "outputs": [],
   "source": []
  }
 ],
 "metadata": {
  "kernelspec": {
   "display_name": "Python 3 (ipykernel)",
   "language": "python",
   "name": "python3"
  },
  "language_info": {
   "codemirror_mode": {
    "name": "ipython",
    "version": 3
   },
   "file_extension": ".py",
   "mimetype": "text/x-python",
   "name": "python",
   "nbconvert_exporter": "python",
   "pygments_lexer": "ipython3",
   "version": "3.11.1"
  }
 },
 "nbformat": 4,
 "nbformat_minor": 5
}
