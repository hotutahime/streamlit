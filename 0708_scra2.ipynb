{
 "cells": [
  {
   "cell_type": "code",
   "execution_count": 1,
   "id": "3741f667-3e0c-4e9f-a789-aba42bf80146",
   "metadata": {
    "tags": []
   },
   "outputs": [],
   "source": [
    "import requests\n",
    "from bs4 import BeautifulSoup"
   ]
  },
  {
   "cell_type": "code",
   "execution_count": 2,
   "id": "4f31bb3c-9c0d-403e-86e9-36c053eb9b89",
   "metadata": {
    "tags": []
   },
   "outputs": [],
   "source": [
    "html = \"\"\"\n",
    "<html>\n",
    "    <head>\n",
    "        <title>清水義孝の著書</title>\n",
    "    </head>\n",
    "    <body>\n",
    "        <p class=\"title\">\n",
    "            <b>清水義孝の最新の著書には、次の本があります。</b>\n",
    "        </p>\n",
    "        <p class=\"recent books\">\n",
    "            <a class=\"book\" href=\"https://www.amazon.co.jp/dp/B07TN4D3HG\" id=\"link1\">Python3によるビジネスに役立つデータ分析入門</a>、\n",
    "            <a class=\"book\" href=\"http://www.amazon.co.jp/dp/B07SRLRS4M\" id=\"link2\">よくわかるPython3入門2.NumPy・Matplotlib編</a>、\n",
    "            <a class=\"book\" href=\"http://www.amazon.co.jp/dp/B07T9SZ96B\" id=\"link3\">よくわかるPython3入門4.Pandasでデータ分析編</a>\n",
    "        </p>\n",
    "        <p class=\"end\">\n",
    "            <b>そして、これらの本は好評発売中です。</b>\n",
    "        </p>\n",
    "    </body>\n",
    "</html>\n",
    "\"\"\""
   ]
  },
  {
   "cell_type": "code",
   "execution_count": 5,
   "id": "e22c2614-a420-4e97-9c71-71597c596cb3",
   "metadata": {
    "tags": []
   },
   "outputs": [],
   "source": [
    "soup = BeautifulSoup(html, \"html.parser\")"
   ]
  },
  {
   "cell_type": "code",
   "execution_count": null,
   "id": "a8d2e481-6640-448e-baf0-97385eee6789",
   "metadata": {},
   "outputs": [],
   "source": [
    "#name引数（Name名で指定する方法）"
   ]
  },
  {
   "cell_type": "code",
   "execution_count": 7,
   "id": "5a6ab7a2-dae4-4fb3-957a-08e1b43edc92",
   "metadata": {
    "tags": []
   },
   "outputs": [
    {
     "data": {
      "text/plain": [
       "[<title>清水義孝の著書</title>]"
      ]
     },
     "execution_count": 7,
     "metadata": {},
     "output_type": "execute_result"
    }
   ],
   "source": [
    "soup.find_all(\"title\")"
   ]
  },
  {
   "cell_type": "code",
   "execution_count": 14,
   "id": "b82d9dd1-1a0b-4145-a121-957a361b963a",
   "metadata": {
    "tags": []
   },
   "outputs": [
    {
     "data": {
      "text/plain": [
       "[<title>清水義孝の著書</title>]"
      ]
     },
     "execution_count": 14,
     "metadata": {},
     "output_type": "execute_result"
    }
   ],
   "source": [
    "#一つのNameを検索する\n",
    "soup.find_all(\"title\")"
   ]
  },
  {
   "cell_type": "code",
   "execution_count": 15,
   "id": "1e76f467-0ba6-433b-8da6-c07aff0aee0d",
   "metadata": {
    "tags": []
   },
   "outputs": [
    {
     "data": {
      "text/plain": [
       "[<b>清水義孝の最新の著書には、次の本があります。</b>,\n",
       " <a class=\"book\" href=\"https://www.amazon.co.jp/dp/B07TN4D3HG\" id=\"link1\">Python3によるビジネスに役立つデータ分析入門</a>,\n",
       " <a class=\"book\" href=\"http://www.amazon.co.jp/dp/B07SRLRS4M\" id=\"link2\">よくわかるPython3入門2.NumPy・Matplotlib編</a>,\n",
       " <a class=\"book\" href=\"http://www.amazon.co.jp/dp/B07T9SZ96B\" id=\"link3\">よくわかるPython3入門4.Pandasでデータ分析編</a>,\n",
       " <b>そして、これらの本は好評発売中です。</b>]"
      ]
     },
     "execution_count": 15,
     "metadata": {},
     "output_type": "execute_result"
    }
   ],
   "source": [
    "#複数Nameを検索する場合はリストにする\n",
    "soup.find_all([\"a\", \"b\"])"
   ]
  },
  {
   "cell_type": "code",
   "execution_count": 16,
   "id": "7f1d3cad-d2bc-41a3-a8b1-1d4680821157",
   "metadata": {
    "tags": []
   },
   "outputs": [],
   "source": [
    "import re"
   ]
  },
  {
   "cell_type": "code",
   "execution_count": 17,
   "id": "27c37642-842e-433b-b8f4-bf871adbef6a",
   "metadata": {
    "tags": []
   },
   "outputs": [
    {
     "data": {
      "text/plain": [
       "[<body>\n",
       " <p class=\"title\">\n",
       " <b>清水義孝の最新の著書には、次の本があります。</b>\n",
       " </p>\n",
       " <p class=\"recent books\">\n",
       " <a class=\"book\" href=\"https://www.amazon.co.jp/dp/B07TN4D3HG\" id=\"link1\">Python3によるビジネスに役立つデータ分析入門</a>、\n",
       "             <a class=\"book\" href=\"http://www.amazon.co.jp/dp/B07SRLRS4M\" id=\"link2\">よくわかるPython3入門2.NumPy・Matplotlib編</a>、\n",
       "             <a class=\"book\" href=\"http://www.amazon.co.jp/dp/B07T9SZ96B\" id=\"link3\">よくわかるPython3入門4.Pandasでデータ分析編</a>\n",
       " </p>\n",
       " <p class=\"end\">\n",
       " <b>そして、これらの本は好評発売中です。</b>\n",
       " </p>\n",
       " </body>,\n",
       " <b>清水義孝の最新の著書には、次の本があります。</b>,\n",
       " <b>そして、これらの本は好評発売中です。</b>]"
      ]
     },
     "execution_count": 17,
     "metadata": {},
     "output_type": "execute_result"
    }
   ],
   "source": [
    "#bという文字が含まれるタグを取得する\n",
    "soup.find_all(re.compile(\"^b\"))"
   ]
  },
  {
   "cell_type": "code",
   "execution_count": 19,
   "id": "bf0bf335-002e-4cfe-97d2-f0d206ddae2c",
   "metadata": {
    "tags": []
   },
   "outputs": [
    {
     "name": "stdout",
     "output_type": "stream",
     "text": [
      "body\n",
      "b\n",
      "b\n"
     ]
    }
   ],
   "source": [
    "for tag in soup.find_all(re.compile(\"^b\")):\n",
    "    print(tag.name)"
   ]
  },
  {
   "cell_type": "code",
   "execution_count": 20,
   "id": "a49f99e4-39d8-45a1-b1ab-bb31e868ad4c",
   "metadata": {
    "tags": []
   },
   "outputs": [
    {
     "name": "stdout",
     "output_type": "stream",
     "text": [
      "<body>\n",
      "<p class=\"title\">\n",
      "<b>清水義孝の最新の著書には、次の本があります。</b>\n",
      "</p>\n",
      "<p class=\"recent books\">\n",
      "<a class=\"book\" href=\"https://www.amazon.co.jp/dp/B07TN4D3HG\" id=\"link1\">Python3によるビジネスに役立つデータ分析入門</a>、\n",
      "            <a class=\"book\" href=\"http://www.amazon.co.jp/dp/B07SRLRS4M\" id=\"link2\">よくわかるPython3入門2.NumPy・Matplotlib編</a>、\n",
      "            <a class=\"book\" href=\"http://www.amazon.co.jp/dp/B07T9SZ96B\" id=\"link3\">よくわかるPython3入門4.Pandasでデータ分析編</a>\n",
      "</p>\n",
      "<p class=\"end\">\n",
      "<b>そして、これらの本は好評発売中です。</b>\n",
      "</p>\n",
      "</body>\n",
      "<b>清水義孝の最新の著書には、次の本があります。</b>\n",
      "<b>そして、これらの本は好評発売中です。</b>\n"
     ]
    }
   ],
   "source": [
    "for tag in soup.find_all(re.compile(\"^b\")):\n",
    "    print(tag)"
   ]
  },
  {
   "cell_type": "code",
   "execution_count": 21,
   "id": "4036f08e-7c54-4816-af27-9e010074cb51",
   "metadata": {
    "tags": []
   },
   "outputs": [
    {
     "data": {
      "text/plain": [
       "[<p class=\"title\">\n",
       " <b>清水義孝の最新の著書には、次の本があります。</b>\n",
       " </p>,\n",
       " <b>清水義孝の最新の著書には、次の本があります。</b>,\n",
       " <p class=\"recent books\">\n",
       " <a class=\"book\" href=\"https://www.amazon.co.jp/dp/B07TN4D3HG\" id=\"link1\">Python3によるビジネスに役立つデータ分析入門</a>、\n",
       "             <a class=\"book\" href=\"http://www.amazon.co.jp/dp/B07SRLRS4M\" id=\"link2\">よくわかるPython3入門2.NumPy・Matplotlib編</a>、\n",
       "             <a class=\"book\" href=\"http://www.amazon.co.jp/dp/B07T9SZ96B\" id=\"link3\">よくわかるPython3入門4.Pandasでデータ分析編</a>\n",
       " </p>,\n",
       " <a class=\"book\" href=\"https://www.amazon.co.jp/dp/B07TN4D3HG\" id=\"link1\">Python3によるビジネスに役立つデータ分析入門</a>,\n",
       " <a class=\"book\" href=\"http://www.amazon.co.jp/dp/B07SRLRS4M\" id=\"link2\">よくわかるPython3入門2.NumPy・Matplotlib編</a>,\n",
       " <a class=\"book\" href=\"http://www.amazon.co.jp/dp/B07T9SZ96B\" id=\"link3\">よくわかるPython3入門4.Pandasでデータ分析編</a>,\n",
       " <p class=\"end\">\n",
       " <b>そして、これらの本は好評発売中です。</b>\n",
       " </p>,\n",
       " <b>そして、これらの本は好評発売中です。</b>]"
      ]
     },
     "execution_count": 21,
     "metadata": {},
     "output_type": "execute_result"
    }
   ],
   "source": [
    "#body下にある全てのタグを取得する\n",
    "soup.body.find_all(True)"
   ]
  },
  {
   "cell_type": "code",
   "execution_count": 22,
   "id": "50abd8f8-1653-4079-9867-c22e1c692a38",
   "metadata": {
    "tags": []
   },
   "outputs": [
    {
     "name": "stdout",
     "output_type": "stream",
     "text": [
      "p\n",
      "b\n",
      "p\n",
      "a\n",
      "a\n",
      "a\n",
      "p\n",
      "b\n"
     ]
    }
   ],
   "source": [
    "for tag in soup.body.find_all(True):\n",
    "    print(tag.name)"
   ]
  },
  {
   "cell_type": "code",
   "execution_count": 23,
   "id": "4c71ec3b-c953-442e-92e3-d9f02e7cd52f",
   "metadata": {
    "tags": []
   },
   "outputs": [],
   "source": [
    "#classと持っていて、かつidを持っていない要素\n",
    "def has_class_but_no_id(tag):\n",
    "    return tag.has_attr(\"class\") and not tag.has_attr(\"id\")"
   ]
  },
  {
   "cell_type": "code",
   "execution_count": 24,
   "id": "573bdb7a-ea30-47f1-8664-5146ed44de36",
   "metadata": {
    "tags": []
   },
   "outputs": [
    {
     "data": {
      "text/plain": [
       "[<p class=\"title\">\n",
       " <b>清水義孝の最新の著書には、次の本があります。</b>\n",
       " </p>,\n",
       " <p class=\"recent books\">\n",
       " <a class=\"book\" href=\"https://www.amazon.co.jp/dp/B07TN4D3HG\" id=\"link1\">Python3によるビジネスに役立つデータ分析入門</a>、\n",
       "             <a class=\"book\" href=\"http://www.amazon.co.jp/dp/B07SRLRS4M\" id=\"link2\">よくわかるPython3入門2.NumPy・Matplotlib編</a>、\n",
       "             <a class=\"book\" href=\"http://www.amazon.co.jp/dp/B07T9SZ96B\" id=\"link3\">よくわかるPython3入門4.Pandasでデータ分析編</a>\n",
       " </p>,\n",
       " <p class=\"end\">\n",
       " <b>そして、これらの本は好評発売中です。</b>\n",
       " </p>]"
      ]
     },
     "execution_count": 24,
     "metadata": {},
     "output_type": "execute_result"
    }
   ],
   "source": [
    "soup.find_all(has_class_but_no_id)"
   ]
  },
  {
   "cell_type": "code",
   "execution_count": 25,
   "id": "0098027c-54ea-4058-b161-42cf8c55d1b1",
   "metadata": {
    "tags": []
   },
   "outputs": [],
   "source": [
    "#ここからキーワード引数（属性値＝属性名で指定する方法）"
   ]
  },
  {
   "cell_type": "code",
   "execution_count": 26,
   "id": "cc9ad7e2-c28c-4b9c-b022-d4270e707ed0",
   "metadata": {
    "tags": []
   },
   "outputs": [
    {
     "data": {
      "text/plain": [
       "[<a class=\"book\" href=\"http://www.amazon.co.jp/dp/B07SRLRS4M\" id=\"link2\">よくわかるPython3入門2.NumPy・Matplotlib編</a>]"
      ]
     },
     "execution_count": 26,
     "metadata": {},
     "output_type": "execute_result"
    }
   ],
   "source": [
    "#id=link2の情報を取得する\n",
    "soup.find_all(id=\"link2\")"
   ]
  },
  {
   "cell_type": "code",
   "execution_count": 27,
   "id": "0d90687a-b95a-47c1-ae57-e4c4fc2fe5ad",
   "metadata": {
    "tags": []
   },
   "outputs": [
    {
     "data": {
      "text/plain": [
       "[<a class=\"book\" href=\"http://www.amazon.co.jp/dp/B07SRLRS4M\" id=\"link2\">よくわかるPython3入門2.NumPy・Matplotlib編</a>,\n",
       " <a class=\"book\" href=\"http://www.amazon.co.jp/dp/B07T9SZ96B\" id=\"link3\">よくわかるPython3入門4.Pandasでデータ分析編</a>]"
      ]
     },
     "execution_count": 27,
     "metadata": {},
     "output_type": "execute_result"
    }
   ],
   "source": [
    "#href属性に、http://が含まれる情報を取得する\n",
    "soup.find_all(href=re.compile(\"http://\"))"
   ]
  },
  {
   "cell_type": "code",
   "execution_count": 29,
   "id": "e3466dc7-6f7e-47ab-9cda-3c458ece653d",
   "metadata": {
    "tags": []
   },
   "outputs": [
    {
     "data": {
      "text/plain": [
       "[<a class=\"book\" href=\"https://www.amazon.co.jp/dp/B07TN4D3HG\" id=\"link1\">Python3によるビジネスに役立つデータ分析入門</a>,\n",
       " <a class=\"book\" href=\"http://www.amazon.co.jp/dp/B07SRLRS4M\" id=\"link2\">よくわかるPython3入門2.NumPy・Matplotlib編</a>,\n",
       " <a class=\"book\" href=\"http://www.amazon.co.jp/dp/B07T9SZ96B\" id=\"link3\">よくわかるPython3入門4.Pandasでデータ分析編</a>]"
      ]
     },
     "execution_count": 29,
     "metadata": {},
     "output_type": "execute_result"
    }
   ],
   "source": [
    "#id属性に何かしらの値が入っている情報を全て取得する\n",
    "soup.find_all(id=True)"
   ]
  },
  {
   "cell_type": "code",
   "execution_count": 30,
   "id": "492a25ea-4a94-4700-bf4e-7e47d197860f",
   "metadata": {
    "tags": []
   },
   "outputs": [
    {
     "data": {
      "text/plain": [
       "[<a class=\"book\" href=\"https://www.amazon.co.jp/dp/B07TN4D3HG\" id=\"link1\">Python3によるビジネスに役立つデータ分析入門</a>,\n",
       " <a class=\"book\" href=\"http://www.amazon.co.jp/dp/B07SRLRS4M\" id=\"link2\">よくわかるPython3入門2.NumPy・Matplotlib編</a>,\n",
       " <a class=\"book\" href=\"http://www.amazon.co.jp/dp/B07T9SZ96B\" id=\"link3\">よくわかるPython3入門4.Pandasでデータ分析編</a>]"
      ]
     },
     "execution_count": 30,
     "metadata": {},
     "output_type": "execute_result"
    }
   ],
   "source": [
    "#classにbookが入っている情報を取得する\n",
    "soup.find_all(class_=\"book\")"
   ]
  },
  {
   "cell_type": "code",
   "execution_count": 33,
   "id": "362ec78d-a8d9-49a4-a294-0b8d1fd3c622",
   "metadata": {
    "tags": []
   },
   "outputs": [
    {
     "data": {
      "text/plain": [
       "[<a class=\"book\" href=\"http://www.amazon.co.jp/dp/B07T9SZ96B\" id=\"link3\">よくわかるPython3入門4.Pandasでデータ分析編</a>]"
      ]
     },
     "execution_count": 33,
     "metadata": {},
     "output_type": "execute_result"
    }
   ],
   "source": [
    "#class属性に　bookがあり、かつidにlink3を持つ情報を取得する\n",
    "soup.find_all(class_=\"book\", id=\"link3\")"
   ]
  },
  {
   "cell_type": "code",
   "execution_count": 34,
   "id": "eff81028-a8fb-4ccb-9ab1-d4af5d144637",
   "metadata": {
    "tags": []
   },
   "outputs": [],
   "source": [
    "#ここからattr（タグの属性を辞書で渡して取得する）"
   ]
  },
  {
   "cell_type": "code",
   "execution_count": 35,
   "id": "3a175a80-630e-4e43-b12e-d50293276fa4",
   "metadata": {
    "tags": []
   },
   "outputs": [
    {
     "data": {
      "text/plain": [
       "[<a class=\"book\" href=\"http://www.amazon.co.jp/dp/B07SRLRS4M\" id=\"link2\">よくわかるPython3入門2.NumPy・Matplotlib編</a>]"
      ]
     },
     "execution_count": 35,
     "metadata": {},
     "output_type": "execute_result"
    }
   ],
   "source": [
    "#idにlink2を持つ情報を取得する\n",
    "soup.find_all(attrs={\"id\":\"link2\"})"
   ]
  },
  {
   "cell_type": "code",
   "execution_count": 37,
   "id": "19024ff4-3cc9-405a-8d52-f8080c947db6",
   "metadata": {
    "tags": []
   },
   "outputs": [
    {
     "data": {
      "text/plain": [
       "[<a class=\"book\" href=\"https://www.amazon.co.jp/dp/B07TN4D3HG\" id=\"link1\">Python3によるビジネスに役立つデータ分析入門</a>,\n",
       " <a class=\"book\" href=\"http://www.amazon.co.jp/dp/B07SRLRS4M\" id=\"link2\">よくわかるPython3入門2.NumPy・Matplotlib編</a>,\n",
       " <a class=\"book\" href=\"http://www.amazon.co.jp/dp/B07T9SZ96B\" id=\"link3\">よくわかるPython3入門4.Pandasでデータ分析編</a>]"
      ]
     },
     "execution_count": 37,
     "metadata": {},
     "output_type": "execute_result"
    }
   ],
   "source": [
    "#classにbookを持つ情報を取得する（この場合classの_は不要）\n",
    "soup.find_all(attrs={\"class\":\"book\"})"
   ]
  },
  {
   "cell_type": "code",
   "execution_count": 38,
   "id": "f4207251-a349-4cf1-abc3-684a76be1129",
   "metadata": {
    "tags": []
   },
   "outputs": [
    {
     "data": {
      "text/plain": [
       "[<a class=\"book\" href=\"http://www.amazon.co.jp/dp/B07SRLRS4M\" id=\"link2\">よくわかるPython3入門2.NumPy・Matplotlib編</a>]"
      ]
     },
     "execution_count": 38,
     "metadata": {},
     "output_type": "execute_result"
    }
   ],
   "source": [
    "#classがbookで、idがlink2の情報を取得する\n",
    "soup.find_all(attrs={\"class\":\"book\", \"id\":\"link2\"})"
   ]
  },
  {
   "cell_type": "code",
   "execution_count": 50,
   "id": "3a1734cc-eceb-40aa-837f-cd82be3ad851",
   "metadata": {
    "tags": []
   },
   "outputs": [
    {
     "name": "stderr",
     "output_type": "stream",
     "text": [
      "/var/folders/m6/pc3bdj354kvdpy2d0y10p3k40000gn/T/ipykernel_7568/2813851393.py:1: DeprecationWarning: The 'text' argument to find()-type methods is deprecated. Use 'string' instead.\n",
      "  res = soup.find_all(text=\"清水義孝の著書\")\n"
     ]
    },
    {
     "data": {
      "text/plain": [
       "['清水義孝の著書']"
      ]
     },
     "execution_count": 50,
     "metadata": {},
     "output_type": "execute_result"
    }
   ],
   "source": [
    "#文字の完全一致で検索する\n",
    "res = soup.find_all(text=\"清水義孝の著書\")\n",
    "res"
   ]
  },
  {
   "cell_type": "code",
   "execution_count": 52,
   "id": "b40d9ce4-b812-417d-b3e3-461fa8897d04",
   "metadata": {
    "tags": []
   },
   "outputs": [
    {
     "name": "stderr",
     "output_type": "stream",
     "text": [
      "/var/folders/m6/pc3bdj354kvdpy2d0y10p3k40000gn/T/ipykernel_7568/3211899436.py:1: DeprecationWarning: The 'text' argument to find()-type methods is deprecated. Use 'string' instead.\n",
      "  soup.find_all(text=re.compile(\"ython3\"))\n"
     ]
    },
    {
     "data": {
      "text/plain": [
       "['Python3によるビジネスに役立つデータ分析入門',\n",
       " 'よくわかるPython3入門2.NumPy・Matplotlib編',\n",
       " 'よくわかるPython3入門4.Pandasでデータ分析編']"
      ]
     },
     "execution_count": 52,
     "metadata": {},
     "output_type": "execute_result"
    }
   ],
   "source": [
    "#文字を部分一致（含まれる）で検索する\n",
    "soup.find_all(text=re.compile(\"ython3\"))"
   ]
  },
  {
   "cell_type": "code",
   "execution_count": 53,
   "id": "de402233-8ec9-43b6-8025-17be518f5fed",
   "metadata": {
    "tags": []
   },
   "outputs": [
    {
     "name": "stderr",
     "output_type": "stream",
     "text": [
      "/var/folders/m6/pc3bdj354kvdpy2d0y10p3k40000gn/T/ipykernel_7568/3178149899.py:1: DeprecationWarning: The 'text' argument to find()-type methods is deprecated. Use 'string' instead.\n",
      "  soup.find_all(text=re.compile(\"清水\"))\n"
     ]
    },
    {
     "data": {
      "text/plain": [
       "['清水義孝の著書', '清水義孝の最新の著書には、次の本があります。']"
      ]
     },
     "execution_count": 53,
     "metadata": {},
     "output_type": "execute_result"
    }
   ],
   "source": [
    "#これも部分一致で上記と同じ\n",
    "soup.find_all(text=re.compile(\"清水\"))"
   ]
  },
  {
   "cell_type": "code",
   "execution_count": null,
   "id": "d19f4f78-83ac-41e5-af92-ef7f0086e544",
   "metadata": {},
   "outputs": [],
   "source": []
  }
 ],
 "metadata": {
  "kernelspec": {
   "display_name": "Python 3 (ipykernel)",
   "language": "python",
   "name": "python3"
  },
  "language_info": {
   "codemirror_mode": {
    "name": "ipython",
    "version": 3
   },
   "file_extension": ".py",
   "mimetype": "text/x-python",
   "name": "python",
   "nbconvert_exporter": "python",
   "pygments_lexer": "ipython3",
   "version": "3.11.1"
  }
 },
 "nbformat": 4,
 "nbformat_minor": 5
}
