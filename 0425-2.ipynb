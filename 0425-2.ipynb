{
 "cells": [
  {
   "cell_type": "code",
   "execution_count": 34,
   "id": "6104a61c-615a-4f29-b068-da77a002a014",
   "metadata": {
    "tags": []
   },
   "outputs": [],
   "source": [
    "import pytesseract"
   ]
  },
  {
   "cell_type": "code",
   "execution_count": 35,
   "id": "e8a619c8-d67a-488e-b212-919ef31e1bb6",
   "metadata": {
    "tags": []
   },
   "outputs": [],
   "source": [
    "from PIL import Image"
   ]
  },
  {
   "cell_type": "code",
   "execution_count": 39,
   "id": "531e3ade-4053-4114-9f14-525e5ec3a236",
   "metadata": {
    "tags": []
   },
   "outputs": [],
   "source": [
    "str_img = Image.open(\"/Users/kato/Downloads/https___cdn.qiita.com_assets_public_article-ogp-background-9f5428127621718a910c8b63951390ad.png\")"
   ]
  },
  {
   "cell_type": "code",
   "execution_count": 40,
   "id": "125c99c4-1c5b-4425-9630-55b9ca2bf805",
   "metadata": {
    "tags": []
   },
   "outputs": [],
   "source": [
    "str = pytesseract.image_to_string(str_img, lang=\"jpn\")"
   ]
  },
  {
   "cell_type": "code",
   "execution_count": 41,
   "id": "258eed1c-1d2b-441e-9937-4a9568d857e0",
   "metadata": {
    "tags": []
   },
   "outputs": [
    {
     "name": "stdout",
     "output_type": "stream",
     "text": [
      "【Pyocr+TesseractOCR】 競 馬\n",
      "新聞 の 活字 化 : 精度 向上 且\n",
      "\n",
      "@MuAuan 1Qiital\n",
      "\n"
     ]
    }
   ],
   "source": [
    "print(str)"
   ]
  },
  {
   "cell_type": "code",
   "execution_count": 20,
   "id": "6c583598-c4a7-42a4-b2b5-e26b5a0d82dd",
   "metadata": {
    "tags": []
   },
   "outputs": [
    {
     "data": {
      "text/plain": [
       "['eng', 'jpn', 'jpn_vert', 'osd', 'snum']"
      ]
     },
     "execution_count": 20,
     "metadata": {},
     "output_type": "execute_result"
    }
   ],
   "source": [
    "pytesseract.get_languages()"
   ]
  },
  {
   "cell_type": "code",
   "execution_count": null,
   "id": "976e84a5-b65f-4851-82ff-ccd48f077a6f",
   "metadata": {},
   "outputs": [],
   "source": []
  }
 ],
 "metadata": {
  "kernelspec": {
   "display_name": "Python 3 (ipykernel)",
   "language": "python",
   "name": "python3"
  },
  "language_info": {
   "codemirror_mode": {
    "name": "ipython",
    "version": 3
   },
   "file_extension": ".py",
   "mimetype": "text/x-python",
   "name": "python",
   "nbconvert_exporter": "python",
   "pygments_lexer": "ipython3",
   "version": "3.11.1"
  }
 },
 "nbformat": 4,
 "nbformat_minor": 5
}
