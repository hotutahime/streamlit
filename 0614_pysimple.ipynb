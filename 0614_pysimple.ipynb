{
 "cells": [
  {
   "cell_type": "code",
   "execution_count": null,
   "id": "98389c95-0e7c-426b-af02-33bfb07185df",
   "metadata": {},
   "outputs": [],
   "source": [
    "import PySimpleGUI as sg\n",
    "\n",
    "layout = [\n",
    "    [sg.Text(\"インチをセンチメートルに変換します。\")],\n",
    "    [sg.Text(\"インチ\") , sg.InputText(key=\"inch\")],\n",
    "    [sg.Button(\"変換\")],\n",
    "    [sg.Text(\"---\" , key=\"info\" , size=(40,1))]\n",
    "]\n",
    "\n",
    "win =sg.Window(\"インチ→センチ変換\" , layout)\n",
    "\n",
    "while True:\n",
    "    event , val = win.read()\n",
    "    if event in (\"Exit\" , \"Quit\" , None): break\n",
    "    if event == \"変換\":\n",
    "        inch = float(val[\"inch\"])\n",
    "        cm = inch * 2.54\n",
    "        s = \"{0}inch = {1}cm\".format(inch , cm)\n",
    "        win[\"info\"].update(s)\n",
    "\n",
    "win.close()"
   ]
  }
 ],
 "metadata": {
  "kernelspec": {
   "display_name": "Python 3 (ipykernel)",
   "language": "python",
   "name": "python3"
  },
  "language_info": {
   "codemirror_mode": {
    "name": "ipython",
    "version": 3
   },
   "file_extension": ".py",
   "mimetype": "text/x-python",
   "name": "python",
   "nbconvert_exporter": "python",
   "pygments_lexer": "ipython3",
   "version": "3.8.16"
  }
 },
 "nbformat": 4,
 "nbformat_minor": 5
}
