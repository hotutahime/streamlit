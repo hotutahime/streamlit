{
 "cells": [
  {
   "cell_type": "code",
   "execution_count": 7,
   "id": "1596a008-b03e-485c-b4b9-73c65a0431f1",
   "metadata": {
    "tags": []
   },
   "outputs": [],
   "source": [
    "import requests\n",
    "from bs4 import BeautifulSoup\n",
    "import time\n",
    "import re"
   ]
  },
  {
   "cell_type": "code",
   "execution_count": 8,
   "id": "cf6715bf-c192-4106-b13c-da74e59765e9",
   "metadata": {
    "tags": []
   },
   "outputs": [],
   "source": [
    "url = \"https://www.yahoo.co.jp/\""
   ]
  },
  {
   "cell_type": "code",
   "execution_count": 9,
   "id": "829bd701-77f5-4d00-9cbb-df0cbbef28d4",
   "metadata": {
    "tags": []
   },
   "outputs": [],
   "source": [
    "res = requests.get(url)"
   ]
  },
  {
   "cell_type": "code",
   "execution_count": 10,
   "id": "3a0534f3-2acb-4b63-8eb3-673890be1f9a",
   "metadata": {
    "tags": []
   },
   "outputs": [],
   "source": [
    "soup = BeautifulSoup(res.text, \"html.parser\")"
   ]
  },
  {
   "cell_type": "code",
   "execution_count": 11,
   "id": "6e8191bd-0465-4a3c-88b7-89cfe7273c39",
   "metadata": {
    "tags": []
   },
   "outputs": [],
   "source": [
    "elems = soup.find_all(\"a\")"
   ]
  },
  {
   "cell_type": "code",
   "execution_count": 12,
   "id": "72aaaab5-3660-4e20-b733-3310c19da2b9",
   "metadata": {
    "collapsed": true,
    "jupyter": {
     "outputs_hidden": true
    },
    "tags": []
   },
   "outputs": [
    {
     "data": {
      "text/plain": [
       "[<a class=\"yMWCYupQNdgppL-NV6sMi _3sAlKGsIBCxTUbNi86oSjt\" data-cl-params=\"_cl_vmodule:header;_cl_link:logo;_cl_position:0\" href=\"https://www.yahoo.co.jp\">Yahoo! JAPAN</a>,\n",
       " <a aria-label=\"プレミアムへ遷移する\" class=\"yMWCYupQNdgppL-NV6sMi _3sAlKGsIBCxTUbNi86oSjt\" data-cl-params=\"_cl_vmodule:header;_cl_link:premium;_cl_position:0\" href=\"https://rdr.yahoo.co.jp/v1/label=L3ByZW1pdW0veXRvcC9pY29uLw/p=premium_datalake/d=premium_redirect/tk=8d38b1c7-f7b7-4450-9332-535e226244ff/ru=aHR0cHM6Ly9wcmVtaXVtLnlhaG9vLmNvLmpwLw/\"><p class=\"oLvk9L5Yk-9JOuzi-OHW5\"><span class=\"t_jb9bKlgIcajcRS2hZAP\">プレミアム</span><span class=\"_2Uq6Pw5lfFfxr_OD36xHp6 _1dr5aVDbNPF63JCS2bJhij Y8gFtzzcdGMdFngRO9qFV\" style=\"width:36px;height:36px\"></span></p></a>,\n",
       " <a aria-label=\"カードへ遷移する\" class=\"yMWCYupQNdgppL-NV6sMi _3sAlKGsIBCxTUbNi86oSjt\" data-cl-params=\"_cl_vmodule:header;_cl_link:paypaycard;_cl_position:0\" href=\"https://www.paypay-card.co.jp?utm_source=YTOP&amp;utm_medium=mhd&amp;utm_campaign=pc\"><p class=\"oLvk9L5Yk-9JOuzi-OHW5\"><span class=\"t_jb9bKlgIcajcRS2hZAP\">カード</span><span class=\"_2Uq6Pw5lfFfxr_OD36xHp6 _1dr5aVDbNPF63JCS2bJhij P1WzQfoRll3q8GIGneUYg\" style=\"width:36px;height:38px\"></span></p></a>,\n",
       " <a aria-label=\"メールへ遷移する\" class=\"yMWCYupQNdgppL-NV6sMi _3sAlKGsIBCxTUbNi86oSjt\" data-cl-params=\"_cl_vmodule:header;_cl_link:mail;_cl_position:0\" href=\"https://mail.yahoo.co.jp/\"><p class=\"oLvk9L5Yk-9JOuzi-OHW5\"><span class=\"t_jb9bKlgIcajcRS2hZAP\">メール</span><span class=\"_2Uq6Pw5lfFfxr_OD36xHp6 _1dr5aVDbNPF63JCS2bJhij _3Qi5P0lTFbNkWishPzz8tb\" style=\"width:36px;height:38px\"></span></p></a>,\n",
       " <a aria-label=\"トラベルへ遷移する\" class=\"yMWCYupQNdgppL-NV6sMi _3sAlKGsIBCxTUbNi86oSjt\" data-cl-params=\"_cl_vmodule:header;_cl_link:travel;_cl_position:0\" href=\"https://travel.yahoo.co.jp/ikCo.ashx?cosid=y_010017&amp;cosuid=ytmh&amp;surl=%2F&amp;sc_e=ytmh\"><p class=\"oLvk9L5Yk-9JOuzi-OHW5\"><span class=\"t_jb9bKlgIcajcRS2hZAP\">トラベル</span><span class=\"_2Uq6Pw5lfFfxr_OD36xHp6 _1dr5aVDbNPF63JCS2bJhij _1yEKxUFSw-Xv2gaBZsYRuI\" style=\"width:38px;height:38px\"></span></p></a>,\n",
       " <a aria-label=\"ヤフオク!へ遷移する\" class=\"yMWCYupQNdgppL-NV6sMi _3sAlKGsIBCxTUbNi86oSjt\" data-cl-params=\"_cl_vmodule:header;_cl_link:auction;_cl_position:0\" href=\"https://auctions.yahoo.co.jp/\"><p class=\"oLvk9L5Yk-9JOuzi-OHW5\"><span class=\"t_jb9bKlgIcajcRS2hZAP\">ヤフオク!</span><span class=\"_2Uq6Pw5lfFfxr_OD36xHp6 _1dr5aVDbNPF63JCS2bJhij _1K47f2oTmrnpusFOpVVqfY\" style=\"width:38px;height:38px\"></span></p></a>,\n",
       " <a aria-label=\"ショッピングへ遷移する\" class=\"yMWCYupQNdgppL-NV6sMi _3sAlKGsIBCxTUbNi86oSjt\" data-cl-params=\"_cl_vmodule:header;_cl_link:shopping;_cl_position:0\" href=\"https://shopping.yahoo.co.jp/?sc_e=ytmh\"><p class=\"oLvk9L5Yk-9JOuzi-OHW5\"><span class=\"t_jb9bKlgIcajcRS2hZAP\">ショッピング</span><span class=\"_2Uq6Pw5lfFfxr_OD36xHp6 _1dr5aVDbNPF63JCS2bJhij MOLSPrtOUmdnYy_LgNt2f\" style=\"width:38px;height:38px\"></span></p></a>,\n",
       " <a aria-label=\"ウェブで検索\" class=\"y9H1Sj9hz4OlEq2_aEt5E\" data-cl-params=\"_cl_vmodule:search;_cl_link:web_tab;_cl_position:0\" href=\"https://search.yahoo.co.jp/\" tabindex=\"-1\"><span class=\"fQMqQTGJTbIMxjQwZA2zk _3tGRl6x9iIWRiFTkKl3kcR\"><span class=\"_1uQvvM7M_K0hc4e29lRa8 _2B_ETzo6nh1JNMLebSi_2p\">ウェブ</span></span></a>,\n",
       " <a aria-label=\"画像で検索\" class=\"y9H1Sj9hz4OlEq2_aEt5E\" data-cl-params=\"_cl_vmodule:search;_cl_link:img;_cl_position:0\" href=\"https://search.yahoo.co.jp/image\" tabindex=\"-1\"><span class=\"fQMqQTGJTbIMxjQwZA2zk _3tGRl6x9iIWRiFTkKl3kcR\"><span class=\"_1uQvvM7M_K0hc4e29lRa8\">画像</span></span></a>,\n",
       " <a aria-label=\"動画で検索\" class=\"y9H1Sj9hz4OlEq2_aEt5E\" data-cl-params=\"_cl_vmodule:search;_cl_link:vd;_cl_position:0\" href=\"https://search.yahoo.co.jp/video\" tabindex=\"-1\"><span class=\"fQMqQTGJTbIMxjQwZA2zk _3tGRl6x9iIWRiFTkKl3kcR\"><span class=\"_1uQvvM7M_K0hc4e29lRa8\">動画</span></span></a>,\n",
       " <a aria-label=\"知恵袋で検索\" class=\"y9H1Sj9hz4OlEq2_aEt5E\" data-cl-params=\"_cl_vmodule:search;_cl_link:chie;_cl_position:0\" href=\"https://chiebukuro.yahoo.co.jp/\" tabindex=\"-1\"><span class=\"fQMqQTGJTbIMxjQwZA2zk _3tGRl6x9iIWRiFTkKl3kcR\"><span class=\"_1uQvvM7M_K0hc4e29lRa8\">知恵袋</span></span></a>,\n",
       " <a aria-label=\"地図で検索\" class=\"y9H1Sj9hz4OlEq2_aEt5E\" data-cl-params=\"_cl_vmodule:search;_cl_link:map;_cl_position:0\" href=\"https://map.yahoo.co.jp/\" tabindex=\"-1\"><span class=\"fQMqQTGJTbIMxjQwZA2zk _3tGRl6x9iIWRiFTkKl3kcR\"><span class=\"_1uQvvM7M_K0hc4e29lRa8\">地図</span></span></a>,\n",
       " <a aria-label=\"リアルタイムで検索\" class=\"y9H1Sj9hz4OlEq2_aEt5E\" data-cl-params=\"_cl_vmodule:search;_cl_link:realtime;_cl_position:0\" href=\"https://search.yahoo.co.jp/realtime\" tabindex=\"-1\"><span class=\"fQMqQTGJTbIMxjQwZA2zk _3tGRl6x9iIWRiFTkKl3kcR\"><span class=\"_1uQvvM7M_K0hc4e29lRa8\">リアルタイム</span></span></a>,\n",
       " <a aria-label=\"一覧で検索\" class=\"y9H1Sj9hz4OlEq2_aEt5E\" data-cl-params=\"_cl_vmodule:search;_cl_link:svc;_cl_position:0\" href=\"https://services.yahoo.co.jp/\" tabindex=\"-1\"><span class=\"fQMqQTGJTbIMxjQwZA2zk _3tGRl6x9iIWRiFTkKl3kcR\"><span class=\"_1uQvvM7M_K0hc4e29lRa8\">一覧</span></span></a>,\n",
       " <a class=\"_1NzGMsC3awTFzjzXnvX-zV\" data-cl-params=\"_cl_vmodule:message;_cl_link:jsof;_cl_position:0\" href=\"https://support.yahoo-net.jp/noscript\">JavaScriptの設定方法</a>,\n",
       " <a class=\"yMWCYupQNdgppL-NV6sMi _3sAlKGsIBCxTUbNi86oSjt\" data-cl-params=\"_cl_vmodule:toplink;_cl_link:link;_cl_position:1;aid:3720737\" href=\"https://shopping.yahoo.co.jp/promotion/sale/ppf/?sc_e=yttl_pc_ppf202307\"><span class=\"fQMqQTGJTbIMxjQwZA2zk _3tGRl6x9iIWRiFTkKl3kcR\"><span class=\"_3S2Wdrkt1LKANaWcLrZToT\">事前購入などで7/29～31は最大24.5％戻ってくる</span></span></a>,\n",
       " <a class=\"yMWCYupQNdgppL-NV6sMi _3sAlKGsIBCxTUbNi86oSjt\" data-cl-params=\"_cl_vmodule:toplink;_cl_link:link;_cl_position:2;aid:3720761\" href=\"https://paypayfleamarket.yahoo.co.jp/feature/game?cpt_s=ytopmedia&amp;cpt_m=hensei&amp;cpt_n=tlnk&amp;cpt_c=feature\"><span class=\"fQMqQTGJTbIMxjQwZA2zk _3tGRl6x9iIWRiFTkKl3kcR\"><span class=\"_3S2Wdrkt1LKANaWcLrZToT\">Switchやファミコンなど出品中　ゲーム特集</span></span></a>,\n",
       " <a class=\"yMWCYupQNdgppL-NV6sMi _3sAlKGsIBCxTUbNi86oSjt\" data-cl-params=\"_cl_vmodule:toplink;_cl_link:link;_cl_position:3;aid:3720755\" href=\"https://shopping.yahoo.co.jp/promotion/campaign/5day/?sc_e=yttl_pc_5day\"><span class=\"fQMqQTGJTbIMxjQwZA2zk _3tGRl6x9iIWRiFTkKl3kcR\"><span class=\"_3S2Wdrkt1LKANaWcLrZToT\">「5のつく日」買い物が4％おトク</span></span></a>,\n",
       " <a aria-label=\"ショッピングへ遷移する\" class=\"yMWCYupQNdgppL-NV6sMi _3sAlKGsIBCxTUbNi86oSjt cl-nofollow\" href=\"https://shopping.yahoo.co.jp/?sc_e=ytc\"><p class=\"_2bBRLhI5ZpVYu0tuHZEFrn\"><span class=\"pz0On1w4yAviBGMdKItoQ\"><span class=\"fQMqQTGJTbIMxjQwZA2zk _3tGRl6x9iIWRiFTkKl3kcR\">ショッピング</span></span><span class=\"_1Al3K70np2V_Ev1eGkfsBm\"><span class=\"_2Uq6Pw5lfFfxr_OD36xHp6 _1dr5aVDbNPF63JCS2bJhij MOLSPrtOUmdnYy_LgNt2f\" style=\"width:20px;height:20px\"></span></span></p></a>,\n",
       " <a aria-label=\"ヤフオク!へ遷移する\" class=\"yMWCYupQNdgppL-NV6sMi _3sAlKGsIBCxTUbNi86oSjt cl-nofollow\" href=\"https://auctions.yahoo.co.jp\"><p class=\"_2bBRLhI5ZpVYu0tuHZEFrn\"><span class=\"pz0On1w4yAviBGMdKItoQ\"><span class=\"fQMqQTGJTbIMxjQwZA2zk _3tGRl6x9iIWRiFTkKl3kcR\">ヤフオク!</span></span><span class=\"_1Al3K70np2V_Ev1eGkfsBm\"><span class=\"_2Uq6Pw5lfFfxr_OD36xHp6 _1dr5aVDbNPF63JCS2bJhij _1K47f2oTmrnpusFOpVVqfY\" style=\"width:20px;height:20px\"></span></span></p></a>,\n",
       " <a aria-label=\"PayPayフリマへ遷移する\" class=\"yMWCYupQNdgppL-NV6sMi _3sAlKGsIBCxTUbNi86oSjt cl-nofollow\" href=\"https://app.adjust.com/1kmi1m2?redirect=https%3A%2F%2Fpaypayfleamarket.yahoo.co.jp%2F%3Fcpt_s%3Dytopmedia%26cpt_m%3Dkotei%26cpt_n%3Dcontent%26cpt_c%3Dytopmedia\"><p class=\"_2bBRLhI5ZpVYu0tuHZEFrn\"><span class=\"pz0On1w4yAviBGMdKItoQ\"><span class=\"fQMqQTGJTbIMxjQwZA2zk _3tGRl6x9iIWRiFTkKl3kcR\">PayPayフリマ</span></span><span class=\"_1Al3K70np2V_Ev1eGkfsBm\"><span class=\"_2Uq6Pw5lfFfxr_OD36xHp6 _1dr5aVDbNPF63JCS2bJhij _3zb-zxOYGPoHJ2-_Ie8y8T\" style=\"width:20px;height:20px\"></span></span></p></a>,\n",
       " <a aria-label=\"ZOZOTOWNへ遷移する\" class=\"yMWCYupQNdgppL-NV6sMi _3sAlKGsIBCxTUbNi86oSjt cl-nofollow\" href=\"https://zozo.jp/?utm_source=yahoo&amp;utm_medium=referral&amp;utm_campaign=web_ytop-leftcolumn\"><p class=\"_2bBRLhI5ZpVYu0tuHZEFrn\"><span class=\"pz0On1w4yAviBGMdKItoQ\"><span class=\"fQMqQTGJTbIMxjQwZA2zk _3tGRl6x9iIWRiFTkKl3kcR\">ZOZOTOWN</span></span><span class=\"_1Al3K70np2V_Ev1eGkfsBm\"><span class=\"_2Uq6Pw5lfFfxr_OD36xHp6 _1dr5aVDbNPF63JCS2bJhij _2VdNwkD_q8hjK0ZyvATgab\" style=\"width:20px;height:20px\"></span></span></p></a>,\n",
       " <a aria-label=\"LOHACOへ遷移する\" class=\"yMWCYupQNdgppL-NV6sMi _3sAlKGsIBCxTUbNi86oSjt cl-nofollow\" href=\"https://lohaco.yahoo.co.jp/?bk=t&amp;sc_e=j_as_ya_tc_n&amp;iscr=1\"><p class=\"_2bBRLhI5ZpVYu0tuHZEFrn\"><span class=\"pz0On1w4yAviBGMdKItoQ\"><span class=\"fQMqQTGJTbIMxjQwZA2zk _3tGRl6x9iIWRiFTkKl3kcR\">LOHACO</span></span><span class=\"_1Al3K70np2V_Ev1eGkfsBm\"><span class=\"_2Uq6Pw5lfFfxr_OD36xHp6 _1dr5aVDbNPF63JCS2bJhij _3xvmznkMqRitO0Iqn3ckur\" style=\"width:20px;height:20px\"></span></span></p></a>,\n",
       " <a aria-label=\"トラベルへ遷移する\" class=\"yMWCYupQNdgppL-NV6sMi _3sAlKGsIBCxTUbNi86oSjt cl-nofollow\" href=\"https://travel.yahoo.co.jp/ikCo.ashx?cosid=y_010002&amp;cosuid=ytsl&amp;surl=%2F&amp;sc_e=ytsl\"><p class=\"_2bBRLhI5ZpVYu0tuHZEFrn\"><span class=\"pz0On1w4yAviBGMdKItoQ\"><span class=\"fQMqQTGJTbIMxjQwZA2zk _3tGRl6x9iIWRiFTkKl3kcR\">トラベル</span></span><span class=\"_1Al3K70np2V_Ev1eGkfsBm\"><span class=\"_2Uq6Pw5lfFfxr_OD36xHp6 _1dr5aVDbNPF63JCS2bJhij _1yEKxUFSw-Xv2gaBZsYRuI\" style=\"width:20px;height:20px\"></span></span></p></a>,\n",
       " <a aria-label=\"一休.comへ遷移する\" class=\"yMWCYupQNdgppL-NV6sMi _3sAlKGsIBCxTUbNi86oSjt cl-nofollow\" href=\"https://www.ikyu.com/ikCo.ashx?cosid=ik010002&amp;surl=%2F&amp;sc_e=ytc_pc_ikyu\"><p class=\"_2bBRLhI5ZpVYu0tuHZEFrn\"><span class=\"pz0On1w4yAviBGMdKItoQ\"><span class=\"fQMqQTGJTbIMxjQwZA2zk _3tGRl6x9iIWRiFTkKl3kcR\">一休.com</span></span><span class=\"_1Al3K70np2V_Ev1eGkfsBm\"><span class=\"_2Uq6Pw5lfFfxr_OD36xHp6 _1dr5aVDbNPF63JCS2bJhij daLkyi7PiGXeFyVYTU_9n\" style=\"width:20px;height:20px\"></span></span></p></a>,\n",
       " <a aria-label=\"一休.comレストランへ遷移する\" class=\"yMWCYupQNdgppL-NV6sMi _3sAlKGsIBCxTUbNi86oSjt cl-nofollow\" href=\"https://restaurant.ikyu.com/rsCosite.asp?CosNo=10000175&amp;CosUrl=\"><p class=\"_2bBRLhI5ZpVYu0tuHZEFrn\"><span class=\"pz0On1w4yAviBGMdKItoQ\"><span class=\"fQMqQTGJTbIMxjQwZA2zk _3tGRl6x9iIWRiFTkKl3kcR\">一休.comレストラン</span></span><span class=\"_1Al3K70np2V_Ev1eGkfsBm\"><span class=\"_2Uq6Pw5lfFfxr_OD36xHp6 _1dr5aVDbNPF63JCS2bJhij _1z4Le4zkghapVZCQm9RCy8\" style=\"width:20px;height:20px\"></span></span></p></a>,\n",
       " <a aria-label=\"PayPayグルメへ遷移する\" class=\"yMWCYupQNdgppL-NV6sMi _3sAlKGsIBCxTUbNi86oSjt cl-nofollow\" href=\"https://paypaygourmet.yahoo.co.jp/?sc_e=ytc\"><p class=\"_2bBRLhI5ZpVYu0tuHZEFrn\"><span class=\"pz0On1w4yAviBGMdKItoQ\"><span class=\"fQMqQTGJTbIMxjQwZA2zk _3tGRl6x9iIWRiFTkKl3kcR\">PayPayグルメ</span></span><span class=\"_1Al3K70np2V_Ev1eGkfsBm\"><span class=\"_2Uq6Pw5lfFfxr_OD36xHp6 _1dr5aVDbNPF63JCS2bJhij PgUs6FV7zVPjsTeGUP8wT\" style=\"width:20px;height:20px\"></span></span></p></a>,\n",
       " <a aria-label=\"出前館へ遷移する\" class=\"yMWCYupQNdgppL-NV6sMi _3sAlKGsIBCxTUbNi86oSjt cl-nofollow\" href=\"https://demae-can.com/?utm_source=yahoo&amp;utm_medium=toplink&amp;utm_campaign=demaecantop\"><p class=\"_2bBRLhI5ZpVYu0tuHZEFrn\"><span class=\"pz0On1w4yAviBGMdKItoQ\"><span class=\"fQMqQTGJTbIMxjQwZA2zk _3tGRl6x9iIWRiFTkKl3kcR\">出前館</span></span><span class=\"_1Al3K70np2V_Ev1eGkfsBm\"><span class=\"_2Uq6Pw5lfFfxr_OD36xHp6 _1dr5aVDbNPF63JCS2bJhij NuRliOifOckuQ9kobVaI9\" style=\"width:20px;height:20px\"></span></span></p></a>,\n",
       " <a aria-label=\"Yahoo! JAPANのサービス一覧\" class=\"yMWCYupQNdgppL-NV6sMi _3sAlKGsIBCxTUbNi86oSjt\" data-cl-params=\"_cl_vmodule:tool;_cl_link:list;_cl_position:0\" href=\"https://services.yahoo.co.jp/\"><dl class=\"STepvEgbaZ0rLEqfER-qm\"><dt class=\"W2bretj6vyf8QDes2gkQA\"><span class=\"fQMqQTGJTbIMxjQwZA2zk _3tGRl6x9iIWRiFTkKl3kcR\">サービス一覧</span></dt><dd class=\"_37zK--zuySKLzNE12rgdHL\"><span class=\"_2Uq6Pw5lfFfxr_OD36xHp6 _1dr5aVDbNPF63JCS2bJhij _3WrFs0ChLr_s9-gBqS7yts\" style=\"width:12px;height:12px\"></span></dd></dl></a>,\n",
       " <a class=\"yMWCYupQNdgppL-NV6sMi _3sAlKGsIBCxTUbNi86oSjt\" data-cl-params=\"_cl_vmodule:tpto;_cl_link:title;_cl_position:1;tpid:6468514;imgsize:s;cmt_num:4972\" data-ual-gotocontent=\"true\" href=\"https://news.yahoo.co.jp/pickup/6468514\"><div class=\"_2cXD1uC4eaOih4-zkRgqjU\"><div class=\"TRuzXRRZHRqbqgLUCCco9\"><h1 class=\"_3cl937Zpn1ce8mDKd5kp7u\"><span class=\"fQMqQTGJTbIMxjQwZA2zk _1alzSpTqJzvSVUWqpx82d4\">日本医師会「第9波になっている」</span></h1></div></div></a>,\n",
       " <a class=\"yMWCYupQNdgppL-NV6sMi _3sAlKGsIBCxTUbNi86oSjt\" data-cl-params=\"_cl_vmodule:tpto;_cl_link:title;_cl_position:2;tpid:6468519;imgsize:s;cmt_num:58\" data-ual-gotocontent=\"true\" href=\"https://news.yahoo.co.jp/pickup/6468519\"><div class=\"_2cXD1uC4eaOih4-zkRgqjU\"><div class=\"TRuzXRRZHRqbqgLUCCco9\"><h1 class=\"_3cl937Zpn1ce8mDKd5kp7u\"><span class=\"fQMqQTGJTbIMxjQwZA2zk _1alzSpTqJzvSVUWqpx82d4\">九州7日から大雨恐れ 6日に対策を</span></h1></div></div></a>,\n",
       " <a class=\"yMWCYupQNdgppL-NV6sMi _3sAlKGsIBCxTUbNi86oSjt\" data-cl-params=\"_cl_vmodule:tpto;_cl_link:title;_cl_position:3;tpid:6468521;imgsize:s;cmt_num:280\" data-ual-gotocontent=\"true\" href=\"https://news.yahoo.co.jp/pickup/6468521\"><div class=\"_2cXD1uC4eaOih4-zkRgqjU\"><div class=\"TRuzXRRZHRqbqgLUCCco9\"><h1 class=\"_3cl937Zpn1ce8mDKd5kp7u\"><span class=\"fQMqQTGJTbIMxjQwZA2zk _1alzSpTqJzvSVUWqpx82d4\">SBI 台湾大手と半導体工場建設へ</span></h1><span class=\"_2obRU_TgAxzHaYqOXrZYlv\"><span class=\"h4yLXygiSc5wwNlJOQEdz _1dr5aVDbNPF63JCS2bJhij _2M3AyDfFaeJl3Uo7lUPMAp\" style=\"width:30px;height:12px\">NEW</span></span></div></div></a>,\n",
       " <a class=\"yMWCYupQNdgppL-NV6sMi _3sAlKGsIBCxTUbNi86oSjt\" data-cl-params=\"_cl_vmodule:tpto;_cl_link:title;_cl_position:4;tpid:6468526;imgsize:s;cmt_num:0\" data-ual-gotocontent=\"true\" href=\"https://news.yahoo.co.jp/pickup/6468526\"><div class=\"_2cXD1uC4eaOih4-zkRgqjU\"><div class=\"TRuzXRRZHRqbqgLUCCco9\"><h1 class=\"_3cl937Zpn1ce8mDKd5kp7u\"><span class=\"fQMqQTGJTbIMxjQwZA2zk _1alzSpTqJzvSVUWqpx82d4\">溺れた娘助け 妻に渡した後夫死亡</span></h1><span class=\"_2obRU_TgAxzHaYqOXrZYlv\"><span class=\"h4yLXygiSc5wwNlJOQEdz _1dr5aVDbNPF63JCS2bJhij _2M3AyDfFaeJl3Uo7lUPMAp\" style=\"width:30px;height:12px\">NEW</span></span></div></div></a>,\n",
       " <a class=\"yMWCYupQNdgppL-NV6sMi _3sAlKGsIBCxTUbNi86oSjt\" data-cl-params=\"_cl_vmodule:tpto;_cl_link:title;_cl_position:5;tpid:6468525;imgsize:s;cmt_num:257\" data-ual-gotocontent=\"true\" href=\"https://news.yahoo.co.jp/pickup/6468525\"><div class=\"_2cXD1uC4eaOih4-zkRgqjU\"><div class=\"TRuzXRRZHRqbqgLUCCco9\"><h1 class=\"_3cl937Zpn1ce8mDKd5kp7u\"><span class=\"fQMqQTGJTbIMxjQwZA2zk _1alzSpTqJzvSVUWqpx82d4\">横田基地でPFAS漏出 米軍認める</span></h1><span class=\"_2obRU_TgAxzHaYqOXrZYlv\"><span class=\"h4yLXygiSc5wwNlJOQEdz _1dr5aVDbNPF63JCS2bJhij _2M3AyDfFaeJl3Uo7lUPMAp\" style=\"width:30px;height:12px\">NEW</span></span></div></div></a>,\n",
       " <a class=\"yMWCYupQNdgppL-NV6sMi _3sAlKGsIBCxTUbNi86oSjt\" data-cl-params=\"_cl_vmodule:tpto;_cl_link:title;_cl_position:6;tpid:6468527;imgsize:s;cmt_num:232\" data-ual-gotocontent=\"true\" href=\"https://news.yahoo.co.jp/pickup/6468527\"><div class=\"_2cXD1uC4eaOih4-zkRgqjU\"><div class=\"TRuzXRRZHRqbqgLUCCco9\"><h1 class=\"_3cl937Zpn1ce8mDKd5kp7u\"><span class=\"fQMqQTGJTbIMxjQwZA2zk _1alzSpTqJzvSVUWqpx82d4\">梅毒の感染者増 妊娠中は特に危険</span></h1><span class=\"_2obRU_TgAxzHaYqOXrZYlv\"><span class=\"h4yLXygiSc5wwNlJOQEdz _1dr5aVDbNPF63JCS2bJhij _2M3AyDfFaeJl3Uo7lUPMAp\" style=\"width:30px;height:12px\">NEW</span></span></div></div></a>,\n",
       " <a class=\"yMWCYupQNdgppL-NV6sMi _3sAlKGsIBCxTUbNi86oSjt\" data-cl-params=\"_cl_vmodule:tpto;_cl_link:title;_cl_position:7;tpid:6468522;imgsize:s;cmt_num:792\" data-ual-gotocontent=\"true\" href=\"https://news.yahoo.co.jp/pickup/6468522\"><div class=\"_2cXD1uC4eaOih4-zkRgqjU\"><div class=\"TRuzXRRZHRqbqgLUCCco9\"><h1 class=\"_3cl937Zpn1ce8mDKd5kp7u\"><span class=\"fQMqQTGJTbIMxjQwZA2zk _1alzSpTqJzvSVUWqpx82d4\">鳥羽氏 調理専門校の学部長を退任</span></h1></div></div></a>,\n",
       " <a class=\"yMWCYupQNdgppL-NV6sMi _3sAlKGsIBCxTUbNi86oSjt\" data-cl-params=\"_cl_vmodule:tpto;_cl_link:title;_cl_position:8;tpid:6468472;imgsize:s;cmt_num:819\" data-ual-gotocontent=\"true\" href=\"https://news.yahoo.co.jp/pickup/6468472\"><div class=\"_2cXD1uC4eaOih4-zkRgqjU\"><div class=\"TRuzXRRZHRqbqgLUCCco9\"><h1 class=\"_3cl937Zpn1ce8mDKd5kp7u\"><span class=\"fQMqQTGJTbIMxjQwZA2zk _1alzSpTqJzvSVUWqpx82d4\">大谷 球宴で登板「厳しくなった」</span></h1></div></div></a>,\n",
       " <a class=\"yMWCYupQNdgppL-NV6sMi _3sAlKGsIBCxTUbNi86oSjt\" data-cl-params=\"_cl_vmodule:tpto;_cl_link:title;_cl_position:9;imgsize:l\" href=\"https://news.yahoo.co.jp/articles/ecf6d483e21dfbfb3efcdf840884a5c71e002956/images/000\"><div class=\"_1EYwdR4JxrwgpIvWk7vO3f\"><h1 class=\"RS4h_eDWC6FIIyYMupWR0\"><span class=\"fQMqQTGJTbIMxjQwZA2zk _1alzSpTqJzvSVUWqpx82d4\">風太20歳</span></h1><p class=\"_2e8OreFgYIc3gdzYJLKAMA\"><time class=\"_1GD9Sx7FpCs4EuL3bT974r\">7/5(水) 17:38</time></p><div class=\"_1pfcRKnf6y-2AXzpXf0vrb\"><cite class=\"O9jggTRv0zy3XcPayfJLa\">千葉日報オンライン</cite></div><div class=\"_1UmUawjY6VSzmTK3Y-1sjq\"><span class=\"rStpk9W4eUO5IMVhnJylj\"><picture><source srcset=\"https://news-pctr.c.yimg.jp/t/news-topics/images/tpc/2023/7/5/f50e9d872fad5c7dd94c2013be3d26b2505e3d2b0a57bc913726d2fa35566103.jpg?h=200&amp;w=200&amp;pri=l&amp;fmt=webp\" type=\"image/webp\"/><img alt=\"\" height=\"59.9625\" src=\"https://news-pctr.c.yimg.jp/t/news-topics/images/tpc/2023/7/5/f50e9d872fad5c7dd94c2013be3d26b2505e3d2b0a57bc913726d2fa35566103.jpg?h=200&amp;w=200&amp;pri=l\" width=\"90\"/></picture></span></div></div></a>,\n",
       " <a class=\"yMWCYupQNdgppL-NV6sMi _3sAlKGsIBCxTUbNi86oSjt\" data-cl-params=\"_cl_vmodule:tpto;_cl_link:more;_cl_position:0\" href=\"https://news.yahoo.co.jp/topics/top-picks\">もっと見る</a>,\n",
       " <a class=\"yMWCYupQNdgppL-NV6sMi _3sAlKGsIBCxTUbNi86oSjt\" data-cl-params=\"_cl_vmodule:tpto;_cl_link:list;_cl_position:0\" href=\"https://news.yahoo.co.jp/topics\">トピックス一覧</a>,\n",
       " <a class=\"yMWCYupQNdgppL-NV6sMi _3sAlKGsIBCxTUbNi86oSjt\" data-cl-params=\"_cl_link:comp;_cl_position:0\" href=\"https://about.yahoo.co.jp/\">会社概要</a>,\n",
       " <a class=\"yMWCYupQNdgppL-NV6sMi _3sAlKGsIBCxTUbNi86oSjt\" data-cl-params=\"_cl_link:soc;_cl_position:0\" href=\"https://about.yahoo.co.jp/csr/\">社会的責任</a>,\n",
       " <a class=\"yMWCYupQNdgppL-NV6sMi _3sAlKGsIBCxTUbNi86oSjt\" data-cl-params=\"_cl_link:ad;_cl_position:0\" href=\"https://marketing.yahoo.co.jp/\">広告掲載について</a>,\n",
       " <a class=\"yMWCYupQNdgppL-NV6sMi _3sAlKGsIBCxTUbNi86oSjt\" data-cl-params=\"_cl_link:hr;_cl_position:0\" href=\"https://about.yahoo.co.jp/hr/\">採用情報</a>,\n",
       " <a class=\"yMWCYupQNdgppL-NV6sMi _3sAlKGsIBCxTUbNi86oSjt\" data-cl-params=\"_cl_link:agreement;_cl_position:0\" href=\"https://about.yahoo.co.jp/common/terms/\">利用規約</a>,\n",
       " <a class=\"yMWCYupQNdgppL-NV6sMi _3sAlKGsIBCxTUbNi86oSjt\" data-cl-params=\"_cl_link:disc;_cl_position:0\" href=\"https://about.yahoo.co.jp/common/disclaimer/\">免責事項</a>,\n",
       " <a class=\"yMWCYupQNdgppL-NV6sMi _3sAlKGsIBCxTUbNi86oSjt\" data-cl-params=\"_cl_link:state;_cl_position:0\" href=\"https://about.yahoo.co.jp/common/mediastatement/\">メディアステートメント</a>,\n",
       " <a class=\"yMWCYupQNdgppL-NV6sMi _3sAlKGsIBCxTUbNi86oSjt\" data-cl-params=\"_cl_link:policy;_cl_position:0\" href=\"https://privacy.yahoo.co.jp/\">プライバシー</a>,\n",
       " <a class=\"yMWCYupQNdgppL-NV6sMi _3sAlKGsIBCxTUbNi86oSjt\" data-cl-params=\"_cl_link:z_comp;_cl_position:0\" href=\"https://www.z-holdings.co.jp/\">会社概要</a>,\n",
       " <a class=\"yMWCYupQNdgppL-NV6sMi _3sAlKGsIBCxTUbNi86oSjt\" data-cl-params=\"_cl_link:ir;_cl_position:0\" href=\"https://www.z-holdings.co.jp/ir/\">投資家情報</a>]"
      ]
     },
     "execution_count": 12,
     "metadata": {},
     "output_type": "execute_result"
    }
   ],
   "source": [
    "elems"
   ]
  },
  {
   "cell_type": "code",
   "execution_count": 13,
   "id": "abab6a59-0f0c-4bf6-a2ef-26cd0717343d",
   "metadata": {},
   "outputs": [],
   "source": [
    "elems = soup.find_all(href=re.compile(\"news.yahoo.co.jp/pickup/\"))"
   ]
  },
  {
   "cell_type": "code",
   "execution_count": 14,
   "id": "d44d4f17-8a2b-4dd3-8274-93df33b2a58a",
   "metadata": {
    "collapsed": true,
    "jupyter": {
     "outputs_hidden": true
    },
    "tags": []
   },
   "outputs": [
    {
     "data": {
      "text/plain": [
       "[<a class=\"yMWCYupQNdgppL-NV6sMi _3sAlKGsIBCxTUbNi86oSjt\" data-cl-params=\"_cl_vmodule:tpto;_cl_link:title;_cl_position:1;tpid:6468514;imgsize:s;cmt_num:4972\" data-ual-gotocontent=\"true\" href=\"https://news.yahoo.co.jp/pickup/6468514\"><div class=\"_2cXD1uC4eaOih4-zkRgqjU\"><div class=\"TRuzXRRZHRqbqgLUCCco9\"><h1 class=\"_3cl937Zpn1ce8mDKd5kp7u\"><span class=\"fQMqQTGJTbIMxjQwZA2zk _1alzSpTqJzvSVUWqpx82d4\">日本医師会「第9波になっている」</span></h1></div></div></a>,\n",
       " <a class=\"yMWCYupQNdgppL-NV6sMi _3sAlKGsIBCxTUbNi86oSjt\" data-cl-params=\"_cl_vmodule:tpto;_cl_link:title;_cl_position:2;tpid:6468519;imgsize:s;cmt_num:58\" data-ual-gotocontent=\"true\" href=\"https://news.yahoo.co.jp/pickup/6468519\"><div class=\"_2cXD1uC4eaOih4-zkRgqjU\"><div class=\"TRuzXRRZHRqbqgLUCCco9\"><h1 class=\"_3cl937Zpn1ce8mDKd5kp7u\"><span class=\"fQMqQTGJTbIMxjQwZA2zk _1alzSpTqJzvSVUWqpx82d4\">九州7日から大雨恐れ 6日に対策を</span></h1></div></div></a>,\n",
       " <a class=\"yMWCYupQNdgppL-NV6sMi _3sAlKGsIBCxTUbNi86oSjt\" data-cl-params=\"_cl_vmodule:tpto;_cl_link:title;_cl_position:3;tpid:6468521;imgsize:s;cmt_num:280\" data-ual-gotocontent=\"true\" href=\"https://news.yahoo.co.jp/pickup/6468521\"><div class=\"_2cXD1uC4eaOih4-zkRgqjU\"><div class=\"TRuzXRRZHRqbqgLUCCco9\"><h1 class=\"_3cl937Zpn1ce8mDKd5kp7u\"><span class=\"fQMqQTGJTbIMxjQwZA2zk _1alzSpTqJzvSVUWqpx82d4\">SBI 台湾大手と半導体工場建設へ</span></h1><span class=\"_2obRU_TgAxzHaYqOXrZYlv\"><span class=\"h4yLXygiSc5wwNlJOQEdz _1dr5aVDbNPF63JCS2bJhij _2M3AyDfFaeJl3Uo7lUPMAp\" style=\"width:30px;height:12px\">NEW</span></span></div></div></a>,\n",
       " <a class=\"yMWCYupQNdgppL-NV6sMi _3sAlKGsIBCxTUbNi86oSjt\" data-cl-params=\"_cl_vmodule:tpto;_cl_link:title;_cl_position:4;tpid:6468526;imgsize:s;cmt_num:0\" data-ual-gotocontent=\"true\" href=\"https://news.yahoo.co.jp/pickup/6468526\"><div class=\"_2cXD1uC4eaOih4-zkRgqjU\"><div class=\"TRuzXRRZHRqbqgLUCCco9\"><h1 class=\"_3cl937Zpn1ce8mDKd5kp7u\"><span class=\"fQMqQTGJTbIMxjQwZA2zk _1alzSpTqJzvSVUWqpx82d4\">溺れた娘助け 妻に渡した後夫死亡</span></h1><span class=\"_2obRU_TgAxzHaYqOXrZYlv\"><span class=\"h4yLXygiSc5wwNlJOQEdz _1dr5aVDbNPF63JCS2bJhij _2M3AyDfFaeJl3Uo7lUPMAp\" style=\"width:30px;height:12px\">NEW</span></span></div></div></a>,\n",
       " <a class=\"yMWCYupQNdgppL-NV6sMi _3sAlKGsIBCxTUbNi86oSjt\" data-cl-params=\"_cl_vmodule:tpto;_cl_link:title;_cl_position:5;tpid:6468525;imgsize:s;cmt_num:257\" data-ual-gotocontent=\"true\" href=\"https://news.yahoo.co.jp/pickup/6468525\"><div class=\"_2cXD1uC4eaOih4-zkRgqjU\"><div class=\"TRuzXRRZHRqbqgLUCCco9\"><h1 class=\"_3cl937Zpn1ce8mDKd5kp7u\"><span class=\"fQMqQTGJTbIMxjQwZA2zk _1alzSpTqJzvSVUWqpx82d4\">横田基地でPFAS漏出 米軍認める</span></h1><span class=\"_2obRU_TgAxzHaYqOXrZYlv\"><span class=\"h4yLXygiSc5wwNlJOQEdz _1dr5aVDbNPF63JCS2bJhij _2M3AyDfFaeJl3Uo7lUPMAp\" style=\"width:30px;height:12px\">NEW</span></span></div></div></a>,\n",
       " <a class=\"yMWCYupQNdgppL-NV6sMi _3sAlKGsIBCxTUbNi86oSjt\" data-cl-params=\"_cl_vmodule:tpto;_cl_link:title;_cl_position:6;tpid:6468527;imgsize:s;cmt_num:232\" data-ual-gotocontent=\"true\" href=\"https://news.yahoo.co.jp/pickup/6468527\"><div class=\"_2cXD1uC4eaOih4-zkRgqjU\"><div class=\"TRuzXRRZHRqbqgLUCCco9\"><h1 class=\"_3cl937Zpn1ce8mDKd5kp7u\"><span class=\"fQMqQTGJTbIMxjQwZA2zk _1alzSpTqJzvSVUWqpx82d4\">梅毒の感染者増 妊娠中は特に危険</span></h1><span class=\"_2obRU_TgAxzHaYqOXrZYlv\"><span class=\"h4yLXygiSc5wwNlJOQEdz _1dr5aVDbNPF63JCS2bJhij _2M3AyDfFaeJl3Uo7lUPMAp\" style=\"width:30px;height:12px\">NEW</span></span></div></div></a>,\n",
       " <a class=\"yMWCYupQNdgppL-NV6sMi _3sAlKGsIBCxTUbNi86oSjt\" data-cl-params=\"_cl_vmodule:tpto;_cl_link:title;_cl_position:7;tpid:6468522;imgsize:s;cmt_num:792\" data-ual-gotocontent=\"true\" href=\"https://news.yahoo.co.jp/pickup/6468522\"><div class=\"_2cXD1uC4eaOih4-zkRgqjU\"><div class=\"TRuzXRRZHRqbqgLUCCco9\"><h1 class=\"_3cl937Zpn1ce8mDKd5kp7u\"><span class=\"fQMqQTGJTbIMxjQwZA2zk _1alzSpTqJzvSVUWqpx82d4\">鳥羽氏 調理専門校の学部長を退任</span></h1></div></div></a>,\n",
       " <a class=\"yMWCYupQNdgppL-NV6sMi _3sAlKGsIBCxTUbNi86oSjt\" data-cl-params=\"_cl_vmodule:tpto;_cl_link:title;_cl_position:8;tpid:6468472;imgsize:s;cmt_num:819\" data-ual-gotocontent=\"true\" href=\"https://news.yahoo.co.jp/pickup/6468472\"><div class=\"_2cXD1uC4eaOih4-zkRgqjU\"><div class=\"TRuzXRRZHRqbqgLUCCco9\"><h1 class=\"_3cl937Zpn1ce8mDKd5kp7u\"><span class=\"fQMqQTGJTbIMxjQwZA2zk _1alzSpTqJzvSVUWqpx82d4\">大谷 球宴で登板「厳しくなった」</span></h1></div></div></a>]"
      ]
     },
     "execution_count": 14,
     "metadata": {},
     "output_type": "execute_result"
    }
   ],
   "source": [
    "elems"
   ]
  },
  {
   "cell_type": "code",
   "execution_count": 19,
   "id": "c71d23c2-5811-4284-8e75-209784a43315",
   "metadata": {
    "tags": []
   },
   "outputs": [
    {
     "data": {
      "text/plain": [
       "'日本医師会「第9波になっている」'"
      ]
     },
     "execution_count": 19,
     "metadata": {},
     "output_type": "execute_result"
    }
   ],
   "source": [
    "elems[0].span.string"
   ]
  },
  {
   "cell_type": "code",
   "execution_count": 20,
   "id": "f2f4cde1-f23f-4533-8f6a-fbd268e58bcf",
   "metadata": {
    "tags": []
   },
   "outputs": [
    {
     "data": {
      "text/plain": [
       "'https://news.yahoo.co.jp/pickup/6468514'"
      ]
     },
     "execution_count": 20,
     "metadata": {},
     "output_type": "execute_result"
    }
   ],
   "source": [
    "elems[0].attrs[\"href\"]"
   ]
  },
  {
   "cell_type": "code",
   "execution_count": 21,
   "id": "8874d05e-f3b0-4da7-b87e-8b958094a7e7",
   "metadata": {
    "tags": []
   },
   "outputs": [
    {
     "data": {
      "text/plain": [
       "'九州7日から大雨恐れ 6日に対策を'"
      ]
     },
     "execution_count": 21,
     "metadata": {},
     "output_type": "execute_result"
    }
   ],
   "source": [
    "elems[1].span.string"
   ]
  },
  {
   "cell_type": "code",
   "execution_count": 22,
   "id": "1677f95e-453b-4ccb-b9b2-212c5d066147",
   "metadata": {
    "tags": []
   },
   "outputs": [
    {
     "data": {
      "text/plain": [
       "'https://news.yahoo.co.jp/pickup/6468519'"
      ]
     },
     "execution_count": 22,
     "metadata": {},
     "output_type": "execute_result"
    }
   ],
   "source": [
    "elems[1].attrs[\"href\"]"
   ]
  },
  {
   "cell_type": "code",
   "execution_count": 25,
   "id": "2d666a67-d973-4e91-b7c5-10847c15dda5",
   "metadata": {
    "tags": []
   },
   "outputs": [
    {
     "name": "stdout",
     "output_type": "stream",
     "text": [
      "日本医師会「第9波になっている」\n",
      "https://news.yahoo.co.jp/pickup/6468514\n",
      "\n",
      "九州7日から大雨恐れ 6日に対策を\n",
      "https://news.yahoo.co.jp/pickup/6468519\n",
      "\n",
      "SBI 台湾大手と半導体工場建設へ\n",
      "https://news.yahoo.co.jp/pickup/6468521\n",
      "\n",
      "溺れた娘助け 妻に渡した後夫死亡\n",
      "https://news.yahoo.co.jp/pickup/6468526\n",
      "\n",
      "横田基地でPFAS漏出 米軍認める\n",
      "https://news.yahoo.co.jp/pickup/6468525\n",
      "\n",
      "梅毒の感染者増 妊娠中は特に危険\n",
      "https://news.yahoo.co.jp/pickup/6468527\n",
      "\n",
      "鳥羽氏 調理専門校の学部長を退任\n",
      "https://news.yahoo.co.jp/pickup/6468522\n",
      "\n",
      "大谷 球宴で登板「厳しくなった」\n",
      "https://news.yahoo.co.jp/pickup/6468472\n",
      "\n"
     ]
    }
   ],
   "source": [
    "for elem in elems:\n",
    "    print(elem.span.string)\n",
    "    print(elem.attrs[\"href\"], end=\"\\n\\n\")\n",
    "    \n",
    "# pickup_elem = pickup_soup.select(\"a:contains('記事全文を読む')\")[0]\n",
    "# news_link = pickup_elem.attrs[\"href\"]"
   ]
  },
  {
   "cell_type": "code",
   "execution_count": 28,
   "id": "a035a3a0-0c14-4da0-b29c-9c7bb9ab0822",
   "metadata": {
    "tags": []
   },
   "outputs": [],
   "source": [
    "pickup_links = [elem.attrs[\"href\"] for elem in elems]"
   ]
  },
  {
   "cell_type": "code",
   "execution_count": 29,
   "id": "d171711e-e539-43f6-a46a-a702337d8dc6",
   "metadata": {
    "tags": []
   },
   "outputs": [
    {
     "data": {
      "text/plain": [
       "['https://news.yahoo.co.jp/pickup/6468514',\n",
       " 'https://news.yahoo.co.jp/pickup/6468519',\n",
       " 'https://news.yahoo.co.jp/pickup/6468521',\n",
       " 'https://news.yahoo.co.jp/pickup/6468526',\n",
       " 'https://news.yahoo.co.jp/pickup/6468525',\n",
       " 'https://news.yahoo.co.jp/pickup/6468527',\n",
       " 'https://news.yahoo.co.jp/pickup/6468522',\n",
       " 'https://news.yahoo.co.jp/pickup/6468472']"
      ]
     },
     "execution_count": 29,
     "metadata": {},
     "output_type": "execute_result"
    }
   ],
   "source": [
    "pickup_links"
   ]
  },
  {
   "cell_type": "code",
   "execution_count": 33,
   "id": "8810c151-5116-4d87-8780-b554b20413a5",
   "metadata": {
    "tags": []
   },
   "outputs": [
    {
     "name": "stdout",
     "output_type": "stream",
     "text": [
      "https://news.yahoo.co.jp/articles/0b5a450275d3e15c6ce7a2c26aa1d01f5344c3bd\n",
      "日本医師会「コロナ第9波に」　沖縄など九州地方で感染拡大（共同通信） - Yahoo!ニュース\n",
      "https://news.yahoo.co.jp/articles/0b5a450275d3e15c6ce7a2c26aa1d01f5344c3bd\n",
      "　日本医師会の釜萢敏常任理事は5日の記者会見で、新型コロナウイルスの感染が沖縄県など九州地方で拡大している状況に懸念を示し「現状は第9波になっていると判断することが妥当だ」と述べた。厚生労働省は夏に向けて一定の拡大の可能性があるとしている。\n",
      "\n",
      "【画像】上りエスカレーターで最前列の人がせきをした場合の飛沫拡散のイメージ\n",
      "\n",
      "https://news.yahoo.co.jp/articles/b4e23a3be659479aaa71f59295efe9e1d912336e\n",
      "九州　7日～10日　活発な前線が北上・停滞　危険な大雨が長引く恐れ　災害に警戒を（tenki.jp） - Yahoo!ニュース\n",
      "https://news.yahoo.co.jp/articles/b4e23a3be659479aaa71f59295efe9e1d912336e\n",
      "あさって7日は活発な梅雨前線が九州を北上し、10日にかけて九州付近に停滞。九州は長期間に渡って警報級の大雨となる恐れがあります。すでに記録的な大雨となっている所は、少しの雨でも土砂災害が発生しやすい状況であり、かなり危険な大雨に。あす6日のうちに対策を。\n",
      "\n",
      "https://news.yahoo.co.jp/articles/6e49084105119f9bff6098784ac21cfc1eff1b08\n",
      "ＳＢＩが台湾大手と半導体工場建設へ「供給網の起点に」と北尾氏（Bloomberg） - Yahoo!ニュース\n",
      "https://news.yahoo.co.jp/articles/6e49084105119f9bff6098784ac21cfc1eff1b08\n",
      "（ブルームバーグ）： ＳＢＩホールディングスは５日、台湾の大手半導体受託生産会社、パワーチップ・セミコンダクター・マニュファクチャリング・コーポレーション（ＰＳＭＣ）と日本国内に半導体製造工場を建設するための準備会社を設立することで合意したと発表した。\n",
      "\n",
      "https://news.yahoo.co.jp/articles/bc8483b399f91fd0139c9276b4e18cb9f0fe6c8f\n",
      "龍郷町で神奈川の男性（３９）死亡　溺れた４歳の娘を助け妻に引き渡し沈む　鹿児島県（MBC南日本放送） - Yahoo!ニュース\n",
      "https://news.yahoo.co.jp/articles/bc8483b399f91fd0139c9276b4e18cb9f0fe6c8f\n",
      "奄美大島・龍郷町の海で、５日午前、神奈川県から観光で来ていた男性が、沖合で溺れた娘を助けたあと、死亡しました。\n",
      "\n",
      "死亡したのは、神奈川県に住む３９歳の会社員の男性です。\n",
      "５日午前９時半ごろ、龍郷町芦徳で、ホテルの従業員から「ホテルの沖合い５０メートルから１００メートルで、人が沖に流されている」と１１８番通報がありました。\n",
      "\n",
      "男性は家族５人で龍郷町に旅行に来ていて、午前８時半ごろから妻と４歳の娘と一緒にホテルの前の海で泳いでいましたが、男性と娘が浮き輪に入って遊んでいたところ、浮き輪が風に流されて外れ、娘が溺れました。\n",
      "男性は娘を抱きかかえ海岸に向かって泳ぎ、妻に引き渡した後に沈んでしまったということです。\n",
      "\n",
      "ホテルの従業員が男性を救助しましたが、男性はおよそ２時間後に搬送先の病院で死亡しました。\n",
      "\n",
      "死因は水死と見られています。妻と子どもにけがはありませんでした。\n",
      "\n",
      "現場は当時晴れで、沖に向かって７．４メートルの風が吹いていたということです。\n",
      "\n",
      "https://news.yahoo.co.jp/articles/830f70e393a4c180a82e77403083e4e260ad8871\n",
      "PFAS含む泡消火剤、横田基地が漏出認める　10～12年に計3回（朝日新聞デジタル） - Yahoo!ニュース\n",
      "https://news.yahoo.co.jp/articles/830f70e393a4c180a82e77403083e4e260ad8871\n",
      "　健康への影響が懸念されている有機フッ素化合物（総称PFAS〈ピーファス〉）を含む泡消火剤について、米軍は2010～12年に3回、横田基地（東京都福生市など）で漏出した事案があったと明らかにした。都と基地周辺の自治体でつくる連絡協議会が、防衛省を通じて連絡を受け、5日に公表した。\n",
      "\n",
      "【写真】高濃度PFAS、東京・多摩では取水中止に　米国では住民が集団訴訟\n",
      "\n",
      "　都によると、米軍が横田基地での泡消火剤の漏出を認めたのは初めて。10年1月、12年10月と11月の計3回、保管容器やドラム缶から漏れ出た。米軍は、いずれも基地の外に流出した認識はない、と説明しているという。漏出量などの詳細も明らかにしていない。\n",
      "\n",
      "　連絡協議会は5日、漏出した場所や量の詳細な情報提供とともに、地下水への影響の調査を国に要請した。\n",
      "\n",
      "　基地がある多摩地域では、水道水に使われる一部の井戸で高濃度PFASが検出されている。PFASがどの程度健康に影響があるかはまだ明らかではないが、市民団体が22年から住民650人の血液検査を独自に実施したところ、55人のPFAS濃度が健康リスクの目安となる海外の基準を上回っていた。（藤田大道）\n",
      "\n",
      "https://news.yahoo.co.jp/articles/0f5b0e9256409d6736a035c6818833502f10ceb9?\n",
      "「梅毒」はコンドームをつけてもうつるって本当？ 医師が治療法や感染・放置するリスクも解説（Medical DOC） - Yahoo!ニュース\n",
      "https://news.yahoo.co.jp/articles/0f5b0e9256409d6736a035c6818833502f10ceb9?\n",
      "ここ10年ほど、「梅毒」の感染者が増加しているそうです。「梅毒」とはどんな病気で、感染するとどんな症状が出るのでしょうか。本記事では「梅毒」について、産婦人科医の前出 喜信先生（シュシュレディースクリニック 戸田公園 院長）にMedical DOC編集部が話を聞きました。\n",
      "\n",
      "［この記事は、Medical DOC医療アドバイザーにより医療情報の信憑性について確認後に公開しております］\n",
      "\n",
      "https://news.yahoo.co.jp/articles/31a7398173bc09b2cd8f1da1562800be1794ecc2\n",
      "広末涼子とダブル不倫の鳥羽周作氏、調理専門校の学部長退任「一連の報道受け総合的に判断し」（日刊スポーツ） - Yahoo!ニュース\n",
      "https://news.yahoo.co.jp/articles/31a7398173bc09b2cd8f1da1562800be1794ecc2\n",
      "　女優広末涼子（42）とのダブル不倫を認め、謝罪した人気シェフ鳥羽周作氏（45）について、調理専門校レコールバンタンは5日、公式サイトで、調理＆フードブランドプロデュース学部の学部長を務めていた鳥羽氏の退任を発表した。今年4月の学部開設と同時に就任したものの、わずか3カ月での退任となった。\n",
      "\n",
      "【写真】広末涼子が鳥羽周作氏に寄せた「やばい」メッセージ\n",
      "\n",
      "　サイトには「2023年年4月より鳥羽周作氏にレコールバンタン　調理＆フードブランドプロデュース学部の学部長を務めていただいておりましたが、一連の報道を受けて、総合的に判断し、学部長を退任いただくことになりました」と記された。\n",
      "\n",
      "　今年4月に開設された同学部は、現役プロから飲食店に必要なことを学べることがコンセプト。サイトには先月末まで、学部の特長の第1のポイントとして、鳥羽氏の写真とともに「今最も影響力のある一つ星レストラン　sio鳥羽周作オーナーシェフ監修」「成功のポイントを学ぶ」などと書かれていた。\n",
      "\n",
      "　この日の発表では、今後について「必要に応じて代わりに他の方を立てて、引き続き質の高いカリキュラムを提供してまいります」としている。ただ、鳥羽氏の指導を希望し入学した生徒への対応、生徒や保護者からの批判の有無について、同校は「コメントは差し控えさせていただきます」とのみ回答した。\n",
      "\n",
      "https://news.yahoo.co.jp/articles/e1bf0af819aaf82803a79fe944c8369090a430db\n",
      "大谷翔平　球宴での登板は「今日で厳しくなった」本塁打競争も「出ないと思う」右手中指のまめで途中降板（デイリースポーツ） - Yahoo!ニュース\n",
      "https://news.yahoo.co.jp/articles/e1bf0af819aaf82803a79fe944c8369090a430db\n",
      "　「パドレス８－５エンゼルス」（４日、サンディエゴ）\n",
      "\n",
      "　エンゼルスの大谷翔平投手が「３番・投手」で出場し、投手としては六回途中７安打、今季ワーストタイの５失点で４敗目（７勝）。右手中指のまめのため、８６球で緊急降板した。打者としては３打数無安打。九回の打席で代打を送られ、２試合連続ノーヒットとなった。\n",
      "\n",
      "【写真】水原通訳、コーチらが大谷の指先を心配そうに見つめる　残る疑問「治り切る前に投げた」理由は？\n",
      "\n",
      "　大谷は試合後、３年連続で投打選出が決まっているオールスター戦（１１日、シアトル）について「ピッチングは今日で厳しくなったんじゃないかと。出られるところでなるべく出たい」と、投手としては出場できなくなったことを吐露。ホームラン競争についても「出ないと思います」と明かした。\n",
      "\n",
      "　前回６月２７日の登板で割れた右手中指の爪は完治しておらず、「もちろん１００％ではない」と大谷。加えてマメもできた状態という。それでも「全員が全員１００％で毎回登板をしているわけじゃない」とし「最後の回、もったいなかったですけど。あの回しっかり抑えられていたら、まずまずだったんじゃないかなと」と、振り返った。\n",
      "\n",
      "　試合前にはトラウトが左手首骨折で負傷者リスト入りし、試合中には４番レンドンが左すねへ直撃の自打球で交代。負の連鎖でチームは２連敗。直近７戦６敗で貯金を２に減らした。\n",
      "\n"
     ]
    }
   ],
   "source": [
    "for pickup_link in pickup_links:\n",
    "    pickup_res = requests.get(pickup_link)\n",
    "    pickup_soup = BeautifulSoup(pickup_res.text, \"html.parser\")\n",
    "    \n",
    "    pickup_elem = pickup_soup.select(\"a:contains('記事全文を読む')\")[0]\n",
    "    news_link = pickup_elem.attrs[\"href\"]\n",
    "    print(news_link)\n",
    "    \n",
    "    news_res = requests.get(news_link)\n",
    "    news_soup = BeautifulSoup(news_res.text, \"html.parser\")\n",
    "    \n",
    "    print(news_soup.title.text)\n",
    "    print(news_link)\n",
    "    \n",
    "    detail_text = news_soup.find(class_=re.compile(\"Direct\"))\n",
    "    print(detail_text.text if hasattr(detail_text, \"text\") else \"\", end=\"\\n\\n\")\n",
    "    \n",
    "    time.sleep(1)"
   ]
  },
  {
   "cell_type": "code",
   "execution_count": null,
   "id": "81023561-0333-4586-8cf0-6c1e4b5be258",
   "metadata": {},
   "outputs": [],
   "source": []
  }
 ],
 "metadata": {
  "kernelspec": {
   "display_name": "Python 3 (ipykernel)",
   "language": "python",
   "name": "python3"
  },
  "language_info": {
   "codemirror_mode": {
    "name": "ipython",
    "version": 3
   },
   "file_extension": ".py",
   "mimetype": "text/x-python",
   "name": "python",
   "nbconvert_exporter": "python",
   "pygments_lexer": "ipython3",
   "version": "3.11.1"
  }
 },
 "nbformat": 4,
 "nbformat_minor": 5
}
