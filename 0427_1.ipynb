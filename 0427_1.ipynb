{
 "cells": [
  {
   "cell_type": "code",
   "execution_count": 15,
   "id": "0e79ccf6-af65-473c-b4ef-a787f5c289eb",
   "metadata": {
    "tags": []
   },
   "outputs": [],
   "source": [
    "import pandas as pd\n",
    "import numpy as np"
   ]
  },
  {
   "cell_type": "code",
   "execution_count": 16,
   "id": "32fe6ac2-e3f3-4451-aac4-1135cdd8ccff",
   "metadata": {
    "tags": []
   },
   "outputs": [],
   "source": [
    "sales = pd.read_csv(\"/Users/kato/Downloads/4-4_sales.csv\")"
   ]
  },
  {
   "cell_type": "code",
   "execution_count": 17,
   "id": "4111314b-c714-49fd-9bea-c8635d3c917b",
   "metadata": {
    "tags": []
   },
   "outputs": [],
   "source": [
    "sales_future = pd.read_csv(\"/Users/kato/Downloads/4-4_sales_future.csv\")"
   ]
  },
  {
   "cell_type": "code",
   "execution_count": 18,
   "id": "4630d167-ca13-4d0b-927b-173531d52aa8",
   "metadata": {
    "tags": []
   },
   "outputs": [
    {
     "data": {
      "text/plain": [
       "Index(['temperature', 'price', 'rainy', 'sales'], dtype='object')"
      ]
     },
     "execution_count": 18,
     "metadata": {},
     "output_type": "execute_result"
    }
   ],
   "source": [
    "sales.columns"
   ]
  },
  {
   "cell_type": "code",
   "execution_count": 19,
   "id": "b3ff93e8-4771-490e-a705-3df39b414e66",
   "metadata": {
    "tags": []
   },
   "outputs": [],
   "source": [
    "sales_x = ['temperature', 'rainy']\n",
    "x = sales[sales_x]\n",
    "\n",
    "sales_y = [\"sales\"]\n",
    "y = sales[sales_y]"
   ]
  },
  {
   "cell_type": "code",
   "execution_count": 20,
   "id": "d9d49b5f-b3e6-433a-a276-4fca82d8b62a",
   "metadata": {
    "tags": []
   },
   "outputs": [],
   "source": [
    "import statsmodels.api as sm"
   ]
  },
  {
   "cell_type": "code",
   "execution_count": 21,
   "id": "2cf25457-64a7-4b2d-aa71-6d7e83fec7cc",
   "metadata": {
    "tags": []
   },
   "outputs": [],
   "source": [
    "model = sm.OLS(y , sm.add_constant(x))"
   ]
  },
  {
   "cell_type": "code",
   "execution_count": 22,
   "id": "7609d69c-4238-4be2-b7c2-1267ed7d4eef",
   "metadata": {
    "tags": []
   },
   "outputs": [],
   "source": [
    "result = model.fit()"
   ]
  },
  {
   "cell_type": "code",
   "execution_count": 23,
   "id": "80c633cd-966b-48f1-8632-928165cd8c22",
   "metadata": {
    "tags": []
   },
   "outputs": [
    {
     "data": {
      "text/html": [
       "<table class=\"simpletable\">\n",
       "<caption>OLS Regression Results</caption>\n",
       "<tr>\n",
       "  <th>Dep. Variable:</th>          <td>sales</td>      <th>  R-squared:         </th> <td>   0.836</td>\n",
       "</tr>\n",
       "<tr>\n",
       "  <th>Model:</th>                   <td>OLS</td>       <th>  Adj. R-squared:    </th> <td>   0.826</td>\n",
       "</tr>\n",
       "<tr>\n",
       "  <th>Method:</th>             <td>Least Squares</td>  <th>  F-statistic:       </th> <td>   83.88</td>\n",
       "</tr>\n",
       "<tr>\n",
       "  <th>Date:</th>             <td>Thu, 27 Apr 2023</td> <th>  Prob (F-statistic):</th> <td>1.15e-13</td>\n",
       "</tr>\n",
       "<tr>\n",
       "  <th>Time:</th>                 <td>13:39:48</td>     <th>  Log-Likelihood:    </th> <td> -226.15</td>\n",
       "</tr>\n",
       "<tr>\n",
       "  <th>No. Observations:</th>      <td>    36</td>      <th>  AIC:               </th> <td>   458.3</td>\n",
       "</tr>\n",
       "<tr>\n",
       "  <th>Df Residuals:</th>          <td>    33</td>      <th>  BIC:               </th> <td>   463.0</td>\n",
       "</tr>\n",
       "<tr>\n",
       "  <th>Df Model:</th>              <td>     2</td>      <th>                     </th>     <td> </td>   \n",
       "</tr>\n",
       "<tr>\n",
       "  <th>Covariance Type:</th>      <td>nonrobust</td>    <th>                     </th>     <td> </td>   \n",
       "</tr>\n",
       "</table>\n",
       "<table class=\"simpletable\">\n",
       "<tr>\n",
       "       <td></td>          <th>coef</th>     <th>std err</th>      <th>t</th>      <th>P>|t|</th>  <th>[0.025</th>    <th>0.975]</th>  \n",
       "</tr>\n",
       "<tr>\n",
       "  <th>const</th>       <td>  -86.2107</td> <td>   98.682</td> <td>   -0.874</td> <td> 0.389</td> <td> -286.980</td> <td>  114.559</td>\n",
       "</tr>\n",
       "<tr>\n",
       "  <th>temperature</th> <td>   47.6485</td> <td>    4.762</td> <td>   10.007</td> <td> 0.000</td> <td>   37.961</td> <td>   57.336</td>\n",
       "</tr>\n",
       "<tr>\n",
       "  <th>rainy</th>       <td>  178.0815</td> <td>   75.852</td> <td>    2.348</td> <td> 0.025</td> <td>   23.759</td> <td>  332.404</td>\n",
       "</tr>\n",
       "</table>\n",
       "<table class=\"simpletable\">\n",
       "<tr>\n",
       "  <th>Omnibus:</th>       <td> 3.161</td> <th>  Durbin-Watson:     </th> <td>   1.821</td>\n",
       "</tr>\n",
       "<tr>\n",
       "  <th>Prob(Omnibus):</th> <td> 0.206</td> <th>  Jarque-Bera (JB):  </th> <td>   1.483</td>\n",
       "</tr>\n",
       "<tr>\n",
       "  <th>Skew:</th>          <td> 0.031</td> <th>  Prob(JB):          </th> <td>   0.476</td>\n",
       "</tr>\n",
       "<tr>\n",
       "  <th>Kurtosis:</th>      <td> 2.008</td> <th>  Cond. No.          </th> <td>    94.6</td>\n",
       "</tr>\n",
       "</table><br/><br/>Notes:<br/>[1] Standard Errors assume that the covariance matrix of the errors is correctly specified."
      ],
      "text/plain": [
       "<class 'statsmodels.iolib.summary.Summary'>\n",
       "\"\"\"\n",
       "                            OLS Regression Results                            \n",
       "==============================================================================\n",
       "Dep. Variable:                  sales   R-squared:                       0.836\n",
       "Model:                            OLS   Adj. R-squared:                  0.826\n",
       "Method:                 Least Squares   F-statistic:                     83.88\n",
       "Date:                Thu, 27 Apr 2023   Prob (F-statistic):           1.15e-13\n",
       "Time:                        13:39:48   Log-Likelihood:                -226.15\n",
       "No. Observations:                  36   AIC:                             458.3\n",
       "Df Residuals:                      33   BIC:                             463.0\n",
       "Df Model:                           2                                         \n",
       "Covariance Type:            nonrobust                                         \n",
       "===============================================================================\n",
       "                  coef    std err          t      P>|t|      [0.025      0.975]\n",
       "-------------------------------------------------------------------------------\n",
       "const         -86.2107     98.682     -0.874      0.389    -286.980     114.559\n",
       "temperature    47.6485      4.762     10.007      0.000      37.961      57.336\n",
       "rainy         178.0815     75.852      2.348      0.025      23.759     332.404\n",
       "==============================================================================\n",
       "Omnibus:                        3.161   Durbin-Watson:                   1.821\n",
       "Prob(Omnibus):                  0.206   Jarque-Bera (JB):                1.483\n",
       "Skew:                           0.031   Prob(JB):                        0.476\n",
       "Kurtosis:                       2.008   Cond. No.                         94.6\n",
       "==============================================================================\n",
       "\n",
       "Notes:\n",
       "[1] Standard Errors assume that the covariance matrix of the errors is correctly specified.\n",
       "\"\"\""
      ]
     },
     "execution_count": 23,
     "metadata": {},
     "output_type": "execute_result"
    }
   ],
   "source": [
    "result.summary()"
   ]
  },
  {
   "cell_type": "code",
   "execution_count": 14,
   "id": "7c9147fe-9600-45e7-ba62-d73f66e9841f",
   "metadata": {
    "tags": []
   },
   "outputs": [],
   "source": [
    "#関数で言うと、sales = -340 + （温度✖️48） + （価格✖️1.2） + （雨かどうか✖️193）"
   ]
  },
  {
   "cell_type": "code",
   "execution_count": 24,
   "id": "279a771a-f9a5-4976-b171-6de5ebe9a4df",
   "metadata": {
    "tags": []
   },
   "outputs": [],
   "source": [
    "#価格はP値が高いので削除した"
   ]
  },
  {
   "cell_type": "code",
   "execution_count": 26,
   "id": "bc4257ab-4217-4351-a3de-8ceb0d269b9a",
   "metadata": {
    "tags": []
   },
   "outputs": [
    {
     "data": {
      "text/plain": [
       "0    692.242462\n",
       "1    804.817001\n",
       "2    399.804427\n",
       "3    811.363808\n",
       "4    890.584370\n",
       "dtype: float64"
      ]
     },
     "execution_count": 26,
     "metadata": {},
     "output_type": "execute_result"
    }
   ],
   "source": [
    "result.predict(sm.add_constant(sales_future[sales_x]))"
   ]
  },
  {
   "cell_type": "code",
   "execution_count": null,
   "id": "1e10615b-885c-445f-bed0-85d876a1fbec",
   "metadata": {},
   "outputs": [],
   "source": []
  }
 ],
 "metadata": {
  "kernelspec": {
   "display_name": "Python 3 (ipykernel)",
   "language": "python",
   "name": "python3"
  },
  "language_info": {
   "codemirror_mode": {
    "name": "ipython",
    "version": 3
   },
   "file_extension": ".py",
   "mimetype": "text/x-python",
   "name": "python",
   "nbconvert_exporter": "python",
   "pygments_lexer": "ipython3",
   "version": "3.11.1"
  }
 },
 "nbformat": 4,
 "nbformat_minor": 5
}
