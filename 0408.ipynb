{
 "cells": [
  {
   "cell_type": "code",
   "execution_count": 2,
   "id": "dd45584f-0f9c-4964-8724-28bcd1f0b48f",
   "metadata": {
    "tags": []
   },
   "outputs": [],
   "source": [
    "import pandas as pd\n",
    "import datetime"
   ]
  },
  {
   "cell_type": "code",
   "execution_count": 3,
   "id": "690c7f6b-3582-436f-ac05-ab20e50cb3a9",
   "metadata": {
    "tags": []
   },
   "outputs": [],
   "source": [
    "today = datetime.date(2020,9,14)"
   ]
  },
  {
   "cell_type": "code",
   "execution_count": 4,
   "id": "c98e057b-fec4-4356-8abb-6874afa627f3",
   "metadata": {
    "tags": []
   },
   "outputs": [
    {
     "data": {
      "text/plain": [
       "datetime.date(2020, 9, 14)"
      ]
     },
     "execution_count": 4,
     "metadata": {},
     "output_type": "execute_result"
    }
   ],
   "source": [
    "today"
   ]
  },
  {
   "cell_type": "code",
   "execution_count": 5,
   "id": "27e71495-e454-42ac-9ace-02513482ed46",
   "metadata": {
    "tags": []
   },
   "outputs": [
    {
     "data": {
      "text/plain": [
       "datetime.date"
      ]
     },
     "execution_count": 5,
     "metadata": {},
     "output_type": "execute_result"
    }
   ],
   "source": [
    "type(today)"
   ]
  },
  {
   "cell_type": "code",
   "execution_count": 6,
   "id": "842bd322-5a7e-4f19-9dc5-de36cd6e0ebe",
   "metadata": {
    "tags": []
   },
   "outputs": [
    {
     "data": {
      "text/plain": [
       "2020"
      ]
     },
     "execution_count": 6,
     "metadata": {},
     "output_type": "execute_result"
    }
   ],
   "source": [
    "today.year"
   ]
  },
  {
   "cell_type": "code",
   "execution_count": 7,
   "id": "35ba4263-07d5-4d17-b976-8c4f217f6926",
   "metadata": {
    "tags": []
   },
   "outputs": [
    {
     "data": {
      "text/plain": [
       "9"
      ]
     },
     "execution_count": 7,
     "metadata": {},
     "output_type": "execute_result"
    }
   ],
   "source": [
    "today.month"
   ]
  },
  {
   "cell_type": "code",
   "execution_count": 8,
   "id": "44e3ae21-ae57-4aba-ac7b-8fe8dadd3990",
   "metadata": {
    "tags": []
   },
   "outputs": [
    {
     "data": {
      "text/plain": [
       "datetime.date(2020, 9, 1)"
      ]
     },
     "execution_count": 8,
     "metadata": {},
     "output_type": "execute_result"
    }
   ],
   "source": [
    "datetime.date(today.year, today.month, 1)"
   ]
  },
  {
   "cell_type": "code",
   "execution_count": 9,
   "id": "dba566a5-2780-4e08-a7e0-50597fd4b541",
   "metadata": {
    "tags": []
   },
   "outputs": [],
   "source": [
    "month_start = datetime.date(today.year , today.month , 1)"
   ]
  },
  {
   "cell_type": "code",
   "execution_count": 10,
   "id": "83719be5-61c4-4cb7-b75a-fa556d650a09",
   "metadata": {
    "tags": []
   },
   "outputs": [
    {
     "data": {
      "text/plain": [
       "datetime.date(2020, 10, 1)"
      ]
     },
     "execution_count": 10,
     "metadata": {},
     "output_type": "execute_result"
    }
   ],
   "source": [
    "datetime.date(today.year,today.month+1,1)"
   ]
  },
  {
   "cell_type": "code",
   "execution_count": 11,
   "id": "80e6325a-51bc-47ae-b56f-c19c1119a400",
   "metadata": {
    "tags": []
   },
   "outputs": [],
   "source": [
    "from datetime import timedelta"
   ]
  },
  {
   "cell_type": "code",
   "execution_count": 12,
   "id": "3d10fa4c-38cc-4f4b-9db0-0a4d1a3fee24",
   "metadata": {
    "tags": []
   },
   "outputs": [
    {
     "data": {
      "text/plain": [
       "datetime.date(2020, 9, 30)"
      ]
     },
     "execution_count": 12,
     "metadata": {},
     "output_type": "execute_result"
    }
   ],
   "source": [
    "datetime.date(today.year, today.month+1,1) - timedelta(days=1)"
   ]
  },
  {
   "cell_type": "code",
   "execution_count": 13,
   "id": "f65c9817-8928-4e6d-8c55-6bc17b807c85",
   "metadata": {
    "tags": []
   },
   "outputs": [
    {
     "data": {
      "text/plain": [
       "datetime.date(2020, 9, 30)"
      ]
     },
     "execution_count": 13,
     "metadata": {},
     "output_type": "execute_result"
    }
   ],
   "source": [
    "month_end = datetime.date(today.year, today.month+1,1) - timedelta(days=1)\n",
    "month_end"
   ]
  },
  {
   "cell_type": "code",
   "execution_count": 14,
   "id": "9b82e18b-f4c1-4b2f-9674-360e3d5a9543",
   "metadata": {
    "tags": []
   },
   "outputs": [],
   "source": [
    "import_file = \"/Users/kato/Desktop/mypython/sample_auto03.xlsx\""
   ]
  },
  {
   "cell_type": "code",
   "execution_count": 15,
   "id": "195d657a-2a45-4cf8-90c4-674ae38d4a41",
   "metadata": {
    "tags": []
   },
   "outputs": [],
   "source": [
    "excel_sheetname01 = \"201909\"\n",
    "excel_sheetname02 = \"202009\""
   ]
  },
  {
   "cell_type": "code",
   "execution_count": 16,
   "id": "ced51518-f0a1-4398-83a0-9dc8d3b5a283",
   "metadata": {
    "tags": []
   },
   "outputs": [
    {
     "data": {
      "text/html": [
       "<div>\n",
       "<style scoped>\n",
       "    .dataframe tbody tr th:only-of-type {\n",
       "        vertical-align: middle;\n",
       "    }\n",
       "\n",
       "    .dataframe tbody tr th {\n",
       "        vertical-align: top;\n",
       "    }\n",
       "\n",
       "    .dataframe thead th {\n",
       "        text-align: right;\n",
       "    }\n",
       "</style>\n",
       "<table border=\"1\" class=\"dataframe\">\n",
       "  <thead>\n",
       "    <tr style=\"text-align: right;\">\n",
       "      <th></th>\n",
       "      <th>sales</th>\n",
       "      <th>cost</th>\n",
       "    </tr>\n",
       "    <tr>\n",
       "      <th>date</th>\n",
       "      <th></th>\n",
       "      <th></th>\n",
       "    </tr>\n",
       "  </thead>\n",
       "  <tbody>\n",
       "    <tr>\n",
       "      <th>2019-08-30</th>\n",
       "      <td>370193.0</td>\n",
       "      <td>10000</td>\n",
       "    </tr>\n",
       "    <tr>\n",
       "      <th>2019-08-31</th>\n",
       "      <td>604558.0</td>\n",
       "      <td>11000</td>\n",
       "    </tr>\n",
       "    <tr>\n",
       "      <th>2019-09-01</th>\n",
       "      <td>451000.0</td>\n",
       "      <td>3500</td>\n",
       "    </tr>\n",
       "  </tbody>\n",
       "</table>\n",
       "</div>"
      ],
      "text/plain": [
       "               sales   cost\n",
       "date                       \n",
       "2019-08-30  370193.0  10000\n",
       "2019-08-31  604558.0  11000\n",
       "2019-09-01  451000.0   3500"
      ]
     },
     "execution_count": 16,
     "metadata": {},
     "output_type": "execute_result"
    }
   ],
   "source": [
    "df_201909 = pd.read_excel(import_file, sheet_name = excel_sheetname01,index_col=\"date\")\n",
    "df_201909.head(3)"
   ]
  },
  {
   "cell_type": "code",
   "execution_count": 17,
   "id": "377dd55c-e8c9-4888-b8ab-38d0a8dab2b4",
   "metadata": {
    "tags": []
   },
   "outputs": [],
   "source": [
    "import pandas.tseries.offsets as offsets"
   ]
  },
  {
   "cell_type": "code",
   "execution_count": 18,
   "id": "ae487e75-4da5-4885-90e7-f7e6ddc6ee3f",
   "metadata": {
    "tags": []
   },
   "outputs": [
    {
     "data": {
      "text/plain": [
       "DatetimeIndex(['2020-08-28', '2020-08-29', '2020-08-30', '2020-08-31',\n",
       "               '2020-09-01', '2020-09-02', '2020-09-03', '2020-09-04',\n",
       "               '2020-09-05', '2020-09-06', '2020-09-07', '2020-09-08',\n",
       "               '2020-09-09', '2020-09-10', '2020-09-11', '2020-09-12',\n",
       "               '2020-09-13', '2020-09-14', '2020-09-15', '2020-09-16',\n",
       "               '2020-09-17', '2020-09-18', '2020-09-19', '2020-09-20',\n",
       "               '2020-09-21', '2020-09-22', '2020-09-23', '2020-09-24',\n",
       "               '2020-09-25', '2020-09-26', '2020-09-27', '2020-09-28'],\n",
       "              dtype='datetime64[ns]', name='date', freq=None)"
      ]
     },
     "execution_count": 18,
     "metadata": {},
     "output_type": "execute_result"
    }
   ],
   "source": [
    "df_201909.index + offsets.Day(364)"
   ]
  },
  {
   "cell_type": "code",
   "execution_count": 19,
   "id": "7981cea4-76fc-44cb-b291-e91a2c0af6b5",
   "metadata": {
    "tags": []
   },
   "outputs": [],
   "source": [
    "df_201909[\"next_year\"] = df_201909.index + offsets.Day(364)"
   ]
  },
  {
   "cell_type": "code",
   "execution_count": 20,
   "id": "121f81bb-e614-42b5-bf44-e9503b4803eb",
   "metadata": {
    "tags": []
   },
   "outputs": [
    {
     "data": {
      "text/html": [
       "<div>\n",
       "<style scoped>\n",
       "    .dataframe tbody tr th:only-of-type {\n",
       "        vertical-align: middle;\n",
       "    }\n",
       "\n",
       "    .dataframe tbody tr th {\n",
       "        vertical-align: top;\n",
       "    }\n",
       "\n",
       "    .dataframe thead th {\n",
       "        text-align: right;\n",
       "    }\n",
       "</style>\n",
       "<table border=\"1\" class=\"dataframe\">\n",
       "  <thead>\n",
       "    <tr style=\"text-align: right;\">\n",
       "      <th></th>\n",
       "      <th>sales</th>\n",
       "      <th>cost</th>\n",
       "      <th>next_year</th>\n",
       "    </tr>\n",
       "    <tr>\n",
       "      <th>date</th>\n",
       "      <th></th>\n",
       "      <th></th>\n",
       "      <th></th>\n",
       "    </tr>\n",
       "  </thead>\n",
       "  <tbody>\n",
       "    <tr>\n",
       "      <th>2019-08-30</th>\n",
       "      <td>370193.0</td>\n",
       "      <td>10000</td>\n",
       "      <td>2020-08-28</td>\n",
       "    </tr>\n",
       "    <tr>\n",
       "      <th>2019-08-31</th>\n",
       "      <td>604558.0</td>\n",
       "      <td>11000</td>\n",
       "      <td>2020-08-29</td>\n",
       "    </tr>\n",
       "    <tr>\n",
       "      <th>2019-09-01</th>\n",
       "      <td>451000.0</td>\n",
       "      <td>3500</td>\n",
       "      <td>2020-08-30</td>\n",
       "    </tr>\n",
       "  </tbody>\n",
       "</table>\n",
       "</div>"
      ],
      "text/plain": [
       "               sales   cost  next_year\n",
       "date                                  \n",
       "2019-08-30  370193.0  10000 2020-08-28\n",
       "2019-08-31  604558.0  11000 2020-08-29\n",
       "2019-09-01  451000.0   3500 2020-08-30"
      ]
     },
     "execution_count": 20,
     "metadata": {},
     "output_type": "execute_result"
    }
   ],
   "source": [
    "df_201909.head(3)"
   ]
  },
  {
   "cell_type": "code",
   "execution_count": 22,
   "id": "bba1a5bc-5b3d-4f42-b453-fea204e24dac",
   "metadata": {
    "tags": []
   },
   "outputs": [],
   "source": [
    "df_201909 = df_201909.drop([\"cost\"],axis=1)"
   ]
  },
  {
   "cell_type": "code",
   "execution_count": 23,
   "id": "7606e1fe-be6d-465a-9f92-6751a28fe13b",
   "metadata": {
    "tags": []
   },
   "outputs": [
    {
     "data": {
      "text/html": [
       "<div>\n",
       "<style scoped>\n",
       "    .dataframe tbody tr th:only-of-type {\n",
       "        vertical-align: middle;\n",
       "    }\n",
       "\n",
       "    .dataframe tbody tr th {\n",
       "        vertical-align: top;\n",
       "    }\n",
       "\n",
       "    .dataframe thead th {\n",
       "        text-align: right;\n",
       "    }\n",
       "</style>\n",
       "<table border=\"1\" class=\"dataframe\">\n",
       "  <thead>\n",
       "    <tr style=\"text-align: right;\">\n",
       "      <th></th>\n",
       "      <th>sales</th>\n",
       "      <th>next_year</th>\n",
       "    </tr>\n",
       "    <tr>\n",
       "      <th>date</th>\n",
       "      <th></th>\n",
       "      <th></th>\n",
       "    </tr>\n",
       "  </thead>\n",
       "  <tbody>\n",
       "    <tr>\n",
       "      <th>2019-08-30</th>\n",
       "      <td>370193.0</td>\n",
       "      <td>2020-08-28</td>\n",
       "    </tr>\n",
       "    <tr>\n",
       "      <th>2019-08-31</th>\n",
       "      <td>604558.0</td>\n",
       "      <td>2020-08-29</td>\n",
       "    </tr>\n",
       "    <tr>\n",
       "      <th>2019-09-01</th>\n",
       "      <td>451000.0</td>\n",
       "      <td>2020-08-30</td>\n",
       "    </tr>\n",
       "  </tbody>\n",
       "</table>\n",
       "</div>"
      ],
      "text/plain": [
       "               sales  next_year\n",
       "date                           \n",
       "2019-08-30  370193.0 2020-08-28\n",
       "2019-08-31  604558.0 2020-08-29\n",
       "2019-09-01  451000.0 2020-08-30"
      ]
     },
     "execution_count": 23,
     "metadata": {},
     "output_type": "execute_result"
    }
   ],
   "source": [
    "df_201909.head(3)"
   ]
  },
  {
   "cell_type": "code",
   "execution_count": 24,
   "id": "f6e00bd3-c2cd-4249-8071-623538b686e9",
   "metadata": {
    "tags": []
   },
   "outputs": [
    {
     "data": {
      "text/html": [
       "<div>\n",
       "<style scoped>\n",
       "    .dataframe tbody tr th:only-of-type {\n",
       "        vertical-align: middle;\n",
       "    }\n",
       "\n",
       "    .dataframe tbody tr th {\n",
       "        vertical-align: top;\n",
       "    }\n",
       "\n",
       "    .dataframe thead th {\n",
       "        text-align: right;\n",
       "    }\n",
       "</style>\n",
       "<table border=\"1\" class=\"dataframe\">\n",
       "  <thead>\n",
       "    <tr style=\"text-align: right;\">\n",
       "      <th></th>\n",
       "      <th>sales</th>\n",
       "      <th>cost</th>\n",
       "    </tr>\n",
       "    <tr>\n",
       "      <th>date</th>\n",
       "      <th></th>\n",
       "      <th></th>\n",
       "    </tr>\n",
       "  </thead>\n",
       "  <tbody>\n",
       "    <tr>\n",
       "      <th>2020-08-25</th>\n",
       "      <td>254364.0</td>\n",
       "      <td>1000.0</td>\n",
       "    </tr>\n",
       "    <tr>\n",
       "      <th>2020-08-26</th>\n",
       "      <td>286343.0</td>\n",
       "      <td>1000.0</td>\n",
       "    </tr>\n",
       "    <tr>\n",
       "      <th>2020-08-27</th>\n",
       "      <td>265857.0</td>\n",
       "      <td>1000.0</td>\n",
       "    </tr>\n",
       "  </tbody>\n",
       "</table>\n",
       "</div>"
      ],
      "text/plain": [
       "               sales    cost\n",
       "date                        \n",
       "2020-08-25  254364.0  1000.0\n",
       "2020-08-26  286343.0  1000.0\n",
       "2020-08-27  265857.0  1000.0"
      ]
     },
     "execution_count": 24,
     "metadata": {},
     "output_type": "execute_result"
    }
   ],
   "source": [
    "df_202009 = pd.read_excel(import_file, sheet_name = excel_sheetname02,index_col=\"date\")\n",
    "df_202009.head(3)"
   ]
  },
  {
   "cell_type": "code",
   "execution_count": 25,
   "id": "d1a043bd-3ce6-4a78-a8d6-2548bbd8fd8a",
   "metadata": {
    "tags": []
   },
   "outputs": [
    {
     "data": {
      "text/html": [
       "<div>\n",
       "<style scoped>\n",
       "    .dataframe tbody tr th:only-of-type {\n",
       "        vertical-align: middle;\n",
       "    }\n",
       "\n",
       "    .dataframe tbody tr th {\n",
       "        vertical-align: top;\n",
       "    }\n",
       "\n",
       "    .dataframe thead th {\n",
       "        text-align: right;\n",
       "    }\n",
       "</style>\n",
       "<table border=\"1\" class=\"dataframe\">\n",
       "  <thead>\n",
       "    <tr style=\"text-align: right;\">\n",
       "      <th></th>\n",
       "      <th>sales_x</th>\n",
       "      <th>next_year</th>\n",
       "      <th>sales_y</th>\n",
       "      <th>cost</th>\n",
       "    </tr>\n",
       "  </thead>\n",
       "  <tbody>\n",
       "    <tr>\n",
       "      <th>NaT</th>\n",
       "      <td>NaN</td>\n",
       "      <td>2020-08-25</td>\n",
       "      <td>254364.0</td>\n",
       "      <td>1000.0</td>\n",
       "    </tr>\n",
       "    <tr>\n",
       "      <th>NaT</th>\n",
       "      <td>NaN</td>\n",
       "      <td>2020-08-26</td>\n",
       "      <td>286343.0</td>\n",
       "      <td>1000.0</td>\n",
       "    </tr>\n",
       "    <tr>\n",
       "      <th>NaT</th>\n",
       "      <td>NaN</td>\n",
       "      <td>2020-08-27</td>\n",
       "      <td>265857.0</td>\n",
       "      <td>1000.0</td>\n",
       "    </tr>\n",
       "  </tbody>\n",
       "</table>\n",
       "</div>"
      ],
      "text/plain": [
       "     sales_x  next_year   sales_y    cost\n",
       "NaT      NaN 2020-08-25  254364.0  1000.0\n",
       "NaT      NaN 2020-08-26  286343.0  1000.0\n",
       "NaT      NaN 2020-08-27  265857.0  1000.0"
      ]
     },
     "execution_count": 25,
     "metadata": {},
     "output_type": "execute_result"
    }
   ],
   "source": [
    "df_this_year = pd.merge(df_201909,df_202009,left_on=\"next_year\",right_index=True,how=\"right\")\n",
    "df_this_year.head(3)"
   ]
  },
  {
   "cell_type": "code",
   "execution_count": 66,
   "id": "8acbe589-fb3f-4957-a888-f8c23d09d40e",
   "metadata": {
    "tags": []
   },
   "outputs": [],
   "source": [
    "df_this_year = df_this_year.rename(columns={\"sales_x\":\"this_year_sales\",\"sales_y\":\"last_year_sales\",\"next_year\":\"date\"})"
   ]
  },
  {
   "cell_type": "code",
   "execution_count": 26,
   "id": "c6e89489-25a4-4084-b7c9-db3601904352",
   "metadata": {
    "tags": []
   },
   "outputs": [
    {
     "data": {
      "text/html": [
       "<div>\n",
       "<style scoped>\n",
       "    .dataframe tbody tr th:only-of-type {\n",
       "        vertical-align: middle;\n",
       "    }\n",
       "\n",
       "    .dataframe tbody tr th {\n",
       "        vertical-align: top;\n",
       "    }\n",
       "\n",
       "    .dataframe thead th {\n",
       "        text-align: right;\n",
       "    }\n",
       "</style>\n",
       "<table border=\"1\" class=\"dataframe\">\n",
       "  <thead>\n",
       "    <tr style=\"text-align: right;\">\n",
       "      <th></th>\n",
       "      <th>sales_x</th>\n",
       "      <th>next_year</th>\n",
       "      <th>sales_y</th>\n",
       "      <th>cost</th>\n",
       "    </tr>\n",
       "  </thead>\n",
       "  <tbody>\n",
       "    <tr>\n",
       "      <th>NaT</th>\n",
       "      <td>NaN</td>\n",
       "      <td>2020-08-25</td>\n",
       "      <td>254364.0</td>\n",
       "      <td>1000.0</td>\n",
       "    </tr>\n",
       "    <tr>\n",
       "      <th>NaT</th>\n",
       "      <td>NaN</td>\n",
       "      <td>2020-08-26</td>\n",
       "      <td>286343.0</td>\n",
       "      <td>1000.0</td>\n",
       "    </tr>\n",
       "    <tr>\n",
       "      <th>NaT</th>\n",
       "      <td>NaN</td>\n",
       "      <td>2020-08-27</td>\n",
       "      <td>265857.0</td>\n",
       "      <td>1000.0</td>\n",
       "    </tr>\n",
       "  </tbody>\n",
       "</table>\n",
       "</div>"
      ],
      "text/plain": [
       "     sales_x  next_year   sales_y    cost\n",
       "NaT      NaN 2020-08-25  254364.0  1000.0\n",
       "NaT      NaN 2020-08-26  286343.0  1000.0\n",
       "NaT      NaN 2020-08-27  265857.0  1000.0"
      ]
     },
     "execution_count": 26,
     "metadata": {},
     "output_type": "execute_result"
    }
   ],
   "source": [
    "df_this_year.head(3)"
   ]
  },
  {
   "cell_type": "code",
   "execution_count": 27,
   "id": "ba34a2bb-29d6-4372-9f59-38f0dd325afe",
   "metadata": {
    "tags": []
   },
   "outputs": [
    {
     "ename": "KeyError",
     "evalue": "\"None of ['date'] are in the columns\"",
     "output_type": "error",
     "traceback": [
      "\u001b[0;31m---------------------------------------------------------------------------\u001b[0m",
      "\u001b[0;31mKeyError\u001b[0m                                  Traceback (most recent call last)",
      "Cell \u001b[0;32mIn[27], line 1\u001b[0m\n\u001b[0;32m----> 1\u001b[0m df_this_year \u001b[38;5;241m=\u001b[39m \u001b[43mdf_this_year\u001b[49m\u001b[38;5;241;43m.\u001b[39;49m\u001b[43mset_index\u001b[49m\u001b[43m(\u001b[49m\u001b[38;5;124;43m\"\u001b[39;49m\u001b[38;5;124;43mdate\u001b[39;49m\u001b[38;5;124;43m\"\u001b[39;49m\u001b[43m)\u001b[49m\n\u001b[1;32m      2\u001b[0m df_this_year\u001b[38;5;241m.\u001b[39mhead(\u001b[38;5;241m3\u001b[39m)\n",
      "File \u001b[0;32m~/.pyenv/versions/3.11.1/lib/python3.11/site-packages/pandas/core/frame.py:5867\u001b[0m, in \u001b[0;36mDataFrame.set_index\u001b[0;34m(self, keys, drop, append, inplace, verify_integrity)\u001b[0m\n\u001b[1;32m   5864\u001b[0m                 missing\u001b[38;5;241m.\u001b[39mappend(col)\n\u001b[1;32m   5866\u001b[0m \u001b[38;5;28;01mif\u001b[39;00m missing:\n\u001b[0;32m-> 5867\u001b[0m     \u001b[38;5;28;01mraise\u001b[39;00m \u001b[38;5;167;01mKeyError\u001b[39;00m(\u001b[38;5;124mf\u001b[39m\u001b[38;5;124m\"\u001b[39m\u001b[38;5;124mNone of \u001b[39m\u001b[38;5;132;01m{\u001b[39;00mmissing\u001b[38;5;132;01m}\u001b[39;00m\u001b[38;5;124m are in the columns\u001b[39m\u001b[38;5;124m\"\u001b[39m)\n\u001b[1;32m   5869\u001b[0m \u001b[38;5;28;01mif\u001b[39;00m inplace:\n\u001b[1;32m   5870\u001b[0m     frame \u001b[38;5;241m=\u001b[39m \u001b[38;5;28mself\u001b[39m\n",
      "\u001b[0;31mKeyError\u001b[0m: \"None of ['date'] are in the columns\""
     ]
    }
   ],
   "source": [
    "df_this_year = df_this_year.set_index(\"date\")\n",
    "df_this_year.head(3)"
   ]
  },
  {
   "cell_type": "code",
   "execution_count": 28,
   "id": "515c36cd-0fe8-4fc4-972c-75ac5b8039d3",
   "metadata": {
    "tags": []
   },
   "outputs": [
    {
     "data": {
      "text/html": [
       "<div>\n",
       "<style scoped>\n",
       "    .dataframe tbody tr th:only-of-type {\n",
       "        vertical-align: middle;\n",
       "    }\n",
       "\n",
       "    .dataframe tbody tr th {\n",
       "        vertical-align: top;\n",
       "    }\n",
       "\n",
       "    .dataframe thead th {\n",
       "        text-align: right;\n",
       "    }\n",
       "</style>\n",
       "<table border=\"1\" class=\"dataframe\">\n",
       "  <thead>\n",
       "    <tr style=\"text-align: right;\">\n",
       "      <th></th>\n",
       "      <th>sales_x</th>\n",
       "      <th>next_year</th>\n",
       "      <th>sales_y</th>\n",
       "      <th>cost</th>\n",
       "    </tr>\n",
       "  </thead>\n",
       "  <tbody>\n",
       "    <tr>\n",
       "      <th>2019-08-30</th>\n",
       "      <td>370193.0</td>\n",
       "      <td>2020-08-28</td>\n",
       "      <td>302279.0</td>\n",
       "      <td>1000.0</td>\n",
       "    </tr>\n",
       "    <tr>\n",
       "      <th>2019-08-31</th>\n",
       "      <td>604558.0</td>\n",
       "      <td>2020-08-29</td>\n",
       "      <td>558500.0</td>\n",
       "      <td>1000.0</td>\n",
       "    </tr>\n",
       "    <tr>\n",
       "      <th>2019-09-01</th>\n",
       "      <td>451000.0</td>\n",
       "      <td>2020-08-30</td>\n",
       "      <td>588152.0</td>\n",
       "      <td>1000.0</td>\n",
       "    </tr>\n",
       "  </tbody>\n",
       "</table>\n",
       "</div>"
      ],
      "text/plain": [
       "             sales_x  next_year   sales_y    cost\n",
       "2019-08-30  370193.0 2020-08-28  302279.0  1000.0\n",
       "2019-08-31  604558.0 2020-08-29  558500.0  1000.0\n",
       "2019-09-01  451000.0 2020-08-30  588152.0  1000.0"
      ]
     },
     "execution_count": 28,
     "metadata": {},
     "output_type": "execute_result"
    }
   ],
   "source": [
    "df_this_year = df_this_year.sort_index()\n",
    "df_this_year.head(3)"
   ]
  },
  {
   "cell_type": "code",
   "execution_count": 29,
   "id": "81f31a98-7ef4-4b27-a8a8-572507b5a239",
   "metadata": {
    "tags": []
   },
   "outputs": [
    {
     "ename": "KeyError",
     "evalue": "'this_year_sales'",
     "output_type": "error",
     "traceback": [
      "\u001b[0;31m---------------------------------------------------------------------------\u001b[0m",
      "\u001b[0;31mKeyError\u001b[0m                                  Traceback (most recent call last)",
      "File \u001b[0;32m~/.pyenv/versions/3.11.1/lib/python3.11/site-packages/pandas/core/indexes/base.py:3652\u001b[0m, in \u001b[0;36mIndex.get_loc\u001b[0;34m(self, key)\u001b[0m\n\u001b[1;32m   3651\u001b[0m \u001b[38;5;28;01mtry\u001b[39;00m:\n\u001b[0;32m-> 3652\u001b[0m     \u001b[38;5;28;01mreturn\u001b[39;00m \u001b[38;5;28;43mself\u001b[39;49m\u001b[38;5;241;43m.\u001b[39;49m\u001b[43m_engine\u001b[49m\u001b[38;5;241;43m.\u001b[39;49m\u001b[43mget_loc\u001b[49m\u001b[43m(\u001b[49m\u001b[43mcasted_key\u001b[49m\u001b[43m)\u001b[49m\n\u001b[1;32m   3653\u001b[0m \u001b[38;5;28;01mexcept\u001b[39;00m \u001b[38;5;167;01mKeyError\u001b[39;00m \u001b[38;5;28;01mas\u001b[39;00m err:\n",
      "File \u001b[0;32m~/.pyenv/versions/3.11.1/lib/python3.11/site-packages/pandas/_libs/index.pyx:147\u001b[0m, in \u001b[0;36mpandas._libs.index.IndexEngine.get_loc\u001b[0;34m()\u001b[0m\n",
      "File \u001b[0;32m~/.pyenv/versions/3.11.1/lib/python3.11/site-packages/pandas/_libs/index.pyx:176\u001b[0m, in \u001b[0;36mpandas._libs.index.IndexEngine.get_loc\u001b[0;34m()\u001b[0m\n",
      "File \u001b[0;32mpandas/_libs/hashtable_class_helper.pxi:7080\u001b[0m, in \u001b[0;36mpandas._libs.hashtable.PyObjectHashTable.get_item\u001b[0;34m()\u001b[0m\n",
      "File \u001b[0;32mpandas/_libs/hashtable_class_helper.pxi:7088\u001b[0m, in \u001b[0;36mpandas._libs.hashtable.PyObjectHashTable.get_item\u001b[0;34m()\u001b[0m\n",
      "\u001b[0;31mKeyError\u001b[0m: 'this_year_sales'",
      "\nThe above exception was the direct cause of the following exception:\n",
      "\u001b[0;31mKeyError\u001b[0m                                  Traceback (most recent call last)",
      "Cell \u001b[0;32mIn[29], line 1\u001b[0m\n\u001b[0;32m----> 1\u001b[0m df_this_year[\u001b[38;5;124m\"\u001b[39m\u001b[38;5;124mlast_year_per\u001b[39m\u001b[38;5;124m\"\u001b[39m] \u001b[38;5;241m=\u001b[39m \u001b[43mdf_this_year\u001b[49m\u001b[43m[\u001b[49m\u001b[38;5;124;43m\"\u001b[39;49m\u001b[38;5;124;43mthis_year_sales\u001b[39;49m\u001b[38;5;124;43m\"\u001b[39;49m\u001b[43m]\u001b[49m \u001b[38;5;241m/\u001b[39m df_this_year[\u001b[38;5;124m\"\u001b[39m\u001b[38;5;124mlast_year_sales\u001b[39m\u001b[38;5;124m\"\u001b[39m]\n\u001b[1;32m      2\u001b[0m df_this_year\u001b[38;5;241m.\u001b[39mhead(\u001b[38;5;241m3\u001b[39m)\n",
      "File \u001b[0;32m~/.pyenv/versions/3.11.1/lib/python3.11/site-packages/pandas/core/frame.py:3760\u001b[0m, in \u001b[0;36mDataFrame.__getitem__\u001b[0;34m(self, key)\u001b[0m\n\u001b[1;32m   3758\u001b[0m \u001b[38;5;28;01mif\u001b[39;00m \u001b[38;5;28mself\u001b[39m\u001b[38;5;241m.\u001b[39mcolumns\u001b[38;5;241m.\u001b[39mnlevels \u001b[38;5;241m>\u001b[39m \u001b[38;5;241m1\u001b[39m:\n\u001b[1;32m   3759\u001b[0m     \u001b[38;5;28;01mreturn\u001b[39;00m \u001b[38;5;28mself\u001b[39m\u001b[38;5;241m.\u001b[39m_getitem_multilevel(key)\n\u001b[0;32m-> 3760\u001b[0m indexer \u001b[38;5;241m=\u001b[39m \u001b[38;5;28;43mself\u001b[39;49m\u001b[38;5;241;43m.\u001b[39;49m\u001b[43mcolumns\u001b[49m\u001b[38;5;241;43m.\u001b[39;49m\u001b[43mget_loc\u001b[49m\u001b[43m(\u001b[49m\u001b[43mkey\u001b[49m\u001b[43m)\u001b[49m\n\u001b[1;32m   3761\u001b[0m \u001b[38;5;28;01mif\u001b[39;00m is_integer(indexer):\n\u001b[1;32m   3762\u001b[0m     indexer \u001b[38;5;241m=\u001b[39m [indexer]\n",
      "File \u001b[0;32m~/.pyenv/versions/3.11.1/lib/python3.11/site-packages/pandas/core/indexes/base.py:3654\u001b[0m, in \u001b[0;36mIndex.get_loc\u001b[0;34m(self, key)\u001b[0m\n\u001b[1;32m   3652\u001b[0m     \u001b[38;5;28;01mreturn\u001b[39;00m \u001b[38;5;28mself\u001b[39m\u001b[38;5;241m.\u001b[39m_engine\u001b[38;5;241m.\u001b[39mget_loc(casted_key)\n\u001b[1;32m   3653\u001b[0m \u001b[38;5;28;01mexcept\u001b[39;00m \u001b[38;5;167;01mKeyError\u001b[39;00m \u001b[38;5;28;01mas\u001b[39;00m err:\n\u001b[0;32m-> 3654\u001b[0m     \u001b[38;5;28;01mraise\u001b[39;00m \u001b[38;5;167;01mKeyError\u001b[39;00m(key) \u001b[38;5;28;01mfrom\u001b[39;00m \u001b[38;5;21;01merr\u001b[39;00m\n\u001b[1;32m   3655\u001b[0m \u001b[38;5;28;01mexcept\u001b[39;00m \u001b[38;5;167;01mTypeError\u001b[39;00m:\n\u001b[1;32m   3656\u001b[0m     \u001b[38;5;66;03m# If we have a listlike key, _check_indexing_error will raise\u001b[39;00m\n\u001b[1;32m   3657\u001b[0m     \u001b[38;5;66;03m#  InvalidIndexError. Otherwise we fall through and re-raise\u001b[39;00m\n\u001b[1;32m   3658\u001b[0m     \u001b[38;5;66;03m#  the TypeError.\u001b[39;00m\n\u001b[1;32m   3659\u001b[0m     \u001b[38;5;28mself\u001b[39m\u001b[38;5;241m.\u001b[39m_check_indexing_error(key)\n",
      "\u001b[0;31mKeyError\u001b[0m: 'this_year_sales'"
     ]
    }
   ],
   "source": [
    "df_this_year[\"last_year_per\"] = df_this_year[\"this_year_sales\"] / df_this_year[\"last_year_sales\"]\n",
    "df_this_year.head(3)"
   ]
  },
  {
   "cell_type": "code",
   "execution_count": 72,
   "id": "cace7800-f266-48e7-b285-b262bd677453",
   "metadata": {
    "tags": []
   },
   "outputs": [
    {
     "data": {
      "text/plain": [
       "date\n",
       "2020-08-25         NaN\n",
       "2020-08-26         NaN\n",
       "2020-08-27         NaN\n",
       "2020-08-28    370193.0\n",
       "2020-08-29    604558.0\n",
       "2020-08-30    451000.0\n",
       "2020-08-31    313000.0\n",
       "2020-09-01    298000.0\n",
       "2020-09-02    310000.0\n",
       "2020-09-03    290000.0\n",
       "2020-09-04    369000.0\n",
       "2020-09-05    602000.0\n",
       "2020-09-06    655000.0\n",
       "2020-09-07    287000.0\n",
       "2020-09-08    268000.0\n",
       "2020-09-09    243000.0\n",
       "2020-09-10    251000.0\n",
       "2020-09-11    276000.0\n",
       "2020-09-12    420700.0\n",
       "2020-09-13    478800.0\n",
       "2020-09-14    392000.0\n",
       "2020-09-15    260000.0\n",
       "2020-09-16    245000.0\n",
       "2020-09-17    239000.0\n",
       "2020-09-18    399600.0\n",
       "2020-09-19    652800.0\n",
       "2020-09-20    744000.0\n",
       "2020-09-21    390000.0\n",
       "2020-09-22    249000.0\n",
       "2020-09-23    212000.0\n",
       "2020-09-24    246000.0\n",
       "2020-09-25    267000.0\n",
       "2020-09-26    466000.0\n",
       "2020-09-27    491000.0\n",
       "2020-09-28    239000.0\n",
       "2020-09-29         NaN\n",
       "2020-09-30         NaN\n",
       "Name: this_year_sales, dtype: float64"
      ]
     },
     "execution_count": 72,
     "metadata": {},
     "output_type": "execute_result"
    }
   ],
   "source": [
    "df_this_year[\"this_year_sales\"]"
   ]
  },
  {
   "cell_type": "code",
   "execution_count": 73,
   "id": "1972115f-adf6-46ee-b339-2ecf9c53d4e5",
   "metadata": {
    "tags": []
   },
   "outputs": [
    {
     "data": {
      "text/plain": [
       "date\n",
       "2020-08-25         NaN\n",
       "2020-08-26         NaN\n",
       "2020-08-27         NaN\n",
       "2020-08-28         NaN\n",
       "2020-08-29         NaN\n",
       "2020-08-30         NaN\n",
       "2020-08-31         NaN\n",
       "2020-09-01         NaN\n",
       "2020-09-02         NaN\n",
       "2020-09-03         NaN\n",
       "2020-09-04    370193.0\n",
       "2020-09-05    604558.0\n",
       "2020-09-06    451000.0\n",
       "2020-09-07    313000.0\n",
       "2020-09-08    298000.0\n",
       "2020-09-09    310000.0\n",
       "2020-09-10    290000.0\n",
       "2020-09-11    369000.0\n",
       "2020-09-12    602000.0\n",
       "2020-09-13    655000.0\n",
       "2020-09-14    287000.0\n",
       "2020-09-15    268000.0\n",
       "2020-09-16    243000.0\n",
       "2020-09-17    251000.0\n",
       "2020-09-18    276000.0\n",
       "2020-09-19    420700.0\n",
       "2020-09-20    478800.0\n",
       "2020-09-21    392000.0\n",
       "2020-09-22    260000.0\n",
       "2020-09-23    245000.0\n",
       "2020-09-24    239000.0\n",
       "2020-09-25    399600.0\n",
       "2020-09-26    652800.0\n",
       "2020-09-27    744000.0\n",
       "2020-09-28    390000.0\n",
       "2020-09-29    249000.0\n",
       "2020-09-30    212000.0\n",
       "Name: this_year_sales, dtype: float64"
      ]
     },
     "execution_count": 73,
     "metadata": {},
     "output_type": "execute_result"
    }
   ],
   "source": [
    "df_this_year[\"this_year_sales\"].shift(7)"
   ]
  },
  {
   "cell_type": "code",
   "execution_count": 1,
   "id": "acca73fd-445e-4340-af35-74af76233723",
   "metadata": {
    "tags": []
   },
   "outputs": [
    {
     "ename": "NameError",
     "evalue": "name 'df_this_year' is not defined",
     "output_type": "error",
     "traceback": [
      "\u001b[0;31m---------------------------------------------------------------------------\u001b[0m",
      "\u001b[0;31mNameError\u001b[0m                                 Traceback (most recent call last)",
      "Cell \u001b[0;32mIn[1], line 1\u001b[0m\n\u001b[0;32m----> 1\u001b[0m df_this_year[\u001b[38;5;124m\"\u001b[39m\u001b[38;5;124mlast_week_sales\u001b[39m\u001b[38;5;124m\"\u001b[39m] \u001b[38;5;241m=\u001b[39m \u001b[43mdf_this_year\u001b[49m[\u001b[38;5;124m\"\u001b[39m\u001b[38;5;124mthis_year_sales\u001b[39m\u001b[38;5;124m\"\u001b[39m]\u001b[38;5;241m.\u001b[39mshift(\u001b[38;5;241m7\u001b[39m)\n\u001b[1;32m      2\u001b[0m df_this_year\u001b[38;5;241m.\u001b[39mhead(\u001b[38;5;241m3\u001b[39m)\n",
      "\u001b[0;31mNameError\u001b[0m: name 'df_this_year' is not defined"
     ]
    }
   ],
   "source": [
    "df_this_year[\"last_week_sales\"] = df_this_year[\"this_year_sales\"].shift(7)\n",
    "df_this_year.head(3)"
   ]
  },
  {
   "cell_type": "code",
   "execution_count": null,
   "id": "94293985-bf42-411e-b1d8-680823f961d8",
   "metadata": {},
   "outputs": [],
   "source": []
  }
 ],
 "metadata": {
  "kernelspec": {
   "display_name": "Python 3 (ipykernel)",
   "language": "python",
   "name": "python3"
  },
  "language_info": {
   "codemirror_mode": {
    "name": "ipython",
    "version": 3
   },
   "file_extension": ".py",
   "mimetype": "text/x-python",
   "name": "python",
   "nbconvert_exporter": "python",
   "pygments_lexer": "ipython3",
   "version": "3.11.1"
  }
 },
 "nbformat": 4,
 "nbformat_minor": 5
}
