{
 "cells": [
  {
   "cell_type": "code",
   "execution_count": 6,
   "id": "67e63389-e920-4882-add7-3221ac9a283f",
   "metadata": {
    "tags": []
   },
   "outputs": [],
   "source": [
    "import requests\n",
    "from bs4 import BeautifulSoup\n",
    "import urllib"
   ]
  },
  {
   "cell_type": "code",
   "execution_count": 7,
   "id": "967a4e10-99ef-4cf6-8b39-2eda0a4903d6",
   "metadata": {
    "tags": []
   },
   "outputs": [],
   "source": [
    "load_url = \"https://www.ymori.com/books/python2nen/test2.html\""
   ]
  },
  {
   "cell_type": "code",
   "execution_count": 8,
   "id": "84b19ccd-7f09-41db-b5ef-c01ef22c2715",
   "metadata": {
    "tags": []
   },
   "outputs": [],
   "source": [
    "html = requests.get(load_url)\n",
    "html.encoding = html.apparent_encoding\n",
    "soup = BeautifulSoup(html.content, \"html.parser\")"
   ]
  },
  {
   "cell_type": "code",
   "execution_count": 9,
   "id": "df1b1d57-4ef2-4dd5-a81e-85a0c83486cf",
   "metadata": {
    "tags": []
   },
   "outputs": [],
   "source": [
    "filename = \"/Users/kato/Desktop/mypython/2nen/linklist2.txt\"\n",
    "with open(filename, \"w\") as f:\n",
    "    for element in soup.find_all(\"a\"):\n",
    "        url = element.get(\"href\")\n",
    "        link_url = urllib.parse.urljoin(load_url, url)\n",
    "        f.write(element.text+\"\\n\")\n",
    "        f.write(link_url + \"\\n\")\n",
    "        f.write(\"\\n\")"
   ]
  },
  {
   "cell_type": "code",
   "execution_count": null,
   "id": "f388be2c-44ce-4668-981d-0f360cf98e41",
   "metadata": {},
   "outputs": [],
   "source": []
  }
 ],
 "metadata": {
  "kernelspec": {
   "display_name": "Python 3 (ipykernel)",
   "language": "python",
   "name": "python3"
  },
  "language_info": {
   "codemirror_mode": {
    "name": "ipython",
    "version": 3
   },
   "file_extension": ".py",
   "mimetype": "text/x-python",
   "name": "python",
   "nbconvert_exporter": "python",
   "pygments_lexer": "ipython3",
   "version": "3.11.1"
  }
 },
 "nbformat": 4,
 "nbformat_minor": 5
}
