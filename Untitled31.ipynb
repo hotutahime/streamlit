{
 "cells": [
  {
   "cell_type": "code",
   "execution_count": 1,
   "id": "1398c8cb-881d-4575-a3fa-7d00ee7586df",
   "metadata": {
    "tags": []
   },
   "outputs": [],
   "source": [
    "import requests\n",
    "from bs4 import BeautifulSoup"
   ]
  },
  {
   "cell_type": "code",
   "execution_count": 2,
   "id": "54cea4ab-0892-4db6-acb1-f8b5d4fc12cd",
   "metadata": {
    "tags": []
   },
   "outputs": [],
   "source": [
    "html = \"\"\"\n",
    "<html>\n",
    "    <head>\n",
    "        <title>清水義孝の著書</title>\n",
    "    </head>\n",
    "    <body>\n",
    "        <p class=\"title\">\n",
    "            <b>清水義孝の最新の著書には、次の本があります。</b>\n",
    "        </p>\n",
    "        <p class=\"recent books\">\n",
    "            <a class=\"book\" href=\"https://www.amazon.co.jp/dp/B07TN4D3HG\" id=\"link1\">Python3によるビジネスに役立つデータ分析入門</a>、\n",
    "            <a class=\"book\" href=\"http://www.amazon.co.jp/dp/B07SRLRS4M\" id=\"link2\">よくわかるPython3入門2.NumPy・Matplotlib編</a>、\n",
    "            <a class=\"book\" href=\"http://www.amazon.co.jp/dp/B07T9SZ96B\" id=\"link3\">よくわかるPython3入門4.Pandasでデータ分析編</a>\n",
    "        </p>\n",
    "        <p class=\"end\">\n",
    "            <b>そして、これらの本は好評発売中です。</b>\n",
    "        </p>\n",
    "    </body>\n",
    "</html>\n",
    "\"\"\""
   ]
  },
  {
   "cell_type": "code",
   "execution_count": 3,
   "id": "842a326e-7407-4245-89ad-43c6440f2a59",
   "metadata": {
    "tags": []
   },
   "outputs": [],
   "source": [
    "soup = BeautifulSoup(html, \"html.parser\")"
   ]
  },
  {
   "cell_type": "code",
   "execution_count": 16,
   "id": "9dd14c1e-b537-484a-a9a3-3c05cb6c887c",
   "metadata": {
    "tags": []
   },
   "outputs": [
    {
     "data": {
      "text/plain": [
       "[<p class=\"title\">\n",
       " <b>清水義孝の最新の著書には、次の本があります。</b>\n",
       " </p>]"
      ]
     },
     "execution_count": 16,
     "metadata": {},
     "output_type": "execute_result"
    }
   ],
   "source": [
    "soup.find_all(\"p\", class_=\"title\")"
   ]
  },
  {
   "cell_type": "code",
   "execution_count": 8,
   "id": "951452e4-cdfc-4943-b903-6c6f3dfeca8f",
   "metadata": {
    "tags": []
   },
   "outputs": [
    {
     "data": {
      "text/plain": [
       "[<title>清水義孝の著書</title>]"
      ]
     },
     "execution_count": 8,
     "metadata": {},
     "output_type": "execute_result"
    }
   ],
   "source": [
    "soup.find_all(\"title\")"
   ]
  },
  {
   "cell_type": "code",
   "execution_count": 9,
   "id": "cd786e03-42fb-479d-8b85-70298a3edd0c",
   "metadata": {
    "tags": []
   },
   "outputs": [
    {
     "data": {
      "text/plain": [
       "[<b>清水義孝の最新の著書には、次の本があります。</b>,\n",
       " <a class=\"book\" href=\"https://www.amazon.co.jp/dp/B07TN4D3HG\" id=\"link1\">Python3によるビジネスに役立つデータ分析入門</a>,\n",
       " <a class=\"book\" href=\"http://www.amazon.co.jp/dp/B07SRLRS4M\" id=\"link2\">よくわかるPython3入門2.NumPy・Matplotlib編</a>,\n",
       " <a class=\"book\" href=\"http://www.amazon.co.jp/dp/B07T9SZ96B\" id=\"link3\">よくわかるPython3入門4.Pandasでデータ分析編</a>,\n",
       " <b>そして、これらの本は好評発売中です。</b>]"
      ]
     },
     "execution_count": 9,
     "metadata": {},
     "output_type": "execute_result"
    }
   ],
   "source": [
    "soup.find_all([\"a\", \"b\"])"
   ]
  },
  {
   "cell_type": "code",
   "execution_count": 10,
   "id": "e02c3780-ff96-42ef-8bc3-8d8041f7d3cc",
   "metadata": {
    "tags": []
   },
   "outputs": [],
   "source": [
    "import re"
   ]
  },
  {
   "cell_type": "code",
   "execution_count": 13,
   "id": "09565b8e-043d-43e7-8c1e-a2f17a987ccd",
   "metadata": {
    "tags": []
   },
   "outputs": [
    {
     "name": "stdout",
     "output_type": "stream",
     "text": [
      "body\n",
      "<body>\n",
      "<p class=\"title\">\n",
      "<b>清水義孝の最新の著書には、次の本があります。</b>\n",
      "</p>\n",
      "<p class=\"recent books\">\n",
      "<a class=\"book\" href=\"https://www.amazon.co.jp/dp/B07TN4D3HG\" id=\"link1\">Python3によるビジネスに役立つデータ分析入門</a>、\n",
      "            <a class=\"book\" href=\"http://www.amazon.co.jp/dp/B07SRLRS4M\" id=\"link2\">よくわかるPython3入門2.NumPy・Matplotlib編</a>、\n",
      "            <a class=\"book\" href=\"http://www.amazon.co.jp/dp/B07T9SZ96B\" id=\"link3\">よくわかるPython3入門4.Pandasでデータ分析編</a>\n",
      "</p>\n",
      "<p class=\"end\">\n",
      "<b>そして、これらの本は好評発売中です。</b>\n",
      "</p>\n",
      "</body>\n",
      "\n",
      "b\n",
      "<b>清水義孝の最新の著書には、次の本があります。</b>\n",
      "\n",
      "b\n",
      "<b>そして、これらの本は好評発売中です。</b>\n",
      "\n"
     ]
    }
   ],
   "source": [
    "for tag in soup.find_all(re.compile(\"^b\")):\n",
    "    print(tag.name)\n",
    "    print(tag, end=\"\\n\\n\")"
   ]
  },
  {
   "cell_type": "code",
   "execution_count": 15,
   "id": "cd30b055-64e9-4020-9aa4-ad8e0ea98d76",
   "metadata": {
    "tags": []
   },
   "outputs": [
    {
     "name": "stdout",
     "output_type": "stream",
     "text": [
      "p\n",
      "b\n",
      "p\n",
      "a\n",
      "a\n",
      "a\n",
      "p\n",
      "b\n"
     ]
    }
   ],
   "source": [
    "for tag in soup.body.find_all(True):\n",
    "    print(tag.name)"
   ]
  },
  {
   "cell_type": "code",
   "execution_count": null,
   "id": "88d72337-52ba-4368-b3fb-ba666383112d",
   "metadata": {},
   "outputs": [],
   "source": []
  }
 ],
 "metadata": {
  "kernelspec": {
   "display_name": "Python 3 (ipykernel)",
   "language": "python",
   "name": "python3"
  },
  "language_info": {
   "codemirror_mode": {
    "name": "ipython",
    "version": 3
   },
   "file_extension": ".py",
   "mimetype": "text/x-python",
   "name": "python",
   "nbconvert_exporter": "python",
   "pygments_lexer": "ipython3",
   "version": "3.11.1"
  }
 },
 "nbformat": 4,
 "nbformat_minor": 5
}
