{
 "cells": [
  {
   "cell_type": "code",
   "execution_count": null,
   "id": "43de5bda-7866-4673-98e3-a00b31e0104c",
   "metadata": {},
   "outputs": [],
   "source": [
    "# file_path = \"/Users/kato/Desktop/shigoto/\"\n",
    "# excel_path = \"/Applications/Microsoft Excel.app\"\n",
    "\n",
    "# file_list = os.listdir(file_path)\n",
    "# file_list = [filename for filename in filelist if filename != \".DS_Store\"]\n",
    "\n",
    "# print(filelist)\n",
    "\n",
    "# for idx, file in enumerate(file_list):\n",
    "#     print(\"open :\", file_path + file)\n",
    "#     subprocess.Popen([excel_path, file_path + file])\n",
    "#     time.sleep(3)"
   ]
  }
 ],
 "metadata": {
  "kernelspec": {
   "display_name": "Python 3 (ipykernel)",
   "language": "python",
   "name": "python3"
  },
  "language_info": {
   "codemirror_mode": {
    "name": "ipython",
    "version": 3
   },
   "file_extension": ".py",
   "mimetype": "text/x-python",
   "name": "python",
   "nbconvert_exporter": "python",
   "pygments_lexer": "ipython3",
   "version": "3.11.1"
  }
 },
 "nbformat": 4,
 "nbformat_minor": 5
}
