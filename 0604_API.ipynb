{
 "cells": [
  {
   "cell_type": "code",
   "execution_count": 84,
   "id": "c49eddf5-83da-463e-92f6-be04a52406bb",
   "metadata": {
    "tags": []
   },
   "outputs": [],
   "source": [
    "import requests\n",
    "import json\n",
    "from pprint import pprint"
   ]
  },
  {
   "cell_type": "code",
   "execution_count": 85,
   "id": "ca7bfc9d-804c-422f-b912-1fca6b799a3e",
   "metadata": {
    "tags": []
   },
   "outputs": [],
   "source": [
    "url = \"https://api.openweathermap.org/data/2.5/weather?q={city_name}&appid={API_key}&lang=ja&units=metric\""
   ]
  },
  {
   "cell_type": "code",
   "execution_count": 86,
   "id": "77b2d46d-4f06-4994-a9b1-1d544c34a647",
   "metadata": {
    "tags": []
   },
   "outputs": [],
   "source": [
    "url = url.format(city_name=\"aomori\" , API_key=\"5c73a9afe371e82456944e038dda739f\")"
   ]
  },
  {
   "cell_type": "code",
   "execution_count": 87,
   "id": "5854b9e6-c0a4-40ac-9d30-b3c93d77f040",
   "metadata": {
    "tags": []
   },
   "outputs": [
    {
     "name": "stdout",
     "output_type": "stream",
     "text": [
      "{'base': 'stations',\n",
      " 'clouds': {'all': 25},\n",
      " 'cod': 200,\n",
      " 'coord': {'lat': 40.8244, 'lon': 140.74},\n",
      " 'dt': 1685884986,\n",
      " 'id': 2130658,\n",
      " 'main': {'feels_like': 14.43,\n",
      "          'humidity': 73,\n",
      "          'pressure': 1000,\n",
      "          'temp': 14.97,\n",
      "          'temp_max': 14.97,\n",
      "          'temp_min': 14.97},\n",
      " 'name': '青森市',\n",
      " 'sys': {'country': 'JP',\n",
      "         'id': 2000135,\n",
      "         'sunrise': 1685819224,\n",
      "         'sunset': 1685873023,\n",
      "         'type': 2},\n",
      " 'timezone': 32400,\n",
      " 'visibility': 10000,\n",
      " 'weather': [{'description': '雲', 'icon': '03n', 'id': 802, 'main': 'Clouds'}],\n",
      " 'wind': {'deg': 234, 'gust': 2.24, 'speed': 1.79}}\n"
     ]
    }
   ],
   "source": [
    "json_data = requests.get(url).json()\n",
    "pprint(json_data)"
   ]
  },
  {
   "cell_type": "code",
   "execution_count": 88,
   "id": "ec1728b1-8c0b-4a44-ac34-b71ea0112b5b",
   "metadata": {
    "tags": []
   },
   "outputs": [
    {
     "name": "stdout",
     "output_type": "stream",
     "text": [
      "都市名 =  青森市\n",
      "平均気温 =  14.97\n",
      "最高気温 =  14.97\n",
      "最低気温 =  14.97\n",
      "天気 =  雲\n",
      "風速 =  1.79 m\n"
     ]
    }
   ],
   "source": [
    "print(\"都市名 = \" , json_data[\"name\"])\n",
    "print(\"平均気温 = \" , json_data[\"main\"][\"temp\"])\n",
    "print(\"最高気温 = \" , json_data[\"main\"][\"temp_max\"])\n",
    "print(\"最低気温 = \" , json_data[\"main\"][\"temp_min\"])\n",
    "#ここでweatherだけ[0]で一個目を指定するのは、よく見るとここだけ[]がついて辞書内リストになっているから。他は全部辞書\n",
    "print(\"天気 = \" , json_data[\"weather\"][0][\"description\"])\n",
    "print(\"風速 = \" , json_data[\"wind\"][\"speed\"],\"m\")"
   ]
  },
  {
   "cell_type": "code",
   "execution_count": null,
   "id": "b1e276fc-d305-4247-b12e-aeec9fe62ec3",
   "metadata": {},
   "outputs": [],
   "source": []
  }
 ],
 "metadata": {
  "kernelspec": {
   "display_name": "Python 3 (ipykernel)",
   "language": "python",
   "name": "python3"
  },
  "language_info": {
   "codemirror_mode": {
    "name": "ipython",
    "version": 3
   },
   "file_extension": ".py",
   "mimetype": "text/x-python",
   "name": "python",
   "nbconvert_exporter": "python",
   "pygments_lexer": "ipython3",
   "version": "3.11.1"
  }
 },
 "nbformat": 4,
 "nbformat_minor": 5
}
