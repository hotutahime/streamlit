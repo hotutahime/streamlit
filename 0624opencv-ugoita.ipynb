{
 "cells": [
  {
   "cell_type": "code",
   "execution_count": 9,
   "id": "342723d8-2bf9-4638-9bd3-854410904712",
   "metadata": {
    "tags": []
   },
   "outputs": [],
   "source": [
    "import cv2"
   ]
  },
  {
   "cell_type": "code",
   "execution_count": 21,
   "id": "f81f7383-c634-472e-a050-9c6cc2a44fdd",
   "metadata": {
    "tags": []
   },
   "outputs": [
    {
     "data": {
      "text/plain": [
       "-1"
      ]
     },
     "execution_count": 21,
     "metadata": {},
     "output_type": "execute_result"
    }
   ],
   "source": [
    "#カメラから映像を読み取る。（）内の引数はカメラの接続ID ※接続カメラが1台なら0になる。\n",
    "cap = cv2.VideoCapture(1)\n",
    "\n",
    "#四角い赤枠の色を指定\n",
    "red = (0, 0, 255)\n",
    "\n",
    "#★avgという変数に、比較用のフレームの配列を残す（要調査）\n",
    "avg = None\n",
    "\n",
    "while True:\n",
    "    \n",
    "    #retの中には映像取得が成功したかどうかが入っている（True or False）\n",
    "    #frameの中には、カメラから取得した映像データが入っている（RGBの3次元データが入っている）\n",
    "    ret, frame = cap.read()\n",
    "    \n",
    "    #★多分映像取得が失敗したらbreakするという事だと思う\n",
    "    #これは録画や再生が終了したらループを抜けるという事とのこと\n",
    "    if not ret:\n",
    "        break\n",
    "    \n",
    "    #★グレースケールに変換\n",
    "    gray = cv2.cvtColor(frame, cv2.COLOR_BGR2GRAY)\n",
    "    \n",
    "    #不明（要調査）\n",
    "    if avg is None:\n",
    "        avg = gray.copy().astype(\"float\")\n",
    "        continue\n",
    "    \n",
    "    #★フレームの差？（要調査）\n",
    "    #0.7などの(gray, avg, ●●●の数字を小さくするほど感度が上がる)\n",
    "    cv2.accumulateWeighted(gray, avg, 0.50)\n",
    "    frameDelta = cv2.absdiff(gray, cv2.convertScaleAbs(avg))\n",
    "    \n",
    "    #★不明\n",
    "    thresh = cv2.threshold(frameDelta, 10, 255, cv2.THRESH_BINARY)[1]\n",
    "    contours, hierarchy = cv2.findContours(thresh.copy(),\n",
    "                                           cv2.RETR_EXTERNAL,\n",
    "                                          cv2.CHAIN_APPROX_SIMPLE)\n",
    "    #ここのdrawContoursは四角形ではなく輪郭も表示する\n",
    "    # frame = cv2.drawContours(frame, contours, -1, (0, 255, 0), 3)\n",
    "    \n",
    "    #ここのif w < ●●が、多分w＝ワイド＝幅だと思うが、大きいと大きいものしか認識しなくなる？\n",
    "    for target in contours:\n",
    "        x, y, w, h = cv2.boundingRect(target)\n",
    "        if w < 200: continue\n",
    "        cv2.rectangle(frame, (x, y), (x+w, y+h), red, 2)\n",
    "    \n",
    "\n",
    "#     for target in contours:\n",
    "#         x, y, w, h = cv2.boundingRect(target)\n",
    "        \n",
    "#         if w < 10000:\n",
    "#             continue\n",
    "        \n",
    "#         areaframe = cv2.rectangle(frame, (x,y), (x+w, y+h), (0,255,0),2)\n",
    "        \n",
    "        \n",
    "    #カメラの映像を出力\n",
    "    cv2.imshow(\"camera\", frame)\n",
    "    \n",
    "    #カメラ映像を連続で取得するwhileからESCを押すと抜けるという文\n",
    "    key = cv2.waitKey(10)\n",
    "    if key == 27:\n",
    "        break\n",
    "\n",
    "cap.release()\n",
    "cv2.waitKey(1)\n",
    "cv2.destroyAllWindows()\n",
    "cv2.waitKey(1)"
   ]
  },
  {
   "cell_type": "code",
   "execution_count": null,
   "id": "5cf69e03-d608-4e1c-b60a-2d5c985b3c48",
   "metadata": {},
   "outputs": [],
   "source": []
  }
 ],
 "metadata": {
  "kernelspec": {
   "display_name": "Python 3 (ipykernel)",
   "language": "python",
   "name": "python3"
  },
  "language_info": {
   "codemirror_mode": {
    "name": "ipython",
    "version": 3
   },
   "file_extension": ".py",
   "mimetype": "text/x-python",
   "name": "python",
   "nbconvert_exporter": "python",
   "pygments_lexer": "ipython3",
   "version": "3.11.1"
  }
 },
 "nbformat": 4,
 "nbformat_minor": 5
}
