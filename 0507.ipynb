{
 "cells": [
  {
   "cell_type": "code",
   "execution_count": 1,
   "id": "3000884d-6db2-4d78-8775-e605c9d648ab",
   "metadata": {
    "tags": []
   },
   "outputs": [],
   "source": [
    "import requests\n",
    "from bs4 import BeautifulSoup\n",
    "import urllib"
   ]
  },
  {
   "cell_type": "code",
   "execution_count": 2,
   "id": "f6ac116f-5bcf-46e8-963a-e3468e3bb8fe",
   "metadata": {
    "tags": []
   },
   "outputs": [],
   "source": [
    "url = \"https://www.ymori.com/books/python2nen/test1.html\"\n",
    "html = requests.get(url)\n",
    "html.encoding = html.apparent_encoding\n",
    "soup = BeautifulSoup(html.content , \"html.parser\")"
   ]
  },
  {
   "cell_type": "code",
   "execution_count": 3,
   "id": "89dcc90b-c599-404f-8e0e-3c05bc1b608c",
   "metadata": {
    "tags": []
   },
   "outputs": [
    {
     "name": "stdout",
     "output_type": "stream",
     "text": [
      "<!DOCTYPE html>\n",
      "\n",
      "<html>\n",
      "<head>\n",
      "<meta charset=\"utf-8\"/>\n",
      "<title>Python2年生</title>\n",
      "</head>\n",
      "<body>\n",
      "<h2>第1章 Pythonでデータをダウンロード</h2>\n",
      "<ol>\n",
      "<li>スクレイピングってなに？</li>\n",
      "<li>Pythonをインストールしてみよう</li>\n",
      "<li>requestsでアクセスしてみよう</li>\n",
      "</ol>\n",
      "</body>\n",
      "</html>\n"
     ]
    }
   ],
   "source": [
    "print(soup)"
   ]
  },
  {
   "cell_type": "code",
   "execution_count": 4,
   "id": "e218db54-94b0-43e5-85a6-1bdaeae4de27",
   "metadata": {
    "tags": []
   },
   "outputs": [
    {
     "name": "stdout",
     "output_type": "stream",
     "text": [
      "Python2年生\n",
      "第1章 Pythonでデータをダウンロード\n",
      "スクレイピングってなに？\n"
     ]
    }
   ],
   "source": [
    "print(soup.find(\"title\").text)\n",
    "print(soup.find(\"h2\").text)\n",
    "print(soup.find(\"li\").text)"
   ]
  },
  {
   "cell_type": "code",
   "execution_count": 5,
   "id": "280a8029-fd95-469d-b8e9-c3ecce9311c9",
   "metadata": {
    "tags": []
   },
   "outputs": [],
   "source": [
    "url_2 = \"https://www.ymori.com/books/python2nen/test2.html\"\n",
    "html_2 = requests.get(url_2)\n",
    "html_2.encoding = html_2.apparent_encoding\n",
    "soup_2 = BeautifulSoup(html_2.content , \"html.parser\")"
   ]
  },
  {
   "cell_type": "code",
   "execution_count": 6,
   "id": "716543cc-472e-47f6-bd7b-b58997461ced",
   "metadata": {
    "tags": []
   },
   "outputs": [
    {
     "data": {
      "text/plain": [
       "<!DOCTYPE html>\n",
       "\n",
       "<html>\n",
       "<head>\n",
       "<meta charset=\"utf-8\"/>\n",
       "<title>Python2年生</title>\n",
       "</head>\n",
       "<body>\n",
       "<div id=\"chap1\">\n",
       "<h2>第1章 Pythonでデータをダウンロード</h2>\n",
       "<ol>\n",
       "<li>スクレイピングってなに？</li>\n",
       "<li>Pythonをインストールしてみよう</li>\n",
       "<li>requestsでアクセスしてみよう</li>\n",
       "</ol>\n",
       "</div>\n",
       "<div id=\"chap2\">\n",
       "<h2>第2章 HTMLを解析しよう</h2>\n",
       "<ol>\n",
       "<li>HTMLを解析してみよう</li>\n",
       "<li>ニュースの最新記事一覧を取得してみよう</li>\n",
       "<li>リンク一覧をファイルに書き出そう</li>\n",
       "<li>画像を一括ダウンロードしよう</li>\n",
       "</ol>\n",
       "</div>\n",
       "<a href=\"https://www.ymori.com/books/python2nen/test1.html\">リンク1</a>\n",
       "<a href=\"./test3.html\">リンク2</a><br/>\n",
       "<img src=\"https://www.ymori.com/books/python2nen/sample1.png\"/>\n",
       "<img src=\"./sample2.png\"/>\n",
       "<img src=\"./sample3.png\"/>\n",
       "</body>\n",
       "</html>"
      ]
     },
     "execution_count": 6,
     "metadata": {},
     "output_type": "execute_result"
    }
   ],
   "source": [
    "soup_2"
   ]
  },
  {
   "cell_type": "code",
   "execution_count": 7,
   "id": "e61c650f-8e5b-4815-9d55-58620a337bb7",
   "metadata": {
    "tags": []
   },
   "outputs": [
    {
     "name": "stdout",
     "output_type": "stream",
     "text": [
      "スクレイピングってなに？\n",
      "Pythonをインストールしてみよう\n",
      "requestsでアクセスしてみよう\n",
      "HTMLを解析してみよう\n",
      "ニュースの最新記事一覧を取得してみよう\n",
      "リンク一覧をファイルに書き出そう\n",
      "画像を一括ダウンロードしよう\n"
     ]
    }
   ],
   "source": [
    "for element in soup_2.find_all(\"li\"):\n",
    "    print(element.text)"
   ]
  },
  {
   "cell_type": "code",
   "execution_count": 8,
   "id": "0a3cdaaf-be7f-44e3-b09d-1a66a5746a7a",
   "metadata": {
    "tags": []
   },
   "outputs": [
    {
     "name": "stdout",
     "output_type": "stream",
     "text": [
      "<div id=\"chap2\">\n",
      "<h2>第2章 HTMLを解析しよう</h2>\n",
      "<ol>\n",
      "<li>HTMLを解析してみよう</li>\n",
      "<li>ニュースの最新記事一覧を取得してみよう</li>\n",
      "<li>リンク一覧をファイルに書き出そう</li>\n",
      "<li>画像を一括ダウンロードしよう</li>\n",
      "</ol>\n",
      "</div>\n"
     ]
    }
   ],
   "source": [
    "chap2 = soup_2.find(id=\"chap2\")\n",
    "print(chap2)"
   ]
  },
  {
   "cell_type": "code",
   "execution_count": 9,
   "id": "52b6bd72-85c4-4903-82e6-942a5711df2c",
   "metadata": {
    "tags": []
   },
   "outputs": [
    {
     "name": "stdout",
     "output_type": "stream",
     "text": [
      "HTMLを解析してみよう\n",
      "ニュースの最新記事一覧を取得してみよう\n",
      "リンク一覧をファイルに書き出そう\n",
      "画像を一括ダウンロードしよう\n"
     ]
    }
   ],
   "source": [
    "for element in chap2.find_all(\"li\"):\n",
    "    print(element.text)"
   ]
  },
  {
   "cell_type": "code",
   "execution_count": 10,
   "id": "3d7bd0eb-f369-4645-9351-b696bc677573",
   "metadata": {
    "tags": []
   },
   "outputs": [],
   "source": [
    "yahoo = \"https://news.yahoo.co.jp/categories/it\"\n",
    "html_3 = requests.get(yahoo)\n",
    "soup_3 = BeautifulSoup(html_3.content, \"html.parser\")"
   ]
  },
  {
   "cell_type": "code",
   "execution_count": 11,
   "id": "37d20bb8-c197-4424-a907-ef841adfbf43",
   "metadata": {
    "tags": []
   },
   "outputs": [],
   "source": [
    "topic = soup_3.find(class_=\"sc-fQvxkG hovjdV\")"
   ]
  },
  {
   "cell_type": "code",
   "execution_count": 12,
   "id": "9bcb1072-d167-45f1-a9de-c78cc6b39459",
   "metadata": {
    "tags": []
   },
   "outputs": [
    {
     "name": "stdout",
     "output_type": "stream",
     "text": [
      "漫画のデジタル戦略 大手好調の訳\n",
      "暴露系が変えた? 炎上「発火点」\n",
      "子にスマホ 養護施設が抱える苦悩\n",
      "内祝い文化嘆く声 識者の見解は\n",
      "少額で気づかず? 不正決済の手口\n",
      "Twitter混乱で注目? Blueskyとは\n",
      "Apple 1-3月売上高が予想上回る\n",
      "AIのリスクに対処へ 米政権が発表\n",
      "もっと見る\n"
     ]
    }
   ],
   "source": [
    "for element in topic.find_all(\"a\"):\n",
    "    print(element.text)"
   ]
  },
  {
   "cell_type": "code",
   "execution_count": 25,
   "id": "9261d2d2-8822-4a9e-8434-c62077d54045",
   "metadata": {
    "tags": []
   },
   "outputs": [
    {
     "name": "stdout",
     "output_type": "stream",
     "text": [
      "リンク1\n",
      "https://www.ymori.com/books/python2nen/test1.html\n",
      "リンク2\n",
      "./test3.html\n"
     ]
    }
   ],
   "source": [
    "for element in soup_2.find_all(\"a\"):\n",
    "    print(element.text)\n",
    "    url_2 = element.get(\"href\")\n",
    "    print(url_2)"
   ]
  },
  {
   "cell_type": "code",
   "execution_count": 26,
   "id": "36bdb2b1-bed0-47d3-be4f-9bbf4e812953",
   "metadata": {
    "tags": []
   },
   "outputs": [
    {
     "name": "stdout",
     "output_type": "stream",
     "text": [
      "リンク2\n"
     ]
    }
   ],
   "source": [
    "print(element.text)"
   ]
  },
  {
   "cell_type": "code",
   "execution_count": 21,
   "id": "f555913c-030e-48f1-ab42-f54c38acf725",
   "metadata": {
    "tags": []
   },
   "outputs": [
    {
     "name": "stdout",
     "output_type": "stream",
     "text": [
      "リンク1\n",
      "https://www.ymori.com/books/python2nen/test1.html\n",
      "リンク2\n",
      "https://www.ymori.com/books/python2nen/test1.html\n"
     ]
    }
   ],
   "source": [
    "for element in soup_2.find_all(\"a\"):\n",
    "    print(element.text)\n",
    "    url_2 = element.get(\"href\")\n",
    "    link_url = urllib.parse.urljoin(url_2 , url)\n",
    "    print(link_url)"
   ]
  },
  {
   "cell_type": "code",
   "execution_count": 23,
   "id": "7cbf6645-a7d0-4495-b028-8290f7d42eae",
   "metadata": {
    "tags": []
   },
   "outputs": [],
   "source": [
    "filename = \"/Users/kato/Desktop/mypython/2nen/linklist.txt\"\n",
    "with open(filename, \"w\") as f:\n",
    "    for element in soup_2.find_all(\"a\"):\n",
    "        url_2 = element.get(\"href\")\n",
    "        link_url = urllib.parse.urljoin(url_2, url)\n",
    "        f.write(element.text+\"\\n\")\n",
    "        f.write(link_url+\"\\n\")\n",
    "        f.write(\"\\n\")"
   ]
  },
  {
   "cell_type": "code",
   "execution_count": null,
   "id": "5186f4e6-0cb3-43c2-9b26-16ccf9b38ce0",
   "metadata": {},
   "outputs": [],
   "source": []
  }
 ],
 "metadata": {
  "kernelspec": {
   "display_name": "Python 3 (ipykernel)",
   "language": "python",
   "name": "python3"
  },
  "language_info": {
   "codemirror_mode": {
    "name": "ipython",
    "version": 3
   },
   "file_extension": ".py",
   "mimetype": "text/x-python",
   "name": "python",
   "nbconvert_exporter": "python",
   "pygments_lexer": "ipython3",
   "version": "3.11.1"
  }
 },
 "nbformat": 4,
 "nbformat_minor": 5
}
