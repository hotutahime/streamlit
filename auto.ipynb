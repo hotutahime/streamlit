{
 "cells": [
  {
   "cell_type": "code",
   "execution_count": 35,
   "id": "c91d6002-53f5-427c-898f-fb0bdbd7799e",
   "metadata": {
    "tags": []
   },
   "outputs": [],
   "source": [
    "import pyautogui as pag"
   ]
  },
  {
   "cell_type": "code",
   "execution_count": 36,
   "id": "9f1fb501-87ba-4032-a8b7-810af18bba6f",
   "metadata": {
    "tags": []
   },
   "outputs": [
    {
     "data": {
      "text/plain": [
       "Size(width=1440, height=900)"
      ]
     },
     "execution_count": 36,
     "metadata": {},
     "output_type": "execute_result"
    }
   ],
   "source": [
    "pag.size()"
   ]
  },
  {
   "cell_type": "code",
   "execution_count": 37,
   "id": "376a4394-4800-4ee7-801d-e9a817c99027",
   "metadata": {
    "tags": []
   },
   "outputs": [
    {
     "data": {
      "text/plain": [
       "Point(x=380, y=171)"
      ]
     },
     "execution_count": 37,
     "metadata": {},
     "output_type": "execute_result"
    }
   ],
   "source": [
    "pag.position()"
   ]
  },
  {
   "cell_type": "code",
   "execution_count": 38,
   "id": "5565b780-5856-4b97-804d-019057d1334d",
   "metadata": {
    "tags": []
   },
   "outputs": [
    {
     "data": {
      "text/plain": [
       "True"
      ]
     },
     "execution_count": 38,
     "metadata": {},
     "output_type": "execute_result"
    }
   ],
   "source": [
    "pag.onScreen(1000,500)"
   ]
  },
  {
   "cell_type": "code",
   "execution_count": 39,
   "id": "a81070ca-447a-4238-ab92-fc3c4476ea38",
   "metadata": {
    "tags": []
   },
   "outputs": [],
   "source": [
    "pag.moveTo(1000,500,2)"
   ]
  },
  {
   "cell_type": "code",
   "execution_count": 40,
   "id": "54bd8925-aa87-4690-875c-c28669f9d4ec",
   "metadata": {
    "tags": []
   },
   "outputs": [],
   "source": [
    "pag.move(1000,500,2)"
   ]
  },
  {
   "cell_type": "code",
   "execution_count": 42,
   "id": "5e364213-27ec-4462-8d8a-abed5a7ae35e",
   "metadata": {
    "tags": []
   },
   "outputs": [],
   "source": [
    "pag.click(1000,500,duration=2)"
   ]
  },
  {
   "cell_type": "code",
   "execution_count": 43,
   "id": "3c5894f2-60d3-4f9f-b0d7-ae3d24ca3406",
   "metadata": {
    "tags": []
   },
   "outputs": [],
   "source": [
    "import time\n",
    "time.sleep(1)\n",
    "pag.scroll(-500)"
   ]
  },
  {
   "cell_type": "code",
   "execution_count": null,
   "id": "65696cb8-dacf-4e35-9481-a4d821818d4d",
   "metadata": {},
   "outputs": [],
   "source": []
  }
 ],
 "metadata": {
  "kernelspec": {
   "display_name": "Python 3 (ipykernel)",
   "language": "python",
   "name": "python3"
  },
  "language_info": {
   "codemirror_mode": {
    "name": "ipython",
    "version": 3
   },
   "file_extension": ".py",
   "mimetype": "text/x-python",
   "name": "python",
   "nbconvert_exporter": "python",
   "pygments_lexer": "ipython3",
   "version": "3.8.16"
  }
 },
 "nbformat": 4,
 "nbformat_minor": 5
}
